{
 "cells": [
  {
   "cell_type": "markdown",
   "metadata": {
    "toc": true
   },
   "source": [
    "<h1>Содержание<span class=\"tocSkip\"></span></h1>\n",
    "<div class=\"toc\"><ul class=\"toc-item\"><li><span><a href=\"#Подготовка-данных\" data-toc-modified-id=\"Подготовка-данных-1\"><span class=\"toc-item-num\">1&nbsp;&nbsp;</span>Подготовка данных</a></span><ul class=\"toc-item\"><li><span><a href=\"#Загрузка-данных-и-модулей\" data-toc-modified-id=\"Загрузка-данных-и-модулей-1.1\"><span class=\"toc-item-num\">1.1&nbsp;&nbsp;</span>Загрузка данных и модулей</a></span></li><li><span><a href=\"#Ознакомление-и-исследовательский-анализ-данных\" data-toc-modified-id=\"Ознакомление-и-исследовательский-анализ-данных-1.2\"><span class=\"toc-item-num\">1.2&nbsp;&nbsp;</span>Ознакомление и исследовательский анализ данных</a></span><ul class=\"toc-item\"><li><span><a href=\"#Ознакомление-с-данными\" data-toc-modified-id=\"Ознакомление-с-данными-1.2.1\"><span class=\"toc-item-num\">1.2.1&nbsp;&nbsp;</span>Ознакомление с данными</a></span></li><li><span><a href=\"#Поиск-аномалий\" data-toc-modified-id=\"Поиск-аномалий-1.2.2\"><span class=\"toc-item-num\">1.2.2&nbsp;&nbsp;</span>Поиск аномалий</a></span></li></ul></li><li><span><a href=\"#Предобработка-данных\" data-toc-modified-id=\"Предобработка-данных-1.3\"><span class=\"toc-item-num\">1.3&nbsp;&nbsp;</span>Предобработка данных</a></span><ul class=\"toc-item\"><li><span><a href=\"#Обработка-пропусков\" data-toc-modified-id=\"Обработка-пропусков-1.3.1\"><span class=\"toc-item-num\">1.3.1&nbsp;&nbsp;</span>Обработка пропусков</a></span></li><li><span><a href=\"#Изменение-типов-данных\" data-toc-modified-id=\"Изменение-типов-данных-1.3.2\"><span class=\"toc-item-num\">1.3.2&nbsp;&nbsp;</span>Изменение типов данных</a></span></li><li><span><a href=\"#Кодирование-качественных-переменных\" data-toc-modified-id=\"Кодирование-качественных-переменных-1.3.3\"><span class=\"toc-item-num\">1.3.3&nbsp;&nbsp;</span>Кодирование качественных переменных</a></span></li></ul></li><li><span><a href=\"#Подготовка-данных-для-обучения-и-тестирования-моделей\" data-toc-modified-id=\"Подготовка-данных-для-обучения-и-тестирования-моделей-1.4\"><span class=\"toc-item-num\">1.4&nbsp;&nbsp;</span>Подготовка данных для обучения и тестирования моделей</a></span></li></ul></li><li><span><a href=\"#Исследование-задачи\" data-toc-modified-id=\"Исследование-задачи-2\"><span class=\"toc-item-num\">2&nbsp;&nbsp;</span>Исследование задачи</a></span><ul class=\"toc-item\"><li><span><a href=\"#Дисбаланс-классов-и-результаты-константной-модели\" data-toc-modified-id=\"Дисбаланс-классов-и-результаты-константной-модели-2.1\"><span class=\"toc-item-num\">2.1&nbsp;&nbsp;</span>Дисбаланс классов и результаты константной модели</a></span></li><li><span><a href=\"#Модели-без-учета-дисбаланса-классов\" data-toc-modified-id=\"Модели-без-учета-дисбаланса-классов-2.2\"><span class=\"toc-item-num\">2.2&nbsp;&nbsp;</span>Модели без учета дисбаланса классов</a></span></li><li><span><a href=\"#Выводы\" data-toc-modified-id=\"Выводы-2.3\"><span class=\"toc-item-num\">2.3&nbsp;&nbsp;</span>Выводы</a></span></li></ul></li><li><span><a href=\"#Борьба-с-дисбалансом\" data-toc-modified-id=\"Борьба-с-дисбалансом-3\"><span class=\"toc-item-num\">3&nbsp;&nbsp;</span>Борьба с дисбалансом</a></span><ul class=\"toc-item\"><li><span><a href=\"#Взвешивание-функции-ошибки\" data-toc-modified-id=\"Взвешивание-функции-ошибки-3.1\"><span class=\"toc-item-num\">3.1&nbsp;&nbsp;</span>Взвешивание функции ошибки</a></span></li><li><span><a href=\"#Балансирование-выборки-(under--и-oversampling)\" data-toc-modified-id=\"Балансирование-выборки-(under--и-oversampling)-3.2\"><span class=\"toc-item-num\">3.2&nbsp;&nbsp;</span>Балансирование выборки (under- и oversampling)</a></span></li><li><span><a href=\"#Оптимизация-гиперпараметров-модели-и-настройка-порога-классификации\" data-toc-modified-id=\"Оптимизация-гиперпараметров-модели-и-настройка-порога-классификации-3.3\"><span class=\"toc-item-num\">3.3&nbsp;&nbsp;</span>Оптимизация гиперпараметров модели и настройка порога классификации</a></span></li><li><span><a href=\"#Выводы\" data-toc-modified-id=\"Выводы-3.4\"><span class=\"toc-item-num\">3.4&nbsp;&nbsp;</span>Выводы</a></span></li></ul></li><li><span><a href=\"#Тестирование-модели\" data-toc-modified-id=\"Тестирование-модели-4\"><span class=\"toc-item-num\">4&nbsp;&nbsp;</span>Тестирование модели</a></span></li><li><span><a href=\"#Выводы\" data-toc-modified-id=\"Выводы-5\"><span class=\"toc-item-num\">5&nbsp;&nbsp;</span>Выводы</a></span></li><li><span><a href=\"#Чек-лист-готовности-проекта\" data-toc-modified-id=\"Чек-лист-готовности-проекта-6\"><span class=\"toc-item-num\">6&nbsp;&nbsp;</span>Чек-лист готовности проекта</a></span></li></ul></div>"
   ]
  },
  {
   "cell_type": "markdown",
   "metadata": {},
   "source": [
    "# Отток клиентов"
   ]
  },
  {
   "cell_type": "markdown",
   "metadata": {},
   "source": [
    "Из «Бета-Банка» стали уходить клиенты. Каждый месяц. Немного, но заметно. Банковские маркетологи посчитали: сохранять текущих клиентов дешевле, чем привлекать новых.\n",
    "\n",
    "Нужно спрогнозировать, уйдёт клиент из банка в ближайшее время или нет. Вам предоставлены исторические данные о поведении клиентов и расторжении договоров с банком. \n",
    "\n",
    "Постройте модель с предельно большим значением *F1*-меры. Чтобы сдать проект успешно, нужно довести метрику до 0.59. Проверьте *F1*-меру на тестовой выборке самостоятельно.\n",
    "\n",
    "Дополнительно измеряйте *AUC-ROC*, сравнивайте её значение с *F1*-мерой.\n",
    "\n",
    "Источник данных: [https://www.kaggle.com/barelydedicated/bank-customer-churn-modeling](https://www.kaggle.com/barelydedicated/bank-customer-churn-modeling)"
   ]
  },
  {
   "cell_type": "markdown",
   "metadata": {},
   "source": [
    "## Подготовка данных"
   ]
  },
  {
   "cell_type": "markdown",
   "metadata": {},
   "source": [
    "### Загрузка данных и модулей"
   ]
  },
  {
   "cell_type": "code",
   "execution_count": 1,
   "metadata": {},
   "outputs": [],
   "source": [
    "%matplotlib inline\n",
    "\n",
    "#Загрузка модулей\n",
    "import pandas as pd\n",
    "import matplotlib.pyplot as plt\n",
    "import seaborn as sns\n",
    "import numpy as np\n",
    "\n",
    "from sklearn.preprocessing import StandardScaler\n",
    "from sklearn.utils import shuffle\n",
    "from sklearn.ensemble import RandomForestClassifier\n",
    "from sklearn.linear_model import LogisticRegression\n",
    "from sklearn.model_selection import train_test_split, GridSearchCV, cross_validate\n",
    "\n",
    "from sklearn.metrics import f1_score, accuracy_score, confusion_matrix\n",
    "from sklearn.metrics import roc_curve, roc_auc_score, recall_score"
   ]
  },
  {
   "cell_type": "code",
   "execution_count": 2,
   "metadata": {},
   "outputs": [],
   "source": [
    "#Загрузка данных\n",
    "try:\n",
    "    data = pd.read_csv('/datasets/Churn.csv', index_col = 0)\n",
    "except:\n",
    "    data = pd.read_csv('https://code.s3.yandex.net/datasets/Churn.csv', index_col=0)"
   ]
  },
  {
   "cell_type": "markdown",
   "metadata": {},
   "source": [
    "### Ознакомление и исследовательский анализ данных"
   ]
  },
  {
   "cell_type": "markdown",
   "metadata": {},
   "source": [
    "#### Ознакомление с данными"
   ]
  },
  {
   "cell_type": "markdown",
   "metadata": {},
   "source": [
    "Согласно описания данные содержат следующие столбцы:\n",
    "`RowNumber` — индекс строки в данных  \n",
    "`CustomerId` — уникальный идентификатор клиента  \n",
    "`Surname` — фамилия  \n",
    "`CreditScore` — кредитный рейтинг  \n",
    "`Geography` — страна проживания  \n",
    "`Gender` — пол  \n",
    "`Age` — возраст  \n",
    "`Tenure` — сколько лет человек является клиентом банка  \n",
    "`Balance` — баланс на счёте  \n",
    "`NumOfProducts` — количество продуктов банка, используемых клиентом  \n",
    "`HasCrCard` — наличие кредитной карты  \n",
    "`IsActiveMember` — активность клиента  \n",
    "`EstimatedSalary` — предполагаемая зарплата  \n",
    "\n",
    "Согласно описанию, столбец `CustomerId` должен быть идентификатором. С его помощью можно проверить дублирование записей. Однако он не должен нести информации о клиенте.  \n",
    "Столбец `Surname` может указывать на одного и того же клиента, также может указывать на клиентов из одной семьи и, таким образом давать полезную информацию о возможном поведении клиентов, однако, более вероятна случайная дискриминация клиентов по фамилии, особенно для распространенных фамилий."
   ]
  },
  {
   "cell_type": "code",
   "execution_count": 3,
   "metadata": {},
   "outputs": [
    {
     "data": {
      "text/plain": [
       "15695872    1\n",
       "15801062    1\n",
       "15682268    1\n",
       "15647453    1\n",
       "15684319    1\n",
       "Name: CustomerId, dtype: int64"
      ]
     },
     "metadata": {},
     "output_type": "display_data"
    },
    {
     "data": {
      "text/plain": [
       "Smith     32\n",
       "Scott     29\n",
       "Martin    29\n",
       "Walker    28\n",
       "Brown     26\n",
       "Name: Surname, dtype: int64"
      ]
     },
     "metadata": {},
     "output_type": "display_data"
    }
   ],
   "source": [
    "#Проверка повторяющихся идентификаторов:\n",
    "display(data.CustomerId.value_counts().head())\n",
    "#Проверка повторяющихся фамилий:\n",
    "display(data.Surname.value_counts().head())"
   ]
  },
  {
   "cell_type": "markdown",
   "metadata": {},
   "source": [
    "Повторяющиеся идентификаторы отсутствуют, а повторы в фамилиях соответствуют наиболее распространенным англоязычным фамилиям. Соответственно такие столбцы не являются информативными, исключим их:"
   ]
  },
  {
   "cell_type": "code",
   "execution_count": 4,
   "metadata": {},
   "outputs": [],
   "source": [
    "data.drop(['CustomerId', 'Surname'], axis=1, inplace=True)"
   ]
  },
  {
   "cell_type": "markdown",
   "metadata": {},
   "source": [
    "Проверим соответствие типов данных в столбцах их описанию:"
   ]
  },
  {
   "cell_type": "code",
   "execution_count": 5,
   "metadata": {},
   "outputs": [
    {
     "name": "stdout",
     "output_type": "stream",
     "text": [
      "<class 'pandas.core.frame.DataFrame'>\n",
      "Int64Index: 10000 entries, 1 to 10000\n",
      "Data columns (total 11 columns):\n",
      " #   Column           Non-Null Count  Dtype  \n",
      "---  ------           --------------  -----  \n",
      " 0   CreditScore      10000 non-null  int64  \n",
      " 1   Geography        10000 non-null  object \n",
      " 2   Gender           10000 non-null  object \n",
      " 3   Age              10000 non-null  int64  \n",
      " 4   Tenure           9091 non-null   float64\n",
      " 5   Balance          10000 non-null  float64\n",
      " 6   NumOfProducts    10000 non-null  int64  \n",
      " 7   HasCrCard        10000 non-null  int64  \n",
      " 8   IsActiveMember   10000 non-null  int64  \n",
      " 9   EstimatedSalary  10000 non-null  float64\n",
      " 10  Exited           10000 non-null  int64  \n",
      "dtypes: float64(3), int64(6), object(2)\n",
      "memory usage: 937.5+ KB\n"
     ]
    },
    {
     "data": {
      "text/plain": [
       "None"
      ]
     },
     "metadata": {},
     "output_type": "display_data"
    },
    {
     "data": {
      "text/html": [
       "<div>\n",
       "<style scoped>\n",
       "    .dataframe tbody tr th:only-of-type {\n",
       "        vertical-align: middle;\n",
       "    }\n",
       "\n",
       "    .dataframe tbody tr th {\n",
       "        vertical-align: top;\n",
       "    }\n",
       "\n",
       "    .dataframe thead th {\n",
       "        text-align: right;\n",
       "    }\n",
       "</style>\n",
       "<table border=\"1\" class=\"dataframe\">\n",
       "  <thead>\n",
       "    <tr style=\"text-align: right;\">\n",
       "      <th></th>\n",
       "      <th>CreditScore</th>\n",
       "      <th>Geography</th>\n",
       "      <th>Gender</th>\n",
       "      <th>Age</th>\n",
       "      <th>Tenure</th>\n",
       "      <th>Balance</th>\n",
       "      <th>NumOfProducts</th>\n",
       "      <th>HasCrCard</th>\n",
       "      <th>IsActiveMember</th>\n",
       "      <th>EstimatedSalary</th>\n",
       "      <th>Exited</th>\n",
       "    </tr>\n",
       "    <tr>\n",
       "      <th>RowNumber</th>\n",
       "      <th></th>\n",
       "      <th></th>\n",
       "      <th></th>\n",
       "      <th></th>\n",
       "      <th></th>\n",
       "      <th></th>\n",
       "      <th></th>\n",
       "      <th></th>\n",
       "      <th></th>\n",
       "      <th></th>\n",
       "      <th></th>\n",
       "    </tr>\n",
       "  </thead>\n",
       "  <tbody>\n",
       "    <tr>\n",
       "      <th>3525</th>\n",
       "      <td>763</td>\n",
       "      <td>France</td>\n",
       "      <td>Female</td>\n",
       "      <td>35</td>\n",
       "      <td>7.0</td>\n",
       "      <td>115651.60</td>\n",
       "      <td>2</td>\n",
       "      <td>1</td>\n",
       "      <td>1</td>\n",
       "      <td>104706.29</td>\n",
       "      <td>0</td>\n",
       "    </tr>\n",
       "    <tr>\n",
       "      <th>1096</th>\n",
       "      <td>692</td>\n",
       "      <td>France</td>\n",
       "      <td>Male</td>\n",
       "      <td>29</td>\n",
       "      <td>4.0</td>\n",
       "      <td>0.00</td>\n",
       "      <td>1</td>\n",
       "      <td>1</td>\n",
       "      <td>0</td>\n",
       "      <td>76755.99</td>\n",
       "      <td>1</td>\n",
       "    </tr>\n",
       "    <tr>\n",
       "      <th>9273</th>\n",
       "      <td>739</td>\n",
       "      <td>France</td>\n",
       "      <td>Male</td>\n",
       "      <td>42</td>\n",
       "      <td>2.0</td>\n",
       "      <td>141642.92</td>\n",
       "      <td>2</td>\n",
       "      <td>1</td>\n",
       "      <td>0</td>\n",
       "      <td>172149.76</td>\n",
       "      <td>0</td>\n",
       "    </tr>\n",
       "    <tr>\n",
       "      <th>9053</th>\n",
       "      <td>768</td>\n",
       "      <td>Germany</td>\n",
       "      <td>Female</td>\n",
       "      <td>47</td>\n",
       "      <td>5.0</td>\n",
       "      <td>104552.61</td>\n",
       "      <td>1</td>\n",
       "      <td>1</td>\n",
       "      <td>0</td>\n",
       "      <td>48137.08</td>\n",
       "      <td>1</td>\n",
       "    </tr>\n",
       "    <tr>\n",
       "      <th>1679</th>\n",
       "      <td>570</td>\n",
       "      <td>France</td>\n",
       "      <td>Female</td>\n",
       "      <td>18</td>\n",
       "      <td>NaN</td>\n",
       "      <td>82767.42</td>\n",
       "      <td>1</td>\n",
       "      <td>1</td>\n",
       "      <td>0</td>\n",
       "      <td>71811.90</td>\n",
       "      <td>0</td>\n",
       "    </tr>\n",
       "  </tbody>\n",
       "</table>\n",
       "</div>"
      ],
      "text/plain": [
       "           CreditScore Geography  Gender  Age  Tenure    Balance  \\\n",
       "RowNumber                                                          \n",
       "3525               763    France  Female   35     7.0  115651.60   \n",
       "1096               692    France    Male   29     4.0       0.00   \n",
       "9273               739    France    Male   42     2.0  141642.92   \n",
       "9053               768   Germany  Female   47     5.0  104552.61   \n",
       "1679               570    France  Female   18     NaN   82767.42   \n",
       "\n",
       "           NumOfProducts  HasCrCard  IsActiveMember  EstimatedSalary  Exited  \n",
       "RowNumber                                                                     \n",
       "3525                   2          1               1        104706.29       0  \n",
       "1096                   1          1               0         76755.99       1  \n",
       "9273                   2          1               0        172149.76       0  \n",
       "9053                   1          1               0         48137.08       1  \n",
       "1679                   1          1               0         71811.90       0  "
      ]
     },
     "execution_count": 5,
     "metadata": {},
     "output_type": "execute_result"
    }
   ],
   "source": [
    "display(data.info())\n",
    "data.sample(5)"
   ]
  },
  {
   "cell_type": "markdown",
   "metadata": {},
   "source": [
    "Содержимое таблицы на первый взгляд соответствует описанию.  \n",
    "Использованные типы данных не мешают дальнейшему анализу. Для экономии памяти качественные данные (индикаторы 'HasCrCard', 'IsActiveMember', 'Exited') могут быть преобразованы в логический тип, а целочисленные ('CreditScore', 'Age') могут быть преобразованы в 'int32'.\n",
    "\n",
    "Часть качественных переменных уже закодирована в виде 0/1 ('HasCrCard', 'IsActiveMember', 'Exited'), а часть ('Geography', 'Gender') требует кодирования. Чтобы выбрать лучший способ кодирования, рассмотрим значения в столбцах 'Geography' и 'Gender': "
   ]
  },
  {
   "cell_type": "code",
   "execution_count": 6,
   "metadata": {},
   "outputs": [
    {
     "data": {
      "text/plain": [
       "Male      5457\n",
       "Female    4543\n",
       "Name: Gender, dtype: int64"
      ]
     },
     "metadata": {},
     "output_type": "display_data"
    },
    {
     "data": {
      "text/plain": [
       "France     5014\n",
       "Germany    2509\n",
       "Spain      2477\n",
       "Name: Geography, dtype: int64"
      ]
     },
     "metadata": {},
     "output_type": "display_data"
    }
   ],
   "source": [
    "display(data.Gender.value_counts())\n",
    "display(data.Geography.value_counts())"
   ]
  },
  {
   "cell_type": "markdown",
   "metadata": {},
   "source": [
    "Количество вариантов в обоих столбцах невелико, поэтому лучший результат даст one-hot кодирование."
   ]
  },
  {
   "cell_type": "markdown",
   "metadata": {},
   "source": [
    "#### Поиск аномалий\n",
    "Рассмотрим опистельные статистики для численных данных в таблице:"
   ]
  },
  {
   "cell_type": "code",
   "execution_count": 7,
   "metadata": {},
   "outputs": [
    {
     "data": {
      "text/html": [
       "<div>\n",
       "<style scoped>\n",
       "    .dataframe tbody tr th:only-of-type {\n",
       "        vertical-align: middle;\n",
       "    }\n",
       "\n",
       "    .dataframe tbody tr th {\n",
       "        vertical-align: top;\n",
       "    }\n",
       "\n",
       "    .dataframe thead th {\n",
       "        text-align: right;\n",
       "    }\n",
       "</style>\n",
       "<table border=\"1\" class=\"dataframe\">\n",
       "  <thead>\n",
       "    <tr style=\"text-align: right;\">\n",
       "      <th></th>\n",
       "      <th>CreditScore</th>\n",
       "      <th>Age</th>\n",
       "      <th>Tenure</th>\n",
       "      <th>Balance</th>\n",
       "      <th>NumOfProducts</th>\n",
       "      <th>HasCrCard</th>\n",
       "      <th>IsActiveMember</th>\n",
       "      <th>EstimatedSalary</th>\n",
       "      <th>Exited</th>\n",
       "    </tr>\n",
       "  </thead>\n",
       "  <tbody>\n",
       "    <tr>\n",
       "      <th>count</th>\n",
       "      <td>10000.000000</td>\n",
       "      <td>10000.000000</td>\n",
       "      <td>9091.000000</td>\n",
       "      <td>10000.000000</td>\n",
       "      <td>10000.000000</td>\n",
       "      <td>10000.00000</td>\n",
       "      <td>10000.000000</td>\n",
       "      <td>10000.000000</td>\n",
       "      <td>10000.000000</td>\n",
       "    </tr>\n",
       "    <tr>\n",
       "      <th>mean</th>\n",
       "      <td>650.528800</td>\n",
       "      <td>38.921800</td>\n",
       "      <td>4.997690</td>\n",
       "      <td>76485.889288</td>\n",
       "      <td>1.530200</td>\n",
       "      <td>0.70550</td>\n",
       "      <td>0.515100</td>\n",
       "      <td>100090.239881</td>\n",
       "      <td>0.203700</td>\n",
       "    </tr>\n",
       "    <tr>\n",
       "      <th>std</th>\n",
       "      <td>96.653299</td>\n",
       "      <td>10.487806</td>\n",
       "      <td>2.894723</td>\n",
       "      <td>62397.405202</td>\n",
       "      <td>0.581654</td>\n",
       "      <td>0.45584</td>\n",
       "      <td>0.499797</td>\n",
       "      <td>57510.492818</td>\n",
       "      <td>0.402769</td>\n",
       "    </tr>\n",
       "    <tr>\n",
       "      <th>min</th>\n",
       "      <td>350.000000</td>\n",
       "      <td>18.000000</td>\n",
       "      <td>0.000000</td>\n",
       "      <td>0.000000</td>\n",
       "      <td>1.000000</td>\n",
       "      <td>0.00000</td>\n",
       "      <td>0.000000</td>\n",
       "      <td>11.580000</td>\n",
       "      <td>0.000000</td>\n",
       "    </tr>\n",
       "    <tr>\n",
       "      <th>25%</th>\n",
       "      <td>584.000000</td>\n",
       "      <td>32.000000</td>\n",
       "      <td>2.000000</td>\n",
       "      <td>0.000000</td>\n",
       "      <td>1.000000</td>\n",
       "      <td>0.00000</td>\n",
       "      <td>0.000000</td>\n",
       "      <td>51002.110000</td>\n",
       "      <td>0.000000</td>\n",
       "    </tr>\n",
       "    <tr>\n",
       "      <th>50%</th>\n",
       "      <td>652.000000</td>\n",
       "      <td>37.000000</td>\n",
       "      <td>5.000000</td>\n",
       "      <td>97198.540000</td>\n",
       "      <td>1.000000</td>\n",
       "      <td>1.00000</td>\n",
       "      <td>1.000000</td>\n",
       "      <td>100193.915000</td>\n",
       "      <td>0.000000</td>\n",
       "    </tr>\n",
       "    <tr>\n",
       "      <th>75%</th>\n",
       "      <td>718.000000</td>\n",
       "      <td>44.000000</td>\n",
       "      <td>7.000000</td>\n",
       "      <td>127644.240000</td>\n",
       "      <td>2.000000</td>\n",
       "      <td>1.00000</td>\n",
       "      <td>1.000000</td>\n",
       "      <td>149388.247500</td>\n",
       "      <td>0.000000</td>\n",
       "    </tr>\n",
       "    <tr>\n",
       "      <th>max</th>\n",
       "      <td>850.000000</td>\n",
       "      <td>92.000000</td>\n",
       "      <td>10.000000</td>\n",
       "      <td>250898.090000</td>\n",
       "      <td>4.000000</td>\n",
       "      <td>1.00000</td>\n",
       "      <td>1.000000</td>\n",
       "      <td>199992.480000</td>\n",
       "      <td>1.000000</td>\n",
       "    </tr>\n",
       "  </tbody>\n",
       "</table>\n",
       "</div>"
      ],
      "text/plain": [
       "        CreditScore           Age       Tenure        Balance  NumOfProducts  \\\n",
       "count  10000.000000  10000.000000  9091.000000   10000.000000   10000.000000   \n",
       "mean     650.528800     38.921800     4.997690   76485.889288       1.530200   \n",
       "std       96.653299     10.487806     2.894723   62397.405202       0.581654   \n",
       "min      350.000000     18.000000     0.000000       0.000000       1.000000   \n",
       "25%      584.000000     32.000000     2.000000       0.000000       1.000000   \n",
       "50%      652.000000     37.000000     5.000000   97198.540000       1.000000   \n",
       "75%      718.000000     44.000000     7.000000  127644.240000       2.000000   \n",
       "max      850.000000     92.000000    10.000000  250898.090000       4.000000   \n",
       "\n",
       "         HasCrCard  IsActiveMember  EstimatedSalary        Exited  \n",
       "count  10000.00000    10000.000000     10000.000000  10000.000000  \n",
       "mean       0.70550        0.515100    100090.239881      0.203700  \n",
       "std        0.45584        0.499797     57510.492818      0.402769  \n",
       "min        0.00000        0.000000        11.580000      0.000000  \n",
       "25%        0.00000        0.000000     51002.110000      0.000000  \n",
       "50%        1.00000        1.000000    100193.915000      0.000000  \n",
       "75%        1.00000        1.000000    149388.247500      0.000000  \n",
       "max        1.00000        1.000000    199992.480000      1.000000  "
      ]
     },
     "execution_count": 7,
     "metadata": {},
     "output_type": "execute_result"
    }
   ],
   "source": [
    "data.describe()"
   ]
  },
  {
   "cell_type": "markdown",
   "metadata": {},
   "source": [
    "Данные не вызывают выглядят правдоподобными и не вызывают подозрений. В большинстве случаев средние значения близки к медианным, что указывает на симметричность распределений и отсутствие существенных выбросов.  \n",
    "\n",
    "**Диапазоны изменения данных** существенно различаются между столбцами, поэтому для ряда моделей **может потребоваться масштабирование** данных (предпочтительно **стандартизация**).    \n",
    "\n",
    "**Следует обратить внимание** на несбалансированность набора данных по целевой переменной `Exited` - **только 20 % клиентов** из выборки **прекратили пользоваться услугами** банка.  \n",
    "\n",
    "Рассмотрим распределения количественных и качественных признаков:\n"
   ]
  },
  {
   "cell_type": "code",
   "execution_count": 8,
   "metadata": {},
   "outputs": [
    {
     "data": {
      "image/png": "[encoded data removed]",
      "text/plain": [
       "<Figure size 1080x720 with 6 Axes>"
      ]
     },
     "metadata": {
      "needs_background": "light"
     },
     "output_type": "display_data"
    }
   ],
   "source": [
    "#Список анализируемых количественных признаков:\n",
    "num_features = ['CreditScore', 'Age', 'Tenure', 'Balance', 'NumOfProducts', 'EstimatedSalary']\n",
    "#Инициализация подграфиков:\n",
    "fig, ax = plt.subplots(2,3, figsize=(15,10))\n",
    "\n",
    "#Построение гистограмм распределения для количественных признаков:\n",
    "for i in range(6):\n",
    "    sns.histplot(x=data[num_features[i]], hue=data['Exited'],  ax=ax[i//3, i%3])\n",
    "    \n",
    "    ax[i//3, i%3].set_title(num_features[i])"
   ]
  },
  {
   "cell_type": "code",
   "execution_count": 9,
   "metadata": {},
   "outputs": [
    {
     "data": {
      "image/png": "[encoded data removed]",
      "text/plain": [
       "<Figure size 1080x360 with 4 Axes>"
      ]
     },
     "metadata": {
      "needs_background": "light"
     },
     "output_type": "display_data"
    }
   ],
   "source": [
    "#Список анализируемых качественных переменных:\n",
    "cat_features = ['Geography', 'Gender', 'HasCrCard', 'IsActiveMember']\n",
    "#Инициализация подграфиков:\n",
    "fig, ax = plt.subplots(1,4, figsize=(15,5))\n",
    "\n",
    "#Построение гистограмм распределения для количественных признаков:\n",
    "for i in range(4):\n",
    "    sns.histplot(x=data[cat_features[i]], hue=data['Exited'],  ax=ax[i])\n",
    "    \n",
    "    ax[i].set_title(cat_features[i])"
   ]
  },
  {
   "cell_type": "markdown",
   "metadata": {},
   "source": [
    "Распределения в целом реалиcтичные. Заметно две аномалии - большое число клиентов в максимальным кредитным рейтингом и большое число клиентов с нулевым балансом.  \n",
    "Обе аномалии являются вполне объяснимыми:\n",
    "- для кредитного рейтинга задано максимальное значение, выше определенного порога все клиенты получают одинаковый рейтинг;\n",
    "- у многих клиентов счет в исследуемом банке является резервным и клиенты не пользуются им, поэтому счет нулевой.  \n",
    "\n",
    "Сравнивая распределения для клиентов, прекративших и продолжающих пользоваться услугами банка, можно выделить следующее:\n",
    "- среди клиентов, прекративших пользовальние услугами, больше доля имеющих нулевой баланс;\n",
    "- возраст (медианный, средний) таких клиентов ниже, чем у клиентов, продолжающих обслуживание;\n",
    "- среди клиентов, пользующихся одним продуктом, доля покинувших банк выше;\n",
    "- во Франции доля клиентов, прекративших пользование услугами, ниже;\n",
    "- среди мужчин доля клиентов, прекративших пользование услугами, также ниже;\n",
    "- остальные параметры не оказывают ярко выраженного влияния.  \n",
    "\n",
    "\n",
    "Таким образом **исправление аномалий** (в особенности аномалий баланса)в данном случае **не требуется** и может быть вредным. Исходя из заметной зависимости целевой переменной от \"аномальных\"(выбивающихся из основного распределения) значений, можно предполжить низкую эффективность линейных моделей в задаче такой классификации. Хорошей эффективностью могут обладать модели на основе деревьев решений."
   ]
  },
  {
   "cell_type": "markdown",
   "metadata": {},
   "source": [
    "### Предобработка данных"
   ]
  },
  {
   "cell_type": "markdown",
   "metadata": {},
   "source": [
    "#### Обработка пропусков"
   ]
  },
  {
   "cell_type": "markdown",
   "metadata": {},
   "source": [
    "Пропуски встречаются только в столбце `Tenure`. Из предварительного рассмотрения мы знаем, что в данном столбце содержатся дискретные значения от 0 до 10.  \n",
    "Пропуски в данном столбце могли возникнуть например для недавно зарегистированных клиентов, клиентов пользующихся услугами банка больше 10 лет, либо в результате ошибок при выгрузке данных.  \n",
    "\n",
    "Чтобы уточнить природу таких пропусков сравним описательные статистики параметров клиентов с пропусками в данном столбце и без пропусков:"
   ]
  },
  {
   "cell_type": "code",
   "execution_count": 10,
   "metadata": {},
   "outputs": [
    {
     "data": {
      "text/html": [
       "<div>\n",
       "<style scoped>\n",
       "    .dataframe tbody tr th:only-of-type {\n",
       "        vertical-align: middle;\n",
       "    }\n",
       "\n",
       "    .dataframe tbody tr th {\n",
       "        vertical-align: top;\n",
       "    }\n",
       "\n",
       "    .dataframe thead th {\n",
       "        text-align: right;\n",
       "    }\n",
       "</style>\n",
       "<table border=\"1\" class=\"dataframe\">\n",
       "  <thead>\n",
       "    <tr style=\"text-align: right;\">\n",
       "      <th></th>\n",
       "      <th>CreditScore</th>\n",
       "      <th>Age</th>\n",
       "      <th>Tenure</th>\n",
       "      <th>Balance</th>\n",
       "      <th>NumOfProducts</th>\n",
       "      <th>HasCrCard</th>\n",
       "      <th>IsActiveMember</th>\n",
       "      <th>EstimatedSalary</th>\n",
       "      <th>Exited</th>\n",
       "    </tr>\n",
       "  </thead>\n",
       "  <tbody>\n",
       "    <tr>\n",
       "      <th>count</th>\n",
       "      <td>0.099989</td>\n",
       "      <td>0.099989</td>\n",
       "      <td>0.0</td>\n",
       "      <td>0.099989</td>\n",
       "      <td>0.099989</td>\n",
       "      <td>0.099989</td>\n",
       "      <td>0.099989</td>\n",
       "      <td>0.099989</td>\n",
       "      <td>0.099989</td>\n",
       "    </tr>\n",
       "    <tr>\n",
       "      <th>mean</th>\n",
       "      <td>0.996488</td>\n",
       "      <td>0.992266</td>\n",
       "      <td>NaN</td>\n",
       "      <td>0.994702</td>\n",
       "      <td>1.000038</td>\n",
       "      <td>1.008068</td>\n",
       "      <td>0.990081</td>\n",
       "      <td>0.990010</td>\n",
       "      <td>0.987164</td>\n",
       "    </tr>\n",
       "    <tr>\n",
       "      <th>std</th>\n",
       "      <td>1.027683</td>\n",
       "      <td>0.927039</td>\n",
       "      <td>NaN</td>\n",
       "      <td>1.012453</td>\n",
       "      <td>1.012820</td>\n",
       "      <td>0.994793</td>\n",
       "      <td>1.000762</td>\n",
       "      <td>0.978365</td>\n",
       "      <td>0.995686</td>\n",
       "    </tr>\n",
       "    <tr>\n",
       "      <th>min</th>\n",
       "      <td>1.025714</td>\n",
       "      <td>1.000000</td>\n",
       "      <td>NaN</td>\n",
       "      <td>NaN</td>\n",
       "      <td>1.000000</td>\n",
       "      <td>NaN</td>\n",
       "      <td>NaN</td>\n",
       "      <td>9.211572</td>\n",
       "      <td>NaN</td>\n",
       "    </tr>\n",
       "    <tr>\n",
       "      <th>25%</th>\n",
       "      <td>0.993151</td>\n",
       "      <td>1.000000</td>\n",
       "      <td>NaN</td>\n",
       "      <td>NaN</td>\n",
       "      <td>1.000000</td>\n",
       "      <td>NaN</td>\n",
       "      <td>NaN</td>\n",
       "      <td>0.973541</td>\n",
       "      <td>NaN</td>\n",
       "    </tr>\n",
       "    <tr>\n",
       "      <th>50%</th>\n",
       "      <td>0.992331</td>\n",
       "      <td>1.000000</td>\n",
       "      <td>NaN</td>\n",
       "      <td>0.993386</td>\n",
       "      <td>1.000000</td>\n",
       "      <td>1.000000</td>\n",
       "      <td>1.000000</td>\n",
       "      <td>0.992057</td>\n",
       "      <td>NaN</td>\n",
       "    </tr>\n",
       "    <tr>\n",
       "      <th>75%</th>\n",
       "      <td>1.001395</td>\n",
       "      <td>0.977273</td>\n",
       "      <td>NaN</td>\n",
       "      <td>1.007785</td>\n",
       "      <td>1.000000</td>\n",
       "      <td>1.000000</td>\n",
       "      <td>1.000000</td>\n",
       "      <td>0.974543</td>\n",
       "      <td>NaN</td>\n",
       "    </tr>\n",
       "    <tr>\n",
       "      <th>max</th>\n",
       "      <td>1.000000</td>\n",
       "      <td>1.000000</td>\n",
       "      <td>NaN</td>\n",
       "      <td>0.823696</td>\n",
       "      <td>1.000000</td>\n",
       "      <td>1.000000</td>\n",
       "      <td>1.000000</td>\n",
       "      <td>0.996990</td>\n",
       "      <td>1.000000</td>\n",
       "    </tr>\n",
       "  </tbody>\n",
       "</table>\n",
       "</div>"
      ],
      "text/plain": [
       "       CreditScore       Age  Tenure   Balance  NumOfProducts  HasCrCard  \\\n",
       "count     0.099989  0.099989     0.0  0.099989       0.099989   0.099989   \n",
       "mean      0.996488  0.992266     NaN  0.994702       1.000038   1.008068   \n",
       "std       1.027683  0.927039     NaN  1.012453       1.012820   0.994793   \n",
       "min       1.025714  1.000000     NaN       NaN       1.000000        NaN   \n",
       "25%       0.993151  1.000000     NaN       NaN       1.000000        NaN   \n",
       "50%       0.992331  1.000000     NaN  0.993386       1.000000   1.000000   \n",
       "75%       1.001395  0.977273     NaN  1.007785       1.000000   1.000000   \n",
       "max       1.000000  1.000000     NaN  0.823696       1.000000   1.000000   \n",
       "\n",
       "       IsActiveMember  EstimatedSalary    Exited  \n",
       "count        0.099989         0.099989  0.099989  \n",
       "mean         0.990081         0.990010  0.987164  \n",
       "std          1.000762         0.978365  0.995686  \n",
       "min               NaN         9.211572       NaN  \n",
       "25%               NaN         0.973541       NaN  \n",
       "50%          1.000000         0.992057       NaN  \n",
       "75%          1.000000         0.974543       NaN  \n",
       "max          1.000000         0.996990  1.000000  "
      ]
     },
     "execution_count": 10,
     "metadata": {},
     "output_type": "execute_result"
    }
   ],
   "source": [
    "data[data.Tenure.isna()].describe() / data[data.Tenure.notna()].describe()"
   ]
  },
  {
   "cell_type": "markdown",
   "metadata": {},
   "source": [
    "Как следует из таблицы большинство параметров не зависят от наличия пропуска в столбце `Tenure`. Таким образом, клиенты с пропусками являются случайной выборкой из общей совокупности клиентов и наиболее вероятной причиной пропусков являются ошибки при выгрузке.  \n",
    "Заполним пропуски медианным значением:"
   ]
  },
  {
   "cell_type": "code",
   "execution_count": 11,
   "metadata": {
    "scrolled": true
   },
   "outputs": [
    {
     "data": {
      "text/plain": [
       "CreditScore        0.0\n",
       "Geography          0.0\n",
       "Gender             0.0\n",
       "Age                0.0\n",
       "Tenure             0.0\n",
       "Balance            0.0\n",
       "NumOfProducts      0.0\n",
       "HasCrCard          0.0\n",
       "IsActiveMember     0.0\n",
       "EstimatedSalary    0.0\n",
       "Exited             0.0\n",
       "dtype: float64"
      ]
     },
     "execution_count": 11,
     "metadata": {},
     "output_type": "execute_result"
    }
   ],
   "source": [
    "data.Tenure.fillna(data.Tenure.median(), inplace=True)\n",
    "data.isna().mean()"
   ]
  },
  {
   "cell_type": "markdown",
   "metadata": {},
   "source": [
    "Пропуски заполнены, дальнейшие действия не требуются.\n",
    "\n",
    "#### Изменение типов данных  \n",
    "Для экономии памяти приведем качественные переменные-индикаторы к типу 'uint8':"
   ]
  },
  {
   "cell_type": "code",
   "execution_count": 12,
   "metadata": {
    "scrolled": true
   },
   "outputs": [
    {
     "name": "stdout",
     "output_type": "stream",
     "text": [
      "<class 'pandas.core.frame.DataFrame'>\n",
      "Int64Index: 10000 entries, 1 to 10000\n",
      "Data columns (total 11 columns):\n",
      " #   Column           Non-Null Count  Dtype  \n",
      "---  ------           --------------  -----  \n",
      " 0   CreditScore      10000 non-null  int64  \n",
      " 1   Geography        10000 non-null  object \n",
      " 2   Gender           10000 non-null  object \n",
      " 3   Age              10000 non-null  int64  \n",
      " 4   Tenure           10000 non-null  float64\n",
      " 5   Balance          10000 non-null  float64\n",
      " 6   NumOfProducts    10000 non-null  int64  \n",
      " 7   HasCrCard        10000 non-null  uint8  \n",
      " 8   IsActiveMember   10000 non-null  uint8  \n",
      " 9   EstimatedSalary  10000 non-null  float64\n",
      " 10  Exited           10000 non-null  uint8  \n",
      "dtypes: float64(3), int64(3), object(2), uint8(3)\n",
      "memory usage: 732.4+ KB\n"
     ]
    }
   ],
   "source": [
    "#Списки качественных признаков-индикаторов:\n",
    "ind_feat = ['HasCrCard', 'IsActiveMember', 'Exited']\n",
    "\n",
    "#Преобразование типов данных:\n",
    "data[ind_feat] = data[ind_feat].astype('uint8')\n",
    "data.info()"
   ]
  },
  {
   "cell_type": "markdown",
   "metadata": {},
   "source": [
    "Типы данных преобразованы. В данном случае это не являлось критичным действием, однако при большем объеме данных, может быть актуально."
   ]
  },
  {
   "cell_type": "markdown",
   "metadata": {},
   "source": [
    "#### Кодирование качественных переменных"
   ]
  },
  {
   "cell_type": "markdown",
   "metadata": {},
   "source": [
    "Поскольку столбцы с качественными переменными содержат малое количество вариантов категорий, лучшим способом будет one-hot кодирование:"
   ]
  },
  {
   "cell_type": "code",
   "execution_count": 13,
   "metadata": {},
   "outputs": [
    {
     "data": {
      "text/html": [
       "<div>\n",
       "<style scoped>\n",
       "    .dataframe tbody tr th:only-of-type {\n",
       "        vertical-align: middle;\n",
       "    }\n",
       "\n",
       "    .dataframe tbody tr th {\n",
       "        vertical-align: top;\n",
       "    }\n",
       "\n",
       "    .dataframe thead th {\n",
       "        text-align: right;\n",
       "    }\n",
       "</style>\n",
       "<table border=\"1\" class=\"dataframe\">\n",
       "  <thead>\n",
       "    <tr style=\"text-align: right;\">\n",
       "      <th></th>\n",
       "      <th>CreditScore</th>\n",
       "      <th>Geography</th>\n",
       "      <th>Gender</th>\n",
       "      <th>Age</th>\n",
       "      <th>Tenure</th>\n",
       "      <th>Balance</th>\n",
       "      <th>NumOfProducts</th>\n",
       "      <th>HasCrCard</th>\n",
       "      <th>IsActiveMember</th>\n",
       "      <th>EstimatedSalary</th>\n",
       "      <th>Exited</th>\n",
       "      <th>Gender_Male</th>\n",
       "      <th>Geography_Germany</th>\n",
       "      <th>Geography_Spain</th>\n",
       "    </tr>\n",
       "    <tr>\n",
       "      <th>RowNumber</th>\n",
       "      <th></th>\n",
       "      <th></th>\n",
       "      <th></th>\n",
       "      <th></th>\n",
       "      <th></th>\n",
       "      <th></th>\n",
       "      <th></th>\n",
       "      <th></th>\n",
       "      <th></th>\n",
       "      <th></th>\n",
       "      <th></th>\n",
       "      <th></th>\n",
       "      <th></th>\n",
       "      <th></th>\n",
       "    </tr>\n",
       "  </thead>\n",
       "  <tbody>\n",
       "    <tr>\n",
       "      <th>261</th>\n",
       "      <td>732</td>\n",
       "      <td>Germany</td>\n",
       "      <td>Male</td>\n",
       "      <td>42</td>\n",
       "      <td>9.0</td>\n",
       "      <td>108748.08</td>\n",
       "      <td>2</td>\n",
       "      <td>1</td>\n",
       "      <td>1</td>\n",
       "      <td>65323.11</td>\n",
       "      <td>0</td>\n",
       "      <td>1</td>\n",
       "      <td>1</td>\n",
       "      <td>0</td>\n",
       "    </tr>\n",
       "    <tr>\n",
       "      <th>2083</th>\n",
       "      <td>811</td>\n",
       "      <td>Spain</td>\n",
       "      <td>Male</td>\n",
       "      <td>39</td>\n",
       "      <td>7.0</td>\n",
       "      <td>0.00</td>\n",
       "      <td>2</td>\n",
       "      <td>1</td>\n",
       "      <td>1</td>\n",
       "      <td>177519.39</td>\n",
       "      <td>0</td>\n",
       "      <td>1</td>\n",
       "      <td>0</td>\n",
       "      <td>1</td>\n",
       "    </tr>\n",
       "    <tr>\n",
       "      <th>5862</th>\n",
       "      <td>562</td>\n",
       "      <td>France</td>\n",
       "      <td>Male</td>\n",
       "      <td>48</td>\n",
       "      <td>3.0</td>\n",
       "      <td>92347.96</td>\n",
       "      <td>1</td>\n",
       "      <td>1</td>\n",
       "      <td>1</td>\n",
       "      <td>163116.75</td>\n",
       "      <td>0</td>\n",
       "      <td>1</td>\n",
       "      <td>0</td>\n",
       "      <td>0</td>\n",
       "    </tr>\n",
       "    <tr>\n",
       "      <th>1913</th>\n",
       "      <td>687</td>\n",
       "      <td>Germany</td>\n",
       "      <td>Female</td>\n",
       "      <td>29</td>\n",
       "      <td>4.0</td>\n",
       "      <td>78939.15</td>\n",
       "      <td>1</td>\n",
       "      <td>1</td>\n",
       "      <td>0</td>\n",
       "      <td>122134.56</td>\n",
       "      <td>1</td>\n",
       "      <td>0</td>\n",
       "      <td>1</td>\n",
       "      <td>0</td>\n",
       "    </tr>\n",
       "    <tr>\n",
       "      <th>956</th>\n",
       "      <td>706</td>\n",
       "      <td>France</td>\n",
       "      <td>Female</td>\n",
       "      <td>44</td>\n",
       "      <td>4.0</td>\n",
       "      <td>129605.99</td>\n",
       "      <td>1</td>\n",
       "      <td>0</td>\n",
       "      <td>0</td>\n",
       "      <td>69865.49</td>\n",
       "      <td>0</td>\n",
       "      <td>0</td>\n",
       "      <td>0</td>\n",
       "      <td>0</td>\n",
       "    </tr>\n",
       "  </tbody>\n",
       "</table>\n",
       "</div>"
      ],
      "text/plain": [
       "           CreditScore Geography  Gender  Age  Tenure    Balance  \\\n",
       "RowNumber                                                          \n",
       "261                732   Germany    Male   42     9.0  108748.08   \n",
       "2083               811     Spain    Male   39     7.0       0.00   \n",
       "5862               562    France    Male   48     3.0   92347.96   \n",
       "1913               687   Germany  Female   29     4.0   78939.15   \n",
       "956                706    France  Female   44     4.0  129605.99   \n",
       "\n",
       "           NumOfProducts  HasCrCard  IsActiveMember  EstimatedSalary  Exited  \\\n",
       "RowNumber                                                                      \n",
       "261                    2          1               1         65323.11       0   \n",
       "2083                   2          1               1        177519.39       0   \n",
       "5862                   1          1               1        163116.75       0   \n",
       "1913                   1          1               0        122134.56       1   \n",
       "956                    1          0               0         69865.49       0   \n",
       "\n",
       "           Gender_Male  Geography_Germany  Geography_Spain  \n",
       "RowNumber                                                   \n",
       "261                  1                  1                0  \n",
       "2083                 1                  0                1  \n",
       "5862                 1                  0                0  \n",
       "1913                 0                  1                0  \n",
       "956                  0                  0                0  "
      ]
     },
     "execution_count": 13,
     "metadata": {},
     "output_type": "execute_result"
    }
   ],
   "source": [
    "ohe = pd.get_dummies(data[['Gender', 'Geography']], drop_first=True)\n",
    "data_ohe = pd.concat([data, ohe], axis=1)\n",
    "data_ohe.sample(5)"
   ]
  },
  {
   "cell_type": "markdown",
   "metadata": {},
   "source": [
    "### Подготовка данных для обучения и тестирования моделей"
   ]
  },
  {
   "cell_type": "code",
   "execution_count": 14,
   "metadata": {
    "scrolled": true
   },
   "outputs": [
    {
     "data": {
      "text/html": [
       "<div>\n",
       "<style scoped>\n",
       "    .dataframe tbody tr th:only-of-type {\n",
       "        vertical-align: middle;\n",
       "    }\n",
       "\n",
       "    .dataframe tbody tr th {\n",
       "        vertical-align: top;\n",
       "    }\n",
       "\n",
       "    .dataframe thead th {\n",
       "        text-align: right;\n",
       "    }\n",
       "</style>\n",
       "<table border=\"1\" class=\"dataframe\">\n",
       "  <thead>\n",
       "    <tr style=\"text-align: right;\">\n",
       "      <th></th>\n",
       "      <th>CreditScore</th>\n",
       "      <th>Age</th>\n",
       "      <th>Tenure</th>\n",
       "      <th>Balance</th>\n",
       "      <th>NumOfProducts</th>\n",
       "      <th>HasCrCard</th>\n",
       "      <th>IsActiveMember</th>\n",
       "      <th>EstimatedSalary</th>\n",
       "      <th>Gender_Male</th>\n",
       "      <th>Geography_Germany</th>\n",
       "      <th>Geography_Spain</th>\n",
       "    </tr>\n",
       "    <tr>\n",
       "      <th>RowNumber</th>\n",
       "      <th></th>\n",
       "      <th></th>\n",
       "      <th></th>\n",
       "      <th></th>\n",
       "      <th></th>\n",
       "      <th></th>\n",
       "      <th></th>\n",
       "      <th></th>\n",
       "      <th></th>\n",
       "      <th></th>\n",
       "      <th></th>\n",
       "    </tr>\n",
       "  </thead>\n",
       "  <tbody>\n",
       "    <tr>\n",
       "      <th>1</th>\n",
       "      <td>619</td>\n",
       "      <td>42</td>\n",
       "      <td>2.0</td>\n",
       "      <td>0.00</td>\n",
       "      <td>1</td>\n",
       "      <td>1</td>\n",
       "      <td>1</td>\n",
       "      <td>101348.88</td>\n",
       "      <td>0</td>\n",
       "      <td>0</td>\n",
       "      <td>0</td>\n",
       "    </tr>\n",
       "    <tr>\n",
       "      <th>2</th>\n",
       "      <td>608</td>\n",
       "      <td>41</td>\n",
       "      <td>1.0</td>\n",
       "      <td>83807.86</td>\n",
       "      <td>1</td>\n",
       "      <td>0</td>\n",
       "      <td>1</td>\n",
       "      <td>112542.58</td>\n",
       "      <td>0</td>\n",
       "      <td>0</td>\n",
       "      <td>1</td>\n",
       "    </tr>\n",
       "    <tr>\n",
       "      <th>3</th>\n",
       "      <td>502</td>\n",
       "      <td>42</td>\n",
       "      <td>8.0</td>\n",
       "      <td>159660.80</td>\n",
       "      <td>3</td>\n",
       "      <td>1</td>\n",
       "      <td>0</td>\n",
       "      <td>113931.57</td>\n",
       "      <td>0</td>\n",
       "      <td>0</td>\n",
       "      <td>0</td>\n",
       "    </tr>\n",
       "    <tr>\n",
       "      <th>4</th>\n",
       "      <td>699</td>\n",
       "      <td>39</td>\n",
       "      <td>1.0</td>\n",
       "      <td>0.00</td>\n",
       "      <td>2</td>\n",
       "      <td>0</td>\n",
       "      <td>0</td>\n",
       "      <td>93826.63</td>\n",
       "      <td>0</td>\n",
       "      <td>0</td>\n",
       "      <td>0</td>\n",
       "    </tr>\n",
       "    <tr>\n",
       "      <th>5</th>\n",
       "      <td>850</td>\n",
       "      <td>43</td>\n",
       "      <td>2.0</td>\n",
       "      <td>125510.82</td>\n",
       "      <td>1</td>\n",
       "      <td>1</td>\n",
       "      <td>1</td>\n",
       "      <td>79084.10</td>\n",
       "      <td>0</td>\n",
       "      <td>0</td>\n",
       "      <td>1</td>\n",
       "    </tr>\n",
       "  </tbody>\n",
       "</table>\n",
       "</div>"
      ],
      "text/plain": [
       "           CreditScore  Age  Tenure    Balance  NumOfProducts  HasCrCard  \\\n",
       "RowNumber                                                                  \n",
       "1                  619   42     2.0       0.00              1          1   \n",
       "2                  608   41     1.0   83807.86              1          0   \n",
       "3                  502   42     8.0  159660.80              3          1   \n",
       "4                  699   39     1.0       0.00              2          0   \n",
       "5                  850   43     2.0  125510.82              1          1   \n",
       "\n",
       "           IsActiveMember  EstimatedSalary  Gender_Male  Geography_Germany  \\\n",
       "RowNumber                                                                    \n",
       "1                       1        101348.88            0                  0   \n",
       "2                       1        112542.58            0                  0   \n",
       "3                       0        113931.57            0                  0   \n",
       "4                       0         93826.63            0                  0   \n",
       "5                       1         79084.10            0                  0   \n",
       "\n",
       "           Geography_Spain  \n",
       "RowNumber                   \n",
       "1                        0  \n",
       "2                        1  \n",
       "3                        0  \n",
       "4                        0  \n",
       "5                        1  "
      ]
     },
     "execution_count": 14,
     "metadata": {},
     "output_type": "execute_result"
    }
   ],
   "source": [
    "#Разделение данных на признаки и целевую переменную:\n",
    "features = data_ohe.drop(['Exited', 'Geography', 'Gender'], axis=1)\n",
    "target = data_ohe['Exited']\n",
    "features.head()"
   ]
  },
  {
   "cell_type": "markdown",
   "metadata": {},
   "source": [
    "Отделим часть данных (25 %) для тестирования моделей. Поскольку распределение целевого признака не сбалансирована, при разделении выборок будем использовать стратификацию:"
   ]
  },
  {
   "cell_type": "code",
   "execution_count": 15,
   "metadata": {},
   "outputs": [],
   "source": [
    "#Отделение тестового набора для проверки моделей:\n",
    "(features_rest, \n",
    " features_test, \n",
    " target_rest, \n",
    " target_test\n",
    ") = train_test_split(features, target, \n",
    "                     test_size=0.25, \n",
    "                     random_state=123,\n",
    "                     stratify=target)\n",
    "\n",
    "#Выделение тренировочного и валидационного наборов для выбора лучшей модели и способа работы с дисбалансом:\n",
    "(features_train, \n",
    " features_valid, \n",
    " target_train, \n",
    " target_valid\n",
    ") = train_test_split(features_rest, target_rest, \n",
    "                     test_size=0.25, \n",
    "                     random_state=123,\n",
    "                     stratify=target_rest)"
   ]
  },
  {
   "cell_type": "markdown",
   "metadata": {},
   "source": [
    "Поскольку количественные признаки имеют разные масштабы, для корректной работы линейных моделей масштабируем (стандартизируем) признаки:"
   ]
  },
  {
   "cell_type": "code",
   "execution_count": 16,
   "metadata": {
    "scrolled": true
   },
   "outputs": [],
   "source": [
    "# Инициализация и обучение стандартизатора для выбора модели:\n",
    "scaler = StandardScaler()\n",
    "scaler.fit(features_train[num_features])\n",
    "\n",
    "# Стандартизация данных:\n",
    "for table in [features_train, features_valid, features_test]:\n",
    "    table = table.copy()\n",
    "    table.loc[:, num_features] = scaler.transform(table[num_features])"
   ]
  },
  {
   "cell_type": "markdown",
   "metadata": {},
   "source": [
    "Данные для обучения, валидации и тестирования моделей подготовлены."
   ]
  },
  {
   "cell_type": "markdown",
   "metadata": {},
   "source": [
    "## Исследование задачи"
   ]
  },
  {
   "cell_type": "markdown",
   "metadata": {},
   "source": [
    "### Дисбаланс классов и результаты константной модели"
   ]
  },
  {
   "cell_type": "markdown",
   "metadata": {},
   "source": [
    "Как было указано выше, распределение целевого признака - прекращения пользования услугами банка (параметр `Exited`) не сбалансирована - большинство (80%) клиентов продолжают пользоваться услугами банка:"
   ]
  },
  {
   "cell_type": "code",
   "execution_count": 17,
   "metadata": {},
   "outputs": [
    {
     "data": {
      "image/png": "[encoded data removed]",
      "text/plain": [
       "<Figure size 432x288 with 1 Axes>"
      ]
     },
     "metadata": {
      "needs_background": "light"
     },
     "output_type": "display_data"
    }
   ],
   "source": [
    "data.Exited.value_counts().plot(kind='bar', title='Распределение клиентов по признаку \"Exited\"')\n",
    "plt.show()"
   ]
  },
  {
   "cell_type": "code",
   "execution_count": 18,
   "metadata": {},
   "outputs": [
    {
     "name": "stdout",
     "output_type": "stream",
     "text": [
      "Доля верных ответов константной модели: 0.796\n"
     ]
    }
   ],
   "source": [
    "#Доля верных ответов константной модели, всегда предказывающей 0:\n",
    "accuracy_constant = (data.Exited==0).mean()\n",
    "print(f\"Доля верных ответов константной модели: {accuracy_constant:0.3f}\")"
   ]
  },
  {
   "cell_type": "markdown",
   "metadata": {},
   "source": [
    "Из-за большого дисбаланса, константная модель, всегда предсказывающая \"0\" для признака Exited, будет давать довольно большую долю правильных ответов. Таким образом, метрика accuracy не подходит для данной задачи, более удачным будет использование метрик F1 и AUC-ROC."
   ]
  },
  {
   "cell_type": "markdown",
   "metadata": {},
   "source": [
    "### Модели без учета дисбаланса классов"
   ]
  },
  {
   "cell_type": "markdown",
   "metadata": {},
   "source": [
    "В качестве простой базовой модели для сравнения воспользуемся моделью логистической регрессии:"
   ]
  },
  {
   "cell_type": "code",
   "execution_count": 19,
   "metadata": {},
   "outputs": [
    {
     "name": "stdout",
     "output_type": "stream",
     "text": [
      "Доля верных ответов (логистическая регрессия): 0.785\n",
      "F1-метрика (логистическая регрессия): 0.148\n",
      "Confussion matrix:\n",
      "[[1436   57]\n",
      " [ 347   35]]\n"
     ]
    }
   ],
   "source": [
    "lr_unbalanced = LogisticRegression(penalty='l2', solver='liblinear')\n",
    "lr_unbalanced.fit(features_train, target_train)\n",
    "predicted_valid_lr_unbalanced = lr_unbalanced.predict(features_valid)\n",
    "\n",
    "#Поскольку вывод оценок будет повторяться для различных моделей, оформим его в виде функции:\n",
    "def print_score(predicted, target, name=\"\"):\n",
    "    print(f\"Доля верных ответов ({name}): {accuracy_score(target, predicted):0.3f}\")\n",
    "    print(f\"F1-метрика ({name}): {f1_score(target, predicted):0.3f}\")\n",
    "    print(\"Confussion matrix:\")\n",
    "    print(confusion_matrix(target, predicted))\n",
    "\n",
    "print_score(predicted_valid_lr_unbalanced, target_valid, \"логистическая регрессия\")"
   ]
  },
  {
   "cell_type": "markdown",
   "metadata": {},
   "source": [
    "Полученная модель обладает невысоким качеством - доля верных ответов не превышает долю верных ответов константной модели, а F1-метрика оказывается ниже заданного порогового значения (0,59)."
   ]
  },
  {
   "cell_type": "code",
   "execution_count": 20,
   "metadata": {},
   "outputs": [
    {
     "name": "stdout",
     "output_type": "stream",
     "text": [
      "Доля верных ответов (случайный лес): 0.853\n",
      "F1-метрика (случайный лес): 0.573\n",
      "Confussion matrix:\n",
      "[[1414   79]\n",
      " [ 197  185]]\n"
     ]
    }
   ],
   "source": [
    "rf_unbalanced = RandomForestClassifier(random_state=123)\n",
    "rf_unbalanced.fit(features_train, target_train)\n",
    "predicted_valid_rf_unbalanced = rf_unbalanced.predict(features_valid)\n",
    "\n",
    "print_score(predicted_valid_rf_unbalanced, target_valid, \"случайный лес\")"
   ]
  },
  {
   "cell_type": "markdown",
   "metadata": {},
   "source": [
    "Модель случайного леса даёт долю верных ответов выше чем у константной модели. При этом значение F1-метрики близко к заданному пороговому уровню.  \n",
    "Рассмотрим ROC-кривые для построенных моделей:"
   ]
  },
  {
   "cell_type": "code",
   "execution_count": 21,
   "metadata": {},
   "outputs": [
    {
     "data": {
      "image/png": "[encoded data removed]",
      "text/plain": [
       "<Figure size 432x288 with 1 Axes>"
      ]
     },
     "metadata": {
      "needs_background": "light"
     },
     "output_type": "display_data"
    },
    {
     "name": "stdout",
     "output_type": "stream",
     "text": [
      "Площадь под ROC-кривой для модели логистической регрессии: 0.674\n",
      "Площадь под ROC-кривой для модели случайного леса: 0.845\n"
     ]
    }
   ],
   "source": [
    "#Расчет ROC-кривой для модели логистической регрессии:\n",
    "lr_unbalanced_proba = lr_unbalanced.predict_proba(features_valid)[:,1]\n",
    "(fpr_lr_unbalanced, \n",
    " tpr_lr_unbalanced, \n",
    " thresholds_lr_unbalanced) = roc_curve(target_valid, lr_unbalanced_proba)\n",
    "\n",
    "#Расчет ROC-кривой для модели случайного леса:\n",
    "rf_unbalanced_proba = rf_unbalanced.predict_proba(features_valid)[:,1]\n",
    "(fpr_rf_unbalanced, \n",
    " tpr_rf_unbalanced, \n",
    " thresholds_rf_unbalanced) = roc_curve(target_valid, rf_unbalanced_proba)\n",
    "\n",
    "#Поскольку построение и сравнение ROC-кривых будет повторено несколько раз, оформим это в виде функции:\n",
    "def roc_curve_plot(fpr_1, tpr_1, curve_1_name=None, fpr_2=None, tpr_2=None, curve_2_name=None):\n",
    "    #Построение графика для первого распределения:\n",
    "    plt.plot(fpr_1, tpr_1, label=curve_1_name)\n",
    "    #Проверка наличия второго распределения и построение графика для него:\n",
    "    try:\n",
    "        if fpr_2.any() & tpr_2.any():\n",
    "            plt.plot(fpr_2, tpr_2, label=curve_2_name)\n",
    "    except: print(f'\\033[91m Для второй модели введены неверные данные. Проверьте введенные данные.\\033[91m')\n",
    "    #Добавление диагонали и форматирование графика:    \n",
    "    plt.title(\"ROC-кривая\")\n",
    "    plt.plot([0,1], [0,1], 'r--')\n",
    "    plt.xlabel('FRP')\n",
    "    plt.ylabel('TPR')\n",
    "    plt.legend()\n",
    "    plt.show()\n",
    "    \n",
    "#Построение графика:\n",
    "roc_curve_plot(fpr_lr_unbalanced, tpr_lr_unbalanced, \"логистическая регрессия\",\n",
    "               fpr_rf_unbalanced, tpr_rf_unbalanced, \"случайный лес\")\n",
    "\n",
    "print(f\"\"\"Площадь под ROC-кривой для модели логистической регрессии: {\n",
    "    roc_auc_score(target_valid, lr_unbalanced_proba):0.3f}\"\"\")\n",
    "\n",
    "print(f\"\"\"Площадь под ROC-кривой для модели случайного леса: {\n",
    "    roc_auc_score(target_valid, rf_unbalanced_proba):0.3f}\"\"\")"
   ]
  },
  {
   "cell_type": "markdown",
   "metadata": {},
   "source": [
    "### Выводы"
   ]
  },
  {
   "cell_type": "markdown",
   "metadata": {},
   "source": [
    "Форма ROC-кривой и величина площади под ней подтверждают более высокую разделяющую способность модели случайного леса в сравнении с моделью логистической регрессии. Учитывая более высокое качество модели случайного леса, дальнейший анализ будет проведён для этого класса моделей.    \n",
    "Доля верных ответов для модели случайного леса превосходит параметры константной модели, значение F1-метрики при этом близко, но не превосходит заданный пороговый уровень.  \n",
    "\n",
    "Улучшение может быть достигнуто балансировкой выборки, взвешиванием функции ошибки при обучении моделей, подбором порога классификации, а также общим улучшением разделяющей способности модели (например, за счет подбора гиперпараметров)."
   ]
  },
  {
   "cell_type": "markdown",
   "metadata": {},
   "source": [
    "## Борьба с дисбалансом"
   ]
  },
  {
   "cell_type": "markdown",
   "metadata": {},
   "source": [
    "Как было указано выше улучшение F1-метрики возможно путем нескольких механизмов: балансировки выборки (пере-/недобалансировки, генерирования синтетических данных и т.п.), взвешивания функции ошибки обратно-пропорционально долям классов, а также улучшением модели в целом."
   ]
  },
  {
   "cell_type": "markdown",
   "metadata": {},
   "source": [
    "### Взвешивание функции ошибки"
   ]
  },
  {
   "cell_type": "markdown",
   "metadata": {},
   "source": [
    "Рассмотрим простейший способ борьбы с дисбалансом - взвешивание функции ошибки. Для это используем встроенные возможности модуля `scikit-learn` - аргумент `class_weight` при инициализации модели. Веса при функциях ошибка зададим обратно-пропорциональными частоте класса:"
   ]
  },
  {
   "cell_type": "code",
   "execution_count": 22,
   "metadata": {
    "scrolled": true
   },
   "outputs": [
    {
     "name": "stdout",
     "output_type": "stream",
     "text": [
      "Доля верных ответов (взвешивание функции ошибки): 0.855\n",
      "F1-метрика (взвешивание функции ошибки): 0.565\n",
      "Confussion matrix:\n",
      "[[1428   65]\n",
      " [ 206  176]]\n"
     ]
    }
   ],
   "source": [
    "#Инициализация модели (функция ошибки взвешена):\n",
    "rf_balanced = RandomForestClassifier(random_state=123, class_weight='balanced')\n",
    "#Обучение модели:\n",
    "rf_balanced.fit(features_train, target_train)\n",
    "\n",
    "#Расчет предсказаний модели для валидационных данных:\n",
    "predicted_valid_rf_balanced = rf_balanced.predict(features_valid)\n",
    "\n",
    "#Проверка качества модели:\n",
    "print_score(predicted_valid_rf_balanced, target_valid, \"взвешивание функции ошибки\")"
   ]
  },
  {
   "cell_type": "markdown",
   "metadata": {},
   "source": [
    "Взвешивание функции ошибки привело к ожидаемому снижению доли верных ответов, даваемых моделью, а также (неожидано) к снижению F1-метрики. Вероятно второй фактор связан с неудачным выбором порога классификации при обучении модели и может быть исправлен подбором такого порога.  \n",
    "Сравним ROC-кривые для несбалансированной модели и модели со взвешиванием функции ошибки:"
   ]
  },
  {
   "cell_type": "code",
   "execution_count": 23,
   "metadata": {},
   "outputs": [
    {
     "data": {
      "image/png": "[encoded data removed]",
      "text/plain": [
       "<Figure size 432x288 with 1 Axes>"
      ]
     },
     "metadata": {
      "needs_background": "light"
     },
     "output_type": "display_data"
    },
    {
     "name": "stdout",
     "output_type": "stream",
     "text": [
      "Площадь под ROC-кривой для модели без балансировки: 0.845\n",
      "Площадь под ROC-кривой для модели со взвешиванием функции ошибки: 0.844\n"
     ]
    }
   ],
   "source": [
    "#Расчет ROC-кривой для модели со взвешиванием функции ошибки:\n",
    "rf_balanced_proba = rf_balanced.predict_proba(features_valid)[:,1]\n",
    "(fpr_rf_balanced, \n",
    " tpr_rf_balanced, \n",
    " thresholds_rf_balanced\n",
    ") = roc_curve(target_valid, rf_balanced_proba)\n",
    "\n",
    "#Построение графика:\n",
    "roc_curve_plot(fpr_rf_unbalanced, tpr_rf_unbalanced, \"несбалансированная модель\",\n",
    "               fpr_rf_balanced, tpr_rf_balanced, \"веса функции ошибки взвешены\")\n",
    "\n",
    "#Площади под кривыми:\n",
    "print(f\"\"\"Площадь под ROC-кривой для модели без балансировки: {\n",
    "    roc_auc_score(target_valid, rf_unbalanced_proba):0.3f}\"\"\")\n",
    "\n",
    "print(f\"\"\"Площадь под ROC-кривой для модели со взвешиванием функции ошибки: {\n",
    "    roc_auc_score(target_valid, rf_balanced_proba):0.3f}\"\"\")"
   ]
  },
  {
   "cell_type": "code",
   "execution_count": 24,
   "metadata": {},
   "outputs": [
    {
     "data": {
      "text/plain": [
       "((95,), (95,))"
      ]
     },
     "execution_count": 24,
     "metadata": {},
     "output_type": "execute_result"
    }
   ],
   "source": [
    "tpr_rf_balanced.shape, thresholds_rf_balanced.shape"
   ]
  },
  {
   "cell_type": "markdown",
   "metadata": {},
   "source": [
    "ROC-кривые практически совпадают. Площадь под кривой для новой модели оказалась ниже чем для исходной, такое различие практически полностью может быть объяснено случайными факторами (см. колебания ROC-кривой).  \n",
    "На целевую F1-метрику помимо общего качества модели, влияет также соотношение классов. Можно показать, что:  \n",
    "    <p></br><center>$F1 = \\frac{2 \\cdot TPR}{1 + TPR + N / P \\cdot FPR }$</center> </p>\n",
    "\n",
    "где N - количество объектов отрицательного класса, а P - количество объектов положительного класса.  Рассмотрим зависимость F1-метрики моделей от FPR:"
   ]
  },
  {
   "cell_type": "code",
   "execution_count": 25,
   "metadata": {},
   "outputs": [
    {
     "data": {
      "image/png": "[encoded data removed]",
      "text/plain": [
       "<Figure size 1080x360 with 2 Axes>"
      ]
     },
     "metadata": {
      "needs_background": "light"
     },
     "output_type": "display_data"
    }
   ],
   "source": [
    "# Функция для рассчета F1-метрики на основе FPR, TPR и отношения чисел объектов в \"0\" и \"1\" классах\n",
    "def f1_from_roc(tpr, fpr, negative_positive_ratio=1):\n",
    "    f1 = 2 * tpr / (1 + tpr + negative_positive_ratio * fpr)\n",
    "    return f1\n",
    "\n",
    "fig, ax = plt.subplots(1,2, figsize=(15,5))\n",
    "i=0\n",
    "\n",
    "#Валидационная выборка несбалансирована поэтому negative_positive_ratio = 4 для всех моделей:\n",
    "for k, v in {'Сбалансированная выборка' : 1, 'Несбалансированная выборка' : 4}.items():\n",
    "    f1_rf_unbalanced = f1_from_roc(tpr_rf_unbalanced, fpr_rf_unbalanced, v)\n",
    "    f1_rf_balanced = f1_from_roc(tpr_rf_balanced, fpr_rf_balanced, v)\n",
    "    ax[i].plot(fpr_rf_unbalanced, f1_rf_unbalanced, label='исходная модель')\n",
    "    ax[i].plot(fpr_rf_balanced, f1_rf_balanced, label='взвешивание функции ошибки')\n",
    "    ax[i].set_title(k)\n",
    "    ax[i].set_xlabel(\"FPR\")\n",
    "    ax[i].set_ylabel(\"F1\")\n",
    "    ax[i].set_xlim(0,1)\n",
    "    ax[i].legend()\n",
    "    i += 1\n",
    "plt.show()"
   ]
  },
  {
   "cell_type": "markdown",
   "metadata": {},
   "source": [
    "Зависимости F1-метрики, также как и в случае ROC-кривых, практически совпадают. \n",
    "Можно видеть, что в случае несбалансированных данных (наш случай), максимум F1-метрики довольно острый и достигается при FPR около 0,15, в то время как для сбалансированной выборки маскимум сглажен и находится в области FPR 0,3-0,5. Таким образом, различия в ROC-кривых для наших несбалансированных данных могут находится в узкой области до 0,2 FPR, и, особенно учитывая небольшую величину таких различий, будут вносить очень небольшой вклад в площадь под ROC-кривой.  \n",
    "\n",
    "Также следует отметить, что на всех кривых заметны небольшие колебания, которые могут препятствовать нахождению глобального максимума F1-метрики при подборе порога классификации."
   ]
  },
  {
   "cell_type": "markdown",
   "metadata": {},
   "source": [
    "### Балансирование выборки (under- и oversampling)"
   ]
  },
  {
   "cell_type": "markdown",
   "metadata": {},
   "source": [
    "Распределение классов может быть отчасти сбалансировано либо за счет уменьшения количества объектов большего класса (случайная подвыборка из них) либо за счет повторения объектов меньшего класса.  \n",
    "Рассмотрим уменьшение количества объектов большего класса (undersampling):"
   ]
  },
  {
   "cell_type": "code",
   "execution_count": 26,
   "metadata": {},
   "outputs": [],
   "source": [
    "#Функция для уменьшения числа объектов нулевого класса. \n",
    "#Предусмотрим возможность выбора определенной доли объектов нулевого класса:\n",
    "\n",
    "def downsample(features, target, fraction=None):\n",
    "    features_zeros = features[target == 0]\n",
    "    features_ones = features[target == 1]\n",
    "    target_zeros = target[target == 0]\n",
    "    target_ones = target[target == 1]\n",
    "    \n",
    "    #Если доля не указана, зададим её как отношение количеств объектов в обоих классах:\n",
    "    if not fraction:\n",
    "        fraction = len(target_ones) / len(target_zeros)\n",
    "    \n",
    "    features_downsampled = pd.concat(\n",
    "        [features_zeros.sample(frac=fraction, random_state=12345)] + [features_ones])\n",
    "    target_downsampled = pd.concat(\n",
    "        [target_zeros.sample(frac=fraction, random_state=12345)] + [target_ones])\n",
    "    \n",
    "    features_downsampled, target_downsampled = shuffle(\n",
    "        features_downsampled, target_downsampled, random_state=12345)\n",
    "    \n",
    "    return features_downsampled, target_downsampled\n",
    "\n",
    "#Формирование обучающей выборки:\n",
    "features_downsampled, target_downsampled = downsample(features_train, target_train)"
   ]
  },
  {
   "cell_type": "code",
   "execution_count": 27,
   "metadata": {
    "scrolled": true
   },
   "outputs": [
    {
     "name": "stdout",
     "output_type": "stream",
     "text": [
      "Доля верных ответов (недовыборка большого класса (undersampling)): 0.768\n",
      "F1-метрика (недовыборка большого класса (undersampling)): 0.568\n",
      "Confussion matrix:\n",
      "[[1154  339]\n",
      " [  96  286]]\n"
     ]
    }
   ],
   "source": [
    "#Инициализация и обучение модели:\n",
    "rf_balanced_undersampled = RandomForestClassifier(random_state=123)\n",
    "rf_balanced_undersampled.fit(features_downsampled, target_downsampled)\n",
    "\n",
    "#Проверка качества модели:\n",
    "predicted_valid_rf_balanced_under = rf_balanced_undersampled.predict(features_valid)\n",
    "print_score(predicted_valid_rf_balanced_under, target_valid,\n",
    "            \"недовыборка большого класса (undersampling)\")"
   ]
  },
  {
   "cell_type": "markdown",
   "metadata": {},
   "source": [
    "Качество модели существенно снизилось. Уменьшилась как доля верных ответов, так и F1-метрика. Таким образом, undersampling в данной задаче не является подходящим методом.  \n",
    "Рассмотрим балансировку за счёт повторения объектов меньшего класса (oversampling):"
   ]
  },
  {
   "cell_type": "code",
   "execution_count": 28,
   "metadata": {},
   "outputs": [],
   "source": [
    "#Функция для увеличения числа объектов первого класса. \n",
    "#Предусмотрим возможность выбора определенного числа повторений объектов первого класса:\n",
    "\n",
    "def upsample(features, target, repeat=None):\n",
    "    features_zeros = features[target == 0]\n",
    "    features_ones = features[target == 1]\n",
    "    target_zeros = target[target == 0]\n",
    "    target_ones = target[target == 1]\n",
    "    \n",
    "    #Если доля не указана, зададим её как отношение количеств объектов в обоих классах:\n",
    "    if not repeat:\n",
    "        repeat =  int(len(target_zeros)/len(target_ones))\n",
    "    \n",
    "    features_upsampled = pd.concat([features_zeros] + [features_ones] * repeat)\n",
    "    target_upsampled = pd.concat([target_zeros] + [target_ones] * repeat)\n",
    "    \n",
    "    features_upsampled, target_upsampled = shuffle(\n",
    "        features_upsampled, target_upsampled, random_state=12345)\n",
    "    \n",
    "    return features_upsampled, target_upsampled\n",
    "\n",
    "#Формирование обучающей выборки:\n",
    "features_upsampled, target_upsampled = upsample(features_train, target_train)"
   ]
  },
  {
   "cell_type": "code",
   "execution_count": 29,
   "metadata": {
    "scrolled": true
   },
   "outputs": [
    {
     "name": "stdout",
     "output_type": "stream",
     "text": [
      "Доля верных ответов (повторение экземпляров меньшего класса (oversampling)): 0.839\n",
      "F1-метрика (повторение экземпляров меньшего класса (oversampling)): 0.589\n",
      "Confussion matrix:\n",
      "[[1358  135]\n",
      " [ 166  216]]\n"
     ]
    }
   ],
   "source": [
    "#Инициализация и обучение модели:\n",
    "rf_balanced_oversampled = RandomForestClassifier(random_state=123)\n",
    "rf_balanced_oversampled.fit(features_upsampled, target_upsampled)\n",
    "\n",
    "#Проверка качества модели:\n",
    "predicted_valid_rf_balanced_over = rf_balanced_oversampled.predict(features_valid)\n",
    "print_score(predicted_valid_rf_balanced_over, target_valid, \n",
    "            \"повторение экземпляров меньшего класса (oversampling)\")"
   ]
  },
  {
   "cell_type": "markdown",
   "metadata": {},
   "source": [
    "Качество модели возросло. Значительно (с 0,571 до 0,589) выросло значение F1-метрики, а доля верных ответов снизилась в меньшей степени.  \n",
    "Сравним ROC-кривые для моделей со взвешиванием фукнции ошибки и с обучением на выборке с повторениями меньшего класса:"
   ]
  },
  {
   "cell_type": "code",
   "execution_count": 30,
   "metadata": {
    "scrolled": true
   },
   "outputs": [
    {
     "data": {
      "image/png": "[encoded data removed]",
      "text/plain": [
       "<Figure size 432x288 with 1 Axes>"
      ]
     },
     "metadata": {
      "needs_background": "light"
     },
     "output_type": "display_data"
    },
    {
     "name": "stdout",
     "output_type": "stream",
     "text": [
      "Площадь под ROC-кривой для модели со взвешиванием ф. ошибки: 0.844\n",
      "Площадь под ROC-кривой для \"oversampled\" модели: 0.841\n"
     ]
    }
   ],
   "source": [
    "rf_balanced_over_proba = rf_balanced_oversampled.predict_proba(features_valid)[:,1]\n",
    "\n",
    "(fpr_rf_balanced_over, \n",
    " tpr_rf_balanced_over, \n",
    " thresholds_rf_balanced_over) = roc_curve(target_valid, rf_balanced_over_proba)\n",
    "\n",
    "roc_curve_plot(fpr_rf_balanced, tpr_rf_balanced, \"взвешивание функции ошибки\",\n",
    "               fpr_rf_balanced_over, tpr_rf_balanced_over, \"повторение экземпляров меньшего класса\")\n",
    "\n",
    "print(f\"\"\"Площадь под ROC-кривой для модели со взвешиванием ф. ошибки: {\n",
    "    roc_auc_score(target_valid, rf_balanced_proba):0.3f}\"\"\")\n",
    "print(f\"\"\"Площадь под ROC-кривой для \"oversampled\" модели: {\n",
    "    roc_auc_score(target_valid, rf_balanced_over_proba):0.3f}\"\"\")"
   ]
  },
  {
   "cell_type": "markdown",
   "metadata": {},
   "source": [
    "ROC-кривые снова оказываются очень близки, площади под ROC-кривой для обоих моделей практически \n",
    "совпадают. Рассмотрим зависимость F1-метрики от FPR для этих моделей:"
   ]
  },
  {
   "cell_type": "code",
   "execution_count": 31,
   "metadata": {},
   "outputs": [
    {
     "data": {
      "image/png": "[encoded data removed]",
      "text/plain": [
       "<Figure size 432x288 with 1 Axes>"
      ]
     },
     "metadata": {
      "needs_background": "light"
     },
     "output_type": "display_data"
    }
   ],
   "source": [
    "f1_rf_balanced = f1_from_roc(tpr_rf_balanced, fpr_rf_balanced, 4)\n",
    "f1_rf_balanced_over = f1_from_roc(tpr_rf_balanced_over, fpr_rf_balanced_over, 4)\n",
    "\n",
    "plt.plot(fpr_rf_balanced_over, f1_rf_balanced_over, label='oversampling')\n",
    "plt.plot(fpr_rf_balanced, f1_rf_balanced, label='взвешивание функ. ошибки')\n",
    "\n",
    "plt.xlabel(\"FPR\")\n",
    "plt.ylabel(\"F1\")\n",
    "plt.legend()\n",
    "plt.show()"
   ]
  },
  {
   "cell_type": "markdown",
   "metadata": {},
   "source": [
    "Зависимости также очень близки, а значит подбором правильного порога можно добиться практически одинаковой F1-метрики. На обеих кривых присутствуют колебания, однако кривая для модели, обученной на выборке с повторениями, более гладкая, а поэтому вероятность попасть в локальный максимум при подборе порога классификации для неё ниже, чем для модели со взвешиванием фукнции ошибки.  \n",
    "\n",
    "Таким образом, для дальнейшей оптимизации следует выбрать **модель случайного леса, с повторениями положительного класса в выборке**."
   ]
  },
  {
   "cell_type": "markdown",
   "metadata": {},
   "source": [
    "### Оптимизация гиперпараметров модели и настройка порога классификации"
   ]
  },
  {
   "cell_type": "markdown",
   "metadata": {},
   "source": [
    "F1-метрика может быть улучшена за счет улучшения общего качества моделей. Воспользуемся для этого подбором гиперпараметров модели."
   ]
  },
  {
   "cell_type": "code",
   "execution_count": 32,
   "metadata": {},
   "outputs": [
    {
     "name": "stdout",
     "output_type": "stream",
     "text": [
      "0.601\n"
     ]
    }
   ],
   "source": [
    "best_score = 0\n",
    "best_model = None\n",
    "    \n",
    "for n_estimators in [75, 100, 125]:\n",
    "    for max_depth in [None, 5, 10, 15]:\n",
    "        for min_samples_leaf in [1, 2, 3]:\n",
    "            model = RandomForestClassifier(n_estimators,\n",
    "                                           max_depth=max_depth,\n",
    "                                           min_samples_leaf=min_samples_leaf,\n",
    "                                           random_state=123)\n",
    "            \n",
    "            model.fit(features_train, target_train)\n",
    "            score = f1_score(target_valid, model.predict(features_valid))\n",
    "            if score > best_score:\n",
    "                best_score = score\n",
    "                best_model = model\n",
    "\n",
    "print(f\"{best_score:0.3f}\")"
   ]
  },
  {
   "cell_type": "markdown",
   "metadata": {},
   "source": [
    "F1-метрика улучшена с 0,589 до 0,601. Требуемый уровень достигнут на валидационной выборке, однако превышение порогового значения довольно мало (0,01). Для уверенного прохождения превышения порога на тестовой выборке можно дополнительно повысить F1-метрику. Проверим зависимость F1-метрики от FPR:"
   ]
  },
  {
   "cell_type": "code",
   "execution_count": 33,
   "metadata": {
    "scrolled": true
   },
   "outputs": [
    {
     "data": {
      "image/png": "[encoded data removed]",
      "text/plain": [
       "<Figure size 432x288 with 1 Axes>"
      ]
     },
     "metadata": {
      "needs_background": "light"
     },
     "output_type": "display_data"
    }
   ],
   "source": [
    "best_model_proba = best_model.predict_proba(features_valid)[:,1]\n",
    "\n",
    "(fpr_best_model, \n",
    " tpr_best_model, \n",
    " thresholds_best_model) = roc_curve(target_valid, best_model_proba)\n",
    "\n",
    "f1_best_model = f1_from_roc(tpr_best_model, fpr_best_model, 4)\n",
    "\n",
    "plt.plot(fpr_rf_balanced_over, f1_rf_balanced_over, label='oversampling')\n",
    "plt.plot(fpr_best_model, f1_best_model, label='подбор гиперпараметров')\n",
    "\n",
    "plt.xlabel(\"FPR\")\n",
    "plt.ylabel(\"F1-метрика\")\n",
    "plt.xlim(0,1)\n",
    "plt.legend()\n",
    "plt.show()"
   ]
  },
  {
   "cell_type": "markdown",
   "metadata": {},
   "source": [
    "Видно что модель, полученная подбором гиперпараметров, позволяет достичь более высокого значения F1-метрики, а кроме того, максимум достигается при меньшей доле ложноположительных ответов. Подберем порог классификации, обеспечивающий максимальное значение F1-метрики:"
   ]
  },
  {
   "cell_type": "code",
   "execution_count": 34,
   "metadata": {
    "scrolled": true
   },
   "outputs": [
    {
     "name": "stdout",
     "output_type": "stream",
     "text": [
      "Лучший порог найдён\n",
      "Значение лучшего порога: 0.366\n",
      "F1-метрика при лучшем пороге: 0.614\n",
      "Доля верных ответов модели: 0.863\n"
     ]
    }
   ],
   "source": [
    "best_score = 0.1\n",
    "best_threshold = 0.5\n",
    "\n",
    "for threshold in np.linspace(0.2, 0.6, 100):\n",
    "    prediction_probas_valid = best_model.predict_proba(features_valid)[:,1] > threshold\n",
    "    score = f1_score(target_valid, prediction_probas_valid)\n",
    "    if score > best_score:\n",
    "        best_score = score\n",
    "        best_threshold = threshold\n",
    "if best_score > 0.6:\n",
    "    print(\"Лучший порог найдён\")\n",
    "    print(f\"Значение лучшего порога: {best_threshold:0.3f}\")\n",
    "    print(f\"F1-метрика при лучшем пороге: {best_score:0.3f}\")\n",
    "    print(f\"Доля верных ответов модели: {accuracy_score(target_valid, prediction_probas_valid):0.3f}\")\n",
    "else:\n",
    "    print(\"Лучший порог не обнаружен\")"
   ]
  },
  {
   "cell_type": "markdown",
   "metadata": {},
   "source": [
    "Подбором порога удалось увеличить целевую метрику дополнительно на 0,013. Итоговая модель по величине F1-метрики уверено превосходит пороговое значение. Доля верных ответов при этом превосходит как результаты константной модели, так и результаты модели, обученной без учета дисбаланса классов и оптимизации гиперпараметров."
   ]
  },
  {
   "cell_type": "markdown",
   "metadata": {},
   "source": [
    "### Выводы"
   ]
  },
  {
   "cell_type": "markdown",
   "metadata": {},
   "source": [
    "1. Использование различных способов борьбы с дисбалансом (взвешивание функции ошибок, пере- и недо-выборка) приводит к снижению доли верных ответов и повышению точности предсказания меньшего класса.  \n",
    "2. Балансировка обучающей выборки приводит лишь к незначительному изменению ROC-кривой, в результате чего площадь под кривой остаётся практически неизменной.\n",
    "3. Среди проанализированных способов лучший результат дало повторение объектов меньшего класса. Это можно объяснить сглаживанием ROC-кривой за счет увеличения выборки, что позволяет более точно отыскивать лучший порог (без попадания в локальные максимумы).\n",
    "4. Оптимизация гиперпараметров модели позволяет одновременно улучшать долю верных ответов и качество предсказания малого положительного класса (F1-метрику).\n",
    "5. Сочетание увеличенной выборки, подбора гиперпараметров и настройки порога классификации даёт наилучший результат в отношении F1-метрики."
   ]
  },
  {
   "cell_type": "markdown",
   "metadata": {},
   "source": [
    "## Тестирование модели"
   ]
  },
  {
   "cell_type": "markdown",
   "metadata": {},
   "source": [
    "Проверим качество модели на тестовых данных. Рассчитаем значение основные метрики модели и сравним их с предсказаниями более простой модели. Для сравнения возьмем модель случайного леса, обученную на выборке без балансировки:"
   ]
  },
  {
   "cell_type": "code",
   "execution_count": 35,
   "metadata": {
    "scrolled": true
   },
   "outputs": [
    {
     "name": "stdout",
     "output_type": "stream",
     "text": [
      "Доля верных ответов (лучшая модель, тестовая выборка): 0.852\n",
      "F1-метрика (лучшая модель, тестовая выборка): 0.631\n",
      "Confussion matrix:\n",
      "[[1812  179]\n",
      " [ 192  317]]\n",
      "\n",
      "Доля верных ответов (случайный лес, без балансировки, тестовая выборка): 0.863\n",
      "F1-метрика (случайный лес, без балансировки, тестовая выборка): 0.593\n",
      "Confussion matrix:\n",
      "[[1909   82]\n",
      " [ 260  249]]\n"
     ]
    }
   ],
   "source": [
    "#Предсказание лучшей модели:\n",
    "predictions = best_model.predict_proba(features_test)[:,1] > best_threshold\n",
    "#Предсказание модели, обученной на несбалансированных данных:\n",
    "predictions_rf_unbalanced = rf_unbalanced.predict(features_test)\n",
    "\n",
    "#Метрики качества моделей:\n",
    "print_score(predictions, target_test, \"лучшая модель, тестовая выборка\")\n",
    "print()\n",
    "print_score(predictions_rf_unbalanced, target_test, \"случайный лес, без балансировки, тестовая выборка\")"
   ]
  },
  {
   "cell_type": "markdown",
   "metadata": {},
   "source": [
    "Обе модели дают верные ответы чаще чем константная модель (доля верных ответов больше 0,8). Модель, обученная на сбалансированных данных, показывает лучшее значение F1-метрики, частично за счет уменьшения доли верных ответов (количество ложноположительных ответов возрасло больше чем уменьшилось количество ложноотрицательных)."
   ]
  },
  {
   "cell_type": "markdown",
   "metadata": {},
   "source": [
    "Сравним ROC-кривые моделей:"
   ]
  },
  {
   "cell_type": "code",
   "execution_count": 36,
   "metadata": {},
   "outputs": [
    {
     "data": {
      "image/png": "[encoded data removed]",
      "text/plain": [
       "<Figure size 432x288 with 1 Axes>"
      ]
     },
     "metadata": {
      "needs_background": "light"
     },
     "output_type": "display_data"
    },
    {
     "name": "stdout",
     "output_type": "stream",
     "text": [
      "Площадь под ROC-кривой для модели без балансировки и оптимизации: 0.849\n",
      "Площадь под ROC-кривой для лучшей модели: 0.857\n"
     ]
    }
   ],
   "source": [
    "#Расчет ROC-кривой для лучшей модели:\n",
    "(fpr_best_model, \n",
    " tpr_best_model, \n",
    " thresholds_rf_unbalanced) = roc_curve(target_test, best_model.predict_proba(features_test)[:,1])\n",
    "#Построение графика:\n",
    "roc_curve_plot(fpr_rf_unbalanced, tpr_rf_unbalanced, \"случайный лес, без балансировки\", \n",
    "               fpr_best_model, tpr_best_model, \"лучшая модель\",)\n",
    "\n",
    "print(f\"\"\"Площадь под ROC-кривой для модели без балансировки и оптимизации: {\n",
    "    roc_auc_score(target_test, rf_unbalanced.predict_proba(features_test)[:,1]):0.3f}\"\"\")\n",
    "print(f\"\"\"Площадь под ROC-кривой для лучшей модели: {\n",
    "    roc_auc_score(target_test, best_model.predict_proba(features_test)[:,1]):0.3f}\"\"\")"
   ]
  },
  {
   "cell_type": "markdown",
   "metadata": {},
   "source": [
    "Лучшая модель имеет несколько большее значение AUC ROC. Такое различие объяснимо подбором гиперпараметров для лучшей модели."
   ]
  },
  {
   "cell_type": "markdown",
   "metadata": {},
   "source": [
    "## Выводы"
   ]
  },
  {
   "cell_type": "markdown",
   "metadata": {},
   "source": [
    "1. Найдена адекватная модель (доля верных ответов лучше константной), обеспечивающая превышение заданного порога F1-метрики на тестовой выборке.\n",
    "2. Лучшим способом борьбы с дисбалансом классов является улучшение общего качества модели (например за счет подбора гиперпараметров).\n",
    "3. Точность предсказания недостаточно представленного класса может быть увеличена за счет балансировки выборки, взвешивания функции ошибки при обучении моделей, подбора порога классификации. Однако увеличение точности предсказания меньшего класса достигается при этом за счет снижения точности предсказания большего из классов (снижение доли ложноотрицательных результатов приводит к большему увеличению доли ложноположительных).\n",
    "4. Учитывая п. 3, необходимо взвешено подходить к борьбе и дисбалансом и правильно оценивать стоимость неправильных ответов обоих типов."
   ]
  }
 ],
 "metadata": {
  "ExecuteTimeLog": [
   {
    "duration": 1488,
    "start_time": "2022-06-04T18:44:33.668Z"
   },
   {
    "duration": 85,
    "start_time": "2022-06-04T18:45:37.284Z"
   },
   {
    "duration": 53,
    "start_time": "2022-06-04T18:46:07.385Z"
   },
   {
    "duration": 4,
    "start_time": "2022-06-04T18:47:05.219Z"
   },
   {
    "duration": 120,
    "start_time": "2022-06-04T18:50:05.810Z"
   },
   {
    "duration": 4,
    "start_time": "2022-06-04T18:50:25.095Z"
   },
   {
    "duration": 13,
    "start_time": "2022-06-04T18:50:31.587Z"
   },
   {
    "duration": 2,
    "start_time": "2022-06-04T18:51:42.837Z"
   },
   {
    "duration": 25,
    "start_time": "2022-06-04T18:52:58.724Z"
   },
   {
    "duration": 6,
    "start_time": "2022-06-04T18:53:05.027Z"
   },
   {
    "duration": 18,
    "start_time": "2022-06-04T18:53:30.145Z"
   },
   {
    "duration": 1230,
    "start_time": "2022-06-04T18:54:50.183Z"
   },
   {
    "duration": 12,
    "start_time": "2022-06-04T18:55:10.221Z"
   },
   {
    "duration": 9,
    "start_time": "2022-06-04T18:56:09.179Z"
   },
   {
    "duration": 10,
    "start_time": "2022-06-04T18:56:13.015Z"
   },
   {
    "duration": 5,
    "start_time": "2022-06-04T18:56:18.037Z"
   },
   {
    "duration": 5,
    "start_time": "2022-06-04T18:56:29.423Z"
   },
   {
    "duration": 5,
    "start_time": "2022-06-04T18:56:38.800Z"
   },
   {
    "duration": 3,
    "start_time": "2022-06-04T18:56:49.894Z"
   },
   {
    "duration": 18,
    "start_time": "2022-06-04T18:57:23.944Z"
   },
   {
    "duration": 16,
    "start_time": "2022-06-04T18:57:31.476Z"
   },
   {
    "duration": 3,
    "start_time": "2022-06-04T18:57:52.314Z"
   },
   {
    "duration": 10912,
    "start_time": "2022-06-04T18:57:59.474Z"
   },
   {
    "duration": 29,
    "start_time": "2022-06-04T18:58:12.645Z"
   },
   {
    "duration": 23,
    "start_time": "2022-06-04T18:58:18.295Z"
   },
   {
    "duration": 17,
    "start_time": "2022-06-04T18:59:09.264Z"
   },
   {
    "duration": 63619,
    "start_time": "2022-06-04T19:01:28.787Z"
   },
   {
    "duration": 20,
    "start_time": "2022-06-04T19:02:36.847Z"
   },
   {
    "duration": 14,
    "start_time": "2022-06-04T19:02:39.329Z"
   },
   {
    "duration": 78143,
    "start_time": "2022-06-04T19:02:57.579Z"
   },
   {
    "duration": 12,
    "start_time": "2022-06-04T19:04:15.724Z"
   },
   {
    "duration": 12,
    "start_time": "2022-06-04T19:08:29.584Z"
   },
   {
    "duration": 22,
    "start_time": "2022-06-04T19:08:35.017Z"
   },
   {
    "duration": 6,
    "start_time": "2022-06-04T19:09:09.310Z"
   },
   {
    "duration": 43,
    "start_time": "2022-06-04T19:10:02.448Z"
   },
   {
    "duration": 27,
    "start_time": "2022-06-04T19:10:06.128Z"
   },
   {
    "duration": 43,
    "start_time": "2022-06-04T19:10:20.138Z"
   },
   {
    "duration": 8,
    "start_time": "2022-06-04T19:13:13.510Z"
   },
   {
    "duration": 7,
    "start_time": "2022-06-04T19:13:28.618Z"
   },
   {
    "duration": 7,
    "start_time": "2022-06-04T19:13:39.390Z"
   },
   {
    "duration": 7,
    "start_time": "2022-06-04T19:13:45.690Z"
   },
   {
    "duration": 12,
    "start_time": "2022-06-04T19:16:00.206Z"
   },
   {
    "duration": 5,
    "start_time": "2022-06-04T19:16:04.377Z"
   },
   {
    "duration": 11,
    "start_time": "2022-06-04T19:16:14.839Z"
   },
   {
    "duration": 9,
    "start_time": "2022-06-04T19:17:13.411Z"
   },
   {
    "duration": 20,
    "start_time": "2022-06-04T19:19:02.653Z"
   },
   {
    "duration": 10,
    "start_time": "2022-06-04T19:19:11.952Z"
   },
   {
    "duration": 20,
    "start_time": "2022-06-04T19:19:24.398Z"
   },
   {
    "duration": 36,
    "start_time": "2022-06-04T19:19:52.046Z"
   },
   {
    "duration": 24671,
    "start_time": "2022-06-04T19:20:36.370Z"
   },
   {
    "duration": 43,
    "start_time": "2022-06-04T19:21:05.720Z"
   },
   {
    "duration": 10,
    "start_time": "2022-06-04T19:21:10.033Z"
   },
   {
    "duration": 5,
    "start_time": "2022-06-04T19:21:12.573Z"
   },
   {
    "duration": 22,
    "start_time": "2022-06-04T19:21:15.818Z"
   },
   {
    "duration": 4,
    "start_time": "2022-06-04T19:21:39.717Z"
   },
   {
    "duration": 36,
    "start_time": "2022-06-04T19:21:41.563Z"
   },
   {
    "duration": 12,
    "start_time": "2022-06-04T19:21:46.201Z"
   },
   {
    "duration": 6,
    "start_time": "2022-06-04T19:21:48.843Z"
   },
   {
    "duration": 54725,
    "start_time": "2022-06-04T19:21:51.799Z"
   },
   {
    "duration": 8,
    "start_time": "2022-06-04T19:22:46.526Z"
   },
   {
    "duration": 9,
    "start_time": "2022-06-04T19:22:53.008Z"
   },
   {
    "duration": 54477,
    "start_time": "2022-06-04T19:22:57.936Z"
   },
   {
    "duration": 12,
    "start_time": "2022-06-04T19:24:12.603Z"
   },
   {
    "duration": 15,
    "start_time": "2022-06-04T19:26:18.777Z"
   },
   {
    "duration": 39,
    "start_time": "2022-06-04T19:26:23.471Z"
   },
   {
    "duration": 10,
    "start_time": "2022-06-04T19:26:28.834Z"
   },
   {
    "duration": 5,
    "start_time": "2022-06-04T19:26:31.981Z"
   },
   {
    "duration": 22,
    "start_time": "2022-06-04T19:26:37.164Z"
   },
   {
    "duration": 14,
    "start_time": "2022-06-04T19:29:11.948Z"
   },
   {
    "duration": 6,
    "start_time": "2022-06-04T19:29:16.165Z"
   },
   {
    "duration": 4,
    "start_time": "2022-06-04T19:33:22.084Z"
   },
   {
    "duration": 5,
    "start_time": "2022-06-04T19:33:27.887Z"
   },
   {
    "duration": 7,
    "start_time": "2022-06-04T19:34:00.287Z"
   },
   {
    "duration": 9,
    "start_time": "2022-06-04T19:35:25.685Z"
   },
   {
    "duration": 4,
    "start_time": "2022-06-04T19:35:28.455Z"
   },
   {
    "duration": 4,
    "start_time": "2022-06-04T19:35:39.302Z"
   },
   {
    "duration": 8,
    "start_time": "2022-06-04T19:35:43.625Z"
   },
   {
    "duration": 3,
    "start_time": "2022-06-04T19:35:47.689Z"
   },
   {
    "duration": 5,
    "start_time": "2022-06-04T19:36:33.312Z"
   },
   {
    "duration": 21,
    "start_time": "2022-06-04T19:40:00.032Z"
   },
   {
    "duration": 33,
    "start_time": "2022-06-04T19:40:12.792Z"
   },
   {
    "duration": 7,
    "start_time": "2022-06-04T19:41:54.034Z"
   },
   {
    "duration": 1379,
    "start_time": "2022-06-06T09:33:28.218Z"
   },
   {
    "duration": 90,
    "start_time": "2022-06-06T09:33:29.775Z"
   },
   {
    "duration": 17,
    "start_time": "2022-06-06T09:33:33.265Z"
   },
   {
    "duration": 5,
    "start_time": "2022-06-06T09:33:36.355Z"
   },
   {
    "duration": 34,
    "start_time": "2022-06-06T09:33:38.608Z"
   },
   {
    "duration": 6,
    "start_time": "2022-06-06T09:40:06.768Z"
   },
   {
    "duration": 9,
    "start_time": "2022-06-06T09:40:22.404Z"
   },
   {
    "duration": 14,
    "start_time": "2022-06-06T09:43:00.308Z"
   },
   {
    "duration": 14,
    "start_time": "2022-06-06T09:43:09.357Z"
   },
   {
    "duration": 91,
    "start_time": "2022-06-06T09:46:27.608Z"
   },
   {
    "duration": 33,
    "start_time": "2022-06-06T09:49:41.667Z"
   },
   {
    "duration": 123,
    "start_time": "2022-06-06T09:51:14.520Z"
   },
   {
    "duration": 52,
    "start_time": "2022-06-06T09:51:20.426Z"
   },
   {
    "duration": 4,
    "start_time": "2022-06-06T10:00:13.059Z"
   },
   {
    "duration": 3,
    "start_time": "2022-06-06T10:00:34.663Z"
   },
   {
    "duration": 562,
    "start_time": "2022-06-06T10:02:03.939Z"
   },
   {
    "duration": 529,
    "start_time": "2022-06-06T10:02:16.392Z"
   },
   {
    "duration": 5,
    "start_time": "2022-06-06T10:02:27.125Z"
   },
   {
    "duration": 935,
    "start_time": "2022-06-06T10:02:30.271Z"
   },
   {
    "duration": 787,
    "start_time": "2022-06-06T10:02:50.448Z"
   },
   {
    "duration": 842,
    "start_time": "2022-06-06T10:03:08.692Z"
   },
   {
    "duration": 470,
    "start_time": "2022-06-06T10:03:25.630Z"
   },
   {
    "duration": 436,
    "start_time": "2022-06-06T10:19:42.117Z"
   },
   {
    "duration": 837,
    "start_time": "2022-06-06T10:20:00.010Z"
   },
   {
    "duration": 31,
    "start_time": "2022-06-06T10:34:15.232Z"
   },
   {
    "duration": 33,
    "start_time": "2022-06-06T10:35:10.115Z"
   },
   {
    "duration": 6,
    "start_time": "2022-06-06T10:44:21.197Z"
   },
   {
    "duration": 10,
    "start_time": "2022-06-06T10:44:28.783Z"
   },
   {
    "duration": 4,
    "start_time": "2022-06-06T10:44:32.413Z"
   },
   {
    "duration": 57,
    "start_time": "2022-06-06T10:46:35.351Z"
   },
   {
    "duration": 19,
    "start_time": "2022-06-06T10:50:21.598Z"
   },
   {
    "duration": 13,
    "start_time": "2022-06-06T10:50:47.644Z"
   },
   {
    "duration": 7,
    "start_time": "2022-06-06T10:51:40.641Z"
   },
   {
    "duration": 4,
    "start_time": "2022-06-06T10:51:47.489Z"
   },
   {
    "duration": 10,
    "start_time": "2022-06-06T10:51:56.631Z"
   },
   {
    "duration": 16,
    "start_time": "2022-06-06T10:53:00.028Z"
   },
   {
    "duration": 10,
    "start_time": "2022-06-06T10:53:03.080Z"
   },
   {
    "duration": 32,
    "start_time": "2022-06-06T10:53:47.120Z"
   },
   {
    "duration": 15,
    "start_time": "2022-06-06T10:54:01.366Z"
   },
   {
    "duration": 8,
    "start_time": "2022-06-06T10:54:14.319Z"
   },
   {
    "duration": 14,
    "start_time": "2022-06-06T10:54:26.890Z"
   },
   {
    "duration": 33,
    "start_time": "2022-06-06T10:54:31.787Z"
   },
   {
    "duration": 26,
    "start_time": "2022-06-06T10:54:37.677Z"
   },
   {
    "duration": 9,
    "start_time": "2022-06-06T10:55:09.680Z"
   },
   {
    "duration": 5,
    "start_time": "2022-06-06T10:55:13.006Z"
   },
   {
    "duration": 5,
    "start_time": "2022-06-06T10:56:52.686Z"
   },
   {
    "duration": 40,
    "start_time": "2022-06-06T10:58:09.357Z"
   },
   {
    "duration": 12,
    "start_time": "2022-06-06T10:58:15.890Z"
   },
   {
    "duration": 10,
    "start_time": "2022-06-06T10:58:26.179Z"
   },
   {
    "duration": 19,
    "start_time": "2022-06-06T10:58:41.108Z"
   },
   {
    "duration": 13,
    "start_time": "2022-06-06T10:59:02.383Z"
   },
   {
    "duration": 15,
    "start_time": "2022-06-06T10:59:28.214Z"
   },
   {
    "duration": 763,
    "start_time": "2022-06-06T11:00:55.710Z"
   },
   {
    "duration": 15,
    "start_time": "2022-06-06T11:02:45.082Z"
   },
   {
    "duration": 10,
    "start_time": "2022-06-06T11:04:13.448Z"
   },
   {
    "duration": 3,
    "start_time": "2022-06-06T11:04:20.645Z"
   },
   {
    "duration": 14,
    "start_time": "2022-06-06T11:05:13.138Z"
   },
   {
    "duration": 10,
    "start_time": "2022-06-06T11:06:14.882Z"
   },
   {
    "duration": 12,
    "start_time": "2022-06-06T11:06:22.791Z"
   },
   {
    "duration": 16,
    "start_time": "2022-06-06T11:06:34.178Z"
   },
   {
    "duration": 20,
    "start_time": "2022-06-06T11:07:04.027Z"
   },
   {
    "duration": 1219,
    "start_time": "2022-06-06T11:07:15.390Z"
   },
   {
    "duration": 47,
    "start_time": "2022-06-06T11:07:16.611Z"
   },
   {
    "duration": 12,
    "start_time": "2022-06-06T11:07:16.660Z"
   },
   {
    "duration": 4,
    "start_time": "2022-06-06T11:07:16.674Z"
   },
   {
    "duration": 24,
    "start_time": "2022-06-06T11:07:16.680Z"
   },
   {
    "duration": 21,
    "start_time": "2022-06-06T11:07:16.706Z"
   },
   {
    "duration": 34,
    "start_time": "2022-06-06T11:07:16.729Z"
   },
   {
    "duration": 901,
    "start_time": "2022-06-06T11:07:16.765Z"
   },
   {
    "duration": 162,
    "start_time": "2022-06-06T11:07:17.668Z"
   },
   {
    "duration": 8,
    "start_time": "2022-06-06T11:07:17.832Z"
   },
   {
    "duration": 33,
    "start_time": "2022-06-06T11:07:17.842Z"
   },
   {
    "duration": 66,
    "start_time": "2022-06-06T11:07:17.877Z"
   },
   {
    "duration": 3,
    "start_time": "2022-06-06T11:07:17.944Z"
   },
   {
    "duration": 13,
    "start_time": "2022-06-06T11:07:17.949Z"
   },
   {
    "duration": 13,
    "start_time": "2022-06-06T11:07:17.963Z"
   },
   {
    "duration": 61059,
    "start_time": "2022-06-06T11:07:17.977Z"
   },
   {
    "duration": 10,
    "start_time": "2022-06-06T11:08:19.038Z"
   },
   {
    "duration": 13,
    "start_time": "2022-06-06T11:09:06.339Z"
   },
   {
    "duration": 8,
    "start_time": "2022-06-06T11:10:41.919Z"
   },
   {
    "duration": 266,
    "start_time": "2022-06-06T11:10:58.621Z"
   },
   {
    "duration": 140,
    "start_time": "2022-06-06T11:11:05.035Z"
   },
   {
    "duration": 0,
    "start_time": "2022-06-06T11:12:22.055Z"
   },
   {
    "duration": 127,
    "start_time": "2022-06-06T11:12:26.479Z"
   },
   {
    "duration": 140,
    "start_time": "2022-06-06T11:12:42.497Z"
   },
   {
    "duration": 125,
    "start_time": "2022-06-06T11:12:47.883Z"
   },
   {
    "duration": 4,
    "start_time": "2022-06-06T11:14:38.939Z"
   },
   {
    "duration": 4,
    "start_time": "2022-06-06T11:16:31.529Z"
   },
   {
    "duration": 3,
    "start_time": "2022-06-06T11:16:45.672Z"
   },
   {
    "duration": 3,
    "start_time": "2022-06-06T11:17:59.460Z"
   },
   {
    "duration": 2,
    "start_time": "2022-06-06T11:18:36.882Z"
   },
   {
    "duration": 3,
    "start_time": "2022-06-06T11:19:23.459Z"
   },
   {
    "duration": 4015,
    "start_time": "2022-06-06T11:19:42.813Z"
   },
   {
    "duration": 26,
    "start_time": "2022-06-06T11:20:21.418Z"
   },
   {
    "duration": 2,
    "start_time": "2022-06-06T11:20:24.280Z"
   },
   {
    "duration": 2,
    "start_time": "2022-06-06T11:20:25.858Z"
   },
   {
    "duration": 2091,
    "start_time": "2022-06-06T11:20:27.336Z"
   },
   {
    "duration": 3,
    "start_time": "2022-06-06T11:20:41.520Z"
   },
   {
    "duration": 2093,
    "start_time": "2022-06-06T11:21:00.588Z"
   },
   {
    "duration": 14,
    "start_time": "2022-06-06T11:22:06.881Z"
   },
   {
    "duration": 39,
    "start_time": "2022-06-06T11:23:09.419Z"
   },
   {
    "duration": 39,
    "start_time": "2022-06-06T11:23:50.125Z"
   },
   {
    "duration": 3,
    "start_time": "2022-06-06T11:24:02.456Z"
   },
   {
    "duration": 11,
    "start_time": "2022-06-06T11:24:03.649Z"
   },
   {
    "duration": 2,
    "start_time": "2022-06-06T11:24:17.730Z"
   },
   {
    "duration": 144,
    "start_time": "2022-06-06T11:24:19.282Z"
   },
   {
    "duration": 2,
    "start_time": "2022-06-06T11:24:28.185Z"
   },
   {
    "duration": 11,
    "start_time": "2022-06-06T11:24:29.955Z"
   },
   {
    "duration": 3,
    "start_time": "2022-06-06T11:24:38.331Z"
   },
   {
    "duration": 10,
    "start_time": "2022-06-06T11:24:39.570Z"
   },
   {
    "duration": 2,
    "start_time": "2022-06-06T11:24:47.282Z"
   },
   {
    "duration": 135,
    "start_time": "2022-06-06T11:24:48.696Z"
   },
   {
    "duration": 3,
    "start_time": "2022-06-06T11:25:00.094Z"
   },
   {
    "duration": 65,
    "start_time": "2022-06-06T11:25:00.965Z"
   },
   {
    "duration": 26,
    "start_time": "2022-06-06T11:28:24.809Z"
   },
   {
    "duration": 3,
    "start_time": "2022-06-06T11:28:29.095Z"
   },
   {
    "duration": 48,
    "start_time": "2022-06-06T11:28:30.680Z"
   },
   {
    "duration": 3,
    "start_time": "2022-06-06T11:28:35.723Z"
   },
   {
    "duration": 20,
    "start_time": "2022-06-06T11:28:37.278Z"
   },
   {
    "duration": 19,
    "start_time": "2022-06-06T11:28:38.945Z"
   },
   {
    "duration": 24,
    "start_time": "2022-06-06T11:28:45.324Z"
   },
   {
    "duration": 25063,
    "start_time": "2022-06-06T11:28:54.870Z"
   },
   {
    "duration": 11,
    "start_time": "2022-06-06T11:29:23.614Z"
   },
   {
    "duration": 3,
    "start_time": "2022-06-06T11:29:53.717Z"
   },
   {
    "duration": 25,
    "start_time": "2022-06-06T11:29:54.723Z"
   },
   {
    "duration": 3,
    "start_time": "2022-06-06T11:29:59.321Z"
   },
   {
    "duration": 20,
    "start_time": "2022-06-06T11:30:00.250Z"
   },
   {
    "duration": 11,
    "start_time": "2022-06-06T11:30:10.262Z"
   },
   {
    "duration": 3,
    "start_time": "2022-06-06T11:30:23.332Z"
   },
   {
    "duration": 33,
    "start_time": "2022-06-06T11:30:24.417Z"
   },
   {
    "duration": 3,
    "start_time": "2022-06-06T11:30:27.889Z"
   },
   {
    "duration": 80,
    "start_time": "2022-06-06T11:30:29.247Z"
   },
   {
    "duration": 3,
    "start_time": "2022-06-06T11:31:16.645Z"
   },
   {
    "duration": 3,
    "start_time": "2022-06-06T11:31:46.921Z"
   },
   {
    "duration": 26,
    "start_time": "2022-06-06T11:33:02.808Z"
   },
   {
    "duration": 23,
    "start_time": "2022-06-06T11:33:14.938Z"
   },
   {
    "duration": 21,
    "start_time": "2022-06-06T11:33:37.793Z"
   },
   {
    "duration": 46,
    "start_time": "2022-06-06T11:34:14.282Z"
   },
   {
    "duration": 3,
    "start_time": "2022-06-06T11:36:32.336Z"
   },
   {
    "duration": 52,
    "start_time": "2022-06-06T11:36:34.478Z"
   },
   {
    "duration": 3,
    "start_time": "2022-06-06T11:36:46.853Z"
   },
   {
    "duration": 938,
    "start_time": "2022-06-06T11:38:51.139Z"
   },
   {
    "duration": 4,
    "start_time": "2022-06-06T11:39:03.867Z"
   },
   {
    "duration": 45,
    "start_time": "2022-06-06T11:39:03.876Z"
   },
   {
    "duration": 9,
    "start_time": "2022-06-06T11:39:03.924Z"
   },
   {
    "duration": 12,
    "start_time": "2022-06-06T11:39:03.935Z"
   },
   {
    "duration": 30,
    "start_time": "2022-06-06T11:39:03.949Z"
   },
   {
    "duration": 8,
    "start_time": "2022-06-06T11:39:03.981Z"
   },
   {
    "duration": 876,
    "start_time": "2022-06-06T11:39:06.261Z"
   },
   {
    "duration": 864,
    "start_time": "2022-06-06T11:39:19.517Z"
   },
   {
    "duration": 4,
    "start_time": "2022-06-06T11:39:32.132Z"
   },
   {
    "duration": 41,
    "start_time": "2022-06-06T11:39:33.129Z"
   },
   {
    "duration": 12,
    "start_time": "2022-06-06T11:39:35.648Z"
   },
   {
    "duration": 5,
    "start_time": "2022-06-06T11:39:37.573Z"
   },
   {
    "duration": 20,
    "start_time": "2022-06-06T11:39:39.159Z"
   },
   {
    "duration": 22,
    "start_time": "2022-06-06T11:39:42.106Z"
   },
   {
    "duration": 9,
    "start_time": "2022-06-06T11:39:44.216Z"
   },
   {
    "duration": 33,
    "start_time": "2022-06-06T11:39:46.144Z"
   },
   {
    "duration": 806,
    "start_time": "2022-06-06T11:39:47.742Z"
   },
   {
    "duration": 1733,
    "start_time": "2022-06-06T11:40:23.154Z"
   },
   {
    "duration": 792,
    "start_time": "2022-06-06T11:40:32.439Z"
   },
   {
    "duration": 781,
    "start_time": "2022-06-06T11:40:40.251Z"
   },
   {
    "duration": 59,
    "start_time": "2022-06-06T11:40:48.051Z"
   },
   {
    "duration": 10,
    "start_time": "2022-06-06T11:40:49.705Z"
   },
   {
    "duration": 18,
    "start_time": "2022-06-06T11:40:51.158Z"
   },
   {
    "duration": 22,
    "start_time": "2022-06-06T11:40:55.838Z"
   },
   {
    "duration": 15,
    "start_time": "2022-06-06T11:40:58.425Z"
   },
   {
    "duration": 12,
    "start_time": "2022-06-06T11:41:00.670Z"
   },
   {
    "duration": 31,
    "start_time": "2022-06-06T11:41:02.845Z"
   },
   {
    "duration": 3,
    "start_time": "2022-06-06T11:41:05.658Z"
   },
   {
    "duration": 45,
    "start_time": "2022-06-06T11:41:08.286Z"
   },
   {
    "duration": 95,
    "start_time": "2022-06-06T11:42:15.940Z"
   },
   {
    "duration": 86,
    "start_time": "2022-06-06T11:42:30.344Z"
   },
   {
    "duration": 107,
    "start_time": "2022-06-06T11:42:33.524Z"
   },
   {
    "duration": 86,
    "start_time": "2022-06-06T11:42:36.846Z"
   },
   {
    "duration": 108,
    "start_time": "2022-06-06T11:42:40.218Z"
   },
   {
    "duration": 74,
    "start_time": "2022-06-06T11:42:51.955Z"
   },
   {
    "duration": 868,
    "start_time": "2022-06-06T11:43:41.272Z"
   },
   {
    "duration": 65,
    "start_time": "2022-06-06T11:44:03.966Z"
   },
   {
    "duration": 837,
    "start_time": "2022-06-06T11:44:36.195Z"
   },
   {
    "duration": 861,
    "start_time": "2022-06-06T11:44:44.486Z"
   },
   {
    "duration": 838,
    "start_time": "2022-06-06T11:45:16.750Z"
   },
   {
    "duration": 840,
    "start_time": "2022-06-06T11:45:19.443Z"
   },
   {
    "duration": 850,
    "start_time": "2022-06-06T11:45:26.986Z"
   },
   {
    "duration": 896,
    "start_time": "2022-06-06T11:45:30.114Z"
   },
   {
    "duration": 67,
    "start_time": "2022-06-06T11:45:36.833Z"
   },
   {
    "duration": 205,
    "start_time": "2022-06-06T11:48:47.901Z"
   },
   {
    "duration": 23,
    "start_time": "2022-06-06T11:49:26.265Z"
   },
   {
    "duration": 122,
    "start_time": "2022-06-06T11:49:34.091Z"
   },
   {
    "duration": 128,
    "start_time": "2022-06-06T11:49:44.587Z"
   },
   {
    "duration": 11,
    "start_time": "2022-06-06T11:50:19.969Z"
   },
   {
    "duration": 32657,
    "start_time": "2022-06-06T11:50:23.793Z"
   },
   {
    "duration": 107,
    "start_time": "2022-06-06T11:51:07.160Z"
   },
   {
    "duration": 113,
    "start_time": "2022-06-06T11:51:34.781Z"
   },
   {
    "duration": 114,
    "start_time": "2022-06-06T11:51:40.614Z"
   },
   {
    "duration": 5,
    "start_time": "2022-06-06T11:53:53.006Z"
   },
   {
    "duration": 5,
    "start_time": "2022-06-06T11:55:06.746Z"
   },
   {
    "duration": 4,
    "start_time": "2022-06-06T11:55:14.372Z"
   },
   {
    "duration": 32,
    "start_time": "2022-06-06T11:57:49.931Z"
   },
   {
    "duration": 876,
    "start_time": "2022-06-06T11:58:10.443Z"
   },
   {
    "duration": 78,
    "start_time": "2022-06-06T11:58:54.255Z"
   },
   {
    "duration": 901,
    "start_time": "2022-06-06T11:59:00.926Z"
   },
   {
    "duration": 27,
    "start_time": "2022-06-06T11:59:22.056Z"
   },
   {
    "duration": 24,
    "start_time": "2022-06-06T11:59:27.313Z"
   },
   {
    "duration": 854,
    "start_time": "2022-06-06T11:59:31.736Z"
   },
   {
    "duration": 22,
    "start_time": "2022-06-06T11:59:38.943Z"
   },
   {
    "duration": 908,
    "start_time": "2022-06-06T11:59:47.918Z"
   },
   {
    "duration": 4,
    "start_time": "2022-06-06T12:02:16.290Z"
   },
   {
    "duration": 5,
    "start_time": "2022-06-06T12:02:19.073Z"
   },
   {
    "duration": 22,
    "start_time": "2022-06-06T12:05:54.143Z"
   },
   {
    "duration": 3409,
    "start_time": "2022-06-06T12:06:01.642Z"
   },
   {
    "duration": 74912,
    "start_time": "2022-06-06T12:06:20.244Z"
   },
   {
    "duration": 56,
    "start_time": "2022-06-06T12:38:31.501Z"
   },
   {
    "duration": 6,
    "start_time": "2022-06-06T12:38:48.836Z"
   },
   {
    "duration": 29332,
    "start_time": "2022-06-06T12:39:31.738Z"
   },
   {
    "duration": 10,
    "start_time": "2022-06-06T12:40:11.999Z"
   },
   {
    "duration": 11,
    "start_time": "2022-06-06T12:41:52.561Z"
   },
   {
    "duration": 4,
    "start_time": "2022-06-06T12:42:01.893Z"
   },
   {
    "duration": 10,
    "start_time": "2022-06-06T12:42:46.041Z"
   },
   {
    "duration": 7,
    "start_time": "2022-06-06T12:42:52.936Z"
   },
   {
    "duration": 9,
    "start_time": "2022-06-06T12:43:15.792Z"
   },
   {
    "duration": 9,
    "start_time": "2022-06-06T12:43:19.422Z"
   },
   {
    "duration": 90,
    "start_time": "2022-06-06T12:43:46.264Z"
   },
   {
    "duration": 76,
    "start_time": "2022-06-06T12:44:04.033Z"
   },
   {
    "duration": 62,
    "start_time": "2022-06-06T12:44:09.159Z"
   },
   {
    "duration": 82,
    "start_time": "2022-06-06T12:44:14.972Z"
   },
   {
    "duration": 67,
    "start_time": "2022-06-06T12:44:29.257Z"
   },
   {
    "duration": 71,
    "start_time": "2022-06-06T12:44:34.791Z"
   },
   {
    "duration": 82,
    "start_time": "2022-06-06T12:44:41.582Z"
   },
   {
    "duration": 310,
    "start_time": "2022-06-06T12:44:48.421Z"
   },
   {
    "duration": 309,
    "start_time": "2022-06-06T12:44:55.345Z"
   },
   {
    "duration": 187,
    "start_time": "2022-06-06T12:45:48.650Z"
   },
   {
    "duration": 204,
    "start_time": "2022-06-06T12:45:58.446Z"
   },
   {
    "duration": 369,
    "start_time": "2022-06-06T12:46:46.022Z"
   },
   {
    "duration": 356,
    "start_time": "2022-06-06T12:47:28.879Z"
   },
   {
    "duration": 315,
    "start_time": "2022-06-06T12:47:40.499Z"
   },
   {
    "duration": 963,
    "start_time": "2022-06-06T12:47:55.995Z"
   },
   {
    "duration": 41,
    "start_time": "2022-06-06T12:48:07.913Z"
   },
   {
    "duration": 962,
    "start_time": "2022-06-06T12:48:09.842Z"
   },
   {
    "duration": 364,
    "start_time": "2022-06-06T12:48:13.123Z"
   },
   {
    "duration": 67,
    "start_time": "2022-06-06T12:48:55.575Z"
   },
   {
    "duration": 62,
    "start_time": "2022-06-06T12:49:34.874Z"
   },
   {
    "duration": 963,
    "start_time": "2022-06-06T12:49:57.328Z"
   },
   {
    "duration": 96,
    "start_time": "2022-06-06T12:50:26.835Z"
   },
   {
    "duration": 900,
    "start_time": "2022-06-06T12:50:28.233Z"
   },
   {
    "duration": 10,
    "start_time": "2022-06-06T12:54:00.589Z"
   },
   {
    "duration": 45,
    "start_time": "2022-06-06T12:54:21.695Z"
   },
   {
    "duration": 938,
    "start_time": "2022-06-06T12:54:30.941Z"
   },
   {
    "duration": 307,
    "start_time": "2022-06-06T12:54:33.689Z"
   },
   {
    "duration": 347,
    "start_time": "2022-06-06T12:54:56.504Z"
   },
   {
    "duration": 372,
    "start_time": "2022-06-06T12:55:06.110Z"
   },
   {
    "duration": 354,
    "start_time": "2022-06-06T12:55:12.114Z"
   },
   {
    "duration": 302,
    "start_time": "2022-06-06T12:55:29.380Z"
   },
   {
    "duration": 866,
    "start_time": "2022-06-06T12:56:50.408Z"
   },
   {
    "duration": 175,
    "start_time": "2022-06-06T12:56:53.365Z"
   },
   {
    "duration": 837,
    "start_time": "2022-06-06T12:58:33.555Z"
   },
   {
    "duration": 74,
    "start_time": "2022-06-06T12:58:48.353Z"
   },
   {
    "duration": 4,
    "start_time": "2022-06-06T12:59:35.595Z"
   },
   {
    "duration": 4,
    "start_time": "2022-06-06T12:59:41.232Z"
   },
   {
    "duration": 11,
    "start_time": "2022-06-06T13:01:00.723Z"
   },
   {
    "duration": 9,
    "start_time": "2022-06-06T13:01:20.645Z"
   },
   {
    "duration": 872,
    "start_time": "2022-06-06T13:02:41.976Z"
   },
   {
    "duration": 941,
    "start_time": "2022-06-06T13:03:00.796Z"
   },
   {
    "duration": 862,
    "start_time": "2022-06-06T13:03:19.089Z"
   },
   {
    "duration": 190,
    "start_time": "2022-06-06T13:03:47.232Z"
   },
   {
    "duration": 7,
    "start_time": "2022-06-06T13:06:15.281Z"
   },
   {
    "duration": 12,
    "start_time": "2022-06-06T13:06:27.206Z"
   },
   {
    "duration": 8,
    "start_time": "2022-06-06T13:06:31.545Z"
   },
   {
    "duration": 5,
    "start_time": "2022-06-06T13:07:52.531Z"
   },
   {
    "duration": 11,
    "start_time": "2022-06-06T13:11:06.753Z"
   },
   {
    "duration": 22,
    "start_time": "2022-06-06T13:11:11.693Z"
   },
   {
    "duration": 21,
    "start_time": "2022-06-06T13:11:38.274Z"
   },
   {
    "duration": 21,
    "start_time": "2022-06-06T13:11:56.518Z"
   },
   {
    "duration": 4,
    "start_time": "2022-06-06T13:12:08.323Z"
   },
   {
    "duration": 12,
    "start_time": "2022-06-06T13:12:14.305Z"
   },
   {
    "duration": 832,
    "start_time": "2022-06-06T13:13:02.072Z"
   },
   {
    "duration": 867,
    "start_time": "2022-06-06T13:13:11.926Z"
   },
   {
    "duration": 439,
    "start_time": "2022-06-06T13:13:24.593Z"
   },
   {
    "duration": 4,
    "start_time": "2022-06-06T13:14:32.409Z"
   },
   {
    "duration": 18,
    "start_time": "2022-06-06T13:15:34.949Z"
   },
   {
    "duration": 20,
    "start_time": "2022-06-06T13:15:48.222Z"
   },
   {
    "duration": 10,
    "start_time": "2022-06-06T13:15:50.803Z"
   },
   {
    "duration": 1083,
    "start_time": "2022-06-06T13:15:56.795Z"
   },
   {
    "duration": 520,
    "start_time": "2022-06-06T13:16:50.816Z"
   },
   {
    "duration": 1147,
    "start_time": "2022-06-06T13:17:01.763Z"
   },
   {
    "duration": 199,
    "start_time": "2022-06-06T13:17:49.142Z"
   },
   {
    "duration": 193,
    "start_time": "2022-06-06T13:18:20.529Z"
   },
   {
    "duration": 11,
    "start_time": "2022-06-06T13:21:25.369Z"
   },
   {
    "duration": 10,
    "start_time": "2022-06-06T13:21:54.848Z"
   },
   {
    "duration": 3,
    "start_time": "2022-06-06T13:22:04.580Z"
   },
   {
    "duration": 6545,
    "start_time": "2022-06-06T13:22:10.153Z"
   },
   {
    "duration": 6403,
    "start_time": "2022-06-06T13:22:34.903Z"
   },
   {
    "duration": 6590,
    "start_time": "2022-06-06T13:22:55.419Z"
   },
   {
    "duration": 6590,
    "start_time": "2022-06-06T13:23:24.125Z"
   },
   {
    "duration": 6651,
    "start_time": "2022-06-06T13:23:45.508Z"
   },
   {
    "duration": 6442,
    "start_time": "2022-06-06T13:24:05.258Z"
   },
   {
    "duration": 6456,
    "start_time": "2022-06-06T13:24:13.543Z"
   },
   {
    "duration": 6493,
    "start_time": "2022-06-06T13:24:25.706Z"
   },
   {
    "duration": 74,
    "start_time": "2022-06-06T13:24:46.544Z"
   },
   {
    "duration": 77,
    "start_time": "2022-06-06T13:24:51.684Z"
   },
   {
    "duration": 76,
    "start_time": "2022-06-06T13:24:57.748Z"
   },
   {
    "duration": 79,
    "start_time": "2022-06-06T13:25:09.411Z"
   },
   {
    "duration": 78,
    "start_time": "2022-06-06T13:25:12.414Z"
   },
   {
    "duration": 77,
    "start_time": "2022-06-06T13:25:23.998Z"
   },
   {
    "duration": 6515,
    "start_time": "2022-06-06T13:25:33.569Z"
   },
   {
    "duration": 6538,
    "start_time": "2022-06-06T13:26:00.831Z"
   },
   {
    "duration": 6315,
    "start_time": "2022-06-06T13:26:24.796Z"
   },
   {
    "duration": 6328,
    "start_time": "2022-06-06T13:26:41.300Z"
   },
   {
    "duration": 12674,
    "start_time": "2022-06-06T13:26:56.154Z"
   },
   {
    "duration": 12223,
    "start_time": "2022-06-06T13:27:17.877Z"
   },
   {
    "duration": 68,
    "start_time": "2022-06-06T13:27:58.718Z"
   },
   {
    "duration": 69,
    "start_time": "2022-06-06T13:28:09.619Z"
   },
   {
    "duration": 12784,
    "start_time": "2022-06-06T13:28:32.306Z"
   },
   {
    "duration": 12950,
    "start_time": "2022-06-06T13:28:59.481Z"
   },
   {
    "duration": 167,
    "start_time": "2022-06-06T13:30:04.194Z"
   },
   {
    "duration": 12125,
    "start_time": "2022-06-06T13:31:37.928Z"
   },
   {
    "duration": 12129,
    "start_time": "2022-06-06T13:32:00.956Z"
   },
   {
    "duration": 12182,
    "start_time": "2022-06-06T13:32:23.169Z"
   },
   {
    "duration": 820,
    "start_time": "2022-06-06T13:32:58.677Z"
   },
   {
    "duration": 172,
    "start_time": "2022-06-06T13:33:04.407Z"
   },
   {
    "duration": 12104,
    "start_time": "2022-06-06T13:33:52.385Z"
   },
   {
    "duration": 12330,
    "start_time": "2022-06-06T13:34:15.533Z"
   },
   {
    "duration": 12325,
    "start_time": "2022-06-06T13:35:53.436Z"
   },
   {
    "duration": 6215,
    "start_time": "2022-06-06T13:36:27.695Z"
   },
   {
    "duration": 65,
    "start_time": "2022-06-06T13:37:34.074Z"
   },
   {
    "duration": 6371,
    "start_time": "2022-06-06T13:39:06.015Z"
   },
   {
    "duration": 6089,
    "start_time": "2022-06-06T13:39:23.603Z"
   },
   {
    "duration": 25,
    "start_time": "2022-06-08T06:38:10.296Z"
   },
   {
    "duration": 67,
    "start_time": "2022-06-08T06:38:28.286Z"
   },
   {
    "duration": 23,
    "start_time": "2022-06-08T06:38:48.813Z"
   },
   {
    "duration": 8,
    "start_time": "2022-06-08T06:38:56.475Z"
   },
   {
    "duration": 6,
    "start_time": "2022-06-08T06:39:04.001Z"
   },
   {
    "duration": 1479,
    "start_time": "2022-06-08T06:39:15.505Z"
   },
   {
    "duration": 77,
    "start_time": "2022-06-08T06:39:22.078Z"
   },
   {
    "duration": 12,
    "start_time": "2022-06-08T06:39:24.965Z"
   },
   {
    "duration": 5,
    "start_time": "2022-06-08T06:39:26.492Z"
   },
   {
    "duration": 23,
    "start_time": "2022-06-08T06:39:28.832Z"
   },
   {
    "duration": 8,
    "start_time": "2022-06-08T06:39:30.243Z"
   },
   {
    "duration": 40,
    "start_time": "2022-06-08T06:39:32.039Z"
   },
   {
    "duration": 849,
    "start_time": "2022-06-08T06:39:33.938Z"
   },
   {
    "duration": 57,
    "start_time": "2022-06-08T06:39:37.329Z"
   },
   {
    "duration": 10,
    "start_time": "2022-06-08T06:39:39.944Z"
   },
   {
    "duration": 13,
    "start_time": "2022-06-08T06:39:41.443Z"
   },
   {
    "duration": 21,
    "start_time": "2022-06-08T06:39:44.295Z"
   },
   {
    "duration": 13,
    "start_time": "2022-06-08T06:39:45.837Z"
   },
   {
    "duration": 13,
    "start_time": "2022-06-08T06:39:47.323Z"
   },
   {
    "duration": 29,
    "start_time": "2022-06-08T06:39:49.344Z"
   },
   {
    "duration": 127,
    "start_time": "2022-06-08T06:39:52.039Z"
   },
   {
    "duration": 4,
    "start_time": "2022-06-08T06:39:53.801Z"
   },
   {
    "duration": 99,
    "start_time": "2022-06-08T06:39:56.941Z"
   },
   {
    "duration": 940,
    "start_time": "2022-06-08T06:39:59.055Z"
   },
   {
    "duration": 349,
    "start_time": "2022-06-08T06:40:03.403Z"
   },
   {
    "duration": 12,
    "start_time": "2022-06-08T06:40:05.960Z"
   },
   {
    "duration": 7,
    "start_time": "2022-06-08T06:40:21.441Z"
   },
   {
    "duration": 6,
    "start_time": "2022-06-08T06:40:28.166Z"
   },
   {
    "duration": 7,
    "start_time": "2022-06-08T06:40:34.032Z"
   },
   {
    "duration": 28,
    "start_time": "2022-06-08T06:41:16.135Z"
   },
   {
    "duration": 9,
    "start_time": "2022-06-08T06:41:29.312Z"
   },
   {
    "duration": 7,
    "start_time": "2022-06-08T06:41:36.163Z"
   },
   {
    "duration": 71,
    "start_time": "2022-06-08T06:44:23.559Z"
   },
   {
    "duration": 823,
    "start_time": "2022-06-08T06:44:26.932Z"
   },
   {
    "duration": 170,
    "start_time": "2022-06-08T06:44:29.498Z"
   },
   {
    "duration": 6,
    "start_time": "2022-06-08T06:44:40.433Z"
   },
   {
    "duration": 187,
    "start_time": "2022-06-08T06:45:02.058Z"
   },
   {
    "duration": 13,
    "start_time": "2022-06-08T06:45:09.452Z"
   },
   {
    "duration": 1203,
    "start_time": "2022-06-08T06:45:12.158Z"
   },
   {
    "duration": 173,
    "start_time": "2022-06-08T06:45:15.663Z"
   },
   {
    "duration": 5,
    "start_time": "2022-06-08T06:45:52.027Z"
   },
   {
    "duration": 202,
    "start_time": "2022-06-08T06:53:24.297Z"
   },
   {
    "duration": 223,
    "start_time": "2022-06-08T06:53:34.799Z"
   },
   {
    "duration": 1557,
    "start_time": "2022-06-09T05:50:30.403Z"
   },
   {
    "duration": 80,
    "start_time": "2022-06-09T05:50:38.336Z"
   },
   {
    "duration": 12,
    "start_time": "2022-06-09T05:50:44.846Z"
   },
   {
    "duration": 4,
    "start_time": "2022-06-09T05:50:48.624Z"
   },
   {
    "duration": 24,
    "start_time": "2022-06-09T05:50:50.952Z"
   },
   {
    "duration": 21,
    "start_time": "2022-06-09T05:51:07.753Z"
   },
   {
    "duration": 990,
    "start_time": "2022-06-09T05:53:04.495Z"
   },
   {
    "duration": 240,
    "start_time": "2022-06-09T05:54:21.957Z"
   },
   {
    "duration": 339,
    "start_time": "2022-06-09T05:54:29.290Z"
   },
   {
    "duration": 216,
    "start_time": "2022-06-09T05:54:42.349Z"
   },
   {
    "duration": 227,
    "start_time": "2022-06-09T05:54:46.731Z"
   },
   {
    "duration": 266,
    "start_time": "2022-06-09T05:55:26.916Z"
   },
   {
    "duration": 266,
    "start_time": "2022-06-09T05:55:39.809Z"
   },
   {
    "duration": 253,
    "start_time": "2022-06-09T05:55:57.201Z"
   },
   {
    "duration": 400,
    "start_time": "2022-06-09T05:56:18.720Z"
   },
   {
    "duration": 355,
    "start_time": "2022-06-09T05:57:18.759Z"
   },
   {
    "duration": 482,
    "start_time": "2022-06-09T05:58:47.342Z"
   },
   {
    "duration": 414,
    "start_time": "2022-06-09T05:59:03.359Z"
   },
   {
    "duration": 304,
    "start_time": "2022-06-09T05:59:14.037Z"
   },
   {
    "duration": 334,
    "start_time": "2022-06-09T05:59:21.457Z"
   },
   {
    "duration": 355,
    "start_time": "2022-06-09T05:59:26.273Z"
   },
   {
    "duration": 528,
    "start_time": "2022-06-09T05:59:35.072Z"
   },
   {
    "duration": 13401,
    "start_time": "2022-06-09T06:01:00.621Z"
   },
   {
    "duration": 6207,
    "start_time": "2022-06-09T06:01:27.357Z"
   },
   {
    "duration": 3247,
    "start_time": "2022-06-09T06:01:54.313Z"
   },
   {
    "duration": 10,
    "start_time": "2022-06-09T06:02:22.793Z"
   },
   {
    "duration": 15023,
    "start_time": "2022-06-09T06:02:32.751Z"
   },
   {
    "duration": 32,
    "start_time": "2022-06-09T06:08:32.727Z"
   },
   {
    "duration": 5,
    "start_time": "2022-06-09T06:08:40.553Z"
   },
   {
    "duration": 839,
    "start_time": "2022-06-09T06:08:45.874Z"
   },
   {
    "duration": 496,
    "start_time": "2022-06-09T06:08:51.560Z"
   },
   {
    "duration": 615,
    "start_time": "2022-06-09T06:09:00.976Z"
   },
   {
    "duration": 538,
    "start_time": "2022-06-09T06:09:19.432Z"
   },
   {
    "duration": 2020,
    "start_time": "2022-06-09T06:09:36.154Z"
   },
   {
    "duration": 1972,
    "start_time": "2022-06-09T06:10:15.673Z"
   },
   {
    "duration": 5,
    "start_time": "2022-06-09T06:10:39.624Z"
   },
   {
    "duration": 4,
    "start_time": "2022-06-09T06:10:43.371Z"
   },
   {
    "duration": 543,
    "start_time": "2022-06-09T06:10:52.462Z"
   },
   {
    "duration": 1502,
    "start_time": "2022-06-09T06:11:00.629Z"
   },
   {
    "duration": 1156,
    "start_time": "2022-06-09T06:11:16.674Z"
   },
   {
    "duration": 2033,
    "start_time": "2022-06-09T06:11:46.425Z"
   },
   {
    "duration": 2147,
    "start_time": "2022-06-09T06:12:16.370Z"
   },
   {
    "duration": 2438,
    "start_time": "2022-06-09T06:12:48.153Z"
   },
   {
    "duration": 2059,
    "start_time": "2022-06-09T06:12:56.894Z"
   },
   {
    "duration": 2530,
    "start_time": "2022-06-09T06:13:02.715Z"
   },
   {
    "duration": 2112,
    "start_time": "2022-06-09T06:13:09.095Z"
   },
   {
    "duration": 2314,
    "start_time": "2022-06-09T06:15:41.979Z"
   },
   {
    "duration": 1944,
    "start_time": "2022-06-09T06:15:55.523Z"
   },
   {
    "duration": 2318,
    "start_time": "2022-06-09T06:16:39.140Z"
   },
   {
    "duration": 5,
    "start_time": "2022-06-09T06:26:21.519Z"
   },
   {
    "duration": 408,
    "start_time": "2022-06-09T06:27:02.440Z"
   },
   {
    "duration": 13,
    "start_time": "2022-06-09T06:27:09.871Z"
   },
   {
    "duration": 827,
    "start_time": "2022-06-09T06:27:52.553Z"
   },
   {
    "duration": 685,
    "start_time": "2022-06-09T06:27:58.537Z"
   },
   {
    "duration": 923,
    "start_time": "2022-06-09T06:28:04.890Z"
   },
   {
    "duration": 1057,
    "start_time": "2022-06-09T06:28:40.282Z"
   },
   {
    "duration": 256,
    "start_time": "2022-06-09T06:29:18.413Z"
   },
   {
    "duration": 14,
    "start_time": "2022-06-09T06:29:35.437Z"
   },
   {
    "duration": 376,
    "start_time": "2022-06-09T06:29:37.973Z"
   },
   {
    "duration": 409,
    "start_time": "2022-06-09T06:29:47.471Z"
   },
   {
    "duration": 797,
    "start_time": "2022-06-09T06:30:39.566Z"
   },
   {
    "duration": 863,
    "start_time": "2022-06-09T06:31:44.096Z"
   },
   {
    "duration": 857,
    "start_time": "2022-06-09T06:31:51.141Z"
   },
   {
    "duration": 2834,
    "start_time": "2022-06-09T06:32:46.168Z"
   },
   {
    "duration": 805,
    "start_time": "2022-06-09T06:33:01.776Z"
   },
   {
    "duration": 12,
    "start_time": "2022-06-09T06:36:03.766Z"
   },
   {
    "duration": 64,
    "start_time": "2022-06-09T06:36:11.039Z"
   },
   {
    "duration": 10,
    "start_time": "2022-06-09T06:36:24.038Z"
   },
   {
    "duration": 17,
    "start_time": "2022-06-09T06:36:26.578Z"
   },
   {
    "duration": 21,
    "start_time": "2022-06-09T06:36:29.957Z"
   },
   {
    "duration": 14,
    "start_time": "2022-06-09T06:36:32.878Z"
   },
   {
    "duration": 15,
    "start_time": "2022-06-09T06:36:35.787Z"
   },
   {
    "duration": 31,
    "start_time": "2022-06-09T06:36:38.255Z"
   },
   {
    "duration": 128,
    "start_time": "2022-06-09T06:36:42.367Z"
   },
   {
    "duration": 4,
    "start_time": "2022-06-09T06:36:45.697Z"
   },
   {
    "duration": 98,
    "start_time": "2022-06-09T06:36:48.032Z"
   },
   {
    "duration": 19,
    "start_time": "2022-06-09T06:38:25.823Z"
   },
   {
    "duration": 17,
    "start_time": "2022-06-09T06:38:33.802Z"
   },
   {
    "duration": 6,
    "start_time": "2022-06-09T06:38:39.514Z"
   },
   {
    "duration": 13,
    "start_time": "2022-06-09T06:38:42.484Z"
   },
   {
    "duration": 14,
    "start_time": "2022-06-09T06:38:44.906Z"
   },
   {
    "duration": 14,
    "start_time": "2022-06-09T06:39:09.210Z"
   },
   {
    "duration": 13,
    "start_time": "2022-06-09T06:39:13.209Z"
   },
   {
    "duration": 29,
    "start_time": "2022-06-09T06:39:15.368Z"
   },
   {
    "duration": 90,
    "start_time": "2022-06-09T06:39:35.441Z"
   },
   {
    "duration": 745,
    "start_time": "2022-06-09T06:39:44.525Z"
   },
   {
    "duration": 750,
    "start_time": "2022-06-09T06:39:55.965Z"
   },
   {
    "duration": 20,
    "start_time": "2022-06-09T06:40:07.740Z"
   },
   {
    "duration": 15,
    "start_time": "2022-06-09T06:40:10.404Z"
   },
   {
    "duration": 14,
    "start_time": "2022-06-09T06:40:12.995Z"
   },
   {
    "duration": 28,
    "start_time": "2022-06-09T06:40:14.831Z"
   },
   {
    "duration": 924,
    "start_time": "2022-06-09T06:40:19.926Z"
   },
   {
    "duration": 20,
    "start_time": "2022-06-09T06:40:28.633Z"
   },
   {
    "duration": 42,
    "start_time": "2022-06-09T06:40:32.589Z"
   },
   {
    "duration": 721,
    "start_time": "2022-06-09T06:40:42.773Z"
   },
   {
    "duration": 14,
    "start_time": "2022-06-09T06:41:22.677Z"
   },
   {
    "duration": 51,
    "start_time": "2022-06-09T06:41:31.375Z"
   },
   {
    "duration": 701,
    "start_time": "2022-06-09T06:41:39.507Z"
   },
   {
    "duration": 313,
    "start_time": "2022-06-09T06:41:43.182Z"
   },
   {
    "duration": 10,
    "start_time": "2022-06-09T06:41:52.036Z"
   },
   {
    "duration": 802,
    "start_time": "2022-06-09T06:41:55.838Z"
   },
   {
    "duration": 217,
    "start_time": "2022-06-09T06:41:59.596Z"
   },
   {
    "duration": 226,
    "start_time": "2022-06-09T06:42:11.891Z"
   },
   {
    "duration": 12,
    "start_time": "2022-06-09T06:42:16.531Z"
   },
   {
    "duration": 404,
    "start_time": "2022-06-09T06:42:19.965Z"
   },
   {
    "duration": 11,
    "start_time": "2022-06-09T06:42:22.591Z"
   },
   {
    "duration": 905,
    "start_time": "2022-06-09T06:42:25.221Z"
   },
   {
    "duration": 191,
    "start_time": "2022-06-09T06:42:28.352Z"
   },
   {
    "duration": 5,
    "start_time": "2022-06-09T06:42:31.887Z"
   },
   {
    "duration": 6,
    "start_time": "2022-06-09T06:42:45.159Z"
   },
   {
    "duration": 40,
    "start_time": "2022-06-09T06:42:46.829Z"
   },
   {
    "duration": 1378,
    "start_time": "2022-06-09T06:42:55.376Z"
   },
   {
    "duration": 42,
    "start_time": "2022-06-09T06:42:56.756Z"
   },
   {
    "duration": 12,
    "start_time": "2022-06-09T06:42:56.800Z"
   },
   {
    "duration": 8,
    "start_time": "2022-06-09T06:42:56.813Z"
   },
   {
    "duration": 34,
    "start_time": "2022-06-09T06:42:56.822Z"
   },
   {
    "duration": 9,
    "start_time": "2022-06-09T06:42:56.858Z"
   },
   {
    "duration": 56,
    "start_time": "2022-06-09T06:42:56.868Z"
   },
   {
    "duration": 2059,
    "start_time": "2022-06-09T06:42:56.926Z"
   },
   {
    "duration": 775,
    "start_time": "2022-06-09T06:42:58.988Z"
   },
   {
    "duration": 62,
    "start_time": "2022-06-09T06:42:59.766Z"
   },
   {
    "duration": 8,
    "start_time": "2022-06-09T06:42:59.830Z"
   },
   {
    "duration": 13,
    "start_time": "2022-06-09T06:42:59.839Z"
   },
   {
    "duration": 25,
    "start_time": "2022-06-09T06:42:59.854Z"
   },
   {
    "duration": 49,
    "start_time": "2022-06-09T06:42:59.881Z"
   },
   {
    "duration": 12,
    "start_time": "2022-06-09T06:42:59.932Z"
   },
   {
    "duration": 29,
    "start_time": "2022-06-09T06:42:59.946Z"
   },
   {
    "duration": 139,
    "start_time": "2022-06-09T06:42:59.977Z"
   },
   {
    "duration": 11,
    "start_time": "2022-06-09T06:43:00.117Z"
   },
   {
    "duration": 102,
    "start_time": "2022-06-09T06:43:00.130Z"
   },
   {
    "duration": 1028,
    "start_time": "2022-06-09T06:43:00.235Z"
   },
   {
    "duration": 345,
    "start_time": "2022-06-09T06:43:01.266Z"
   },
   {
    "duration": 15,
    "start_time": "2022-06-09T06:43:01.613Z"
   },
   {
    "duration": 1011,
    "start_time": "2022-06-09T06:43:01.630Z"
   },
   {
    "duration": 230,
    "start_time": "2022-06-09T06:43:02.642Z"
   },
   {
    "duration": 5,
    "start_time": "2022-06-09T06:43:02.874Z"
   },
   {
    "duration": 25,
    "start_time": "2022-06-09T06:43:02.881Z"
   },
   {
    "duration": 469,
    "start_time": "2022-06-09T06:43:02.907Z"
   },
   {
    "duration": 14,
    "start_time": "2022-06-09T06:43:03.379Z"
   },
   {
    "duration": 1212,
    "start_time": "2022-06-09T06:43:03.395Z"
   },
   {
    "duration": 233,
    "start_time": "2022-06-09T06:43:04.609Z"
   },
   {
    "duration": 6,
    "start_time": "2022-06-09T06:43:04.844Z"
   },
   {
    "duration": 7104,
    "start_time": "2022-06-09T06:43:04.851Z"
   },
   {
    "duration": 6476,
    "start_time": "2022-06-09T06:43:11.957Z"
   },
   {
    "duration": 77,
    "start_time": "2022-06-09T06:43:18.435Z"
   },
   {
    "duration": 78,
    "start_time": "2022-06-09T06:43:18.514Z"
   },
   {
    "duration": 23,
    "start_time": "2022-06-09T06:43:31.764Z"
   },
   {
    "duration": 23,
    "start_time": "2022-06-09T06:43:34.982Z"
   },
   {
    "duration": 53,
    "start_time": "2022-06-09T06:44:07.079Z"
   },
   {
    "duration": 6745,
    "start_time": "2022-06-09T06:45:12.318Z"
   },
   {
    "duration": 823,
    "start_time": "2022-06-09T06:58:51.085Z"
   },
   {
    "duration": 838,
    "start_time": "2022-06-09T06:59:04.608Z"
   },
   {
    "duration": 1012,
    "start_time": "2022-06-09T06:59:34.469Z"
   },
   {
    "duration": 201,
    "start_time": "2022-06-09T06:59:39.427Z"
   },
   {
    "duration": 13,
    "start_time": "2022-06-09T06:59:59.008Z"
   },
   {
    "duration": 470,
    "start_time": "2022-06-09T07:00:01.577Z"
   },
   {
    "duration": 14,
    "start_time": "2022-06-09T07:00:04.167Z"
   },
   {
    "duration": 14,
    "start_time": "2022-06-09T07:00:47.888Z"
   },
   {
    "duration": 1076,
    "start_time": "2022-06-09T07:00:50.499Z"
   },
   {
    "duration": 174,
    "start_time": "2022-06-09T07:00:53.544Z"
   },
   {
    "duration": 6,
    "start_time": "2022-06-09T07:01:00.427Z"
   },
   {
    "duration": 6271,
    "start_time": "2022-06-09T07:01:13.323Z"
   },
   {
    "duration": 6513,
    "start_time": "2022-06-09T07:01:28.907Z"
   },
   {
    "duration": 6234,
    "start_time": "2022-06-09T07:02:10.550Z"
   },
   {
    "duration": 6544,
    "start_time": "2022-06-09T07:03:16.123Z"
   },
   {
    "duration": 914,
    "start_time": "2022-06-09T07:04:34.990Z"
   },
   {
    "duration": 1422,
    "start_time": "2022-06-09T09:59:26.317Z"
   },
   {
    "duration": 174,
    "start_time": "2022-06-09T09:59:27.741Z"
   },
   {
    "duration": 10,
    "start_time": "2022-06-09T09:59:27.917Z"
   },
   {
    "duration": 5,
    "start_time": "2022-06-09T09:59:27.928Z"
   },
   {
    "duration": 25,
    "start_time": "2022-06-09T09:59:27.934Z"
   },
   {
    "duration": 6,
    "start_time": "2022-06-09T09:59:27.961Z"
   },
   {
    "duration": 38,
    "start_time": "2022-06-09T09:59:27.969Z"
   },
   {
    "duration": 1889,
    "start_time": "2022-06-09T09:59:28.009Z"
   },
   {
    "duration": 1133,
    "start_time": "2022-06-09T09:59:29.905Z"
   },
   {
    "duration": 105,
    "start_time": "2022-06-09T09:59:31.039Z"
   },
   {
    "duration": 16,
    "start_time": "2022-06-09T09:59:31.195Z"
   },
   {
    "duration": 22,
    "start_time": "2022-06-09T09:59:31.213Z"
   },
   {
    "duration": 80,
    "start_time": "2022-06-09T09:59:31.237Z"
   },
   {
    "duration": 16,
    "start_time": "2022-06-09T09:59:31.320Z"
   },
   {
    "duration": 70,
    "start_time": "2022-06-09T09:59:31.338Z"
   },
   {
    "duration": 90,
    "start_time": "2022-06-09T09:59:31.413Z"
   },
   {
    "duration": 228,
    "start_time": "2022-06-09T09:59:31.509Z"
   },
   {
    "duration": 3,
    "start_time": "2022-06-09T09:59:31.738Z"
   },
   {
    "duration": 202,
    "start_time": "2022-06-09T09:59:31.795Z"
   },
   {
    "duration": 902,
    "start_time": "2022-06-09T09:59:31.999Z"
   },
   {
    "duration": 316,
    "start_time": "2022-06-09T09:59:32.903Z"
   },
   {
    "duration": 6,
    "start_time": "2022-06-09T09:59:33.221Z"
   },
   {
    "duration": 793,
    "start_time": "2022-06-09T09:59:33.229Z"
   },
   {
    "duration": 197,
    "start_time": "2022-06-09T09:59:34.023Z"
   },
   {
    "duration": 4,
    "start_time": "2022-06-09T09:59:34.222Z"
   },
   {
    "duration": 12,
    "start_time": "2022-06-09T09:59:34.228Z"
   },
   {
    "duration": 424,
    "start_time": "2022-06-09T09:59:34.241Z"
   },
   {
    "duration": 11,
    "start_time": "2022-06-09T09:59:34.666Z"
   },
   {
    "duration": 1034,
    "start_time": "2022-06-09T09:59:34.679Z"
   },
   {
    "duration": 160,
    "start_time": "2022-06-09T09:59:35.714Z"
   },
   {
    "duration": 5,
    "start_time": "2022-06-09T09:59:35.875Z"
   },
   {
    "duration": 5783,
    "start_time": "2022-06-09T09:59:35.881Z"
   },
   {
    "duration": 6885,
    "start_time": "2022-06-09T09:59:41.665Z"
   },
   {
    "duration": 69,
    "start_time": "2022-06-09T09:59:48.552Z"
   },
   {
    "duration": 80,
    "start_time": "2022-06-09T09:59:48.623Z"
   },
   {
    "duration": 26,
    "start_time": "2022-06-09T10:00:11.054Z"
   },
   {
    "duration": 44,
    "start_time": "2022-06-09T10:00:20.368Z"
   },
   {
    "duration": 27,
    "start_time": "2022-06-09T10:00:25.920Z"
   },
   {
    "duration": 33,
    "start_time": "2022-06-09T10:00:29.674Z"
   },
   {
    "duration": 72,
    "start_time": "2022-06-09T10:00:45.025Z"
   },
   {
    "duration": 785,
    "start_time": "2022-06-09T10:01:11.869Z"
   },
   {
    "duration": 354,
    "start_time": "2022-06-09T10:03:11.690Z"
   },
   {
    "duration": 55,
    "start_time": "2022-06-09T10:04:53.811Z"
   },
   {
    "duration": 435,
    "start_time": "2022-06-09T10:05:00.141Z"
   },
   {
    "duration": 329,
    "start_time": "2022-06-09T10:05:27.364Z"
   },
   {
    "duration": 311,
    "start_time": "2022-06-09T10:05:40.123Z"
   },
   {
    "duration": 345,
    "start_time": "2022-06-09T10:05:49.591Z"
   },
   {
    "duration": 312,
    "start_time": "2022-06-09T10:06:16.975Z"
   },
   {
    "duration": 349,
    "start_time": "2022-06-09T10:06:37.394Z"
   },
   {
    "duration": 333,
    "start_time": "2022-06-09T10:06:44.981Z"
   },
   {
    "duration": 293,
    "start_time": "2022-06-09T10:07:06.264Z"
   },
   {
    "duration": 312,
    "start_time": "2022-06-09T10:07:17.841Z"
   },
   {
    "duration": 358,
    "start_time": "2022-06-09T10:07:29.590Z"
   },
   {
    "duration": 38,
    "start_time": "2022-06-09T10:08:48.713Z"
   },
   {
    "duration": 71,
    "start_time": "2022-06-09T10:09:01.321Z"
   },
   {
    "duration": 349,
    "start_time": "2022-06-09T10:09:08.787Z"
   },
   {
    "duration": 348,
    "start_time": "2022-06-09T10:10:20.805Z"
   },
   {
    "duration": 353,
    "start_time": "2022-06-09T10:10:24.624Z"
   },
   {
    "duration": 476,
    "start_time": "2022-06-09T10:10:30.105Z"
   },
   {
    "duration": 333,
    "start_time": "2022-06-09T10:11:07.717Z"
   },
   {
    "duration": 293,
    "start_time": "2022-06-09T10:11:43.148Z"
   },
   {
    "duration": 29,
    "start_time": "2022-06-09T10:12:10.863Z"
   },
   {
    "duration": 32,
    "start_time": "2022-06-09T10:12:14.217Z"
   },
   {
    "duration": 30,
    "start_time": "2022-06-09T10:12:22.308Z"
   },
   {
    "duration": 39,
    "start_time": "2022-06-09T10:12:32.748Z"
   },
   {
    "duration": 41,
    "start_time": "2022-06-09T10:13:33.182Z"
   },
   {
    "duration": 36,
    "start_time": "2022-06-09T10:13:37.310Z"
   },
   {
    "duration": 37,
    "start_time": "2022-06-09T10:14:00.406Z"
   },
   {
    "duration": 41,
    "start_time": "2022-06-09T10:14:24.870Z"
   },
   {
    "duration": 45,
    "start_time": "2022-06-09T10:14:38.183Z"
   },
   {
    "duration": 51,
    "start_time": "2022-06-09T10:14:41.177Z"
   },
   {
    "duration": 30,
    "start_time": "2022-06-09T10:14:44.317Z"
   },
   {
    "duration": 50,
    "start_time": "2022-06-09T10:14:51.175Z"
   },
   {
    "duration": 43,
    "start_time": "2022-06-09T10:14:57.279Z"
   },
   {
    "duration": 34,
    "start_time": "2022-06-09T10:15:00.855Z"
   },
   {
    "duration": 41,
    "start_time": "2022-06-09T10:15:13.603Z"
   },
   {
    "duration": 344,
    "start_time": "2022-06-09T10:15:20.267Z"
   },
   {
    "duration": 332,
    "start_time": "2022-06-09T10:15:25.114Z"
   },
   {
    "duration": 317,
    "start_time": "2022-06-09T10:15:29.432Z"
   },
   {
    "duration": 331,
    "start_time": "2022-06-09T10:15:47.909Z"
   },
   {
    "duration": 352,
    "start_time": "2022-06-09T10:15:53.112Z"
   },
   {
    "duration": 368,
    "start_time": "2022-06-09T10:16:22.992Z"
   },
   {
    "duration": 314,
    "start_time": "2022-06-09T10:16:34.321Z"
   },
   {
    "duration": 322,
    "start_time": "2022-06-09T10:17:18.293Z"
   },
   {
    "duration": 320,
    "start_time": "2022-06-09T10:17:58.120Z"
   },
   {
    "duration": 305,
    "start_time": "2022-06-09T10:18:05.048Z"
   },
   {
    "duration": 404,
    "start_time": "2022-06-09T10:18:10.548Z"
   },
   {
    "duration": 325,
    "start_time": "2022-06-09T10:18:19.248Z"
   },
   {
    "duration": 300,
    "start_time": "2022-06-09T10:19:11.867Z"
   },
   {
    "duration": 196,
    "start_time": "2022-06-09T10:20:05.358Z"
   },
   {
    "duration": 776,
    "start_time": "2022-06-09T10:21:08.987Z"
   },
   {
    "duration": 391,
    "start_time": "2022-06-09T10:22:06.047Z"
   },
   {
    "duration": 387,
    "start_time": "2022-06-09T10:22:10.781Z"
   },
   {
    "duration": 1022,
    "start_time": "2022-06-09T10:22:53.581Z"
   },
   {
    "duration": 979,
    "start_time": "2022-06-09T10:22:57.603Z"
   },
   {
    "duration": 186,
    "start_time": "2022-06-09T10:23:38.591Z"
   },
   {
    "duration": 198,
    "start_time": "2022-06-09T10:23:43.771Z"
   },
   {
    "duration": 5,
    "start_time": "2022-06-09T10:23:50.359Z"
   },
   {
    "duration": 250,
    "start_time": "2022-06-09T10:24:07.340Z"
   },
   {
    "duration": 196,
    "start_time": "2022-06-09T10:24:33.348Z"
   },
   {
    "duration": 7,
    "start_time": "2022-06-09T10:28:38.047Z"
   },
   {
    "duration": 389,
    "start_time": "2022-06-09T10:42:06.024Z"
   },
   {
    "duration": 993,
    "start_time": "2022-06-09T10:43:39.484Z"
   },
   {
    "duration": 14,
    "start_time": "2022-06-09T10:43:42.021Z"
   },
   {
    "duration": 195,
    "start_time": "2022-06-09T10:48:32.724Z"
   },
   {
    "duration": 12,
    "start_time": "2022-06-09T11:34:53.412Z"
   },
   {
    "duration": 5,
    "start_time": "2022-06-09T11:34:58.071Z"
   },
   {
    "duration": 48,
    "start_time": "2022-06-09T11:34:58.078Z"
   },
   {
    "duration": 10,
    "start_time": "2022-06-09T11:34:58.128Z"
   },
   {
    "duration": 6,
    "start_time": "2022-06-09T11:34:58.140Z"
   },
   {
    "duration": 37,
    "start_time": "2022-06-09T11:34:58.148Z"
   },
   {
    "duration": 7,
    "start_time": "2022-06-09T11:34:58.187Z"
   },
   {
    "duration": 39,
    "start_time": "2022-06-09T11:34:58.196Z"
   },
   {
    "duration": 1727,
    "start_time": "2022-06-09T11:34:58.237Z"
   },
   {
    "duration": 670,
    "start_time": "2022-06-09T11:34:59.965Z"
   },
   {
    "duration": 47,
    "start_time": "2022-06-09T11:35:00.636Z"
   },
   {
    "duration": 8,
    "start_time": "2022-06-09T11:35:00.695Z"
   },
   {
    "duration": 23,
    "start_time": "2022-06-09T11:35:00.704Z"
   },
   {
    "duration": 26,
    "start_time": "2022-06-09T11:35:00.729Z"
   },
   {
    "duration": 22,
    "start_time": "2022-06-09T11:35:00.757Z"
   },
   {
    "duration": 16,
    "start_time": "2022-06-09T11:35:03.397Z"
   },
   {
    "duration": 16,
    "start_time": "2022-06-09T11:35:11.584Z"
   },
   {
    "duration": 5,
    "start_time": "2022-06-09T11:35:38.463Z"
   },
   {
    "duration": 1174,
    "start_time": "2022-06-09T11:35:42.471Z"
   },
   {
    "duration": 41,
    "start_time": "2022-06-09T11:35:43.646Z"
   },
   {
    "duration": 10,
    "start_time": "2022-06-09T11:35:43.688Z"
   },
   {
    "duration": 3,
    "start_time": "2022-06-09T11:35:43.700Z"
   },
   {
    "duration": 29,
    "start_time": "2022-06-09T11:35:43.704Z"
   },
   {
    "duration": 9,
    "start_time": "2022-06-09T11:35:43.734Z"
   },
   {
    "duration": 56,
    "start_time": "2022-06-09T11:35:43.745Z"
   },
   {
    "duration": 2397,
    "start_time": "2022-06-09T11:35:43.802Z"
   },
   {
    "duration": 778,
    "start_time": "2022-06-09T11:35:46.201Z"
   },
   {
    "duration": 57,
    "start_time": "2022-06-09T11:35:46.981Z"
   },
   {
    "duration": 8,
    "start_time": "2022-06-09T11:35:47.039Z"
   },
   {
    "duration": 13,
    "start_time": "2022-06-09T11:35:47.048Z"
   },
   {
    "duration": 37,
    "start_time": "2022-06-09T11:35:47.062Z"
   },
   {
    "duration": 11,
    "start_time": "2022-06-09T11:35:47.100Z"
   },
   {
    "duration": 116,
    "start_time": "2022-06-09T11:35:47.112Z"
   },
   {
    "duration": 0,
    "start_time": "2022-06-09T11:35:47.230Z"
   },
   {
    "duration": 0,
    "start_time": "2022-06-09T11:35:47.232Z"
   },
   {
    "duration": 0,
    "start_time": "2022-06-09T11:35:47.233Z"
   },
   {
    "duration": 0,
    "start_time": "2022-06-09T11:35:47.234Z"
   },
   {
    "duration": 0,
    "start_time": "2022-06-09T11:35:47.235Z"
   },
   {
    "duration": 0,
    "start_time": "2022-06-09T11:35:47.237Z"
   },
   {
    "duration": 0,
    "start_time": "2022-06-09T11:35:47.238Z"
   },
   {
    "duration": 0,
    "start_time": "2022-06-09T11:35:47.239Z"
   },
   {
    "duration": 0,
    "start_time": "2022-06-09T11:35:47.240Z"
   },
   {
    "duration": 0,
    "start_time": "2022-06-09T11:35:47.242Z"
   },
   {
    "duration": 0,
    "start_time": "2022-06-09T11:35:47.243Z"
   },
   {
    "duration": 0,
    "start_time": "2022-06-09T11:35:47.244Z"
   },
   {
    "duration": 0,
    "start_time": "2022-06-09T11:35:47.246Z"
   },
   {
    "duration": 0,
    "start_time": "2022-06-09T11:35:47.247Z"
   },
   {
    "duration": 0,
    "start_time": "2022-06-09T11:35:47.248Z"
   },
   {
    "duration": 0,
    "start_time": "2022-06-09T11:35:47.249Z"
   },
   {
    "duration": 0,
    "start_time": "2022-06-09T11:35:47.251Z"
   },
   {
    "duration": 0,
    "start_time": "2022-06-09T11:35:47.252Z"
   },
   {
    "duration": 0,
    "start_time": "2022-06-09T11:35:47.253Z"
   },
   {
    "duration": 12,
    "start_time": "2022-06-09T11:35:57.541Z"
   },
   {
    "duration": 25,
    "start_time": "2022-06-09T11:36:00.640Z"
   },
   {
    "duration": 21,
    "start_time": "2022-06-09T11:36:19.194Z"
   },
   {
    "duration": 24,
    "start_time": "2022-06-09T11:36:24.784Z"
   },
   {
    "duration": 5,
    "start_time": "2022-06-09T11:36:39.981Z"
   },
   {
    "duration": 40,
    "start_time": "2022-06-09T11:36:41.168Z"
   },
   {
    "duration": 10,
    "start_time": "2022-06-09T11:36:43.684Z"
   },
   {
    "duration": 4,
    "start_time": "2022-06-09T11:36:45.301Z"
   },
   {
    "duration": 23,
    "start_time": "2022-06-09T11:36:48.050Z"
   },
   {
    "duration": 7,
    "start_time": "2022-06-09T11:36:50.198Z"
   },
   {
    "duration": 35,
    "start_time": "2022-06-09T11:36:52.049Z"
   },
   {
    "duration": 1769,
    "start_time": "2022-06-09T11:36:54.167Z"
   },
   {
    "duration": 615,
    "start_time": "2022-06-09T11:36:55.937Z"
   },
   {
    "duration": 51,
    "start_time": "2022-06-09T11:37:00.488Z"
   },
   {
    "duration": 9,
    "start_time": "2022-06-09T11:37:02.689Z"
   },
   {
    "duration": 13,
    "start_time": "2022-06-09T11:37:04.979Z"
   },
   {
    "duration": 18,
    "start_time": "2022-06-09T11:37:08.361Z"
   },
   {
    "duration": 12,
    "start_time": "2022-06-09T11:37:19.212Z"
   },
   {
    "duration": 12,
    "start_time": "2022-06-09T11:37:21.585Z"
   },
   {
    "duration": 20,
    "start_time": "2022-06-09T11:37:32.940Z"
   },
   {
    "duration": 13,
    "start_time": "2022-06-09T11:39:11.064Z"
   },
   {
    "duration": 19,
    "start_time": "2022-06-09T11:39:15.916Z"
   },
   {
    "duration": 3,
    "start_time": "2022-06-09T11:39:51.256Z"
   },
   {
    "duration": 118,
    "start_time": "2022-06-09T11:40:13.800Z"
   },
   {
    "duration": 4,
    "start_time": "2022-06-09T11:40:16.283Z"
   },
   {
    "duration": 25,
    "start_time": "2022-06-09T11:40:20.538Z"
   },
   {
    "duration": 623,
    "start_time": "2022-06-09T11:40:26.253Z"
   },
   {
    "duration": 287,
    "start_time": "2022-06-09T11:40:46.349Z"
   },
   {
    "duration": 6,
    "start_time": "2022-06-09T11:40:51.649Z"
   },
   {
    "duration": 568,
    "start_time": "2022-06-09T11:41:01.110Z"
   },
   {
    "duration": 579,
    "start_time": "2022-06-09T11:41:19.969Z"
   },
   {
    "duration": 167,
    "start_time": "2022-06-09T11:41:24.875Z"
   },
   {
    "duration": 6,
    "start_time": "2022-06-09T11:41:28.522Z"
   },
   {
    "duration": 10,
    "start_time": "2022-06-09T11:41:34.656Z"
   },
   {
    "duration": 426,
    "start_time": "2022-06-09T11:41:36.908Z"
   },
   {
    "duration": 11,
    "start_time": "2022-06-09T11:41:46.197Z"
   },
   {
    "duration": 742,
    "start_time": "2022-06-09T11:41:49.153Z"
   },
   {
    "duration": 192,
    "start_time": "2022-06-09T11:41:55.462Z"
   },
   {
    "duration": 201,
    "start_time": "2022-06-09T11:42:29.912Z"
   },
   {
    "duration": 27,
    "start_time": "2022-06-09T11:43:29.709Z"
   },
   {
    "duration": 5,
    "start_time": "2022-06-09T11:43:35.450Z"
   },
   {
    "duration": 69,
    "start_time": "2022-06-09T11:43:35.457Z"
   },
   {
    "duration": 9,
    "start_time": "2022-06-09T11:43:35.528Z"
   },
   {
    "duration": 5,
    "start_time": "2022-06-09T11:43:35.538Z"
   },
   {
    "duration": 28,
    "start_time": "2022-06-09T11:43:35.544Z"
   },
   {
    "duration": 10,
    "start_time": "2022-06-09T11:43:35.574Z"
   },
   {
    "duration": 31,
    "start_time": "2022-06-09T11:43:35.593Z"
   },
   {
    "duration": 1779,
    "start_time": "2022-06-09T11:43:35.626Z"
   },
   {
    "duration": 797,
    "start_time": "2022-06-09T11:43:37.409Z"
   },
   {
    "duration": 49,
    "start_time": "2022-06-09T11:43:38.208Z"
   },
   {
    "duration": 7,
    "start_time": "2022-06-09T11:43:38.259Z"
   },
   {
    "duration": 32,
    "start_time": "2022-06-09T11:43:38.268Z"
   },
   {
    "duration": 20,
    "start_time": "2022-06-09T11:43:38.301Z"
   },
   {
    "duration": 13,
    "start_time": "2022-06-09T11:43:38.322Z"
   },
   {
    "duration": 29,
    "start_time": "2022-06-09T11:43:38.337Z"
   },
   {
    "duration": 20,
    "start_time": "2022-06-09T11:43:41.556Z"
   },
   {
    "duration": 19,
    "start_time": "2022-06-09T11:45:06.767Z"
   },
   {
    "duration": 104,
    "start_time": "2022-06-09T11:45:13.192Z"
   },
   {
    "duration": 7,
    "start_time": "2022-06-09T11:45:15.802Z"
   },
   {
    "duration": 87,
    "start_time": "2022-06-09T11:45:18.715Z"
   },
   {
    "duration": 668,
    "start_time": "2022-06-09T11:45:21.019Z"
   },
   {
    "duration": 397,
    "start_time": "2022-06-09T11:45:24.013Z"
   },
   {
    "duration": 7,
    "start_time": "2022-06-09T11:45:27.717Z"
   },
   {
    "duration": 595,
    "start_time": "2022-06-09T11:45:30.684Z"
   },
   {
    "duration": 178,
    "start_time": "2022-06-09T11:45:33.450Z"
   },
   {
    "duration": 33,
    "start_time": "2022-06-09T11:46:53.583Z"
   },
   {
    "duration": 687,
    "start_time": "2022-06-09T11:47:58.386Z"
   },
   {
    "duration": 35,
    "start_time": "2022-06-09T11:48:12.601Z"
   },
   {
    "duration": 63,
    "start_time": "2022-06-09T11:48:23.616Z"
   },
   {
    "duration": 11,
    "start_time": "2022-06-09T11:50:55.969Z"
   },
   {
    "duration": 18,
    "start_time": "2022-06-09T11:56:39.329Z"
   },
   {
    "duration": 19,
    "start_time": "2022-06-09T11:56:45.232Z"
   },
   {
    "duration": 103863,
    "start_time": "2022-06-09T11:57:18.033Z"
   },
   {
    "duration": 26,
    "start_time": "2022-06-09T11:59:08.945Z"
   },
   {
    "duration": 173064,
    "start_time": "2022-06-09T11:59:15.461Z"
   },
   {
    "duration": 5,
    "start_time": "2022-06-09T12:02:08.527Z"
   },
   {
    "duration": 26,
    "start_time": "2022-06-09T12:02:41.288Z"
   },
   {
    "duration": 1558,
    "start_time": "2022-06-09T12:05:22.513Z"
   },
   {
    "duration": 1294,
    "start_time": "2022-06-09T12:05:27.322Z"
   },
   {
    "duration": 1311,
    "start_time": "2022-06-09T12:05:31.280Z"
   },
   {
    "duration": 1217,
    "start_time": "2022-06-09T12:05:35.855Z"
   },
   {
    "duration": 17,
    "start_time": "2022-06-09T12:05:47.909Z"
   },
   {
    "duration": 1910,
    "start_time": "2022-06-09T12:07:54.151Z"
   },
   {
    "duration": 1892,
    "start_time": "2022-06-09T12:08:10.462Z"
   },
   {
    "duration": 1970,
    "start_time": "2022-06-09T12:08:27.430Z"
   },
   {
    "duration": 2700,
    "start_time": "2022-06-09T12:08:42.277Z"
   },
   {
    "duration": 2626,
    "start_time": "2022-06-09T12:08:52.878Z"
   },
   {
    "duration": 5008,
    "start_time": "2022-06-09T12:09:48.465Z"
   },
   {
    "duration": 8333,
    "start_time": "2022-06-09T12:11:29.654Z"
   },
   {
    "duration": 4983,
    "start_time": "2022-06-09T12:11:47.956Z"
   },
   {
    "duration": 4641,
    "start_time": "2022-06-09T12:12:05.965Z"
   },
   {
    "duration": 62,
    "start_time": "2022-06-09T12:12:24.965Z"
   },
   {
    "duration": 42,
    "start_time": "2022-06-09T12:12:29.280Z"
   },
   {
    "duration": 416,
    "start_time": "2022-06-09T12:12:55.693Z"
   },
   {
    "duration": 8002,
    "start_time": "2022-06-09T12:13:09.895Z"
   },
   {
    "duration": 4654,
    "start_time": "2022-06-09T12:13:24.049Z"
   },
   {
    "duration": 38,
    "start_time": "2022-06-09T12:13:33.551Z"
   },
   {
    "duration": 15,
    "start_time": "2022-06-09T12:14:07.816Z"
   },
   {
    "duration": 11,
    "start_time": "2022-06-09T12:14:12.016Z"
   },
   {
    "duration": 39,
    "start_time": "2022-06-09T12:14:20.259Z"
   },
   {
    "duration": 28,
    "start_time": "2022-06-09T12:14:25.814Z"
   },
   {
    "duration": 8017,
    "start_time": "2022-06-09T12:14:35.644Z"
   },
   {
    "duration": 53,
    "start_time": "2022-06-09T12:14:52.295Z"
   },
   {
    "duration": 8556,
    "start_time": "2022-06-09T12:14:57.266Z"
   },
   {
    "duration": 61,
    "start_time": "2022-06-09T12:15:12.488Z"
   },
   {
    "duration": 8395,
    "start_time": "2022-06-09T12:15:26.311Z"
   },
   {
    "duration": 4191,
    "start_time": "2022-06-09T12:15:41.283Z"
   },
   {
    "duration": 3,
    "start_time": "2022-06-09T12:16:16.487Z"
   },
   {
    "duration": 103,
    "start_time": "2022-06-09T12:16:20.463Z"
   },
   {
    "duration": 32,
    "start_time": "2022-06-09T12:16:33.582Z"
   },
   {
    "duration": 4,
    "start_time": "2022-06-09T12:19:45.388Z"
   },
   {
    "duration": 5,
    "start_time": "2022-06-09T12:19:52.417Z"
   },
   {
    "duration": 4,
    "start_time": "2022-06-09T12:20:06.764Z"
   },
   {
    "duration": 48,
    "start_time": "2022-06-09T12:21:07.544Z"
   },
   {
    "duration": 17314,
    "start_time": "2022-06-09T12:21:20.939Z"
   },
   {
    "duration": 703,
    "start_time": "2022-06-09T12:22:25.532Z"
   },
   {
    "duration": 709,
    "start_time": "2022-06-09T12:22:33.485Z"
   },
   {
    "duration": 11,
    "start_time": "2022-06-09T12:22:35.951Z"
   },
   {
    "duration": 706,
    "start_time": "2022-06-09T12:22:38.043Z"
   },
   {
    "duration": 18032,
    "start_time": "2022-06-09T12:22:46.678Z"
   },
   {
    "duration": 4864,
    "start_time": "2022-06-09T12:23:45.843Z"
   },
   {
    "duration": 129,
    "start_time": "2022-06-09T12:23:55.856Z"
   },
   {
    "duration": 164,
    "start_time": "2022-06-09T12:25:10.362Z"
   },
   {
    "duration": 190,
    "start_time": "2022-06-09T12:26:15.741Z"
   },
   {
    "duration": 190,
    "start_time": "2022-06-09T12:33:11.637Z"
   },
   {
    "duration": 60,
    "start_time": "2022-06-09T12:34:41.615Z"
   },
   {
    "duration": 171,
    "start_time": "2022-06-09T12:34:45.736Z"
   },
   {
    "duration": 196,
    "start_time": "2022-06-09T12:36:19.350Z"
   },
   {
    "duration": 246,
    "start_time": "2022-06-09T12:36:33.500Z"
   },
   {
    "duration": 9,
    "start_time": "2022-06-09T12:37:10.239Z"
   },
   {
    "duration": 155,
    "start_time": "2022-06-09T12:37:20.740Z"
   },
   {
    "duration": 25,
    "start_time": "2022-06-09T12:38:05.441Z"
   },
   {
    "duration": 5,
    "start_time": "2022-06-09T12:38:15.349Z"
   },
   {
    "duration": 43,
    "start_time": "2022-06-09T12:38:15.356Z"
   },
   {
    "duration": 11,
    "start_time": "2022-06-09T12:38:15.401Z"
   },
   {
    "duration": 4,
    "start_time": "2022-06-09T12:38:15.413Z"
   },
   {
    "duration": 23,
    "start_time": "2022-06-09T12:38:15.420Z"
   },
   {
    "duration": 9,
    "start_time": "2022-06-09T12:38:15.445Z"
   },
   {
    "duration": 67,
    "start_time": "2022-06-09T12:38:15.456Z"
   },
   {
    "duration": 1869,
    "start_time": "2022-06-09T12:38:15.525Z"
   },
   {
    "duration": 655,
    "start_time": "2022-06-09T12:38:17.396Z"
   },
   {
    "duration": 57,
    "start_time": "2022-06-09T12:38:18.053Z"
   },
   {
    "duration": 6,
    "start_time": "2022-06-09T12:38:18.112Z"
   },
   {
    "duration": 11,
    "start_time": "2022-06-09T12:38:18.120Z"
   },
   {
    "duration": 18,
    "start_time": "2022-06-09T12:38:18.133Z"
   },
   {
    "duration": 11,
    "start_time": "2022-06-09T12:38:18.153Z"
   },
   {
    "duration": 36,
    "start_time": "2022-06-09T12:38:18.165Z"
   },
   {
    "duration": 28,
    "start_time": "2022-06-09T12:38:18.202Z"
   },
   {
    "duration": 110,
    "start_time": "2022-06-09T12:38:18.232Z"
   },
   {
    "duration": 4,
    "start_time": "2022-06-09T12:38:18.344Z"
   },
   {
    "duration": 49,
    "start_time": "2022-06-09T12:38:18.349Z"
   },
   {
    "duration": 744,
    "start_time": "2022-06-09T12:38:18.400Z"
   },
   {
    "duration": 353,
    "start_time": "2022-06-09T12:38:19.145Z"
   },
   {
    "duration": 216,
    "start_time": "2022-06-09T12:38:19.499Z"
   },
   {
    "duration": 1120,
    "start_time": "2022-06-09T12:38:19.717Z"
   },
   {
    "duration": 481,
    "start_time": "2022-06-09T12:38:20.839Z"
   },
   {
    "duration": 8,
    "start_time": "2022-06-09T12:38:21.322Z"
   },
   {
    "duration": 295,
    "start_time": "2022-06-09T12:38:21.332Z"
   },
   {
    "duration": 505,
    "start_time": "2022-06-09T12:38:21.629Z"
   },
   {
    "duration": 14,
    "start_time": "2022-06-09T12:38:22.136Z"
   },
   {
    "duration": 782,
    "start_time": "2022-06-09T12:38:22.152Z"
   },
   {
    "duration": 192,
    "start_time": "2022-06-09T12:38:22.936Z"
   },
   {
    "duration": 17421,
    "start_time": "2022-06-09T12:38:23.129Z"
   },
   {
    "duration": 4858,
    "start_time": "2022-06-09T12:38:40.551Z"
   },
   {
    "duration": 58,
    "start_time": "2022-06-09T12:38:45.410Z"
   },
   {
    "duration": 249,
    "start_time": "2022-06-09T12:38:45.469Z"
   },
   {
    "duration": 101,
    "start_time": "2022-06-09T12:38:55.995Z"
   },
   {
    "duration": 235,
    "start_time": "2022-06-09T12:39:23.231Z"
   },
   {
    "duration": 271,
    "start_time": "2022-06-09T12:39:36.558Z"
   },
   {
    "duration": 9498,
    "start_time": "2022-06-09T12:40:08.973Z"
   },
   {
    "duration": 0,
    "start_time": "2022-06-09T12:40:18.472Z"
   },
   {
    "duration": 0,
    "start_time": "2022-06-09T12:40:18.473Z"
   },
   {
    "duration": 1219,
    "start_time": "2022-06-09T12:40:33.902Z"
   },
   {
    "duration": 41,
    "start_time": "2022-06-09T12:40:35.122Z"
   },
   {
    "duration": 10,
    "start_time": "2022-06-09T12:40:35.165Z"
   },
   {
    "duration": 8,
    "start_time": "2022-06-09T12:40:35.177Z"
   },
   {
    "duration": 42,
    "start_time": "2022-06-09T12:40:35.186Z"
   },
   {
    "duration": 8,
    "start_time": "2022-06-09T12:40:35.229Z"
   },
   {
    "duration": 36,
    "start_time": "2022-06-09T12:40:35.238Z"
   },
   {
    "duration": 1754,
    "start_time": "2022-06-09T12:40:35.275Z"
   },
   {
    "duration": 695,
    "start_time": "2022-06-09T12:40:37.031Z"
   },
   {
    "duration": 69,
    "start_time": "2022-06-09T12:40:37.728Z"
   },
   {
    "duration": 8,
    "start_time": "2022-06-09T12:40:37.798Z"
   },
   {
    "duration": 12,
    "start_time": "2022-06-09T12:40:37.807Z"
   },
   {
    "duration": 18,
    "start_time": "2022-06-09T12:40:37.820Z"
   },
   {
    "duration": 10,
    "start_time": "2022-06-09T12:40:37.840Z"
   },
   {
    "duration": 15,
    "start_time": "2022-06-09T12:40:37.852Z"
   },
   {
    "duration": 27,
    "start_time": "2022-06-09T12:40:37.893Z"
   },
   {
    "duration": 116,
    "start_time": "2022-06-09T12:40:37.922Z"
   },
   {
    "duration": 4,
    "start_time": "2022-06-09T12:40:38.040Z"
   },
   {
    "duration": 53,
    "start_time": "2022-06-09T12:40:38.046Z"
   },
   {
    "duration": 764,
    "start_time": "2022-06-09T12:40:38.101Z"
   },
   {
    "duration": 381,
    "start_time": "2022-06-09T12:40:38.867Z"
   },
   {
    "duration": 177,
    "start_time": "2022-06-09T12:40:39.249Z"
   },
   {
    "duration": 580,
    "start_time": "2022-06-09T12:40:39.428Z"
   },
   {
    "duration": 172,
    "start_time": "2022-06-09T12:40:40.009Z"
   },
   {
    "duration": 93,
    "start_time": "2022-06-09T12:40:40.183Z"
   },
   {
    "duration": 18,
    "start_time": "2022-06-09T12:40:40.277Z"
   },
   {
    "duration": 306,
    "start_time": "2022-06-09T12:40:40.296Z"
   },
   {
    "duration": 11,
    "start_time": "2022-06-09T12:40:40.605Z"
   },
   {
    "duration": 733,
    "start_time": "2022-06-09T12:40:40.617Z"
   },
   {
    "duration": 271,
    "start_time": "2022-06-09T12:40:41.352Z"
   },
   {
    "duration": 17119,
    "start_time": "2022-06-09T12:40:41.624Z"
   },
   {
    "duration": 4779,
    "start_time": "2022-06-09T12:40:58.745Z"
   },
   {
    "duration": 70,
    "start_time": "2022-06-09T12:41:03.526Z"
   },
   {
    "duration": 258,
    "start_time": "2022-06-09T12:41:03.597Z"
   },
   {
    "duration": 1486,
    "start_time": "2022-06-09T16:03:41.848Z"
   },
   {
    "duration": 96,
    "start_time": "2022-06-09T16:03:43.337Z"
   },
   {
    "duration": 12,
    "start_time": "2022-06-09T16:03:43.435Z"
   },
   {
    "duration": 5,
    "start_time": "2022-06-09T16:03:43.449Z"
   },
   {
    "duration": 27,
    "start_time": "2022-06-09T16:03:43.455Z"
   },
   {
    "duration": 9,
    "start_time": "2022-06-09T16:03:43.483Z"
   },
   {
    "duration": 40,
    "start_time": "2022-06-09T16:03:43.494Z"
   },
   {
    "duration": 2138,
    "start_time": "2022-06-09T16:03:43.536Z"
   },
   {
    "duration": 1253,
    "start_time": "2022-06-09T16:03:45.675Z"
   },
   {
    "duration": 171,
    "start_time": "2022-06-09T16:03:46.930Z"
   },
   {
    "duration": 14,
    "start_time": "2022-06-09T16:03:47.105Z"
   },
   {
    "duration": 23,
    "start_time": "2022-06-09T16:03:47.120Z"
   },
   {
    "duration": 29,
    "start_time": "2022-06-09T16:03:47.195Z"
   },
   {
    "duration": 13,
    "start_time": "2022-06-09T16:03:47.225Z"
   },
   {
    "duration": 82,
    "start_time": "2022-06-09T16:03:47.239Z"
   },
   {
    "duration": 83,
    "start_time": "2022-06-09T16:03:47.324Z"
   },
   {
    "duration": 321,
    "start_time": "2022-06-09T16:03:47.413Z"
   },
   {
    "duration": 5,
    "start_time": "2022-06-09T16:03:47.737Z"
   },
   {
    "duration": 304,
    "start_time": "2022-06-09T16:03:47.793Z"
   },
   {
    "duration": 790,
    "start_time": "2022-06-09T16:03:48.099Z"
   },
   {
    "duration": 383,
    "start_time": "2022-06-09T16:03:48.896Z"
   },
   {
    "duration": 227,
    "start_time": "2022-06-09T16:03:49.281Z"
   },
   {
    "duration": 715,
    "start_time": "2022-06-09T16:03:49.510Z"
   },
   {
    "duration": 201,
    "start_time": "2022-06-09T16:03:50.227Z"
   },
   {
    "duration": 114,
    "start_time": "2022-06-09T16:03:50.430Z"
   },
   {
    "duration": 12,
    "start_time": "2022-06-09T16:03:50.546Z"
   },
   {
    "duration": 398,
    "start_time": "2022-06-09T16:03:50.560Z"
   },
   {
    "duration": 15,
    "start_time": "2022-06-09T16:03:50.961Z"
   },
   {
    "duration": 879,
    "start_time": "2022-06-09T16:03:50.978Z"
   },
   {
    "duration": 319,
    "start_time": "2022-06-09T16:03:51.859Z"
   },
   {
    "duration": 20332,
    "start_time": "2022-06-09T16:03:52.180Z"
   },
   {
    "duration": 5400,
    "start_time": "2022-06-09T16:04:12.515Z"
   },
   {
    "duration": 67,
    "start_time": "2022-06-09T16:04:17.917Z"
   },
   {
    "duration": 289,
    "start_time": "2022-06-09T16:04:17.995Z"
   },
   {
    "duration": 277,
    "start_time": "2022-06-09T16:06:44.825Z"
   },
   {
    "duration": 313,
    "start_time": "2022-06-09T16:06:48.253Z"
   },
   {
    "duration": 15,
    "start_time": "2022-06-09T16:06:51.732Z"
   },
   {
    "duration": 376,
    "start_time": "2022-06-09T16:07:15.308Z"
   },
   {
    "duration": 59,
    "start_time": "2022-06-09T16:07:53.693Z"
   },
   {
    "duration": 204,
    "start_time": "2022-06-09T16:08:49.909Z"
   },
   {
    "duration": 1528,
    "start_time": "2022-06-09T16:11:59.654Z"
   },
   {
    "duration": 46,
    "start_time": "2022-06-09T16:12:01.185Z"
   },
   {
    "duration": 12,
    "start_time": "2022-06-09T16:12:01.232Z"
   },
   {
    "duration": 10,
    "start_time": "2022-06-09T16:12:01.246Z"
   },
   {
    "duration": 41,
    "start_time": "2022-06-09T16:12:01.258Z"
   },
   {
    "duration": 14,
    "start_time": "2022-06-09T16:12:01.300Z"
   },
   {
    "duration": 49,
    "start_time": "2022-06-09T16:12:01.315Z"
   },
   {
    "duration": 2249,
    "start_time": "2022-06-09T16:12:01.366Z"
   },
   {
    "duration": 815,
    "start_time": "2022-06-09T16:12:03.617Z"
   },
   {
    "duration": 74,
    "start_time": "2022-06-09T16:12:04.435Z"
   },
   {
    "duration": 10,
    "start_time": "2022-06-09T16:12:04.511Z"
   },
   {
    "duration": 29,
    "start_time": "2022-06-09T16:12:04.522Z"
   },
   {
    "duration": 39,
    "start_time": "2022-06-09T16:12:04.553Z"
   },
   {
    "duration": 22,
    "start_time": "2022-06-09T16:12:04.594Z"
   },
   {
    "duration": 35,
    "start_time": "2022-06-09T16:12:04.617Z"
   },
   {
    "duration": 27,
    "start_time": "2022-06-09T16:12:04.654Z"
   },
   {
    "duration": 156,
    "start_time": "2022-06-09T16:12:04.683Z"
   },
   {
    "duration": 5,
    "start_time": "2022-06-09T16:12:04.840Z"
   },
   {
    "duration": 68,
    "start_time": "2022-06-09T16:12:04.846Z"
   },
   {
    "duration": 910,
    "start_time": "2022-06-09T16:12:04.918Z"
   },
   {
    "duration": 371,
    "start_time": "2022-06-09T16:12:05.830Z"
   },
   {
    "duration": 686,
    "start_time": "2022-06-09T16:12:06.206Z"
   },
   {
    "duration": 229,
    "start_time": "2022-06-09T16:12:06.896Z"
   },
   {
    "duration": 13,
    "start_time": "2022-06-09T16:12:07.128Z"
   },
   {
    "duration": 405,
    "start_time": "2022-06-09T16:12:07.142Z"
   },
   {
    "duration": 15,
    "start_time": "2022-06-09T16:12:07.549Z"
   },
   {
    "duration": 897,
    "start_time": "2022-06-09T16:12:07.567Z"
   },
   {
    "duration": 317,
    "start_time": "2022-06-09T16:12:08.468Z"
   },
   {
    "duration": 22457,
    "start_time": "2022-06-09T16:12:08.786Z"
   },
   {
    "duration": 5532,
    "start_time": "2022-06-09T16:12:31.244Z"
   },
   {
    "duration": 91,
    "start_time": "2022-06-09T16:12:36.777Z"
   },
   {
    "duration": 288,
    "start_time": "2022-06-09T16:12:36.870Z"
   },
   {
    "duration": 6,
    "start_time": "2022-06-09T16:12:46.066Z"
   },
   {
    "duration": 37,
    "start_time": "2022-06-09T16:13:10.636Z"
   },
   {
    "duration": 20281,
    "start_time": "2022-06-09T16:13:29.754Z"
   },
   {
    "duration": 5,
    "start_time": "2022-06-09T16:14:56.469Z"
   },
   {
    "duration": 79,
    "start_time": "2022-06-09T16:15:30.435Z"
   },
   {
    "duration": 5485,
    "start_time": "2022-06-09T16:19:00.475Z"
   },
   {
    "duration": 5405,
    "start_time": "2022-06-09T16:20:33.355Z"
   },
   {
    "duration": 1400,
    "start_time": "2022-06-09T16:27:48.014Z"
   },
   {
    "duration": 42,
    "start_time": "2022-06-09T16:27:49.416Z"
   },
   {
    "duration": 16,
    "start_time": "2022-06-09T16:27:49.460Z"
   },
   {
    "duration": 4,
    "start_time": "2022-06-09T16:27:49.478Z"
   },
   {
    "duration": 32,
    "start_time": "2022-06-09T16:27:49.484Z"
   },
   {
    "duration": 8,
    "start_time": "2022-06-09T16:27:49.518Z"
   },
   {
    "duration": 38,
    "start_time": "2022-06-09T16:27:49.528Z"
   },
   {
    "duration": 2186,
    "start_time": "2022-06-09T16:27:49.567Z"
   },
   {
    "duration": 794,
    "start_time": "2022-06-09T16:27:51.754Z"
   },
   {
    "duration": 71,
    "start_time": "2022-06-09T16:27:52.550Z"
   },
   {
    "duration": 10,
    "start_time": "2022-06-09T16:27:52.623Z"
   },
   {
    "duration": 15,
    "start_time": "2022-06-09T16:27:52.634Z"
   },
   {
    "duration": 49,
    "start_time": "2022-06-09T16:27:52.650Z"
   },
   {
    "duration": 17,
    "start_time": "2022-06-09T16:27:52.702Z"
   },
   {
    "duration": 15,
    "start_time": "2022-06-09T16:27:52.720Z"
   },
   {
    "duration": 36,
    "start_time": "2022-06-09T16:27:52.737Z"
   },
   {
    "duration": 145,
    "start_time": "2022-06-09T16:27:52.775Z"
   },
   {
    "duration": 4,
    "start_time": "2022-06-09T16:27:52.922Z"
   },
   {
    "duration": 77,
    "start_time": "2022-06-09T16:27:52.928Z"
   },
   {
    "duration": 785,
    "start_time": "2022-06-09T16:27:53.006Z"
   },
   {
    "duration": 380,
    "start_time": "2022-06-09T16:27:53.794Z"
   },
   {
    "duration": 691,
    "start_time": "2022-06-09T16:27:54.176Z"
   },
   {
    "duration": 210,
    "start_time": "2022-06-09T16:27:54.869Z"
   },
   {
    "duration": 22,
    "start_time": "2022-06-09T16:27:55.081Z"
   },
   {
    "duration": 383,
    "start_time": "2022-06-09T16:27:55.105Z"
   },
   {
    "duration": 18,
    "start_time": "2022-06-09T16:27:55.490Z"
   },
   {
    "duration": 868,
    "start_time": "2022-06-09T16:27:55.510Z"
   },
   {
    "duration": 304,
    "start_time": "2022-06-09T16:27:56.380Z"
   },
   {
    "duration": 20687,
    "start_time": "2022-06-09T16:27:56.686Z"
   },
   {
    "duration": 5667,
    "start_time": "2022-06-09T16:28:17.375Z"
   },
   {
    "duration": 82,
    "start_time": "2022-06-09T16:28:23.044Z"
   },
   {
    "duration": 311,
    "start_time": "2022-06-09T16:28:23.127Z"
   },
   {
    "duration": 1524,
    "start_time": "2022-06-10T06:20:26.099Z"
   },
   {
    "duration": 79,
    "start_time": "2022-06-10T06:20:27.626Z"
   },
   {
    "duration": 13,
    "start_time": "2022-06-10T06:20:27.706Z"
   },
   {
    "duration": 4,
    "start_time": "2022-06-10T06:20:27.721Z"
   },
   {
    "duration": 30,
    "start_time": "2022-06-10T06:20:27.727Z"
   },
   {
    "duration": 9,
    "start_time": "2022-06-10T06:20:27.758Z"
   },
   {
    "duration": 32,
    "start_time": "2022-06-10T06:20:27.769Z"
   },
   {
    "duration": 1905,
    "start_time": "2022-06-10T06:20:27.803Z"
   },
   {
    "duration": 644,
    "start_time": "2022-06-10T06:20:29.710Z"
   },
   {
    "duration": 48,
    "start_time": "2022-06-10T06:20:30.357Z"
   },
   {
    "duration": 21,
    "start_time": "2022-06-10T06:20:30.407Z"
   },
   {
    "duration": 22,
    "start_time": "2022-06-10T06:20:30.429Z"
   },
   {
    "duration": 28,
    "start_time": "2022-06-10T06:20:30.453Z"
   },
   {
    "duration": 19,
    "start_time": "2022-06-10T06:20:30.482Z"
   },
   {
    "duration": 24,
    "start_time": "2022-06-10T06:20:30.503Z"
   },
   {
    "duration": 25,
    "start_time": "2022-06-10T06:20:30.529Z"
   },
   {
    "duration": 113,
    "start_time": "2022-06-10T06:20:30.555Z"
   },
   {
    "duration": 4,
    "start_time": "2022-06-10T06:20:30.670Z"
   },
   {
    "duration": 61,
    "start_time": "2022-06-10T06:20:30.675Z"
   },
   {
    "duration": 712,
    "start_time": "2022-06-10T06:20:30.828Z"
   },
   {
    "duration": 375,
    "start_time": "2022-06-10T06:20:31.543Z"
   },
   {
    "duration": 613,
    "start_time": "2022-06-10T06:20:31.919Z"
   },
   {
    "duration": 175,
    "start_time": "2022-06-10T06:20:32.533Z"
   },
   {
    "duration": 20,
    "start_time": "2022-06-10T06:20:32.710Z"
   },
   {
    "duration": 320,
    "start_time": "2022-06-10T06:20:32.732Z"
   },
   {
    "duration": 12,
    "start_time": "2022-06-10T06:20:33.054Z"
   },
   {
    "duration": 770,
    "start_time": "2022-06-10T06:20:33.068Z"
   },
   {
    "duration": 275,
    "start_time": "2022-06-10T06:20:33.841Z"
   },
   {
    "duration": 19706,
    "start_time": "2022-06-10T06:20:34.118Z"
   },
   {
    "duration": 4931,
    "start_time": "2022-06-10T06:20:53.826Z"
   },
   {
    "duration": 61,
    "start_time": "2022-06-10T06:20:58.759Z"
   },
   {
    "duration": 253,
    "start_time": "2022-06-10T06:20:58.827Z"
   },
   {
    "duration": 7,
    "start_time": "2022-06-10T06:21:33.079Z"
   },
   {
    "duration": 8,
    "start_time": "2022-06-10T06:21:56.972Z"
   },
   {
    "duration": 106,
    "start_time": "2022-06-10T06:24:52.832Z"
   },
   {
    "duration": 6,
    "start_time": "2022-06-10T06:24:57.546Z"
   },
   {
    "duration": 5,
    "start_time": "2022-06-10T06:25:15.214Z"
   },
   {
    "duration": 14,
    "start_time": "2022-06-10T06:26:09.639Z"
   },
   {
    "duration": 2,
    "start_time": "2022-06-10T06:28:50.043Z"
   },
   {
    "duration": 13,
    "start_time": "2022-06-10T06:29:17.787Z"
   },
   {
    "duration": 8,
    "start_time": "2022-06-10T06:29:34.745Z"
   },
   {
    "duration": 9,
    "start_time": "2022-06-10T06:29:53.554Z"
   },
   {
    "duration": 95,
    "start_time": "2022-06-10T06:30:30.840Z"
   },
   {
    "duration": 99,
    "start_time": "2022-06-10T06:31:48.118Z"
   },
   {
    "duration": 113,
    "start_time": "2022-06-10T06:32:19.371Z"
   },
   {
    "duration": 115,
    "start_time": "2022-06-10T06:32:33.805Z"
   },
   {
    "duration": 179,
    "start_time": "2022-06-10T06:35:46.147Z"
   },
   {
    "duration": 111,
    "start_time": "2022-06-10T06:35:50.592Z"
   },
   {
    "duration": 98,
    "start_time": "2022-06-10T06:36:26.578Z"
   },
   {
    "duration": 146,
    "start_time": "2022-06-10T06:36:36.192Z"
   },
   {
    "duration": 12,
    "start_time": "2022-06-10T06:37:53.001Z"
   },
   {
    "duration": 113,
    "start_time": "2022-06-10T06:37:58.315Z"
   },
   {
    "duration": 131,
    "start_time": "2022-06-10T06:39:21.127Z"
   },
   {
    "duration": 135,
    "start_time": "2022-06-10T06:39:54.709Z"
   },
   {
    "duration": 128,
    "start_time": "2022-06-10T06:40:18.460Z"
   },
   {
    "duration": 250,
    "start_time": "2022-06-10T06:40:35.993Z"
   },
   {
    "duration": 131,
    "start_time": "2022-06-10T06:40:53.212Z"
   },
   {
    "duration": 144,
    "start_time": "2022-06-10T06:41:27.205Z"
   },
   {
    "duration": 137,
    "start_time": "2022-06-10T06:41:32.081Z"
   },
   {
    "duration": 186,
    "start_time": "2022-06-10T06:43:03.117Z"
   },
   {
    "duration": 217,
    "start_time": "2022-06-10T06:45:14.482Z"
   },
   {
    "duration": 226,
    "start_time": "2022-06-10T06:45:21.705Z"
   },
   {
    "duration": 216,
    "start_time": "2022-06-10T06:46:32.798Z"
   },
   {
    "duration": 230,
    "start_time": "2022-06-10T06:46:44.416Z"
   },
   {
    "duration": 328,
    "start_time": "2022-06-10T06:47:32.847Z"
   },
   {
    "duration": 214,
    "start_time": "2022-06-10T06:47:45.888Z"
   },
   {
    "duration": 189,
    "start_time": "2022-06-10T06:48:33.251Z"
   },
   {
    "duration": 276,
    "start_time": "2022-06-10T06:49:44.441Z"
   },
   {
    "duration": 183,
    "start_time": "2022-06-10T06:49:54.195Z"
   },
   {
    "duration": 124,
    "start_time": "2022-06-10T06:50:44.176Z"
   },
   {
    "duration": 159,
    "start_time": "2022-06-10T06:51:03.235Z"
   },
   {
    "duration": 142,
    "start_time": "2022-06-10T07:04:00.841Z"
   },
   {
    "duration": 154,
    "start_time": "2022-06-10T07:04:04.744Z"
   },
   {
    "duration": 135,
    "start_time": "2022-06-10T07:04:53.600Z"
   },
   {
    "duration": 4995,
    "start_time": "2022-06-10T07:05:18.690Z"
   },
   {
    "duration": 5033,
    "start_time": "2022-06-10T07:05:36.097Z"
   },
   {
    "duration": 122,
    "start_time": "2022-06-10T07:09:47.550Z"
   },
   {
    "duration": 174,
    "start_time": "2022-06-10T07:10:26.197Z"
   },
   {
    "duration": 126,
    "start_time": "2022-06-10T07:10:33.453Z"
   },
   {
    "duration": 127,
    "start_time": "2022-06-10T07:10:55.695Z"
   },
   {
    "duration": 129,
    "start_time": "2022-06-10T07:11:13.014Z"
   },
   {
    "duration": 148,
    "start_time": "2022-06-10T07:11:17.817Z"
   },
   {
    "duration": 285,
    "start_time": "2022-06-10T07:13:31.508Z"
   },
   {
    "duration": 174,
    "start_time": "2022-06-10T07:13:40.350Z"
   },
   {
    "duration": 192,
    "start_time": "2022-06-10T07:13:57.193Z"
   },
   {
    "duration": 139,
    "start_time": "2022-06-10T07:30:31.144Z"
   },
   {
    "duration": 243,
    "start_time": "2022-06-10T07:31:04.694Z"
   },
   {
    "duration": 278,
    "start_time": "2022-06-10T07:31:16.241Z"
   },
   {
    "duration": 203,
    "start_time": "2022-06-10T07:31:31.399Z"
   },
   {
    "duration": 214,
    "start_time": "2022-06-10T07:31:40.374Z"
   },
   {
    "duration": 214,
    "start_time": "2022-06-10T07:33:03.418Z"
   },
   {
    "duration": 232,
    "start_time": "2022-06-10T07:34:15.532Z"
   },
   {
    "duration": 206,
    "start_time": "2022-06-10T07:34:28.653Z"
   },
   {
    "duration": 274,
    "start_time": "2022-06-10T07:34:36.134Z"
   },
   {
    "duration": 219,
    "start_time": "2022-06-10T07:34:45.589Z"
   },
   {
    "duration": 242,
    "start_time": "2022-06-10T07:35:10.090Z"
   },
   {
    "duration": 320,
    "start_time": "2022-06-10T07:46:19.948Z"
   },
   {
    "duration": 112,
    "start_time": "2022-06-10T07:47:09.151Z"
   },
   {
    "duration": 269,
    "start_time": "2022-06-10T07:47:20.016Z"
   },
   {
    "duration": 506,
    "start_time": "2022-06-10T07:47:31.758Z"
   },
   {
    "duration": 192,
    "start_time": "2022-06-10T07:47:41.977Z"
   },
   {
    "duration": 53,
    "start_time": "2022-06-10T07:55:44.199Z"
   },
   {
    "duration": 206,
    "start_time": "2022-06-10T07:55:54.683Z"
   },
   {
    "duration": 243,
    "start_time": "2022-06-10T07:56:16.369Z"
   },
   {
    "duration": 192,
    "start_time": "2022-06-10T07:56:36.330Z"
   },
   {
    "duration": 5,
    "start_time": "2022-06-10T07:56:44.082Z"
   },
   {
    "duration": 9,
    "start_time": "2022-06-10T07:56:56.499Z"
   },
   {
    "duration": 4,
    "start_time": "2022-06-10T07:57:00.905Z"
   },
   {
    "duration": 240,
    "start_time": "2022-06-10T07:57:18.016Z"
   },
   {
    "duration": 238,
    "start_time": "2022-06-10T07:57:41.408Z"
   },
   {
    "duration": 238,
    "start_time": "2022-06-10T07:57:50.883Z"
   },
   {
    "duration": 241,
    "start_time": "2022-06-10T07:58:05.483Z"
   },
   {
    "duration": 203,
    "start_time": "2022-06-10T07:58:15.916Z"
   },
   {
    "duration": 301,
    "start_time": "2022-06-10T07:58:45.083Z"
   },
   {
    "duration": 201,
    "start_time": "2022-06-10T07:59:25.626Z"
   },
   {
    "duration": 315,
    "start_time": "2022-06-10T08:00:01.294Z"
   },
   {
    "duration": 238,
    "start_time": "2022-06-10T08:00:24.024Z"
   },
   {
    "duration": 263,
    "start_time": "2022-06-10T08:10:03.212Z"
   },
   {
    "duration": 137,
    "start_time": "2022-06-10T08:11:20.781Z"
   },
   {
    "duration": 259,
    "start_time": "2022-06-10T08:12:16.757Z"
   },
   {
    "duration": 234,
    "start_time": "2022-06-10T08:12:44.768Z"
   },
   {
    "duration": 257,
    "start_time": "2022-06-10T08:12:53.878Z"
   },
   {
    "duration": 242,
    "start_time": "2022-06-10T08:16:45.216Z"
   },
   {
    "duration": 240,
    "start_time": "2022-06-10T08:16:52.385Z"
   },
   {
    "duration": 242,
    "start_time": "2022-06-10T08:27:14.161Z"
   },
   {
    "duration": 138,
    "start_time": "2022-06-10T08:27:32.910Z"
   },
   {
    "duration": 124,
    "start_time": "2022-06-10T08:27:47.429Z"
   },
   {
    "duration": 182,
    "start_time": "2022-06-10T08:28:44.635Z"
   },
   {
    "duration": 172,
    "start_time": "2022-06-10T08:29:19.554Z"
   },
   {
    "duration": 28,
    "start_time": "2022-06-10T08:29:41.451Z"
   },
   {
    "duration": 202,
    "start_time": "2022-06-10T08:29:56.099Z"
   },
   {
    "duration": 18010,
    "start_time": "2022-06-10T08:34:52.216Z"
   },
   {
    "duration": 190,
    "start_time": "2022-06-10T08:37:08.540Z"
   },
   {
    "duration": 128,
    "start_time": "2022-06-10T08:37:44.806Z"
   },
   {
    "duration": 124,
    "start_time": "2022-06-10T08:37:53.107Z"
   },
   {
    "duration": 191,
    "start_time": "2022-06-10T08:38:56.003Z"
   },
   {
    "duration": 182,
    "start_time": "2022-06-10T08:40:35.148Z"
   },
   {
    "duration": 1446,
    "start_time": "2022-06-10T11:01:06.905Z"
   },
   {
    "duration": 165,
    "start_time": "2022-06-10T11:01:08.353Z"
   },
   {
    "duration": 10,
    "start_time": "2022-06-10T11:01:08.520Z"
   },
   {
    "duration": 3,
    "start_time": "2022-06-10T11:01:08.532Z"
   },
   {
    "duration": 23,
    "start_time": "2022-06-10T11:01:08.536Z"
   },
   {
    "duration": 8,
    "start_time": "2022-06-10T11:01:08.560Z"
   },
   {
    "duration": 49,
    "start_time": "2022-06-10T11:01:08.570Z"
   },
   {
    "duration": 1793,
    "start_time": "2022-06-10T11:01:08.621Z"
   },
   {
    "duration": 645,
    "start_time": "2022-06-10T11:01:10.415Z"
   },
   {
    "duration": 54,
    "start_time": "2022-06-10T11:01:11.063Z"
   },
   {
    "duration": 8,
    "start_time": "2022-06-10T11:01:11.118Z"
   },
   {
    "duration": 13,
    "start_time": "2022-06-10T11:01:11.127Z"
   },
   {
    "duration": 19,
    "start_time": "2022-06-10T11:01:11.141Z"
   },
   {
    "duration": 33,
    "start_time": "2022-06-10T11:01:11.162Z"
   },
   {
    "duration": 11,
    "start_time": "2022-06-10T11:01:11.208Z"
   },
   {
    "duration": 21,
    "start_time": "2022-06-10T11:01:11.220Z"
   },
   {
    "duration": 110,
    "start_time": "2022-06-10T11:01:11.242Z"
   },
   {
    "duration": 4,
    "start_time": "2022-06-10T11:01:11.353Z"
   },
   {
    "duration": 56,
    "start_time": "2022-06-10T11:01:11.358Z"
   },
   {
    "duration": 794,
    "start_time": "2022-06-10T11:01:11.417Z"
   },
   {
    "duration": 322,
    "start_time": "2022-06-10T11:01:12.213Z"
   },
   {
    "duration": 599,
    "start_time": "2022-06-10T11:01:12.537Z"
   },
   {
    "duration": 179,
    "start_time": "2022-06-10T11:01:13.137Z"
   },
   {
    "duration": 4,
    "start_time": "2022-06-10T11:01:13.317Z"
   },
   {
    "duration": 287,
    "start_time": "2022-06-10T11:01:13.322Z"
   },
   {
    "duration": 137,
    "start_time": "2022-06-10T11:01:13.611Z"
   },
   {
    "duration": 335,
    "start_time": "2022-06-10T11:01:13.750Z"
   },
   {
    "duration": 19,
    "start_time": "2022-06-10T11:01:14.088Z"
   },
   {
    "duration": 747,
    "start_time": "2022-06-10T11:01:14.109Z"
   },
   {
    "duration": 180,
    "start_time": "2022-06-10T11:01:14.858Z"
   },
   {
    "duration": 132,
    "start_time": "2022-06-10T11:01:15.040Z"
   },
   {
    "duration": 18027,
    "start_time": "2022-06-10T11:01:15.174Z"
   },
   {
    "duration": 324,
    "start_time": "2022-06-10T11:01:33.202Z"
   },
   {
    "duration": 0,
    "start_time": "2022-06-10T11:01:33.528Z"
   },
   {
    "duration": 0,
    "start_time": "2022-06-10T11:01:33.529Z"
   },
   {
    "duration": 0,
    "start_time": "2022-06-10T11:01:33.531Z"
   },
   {
    "duration": 173,
    "start_time": "2022-06-10T11:01:56.484Z"
   },
   {
    "duration": 184,
    "start_time": "2022-06-10T11:02:53.988Z"
   },
   {
    "duration": 200,
    "start_time": "2022-06-10T11:03:46.660Z"
   },
   {
    "duration": 195,
    "start_time": "2022-06-10T11:04:05.079Z"
   },
   {
    "duration": 184,
    "start_time": "2022-06-10T11:04:09.970Z"
   },
   {
    "duration": 169,
    "start_time": "2022-06-10T11:04:34.263Z"
   },
   {
    "duration": 243,
    "start_time": "2022-06-10T11:05:22.509Z"
   },
   {
    "duration": 515,
    "start_time": "2022-06-10T11:07:57.384Z"
   },
   {
    "duration": 173,
    "start_time": "2022-06-10T11:08:57.899Z"
   },
   {
    "duration": 150,
    "start_time": "2022-06-10T11:09:10.591Z"
   },
   {
    "duration": 164,
    "start_time": "2022-06-10T11:09:21.084Z"
   },
   {
    "duration": 167,
    "start_time": "2022-06-10T11:09:32.345Z"
   },
   {
    "duration": 233,
    "start_time": "2022-06-10T11:10:37.812Z"
   },
   {
    "duration": 228,
    "start_time": "2022-06-10T11:12:37.827Z"
   },
   {
    "duration": 226,
    "start_time": "2022-06-10T11:12:44.825Z"
   },
   {
    "duration": 239,
    "start_time": "2022-06-10T11:13:01.107Z"
   },
   {
    "duration": 222,
    "start_time": "2022-06-10T11:13:08.808Z"
   },
   {
    "duration": 271,
    "start_time": "2022-06-10T11:13:21.720Z"
   },
   {
    "duration": 344,
    "start_time": "2022-06-10T11:13:25.854Z"
   },
   {
    "duration": 239,
    "start_time": "2022-06-10T11:13:35.419Z"
   },
   {
    "duration": 268,
    "start_time": "2022-06-10T11:14:01.097Z"
   },
   {
    "duration": 263,
    "start_time": "2022-06-10T11:14:14.918Z"
   },
   {
    "duration": 158,
    "start_time": "2022-06-10T11:14:50.299Z"
   },
   {
    "duration": 4608,
    "start_time": "2022-06-10T11:16:47.431Z"
   },
   {
    "duration": 74,
    "start_time": "2022-06-10T11:21:57.447Z"
   },
   {
    "duration": 67,
    "start_time": "2022-06-10T11:22:07.253Z"
   },
   {
    "duration": 64,
    "start_time": "2022-06-10T11:22:48.001Z"
   },
   {
    "duration": 65,
    "start_time": "2022-06-10T11:22:53.952Z"
   },
   {
    "duration": 66,
    "start_time": "2022-06-10T11:23:10.871Z"
   },
   {
    "duration": 69,
    "start_time": "2022-06-10T11:23:20.605Z"
   },
   {
    "duration": 99,
    "start_time": "2022-06-10T11:23:36.197Z"
   },
   {
    "duration": 31,
    "start_time": "2022-06-10T11:23:42.591Z"
   },
   {
    "duration": 67,
    "start_time": "2022-06-10T11:23:48.363Z"
   },
   {
    "duration": 119,
    "start_time": "2022-06-10T11:24:58.776Z"
   },
   {
    "duration": 131,
    "start_time": "2022-06-10T11:25:23.532Z"
   },
   {
    "duration": 123,
    "start_time": "2022-06-10T11:25:38.252Z"
   },
   {
    "duration": 114,
    "start_time": "2022-06-10T11:25:59.542Z"
   },
   {
    "duration": 114,
    "start_time": "2022-06-10T11:26:06.411Z"
   },
   {
    "duration": 118,
    "start_time": "2022-06-10T11:27:39.973Z"
   },
   {
    "duration": 127,
    "start_time": "2022-06-10T11:27:43.685Z"
   },
   {
    "duration": 4,
    "start_time": "2022-06-10T11:28:12.986Z"
   },
   {
    "duration": 4,
    "start_time": "2022-06-10T11:28:35.107Z"
   },
   {
    "duration": 4,
    "start_time": "2022-06-10T11:28:41.560Z"
   },
   {
    "duration": 268,
    "start_time": "2022-06-10T11:30:25.126Z"
   },
   {
    "duration": 231,
    "start_time": "2022-06-10T11:30:36.595Z"
   },
   {
    "duration": 261,
    "start_time": "2022-06-10T11:30:47.888Z"
   },
   {
    "duration": 4,
    "start_time": "2022-06-10T11:32:24.625Z"
   },
   {
    "duration": 4,
    "start_time": "2022-06-10T11:32:31.809Z"
   },
   {
    "duration": 289,
    "start_time": "2022-06-10T11:34:00.237Z"
   },
   {
    "duration": 289,
    "start_time": "2022-06-10T11:34:11.485Z"
   },
   {
    "duration": 1175,
    "start_time": "2022-06-10T11:41:45.332Z"
   },
   {
    "duration": 38,
    "start_time": "2022-06-10T11:41:46.509Z"
   },
   {
    "duration": 11,
    "start_time": "2022-06-10T11:41:46.549Z"
   },
   {
    "duration": 3,
    "start_time": "2022-06-10T11:41:46.562Z"
   },
   {
    "duration": 25,
    "start_time": "2022-06-10T11:41:46.566Z"
   },
   {
    "duration": 12,
    "start_time": "2022-06-10T11:41:46.593Z"
   },
   {
    "duration": 40,
    "start_time": "2022-06-10T11:41:46.607Z"
   },
   {
    "duration": 2079,
    "start_time": "2022-06-10T11:41:46.649Z"
   },
   {
    "duration": 644,
    "start_time": "2022-06-10T11:41:48.729Z"
   },
   {
    "duration": 59,
    "start_time": "2022-06-10T11:41:49.376Z"
   },
   {
    "duration": 8,
    "start_time": "2022-06-10T11:41:49.436Z"
   },
   {
    "duration": 13,
    "start_time": "2022-06-10T11:41:49.445Z"
   },
   {
    "duration": 40,
    "start_time": "2022-06-10T11:41:49.459Z"
   },
   {
    "duration": 17,
    "start_time": "2022-06-10T11:41:49.501Z"
   },
   {
    "duration": 11,
    "start_time": "2022-06-10T11:41:49.519Z"
   },
   {
    "duration": 23,
    "start_time": "2022-06-10T11:41:49.532Z"
   },
   {
    "duration": 114,
    "start_time": "2022-06-10T11:41:49.556Z"
   },
   {
    "duration": 4,
    "start_time": "2022-06-10T11:41:49.671Z"
   },
   {
    "duration": 50,
    "start_time": "2022-06-10T11:41:49.676Z"
   },
   {
    "duration": 782,
    "start_time": "2022-06-10T11:41:49.728Z"
   },
   {
    "duration": 331,
    "start_time": "2022-06-10T11:41:50.512Z"
   },
   {
    "duration": 601,
    "start_time": "2022-06-10T11:41:50.845Z"
   },
   {
    "duration": 191,
    "start_time": "2022-06-10T11:41:51.447Z"
   },
   {
    "duration": 6,
    "start_time": "2022-06-10T11:41:51.640Z"
   },
   {
    "duration": 283,
    "start_time": "2022-06-10T11:41:51.647Z"
   },
   {
    "duration": 139,
    "start_time": "2022-06-10T11:41:51.932Z"
   },
   {
    "duration": 330,
    "start_time": "2022-06-10T11:41:52.073Z"
   },
   {
    "duration": 16,
    "start_time": "2022-06-10T11:41:52.407Z"
   },
   {
    "duration": 749,
    "start_time": "2022-06-10T11:41:52.425Z"
   },
   {
    "duration": 185,
    "start_time": "2022-06-10T11:41:53.176Z"
   },
   {
    "duration": 145,
    "start_time": "2022-06-10T11:41:53.363Z"
   },
   {
    "duration": 18558,
    "start_time": "2022-06-10T11:41:53.510Z"
   },
   {
    "duration": 170,
    "start_time": "2022-06-10T11:42:12.069Z"
   },
   {
    "duration": 4800,
    "start_time": "2022-06-10T11:42:12.241Z"
   },
   {
    "duration": 127,
    "start_time": "2022-06-10T11:42:17.043Z"
   },
   {
    "duration": 315,
    "start_time": "2022-06-10T11:42:17.172Z"
   }
  ],
  "kernelspec": {
   "display_name": "Python 3 (ipykernel)",
   "language": "python",
   "name": "python3"
  },
  "language_info": {
   "codemirror_mode": {
    "name": "ipython",
    "version": 3
   },
   "file_extension": ".py",
   "mimetype": "text/x-python",
   "name": "python",
   "nbconvert_exporter": "python",
   "pygments_lexer": "ipython3",
   "version": "3.9.5"
  },
  "toc": {
   "base_numbering": 1,
   "nav_menu": {},
   "number_sections": true,
   "sideBar": true,
   "skip_h1_title": true,
   "title_cell": "Содержание",
   "title_sidebar": "Contents",
   "toc_cell": true,
   "toc_position": {
    "height": "calc(100% - 180px)",
    "left": "10px",
    "top": "150px",
    "width": "232.594px"
   },
   "toc_section_display": true,
   "toc_window_display": true
  }
 },
 "nbformat": 4,
 "nbformat_minor": 4
}
