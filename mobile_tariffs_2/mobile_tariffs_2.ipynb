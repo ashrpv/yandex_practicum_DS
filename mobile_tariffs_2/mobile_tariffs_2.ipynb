{
 "cells": [
  {
   "cell_type": "markdown",
   "metadata": {},
   "source": [
    "# Рекомендация тарифов"
   ]
  },
  {
   "cell_type": "markdown",
   "metadata": {},
   "source": [
    "Оператор мобильной связи «Мегалайн» выяснил: многие клиенты пользуются архивными тарифами. Они хотят построить систему, способную проанализировать поведение клиентов и предложить пользователям новый тариф: «Смарт» или «Ультра».  \n",
    "\n",
    "В нашем распоряжении данные о поведении клиентов, которые уже перешли на эти тарифы (из ранее выполненного проекта). Нужно построить модель для задачи классификации, которая выберет подходящий тариф. Предобработка данных не понадобится — вы её уже сделали.  \n",
    "\n",
    "Нужно построить модель с максимально большим значением accuracy. Доля правильных ответов должна быть не ниже 0.75 (на тестовой выборке).\n",
    "\n",
    "**Задачи:**\n",
    "- разделить данные на тренировочную, валидационную и тестовую выборки\n",
    "- выбрать несколько моделей и оптимизировать их гиперпараметры\n",
    "- выбрать лучшую модель и проверить её качество на тестовой выборке\n",
    "- проверить вменяемость модели\n",
    "\n",
    "**Описание данных:**\n",
    "Каждый объект в наборе данных — это информация о поведении одного пользователя за месяц. Известно:\n",
    "- `сalls` — количество звонков,\n",
    "- `minutes` — суммарная длительность звонков в минутах,\n",
    "- `messages` — количество sms-сообщений,\n",
    "- `mb_used` — израсходованный интернет-трафик в Мб,\n",
    "- `is_ultra` — каким тарифом пользовался в течение месяца («Ультра» — 1, «Смарт» — 0)."
   ]
  },
  {
   "cell_type": "markdown",
   "metadata": {},
   "source": [
    "## Загрузка и обзор данных"
   ]
  },
  {
   "cell_type": "markdown",
   "metadata": {},
   "source": [
    "**Загрузка используемых в исследовании модулей**"
   ]
  },
  {
   "cell_type": "code",
   "execution_count": 1,
   "metadata": {},
   "outputs": [],
   "source": [
    "import pandas as pd\n",
    "import matplotlib.pyplot as plt\n",
    "import numpy as np\n",
    "from sklearn.linear_model import LogisticRegression\n",
    "from sklearn.tree import DecisionTreeClassifier\n",
    "from sklearn.ensemble import RandomForestClassifier\n",
    "from sklearn.model_selection import train_test_split\n",
    "from sklearn.preprocessing import StandardScaler\n",
    "from sklearn.metrics import recall_score, accuracy_score, f1_score, confusion_matrix"
   ]
  },
  {
   "cell_type": "markdown",
   "metadata": {},
   "source": [
    "**Загрузка данных**"
   ]
  },
  {
   "cell_type": "code",
   "execution_count": 10,
   "metadata": {},
   "outputs": [],
   "source": [
    "data = pd.read_csv('https://code.s3.yandex.net/datasets/users_behavior.csv')"
   ]
  },
  {
   "cell_type": "markdown",
   "metadata": {},
   "source": [
    "Рассмотрим типы данных и количество записей в столбцах:"
   ]
  },
  {
   "cell_type": "code",
   "execution_count": 11,
   "metadata": {
    "scrolled": true
   },
   "outputs": [
    {
     "name": "stdout",
     "output_type": "stream",
     "text": [
      "<class 'pandas.core.frame.DataFrame'>\n",
      "RangeIndex: 3214 entries, 0 to 3213\n",
      "Data columns (total 5 columns):\n",
      " #   Column    Non-Null Count  Dtype  \n",
      "---  ------    --------------  -----  \n",
      " 0   calls     3214 non-null   float64\n",
      " 1   minutes   3214 non-null   float64\n",
      " 2   messages  3214 non-null   float64\n",
      " 3   mb_used   3214 non-null   float64\n",
      " 4   is_ultra  3214 non-null   int64  \n",
      "dtypes: float64(4), int64(1)\n",
      "memory usage: 125.7 KB\n"
     ]
    }
   ],
   "source": [
    "data.info()"
   ]
  },
  {
   "cell_type": "markdown",
   "metadata": {},
   "source": [
    "Типы данных в целом соответствуют необходимым.  \n",
    "В случае большего числа записей число звонков и сообщений следовало бы перевести в целочисленных формат, а для индикатора тарифного плана можно было бы использовать логический тип данных. Такие меры позволили бы уменьшить использование памяти. Однако при текущем небольшом количестве записей дополнительные действия можно не предпринимать.  \n",
    "\n",
    "По заданию данные предобработаны, отсутствие пропусков это косвенно подтверждает. Проверим отсутствие дубликатов:"
   ]
  },
  {
   "cell_type": "code",
   "execution_count": 4,
   "metadata": {},
   "outputs": [
    {
     "data": {
      "text/plain": [
       "0"
      ]
     },
     "execution_count": 4,
     "metadata": {},
     "output_type": "execute_result"
    }
   ],
   "source": [
    "data.duplicated().sum()"
   ]
  },
  {
   "cell_type": "markdown",
   "metadata": {},
   "source": [
    "Дубликаты в таблице отсутствуют.  \n",
    "Рассмотрим описательные статистики по столбцам:"
   ]
  },
  {
   "cell_type": "code",
   "execution_count": 5,
   "metadata": {
    "scrolled": true
   },
   "outputs": [
    {
     "data": {
      "text/html": [
       "<div>\n",
       "<style scoped>\n",
       "    .dataframe tbody tr th:only-of-type {\n",
       "        vertical-align: middle;\n",
       "    }\n",
       "\n",
       "    .dataframe tbody tr th {\n",
       "        vertical-align: top;\n",
       "    }\n",
       "\n",
       "    .dataframe thead th {\n",
       "        text-align: right;\n",
       "    }\n",
       "</style>\n",
       "<table border=\"1\" class=\"dataframe\">\n",
       "  <thead>\n",
       "    <tr style=\"text-align: right;\">\n",
       "      <th></th>\n",
       "      <th>calls</th>\n",
       "      <th>minutes</th>\n",
       "      <th>messages</th>\n",
       "      <th>mb_used</th>\n",
       "      <th>is_ultra</th>\n",
       "    </tr>\n",
       "  </thead>\n",
       "  <tbody>\n",
       "    <tr>\n",
       "      <th>count</th>\n",
       "      <td>3214.000000</td>\n",
       "      <td>3214.000000</td>\n",
       "      <td>3214.000000</td>\n",
       "      <td>3214.000000</td>\n",
       "      <td>3214.000000</td>\n",
       "    </tr>\n",
       "    <tr>\n",
       "      <th>mean</th>\n",
       "      <td>63.038892</td>\n",
       "      <td>438.208787</td>\n",
       "      <td>38.281269</td>\n",
       "      <td>17207.673836</td>\n",
       "      <td>0.306472</td>\n",
       "    </tr>\n",
       "    <tr>\n",
       "      <th>std</th>\n",
       "      <td>33.236368</td>\n",
       "      <td>234.569872</td>\n",
       "      <td>36.148326</td>\n",
       "      <td>7570.968246</td>\n",
       "      <td>0.461100</td>\n",
       "    </tr>\n",
       "    <tr>\n",
       "      <th>min</th>\n",
       "      <td>0.000000</td>\n",
       "      <td>0.000000</td>\n",
       "      <td>0.000000</td>\n",
       "      <td>0.000000</td>\n",
       "      <td>0.000000</td>\n",
       "    </tr>\n",
       "    <tr>\n",
       "      <th>25%</th>\n",
       "      <td>40.000000</td>\n",
       "      <td>274.575000</td>\n",
       "      <td>9.000000</td>\n",
       "      <td>12491.902500</td>\n",
       "      <td>0.000000</td>\n",
       "    </tr>\n",
       "    <tr>\n",
       "      <th>50%</th>\n",
       "      <td>62.000000</td>\n",
       "      <td>430.600000</td>\n",
       "      <td>30.000000</td>\n",
       "      <td>16943.235000</td>\n",
       "      <td>0.000000</td>\n",
       "    </tr>\n",
       "    <tr>\n",
       "      <th>75%</th>\n",
       "      <td>82.000000</td>\n",
       "      <td>571.927500</td>\n",
       "      <td>57.000000</td>\n",
       "      <td>21424.700000</td>\n",
       "      <td>1.000000</td>\n",
       "    </tr>\n",
       "    <tr>\n",
       "      <th>max</th>\n",
       "      <td>244.000000</td>\n",
       "      <td>1632.060000</td>\n",
       "      <td>224.000000</td>\n",
       "      <td>49745.730000</td>\n",
       "      <td>1.000000</td>\n",
       "    </tr>\n",
       "  </tbody>\n",
       "</table>\n",
       "</div>"
      ],
      "text/plain": [
       "             calls      minutes     messages       mb_used     is_ultra\n",
       "count  3214.000000  3214.000000  3214.000000   3214.000000  3214.000000\n",
       "mean     63.038892   438.208787    38.281269  17207.673836     0.306472\n",
       "std      33.236368   234.569872    36.148326   7570.968246     0.461100\n",
       "min       0.000000     0.000000     0.000000      0.000000     0.000000\n",
       "25%      40.000000   274.575000     9.000000  12491.902500     0.000000\n",
       "50%      62.000000   430.600000    30.000000  16943.235000     0.000000\n",
       "75%      82.000000   571.927500    57.000000  21424.700000     1.000000\n",
       "max     244.000000  1632.060000   224.000000  49745.730000     1.000000"
      ]
     },
     "execution_count": 5,
     "metadata": {},
     "output_type": "execute_result"
    }
   ],
   "source": [
    "data.describe()"
   ]
  },
  {
   "cell_type": "markdown",
   "metadata": {},
   "source": [
    "Разброс значений умеренный. Близость средних и медианных значений по всем столбцам (кроме индикатора тарифа) свидетельстсвует о симметричности распределения значений.  \n",
    "Стоит обратить внимание на то, что среднее значение индикатора тарифного плана меньше 0,5, т.е. *пользователи тарифных планов представлены неравномерно* , это должно быть учтено при выделении обучающей, валидационной и тестовой выборок.  \n",
    "Рассмотрим гистрограммы распределений признаков пользователей:"
   ]
  },
  {
   "cell_type": "code",
   "execution_count": 6,
   "metadata": {
    "scrolled": true
   },
   "outputs": [
    {
     "data": {
      "image/png": "[encoded data removed]",
      "text/plain": [
       "<Figure size 1152x288 with 4 Axes>"
      ]
     },
     "metadata": {
      "needs_background": "light"
     },
     "output_type": "display_data"
    }
   ],
   "source": [
    "fig, ax = plt.subplots(1, 4, figsize=(16,4))\n",
    "ax_i = 0\n",
    "for col in data.columns[:-1]:\n",
    "    data[col].hist(bins=30, ax=ax[ax_i], legend=True)\n",
    "    ax_i += 1"
   ]
  },
  {
   "cell_type": "markdown",
   "metadata": {},
   "source": [
    "Выделяются следующие особенности:\n",
    "- большие доли нулевых значений звонков, минут и особенно сообщений;\n",
    "- длинные \"хвосты\" в области больших значений для тех же параметров.  \n",
    "\n",
    "Такие особенности вполне согласуются с поведением реальных пользователей, поэтому их следует оставить."
   ]
  },
  {
   "cell_type": "markdown",
   "metadata": {},
   "source": [
    "## Разделение данных на выборки"
   ]
  },
  {
   "cell_type": "markdown",
   "metadata": {},
   "source": [
    "Для тестовой и валидационной выборок выделим по 15 % данных."
   ]
  },
  {
   "cell_type": "code",
   "execution_count": 16,
   "metadata": {},
   "outputs": [
    {
     "data": {
      "text/html": [
       "<div>\n",
       "<style scoped>\n",
       "    .dataframe tbody tr th:only-of-type {\n",
       "        vertical-align: middle;\n",
       "    }\n",
       "\n",
       "    .dataframe tbody tr th {\n",
       "        vertical-align: top;\n",
       "    }\n",
       "\n",
       "    .dataframe thead th {\n",
       "        text-align: right;\n",
       "    }\n",
       "</style>\n",
       "<table border=\"1\" class=\"dataframe\">\n",
       "  <thead>\n",
       "    <tr style=\"text-align: right;\">\n",
       "      <th></th>\n",
       "      <th>calls</th>\n",
       "      <th>minutes</th>\n",
       "      <th>messages</th>\n",
       "      <th>mb_used</th>\n",
       "      <th>is_ultra</th>\n",
       "    </tr>\n",
       "  </thead>\n",
       "  <tbody>\n",
       "    <tr>\n",
       "      <th>0</th>\n",
       "      <td>40.0</td>\n",
       "      <td>311.90</td>\n",
       "      <td>83.0</td>\n",
       "      <td>19915.42</td>\n",
       "      <td>0</td>\n",
       "    </tr>\n",
       "    <tr>\n",
       "      <th>1</th>\n",
       "      <td>85.0</td>\n",
       "      <td>516.75</td>\n",
       "      <td>56.0</td>\n",
       "      <td>22696.96</td>\n",
       "      <td>0</td>\n",
       "    </tr>\n",
       "    <tr>\n",
       "      <th>2</th>\n",
       "      <td>77.0</td>\n",
       "      <td>467.66</td>\n",
       "      <td>86.0</td>\n",
       "      <td>21060.45</td>\n",
       "      <td>0</td>\n",
       "    </tr>\n",
       "    <tr>\n",
       "      <th>3</th>\n",
       "      <td>106.0</td>\n",
       "      <td>745.53</td>\n",
       "      <td>81.0</td>\n",
       "      <td>8437.39</td>\n",
       "      <td>1</td>\n",
       "    </tr>\n",
       "    <tr>\n",
       "      <th>4</th>\n",
       "      <td>66.0</td>\n",
       "      <td>418.74</td>\n",
       "      <td>1.0</td>\n",
       "      <td>14502.75</td>\n",
       "      <td>0</td>\n",
       "    </tr>\n",
       "    <tr>\n",
       "      <th>...</th>\n",
       "      <td>...</td>\n",
       "      <td>...</td>\n",
       "      <td>...</td>\n",
       "      <td>...</td>\n",
       "      <td>...</td>\n",
       "    </tr>\n",
       "    <tr>\n",
       "      <th>3209</th>\n",
       "      <td>122.0</td>\n",
       "      <td>910.98</td>\n",
       "      <td>20.0</td>\n",
       "      <td>35124.90</td>\n",
       "      <td>1</td>\n",
       "    </tr>\n",
       "    <tr>\n",
       "      <th>3210</th>\n",
       "      <td>25.0</td>\n",
       "      <td>190.36</td>\n",
       "      <td>0.0</td>\n",
       "      <td>3275.61</td>\n",
       "      <td>0</td>\n",
       "    </tr>\n",
       "    <tr>\n",
       "      <th>3211</th>\n",
       "      <td>97.0</td>\n",
       "      <td>634.44</td>\n",
       "      <td>70.0</td>\n",
       "      <td>13974.06</td>\n",
       "      <td>0</td>\n",
       "    </tr>\n",
       "    <tr>\n",
       "      <th>3212</th>\n",
       "      <td>64.0</td>\n",
       "      <td>462.32</td>\n",
       "      <td>90.0</td>\n",
       "      <td>31239.78</td>\n",
       "      <td>0</td>\n",
       "    </tr>\n",
       "    <tr>\n",
       "      <th>3213</th>\n",
       "      <td>80.0</td>\n",
       "      <td>566.09</td>\n",
       "      <td>6.0</td>\n",
       "      <td>29480.52</td>\n",
       "      <td>1</td>\n",
       "    </tr>\n",
       "  </tbody>\n",
       "</table>\n",
       "<p>3214 rows × 5 columns</p>\n",
       "</div>"
      ],
      "text/plain": [
       "      calls  minutes  messages   mb_used  is_ultra\n",
       "0      40.0   311.90      83.0  19915.42         0\n",
       "1      85.0   516.75      56.0  22696.96         0\n",
       "2      77.0   467.66      86.0  21060.45         0\n",
       "3     106.0   745.53      81.0   8437.39         1\n",
       "4      66.0   418.74       1.0  14502.75         0\n",
       "...     ...      ...       ...       ...       ...\n",
       "3209  122.0   910.98      20.0  35124.90         1\n",
       "3210   25.0   190.36       0.0   3275.61         0\n",
       "3211   97.0   634.44      70.0  13974.06         0\n",
       "3212   64.0   462.32      90.0  31239.78         0\n",
       "3213   80.0   566.09       6.0  29480.52         1\n",
       "\n",
       "[3214 rows x 5 columns]"
      ]
     },
     "execution_count": 16,
     "metadata": {},
     "output_type": "execute_result"
    }
   ],
   "source": [
    "#Количество записей для отбора в валидационный и тестовый наборы:\n",
    "data"
   ]
  },
  {
   "cell_type": "markdown",
   "metadata": {},
   "source": [
    "Выбор получим как срезу из исходной таблицы по индексам. Чтобы выборки были случайными перемешаем список индексов при помощи функции `shuffle` модуля `numpy.random`:"
   ]
  },
  {
   "cell_type": "code",
   "execution_count": 18,
   "metadata": {},
   "outputs": [],
   "source": [
    "train_valid, data_test = train_test_split(data, test_size=0.15, stratify=data['is_ultra'])\n",
    "data_train, data_valid = train_test_split(train_valid, test_size=0.15, stratify=train_valid['is_ultra'])\n",
    "list_of_data = [data_train, data_valid, data_test]"
   ]
  },
  {
   "cell_type": "code",
   "execution_count": 9,
   "metadata": {},
   "outputs": [],
   "source": [
    "#Тренировочную выборку получим как срез по первым 2250 индексам из списка случайно выбранным индексам:\n",
    "data_train = data.iloc[index_list[:-2*len_for_test]]\n",
    "#Тренировочную выборку получим как срез по индексам с 2251 по 2732 из списка случайно выбранных индексов:\n",
    "data_valid = data.iloc[index_list[-2*len_for_test:-1*len_for_test]]\n",
    "#Тестовую выборку получим как срез по последним 482 индекам из списка случайно выбранных индексов:\n",
    "data_test = data.iloc[index_list[-1*len_for_test:]]\n",
    "#Для удобства поместим все выборки в один список:\n",
    "list_of_data = [data_train, data_valid, data_test]"
   ]
  },
  {
   "cell_type": "markdown",
   "metadata": {},
   "source": [
    "Проверим отсутствие пересечений у наборов данных:"
   ]
  },
  {
   "cell_type": "code",
   "execution_count": 10,
   "metadata": {},
   "outputs": [
    {
     "data": {
      "text/plain": [
       "(set(), set())"
      ]
     },
     "metadata": {},
     "output_type": "display_data"
    }
   ],
   "source": [
    "display((set(data_valid.index) & set(data_train.index), set(data_test.index) & set(data_train.index)))"
   ]
  },
  {
   "cell_type": "markdown",
   "metadata": {},
   "source": [
    "Полученные выборки не пересекаются. Проверим равноверность распределения пользователей разных тарифов по выборкам:"
   ]
  },
  {
   "cell_type": "code",
   "execution_count": 19,
   "metadata": {},
   "outputs": [
    {
     "name": "stdout",
     "output_type": "stream",
     "text": [
      "0.3063334769495907\n",
      "0.3073170731707317\n",
      "0.3064182194616977\n"
     ]
    }
   ],
   "source": [
    "for table in list_of_data:\n",
    "    print(table.is_ultra.mean())"
   ]
  },
  {
   "cell_type": "markdown",
   "metadata": {},
   "source": [
    "Доли пользователей тарифного плана `ultra` для всех выборок близки к доле по исходной выборе.  \n",
    "\n",
    "Разделим данные на таблицы с признаками и таблицы со значениями целевой переменной:"
   ]
  },
  {
   "cell_type": "code",
   "execution_count": 20,
   "metadata": {},
   "outputs": [],
   "source": [
    "list_of_features = [table[table.columns[:-1]] for table in list_of_data]\n",
    "list_of_target = [table['is_ultra'] for table in list_of_data]"
   ]
  },
  {
   "cell_type": "markdown",
   "metadata": {},
   "source": [
    "Поскольку признаки имеют разный разброс значений (и разные абсолютные значения) для корректного применения регуляризации в линейных моделях значения признаков следует сделать более единообразными. Приведем значения дисперии параметров клиентов к 1 при помощи `StandardScaler` из пакета `sklearn`:"
   ]
  },
  {
   "cell_type": "code",
   "execution_count": 21,
   "metadata": {},
   "outputs": [],
   "source": [
    "scaler = StandardScaler()\n",
    "scaler.fit(list_of_features[0])\n",
    "list_of_features = [scaler.transform(table) for table in list_of_features]"
   ]
  },
  {
   "cell_type": "markdown",
   "metadata": {},
   "source": [
    "В дальнейшем следует учитывать что итоговая модель работает на стандартизированных данных, причем значения дисперсий получены на тренировочной выборке."
   ]
  },
  {
   "cell_type": "markdown",
   "metadata": {},
   "source": [
    "## Исследование моделей"
   ]
  },
  {
   "cell_type": "markdown",
   "metadata": {},
   "source": [
    "Рассмотрим простейшую модель логистической регрессии. В качестве варьируемых гиперпараметров возьмем способ регуляризации:"
   ]
  },
  {
   "cell_type": "code",
   "execution_count": 22,
   "metadata": {
    "scrolled": true
   },
   "outputs": [
    {
     "name": "stdout",
     "output_type": "stream",
     "text": [
      "Для регуляризации none доля верных ответов (accuracy) - 0.727\n",
      "Для регуляризации l1 доля верных ответов (accuracy) - 0.727\n",
      "Для регуляризации l2 доля верных ответов (accuracy) - 0.727\n"
     ]
    }
   ],
   "source": [
    "for reg in ['none', 'l1', 'l2']:\n",
    "    linear_model = LogisticRegression(penalty=reg, random_state=123, solver='saga')\n",
    "    linear_model.fit(list_of_features[0], list_of_target[0])\n",
    "    accuracy = linear_model.score(list_of_features[1], list_of_target[1])\n",
    "    print(f\"Для регуляризации {reg} доля верных ответов (accuracy) - {accuracy:0.3f}\")"
   ]
  },
  {
   "cell_type": "markdown",
   "metadata": {},
   "source": [
    "Все три модели независимо от типа регуляризации показывают долю верных ответов близкую к заданной по условию (75%). Однако для уверенности найдем модель с более высоким качеством предсказаний.  \n",
    "  \n",
    "Рассмотрим более сложную модель - дерево решений. В качестве варьируемых параметров возьмем критерий разделения, максимальную глубину дерева, минимальное число объектов в листах, минимальное число объекто для деления, максимальное число признаков:"
   ]
  },
  {
   "cell_type": "code",
   "execution_count": 23,
   "metadata": {
    "scrolled": false
   },
   "outputs": [
    {
     "name": "stdout",
     "output_type": "stream",
     "text": [
      "Лучшая доля верных ответов: 0.817\n",
      "Параметры лучшей модели:\n"
     ]
    },
    {
     "data": {
      "text/plain": [
       "{'ccp_alpha': 0.0,\n",
       " 'class_weight': None,\n",
       " 'criterion': 'gini',\n",
       " 'max_depth': 9,\n",
       " 'max_features': None,\n",
       " 'max_leaf_nodes': None,\n",
       " 'min_impurity_decrease': 0.0,\n",
       " 'min_samples_leaf': 1,\n",
       " 'min_samples_split': 2,\n",
       " 'min_weight_fraction_leaf': 0.0,\n",
       " 'random_state': 123,\n",
       " 'splitter': 'best'}"
      ]
     },
     "execution_count": 23,
     "metadata": {},
     "output_type": "execute_result"
    }
   ],
   "source": [
    "best_accuracy = 0\n",
    "best_model = None\n",
    "#Перебор параметров сделаем при помощи вложенных циклов:\n",
    "for max_depth in range(1, 40, 2):\n",
    "    for min_samples_split in range(2, 10):\n",
    "        for max_features in [None, 'sqrt', 'log2']:\n",
    "            model = DecisionTreeClassifier(max_depth=max_depth,\n",
    "                                           min_samples_split=min_samples_split,\n",
    "                                           max_features=max_features, \n",
    "                                           random_state=123)\n",
    "            model.fit(list_of_features[0], list_of_target[0])\n",
    "            accuracy = model.score(list_of_features[1], list_of_target[1])\n",
    "\n",
    "            #Сохраним лучшую модель и accuracy:            \n",
    "            if accuracy > best_accuracy:\n",
    "                best_accuracy = accuracy\n",
    "                best_model = model\n",
    "                \n",
    "print(f\"Лучшая доля верных ответов: {best_accuracy:0.3f}\")\n",
    "best_parameters_tree = best_model.get_params()\n",
    "print(\"Параметры лучшей модели:\")\n",
    "best_parameters_tree"
   ]
  },
  {
   "cell_type": "markdown",
   "metadata": {},
   "source": [
    "Модель на основе дерева решений показывают значительно более высокую долю верных ответов, по сравнению с логистической регрессией.  \n",
    "Высокая доля правильных ответов достигается в значительной степени за счет большой глубины дерева.  \n",
    "В качестве более сложной модели рассмотрим случайных лес деревьев решений.  \n",
    "Обучение случайного леса занимает больше времени чем обучение однорого дерева. Чтобы излишне не усложнять процесс оптимизровать будем только гиперпараметры n_estimators, max_depth:"
   ]
  },
  {
   "cell_type": "code",
   "execution_count": 16,
   "metadata": {},
   "outputs": [
    {
     "name": "stdout",
     "output_type": "stream",
     "text": [
      "Лучшая доля верных ответов: 0.817\n",
      "Параметры лучшей модели:\n"
     ]
    },
    {
     "data": {
      "text/plain": [
       "{'bootstrap': True,\n",
       " 'ccp_alpha': 0.0,\n",
       " 'class_weight': None,\n",
       " 'criterion': 'gini',\n",
       " 'max_depth': 12,\n",
       " 'max_features': 'auto',\n",
       " 'max_leaf_nodes': None,\n",
       " 'max_samples': None,\n",
       " 'min_impurity_decrease': 0.0,\n",
       " 'min_impurity_split': None,\n",
       " 'min_samples_leaf': 1,\n",
       " 'min_samples_split': 9,\n",
       " 'min_weight_fraction_leaf': 0.0,\n",
       " 'n_estimators': 40,\n",
       " 'n_jobs': None,\n",
       " 'oob_score': False,\n",
       " 'random_state': 123,\n",
       " 'verbose': 0,\n",
       " 'warm_start': False}"
      ]
     },
     "execution_count": 16,
     "metadata": {},
     "output_type": "execute_result"
    }
   ],
   "source": [
    "best_accuracy = 0\n",
    "best_model = None\n",
    "\n",
    "#Перебор параметров сделаем при помощи вложенных циклов:\n",
    "for n_estimators in range(20, 120, 20):\n",
    "    for max_depth in range(2, 20, 2):\n",
    "        model = RandomForestClassifier(n_estimators=n_estimators,\n",
    "                                       max_depth=max_depth,\n",
    "                                       min_samples_split=min_samples_split,\n",
    "                                       random_state=123)\n",
    "        model.fit(list_of_features[0], list_of_target[0])\n",
    "        accuracy = model.score(list_of_features[1], list_of_target[1])\n",
    "        \n",
    "        #Сохраним лучшую модель и accuracy:  \n",
    "        if accuracy > best_accuracy:\n",
    "            best_accuracy = accuracy\n",
    "            best_model = model\n",
    "\n",
    "print(f\"Лучшая доля верных ответов: {best_accuracy:0.3f}\")\n",
    "best_parameters_forest = best_model.get_params()\n",
    "print(\"Параметры лучшей модели:\")\n",
    "best_parameters_forest"
   ]
  },
  {
   "cell_type": "markdown",
   "metadata": {},
   "source": [
    "Использование случайного леса позволило дополнительно повысить долю верных ответов (на 1%). Максимальное качество модели было достигнуто за счет увеличения числа деревьев в лесу. Оптимальное число деревьев в лесу чувствительно к разбиению данных на выборки. В данном исследовании при увеличении числа деревьев свыше 100 скорость роста качества модели снижается.  \n",
    "Учитывая близкое качество двух последних моделей, сравним время их обучения:"
   ]
  },
  {
   "cell_type": "code",
   "execution_count": 17,
   "metadata": {},
   "outputs": [
    {
     "name": "stdout",
     "output_type": "stream",
     "text": [
      "4.34 ms ± 76 µs per loop (mean ± std. dev. of 7 runs, 100 loops each)\n"
     ]
    }
   ],
   "source": [
    "model = DecisionTreeClassifier(**best_parameters_tree)\n",
    "%timeit model.fit(list_of_features[0], list_of_target[0])"
   ]
  },
  {
   "cell_type": "code",
   "execution_count": 18,
   "metadata": {},
   "outputs": [
    {
     "name": "stdout",
     "output_type": "stream",
     "text": [
      "158 ms ± 4.87 ms per loop (mean ± std. dev. of 7 runs, 10 loops each)\n"
     ]
    }
   ],
   "source": [
    "model = RandomForestClassifier(**best_parameters_forest)\n",
    "forest_time = %timeit model.fit(list_of_features[0], list_of_target[0])"
   ]
  },
  {
   "cell_type": "markdown",
   "metadata": {},
   "source": [
    "В данном исследовании время обучения леса из $n$ деревьев приблизительно в  $0,75 - 0,8 \\cdot n$ раз больше времени обучения отдельного дерева.  \n",
    "Лучшей моделью из сравниваемых будет **случайный лес деревьев решений**, однако в случае большего объема данных и большего числа признаков обучение такой модели может оказаться неприемлемо сложным."
   ]
  },
  {
   "cell_type": "markdown",
   "metadata": {},
   "source": [
    "## Проверка модели на тестовой выборке"
   ]
  },
  {
   "cell_type": "markdown",
   "metadata": {},
   "source": [
    "Сравним полученную на валидационной выборке долю верных ответов со значением на тестовой выборке:"
   ]
  },
  {
   "cell_type": "code",
   "execution_count": 19,
   "metadata": {},
   "outputs": [
    {
     "name": "stdout",
     "output_type": "stream",
     "text": [
      "Доля верных ответов лучшей модели на тестовой выборке: 0.803\n"
     ]
    }
   ],
   "source": [
    "accuracy_test = model.score(list_of_features[2], list_of_target[2])\n",
    "print(f\"Доля верных ответов лучшей модели на тестовой выборке: {accuracy_test:0.3f}\")"
   ]
  },
  {
   "cell_type": "markdown",
   "metadata": {},
   "source": [
    "Модель дает предсказания высокого качетсва на тестовой выборке. Полученное значение несколько ниже значения на валидационной выборке, однако отличие не слишком большое, таким образом модель не является переобученной.  \n",
    "Рассмотрим также покрытие положительных ответов на тестовой выборке (метрику `recall`):"
   ]
  },
  {
   "cell_type": "code",
   "execution_count": 20,
   "metadata": {},
   "outputs": [
    {
     "name": "stdout",
     "output_type": "stream",
     "text": [
      "Покрытие положительных ответов на тестовой выборке: 0.736\n",
      "F1-метрика для тестовой выборки: 0.622\n",
      "Confusion matrix для тестовой выборки:\n"
     ]
    },
    {
     "data": {
      "text/plain": [
       "array([[309,  67],\n",
       "       [ 28,  78]])"
      ]
     },
     "execution_count": 20,
     "metadata": {},
     "output_type": "execute_result"
    }
   ],
   "source": [
    "recall_score_test = recall_score(model.predict(list_of_features[2]), list_of_target[2])\n",
    "f1_score_test = f1_score(model.predict(list_of_features[2]), list_of_target[2])\n",
    "\n",
    "print(f\"Покрытие положительных ответов на тестовой выборке: {recall_score_test:0.3f}\")\n",
    "print(f\"F1-метрика для тестовой выборки: {f1_score_test:0.3f}\")\n",
    "print(f\"Confusion matrix для тестовой выборки:\")\n",
    "confusion_matrix(model.predict(list_of_features[2]), list_of_target[2])"
   ]
  },
  {
   "cell_type": "markdown",
   "metadata": {},
   "source": [
    "Модель обладает высоким качетсвом также по метрике `recall`. Несколько худший результат получается для F1-метрики.  \n",
    "Наблюдаемое различие может быть объяснено различием долей положительных ответов (пользователей тарифа `ultra`) в тестовой и валидационной выборках.  \n",
    "Модель характеризуется довольно большой долей ложно-отрицательных ответов (ответ is_ultra = 0, когда в действительности is_ultra = 1).  \n",
    "В зависимости от бизнес-задач это быть проблемой и требовать доработки модели.  \n",
    "Например при предсказании клиентов, которые хотят сменить тариф на более дешевый (`smart` вместо `ultra`) такие ложно-отрицательные ответы потребуют дополнительной и не нужной работы с клиентами."
   ]
  },
  {
   "cell_type": "markdown",
   "metadata": {},
   "source": [
    "## Проверка модели на вменяемость"
   ]
  },
  {
   "cell_type": "markdown",
   "metadata": {},
   "source": [
    "Вменяемая модель должна давать точность предказаний лучше, чем при случайном угадывании. Поскольку данные не сбалансированные, хорошую долю правильных ответов будет давать модель в которой все значения `is_ultra` равны 0, независимо от остальных признаков:"
   ]
  },
  {
   "cell_type": "code",
   "execution_count": 21,
   "metadata": {
    "scrolled": true
   },
   "outputs": [],
   "source": [
    "random_test_target = np.zeros(len(list_of_target[2]))"
   ]
  },
  {
   "cell_type": "markdown",
   "metadata": {},
   "source": [
    "Проверим случайное угадывание и вменяемость обученной модели:"
   ]
  },
  {
   "cell_type": "code",
   "execution_count": 22,
   "metadata": {},
   "outputs": [
    {
     "name": "stdout",
     "output_type": "stream",
     "text": [
      "Доля верных ответов при случайном угадывании: 0.70\n",
      "Доля верных ответов для обученой модели выше случайной - модель адекватна\n"
     ]
    }
   ],
   "source": [
    "accuracy_score_random_test = accuracy_score(list_of_target[2]>1, list_of_target[2])\n",
    "print(f\"Доля верных ответов при случайном угадывании: {accuracy_score_random_test:0.2f}\")\n",
    "\n",
    "if accuracy_test > accuracy_score_random_test:\n",
    "    print(\"Доля верных ответов для обученой модели выше случайной - модель адекватна\")\n",
    "else:\n",
    "    print(\"Доля верных ответов для обученой модели ниже или равна случайной - модель не адекватна\")"
   ]
  },
  {
   "cell_type": "markdown",
   "metadata": {},
   "source": [
    "## Выводы"
   ]
  },
  {
   "cell_type": "markdown",
   "metadata": {},
   "source": [
    "Предоставленные данные имеют достаточно высокое качество и не требует дополнительной обработки.\n",
    "\n",
    "Выделяются следующие особенности:\n",
    "- большие доли нулевых значений звонков, минут и особенно сообщений;\n",
    "- длинные \"хвосты\" в области больших значений для тех же параметров.\n",
    "Такие особенности вполне согласуются с поведением реальных пользователей, поэтому должны быть оставлены без изменений.\n",
    "\n",
    "Распределение клиентов по индикатору `is_ultra` несбалансированно - большинство клиентов (~70%) не являются пользователями тарифа Ultra, что несколько снижает качество получаемых моделей.\n",
    "\n",
    "Сравнение моделей логистической регрессии, дерева решений и случайного леса показало что наилучшее качество предсказаний дает модель случайного леса.\n",
    "\n",
    "Полученная модель является адекватной и даёт лучший результат (accuracy ~80% на тестовой выборке) чем константная модель, всегда предсказывающая нулевое значение `is_ultra` (accuracy ~70 %). При этом модель даёт достаточно большое количество ложно-отрицательных предсказаний (почти 50 % от всех `is_ultra` = 1). Таким образом, для использования на практике требуется доработка модели, например обучение на более сбалансированной выборке.  \n",
    "\n",
    "При соответствующей доработке модель может быть использована для определения клиентов, которые могут перейти с более дорого тарифа `Ultra` на более дешевые тарифы, для работы с такими клиентами."
   ]
  }
 ],
 "metadata": {
  "ExecuteTimeLog": [
   {
    "duration": 3,
    "start_time": "2022-05-21T17:34:26.323Z"
   },
   {
    "duration": 27,
    "start_time": "2022-05-21T17:34:28.710Z"
   },
   {
    "duration": 16,
    "start_time": "2022-05-21T17:34:37.685Z"
   },
   {
    "duration": 7,
    "start_time": "2022-05-21T17:36:34.066Z"
   },
   {
    "duration": 12,
    "start_time": "2022-05-21T17:36:42.522Z"
   },
   {
    "duration": 8,
    "start_time": "2022-05-21T17:36:47.024Z"
   },
   {
    "duration": 6,
    "start_time": "2022-05-21T17:36:50.775Z"
   },
   {
    "duration": 12,
    "start_time": "2022-05-21T17:37:01.978Z"
   },
   {
    "duration": 26,
    "start_time": "2022-05-21T17:37:10.708Z"
   },
   {
    "duration": 4,
    "start_time": "2022-05-21T17:38:17.307Z"
   },
   {
    "duration": 3,
    "start_time": "2022-05-21T17:38:58.807Z"
   },
   {
    "duration": 319,
    "start_time": "2022-05-21T17:39:17.788Z"
   },
   {
    "duration": 9,
    "start_time": "2022-05-21T17:39:26.779Z"
   },
   {
    "duration": 4,
    "start_time": "2022-05-21T17:39:31.639Z"
   },
   {
    "duration": 3,
    "start_time": "2022-05-21T17:39:37.878Z"
   },
   {
    "duration": 2,
    "start_time": "2022-05-21T17:39:41.317Z"
   },
   {
    "duration": 10,
    "start_time": "2022-05-21T17:39:47.242Z"
   },
   {
    "duration": 15,
    "start_time": "2022-05-21T17:40:23.190Z"
   },
   {
    "duration": 1350,
    "start_time": "2022-05-21T17:40:25.565Z"
   },
   {
    "duration": 8,
    "start_time": "2022-05-21T17:40:28.531Z"
   },
   {
    "duration": 3,
    "start_time": "2022-05-21T17:40:33.231Z"
   },
   {
    "duration": 4,
    "start_time": "2022-05-21T17:40:35.586Z"
   },
   {
    "duration": 9,
    "start_time": "2022-05-21T17:41:54.605Z"
   },
   {
    "duration": 10,
    "start_time": "2022-05-21T17:42:08.165Z"
   },
   {
    "duration": 2,
    "start_time": "2022-05-21T17:42:21.833Z"
   },
   {
    "duration": 4,
    "start_time": "2022-05-21T17:42:30.105Z"
   },
   {
    "duration": 3,
    "start_time": "2022-05-21T17:43:00.076Z"
   },
   {
    "duration": 3,
    "start_time": "2022-05-21T17:43:07.180Z"
   },
   {
    "duration": 3,
    "start_time": "2022-05-21T17:43:26.671Z"
   },
   {
    "duration": 17,
    "start_time": "2022-05-21T17:44:45.596Z"
   },
   {
    "duration": 15,
    "start_time": "2022-05-21T17:44:52.292Z"
   },
   {
    "duration": 14,
    "start_time": "2022-05-21T17:44:59.596Z"
   },
   {
    "duration": 4,
    "start_time": "2022-05-21T17:45:20.373Z"
   },
   {
    "duration": 6,
    "start_time": "2022-05-21T17:45:27.229Z"
   },
   {
    "duration": 13,
    "start_time": "2022-05-21T17:45:30.604Z"
   },
   {
    "duration": 4,
    "start_time": "2022-05-21T17:45:36.797Z"
   },
   {
    "duration": 4,
    "start_time": "2022-05-21T17:45:43.167Z"
   },
   {
    "duration": 4,
    "start_time": "2022-05-21T17:46:21.278Z"
   },
   {
    "duration": 12,
    "start_time": "2022-05-21T17:46:47.887Z"
   },
   {
    "duration": 5,
    "start_time": "2022-05-21T17:47:07.041Z"
   },
   {
    "duration": 4,
    "start_time": "2022-05-21T17:47:15.506Z"
   },
   {
    "duration": 5,
    "start_time": "2022-05-21T17:47:22.632Z"
   },
   {
    "duration": 3,
    "start_time": "2022-05-21T17:47:53.138Z"
   },
   {
    "duration": 4,
    "start_time": "2022-05-21T17:47:59.618Z"
   },
   {
    "duration": 8,
    "start_time": "2022-05-21T17:48:24.224Z"
   },
   {
    "duration": 5,
    "start_time": "2022-05-21T17:48:30.066Z"
   },
   {
    "duration": 6,
    "start_time": "2022-05-21T17:48:31.969Z"
   },
   {
    "duration": 998,
    "start_time": "2022-05-21T17:48:47.310Z"
   },
   {
    "duration": 28,
    "start_time": "2022-05-21T17:48:48.310Z"
   },
   {
    "duration": 11,
    "start_time": "2022-05-21T17:48:48.340Z"
   },
   {
    "duration": 13,
    "start_time": "2022-05-21T17:48:48.353Z"
   },
   {
    "duration": 7,
    "start_time": "2022-05-21T17:48:48.369Z"
   },
   {
    "duration": 35,
    "start_time": "2022-05-21T17:48:48.378Z"
   },
   {
    "duration": 3,
    "start_time": "2022-05-21T17:48:48.415Z"
   },
   {
    "duration": 7,
    "start_time": "2022-05-21T17:48:48.419Z"
   },
   {
    "duration": 7,
    "start_time": "2022-05-21T17:48:48.428Z"
   },
   {
    "duration": 10,
    "start_time": "2022-05-21T17:48:48.436Z"
   },
   {
    "duration": 115,
    "start_time": "2022-05-21T17:50:10.772Z"
   },
   {
    "duration": 976,
    "start_time": "2022-05-21T17:50:16.237Z"
   },
   {
    "duration": 32,
    "start_time": "2022-05-21T17:50:17.216Z"
   },
   {
    "duration": 15,
    "start_time": "2022-05-21T17:50:17.250Z"
   },
   {
    "duration": 19,
    "start_time": "2022-05-21T17:50:17.266Z"
   },
   {
    "duration": 10,
    "start_time": "2022-05-21T17:50:17.287Z"
   },
   {
    "duration": 33,
    "start_time": "2022-05-21T17:50:17.299Z"
   },
   {
    "duration": 3,
    "start_time": "2022-05-21T17:50:17.334Z"
   },
   {
    "duration": 9,
    "start_time": "2022-05-21T17:50:17.339Z"
   },
   {
    "duration": 11,
    "start_time": "2022-05-21T17:50:17.350Z"
   },
   {
    "duration": 14,
    "start_time": "2022-05-21T17:50:17.364Z"
   },
   {
    "duration": 134,
    "start_time": "2022-05-21T17:50:17.396Z"
   },
   {
    "duration": 5,
    "start_time": "2022-05-21T17:50:20.367Z"
   },
   {
    "duration": 2,
    "start_time": "2022-05-21T17:51:24.073Z"
   },
   {
    "duration": 9,
    "start_time": "2022-05-21T17:51:45.867Z"
   },
   {
    "duration": 7,
    "start_time": "2022-05-21T17:51:54.024Z"
   },
   {
    "duration": 13,
    "start_time": "2022-05-21T17:52:42.201Z"
   },
   {
    "duration": 28,
    "start_time": "2022-05-21T17:53:08.650Z"
   },
   {
    "duration": 12,
    "start_time": "2022-05-21T17:53:35.030Z"
   },
   {
    "duration": 13,
    "start_time": "2022-05-21T17:53:48.999Z"
   },
   {
    "duration": 8,
    "start_time": "2022-05-21T17:53:56.506Z"
   },
   {
    "duration": 16,
    "start_time": "2022-05-21T17:55:27.777Z"
   },
   {
    "duration": 11,
    "start_time": "2022-05-21T17:55:49.708Z"
   },
   {
    "duration": 6,
    "start_time": "2022-05-21T17:55:51.844Z"
   },
   {
    "duration": 5,
    "start_time": "2022-05-21T17:56:01.707Z"
   },
   {
    "duration": 5,
    "start_time": "2022-05-21T17:56:05.346Z"
   },
   {
    "duration": 4,
    "start_time": "2022-05-21T17:56:13.215Z"
   },
   {
    "duration": 28,
    "start_time": "2022-05-21T18:01:05.206Z"
   },
   {
    "duration": 32,
    "start_time": "2022-05-21T18:01:11.310Z"
   },
   {
    "duration": 23,
    "start_time": "2022-05-21T18:01:20.507Z"
   },
   {
    "duration": 35,
    "start_time": "2022-05-21T18:02:04.686Z"
   },
   {
    "duration": 26,
    "start_time": "2022-05-21T18:02:23.467Z"
   },
   {
    "duration": 4,
    "start_time": "2022-05-21T18:10:24.902Z"
   },
   {
    "duration": 5,
    "start_time": "2022-05-21T18:10:27.332Z"
   },
   {
    "duration": 47,
    "start_time": "2022-05-21T18:12:11.889Z"
   },
   {
    "duration": 1989,
    "start_time": "2022-05-21T18:12:22.968Z"
   },
   {
    "duration": 2025,
    "start_time": "2022-05-21T18:13:25.733Z"
   },
   {
    "duration": 1948,
    "start_time": "2022-05-21T18:14:14.890Z"
   },
   {
    "duration": 38,
    "start_time": "2022-05-21T18:17:13.039Z"
   },
   {
    "duration": 73573,
    "start_time": "2022-05-21T18:17:18.172Z"
   },
   {
    "duration": 21867,
    "start_time": "2022-05-21T18:18:34.533Z"
   },
   {
    "duration": 6164,
    "start_time": "2022-05-21T18:19:54.792Z"
   },
   {
    "duration": 6400,
    "start_time": "2022-05-21T18:20:42.370Z"
   },
   {
    "duration": 43,
    "start_time": "2022-05-21T18:21:28.269Z"
   },
   {
    "duration": 19156,
    "start_time": "2022-05-21T18:21:46.082Z"
   },
   {
    "duration": 7781,
    "start_time": "2022-05-21T18:22:49.544Z"
   },
   {
    "duration": 143069,
    "start_time": "2022-05-21T18:23:09.839Z"
   },
   {
    "duration": 14890,
    "start_time": "2022-05-21T18:25:44.975Z"
   },
   {
    "duration": 190977,
    "start_time": "2022-05-21T18:26:04.534Z"
   },
   {
    "duration": 27820,
    "start_time": "2022-05-21T18:30:42.876Z"
   },
   {
    "duration": 14,
    "start_time": "2022-05-21T18:32:49.648Z"
   },
   {
    "duration": 11,
    "start_time": "2022-05-21T18:32:56.408Z"
   },
   {
    "duration": 30,
    "start_time": "2022-05-21T18:33:28.741Z"
   },
   {
    "duration": 3,
    "start_time": "2022-05-21T18:33:39.236Z"
   },
   {
    "duration": 4,
    "start_time": "2022-05-21T18:33:44.646Z"
   },
   {
    "duration": 3527,
    "start_time": "2022-05-21T18:33:58.769Z"
   },
   {
    "duration": 3630,
    "start_time": "2022-05-21T18:34:11.672Z"
   },
   {
    "duration": 3,
    "start_time": "2022-05-21T18:34:18.147Z"
   },
   {
    "duration": 2678,
    "start_time": "2022-05-21T18:34:23.443Z"
   },
   {
    "duration": 11,
    "start_time": "2022-05-21T18:34:46.914Z"
   },
   {
    "duration": 2837,
    "start_time": "2022-05-21T18:35:09.691Z"
   },
   {
    "duration": 3,
    "start_time": "2022-05-21T18:35:30.547Z"
   },
   {
    "duration": 3,
    "start_time": "2022-05-21T18:36:59.164Z"
   },
   {
    "duration": 2869,
    "start_time": "2022-05-21T18:37:10.786Z"
   },
   {
    "duration": 3,
    "start_time": "2022-05-21T18:37:20.331Z"
   },
   {
    "duration": 3,
    "start_time": "2022-05-21T18:37:22.966Z"
   },
   {
    "duration": 28,
    "start_time": "2022-05-21T18:39:11.504Z"
   },
   {
    "duration": 21,
    "start_time": "2022-05-21T18:39:16.072Z"
   },
   {
    "duration": 21,
    "start_time": "2022-05-21T18:39:25.300Z"
   },
   {
    "duration": 21,
    "start_time": "2022-05-21T18:39:29.696Z"
   },
   {
    "duration": 26821,
    "start_time": "2022-05-21T18:39:38.132Z"
   },
   {
    "duration": 5868,
    "start_time": "2022-05-21T18:40:39.227Z"
   },
   {
    "duration": 25,
    "start_time": "2022-05-21T18:40:46.266Z"
   },
   {
    "duration": 4,
    "start_time": "2022-05-21T18:42:15.406Z"
   },
   {
    "duration": 2874,
    "start_time": "2022-05-21T18:42:55.971Z"
   },
   {
    "duration": 39,
    "start_time": "2022-05-21T18:43:08.688Z"
   },
   {
    "duration": 4,
    "start_time": "2022-05-21T18:43:51.719Z"
   },
   {
    "duration": 53,
    "start_time": "2022-05-21T18:44:40.028Z"
   },
   {
    "duration": 3,
    "start_time": "2022-05-21T18:45:27.564Z"
   },
   {
    "duration": 3,
    "start_time": "2022-05-21T18:48:32.493Z"
   },
   {
    "duration": 9,
    "start_time": "2022-05-21T18:49:41.635Z"
   },
   {
    "duration": 3,
    "start_time": "2022-05-21T18:49:49.163Z"
   },
   {
    "duration": 6,
    "start_time": "2022-05-21T18:49:56.447Z"
   },
   {
    "duration": 5,
    "start_time": "2022-05-21T18:50:09.906Z"
   },
   {
    "duration": 4,
    "start_time": "2022-05-21T18:50:56.498Z"
   },
   {
    "duration": 4,
    "start_time": "2022-05-21T18:51:02.742Z"
   },
   {
    "duration": 6,
    "start_time": "2022-05-21T18:51:13.641Z"
   },
   {
    "duration": 5,
    "start_time": "2022-05-21T18:51:25.836Z"
   },
   {
    "duration": 5,
    "start_time": "2022-05-21T18:51:33.441Z"
   },
   {
    "duration": 5,
    "start_time": "2022-05-21T18:51:36.046Z"
   },
   {
    "duration": 4,
    "start_time": "2022-05-21T18:52:06.443Z"
   },
   {
    "duration": 6,
    "start_time": "2022-05-21T18:52:10.447Z"
   },
   {
    "duration": 5,
    "start_time": "2022-05-21T18:52:49.102Z"
   },
   {
    "duration": 5,
    "start_time": "2022-05-21T18:53:57.733Z"
   },
   {
    "duration": 7,
    "start_time": "2022-05-21T18:54:09.042Z"
   },
   {
    "duration": 6,
    "start_time": "2022-05-21T18:54:11.181Z"
   },
   {
    "duration": 6,
    "start_time": "2022-05-21T18:54:12.007Z"
   },
   {
    "duration": 7,
    "start_time": "2022-05-21T18:54:12.486Z"
   },
   {
    "duration": 7,
    "start_time": "2022-05-21T18:54:12.879Z"
   },
   {
    "duration": 6,
    "start_time": "2022-05-21T18:54:13.141Z"
   },
   {
    "duration": 6,
    "start_time": "2022-05-21T18:54:13.348Z"
   },
   {
    "duration": 6,
    "start_time": "2022-05-21T18:54:13.599Z"
   },
   {
    "duration": 5,
    "start_time": "2022-05-21T18:54:13.786Z"
   },
   {
    "duration": 5,
    "start_time": "2022-05-21T18:54:14.005Z"
   },
   {
    "duration": 5,
    "start_time": "2022-05-21T18:54:14.212Z"
   },
   {
    "duration": 5,
    "start_time": "2022-05-21T18:54:14.390Z"
   },
   {
    "duration": 6,
    "start_time": "2022-05-21T18:54:14.587Z"
   },
   {
    "duration": 6,
    "start_time": "2022-05-21T18:54:14.788Z"
   },
   {
    "duration": 6,
    "start_time": "2022-05-21T18:54:14.986Z"
   },
   {
    "duration": 5,
    "start_time": "2022-05-21T18:57:38.409Z"
   },
   {
    "duration": 15,
    "start_time": "2022-05-21T18:58:23.102Z"
   },
   {
    "duration": 928,
    "start_time": "2022-05-21T18:58:31.590Z"
   },
   {
    "duration": 4,
    "start_time": "2022-05-21T18:59:05.486Z"
   },
   {
    "duration": 517,
    "start_time": "2022-05-21T18:59:52.302Z"
   },
   {
    "duration": 459,
    "start_time": "2022-05-21T19:00:09.241Z"
   },
   {
    "duration": 384,
    "start_time": "2022-05-21T19:00:20.339Z"
   },
   {
    "duration": 171,
    "start_time": "2022-05-21T19:00:41.694Z"
   },
   {
    "duration": 399,
    "start_time": "2022-05-21T19:01:24.788Z"
   },
   {
    "duration": 382,
    "start_time": "2022-05-21T19:01:40.898Z"
   },
   {
    "duration": 494,
    "start_time": "2022-05-21T19:01:44.445Z"
   },
   {
    "duration": 388,
    "start_time": "2022-05-21T19:02:08.129Z"
   },
   {
    "duration": 497,
    "start_time": "2022-05-21T19:02:55.233Z"
   },
   {
    "duration": 457,
    "start_time": "2022-05-21T19:03:02.021Z"
   },
   {
    "duration": 609,
    "start_time": "2022-05-21T19:03:12.506Z"
   },
   {
    "duration": 3,
    "start_time": "2022-05-21T19:11:22.586Z"
   },
   {
    "duration": 4,
    "start_time": "2022-05-21T19:11:31.564Z"
   },
   {
    "duration": 4,
    "start_time": "2022-05-21T19:11:35.250Z"
   },
   {
    "duration": 12,
    "start_time": "2022-05-21T19:11:45.022Z"
   },
   {
    "duration": 9,
    "start_time": "2022-05-21T19:11:54.643Z"
   },
   {
    "duration": 3,
    "start_time": "2022-05-21T19:12:06.501Z"
   },
   {
    "duration": 11,
    "start_time": "2022-05-21T19:12:12.637Z"
   },
   {
    "duration": 9,
    "start_time": "2022-05-21T19:12:30.594Z"
   },
   {
    "duration": 10,
    "start_time": "2022-05-21T19:12:36.736Z"
   },
   {
    "duration": 10,
    "start_time": "2022-05-21T19:13:18.170Z"
   },
   {
    "duration": 12,
    "start_time": "2022-05-21T19:13:23.707Z"
   },
   {
    "duration": 46,
    "start_time": "2022-05-21T19:13:28.289Z"
   },
   {
    "duration": 4,
    "start_time": "2022-05-21T19:13:44.622Z"
   },
   {
    "duration": 5,
    "start_time": "2022-05-21T19:14:54.508Z"
   },
   {
    "duration": 13,
    "start_time": "2022-05-21T19:14:58.010Z"
   },
   {
    "duration": 12,
    "start_time": "2022-05-21T19:15:03.211Z"
   },
   {
    "duration": 5,
    "start_time": "2022-05-21T19:15:09.939Z"
   },
   {
    "duration": 417,
    "start_time": "2022-05-21T19:15:47.815Z"
   },
   {
    "duration": 71,
    "start_time": "2022-05-21T19:16:19.627Z"
   },
   {
    "duration": 54,
    "start_time": "2022-05-21T19:16:30.278Z"
   },
   {
    "duration": 4,
    "start_time": "2022-05-21T19:22:30.840Z"
   },
   {
    "duration": 9,
    "start_time": "2022-05-21T19:24:12.804Z"
   },
   {
    "duration": 3,
    "start_time": "2022-05-21T19:25:11.868Z"
   },
   {
    "duration": 5,
    "start_time": "2022-05-21T19:25:19.285Z"
   },
   {
    "duration": 7,
    "start_time": "2022-05-21T19:25:51.631Z"
   },
   {
    "duration": 3,
    "start_time": "2022-05-21T19:25:55.326Z"
   },
   {
    "duration": 5,
    "start_time": "2022-05-21T19:25:57.087Z"
   },
   {
    "duration": 5,
    "start_time": "2022-05-21T19:25:59.212Z"
   },
   {
    "duration": 35,
    "start_time": "2022-05-21T19:35:57.962Z"
   },
   {
    "duration": 6817,
    "start_time": "2022-05-21T19:39:54.016Z"
   },
   {
    "duration": 9925,
    "start_time": "2022-05-21T19:40:27.661Z"
   },
   {
    "duration": 31693,
    "start_time": "2022-05-21T19:40:53.952Z"
   },
   {
    "duration": 31412,
    "start_time": "2022-05-21T19:42:08.544Z"
   },
   {
    "duration": 31242,
    "start_time": "2022-05-21T19:43:26.117Z"
   },
   {
    "duration": 10850,
    "start_time": "2022-05-21T19:44:22.094Z"
   },
   {
    "duration": 38862,
    "start_time": "2022-05-21T19:44:57.056Z"
   },
   {
    "duration": 18509,
    "start_time": "2022-05-21T19:46:22.306Z"
   },
   {
    "duration": 7778,
    "start_time": "2022-05-21T19:47:53.445Z"
   },
   {
    "duration": 13154,
    "start_time": "2022-05-21T19:48:27.741Z"
   },
   {
    "duration": 8052,
    "start_time": "2022-05-21T19:50:04.815Z"
   },
   {
    "duration": 31,
    "start_time": "2022-05-21T19:52:33.010Z"
   },
   {
    "duration": 29,
    "start_time": "2022-05-21T19:52:54.941Z"
   },
   {
    "duration": 3974,
    "start_time": "2022-05-21T19:53:21.642Z"
   },
   {
    "duration": 12793,
    "start_time": "2022-05-21T19:53:30.448Z"
   },
   {
    "duration": 4847,
    "start_time": "2022-05-21T19:54:45.259Z"
   },
   {
    "duration": 13986,
    "start_time": "2022-05-21T19:54:51.811Z"
   },
   {
    "duration": 4,
    "start_time": "2022-05-21T19:55:19.895Z"
   },
   {
    "duration": 4,
    "start_time": "2022-05-21T19:55:24.211Z"
   },
   {
    "duration": 4,
    "start_time": "2022-05-21T19:55:46.186Z"
   },
   {
    "duration": 3,
    "start_time": "2022-05-21T19:55:54.446Z"
   },
   {
    "duration": 3,
    "start_time": "2022-05-21T19:56:10.716Z"
   },
   {
    "duration": 4,
    "start_time": "2022-05-21T19:56:14.522Z"
   },
   {
    "duration": 3,
    "start_time": "2022-05-21T19:56:42.843Z"
   },
   {
    "duration": 4,
    "start_time": "2022-05-21T19:56:44.840Z"
   },
   {
    "duration": 5,
    "start_time": "2022-05-21T19:56:46.901Z"
   },
   {
    "duration": 5,
    "start_time": "2022-05-21T19:56:50.406Z"
   },
   {
    "duration": 11,
    "start_time": "2022-05-21T19:56:52.393Z"
   },
   {
    "duration": 27,
    "start_time": "2022-05-21T19:56:55.209Z"
   },
   {
    "duration": 13275,
    "start_time": "2022-05-21T19:57:00.249Z"
   },
   {
    "duration": 6,
    "start_time": "2022-05-21T19:59:25.703Z"
   },
   {
    "duration": 13212,
    "start_time": "2022-05-21T19:59:31.448Z"
   },
   {
    "duration": 5,
    "start_time": "2022-05-21T19:59:47.245Z"
   },
   {
    "duration": 10,
    "start_time": "2022-05-21T20:00:48.792Z"
   },
   {
    "duration": 3967,
    "start_time": "2022-05-21T20:04:19.049Z"
   },
   {
    "duration": 5935,
    "start_time": "2022-05-21T20:04:53.733Z"
   },
   {
    "duration": 4008,
    "start_time": "2022-05-21T20:05:16.121Z"
   },
   {
    "duration": 898,
    "start_time": "2022-05-21T20:07:35.581Z"
   },
   {
    "duration": 1847,
    "start_time": "2022-05-21T20:07:39.848Z"
   },
   {
    "duration": 3979,
    "start_time": "2022-05-21T20:07:45.484Z"
   },
   {
    "duration": 6982,
    "start_time": "2022-05-21T20:07:52.188Z"
   },
   {
    "duration": 965,
    "start_time": "2022-05-21T20:10:15.790Z"
   },
   {
    "duration": 6836,
    "start_time": "2022-05-21T20:10:28.478Z"
   },
   {
    "duration": 4346,
    "start_time": "2022-05-21T20:12:18.146Z"
   },
   {
    "duration": 7324,
    "start_time": "2022-05-21T20:12:22.494Z"
   },
   {
    "duration": 4,
    "start_time": "2022-05-21T20:13:22.269Z"
   },
   {
    "duration": 5,
    "start_time": "2022-05-21T20:13:38.803Z"
   },
   {
    "duration": 156,
    "start_time": "2022-05-21T20:18:00.882Z"
   },
   {
    "duration": 49,
    "start_time": "2022-05-21T20:20:54.106Z"
   },
   {
    "duration": 89,
    "start_time": "2022-05-21T20:22:59.731Z"
   },
   {
    "duration": 6,
    "start_time": "2022-05-21T20:27:16.369Z"
   },
   {
    "duration": 5,
    "start_time": "2022-05-21T20:28:28.498Z"
   },
   {
    "duration": 6,
    "start_time": "2022-05-21T20:29:13.922Z"
   },
   {
    "duration": 6,
    "start_time": "2022-05-21T20:29:17.869Z"
   },
   {
    "duration": 6,
    "start_time": "2022-05-21T20:29:20.722Z"
   },
   {
    "duration": 5,
    "start_time": "2022-05-21T20:29:23.185Z"
   },
   {
    "duration": 5,
    "start_time": "2022-05-21T20:29:24.311Z"
   },
   {
    "duration": 5,
    "start_time": "2022-05-21T20:29:24.876Z"
   },
   {
    "duration": 6,
    "start_time": "2022-05-21T20:29:25.228Z"
   },
   {
    "duration": 5,
    "start_time": "2022-05-21T20:29:25.598Z"
   },
   {
    "duration": 5,
    "start_time": "2022-05-21T20:29:26.038Z"
   },
   {
    "duration": 6,
    "start_time": "2022-05-21T20:29:26.494Z"
   },
   {
    "duration": 7,
    "start_time": "2022-05-21T20:29:27.258Z"
   },
   {
    "duration": 9,
    "start_time": "2022-05-21T20:29:43.525Z"
   },
   {
    "duration": 7,
    "start_time": "2022-05-21T20:29:51.325Z"
   },
   {
    "duration": 6,
    "start_time": "2022-05-21T20:29:59.481Z"
   },
   {
    "duration": 8,
    "start_time": "2022-05-21T20:30:03.005Z"
   },
   {
    "duration": 9,
    "start_time": "2022-05-21T20:30:05.493Z"
   },
   {
    "duration": 7,
    "start_time": "2022-05-21T20:30:19.646Z"
   },
   {
    "duration": 7,
    "start_time": "2022-05-21T20:30:59.571Z"
   },
   {
    "duration": 4,
    "start_time": "2022-05-21T20:32:27.733Z"
   },
   {
    "duration": 7,
    "start_time": "2022-05-21T20:32:40.068Z"
   },
   {
    "duration": 6,
    "start_time": "2022-05-21T20:33:12.482Z"
   },
   {
    "duration": 6,
    "start_time": "2022-05-21T20:33:17.482Z"
   },
   {
    "duration": 1148,
    "start_time": "2022-05-21T20:33:34.423Z"
   },
   {
    "duration": 99,
    "start_time": "2022-05-21T20:33:35.573Z"
   },
   {
    "duration": 12,
    "start_time": "2022-05-21T20:33:35.674Z"
   },
   {
    "duration": 11,
    "start_time": "2022-05-21T20:33:35.688Z"
   },
   {
    "duration": 24,
    "start_time": "2022-05-21T20:33:35.700Z"
   },
   {
    "duration": 660,
    "start_time": "2022-05-21T20:33:35.725Z"
   },
   {
    "duration": 8,
    "start_time": "2022-05-21T20:33:36.387Z"
   },
   {
    "duration": 121,
    "start_time": "2022-05-21T20:33:36.397Z"
   },
   {
    "duration": 0,
    "start_time": "2022-05-21T20:33:36.520Z"
   },
   {
    "duration": 0,
    "start_time": "2022-05-21T20:33:36.521Z"
   },
   {
    "duration": 0,
    "start_time": "2022-05-21T20:33:36.522Z"
   },
   {
    "duration": 0,
    "start_time": "2022-05-21T20:33:36.523Z"
   },
   {
    "duration": 0,
    "start_time": "2022-05-21T20:33:36.524Z"
   },
   {
    "duration": 0,
    "start_time": "2022-05-21T20:33:36.525Z"
   },
   {
    "duration": 0,
    "start_time": "2022-05-21T20:33:36.526Z"
   },
   {
    "duration": 0,
    "start_time": "2022-05-21T20:33:36.527Z"
   },
   {
    "duration": 0,
    "start_time": "2022-05-21T20:33:36.528Z"
   },
   {
    "duration": 1,
    "start_time": "2022-05-21T20:33:36.529Z"
   },
   {
    "duration": 0,
    "start_time": "2022-05-21T20:33:36.530Z"
   },
   {
    "duration": 0,
    "start_time": "2022-05-21T20:33:36.531Z"
   },
   {
    "duration": 0,
    "start_time": "2022-05-21T20:33:36.532Z"
   },
   {
    "duration": 1128,
    "start_time": "2022-05-21T20:34:20.128Z"
   },
   {
    "duration": 102,
    "start_time": "2022-05-21T20:34:21.259Z"
   },
   {
    "duration": 11,
    "start_time": "2022-05-21T20:34:21.363Z"
   },
   {
    "duration": 9,
    "start_time": "2022-05-21T20:34:21.376Z"
   },
   {
    "duration": 31,
    "start_time": "2022-05-21T20:34:21.386Z"
   },
   {
    "duration": 634,
    "start_time": "2022-05-21T20:34:21.418Z"
   },
   {
    "duration": 4,
    "start_time": "2022-05-21T20:34:22.054Z"
   },
   {
    "duration": 22,
    "start_time": "2022-05-21T20:34:22.059Z"
   },
   {
    "duration": 6,
    "start_time": "2022-05-21T20:34:22.083Z"
   },
   {
    "duration": 6,
    "start_time": "2022-05-21T20:34:22.092Z"
   },
   {
    "duration": 4,
    "start_time": "2022-05-21T20:34:22.100Z"
   },
   {
    "duration": 11,
    "start_time": "2022-05-21T20:34:22.106Z"
   },
   {
    "duration": 26,
    "start_time": "2022-05-21T20:34:22.118Z"
   },
   {
    "duration": 12844,
    "start_time": "2022-05-21T20:34:22.145Z"
   },
   {
    "duration": 8231,
    "start_time": "2022-05-21T20:34:34.990Z"
   },
   {
    "duration": 5532,
    "start_time": "2022-05-21T20:34:43.222Z"
   },
   {
    "duration": 4766,
    "start_time": "2022-05-21T20:34:48.755Z"
   },
   {
    "duration": 29,
    "start_time": "2022-05-21T20:34:53.523Z"
   },
   {
    "duration": 66,
    "start_time": "2022-05-21T20:34:53.554Z"
   },
   {
    "duration": 3,
    "start_time": "2022-05-21T20:34:53.622Z"
   },
   {
    "duration": 10,
    "start_time": "2022-05-21T20:34:53.627Z"
   },
   {
    "duration": 1178,
    "start_time": "2022-05-21T20:35:18.088Z"
   },
   {
    "duration": 104,
    "start_time": "2022-05-21T20:35:19.270Z"
   },
   {
    "duration": 18,
    "start_time": "2022-05-21T20:35:19.376Z"
   },
   {
    "duration": 13,
    "start_time": "2022-05-21T20:35:19.398Z"
   },
   {
    "duration": 33,
    "start_time": "2022-05-21T20:35:19.413Z"
   },
   {
    "duration": 679,
    "start_time": "2022-05-21T20:35:19.448Z"
   },
   {
    "duration": 4,
    "start_time": "2022-05-21T20:35:20.129Z"
   },
   {
    "duration": 7,
    "start_time": "2022-05-21T20:35:20.135Z"
   },
   {
    "duration": 6,
    "start_time": "2022-05-21T20:35:20.143Z"
   },
   {
    "duration": 5,
    "start_time": "2022-05-21T20:35:20.152Z"
   },
   {
    "duration": 5,
    "start_time": "2022-05-21T20:35:20.159Z"
   },
   {
    "duration": 29,
    "start_time": "2022-05-21T20:35:20.166Z"
   },
   {
    "duration": 31,
    "start_time": "2022-05-21T20:35:20.197Z"
   },
   {
    "duration": 13153,
    "start_time": "2022-05-21T20:35:20.230Z"
   },
   {
    "duration": 8510,
    "start_time": "2022-05-21T20:35:33.385Z"
   },
   {
    "duration": 5828,
    "start_time": "2022-05-21T20:35:41.897Z"
   },
   {
    "duration": 7441,
    "start_time": "2022-05-21T20:35:47.727Z"
   },
   {
    "duration": 48,
    "start_time": "2022-05-21T20:35:55.170Z"
   },
   {
    "duration": 81,
    "start_time": "2022-05-21T20:35:55.220Z"
   },
   {
    "duration": 4,
    "start_time": "2022-05-21T20:35:55.302Z"
   },
   {
    "duration": 11,
    "start_time": "2022-05-21T20:35:55.308Z"
   },
   {
    "duration": 1619,
    "start_time": "2022-05-22T08:35:35.834Z"
   },
   {
    "duration": 157,
    "start_time": "2022-05-22T08:35:37.456Z"
   },
   {
    "duration": 14,
    "start_time": "2022-05-22T08:35:37.616Z"
   },
   {
    "duration": 10,
    "start_time": "2022-05-22T08:35:37.632Z"
   },
   {
    "duration": 53,
    "start_time": "2022-05-22T08:35:37.643Z"
   },
   {
    "duration": 736,
    "start_time": "2022-05-22T08:35:37.697Z"
   },
   {
    "duration": 4,
    "start_time": "2022-05-22T08:35:38.435Z"
   },
   {
    "duration": 25,
    "start_time": "2022-05-22T08:35:38.441Z"
   },
   {
    "duration": 17,
    "start_time": "2022-05-22T08:35:38.468Z"
   },
   {
    "duration": 18,
    "start_time": "2022-05-22T08:35:38.493Z"
   },
   {
    "duration": 10,
    "start_time": "2022-05-22T08:35:38.513Z"
   },
   {
    "duration": 19,
    "start_time": "2022-05-22T08:35:38.525Z"
   },
   {
    "duration": 50,
    "start_time": "2022-05-22T08:35:38.547Z"
   },
   {
    "duration": 15535,
    "start_time": "2022-05-22T08:35:38.601Z"
   },
   {
    "duration": 16385,
    "start_time": "2022-05-22T08:35:54.138Z"
   },
   {
    "duration": 12414,
    "start_time": "2022-05-22T08:36:10.525Z"
   },
   {
    "duration": 1661,
    "start_time": "2022-05-22T08:36:22.942Z"
   },
   {
    "duration": 10,
    "start_time": "2022-05-22T08:36:24.605Z"
   },
   {
    "duration": 17,
    "start_time": "2022-05-22T08:36:24.617Z"
   },
   {
    "duration": 4,
    "start_time": "2022-05-22T08:36:24.635Z"
   },
   {
    "duration": 30,
    "start_time": "2022-05-22T08:36:24.641Z"
   },
   {
    "duration": 6,
    "start_time": "2022-05-22T08:44:23.303Z"
   },
   {
    "duration": 146,
    "start_time": "2022-05-22T08:44:31.431Z"
   },
   {
    "duration": 5,
    "start_time": "2022-05-22T08:44:39.335Z"
   },
   {
    "duration": 15,
    "start_time": "2022-05-22T08:45:20.422Z"
   },
   {
    "duration": 12,
    "start_time": "2022-05-22T08:46:22.447Z"
   },
   {
    "duration": 8,
    "start_time": "2022-05-22T08:47:20.816Z"
   },
   {
    "duration": 8,
    "start_time": "2022-05-22T08:52:19.179Z"
   },
   {
    "duration": 5,
    "start_time": "2022-05-22T08:52:25.599Z"
   },
   {
    "duration": 6,
    "start_time": "2022-05-22T08:52:56.720Z"
   },
   {
    "duration": 15,
    "start_time": "2022-05-22T08:53:04.182Z"
   },
   {
    "duration": 5,
    "start_time": "2022-05-22T08:53:10.727Z"
   },
   {
    "duration": 12,
    "start_time": "2022-05-22T08:56:27.894Z"
   },
   {
    "duration": 6,
    "start_time": "2022-05-22T09:13:53.153Z"
   },
   {
    "duration": 68,
    "start_time": "2022-05-23T08:45:59.641Z"
   },
   {
    "duration": 1409,
    "start_time": "2022-05-23T08:46:05.363Z"
   },
   {
    "duration": 195,
    "start_time": "2022-05-23T08:46:09.164Z"
   },
   {
    "duration": 12,
    "start_time": "2022-05-23T08:46:11.793Z"
   },
   {
    "duration": 8,
    "start_time": "2022-05-23T08:46:14.207Z"
   },
   {
    "duration": 647,
    "start_time": "2022-05-23T08:46:16.697Z"
   },
   {
    "duration": 4,
    "start_time": "2022-05-23T08:46:21.742Z"
   },
   {
    "duration": 3,
    "start_time": "2022-05-23T08:46:23.052Z"
   },
   {
    "duration": 5,
    "start_time": "2022-05-23T08:46:24.561Z"
   },
   {
    "duration": 15,
    "start_time": "2022-05-23T08:46:25.542Z"
   },
   {
    "duration": 69,
    "start_time": "2022-05-23T08:46:53.201Z"
   },
   {
    "duration": 4,
    "start_time": "2022-05-23T08:46:57.841Z"
   },
   {
    "duration": 4,
    "start_time": "2022-05-23T08:47:13.667Z"
   },
   {
    "duration": 17,
    "start_time": "2022-05-23T08:48:14.892Z"
   },
   {
    "duration": 14,
    "start_time": "2022-05-23T08:48:21.391Z"
   },
   {
    "duration": 7,
    "start_time": "2022-05-23T08:48:43.896Z"
   },
   {
    "duration": 16,
    "start_time": "2022-05-23T08:48:51.446Z"
   },
   {
    "duration": 4,
    "start_time": "2022-05-23T08:49:19.258Z"
   },
   {
    "duration": 6,
    "start_time": "2022-05-23T08:49:53.395Z"
   },
   {
    "duration": 4,
    "start_time": "2022-05-23T08:49:57.760Z"
   },
   {
    "duration": 462,
    "start_time": "2022-05-23T08:50:07.049Z"
   },
   {
    "duration": 6,
    "start_time": "2022-05-23T08:50:22.945Z"
   },
   {
    "duration": 5,
    "start_time": "2022-05-23T08:50:26.342Z"
   },
   {
    "duration": 4,
    "start_time": "2022-05-23T08:50:46.070Z"
   },
   {
    "duration": 5,
    "start_time": "2022-05-23T08:50:50.687Z"
   },
   {
    "duration": 10,
    "start_time": "2022-05-23T08:50:52.881Z"
   },
   {
    "duration": 4,
    "start_time": "2022-05-23T08:50:54.803Z"
   },
   {
    "duration": 5,
    "start_time": "2022-05-23T08:52:05.058Z"
   },
   {
    "duration": 8,
    "start_time": "2022-05-23T08:52:16.572Z"
   },
   {
    "duration": 5,
    "start_time": "2022-05-23T08:52:51.902Z"
   },
   {
    "duration": 5,
    "start_time": "2022-05-23T08:52:59.513Z"
   },
   {
    "duration": 13,
    "start_time": "2022-05-23T08:53:01.859Z"
   },
   {
    "duration": 44,
    "start_time": "2022-05-23T08:53:18.724Z"
   },
   {
    "duration": 14367,
    "start_time": "2022-05-23T08:53:30.477Z"
   },
   {
    "duration": 6099,
    "start_time": "2022-05-23T08:53:50.697Z"
   },
   {
    "duration": 3205,
    "start_time": "2022-05-23T08:54:18.937Z"
   },
   {
    "duration": 4262,
    "start_time": "2022-05-23T08:54:22.143Z"
   },
   {
    "duration": 30,
    "start_time": "2022-05-23T08:54:36.896Z"
   },
   {
    "duration": 55,
    "start_time": "2022-05-23T08:54:39.960Z"
   },
   {
    "duration": 5,
    "start_time": "2022-05-23T08:54:49.607Z"
   },
   {
    "duration": 15,
    "start_time": "2022-05-23T08:55:14.285Z"
   },
   {
    "duration": 620,
    "start_time": "2022-05-23T08:55:32.289Z"
   },
   {
    "duration": 4,
    "start_time": "2022-05-23T09:26:15.312Z"
   },
   {
    "duration": 5,
    "start_time": "2022-05-23T09:26:18.622Z"
   },
   {
    "duration": 4,
    "start_time": "2022-05-23T09:26:20.629Z"
   },
   {
    "duration": 4,
    "start_time": "2022-05-23T09:26:22.248Z"
   },
   {
    "duration": 5,
    "start_time": "2022-05-23T09:26:25.136Z"
   },
   {
    "duration": 6,
    "start_time": "2022-05-23T09:26:27.495Z"
   },
   {
    "duration": 3,
    "start_time": "2022-05-23T09:47:38.125Z"
   },
   {
    "duration": 16,
    "start_time": "2022-05-23T09:47:40.171Z"
   },
   {
    "duration": 5,
    "start_time": "2022-05-23T09:47:43.308Z"
   },
   {
    "duration": 5,
    "start_time": "2022-05-23T09:47:46.530Z"
   },
   {
    "duration": 110,
    "start_time": "2022-05-23T09:47:50.795Z"
   },
   {
    "duration": 17686,
    "start_time": "2022-05-23T09:47:56.928Z"
   },
   {
    "duration": 6963,
    "start_time": "2022-05-23T09:48:20.300Z"
   },
   {
    "duration": 7,
    "start_time": "2022-05-23T09:48:54.958Z"
   },
   {
    "duration": 11,
    "start_time": "2022-05-23T09:49:00.314Z"
   },
   {
    "duration": 33,
    "start_time": "2022-05-23T09:49:06.745Z"
   },
   {
    "duration": 13854,
    "start_time": "2022-05-23T09:49:10.794Z"
   },
   {
    "duration": 5,
    "start_time": "2022-05-23T09:58:20.075Z"
   },
   {
    "duration": 81,
    "start_time": "2022-05-23T09:58:26.104Z"
   },
   {
    "duration": 1900,
    "start_time": "2022-05-23T10:03:13.852Z"
   },
   {
    "duration": 15822,
    "start_time": "2022-05-23T10:03:22.766Z"
   },
   {
    "duration": 1421,
    "start_time": "2022-05-23T12:45:36.807Z"
   },
   {
    "duration": 217,
    "start_time": "2022-05-23T12:45:41.364Z"
   },
   {
    "duration": 3,
    "start_time": "2022-05-23T12:45:46.064Z"
   },
   {
    "duration": 124,
    "start_time": "2022-05-23T12:45:49.104Z"
   },
   {
    "duration": 5,
    "start_time": "2022-05-23T12:45:57.899Z"
   },
   {
    "duration": 6,
    "start_time": "2022-05-23T12:45:59.644Z"
   },
   {
    "duration": 5,
    "start_time": "2022-05-23T12:46:02.332Z"
   },
   {
    "duration": 5,
    "start_time": "2022-05-23T12:46:06.676Z"
   },
   {
    "duration": 7,
    "start_time": "2022-05-23T12:46:11.649Z"
   },
   {
    "duration": 10,
    "start_time": "2022-05-23T12:46:13.475Z"
   },
   {
    "duration": 23,
    "start_time": "2022-05-23T12:46:16.745Z"
   },
   {
    "duration": 25,
    "start_time": "2022-05-23T12:46:22.446Z"
   },
   {
    "duration": 3,
    "start_time": "2022-05-23T12:46:39.995Z"
   },
   {
    "duration": 5,
    "start_time": "2022-05-23T12:46:42.282Z"
   },
   {
    "duration": 5,
    "start_time": "2022-05-23T12:46:44.899Z"
   },
   {
    "duration": 4,
    "start_time": "2022-05-23T12:46:47.992Z"
   },
   {
    "duration": 4,
    "start_time": "2022-05-23T12:46:51.261Z"
   },
   {
    "duration": 10,
    "start_time": "2022-05-23T12:46:53.326Z"
   },
   {
    "duration": 28,
    "start_time": "2022-05-23T12:47:03.422Z"
   },
   {
    "duration": 1114,
    "start_time": "2022-05-23T12:48:07.311Z"
   },
   {
    "duration": 12961,
    "start_time": "2022-05-23T12:48:19.769Z"
   },
   {
    "duration": 3161,
    "start_time": "2022-05-23T12:48:57.964Z"
   },
   {
    "duration": 3258,
    "start_time": "2022-05-23T12:49:18.797Z"
   },
   {
    "duration": 3,
    "start_time": "2022-05-23T12:49:45.330Z"
   },
   {
    "duration": 5,
    "start_time": "2022-05-23T12:49:47.585Z"
   },
   {
    "duration": 5,
    "start_time": "2022-05-23T12:49:49.623Z"
   },
   {
    "duration": 4,
    "start_time": "2022-05-23T12:49:52.681Z"
   },
   {
    "duration": 4,
    "start_time": "2022-05-23T12:49:56.500Z"
   },
   {
    "duration": 114,
    "start_time": "2022-05-23T12:50:02.112Z"
   },
   {
    "duration": 9,
    "start_time": "2022-05-23T12:50:05.787Z"
   },
   {
    "duration": 34,
    "start_time": "2022-05-23T12:50:08.895Z"
   },
   {
    "duration": 3720,
    "start_time": "2022-05-23T12:50:33.452Z"
   },
   {
    "duration": 4678,
    "start_time": "2022-05-23T12:50:54.924Z"
   },
   {
    "duration": 1497,
    "start_time": "2022-05-23T12:52:08.810Z"
   },
   {
    "duration": 52,
    "start_time": "2022-05-23T12:53:09.823Z"
   },
   {
    "duration": 59095,
    "start_time": "2022-05-23T12:53:44.558Z"
   },
   {
    "duration": 21347,
    "start_time": "2022-05-23T12:54:51.780Z"
   },
   {
    "duration": 28198,
    "start_time": "2022-05-23T12:55:33.890Z"
   },
   {
    "duration": 103,
    "start_time": "2022-05-23T12:56:59.291Z"
   },
   {
    "duration": 99,
    "start_time": "2022-05-23T12:57:05.526Z"
   },
   {
    "duration": 3010,
    "start_time": "2022-05-23T12:57:18.936Z"
   },
   {
    "duration": 3,
    "start_time": "2022-05-23T13:02:56.098Z"
   },
   {
    "duration": 7,
    "start_time": "2022-05-23T13:02:57.363Z"
   },
   {
    "duration": 6,
    "start_time": "2022-05-23T13:02:58.718Z"
   },
   {
    "duration": 6,
    "start_time": "2022-05-23T13:03:01.231Z"
   },
   {
    "duration": 6,
    "start_time": "2022-05-23T13:03:18.125Z"
   },
   {
    "duration": 11,
    "start_time": "2022-05-23T13:03:20.633Z"
   },
   {
    "duration": 21,
    "start_time": "2022-05-23T13:03:23.898Z"
   },
   {
    "duration": 3093,
    "start_time": "2022-05-23T13:04:04.366Z"
   },
   {
    "duration": 19,
    "start_time": "2022-05-23T13:04:46.492Z"
   },
   {
    "duration": 3925,
    "start_time": "2022-05-23T13:05:01.966Z"
   },
   {
    "duration": 3047,
    "start_time": "2022-05-23T13:05:11.974Z"
   },
   {
    "duration": 3319,
    "start_time": "2022-05-23T13:05:33.364Z"
   },
   {
    "duration": 26804,
    "start_time": "2022-05-23T13:08:16.328Z"
   },
   {
    "duration": 3,
    "start_time": "2022-05-23T13:09:25.208Z"
   },
   {
    "duration": 4,
    "start_time": "2022-05-23T13:09:26.461Z"
   },
   {
    "duration": 3176,
    "start_time": "2022-05-23T13:09:33.030Z"
   },
   {
    "duration": 26871,
    "start_time": "2022-05-23T13:09:48.125Z"
   },
   {
    "duration": 19050,
    "start_time": "2022-05-23T13:10:33.551Z"
   },
   {
    "duration": 211177,
    "start_time": "2022-05-23T13:11:59.752Z"
   },
   {
    "duration": 75679,
    "start_time": "2022-05-23T13:16:38.783Z"
   },
   {
    "duration": 9196,
    "start_time": "2022-05-23T13:17:58.852Z"
   },
   {
    "duration": 2851,
    "start_time": "2022-05-23T13:19:09.181Z"
   },
   {
    "duration": 11265,
    "start_time": "2022-05-23T13:19:12.034Z"
   },
   {
    "duration": 12,
    "start_time": "2022-05-23T13:25:45.401Z"
   },
   {
    "duration": 21,
    "start_time": "2022-05-23T13:25:48.045Z"
   },
   {
    "duration": 3,
    "start_time": "2022-05-23T13:28:00.966Z"
   },
   {
    "duration": 21,
    "start_time": "2022-05-23T13:28:18.685Z"
   },
   {
    "duration": 30,
    "start_time": "2022-05-23T13:28:47.129Z"
   },
   {
    "duration": 23,
    "start_time": "2022-05-23T13:29:28.317Z"
   },
   {
    "duration": 28,
    "start_time": "2022-05-23T13:30:42.238Z"
   },
   {
    "duration": 3,
    "start_time": "2022-05-23T13:31:04.391Z"
   },
   {
    "duration": 33,
    "start_time": "2022-05-23T13:31:17.847Z"
   },
   {
    "duration": 44,
    "start_time": "2022-05-23T13:31:22.286Z"
   },
   {
    "duration": 7,
    "start_time": "2022-05-23T13:32:02.937Z"
   },
   {
    "duration": 4,
    "start_time": "2022-05-23T13:32:10.762Z"
   },
   {
    "duration": 5,
    "start_time": "2022-05-23T13:32:16.558Z"
   },
   {
    "duration": 1287,
    "start_time": "2022-05-23T13:33:39.493Z"
   },
   {
    "duration": 186,
    "start_time": "2022-05-23T13:33:40.783Z"
   },
   {
    "duration": 12,
    "start_time": "2022-05-23T13:33:40.971Z"
   },
   {
    "duration": 18,
    "start_time": "2022-05-23T13:33:40.985Z"
   },
   {
    "duration": 30,
    "start_time": "2022-05-23T13:33:41.012Z"
   },
   {
    "duration": 791,
    "start_time": "2022-05-23T13:33:41.043Z"
   },
   {
    "duration": 5,
    "start_time": "2022-05-23T13:33:41.835Z"
   },
   {
    "duration": 27,
    "start_time": "2022-05-23T13:33:41.842Z"
   },
   {
    "duration": 26,
    "start_time": "2022-05-23T13:33:41.872Z"
   },
   {
    "duration": 9,
    "start_time": "2022-05-23T13:33:41.901Z"
   },
   {
    "duration": 25,
    "start_time": "2022-05-23T13:33:41.912Z"
   },
   {
    "duration": 9,
    "start_time": "2022-05-23T13:33:41.938Z"
   },
   {
    "duration": 18,
    "start_time": "2022-05-23T13:33:41.949Z"
   },
   {
    "duration": 35,
    "start_time": "2022-05-23T13:33:41.968Z"
   },
   {
    "duration": 3103,
    "start_time": "2022-05-23T13:33:42.005Z"
   },
   {
    "duration": 9485,
    "start_time": "2022-05-23T13:33:45.112Z"
   },
   {
    "duration": 3468,
    "start_time": "2022-05-23T13:33:54.599Z"
   },
   {
    "duration": 3717,
    "start_time": "2022-05-23T13:33:58.070Z"
   },
   {
    "duration": 44,
    "start_time": "2022-05-23T13:34:01.789Z"
   },
   {
    "duration": 218,
    "start_time": "2022-05-23T13:34:01.836Z"
   },
   {
    "duration": 0,
    "start_time": "2022-05-23T13:34:02.055Z"
   },
   {
    "duration": 0,
    "start_time": "2022-05-23T13:34:02.057Z"
   },
   {
    "duration": 0,
    "start_time": "2022-05-23T13:34:02.058Z"
   },
   {
    "duration": 1234,
    "start_time": "2022-05-23T13:34:38.506Z"
   },
   {
    "duration": 100,
    "start_time": "2022-05-23T13:34:39.743Z"
   },
   {
    "duration": 11,
    "start_time": "2022-05-23T13:34:39.845Z"
   },
   {
    "duration": 9,
    "start_time": "2022-05-23T13:34:39.858Z"
   },
   {
    "duration": 24,
    "start_time": "2022-05-23T13:34:39.869Z"
   },
   {
    "duration": 648,
    "start_time": "2022-05-23T13:34:39.894Z"
   },
   {
    "duration": 3,
    "start_time": "2022-05-23T13:34:40.545Z"
   },
   {
    "duration": 6,
    "start_time": "2022-05-23T13:34:40.549Z"
   },
   {
    "duration": 7,
    "start_time": "2022-05-23T13:34:40.556Z"
   },
   {
    "duration": 6,
    "start_time": "2022-05-23T13:34:40.565Z"
   },
   {
    "duration": 6,
    "start_time": "2022-05-23T13:34:40.572Z"
   },
   {
    "duration": 8,
    "start_time": "2022-05-23T13:34:40.580Z"
   },
   {
    "duration": 41,
    "start_time": "2022-05-23T13:34:40.589Z"
   },
   {
    "duration": 30,
    "start_time": "2022-05-23T13:34:40.631Z"
   },
   {
    "duration": 3076,
    "start_time": "2022-05-23T13:34:40.662Z"
   },
   {
    "duration": 9130,
    "start_time": "2022-05-23T13:34:43.740Z"
   },
   {
    "duration": 3327,
    "start_time": "2022-05-23T13:34:52.872Z"
   },
   {
    "duration": 5605,
    "start_time": "2022-05-23T13:34:56.201Z"
   },
   {
    "duration": 19,
    "start_time": "2022-05-23T13:35:01.816Z"
   },
   {
    "duration": 164,
    "start_time": "2022-05-23T13:35:01.836Z"
   },
   {
    "duration": 1,
    "start_time": "2022-05-23T13:35:02.002Z"
   },
   {
    "duration": 0,
    "start_time": "2022-05-23T13:35:02.004Z"
   },
   {
    "duration": 0,
    "start_time": "2022-05-23T13:35:02.006Z"
   },
   {
    "duration": 26,
    "start_time": "2022-05-23T13:35:03.290Z"
   },
   {
    "duration": 26,
    "start_time": "2022-05-23T13:35:42.024Z"
   },
   {
    "duration": 5,
    "start_time": "2022-05-23T13:35:53.340Z"
   },
   {
    "duration": 1368,
    "start_time": "2022-05-23T13:36:34.505Z"
   },
   {
    "duration": 123,
    "start_time": "2022-05-23T13:36:35.876Z"
   },
   {
    "duration": 21,
    "start_time": "2022-05-23T13:36:36.001Z"
   },
   {
    "duration": 35,
    "start_time": "2022-05-23T13:36:36.026Z"
   },
   {
    "duration": 56,
    "start_time": "2022-05-23T13:36:36.063Z"
   },
   {
    "duration": 739,
    "start_time": "2022-05-23T13:36:36.123Z"
   },
   {
    "duration": 5,
    "start_time": "2022-05-23T13:36:36.864Z"
   },
   {
    "duration": 4,
    "start_time": "2022-05-23T13:36:36.871Z"
   },
   {
    "duration": 8,
    "start_time": "2022-05-23T13:36:36.877Z"
   },
   {
    "duration": 36,
    "start_time": "2022-05-23T13:36:36.888Z"
   },
   {
    "duration": 21,
    "start_time": "2022-05-23T13:36:36.927Z"
   },
   {
    "duration": 8,
    "start_time": "2022-05-23T13:36:36.950Z"
   },
   {
    "duration": 11,
    "start_time": "2022-05-23T13:36:36.960Z"
   },
   {
    "duration": 29,
    "start_time": "2022-05-23T13:36:36.973Z"
   },
   {
    "duration": 3142,
    "start_time": "2022-05-23T13:36:37.004Z"
   },
   {
    "duration": 9668,
    "start_time": "2022-05-23T13:36:40.148Z"
   },
   {
    "duration": 2624,
    "start_time": "2022-05-23T13:36:49.817Z"
   },
   {
    "duration": 2151,
    "start_time": "2022-05-23T13:36:52.443Z"
   },
   {
    "duration": 38,
    "start_time": "2022-05-23T13:36:54.596Z"
   },
   {
    "duration": 50,
    "start_time": "2022-05-23T13:36:54.636Z"
   },
   {
    "duration": 33,
    "start_time": "2022-05-23T13:36:54.688Z"
   },
   {
    "duration": 5,
    "start_time": "2022-05-23T13:36:54.727Z"
   },
   {
    "duration": 8,
    "start_time": "2022-05-23T13:36:54.734Z"
   },
   {
    "duration": 20,
    "start_time": "2022-05-23T13:37:58.699Z"
   },
   {
    "duration": 19,
    "start_time": "2022-05-23T13:38:14.582Z"
   },
   {
    "duration": 5,
    "start_time": "2022-05-23T13:38:23.665Z"
   },
   {
    "duration": 5,
    "start_time": "2022-05-23T13:40:06.026Z"
   },
   {
    "duration": 7,
    "start_time": "2022-05-23T13:40:12.206Z"
   },
   {
    "duration": 20,
    "start_time": "2022-05-23T13:41:28.530Z"
   },
   {
    "duration": 5,
    "start_time": "2022-05-23T13:42:37.189Z"
   },
   {
    "duration": 4,
    "start_time": "2022-05-23T13:43:05.558Z"
   },
   {
    "duration": 5,
    "start_time": "2022-05-23T13:43:08.984Z"
   },
   {
    "duration": 5,
    "start_time": "2022-05-23T13:43:13.144Z"
   },
   {
    "duration": 5,
    "start_time": "2022-05-23T13:43:40.021Z"
   },
   {
    "duration": 4,
    "start_time": "2022-05-23T13:43:46.629Z"
   },
   {
    "duration": 4,
    "start_time": "2022-05-23T13:44:21.691Z"
   },
   {
    "duration": 186,
    "start_time": "2022-05-23T13:49:22.402Z"
   },
   {
    "duration": 10,
    "start_time": "2022-05-23T13:50:05.288Z"
   },
   {
    "duration": 4,
    "start_time": "2022-05-23T13:50:36.058Z"
   },
   {
    "duration": 290,
    "start_time": "2022-05-23T13:50:49.722Z"
   },
   {
    "duration": 20,
    "start_time": "2022-05-23T13:50:56.712Z"
   },
   {
    "duration": 51,
    "start_time": "2022-05-23T13:51:00.496Z"
   },
   {
    "duration": 4,
    "start_time": "2022-05-23T13:53:08.337Z"
   },
   {
    "duration": 3,
    "start_time": "2022-05-23T13:54:37.947Z"
   },
   {
    "duration": 2,
    "start_time": "2022-05-23T13:54:42.381Z"
   },
   {
    "duration": 6,
    "start_time": "2022-05-23T13:54:44.650Z"
   },
   {
    "duration": 4,
    "start_time": "2022-05-23T14:19:35.820Z"
   },
   {
    "duration": 5,
    "start_time": "2022-05-23T14:20:12.421Z"
   },
   {
    "duration": 4,
    "start_time": "2022-05-23T14:20:25.012Z"
   },
   {
    "duration": 4,
    "start_time": "2022-05-23T14:20:32.570Z"
   },
   {
    "duration": 3,
    "start_time": "2022-05-23T14:21:38.071Z"
   },
   {
    "duration": 6,
    "start_time": "2022-05-23T14:22:09.855Z"
   },
   {
    "duration": 4,
    "start_time": "2022-05-23T14:22:48.570Z"
   },
   {
    "duration": 6,
    "start_time": "2022-05-23T14:39:35.667Z"
   },
   {
    "duration": 5,
    "start_time": "2022-05-23T14:39:51.893Z"
   },
   {
    "duration": 73,
    "start_time": "2022-05-23T14:39:56.696Z"
   },
   {
    "duration": 64,
    "start_time": "2022-05-23T14:40:04.682Z"
   },
   {
    "duration": 49,
    "start_time": "2022-05-23T14:40:43.751Z"
   },
   {
    "duration": 1198,
    "start_time": "2022-05-23T14:45:12.787Z"
   },
   {
    "duration": 106,
    "start_time": "2022-05-23T14:45:13.988Z"
   },
   {
    "duration": 17,
    "start_time": "2022-05-23T14:45:14.096Z"
   },
   {
    "duration": 33,
    "start_time": "2022-05-23T14:45:14.115Z"
   },
   {
    "duration": 26,
    "start_time": "2022-05-23T14:45:14.150Z"
   },
   {
    "duration": 671,
    "start_time": "2022-05-23T14:45:14.177Z"
   },
   {
    "duration": 4,
    "start_time": "2022-05-23T14:45:14.850Z"
   },
   {
    "duration": 7,
    "start_time": "2022-05-23T14:45:14.855Z"
   },
   {
    "duration": 8,
    "start_time": "2022-05-23T14:45:14.864Z"
   },
   {
    "duration": 9,
    "start_time": "2022-05-23T14:45:14.875Z"
   },
   {
    "duration": 6,
    "start_time": "2022-05-23T14:45:14.886Z"
   },
   {
    "duration": 29,
    "start_time": "2022-05-23T14:45:14.894Z"
   },
   {
    "duration": 29,
    "start_time": "2022-05-23T14:45:14.925Z"
   },
   {
    "duration": 29,
    "start_time": "2022-05-23T14:45:14.956Z"
   },
   {
    "duration": 3014,
    "start_time": "2022-05-23T14:45:14.987Z"
   },
   {
    "duration": 9384,
    "start_time": "2022-05-23T14:45:18.002Z"
   },
   {
    "duration": 4590,
    "start_time": "2022-05-23T14:45:27.387Z"
   },
   {
    "duration": 1838,
    "start_time": "2022-05-23T14:45:31.980Z"
   },
   {
    "duration": 25,
    "start_time": "2022-05-23T14:45:33.819Z"
   },
   {
    "duration": 57,
    "start_time": "2022-05-23T14:45:33.846Z"
   },
   {
    "duration": 3,
    "start_time": "2022-05-23T14:45:33.905Z"
   },
   {
    "duration": 63,
    "start_time": "2022-05-23T14:45:33.914Z"
   },
   {
    "duration": 1356,
    "start_time": "2022-05-23T14:45:55.940Z"
   },
   {
    "duration": 127,
    "start_time": "2022-05-23T14:45:57.300Z"
   },
   {
    "duration": 21,
    "start_time": "2022-05-23T14:45:57.430Z"
   },
   {
    "duration": 19,
    "start_time": "2022-05-23T14:45:57.455Z"
   },
   {
    "duration": 28,
    "start_time": "2022-05-23T14:45:57.477Z"
   },
   {
    "duration": 700,
    "start_time": "2022-05-23T14:45:57.507Z"
   },
   {
    "duration": 7,
    "start_time": "2022-05-23T14:45:58.211Z"
   },
   {
    "duration": 34,
    "start_time": "2022-05-23T14:45:58.220Z"
   },
   {
    "duration": 8,
    "start_time": "2022-05-23T14:45:58.256Z"
   },
   {
    "duration": 11,
    "start_time": "2022-05-23T14:45:58.266Z"
   },
   {
    "duration": 7,
    "start_time": "2022-05-23T14:45:58.278Z"
   },
   {
    "duration": 8,
    "start_time": "2022-05-23T14:45:58.286Z"
   },
   {
    "duration": 15,
    "start_time": "2022-05-23T14:45:58.296Z"
   },
   {
    "duration": 41,
    "start_time": "2022-05-23T14:45:58.319Z"
   },
   {
    "duration": 3266,
    "start_time": "2022-05-23T14:45:58.362Z"
   },
   {
    "duration": 9894,
    "start_time": "2022-05-23T14:46:01.635Z"
   },
   {
    "duration": 3623,
    "start_time": "2022-05-23T14:46:11.531Z"
   },
   {
    "duration": 12750,
    "start_time": "2022-05-23T14:46:15.156Z"
   },
   {
    "duration": 20,
    "start_time": "2022-05-23T14:46:27.908Z"
   },
   {
    "duration": 51,
    "start_time": "2022-05-23T14:46:27.932Z"
   },
   {
    "duration": 3,
    "start_time": "2022-05-23T14:46:27.985Z"
   },
   {
    "duration": 11,
    "start_time": "2022-05-23T14:46:27.989Z"
   }
  ],
  "kernelspec": {
   "display_name": "Python 3 (ipykernel)",
   "language": "python",
   "name": "python3"
  },
  "language_info": {
   "codemirror_mode": {
    "name": "ipython",
    "version": 3
   },
   "file_extension": ".py",
   "mimetype": "text/x-python",
   "name": "python",
   "nbconvert_exporter": "python",
   "pygments_lexer": "ipython3",
   "version": "3.9.5"
  },
  "toc": {
   "base_numbering": 1,
   "nav_menu": {},
   "number_sections": true,
   "sideBar": true,
   "skip_h1_title": true,
   "title_cell": "Table of Contents",
   "title_sidebar": "Contents",
   "toc_cell": false,
   "toc_position": {},
   "toc_section_display": true,
   "toc_window_display": false
  }
 },
 "nbformat": 4,
 "nbformat_minor": 2
}
