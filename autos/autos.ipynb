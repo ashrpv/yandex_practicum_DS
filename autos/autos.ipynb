{
 "cells": [
  {
   "cell_type": "markdown",
   "metadata": {},
   "source": [
    "# Определение стоимости автомобилей"
   ]
  },
  {
   "cell_type": "markdown",
   "metadata": {},
   "source": [
    "Сервис по продаже автомобилей с пробегом «Не бит, не крашен» разрабатывает приложение для привлечения новых клиентов. В нём можно быстро узнать рыночную стоимость своего автомобиля. В вашем распоряжении исторические данные: технические характеристики, комплектации и цены автомобилей. Вам нужно построить модель для определения стоимости. \n",
    "\n",
    "Заказчику важны:\n",
    "\n",
    "- качество предсказания;\n",
    "- скорость предсказания;\n",
    "- время обучения.  \n",
    "\n",
    "Долнительные требования:\n",
    "- обучите разные модели, одна из которых — LightGBM, как минимум одна — не бустинг. Для каждой модели попробуйте разные гиперпараметры.\n",
    "- проанализируйте время обучения, время предсказания и качество моделей.\n",
    "- для оценки качества моделей применяйте метрику RMSE. Значение метрики RMSE должно быть меньше 2500.\n",
    "- выберите лучшую модель, проверьте её качество на тестовой выборке."
   ]
  },
  {
   "cell_type": "markdown",
   "metadata": {},
   "source": [
    "## Подготовка данных"
   ]
  },
  {
   "cell_type": "markdown",
   "metadata": {},
   "source": [
    "### Зарузка данных и библиотек"
   ]
  },
  {
   "cell_type": "code",
   "execution_count": 1,
   "metadata": {},
   "outputs": [],
   "source": [
    "#Загрузка модулей:\n",
    "import pandas as pd\n",
    "from timeit import Timer\n",
    "import numpy as np\n",
    "import matplotlib.pyplot as plt\n",
    "\n",
    "from sklearn.model_selection import train_test_split\n",
    "from sklearn.compose import ColumnTransformer\n",
    "from sklearn.preprocessing import OneHotEncoder, OrdinalEncoder, StandardScaler\n",
    "from sklearn.pipeline import Pipeline\n",
    "from sklearn.metrics import mean_squared_error\n",
    "\n",
    "import lightgbm as lgb\n",
    "from sklearn.linear_model import Lasso\n",
    "from sklearn.ensemble import RandomForestRegressor\n",
    "from catboost import CatBoostRegressor"
   ]
  },
  {
   "cell_type": "code",
   "execution_count": 2,
   "metadata": {},
   "outputs": [],
   "source": [
    "#Загрузка данных\n",
    "try:\n",
    "    data = pd.read_csv('/datasets/autos.csv')\n",
    "except:\n",
    "    data_0 = pd.read_csv(\"https://code.s3.yandex.net/datasets/autos.csv\")"
   ]
  },
  {
   "cell_type": "code",
   "execution_count": 3,
   "metadata": {},
   "outputs": [],
   "source": [
    "#Вывод метрики моделей:\n",
    "def rmse_score(model, features_test, target_test, show=True):\n",
    "    score = mean_squared_error(model.predict(features_test), target_test, squared=False).round(1)\n",
    "    if show:\n",
    "        print(\"Корень из среднеквадратичной ошибки модели: \", score, \"\\n\")\n",
    "    return score"
   ]
  },
  {
   "cell_type": "markdown",
   "metadata": {},
   "source": [
    "### Ознакомление с данными"
   ]
  },
  {
   "cell_type": "markdown",
   "metadata": {},
   "source": [
    "Согласно описанию данные содержат следующую информацию об автомобилях:\n",
    "- DateCrawled — дата скачивания анкеты из базы\n",
    "- VehicleType — тип автомобильного кузова\n",
    "- RegistrationYear — год регистрации автомобиля\n",
    "- Gearbox — тип коробки передач\n",
    "- Power — мощность (л. с.)\n",
    "- Model — модель автомобиля\n",
    "- Kilometer — пробег (км)\n",
    "- RegistrationMonth — месяц регистрации автомобиля\n",
    "- FuelType — тип топлива\n",
    "- Brand — марка автомобиля\n",
    "- NotRepaired — была машина в ремонте или нет\n",
    "- DateCreated — дата создания анкеты\n",
    "- NumberOfPictures — количество фотографий автомобиля\n",
    "- PostalCode — почтовый индекс владельца анкеты (пользователя)\n",
    "- LastSeen — дата последней активности пользователя\n",
    "\n",
    "Целевая переменная - `Price` - стоимость автомобиля (в евро).  \n",
    "Рассмотрим загруженные данные:"
   ]
  },
  {
   "cell_type": "code",
   "execution_count": 4,
   "metadata": {},
   "outputs": [
    {
     "data": {
      "text/html": [
       "<div>\n",
       "<style scoped>\n",
       "    .dataframe tbody tr th:only-of-type {\n",
       "        vertical-align: middle;\n",
       "    }\n",
       "\n",
       "    .dataframe tbody tr th {\n",
       "        vertical-align: top;\n",
       "    }\n",
       "\n",
       "    .dataframe thead th {\n",
       "        text-align: right;\n",
       "    }\n",
       "</style>\n",
       "<table border=\"1\" class=\"dataframe\">\n",
       "  <thead>\n",
       "    <tr style=\"text-align: right;\">\n",
       "      <th></th>\n",
       "      <th>Тип данных</th>\n",
       "      <th>Доля пропусков</th>\n",
       "      <th>Число различных значений</th>\n",
       "    </tr>\n",
       "  </thead>\n",
       "  <tbody>\n",
       "    <tr>\n",
       "      <th>DateCrawled</th>\n",
       "      <td>object</td>\n",
       "      <td>0.0000</td>\n",
       "      <td>271174</td>\n",
       "    </tr>\n",
       "    <tr>\n",
       "      <th>Price</th>\n",
       "      <td>int64</td>\n",
       "      <td>0.0000</td>\n",
       "      <td>3731</td>\n",
       "    </tr>\n",
       "    <tr>\n",
       "      <th>VehicleType</th>\n",
       "      <td>object</td>\n",
       "      <td>0.1058</td>\n",
       "      <td>8</td>\n",
       "    </tr>\n",
       "    <tr>\n",
       "      <th>RegistrationYear</th>\n",
       "      <td>int64</td>\n",
       "      <td>0.0000</td>\n",
       "      <td>151</td>\n",
       "    </tr>\n",
       "    <tr>\n",
       "      <th>Gearbox</th>\n",
       "      <td>object</td>\n",
       "      <td>0.0560</td>\n",
       "      <td>2</td>\n",
       "    </tr>\n",
       "    <tr>\n",
       "      <th>Power</th>\n",
       "      <td>int64</td>\n",
       "      <td>0.0000</td>\n",
       "      <td>712</td>\n",
       "    </tr>\n",
       "    <tr>\n",
       "      <th>Model</th>\n",
       "      <td>object</td>\n",
       "      <td>0.0556</td>\n",
       "      <td>250</td>\n",
       "    </tr>\n",
       "    <tr>\n",
       "      <th>Kilometer</th>\n",
       "      <td>int64</td>\n",
       "      <td>0.0000</td>\n",
       "      <td>13</td>\n",
       "    </tr>\n",
       "    <tr>\n",
       "      <th>RegistrationMonth</th>\n",
       "      <td>int64</td>\n",
       "      <td>0.0000</td>\n",
       "      <td>13</td>\n",
       "    </tr>\n",
       "    <tr>\n",
       "      <th>FuelType</th>\n",
       "      <td>object</td>\n",
       "      <td>0.0928</td>\n",
       "      <td>7</td>\n",
       "    </tr>\n",
       "    <tr>\n",
       "      <th>Brand</th>\n",
       "      <td>object</td>\n",
       "      <td>0.0000</td>\n",
       "      <td>40</td>\n",
       "    </tr>\n",
       "    <tr>\n",
       "      <th>NotRepaired</th>\n",
       "      <td>object</td>\n",
       "      <td>0.2008</td>\n",
       "      <td>2</td>\n",
       "    </tr>\n",
       "    <tr>\n",
       "      <th>DateCreated</th>\n",
       "      <td>object</td>\n",
       "      <td>0.0000</td>\n",
       "      <td>109</td>\n",
       "    </tr>\n",
       "    <tr>\n",
       "      <th>NumberOfPictures</th>\n",
       "      <td>int64</td>\n",
       "      <td>0.0000</td>\n",
       "      <td>1</td>\n",
       "    </tr>\n",
       "    <tr>\n",
       "      <th>PostalCode</th>\n",
       "      <td>int64</td>\n",
       "      <td>0.0000</td>\n",
       "      <td>8143</td>\n",
       "    </tr>\n",
       "    <tr>\n",
       "      <th>LastSeen</th>\n",
       "      <td>object</td>\n",
       "      <td>0.0000</td>\n",
       "      <td>179150</td>\n",
       "    </tr>\n",
       "  </tbody>\n",
       "</table>\n",
       "</div>"
      ],
      "text/plain": [
       "                  Тип данных  Доля пропусков  Число различных значений\n",
       "DateCrawled           object          0.0000                    271174\n",
       "Price                  int64          0.0000                      3731\n",
       "VehicleType           object          0.1058                         8\n",
       "RegistrationYear       int64          0.0000                       151\n",
       "Gearbox               object          0.0560                         2\n",
       "Power                  int64          0.0000                       712\n",
       "Model                 object          0.0556                       250\n",
       "Kilometer              int64          0.0000                        13\n",
       "RegistrationMonth      int64          0.0000                        13\n",
       "FuelType              object          0.0928                         7\n",
       "Brand                 object          0.0000                        40\n",
       "NotRepaired           object          0.2008                         2\n",
       "DateCreated           object          0.0000                       109\n",
       "NumberOfPictures       int64          0.0000                         1\n",
       "PostalCode             int64          0.0000                      8143\n",
       "LastSeen              object          0.0000                    179150"
      ]
     },
     "execution_count": 4,
     "metadata": {},
     "output_type": "execute_result"
    }
   ],
   "source": [
    "#Для более удобного просмотра объединим интересующие параметры в таблицу:\n",
    "pd.DataFrame({'Тип данных': data.dtypes, \n",
    "              'Доля пропусков' : data.isna().mean().round(4),\n",
    "              'Число различных значений' : data.nunique(),\n",
    "             })"
   ]
  },
  {
   "cell_type": "markdown",
   "metadata": {},
   "source": [
    "Тип объектов преимущественно согласуется с описанием заказчика.  \n",
    "Можно сделать следующие выводы:\n",
    "- Пропуски наблюдаются только для переменных категориального типа, такие пропуски можно заполнить заглушками типа 'NA';\n",
    "- Большинство категориальных параметров (кроме `Brand` и `Model`) имеют небольшое число различных значений, следовательно для них может быть использовано one-hot кодирование;\n",
    "- Столбцы дат (`DateCrawled`, `DateCreated`, `LastSeen`) следует преобразовать в соответствующий тип данных;\n",
    "- Данные в столбце `PostalCode` представлены в численном виде, хотя имеют категориальный смысл;\n",
    "- Все данные в столбце `NumberOfPictures` имеют одно значение, следовательно такой столбец должен быть исключен.\n",
    "\n",
    "Рассмотрим подробнее распределения признаков:"
   ]
  },
  {
   "cell_type": "code",
   "execution_count": 5,
   "metadata": {},
   "outputs": [
    {
     "data": {
      "text/html": [
       "<div>\n",
       "<style scoped>\n",
       "    .dataframe tbody tr th:only-of-type {\n",
       "        vertical-align: middle;\n",
       "    }\n",
       "\n",
       "    .dataframe tbody tr th {\n",
       "        vertical-align: top;\n",
       "    }\n",
       "\n",
       "    .dataframe thead th {\n",
       "        text-align: right;\n",
       "    }\n",
       "</style>\n",
       "<table border=\"1\" class=\"dataframe\">\n",
       "  <thead>\n",
       "    <tr style=\"text-align: right;\">\n",
       "      <th></th>\n",
       "      <th>Price</th>\n",
       "      <th>RegistrationYear</th>\n",
       "      <th>Power</th>\n",
       "      <th>Kilometer</th>\n",
       "      <th>RegistrationMonth</th>\n",
       "      <th>NumberOfPictures</th>\n",
       "      <th>PostalCode</th>\n",
       "    </tr>\n",
       "  </thead>\n",
       "  <tbody>\n",
       "    <tr>\n",
       "      <th>count</th>\n",
       "      <td>354369.000000</td>\n",
       "      <td>354369.000000</td>\n",
       "      <td>354369.000000</td>\n",
       "      <td>354369.000000</td>\n",
       "      <td>354369.000000</td>\n",
       "      <td>354369.0</td>\n",
       "      <td>354369.000000</td>\n",
       "    </tr>\n",
       "    <tr>\n",
       "      <th>mean</th>\n",
       "      <td>4416.656776</td>\n",
       "      <td>2004.234448</td>\n",
       "      <td>110.094337</td>\n",
       "      <td>128211.172535</td>\n",
       "      <td>5.714645</td>\n",
       "      <td>0.0</td>\n",
       "      <td>50508.689087</td>\n",
       "    </tr>\n",
       "    <tr>\n",
       "      <th>std</th>\n",
       "      <td>4514.158514</td>\n",
       "      <td>90.227958</td>\n",
       "      <td>189.850405</td>\n",
       "      <td>37905.341530</td>\n",
       "      <td>3.726421</td>\n",
       "      <td>0.0</td>\n",
       "      <td>25783.096248</td>\n",
       "    </tr>\n",
       "    <tr>\n",
       "      <th>min</th>\n",
       "      <td>0.000000</td>\n",
       "      <td>1000.000000</td>\n",
       "      <td>0.000000</td>\n",
       "      <td>5000.000000</td>\n",
       "      <td>0.000000</td>\n",
       "      <td>0.0</td>\n",
       "      <td>1067.000000</td>\n",
       "    </tr>\n",
       "    <tr>\n",
       "      <th>25%</th>\n",
       "      <td>1050.000000</td>\n",
       "      <td>1999.000000</td>\n",
       "      <td>69.000000</td>\n",
       "      <td>125000.000000</td>\n",
       "      <td>3.000000</td>\n",
       "      <td>0.0</td>\n",
       "      <td>30165.000000</td>\n",
       "    </tr>\n",
       "    <tr>\n",
       "      <th>50%</th>\n",
       "      <td>2700.000000</td>\n",
       "      <td>2003.000000</td>\n",
       "      <td>105.000000</td>\n",
       "      <td>150000.000000</td>\n",
       "      <td>6.000000</td>\n",
       "      <td>0.0</td>\n",
       "      <td>49413.000000</td>\n",
       "    </tr>\n",
       "    <tr>\n",
       "      <th>75%</th>\n",
       "      <td>6400.000000</td>\n",
       "      <td>2008.000000</td>\n",
       "      <td>143.000000</td>\n",
       "      <td>150000.000000</td>\n",
       "      <td>9.000000</td>\n",
       "      <td>0.0</td>\n",
       "      <td>71083.000000</td>\n",
       "    </tr>\n",
       "    <tr>\n",
       "      <th>max</th>\n",
       "      <td>20000.000000</td>\n",
       "      <td>9999.000000</td>\n",
       "      <td>20000.000000</td>\n",
       "      <td>150000.000000</td>\n",
       "      <td>12.000000</td>\n",
       "      <td>0.0</td>\n",
       "      <td>99998.000000</td>\n",
       "    </tr>\n",
       "  </tbody>\n",
       "</table>\n",
       "</div>"
      ],
      "text/plain": [
       "               Price  RegistrationYear          Power      Kilometer  \\\n",
       "count  354369.000000     354369.000000  354369.000000  354369.000000   \n",
       "mean     4416.656776       2004.234448     110.094337  128211.172535   \n",
       "std      4514.158514         90.227958     189.850405   37905.341530   \n",
       "min         0.000000       1000.000000       0.000000    5000.000000   \n",
       "25%      1050.000000       1999.000000      69.000000  125000.000000   \n",
       "50%      2700.000000       2003.000000     105.000000  150000.000000   \n",
       "75%      6400.000000       2008.000000     143.000000  150000.000000   \n",
       "max     20000.000000       9999.000000   20000.000000  150000.000000   \n",
       "\n",
       "       RegistrationMonth  NumberOfPictures     PostalCode  \n",
       "count      354369.000000          354369.0  354369.000000  \n",
       "mean            5.714645               0.0   50508.689087  \n",
       "std             3.726421               0.0   25783.096248  \n",
       "min             0.000000               0.0    1067.000000  \n",
       "25%             3.000000               0.0   30165.000000  \n",
       "50%             6.000000               0.0   49413.000000  \n",
       "75%             9.000000               0.0   71083.000000  \n",
       "max            12.000000               0.0   99998.000000  "
      ]
     },
     "execution_count": 5,
     "metadata": {},
     "output_type": "execute_result"
    }
   ],
   "source": [
    "data.describe()"
   ]
  },
  {
   "cell_type": "markdown",
   "metadata": {},
   "source": [
    "Аномальными являются минимальные значения в столбцах `Price`, `Power` и `RegistrationYear`. Максимальные значения в данных столбцах также вызывают подозрения. Рассмотрим гистограммы для этих признаков:"
   ]
  },
  {
   "cell_type": "code",
   "execution_count": 6,
   "metadata": {},
   "outputs": [
    {
     "data": {
      "image/png": "[encoded data removed]",
      "text/plain": [
       "<Figure size 1152x576 with 6 Axes>"
      ]
     },
     "metadata": {
      "needs_background": "light"
     },
     "output_type": "display_data"
    }
   ],
   "source": [
    "#Создание подграфиков:\n",
    "fig, ax = plt.subplots(2, 3, figsize=(16, 8))\n",
    "i = 0\n",
    "for col in ['Price', 'Power', 'RegistrationYear']:\n",
    "    #Подграфики для минимальных значений (до 15%-го квантиля):\n",
    "    data[col].hist(bins=20, range=(data[col].min(), \n",
    "                                   data[col].quantile(0.15)), ax=ax[0, i], label=col)\n",
    "    ax[0, i].legend()\n",
    "    \n",
    "    \n",
    "    #Подграфики для максимальных значений (свыше 85%-го квантиля):\n",
    "    data[col].hist(bins=20, range=(data[col].quantile(0.85), \n",
    "                                   data[col].max()), ax=ax[1, i], label=col)\n",
    "    ax[1, i].legend()\n",
    "    \n",
    "    i += 1"
   ]
  },
  {
   "cell_type": "markdown",
   "metadata": {},
   "source": [
    "Можно сделать следующие выводы:\n",
    "- максимальное значение цены не является аномальным, при этом остальные рассмотренные случаи - являются;\n",
    "- большое число нулевых значений цены и мощности могут быть \"заглушками\" - соответствующие значения не указаны. Исходя из задачи - разработки приложения для быстрой оценки автомобилей и привлечения таким образом новых клиентов следует удалить нулевые значения цены (поскольку нулевая оценка вряд ли привлечет клиента);\n",
    "- аномальные значения в остальных столбцах могут быть ограничены некоторыми разумными минимальными и максимальными значениями (например значениями 0,1 и 99,9 %-ым квантилей)."
   ]
  },
  {
   "cell_type": "markdown",
   "metadata": {},
   "source": [
    "### Предобработка данных"
   ]
  },
  {
   "cell_type": "markdown",
   "metadata": {},
   "source": [
    "#### Обработка сведений о датах"
   ]
  },
  {
   "cell_type": "markdown",
   "metadata": {},
   "source": [
    "Преобразуем данные, содержащие даты, в соответствующий тип и рассмотрим годы, месяцы и недели, соответствующие этим данным:"
   ]
  },
  {
   "cell_type": "code",
   "execution_count": 7,
   "metadata": {},
   "outputs": [
    {
     "name": "stdout",
     "output_type": "stream",
     "text": [
      "DateCrawled\n",
      "Годы: [2016]\n",
      "Месяцы: [3 4]\n",
      "Недели: <IntegerArray>\n",
      "[12, 11, 13, 14, 10, 9]\n",
      "Length: 6, dtype: UInt32 \n",
      "\n",
      "DateCreated\n",
      "Годы: [2016 2015 2014]\n",
      "Месяцы: [ 3  4  2  1 11 12  9  8  6]\n",
      "Недели: <IntegerArray>\n",
      "[12, 11, 13, 14, 10,  6,  9,  7,  8,  4, 45,  1,  5, 49,  3, 47, 53, 36, 46,\n",
      " 52, 48, 32,  2, 33, 51, 37, 25]\n",
      "Length: 27, dtype: UInt32 \n",
      "\n",
      "LastSeen\n",
      "Годы: [2016]\n",
      "Месяцы: [4 3]\n",
      "Недели: <IntegerArray>\n",
      "[14, 11, 12, 13, 10, 9]\n",
      "Length: 6, dtype: UInt32 \n",
      "\n"
     ]
    }
   ],
   "source": [
    "for col in ['DateCrawled', 'DateCreated', 'LastSeen']:\n",
    "    # Преобразование столбцов в формат даты:\n",
    "    data[col] = pd.to_datetime(data[col])\n",
    "    \n",
    "    # Рассмотрим уникальные значения года, месяца и недели в соответствующих столбцах:\n",
    "    print(col)\n",
    "    print('Годы:', data[col].dt.year.unique())\n",
    "    print('Месяцы:', data[col].dt.month.unique())\n",
    "    print('Недели:', data[col].dt.isocalendar().week.unique(), '\\n')"
   ]
  },
  {
   "cell_type": "markdown",
   "metadata": {},
   "source": [
    "Данные в столбцах `DateCrawled` и `LastSeen` обладают малой вариативностью, что вызывает сомнение в информативности таких данных. Кроме того логически такие данные не должны быть связаны со стоимостью размещённого автомобиля.  \n",
    "Рассмотрим разброс объявлений по цене в зависимости от даты размещения:"
   ]
  },
  {
   "cell_type": "code",
   "execution_count": 8,
   "metadata": {
    "scrolled": false
   },
   "outputs": [
    {
     "data": {
      "text/plain": [
       "<AxesSubplot:xlabel='DateCreated', ylabel='Price'>"
      ]
     },
     "execution_count": 8,
     "metadata": {},
     "output_type": "execute_result"
    },
    {
     "data": {
      "image/png": "[encoded data removed]",
      "text/plain": [
       "<Figure size 720x432 with 1 Axes>"
      ]
     },
     "metadata": {
      "needs_background": "light"
     },
     "output_type": "display_data"
    }
   ],
   "source": [
    "data.plot(x='DateCreated', y='Price', kind='scatter', alpha=0.3, figsize=(10, 6))"
   ]
  },
  {
   "cell_type": "markdown",
   "metadata": {},
   "source": [
    "На период до 2016 года приходятся единичные объявления.  \n",
    "Поскольку рабочая модель должна либо предсказывать изменение стоимости автомобилей со временем (что скорее всего невозможно, из-за большого числа непредсказуемых внеших факторов), либо должна регулярно перестраиваться с использованием свежих обучающих данных. Таким образом, ограничиться одним годом при построении модели вполне допустимо. Однако исключать небольшое число более старых записей не обязательно, поскольку они могут содержать информацию о редких автомобилях, то позволит построить какую-то оценку для них.   \n",
    "\n",
    "На стоимость автомобиля потенциально может влиять сезонность, для её учета добавим данные о месяце и неделе размещения объявлений (год неинформативен, поскольку большинство объявлений приходится на 2016-ый):"
   ]
  },
  {
   "cell_type": "code",
   "execution_count": 9,
   "metadata": {},
   "outputs": [],
   "source": [
    "data['DateCreatedMonth'] = data['DateCreated'].dt.month\n",
    "data['DateCreatedWeek'] = data['DateCreated'].dt.isocalendar().week"
   ]
  },
  {
   "cell_type": "markdown",
   "metadata": {},
   "source": [
    "Исходные столбцы с данными могут быть удалены."
   ]
  },
  {
   "cell_type": "markdown",
   "metadata": {},
   "source": [
    "#### Удаление неинформативных столбцов"
   ]
  },
  {
   "cell_type": "markdown",
   "metadata": {},
   "source": [
    "Удалим неинформативный столбец `NumberOfPictures`:"
   ]
  },
  {
   "cell_type": "code",
   "execution_count": 10,
   "metadata": {},
   "outputs": [],
   "source": [
    "data.drop('NumberOfPictures', axis=1, inplace=True)"
   ]
  },
  {
   "cell_type": "markdown",
   "metadata": {},
   "source": [
    "Удалим неинформативные столбцы, связанные с датами:"
   ]
  },
  {
   "cell_type": "code",
   "execution_count": 11,
   "metadata": {},
   "outputs": [],
   "source": [
    "for col in ['DateCrawled', 'DateCreated', 'LastSeen']:\n",
    "    data.drop(col, axis=1, inplace=True)"
   ]
  },
  {
   "cell_type": "markdown",
   "metadata": {},
   "source": [
    "#### Обработка индексов"
   ]
  },
  {
   "cell_type": "markdown",
   "metadata": {},
   "source": [
    "Данные в столбце `PostalCode` по смыслу имеют категориальный тип, однако слишком большое число различных значений (8143) мешает качественному использованию такой переменной (в зависимости от кодирования такой переменной будет либо плохое описание данных, либо слишком долгое обучение модели).  \n",
    "Почтовый индекс в большинстве стран представляет собой десятичный классификатор деления территории на почтовые \"регионы\" и далее вплоть до районных отделений. Поскольку различия стоимости автомобилей от адреса на нижнем уровне (район города, город) маловероятны можно ограничиться первыми 2 - 3 единицами индекса. Добавим соответствующие новые переменные:"
   ]
  },
  {
   "cell_type": "code",
   "execution_count": 12,
   "metadata": {},
   "outputs": [],
   "source": [
    "data['stadt'] = data['PostalCode'] // 100\n",
    "data['subregion'] = data['stadt'] // 10\n",
    "data['region'] = data['subregion'] // 10"
   ]
  },
  {
   "cell_type": "markdown",
   "metadata": {},
   "source": [
    "Преобразуем данные в категориальный тип и удалим исходный столбец с индексами:"
   ]
  },
  {
   "cell_type": "code",
   "execution_count": 13,
   "metadata": {},
   "outputs": [],
   "source": [
    "for col in ['region', 'subregion', 'stadt']:\n",
    "    data[col] = data[col].astype(\"category\")\n",
    "    \n",
    "data.drop('PostalCode', axis=1, inplace=True)"
   ]
  },
  {
   "cell_type": "markdown",
   "metadata": {},
   "source": [
    "#### Обработка пропусков и аномалий"
   ]
  },
  {
   "cell_type": "markdown",
   "metadata": {},
   "source": [
    "Заполним пропуски в категориальных данных заглушкой \"NA\" и преобразуем тип данных в 'categorical':"
   ]
  },
  {
   "cell_type": "code",
   "execution_count": 14,
   "metadata": {},
   "outputs": [],
   "source": [
    "for col in data.columns[data.dtypes == 'object']:\n",
    "    data[col].fillna('NA', inplace=True)\n",
    "    data[col] = data[col].astype('category')"
   ]
  },
  {
   "cell_type": "markdown",
   "metadata": {},
   "source": [
    "Обработка аномалий в столбцах 'Power', 'RegistrationYear':"
   ]
  },
  {
   "cell_type": "code",
   "execution_count": 15,
   "metadata": {},
   "outputs": [],
   "source": [
    "for col in ['Power', 'RegistrationYear']:\n",
    "    data.loc[data[col] < data[col].quantile(0.001), col] = data[col].quantile(0.001)\n",
    "    data.loc[data[col] > data[col].quantile(0.999), col] = data[col].quantile(0.999)"
   ]
  },
  {
   "cell_type": "markdown",
   "metadata": {},
   "source": [
    "Ислючение аномальных значений стоимость автомобилей:"
   ]
  },
  {
   "cell_type": "code",
   "execution_count": 16,
   "metadata": {},
   "outputs": [
    {
     "name": "stdout",
     "output_type": "stream",
     "text": [
      "Удалено  3.04% записей.\n"
     ]
    }
   ],
   "source": [
    "before = data.shape[0]\n",
    "data.drop(data.query('Price == 0').index, inplace = True)\n",
    "after = data.shape[0]\n",
    "print(f\"Удалено {100 - 100 * after / before : 0.2f}% записей.\")"
   ]
  },
  {
   "cell_type": "markdown",
   "metadata": {},
   "source": [
    "Проверим отсутствие пропусков и результат преобразования типов данных:"
   ]
  },
  {
   "cell_type": "code",
   "execution_count": 17,
   "metadata": {
    "scrolled": false
   },
   "outputs": [
    {
     "name": "stdout",
     "output_type": "stream",
     "text": [
      "<class 'pandas.core.frame.DataFrame'>\n",
      "Int64Index: 343597 entries, 0 to 354368\n",
      "Data columns (total 16 columns):\n",
      " #   Column             Non-Null Count   Dtype   \n",
      "---  ------             --------------   -----   \n",
      " 0   Price              343597 non-null  int64   \n",
      " 1   VehicleType        343597 non-null  category\n",
      " 2   RegistrationYear   343597 non-null  float64 \n",
      " 3   Gearbox            343597 non-null  category\n",
      " 4   Power              343597 non-null  float64 \n",
      " 5   Model              343597 non-null  category\n",
      " 6   Kilometer          343597 non-null  int64   \n",
      " 7   RegistrationMonth  343597 non-null  int64   \n",
      " 8   FuelType           343597 non-null  category\n",
      " 9   Brand              343597 non-null  category\n",
      " 10  NotRepaired        343597 non-null  category\n",
      " 11  DateCreatedMonth   343597 non-null  int64   \n",
      " 12  DateCreatedWeek    343597 non-null  UInt32  \n",
      " 13  stadt              343597 non-null  category\n",
      " 14  subregion          343597 non-null  category\n",
      " 15  region             343597 non-null  category\n",
      "dtypes: UInt32(1), category(9), float64(2), int64(4)\n",
      "memory usage: 23.6 MB\n"
     ]
    }
   ],
   "source": [
    "data.info()"
   ]
  },
  {
   "cell_type": "markdown",
   "metadata": {},
   "source": [
    "Пропуски отсутствуют, а типы данных соответствуют желаемым.  \n",
    "Рассмотрим описательные статистики для количественных параметров:"
   ]
  },
  {
   "cell_type": "code",
   "execution_count": 18,
   "metadata": {},
   "outputs": [
    {
     "data": {
      "text/html": [
       "<div>\n",
       "<style scoped>\n",
       "    .dataframe tbody tr th:only-of-type {\n",
       "        vertical-align: middle;\n",
       "    }\n",
       "\n",
       "    .dataframe tbody tr th {\n",
       "        vertical-align: top;\n",
       "    }\n",
       "\n",
       "    .dataframe thead th {\n",
       "        text-align: right;\n",
       "    }\n",
       "</style>\n",
       "<table border=\"1\" class=\"dataframe\">\n",
       "  <thead>\n",
       "    <tr style=\"text-align: right;\">\n",
       "      <th></th>\n",
       "      <th>Price</th>\n",
       "      <th>RegistrationYear</th>\n",
       "      <th>Power</th>\n",
       "      <th>Kilometer</th>\n",
       "      <th>RegistrationMonth</th>\n",
       "      <th>DateCreatedMonth</th>\n",
       "      <th>DateCreatedWeek</th>\n",
       "    </tr>\n",
       "  </thead>\n",
       "  <tbody>\n",
       "    <tr>\n",
       "      <th>count</th>\n",
       "      <td>343597.000000</td>\n",
       "      <td>343597.000000</td>\n",
       "      <td>343597.000000</td>\n",
       "      <td>343597.000000</td>\n",
       "      <td>343597.000000</td>\n",
       "      <td>343597.000000</td>\n",
       "      <td>343597.000000</td>\n",
       "    </tr>\n",
       "    <tr>\n",
       "      <th>mean</th>\n",
       "      <td>4555.121974</td>\n",
       "      <td>2003.188407</td>\n",
       "      <td>108.089422</td>\n",
       "      <td>128337.616452</td>\n",
       "      <td>5.777891</td>\n",
       "      <td>3.160220</td>\n",
       "      <td>11.562575</td>\n",
       "    </tr>\n",
       "    <tr>\n",
       "      <th>std</th>\n",
       "      <td>4515.058553</td>\n",
       "      <td>7.284475</td>\n",
       "      <td>65.694238</td>\n",
       "      <td>37521.047429</td>\n",
       "      <td>3.698186</td>\n",
       "      <td>0.376543</td>\n",
       "      <td>1.373342</td>\n",
       "    </tr>\n",
       "    <tr>\n",
       "      <th>min</th>\n",
       "      <td>1.000000</td>\n",
       "      <td>1957.000000</td>\n",
       "      <td>0.000000</td>\n",
       "      <td>5000.000000</td>\n",
       "      <td>0.000000</td>\n",
       "      <td>1.000000</td>\n",
       "      <td>1.000000</td>\n",
       "    </tr>\n",
       "    <tr>\n",
       "      <th>25%</th>\n",
       "      <td>1200.000000</td>\n",
       "      <td>1999.000000</td>\n",
       "      <td>69.000000</td>\n",
       "      <td>125000.000000</td>\n",
       "      <td>3.000000</td>\n",
       "      <td>3.000000</td>\n",
       "      <td>10.000000</td>\n",
       "    </tr>\n",
       "    <tr>\n",
       "      <th>50%</th>\n",
       "      <td>2890.000000</td>\n",
       "      <td>2003.000000</td>\n",
       "      <td>105.000000</td>\n",
       "      <td>150000.000000</td>\n",
       "      <td>6.000000</td>\n",
       "      <td>3.000000</td>\n",
       "      <td>12.000000</td>\n",
       "    </tr>\n",
       "    <tr>\n",
       "      <th>75%</th>\n",
       "      <td>6500.000000</td>\n",
       "      <td>2008.000000</td>\n",
       "      <td>143.000000</td>\n",
       "      <td>150000.000000</td>\n",
       "      <td>9.000000</td>\n",
       "      <td>3.000000</td>\n",
       "      <td>13.000000</td>\n",
       "    </tr>\n",
       "    <tr>\n",
       "      <th>max</th>\n",
       "      <td>20000.000000</td>\n",
       "      <td>2018.000000</td>\n",
       "      <td>700.000000</td>\n",
       "      <td>150000.000000</td>\n",
       "      <td>12.000000</td>\n",
       "      <td>12.000000</td>\n",
       "      <td>53.000000</td>\n",
       "    </tr>\n",
       "  </tbody>\n",
       "</table>\n",
       "</div>"
      ],
      "text/plain": [
       "               Price  RegistrationYear          Power      Kilometer  \\\n",
       "count  343597.000000     343597.000000  343597.000000  343597.000000   \n",
       "mean     4555.121974       2003.188407     108.089422  128337.616452   \n",
       "std      4515.058553          7.284475      65.694238   37521.047429   \n",
       "min         1.000000       1957.000000       0.000000    5000.000000   \n",
       "25%      1200.000000       1999.000000      69.000000  125000.000000   \n",
       "50%      2890.000000       2003.000000     105.000000  150000.000000   \n",
       "75%      6500.000000       2008.000000     143.000000  150000.000000   \n",
       "max     20000.000000       2018.000000     700.000000  150000.000000   \n",
       "\n",
       "       RegistrationMonth  DateCreatedMonth  DateCreatedWeek  \n",
       "count      343597.000000     343597.000000    343597.000000  \n",
       "mean            5.777891          3.160220        11.562575  \n",
       "std             3.698186          0.376543         1.373342  \n",
       "min             0.000000          1.000000         1.000000  \n",
       "25%             3.000000          3.000000        10.000000  \n",
       "50%             6.000000          3.000000        12.000000  \n",
       "75%             9.000000          3.000000        13.000000  \n",
       "max            12.000000         12.000000        53.000000  "
      ]
     },
     "execution_count": 18,
     "metadata": {},
     "output_type": "execute_result"
    }
   ],
   "source": [
    "data.describe()"
   ]
  },
  {
   "cell_type": "markdown",
   "metadata": {},
   "source": [
    "Минимальные и максимальные значения соответствуют ожидаемым."
   ]
  },
  {
   "cell_type": "markdown",
   "metadata": {},
   "source": [
    "### Подготовка данных для обучения моделей"
   ]
  },
  {
   "cell_type": "markdown",
   "metadata": {},
   "source": [
    "Разделим данные на обучающую, валидационную и тестовую выборки:"
   ]
  },
  {
   "cell_type": "code",
   "execution_count": 19,
   "metadata": {},
   "outputs": [],
   "source": [
    "#Отделение тестовой выборки:\n",
    "(features_train_val, features_test,\n",
    " target_train_val, target_test) = train_test_split(data[data.columns.drop('Price')],\n",
    "                                                   data['Price'],\n",
    "                                                   test_size = 0.25,\n",
    "                                                   random_state = 123)\n",
    "#Разделение обучающей и валидационной выборок:\n",
    "(features_train, features_val,\n",
    " target_train, target_val) = train_test_split(features_train_val,\n",
    "                                              target_train_val,\n",
    "                                              test_size = 0.25,\n",
    "                                              random_state = 123)"
   ]
  },
  {
   "cell_type": "markdown",
   "metadata": {},
   "source": [
    "Не все модели имеют встроенную поддержку категориальных признаков, поэтому самостоятельно закодируем такие признаки.  Сначала выделим имена категориальных и количественных признаков:"
   ]
  },
  {
   "cell_type": "code",
   "execution_count": 20,
   "metadata": {},
   "outputs": [],
   "source": [
    "cat_features = data.columns[data.dtypes=='category']\n",
    "num_features = data.columns[data.dtypes!='category'].drop('Price')"
   ]
  },
  {
   "cell_type": "markdown",
   "metadata": {},
   "source": [
    "Для большинства категориальных признаков в данной таблице лучшим выбором будет one-hot кодирование, однако для признаков, имеющих большое число вариантов лучше применить кодирование целыми числами или порядковое кодирование. Для моделей разных типов приоритетность выбора того или иного способа кодирования будет различна, для удобства напишем функцию возвращающую имена категориальных переменных с числом разных значений выше/ниже заданного:"
   ]
  },
  {
   "cell_type": "code",
   "execution_count": 21,
   "metadata": {},
   "outputs": [
    {
     "name": "stdout",
     "output_type": "stream",
     "text": [
      "Index(['VehicleType', 'Gearbox', 'FuelType', 'Brand', 'NotRepaired',\n",
      "       'subregion', 'region'],\n",
      "      dtype='object')\n",
      "Index(['Model', 'stadt'], dtype='object')\n"
     ]
    }
   ],
   "source": [
    "# Категориальные признаки, имеющие много разных значений:\n",
    "def cat_features_high_card(n, data=data):\n",
    "    return data.columns[(data.nunique() > n) &  (data.dtypes == 'category')]\n",
    "\n",
    "# Категориальные признаки, имеющие мало разных значений:\n",
    "def cat_features_low_card(n, data=data):\n",
    "    return data.columns[(data.nunique() <= n) &  (data.dtypes == 'category')]\n",
    "\n",
    "print(cat_features_low_card(100))\n",
    "print(cat_features_high_card(100))"
   ]
  },
  {
   "cell_type": "markdown",
   "metadata": {},
   "source": [
    "Для лучшей работы некоторых моделей (например линейных с регуляризацией) может потребоваться стандартизация количественных признаков. Во избежание ошибок объединим все преобразования в одну структуру:"
   ]
  },
  {
   "cell_type": "code",
   "execution_count": 22,
   "metadata": {},
   "outputs": [],
   "source": [
    "def transformer(n):\n",
    "    transformer = ColumnTransformer([\n",
    "        ('ohe', OneHotEncoder(handle_unknown='ignore'), cat_features_low_card(n)),\n",
    "        ('label', OrdinalEncoder(handle_unknown='ignore'), cat_features_high_card(n)),\n",
    "        ('scaler', StandardScaler(), num_features)\n",
    "    ])\n",
    "    return transformer"
   ]
  },
  {
   "cell_type": "markdown",
   "metadata": {},
   "source": [
    "### Выводы\n",
    "\n",
    "1. Представленные данные содержат небольшое количество пропусков и аномалий. \n",
    "2. Проведена подготовка данных - исключение аномалий, заполнение пропусков, удаление неинформативных параметров.\n",
    "3. Исходя из заявленной задачи - предсказание цены автомобиля по описанию пользователя, исключены записи, в которых указана нулевая цена. Следует уточнить у заказчика, не подразумевалось ли иных целей разработки моделей (например предсказания какую цену *установил бы пользователь* в своем объявлении.\n",
    "4. Требуется оценить скорость изменения цены автомобилей и необходимую периодичность обновления модели."
   ]
  },
  {
   "cell_type": "markdown",
   "metadata": {},
   "source": [
    "## Обучение моделей"
   ]
  },
  {
   "cell_type": "markdown",
   "metadata": {},
   "source": [
    "Сравним модели различных типов:\n",
    "- линейную модель с регуляризацией;\n",
    "- случайный лес;\n",
    "- две современные реализации градиентного бустинга."
   ]
  },
  {
   "cell_type": "markdown",
   "metadata": {},
   "source": [
    "### Линейная модель"
   ]
  },
  {
   "cell_type": "markdown",
   "metadata": {},
   "source": [
    "Поскольку линейная модель не способна описывать сложные закономерности, лучшим  будет one-hot кодирование категориальных переменных. Кроме того, в случае линейной модели это не приведет к недопустимому увеличению продолжительности обучения. Будем использовать one-hot кодирования для переменых с менее чем 300 разными значениями. Для отсева неинформативных признаков воспользуемся линейной моделью с регуляризацией: "
   ]
  },
  {
   "cell_type": "code",
   "execution_count": 23,
   "metadata": {},
   "outputs": [
    {
     "name": "stdout",
     "output_type": "stream",
     "text": [
      "Модель обучена\n",
      "CPU times: user 20.7 s, sys: 200 ms, total: 20.9 s\n",
      "Wall time: 20.9 s\n"
     ]
    }
   ],
   "source": [
    "%%time\n",
    "model_l = Pipeline([('transform', transformer(300)), ('lasso', Lasso())])\n",
    "model_l.fit(features_train, target_train)\n",
    "print(\"Модель обучена\")"
   ]
  },
  {
   "cell_type": "code",
   "execution_count": 24,
   "metadata": {},
   "outputs": [
    {
     "name": "stdout",
     "output_type": "stream",
     "text": [
      "Корень из среднеквадратичной ошибки модели:  2754.3 \n",
      "\n",
      "CPU times: user 161 ms, sys: 31.6 ms, total: 192 ms\n",
      "Wall time: 249 ms\n"
     ]
    },
    {
     "data": {
      "text/plain": [
       "2754.3"
      ]
     },
     "execution_count": 24,
     "metadata": {},
     "output_type": "execute_result"
    }
   ],
   "source": [
    "%time rmse_score(model_l, features_val, target_val)"
   ]
  },
  {
   "cell_type": "markdown",
   "metadata": {
    "scrolled": true
   },
   "source": [
    "Качество модели не удовлетворяет минимальному порогу, установленному заказчиком. Ошибка модели превышает требуемую на 10%, вероятно подбором преобразований признаков и целевой переменной (или использованием подходящего ядра в SVM) можно добить приемлемой точности. Из важных плюсов модели следует отметить быстроту обучения и предсказания (21 и 0,17 с соответственно).  \n",
    "В случае высоконагруженных приложений использование подобной модели может быть актуально.  "
   ]
  },
  {
   "cell_type": "markdown",
   "metadata": {},
   "source": [
    "### Случайный лес"
   ]
  },
  {
   "cell_type": "markdown",
   "metadata": {},
   "source": [
    "Модель случайного леса способна хорошо описывать ступенчатые (кусочно-постоянные) зависимости, поэтому в отличии от линейной модели должна хорошо справляться с качественными переменными закодированными прозвольными числами. Учитывая значительно большую продолжительность обучения такой модели целесообразно использовать one-hot кодирование только для переменных с малым числом значений. Критическое число значений переменной (для выбора кодирования) можно рассматривать как гиперпараметр модели, его увеличение будет приводить к улучшению качества предсказаний и увеличению времени обучения/предсказания модели.  \n",
    "Ограничимся переменными с числом значений до 5:"
   ]
  },
  {
   "cell_type": "code",
   "execution_count": 25,
   "metadata": {
    "scrolled": true
   },
   "outputs": [
    {
     "name": "stdout",
     "output_type": "stream",
     "text": [
      "Модель обучена\n",
      "CPU times: user 2min 6s, sys: 1.08 s, total: 2min 7s\n",
      "Wall time: 2min 8s\n"
     ]
    }
   ],
   "source": [
    "%%time\n",
    "model_rf = Pipeline([('transform', transformer(5)), ('forest', RandomForestRegressor(n_jobs=-1, random_state=123))])\n",
    "model_rf.fit(features_train, target_train)\n",
    "print(\"Модель обучена\")"
   ]
  },
  {
   "cell_type": "code",
   "execution_count": 26,
   "metadata": {},
   "outputs": [
    {
     "name": "stdout",
     "output_type": "stream",
     "text": [
      "Корень из среднеквадратичной ошибки модели:  1659.8 \n",
      "\n",
      "CPU times: user 3.89 s, sys: 16 ms, total: 3.91 s\n",
      "Wall time: 3.92 s\n"
     ]
    },
    {
     "data": {
      "text/plain": [
       "1659.8"
      ]
     },
     "execution_count": 26,
     "metadata": {},
     "output_type": "execute_result"
    }
   ],
   "source": [
    "%time rmse_score(model_rf, features_val, target_val)"
   ]
  },
  {
   "cell_type": "markdown",
   "metadata": {},
   "source": [
    "Качество модели удовлетворяет требованиям заказчика, однако время обучения и предсказания модели приблизительно на порядок превышает аналогичные параметры линейной модели. Некоторое сомнение вызывает продолжительность предсказания модели. Сократим число деревьем в лесу для ускорения работы модели:"
   ]
  },
  {
   "cell_type": "code",
   "execution_count": 27,
   "metadata": {},
   "outputs": [
    {
     "name": "stdout",
     "output_type": "stream",
     "text": [
      "Модель обучена\n",
      "CPU times: user 25.5 s, sys: 276 ms, total: 25.8 s\n",
      "Wall time: 25.8 s\n"
     ]
    }
   ],
   "source": [
    "%%time\n",
    "model_rf_light = Pipeline([('transform', transformer(5)), \n",
    "                           ('forest', RandomForestRegressor(n_estimators=20, n_jobs=-1, random_state=123))])\n",
    "model_rf_light.fit(features_train, target_train)\n",
    "print(\"Модель обучена\")"
   ]
  },
  {
   "cell_type": "code",
   "execution_count": 28,
   "metadata": {
    "scrolled": false
   },
   "outputs": [
    {
     "name": "stdout",
     "output_type": "stream",
     "text": [
      "Корень из среднеквадратичной ошибки модели:  1695.6 \n",
      "\n",
      "CPU times: user 847 ms, sys: 3.92 ms, total: 851 ms\n",
      "Wall time: 856 ms\n"
     ]
    },
    {
     "data": {
      "text/plain": [
       "1695.6"
      ]
     },
     "execution_count": 28,
     "metadata": {},
     "output_type": "execute_result"
    }
   ],
   "source": [
    "%time rmse_score(model_rf_light, features_val, target_val)"
   ]
  },
  {
   "cell_type": "markdown",
   "metadata": {},
   "source": [
    "Длительность обучения практически сравнялась с длительностью обучения линейной модели. Качество предсказаний при этом значительно лучше чем у линейной модели (но ожидаемо хуже чем у первой рассмотренной модели случайного леса).\n",
    "Длительность предсказания снизилась аналогично (примерно в 5 раз), однако по прежнему сильно уступает скорости линейной модели.  \n",
    "Возможна дальнейшая оптимизация модели с точки зрения точности/длительности операций, однако для однозначного выбора лучшей модели следует уточнить у заказчика критерии оптимальности."
   ]
  },
  {
   "cell_type": "markdown",
   "metadata": {},
   "source": [
    "### Градиентный бустинг"
   ]
  },
  {
   "cell_type": "markdown",
   "metadata": {},
   "source": [
    "Сравним две реализации градиентного бустинга - CatBoost и LightGBM."
   ]
  },
  {
   "cell_type": "markdown",
   "metadata": {},
   "source": [
    "#### CatBoost"
   ]
  },
  {
   "cell_type": "markdown",
   "metadata": {},
   "source": [
    "CatBoost имеет небольшие проблемы с использованием целочисленных количественных признаков, поэтому предварительно преобразуем тип количественных данных:"
   ]
  },
  {
   "cell_type": "code",
   "execution_count": 29,
   "metadata": {},
   "outputs": [
    {
     "name": "stderr",
     "output_type": "stream",
     "text": [
      "/opt/conda/lib/python3.9/site-packages/pandas/core/indexing.py:1787: SettingWithCopyWarning: \n",
      "A value is trying to be set on a copy of a slice from a DataFrame.\n",
      "Try using .loc[row_indexer,col_indexer] = value instead\n",
      "\n",
      "See the caveats in the documentation: https://pandas.pydata.org/pandas-docs/stable/user_guide/indexing.html#returning-a-view-versus-a-copy\n",
      "  self._setitem_single_column(loc, val, pi)\n"
     ]
    }
   ],
   "source": [
    "for features in [features_train, features_val, features_test]:\n",
    "    features.loc[:, num_features] = features[num_features].astype('float64')"
   ]
  },
  {
   "cell_type": "markdown",
   "metadata": {},
   "source": [
    "По умолчаниию CatBoostRegressor использует необходимую метрику. Максимальное число значений категориальной переменной, выше которого не используется one-hot кодирование по умолчанию равно 2, это может немного снизить точность предсказаний модели. Для лучшей сопоставимости с предыдущей моделью зададим значение гиперпараметра `one_hot_max_size` равным 5.  \n",
    "Прочие гиперпараметры имеют удачное значение и для начала могут быть оставлены без изменений."
   ]
  },
  {
   "cell_type": "code",
   "execution_count": 30,
   "metadata": {
    "scrolled": false
   },
   "outputs": [
    {
     "name": "stdout",
     "output_type": "stream",
     "text": [
      "Learning rate set to 0.116366\n",
      "0:\tlearn: 4179.8723040\ttest: 4150.4227603\tbest: 4150.4227603 (0)\ttotal: 487ms\tremaining: 8m 6s\n",
      "100:\tlearn: 1792.3784017\ttest: 1779.5409533\tbest: 1779.5409533 (100)\ttotal: 30.7s\tremaining: 4m 32s\n",
      "200:\tlearn: 1708.6029166\ttest: 1714.3810940\tbest: 1714.3810940 (200)\ttotal: 1m\tremaining: 4m 1s\n",
      "300:\tlearn: 1670.9635741\ttest: 1687.5001056\tbest: 1687.5001056 (300)\ttotal: 1m 29s\tremaining: 3m 27s\n",
      "400:\tlearn: 1642.9242118\ttest: 1671.7605080\tbest: 1671.7605080 (400)\ttotal: 1m 58s\tremaining: 2m 57s\n",
      "500:\tlearn: 1622.8344010\ttest: 1660.9033922\tbest: 1660.9033922 (500)\ttotal: 2m 27s\tremaining: 2m 26s\n",
      "600:\tlearn: 1605.7304931\ttest: 1653.5425701\tbest: 1653.5425701 (600)\ttotal: 2m 55s\tremaining: 1m 56s\n",
      "700:\tlearn: 1588.4794715\ttest: 1645.4615568\tbest: 1645.4611417 (698)\ttotal: 3m 23s\tremaining: 1m 26s\n",
      "800:\tlearn: 1575.5312021\ttest: 1639.8442292\tbest: 1639.8442292 (800)\ttotal: 3m 51s\tremaining: 57.6s\n",
      "900:\tlearn: 1563.6876682\ttest: 1635.5609491\tbest: 1635.5609491 (900)\ttotal: 4m 21s\tremaining: 28.7s\n",
      "999:\tlearn: 1551.7756252\ttest: 1630.8066026\tbest: 1630.7871686 (997)\ttotal: 4m 49s\tremaining: 0us\n",
      "\n",
      "bestTest = 1630.787169\n",
      "bestIteration = 997\n",
      "\n",
      "Shrink model to first 998 iterations.\n",
      "Модель обучена\n"
     ]
    }
   ],
   "source": [
    "model_cat = CatBoostRegressor(one_hot_max_size=5,\n",
    "                              verbose = 100, \n",
    "                              random_state=123\n",
    "                             )\n",
    "\n",
    "model_cat.fit(X=features_train, \n",
    "              y=target_train, \n",
    "              cat_features=list(cat_features), \n",
    "              eval_set=(features_val, target_val), \n",
    "              early_stopping_rounds=10)\n",
    "\n",
    "print(\"Модель обучена\")"
   ]
  },
  {
   "cell_type": "code",
   "execution_count": 31,
   "metadata": {
    "scrolled": true
   },
   "outputs": [
    {
     "name": "stdout",
     "output_type": "stream",
     "text": [
      "Корень из среднеквадратичной ошибки модели:  1630.8 \n",
      "\n",
      "CPU times: user 1.04 s, sys: 3.98 ms, total: 1.05 s\n",
      "Wall time: 1.04 s\n"
     ]
    },
    {
     "data": {
      "text/plain": [
       "1630.8"
      ]
     },
     "execution_count": 31,
     "metadata": {},
     "output_type": "execute_result"
    }
   ],
   "source": [
    "%time rmse_score(model_cat, features_val, target_val)"
   ]
  },
  {
   "cell_type": "markdown",
   "metadata": {},
   "source": [
    "Длительность обучения почти в два раза выше длительности обучения модели случайного леса (со 100 деревьями). \n",
    "Точность предсказаний модели несколько выше чем у модели случайного леса с большим количеством деревьев (100), а длительность предсказывания - сопоставима с длительностью работы модели малой модели случайного леса (20 деревьев).  \n",
    "Окончательное решение должно быть обсуждено с заказчиком, однако можно предположить что обучение моделей происходит гораздо реже их использования, поэтому продолжительность обучения менее принципиально чем их производительность. Следовательно модель CatBoostRegressor превосходит модель случайного леса в условиях данного проекта."
   ]
  },
  {
   "cell_type": "markdown",
   "metadata": {},
   "source": [
    "Подбором гиперпараметров соотношение производительность/качество может быть дополнительно оптимизирована."
   ]
  },
  {
   "cell_type": "markdown",
   "metadata": {},
   "source": [
    "#### LightGBM"
   ]
  },
  {
   "cell_type": "markdown",
   "metadata": {},
   "source": [
    "Рассматриваемые реализации градиентного бустинга крайне близки. Ограничим число итераций 900-ми, как в предыдущем случае. LightGBM позволяет при помощи гиперпараметра `zero_as_missing` указать что нули являются пропусками (в нашем случае это преимущественно так).  \n",
    "Для остальных гиперпараметров оставим значения по умолчанию:"
   ]
  },
  {
   "cell_type": "code",
   "execution_count": 32,
   "metadata": {
    "scrolled": false
   },
   "outputs": [
    {
     "name": "stderr",
     "output_type": "stream",
     "text": [
      "/opt/conda/lib/python3.9/site-packages/lightgbm/basic.py:1780: UserWarning: Overriding the parameters from Reference Dataset.\n",
      "  _log_warning('Overriding the parameters from Reference Dataset.')\n",
      "/opt/conda/lib/python3.9/site-packages/lightgbm/basic.py:1513: UserWarning: categorical_column in param dict is overridden.\n",
      "  _log_warning(f'{cat_alias} in param dict is overridden.')\n"
     ]
    },
    {
     "name": "stdout",
     "output_type": "stream",
     "text": [
      "Training until validation scores don't improve for 100 rounds\n",
      "[50]\tvalid_0's l2: 2.98109e+06\n",
      "[100]\tvalid_0's l2: 2.8255e+06\n",
      "[150]\tvalid_0's l2: 2.77312e+06\n",
      "[200]\tvalid_0's l2: 2.7472e+06\n",
      "[250]\tvalid_0's l2: 2.72931e+06\n",
      "[300]\tvalid_0's l2: 2.71623e+06\n",
      "[350]\tvalid_0's l2: 2.70812e+06\n",
      "[400]\tvalid_0's l2: 2.70256e+06\n",
      "[450]\tvalid_0's l2: 2.69672e+06\n",
      "[500]\tvalid_0's l2: 2.69346e+06\n",
      "[550]\tvalid_0's l2: 2.69273e+06\n",
      "[600]\tvalid_0's l2: 2.69045e+06\n",
      "[650]\tvalid_0's l2: 2.69165e+06\n",
      "[700]\tvalid_0's l2: 2.6898e+06\n",
      "[750]\tvalid_0's l2: 2.69139e+06\n",
      "Early stopping, best iteration is:\n",
      "[691]\tvalid_0's l2: 2.68954e+06\n",
      "Модель обучена\n",
      "CPU times: user 56.3 s, sys: 216 ms, total: 56.5 s\n",
      "Wall time: 57.1 s\n"
     ]
    }
   ],
   "source": [
    "%%time\n",
    "model_lgb = lgb.LGBMRegressor(n_estimators=900,\n",
    "                              zero_as_missing=True,\n",
    "                              random_state=123)\n",
    "\n",
    "model_lgb.fit(features_train, target_train,\n",
    "              eval_set=(features_val, target_val),\n",
    "              callbacks=[\n",
    "                  lgb.early_stopping(100),\n",
    "                  lgb.log_evaluation(50)\n",
    "              ]\n",
    ")\n",
    "print(\"Модель обучена\")"
   ]
  },
  {
   "cell_type": "code",
   "execution_count": 33,
   "metadata": {},
   "outputs": [
    {
     "name": "stdout",
     "output_type": "stream",
     "text": [
      "Корень из среднеквадратичной ошибки модели:  1640.0 \n",
      "\n",
      "CPU times: user 5.44 s, sys: 0 ns, total: 5.44 s\n",
      "Wall time: 5.49 s\n"
     ]
    },
    {
     "data": {
      "text/plain": [
       "1640.0"
      ]
     },
     "execution_count": 33,
     "metadata": {},
     "output_type": "execute_result"
    }
   ],
   "source": [
    "%time rmse_score(model_lgb, features_val, target_val)"
   ]
  },
  {
   "cell_type": "markdown",
   "metadata": {},
   "source": [
    "Время обучения модели значительно меньше, чем у CatBoostRegressor, при этом точность предсказания несколько хуже.  \n",
    "Проблемой для предполагаемого использования представляется большая длительность предсказания - время предсказания превосходит даже показатель базовой модели случайного леса (100 деревьев)."
   ]
  },
  {
   "cell_type": "markdown",
   "metadata": {},
   "source": [
    "### Выводы\n",
    "1. Все рассмотренные модели кроме линейной преодолели требуемый порог точности предсказаний.\n",
    "2. Лучшая точность достигнута при использовании градиентного бустинга (обе библиотеки дали приблизительно одинаковый результат).\n",
    "3. Наибольшая скорость обучения при приемлемой (или близкой к лучшей) точности предсказаний достигается при помощи случайного леса малого размера и градиентного бустинга в реализации LightGBM.\n",
    "4. Наибольшая скорость предсказания достигается при использовании небольшого случайного леса и бустинга в реализации CatBoost.\n",
    "\n",
    "Таким образом, однозначно выделить лучшую модель нельзя. Требуется согласовать с заказчиком требуемые параметры периодичности обновления/производительности/точности модели.  \n",
    "Исходя из планируемых целей использования (оценка стоимости авто по запросу продавца), можно предположить относительно невысокую нагрузку на систему, соответственно на первый план выходит точность модели. В таком случае оптимальной будут модели на основе градиентного бустинга (обе модели имеют в данном случае имеют практически одинаковую точность)."
   ]
  },
  {
   "cell_type": "markdown",
   "metadata": {},
   "source": [
    "## Анализ моделей"
   ]
  },
  {
   "cell_type": "markdown",
   "metadata": {},
   "source": [
    "Сравним ещё раз скорость и точность предсказывания рассмотренных моделей:"
   ]
  },
  {
   "cell_type": "code",
   "execution_count": 34,
   "metadata": {},
   "outputs": [],
   "source": [
    "# Временные массивы для хранения времени выполнения и точности предсказаний:\n",
    "times = []\n",
    "rmse = []\n",
    "\n",
    "# Расчет точности и времени выполнения для каждой модели:\n",
    "for model in [model_l, model_rf, model_rf_light, model_cat, model_lgb]:\n",
    "    \n",
    "    #Время выполнения расчитывается как среднее по 10 запускам\n",
    "    times.append(Timer(\"model.predict(features_val)\", globals=globals()).timeit(10)/10)\n",
    "    \n",
    "    #Точность предсказаний рассчитывается обычным образом:\n",
    "    rmse.append(rmse_score(model, features_val, target_val, show=False) )"
   ]
  },
  {
   "cell_type": "code",
   "execution_count": 35,
   "metadata": {},
   "outputs": [
    {
     "data": {
      "text/html": [
       "<div>\n",
       "<style scoped>\n",
       "    .dataframe tbody tr th:only-of-type {\n",
       "        vertical-align: middle;\n",
       "    }\n",
       "\n",
       "    .dataframe tbody tr th {\n",
       "        vertical-align: top;\n",
       "    }\n",
       "\n",
       "    .dataframe thead th {\n",
       "        text-align: right;\n",
       "    }\n",
       "</style>\n",
       "<table border=\"1\" class=\"dataframe\">\n",
       "  <thead>\n",
       "    <tr style=\"text-align: right;\">\n",
       "      <th></th>\n",
       "      <th>Модель</th>\n",
       "      <th>Ошибка</th>\n",
       "      <th>Время предсказания, с</th>\n",
       "      <th>Время обучения, с</th>\n",
       "    </tr>\n",
       "  </thead>\n",
       "  <tbody>\n",
       "    <tr>\n",
       "      <th>3</th>\n",
       "      <td>CatBoost</td>\n",
       "      <td>1630.8</td>\n",
       "      <td>1.032</td>\n",
       "      <td>289</td>\n",
       "    </tr>\n",
       "    <tr>\n",
       "      <th>4</th>\n",
       "      <td>LightGBM</td>\n",
       "      <td>1640.0</td>\n",
       "      <td>5.454</td>\n",
       "      <td>57</td>\n",
       "    </tr>\n",
       "    <tr>\n",
       "      <th>1</th>\n",
       "      <td>Случайный лес</td>\n",
       "      <td>1659.8</td>\n",
       "      <td>3.975</td>\n",
       "      <td>128</td>\n",
       "    </tr>\n",
       "    <tr>\n",
       "      <th>2</th>\n",
       "      <td>Случайный лес (мал.)</td>\n",
       "      <td>1695.6</td>\n",
       "      <td>0.800</td>\n",
       "      <td>26</td>\n",
       "    </tr>\n",
       "    <tr>\n",
       "      <th>0</th>\n",
       "      <td>Линейная</td>\n",
       "      <td>2754.3</td>\n",
       "      <td>0.143</td>\n",
       "      <td>26</td>\n",
       "    </tr>\n",
       "  </tbody>\n",
       "</table>\n",
       "</div>"
      ],
      "text/plain": [
       "                 Модель  Ошибка  Время предсказания, с  Время обучения, с\n",
       "3              CatBoost  1630.8                  1.032                289\n",
       "4              LightGBM  1640.0                  5.454                 57\n",
       "1         Случайный лес  1659.8                  3.975                128\n",
       "2  Случайный лес (мал.)  1695.6                  0.800                 26\n",
       "0              Линейная  2754.3                  0.143                 26"
      ]
     },
     "execution_count": 35,
     "metadata": {},
     "output_type": "execute_result"
    }
   ],
   "source": [
    "results = pd.DataFrame({'Модель' :  [\"Линейная\", \"Случайный лес\", \"Случайный лес (мал.)\", \"CatBoost\", \"LightGBM\"],\n",
    "                        'Ошибка' : rmse,\n",
    "                        'Время предсказания, с' : np.round(times, 3),\n",
    "                        'Время обучения, с' : [26, 128, 26, 289, 57]\n",
    "})\n",
    "\n",
    "results.sort_values(by='Ошибка')"
   ]
  },
  {
   "cell_type": "markdown",
   "metadata": {},
   "source": [
    "На валидационной выборке все модели кроме линейной удовлетворяют требованиям заказчика по минимальной точности. Лучшая точность была получена для модели на базе CatBoost. Такая модель имеет удовлетворительную скорость предсказания, однако также имеет самую низкую скорость обучения.  \n",
    "Как было отмечено выше для окончательного выбора следует уточнить у заказчика требования к производительности разрабатываемой модели.  \n",
    "Учитывая характер использования модели можно предположить большую нагрузку при обучении модели в сравнении с её использованием. При этом скорость работы модели более важна именно на стадии предсказаний и большая сложность обучения может быть до определенной степени проигнорирована. Выбирая исходя из точности модели и ограничиваясь не самым большим временем предсказания следует выбрать модель на основе CatBoost."
   ]
  },
  {
   "cell_type": "markdown",
   "metadata": {},
   "source": [
    "**Проверим модель на основе CatBoost на тестовых данных:**"
   ]
  },
  {
   "cell_type": "code",
   "execution_count": 36,
   "metadata": {},
   "outputs": [
    {
     "name": "stdout",
     "output_type": "stream",
     "text": [
      "Корень из среднеквадратичной ошибки модели:  1652.6 \n",
      "\n",
      "CPU times: user 1.46 s, sys: 4.17 ms, total: 1.46 s\n",
      "Wall time: 1.46 s\n"
     ]
    },
    {
     "data": {
      "text/plain": [
       "1652.6"
      ]
     },
     "execution_count": 36,
     "metadata": {},
     "output_type": "execute_result"
    }
   ],
   "source": [
    "%time rmse_score(model_cat, features_test, target_test)"
   ]
  },
  {
   "cell_type": "markdown",
   "metadata": {},
   "source": [
    "Производительность модели несколько упала по сравнению с предсказаниями на валидационной выборке, однако по прежнему остаётся на удовлетворительном уровне.  \n",
    "Точность предсказаний несколько снижена по сравнению с валидацией, но также удовлетворяет требованием заказчика."
   ]
  },
  {
   "cell_type": "markdown",
   "metadata": {},
   "source": [
    "## Выводы"
   ]
  },
  {
   "cell_type": "markdown",
   "metadata": {},
   "source": [
    "1. Лучшей моделью в рамках проекта оказалась модель на основе CatBoost. Модель умеет удовлетворительную производительность при предсказании стоимости автомобитель и обеспечивает лучшую точность предсказаний среди всех рассмотренных моделей.\n",
    "2. Близкие результаты по точности предсказаний показали модели градиентного бустинга и случайного леса.\n",
    "2. Лучшей производительностью при обучении обладает модель LightGBM, а при предсказании - CatBoost.\n",
    "3. Выбор конкретной модели и оптимизации её гиперпараметров требуют уточнения у заказчика предъявляемых к модели требований по скорости работы и точности, для формирования единой композиционной метрики качества.  \n",
    "Требуется понимание планируемой посещаемости ресурса, стоимости ошибки предсказания и серверного времени а также объема базы для построения модели.\n",
    "4. Также требуется уточнить является ли задачей модели предсказание адекватной цены автомобиля, или цены, которую бы установил пользователь при создании объявления."
   ]
  }
 ],
 "metadata": {
  "ExecuteTimeLog": [
   {
    "duration": 1515,
    "start_time": "2022-08-03T08:01:15.179Z"
   },
   {
    "duration": 3,
    "start_time": "2022-08-03T08:01:27.608Z"
   },
   {
    "duration": 1077,
    "start_time": "2022-08-03T08:01:56.991Z"
   },
   {
    "duration": 135,
    "start_time": "2022-08-03T08:02:39.140Z"
   },
   {
    "duration": 3,
    "start_time": "2022-08-03T08:06:25.514Z"
   },
   {
    "duration": 7,
    "start_time": "2022-08-03T08:07:35.913Z"
   },
   {
    "duration": 45,
    "start_time": "2022-08-03T08:08:06.053Z"
   },
   {
    "duration": 122,
    "start_time": "2022-08-03T08:08:11.747Z"
   },
   {
    "duration": 130,
    "start_time": "2022-08-03T08:08:17.733Z"
   },
   {
    "duration": 230,
    "start_time": "2022-08-03T08:08:35.009Z"
   },
   {
    "duration": 130,
    "start_time": "2022-08-03T08:08:39.229Z"
   },
   {
    "duration": 127,
    "start_time": "2022-08-03T08:09:12.349Z"
   },
   {
    "duration": 129,
    "start_time": "2022-08-03T08:09:25.820Z"
   },
   {
    "duration": 132,
    "start_time": "2022-08-03T08:09:49.633Z"
   },
   {
    "duration": 130,
    "start_time": "2022-08-03T08:10:27.142Z"
   },
   {
    "duration": 127,
    "start_time": "2022-08-03T08:10:31.767Z"
   },
   {
    "duration": 4536,
    "start_time": "2022-08-03T08:10:42.075Z"
   },
   {
    "duration": 1296,
    "start_time": "2022-08-03T08:11:03.545Z"
   },
   {
    "duration": 526,
    "start_time": "2022-08-03T08:11:54.838Z"
   },
   {
    "duration": 6,
    "start_time": "2022-08-03T08:12:22.725Z"
   },
   {
    "duration": 5,
    "start_time": "2022-08-03T08:12:27.671Z"
   },
   {
    "duration": 718,
    "start_time": "2022-08-03T08:12:34.707Z"
   },
   {
    "duration": 536,
    "start_time": "2022-08-03T08:12:41.147Z"
   },
   {
    "duration": 1414,
    "start_time": "2022-08-03T08:14:14.155Z"
   },
   {
    "duration": 700,
    "start_time": "2022-08-03T08:14:25.974Z"
   },
   {
    "duration": 678,
    "start_time": "2022-08-03T08:14:38.366Z"
   },
   {
    "duration": 85,
    "start_time": "2022-08-03T08:50:08.129Z"
   },
   {
    "duration": 126,
    "start_time": "2022-08-03T08:52:11.880Z"
   },
   {
    "duration": 59,
    "start_time": "2022-08-03T08:52:46.945Z"
   },
   {
    "duration": 764,
    "start_time": "2022-08-03T08:56:58.859Z"
   },
   {
    "duration": 10,
    "start_time": "2022-08-03T08:58:26.889Z"
   },
   {
    "duration": 90313,
    "start_time": "2022-08-03T08:58:32.243Z"
   },
   {
    "duration": 5,
    "start_time": "2022-08-03T09:00:04.546Z"
   },
   {
    "duration": 21,
    "start_time": "2022-08-03T09:00:38.161Z"
   },
   {
    "duration": 1176,
    "start_time": "2022-08-03T09:00:49.903Z"
   },
   {
    "duration": 4,
    "start_time": "2022-08-03T09:01:12.895Z"
   },
   {
    "duration": 5,
    "start_time": "2022-08-03T09:01:41.477Z"
   },
   {
    "duration": 4,
    "start_time": "2022-08-03T09:01:45.374Z"
   },
   {
    "duration": 19941,
    "start_time": "2022-08-03T09:02:14.550Z"
   },
   {
    "duration": 102025,
    "start_time": "2022-08-03T09:02:49.732Z"
   },
   {
    "duration": 1511,
    "start_time": "2022-08-03T09:07:58.551Z"
   },
   {
    "duration": 1148,
    "start_time": "2022-08-03T09:08:00.064Z"
   },
   {
    "duration": 649,
    "start_time": "2022-08-03T09:08:01.214Z"
   },
   {
    "duration": 103,
    "start_time": "2022-08-03T09:08:01.865Z"
   },
   {
    "duration": 178,
    "start_time": "2022-08-03T09:08:53.022Z"
   },
   {
    "duration": 217,
    "start_time": "2022-08-03T09:09:04.170Z"
   },
   {
    "duration": 225,
    "start_time": "2022-08-03T09:09:22.882Z"
   },
   {
    "duration": 139,
    "start_time": "2022-08-03T09:10:02.970Z"
   },
   {
    "duration": 0,
    "start_time": "2022-08-03T09:10:30.590Z"
   },
   {
    "duration": 1109,
    "start_time": "2022-08-03T09:10:33.324Z"
   },
   {
    "duration": 148,
    "start_time": "2022-08-03T09:10:41.877Z"
   },
   {
    "duration": 174,
    "start_time": "2022-08-03T09:10:53.821Z"
   },
   {
    "duration": 151,
    "start_time": "2022-08-03T09:10:59.678Z"
   },
   {
    "duration": 153,
    "start_time": "2022-08-03T09:11:08.446Z"
   },
   {
    "duration": 148,
    "start_time": "2022-08-03T09:11:19.571Z"
   },
   {
    "duration": 215,
    "start_time": "2022-08-03T09:13:11.083Z"
   },
   {
    "duration": 764,
    "start_time": "2022-08-03T09:15:14.131Z"
   },
   {
    "duration": 941,
    "start_time": "2022-08-03T09:16:01.653Z"
   },
   {
    "duration": 749,
    "start_time": "2022-08-03T09:17:29.322Z"
   },
   {
    "duration": 863,
    "start_time": "2022-08-03T09:17:44.887Z"
   },
   {
    "duration": 777,
    "start_time": "2022-08-03T09:17:56.919Z"
   },
   {
    "duration": 785,
    "start_time": "2022-08-03T09:18:13.437Z"
   },
   {
    "duration": 968,
    "start_time": "2022-08-03T09:18:39.646Z"
   },
   {
    "duration": 897,
    "start_time": "2022-08-03T09:18:59.938Z"
   },
   {
    "duration": 11,
    "start_time": "2022-08-03T09:21:20.036Z"
   },
   {
    "duration": 9,
    "start_time": "2022-08-03T09:21:25.558Z"
   },
   {
    "duration": 9,
    "start_time": "2022-08-03T09:21:33.137Z"
   },
   {
    "duration": 10,
    "start_time": "2022-08-03T09:21:40.063Z"
   },
   {
    "duration": 12,
    "start_time": "2022-08-03T09:21:43.466Z"
   },
   {
    "duration": 11,
    "start_time": "2022-08-03T09:21:52.820Z"
   },
   {
    "duration": 11,
    "start_time": "2022-08-03T09:21:58.654Z"
   },
   {
    "duration": 10,
    "start_time": "2022-08-03T09:22:01.413Z"
   },
   {
    "duration": 9,
    "start_time": "2022-08-03T09:22:07.546Z"
   },
   {
    "duration": 9,
    "start_time": "2022-08-03T09:22:12.522Z"
   },
   {
    "duration": 10,
    "start_time": "2022-08-03T09:22:19.018Z"
   },
   {
    "duration": 9,
    "start_time": "2022-08-03T09:24:30.186Z"
   },
   {
    "duration": 7,
    "start_time": "2022-08-03T09:24:36.114Z"
   },
   {
    "duration": 459,
    "start_time": "2022-08-03T09:30:05.839Z"
   },
   {
    "duration": 459,
    "start_time": "2022-08-03T09:30:11.942Z"
   },
   {
    "duration": 5,
    "start_time": "2022-08-03T09:33:53.075Z"
   },
   {
    "duration": 11,
    "start_time": "2022-08-03T09:34:00.417Z"
   },
   {
    "duration": 9,
    "start_time": "2022-08-03T09:34:35.610Z"
   },
   {
    "duration": 32,
    "start_time": "2022-08-03T09:35:13.558Z"
   },
   {
    "duration": 31,
    "start_time": "2022-08-03T09:35:18.239Z"
   },
   {
    "duration": 31,
    "start_time": "2022-08-03T09:35:24.961Z"
   },
   {
    "duration": 5,
    "start_time": "2022-08-03T09:35:43.632Z"
   },
   {
    "duration": 5,
    "start_time": "2022-08-03T09:35:50.207Z"
   },
   {
    "duration": 5,
    "start_time": "2022-08-03T09:35:54.053Z"
   },
   {
    "duration": 10,
    "start_time": "2022-08-03T09:36:09.605Z"
   },
   {
    "duration": 11,
    "start_time": "2022-08-03T09:36:14.524Z"
   },
   {
    "duration": 48,
    "start_time": "2022-08-03T10:02:39.521Z"
   },
   {
    "duration": 40,
    "start_time": "2022-08-03T10:02:42.666Z"
   },
   {
    "duration": 62,
    "start_time": "2022-08-03T10:02:49.737Z"
   },
   {
    "duration": 51,
    "start_time": "2022-08-03T10:02:57.654Z"
   },
   {
    "duration": 7,
    "start_time": "2022-08-03T10:03:36.381Z"
   },
   {
    "duration": 5,
    "start_time": "2022-08-03T10:03:56.291Z"
   },
   {
    "duration": 14,
    "start_time": "2022-08-03T10:05:16.223Z"
   },
   {
    "duration": 28,
    "start_time": "2022-08-03T10:05:43.065Z"
   },
   {
    "duration": 10,
    "start_time": "2022-08-03T10:05:53.946Z"
   },
   {
    "duration": 16,
    "start_time": "2022-08-03T10:06:03.973Z"
   },
   {
    "duration": 138,
    "start_time": "2022-08-03T10:06:23.622Z"
   },
   {
    "duration": 1423,
    "start_time": "2022-08-03T10:06:49.746Z"
   },
   {
    "duration": 817,
    "start_time": "2022-08-03T10:06:51.171Z"
   },
   {
    "duration": 575,
    "start_time": "2022-08-03T10:06:51.989Z"
   },
   {
    "duration": 96,
    "start_time": "2022-08-03T10:06:52.566Z"
   },
   {
    "duration": 966,
    "start_time": "2022-08-03T10:06:52.664Z"
   },
   {
    "duration": 50,
    "start_time": "2022-08-03T10:06:53.632Z"
   },
   {
    "duration": 135,
    "start_time": "2022-08-03T10:06:53.684Z"
   },
   {
    "duration": 28,
    "start_time": "2022-08-03T10:06:53.821Z"
   },
   {
    "duration": 6,
    "start_time": "2022-08-03T10:06:53.850Z"
   },
   {
    "duration": 163,
    "start_time": "2022-08-03T10:06:53.858Z"
   },
   {
    "duration": 63,
    "start_time": "2022-08-03T10:08:18.653Z"
   },
   {
    "duration": 270,
    "start_time": "2022-08-03T10:09:05.975Z"
   },
   {
    "duration": 93,
    "start_time": "2022-08-03T10:09:10.971Z"
   },
   {
    "duration": 5,
    "start_time": "2022-08-03T10:09:33.029Z"
   },
   {
    "duration": 69,
    "start_time": "2022-08-03T10:10:11.324Z"
   },
   {
    "duration": 89,
    "start_time": "2022-08-03T10:10:15.795Z"
   },
   {
    "duration": 135,
    "start_time": "2022-08-03T10:10:18.987Z"
   },
   {
    "duration": 253,
    "start_time": "2022-08-03T10:11:13.487Z"
   },
   {
    "duration": 33,
    "start_time": "2022-08-03T10:11:16.423Z"
   },
   {
    "duration": 93,
    "start_time": "2022-08-03T10:12:14.528Z"
   },
   {
    "duration": 63,
    "start_time": "2022-08-03T10:14:09.234Z"
   },
   {
    "duration": 704,
    "start_time": "2022-08-03T10:14:28.396Z"
   },
   {
    "duration": 2950,
    "start_time": "2022-08-03T10:15:33.849Z"
   },
   {
    "duration": 1148,
    "start_time": "2022-08-03T10:15:36.801Z"
   },
   {
    "duration": 580,
    "start_time": "2022-08-03T10:15:37.950Z"
   },
   {
    "duration": 96,
    "start_time": "2022-08-03T10:15:38.539Z"
   },
   {
    "duration": 1181,
    "start_time": "2022-08-03T10:15:38.638Z"
   },
   {
    "duration": 53,
    "start_time": "2022-08-03T10:15:39.821Z"
   },
   {
    "duration": 288,
    "start_time": "2022-08-03T10:15:39.876Z"
   },
   {
    "duration": 15,
    "start_time": "2022-08-03T10:15:40.166Z"
   },
   {
    "duration": 295,
    "start_time": "2022-08-03T10:15:40.183Z"
   },
   {
    "duration": 39,
    "start_time": "2022-08-03T10:15:40.481Z"
   },
   {
    "duration": 96,
    "start_time": "2022-08-03T10:15:40.522Z"
   },
   {
    "duration": 40,
    "start_time": "2022-08-03T10:15:50.051Z"
   },
   {
    "duration": 79,
    "start_time": "2022-08-03T10:24:12.638Z"
   },
   {
    "duration": 3,
    "start_time": "2022-08-03T10:24:51.462Z"
   },
   {
    "duration": 828,
    "start_time": "2022-08-03T10:24:51.468Z"
   },
   {
    "duration": 579,
    "start_time": "2022-08-03T10:24:52.298Z"
   },
   {
    "duration": 99,
    "start_time": "2022-08-03T10:24:52.878Z"
   },
   {
    "duration": 926,
    "start_time": "2022-08-03T10:24:52.979Z"
   },
   {
    "duration": 47,
    "start_time": "2022-08-03T10:24:53.907Z"
   },
   {
    "duration": 260,
    "start_time": "2022-08-03T10:24:53.955Z"
   },
   {
    "duration": 24,
    "start_time": "2022-08-03T10:24:54.217Z"
   },
   {
    "duration": 259,
    "start_time": "2022-08-03T10:24:54.243Z"
   },
   {
    "duration": 78,
    "start_time": "2022-08-03T10:25:04.051Z"
   },
   {
    "duration": 73,
    "start_time": "2022-08-03T10:25:34.946Z"
   },
   {
    "duration": 90,
    "start_time": "2022-08-03T10:25:38.026Z"
   },
   {
    "duration": 3,
    "start_time": "2022-08-03T10:29:53.721Z"
   },
   {
    "duration": 115,
    "start_time": "2022-08-03T10:29:57.359Z"
   },
   {
    "duration": 6,
    "start_time": "2022-08-03T10:30:04.155Z"
   },
   {
    "duration": 4,
    "start_time": "2022-08-03T10:30:23.329Z"
   },
   {
    "duration": 6,
    "start_time": "2022-08-03T10:30:28.040Z"
   },
   {
    "duration": 4,
    "start_time": "2022-08-03T10:30:37.381Z"
   },
   {
    "duration": 4,
    "start_time": "2022-08-03T10:31:04.986Z"
   },
   {
    "duration": 4,
    "start_time": "2022-08-03T10:31:09.417Z"
   },
   {
    "duration": 5,
    "start_time": "2022-08-03T10:31:17.256Z"
   },
   {
    "duration": 4,
    "start_time": "2022-08-03T10:31:30.254Z"
   },
   {
    "duration": 5,
    "start_time": "2022-08-03T10:31:37.287Z"
   },
   {
    "duration": 3,
    "start_time": "2022-08-03T10:34:44.242Z"
   },
   {
    "duration": 70,
    "start_time": "2022-08-03T10:35:32.430Z"
   },
   {
    "duration": 85,
    "start_time": "2022-08-03T10:37:15.929Z"
   },
   {
    "duration": 103,
    "start_time": "2022-08-03T10:37:31.121Z"
   },
   {
    "duration": 5,
    "start_time": "2022-08-03T10:37:49.088Z"
   },
   {
    "duration": 5,
    "start_time": "2022-08-03T10:39:13.145Z"
   },
   {
    "duration": 5,
    "start_time": "2022-08-03T10:39:17.474Z"
   },
   {
    "duration": 3,
    "start_time": "2022-08-03T10:44:28.318Z"
   },
   {
    "duration": 14,
    "start_time": "2022-08-03T10:46:00.353Z"
   },
   {
    "duration": 101,
    "start_time": "2022-08-03T10:47:05.956Z"
   },
   {
    "duration": 4,
    "start_time": "2022-08-03T10:49:18.480Z"
   },
   {
    "duration": 5,
    "start_time": "2022-08-03T10:49:24.147Z"
   },
   {
    "duration": 4,
    "start_time": "2022-08-03T10:49:29.164Z"
   },
   {
    "duration": 5,
    "start_time": "2022-08-03T10:49:37.280Z"
   },
   {
    "duration": 4,
    "start_time": "2022-08-03T10:50:51.878Z"
   },
   {
    "duration": 12,
    "start_time": "2022-08-03T10:51:07.256Z"
   },
   {
    "duration": 4,
    "start_time": "2022-08-03T10:51:11.562Z"
   },
   {
    "duration": 199,
    "start_time": "2022-08-03T10:54:44.054Z"
   },
   {
    "duration": 12,
    "start_time": "2022-08-03T10:58:20.076Z"
   },
   {
    "duration": 10,
    "start_time": "2022-08-03T11:01:00.141Z"
   },
   {
    "duration": 3,
    "start_time": "2022-08-03T11:01:08.491Z"
   },
   {
    "duration": 3,
    "start_time": "2022-08-03T11:01:14.428Z"
   },
   {
    "duration": 21,
    "start_time": "2022-08-03T11:02:19.436Z"
   },
   {
    "duration": 5,
    "start_time": "2022-08-03T11:04:20.684Z"
   },
   {
    "duration": 13,
    "start_time": "2022-08-03T11:05:38.381Z"
   },
   {
    "duration": 3,
    "start_time": "2022-08-03T11:05:56.722Z"
   },
   {
    "duration": 411,
    "start_time": "2022-08-03T11:06:12.119Z"
   },
   {
    "duration": 4,
    "start_time": "2022-08-03T11:07:30.737Z"
   },
   {
    "duration": 9580,
    "start_time": "2022-08-03T11:07:33.563Z"
   },
   {
    "duration": 363,
    "start_time": "2022-08-03T11:07:54.976Z"
   },
   {
    "duration": 222,
    "start_time": "2022-08-03T11:08:19.026Z"
   },
   {
    "duration": 4,
    "start_time": "2022-08-03T11:11:16.977Z"
   },
   {
    "duration": 11,
    "start_time": "2022-08-03T11:11:38.827Z"
   },
   {
    "duration": 271,
    "start_time": "2022-08-03T11:12:06.266Z"
   },
   {
    "duration": 182,
    "start_time": "2022-08-03T11:12:18.656Z"
   },
   {
    "duration": 4,
    "start_time": "2022-08-03T11:13:05.072Z"
   },
   {
    "duration": 4,
    "start_time": "2022-08-03T11:14:56.726Z"
   },
   {
    "duration": 393,
    "start_time": "2022-08-03T11:15:46.993Z"
   },
   {
    "duration": 1059,
    "start_time": "2022-08-03T11:15:55.680Z"
   },
   {
    "duration": 157,
    "start_time": "2022-08-03T11:16:00.984Z"
   },
   {
    "duration": 8754,
    "start_time": "2022-08-03T11:16:10.891Z"
   },
   {
    "duration": 215,
    "start_time": "2022-08-03T11:16:23.325Z"
   },
   {
    "duration": 1924,
    "start_time": "2022-08-03T11:17:19.629Z"
   },
   {
    "duration": 10,
    "start_time": "2022-08-03T11:19:24.827Z"
   },
   {
    "duration": 32,
    "start_time": "2022-08-03T11:19:31.394Z"
   },
   {
    "duration": 32,
    "start_time": "2022-08-03T11:19:36.617Z"
   },
   {
    "duration": 32,
    "start_time": "2022-08-03T11:19:45.178Z"
   },
   {
    "duration": 33,
    "start_time": "2022-08-03T11:19:48.628Z"
   },
   {
    "duration": 47,
    "start_time": "2022-08-03T11:19:53.122Z"
   },
   {
    "duration": 43,
    "start_time": "2022-08-03T11:20:10.753Z"
   },
   {
    "duration": 49,
    "start_time": "2022-08-03T11:20:24.023Z"
   },
   {
    "duration": 53,
    "start_time": "2022-08-03T11:20:27.122Z"
   },
   {
    "duration": 42,
    "start_time": "2022-08-03T11:21:13.388Z"
   },
   {
    "duration": 37,
    "start_time": "2022-08-03T11:21:20.644Z"
   },
   {
    "duration": 33,
    "start_time": "2022-08-03T11:21:26.974Z"
   },
   {
    "duration": 35,
    "start_time": "2022-08-03T11:22:22.822Z"
   },
   {
    "duration": 34,
    "start_time": "2022-08-03T11:22:26.420Z"
   },
   {
    "duration": 56,
    "start_time": "2022-08-03T11:22:40.816Z"
   },
   {
    "duration": 733,
    "start_time": "2022-08-03T11:23:23.868Z"
   },
   {
    "duration": 351,
    "start_time": "2022-08-03T11:23:31.820Z"
   },
   {
    "duration": 331,
    "start_time": "2022-08-03T11:23:35.725Z"
   },
   {
    "duration": 347,
    "start_time": "2022-08-03T11:23:58.591Z"
   },
   {
    "duration": 629,
    "start_time": "2022-08-03T11:24:11.291Z"
   },
   {
    "duration": 212,
    "start_time": "2022-08-03T11:24:26.073Z"
   },
   {
    "duration": 385,
    "start_time": "2022-08-03T11:24:33.925Z"
   },
   {
    "duration": 4,
    "start_time": "2022-08-03T11:52:49.757Z"
   },
   {
    "duration": 127,
    "start_time": "2022-08-03T11:52:52.277Z"
   },
   {
    "duration": 121,
    "start_time": "2022-08-03T11:53:05.770Z"
   },
   {
    "duration": 218,
    "start_time": "2022-08-03T11:53:17.852Z"
   },
   {
    "duration": 207,
    "start_time": "2022-08-03T11:53:32.909Z"
   },
   {
    "duration": 354,
    "start_time": "2022-08-03T11:54:31.116Z"
   },
   {
    "duration": 368,
    "start_time": "2022-08-03T11:54:50.083Z"
   },
   {
    "duration": 465,
    "start_time": "2022-08-03T11:55:01.173Z"
   },
   {
    "duration": 1412,
    "start_time": "2022-08-03T12:02:35.042Z"
   },
   {
    "duration": 100,
    "start_time": "2022-08-03T12:02:57.242Z"
   },
   {
    "duration": 34,
    "start_time": "2022-08-03T12:05:10.685Z"
   },
   {
    "duration": 58,
    "start_time": "2022-08-03T12:05:23.648Z"
   },
   {
    "duration": 28,
    "start_time": "2022-08-03T12:05:31.665Z"
   },
   {
    "duration": 28,
    "start_time": "2022-08-03T12:05:36.022Z"
   },
   {
    "duration": 6,
    "start_time": "2022-08-03T12:05:49.058Z"
   },
   {
    "duration": 4,
    "start_time": "2022-08-03T12:05:50.986Z"
   },
   {
    "duration": 50,
    "start_time": "2022-08-03T12:05:52.960Z"
   },
   {
    "duration": 33,
    "start_time": "2022-08-03T12:05:55.119Z"
   },
   {
    "duration": 303,
    "start_time": "2022-08-03T12:05:57.978Z"
   },
   {
    "duration": 109,
    "start_time": "2022-08-03T12:06:04.074Z"
   },
   {
    "duration": 8,
    "start_time": "2022-08-03T12:06:08.248Z"
   },
   {
    "duration": 4,
    "start_time": "2022-08-03T12:06:12.748Z"
   },
   {
    "duration": 4,
    "start_time": "2022-08-03T12:06:23.118Z"
   },
   {
    "duration": 8980,
    "start_time": "2022-08-03T12:06:29.560Z"
   },
   {
    "duration": 203,
    "start_time": "2022-08-03T12:06:40.738Z"
   },
   {
    "duration": 24,
    "start_time": "2022-08-03T12:06:45.074Z"
   },
   {
    "duration": 150063,
    "start_time": "2022-08-03T12:07:36.666Z"
   },
   {
    "duration": 4569,
    "start_time": "2022-08-03T12:10:06.731Z"
   },
   {
    "duration": 11,
    "start_time": "2022-08-03T12:11:00.555Z"
   },
   {
    "duration": 21,
    "start_time": "2022-08-03T12:11:06.760Z"
   },
   {
    "duration": 1019,
    "start_time": "2022-08-03T12:11:20.133Z"
   },
   {
    "duration": 6,
    "start_time": "2022-08-03T12:11:48.877Z"
   },
   {
    "duration": 1100,
    "start_time": "2022-08-03T12:12:46.639Z"
   },
   {
    "duration": 32,
    "start_time": "2022-08-03T12:13:10.997Z"
   },
   {
    "duration": 28,
    "start_time": "2022-08-03T12:13:21.317Z"
   },
   {
    "duration": 1431,
    "start_time": "2022-08-03T12:13:52.297Z"
   },
   {
    "duration": 1182,
    "start_time": "2022-08-03T12:15:33.932Z"
   },
   {
    "duration": 1057,
    "start_time": "2022-08-03T12:16:04.277Z"
   },
   {
    "duration": 66,
    "start_time": "2022-08-03T12:16:10.428Z"
   },
   {
    "duration": 60,
    "start_time": "2022-08-03T12:16:15.173Z"
   },
   {
    "duration": 1118,
    "start_time": "2022-08-03T12:16:28.152Z"
   },
   {
    "duration": 67684,
    "start_time": "2022-08-03T12:16:48.751Z"
   },
   {
    "duration": 304414,
    "start_time": "2022-08-03T12:18:14.343Z"
   },
   {
    "duration": 20,
    "start_time": "2022-08-03T12:23:20.493Z"
   },
   {
    "duration": 1847,
    "start_time": "2022-08-03T12:23:28.636Z"
   },
   {
    "duration": 1690,
    "start_time": "2022-08-03T12:23:43.460Z"
   },
   {
    "duration": 9,
    "start_time": "2022-08-03T12:24:00.387Z"
   },
   {
    "duration": 3,
    "start_time": "2022-08-03T12:26:33.519Z"
   },
   {
    "duration": 55449,
    "start_time": "2022-08-03T12:26:56.219Z"
   },
   {
    "duration": 11,
    "start_time": "2022-08-03T12:28:37.352Z"
   },
   {
    "duration": 186367,
    "start_time": "2022-08-03T12:28:51.081Z"
   },
   {
    "duration": 0,
    "start_time": "2022-08-03T12:31:57.450Z"
   },
   {
    "duration": 8131,
    "start_time": "2022-08-03T12:32:01.218Z"
   },
   {
    "duration": 8016,
    "start_time": "2022-08-03T12:32:17.935Z"
   },
   {
    "duration": 7756,
    "start_time": "2022-08-03T12:33:12.384Z"
   },
   {
    "duration": 153,
    "start_time": "2022-08-03T12:33:43.009Z"
   },
   {
    "duration": 171,
    "start_time": "2022-08-03T12:34:03.871Z"
   },
   {
    "duration": 4566,
    "start_time": "2022-08-03T12:34:27.764Z"
   },
   {
    "duration": 1799,
    "start_time": "2022-08-03T12:34:41.416Z"
   },
   {
    "duration": 8025,
    "start_time": "2022-08-03T12:35:26.219Z"
   },
   {
    "duration": 216,
    "start_time": "2022-08-03T12:35:34.246Z"
   },
   {
    "duration": 2453,
    "start_time": "2022-08-03T12:38:22.954Z"
   },
   {
    "duration": 1234,
    "start_time": "2022-08-03T12:38:25.410Z"
   },
   {
    "duration": 621,
    "start_time": "2022-08-03T12:38:26.645Z"
   },
   {
    "duration": 104,
    "start_time": "2022-08-03T12:38:27.268Z"
   },
   {
    "duration": 1054,
    "start_time": "2022-08-03T12:38:27.374Z"
   },
   {
    "duration": 730,
    "start_time": "2022-08-03T12:38:28.430Z"
   },
   {
    "duration": 103,
    "start_time": "2022-08-03T12:38:29.162Z"
   },
   {
    "duration": 58,
    "start_time": "2022-08-03T12:38:29.267Z"
   },
   {
    "duration": 73,
    "start_time": "2022-08-03T12:38:29.326Z"
   },
   {
    "duration": 37,
    "start_time": "2022-08-03T12:38:29.402Z"
   },
   {
    "duration": 277,
    "start_time": "2022-08-03T12:38:29.441Z"
   },
   {
    "duration": 67,
    "start_time": "2022-08-03T12:38:29.720Z"
   },
   {
    "duration": 28,
    "start_time": "2022-08-03T12:38:29.789Z"
   },
   {
    "duration": 297,
    "start_time": "2022-08-03T12:38:29.819Z"
   },
   {
    "duration": 113,
    "start_time": "2022-08-03T12:38:30.118Z"
   },
   {
    "duration": 7,
    "start_time": "2022-08-03T12:38:30.233Z"
   },
   {
    "duration": 12,
    "start_time": "2022-08-03T12:38:30.241Z"
   },
   {
    "duration": 10,
    "start_time": "2022-08-03T12:38:30.255Z"
   },
   {
    "duration": 10376,
    "start_time": "2022-08-03T12:38:30.266Z"
   },
   {
    "duration": 197,
    "start_time": "2022-08-03T12:38:40.644Z"
   },
   {
    "duration": 144896,
    "start_time": "2022-08-03T12:38:40.843Z"
   },
   {
    "duration": 4530,
    "start_time": "2022-08-03T12:41:05.745Z"
   },
   {
    "duration": 310615,
    "start_time": "2022-08-03T12:41:10.277Z"
   },
   {
    "duration": 1831,
    "start_time": "2022-08-03T12:46:20.894Z"
   },
   {
    "duration": 391630,
    "start_time": "2022-08-03T12:46:22.727Z"
   },
   {
    "duration": 1195,
    "start_time": "2022-08-03T12:52:54.358Z"
   },
   {
    "duration": 1315,
    "start_time": "2022-08-03T13:03:27.027Z"
   },
   {
    "duration": 3345,
    "start_time": "2022-08-03T13:03:47.619Z"
   },
   {
    "duration": 797,
    "start_time": "2022-08-03T13:04:21.671Z"
   },
   {
    "duration": 5,
    "start_time": "2022-08-03T14:30:57.774Z"
   },
   {
    "duration": 5,
    "start_time": "2022-08-03T14:31:01.019Z"
   },
   {
    "duration": 143069,
    "start_time": "2022-08-03T14:50:04.061Z"
   },
   {
    "duration": 1787,
    "start_time": "2022-08-04T07:59:00.835Z"
   },
   {
    "duration": 1162,
    "start_time": "2022-08-04T07:59:02.624Z"
   },
   {
    "duration": 638,
    "start_time": "2022-08-04T07:59:03.788Z"
   },
   {
    "duration": 115,
    "start_time": "2022-08-04T07:59:04.429Z"
   },
   {
    "duration": 1069,
    "start_time": "2022-08-04T07:59:04.546Z"
   },
   {
    "duration": 690,
    "start_time": "2022-08-04T07:59:05.616Z"
   },
   {
    "duration": 113,
    "start_time": "2022-08-04T07:59:06.307Z"
   },
   {
    "duration": 57,
    "start_time": "2022-08-04T07:59:06.422Z"
   },
   {
    "duration": 68,
    "start_time": "2022-08-04T07:59:06.481Z"
   },
   {
    "duration": 15,
    "start_time": "2022-08-04T07:59:06.552Z"
   },
   {
    "duration": 264,
    "start_time": "2022-08-04T07:59:06.569Z"
   },
   {
    "duration": 69,
    "start_time": "2022-08-04T07:59:06.834Z"
   },
   {
    "duration": 34,
    "start_time": "2022-08-04T07:59:06.905Z"
   },
   {
    "duration": 313,
    "start_time": "2022-08-04T07:59:06.940Z"
   },
   {
    "duration": 148,
    "start_time": "2022-08-04T07:59:07.255Z"
   },
   {
    "duration": 5,
    "start_time": "2022-08-04T07:59:07.404Z"
   },
   {
    "duration": 11,
    "start_time": "2022-08-04T07:59:07.410Z"
   },
   {
    "duration": 5,
    "start_time": "2022-08-04T07:59:07.423Z"
   },
   {
    "duration": 6426,
    "start_time": "2022-08-04T07:59:40.285Z"
   },
   {
    "duration": 156,
    "start_time": "2022-08-04T07:59:49.281Z"
   },
   {
    "duration": 3,
    "start_time": "2022-08-04T08:00:15.914Z"
   },
   {
    "duration": 5,
    "start_time": "2022-08-04T08:04:45.041Z"
   },
   {
    "duration": 824,
    "start_time": "2022-08-04T08:04:45.050Z"
   },
   {
    "duration": 571,
    "start_time": "2022-08-04T08:04:45.879Z"
   },
   {
    "duration": 103,
    "start_time": "2022-08-04T08:04:46.453Z"
   },
   {
    "duration": 955,
    "start_time": "2022-08-04T08:04:46.560Z"
   },
   {
    "duration": 623,
    "start_time": "2022-08-04T08:04:47.517Z"
   },
   {
    "duration": 114,
    "start_time": "2022-08-04T08:04:48.142Z"
   },
   {
    "duration": 45,
    "start_time": "2022-08-04T08:04:48.258Z"
   },
   {
    "duration": 65,
    "start_time": "2022-08-04T08:04:48.304Z"
   },
   {
    "duration": 32,
    "start_time": "2022-08-04T08:04:48.371Z"
   },
   {
    "duration": 257,
    "start_time": "2022-08-04T08:04:48.405Z"
   },
   {
    "duration": 67,
    "start_time": "2022-08-04T08:04:48.663Z"
   },
   {
    "duration": 29,
    "start_time": "2022-08-04T08:04:48.732Z"
   },
   {
    "duration": 324,
    "start_time": "2022-08-04T08:04:48.763Z"
   },
   {
    "duration": 120,
    "start_time": "2022-08-04T08:04:49.090Z"
   },
   {
    "duration": 4,
    "start_time": "2022-08-04T08:04:49.212Z"
   },
   {
    "duration": 8,
    "start_time": "2022-08-04T08:04:49.217Z"
   },
   {
    "duration": 3,
    "start_time": "2022-08-04T08:04:49.228Z"
   },
   {
    "duration": 7757,
    "start_time": "2022-08-04T08:04:53.857Z"
   },
   {
    "duration": 186,
    "start_time": "2022-08-04T08:05:09.059Z"
   },
   {
    "duration": 4,
    "start_time": "2022-08-04T08:05:19.329Z"
   },
   {
    "duration": 3,
    "start_time": "2022-08-04T08:05:22.820Z"
   },
   {
    "duration": 17170,
    "start_time": "2022-08-04T08:05:27.234Z"
   },
   {
    "duration": 158,
    "start_time": "2022-08-04T08:05:49.349Z"
   },
   {
    "duration": 6,
    "start_time": "2022-08-04T08:06:40.425Z"
   },
   {
    "duration": 3,
    "start_time": "2022-08-04T08:07:04.521Z"
   },
   {
    "duration": 1231,
    "start_time": "2022-08-04T08:07:09.317Z"
   },
   {
    "duration": 99,
    "start_time": "2022-08-04T08:09:37.669Z"
   },
   {
    "duration": 86,
    "start_time": "2022-08-04T08:09:41.604Z"
   },
   {
    "duration": 59,
    "start_time": "2022-08-04T08:10:19.891Z"
   },
   {
    "duration": 1086,
    "start_time": "2022-08-04T08:10:44.159Z"
   },
   {
    "duration": 3,
    "start_time": "2022-08-04T08:10:51.458Z"
   },
   {
    "duration": 327,
    "start_time": "2022-08-04T08:10:53.131Z"
   },
   {
    "duration": 62,
    "start_time": "2022-08-04T08:14:44.698Z"
   },
   {
    "duration": 5,
    "start_time": "2022-08-04T08:15:54.988Z"
   },
   {
    "duration": 3,
    "start_time": "2022-08-04T08:15:56.847Z"
   },
   {
    "duration": 17081,
    "start_time": "2022-08-04T08:15:59.922Z"
   },
   {
    "duration": 2030,
    "start_time": "2022-08-04T08:24:09.873Z"
   },
   {
    "duration": 1976,
    "start_time": "2022-08-04T08:24:11.905Z"
   },
   {
    "duration": 132,
    "start_time": "2022-08-04T08:24:13.883Z"
   },
   {
    "duration": 0,
    "start_time": "2022-08-04T08:24:14.017Z"
   },
   {
    "duration": 0,
    "start_time": "2022-08-04T08:24:14.019Z"
   },
   {
    "duration": 0,
    "start_time": "2022-08-04T08:24:14.020Z"
   },
   {
    "duration": 0,
    "start_time": "2022-08-04T08:24:14.021Z"
   },
   {
    "duration": 0,
    "start_time": "2022-08-04T08:24:14.022Z"
   },
   {
    "duration": 0,
    "start_time": "2022-08-04T08:24:14.023Z"
   },
   {
    "duration": 0,
    "start_time": "2022-08-04T08:24:14.024Z"
   },
   {
    "duration": 0,
    "start_time": "2022-08-04T08:24:14.025Z"
   },
   {
    "duration": 0,
    "start_time": "2022-08-04T08:24:14.027Z"
   },
   {
    "duration": 0,
    "start_time": "2022-08-04T08:24:14.028Z"
   },
   {
    "duration": 0,
    "start_time": "2022-08-04T08:24:14.029Z"
   },
   {
    "duration": 0,
    "start_time": "2022-08-04T08:24:14.029Z"
   },
   {
    "duration": 0,
    "start_time": "2022-08-04T08:24:14.030Z"
   },
   {
    "duration": 0,
    "start_time": "2022-08-04T08:24:14.031Z"
   },
   {
    "duration": 0,
    "start_time": "2022-08-04T08:24:14.032Z"
   },
   {
    "duration": 0,
    "start_time": "2022-08-04T08:24:14.033Z"
   },
   {
    "duration": 0,
    "start_time": "2022-08-04T08:24:14.035Z"
   },
   {
    "duration": 0,
    "start_time": "2022-08-04T08:24:14.036Z"
   },
   {
    "duration": 0,
    "start_time": "2022-08-04T08:24:14.037Z"
   },
   {
    "duration": 0,
    "start_time": "2022-08-04T08:24:14.038Z"
   },
   {
    "duration": 0,
    "start_time": "2022-08-04T08:24:14.039Z"
   },
   {
    "duration": 0,
    "start_time": "2022-08-04T08:24:14.040Z"
   },
   {
    "duration": 0,
    "start_time": "2022-08-04T08:24:14.041Z"
   },
   {
    "duration": 0,
    "start_time": "2022-08-04T08:24:14.042Z"
   },
   {
    "duration": 5,
    "start_time": "2022-08-04T08:25:11.401Z"
   },
   {
    "duration": 825,
    "start_time": "2022-08-04T08:25:11.407Z"
   },
   {
    "duration": 581,
    "start_time": "2022-08-04T08:25:12.234Z"
   },
   {
    "duration": 103,
    "start_time": "2022-08-04T08:25:12.816Z"
   },
   {
    "duration": 1058,
    "start_time": "2022-08-04T08:25:12.921Z"
   },
   {
    "duration": 614,
    "start_time": "2022-08-04T08:25:13.980Z"
   },
   {
    "duration": 115,
    "start_time": "2022-08-04T08:25:14.596Z"
   },
   {
    "duration": 55,
    "start_time": "2022-08-04T08:25:14.712Z"
   },
   {
    "duration": 73,
    "start_time": "2022-08-04T08:25:14.769Z"
   },
   {
    "duration": 17,
    "start_time": "2022-08-04T08:25:14.844Z"
   },
   {
    "duration": 245,
    "start_time": "2022-08-04T08:25:14.864Z"
   },
   {
    "duration": 60,
    "start_time": "2022-08-04T08:25:15.111Z"
   },
   {
    "duration": 44,
    "start_time": "2022-08-04T08:25:15.173Z"
   },
   {
    "duration": 277,
    "start_time": "2022-08-04T08:25:15.219Z"
   },
   {
    "duration": 115,
    "start_time": "2022-08-04T08:25:15.498Z"
   },
   {
    "duration": 4,
    "start_time": "2022-08-04T08:25:15.615Z"
   },
   {
    "duration": 86,
    "start_time": "2022-08-04T08:25:27.102Z"
   },
   {
    "duration": 4,
    "start_time": "2022-08-04T08:25:44.458Z"
   },
   {
    "duration": 86,
    "start_time": "2022-08-04T08:25:49.123Z"
   },
   {
    "duration": 87,
    "start_time": "2022-08-04T08:26:01.938Z"
   },
   {
    "duration": 87,
    "start_time": "2022-08-04T08:26:36.117Z"
   },
   {
    "duration": 83,
    "start_time": "2022-08-04T08:26:39.961Z"
   },
   {
    "duration": 4,
    "start_time": "2022-08-04T08:32:17.393Z"
   },
   {
    "duration": 12,
    "start_time": "2022-08-04T08:32:35.934Z"
   },
   {
    "duration": 169,
    "start_time": "2022-08-04T08:32:45.452Z"
   },
   {
    "duration": 4,
    "start_time": "2022-08-04T08:33:26.440Z"
   },
   {
    "duration": 274,
    "start_time": "2022-08-04T08:33:38.231Z"
   },
   {
    "duration": 220,
    "start_time": "2022-08-04T08:34:05.636Z"
   },
   {
    "duration": 254,
    "start_time": "2022-08-04T08:34:14.493Z"
   },
   {
    "duration": 4,
    "start_time": "2022-08-04T08:34:29.577Z"
   },
   {
    "duration": 835,
    "start_time": "2022-08-04T08:34:29.584Z"
   },
   {
    "duration": 595,
    "start_time": "2022-08-04T08:34:30.422Z"
   },
   {
    "duration": 100,
    "start_time": "2022-08-04T08:34:31.019Z"
   },
   {
    "duration": 964,
    "start_time": "2022-08-04T08:34:31.121Z"
   },
   {
    "duration": 622,
    "start_time": "2022-08-04T08:34:32.087Z"
   },
   {
    "duration": 111,
    "start_time": "2022-08-04T08:34:32.710Z"
   },
   {
    "duration": 44,
    "start_time": "2022-08-04T08:34:32.823Z"
   },
   {
    "duration": 83,
    "start_time": "2022-08-04T08:34:32.868Z"
   },
   {
    "duration": 17,
    "start_time": "2022-08-04T08:34:32.953Z"
   },
   {
    "duration": 248,
    "start_time": "2022-08-04T08:34:32.972Z"
   },
   {
    "duration": 63,
    "start_time": "2022-08-04T08:34:33.221Z"
   },
   {
    "duration": 39,
    "start_time": "2022-08-04T08:34:33.286Z"
   },
   {
    "duration": 285,
    "start_time": "2022-08-04T08:34:33.327Z"
   },
   {
    "duration": 107,
    "start_time": "2022-08-04T08:34:33.613Z"
   },
   {
    "duration": 4,
    "start_time": "2022-08-04T08:34:33.721Z"
   },
   {
    "duration": 172,
    "start_time": "2022-08-04T08:34:33.727Z"
   },
   {
    "duration": 4,
    "start_time": "2022-08-04T08:34:33.901Z"
   },
   {
    "duration": 4,
    "start_time": "2022-08-04T08:34:58.257Z"
   },
   {
    "duration": 7885,
    "start_time": "2022-08-04T08:35:01.028Z"
   },
   {
    "duration": 148,
    "start_time": "2022-08-04T08:35:13.427Z"
   },
   {
    "duration": 5373,
    "start_time": "2022-08-04T08:35:22.832Z"
   },
   {
    "duration": 159,
    "start_time": "2022-08-04T08:35:30.354Z"
   },
   {
    "duration": 2247,
    "start_time": "2022-08-04T08:35:57.657Z"
   },
   {
    "duration": 176,
    "start_time": "2022-08-04T08:36:02.528Z"
   },
   {
    "duration": 17260,
    "start_time": "2022-08-04T08:36:11.143Z"
   },
   {
    "duration": 4,
    "start_time": "2022-08-04T08:38:04.292Z"
   },
   {
    "duration": 920,
    "start_time": "2022-08-04T08:38:04.298Z"
   },
   {
    "duration": 676,
    "start_time": "2022-08-04T08:38:05.223Z"
   },
   {
    "duration": 124,
    "start_time": "2022-08-04T08:38:05.902Z"
   },
   {
    "duration": 1109,
    "start_time": "2022-08-04T08:38:06.029Z"
   },
   {
    "duration": 689,
    "start_time": "2022-08-04T08:38:07.141Z"
   },
   {
    "duration": 122,
    "start_time": "2022-08-04T08:38:07.832Z"
   },
   {
    "duration": 64,
    "start_time": "2022-08-04T08:38:07.956Z"
   },
   {
    "duration": 66,
    "start_time": "2022-08-04T08:38:08.023Z"
   },
   {
    "duration": 8,
    "start_time": "2022-08-04T09:13:26.062Z"
   },
   {
    "duration": 6,
    "start_time": "2022-08-04T09:13:33.977Z"
   },
   {
    "duration": 5,
    "start_time": "2022-08-04T09:14:20.875Z"
   },
   {
    "duration": 5,
    "start_time": "2022-08-04T09:14:23.846Z"
   },
   {
    "duration": 5,
    "start_time": "2022-08-04T09:14:26.707Z"
   },
   {
    "duration": 67,
    "start_time": "2022-08-04T09:36:55.740Z"
   },
   {
    "duration": 54,
    "start_time": "2022-08-04T09:37:16.510Z"
   },
   {
    "duration": 68,
    "start_time": "2022-08-04T09:37:38.167Z"
   },
   {
    "duration": 6,
    "start_time": "2022-08-04T09:37:43.656Z"
   },
   {
    "duration": 25,
    "start_time": "2022-08-04T09:37:55.621Z"
   },
   {
    "duration": 254,
    "start_time": "2022-08-04T09:38:14.725Z"
   },
   {
    "duration": 161,
    "start_time": "2022-08-04T09:38:18.351Z"
   },
   {
    "duration": 15,
    "start_time": "2022-08-04T09:38:31.601Z"
   },
   {
    "duration": 68,
    "start_time": "2022-08-04T09:38:52.502Z"
   },
   {
    "duration": 35,
    "start_time": "2022-08-04T09:39:11.321Z"
   },
   {
    "duration": 57,
    "start_time": "2022-08-04T09:39:29.419Z"
   },
   {
    "duration": 10,
    "start_time": "2022-08-04T09:40:27.668Z"
   },
   {
    "duration": 69,
    "start_time": "2022-08-04T09:40:32.555Z"
   },
   {
    "duration": 32,
    "start_time": "2022-08-04T09:40:43.150Z"
   },
   {
    "duration": 45,
    "start_time": "2022-08-04T09:42:25.048Z"
   },
   {
    "duration": 33,
    "start_time": "2022-08-04T09:42:45.005Z"
   },
   {
    "duration": 36,
    "start_time": "2022-08-04T09:42:48.620Z"
   },
   {
    "duration": 4,
    "start_time": "2022-08-04T09:42:53.090Z"
   },
   {
    "duration": 772,
    "start_time": "2022-08-04T09:42:53.096Z"
   },
   {
    "duration": 556,
    "start_time": "2022-08-04T09:42:53.870Z"
   },
   {
    "duration": 100,
    "start_time": "2022-08-04T09:42:54.428Z"
   },
   {
    "duration": 965,
    "start_time": "2022-08-04T09:42:54.530Z"
   },
   {
    "duration": 602,
    "start_time": "2022-08-04T09:42:55.502Z"
   },
   {
    "duration": 109,
    "start_time": "2022-08-04T09:42:56.106Z"
   },
   {
    "duration": 45,
    "start_time": "2022-08-04T09:42:56.216Z"
   },
   {
    "duration": 76,
    "start_time": "2022-08-04T09:42:56.263Z"
   },
   {
    "duration": 16,
    "start_time": "2022-08-04T09:42:56.341Z"
   },
   {
    "duration": 252,
    "start_time": "2022-08-04T09:42:56.360Z"
   },
   {
    "duration": 61,
    "start_time": "2022-08-04T09:42:56.614Z"
   },
   {
    "duration": 38,
    "start_time": "2022-08-04T09:42:58.350Z"
   },
   {
    "duration": 21,
    "start_time": "2022-08-04T09:45:38.318Z"
   },
   {
    "duration": 5,
    "start_time": "2022-08-04T09:45:48.693Z"
   },
   {
    "duration": 834,
    "start_time": "2022-08-04T09:45:48.700Z"
   },
   {
    "duration": 579,
    "start_time": "2022-08-04T09:45:49.536Z"
   },
   {
    "duration": 102,
    "start_time": "2022-08-04T09:45:50.117Z"
   },
   {
    "duration": 947,
    "start_time": "2022-08-04T09:45:50.221Z"
   },
   {
    "duration": 637,
    "start_time": "2022-08-04T09:45:51.169Z"
   },
   {
    "duration": 109,
    "start_time": "2022-08-04T09:45:51.808Z"
   },
   {
    "duration": 39,
    "start_time": "2022-08-04T09:45:51.919Z"
   },
   {
    "duration": 80,
    "start_time": "2022-08-04T09:45:51.960Z"
   },
   {
    "duration": 7,
    "start_time": "2022-08-04T09:45:56.431Z"
   },
   {
    "duration": 5,
    "start_time": "2022-08-04T09:46:15.092Z"
   },
   {
    "duration": 5,
    "start_time": "2022-08-04T09:46:17.375Z"
   },
   {
    "duration": 5,
    "start_time": "2022-08-04T09:48:24.467Z"
   },
   {
    "duration": 10,
    "start_time": "2022-08-04T09:49:17.427Z"
   },
   {
    "duration": 309,
    "start_time": "2022-08-04T09:49:25.161Z"
   },
   {
    "duration": 332,
    "start_time": "2022-08-04T09:50:46.622Z"
   },
   {
    "duration": 60,
    "start_time": "2022-08-04T09:53:03.434Z"
   },
   {
    "duration": 42,
    "start_time": "2022-08-04T09:53:10.649Z"
   },
   {
    "duration": 23,
    "start_time": "2022-08-04T09:53:18.627Z"
   },
   {
    "duration": 88,
    "start_time": "2022-08-04T09:53:24.002Z"
   },
   {
    "duration": 6,
    "start_time": "2022-08-04T09:54:00.422Z"
   },
   {
    "duration": 851,
    "start_time": "2022-08-04T09:54:00.431Z"
   },
   {
    "duration": 611,
    "start_time": "2022-08-04T09:54:01.284Z"
   },
   {
    "duration": 95,
    "start_time": "2022-08-04T09:54:01.897Z"
   },
   {
    "duration": 1078,
    "start_time": "2022-08-04T09:54:02.002Z"
   },
   {
    "duration": 597,
    "start_time": "2022-08-04T09:54:03.082Z"
   },
   {
    "duration": 112,
    "start_time": "2022-08-04T09:54:03.681Z"
   },
   {
    "duration": 38,
    "start_time": "2022-08-04T09:54:03.795Z"
   },
   {
    "duration": 77,
    "start_time": "2022-08-04T09:54:03.835Z"
   },
   {
    "duration": 10,
    "start_time": "2022-08-04T09:54:03.913Z"
   },
   {
    "duration": 51,
    "start_time": "2022-08-04T09:54:03.925Z"
   },
   {
    "duration": 283,
    "start_time": "2022-08-04T09:54:03.977Z"
   },
   {
    "duration": 65,
    "start_time": "2022-08-04T09:54:04.262Z"
   },
   {
    "duration": 39,
    "start_time": "2022-08-04T09:54:04.329Z"
   },
   {
    "duration": 45,
    "start_time": "2022-08-04T09:54:08.998Z"
   },
   {
    "duration": 261,
    "start_time": "2022-08-04T09:54:20.282Z"
   },
   {
    "duration": 101,
    "start_time": "2022-08-04T09:54:25.859Z"
   },
   {
    "duration": 4,
    "start_time": "2022-08-04T09:54:27.247Z"
   },
   {
    "duration": 167,
    "start_time": "2022-08-04T09:54:34.181Z"
   },
   {
    "duration": 4,
    "start_time": "2022-08-04T09:54:40.915Z"
   },
   {
    "duration": 20969,
    "start_time": "2022-08-04T09:54:45.034Z"
   },
   {
    "duration": 159,
    "start_time": "2022-08-04T09:55:09.272Z"
   },
   {
    "duration": 13819,
    "start_time": "2022-08-04T09:55:15.199Z"
   },
   {
    "duration": 170,
    "start_time": "2022-08-04T09:55:33.481Z"
   },
   {
    "duration": 9,
    "start_time": "2022-08-04T09:56:35.613Z"
   },
   {
    "duration": 8,
    "start_time": "2022-08-04T09:56:41.073Z"
   },
   {
    "duration": 12,
    "start_time": "2022-08-04T09:56:58.674Z"
   },
   {
    "duration": 8,
    "start_time": "2022-08-04T09:57:03.753Z"
   },
   {
    "duration": 10,
    "start_time": "2022-08-04T09:57:10.978Z"
   },
   {
    "duration": 42185,
    "start_time": "2022-08-04T10:01:24.919Z"
   },
   {
    "duration": 155,
    "start_time": "2022-08-04T10:02:13.268Z"
   },
   {
    "duration": 20896,
    "start_time": "2022-08-04T10:02:41.008Z"
   },
   {
    "duration": 197,
    "start_time": "2022-08-04T10:03:08.820Z"
   },
   {
    "duration": 134,
    "start_time": "2022-08-04T10:03:30.356Z"
   },
   {
    "duration": 160,
    "start_time": "2022-08-04T10:03:37.190Z"
   },
   {
    "duration": 21460,
    "start_time": "2022-08-04T10:04:25.113Z"
   },
   {
    "duration": 6,
    "start_time": "2022-08-04T10:05:13.260Z"
   },
   {
    "duration": 157,
    "start_time": "2022-08-04T10:05:45.091Z"
   },
   {
    "duration": 21249,
    "start_time": "2022-08-04T10:05:47.158Z"
   },
   {
    "duration": 21154,
    "start_time": "2022-08-04T10:06:22.013Z"
   },
   {
    "duration": 3,
    "start_time": "2022-08-04T10:08:18.140Z"
   },
   {
    "duration": 160,
    "start_time": "2022-08-04T10:08:37.182Z"
   },
   {
    "duration": 3,
    "start_time": "2022-08-04T10:08:55.549Z"
   },
   {
    "duration": 164,
    "start_time": "2022-08-04T10:08:58.120Z"
   },
   {
    "duration": 3,
    "start_time": "2022-08-04T10:10:40.491Z"
   },
   {
    "duration": 8,
    "start_time": "2022-08-04T10:11:03.415Z"
   },
   {
    "duration": 1593,
    "start_time": "2022-08-04T10:11:07.783Z"
   },
   {
    "duration": 847,
    "start_time": "2022-08-04T10:11:09.378Z"
   },
   {
    "duration": 4,
    "start_time": "2022-08-04T10:11:10.227Z"
   },
   {
    "duration": 603,
    "start_time": "2022-08-04T10:11:10.233Z"
   },
   {
    "duration": 105,
    "start_time": "2022-08-04T10:11:10.837Z"
   },
   {
    "duration": 1077,
    "start_time": "2022-08-04T10:11:10.944Z"
   },
   {
    "duration": 669,
    "start_time": "2022-08-04T10:11:12.022Z"
   },
   {
    "duration": 115,
    "start_time": "2022-08-04T10:11:12.693Z"
   },
   {
    "duration": 55,
    "start_time": "2022-08-04T10:11:12.810Z"
   },
   {
    "duration": 76,
    "start_time": "2022-08-04T10:11:12.868Z"
   },
   {
    "duration": 16,
    "start_time": "2022-08-04T10:11:12.946Z"
   },
   {
    "duration": 53,
    "start_time": "2022-08-04T10:11:12.964Z"
   },
   {
    "duration": 235,
    "start_time": "2022-08-04T10:11:13.019Z"
   },
   {
    "duration": 72,
    "start_time": "2022-08-04T10:11:13.256Z"
   },
   {
    "duration": 40,
    "start_time": "2022-08-04T10:11:13.330Z"
   },
   {
    "duration": 42,
    "start_time": "2022-08-04T10:11:13.372Z"
   },
   {
    "duration": 276,
    "start_time": "2022-08-04T10:11:13.417Z"
   },
   {
    "duration": 121,
    "start_time": "2022-08-04T10:11:13.694Z"
   },
   {
    "duration": 5,
    "start_time": "2022-08-04T10:11:13.817Z"
   },
   {
    "duration": 181,
    "start_time": "2022-08-04T10:11:13.824Z"
   },
   {
    "duration": 3,
    "start_time": "2022-08-04T10:11:14.007Z"
   },
   {
    "duration": 21007,
    "start_time": "2022-08-04T10:11:14.012Z"
   },
   {
    "duration": 343,
    "start_time": "2022-08-04T10:11:35.023Z"
   },
   {
    "duration": 128,
    "start_time": "2022-08-04T10:11:35.368Z"
   },
   {
    "duration": 0,
    "start_time": "2022-08-04T10:11:35.499Z"
   },
   {
    "duration": 0,
    "start_time": "2022-08-04T10:11:35.503Z"
   },
   {
    "duration": 0,
    "start_time": "2022-08-04T10:11:35.504Z"
   },
   {
    "duration": 0,
    "start_time": "2022-08-04T10:11:35.505Z"
   },
   {
    "duration": 0,
    "start_time": "2022-08-04T10:11:35.506Z"
   },
   {
    "duration": 0,
    "start_time": "2022-08-04T10:11:35.507Z"
   },
   {
    "duration": 0,
    "start_time": "2022-08-04T10:11:35.508Z"
   },
   {
    "duration": 127533,
    "start_time": "2022-08-04T10:29:05.741Z"
   },
   {
    "duration": 4,
    "start_time": "2022-08-04T10:31:13.276Z"
   },
   {
    "duration": 186,
    "start_time": "2022-08-04T10:32:02.263Z"
   },
   {
    "duration": 4,
    "start_time": "2022-08-04T10:32:21.135Z"
   },
   {
    "duration": 164,
    "start_time": "2022-08-04T10:32:33.343Z"
   },
   {
    "duration": 3,
    "start_time": "2022-08-04T10:32:55.457Z"
   },
   {
    "duration": 177,
    "start_time": "2022-08-04T10:33:01.034Z"
   },
   {
    "duration": 3549,
    "start_time": "2022-08-04T10:39:27.932Z"
   },
   {
    "duration": 127363,
    "start_time": "2022-08-04T10:40:09.362Z"
   },
   {
    "duration": 3724,
    "start_time": "2022-08-04T10:42:22.840Z"
   },
   {
    "duration": 525846,
    "start_time": "2022-08-04T10:47:29.287Z"
   },
   {
    "duration": 45,
    "start_time": "2022-08-04T10:56:15.134Z"
   },
   {
    "duration": 1597,
    "start_time": "2022-08-04T10:59:28.193Z"
   },
   {
    "duration": 1191,
    "start_time": "2022-08-04T10:59:29.793Z"
   },
   {
    "duration": 4,
    "start_time": "2022-08-04T10:59:30.986Z"
   },
   {
    "duration": 615,
    "start_time": "2022-08-04T10:59:30.992Z"
   },
   {
    "duration": 116,
    "start_time": "2022-08-04T10:59:31.609Z"
   },
   {
    "duration": 1105,
    "start_time": "2022-08-04T10:59:31.727Z"
   },
   {
    "duration": 697,
    "start_time": "2022-08-04T10:59:32.833Z"
   },
   {
    "duration": 115,
    "start_time": "2022-08-04T10:59:33.532Z"
   },
   {
    "duration": 66,
    "start_time": "2022-08-04T10:59:33.649Z"
   },
   {
    "duration": 63,
    "start_time": "2022-08-04T10:59:33.719Z"
   },
   {
    "duration": 26,
    "start_time": "2022-08-04T10:59:33.784Z"
   },
   {
    "duration": 36,
    "start_time": "2022-08-04T10:59:33.812Z"
   },
   {
    "duration": 274,
    "start_time": "2022-08-04T10:59:33.850Z"
   },
   {
    "duration": 76,
    "start_time": "2022-08-04T10:59:34.127Z"
   },
   {
    "duration": 46,
    "start_time": "2022-08-04T10:59:34.205Z"
   },
   {
    "duration": 53,
    "start_time": "2022-08-04T10:59:34.253Z"
   },
   {
    "duration": 326,
    "start_time": "2022-08-04T10:59:34.308Z"
   },
   {
    "duration": 130,
    "start_time": "2022-08-04T10:59:34.636Z"
   },
   {
    "duration": 5,
    "start_time": "2022-08-04T10:59:34.768Z"
   },
   {
    "duration": 212,
    "start_time": "2022-08-04T10:59:34.775Z"
   },
   {
    "duration": 5,
    "start_time": "2022-08-04T10:59:34.989Z"
   },
   {
    "duration": 21203,
    "start_time": "2022-08-04T10:59:35.004Z"
   },
   {
    "duration": 304,
    "start_time": "2022-08-04T10:59:56.212Z"
   },
   {
    "duration": 26648,
    "start_time": "2022-08-04T10:59:56.518Z"
   },
   {
    "duration": 36,
    "start_time": "2022-08-04T11:00:45.563Z"
   },
   {
    "duration": 20,
    "start_time": "2022-08-04T11:00:45.603Z"
   },
   {
    "duration": 0,
    "start_time": "2022-08-04T11:00:45.625Z"
   },
   {
    "duration": 0,
    "start_time": "2022-08-04T11:00:45.627Z"
   },
   {
    "duration": 0,
    "start_time": "2022-08-04T11:00:45.628Z"
   },
   {
    "duration": 0,
    "start_time": "2022-08-04T11:00:45.630Z"
   },
   {
    "duration": 0,
    "start_time": "2022-08-04T11:00:45.634Z"
   },
   {
    "duration": 0,
    "start_time": "2022-08-04T11:00:45.636Z"
   },
   {
    "duration": 0,
    "start_time": "2022-08-04T11:00:45.638Z"
   },
   {
    "duration": 0,
    "start_time": "2022-08-04T11:00:45.640Z"
   },
   {
    "duration": 41,
    "start_time": "2022-08-04T11:00:53.000Z"
   },
   {
    "duration": 5,
    "start_time": "2022-08-04T11:01:06.805Z"
   },
   {
    "duration": 792,
    "start_time": "2022-08-04T11:01:06.819Z"
   },
   {
    "duration": 4,
    "start_time": "2022-08-04T11:01:07.613Z"
   },
   {
    "duration": 573,
    "start_time": "2022-08-04T11:01:07.619Z"
   },
   {
    "duration": 100,
    "start_time": "2022-08-04T11:01:08.194Z"
   },
   {
    "duration": 1120,
    "start_time": "2022-08-04T11:01:08.305Z"
   },
   {
    "duration": 676,
    "start_time": "2022-08-04T11:01:09.427Z"
   },
   {
    "duration": 112,
    "start_time": "2022-08-04T11:01:10.105Z"
   },
   {
    "duration": 41,
    "start_time": "2022-08-04T11:01:10.219Z"
   },
   {
    "duration": 82,
    "start_time": "2022-08-04T11:01:10.262Z"
   },
   {
    "duration": 10,
    "start_time": "2022-08-04T11:01:10.346Z"
   },
   {
    "duration": 50,
    "start_time": "2022-08-04T11:01:10.358Z"
   },
   {
    "duration": 253,
    "start_time": "2022-08-04T11:01:10.411Z"
   },
   {
    "duration": 71,
    "start_time": "2022-08-04T11:01:10.666Z"
   },
   {
    "duration": 43,
    "start_time": "2022-08-04T11:01:10.740Z"
   },
   {
    "duration": 47,
    "start_time": "2022-08-04T11:01:10.785Z"
   },
   {
    "duration": 285,
    "start_time": "2022-08-04T11:01:10.834Z"
   },
   {
    "duration": 120,
    "start_time": "2022-08-04T11:01:11.121Z"
   },
   {
    "duration": 5,
    "start_time": "2022-08-04T11:01:11.243Z"
   },
   {
    "duration": 207,
    "start_time": "2022-08-04T11:01:11.250Z"
   },
   {
    "duration": 4,
    "start_time": "2022-08-04T11:01:11.459Z"
   },
   {
    "duration": 21076,
    "start_time": "2022-08-04T11:01:11.465Z"
   },
   {
    "duration": 316,
    "start_time": "2022-08-04T11:01:32.544Z"
   },
   {
    "duration": 140857,
    "start_time": "2022-08-04T11:01:37.831Z"
   },
   {
    "duration": 3808,
    "start_time": "2022-08-04T11:03:58.690Z"
   },
   {
    "duration": 185294,
    "start_time": "2022-08-04T11:04:02.503Z"
   },
   {
    "duration": 3837,
    "start_time": "2022-08-04T11:07:07.802Z"
   },
   {
    "duration": 27778,
    "start_time": "2022-08-04T11:09:26.418Z"
   },
   {
    "duration": 878,
    "start_time": "2022-08-04T11:10:00.558Z"
   },
   {
    "duration": 1837,
    "start_time": "2022-08-04T11:11:30.819Z"
   },
   {
    "duration": 1660,
    "start_time": "2022-08-04T11:11:38.803Z"
   },
   {
    "duration": 1266,
    "start_time": "2022-08-04T11:11:40.465Z"
   },
   {
    "duration": 4,
    "start_time": "2022-08-04T11:11:41.733Z"
   },
   {
    "duration": 594,
    "start_time": "2022-08-04T11:11:41.740Z"
   },
   {
    "duration": 114,
    "start_time": "2022-08-04T11:11:42.336Z"
   },
   {
    "duration": 1107,
    "start_time": "2022-08-04T11:11:42.452Z"
   },
   {
    "duration": 709,
    "start_time": "2022-08-04T11:11:43.560Z"
   },
   {
    "duration": 110,
    "start_time": "2022-08-04T11:11:44.271Z"
   },
   {
    "duration": 72,
    "start_time": "2022-08-04T11:11:44.383Z"
   },
   {
    "duration": 78,
    "start_time": "2022-08-04T11:11:44.459Z"
   },
   {
    "duration": 13,
    "start_time": "2022-08-04T11:11:44.539Z"
   },
   {
    "duration": 51,
    "start_time": "2022-08-04T11:11:44.553Z"
   },
   {
    "duration": 252,
    "start_time": "2022-08-04T11:11:44.606Z"
   },
   {
    "duration": 75,
    "start_time": "2022-08-04T11:11:44.860Z"
   },
   {
    "duration": 45,
    "start_time": "2022-08-04T11:11:44.936Z"
   },
   {
    "duration": 46,
    "start_time": "2022-08-04T11:11:44.984Z"
   },
   {
    "duration": 287,
    "start_time": "2022-08-04T11:11:45.031Z"
   },
   {
    "duration": 125,
    "start_time": "2022-08-04T11:11:45.320Z"
   },
   {
    "duration": 5,
    "start_time": "2022-08-04T11:11:45.447Z"
   },
   {
    "duration": 217,
    "start_time": "2022-08-04T11:11:45.454Z"
   },
   {
    "duration": 4,
    "start_time": "2022-08-04T11:11:45.673Z"
   },
   {
    "duration": 21354,
    "start_time": "2022-08-04T11:11:45.679Z"
   },
   {
    "duration": 343,
    "start_time": "2022-08-04T11:12:07.035Z"
   },
   {
    "duration": 2351,
    "start_time": "2022-08-04T11:12:07.380Z"
   },
   {
    "duration": 245,
    "start_time": "2022-08-04T11:12:09.733Z"
   },
   {
    "duration": 66786,
    "start_time": "2022-08-04T11:12:09.980Z"
   },
   {
    "duration": 211,
    "start_time": "2022-08-04T11:13:16.768Z"
   },
   {
    "duration": 39,
    "start_time": "2022-08-04T11:13:16.985Z"
   },
   {
    "duration": 1528,
    "start_time": "2022-08-04T11:14:16.168Z"
   },
   {
    "duration": 960,
    "start_time": "2022-08-04T11:14:17.698Z"
   },
   {
    "duration": 5,
    "start_time": "2022-08-04T11:14:18.660Z"
   },
   {
    "duration": 667,
    "start_time": "2022-08-04T11:14:18.667Z"
   },
   {
    "duration": 114,
    "start_time": "2022-08-04T11:14:19.337Z"
   },
   {
    "duration": 1098,
    "start_time": "2022-08-04T11:14:19.453Z"
   },
   {
    "duration": 692,
    "start_time": "2022-08-04T11:14:20.552Z"
   },
   {
    "duration": 145,
    "start_time": "2022-08-04T11:14:21.247Z"
   },
   {
    "duration": 70,
    "start_time": "2022-08-04T11:14:21.394Z"
   },
   {
    "duration": 72,
    "start_time": "2022-08-04T11:14:21.465Z"
   },
   {
    "duration": 11,
    "start_time": "2022-08-04T11:14:21.539Z"
   },
   {
    "duration": 36,
    "start_time": "2022-08-04T11:14:21.552Z"
   },
   {
    "duration": 262,
    "start_time": "2022-08-04T11:14:21.590Z"
   },
   {
    "duration": 67,
    "start_time": "2022-08-04T11:14:21.855Z"
   },
   {
    "duration": 43,
    "start_time": "2022-08-04T11:14:21.924Z"
   },
   {
    "duration": 46,
    "start_time": "2022-08-04T11:14:21.969Z"
   },
   {
    "duration": 289,
    "start_time": "2022-08-04T11:14:22.018Z"
   },
   {
    "duration": 138,
    "start_time": "2022-08-04T11:14:22.309Z"
   },
   {
    "duration": 5,
    "start_time": "2022-08-04T11:14:22.449Z"
   },
   {
    "duration": 217,
    "start_time": "2022-08-04T11:14:22.457Z"
   },
   {
    "duration": 4,
    "start_time": "2022-08-04T11:14:22.677Z"
   },
   {
    "duration": 21231,
    "start_time": "2022-08-04T11:14:22.684Z"
   },
   {
    "duration": 271,
    "start_time": "2022-08-04T11:14:44.002Z"
   },
   {
    "duration": 133798,
    "start_time": "2022-08-04T11:14:44.275Z"
   },
   {
    "duration": 3924,
    "start_time": "2022-08-04T11:16:58.075Z"
   },
   {
    "duration": 26870,
    "start_time": "2022-08-04T11:17:02.000Z"
   },
   {
    "duration": 900,
    "start_time": "2022-08-04T11:17:28.872Z"
   },
   {
    "duration": 53,
    "start_time": "2022-08-04T11:17:29.774Z"
   },
   {
    "duration": 384023,
    "start_time": "2022-08-04T11:17:29.829Z"
   },
   {
    "duration": 1444,
    "start_time": "2022-08-04T11:23:53.854Z"
   },
   {
    "duration": 92416,
    "start_time": "2022-08-04T11:23:55.303Z"
   },
   {
    "duration": 710,
    "start_time": "2022-08-04T11:25:27.723Z"
   },
   {
    "duration": 80,
    "start_time": "2022-08-04T11:25:28.435Z"
   },
   {
    "duration": 38680,
    "start_time": "2022-08-04T11:25:28.520Z"
   },
   {
    "duration": 864,
    "start_time": "2022-08-04T11:27:51.122Z"
   },
   {
    "duration": 36,
    "start_time": "2022-08-04T11:34:32.711Z"
   },
   {
    "duration": 43,
    "start_time": "2022-08-04T11:35:06.173Z"
   },
   {
    "duration": 391396,
    "start_time": "2022-08-04T11:35:09.287Z"
   },
   {
    "duration": 17667,
    "start_time": "2022-08-04T11:46:47.882Z"
   },
   {
    "duration": 93741,
    "start_time": "2022-08-04T11:47:10.941Z"
   },
   {
    "duration": 165469,
    "start_time": "2022-08-04T11:48:49.825Z"
   },
   {
    "duration": 15531,
    "start_time": "2022-08-04T11:51:45.299Z"
   },
   {
    "duration": 129189,
    "start_time": "2022-08-04T11:52:03.846Z"
   },
   {
    "duration": 1538,
    "start_time": "2022-08-04T11:58:11.828Z"
   },
   {
    "duration": 1275,
    "start_time": "2022-08-04T11:58:13.369Z"
   },
   {
    "duration": 4,
    "start_time": "2022-08-04T11:58:14.648Z"
   },
   {
    "duration": 677,
    "start_time": "2022-08-04T11:58:14.654Z"
   },
   {
    "duration": 111,
    "start_time": "2022-08-04T11:58:15.333Z"
   },
   {
    "duration": 1127,
    "start_time": "2022-08-04T11:58:15.445Z"
   },
   {
    "duration": 718,
    "start_time": "2022-08-04T11:58:16.575Z"
   },
   {
    "duration": 122,
    "start_time": "2022-08-04T11:58:17.294Z"
   },
   {
    "duration": 59,
    "start_time": "2022-08-04T11:58:17.419Z"
   },
   {
    "duration": 88,
    "start_time": "2022-08-04T11:58:17.480Z"
   },
   {
    "duration": 12,
    "start_time": "2022-08-04T11:58:17.569Z"
   },
   {
    "duration": 44,
    "start_time": "2022-08-04T11:58:17.583Z"
   },
   {
    "duration": 254,
    "start_time": "2022-08-04T11:58:17.629Z"
   },
   {
    "duration": 70,
    "start_time": "2022-08-04T11:58:17.887Z"
   },
   {
    "duration": 57,
    "start_time": "2022-08-04T11:58:17.958Z"
   },
   {
    "duration": 39,
    "start_time": "2022-08-04T11:58:18.017Z"
   },
   {
    "duration": 308,
    "start_time": "2022-08-04T11:58:18.058Z"
   },
   {
    "duration": 131,
    "start_time": "2022-08-04T11:58:18.367Z"
   },
   {
    "duration": 16,
    "start_time": "2022-08-04T11:58:18.500Z"
   },
   {
    "duration": 194,
    "start_time": "2022-08-04T11:58:18.518Z"
   },
   {
    "duration": 5,
    "start_time": "2022-08-04T11:58:18.714Z"
   },
   {
    "duration": 21617,
    "start_time": "2022-08-04T11:58:18.723Z"
   },
   {
    "duration": 285,
    "start_time": "2022-08-04T11:58:40.405Z"
   },
   {
    "duration": 138625,
    "start_time": "2022-08-04T11:58:40.692Z"
   },
   {
    "duration": 4016,
    "start_time": "2022-08-04T12:00:59.319Z"
   },
   {
    "duration": 27504,
    "start_time": "2022-08-04T12:01:03.337Z"
   },
   {
    "duration": 875,
    "start_time": "2022-08-04T12:01:30.844Z"
   },
   {
    "duration": 40,
    "start_time": "2022-08-04T12:01:31.720Z"
   },
   {
    "duration": 190853,
    "start_time": "2022-08-04T12:01:31.762Z"
   },
   {
    "duration": 182,
    "start_time": "2022-08-04T12:04:42.618Z"
   },
   {
    "duration": 94919,
    "start_time": "2022-08-04T12:04:42.802Z"
   },
   {
    "duration": 796,
    "start_time": "2022-08-04T12:06:17.723Z"
   },
   {
    "duration": 5,
    "start_time": "2022-08-04T12:06:18.521Z"
   },
   {
    "duration": 24,
    "start_time": "2022-08-04T12:06:18.529Z"
   },
   {
    "duration": 591,
    "start_time": "2022-08-04T12:06:50.731Z"
   },
   {
    "duration": 310524,
    "start_time": "2022-08-04T12:07:28.585Z"
   },
   {
    "duration": 1154,
    "start_time": "2022-08-04T12:13:44.825Z"
   },
   {
    "duration": 343519,
    "start_time": "2022-08-04T12:14:30.327Z"
   },
   {
    "duration": 1246,
    "start_time": "2022-08-04T12:20:23.473Z"
   },
   {
    "duration": 290534,
    "start_time": "2022-08-04T12:23:37.196Z"
   },
   {
    "duration": 1060,
    "start_time": "2022-08-04T12:28:49.875Z"
   },
   {
    "duration": 7261,
    "start_time": "2022-08-04T12:34:50.121Z"
   },
   {
    "duration": 391437,
    "start_time": "2022-08-04T12:35:00.474Z"
   },
   {
    "duration": 3090,
    "start_time": "2022-08-04T12:45:33.943Z"
   },
   {
    "duration": 41708,
    "start_time": "2022-08-04T13:18:07.895Z"
   },
   {
    "duration": 1976,
    "start_time": "2022-08-04T13:19:14.435Z"
   },
   {
    "duration": 28061,
    "start_time": "2022-08-04T13:19:36.148Z"
   },
   {
    "duration": 2019,
    "start_time": "2022-08-04T13:20:10.702Z"
   },
   {
    "duration": 24457,
    "start_time": "2022-08-04T13:20:22.348Z"
   },
   {
    "duration": 1978,
    "start_time": "2022-08-04T13:20:51.040Z"
   },
   {
    "duration": 29992,
    "start_time": "2022-08-04T13:21:09.319Z"
   },
   {
    "duration": 1975,
    "start_time": "2022-08-04T13:21:49.055Z"
   },
   {
    "duration": 68790,
    "start_time": "2022-08-04T13:21:58.629Z"
   },
   {
    "duration": 9513,
    "start_time": "2022-08-04T13:23:12.000Z"
   },
   {
    "duration": 69713,
    "start_time": "2022-08-04T13:24:25.405Z"
   },
   {
    "duration": 8831,
    "start_time": "2022-08-04T13:25:57.891Z"
   },
   {
    "duration": 68801,
    "start_time": "2022-08-04T13:26:38.718Z"
   },
   {
    "duration": 8913,
    "start_time": "2022-08-04T13:30:19.335Z"
   },
   {
    "duration": 44292,
    "start_time": "2022-08-04T13:31:57.621Z"
   },
   {
    "duration": 5145,
    "start_time": "2022-08-04T13:32:51.088Z"
   },
   {
    "duration": 56852,
    "start_time": "2022-08-04T13:33:20.466Z"
   },
   {
    "duration": 5999,
    "start_time": "2022-08-04T13:34:42.142Z"
   },
   {
    "duration": 6046,
    "start_time": "2022-08-04T13:36:00.369Z"
   },
   {
    "duration": 5,
    "start_time": "2022-08-04T13:36:06.418Z"
   },
   {
    "duration": 9,
    "start_time": "2022-08-04T13:42:45.138Z"
   },
   {
    "duration": 10,
    "start_time": "2022-08-04T13:42:48.348Z"
   },
   {
    "duration": 5,
    "start_time": "2022-08-04T13:42:51.669Z"
   },
   {
    "duration": 49510,
    "start_time": "2022-08-04T13:43:22.501Z"
   },
   {
    "duration": 6785,
    "start_time": "2022-08-04T13:44:20.220Z"
   },
   {
    "duration": 61213,
    "start_time": "2022-08-04T13:55:10.762Z"
   },
   {
    "duration": 73529,
    "start_time": "2022-08-04T13:56:23.484Z"
   },
   {
    "duration": 11,
    "start_time": "2022-08-04T13:58:26.629Z"
   },
   {
    "duration": 622,
    "start_time": "2022-08-04T13:58:34.500Z"
   },
   {
    "duration": 208753,
    "start_time": "2022-08-04T13:58:56.719Z"
   },
   {
    "duration": 43,
    "start_time": "2022-08-04T14:02:25.474Z"
   },
   {
    "duration": 10,
    "start_time": "2022-08-04T14:05:59.830Z"
   },
   {
    "duration": 30,
    "start_time": "2022-08-04T14:07:40.707Z"
   },
   {
    "duration": 979,
    "start_time": "2022-08-04T14:08:35.881Z"
   },
   {
    "duration": 981,
    "start_time": "2022-08-04T14:08:43.828Z"
   },
   {
    "duration": 53,
    "start_time": "2022-08-04T14:08:57.557Z"
   },
   {
    "duration": 1877,
    "start_time": "2022-08-04T14:09:04.955Z"
   },
   {
    "duration": 1826,
    "start_time": "2022-08-04T14:09:15.157Z"
   },
   {
    "duration": 6,
    "start_time": "2022-08-04T14:09:43.425Z"
   },
   {
    "duration": 5,
    "start_time": "2022-08-04T14:09:52.149Z"
   },
   {
    "duration": 6,
    "start_time": "2022-08-04T14:10:05.692Z"
   },
   {
    "duration": 5,
    "start_time": "2022-08-04T14:10:14.375Z"
   },
   {
    "duration": 5,
    "start_time": "2022-08-04T14:10:19.835Z"
   },
   {
    "duration": 29,
    "start_time": "2022-08-04T14:11:17.935Z"
   },
   {
    "duration": 818,
    "start_time": "2022-08-04T14:11:57.274Z"
   },
   {
    "duration": 42,
    "start_time": "2022-08-04T14:12:07.790Z"
   },
   {
    "duration": 56,
    "start_time": "2022-08-04T14:14:05.271Z"
   },
   {
    "duration": 1870,
    "start_time": "2022-08-04T14:14:09.485Z"
   },
   {
    "duration": 90,
    "start_time": "2022-08-04T14:14:26.545Z"
   },
   {
    "duration": 1682,
    "start_time": "2022-08-04T14:20:29.591Z"
   },
   {
    "duration": 0,
    "start_time": "2022-08-04T14:20:31.276Z"
   },
   {
    "duration": 0,
    "start_time": "2022-08-04T14:20:31.277Z"
   },
   {
    "duration": 0,
    "start_time": "2022-08-04T14:20:31.278Z"
   },
   {
    "duration": 0,
    "start_time": "2022-08-04T14:20:31.280Z"
   },
   {
    "duration": 0,
    "start_time": "2022-08-04T14:20:31.282Z"
   },
   {
    "duration": 0,
    "start_time": "2022-08-04T14:20:31.283Z"
   },
   {
    "duration": 0,
    "start_time": "2022-08-04T14:20:31.284Z"
   },
   {
    "duration": 0,
    "start_time": "2022-08-04T14:20:31.286Z"
   },
   {
    "duration": 0,
    "start_time": "2022-08-04T14:20:31.287Z"
   },
   {
    "duration": 0,
    "start_time": "2022-08-04T14:20:31.302Z"
   },
   {
    "duration": 0,
    "start_time": "2022-08-04T14:20:31.304Z"
   },
   {
    "duration": 0,
    "start_time": "2022-08-04T14:20:31.305Z"
   },
   {
    "duration": 0,
    "start_time": "2022-08-04T14:20:31.307Z"
   },
   {
    "duration": 0,
    "start_time": "2022-08-04T14:20:31.309Z"
   },
   {
    "duration": 0,
    "start_time": "2022-08-04T14:20:31.310Z"
   },
   {
    "duration": 0,
    "start_time": "2022-08-04T14:20:31.312Z"
   },
   {
    "duration": 0,
    "start_time": "2022-08-04T14:20:31.313Z"
   },
   {
    "duration": 0,
    "start_time": "2022-08-04T14:20:31.315Z"
   },
   {
    "duration": 0,
    "start_time": "2022-08-04T14:20:31.316Z"
   },
   {
    "duration": 0,
    "start_time": "2022-08-04T14:20:31.317Z"
   },
   {
    "duration": 0,
    "start_time": "2022-08-04T14:20:31.320Z"
   },
   {
    "duration": 0,
    "start_time": "2022-08-04T14:20:31.322Z"
   },
   {
    "duration": 0,
    "start_time": "2022-08-04T14:20:31.324Z"
   },
   {
    "duration": 0,
    "start_time": "2022-08-04T14:20:31.326Z"
   },
   {
    "duration": 1,
    "start_time": "2022-08-04T14:20:31.327Z"
   },
   {
    "duration": 0,
    "start_time": "2022-08-04T14:20:31.329Z"
   },
   {
    "duration": 0,
    "start_time": "2022-08-04T14:20:31.331Z"
   },
   {
    "duration": 1,
    "start_time": "2022-08-04T14:20:31.332Z"
   },
   {
    "duration": 0,
    "start_time": "2022-08-04T14:20:31.334Z"
   },
   {
    "duration": 0,
    "start_time": "2022-08-04T14:20:31.335Z"
   },
   {
    "duration": 0,
    "start_time": "2022-08-04T14:20:31.337Z"
   },
   {
    "duration": 0,
    "start_time": "2022-08-04T14:20:31.339Z"
   },
   {
    "duration": 1725,
    "start_time": "2022-08-04T14:21:28.939Z"
   },
   {
    "duration": 915,
    "start_time": "2022-08-04T14:21:30.702Z"
   },
   {
    "duration": 4,
    "start_time": "2022-08-04T14:21:31.619Z"
   },
   {
    "duration": 627,
    "start_time": "2022-08-04T14:21:31.625Z"
   },
   {
    "duration": 119,
    "start_time": "2022-08-04T14:21:32.254Z"
   },
   {
    "duration": 1092,
    "start_time": "2022-08-04T14:21:32.374Z"
   },
   {
    "duration": 694,
    "start_time": "2022-08-04T14:21:33.468Z"
   },
   {
    "duration": 110,
    "start_time": "2022-08-04T14:21:34.164Z"
   },
   {
    "duration": 67,
    "start_time": "2022-08-04T14:21:34.276Z"
   },
   {
    "duration": 74,
    "start_time": "2022-08-04T14:21:34.347Z"
   },
   {
    "duration": 13,
    "start_time": "2022-08-04T14:21:34.423Z"
   },
   {
    "duration": 59,
    "start_time": "2022-08-04T14:21:34.438Z"
   },
   {
    "duration": 297,
    "start_time": "2022-08-04T14:21:34.499Z"
   },
   {
    "duration": 77,
    "start_time": "2022-08-04T14:21:34.798Z"
   },
   {
    "duration": 106,
    "start_time": "2022-08-04T14:21:34.877Z"
   },
   {
    "duration": 50,
    "start_time": "2022-08-04T14:21:34.984Z"
   },
   {
    "duration": 41,
    "start_time": "2022-08-04T14:21:35.036Z"
   },
   {
    "duration": 307,
    "start_time": "2022-08-04T14:21:35.079Z"
   },
   {
    "duration": 147,
    "start_time": "2022-08-04T14:21:35.388Z"
   },
   {
    "duration": 6,
    "start_time": "2022-08-04T14:21:35.537Z"
   },
   {
    "duration": 207,
    "start_time": "2022-08-04T14:21:35.545Z"
   },
   {
    "duration": 3,
    "start_time": "2022-08-04T14:21:35.754Z"
   },
   {
    "duration": 1029,
    "start_time": "2022-08-04T14:21:35.759Z"
   },
   {
    "duration": 231,
    "start_time": "2022-08-04T14:21:36.790Z"
   },
   {
    "duration": 712,
    "start_time": "2022-08-04T14:21:37.023Z"
   },
   {
    "duration": 221,
    "start_time": "2022-08-04T14:21:37.738Z"
   },
   {
    "duration": 722,
    "start_time": "2022-08-04T14:21:37.961Z"
   },
   {
    "duration": 205,
    "start_time": "2022-08-04T14:21:38.688Z"
   },
   {
    "duration": 46,
    "start_time": "2022-08-04T14:21:38.895Z"
   },
   {
    "duration": 1437,
    "start_time": "2022-08-04T14:22:51.963Z"
   },
   {
    "duration": 877,
    "start_time": "2022-08-04T14:22:53.403Z"
   },
   {
    "duration": 3,
    "start_time": "2022-08-04T14:22:54.282Z"
   },
   {
    "duration": 645,
    "start_time": "2022-08-04T14:22:54.288Z"
   },
   {
    "duration": 108,
    "start_time": "2022-08-04T14:22:54.934Z"
   },
   {
    "duration": 1071,
    "start_time": "2022-08-04T14:22:55.044Z"
   },
   {
    "duration": 681,
    "start_time": "2022-08-04T14:22:56.117Z"
   },
   {
    "duration": 108,
    "start_time": "2022-08-04T14:22:56.800Z"
   },
   {
    "duration": 59,
    "start_time": "2022-08-04T14:22:56.909Z"
   },
   {
    "duration": 76,
    "start_time": "2022-08-04T14:22:56.971Z"
   },
   {
    "duration": 12,
    "start_time": "2022-08-04T14:22:57.049Z"
   },
   {
    "duration": 51,
    "start_time": "2022-08-04T14:22:57.063Z"
   },
   {
    "duration": 247,
    "start_time": "2022-08-04T14:22:57.115Z"
   },
   {
    "duration": 74,
    "start_time": "2022-08-04T14:22:57.364Z"
   },
   {
    "duration": 4,
    "start_time": "2022-08-04T14:22:57.440Z"
   },
   {
    "duration": 60,
    "start_time": "2022-08-04T14:22:57.447Z"
   },
   {
    "duration": 34,
    "start_time": "2022-08-04T14:22:57.509Z"
   },
   {
    "duration": 298,
    "start_time": "2022-08-04T14:22:57.545Z"
   },
   {
    "duration": 113,
    "start_time": "2022-08-04T14:22:57.845Z"
   },
   {
    "duration": 4,
    "start_time": "2022-08-04T14:22:57.960Z"
   },
   {
    "duration": 203,
    "start_time": "2022-08-04T14:22:57.965Z"
   },
   {
    "duration": 4,
    "start_time": "2022-08-04T14:22:58.170Z"
   },
   {
    "duration": 21529,
    "start_time": "2022-08-04T14:22:58.176Z"
   },
   {
    "duration": 274,
    "start_time": "2022-08-04T14:23:19.707Z"
   },
   {
    "duration": 3549,
    "start_time": "2022-08-04T14:23:19.983Z"
   },
   {
    "duration": 210,
    "start_time": "2022-08-04T14:23:23.534Z"
   },
   {
    "duration": 26989,
    "start_time": "2022-08-04T14:23:23.746Z"
   },
   {
    "duration": 931,
    "start_time": "2022-08-04T14:23:50.739Z"
   },
   {
    "duration": 45,
    "start_time": "2022-08-04T14:23:51.672Z"
   },
   {
    "duration": 78804,
    "start_time": "2022-08-04T14:23:51.719Z"
   },
   {
    "duration": 0,
    "start_time": "2022-08-04T14:25:10.525Z"
   },
   {
    "duration": 0,
    "start_time": "2022-08-04T14:25:10.526Z"
   },
   {
    "duration": 0,
    "start_time": "2022-08-04T14:25:10.527Z"
   },
   {
    "duration": 0,
    "start_time": "2022-08-04T14:25:10.531Z"
   },
   {
    "duration": 0,
    "start_time": "2022-08-04T14:25:10.532Z"
   },
   {
    "duration": 6,
    "start_time": "2022-08-04T14:25:43.045Z"
   },
   {
    "duration": 22,
    "start_time": "2022-08-04T14:25:44.838Z"
   },
   {
    "duration": 1511,
    "start_time": "2022-08-04T14:25:50.890Z"
   },
   {
    "duration": 900,
    "start_time": "2022-08-04T14:25:52.403Z"
   },
   {
    "duration": 4,
    "start_time": "2022-08-04T14:25:53.305Z"
   },
   {
    "duration": 685,
    "start_time": "2022-08-04T14:25:53.311Z"
   },
   {
    "duration": 105,
    "start_time": "2022-08-04T14:25:53.998Z"
   },
   {
    "duration": 1055,
    "start_time": "2022-08-04T14:25:54.105Z"
   },
   {
    "duration": 670,
    "start_time": "2022-08-04T14:25:55.162Z"
   },
   {
    "duration": 107,
    "start_time": "2022-08-04T14:25:55.833Z"
   },
   {
    "duration": 71,
    "start_time": "2022-08-04T14:25:55.942Z"
   },
   {
    "duration": 63,
    "start_time": "2022-08-04T14:25:56.016Z"
   },
   {
    "duration": 22,
    "start_time": "2022-08-04T14:25:56.081Z"
   },
   {
    "duration": 36,
    "start_time": "2022-08-04T14:25:56.105Z"
   },
   {
    "duration": 256,
    "start_time": "2022-08-04T14:25:56.143Z"
   },
   {
    "duration": 66,
    "start_time": "2022-08-04T14:25:56.401Z"
   },
   {
    "duration": 6,
    "start_time": "2022-08-04T14:25:56.469Z"
   },
   {
    "duration": 57,
    "start_time": "2022-08-04T14:25:56.476Z"
   },
   {
    "duration": 31,
    "start_time": "2022-08-04T14:25:56.535Z"
   },
   {
    "duration": 285,
    "start_time": "2022-08-04T14:25:56.567Z"
   },
   {
    "duration": 119,
    "start_time": "2022-08-04T14:25:56.854Z"
   },
   {
    "duration": 4,
    "start_time": "2022-08-04T14:25:56.975Z"
   },
   {
    "duration": 206,
    "start_time": "2022-08-04T14:25:56.981Z"
   },
   {
    "duration": 4,
    "start_time": "2022-08-04T14:25:57.189Z"
   },
   {
    "duration": 20722,
    "start_time": "2022-08-04T14:25:57.194Z"
   },
   {
    "duration": 364,
    "start_time": "2022-08-04T14:26:17.917Z"
   },
   {
    "duration": 134215,
    "start_time": "2022-08-04T14:26:18.283Z"
   },
   {
    "duration": 3744,
    "start_time": "2022-08-04T14:28:32.500Z"
   },
   {
    "duration": 27584,
    "start_time": "2022-08-04T14:28:36.246Z"
   },
   {
    "duration": 870,
    "start_time": "2022-08-04T14:29:03.833Z"
   },
   {
    "duration": 39,
    "start_time": "2022-08-04T14:29:04.705Z"
   },
   {
    "duration": 281196,
    "start_time": "2022-08-04T14:29:04.746Z"
   },
   {
    "duration": 1115,
    "start_time": "2022-08-04T14:33:45.944Z"
   },
   {
    "duration": 54850,
    "start_time": "2022-08-04T14:33:47.060Z"
   },
   {
    "duration": 4937,
    "start_time": "2022-08-04T14:34:41.912Z"
   },
   {
    "duration": 1476,
    "start_time": "2022-08-04T14:37:57.421Z"
   },
   {
    "duration": 953,
    "start_time": "2022-08-04T14:37:58.900Z"
   },
   {
    "duration": 3,
    "start_time": "2022-08-04T14:37:59.857Z"
   },
   {
    "duration": 648,
    "start_time": "2022-08-04T14:37:59.862Z"
   },
   {
    "duration": 116,
    "start_time": "2022-08-04T14:38:00.511Z"
   },
   {
    "duration": 1108,
    "start_time": "2022-08-04T14:38:00.629Z"
   },
   {
    "duration": 672,
    "start_time": "2022-08-04T14:38:01.739Z"
   },
   {
    "duration": 119,
    "start_time": "2022-08-04T14:38:02.413Z"
   },
   {
    "duration": 58,
    "start_time": "2022-08-04T14:38:02.534Z"
   },
   {
    "duration": 63,
    "start_time": "2022-08-04T14:38:02.602Z"
   },
   {
    "duration": 12,
    "start_time": "2022-08-04T14:38:02.666Z"
   },
   {
    "duration": 49,
    "start_time": "2022-08-04T14:38:02.680Z"
   },
   {
    "duration": 250,
    "start_time": "2022-08-04T14:38:02.733Z"
   },
   {
    "duration": 75,
    "start_time": "2022-08-04T14:38:02.985Z"
   },
   {
    "duration": 48,
    "start_time": "2022-08-04T14:38:03.062Z"
   },
   {
    "duration": 31,
    "start_time": "2022-08-04T14:38:03.111Z"
   },
   {
    "duration": 283,
    "start_time": "2022-08-04T14:38:03.143Z"
   },
   {
    "duration": 113,
    "start_time": "2022-08-04T14:38:03.427Z"
   },
   {
    "duration": 4,
    "start_time": "2022-08-04T14:38:03.542Z"
   },
   {
    "duration": 192,
    "start_time": "2022-08-04T14:38:03.549Z"
   },
   {
    "duration": 4,
    "start_time": "2022-08-04T14:38:03.743Z"
   },
   {
    "duration": 21371,
    "start_time": "2022-08-04T14:38:03.749Z"
   },
   {
    "duration": 354,
    "start_time": "2022-08-04T14:38:25.124Z"
   },
   {
    "duration": 134855,
    "start_time": "2022-08-04T14:38:25.480Z"
   },
   {
    "duration": 3668,
    "start_time": "2022-08-04T14:40:40.336Z"
   },
   {
    "duration": 27389,
    "start_time": "2022-08-04T14:40:44.006Z"
   },
   {
    "duration": 912,
    "start_time": "2022-08-04T14:41:11.397Z"
   },
   {
    "duration": 43,
    "start_time": "2022-08-04T14:41:12.311Z"
   },
   {
    "duration": 284393,
    "start_time": "2022-08-04T14:41:12.356Z"
   },
   {
    "duration": 1091,
    "start_time": "2022-08-04T14:45:56.751Z"
   },
   {
    "duration": 59759,
    "start_time": "2022-08-04T14:45:57.844Z"
   },
   {
    "duration": 5234,
    "start_time": "2022-08-04T14:46:57.605Z"
   },
   {
    "duration": 7137,
    "start_time": "2022-08-04T14:48:28.829Z"
   },
   {
    "duration": 1574,
    "start_time": "2022-08-04T14:48:42.494Z"
   },
   {
    "duration": 5273,
    "start_time": "2022-08-04T14:48:56.337Z"
   },
   {
    "duration": 1084,
    "start_time": "2022-08-04T14:49:10.943Z"
   },
   {
    "duration": 189,
    "start_time": "2022-08-04T14:49:34.548Z"
   },
   {
    "duration": 134,
    "start_time": "2022-08-04T14:51:53.922Z"
   },
   {
    "duration": 992,
    "start_time": "2022-08-04T14:52:00.795Z"
   },
   {
    "duration": 1419,
    "start_time": "2022-08-04T14:53:33.343Z"
   },
   {
    "duration": 4,
    "start_time": "2022-08-04T14:53:40.190Z"
   },
   {
    "duration": 84,
    "start_time": "2022-08-04T14:53:45.003Z"
   },
   {
    "duration": 3,
    "start_time": "2022-08-04T15:00:01.232Z"
   },
   {
    "duration": 2,
    "start_time": "2022-08-04T15:00:11.741Z"
   },
   {
    "duration": 4,
    "start_time": "2022-08-04T15:00:16.174Z"
   },
   {
    "duration": 4,
    "start_time": "2022-08-04T15:00:19.136Z"
   },
   {
    "duration": 189,
    "start_time": "2022-08-04T15:01:06.642Z"
   },
   {
    "duration": 68,
    "start_time": "2022-08-04T15:01:30.342Z"
   },
   {
    "duration": 4,
    "start_time": "2022-08-04T15:01:34.002Z"
   },
   {
    "duration": 63,
    "start_time": "2022-08-04T15:01:41.076Z"
   },
   {
    "duration": 1852,
    "start_time": "2022-08-04T15:03:28.494Z"
   },
   {
    "duration": 196,
    "start_time": "2022-08-04T15:03:39.374Z"
   },
   {
    "duration": 17,
    "start_time": "2022-08-04T15:07:47.523Z"
   },
   {
    "duration": 11,
    "start_time": "2022-08-04T15:08:13.802Z"
   },
   {
    "duration": 5,
    "start_time": "2022-08-04T15:08:23.670Z"
   },
   {
    "duration": 5,
    "start_time": "2022-08-04T15:08:40.287Z"
   },
   {
    "duration": 5,
    "start_time": "2022-08-04T15:09:10.092Z"
   },
   {
    "duration": 81,
    "start_time": "2022-08-04T15:09:16.447Z"
   },
   {
    "duration": 5,
    "start_time": "2022-08-04T15:09:50.108Z"
   },
   {
    "duration": 9,
    "start_time": "2022-08-04T15:09:52.869Z"
   },
   {
    "duration": 14677,
    "start_time": "2022-08-04T15:10:47.364Z"
   },
   {
    "duration": 3,
    "start_time": "2022-08-04T15:11:09.824Z"
   },
   {
    "duration": 29676,
    "start_time": "2022-08-04T15:12:00.678Z"
   },
   {
    "duration": 3,
    "start_time": "2022-08-04T15:13:00.073Z"
   },
   {
    "duration": 29065,
    "start_time": "2022-08-04T15:13:16.270Z"
   },
   {
    "duration": 4,
    "start_time": "2022-08-04T15:13:45.337Z"
   },
   {
    "duration": 10,
    "start_time": "2022-08-04T15:13:50.103Z"
   },
   {
    "duration": 185,
    "start_time": "2022-08-04T15:14:06.633Z"
   },
   {
    "duration": 15,
    "start_time": "2022-08-04T15:14:24.427Z"
   },
   {
    "duration": 29463,
    "start_time": "2022-08-04T15:14:31.052Z"
   },
   {
    "duration": 11,
    "start_time": "2022-08-04T15:15:04.740Z"
   },
   {
    "duration": 161143,
    "start_time": "2022-08-04T15:17:39.481Z"
   },
   {
    "duration": 5,
    "start_time": "2022-08-04T15:20:31.764Z"
   },
   {
    "duration": 162969,
    "start_time": "2022-08-04T15:20:52.245Z"
   },
   {
    "duration": 11,
    "start_time": "2022-08-04T15:23:35.216Z"
   },
   {
    "duration": 1486,
    "start_time": "2022-08-05T17:04:15.973Z"
   },
   {
    "duration": 1047,
    "start_time": "2022-08-05T17:04:17.461Z"
   },
   {
    "duration": 4,
    "start_time": "2022-08-05T17:04:18.509Z"
   },
   {
    "duration": 624,
    "start_time": "2022-08-05T17:04:18.515Z"
   },
   {
    "duration": 84,
    "start_time": "2022-08-05T17:04:19.141Z"
   },
   {
    "duration": 954,
    "start_time": "2022-08-05T17:04:19.227Z"
   },
   {
    "duration": 608,
    "start_time": "2022-08-05T17:04:20.183Z"
   },
   {
    "duration": 96,
    "start_time": "2022-08-05T17:04:20.793Z"
   },
   {
    "duration": 58,
    "start_time": "2022-08-05T17:04:20.891Z"
   },
   {
    "duration": 55,
    "start_time": "2022-08-05T17:04:20.952Z"
   },
   {
    "duration": 10,
    "start_time": "2022-08-05T17:04:21.008Z"
   },
   {
    "duration": 47,
    "start_time": "2022-08-05T17:04:21.020Z"
   },
   {
    "duration": 262,
    "start_time": "2022-08-05T17:04:21.069Z"
   },
   {
    "duration": 57,
    "start_time": "2022-08-05T17:04:21.332Z"
   },
   {
    "duration": 36,
    "start_time": "2022-08-05T17:04:21.391Z"
   },
   {
    "duration": 29,
    "start_time": "2022-08-05T17:04:21.438Z"
   },
   {
    "duration": 277,
    "start_time": "2022-08-05T17:04:21.468Z"
   },
   {
    "duration": 97,
    "start_time": "2022-08-05T17:04:21.747Z"
   },
   {
    "duration": 4,
    "start_time": "2022-08-05T17:04:21.846Z"
   },
   {
    "duration": 160,
    "start_time": "2022-08-05T17:04:21.851Z"
   },
   {
    "duration": 3,
    "start_time": "2022-08-05T17:04:22.013Z"
   },
   {
    "duration": 19261,
    "start_time": "2022-08-05T17:05:16.285Z"
   },
   {
    "duration": 350,
    "start_time": "2022-08-05T17:05:35.548Z"
   },
   {
    "duration": 187372,
    "start_time": "2022-08-05T17:05:54.283Z"
   },
   {
    "duration": 0,
    "start_time": "2022-08-05T17:09:01.662Z"
   },
   {
    "duration": 3,
    "start_time": "2022-08-05T17:09:15.461Z"
   },
   {
    "duration": 12577,
    "start_time": "2022-08-05T17:09:25.497Z"
   },
   {
    "duration": 3,
    "start_time": "2022-08-05T17:10:23.486Z"
   },
   {
    "duration": 25881,
    "start_time": "2022-08-05T17:10:27.043Z"
   },
   {
    "duration": 12393,
    "start_time": "2022-08-05T17:11:15.832Z"
   },
   {
    "duration": 3,
    "start_time": "2022-08-05T18:56:21.189Z"
   },
   {
    "duration": 4103,
    "start_time": "2022-08-05T18:56:27.638Z"
   },
   {
    "duration": 182618,
    "start_time": "2022-08-05T18:56:59.620Z"
   },
   {
    "duration": 292,
    "start_time": "2022-08-05T19:00:10.594Z"
   },
   {
    "duration": 105,
    "start_time": "2022-08-05T19:10:33.881Z"
   },
   {
    "duration": 84,
    "start_time": "2022-08-05T19:10:47.827Z"
   },
   {
    "duration": 66,
    "start_time": "2022-08-05T19:18:23.451Z"
   },
   {
    "duration": 945,
    "start_time": "2022-08-05T19:18:26.821Z"
   },
   {
    "duration": 909,
    "start_time": "2022-08-05T19:18:40.161Z"
   },
   {
    "duration": 946,
    "start_time": "2022-08-05T19:18:58.080Z"
   },
   {
    "duration": 716,
    "start_time": "2022-08-05T19:19:20.310Z"
   },
   {
    "duration": 759,
    "start_time": "2022-08-05T19:19:29.048Z"
   },
   {
    "duration": 4,
    "start_time": "2022-08-05T19:19:50.091Z"
   },
   {
    "duration": 709,
    "start_time": "2022-08-05T19:19:50.097Z"
   },
   {
    "duration": 3,
    "start_time": "2022-08-05T19:19:50.808Z"
   },
   {
    "duration": 544,
    "start_time": "2022-08-05T19:19:50.813Z"
   },
   {
    "duration": 84,
    "start_time": "2022-08-05T19:19:51.359Z"
   },
   {
    "duration": 842,
    "start_time": "2022-08-05T19:19:51.445Z"
   },
   {
    "duration": 550,
    "start_time": "2022-08-05T19:19:52.289Z"
   },
   {
    "duration": 98,
    "start_time": "2022-08-05T19:19:52.840Z"
   },
   {
    "duration": 863,
    "start_time": "2022-08-05T19:19:57.239Z"
   },
   {
    "duration": 827,
    "start_time": "2022-08-05T19:20:10.405Z"
   },
   {
    "duration": 293,
    "start_time": "2022-08-05T19:20:29.921Z"
   },
   {
    "duration": 950,
    "start_time": "2022-08-05T19:21:45.941Z"
   },
   {
    "duration": 21,
    "start_time": "2022-08-05T19:23:16.271Z"
   },
   {
    "duration": 20,
    "start_time": "2022-08-05T19:24:06.677Z"
   },
   {
    "duration": 22,
    "start_time": "2022-08-05T19:24:31.147Z"
   },
   {
    "duration": 785,
    "start_time": "2022-08-05T19:25:19.346Z"
   },
   {
    "duration": 176,
    "start_time": "2022-08-05T19:25:49.178Z"
   },
   {
    "duration": 147,
    "start_time": "2022-08-05T19:25:55.943Z"
   },
   {
    "duration": 857,
    "start_time": "2022-08-05T19:26:03.048Z"
   },
   {
    "duration": 791,
    "start_time": "2022-08-05T19:26:36.081Z"
   },
   {
    "duration": 754,
    "start_time": "2022-08-05T19:27:57.941Z"
   },
   {
    "duration": 158,
    "start_time": "2022-08-05T19:28:10.608Z"
   },
   {
    "duration": 10,
    "start_time": "2022-08-05T19:28:15.100Z"
   },
   {
    "duration": 151,
    "start_time": "2022-08-05T19:28:20.505Z"
   },
   {
    "duration": 780,
    "start_time": "2022-08-05T19:28:30.782Z"
   },
   {
    "duration": 9,
    "start_time": "2022-08-05T19:29:03.140Z"
   },
   {
    "duration": 170,
    "start_time": "2022-08-05T19:29:07.352Z"
   },
   {
    "duration": 176,
    "start_time": "2022-08-05T19:29:15.315Z"
   },
   {
    "duration": 725,
    "start_time": "2022-08-05T19:29:57.025Z"
   },
   {
    "duration": 503,
    "start_time": "2022-08-05T19:30:08.667Z"
   },
   {
    "duration": 521,
    "start_time": "2022-08-05T19:30:39.608Z"
   },
   {
    "duration": 65,
    "start_time": "2022-08-05T19:39:39.623Z"
   },
   {
    "duration": 21,
    "start_time": "2022-08-05T19:39:42.891Z"
   },
   {
    "duration": 3,
    "start_time": "2022-08-05T19:39:59.364Z"
   },
   {
    "duration": 714,
    "start_time": "2022-08-05T19:39:59.369Z"
   },
   {
    "duration": 3,
    "start_time": "2022-08-05T19:40:00.085Z"
   },
   {
    "duration": 543,
    "start_time": "2022-08-05T19:40:00.089Z"
   },
   {
    "duration": 80,
    "start_time": "2022-08-05T19:40:00.638Z"
   },
   {
    "duration": 861,
    "start_time": "2022-08-05T19:40:00.720Z"
   },
   {
    "duration": 556,
    "start_time": "2022-08-05T19:40:01.582Z"
   },
   {
    "duration": 787,
    "start_time": "2022-08-05T19:40:02.140Z"
   },
   {
    "duration": 70,
    "start_time": "2022-08-05T19:40:02.928Z"
   },
   {
    "duration": 39,
    "start_time": "2022-08-05T19:40:03.000Z"
   },
   {
    "duration": 51,
    "start_time": "2022-08-05T19:40:03.042Z"
   },
   {
    "duration": 8,
    "start_time": "2022-08-05T19:40:03.095Z"
   },
   {
    "duration": 48,
    "start_time": "2022-08-05T19:40:03.105Z"
   },
   {
    "duration": 228,
    "start_time": "2022-08-05T19:40:03.155Z"
   },
   {
    "duration": 59,
    "start_time": "2022-08-05T19:40:03.385Z"
   },
   {
    "duration": 35,
    "start_time": "2022-08-05T19:40:03.446Z"
   },
   {
    "duration": 29,
    "start_time": "2022-08-05T19:40:03.482Z"
   },
   {
    "duration": 286,
    "start_time": "2022-08-05T19:40:03.513Z"
   },
   {
    "duration": 93,
    "start_time": "2022-08-05T19:40:03.801Z"
   },
   {
    "duration": 4,
    "start_time": "2022-08-05T19:40:03.895Z"
   },
   {
    "duration": 169,
    "start_time": "2022-08-05T19:40:03.900Z"
   },
   {
    "duration": 3,
    "start_time": "2022-08-05T19:40:04.070Z"
   },
   {
    "duration": 18829,
    "start_time": "2022-08-05T19:40:13.412Z"
   },
   {
    "duration": 151,
    "start_time": "2022-08-05T19:40:35.566Z"
   },
   {
    "duration": 22979,
    "start_time": "2022-08-05T19:40:46.381Z"
   },
   {
    "duration": 740,
    "start_time": "2022-08-05T19:41:13.698Z"
   },
   {
    "duration": 1400,
    "start_time": "2022-08-05T19:50:30.710Z"
   },
   {
    "duration": 759,
    "start_time": "2022-08-05T19:50:32.112Z"
   },
   {
    "duration": 3,
    "start_time": "2022-08-05T19:50:32.873Z"
   },
   {
    "duration": 540,
    "start_time": "2022-08-05T19:50:32.877Z"
   },
   {
    "duration": 90,
    "start_time": "2022-08-05T19:50:33.419Z"
   },
   {
    "duration": 976,
    "start_time": "2022-08-05T19:50:33.510Z"
   },
   {
    "duration": 592,
    "start_time": "2022-08-05T19:50:34.488Z"
   },
   {
    "duration": 926,
    "start_time": "2022-08-05T19:50:35.081Z"
   },
   {
    "duration": 76,
    "start_time": "2022-08-05T19:50:36.008Z"
   },
   {
    "duration": 38,
    "start_time": "2022-08-05T19:50:36.086Z"
   },
   {
    "duration": 70,
    "start_time": "2022-08-05T19:50:36.126Z"
   },
   {
    "duration": 11,
    "start_time": "2022-08-05T19:50:36.197Z"
   },
   {
    "duration": 50,
    "start_time": "2022-08-05T19:50:36.209Z"
   },
   {
    "duration": 234,
    "start_time": "2022-08-05T19:50:36.262Z"
   },
   {
    "duration": 59,
    "start_time": "2022-08-05T19:50:36.498Z"
   },
   {
    "duration": 36,
    "start_time": "2022-08-05T19:50:36.558Z"
   },
   {
    "duration": 42,
    "start_time": "2022-08-05T19:50:36.596Z"
   },
   {
    "duration": 270,
    "start_time": "2022-08-05T19:50:36.639Z"
   },
   {
    "duration": 94,
    "start_time": "2022-08-05T19:50:36.911Z"
   },
   {
    "duration": 5,
    "start_time": "2022-08-05T19:50:37.007Z"
   },
   {
    "duration": 160,
    "start_time": "2022-08-05T19:50:37.013Z"
   },
   {
    "duration": 3,
    "start_time": "2022-08-05T19:50:37.174Z"
   },
   {
    "duration": 18860,
    "start_time": "2022-08-05T19:50:37.178Z"
   },
   {
    "duration": 255,
    "start_time": "2022-08-05T19:50:56.041Z"
   },
   {
    "duration": 115696,
    "start_time": "2022-08-05T19:50:56.297Z"
   },
   {
    "duration": 3004,
    "start_time": "2022-08-05T19:52:51.995Z"
   },
   {
    "duration": 23798,
    "start_time": "2022-08-05T19:52:55.000Z"
   },
   {
    "duration": 855,
    "start_time": "2022-08-05T19:53:18.800Z"
   },
   {
    "duration": 38,
    "start_time": "2022-08-05T19:53:19.657Z"
   },
   {
    "duration": 269649,
    "start_time": "2022-08-05T19:53:19.697Z"
   },
   {
    "duration": 950,
    "start_time": "2022-08-05T19:57:49.348Z"
   },
   {
    "duration": 43151,
    "start_time": "2022-08-05T19:57:50.300Z"
   },
   {
    "duration": 5200,
    "start_time": "2022-08-05T19:58:33.452Z"
   },
   {
    "duration": 143734,
    "start_time": "2022-08-05T19:58:38.654Z"
   },
   {
    "duration": 10,
    "start_time": "2022-08-05T20:01:02.439Z"
   },
   {
    "duration": 10,
    "start_time": "2022-08-05T20:02:41.417Z"
   },
   {
    "duration": 1584,
    "start_time": "2022-08-06T18:59:18.819Z"
   },
   {
    "duration": 1017,
    "start_time": "2022-08-06T18:59:20.405Z"
   },
   {
    "duration": 4,
    "start_time": "2022-08-06T18:59:22.271Z"
   },
   {
    "duration": 1715,
    "start_time": "2022-08-08T06:48:53.652Z"
   },
   {
    "duration": 2811,
    "start_time": "2022-08-08T06:48:55.369Z"
   },
   {
    "duration": 4,
    "start_time": "2022-08-08T06:48:58.181Z"
   },
   {
    "duration": 553,
    "start_time": "2022-08-08T06:48:58.187Z"
   },
   {
    "duration": 97,
    "start_time": "2022-08-08T06:48:58.742Z"
   },
   {
    "duration": 974,
    "start_time": "2022-08-08T06:48:58.841Z"
   },
   {
    "duration": 637,
    "start_time": "2022-08-08T06:48:59.818Z"
   },
   {
    "duration": 987,
    "start_time": "2022-08-08T06:49:00.457Z"
   },
   {
    "duration": 84,
    "start_time": "2022-08-08T06:49:01.445Z"
   },
   {
    "duration": 113,
    "start_time": "2022-08-08T06:50:16.145Z"
   },
   {
    "duration": 246,
    "start_time": "2022-08-08T06:50:27.993Z"
   },
   {
    "duration": 279,
    "start_time": "2022-08-08T06:50:31.115Z"
   },
   {
    "duration": 303,
    "start_time": "2022-08-08T06:50:38.918Z"
   },
   {
    "duration": 312,
    "start_time": "2022-08-08T06:51:06.877Z"
   },
   {
    "duration": 552,
    "start_time": "2022-08-08T06:51:15.774Z"
   },
   {
    "duration": 147,
    "start_time": "2022-08-08T06:51:57.710Z"
   },
   {
    "duration": 98,
    "start_time": "2022-08-08T06:52:08.817Z"
   },
   {
    "duration": 232,
    "start_time": "2022-08-08T06:52:12.574Z"
   },
   {
    "duration": 230,
    "start_time": "2022-08-08T06:52:23.117Z"
   },
   {
    "duration": 173,
    "start_time": "2022-08-08T06:52:38.061Z"
   },
   {
    "duration": 156,
    "start_time": "2022-08-08T06:52:42.385Z"
   },
   {
    "duration": 159,
    "start_time": "2022-08-08T06:52:47.656Z"
   },
   {
    "duration": 75,
    "start_time": "2022-08-08T07:10:18.757Z"
   },
   {
    "duration": 15,
    "start_time": "2022-08-08T07:11:26.188Z"
   },
   {
    "duration": 5,
    "start_time": "2022-08-08T07:11:55.160Z"
   },
   {
    "duration": 137,
    "start_time": "2022-08-08T07:13:26.363Z"
   },
   {
    "duration": 11,
    "start_time": "2022-08-08T07:16:11.865Z"
   },
   {
    "duration": 14,
    "start_time": "2022-08-08T07:17:40.424Z"
   },
   {
    "duration": 13,
    "start_time": "2022-08-08T07:18:02.600Z"
   },
   {
    "duration": 12,
    "start_time": "2022-08-08T07:18:10.383Z"
   },
   {
    "duration": 13,
    "start_time": "2022-08-08T07:18:19.035Z"
   },
   {
    "duration": 96,
    "start_time": "2022-08-08T07:18:22.414Z"
   },
   {
    "duration": 116,
    "start_time": "2022-08-08T07:18:32.810Z"
   },
   {
    "duration": 289,
    "start_time": "2022-08-08T07:34:10.653Z"
   },
   {
    "duration": 1314,
    "start_time": "2022-08-08T07:34:43.157Z"
   },
   {
    "duration": 64,
    "start_time": "2022-08-08T07:34:57.513Z"
   },
   {
    "duration": 92,
    "start_time": "2022-08-08T07:35:16.852Z"
   },
   {
    "duration": 91,
    "start_time": "2022-08-08T07:37:46.838Z"
   },
   {
    "duration": 122,
    "start_time": "2022-08-08T07:37:52.788Z"
   },
   {
    "duration": 131,
    "start_time": "2022-08-08T07:38:58.080Z"
   },
   {
    "duration": 1600,
    "start_time": "2022-08-08T07:39:25.729Z"
   },
   {
    "duration": 154,
    "start_time": "2022-08-08T07:42:19.014Z"
   },
   {
    "duration": 670,
    "start_time": "2022-08-08T07:43:02.416Z"
   },
   {
    "duration": 621,
    "start_time": "2022-08-08T07:43:32.314Z"
   },
   {
    "duration": 146,
    "start_time": "2022-08-08T07:43:43.932Z"
   },
   {
    "duration": 44,
    "start_time": "2022-08-08T07:44:11.526Z"
   },
   {
    "duration": 76,
    "start_time": "2022-08-08T07:44:19.826Z"
   },
   {
    "duration": 3124,
    "start_time": "2022-08-08T07:45:04.872Z"
   },
   {
    "duration": 75,
    "start_time": "2022-08-08T07:45:11.693Z"
   },
   {
    "duration": 89,
    "start_time": "2022-08-08T07:45:15.188Z"
   },
   {
    "duration": 3040,
    "start_time": "2022-08-08T07:45:18.275Z"
   },
   {
    "duration": 78,
    "start_time": "2022-08-08T07:45:23.713Z"
   },
   {
    "duration": 346,
    "start_time": "2022-08-08T07:46:02.702Z"
   },
   {
    "duration": 77,
    "start_time": "2022-08-08T07:46:04.985Z"
   },
   {
    "duration": 6779,
    "start_time": "2022-08-08T07:46:29.517Z"
   },
   {
    "duration": 80,
    "start_time": "2022-08-08T07:46:39.468Z"
   },
   {
    "duration": 4,
    "start_time": "2022-08-08T07:46:51.889Z"
   },
   {
    "duration": 258,
    "start_time": "2022-08-08T07:46:53.754Z"
   },
   {
    "duration": 73,
    "start_time": "2022-08-08T07:46:56.519Z"
   },
   {
    "duration": 40,
    "start_time": "2022-08-08T07:46:58.562Z"
   },
   {
    "duration": 35,
    "start_time": "2022-08-08T07:47:00.927Z"
   },
   {
    "duration": 272,
    "start_time": "2022-08-08T07:47:03.731Z"
   },
   {
    "duration": 118,
    "start_time": "2022-08-08T07:47:27.642Z"
   },
   {
    "duration": 5,
    "start_time": "2022-08-08T07:47:29.358Z"
   },
   {
    "duration": 213,
    "start_time": "2022-08-08T07:47:32.330Z"
   },
   {
    "duration": 4,
    "start_time": "2022-08-08T07:47:39.263Z"
   },
   {
    "duration": 604,
    "start_time": "2022-08-08T07:47:46.824Z"
   },
   {
    "duration": 4,
    "start_time": "2022-08-08T07:48:23.797Z"
   },
   {
    "duration": 753,
    "start_time": "2022-08-08T07:48:23.815Z"
   },
   {
    "duration": 4,
    "start_time": "2022-08-08T07:48:24.570Z"
   },
   {
    "duration": 567,
    "start_time": "2022-08-08T07:48:24.575Z"
   },
   {
    "duration": 112,
    "start_time": "2022-08-08T07:48:25.144Z"
   },
   {
    "duration": 1110,
    "start_time": "2022-08-08T07:48:25.258Z"
   },
   {
    "duration": 685,
    "start_time": "2022-08-08T07:48:26.369Z"
   },
   {
    "duration": 874,
    "start_time": "2022-08-08T07:48:27.056Z"
   },
   {
    "duration": 84,
    "start_time": "2022-08-08T07:48:27.932Z"
   },
   {
    "duration": 37,
    "start_time": "2022-08-08T07:48:28.018Z"
   },
   {
    "duration": 67,
    "start_time": "2022-08-08T07:48:28.057Z"
   },
   {
    "duration": 10,
    "start_time": "2022-08-08T07:48:28.125Z"
   },
   {
    "duration": 50,
    "start_time": "2022-08-08T07:48:28.137Z"
   },
   {
    "duration": 83,
    "start_time": "2022-08-08T07:48:28.189Z"
   },
   {
    "duration": 1431,
    "start_time": "2022-08-08T07:48:28.275Z"
   },
   {
    "duration": 94,
    "start_time": "2022-08-08T07:48:29.708Z"
   },
   {
    "duration": 3014,
    "start_time": "2022-08-08T07:48:29.804Z"
   },
   {
    "duration": 349,
    "start_time": "2022-08-08T07:48:32.820Z"
   },
   {
    "duration": 6803,
    "start_time": "2022-08-08T07:48:33.171Z"
   },
   {
    "duration": 93,
    "start_time": "2022-08-08T07:48:39.976Z"
   },
   {
    "duration": 3,
    "start_time": "2022-08-08T07:48:40.070Z"
   },
   {
    "duration": 250,
    "start_time": "2022-08-08T07:48:40.075Z"
   },
   {
    "duration": 72,
    "start_time": "2022-08-08T07:48:40.327Z"
   },
   {
    "duration": 42,
    "start_time": "2022-08-08T07:48:40.401Z"
   },
   {
    "duration": 45,
    "start_time": "2022-08-08T07:48:40.444Z"
   },
   {
    "duration": 270,
    "start_time": "2022-08-08T07:48:40.491Z"
   },
   {
    "duration": 106,
    "start_time": "2022-08-08T07:48:40.762Z"
   },
   {
    "duration": 5,
    "start_time": "2022-08-08T07:48:40.869Z"
   },
   {
    "duration": 177,
    "start_time": "2022-08-08T07:48:40.875Z"
   },
   {
    "duration": 3,
    "start_time": "2022-08-08T07:48:41.054Z"
   },
   {
    "duration": 47289,
    "start_time": "2022-08-08T07:48:44.440Z"
   },
   {
    "duration": 193,
    "start_time": "2022-08-08T07:49:53.089Z"
   },
   {
    "duration": 7263,
    "start_time": "2022-08-08T07:49:59.216Z"
   },
   {
    "duration": 4,
    "start_time": "2022-08-08T07:51:08.820Z"
   },
   {
    "duration": 815,
    "start_time": "2022-08-08T07:51:08.826Z"
   },
   {
    "duration": 4,
    "start_time": "2022-08-08T07:51:09.643Z"
   },
   {
    "duration": 628,
    "start_time": "2022-08-08T07:51:09.650Z"
   },
   {
    "duration": 109,
    "start_time": "2022-08-08T07:51:10.282Z"
   },
   {
    "duration": 1011,
    "start_time": "2022-08-08T07:51:10.393Z"
   },
   {
    "duration": 627,
    "start_time": "2022-08-08T07:51:11.407Z"
   },
   {
    "duration": 978,
    "start_time": "2022-08-08T07:51:12.036Z"
   },
   {
    "duration": 84,
    "start_time": "2022-08-08T07:51:13.017Z"
   },
   {
    "duration": 39,
    "start_time": "2022-08-08T07:51:13.102Z"
   },
   {
    "duration": 74,
    "start_time": "2022-08-08T07:51:13.144Z"
   },
   {
    "duration": 11,
    "start_time": "2022-08-08T07:51:13.220Z"
   },
   {
    "duration": 57,
    "start_time": "2022-08-08T07:51:13.233Z"
   },
   {
    "duration": 95,
    "start_time": "2022-08-08T07:51:13.292Z"
   },
   {
    "duration": 1585,
    "start_time": "2022-08-08T07:51:13.389Z"
   },
   {
    "duration": 96,
    "start_time": "2022-08-08T07:51:14.976Z"
   },
   {
    "duration": 3193,
    "start_time": "2022-08-08T07:51:15.074Z"
   },
   {
    "duration": 368,
    "start_time": "2022-08-08T07:51:18.269Z"
   },
   {
    "duration": 79,
    "start_time": "2022-08-08T07:51:18.639Z"
   },
   {
    "duration": 3,
    "start_time": "2022-08-08T07:51:18.719Z"
   },
   {
    "duration": 249,
    "start_time": "2022-08-08T07:51:18.723Z"
   },
   {
    "duration": 57,
    "start_time": "2022-08-08T07:51:18.974Z"
   },
   {
    "duration": 50,
    "start_time": "2022-08-08T07:51:19.032Z"
   },
   {
    "duration": 32,
    "start_time": "2022-08-08T07:51:19.084Z"
   },
   {
    "duration": 274,
    "start_time": "2022-08-08T07:51:19.118Z"
   },
   {
    "duration": 108,
    "start_time": "2022-08-08T07:51:19.393Z"
   },
   {
    "duration": 4,
    "start_time": "2022-08-08T07:51:19.503Z"
   },
   {
    "duration": 186,
    "start_time": "2022-08-08T07:51:19.509Z"
   },
   {
    "duration": 4,
    "start_time": "2022-08-08T07:51:19.698Z"
   },
   {
    "duration": 46873,
    "start_time": "2022-08-08T07:51:19.703Z"
   },
   {
    "duration": 297,
    "start_time": "2022-08-08T07:52:06.578Z"
   },
   {
    "duration": 6,
    "start_time": "2022-08-08T07:52:51.378Z"
   },
   {
    "duration": 4,
    "start_time": "2022-08-08T07:53:09.017Z"
   },
   {
    "duration": 803,
    "start_time": "2022-08-08T07:53:09.023Z"
   },
   {
    "duration": 4,
    "start_time": "2022-08-08T07:53:09.828Z"
   },
   {
    "duration": 657,
    "start_time": "2022-08-08T07:53:09.835Z"
   },
   {
    "duration": 108,
    "start_time": "2022-08-08T07:53:10.495Z"
   },
   {
    "duration": 1038,
    "start_time": "2022-08-08T07:53:10.605Z"
   },
   {
    "duration": 619,
    "start_time": "2022-08-08T07:53:11.644Z"
   },
   {
    "duration": 880,
    "start_time": "2022-08-08T07:53:12.268Z"
   },
   {
    "duration": 81,
    "start_time": "2022-08-08T07:53:13.152Z"
   },
   {
    "duration": 49,
    "start_time": "2022-08-08T07:53:13.235Z"
   },
   {
    "duration": 59,
    "start_time": "2022-08-08T07:53:13.286Z"
   },
   {
    "duration": 26,
    "start_time": "2022-08-08T07:53:13.347Z"
   },
   {
    "duration": 33,
    "start_time": "2022-08-08T07:53:13.375Z"
   },
   {
    "duration": 85,
    "start_time": "2022-08-08T07:53:13.410Z"
   },
   {
    "duration": 1533,
    "start_time": "2022-08-08T07:53:13.496Z"
   },
   {
    "duration": 120,
    "start_time": "2022-08-08T07:53:15.031Z"
   },
   {
    "duration": 27,
    "start_time": "2022-08-08T07:53:15.153Z"
   },
   {
    "duration": 412,
    "start_time": "2022-08-08T07:53:15.182Z"
   },
   {
    "duration": 8069,
    "start_time": "2022-08-08T07:53:15.596Z"
   },
   {
    "duration": 77,
    "start_time": "2022-08-08T07:53:23.668Z"
   },
   {
    "duration": 3,
    "start_time": "2022-08-08T07:53:23.746Z"
   },
   {
    "duration": 264,
    "start_time": "2022-08-08T07:53:23.751Z"
   },
   {
    "duration": 78,
    "start_time": "2022-08-08T07:53:24.017Z"
   },
   {
    "duration": 42,
    "start_time": "2022-08-08T07:53:24.098Z"
   },
   {
    "duration": 44,
    "start_time": "2022-08-08T07:53:24.142Z"
   },
   {
    "duration": 275,
    "start_time": "2022-08-08T07:53:24.188Z"
   },
   {
    "duration": 110,
    "start_time": "2022-08-08T07:53:24.467Z"
   },
   {
    "duration": 5,
    "start_time": "2022-08-08T07:53:24.579Z"
   },
   {
    "duration": 185,
    "start_time": "2022-08-08T07:53:24.585Z"
   },
   {
    "duration": 3,
    "start_time": "2022-08-08T07:53:24.772Z"
   },
   {
    "duration": 30753,
    "start_time": "2022-08-08T07:53:24.777Z"
   },
   {
    "duration": 298,
    "start_time": "2022-08-08T07:53:55.533Z"
   },
   {
    "duration": 6,
    "start_time": "2022-08-08T07:54:28.376Z"
   },
   {
    "duration": 908,
    "start_time": "2022-08-08T07:54:28.385Z"
   },
   {
    "duration": 4,
    "start_time": "2022-08-08T07:54:29.296Z"
   },
   {
    "duration": 701,
    "start_time": "2022-08-08T07:54:29.302Z"
   },
   {
    "duration": 121,
    "start_time": "2022-08-08T07:54:30.005Z"
   },
   {
    "duration": 1007,
    "start_time": "2022-08-08T07:54:30.128Z"
   },
   {
    "duration": 654,
    "start_time": "2022-08-08T07:54:31.137Z"
   },
   {
    "duration": 892,
    "start_time": "2022-08-08T07:54:31.793Z"
   },
   {
    "duration": 86,
    "start_time": "2022-08-08T07:54:32.686Z"
   },
   {
    "duration": 36,
    "start_time": "2022-08-08T07:54:32.774Z"
   },
   {
    "duration": 75,
    "start_time": "2022-08-08T07:54:32.813Z"
   },
   {
    "duration": 9,
    "start_time": "2022-08-08T07:54:32.891Z"
   },
   {
    "duration": 41,
    "start_time": "2022-08-08T07:54:32.902Z"
   },
   {
    "duration": 86,
    "start_time": "2022-08-08T07:54:32.945Z"
   },
   {
    "duration": 1470,
    "start_time": "2022-08-08T07:54:33.033Z"
   },
   {
    "duration": 103,
    "start_time": "2022-08-08T07:54:34.505Z"
   },
   {
    "duration": 29,
    "start_time": "2022-08-08T07:54:34.609Z"
   },
   {
    "duration": 423,
    "start_time": "2022-08-08T07:54:34.640Z"
   },
   {
    "duration": 78,
    "start_time": "2022-08-08T07:54:35.068Z"
   },
   {
    "duration": 22,
    "start_time": "2022-08-08T07:54:35.148Z"
   },
   {
    "duration": 256,
    "start_time": "2022-08-08T07:54:35.172Z"
   },
   {
    "duration": 73,
    "start_time": "2022-08-08T07:54:35.430Z"
   },
   {
    "duration": 50,
    "start_time": "2022-08-08T07:54:35.505Z"
   },
   {
    "duration": 33,
    "start_time": "2022-08-08T07:54:35.568Z"
   },
   {
    "duration": 275,
    "start_time": "2022-08-08T07:54:35.603Z"
   },
   {
    "duration": 112,
    "start_time": "2022-08-08T07:54:35.880Z"
   },
   {
    "duration": 6,
    "start_time": "2022-08-08T07:54:35.994Z"
   },
   {
    "duration": 213,
    "start_time": "2022-08-08T07:54:36.001Z"
   },
   {
    "duration": 4,
    "start_time": "2022-08-08T07:54:36.217Z"
   },
   {
    "duration": 30647,
    "start_time": "2022-08-08T07:54:36.223Z"
   },
   {
    "duration": 343,
    "start_time": "2022-08-08T07:55:06.873Z"
   },
   {
    "duration": 5,
    "start_time": "2022-08-08T07:55:54.473Z"
   },
   {
    "duration": 785,
    "start_time": "2022-08-08T07:55:54.480Z"
   },
   {
    "duration": 4,
    "start_time": "2022-08-08T07:55:55.268Z"
   },
   {
    "duration": 617,
    "start_time": "2022-08-08T07:55:55.273Z"
   },
   {
    "duration": 106,
    "start_time": "2022-08-08T07:55:55.893Z"
   },
   {
    "duration": 1087,
    "start_time": "2022-08-08T07:55:56.001Z"
   },
   {
    "duration": 626,
    "start_time": "2022-08-08T07:55:57.090Z"
   },
   {
    "duration": 908,
    "start_time": "2022-08-08T07:55:57.717Z"
   },
   {
    "duration": 79,
    "start_time": "2022-08-08T07:55:58.627Z"
   },
   {
    "duration": 41,
    "start_time": "2022-08-08T07:55:58.708Z"
   },
   {
    "duration": 65,
    "start_time": "2022-08-08T07:55:58.752Z"
   },
   {
    "duration": 9,
    "start_time": "2022-08-08T07:55:58.819Z"
   },
   {
    "duration": 53,
    "start_time": "2022-08-08T07:55:58.830Z"
   },
   {
    "duration": 237,
    "start_time": "2022-08-08T07:55:58.884Z"
   },
   {
    "duration": 77,
    "start_time": "2022-08-08T07:55:59.124Z"
   },
   {
    "duration": 41,
    "start_time": "2022-08-08T07:55:59.203Z"
   },
   {
    "duration": 48,
    "start_time": "2022-08-08T07:55:59.246Z"
   },
   {
    "duration": 291,
    "start_time": "2022-08-08T07:55:59.296Z"
   },
   {
    "duration": 107,
    "start_time": "2022-08-08T07:55:59.589Z"
   },
   {
    "duration": 5,
    "start_time": "2022-08-08T07:55:59.698Z"
   },
   {
    "duration": 197,
    "start_time": "2022-08-08T07:55:59.704Z"
   },
   {
    "duration": 4,
    "start_time": "2022-08-08T07:55:59.903Z"
   },
   {
    "duration": 21330,
    "start_time": "2022-08-08T07:55:59.909Z"
   },
   {
    "duration": 325,
    "start_time": "2022-08-08T07:56:21.274Z"
   },
   {
    "duration": 12,
    "start_time": "2022-08-08T08:01:03.117Z"
   },
   {
    "duration": 1594,
    "start_time": "2022-08-08T08:01:18.257Z"
   },
   {
    "duration": 891,
    "start_time": "2022-08-08T08:01:19.853Z"
   },
   {
    "duration": 4,
    "start_time": "2022-08-08T08:01:20.746Z"
   },
   {
    "duration": 650,
    "start_time": "2022-08-08T08:01:20.752Z"
   },
   {
    "duration": 131,
    "start_time": "2022-08-08T08:01:21.404Z"
   },
   {
    "duration": 1173,
    "start_time": "2022-08-08T08:01:21.538Z"
   },
   {
    "duration": 700,
    "start_time": "2022-08-08T08:01:22.712Z"
   },
   {
    "duration": 1058,
    "start_time": "2022-08-08T08:01:23.414Z"
   },
   {
    "duration": 78,
    "start_time": "2022-08-08T08:01:24.476Z"
   },
   {
    "duration": 38,
    "start_time": "2022-08-08T08:01:24.567Z"
   },
   {
    "duration": 85,
    "start_time": "2022-08-08T08:01:24.607Z"
   },
   {
    "duration": 12,
    "start_time": "2022-08-08T08:01:24.694Z"
   },
   {
    "duration": 36,
    "start_time": "2022-08-08T08:01:24.708Z"
   },
   {
    "duration": 304,
    "start_time": "2022-08-08T08:01:24.746Z"
   },
   {
    "duration": 65,
    "start_time": "2022-08-08T08:01:25.052Z"
   },
   {
    "duration": 52,
    "start_time": "2022-08-08T08:01:25.119Z"
   },
   {
    "duration": 29,
    "start_time": "2022-08-08T08:01:25.183Z"
   },
   {
    "duration": 278,
    "start_time": "2022-08-08T08:01:25.214Z"
   },
   {
    "duration": 122,
    "start_time": "2022-08-08T08:01:25.494Z"
   },
   {
    "duration": 4,
    "start_time": "2022-08-08T08:01:25.619Z"
   },
   {
    "duration": 185,
    "start_time": "2022-08-08T08:01:25.625Z"
   },
   {
    "duration": 4,
    "start_time": "2022-08-08T08:01:25.812Z"
   },
   {
    "duration": 21509,
    "start_time": "2022-08-08T08:01:25.817Z"
   },
   {
    "duration": 283,
    "start_time": "2022-08-08T08:01:47.374Z"
   },
   {
    "duration": 136763,
    "start_time": "2022-08-08T08:01:47.659Z"
   },
   {
    "duration": 3855,
    "start_time": "2022-08-08T08:04:04.424Z"
   },
   {
    "duration": 27098,
    "start_time": "2022-08-08T08:04:08.282Z"
   },
   {
    "duration": 898,
    "start_time": "2022-08-08T08:04:35.384Z"
   },
   {
    "duration": 36,
    "start_time": "2022-08-08T08:04:36.284Z"
   },
   {
    "duration": 312337,
    "start_time": "2022-08-08T08:04:36.322Z"
   },
   {
    "duration": 1137,
    "start_time": "2022-08-08T08:09:48.662Z"
   },
   {
    "duration": 567785,
    "start_time": "2022-08-08T08:09:49.801Z"
   },
   {
    "duration": 5321,
    "start_time": "2022-08-08T08:19:17.588Z"
   },
   {
    "duration": 297,
    "start_time": "2022-08-08T08:19:22.910Z"
   },
   {
    "duration": 0,
    "start_time": "2022-08-08T08:19:23.209Z"
   },
   {
    "duration": 132467,
    "start_time": "2022-08-08T09:06:28.256Z"
   },
   {
    "duration": 1682,
    "start_time": "2022-08-08T09:17:43.559Z"
   },
   {
    "duration": 940,
    "start_time": "2022-08-08T09:17:45.244Z"
   },
   {
    "duration": 4,
    "start_time": "2022-08-08T09:17:46.186Z"
   },
   {
    "duration": 651,
    "start_time": "2022-08-08T09:17:46.192Z"
   },
   {
    "duration": 124,
    "start_time": "2022-08-08T09:17:46.845Z"
   },
   {
    "duration": 1065,
    "start_time": "2022-08-08T09:17:46.970Z"
   },
   {
    "duration": 659,
    "start_time": "2022-08-08T09:17:48.037Z"
   },
   {
    "duration": 1042,
    "start_time": "2022-08-08T09:17:48.698Z"
   },
   {
    "duration": 80,
    "start_time": "2022-08-08T09:17:49.742Z"
   },
   {
    "duration": 45,
    "start_time": "2022-08-08T09:17:49.825Z"
   },
   {
    "duration": 60,
    "start_time": "2022-08-08T09:17:49.872Z"
   },
   {
    "duration": 11,
    "start_time": "2022-08-08T09:17:49.934Z"
   },
   {
    "duration": 50,
    "start_time": "2022-08-08T09:17:49.947Z"
   },
   {
    "duration": 253,
    "start_time": "2022-08-08T09:17:49.999Z"
   },
   {
    "duration": 71,
    "start_time": "2022-08-08T09:17:50.253Z"
   },
   {
    "duration": 56,
    "start_time": "2022-08-08T09:17:50.326Z"
   },
   {
    "duration": 33,
    "start_time": "2022-08-08T09:17:50.384Z"
   },
   {
    "duration": 281,
    "start_time": "2022-08-08T09:17:50.418Z"
   },
   {
    "duration": 109,
    "start_time": "2022-08-08T09:17:50.701Z"
   },
   {
    "duration": 4,
    "start_time": "2022-08-08T09:17:50.812Z"
   },
   {
    "duration": 179,
    "start_time": "2022-08-08T09:17:50.818Z"
   },
   {
    "duration": 3,
    "start_time": "2022-08-08T09:17:50.999Z"
   },
   {
    "duration": 21114,
    "start_time": "2022-08-08T09:17:51.003Z"
   },
   {
    "duration": 313,
    "start_time": "2022-08-08T09:18:12.119Z"
   },
   {
    "duration": 131362,
    "start_time": "2022-08-08T09:18:12.434Z"
   },
   {
    "duration": 3843,
    "start_time": "2022-08-08T09:20:23.798Z"
   },
   {
    "duration": 25870,
    "start_time": "2022-08-08T09:20:27.642Z"
   },
   {
    "duration": 896,
    "start_time": "2022-08-08T09:20:53.516Z"
   },
   {
    "duration": 37,
    "start_time": "2022-08-08T09:20:54.414Z"
   },
   {
    "duration": 301730,
    "start_time": "2022-08-08T09:20:54.453Z"
   },
   {
    "duration": 1151,
    "start_time": "2022-08-08T09:25:56.185Z"
   },
   {
    "duration": 50139,
    "start_time": "2022-08-08T09:25:57.338Z"
   },
   {
    "duration": 5590,
    "start_time": "2022-08-08T09:26:47.478Z"
   },
   {
    "duration": 134600,
    "start_time": "2022-08-08T09:26:53.070Z"
   },
   {
    "duration": 13,
    "start_time": "2022-08-08T09:30:52.338Z"
   },
   {
    "duration": 129,
    "start_time": "2022-08-08T09:31:07.348Z"
   },
   {
    "duration": 12,
    "start_time": "2022-08-08T09:31:11.529Z"
   },
   {
    "duration": 4,
    "start_time": "2022-08-08T09:31:17.090Z"
   },
   {
    "duration": 4,
    "start_time": "2022-08-08T09:37:01.261Z"
   },
   {
    "duration": 11,
    "start_time": "2022-08-08T09:37:06.547Z"
   },
   {
    "duration": 28,
    "start_time": "2022-08-08T09:37:15.673Z"
   },
   {
    "duration": 2097,
    "start_time": "2022-08-08T09:40:30.693Z"
   },
   {
    "duration": 2832,
    "start_time": "2022-08-08T09:40:32.792Z"
   },
   {
    "duration": 5,
    "start_time": "2022-08-08T09:40:35.626Z"
   },
   {
    "duration": 685,
    "start_time": "2022-08-08T09:40:35.634Z"
   },
   {
    "duration": 123,
    "start_time": "2022-08-08T09:40:36.321Z"
   },
   {
    "duration": 1208,
    "start_time": "2022-08-08T09:40:36.446Z"
   },
   {
    "duration": 686,
    "start_time": "2022-08-08T09:40:37.656Z"
   },
   {
    "duration": 1048,
    "start_time": "2022-08-08T09:40:38.344Z"
   },
   {
    "duration": 83,
    "start_time": "2022-08-08T09:40:39.394Z"
   },
   {
    "duration": 45,
    "start_time": "2022-08-08T09:40:39.481Z"
   },
   {
    "duration": 93,
    "start_time": "2022-08-08T09:40:39.528Z"
   },
   {
    "duration": 14,
    "start_time": "2022-08-08T09:40:39.623Z"
   },
   {
    "duration": 51,
    "start_time": "2022-08-08T09:40:39.638Z"
   },
   {
    "duration": 269,
    "start_time": "2022-08-08T09:40:39.690Z"
   },
   {
    "duration": 81,
    "start_time": "2022-08-08T09:40:39.961Z"
   },
   {
    "duration": 59,
    "start_time": "2022-08-08T09:40:40.044Z"
   },
   {
    "duration": 34,
    "start_time": "2022-08-08T09:40:40.105Z"
   },
   {
    "duration": 318,
    "start_time": "2022-08-08T09:40:40.141Z"
   },
   {
    "duration": 127,
    "start_time": "2022-08-08T09:40:40.462Z"
   },
   {
    "duration": 5,
    "start_time": "2022-08-08T09:40:40.591Z"
   },
   {
    "duration": 198,
    "start_time": "2022-08-08T09:40:40.598Z"
   },
   {
    "duration": 3,
    "start_time": "2022-08-08T09:40:40.798Z"
   },
   {
    "duration": 20866,
    "start_time": "2022-08-08T09:40:40.803Z"
   },
   {
    "duration": 254,
    "start_time": "2022-08-08T09:41:01.671Z"
   },
   {
    "duration": 130944,
    "start_time": "2022-08-08T09:41:01.927Z"
   },
   {
    "duration": 4280,
    "start_time": "2022-08-08T09:43:12.873Z"
   },
   {
    "duration": 27269,
    "start_time": "2022-08-08T09:43:17.156Z"
   },
   {
    "duration": 867,
    "start_time": "2022-08-08T09:43:44.430Z"
   },
   {
    "duration": 39,
    "start_time": "2022-08-08T09:43:45.298Z"
   },
   {
    "duration": 304331,
    "start_time": "2022-08-08T09:43:45.339Z"
   },
   {
    "duration": 1183,
    "start_time": "2022-08-08T09:48:49.672Z"
   },
   {
    "duration": 116138,
    "start_time": "2022-08-08T09:48:50.857Z"
   },
   {
    "duration": 5491,
    "start_time": "2022-08-08T09:50:46.997Z"
   },
   {
    "duration": 126102,
    "start_time": "2022-08-08T09:50:52.490Z"
   },
   {
    "duration": 12,
    "start_time": "2022-08-08T09:52:58.594Z"
   },
   {
    "duration": 12,
    "start_time": "2022-08-08T10:21:33.949Z"
   },
   {
    "duration": 14,
    "start_time": "2022-08-08T10:21:57.101Z"
   },
   {
    "duration": 1484,
    "start_time": "2022-08-08T10:31:27.787Z"
   },
   {
    "duration": 4,
    "start_time": "2022-08-08T10:31:49.781Z"
   },
   {
    "duration": 1718,
    "start_time": "2022-08-08T10:31:54.486Z"
   },
   {
    "duration": 1780,
    "start_time": "2022-08-08T10:32:12.265Z"
   },
   {
    "duration": 5,
    "start_time": "2022-08-08T10:32:22.678Z"
   },
   {
    "duration": 5,
    "start_time": "2022-08-08T10:32:31.194Z"
   },
   {
    "duration": 4,
    "start_time": "2022-08-08T10:32:46.962Z"
   },
   {
    "duration": 5,
    "start_time": "2022-08-08T10:32:52.621Z"
   },
   {
    "duration": 4,
    "start_time": "2022-08-08T10:32:55.135Z"
   },
   {
    "duration": 1951,
    "start_time": "2022-08-08T10:32:58.424Z"
   },
   {
    "duration": 1765,
    "start_time": "2022-08-08T10:33:03.568Z"
   },
   {
    "duration": 1773,
    "start_time": "2022-08-08T11:44:48.741Z"
   },
   {
    "duration": 3996,
    "start_time": "2022-08-08T11:44:50.516Z"
   },
   {
    "duration": 4,
    "start_time": "2022-08-08T11:44:54.514Z"
   },
   {
    "duration": 136,
    "start_time": "2022-08-08T11:44:54.520Z"
   },
   {
    "duration": 0,
    "start_time": "2022-08-08T11:44:54.658Z"
   },
   {
    "duration": 0,
    "start_time": "2022-08-08T11:44:54.659Z"
   },
   {
    "duration": 0,
    "start_time": "2022-08-08T11:44:54.661Z"
   },
   {
    "duration": 0,
    "start_time": "2022-08-08T11:44:54.667Z"
   },
   {
    "duration": 0,
    "start_time": "2022-08-08T11:44:54.668Z"
   },
   {
    "duration": 0,
    "start_time": "2022-08-08T11:44:54.669Z"
   },
   {
    "duration": 0,
    "start_time": "2022-08-08T11:44:54.670Z"
   },
   {
    "duration": 0,
    "start_time": "2022-08-08T11:44:54.671Z"
   },
   {
    "duration": 0,
    "start_time": "2022-08-08T11:44:54.672Z"
   },
   {
    "duration": 0,
    "start_time": "2022-08-08T11:44:54.673Z"
   },
   {
    "duration": 0,
    "start_time": "2022-08-08T11:44:54.674Z"
   },
   {
    "duration": 0,
    "start_time": "2022-08-08T11:44:54.675Z"
   },
   {
    "duration": 0,
    "start_time": "2022-08-08T11:44:54.677Z"
   },
   {
    "duration": 0,
    "start_time": "2022-08-08T11:44:54.678Z"
   },
   {
    "duration": 0,
    "start_time": "2022-08-08T11:44:54.679Z"
   },
   {
    "duration": 0,
    "start_time": "2022-08-08T11:44:54.680Z"
   },
   {
    "duration": 0,
    "start_time": "2022-08-08T11:44:54.681Z"
   },
   {
    "duration": 0,
    "start_time": "2022-08-08T11:44:54.682Z"
   },
   {
    "duration": 0,
    "start_time": "2022-08-08T11:44:54.684Z"
   },
   {
    "duration": 0,
    "start_time": "2022-08-08T11:44:54.685Z"
   },
   {
    "duration": 0,
    "start_time": "2022-08-08T11:44:54.686Z"
   },
   {
    "duration": 0,
    "start_time": "2022-08-08T11:44:54.687Z"
   },
   {
    "duration": 0,
    "start_time": "2022-08-08T11:44:54.688Z"
   },
   {
    "duration": 0,
    "start_time": "2022-08-08T11:44:54.689Z"
   },
   {
    "duration": 0,
    "start_time": "2022-08-08T11:44:54.690Z"
   },
   {
    "duration": 0,
    "start_time": "2022-08-08T11:44:54.691Z"
   },
   {
    "duration": 0,
    "start_time": "2022-08-08T11:44:54.693Z"
   },
   {
    "duration": 0,
    "start_time": "2022-08-08T11:44:54.694Z"
   },
   {
    "duration": 0,
    "start_time": "2022-08-08T11:44:54.695Z"
   },
   {
    "duration": 0,
    "start_time": "2022-08-08T11:44:54.697Z"
   },
   {
    "duration": 0,
    "start_time": "2022-08-08T11:44:54.698Z"
   },
   {
    "duration": 0,
    "start_time": "2022-08-08T11:44:54.699Z"
   },
   {
    "duration": 1647,
    "start_time": "2022-08-08T11:45:05.957Z"
   },
   {
    "duration": 1910,
    "start_time": "2022-08-08T11:45:07.606Z"
   },
   {
    "duration": 5,
    "start_time": "2022-08-08T11:45:09.518Z"
   },
   {
    "duration": 654,
    "start_time": "2022-08-08T11:45:09.526Z"
   },
   {
    "duration": 120,
    "start_time": "2022-08-08T11:45:10.182Z"
   },
   {
    "duration": 1076,
    "start_time": "2022-08-08T11:45:10.304Z"
   },
   {
    "duration": 687,
    "start_time": "2022-08-08T11:45:11.382Z"
   },
   {
    "duration": 1021,
    "start_time": "2022-08-08T11:45:12.071Z"
   },
   {
    "duration": 95,
    "start_time": "2022-08-08T11:45:13.093Z"
   },
   {
    "duration": 39,
    "start_time": "2022-08-08T11:45:13.192Z"
   },
   {
    "duration": 77,
    "start_time": "2022-08-08T11:45:13.233Z"
   },
   {
    "duration": 10,
    "start_time": "2022-08-08T11:45:13.312Z"
   },
   {
    "duration": 45,
    "start_time": "2022-08-08T11:45:13.324Z"
   },
   {
    "duration": 238,
    "start_time": "2022-08-08T11:45:13.370Z"
   },
   {
    "duration": 70,
    "start_time": "2022-08-08T11:45:13.610Z"
   },
   {
    "duration": 40,
    "start_time": "2022-08-08T11:45:13.682Z"
   },
   {
    "duration": 46,
    "start_time": "2022-08-08T11:45:13.724Z"
   },
   {
    "duration": 270,
    "start_time": "2022-08-08T11:45:13.772Z"
   },
   {
    "duration": 104,
    "start_time": "2022-08-08T11:45:14.043Z"
   },
   {
    "duration": 4,
    "start_time": "2022-08-08T11:45:14.149Z"
   },
   {
    "duration": 177,
    "start_time": "2022-08-08T11:45:14.155Z"
   },
   {
    "duration": 4,
    "start_time": "2022-08-08T11:45:14.333Z"
   },
   {
    "duration": 20930,
    "start_time": "2022-08-08T11:45:14.339Z"
   },
   {
    "duration": 254,
    "start_time": "2022-08-08T11:45:35.272Z"
   },
   {
    "duration": 128176,
    "start_time": "2022-08-08T11:45:35.528Z"
   },
   {
    "duration": 3925,
    "start_time": "2022-08-08T11:47:43.705Z"
   },
   {
    "duration": 25775,
    "start_time": "2022-08-08T11:47:47.632Z"
   },
   {
    "duration": 861,
    "start_time": "2022-08-08T11:48:13.410Z"
   },
   {
    "duration": 32,
    "start_time": "2022-08-08T11:48:14.273Z"
   },
   {
    "duration": 293877,
    "start_time": "2022-08-08T11:48:14.307Z"
   },
   {
    "duration": 1047,
    "start_time": "2022-08-08T11:53:08.186Z"
   },
   {
    "duration": 57141,
    "start_time": "2022-08-08T11:53:09.235Z"
   },
   {
    "duration": 5493,
    "start_time": "2022-08-08T11:54:06.378Z"
   },
   {
    "duration": 125245,
    "start_time": "2022-08-08T11:54:11.873Z"
   },
   {
    "duration": 12,
    "start_time": "2022-08-08T12:00:00.372Z"
   },
   {
    "duration": 1469,
    "start_time": "2022-08-08T12:00:10.971Z"
   }
  ],
  "kernelspec": {
   "display_name": "Python 3.9.5 64-bit",
   "language": "python",
   "name": "python3"
  },
  "language_info": {
   "codemirror_mode": {
    "name": "ipython",
    "version": 3
   },
   "file_extension": ".py",
   "mimetype": "text/x-python",
   "name": "python",
   "nbconvert_exporter": "python",
   "pygments_lexer": "ipython3",
   "version": "3.9.5"
  },
  "toc": {
   "base_numbering": 1,
   "nav_menu": {},
   "number_sections": true,
   "sideBar": true,
   "skip_h1_title": true,
   "title_cell": "Table of Contents",
   "title_sidebar": "Contents",
   "toc_cell": false,
   "toc_position": {},
   "toc_section_display": true,
   "toc_window_display": false
  },
  "vscode": {
   "interpreter": {
    "hash": "dc7de0214c5233e20519851bf8feee23ff7c07c929acc915f5bab077e3aa5fc5"
   }
  }
 },
 "nbformat": 4,
 "nbformat_minor": 2
}
