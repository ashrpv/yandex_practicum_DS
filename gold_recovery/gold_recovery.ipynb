{
 "cells": [
  {
   "cell_type": "markdown",
   "metadata": {
    "toc": true
   },
   "source": [
    "<h1>Содержание<span class=\"tocSkip\"></span></h1>\n",
    "<div class=\"toc\"><ul class=\"toc-item\"><li><span><a href=\"#Подготовка-данных\" data-toc-modified-id=\"Подготовка-данных-1\"><span class=\"toc-item-num\">1&nbsp;&nbsp;</span>Подготовка данных</a></span><ul class=\"toc-item\"><li><span><a href=\"#Загрузка-модулей-и-данных\" data-toc-modified-id=\"Загрузка-модулей-и-данных-1.1\"><span class=\"toc-item-num\">1.1&nbsp;&nbsp;</span>Загрузка модулей и данных</a></span></li><li><span><a href=\"#Ознакомление-с-данными\" data-toc-modified-id=\"Ознакомление-с-данными-1.2\"><span class=\"toc-item-num\">1.2&nbsp;&nbsp;</span>Ознакомление с данными</a></span><ul class=\"toc-item\"><li><span><a href=\"#Проверка-данных\" data-toc-modified-id=\"Проверка-данных-1.2.1\"><span class=\"toc-item-num\">1.2.1&nbsp;&nbsp;</span>Проверка данных</a></span></li><li><span><a href=\"#Определение-пропусков-в-данных\" data-toc-modified-id=\"Определение-пропусков-в-данных-1.2.2\"><span class=\"toc-item-num\">1.2.2&nbsp;&nbsp;</span>Определение пропусков в данных</a></span></li><li><span><a href=\"#Определение-данных,-отсутствующих-в-тестовой-выборке\" data-toc-modified-id=\"Определение-данных,-отсутствующих-в-тестовой-выборке-1.2.3\"><span class=\"toc-item-num\">1.2.3&nbsp;&nbsp;</span>Определение данных, отсутствующих в тестовой выборке</a></span></li><li><span><a href=\"#Проверка-корректности-расчета-параметра-rougher.output.recovery-в-обучающей-выборке\" data-toc-modified-id=\"Проверка-корректности-расчета-параметра-rougher.output.recovery-в-обучающей-выборке-1.2.4\"><span class=\"toc-item-num\">1.2.4&nbsp;&nbsp;</span>Проверка корректности расчета параметра <code>rougher.output.recovery</code> в обучающей выборке</a></span></li></ul></li><li><span><a href=\"#Предобработка-данных\" data-toc-modified-id=\"Предобработка-данных-1.3\"><span class=\"toc-item-num\">1.3&nbsp;&nbsp;</span>Предобработка данных</a></span><ul class=\"toc-item\"><li><span><a href=\"#Заполнение-пропусков\" data-toc-modified-id=\"Заполнение-пропусков-1.3.1\"><span class=\"toc-item-num\">1.3.1&nbsp;&nbsp;</span>Заполнение пропусков</a></span></li><li><span><a href=\"#Выявление-и-устранение-аномалий\" data-toc-modified-id=\"Выявление-и-устранение-аномалий-1.3.2\"><span class=\"toc-item-num\">1.3.2&nbsp;&nbsp;</span>Выявление и устранение аномалий</a></span></li></ul></li><li><span><a href=\"#Выводы\" data-toc-modified-id=\"Выводы-1.4\"><span class=\"toc-item-num\">1.4&nbsp;&nbsp;</span>Выводы</a></span></li></ul></li><li><span><a href=\"#Анализ-данных\" data-toc-modified-id=\"Анализ-данных-2\"><span class=\"toc-item-num\">2&nbsp;&nbsp;</span>Анализ данных</a></span><ul class=\"toc-item\"><li><span><a href=\"#Гранулометрический-состав-сырья\" data-toc-modified-id=\"Гранулометрический-состав-сырья-2.1\"><span class=\"toc-item-num\">2.1&nbsp;&nbsp;</span>Гранулометрический состав сырья</a></span></li><li><span><a href=\"#Изменение-концентрации-металлов-при-обогащении-руды\" data-toc-modified-id=\"Изменение-концентрации-металлов-при-обогащении-руды-2.2\"><span class=\"toc-item-num\">2.2&nbsp;&nbsp;</span>Изменение концентрации металлов при обогащении руды</a></span></li><li><span><a href=\"#Изменение-суммарной-концентрации-контролируемых-веществ\" data-toc-modified-id=\"Изменение-суммарной-концентрации-контролируемых-веществ-2.3\"><span class=\"toc-item-num\">2.3&nbsp;&nbsp;</span>Изменение суммарной концентрации контролируемых веществ</a></span></li><li><span><a href=\"#Оценка-распределения-целевых-признаков\" data-toc-modified-id=\"Оценка-распределения-целевых-признаков-2.4\"><span class=\"toc-item-num\">2.4&nbsp;&nbsp;</span>Оценка распределения целевых признаков</a></span></li><li><span><a href=\"#Выводы\" data-toc-modified-id=\"Выводы-2.5\"><span class=\"toc-item-num\">2.5&nbsp;&nbsp;</span>Выводы</a></span></li></ul></li><li><span><a href=\"#Модель\" data-toc-modified-id=\"Модель-3\"><span class=\"toc-item-num\">3&nbsp;&nbsp;</span>Модель</a></span><ul class=\"toc-item\"><li><span><a href=\"#Метрики-качества\" data-toc-modified-id=\"Метрики-качества-3.1\"><span class=\"toc-item-num\">3.1&nbsp;&nbsp;</span>Метрики качества</a></span></li><li><span><a href=\"#Отбор-признаков-для-обучения-моделей\" data-toc-modified-id=\"Отбор-признаков-для-обучения-моделей-3.2\"><span class=\"toc-item-num\">3.2&nbsp;&nbsp;</span>Отбор признаков для обучения моделей</a></span></li><li><span><a href=\"#Обучение-моделей\" data-toc-modified-id=\"Обучение-моделей-3.3\"><span class=\"toc-item-num\">3.3&nbsp;&nbsp;</span>Обучение моделей</a></span><ul class=\"toc-item\"><li><span><a href=\"#Этап-rougher\" data-toc-modified-id=\"Этап-rougher-3.3.1\"><span class=\"toc-item-num\">3.3.1&nbsp;&nbsp;</span>Этап <code>rougher</code></a></span></li><li><span><a href=\"#Этап-final\" data-toc-modified-id=\"Этап-final-3.3.2\"><span class=\"toc-item-num\">3.3.2&nbsp;&nbsp;</span>Этап <code>final</code></a></span></li></ul></li><li><span><a href=\"#Проверка-моделей-на-тестовой-выборке\" data-toc-modified-id=\"Проверка-моделей-на-тестовой-выборке-3.4\"><span class=\"toc-item-num\">3.4&nbsp;&nbsp;</span>Проверка моделей на тестовой выборке</a></span></li><li><span><a href=\"#Выводы\" data-toc-modified-id=\"Выводы-3.5\"><span class=\"toc-item-num\">3.5&nbsp;&nbsp;</span>Выводы</a></span></li></ul></li><li><span><a href=\"#Выводы\" data-toc-modified-id=\"Выводы-4\"><span class=\"toc-item-num\">4&nbsp;&nbsp;</span>Выводы</a></span></li></ul></div>"
   ]
  },
  {
   "cell_type": "markdown",
   "metadata": {},
   "source": [
    "# Обогащение золотосодержащей руды"
   ]
  },
  {
   "cell_type": "markdown",
   "metadata": {},
   "source": [
    "Подготовьте прототип модели машинного обучения для «Цифры». Компания разрабатывает решения для эффективной работы промышленных предприятий.\n",
    "\n",
    "Модель должна предсказать коэффициент выделения золота из золотосодержащей руды. Используйте данные с параметрами добычи и очистки. \n",
    "\n",
    "Модель поможет оптимизировать производство, чтобы не запускать предприятие с убыточными характеристиками.\n",
    "\n",
    "Вам нужно:\n",
    "\n",
    "1. Подготовить данные;\n",
    "2. Провести исследовательский анализ данных;\n",
    "3. Построить и обучить модель.\n",
    "\n",
    "Чтобы выполнить проект, обращайтесь к библиотекам *pandas*, *matplotlib* и *sklearn.* Вам поможет их документация.\n",
    "\n",
    "\n",
    "Рассматриваемый процесс обогащения золотосодержащей руды реализован в три стадии:\n",
    "- флотация руды с получение чернового концентрата;\n",
    "- двухстадийная финальная очистка (также флотационная) чернового концентрата с получением финального концентрата.  \n",
    "\n",
    "Параметрами процесса являются:\n",
    "- гранулометрический состав исходной руды и чернового концентрата (feed size);\n",
    "- уровень жидкости во флотационных ваннах (fluid levels) и скорость барботирования воздуха (air amount);\n",
    "- скорость подаучи обогащаемого сырья (feed rate);\n",
    "- подача флотационных реагентов: флотагента ксантогената (xanthate) и депрессоров флотации - сульфида (sulphate) и силиката (depressor) натрия.  \n",
    "\n",
    "В соответствии с описанием данных признаки должны быть представлены в следующем виде:  \n",
    "\n",
    "`[этап].[тип_параметры].[название_параметра]`.  \n",
    "\n",
    "Блок `[этап]` может принимать следующие значения:\n",
    "- *rougher* - грубое обогащение;\n",
    "- *primary_cleaner* - первичная очистка чернового концентрата;\n",
    "- *secondary_cleaner* - вторичная очистка, получение финального концентрата;\n",
    "- *final* - финальные характеристики.\n",
    "\n",
    "Блок `[тип_параметра]` может принимать следующие значения:\n",
    "- *input* - параметры сырья;\n",
    "- *output* - параметры продукта;\n",
    "- *state* - параметры флотационных установок;\n",
    "- *calculation* - расчётные характеристики."
   ]
  },
  {
   "cell_type": "markdown",
   "metadata": {},
   "source": [
    "## Подготовка данных"
   ]
  },
  {
   "cell_type": "markdown",
   "metadata": {},
   "source": [
    "### Загрузка модулей и данных"
   ]
  },
  {
   "cell_type": "markdown",
   "metadata": {},
   "source": [
    "Загрузка модулей:"
   ]
  },
  {
   "cell_type": "code",
   "execution_count": 1,
   "metadata": {},
   "outputs": [],
   "source": [
    "import pandas as pd\n",
    "import numpy as np\n",
    "import matplotlib.pyplot as plt\n",
    "\n",
    "from sklearn.metrics import mean_absolute_error as mae, make_scorer\n",
    "from sklearn.preprocessing import StandardScaler, PowerTransformer\n",
    "from sklearn.compose import TransformedTargetRegressor\n",
    "\n",
    "from sklearn.dummy import DummyRegressor\n",
    "from sklearn.linear_model import Lasso\n",
    "from sklearn.ensemble import RandomForestRegressor\n",
    "from sklearn.model_selection import GridSearchCV"
   ]
  },
  {
   "cell_type": "markdown",
   "metadata": {},
   "source": [
    "Загрузка данных:"
   ]
  },
  {
   "cell_type": "code",
   "execution_count": 2,
   "metadata": {},
   "outputs": [],
   "source": [
    "try:\n",
    "    data_full = pd.read_csv(r'/datasets/gold_recovery_full_new.csv', index_col='date', parse_dates=True)\n",
    "    data_train = pd.read_csv(r'/datasets/gold_recovery_train_new.csv', index_col='date', parse_dates=True)\n",
    "    data_test = pd.read_csv(r'/datasets/gold_recovery_test_new.csv', index_col='date', parse_dates=True)\n",
    "\n",
    "except:\n",
    "    data_full = pd.read_csv('https://code.s3.yandex.net/datasets/gold_recovery_full_new.csv',\n",
    "                            index_col='date', parse_dates=True)\n",
    "    data_train = pd.read_csv('https://code.s3.yandex.net/datasets/gold_recovery_train_new.csv',\n",
    "                             index_col='date', parse_dates=True)\n",
    "    data_test = pd.read_csv('https://code.s3.yandex.net/datasets/gold_recovery_test_new.csv',\n",
    "                            index_col='date', parse_dates=True)"
   ]
  },
  {
   "cell_type": "code",
   "execution_count": 3,
   "metadata": {},
   "outputs": [],
   "source": [
    "\"\"\"Чтобы не повторяться при построении однотипных графиков сохраним списки металлов,\n",
    "этапов обогащения и типов материала:\"\"\"\n",
    "\n",
    "METALS = ['Au', 'Ag', 'Pb']\n",
    "STAGES = ['rougher', 'primary_cleaner', 'final']\n",
    "TYPES = ['concentrate', 'tail']"
   ]
  },
  {
   "cell_type": "markdown",
   "metadata": {},
   "source": [
    "### Ознакомление с данными"
   ]
  },
  {
   "cell_type": "markdown",
   "metadata": {},
   "source": [
    "#### Проверка данных"
   ]
  },
  {
   "cell_type": "markdown",
   "metadata": {},
   "source": [
    "Рассмотрим содержимое таблиц:"
   ]
  },
  {
   "cell_type": "code",
   "execution_count": 4,
   "metadata": {
    "scrolled": false
   },
   "outputs": [
    {
     "name": "stdout",
     "output_type": "stream",
     "text": [
      "Полный набор данных :\n"
     ]
    },
    {
     "data": {
      "text/html": [
       "<div>\n",
       "<style scoped>\n",
       "    .dataframe tbody tr th:only-of-type {\n",
       "        vertical-align: middle;\n",
       "    }\n",
       "\n",
       "    .dataframe tbody tr th {\n",
       "        vertical-align: top;\n",
       "    }\n",
       "\n",
       "    .dataframe thead th {\n",
       "        text-align: right;\n",
       "    }\n",
       "</style>\n",
       "<table border=\"1\" class=\"dataframe\">\n",
       "  <thead>\n",
       "    <tr style=\"text-align: right;\">\n",
       "      <th></th>\n",
       "      <th>final.output.concentrate_ag</th>\n",
       "      <th>final.output.concentrate_pb</th>\n",
       "      <th>final.output.concentrate_sol</th>\n",
       "      <th>final.output.concentrate_au</th>\n",
       "      <th>final.output.recovery</th>\n",
       "      <th>final.output.tail_ag</th>\n",
       "      <th>final.output.tail_pb</th>\n",
       "      <th>final.output.tail_sol</th>\n",
       "      <th>final.output.tail_au</th>\n",
       "      <th>primary_cleaner.input.sulfate</th>\n",
       "      <th>...</th>\n",
       "      <th>secondary_cleaner.state.floatbank4_a_air</th>\n",
       "      <th>secondary_cleaner.state.floatbank4_a_level</th>\n",
       "      <th>secondary_cleaner.state.floatbank4_b_air</th>\n",
       "      <th>secondary_cleaner.state.floatbank4_b_level</th>\n",
       "      <th>secondary_cleaner.state.floatbank5_a_air</th>\n",
       "      <th>secondary_cleaner.state.floatbank5_a_level</th>\n",
       "      <th>secondary_cleaner.state.floatbank5_b_air</th>\n",
       "      <th>secondary_cleaner.state.floatbank5_b_level</th>\n",
       "      <th>secondary_cleaner.state.floatbank6_a_air</th>\n",
       "      <th>secondary_cleaner.state.floatbank6_a_level</th>\n",
       "    </tr>\n",
       "    <tr>\n",
       "      <th>date</th>\n",
       "      <th></th>\n",
       "      <th></th>\n",
       "      <th></th>\n",
       "      <th></th>\n",
       "      <th></th>\n",
       "      <th></th>\n",
       "      <th></th>\n",
       "      <th></th>\n",
       "      <th></th>\n",
       "      <th></th>\n",
       "      <th></th>\n",
       "      <th></th>\n",
       "      <th></th>\n",
       "      <th></th>\n",
       "      <th></th>\n",
       "      <th></th>\n",
       "      <th></th>\n",
       "      <th></th>\n",
       "      <th></th>\n",
       "      <th></th>\n",
       "      <th></th>\n",
       "    </tr>\n",
       "  </thead>\n",
       "  <tbody>\n",
       "    <tr>\n",
       "      <th>2018-02-03 18:59:59</th>\n",
       "      <td>6.161050</td>\n",
       "      <td>10.158505</td>\n",
       "      <td>10.076407</td>\n",
       "      <td>45.140381</td>\n",
       "      <td>73.973358</td>\n",
       "      <td>13.251479</td>\n",
       "      <td>3.205151</td>\n",
       "      <td>11.758617</td>\n",
       "      <td>3.633481</td>\n",
       "      <td>156.822402</td>\n",
       "      <td>...</td>\n",
       "      <td>20.014834</td>\n",
       "      <td>-499.293860</td>\n",
       "      <td>15.008027</td>\n",
       "      <td>-499.666179</td>\n",
       "      <td>10.988811</td>\n",
       "      <td>-499.555017</td>\n",
       "      <td>8.972743</td>\n",
       "      <td>-499.995831</td>\n",
       "      <td>11.007259</td>\n",
       "      <td>-499.396993</td>\n",
       "    </tr>\n",
       "    <tr>\n",
       "      <th>2016-01-22 21:00:00</th>\n",
       "      <td>4.053977</td>\n",
       "      <td>13.223768</td>\n",
       "      <td>9.595730</td>\n",
       "      <td>45.065361</td>\n",
       "      <td>64.656583</td>\n",
       "      <td>11.213667</td>\n",
       "      <td>1.969655</td>\n",
       "      <td>17.502526</td>\n",
       "      <td>3.966359</td>\n",
       "      <td>192.180313</td>\n",
       "      <td>...</td>\n",
       "      <td>13.970785</td>\n",
       "      <td>-549.520700</td>\n",
       "      <td>12.083775</td>\n",
       "      <td>-549.922434</td>\n",
       "      <td>9.991803</td>\n",
       "      <td>-548.024861</td>\n",
       "      <td>8.115304</td>\n",
       "      <td>-549.671129</td>\n",
       "      <td>12.091153</td>\n",
       "      <td>-599.996262</td>\n",
       "    </tr>\n",
       "    <tr>\n",
       "      <th>2018-02-04 05:59:59</th>\n",
       "      <td>5.714404</td>\n",
       "      <td>10.182374</td>\n",
       "      <td>9.149843</td>\n",
       "      <td>46.637478</td>\n",
       "      <td>73.390481</td>\n",
       "      <td>12.382005</td>\n",
       "      <td>2.978618</td>\n",
       "      <td>12.506115</td>\n",
       "      <td>3.609345</td>\n",
       "      <td>164.628828</td>\n",
       "      <td>...</td>\n",
       "      <td>20.003374</td>\n",
       "      <td>-499.064702</td>\n",
       "      <td>15.011776</td>\n",
       "      <td>-500.078160</td>\n",
       "      <td>10.967049</td>\n",
       "      <td>-498.515303</td>\n",
       "      <td>9.048698</td>\n",
       "      <td>-499.646379</td>\n",
       "      <td>10.989769</td>\n",
       "      <td>-497.826306</td>\n",
       "    </tr>\n",
       "    <tr>\n",
       "      <th>2017-12-04 08:59:59</th>\n",
       "      <td>6.220428</td>\n",
       "      <td>10.183746</td>\n",
       "      <td>10.469357</td>\n",
       "      <td>43.714955</td>\n",
       "      <td>75.508108</td>\n",
       "      <td>12.242190</td>\n",
       "      <td>2.767292</td>\n",
       "      <td>13.182232</td>\n",
       "      <td>3.209981</td>\n",
       "      <td>211.891733</td>\n",
       "      <td>...</td>\n",
       "      <td>16.972139</td>\n",
       "      <td>-503.566441</td>\n",
       "      <td>15.017743</td>\n",
       "      <td>-364.503262</td>\n",
       "      <td>10.932111</td>\n",
       "      <td>-501.255012</td>\n",
       "      <td>8.996277</td>\n",
       "      <td>-500.131791</td>\n",
       "      <td>17.976507</td>\n",
       "      <td>-502.551573</td>\n",
       "    </tr>\n",
       "    <tr>\n",
       "      <th>2016-12-04 13:59:59</th>\n",
       "      <td>6.217653</td>\n",
       "      <td>9.648836</td>\n",
       "      <td>11.635316</td>\n",
       "      <td>43.358366</td>\n",
       "      <td>74.671951</td>\n",
       "      <td>11.177442</td>\n",
       "      <td>3.158180</td>\n",
       "      <td>7.831676</td>\n",
       "      <td>3.040887</td>\n",
       "      <td>134.561314</td>\n",
       "      <td>...</td>\n",
       "      <td>18.000608</td>\n",
       "      <td>-499.811115</td>\n",
       "      <td>15.962793</td>\n",
       "      <td>-500.012567</td>\n",
       "      <td>16.884263</td>\n",
       "      <td>-500.650693</td>\n",
       "      <td>12.014172</td>\n",
       "      <td>-499.966157</td>\n",
       "      <td>21.974355</td>\n",
       "      <td>-500.185628</td>\n",
       "    </tr>\n",
       "  </tbody>\n",
       "</table>\n",
       "<p>5 rows × 86 columns</p>\n",
       "</div>"
      ],
      "text/plain": [
       "                     final.output.concentrate_ag  final.output.concentrate_pb  \\\n",
       "date                                                                            \n",
       "2018-02-03 18:59:59                     6.161050                    10.158505   \n",
       "2016-01-22 21:00:00                     4.053977                    13.223768   \n",
       "2018-02-04 05:59:59                     5.714404                    10.182374   \n",
       "2017-12-04 08:59:59                     6.220428                    10.183746   \n",
       "2016-12-04 13:59:59                     6.217653                     9.648836   \n",
       "\n",
       "                     final.output.concentrate_sol  \\\n",
       "date                                                \n",
       "2018-02-03 18:59:59                     10.076407   \n",
       "2016-01-22 21:00:00                      9.595730   \n",
       "2018-02-04 05:59:59                      9.149843   \n",
       "2017-12-04 08:59:59                     10.469357   \n",
       "2016-12-04 13:59:59                     11.635316   \n",
       "\n",
       "                     final.output.concentrate_au  final.output.recovery  \\\n",
       "date                                                                      \n",
       "2018-02-03 18:59:59                    45.140381              73.973358   \n",
       "2016-01-22 21:00:00                    45.065361              64.656583   \n",
       "2018-02-04 05:59:59                    46.637478              73.390481   \n",
       "2017-12-04 08:59:59                    43.714955              75.508108   \n",
       "2016-12-04 13:59:59                    43.358366              74.671951   \n",
       "\n",
       "                     final.output.tail_ag  final.output.tail_pb  \\\n",
       "date                                                              \n",
       "2018-02-03 18:59:59             13.251479              3.205151   \n",
       "2016-01-22 21:00:00             11.213667              1.969655   \n",
       "2018-02-04 05:59:59             12.382005              2.978618   \n",
       "2017-12-04 08:59:59             12.242190              2.767292   \n",
       "2016-12-04 13:59:59             11.177442              3.158180   \n",
       "\n",
       "                     final.output.tail_sol  final.output.tail_au  \\\n",
       "date                                                               \n",
       "2018-02-03 18:59:59              11.758617              3.633481   \n",
       "2016-01-22 21:00:00              17.502526              3.966359   \n",
       "2018-02-04 05:59:59              12.506115              3.609345   \n",
       "2017-12-04 08:59:59              13.182232              3.209981   \n",
       "2016-12-04 13:59:59               7.831676              3.040887   \n",
       "\n",
       "                     primary_cleaner.input.sulfate  ...  \\\n",
       "date                                                ...   \n",
       "2018-02-03 18:59:59                     156.822402  ...   \n",
       "2016-01-22 21:00:00                     192.180313  ...   \n",
       "2018-02-04 05:59:59                     164.628828  ...   \n",
       "2017-12-04 08:59:59                     211.891733  ...   \n",
       "2016-12-04 13:59:59                     134.561314  ...   \n",
       "\n",
       "                     secondary_cleaner.state.floatbank4_a_air  \\\n",
       "date                                                            \n",
       "2018-02-03 18:59:59                                 20.014834   \n",
       "2016-01-22 21:00:00                                 13.970785   \n",
       "2018-02-04 05:59:59                                 20.003374   \n",
       "2017-12-04 08:59:59                                 16.972139   \n",
       "2016-12-04 13:59:59                                 18.000608   \n",
       "\n",
       "                     secondary_cleaner.state.floatbank4_a_level  \\\n",
       "date                                                              \n",
       "2018-02-03 18:59:59                                 -499.293860   \n",
       "2016-01-22 21:00:00                                 -549.520700   \n",
       "2018-02-04 05:59:59                                 -499.064702   \n",
       "2017-12-04 08:59:59                                 -503.566441   \n",
       "2016-12-04 13:59:59                                 -499.811115   \n",
       "\n",
       "                     secondary_cleaner.state.floatbank4_b_air  \\\n",
       "date                                                            \n",
       "2018-02-03 18:59:59                                 15.008027   \n",
       "2016-01-22 21:00:00                                 12.083775   \n",
       "2018-02-04 05:59:59                                 15.011776   \n",
       "2017-12-04 08:59:59                                 15.017743   \n",
       "2016-12-04 13:59:59                                 15.962793   \n",
       "\n",
       "                     secondary_cleaner.state.floatbank4_b_level  \\\n",
       "date                                                              \n",
       "2018-02-03 18:59:59                                 -499.666179   \n",
       "2016-01-22 21:00:00                                 -549.922434   \n",
       "2018-02-04 05:59:59                                 -500.078160   \n",
       "2017-12-04 08:59:59                                 -364.503262   \n",
       "2016-12-04 13:59:59                                 -500.012567   \n",
       "\n",
       "                     secondary_cleaner.state.floatbank5_a_air  \\\n",
       "date                                                            \n",
       "2018-02-03 18:59:59                                 10.988811   \n",
       "2016-01-22 21:00:00                                  9.991803   \n",
       "2018-02-04 05:59:59                                 10.967049   \n",
       "2017-12-04 08:59:59                                 10.932111   \n",
       "2016-12-04 13:59:59                                 16.884263   \n",
       "\n",
       "                     secondary_cleaner.state.floatbank5_a_level  \\\n",
       "date                                                              \n",
       "2018-02-03 18:59:59                                 -499.555017   \n",
       "2016-01-22 21:00:00                                 -548.024861   \n",
       "2018-02-04 05:59:59                                 -498.515303   \n",
       "2017-12-04 08:59:59                                 -501.255012   \n",
       "2016-12-04 13:59:59                                 -500.650693   \n",
       "\n",
       "                     secondary_cleaner.state.floatbank5_b_air  \\\n",
       "date                                                            \n",
       "2018-02-03 18:59:59                                  8.972743   \n",
       "2016-01-22 21:00:00                                  8.115304   \n",
       "2018-02-04 05:59:59                                  9.048698   \n",
       "2017-12-04 08:59:59                                  8.996277   \n",
       "2016-12-04 13:59:59                                 12.014172   \n",
       "\n",
       "                     secondary_cleaner.state.floatbank5_b_level  \\\n",
       "date                                                              \n",
       "2018-02-03 18:59:59                                 -499.995831   \n",
       "2016-01-22 21:00:00                                 -549.671129   \n",
       "2018-02-04 05:59:59                                 -499.646379   \n",
       "2017-12-04 08:59:59                                 -500.131791   \n",
       "2016-12-04 13:59:59                                 -499.966157   \n",
       "\n",
       "                     secondary_cleaner.state.floatbank6_a_air  \\\n",
       "date                                                            \n",
       "2018-02-03 18:59:59                                 11.007259   \n",
       "2016-01-22 21:00:00                                 12.091153   \n",
       "2018-02-04 05:59:59                                 10.989769   \n",
       "2017-12-04 08:59:59                                 17.976507   \n",
       "2016-12-04 13:59:59                                 21.974355   \n",
       "\n",
       "                     secondary_cleaner.state.floatbank6_a_level  \n",
       "date                                                             \n",
       "2018-02-03 18:59:59                                 -499.396993  \n",
       "2016-01-22 21:00:00                                 -599.996262  \n",
       "2018-02-04 05:59:59                                 -497.826306  \n",
       "2017-12-04 08:59:59                                 -502.551573  \n",
       "2016-12-04 13:59:59                                 -500.185628  \n",
       "\n",
       "[5 rows x 86 columns]"
      ]
     },
     "metadata": {},
     "output_type": "display_data"
    },
    {
     "name": "stdout",
     "output_type": "stream",
     "text": [
      "<class 'pandas.core.frame.DataFrame'>\n",
      "DatetimeIndex: 19439 entries, 2016-01-15 00:00:00 to 2018-08-18 10:59:59\n",
      "Data columns (total 86 columns):\n",
      " #   Column                                              Non-Null Count  Dtype  \n",
      "---  ------                                              --------------  -----  \n",
      " 0   final.output.concentrate_ag                         19438 non-null  float64\n",
      " 1   final.output.concentrate_pb                         19438 non-null  float64\n",
      " 2   final.output.concentrate_sol                        19228 non-null  float64\n",
      " 3   final.output.concentrate_au                         19439 non-null  float64\n",
      " 4   final.output.recovery                               19439 non-null  float64\n",
      " 5   final.output.tail_ag                                19438 non-null  float64\n",
      " 6   final.output.tail_pb                                19338 non-null  float64\n",
      " 7   final.output.tail_sol                               19433 non-null  float64\n",
      " 8   final.output.tail_au                                19439 non-null  float64\n",
      " 9   primary_cleaner.input.sulfate                       19415 non-null  float64\n",
      " 10  primary_cleaner.input.depressant                    19402 non-null  float64\n",
      " 11  primary_cleaner.input.feed_size                     19439 non-null  float64\n",
      " 12  primary_cleaner.input.xanthate                      19335 non-null  float64\n",
      " 13  primary_cleaner.output.concentrate_ag               19439 non-null  float64\n",
      " 14  primary_cleaner.output.concentrate_pb               19323 non-null  float64\n",
      " 15  primary_cleaner.output.concentrate_sol              19069 non-null  float64\n",
      " 16  primary_cleaner.output.concentrate_au               19439 non-null  float64\n",
      " 17  primary_cleaner.output.tail_ag                      19435 non-null  float64\n",
      " 18  primary_cleaner.output.tail_pb                      19418 non-null  float64\n",
      " 19  primary_cleaner.output.tail_sol                     19377 non-null  float64\n",
      " 20  primary_cleaner.output.tail_au                      19439 non-null  float64\n",
      " 21  primary_cleaner.state.floatbank8_a_air              19435 non-null  float64\n",
      " 22  primary_cleaner.state.floatbank8_a_level            19438 non-null  float64\n",
      " 23  primary_cleaner.state.floatbank8_b_air              19435 non-null  float64\n",
      " 24  primary_cleaner.state.floatbank8_b_level            19438 non-null  float64\n",
      " 25  primary_cleaner.state.floatbank8_c_air              19437 non-null  float64\n",
      " 26  primary_cleaner.state.floatbank8_c_level            19438 non-null  float64\n",
      " 27  primary_cleaner.state.floatbank8_d_air              19436 non-null  float64\n",
      " 28  primary_cleaner.state.floatbank8_d_level            19438 non-null  float64\n",
      " 29  rougher.calculation.sulfate_to_au_concentrate       19437 non-null  float64\n",
      " 30  rougher.calculation.floatbank10_sulfate_to_au_feed  19437 non-null  float64\n",
      " 31  rougher.calculation.floatbank11_sulfate_to_au_feed  19437 non-null  float64\n",
      " 32  rougher.calculation.au_pb_ratio                     19439 non-null  float64\n",
      " 33  rougher.input.feed_ag                               19439 non-null  float64\n",
      " 34  rougher.input.feed_pb                               19339 non-null  float64\n",
      " 35  rougher.input.feed_rate                             19428 non-null  float64\n",
      " 36  rougher.input.feed_size                             19294 non-null  float64\n",
      " 37  rougher.input.feed_sol                              19340 non-null  float64\n",
      " 38  rougher.input.feed_au                               19439 non-null  float64\n",
      " 39  rougher.input.floatbank10_sulfate                   19405 non-null  float64\n",
      " 40  rougher.input.floatbank10_xanthate                  19431 non-null  float64\n",
      " 41  rougher.input.floatbank11_sulfate                   19395 non-null  float64\n",
      " 42  rougher.input.floatbank11_xanthate                  18986 non-null  float64\n",
      " 43  rougher.output.concentrate_ag                       19439 non-null  float64\n",
      " 44  rougher.output.concentrate_pb                       19439 non-null  float64\n",
      " 45  rougher.output.concentrate_sol                      19416 non-null  float64\n",
      " 46  rougher.output.concentrate_au                       19439 non-null  float64\n",
      " 47  rougher.output.recovery                             19439 non-null  float64\n",
      " 48  rougher.output.tail_ag                              19438 non-null  float64\n",
      " 49  rougher.output.tail_pb                              19439 non-null  float64\n",
      " 50  rougher.output.tail_sol                             19439 non-null  float64\n",
      " 51  rougher.output.tail_au                              19439 non-null  float64\n",
      " 52  rougher.state.floatbank10_a_air                     19438 non-null  float64\n",
      " 53  rougher.state.floatbank10_a_level                   19438 non-null  float64\n",
      " 54  rougher.state.floatbank10_b_air                     19438 non-null  float64\n",
      " 55  rougher.state.floatbank10_b_level                   19438 non-null  float64\n",
      " 56  rougher.state.floatbank10_c_air                     19438 non-null  float64\n",
      " 57  rougher.state.floatbank10_c_level                   19438 non-null  float64\n",
      " 58  rougher.state.floatbank10_d_air                     19439 non-null  float64\n",
      " 59  rougher.state.floatbank10_d_level                   19439 non-null  float64\n",
      " 60  rougher.state.floatbank10_e_air                     19003 non-null  float64\n",
      " 61  rougher.state.floatbank10_e_level                   19439 non-null  float64\n",
      " 62  rougher.state.floatbank10_f_air                     19439 non-null  float64\n",
      " 63  rougher.state.floatbank10_f_level                   19439 non-null  float64\n",
      " 64  secondary_cleaner.output.tail_ag                    19437 non-null  float64\n",
      " 65  secondary_cleaner.output.tail_pb                    19427 non-null  float64\n",
      " 66  secondary_cleaner.output.tail_sol                   17691 non-null  float64\n",
      " 67  secondary_cleaner.output.tail_au                    19439 non-null  float64\n",
      " 68  secondary_cleaner.state.floatbank2_a_air            19219 non-null  float64\n",
      " 69  secondary_cleaner.state.floatbank2_a_level          19438 non-null  float64\n",
      " 70  secondary_cleaner.state.floatbank2_b_air            19416 non-null  float64\n",
      " 71  secondary_cleaner.state.floatbank2_b_level          19438 non-null  float64\n",
      " 72  secondary_cleaner.state.floatbank3_a_air            19426 non-null  float64\n",
      " 73  secondary_cleaner.state.floatbank3_a_level          19438 non-null  float64\n",
      " 74  secondary_cleaner.state.floatbank3_b_air            19438 non-null  float64\n",
      " 75  secondary_cleaner.state.floatbank3_b_level          19438 non-null  float64\n",
      " 76  secondary_cleaner.state.floatbank4_a_air            19433 non-null  float64\n",
      " 77  secondary_cleaner.state.floatbank4_a_level          19438 non-null  float64\n",
      " 78  secondary_cleaner.state.floatbank4_b_air            19438 non-null  float64\n",
      " 79  secondary_cleaner.state.floatbank4_b_level          19438 non-null  float64\n",
      " 80  secondary_cleaner.state.floatbank5_a_air            19438 non-null  float64\n",
      " 81  secondary_cleaner.state.floatbank5_a_level          19438 non-null  float64\n",
      " 82  secondary_cleaner.state.floatbank5_b_air            19438 non-null  float64\n",
      " 83  secondary_cleaner.state.floatbank5_b_level          19438 non-null  float64\n",
      " 84  secondary_cleaner.state.floatbank6_a_air            19437 non-null  float64\n",
      " 85  secondary_cleaner.state.floatbank6_a_level          19438 non-null  float64\n",
      "dtypes: float64(86)\n",
      "memory usage: 12.9 MB\n"
     ]
    },
    {
     "data": {
      "text/plain": [
       "None"
      ]
     },
     "metadata": {},
     "output_type": "display_data"
    },
    {
     "name": "stdout",
     "output_type": "stream",
     "text": [
      "Число повторяющихся строк: 0 \n",
      "\n",
      "Обучающая выборка :\n"
     ]
    },
    {
     "data": {
      "text/html": [
       "<div>\n",
       "<style scoped>\n",
       "    .dataframe tbody tr th:only-of-type {\n",
       "        vertical-align: middle;\n",
       "    }\n",
       "\n",
       "    .dataframe tbody tr th {\n",
       "        vertical-align: top;\n",
       "    }\n",
       "\n",
       "    .dataframe thead th {\n",
       "        text-align: right;\n",
       "    }\n",
       "</style>\n",
       "<table border=\"1\" class=\"dataframe\">\n",
       "  <thead>\n",
       "    <tr style=\"text-align: right;\">\n",
       "      <th></th>\n",
       "      <th>final.output.concentrate_ag</th>\n",
       "      <th>final.output.concentrate_pb</th>\n",
       "      <th>final.output.concentrate_sol</th>\n",
       "      <th>final.output.concentrate_au</th>\n",
       "      <th>final.output.recovery</th>\n",
       "      <th>final.output.tail_ag</th>\n",
       "      <th>final.output.tail_pb</th>\n",
       "      <th>final.output.tail_sol</th>\n",
       "      <th>final.output.tail_au</th>\n",
       "      <th>primary_cleaner.input.sulfate</th>\n",
       "      <th>...</th>\n",
       "      <th>secondary_cleaner.state.floatbank4_a_air</th>\n",
       "      <th>secondary_cleaner.state.floatbank4_a_level</th>\n",
       "      <th>secondary_cleaner.state.floatbank4_b_air</th>\n",
       "      <th>secondary_cleaner.state.floatbank4_b_level</th>\n",
       "      <th>secondary_cleaner.state.floatbank5_a_air</th>\n",
       "      <th>secondary_cleaner.state.floatbank5_a_level</th>\n",
       "      <th>secondary_cleaner.state.floatbank5_b_air</th>\n",
       "      <th>secondary_cleaner.state.floatbank5_b_level</th>\n",
       "      <th>secondary_cleaner.state.floatbank6_a_air</th>\n",
       "      <th>secondary_cleaner.state.floatbank6_a_level</th>\n",
       "    </tr>\n",
       "    <tr>\n",
       "      <th>date</th>\n",
       "      <th></th>\n",
       "      <th></th>\n",
       "      <th></th>\n",
       "      <th></th>\n",
       "      <th></th>\n",
       "      <th></th>\n",
       "      <th></th>\n",
       "      <th></th>\n",
       "      <th></th>\n",
       "      <th></th>\n",
       "      <th></th>\n",
       "      <th></th>\n",
       "      <th></th>\n",
       "      <th></th>\n",
       "      <th></th>\n",
       "      <th></th>\n",
       "      <th></th>\n",
       "      <th></th>\n",
       "      <th></th>\n",
       "      <th></th>\n",
       "      <th></th>\n",
       "    </tr>\n",
       "  </thead>\n",
       "  <tbody>\n",
       "    <tr>\n",
       "      <th>2017-03-15 03:59:59</th>\n",
       "      <td>5.517868</td>\n",
       "      <td>8.258517</td>\n",
       "      <td>11.320346</td>\n",
       "      <td>47.121492</td>\n",
       "      <td>79.489412</td>\n",
       "      <td>11.863328</td>\n",
       "      <td>2.537346</td>\n",
       "      <td>12.562535</td>\n",
       "      <td>2.528717</td>\n",
       "      <td>191.031545</td>\n",
       "      <td>...</td>\n",
       "      <td>25.016093</td>\n",
       "      <td>-398.539208</td>\n",
       "      <td>23.031005</td>\n",
       "      <td>-400.009528</td>\n",
       "      <td>21.352899</td>\n",
       "      <td>-448.988184</td>\n",
       "      <td>20.006748</td>\n",
       "      <td>-449.697171</td>\n",
       "      <td>25.012810</td>\n",
       "      <td>-498.414829</td>\n",
       "    </tr>\n",
       "    <tr>\n",
       "      <th>2017-02-08 23:59:59</th>\n",
       "      <td>9.588426</td>\n",
       "      <td>8.124594</td>\n",
       "      <td>15.395407</td>\n",
       "      <td>41.365434</td>\n",
       "      <td>69.563587</td>\n",
       "      <td>12.149533</td>\n",
       "      <td>3.397611</td>\n",
       "      <td>7.880951</td>\n",
       "      <td>4.135267</td>\n",
       "      <td>128.585915</td>\n",
       "      <td>...</td>\n",
       "      <td>24.994800</td>\n",
       "      <td>-450.376877</td>\n",
       "      <td>22.947191</td>\n",
       "      <td>-399.855621</td>\n",
       "      <td>23.011824</td>\n",
       "      <td>-498.837022</td>\n",
       "      <td>20.002404</td>\n",
       "      <td>-499.978731</td>\n",
       "      <td>24.993973</td>\n",
       "      <td>-599.801758</td>\n",
       "    </tr>\n",
       "    <tr>\n",
       "      <th>2017-07-30 11:59:59</th>\n",
       "      <td>4.032742</td>\n",
       "      <td>8.476482</td>\n",
       "      <td>6.910743</td>\n",
       "      <td>48.767682</td>\n",
       "      <td>40.517109</td>\n",
       "      <td>7.057202</td>\n",
       "      <td>2.755512</td>\n",
       "      <td>10.774458</td>\n",
       "      <td>4.347256</td>\n",
       "      <td>94.835587</td>\n",
       "      <td>...</td>\n",
       "      <td>12.972498</td>\n",
       "      <td>-501.059390</td>\n",
       "      <td>9.968452</td>\n",
       "      <td>-399.575478</td>\n",
       "      <td>10.957300</td>\n",
       "      <td>-500.045248</td>\n",
       "      <td>8.967229</td>\n",
       "      <td>-500.011511</td>\n",
       "      <td>11.996780</td>\n",
       "      <td>-499.821194</td>\n",
       "    </tr>\n",
       "    <tr>\n",
       "      <th>2017-01-19 22:59:59</th>\n",
       "      <td>5.170677</td>\n",
       "      <td>9.667374</td>\n",
       "      <td>14.392670</td>\n",
       "      <td>45.384571</td>\n",
       "      <td>65.920862</td>\n",
       "      <td>10.110070</td>\n",
       "      <td>3.075446</td>\n",
       "      <td>10.420500</td>\n",
       "      <td>3.527980</td>\n",
       "      <td>159.673855</td>\n",
       "      <td>...</td>\n",
       "      <td>14.023742</td>\n",
       "      <td>-499.823399</td>\n",
       "      <td>13.946191</td>\n",
       "      <td>-500.209785</td>\n",
       "      <td>13.121886</td>\n",
       "      <td>-498.207991</td>\n",
       "      <td>7.982686</td>\n",
       "      <td>-500.280112</td>\n",
       "      <td>20.003090</td>\n",
       "      <td>-602.035918</td>\n",
       "    </tr>\n",
       "    <tr>\n",
       "      <th>2017-06-21 21:59:59</th>\n",
       "      <td>5.908767</td>\n",
       "      <td>9.728948</td>\n",
       "      <td>6.877922</td>\n",
       "      <td>43.792475</td>\n",
       "      <td>54.891209</td>\n",
       "      <td>8.611599</td>\n",
       "      <td>3.116454</td>\n",
       "      <td>6.646116</td>\n",
       "      <td>3.278848</td>\n",
       "      <td>84.885470</td>\n",
       "      <td>...</td>\n",
       "      <td>17.967225</td>\n",
       "      <td>-497.212028</td>\n",
       "      <td>12.999895</td>\n",
       "      <td>-375.092082</td>\n",
       "      <td>18.010975</td>\n",
       "      <td>-499.843049</td>\n",
       "      <td>13.006673</td>\n",
       "      <td>-500.122788</td>\n",
       "      <td>14.993604</td>\n",
       "      <td>-499.229954</td>\n",
       "    </tr>\n",
       "  </tbody>\n",
       "</table>\n",
       "<p>5 rows × 86 columns</p>\n",
       "</div>"
      ],
      "text/plain": [
       "                     final.output.concentrate_ag  final.output.concentrate_pb  \\\n",
       "date                                                                            \n",
       "2017-03-15 03:59:59                     5.517868                     8.258517   \n",
       "2017-02-08 23:59:59                     9.588426                     8.124594   \n",
       "2017-07-30 11:59:59                     4.032742                     8.476482   \n",
       "2017-01-19 22:59:59                     5.170677                     9.667374   \n",
       "2017-06-21 21:59:59                     5.908767                     9.728948   \n",
       "\n",
       "                     final.output.concentrate_sol  \\\n",
       "date                                                \n",
       "2017-03-15 03:59:59                     11.320346   \n",
       "2017-02-08 23:59:59                     15.395407   \n",
       "2017-07-30 11:59:59                      6.910743   \n",
       "2017-01-19 22:59:59                     14.392670   \n",
       "2017-06-21 21:59:59                      6.877922   \n",
       "\n",
       "                     final.output.concentrate_au  final.output.recovery  \\\n",
       "date                                                                      \n",
       "2017-03-15 03:59:59                    47.121492              79.489412   \n",
       "2017-02-08 23:59:59                    41.365434              69.563587   \n",
       "2017-07-30 11:59:59                    48.767682              40.517109   \n",
       "2017-01-19 22:59:59                    45.384571              65.920862   \n",
       "2017-06-21 21:59:59                    43.792475              54.891209   \n",
       "\n",
       "                     final.output.tail_ag  final.output.tail_pb  \\\n",
       "date                                                              \n",
       "2017-03-15 03:59:59             11.863328              2.537346   \n",
       "2017-02-08 23:59:59             12.149533              3.397611   \n",
       "2017-07-30 11:59:59              7.057202              2.755512   \n",
       "2017-01-19 22:59:59             10.110070              3.075446   \n",
       "2017-06-21 21:59:59              8.611599              3.116454   \n",
       "\n",
       "                     final.output.tail_sol  final.output.tail_au  \\\n",
       "date                                                               \n",
       "2017-03-15 03:59:59              12.562535              2.528717   \n",
       "2017-02-08 23:59:59               7.880951              4.135267   \n",
       "2017-07-30 11:59:59              10.774458              4.347256   \n",
       "2017-01-19 22:59:59              10.420500              3.527980   \n",
       "2017-06-21 21:59:59               6.646116              3.278848   \n",
       "\n",
       "                     primary_cleaner.input.sulfate  ...  \\\n",
       "date                                                ...   \n",
       "2017-03-15 03:59:59                     191.031545  ...   \n",
       "2017-02-08 23:59:59                     128.585915  ...   \n",
       "2017-07-30 11:59:59                      94.835587  ...   \n",
       "2017-01-19 22:59:59                     159.673855  ...   \n",
       "2017-06-21 21:59:59                      84.885470  ...   \n",
       "\n",
       "                     secondary_cleaner.state.floatbank4_a_air  \\\n",
       "date                                                            \n",
       "2017-03-15 03:59:59                                 25.016093   \n",
       "2017-02-08 23:59:59                                 24.994800   \n",
       "2017-07-30 11:59:59                                 12.972498   \n",
       "2017-01-19 22:59:59                                 14.023742   \n",
       "2017-06-21 21:59:59                                 17.967225   \n",
       "\n",
       "                     secondary_cleaner.state.floatbank4_a_level  \\\n",
       "date                                                              \n",
       "2017-03-15 03:59:59                                 -398.539208   \n",
       "2017-02-08 23:59:59                                 -450.376877   \n",
       "2017-07-30 11:59:59                                 -501.059390   \n",
       "2017-01-19 22:59:59                                 -499.823399   \n",
       "2017-06-21 21:59:59                                 -497.212028   \n",
       "\n",
       "                     secondary_cleaner.state.floatbank4_b_air  \\\n",
       "date                                                            \n",
       "2017-03-15 03:59:59                                 23.031005   \n",
       "2017-02-08 23:59:59                                 22.947191   \n",
       "2017-07-30 11:59:59                                  9.968452   \n",
       "2017-01-19 22:59:59                                 13.946191   \n",
       "2017-06-21 21:59:59                                 12.999895   \n",
       "\n",
       "                     secondary_cleaner.state.floatbank4_b_level  \\\n",
       "date                                                              \n",
       "2017-03-15 03:59:59                                 -400.009528   \n",
       "2017-02-08 23:59:59                                 -399.855621   \n",
       "2017-07-30 11:59:59                                 -399.575478   \n",
       "2017-01-19 22:59:59                                 -500.209785   \n",
       "2017-06-21 21:59:59                                 -375.092082   \n",
       "\n",
       "                     secondary_cleaner.state.floatbank5_a_air  \\\n",
       "date                                                            \n",
       "2017-03-15 03:59:59                                 21.352899   \n",
       "2017-02-08 23:59:59                                 23.011824   \n",
       "2017-07-30 11:59:59                                 10.957300   \n",
       "2017-01-19 22:59:59                                 13.121886   \n",
       "2017-06-21 21:59:59                                 18.010975   \n",
       "\n",
       "                     secondary_cleaner.state.floatbank5_a_level  \\\n",
       "date                                                              \n",
       "2017-03-15 03:59:59                                 -448.988184   \n",
       "2017-02-08 23:59:59                                 -498.837022   \n",
       "2017-07-30 11:59:59                                 -500.045248   \n",
       "2017-01-19 22:59:59                                 -498.207991   \n",
       "2017-06-21 21:59:59                                 -499.843049   \n",
       "\n",
       "                     secondary_cleaner.state.floatbank5_b_air  \\\n",
       "date                                                            \n",
       "2017-03-15 03:59:59                                 20.006748   \n",
       "2017-02-08 23:59:59                                 20.002404   \n",
       "2017-07-30 11:59:59                                  8.967229   \n",
       "2017-01-19 22:59:59                                  7.982686   \n",
       "2017-06-21 21:59:59                                 13.006673   \n",
       "\n",
       "                     secondary_cleaner.state.floatbank5_b_level  \\\n",
       "date                                                              \n",
       "2017-03-15 03:59:59                                 -449.697171   \n",
       "2017-02-08 23:59:59                                 -499.978731   \n",
       "2017-07-30 11:59:59                                 -500.011511   \n",
       "2017-01-19 22:59:59                                 -500.280112   \n",
       "2017-06-21 21:59:59                                 -500.122788   \n",
       "\n",
       "                     secondary_cleaner.state.floatbank6_a_air  \\\n",
       "date                                                            \n",
       "2017-03-15 03:59:59                                 25.012810   \n",
       "2017-02-08 23:59:59                                 24.993973   \n",
       "2017-07-30 11:59:59                                 11.996780   \n",
       "2017-01-19 22:59:59                                 20.003090   \n",
       "2017-06-21 21:59:59                                 14.993604   \n",
       "\n",
       "                     secondary_cleaner.state.floatbank6_a_level  \n",
       "date                                                             \n",
       "2017-03-15 03:59:59                                 -498.414829  \n",
       "2017-02-08 23:59:59                                 -599.801758  \n",
       "2017-07-30 11:59:59                                 -499.821194  \n",
       "2017-01-19 22:59:59                                 -602.035918  \n",
       "2017-06-21 21:59:59                                 -499.229954  \n",
       "\n",
       "[5 rows x 86 columns]"
      ]
     },
     "metadata": {},
     "output_type": "display_data"
    },
    {
     "name": "stdout",
     "output_type": "stream",
     "text": [
      "<class 'pandas.core.frame.DataFrame'>\n",
      "DatetimeIndex: 14149 entries, 2016-01-15 00:00:00 to 2018-08-18 10:59:59\n",
      "Data columns (total 86 columns):\n",
      " #   Column                                              Non-Null Count  Dtype  \n",
      "---  ------                                              --------------  -----  \n",
      " 0   final.output.concentrate_ag                         14148 non-null  float64\n",
      " 1   final.output.concentrate_pb                         14148 non-null  float64\n",
      " 2   final.output.concentrate_sol                        13938 non-null  float64\n",
      " 3   final.output.concentrate_au                         14149 non-null  float64\n",
      " 4   final.output.recovery                               14149 non-null  float64\n",
      " 5   final.output.tail_ag                                14149 non-null  float64\n",
      " 6   final.output.tail_pb                                14049 non-null  float64\n",
      " 7   final.output.tail_sol                               14144 non-null  float64\n",
      " 8   final.output.tail_au                                14149 non-null  float64\n",
      " 9   primary_cleaner.input.sulfate                       14129 non-null  float64\n",
      " 10  primary_cleaner.input.depressant                    14117 non-null  float64\n",
      " 11  primary_cleaner.input.feed_size                     14149 non-null  float64\n",
      " 12  primary_cleaner.input.xanthate                      14049 non-null  float64\n",
      " 13  primary_cleaner.output.concentrate_ag               14149 non-null  float64\n",
      " 14  primary_cleaner.output.concentrate_pb               14063 non-null  float64\n",
      " 15  primary_cleaner.output.concentrate_sol              13863 non-null  float64\n",
      " 16  primary_cleaner.output.concentrate_au               14149 non-null  float64\n",
      " 17  primary_cleaner.output.tail_ag                      14148 non-null  float64\n",
      " 18  primary_cleaner.output.tail_pb                      14134 non-null  float64\n",
      " 19  primary_cleaner.output.tail_sol                     14103 non-null  float64\n",
      " 20  primary_cleaner.output.tail_au                      14149 non-null  float64\n",
      " 21  primary_cleaner.state.floatbank8_a_air              14145 non-null  float64\n",
      " 22  primary_cleaner.state.floatbank8_a_level            14148 non-null  float64\n",
      " 23  primary_cleaner.state.floatbank8_b_air              14145 non-null  float64\n",
      " 24  primary_cleaner.state.floatbank8_b_level            14148 non-null  float64\n",
      " 25  primary_cleaner.state.floatbank8_c_air              14147 non-null  float64\n",
      " 26  primary_cleaner.state.floatbank8_c_level            14148 non-null  float64\n",
      " 27  primary_cleaner.state.floatbank8_d_air              14146 non-null  float64\n",
      " 28  primary_cleaner.state.floatbank8_d_level            14148 non-null  float64\n",
      " 29  rougher.calculation.sulfate_to_au_concentrate       14148 non-null  float64\n",
      " 30  rougher.calculation.floatbank10_sulfate_to_au_feed  14148 non-null  float64\n",
      " 31  rougher.calculation.floatbank11_sulfate_to_au_feed  14148 non-null  float64\n",
      " 32  rougher.calculation.au_pb_ratio                     14149 non-null  float64\n",
      " 33  rougher.input.feed_ag                               14149 non-null  float64\n",
      " 34  rougher.input.feed_pb                               14049 non-null  float64\n",
      " 35  rougher.input.feed_rate                             14141 non-null  float64\n",
      " 36  rougher.input.feed_size                             14005 non-null  float64\n",
      " 37  rougher.input.feed_sol                              14071 non-null  float64\n",
      " 38  rougher.input.feed_au                               14149 non-null  float64\n",
      " 39  rougher.input.floatbank10_sulfate                   14120 non-null  float64\n",
      " 40  rougher.input.floatbank10_xanthate                  14141 non-null  float64\n",
      " 41  rougher.input.floatbank11_sulfate                   14113 non-null  float64\n",
      " 42  rougher.input.floatbank11_xanthate                  13721 non-null  float64\n",
      " 43  rougher.output.concentrate_ag                       14149 non-null  float64\n",
      " 44  rougher.output.concentrate_pb                       14149 non-null  float64\n",
      " 45  rougher.output.concentrate_sol                      14127 non-null  float64\n",
      " 46  rougher.output.concentrate_au                       14149 non-null  float64\n",
      " 47  rougher.output.recovery                             14149 non-null  float64\n",
      " 48  rougher.output.tail_ag                              14148 non-null  float64\n",
      " 49  rougher.output.tail_pb                              14149 non-null  float64\n",
      " 50  rougher.output.tail_sol                             14149 non-null  float64\n",
      " 51  rougher.output.tail_au                              14149 non-null  float64\n",
      " 52  rougher.state.floatbank10_a_air                     14148 non-null  float64\n",
      " 53  rougher.state.floatbank10_a_level                   14148 non-null  float64\n",
      " 54  rougher.state.floatbank10_b_air                     14148 non-null  float64\n",
      " 55  rougher.state.floatbank10_b_level                   14148 non-null  float64\n",
      " 56  rougher.state.floatbank10_c_air                     14148 non-null  float64\n",
      " 57  rougher.state.floatbank10_c_level                   14148 non-null  float64\n",
      " 58  rougher.state.floatbank10_d_air                     14149 non-null  float64\n",
      " 59  rougher.state.floatbank10_d_level                   14149 non-null  float64\n",
      " 60  rougher.state.floatbank10_e_air                     13713 non-null  float64\n",
      " 61  rougher.state.floatbank10_e_level                   14149 non-null  float64\n",
      " 62  rougher.state.floatbank10_f_air                     14149 non-null  float64\n",
      " 63  rougher.state.floatbank10_f_level                   14149 non-null  float64\n",
      " 64  secondary_cleaner.output.tail_ag                    14147 non-null  float64\n",
      " 65  secondary_cleaner.output.tail_pb                    14139 non-null  float64\n",
      " 66  secondary_cleaner.output.tail_sol                   12544 non-null  float64\n",
      " 67  secondary_cleaner.output.tail_au                    14149 non-null  float64\n",
      " 68  secondary_cleaner.state.floatbank2_a_air            13932 non-null  float64\n",
      " 69  secondary_cleaner.state.floatbank2_a_level          14148 non-null  float64\n",
      " 70  secondary_cleaner.state.floatbank2_b_air            14128 non-null  float64\n",
      " 71  secondary_cleaner.state.floatbank2_b_level          14148 non-null  float64\n",
      " 72  secondary_cleaner.state.floatbank3_a_air            14145 non-null  float64\n",
      " 73  secondary_cleaner.state.floatbank3_a_level          14148 non-null  float64\n",
      " 74  secondary_cleaner.state.floatbank3_b_air            14148 non-null  float64\n",
      " 75  secondary_cleaner.state.floatbank3_b_level          14148 non-null  float64\n",
      " 76  secondary_cleaner.state.floatbank4_a_air            14143 non-null  float64\n",
      " 77  secondary_cleaner.state.floatbank4_a_level          14148 non-null  float64\n",
      " 78  secondary_cleaner.state.floatbank4_b_air            14148 non-null  float64\n",
      " 79  secondary_cleaner.state.floatbank4_b_level          14148 non-null  float64\n",
      " 80  secondary_cleaner.state.floatbank5_a_air            14148 non-null  float64\n",
      " 81  secondary_cleaner.state.floatbank5_a_level          14148 non-null  float64\n",
      " 82  secondary_cleaner.state.floatbank5_b_air            14148 non-null  float64\n",
      " 83  secondary_cleaner.state.floatbank5_b_level          14148 non-null  float64\n",
      " 84  secondary_cleaner.state.floatbank6_a_air            14147 non-null  float64\n",
      " 85  secondary_cleaner.state.floatbank6_a_level          14148 non-null  float64\n",
      "dtypes: float64(86)\n",
      "memory usage: 9.4 MB\n"
     ]
    },
    {
     "data": {
      "text/plain": [
       "None"
      ]
     },
     "metadata": {},
     "output_type": "display_data"
    },
    {
     "name": "stdout",
     "output_type": "stream",
     "text": [
      "Число повторяющихся строк: 0 \n",
      "\n",
      "Тестовые данные :\n"
     ]
    },
    {
     "data": {
      "text/html": [
       "<div>\n",
       "<style scoped>\n",
       "    .dataframe tbody tr th:only-of-type {\n",
       "        vertical-align: middle;\n",
       "    }\n",
       "\n",
       "    .dataframe tbody tr th {\n",
       "        vertical-align: top;\n",
       "    }\n",
       "\n",
       "    .dataframe thead th {\n",
       "        text-align: right;\n",
       "    }\n",
       "</style>\n",
       "<table border=\"1\" class=\"dataframe\">\n",
       "  <thead>\n",
       "    <tr style=\"text-align: right;\">\n",
       "      <th></th>\n",
       "      <th>primary_cleaner.input.sulfate</th>\n",
       "      <th>primary_cleaner.input.depressant</th>\n",
       "      <th>primary_cleaner.input.feed_size</th>\n",
       "      <th>primary_cleaner.input.xanthate</th>\n",
       "      <th>primary_cleaner.state.floatbank8_a_air</th>\n",
       "      <th>primary_cleaner.state.floatbank8_a_level</th>\n",
       "      <th>primary_cleaner.state.floatbank8_b_air</th>\n",
       "      <th>primary_cleaner.state.floatbank8_b_level</th>\n",
       "      <th>primary_cleaner.state.floatbank8_c_air</th>\n",
       "      <th>primary_cleaner.state.floatbank8_c_level</th>\n",
       "      <th>...</th>\n",
       "      <th>secondary_cleaner.state.floatbank4_a_air</th>\n",
       "      <th>secondary_cleaner.state.floatbank4_a_level</th>\n",
       "      <th>secondary_cleaner.state.floatbank4_b_air</th>\n",
       "      <th>secondary_cleaner.state.floatbank4_b_level</th>\n",
       "      <th>secondary_cleaner.state.floatbank5_a_air</th>\n",
       "      <th>secondary_cleaner.state.floatbank5_a_level</th>\n",
       "      <th>secondary_cleaner.state.floatbank5_b_air</th>\n",
       "      <th>secondary_cleaner.state.floatbank5_b_level</th>\n",
       "      <th>secondary_cleaner.state.floatbank6_a_air</th>\n",
       "      <th>secondary_cleaner.state.floatbank6_a_level</th>\n",
       "    </tr>\n",
       "    <tr>\n",
       "      <th>date</th>\n",
       "      <th></th>\n",
       "      <th></th>\n",
       "      <th></th>\n",
       "      <th></th>\n",
       "      <th></th>\n",
       "      <th></th>\n",
       "      <th></th>\n",
       "      <th></th>\n",
       "      <th></th>\n",
       "      <th></th>\n",
       "      <th></th>\n",
       "      <th></th>\n",
       "      <th></th>\n",
       "      <th></th>\n",
       "      <th></th>\n",
       "      <th></th>\n",
       "      <th></th>\n",
       "      <th></th>\n",
       "      <th></th>\n",
       "      <th></th>\n",
       "      <th></th>\n",
       "    </tr>\n",
       "  </thead>\n",
       "  <tbody>\n",
       "    <tr>\n",
       "      <th>2016-10-04 00:59:59</th>\n",
       "      <td>118.847174</td>\n",
       "      <td>4.570858</td>\n",
       "      <td>7.690</td>\n",
       "      <td>0.708591</td>\n",
       "      <td>1597.795962</td>\n",
       "      <td>-500.450795</td>\n",
       "      <td>1604.618276</td>\n",
       "      <td>-500.364080</td>\n",
       "      <td>1602.502332</td>\n",
       "      <td>-499.987413</td>\n",
       "      <td>...</td>\n",
       "      <td>14.005368</td>\n",
       "      <td>-494.458926</td>\n",
       "      <td>12.969058</td>\n",
       "      <td>-499.099395</td>\n",
       "      <td>11.143138</td>\n",
       "      <td>-499.737639</td>\n",
       "      <td>7.955966</td>\n",
       "      <td>-499.492711</td>\n",
       "      <td>22.985045</td>\n",
       "      <td>-499.236723</td>\n",
       "    </tr>\n",
       "    <tr>\n",
       "      <th>2016-10-08 03:59:59</th>\n",
       "      <td>183.211834</td>\n",
       "      <td>5.968123</td>\n",
       "      <td>7.340</td>\n",
       "      <td>0.807694</td>\n",
       "      <td>1500.134022</td>\n",
       "      <td>-500.709826</td>\n",
       "      <td>1498.545017</td>\n",
       "      <td>-500.331619</td>\n",
       "      <td>1499.046894</td>\n",
       "      <td>-499.555965</td>\n",
       "      <td>...</td>\n",
       "      <td>12.028916</td>\n",
       "      <td>-501.028292</td>\n",
       "      <td>11.988017</td>\n",
       "      <td>-500.321032</td>\n",
       "      <td>10.364946</td>\n",
       "      <td>-502.332971</td>\n",
       "      <td>7.076907</td>\n",
       "      <td>-502.075959</td>\n",
       "      <td>18.000757</td>\n",
       "      <td>-500.624301</td>\n",
       "    </tr>\n",
       "    <tr>\n",
       "      <th>2017-11-24 07:59:59</th>\n",
       "      <td>234.296040</td>\n",
       "      <td>14.060719</td>\n",
       "      <td>7.130</td>\n",
       "      <td>2.987655</td>\n",
       "      <td>1650.629946</td>\n",
       "      <td>-189.696878</td>\n",
       "      <td>1649.663705</td>\n",
       "      <td>-590.323355</td>\n",
       "      <td>1552.502708</td>\n",
       "      <td>-541.486068</td>\n",
       "      <td>...</td>\n",
       "      <td>16.936444</td>\n",
       "      <td>-499.168228</td>\n",
       "      <td>14.958780</td>\n",
       "      <td>-499.815354</td>\n",
       "      <td>10.931133</td>\n",
       "      <td>-503.030150</td>\n",
       "      <td>8.984498</td>\n",
       "      <td>-500.006440</td>\n",
       "      <td>15.983584</td>\n",
       "      <td>-503.968484</td>\n",
       "    </tr>\n",
       "    <tr>\n",
       "      <th>2016-09-16 22:59:59</th>\n",
       "      <td>145.400466</td>\n",
       "      <td>6.975210</td>\n",
       "      <td>6.630</td>\n",
       "      <td>1.098755</td>\n",
       "      <td>1499.796344</td>\n",
       "      <td>-500.932495</td>\n",
       "      <td>1496.729635</td>\n",
       "      <td>-499.740931</td>\n",
       "      <td>1500.746845</td>\n",
       "      <td>-499.612314</td>\n",
       "      <td>...</td>\n",
       "      <td>8.009994</td>\n",
       "      <td>-500.109021</td>\n",
       "      <td>4.994609</td>\n",
       "      <td>-500.000102</td>\n",
       "      <td>7.918007</td>\n",
       "      <td>-500.367798</td>\n",
       "      <td>2.982133</td>\n",
       "      <td>-500.025514</td>\n",
       "      <td>19.997947</td>\n",
       "      <td>-499.726867</td>\n",
       "    </tr>\n",
       "    <tr>\n",
       "      <th>2016-11-19 10:59:59</th>\n",
       "      <td>229.192551</td>\n",
       "      <td>8.001298</td>\n",
       "      <td>7.017</td>\n",
       "      <td>1.616467</td>\n",
       "      <td>1600.893674</td>\n",
       "      <td>-500.373764</td>\n",
       "      <td>1595.092065</td>\n",
       "      <td>-499.698071</td>\n",
       "      <td>1601.547259</td>\n",
       "      <td>-500.245794</td>\n",
       "      <td>...</td>\n",
       "      <td>16.013269</td>\n",
       "      <td>-501.371961</td>\n",
       "      <td>14.031500</td>\n",
       "      <td>-503.608472</td>\n",
       "      <td>15.581394</td>\n",
       "      <td>-529.090025</td>\n",
       "      <td>4.912557</td>\n",
       "      <td>-359.647585</td>\n",
       "      <td>22.004922</td>\n",
       "      <td>-505.348385</td>\n",
       "    </tr>\n",
       "  </tbody>\n",
       "</table>\n",
       "<p>5 rows × 52 columns</p>\n",
       "</div>"
      ],
      "text/plain": [
       "                     primary_cleaner.input.sulfate  \\\n",
       "date                                                 \n",
       "2016-10-04 00:59:59                     118.847174   \n",
       "2016-10-08 03:59:59                     183.211834   \n",
       "2017-11-24 07:59:59                     234.296040   \n",
       "2016-09-16 22:59:59                     145.400466   \n",
       "2016-11-19 10:59:59                     229.192551   \n",
       "\n",
       "                     primary_cleaner.input.depressant  \\\n",
       "date                                                    \n",
       "2016-10-04 00:59:59                          4.570858   \n",
       "2016-10-08 03:59:59                          5.968123   \n",
       "2017-11-24 07:59:59                         14.060719   \n",
       "2016-09-16 22:59:59                          6.975210   \n",
       "2016-11-19 10:59:59                          8.001298   \n",
       "\n",
       "                     primary_cleaner.input.feed_size  \\\n",
       "date                                                   \n",
       "2016-10-04 00:59:59                            7.690   \n",
       "2016-10-08 03:59:59                            7.340   \n",
       "2017-11-24 07:59:59                            7.130   \n",
       "2016-09-16 22:59:59                            6.630   \n",
       "2016-11-19 10:59:59                            7.017   \n",
       "\n",
       "                     primary_cleaner.input.xanthate  \\\n",
       "date                                                  \n",
       "2016-10-04 00:59:59                        0.708591   \n",
       "2016-10-08 03:59:59                        0.807694   \n",
       "2017-11-24 07:59:59                        2.987655   \n",
       "2016-09-16 22:59:59                        1.098755   \n",
       "2016-11-19 10:59:59                        1.616467   \n",
       "\n",
       "                     primary_cleaner.state.floatbank8_a_air  \\\n",
       "date                                                          \n",
       "2016-10-04 00:59:59                             1597.795962   \n",
       "2016-10-08 03:59:59                             1500.134022   \n",
       "2017-11-24 07:59:59                             1650.629946   \n",
       "2016-09-16 22:59:59                             1499.796344   \n",
       "2016-11-19 10:59:59                             1600.893674   \n",
       "\n",
       "                     primary_cleaner.state.floatbank8_a_level  \\\n",
       "date                                                            \n",
       "2016-10-04 00:59:59                               -500.450795   \n",
       "2016-10-08 03:59:59                               -500.709826   \n",
       "2017-11-24 07:59:59                               -189.696878   \n",
       "2016-09-16 22:59:59                               -500.932495   \n",
       "2016-11-19 10:59:59                               -500.373764   \n",
       "\n",
       "                     primary_cleaner.state.floatbank8_b_air  \\\n",
       "date                                                          \n",
       "2016-10-04 00:59:59                             1604.618276   \n",
       "2016-10-08 03:59:59                             1498.545017   \n",
       "2017-11-24 07:59:59                             1649.663705   \n",
       "2016-09-16 22:59:59                             1496.729635   \n",
       "2016-11-19 10:59:59                             1595.092065   \n",
       "\n",
       "                     primary_cleaner.state.floatbank8_b_level  \\\n",
       "date                                                            \n",
       "2016-10-04 00:59:59                               -500.364080   \n",
       "2016-10-08 03:59:59                               -500.331619   \n",
       "2017-11-24 07:59:59                               -590.323355   \n",
       "2016-09-16 22:59:59                               -499.740931   \n",
       "2016-11-19 10:59:59                               -499.698071   \n",
       "\n",
       "                     primary_cleaner.state.floatbank8_c_air  \\\n",
       "date                                                          \n",
       "2016-10-04 00:59:59                             1602.502332   \n",
       "2016-10-08 03:59:59                             1499.046894   \n",
       "2017-11-24 07:59:59                             1552.502708   \n",
       "2016-09-16 22:59:59                             1500.746845   \n",
       "2016-11-19 10:59:59                             1601.547259   \n",
       "\n",
       "                     primary_cleaner.state.floatbank8_c_level  ...  \\\n",
       "date                                                           ...   \n",
       "2016-10-04 00:59:59                               -499.987413  ...   \n",
       "2016-10-08 03:59:59                               -499.555965  ...   \n",
       "2017-11-24 07:59:59                               -541.486068  ...   \n",
       "2016-09-16 22:59:59                               -499.612314  ...   \n",
       "2016-11-19 10:59:59                               -500.245794  ...   \n",
       "\n",
       "                     secondary_cleaner.state.floatbank4_a_air  \\\n",
       "date                                                            \n",
       "2016-10-04 00:59:59                                 14.005368   \n",
       "2016-10-08 03:59:59                                 12.028916   \n",
       "2017-11-24 07:59:59                                 16.936444   \n",
       "2016-09-16 22:59:59                                  8.009994   \n",
       "2016-11-19 10:59:59                                 16.013269   \n",
       "\n",
       "                     secondary_cleaner.state.floatbank4_a_level  \\\n",
       "date                                                              \n",
       "2016-10-04 00:59:59                                 -494.458926   \n",
       "2016-10-08 03:59:59                                 -501.028292   \n",
       "2017-11-24 07:59:59                                 -499.168228   \n",
       "2016-09-16 22:59:59                                 -500.109021   \n",
       "2016-11-19 10:59:59                                 -501.371961   \n",
       "\n",
       "                     secondary_cleaner.state.floatbank4_b_air  \\\n",
       "date                                                            \n",
       "2016-10-04 00:59:59                                 12.969058   \n",
       "2016-10-08 03:59:59                                 11.988017   \n",
       "2017-11-24 07:59:59                                 14.958780   \n",
       "2016-09-16 22:59:59                                  4.994609   \n",
       "2016-11-19 10:59:59                                 14.031500   \n",
       "\n",
       "                     secondary_cleaner.state.floatbank4_b_level  \\\n",
       "date                                                              \n",
       "2016-10-04 00:59:59                                 -499.099395   \n",
       "2016-10-08 03:59:59                                 -500.321032   \n",
       "2017-11-24 07:59:59                                 -499.815354   \n",
       "2016-09-16 22:59:59                                 -500.000102   \n",
       "2016-11-19 10:59:59                                 -503.608472   \n",
       "\n",
       "                     secondary_cleaner.state.floatbank5_a_air  \\\n",
       "date                                                            \n",
       "2016-10-04 00:59:59                                 11.143138   \n",
       "2016-10-08 03:59:59                                 10.364946   \n",
       "2017-11-24 07:59:59                                 10.931133   \n",
       "2016-09-16 22:59:59                                  7.918007   \n",
       "2016-11-19 10:59:59                                 15.581394   \n",
       "\n",
       "                     secondary_cleaner.state.floatbank5_a_level  \\\n",
       "date                                                              \n",
       "2016-10-04 00:59:59                                 -499.737639   \n",
       "2016-10-08 03:59:59                                 -502.332971   \n",
       "2017-11-24 07:59:59                                 -503.030150   \n",
       "2016-09-16 22:59:59                                 -500.367798   \n",
       "2016-11-19 10:59:59                                 -529.090025   \n",
       "\n",
       "                     secondary_cleaner.state.floatbank5_b_air  \\\n",
       "date                                                            \n",
       "2016-10-04 00:59:59                                  7.955966   \n",
       "2016-10-08 03:59:59                                  7.076907   \n",
       "2017-11-24 07:59:59                                  8.984498   \n",
       "2016-09-16 22:59:59                                  2.982133   \n",
       "2016-11-19 10:59:59                                  4.912557   \n",
       "\n",
       "                     secondary_cleaner.state.floatbank5_b_level  \\\n",
       "date                                                              \n",
       "2016-10-04 00:59:59                                 -499.492711   \n",
       "2016-10-08 03:59:59                                 -502.075959   \n",
       "2017-11-24 07:59:59                                 -500.006440   \n",
       "2016-09-16 22:59:59                                 -500.025514   \n",
       "2016-11-19 10:59:59                                 -359.647585   \n",
       "\n",
       "                     secondary_cleaner.state.floatbank6_a_air  \\\n",
       "date                                                            \n",
       "2016-10-04 00:59:59                                 22.985045   \n",
       "2016-10-08 03:59:59                                 18.000757   \n",
       "2017-11-24 07:59:59                                 15.983584   \n",
       "2016-09-16 22:59:59                                 19.997947   \n",
       "2016-11-19 10:59:59                                 22.004922   \n",
       "\n",
       "                     secondary_cleaner.state.floatbank6_a_level  \n",
       "date                                                             \n",
       "2016-10-04 00:59:59                                 -499.236723  \n",
       "2016-10-08 03:59:59                                 -500.624301  \n",
       "2017-11-24 07:59:59                                 -503.968484  \n",
       "2016-09-16 22:59:59                                 -499.726867  \n",
       "2016-11-19 10:59:59                                 -505.348385  \n",
       "\n",
       "[5 rows x 52 columns]"
      ]
     },
     "metadata": {},
     "output_type": "display_data"
    },
    {
     "name": "stdout",
     "output_type": "stream",
     "text": [
      "<class 'pandas.core.frame.DataFrame'>\n",
      "DatetimeIndex: 5290 entries, 2016-09-01 00:59:59 to 2017-12-31 23:59:59\n",
      "Data columns (total 52 columns):\n",
      " #   Column                                      Non-Null Count  Dtype  \n",
      "---  ------                                      --------------  -----  \n",
      " 0   primary_cleaner.input.sulfate               5286 non-null   float64\n",
      " 1   primary_cleaner.input.depressant            5285 non-null   float64\n",
      " 2   primary_cleaner.input.feed_size             5290 non-null   float64\n",
      " 3   primary_cleaner.input.xanthate              5286 non-null   float64\n",
      " 4   primary_cleaner.state.floatbank8_a_air      5290 non-null   float64\n",
      " 5   primary_cleaner.state.floatbank8_a_level    5290 non-null   float64\n",
      " 6   primary_cleaner.state.floatbank8_b_air      5290 non-null   float64\n",
      " 7   primary_cleaner.state.floatbank8_b_level    5290 non-null   float64\n",
      " 8   primary_cleaner.state.floatbank8_c_air      5290 non-null   float64\n",
      " 9   primary_cleaner.state.floatbank8_c_level    5290 non-null   float64\n",
      " 10  primary_cleaner.state.floatbank8_d_air      5290 non-null   float64\n",
      " 11  primary_cleaner.state.floatbank8_d_level    5290 non-null   float64\n",
      " 12  rougher.input.feed_ag                       5290 non-null   float64\n",
      " 13  rougher.input.feed_pb                       5290 non-null   float64\n",
      " 14  rougher.input.feed_rate                     5287 non-null   float64\n",
      " 15  rougher.input.feed_size                     5289 non-null   float64\n",
      " 16  rougher.input.feed_sol                      5269 non-null   float64\n",
      " 17  rougher.input.feed_au                       5290 non-null   float64\n",
      " 18  rougher.input.floatbank10_sulfate           5285 non-null   float64\n",
      " 19  rougher.input.floatbank10_xanthate          5290 non-null   float64\n",
      " 20  rougher.input.floatbank11_sulfate           5282 non-null   float64\n",
      " 21  rougher.input.floatbank11_xanthate          5265 non-null   float64\n",
      " 22  rougher.state.floatbank10_a_air             5290 non-null   float64\n",
      " 23  rougher.state.floatbank10_a_level           5290 non-null   float64\n",
      " 24  rougher.state.floatbank10_b_air             5290 non-null   float64\n",
      " 25  rougher.state.floatbank10_b_level           5290 non-null   float64\n",
      " 26  rougher.state.floatbank10_c_air             5290 non-null   float64\n",
      " 27  rougher.state.floatbank10_c_level           5290 non-null   float64\n",
      " 28  rougher.state.floatbank10_d_air             5290 non-null   float64\n",
      " 29  rougher.state.floatbank10_d_level           5290 non-null   float64\n",
      " 30  rougher.state.floatbank10_e_air             5290 non-null   float64\n",
      " 31  rougher.state.floatbank10_e_level           5290 non-null   float64\n",
      " 32  rougher.state.floatbank10_f_air             5290 non-null   float64\n",
      " 33  rougher.state.floatbank10_f_level           5290 non-null   float64\n",
      " 34  secondary_cleaner.state.floatbank2_a_air    5287 non-null   float64\n",
      " 35  secondary_cleaner.state.floatbank2_a_level  5290 non-null   float64\n",
      " 36  secondary_cleaner.state.floatbank2_b_air    5288 non-null   float64\n",
      " 37  secondary_cleaner.state.floatbank2_b_level  5290 non-null   float64\n",
      " 38  secondary_cleaner.state.floatbank3_a_air    5281 non-null   float64\n",
      " 39  secondary_cleaner.state.floatbank3_a_level  5290 non-null   float64\n",
      " 40  secondary_cleaner.state.floatbank3_b_air    5290 non-null   float64\n",
      " 41  secondary_cleaner.state.floatbank3_b_level  5290 non-null   float64\n",
      " 42  secondary_cleaner.state.floatbank4_a_air    5290 non-null   float64\n",
      " 43  secondary_cleaner.state.floatbank4_a_level  5290 non-null   float64\n",
      " 44  secondary_cleaner.state.floatbank4_b_air    5290 non-null   float64\n",
      " 45  secondary_cleaner.state.floatbank4_b_level  5290 non-null   float64\n",
      " 46  secondary_cleaner.state.floatbank5_a_air    5290 non-null   float64\n",
      " 47  secondary_cleaner.state.floatbank5_a_level  5290 non-null   float64\n",
      " 48  secondary_cleaner.state.floatbank5_b_air    5290 non-null   float64\n",
      " 49  secondary_cleaner.state.floatbank5_b_level  5290 non-null   float64\n",
      " 50  secondary_cleaner.state.floatbank6_a_air    5290 non-null   float64\n",
      " 51  secondary_cleaner.state.floatbank6_a_level  5290 non-null   float64\n",
      "dtypes: float64(52)\n",
      "memory usage: 2.1 MB\n"
     ]
    },
    {
     "data": {
      "text/plain": [
       "None"
      ]
     },
     "metadata": {},
     "output_type": "display_data"
    },
    {
     "name": "stdout",
     "output_type": "stream",
     "text": [
      "Число повторяющихся строк: 0 \n",
      "\n"
     ]
    }
   ],
   "source": [
    "#Для удобства в дальнейшем, упакуем таблицы с данными в словарь:\n",
    "tables = {'Полный набор данных' : data_full, 'Обучающая выборка' : data_train, 'Тестовые данные' : data_test}\n",
    "\n",
    "for name, datum in tables.items():\n",
    "    print(name, ':')\n",
    "    display(datum.sample(5))\n",
    "    display(datum.info())\n",
    "    print(f\"Число повторяющихся строк: {sum(datum.duplicated())} \\n\")"
   ]
  },
  {
   "cell_type": "markdown",
   "metadata": {},
   "source": [
    "Содержимое таблиц соответствует описанию. К сожалению смысл параметра `sol` не известен и не представляется возможным его уточнение. Данный параметр сопровождает концентрации металлов, логична его трактовка как содержание некоторого компонента, однако не понятно что это за компонент - \"растворимый остаток\"/\"зольный остаток\"/\"коллоидные частицы (золь)\". В связи с этим возможно только формальное использование данного параметра в качестве независимой переменной при построении моделей.  \n",
    "\n",
    "Дублирующиеся строки в таблицах отсутствуют. Имеется некоторое число пропусков. Ряд параметров отсутствует в таблице `test`.  \n",
    "\n",
    "Следует отметить, что во всех таблицах отсутствуют параметры (уровень жидкости и скорость барботирования) для флотационной ванны `11`, при том, что расход реагентов для этой ванны дан (`rougher.input.floatbank11_xanthate` и `rougher.input.floatbank11_sulphate`). Возможно часть данных пропущена, либо параметры ванны `11` жестко увязаны с параметрами ванны `10`). Следовательно использование указанных признаков должно проводиться с осторожностью."
   ]
  },
  {
   "cell_type": "markdown",
   "metadata": {},
   "source": [
    "#### Определение пропусков в данных"
   ]
  },
  {
   "cell_type": "markdown",
   "metadata": {},
   "source": [
    "Рассмотрим пропуски в таблицах:"
   ]
  },
  {
   "cell_type": "code",
   "execution_count": 5,
   "metadata": {
    "scrolled": false
   },
   "outputs": [
    {
     "name": "stdout",
     "output_type": "stream",
     "text": [
      "Полный набор данных :\n"
     ]
    },
    {
     "data": {
      "text/plain": [
       "secondary_cleaner.output.tail_sol           8.992232\n",
       "rougher.input.floatbank11_xanthate          2.330367\n",
       "rougher.state.floatbank10_e_air             2.242914\n",
       "primary_cleaner.output.concentrate_sol      1.903390\n",
       "secondary_cleaner.state.floatbank2_a_air    1.131745\n",
       "final.output.concentrate_sol                1.085447\n",
       "rougher.input.feed_size                     0.745923\n",
       "primary_cleaner.output.concentrate_pb       0.596739\n",
       "primary_cleaner.input.xanthate              0.535007\n",
       "final.output.tail_pb                        0.519574\n",
       "rougher.input.feed_pb                       0.514430\n",
       "rougher.input.feed_sol                      0.509285\n",
       "primary_cleaner.output.tail_sol             0.318946\n",
       "rougher.input.floatbank11_sulfate           0.226349\n",
       "primary_cleaner.input.depressant            0.190339\n",
       "rougher.input.floatbank10_sulfate           0.174906\n",
       "primary_cleaner.input.sulfate               0.123463\n",
       "secondary_cleaner.state.floatbank2_b_air    0.118319\n",
       "rougher.output.concentrate_sol              0.118319\n",
       "primary_cleaner.output.tail_pb              0.108030\n",
       "dtype: float64"
      ]
     },
     "metadata": {},
     "output_type": "display_data"
    },
    {
     "name": "stdout",
     "output_type": "stream",
     "text": [
      "Обучающая выборка :\n"
     ]
    },
    {
     "data": {
      "text/plain": [
       "secondary_cleaner.output.tail_sol           11.343558\n",
       "rougher.state.floatbank10_e_air              3.081490\n",
       "rougher.input.floatbank11_xanthate           3.024949\n",
       "primary_cleaner.output.concentrate_sol       2.021344\n",
       "secondary_cleaner.state.floatbank2_a_air     1.533677\n",
       "final.output.concentrate_sol                 1.491271\n",
       "rougher.input.feed_size                      1.017740\n",
       "rougher.input.feed_pb                        0.706764\n",
       "final.output.tail_pb                         0.706764\n",
       "primary_cleaner.input.xanthate               0.706764\n",
       "primary_cleaner.output.concentrate_pb        0.607817\n",
       "rougher.input.feed_sol                       0.551276\n",
       "primary_cleaner.output.tail_sol              0.325111\n",
       "rougher.input.floatbank11_sulfate            0.254435\n",
       "primary_cleaner.input.depressant             0.226164\n",
       "rougher.input.floatbank10_sulfate            0.204961\n",
       "rougher.output.concentrate_sol               0.155488\n",
       "secondary_cleaner.state.floatbank2_b_air     0.148420\n",
       "primary_cleaner.input.sulfate                0.141353\n",
       "primary_cleaner.output.tail_pb               0.106015\n",
       "dtype: float64"
      ]
     },
     "metadata": {},
     "output_type": "display_data"
    },
    {
     "name": "stdout",
     "output_type": "stream",
     "text": [
      "Тестовые данные :\n"
     ]
    },
    {
     "data": {
      "text/plain": [
       "rougher.input.floatbank11_xanthate          0.472590\n",
       "rougher.input.feed_sol                      0.396975\n",
       "secondary_cleaner.state.floatbank3_a_air    0.170132\n",
       "rougher.input.floatbank11_sulfate           0.151229\n",
       "dtype: float64"
      ]
     },
     "metadata": {},
     "output_type": "display_data"
    }
   ],
   "source": [
    "#Поскольку предстоит заполнение пропусков и повторная проверка, оформим это действие в виде функции:\n",
    "def na_inspect(tables, thresh=0.1):\n",
    "    # table - словарь, содержащий названия таблиц и сами dataframe'ы\n",
    "    #thresh - пороговая доля пропусков (в %) для отображения\n",
    "    \n",
    "    for name, datum in tables.items():\n",
    "        print(name, ':')\n",
    "        datum_temp = (datum.isna().mean()*100).sort_values(ascending=False)\n",
    "        display(datum_temp[datum_temp > thresh])\n",
    "        \n",
    "na_inspect(tables)"
   ]
  },
  {
   "cell_type": "markdown",
   "metadata": {},
   "source": [
    "Наибольшая доля пропусков наблюдается в столбцах связанных с концентрацией компонента `sol`. Физико-химический смысл данного параметра не ясен, а наибольшая доля пропусков наблюдается для концентрации данного компонента в финальном концентрате. Поэтому такие пропуски могут быть проигнорированы.  \n",
    "Доля пропусков в остальных столбцах не столь велика (максимальная доля пропусков - в столбце `rougher.state.floatbank10_e_air` - 3.08% (обучающая выборка)). Заявлено, что параметры процесса в близких по дате (столбец `date`) строках также близки, поэтому для заполнения пропусков может быть использовано интерполирование параметров для ближайших по дате \"соседей\"."
   ]
  },
  {
   "cell_type": "markdown",
   "metadata": {},
   "source": [
    "#### Определение данных, отсутствующих в тестовой выборке"
   ]
  },
  {
   "cell_type": "markdown",
   "metadata": {},
   "source": [
    "Как было указано выше, часть параметров указанных в обучающей и полной выборках, отсутствует в тестовой. Определим такие столбцы:"
   ]
  },
  {
   "cell_type": "code",
   "execution_count": 6,
   "metadata": {
    "scrolled": false
   },
   "outputs": [
    {
     "data": {
      "text/html": [
       "<div>\n",
       "<style scoped>\n",
       "    .dataframe tbody tr th:only-of-type {\n",
       "        vertical-align: middle;\n",
       "    }\n",
       "\n",
       "    .dataframe tbody tr th {\n",
       "        vertical-align: top;\n",
       "    }\n",
       "\n",
       "    .dataframe thead th {\n",
       "        text-align: right;\n",
       "    }\n",
       "</style>\n",
       "<table border=\"1\" class=\"dataframe\">\n",
       "  <thead>\n",
       "    <tr style=\"text-align: right;\">\n",
       "      <th></th>\n",
       "      <th>Параметр</th>\n",
       "      <th>Полный набор</th>\n",
       "      <th>Обучающая выборка</th>\n",
       "      <th>Тестовая выборка</th>\n",
       "    </tr>\n",
       "  </thead>\n",
       "  <tbody>\n",
       "    <tr>\n",
       "      <th>51</th>\n",
       "      <td>final.output.concentrate_ag</td>\n",
       "      <td>1</td>\n",
       "      <td>1</td>\n",
       "      <td>0</td>\n",
       "    </tr>\n",
       "    <tr>\n",
       "      <th>35</th>\n",
       "      <td>final.output.concentrate_au</td>\n",
       "      <td>1</td>\n",
       "      <td>1</td>\n",
       "      <td>0</td>\n",
       "    </tr>\n",
       "    <tr>\n",
       "      <th>63</th>\n",
       "      <td>final.output.concentrate_pb</td>\n",
       "      <td>1</td>\n",
       "      <td>1</td>\n",
       "      <td>0</td>\n",
       "    </tr>\n",
       "    <tr>\n",
       "      <th>13</th>\n",
       "      <td>final.output.concentrate_sol</td>\n",
       "      <td>1</td>\n",
       "      <td>1</td>\n",
       "      <td>0</td>\n",
       "    </tr>\n",
       "    <tr>\n",
       "      <th>60</th>\n",
       "      <td>final.output.recovery</td>\n",
       "      <td>1</td>\n",
       "      <td>1</td>\n",
       "      <td>0</td>\n",
       "    </tr>\n",
       "    <tr>\n",
       "      <th>30</th>\n",
       "      <td>final.output.tail_ag</td>\n",
       "      <td>1</td>\n",
       "      <td>1</td>\n",
       "      <td>0</td>\n",
       "    </tr>\n",
       "    <tr>\n",
       "      <th>65</th>\n",
       "      <td>final.output.tail_au</td>\n",
       "      <td>1</td>\n",
       "      <td>1</td>\n",
       "      <td>0</td>\n",
       "    </tr>\n",
       "    <tr>\n",
       "      <th>2</th>\n",
       "      <td>final.output.tail_pb</td>\n",
       "      <td>1</td>\n",
       "      <td>1</td>\n",
       "      <td>0</td>\n",
       "    </tr>\n",
       "    <tr>\n",
       "      <th>31</th>\n",
       "      <td>final.output.tail_sol</td>\n",
       "      <td>1</td>\n",
       "      <td>1</td>\n",
       "      <td>0</td>\n",
       "    </tr>\n",
       "    <tr>\n",
       "      <th>59</th>\n",
       "      <td>primary_cleaner.output.concentrate_ag</td>\n",
       "      <td>1</td>\n",
       "      <td>1</td>\n",
       "      <td>0</td>\n",
       "    </tr>\n",
       "    <tr>\n",
       "      <th>52</th>\n",
       "      <td>primary_cleaner.output.concentrate_au</td>\n",
       "      <td>1</td>\n",
       "      <td>1</td>\n",
       "      <td>0</td>\n",
       "    </tr>\n",
       "    <tr>\n",
       "      <th>24</th>\n",
       "      <td>primary_cleaner.output.concentrate_pb</td>\n",
       "      <td>1</td>\n",
       "      <td>1</td>\n",
       "      <td>0</td>\n",
       "    </tr>\n",
       "    <tr>\n",
       "      <th>81</th>\n",
       "      <td>primary_cleaner.output.concentrate_sol</td>\n",
       "      <td>1</td>\n",
       "      <td>1</td>\n",
       "      <td>0</td>\n",
       "    </tr>\n",
       "    <tr>\n",
       "      <th>50</th>\n",
       "      <td>primary_cleaner.output.tail_ag</td>\n",
       "      <td>1</td>\n",
       "      <td>1</td>\n",
       "      <td>0</td>\n",
       "    </tr>\n",
       "    <tr>\n",
       "      <th>53</th>\n",
       "      <td>primary_cleaner.output.tail_au</td>\n",
       "      <td>1</td>\n",
       "      <td>1</td>\n",
       "      <td>0</td>\n",
       "    </tr>\n",
       "    <tr>\n",
       "      <th>76</th>\n",
       "      <td>primary_cleaner.output.tail_pb</td>\n",
       "      <td>1</td>\n",
       "      <td>1</td>\n",
       "      <td>0</td>\n",
       "    </tr>\n",
       "    <tr>\n",
       "      <th>82</th>\n",
       "      <td>primary_cleaner.output.tail_sol</td>\n",
       "      <td>1</td>\n",
       "      <td>1</td>\n",
       "      <td>0</td>\n",
       "    </tr>\n",
       "    <tr>\n",
       "      <th>83</th>\n",
       "      <td>rougher.calculation.au_pb_ratio</td>\n",
       "      <td>1</td>\n",
       "      <td>1</td>\n",
       "      <td>0</td>\n",
       "    </tr>\n",
       "    <tr>\n",
       "      <th>48</th>\n",
       "      <td>rougher.calculation.floatbank10_sulfate_to_au_...</td>\n",
       "      <td>1</td>\n",
       "      <td>1</td>\n",
       "      <td>0</td>\n",
       "    </tr>\n",
       "    <tr>\n",
       "      <th>44</th>\n",
       "      <td>rougher.calculation.floatbank11_sulfate_to_au_...</td>\n",
       "      <td>1</td>\n",
       "      <td>1</td>\n",
       "      <td>0</td>\n",
       "    </tr>\n",
       "    <tr>\n",
       "      <th>41</th>\n",
       "      <td>rougher.calculation.sulfate_to_au_concentrate</td>\n",
       "      <td>1</td>\n",
       "      <td>1</td>\n",
       "      <td>0</td>\n",
       "    </tr>\n",
       "    <tr>\n",
       "      <th>73</th>\n",
       "      <td>rougher.output.concentrate_ag</td>\n",
       "      <td>1</td>\n",
       "      <td>1</td>\n",
       "      <td>0</td>\n",
       "    </tr>\n",
       "    <tr>\n",
       "      <th>1</th>\n",
       "      <td>rougher.output.concentrate_au</td>\n",
       "      <td>1</td>\n",
       "      <td>1</td>\n",
       "      <td>0</td>\n",
       "    </tr>\n",
       "    <tr>\n",
       "      <th>3</th>\n",
       "      <td>rougher.output.concentrate_pb</td>\n",
       "      <td>1</td>\n",
       "      <td>1</td>\n",
       "      <td>0</td>\n",
       "    </tr>\n",
       "    <tr>\n",
       "      <th>78</th>\n",
       "      <td>rougher.output.concentrate_sol</td>\n",
       "      <td>1</td>\n",
       "      <td>1</td>\n",
       "      <td>0</td>\n",
       "    </tr>\n",
       "    <tr>\n",
       "      <th>4</th>\n",
       "      <td>rougher.output.recovery</td>\n",
       "      <td>1</td>\n",
       "      <td>1</td>\n",
       "      <td>0</td>\n",
       "    </tr>\n",
       "    <tr>\n",
       "      <th>33</th>\n",
       "      <td>rougher.output.tail_ag</td>\n",
       "      <td>1</td>\n",
       "      <td>1</td>\n",
       "      <td>0</td>\n",
       "    </tr>\n",
       "    <tr>\n",
       "      <th>70</th>\n",
       "      <td>rougher.output.tail_au</td>\n",
       "      <td>1</td>\n",
       "      <td>1</td>\n",
       "      <td>0</td>\n",
       "    </tr>\n",
       "    <tr>\n",
       "      <th>62</th>\n",
       "      <td>rougher.output.tail_pb</td>\n",
       "      <td>1</td>\n",
       "      <td>1</td>\n",
       "      <td>0</td>\n",
       "    </tr>\n",
       "    <tr>\n",
       "      <th>85</th>\n",
       "      <td>rougher.output.tail_sol</td>\n",
       "      <td>1</td>\n",
       "      <td>1</td>\n",
       "      <td>0</td>\n",
       "    </tr>\n",
       "    <tr>\n",
       "      <th>66</th>\n",
       "      <td>secondary_cleaner.output.tail_ag</td>\n",
       "      <td>1</td>\n",
       "      <td>1</td>\n",
       "      <td>0</td>\n",
       "    </tr>\n",
       "    <tr>\n",
       "      <th>64</th>\n",
       "      <td>secondary_cleaner.output.tail_au</td>\n",
       "      <td>1</td>\n",
       "      <td>1</td>\n",
       "      <td>0</td>\n",
       "    </tr>\n",
       "    <tr>\n",
       "      <th>7</th>\n",
       "      <td>secondary_cleaner.output.tail_pb</td>\n",
       "      <td>1</td>\n",
       "      <td>1</td>\n",
       "      <td>0</td>\n",
       "    </tr>\n",
       "    <tr>\n",
       "      <th>0</th>\n",
       "      <td>secondary_cleaner.output.tail_sol</td>\n",
       "      <td>1</td>\n",
       "      <td>1</td>\n",
       "      <td>0</td>\n",
       "    </tr>\n",
       "  </tbody>\n",
       "</table>\n",
       "</div>"
      ],
      "text/plain": [
       "                                             Параметр  Полный набор  \\\n",
       "51                        final.output.concentrate_ag             1   \n",
       "35                        final.output.concentrate_au             1   \n",
       "63                        final.output.concentrate_pb             1   \n",
       "13                       final.output.concentrate_sol             1   \n",
       "60                              final.output.recovery             1   \n",
       "30                               final.output.tail_ag             1   \n",
       "65                               final.output.tail_au             1   \n",
       "2                                final.output.tail_pb             1   \n",
       "31                              final.output.tail_sol             1   \n",
       "59              primary_cleaner.output.concentrate_ag             1   \n",
       "52              primary_cleaner.output.concentrate_au             1   \n",
       "24              primary_cleaner.output.concentrate_pb             1   \n",
       "81             primary_cleaner.output.concentrate_sol             1   \n",
       "50                     primary_cleaner.output.tail_ag             1   \n",
       "53                     primary_cleaner.output.tail_au             1   \n",
       "76                     primary_cleaner.output.tail_pb             1   \n",
       "82                    primary_cleaner.output.tail_sol             1   \n",
       "83                    rougher.calculation.au_pb_ratio             1   \n",
       "48  rougher.calculation.floatbank10_sulfate_to_au_...             1   \n",
       "44  rougher.calculation.floatbank11_sulfate_to_au_...             1   \n",
       "41      rougher.calculation.sulfate_to_au_concentrate             1   \n",
       "73                      rougher.output.concentrate_ag             1   \n",
       "1                       rougher.output.concentrate_au             1   \n",
       "3                       rougher.output.concentrate_pb             1   \n",
       "78                     rougher.output.concentrate_sol             1   \n",
       "4                             rougher.output.recovery             1   \n",
       "33                             rougher.output.tail_ag             1   \n",
       "70                             rougher.output.tail_au             1   \n",
       "62                             rougher.output.tail_pb             1   \n",
       "85                            rougher.output.tail_sol             1   \n",
       "66                   secondary_cleaner.output.tail_ag             1   \n",
       "64                   secondary_cleaner.output.tail_au             1   \n",
       "7                    secondary_cleaner.output.tail_pb             1   \n",
       "0                   secondary_cleaner.output.tail_sol             1   \n",
       "\n",
       "    Обучающая выборка  Тестовая выборка  \n",
       "51                  1                 0  \n",
       "35                  1                 0  \n",
       "63                  1                 0  \n",
       "13                  1                 0  \n",
       "60                  1                 0  \n",
       "30                  1                 0  \n",
       "65                  1                 0  \n",
       "2                   1                 0  \n",
       "31                  1                 0  \n",
       "59                  1                 0  \n",
       "52                  1                 0  \n",
       "24                  1                 0  \n",
       "81                  1                 0  \n",
       "50                  1                 0  \n",
       "53                  1                 0  \n",
       "76                  1                 0  \n",
       "82                  1                 0  \n",
       "83                  1                 0  \n",
       "48                  1                 0  \n",
       "44                  1                 0  \n",
       "41                  1                 0  \n",
       "73                  1                 0  \n",
       "1                   1                 0  \n",
       "3                   1                 0  \n",
       "78                  1                 0  \n",
       "4                   1                 0  \n",
       "33                  1                 0  \n",
       "70                  1                 0  \n",
       "62                  1                 0  \n",
       "85                  1                 0  \n",
       "66                  1                 0  \n",
       "64                  1                 0  \n",
       "7                   1                 0  \n",
       "0                   1                 0  "
      ]
     },
     "metadata": {},
     "output_type": "display_data"
    }
   ],
   "source": [
    "#Перечень всех параметров, присутствующих хотя бы в одной из таблиц:\n",
    "all_columns = pd.Series(list(set(data_full.columns).union(set(data_train.columns).union(set(data_test.columns)))))\n",
    "\n",
    "#Временный DataFrame с указанием присутствия(1)/отсутствия(0) столбца в соответствующей таблице:\n",
    "df_temp = pd.DataFrame({\"Параметр\": all_columns}).sort_values(by=\"Параметр\")\n",
    "df_temp[\"Полный набор\"] = np.vectorize(lambda x: int(x in data_full.columns))(df_temp[\"Параметр\"].values)\n",
    "df_temp[\"Обучающая выборка\"] = np.vectorize(lambda x: int(x in data_train.columns))(df_temp[\"Параметр\"].values)\n",
    "df_temp[\"Тестовая выборка\"] = np.vectorize(lambda x: int(x in data_test.columns))(df_temp[\"Параметр\"].values)\n",
    "display(df_temp[df_temp[\"Тестовая выборка\"]==0])\n",
    "#Удаление временной таблицы:\n",
    "del df_temp"
   ]
  },
  {
   "cell_type": "markdown",
   "metadata": {},
   "source": [
    "Отсутствующие параметры являются преимущественно выходными данными (`output`), для построения модели такие данные для тестовой выборки должны быть взяты из полного набора данных. Также отсутствуют столбцы с пропусками в группе данных `calculation`, которые относятся преимущественно к экономической эффективности процесса и не влияют напрямую на построение требуемых моделей. Таким образом, в качестве независимых параметров могут быть использованы параметры тестовой выборки."
   ]
  },
  {
   "cell_type": "markdown",
   "metadata": {},
   "source": [
    "#### Проверка корректности расчета параметра `rougher.output.recovery` в обучающей выборке"
   ]
  },
  {
   "cell_type": "markdown",
   "metadata": {},
   "source": [
    "Расчитаем на основе исходных данных полноту выделения золота при первичном (грубом) обогащении золотосодержащей руды:"
   ]
  },
  {
   "cell_type": "code",
   "execution_count": 7,
   "metadata": {
    "scrolled": false
   },
   "outputs": [
    {
     "name": "stdout",
     "output_type": "stream",
     "text": [
      "Среднее абсолютное отклонение расчитанной полноты выделения золота от предоставленной: 1.113e-14\n"
     ]
    }
   ],
   "source": [
    "#Функция для расчета полноты выделения золота:\n",
    "def recovery(df, stage='rougher'):\n",
    "    concentrate = df[stage+'.output.concentrate_au']\n",
    "    feed = df[stage+'.input.feed_au']\n",
    "    tail = df[stage+'.output.tail_au']\n",
    "    r = concentrate * (feed - tail) * 100 / (feed * (concentrate - tail))\n",
    "    r[r < 0] = 0\n",
    "    r[r > 100] = np.nan\n",
    "    return r\n",
    "\n",
    "calculated_recovery = recovery(data_train)\n",
    "rec_error = mae(calculated_recovery, data_train['rougher.output.recovery'])\n",
    "print(f\"Среднее абсолютное отклонение расчитанной полноты выделения золота от предоставленной: {rec_error:0.3e}\")"
   ]
  },
  {
   "cell_type": "markdown",
   "metadata": {},
   "source": [
    "Среднее абсолютное отклонение расчитанной полноты выделения золота от предоставленной сопоставимо с ошибкой вычислений, таким образом данные в части концентраций до и после грубой очистки непротиворечивы."
   ]
  },
  {
   "cell_type": "markdown",
   "metadata": {},
   "source": [
    "### Предобработка данных"
   ]
  },
  {
   "cell_type": "markdown",
   "metadata": {},
   "source": [
    "#### Заполнение пропусков"
   ]
  },
  {
   "cell_type": "markdown",
   "metadata": {},
   "source": [
    "Как было указано ранее, близкие по дате записи должны обладать сходными параметрами. Заполним пропуски при помощи интерполирования и проверим отсутствие пропусков:"
   ]
  },
  {
   "cell_type": "code",
   "execution_count": 8,
   "metadata": {},
   "outputs": [
    {
     "name": "stdout",
     "output_type": "stream",
     "text": [
      "Доля пропусков в таблице 'Полный набор данных' после заполнения: 0\n",
      "Доля пропусков в таблице 'Обучающая выборка' после заполнения: 0\n",
      "Доля пропусков в таблице 'Тестовые данные' после заполнения: 0\n"
     ]
    }
   ],
   "source": [
    "for name, datum in tables.items():\n",
    "    datum.interpolate(method='index', inplace=True)\n",
    "    print(f\"Доля пропусков в таблице '{name}' после заполнения: {sum(datum.isna().any())}\")"
   ]
  },
  {
   "cell_type": "markdown",
   "metadata": {},
   "source": [
    "Пропуски успешно заполнены."
   ]
  },
  {
   "cell_type": "markdown",
   "metadata": {},
   "source": [
    "#### Выявление и устранение аномалий"
   ]
  },
  {
   "cell_type": "markdown",
   "metadata": {},
   "source": [
    "Рассмотрим описательные статистики, рассмотрение органичим явно количественными параметрами (входные концентрации и расходы, выходные концентрации):"
   ]
  },
  {
   "cell_type": "code",
   "execution_count": 9,
   "metadata": {
    "scrolled": false
   },
   "outputs": [
    {
     "name": "stdout",
     "output_type": "stream",
     "text": [
      "Полный набор данных\n"
     ]
    },
    {
     "data": {
      "text/html": [
       "<div>\n",
       "<style scoped>\n",
       "    .dataframe tbody tr th:only-of-type {\n",
       "        vertical-align: middle;\n",
       "    }\n",
       "\n",
       "    .dataframe tbody tr th {\n",
       "        vertical-align: top;\n",
       "    }\n",
       "\n",
       "    .dataframe thead th {\n",
       "        text-align: right;\n",
       "    }\n",
       "</style>\n",
       "<table border=\"1\" class=\"dataframe\">\n",
       "  <thead>\n",
       "    <tr style=\"text-align: right;\">\n",
       "      <th></th>\n",
       "      <th>count</th>\n",
       "      <th>mean</th>\n",
       "      <th>std</th>\n",
       "      <th>min</th>\n",
       "      <th>25%</th>\n",
       "      <th>50%</th>\n",
       "      <th>75%</th>\n",
       "      <th>max</th>\n",
       "    </tr>\n",
       "  </thead>\n",
       "  <tbody>\n",
       "    <tr>\n",
       "      <th>primary_cleaner.input.sulfate</th>\n",
       "      <td>19439.0</td>\n",
       "      <td>144.523155</td>\n",
       "      <td>44.591409</td>\n",
       "      <td>0.003112</td>\n",
       "      <td>114.004235</td>\n",
       "      <td>143.161022</td>\n",
       "      <td>175.014449</td>\n",
       "      <td>265.983123</td>\n",
       "    </tr>\n",
       "    <tr>\n",
       "      <th>primary_cleaner.input.depressant</th>\n",
       "      <td>19439.0</td>\n",
       "      <td>8.806773</td>\n",
       "      <td>3.297073</td>\n",
       "      <td>0.000000</td>\n",
       "      <td>6.070764</td>\n",
       "      <td>8.037166</td>\n",
       "      <td>11.012540</td>\n",
       "      <td>40.000000</td>\n",
       "    </tr>\n",
       "    <tr>\n",
       "      <th>primary_cleaner.input.feed_size</th>\n",
       "      <td>19439.0</td>\n",
       "      <td>7.307078</td>\n",
       "      <td>0.613509</td>\n",
       "      <td>1.080000</td>\n",
       "      <td>6.940000</td>\n",
       "      <td>7.280000</td>\n",
       "      <td>7.670000</td>\n",
       "      <td>15.500000</td>\n",
       "    </tr>\n",
       "    <tr>\n",
       "      <th>primary_cleaner.input.xanthate</th>\n",
       "      <td>19439.0</td>\n",
       "      <td>1.017872</td>\n",
       "      <td>0.515214</td>\n",
       "      <td>0.000005</td>\n",
       "      <td>0.696119</td>\n",
       "      <td>0.932690</td>\n",
       "      <td>1.209159</td>\n",
       "      <td>4.102454</td>\n",
       "    </tr>\n",
       "    <tr>\n",
       "      <th>rougher.input.feed_ag</th>\n",
       "      <td>19439.0</td>\n",
       "      <td>8.794927</td>\n",
       "      <td>1.936847</td>\n",
       "      <td>0.010000</td>\n",
       "      <td>7.237967</td>\n",
       "      <td>8.593574</td>\n",
       "      <td>10.213771</td>\n",
       "      <td>14.596026</td>\n",
       "    </tr>\n",
       "    <tr>\n",
       "      <th>rougher.input.feed_pb</th>\n",
       "      <td>19439.0</td>\n",
       "      <td>3.585469</td>\n",
       "      <td>1.062417</td>\n",
       "      <td>0.010000</td>\n",
       "      <td>2.872178</td>\n",
       "      <td>3.528235</td>\n",
       "      <td>4.241005</td>\n",
       "      <td>7.142594</td>\n",
       "    </tr>\n",
       "    <tr>\n",
       "      <th>rougher.input.feed_rate</th>\n",
       "      <td>19439.0</td>\n",
       "      <td>478.257819</td>\n",
       "      <td>105.430623</td>\n",
       "      <td>0.002986</td>\n",
       "      <td>416.422248</td>\n",
       "      <td>499.402170</td>\n",
       "      <td>550.163788</td>\n",
       "      <td>717.508837</td>\n",
       "    </tr>\n",
       "    <tr>\n",
       "      <th>rougher.input.feed_size</th>\n",
       "      <td>19439.0</td>\n",
       "      <td>58.923045</td>\n",
       "      <td>22.152558</td>\n",
       "      <td>0.046369</td>\n",
       "      <td>47.367458</td>\n",
       "      <td>54.543213</td>\n",
       "      <td>64.992522</td>\n",
       "      <td>484.967466</td>\n",
       "    </tr>\n",
       "    <tr>\n",
       "      <th>rougher.input.feed_sol</th>\n",
       "      <td>19439.0</td>\n",
       "      <td>36.672398</td>\n",
       "      <td>5.158895</td>\n",
       "      <td>0.010000</td>\n",
       "      <td>34.190712</td>\n",
       "      <td>37.183680</td>\n",
       "      <td>40.021104</td>\n",
       "      <td>53.477742</td>\n",
       "    </tr>\n",
       "    <tr>\n",
       "      <th>rougher.input.feed_au</th>\n",
       "      <td>19439.0</td>\n",
       "      <td>8.266097</td>\n",
       "      <td>1.955092</td>\n",
       "      <td>0.010000</td>\n",
       "      <td>6.854384</td>\n",
       "      <td>8.125839</td>\n",
       "      <td>9.769917</td>\n",
       "      <td>13.731330</td>\n",
       "    </tr>\n",
       "    <tr>\n",
       "      <th>rougher.input.floatbank10_sulfate</th>\n",
       "      <td>19439.0</td>\n",
       "      <td>12.319320</td>\n",
       "      <td>3.449534</td>\n",
       "      <td>0.001083</td>\n",
       "      <td>10.000251</td>\n",
       "      <td>12.001088</td>\n",
       "      <td>14.702810</td>\n",
       "      <td>36.118275</td>\n",
       "    </tr>\n",
       "    <tr>\n",
       "      <th>rougher.input.floatbank10_xanthate</th>\n",
       "      <td>19439.0</td>\n",
       "      <td>6.020172</td>\n",
       "      <td>1.129719</td>\n",
       "      <td>0.000568</td>\n",
       "      <td>5.398593</td>\n",
       "      <td>6.007716</td>\n",
       "      <td>6.798028</td>\n",
       "      <td>9.703448</td>\n",
       "    </tr>\n",
       "    <tr>\n",
       "      <th>rougher.input.floatbank11_sulfate</th>\n",
       "      <td>19439.0</td>\n",
       "      <td>12.058813</td>\n",
       "      <td>3.831689</td>\n",
       "      <td>0.000077</td>\n",
       "      <td>9.998225</td>\n",
       "      <td>12.000188</td>\n",
       "      <td>14.637880</td>\n",
       "      <td>37.980648</td>\n",
       "    </tr>\n",
       "    <tr>\n",
       "      <th>rougher.input.floatbank11_xanthate</th>\n",
       "      <td>19439.0</td>\n",
       "      <td>5.966469</td>\n",
       "      <td>1.276169</td>\n",
       "      <td>0.000290</td>\n",
       "      <td>5.395232</td>\n",
       "      <td>6.036435</td>\n",
       "      <td>6.799683</td>\n",
       "      <td>9.698407</td>\n",
       "    </tr>\n",
       "  </tbody>\n",
       "</table>\n",
       "</div>"
      ],
      "text/plain": [
       "                                      count        mean         std       min  \\\n",
       "primary_cleaner.input.sulfate       19439.0  144.523155   44.591409  0.003112   \n",
       "primary_cleaner.input.depressant    19439.0    8.806773    3.297073  0.000000   \n",
       "primary_cleaner.input.feed_size     19439.0    7.307078    0.613509  1.080000   \n",
       "primary_cleaner.input.xanthate      19439.0    1.017872    0.515214  0.000005   \n",
       "rougher.input.feed_ag               19439.0    8.794927    1.936847  0.010000   \n",
       "rougher.input.feed_pb               19439.0    3.585469    1.062417  0.010000   \n",
       "rougher.input.feed_rate             19439.0  478.257819  105.430623  0.002986   \n",
       "rougher.input.feed_size             19439.0   58.923045   22.152558  0.046369   \n",
       "rougher.input.feed_sol              19439.0   36.672398    5.158895  0.010000   \n",
       "rougher.input.feed_au               19439.0    8.266097    1.955092  0.010000   \n",
       "rougher.input.floatbank10_sulfate   19439.0   12.319320    3.449534  0.001083   \n",
       "rougher.input.floatbank10_xanthate  19439.0    6.020172    1.129719  0.000568   \n",
       "rougher.input.floatbank11_sulfate   19439.0   12.058813    3.831689  0.000077   \n",
       "rougher.input.floatbank11_xanthate  19439.0    5.966469    1.276169  0.000290   \n",
       "\n",
       "                                           25%         50%         75%  \\\n",
       "primary_cleaner.input.sulfate       114.004235  143.161022  175.014449   \n",
       "primary_cleaner.input.depressant      6.070764    8.037166   11.012540   \n",
       "primary_cleaner.input.feed_size       6.940000    7.280000    7.670000   \n",
       "primary_cleaner.input.xanthate        0.696119    0.932690    1.209159   \n",
       "rougher.input.feed_ag                 7.237967    8.593574   10.213771   \n",
       "rougher.input.feed_pb                 2.872178    3.528235    4.241005   \n",
       "rougher.input.feed_rate             416.422248  499.402170  550.163788   \n",
       "rougher.input.feed_size              47.367458   54.543213   64.992522   \n",
       "rougher.input.feed_sol               34.190712   37.183680   40.021104   \n",
       "rougher.input.feed_au                 6.854384    8.125839    9.769917   \n",
       "rougher.input.floatbank10_sulfate    10.000251   12.001088   14.702810   \n",
       "rougher.input.floatbank10_xanthate    5.398593    6.007716    6.798028   \n",
       "rougher.input.floatbank11_sulfate     9.998225   12.000188   14.637880   \n",
       "rougher.input.floatbank11_xanthate    5.395232    6.036435    6.799683   \n",
       "\n",
       "                                           max  \n",
       "primary_cleaner.input.sulfate       265.983123  \n",
       "primary_cleaner.input.depressant     40.000000  \n",
       "primary_cleaner.input.feed_size      15.500000  \n",
       "primary_cleaner.input.xanthate        4.102454  \n",
       "rougher.input.feed_ag                14.596026  \n",
       "rougher.input.feed_pb                 7.142594  \n",
       "rougher.input.feed_rate             717.508837  \n",
       "rougher.input.feed_size             484.967466  \n",
       "rougher.input.feed_sol               53.477742  \n",
       "rougher.input.feed_au                13.731330  \n",
       "rougher.input.floatbank10_sulfate    36.118275  \n",
       "rougher.input.floatbank10_xanthate    9.703448  \n",
       "rougher.input.floatbank11_sulfate    37.980648  \n",
       "rougher.input.floatbank11_xanthate    9.698407  "
      ]
     },
     "metadata": {},
     "output_type": "display_data"
    },
    {
     "name": "stdout",
     "output_type": "stream",
     "text": [
      "Обучающая выборка\n"
     ]
    },
    {
     "data": {
      "text/html": [
       "<div>\n",
       "<style scoped>\n",
       "    .dataframe tbody tr th:only-of-type {\n",
       "        vertical-align: middle;\n",
       "    }\n",
       "\n",
       "    .dataframe tbody tr th {\n",
       "        vertical-align: top;\n",
       "    }\n",
       "\n",
       "    .dataframe thead th {\n",
       "        text-align: right;\n",
       "    }\n",
       "</style>\n",
       "<table border=\"1\" class=\"dataframe\">\n",
       "  <thead>\n",
       "    <tr style=\"text-align: right;\">\n",
       "      <th></th>\n",
       "      <th>count</th>\n",
       "      <th>mean</th>\n",
       "      <th>std</th>\n",
       "      <th>min</th>\n",
       "      <th>25%</th>\n",
       "      <th>50%</th>\n",
       "      <th>75%</th>\n",
       "      <th>max</th>\n",
       "    </tr>\n",
       "  </thead>\n",
       "  <tbody>\n",
       "    <tr>\n",
       "      <th>primary_cleaner.input.sulfate</th>\n",
       "      <td>14149.0</td>\n",
       "      <td>133.207042</td>\n",
       "      <td>39.602551</td>\n",
       "      <td>0.003112</td>\n",
       "      <td>106.859801</td>\n",
       "      <td>132.988186</td>\n",
       "      <td>159.798420</td>\n",
       "      <td>250.127834</td>\n",
       "    </tr>\n",
       "    <tr>\n",
       "      <th>primary_cleaner.input.depressant</th>\n",
       "      <td>14149.0</td>\n",
       "      <td>8.852766</td>\n",
       "      <td>3.375344</td>\n",
       "      <td>0.000000</td>\n",
       "      <td>6.037872</td>\n",
       "      <td>8.033766</td>\n",
       "      <td>11.515108</td>\n",
       "      <td>20.052255</td>\n",
       "    </tr>\n",
       "    <tr>\n",
       "      <th>primary_cleaner.input.feed_size</th>\n",
       "      <td>14149.0</td>\n",
       "      <td>7.322310</td>\n",
       "      <td>0.614062</td>\n",
       "      <td>1.080000</td>\n",
       "      <td>6.960000</td>\n",
       "      <td>7.290000</td>\n",
       "      <td>7.700000</td>\n",
       "      <td>10.470000</td>\n",
       "    </tr>\n",
       "    <tr>\n",
       "      <th>primary_cleaner.input.xanthate</th>\n",
       "      <td>14149.0</td>\n",
       "      <td>0.881286</td>\n",
       "      <td>0.375875</td>\n",
       "      <td>0.000005</td>\n",
       "      <td>0.604513</td>\n",
       "      <td>0.887411</td>\n",
       "      <td>1.100079</td>\n",
       "      <td>2.512968</td>\n",
       "    </tr>\n",
       "    <tr>\n",
       "      <th>rougher.input.feed_ag</th>\n",
       "      <td>14149.0</td>\n",
       "      <td>8.579195</td>\n",
       "      <td>1.896284</td>\n",
       "      <td>0.010000</td>\n",
       "      <td>7.132802</td>\n",
       "      <td>8.156092</td>\n",
       "      <td>9.918304</td>\n",
       "      <td>14.596026</td>\n",
       "    </tr>\n",
       "    <tr>\n",
       "      <th>rougher.input.feed_pb</th>\n",
       "      <td>14149.0</td>\n",
       "      <td>3.505977</td>\n",
       "      <td>1.089358</td>\n",
       "      <td>0.010000</td>\n",
       "      <td>2.766515</td>\n",
       "      <td>3.414267</td>\n",
       "      <td>4.220115</td>\n",
       "      <td>7.142594</td>\n",
       "    </tr>\n",
       "    <tr>\n",
       "      <th>rougher.input.feed_rate</th>\n",
       "      <td>14149.0</td>\n",
       "      <td>473.949102</td>\n",
       "      <td>104.115462</td>\n",
       "      <td>0.012786</td>\n",
       "      <td>420.723210</td>\n",
       "      <td>499.449303</td>\n",
       "      <td>547.326781</td>\n",
       "      <td>717.508837</td>\n",
       "    </tr>\n",
       "    <tr>\n",
       "      <th>rougher.input.feed_size</th>\n",
       "      <td>14149.0</td>\n",
       "      <td>60.033541</td>\n",
       "      <td>23.099655</td>\n",
       "      <td>9.659576</td>\n",
       "      <td>48.913889</td>\n",
       "      <td>55.269784</td>\n",
       "      <td>65.982466</td>\n",
       "      <td>484.967466</td>\n",
       "    </tr>\n",
       "    <tr>\n",
       "      <th>rougher.input.feed_sol</th>\n",
       "      <td>14149.0</td>\n",
       "      <td>36.287968</td>\n",
       "      <td>4.972911</td>\n",
       "      <td>0.010000</td>\n",
       "      <td>34.084254</td>\n",
       "      <td>36.997937</td>\n",
       "      <td>39.409233</td>\n",
       "      <td>48.363177</td>\n",
       "    </tr>\n",
       "    <tr>\n",
       "      <th>rougher.input.feed_au</th>\n",
       "      <td>14149.0</td>\n",
       "      <td>7.866577</td>\n",
       "      <td>1.919506</td>\n",
       "      <td>0.010000</td>\n",
       "      <td>6.596217</td>\n",
       "      <td>7.649138</td>\n",
       "      <td>9.066976</td>\n",
       "      <td>13.126043</td>\n",
       "    </tr>\n",
       "    <tr>\n",
       "      <th>rougher.input.floatbank10_sulfate</th>\n",
       "      <td>14149.0</td>\n",
       "      <td>11.746566</td>\n",
       "      <td>3.306937</td>\n",
       "      <td>0.001083</td>\n",
       "      <td>9.842944</td>\n",
       "      <td>11.661747</td>\n",
       "      <td>13.584044</td>\n",
       "      <td>36.118275</td>\n",
       "    </tr>\n",
       "    <tr>\n",
       "      <th>rougher.input.floatbank10_xanthate</th>\n",
       "      <td>14149.0</td>\n",
       "      <td>5.852835</td>\n",
       "      <td>1.107456</td>\n",
       "      <td>0.001428</td>\n",
       "      <td>5.113485</td>\n",
       "      <td>5.949895</td>\n",
       "      <td>6.602486</td>\n",
       "      <td>9.703448</td>\n",
       "    </tr>\n",
       "    <tr>\n",
       "      <th>rougher.input.floatbank11_sulfate</th>\n",
       "      <td>14149.0</td>\n",
       "      <td>11.369439</td>\n",
       "      <td>3.801049</td>\n",
       "      <td>0.000098</td>\n",
       "      <td>9.502098</td>\n",
       "      <td>11.382460</td>\n",
       "      <td>13.498047</td>\n",
       "      <td>37.980648</td>\n",
       "    </tr>\n",
       "    <tr>\n",
       "      <th>rougher.input.floatbank11_xanthate</th>\n",
       "      <td>14149.0</td>\n",
       "      <td>5.768634</td>\n",
       "      <td>1.333362</td>\n",
       "      <td>0.000290</td>\n",
       "      <td>5.096410</td>\n",
       "      <td>5.992219</td>\n",
       "      <td>6.642274</td>\n",
       "      <td>9.698407</td>\n",
       "    </tr>\n",
       "  </tbody>\n",
       "</table>\n",
       "</div>"
      ],
      "text/plain": [
       "                                      count        mean         std       min  \\\n",
       "primary_cleaner.input.sulfate       14149.0  133.207042   39.602551  0.003112   \n",
       "primary_cleaner.input.depressant    14149.0    8.852766    3.375344  0.000000   \n",
       "primary_cleaner.input.feed_size     14149.0    7.322310    0.614062  1.080000   \n",
       "primary_cleaner.input.xanthate      14149.0    0.881286    0.375875  0.000005   \n",
       "rougher.input.feed_ag               14149.0    8.579195    1.896284  0.010000   \n",
       "rougher.input.feed_pb               14149.0    3.505977    1.089358  0.010000   \n",
       "rougher.input.feed_rate             14149.0  473.949102  104.115462  0.012786   \n",
       "rougher.input.feed_size             14149.0   60.033541   23.099655  9.659576   \n",
       "rougher.input.feed_sol              14149.0   36.287968    4.972911  0.010000   \n",
       "rougher.input.feed_au               14149.0    7.866577    1.919506  0.010000   \n",
       "rougher.input.floatbank10_sulfate   14149.0   11.746566    3.306937  0.001083   \n",
       "rougher.input.floatbank10_xanthate  14149.0    5.852835    1.107456  0.001428   \n",
       "rougher.input.floatbank11_sulfate   14149.0   11.369439    3.801049  0.000098   \n",
       "rougher.input.floatbank11_xanthate  14149.0    5.768634    1.333362  0.000290   \n",
       "\n",
       "                                           25%         50%         75%  \\\n",
       "primary_cleaner.input.sulfate       106.859801  132.988186  159.798420   \n",
       "primary_cleaner.input.depressant      6.037872    8.033766   11.515108   \n",
       "primary_cleaner.input.feed_size       6.960000    7.290000    7.700000   \n",
       "primary_cleaner.input.xanthate        0.604513    0.887411    1.100079   \n",
       "rougher.input.feed_ag                 7.132802    8.156092    9.918304   \n",
       "rougher.input.feed_pb                 2.766515    3.414267    4.220115   \n",
       "rougher.input.feed_rate             420.723210  499.449303  547.326781   \n",
       "rougher.input.feed_size              48.913889   55.269784   65.982466   \n",
       "rougher.input.feed_sol               34.084254   36.997937   39.409233   \n",
       "rougher.input.feed_au                 6.596217    7.649138    9.066976   \n",
       "rougher.input.floatbank10_sulfate     9.842944   11.661747   13.584044   \n",
       "rougher.input.floatbank10_xanthate    5.113485    5.949895    6.602486   \n",
       "rougher.input.floatbank11_sulfate     9.502098   11.382460   13.498047   \n",
       "rougher.input.floatbank11_xanthate    5.096410    5.992219    6.642274   \n",
       "\n",
       "                                           max  \n",
       "primary_cleaner.input.sulfate       250.127834  \n",
       "primary_cleaner.input.depressant     20.052255  \n",
       "primary_cleaner.input.feed_size      10.470000  \n",
       "primary_cleaner.input.xanthate        2.512968  \n",
       "rougher.input.feed_ag                14.596026  \n",
       "rougher.input.feed_pb                 7.142594  \n",
       "rougher.input.feed_rate             717.508837  \n",
       "rougher.input.feed_size             484.967466  \n",
       "rougher.input.feed_sol               48.363177  \n",
       "rougher.input.feed_au                13.126043  \n",
       "rougher.input.floatbank10_sulfate    36.118275  \n",
       "rougher.input.floatbank10_xanthate    9.703448  \n",
       "rougher.input.floatbank11_sulfate    37.980648  \n",
       "rougher.input.floatbank11_xanthate    9.698407  "
      ]
     },
     "metadata": {},
     "output_type": "display_data"
    },
    {
     "name": "stdout",
     "output_type": "stream",
     "text": [
      "Тестовые данные\n"
     ]
    },
    {
     "data": {
      "text/html": [
       "<div>\n",
       "<style scoped>\n",
       "    .dataframe tbody tr th:only-of-type {\n",
       "        vertical-align: middle;\n",
       "    }\n",
       "\n",
       "    .dataframe tbody tr th {\n",
       "        vertical-align: top;\n",
       "    }\n",
       "\n",
       "    .dataframe thead th {\n",
       "        text-align: right;\n",
       "    }\n",
       "</style>\n",
       "<table border=\"1\" class=\"dataframe\">\n",
       "  <thead>\n",
       "    <tr style=\"text-align: right;\">\n",
       "      <th></th>\n",
       "      <th>count</th>\n",
       "      <th>mean</th>\n",
       "      <th>std</th>\n",
       "      <th>min</th>\n",
       "      <th>25%</th>\n",
       "      <th>50%</th>\n",
       "      <th>75%</th>\n",
       "      <th>max</th>\n",
       "    </tr>\n",
       "  </thead>\n",
       "  <tbody>\n",
       "    <tr>\n",
       "      <th>primary_cleaner.input.sulfate</th>\n",
       "      <td>5290.0</td>\n",
       "      <td>174.790011</td>\n",
       "      <td>43.052583</td>\n",
       "      <td>2.566156</td>\n",
       "      <td>147.071657</td>\n",
       "      <td>177.821716</td>\n",
       "      <td>208.112236</td>\n",
       "      <td>265.983123</td>\n",
       "    </tr>\n",
       "    <tr>\n",
       "      <th>primary_cleaner.input.depressant</th>\n",
       "      <td>5290.0</td>\n",
       "      <td>8.683757</td>\n",
       "      <td>3.074885</td>\n",
       "      <td>0.003839</td>\n",
       "      <td>6.489309</td>\n",
       "      <td>8.052131</td>\n",
       "      <td>10.028043</td>\n",
       "      <td>40.000000</td>\n",
       "    </tr>\n",
       "    <tr>\n",
       "      <th>primary_cleaner.input.feed_size</th>\n",
       "      <td>5290.0</td>\n",
       "      <td>7.266339</td>\n",
       "      <td>0.610219</td>\n",
       "      <td>5.650000</td>\n",
       "      <td>6.890000</td>\n",
       "      <td>7.250000</td>\n",
       "      <td>7.600000</td>\n",
       "      <td>15.500000</td>\n",
       "    </tr>\n",
       "    <tr>\n",
       "      <th>primary_cleaner.input.xanthate</th>\n",
       "      <td>5290.0</td>\n",
       "      <td>1.383194</td>\n",
       "      <td>0.643614</td>\n",
       "      <td>0.004984</td>\n",
       "      <td>0.907337</td>\n",
       "      <td>1.197562</td>\n",
       "      <td>1.797698</td>\n",
       "      <td>4.102454</td>\n",
       "    </tr>\n",
       "    <tr>\n",
       "      <th>rougher.input.feed_ag</th>\n",
       "      <td>5290.0</td>\n",
       "      <td>9.371940</td>\n",
       "      <td>1.926264</td>\n",
       "      <td>0.568441</td>\n",
       "      <td>8.112434</td>\n",
       "      <td>9.762654</td>\n",
       "      <td>10.652297</td>\n",
       "      <td>14.406130</td>\n",
       "    </tr>\n",
       "    <tr>\n",
       "      <th>rougher.input.feed_pb</th>\n",
       "      <td>5290.0</td>\n",
       "      <td>3.798082</td>\n",
       "      <td>0.954859</td>\n",
       "      <td>0.273677</td>\n",
       "      <td>3.240251</td>\n",
       "      <td>3.740716</td>\n",
       "      <td>4.282634</td>\n",
       "      <td>6.905684</td>\n",
       "    </tr>\n",
       "    <tr>\n",
       "      <th>rougher.input.feed_rate</th>\n",
       "      <td>5290.0</td>\n",
       "      <td>489.782212</td>\n",
       "      <td>108.038914</td>\n",
       "      <td>0.002986</td>\n",
       "      <td>407.003619</td>\n",
       "      <td>499.079325</td>\n",
       "      <td>575.280388</td>\n",
       "      <td>707.364020</td>\n",
       "    </tr>\n",
       "    <tr>\n",
       "      <th>rougher.input.feed_size</th>\n",
       "      <td>5290.0</td>\n",
       "      <td>55.952835</td>\n",
       "      <td>19.080372</td>\n",
       "      <td>0.046369</td>\n",
       "      <td>43.906504</td>\n",
       "      <td>50.846843</td>\n",
       "      <td>62.451165</td>\n",
       "      <td>392.494040</td>\n",
       "    </tr>\n",
       "    <tr>\n",
       "      <th>rougher.input.feed_sol</th>\n",
       "      <td>5290.0</td>\n",
       "      <td>37.700623</td>\n",
       "      <td>5.496094</td>\n",
       "      <td>1.393488</td>\n",
       "      <td>34.486885</td>\n",
       "      <td>37.968909</td>\n",
       "      <td>41.619761</td>\n",
       "      <td>53.477742</td>\n",
       "    </tr>\n",
       "    <tr>\n",
       "      <th>rougher.input.feed_au</th>\n",
       "      <td>5290.0</td>\n",
       "      <td>9.334682</td>\n",
       "      <td>1.619521</td>\n",
       "      <td>0.568632</td>\n",
       "      <td>8.207814</td>\n",
       "      <td>9.593766</td>\n",
       "      <td>10.463538</td>\n",
       "      <td>13.731330</td>\n",
       "    </tr>\n",
       "    <tr>\n",
       "      <th>rougher.input.floatbank10_sulfate</th>\n",
       "      <td>5290.0</td>\n",
       "      <td>13.851248</td>\n",
       "      <td>3.354689</td>\n",
       "      <td>0.001147</td>\n",
       "      <td>11.994929</td>\n",
       "      <td>14.002932</td>\n",
       "      <td>16.972136</td>\n",
       "      <td>24.280636</td>\n",
       "    </tr>\n",
       "    <tr>\n",
       "      <th>rougher.input.floatbank10_xanthate</th>\n",
       "      <td>5290.0</td>\n",
       "      <td>6.467745</td>\n",
       "      <td>1.065114</td>\n",
       "      <td>0.000568</td>\n",
       "      <td>5.998779</td>\n",
       "      <td>6.498181</td>\n",
       "      <td>7.085457</td>\n",
       "      <td>8.910468</td>\n",
       "    </tr>\n",
       "    <tr>\n",
       "      <th>rougher.input.floatbank11_sulfate</th>\n",
       "      <td>5290.0</td>\n",
       "      <td>13.902661</td>\n",
       "      <td>3.261664</td>\n",
       "      <td>0.000077</td>\n",
       "      <td>11.996921</td>\n",
       "      <td>14.004106</td>\n",
       "      <td>16.953537</td>\n",
       "      <td>24.280966</td>\n",
       "    </tr>\n",
       "    <tr>\n",
       "      <th>rougher.input.floatbank11_xanthate</th>\n",
       "      <td>5290.0</td>\n",
       "      <td>6.495610</td>\n",
       "      <td>0.919205</td>\n",
       "      <td>0.006985</td>\n",
       "      <td>5.998898</td>\n",
       "      <td>6.498428</td>\n",
       "      <td>7.087476</td>\n",
       "      <td>8.621338</td>\n",
       "    </tr>\n",
       "  </tbody>\n",
       "</table>\n",
       "</div>"
      ],
      "text/plain": [
       "                                     count        mean         std       min  \\\n",
       "primary_cleaner.input.sulfate       5290.0  174.790011   43.052583  2.566156   \n",
       "primary_cleaner.input.depressant    5290.0    8.683757    3.074885  0.003839   \n",
       "primary_cleaner.input.feed_size     5290.0    7.266339    0.610219  5.650000   \n",
       "primary_cleaner.input.xanthate      5290.0    1.383194    0.643614  0.004984   \n",
       "rougher.input.feed_ag               5290.0    9.371940    1.926264  0.568441   \n",
       "rougher.input.feed_pb               5290.0    3.798082    0.954859  0.273677   \n",
       "rougher.input.feed_rate             5290.0  489.782212  108.038914  0.002986   \n",
       "rougher.input.feed_size             5290.0   55.952835   19.080372  0.046369   \n",
       "rougher.input.feed_sol              5290.0   37.700623    5.496094  1.393488   \n",
       "rougher.input.feed_au               5290.0    9.334682    1.619521  0.568632   \n",
       "rougher.input.floatbank10_sulfate   5290.0   13.851248    3.354689  0.001147   \n",
       "rougher.input.floatbank10_xanthate  5290.0    6.467745    1.065114  0.000568   \n",
       "rougher.input.floatbank11_sulfate   5290.0   13.902661    3.261664  0.000077   \n",
       "rougher.input.floatbank11_xanthate  5290.0    6.495610    0.919205  0.006985   \n",
       "\n",
       "                                           25%         50%         75%  \\\n",
       "primary_cleaner.input.sulfate       147.071657  177.821716  208.112236   \n",
       "primary_cleaner.input.depressant      6.489309    8.052131   10.028043   \n",
       "primary_cleaner.input.feed_size       6.890000    7.250000    7.600000   \n",
       "primary_cleaner.input.xanthate        0.907337    1.197562    1.797698   \n",
       "rougher.input.feed_ag                 8.112434    9.762654   10.652297   \n",
       "rougher.input.feed_pb                 3.240251    3.740716    4.282634   \n",
       "rougher.input.feed_rate             407.003619  499.079325  575.280388   \n",
       "rougher.input.feed_size              43.906504   50.846843   62.451165   \n",
       "rougher.input.feed_sol               34.486885   37.968909   41.619761   \n",
       "rougher.input.feed_au                 8.207814    9.593766   10.463538   \n",
       "rougher.input.floatbank10_sulfate    11.994929   14.002932   16.972136   \n",
       "rougher.input.floatbank10_xanthate    5.998779    6.498181    7.085457   \n",
       "rougher.input.floatbank11_sulfate    11.996921   14.004106   16.953537   \n",
       "rougher.input.floatbank11_xanthate    5.998898    6.498428    7.087476   \n",
       "\n",
       "                                           max  \n",
       "primary_cleaner.input.sulfate       265.983123  \n",
       "primary_cleaner.input.depressant     40.000000  \n",
       "primary_cleaner.input.feed_size      15.500000  \n",
       "primary_cleaner.input.xanthate        4.102454  \n",
       "rougher.input.feed_ag                14.406130  \n",
       "rougher.input.feed_pb                 6.905684  \n",
       "rougher.input.feed_rate             707.364020  \n",
       "rougher.input.feed_size             392.494040  \n",
       "rougher.input.feed_sol               53.477742  \n",
       "rougher.input.feed_au                13.731330  \n",
       "rougher.input.floatbank10_sulfate    24.280636  \n",
       "rougher.input.floatbank10_xanthate    8.910468  \n",
       "rougher.input.floatbank11_sulfate    24.280966  \n",
       "rougher.input.floatbank11_xanthate    8.621338  "
      ]
     },
     "metadata": {},
     "output_type": "display_data"
    }
   ],
   "source": [
    "for name, datum in tables.items():\n",
    "    print(name)\n",
    "    display(datum.describe().T.loc[[col for col in data_test.columns if \"state\" not in col]])"
   ]
  },
  {
   "cell_type": "markdown",
   "metadata": {},
   "source": [
    "Минимальные значения для всех явно количественных признаков неотрицательны, а средние значения близки к медианным. Таким образом рассмотренные значения являются правдоподобными и не требуют существенных исправлений.  \n",
    "Для исключения возможных аномальных значений и повышения надежности получаемых моделей, удалим строки, содержащие значения за пределами 99,75 % интервала:"
   ]
  },
  {
   "cell_type": "code",
   "execution_count": 10,
   "metadata": {},
   "outputs": [
    {
     "name": "stdout",
     "output_type": "stream",
     "text": [
      "Удалено 16.9% записей\n"
     ]
    }
   ],
   "source": [
    "len_start = len(data_train)\n",
    "for col in data_train.columns:\n",
    "    data_train.drop(data_train[data_train[col] < data_train[col].quantile(0.00125)].index, axis=0, inplace=True)\n",
    "    data_train.drop(data_train[data_train[col] > data_train[col].quantile(0.99875)].index, axis=0, inplace=True)\n",
    "    \n",
    "print(f\"Удалено {(len_start - len(data_train)) * 100 /len_start:0.1f}% записей\")"
   ]
  },
  {
   "cell_type": "markdown",
   "metadata": {},
   "source": [
    "Нулевые концентрации золота в продуктах обогащения подозрительны. такие записи могут быть примерами явно неудачных параметров, либо ошибочными значениями. Рассмотрим прочие параметры в строках, содержащих нулевые значения концентрации золота в одном из продуктов обогащения:"
   ]
  },
  {
   "cell_type": "code",
   "execution_count": 11,
   "metadata": {
    "scrolled": false
   },
   "outputs": [
    {
     "data": {
      "text/html": [
       "<div>\n",
       "<style scoped>\n",
       "    .dataframe tbody tr th:only-of-type {\n",
       "        vertical-align: middle;\n",
       "    }\n",
       "\n",
       "    .dataframe tbody tr th {\n",
       "        vertical-align: top;\n",
       "    }\n",
       "\n",
       "    .dataframe thead th {\n",
       "        text-align: right;\n",
       "    }\n",
       "</style>\n",
       "<table border=\"1\" class=\"dataframe\">\n",
       "  <thead>\n",
       "    <tr style=\"text-align: right;\">\n",
       "      <th></th>\n",
       "      <th>rougher</th>\n",
       "      <th>primary_cleaner</th>\n",
       "    </tr>\n",
       "  </thead>\n",
       "  <tbody>\n",
       "    <tr>\n",
       "      <th>final.output.concentrate_ag</th>\n",
       "      <td>4.566664</td>\n",
       "      <td>5.658943</td>\n",
       "    </tr>\n",
       "    <tr>\n",
       "      <th>final.output.concentrate_pb</th>\n",
       "      <td>10.406178</td>\n",
       "      <td>10.436002</td>\n",
       "    </tr>\n",
       "    <tr>\n",
       "      <th>final.output.concentrate_sol</th>\n",
       "      <td>4.588698</td>\n",
       "      <td>5.942418</td>\n",
       "    </tr>\n",
       "    <tr>\n",
       "      <th>final.output.concentrate_au</th>\n",
       "      <td>46.614456</td>\n",
       "      <td>42.509402</td>\n",
       "    </tr>\n",
       "    <tr>\n",
       "      <th>final.output.recovery</th>\n",
       "      <td>68.403877</td>\n",
       "      <td>70.348300</td>\n",
       "    </tr>\n",
       "    <tr>\n",
       "      <th>final.output.tail_ag</th>\n",
       "      <td>10.705777</td>\n",
       "      <td>10.232392</td>\n",
       "    </tr>\n",
       "    <tr>\n",
       "      <th>final.output.tail_pb</th>\n",
       "      <td>1.509070</td>\n",
       "      <td>1.174845</td>\n",
       "    </tr>\n",
       "    <tr>\n",
       "      <th>final.output.tail_sol</th>\n",
       "      <td>17.875134</td>\n",
       "      <td>19.498566</td>\n",
       "    </tr>\n",
       "    <tr>\n",
       "      <th>final.output.tail_au</th>\n",
       "      <td>2.509776</td>\n",
       "      <td>2.272460</td>\n",
       "    </tr>\n",
       "    <tr>\n",
       "      <th>primary_cleaner.input.sulfate</th>\n",
       "      <td>131.251366</td>\n",
       "      <td>149.998260</td>\n",
       "    </tr>\n",
       "    <tr>\n",
       "      <th>primary_cleaner.input.depressant</th>\n",
       "      <td>13.969457</td>\n",
       "      <td>12.509947</td>\n",
       "    </tr>\n",
       "    <tr>\n",
       "      <th>primary_cleaner.input.feed_size</th>\n",
       "      <td>7.250000</td>\n",
       "      <td>7.250000</td>\n",
       "    </tr>\n",
       "    <tr>\n",
       "      <th>primary_cleaner.input.xanthate</th>\n",
       "      <td>1.203034</td>\n",
       "      <td>0.997030</td>\n",
       "    </tr>\n",
       "    <tr>\n",
       "      <th>primary_cleaner.output.concentrate_ag</th>\n",
       "      <td>8.513177</td>\n",
       "      <td>0.000000</td>\n",
       "    </tr>\n",
       "    <tr>\n",
       "      <th>primary_cleaner.output.concentrate_pb</th>\n",
       "      <td>9.724797</td>\n",
       "      <td>0.000000</td>\n",
       "    </tr>\n",
       "    <tr>\n",
       "      <th>primary_cleaner.output.concentrate_sol</th>\n",
       "      <td>19.120964</td>\n",
       "      <td>0.000000</td>\n",
       "    </tr>\n",
       "    <tr>\n",
       "      <th>primary_cleaner.output.concentrate_au</th>\n",
       "      <td>37.633572</td>\n",
       "      <td>0.000000</td>\n",
       "    </tr>\n",
       "    <tr>\n",
       "      <th>primary_cleaner.output.tail_ag</th>\n",
       "      <td>16.455383</td>\n",
       "      <td>14.915949</td>\n",
       "    </tr>\n",
       "    <tr>\n",
       "      <th>primary_cleaner.output.tail_pb</th>\n",
       "      <td>3.366501</td>\n",
       "      <td>2.702527</td>\n",
       "    </tr>\n",
       "    <tr>\n",
       "      <th>primary_cleaner.output.tail_sol</th>\n",
       "      <td>6.864404</td>\n",
       "      <td>7.784534</td>\n",
       "    </tr>\n",
       "    <tr>\n",
       "      <th>primary_cleaner.output.tail_au</th>\n",
       "      <td>3.434734</td>\n",
       "      <td>2.013487</td>\n",
       "    </tr>\n",
       "    <tr>\n",
       "      <th>primary_cleaner.state.floatbank8_a_air</th>\n",
       "      <td>1601.674776</td>\n",
       "      <td>1599.617983</td>\n",
       "    </tr>\n",
       "    <tr>\n",
       "      <th>primary_cleaner.state.floatbank8_a_level</th>\n",
       "      <td>-500.285160</td>\n",
       "      <td>-499.527131</td>\n",
       "    </tr>\n",
       "    <tr>\n",
       "      <th>primary_cleaner.state.floatbank8_b_air</th>\n",
       "      <td>1600.151967</td>\n",
       "      <td>1599.389604</td>\n",
       "    </tr>\n",
       "    <tr>\n",
       "      <th>primary_cleaner.state.floatbank8_b_level</th>\n",
       "      <td>-499.633542</td>\n",
       "      <td>-499.554869</td>\n",
       "    </tr>\n",
       "    <tr>\n",
       "      <th>primary_cleaner.state.floatbank8_c_air</th>\n",
       "      <td>1599.542959</td>\n",
       "      <td>1600.441370</td>\n",
       "    </tr>\n",
       "    <tr>\n",
       "      <th>primary_cleaner.state.floatbank8_c_level</th>\n",
       "      <td>-499.495721</td>\n",
       "      <td>-500.503609</td>\n",
       "    </tr>\n",
       "    <tr>\n",
       "      <th>primary_cleaner.state.floatbank8_d_air</th>\n",
       "      <td>1599.342687</td>\n",
       "      <td>1601.900702</td>\n",
       "    </tr>\n",
       "    <tr>\n",
       "      <th>primary_cleaner.state.floatbank8_d_level</th>\n",
       "      <td>-500.360306</td>\n",
       "      <td>-500.129123</td>\n",
       "    </tr>\n",
       "    <tr>\n",
       "      <th>rougher.calculation.sulfate_to_au_concentrate</th>\n",
       "      <td>41359.061159</td>\n",
       "      <td>41959.818540</td>\n",
       "    </tr>\n",
       "    <tr>\n",
       "      <th>rougher.calculation.floatbank10_sulfate_to_au_feed</th>\n",
       "      <td>3196.130244</td>\n",
       "      <td>3507.941540</td>\n",
       "    </tr>\n",
       "    <tr>\n",
       "      <th>rougher.calculation.floatbank11_sulfate_to_au_feed</th>\n",
       "      <td>3205.717062</td>\n",
       "      <td>3499.552368</td>\n",
       "    </tr>\n",
       "    <tr>\n",
       "      <th>rougher.calculation.au_pb_ratio</th>\n",
       "      <td>2.530283</td>\n",
       "      <td>2.448851</td>\n",
       "    </tr>\n",
       "    <tr>\n",
       "      <th>rougher.input.feed_ag</th>\n",
       "      <td>7.521974</td>\n",
       "      <td>6.046063</td>\n",
       "    </tr>\n",
       "    <tr>\n",
       "      <th>rougher.input.feed_pb</th>\n",
       "      <td>2.811569</td>\n",
       "      <td>2.777324</td>\n",
       "    </tr>\n",
       "    <tr>\n",
       "      <th>rougher.input.feed_rate</th>\n",
       "      <td>581.605260</td>\n",
       "      <td>571.766992</td>\n",
       "    </tr>\n",
       "    <tr>\n",
       "      <th>rougher.input.feed_size</th>\n",
       "      <td>65.620714</td>\n",
       "      <td>62.823127</td>\n",
       "    </tr>\n",
       "    <tr>\n",
       "      <th>rougher.input.feed_sol</th>\n",
       "      <td>41.154430</td>\n",
       "      <td>40.381002</td>\n",
       "    </tr>\n",
       "    <tr>\n",
       "      <th>rougher.input.feed_au</th>\n",
       "      <td>7.114065</td>\n",
       "      <td>6.801254</td>\n",
       "    </tr>\n",
       "    <tr>\n",
       "      <th>rougher.input.floatbank10_sulfate</th>\n",
       "      <td>13.322740</td>\n",
       "      <td>14.812266</td>\n",
       "    </tr>\n",
       "    <tr>\n",
       "      <th>rougher.input.floatbank10_xanthate</th>\n",
       "      <td>7.504592</td>\n",
       "      <td>7.064468</td>\n",
       "    </tr>\n",
       "    <tr>\n",
       "      <th>rougher.input.floatbank11_sulfate</th>\n",
       "      <td>13.311361</td>\n",
       "      <td>14.814722</td>\n",
       "    </tr>\n",
       "    <tr>\n",
       "      <th>rougher.input.floatbank11_xanthate</th>\n",
       "      <td>7.493738</td>\n",
       "      <td>7.064408</td>\n",
       "    </tr>\n",
       "    <tr>\n",
       "      <th>rougher.output.concentrate_ag</th>\n",
       "      <td>0.000000</td>\n",
       "      <td>10.788951</td>\n",
       "    </tr>\n",
       "    <tr>\n",
       "      <th>rougher.output.concentrate_pb</th>\n",
       "      <td>0.000000</td>\n",
       "      <td>7.537074</td>\n",
       "    </tr>\n",
       "    <tr>\n",
       "      <th>rougher.output.concentrate_sol</th>\n",
       "      <td>0.000000</td>\n",
       "      <td>26.092838</td>\n",
       "    </tr>\n",
       "    <tr>\n",
       "      <th>rougher.output.concentrate_au</th>\n",
       "      <td>0.000000</td>\n",
       "      <td>18.511902</td>\n",
       "    </tr>\n",
       "    <tr>\n",
       "      <th>rougher.output.recovery</th>\n",
       "      <td>0.000000</td>\n",
       "      <td>86.241795</td>\n",
       "    </tr>\n",
       "    <tr>\n",
       "      <th>rougher.output.tail_ag</th>\n",
       "      <td>4.784398</td>\n",
       "      <td>4.919573</td>\n",
       "    </tr>\n",
       "    <tr>\n",
       "      <th>rougher.output.tail_pb</th>\n",
       "      <td>0.818965</td>\n",
       "      <td>0.739863</td>\n",
       "    </tr>\n",
       "    <tr>\n",
       "      <th>rougher.output.tail_sol</th>\n",
       "      <td>20.046797</td>\n",
       "      <td>20.309714</td>\n",
       "    </tr>\n",
       "    <tr>\n",
       "      <th>rougher.output.tail_au</th>\n",
       "      <td>1.939811</td>\n",
       "      <td>1.369732</td>\n",
       "    </tr>\n",
       "    <tr>\n",
       "      <th>rougher.state.floatbank10_a_air</th>\n",
       "      <td>999.026619</td>\n",
       "      <td>999.708593</td>\n",
       "    </tr>\n",
       "    <tr>\n",
       "      <th>rougher.state.floatbank10_a_level</th>\n",
       "      <td>-499.850895</td>\n",
       "      <td>-400.075046</td>\n",
       "    </tr>\n",
       "    <tr>\n",
       "      <th>rougher.state.floatbank10_b_air</th>\n",
       "      <td>1600.614880</td>\n",
       "      <td>1600.639292</td>\n",
       "    </tr>\n",
       "    <tr>\n",
       "      <th>rougher.state.floatbank10_b_level</th>\n",
       "      <td>-500.331775</td>\n",
       "      <td>-450.110961</td>\n",
       "    </tr>\n",
       "    <tr>\n",
       "      <th>rougher.state.floatbank10_c_air</th>\n",
       "      <td>1598.654561</td>\n",
       "      <td>1602.333794</td>\n",
       "    </tr>\n",
       "    <tr>\n",
       "      <th>rougher.state.floatbank10_c_level</th>\n",
       "      <td>-500.364377</td>\n",
       "      <td>-450.673170</td>\n",
       "    </tr>\n",
       "    <tr>\n",
       "      <th>rougher.state.floatbank10_d_air</th>\n",
       "      <td>1398.394100</td>\n",
       "      <td>1600.427078</td>\n",
       "    </tr>\n",
       "    <tr>\n",
       "      <th>rougher.state.floatbank10_d_level</th>\n",
       "      <td>-501.540155</td>\n",
       "      <td>-449.633484</td>\n",
       "    </tr>\n",
       "    <tr>\n",
       "      <th>rougher.state.floatbank10_e_air</th>\n",
       "      <td>1197.182011</td>\n",
       "      <td>1401.859581</td>\n",
       "    </tr>\n",
       "    <tr>\n",
       "      <th>rougher.state.floatbank10_e_level</th>\n",
       "      <td>-500.205806</td>\n",
       "      <td>-448.145152</td>\n",
       "    </tr>\n",
       "    <tr>\n",
       "      <th>rougher.state.floatbank10_f_air</th>\n",
       "      <td>1198.542180</td>\n",
       "      <td>1400.906088</td>\n",
       "    </tr>\n",
       "    <tr>\n",
       "      <th>rougher.state.floatbank10_f_level</th>\n",
       "      <td>-499.648335</td>\n",
       "      <td>-451.771497</td>\n",
       "    </tr>\n",
       "    <tr>\n",
       "      <th>secondary_cleaner.output.tail_ag</th>\n",
       "      <td>13.605154</td>\n",
       "      <td>12.708557</td>\n",
       "    </tr>\n",
       "    <tr>\n",
       "      <th>secondary_cleaner.output.tail_pb</th>\n",
       "      <td>4.983564</td>\n",
       "      <td>4.565723</td>\n",
       "    </tr>\n",
       "    <tr>\n",
       "      <th>secondary_cleaner.output.tail_sol</th>\n",
       "      <td>9.545239</td>\n",
       "      <td>9.997717</td>\n",
       "    </tr>\n",
       "    <tr>\n",
       "      <th>secondary_cleaner.output.tail_au</th>\n",
       "      <td>3.102137</td>\n",
       "      <td>2.138772</td>\n",
       "    </tr>\n",
       "    <tr>\n",
       "      <th>secondary_cleaner.state.floatbank2_a_air</th>\n",
       "      <td>25.963860</td>\n",
       "      <td>25.999540</td>\n",
       "    </tr>\n",
       "    <tr>\n",
       "      <th>secondary_cleaner.state.floatbank2_a_level</th>\n",
       "      <td>-498.097243</td>\n",
       "      <td>-500.152462</td>\n",
       "    </tr>\n",
       "    <tr>\n",
       "      <th>secondary_cleaner.state.floatbank2_b_air</th>\n",
       "      <td>23.896954</td>\n",
       "      <td>24.013000</td>\n",
       "    </tr>\n",
       "    <tr>\n",
       "      <th>secondary_cleaner.state.floatbank2_b_level</th>\n",
       "      <td>-500.047419</td>\n",
       "      <td>-500.297031</td>\n",
       "    </tr>\n",
       "    <tr>\n",
       "      <th>secondary_cleaner.state.floatbank3_a_air</th>\n",
       "      <td>24.963926</td>\n",
       "      <td>24.022240</td>\n",
       "    </tr>\n",
       "    <tr>\n",
       "      <th>secondary_cleaner.state.floatbank3_a_level</th>\n",
       "      <td>-500.207267</td>\n",
       "      <td>-499.329964</td>\n",
       "    </tr>\n",
       "    <tr>\n",
       "      <th>secondary_cleaner.state.floatbank3_b_air</th>\n",
       "      <td>23.984937</td>\n",
       "      <td>24.012891</td>\n",
       "    </tr>\n",
       "    <tr>\n",
       "      <th>secondary_cleaner.state.floatbank3_b_level</th>\n",
       "      <td>-500.613261</td>\n",
       "      <td>-499.923981</td>\n",
       "    </tr>\n",
       "    <tr>\n",
       "      <th>secondary_cleaner.state.floatbank4_a_air</th>\n",
       "      <td>14.025588</td>\n",
       "      <td>14.001632</td>\n",
       "    </tr>\n",
       "    <tr>\n",
       "      <th>secondary_cleaner.state.floatbank4_a_level</th>\n",
       "      <td>-550.404242</td>\n",
       "      <td>-509.808331</td>\n",
       "    </tr>\n",
       "    <tr>\n",
       "      <th>secondary_cleaner.state.floatbank4_b_air</th>\n",
       "      <td>12.028925</td>\n",
       "      <td>12.087669</td>\n",
       "    </tr>\n",
       "    <tr>\n",
       "      <th>secondary_cleaner.state.floatbank4_b_level</th>\n",
       "      <td>-550.570104</td>\n",
       "      <td>-510.782166</td>\n",
       "    </tr>\n",
       "    <tr>\n",
       "      <th>secondary_cleaner.state.floatbank5_a_air</th>\n",
       "      <td>10.052072</td>\n",
       "      <td>10.032043</td>\n",
       "    </tr>\n",
       "    <tr>\n",
       "      <th>secondary_cleaner.state.floatbank5_a_level</th>\n",
       "      <td>-500.797905</td>\n",
       "      <td>-499.128183</td>\n",
       "    </tr>\n",
       "    <tr>\n",
       "      <th>secondary_cleaner.state.floatbank5_b_air</th>\n",
       "      <td>7.984500</td>\n",
       "      <td>8.016140</td>\n",
       "    </tr>\n",
       "    <tr>\n",
       "      <th>secondary_cleaner.state.floatbank5_b_level</th>\n",
       "      <td>-499.581046</td>\n",
       "      <td>-499.806844</td>\n",
       "    </tr>\n",
       "    <tr>\n",
       "      <th>secondary_cleaner.state.floatbank6_a_air</th>\n",
       "      <td>11.982025</td>\n",
       "      <td>13.949790</td>\n",
       "    </tr>\n",
       "    <tr>\n",
       "      <th>secondary_cleaner.state.floatbank6_a_level</th>\n",
       "      <td>-599.161228</td>\n",
       "      <td>-600.140776</td>\n",
       "    </tr>\n",
       "  </tbody>\n",
       "</table>\n",
       "</div>"
      ],
      "text/plain": [
       "                                                         rougher  \\\n",
       "final.output.concentrate_ag                             4.566664   \n",
       "final.output.concentrate_pb                            10.406178   \n",
       "final.output.concentrate_sol                            4.588698   \n",
       "final.output.concentrate_au                            46.614456   \n",
       "final.output.recovery                                  68.403877   \n",
       "final.output.tail_ag                                   10.705777   \n",
       "final.output.tail_pb                                    1.509070   \n",
       "final.output.tail_sol                                  17.875134   \n",
       "final.output.tail_au                                    2.509776   \n",
       "primary_cleaner.input.sulfate                         131.251366   \n",
       "primary_cleaner.input.depressant                       13.969457   \n",
       "primary_cleaner.input.feed_size                         7.250000   \n",
       "primary_cleaner.input.xanthate                          1.203034   \n",
       "primary_cleaner.output.concentrate_ag                   8.513177   \n",
       "primary_cleaner.output.concentrate_pb                   9.724797   \n",
       "primary_cleaner.output.concentrate_sol                 19.120964   \n",
       "primary_cleaner.output.concentrate_au                  37.633572   \n",
       "primary_cleaner.output.tail_ag                         16.455383   \n",
       "primary_cleaner.output.tail_pb                          3.366501   \n",
       "primary_cleaner.output.tail_sol                         6.864404   \n",
       "primary_cleaner.output.tail_au                          3.434734   \n",
       "primary_cleaner.state.floatbank8_a_air               1601.674776   \n",
       "primary_cleaner.state.floatbank8_a_level             -500.285160   \n",
       "primary_cleaner.state.floatbank8_b_air               1600.151967   \n",
       "primary_cleaner.state.floatbank8_b_level             -499.633542   \n",
       "primary_cleaner.state.floatbank8_c_air               1599.542959   \n",
       "primary_cleaner.state.floatbank8_c_level             -499.495721   \n",
       "primary_cleaner.state.floatbank8_d_air               1599.342687   \n",
       "primary_cleaner.state.floatbank8_d_level             -500.360306   \n",
       "rougher.calculation.sulfate_to_au_concentrate       41359.061159   \n",
       "rougher.calculation.floatbank10_sulfate_to_au_feed   3196.130244   \n",
       "rougher.calculation.floatbank11_sulfate_to_au_feed   3205.717062   \n",
       "rougher.calculation.au_pb_ratio                         2.530283   \n",
       "rougher.input.feed_ag                                   7.521974   \n",
       "rougher.input.feed_pb                                   2.811569   \n",
       "rougher.input.feed_rate                               581.605260   \n",
       "rougher.input.feed_size                                65.620714   \n",
       "rougher.input.feed_sol                                 41.154430   \n",
       "rougher.input.feed_au                                   7.114065   \n",
       "rougher.input.floatbank10_sulfate                      13.322740   \n",
       "rougher.input.floatbank10_xanthate                      7.504592   \n",
       "rougher.input.floatbank11_sulfate                      13.311361   \n",
       "rougher.input.floatbank11_xanthate                      7.493738   \n",
       "rougher.output.concentrate_ag                           0.000000   \n",
       "rougher.output.concentrate_pb                           0.000000   \n",
       "rougher.output.concentrate_sol                          0.000000   \n",
       "rougher.output.concentrate_au                           0.000000   \n",
       "rougher.output.recovery                                 0.000000   \n",
       "rougher.output.tail_ag                                  4.784398   \n",
       "rougher.output.tail_pb                                  0.818965   \n",
       "rougher.output.tail_sol                                20.046797   \n",
       "rougher.output.tail_au                                  1.939811   \n",
       "rougher.state.floatbank10_a_air                       999.026619   \n",
       "rougher.state.floatbank10_a_level                    -499.850895   \n",
       "rougher.state.floatbank10_b_air                      1600.614880   \n",
       "rougher.state.floatbank10_b_level                    -500.331775   \n",
       "rougher.state.floatbank10_c_air                      1598.654561   \n",
       "rougher.state.floatbank10_c_level                    -500.364377   \n",
       "rougher.state.floatbank10_d_air                      1398.394100   \n",
       "rougher.state.floatbank10_d_level                    -501.540155   \n",
       "rougher.state.floatbank10_e_air                      1197.182011   \n",
       "rougher.state.floatbank10_e_level                    -500.205806   \n",
       "rougher.state.floatbank10_f_air                      1198.542180   \n",
       "rougher.state.floatbank10_f_level                    -499.648335   \n",
       "secondary_cleaner.output.tail_ag                       13.605154   \n",
       "secondary_cleaner.output.tail_pb                        4.983564   \n",
       "secondary_cleaner.output.tail_sol                       9.545239   \n",
       "secondary_cleaner.output.tail_au                        3.102137   \n",
       "secondary_cleaner.state.floatbank2_a_air               25.963860   \n",
       "secondary_cleaner.state.floatbank2_a_level           -498.097243   \n",
       "secondary_cleaner.state.floatbank2_b_air               23.896954   \n",
       "secondary_cleaner.state.floatbank2_b_level           -500.047419   \n",
       "secondary_cleaner.state.floatbank3_a_air               24.963926   \n",
       "secondary_cleaner.state.floatbank3_a_level           -500.207267   \n",
       "secondary_cleaner.state.floatbank3_b_air               23.984937   \n",
       "secondary_cleaner.state.floatbank3_b_level           -500.613261   \n",
       "secondary_cleaner.state.floatbank4_a_air               14.025588   \n",
       "secondary_cleaner.state.floatbank4_a_level           -550.404242   \n",
       "secondary_cleaner.state.floatbank4_b_air               12.028925   \n",
       "secondary_cleaner.state.floatbank4_b_level           -550.570104   \n",
       "secondary_cleaner.state.floatbank5_a_air               10.052072   \n",
       "secondary_cleaner.state.floatbank5_a_level           -500.797905   \n",
       "secondary_cleaner.state.floatbank5_b_air                7.984500   \n",
       "secondary_cleaner.state.floatbank5_b_level           -499.581046   \n",
       "secondary_cleaner.state.floatbank6_a_air               11.982025   \n",
       "secondary_cleaner.state.floatbank6_a_level           -599.161228   \n",
       "\n",
       "                                                    primary_cleaner  \n",
       "final.output.concentrate_ag                                5.658943  \n",
       "final.output.concentrate_pb                               10.436002  \n",
       "final.output.concentrate_sol                               5.942418  \n",
       "final.output.concentrate_au                               42.509402  \n",
       "final.output.recovery                                     70.348300  \n",
       "final.output.tail_ag                                      10.232392  \n",
       "final.output.tail_pb                                       1.174845  \n",
       "final.output.tail_sol                                     19.498566  \n",
       "final.output.tail_au                                       2.272460  \n",
       "primary_cleaner.input.sulfate                            149.998260  \n",
       "primary_cleaner.input.depressant                          12.509947  \n",
       "primary_cleaner.input.feed_size                            7.250000  \n",
       "primary_cleaner.input.xanthate                             0.997030  \n",
       "primary_cleaner.output.concentrate_ag                      0.000000  \n",
       "primary_cleaner.output.concentrate_pb                      0.000000  \n",
       "primary_cleaner.output.concentrate_sol                     0.000000  \n",
       "primary_cleaner.output.concentrate_au                      0.000000  \n",
       "primary_cleaner.output.tail_ag                            14.915949  \n",
       "primary_cleaner.output.tail_pb                             2.702527  \n",
       "primary_cleaner.output.tail_sol                            7.784534  \n",
       "primary_cleaner.output.tail_au                             2.013487  \n",
       "primary_cleaner.state.floatbank8_a_air                  1599.617983  \n",
       "primary_cleaner.state.floatbank8_a_level                -499.527131  \n",
       "primary_cleaner.state.floatbank8_b_air                  1599.389604  \n",
       "primary_cleaner.state.floatbank8_b_level                -499.554869  \n",
       "primary_cleaner.state.floatbank8_c_air                  1600.441370  \n",
       "primary_cleaner.state.floatbank8_c_level                -500.503609  \n",
       "primary_cleaner.state.floatbank8_d_air                  1601.900702  \n",
       "primary_cleaner.state.floatbank8_d_level                -500.129123  \n",
       "rougher.calculation.sulfate_to_au_concentrate          41959.818540  \n",
       "rougher.calculation.floatbank10_sulfate_to_au_feed      3507.941540  \n",
       "rougher.calculation.floatbank11_sulfate_to_au_feed      3499.552368  \n",
       "rougher.calculation.au_pb_ratio                            2.448851  \n",
       "rougher.input.feed_ag                                      6.046063  \n",
       "rougher.input.feed_pb                                      2.777324  \n",
       "rougher.input.feed_rate                                  571.766992  \n",
       "rougher.input.feed_size                                   62.823127  \n",
       "rougher.input.feed_sol                                    40.381002  \n",
       "rougher.input.feed_au                                      6.801254  \n",
       "rougher.input.floatbank10_sulfate                         14.812266  \n",
       "rougher.input.floatbank10_xanthate                         7.064468  \n",
       "rougher.input.floatbank11_sulfate                         14.814722  \n",
       "rougher.input.floatbank11_xanthate                         7.064408  \n",
       "rougher.output.concentrate_ag                             10.788951  \n",
       "rougher.output.concentrate_pb                              7.537074  \n",
       "rougher.output.concentrate_sol                            26.092838  \n",
       "rougher.output.concentrate_au                             18.511902  \n",
       "rougher.output.recovery                                   86.241795  \n",
       "rougher.output.tail_ag                                     4.919573  \n",
       "rougher.output.tail_pb                                     0.739863  \n",
       "rougher.output.tail_sol                                   20.309714  \n",
       "rougher.output.tail_au                                     1.369732  \n",
       "rougher.state.floatbank10_a_air                          999.708593  \n",
       "rougher.state.floatbank10_a_level                       -400.075046  \n",
       "rougher.state.floatbank10_b_air                         1600.639292  \n",
       "rougher.state.floatbank10_b_level                       -450.110961  \n",
       "rougher.state.floatbank10_c_air                         1602.333794  \n",
       "rougher.state.floatbank10_c_level                       -450.673170  \n",
       "rougher.state.floatbank10_d_air                         1600.427078  \n",
       "rougher.state.floatbank10_d_level                       -449.633484  \n",
       "rougher.state.floatbank10_e_air                         1401.859581  \n",
       "rougher.state.floatbank10_e_level                       -448.145152  \n",
       "rougher.state.floatbank10_f_air                         1400.906088  \n",
       "rougher.state.floatbank10_f_level                       -451.771497  \n",
       "secondary_cleaner.output.tail_ag                          12.708557  \n",
       "secondary_cleaner.output.tail_pb                           4.565723  \n",
       "secondary_cleaner.output.tail_sol                          9.997717  \n",
       "secondary_cleaner.output.tail_au                           2.138772  \n",
       "secondary_cleaner.state.floatbank2_a_air                  25.999540  \n",
       "secondary_cleaner.state.floatbank2_a_level              -500.152462  \n",
       "secondary_cleaner.state.floatbank2_b_air                  24.013000  \n",
       "secondary_cleaner.state.floatbank2_b_level              -500.297031  \n",
       "secondary_cleaner.state.floatbank3_a_air                  24.022240  \n",
       "secondary_cleaner.state.floatbank3_a_level              -499.329964  \n",
       "secondary_cleaner.state.floatbank3_b_air                  24.012891  \n",
       "secondary_cleaner.state.floatbank3_b_level              -499.923981  \n",
       "secondary_cleaner.state.floatbank4_a_air                  14.001632  \n",
       "secondary_cleaner.state.floatbank4_a_level              -509.808331  \n",
       "secondary_cleaner.state.floatbank4_b_air                  12.087669  \n",
       "secondary_cleaner.state.floatbank4_b_level              -510.782166  \n",
       "secondary_cleaner.state.floatbank5_a_air                  10.032043  \n",
       "secondary_cleaner.state.floatbank5_a_level              -499.128183  \n",
       "secondary_cleaner.state.floatbank5_b_air                   8.016140  \n",
       "secondary_cleaner.state.floatbank5_b_level              -499.806844  \n",
       "secondary_cleaner.state.floatbank6_a_air                  13.949790  \n",
       "secondary_cleaner.state.floatbank6_a_level              -600.140776  "
      ]
     },
     "metadata": {},
     "output_type": "display_data"
    }
   ],
   "source": [
    "with pd.option_context('display.max_rows', None,):\n",
    "    data_temp = pd.concat([data_train[data_train['rougher.output.concentrate_au'] == 0].head(1).T, \n",
    "                           data_train[data_train['primary_cleaner.output.concentrate_au'] == 0].head(1).T\n",
    "                          ], axis=1)\n",
    "    data_temp.columns = ['rougher', 'primary_cleaner']\n",
    "    display(data_temp)"
   ]
  },
  {
   "cell_type": "markdown",
   "metadata": {},
   "source": [
    "Для рассмотренных строк нулевые значения концентрации золота для продуктов стадий `rougher` и `primary_cleaner` являются явно ошибочными, поскольку значения для последующих стадий не нулевые. Нулевые значения в `final` могут соответствовать реальным значениям. Посчитаем доли таких записей:"
   ]
  },
  {
   "cell_type": "code",
   "execution_count": 12,
   "metadata": {},
   "outputs": [
    {
     "data": {
      "text/html": [
       "<div>\n",
       "<style scoped>\n",
       "    .dataframe tbody tr th:only-of-type {\n",
       "        vertical-align: middle;\n",
       "    }\n",
       "\n",
       "    .dataframe tbody tr th {\n",
       "        vertical-align: top;\n",
       "    }\n",
       "\n",
       "    .dataframe thead th {\n",
       "        text-align: right;\n",
       "    }\n",
       "</style>\n",
       "<table border=\"1\" class=\"dataframe\">\n",
       "  <thead>\n",
       "    <tr style=\"text-align: right;\">\n",
       "      <th></th>\n",
       "      <th>Au</th>\n",
       "      <th>Ag</th>\n",
       "      <th>Pb</th>\n",
       "    </tr>\n",
       "  </thead>\n",
       "  <tbody>\n",
       "    <tr>\n",
       "      <th>rougher</th>\n",
       "      <td>0.020576</td>\n",
       "      <td>0.020576</td>\n",
       "      <td>0.020576</td>\n",
       "    </tr>\n",
       "    <tr>\n",
       "      <th>primary_cleaner</th>\n",
       "      <td>0.004166</td>\n",
       "      <td>0.004166</td>\n",
       "      <td>0.004166</td>\n",
       "    </tr>\n",
       "    <tr>\n",
       "      <th>final</th>\n",
       "      <td>0.002721</td>\n",
       "      <td>0.002721</td>\n",
       "      <td>0.002721</td>\n",
       "    </tr>\n",
       "  </tbody>\n",
       "</table>\n",
       "</div>"
      ],
      "text/plain": [
       "                       Au        Ag        Pb\n",
       "rougher          0.020576  0.020576  0.020576\n",
       "primary_cleaner  0.004166  0.004166  0.004166\n",
       "final            0.002721  0.002721  0.002721"
      ]
     },
     "execution_count": 12,
     "metadata": {},
     "output_type": "execute_result"
    }
   ],
   "source": [
    "pd.DataFrame({metal: \n",
    "              [(data_train[f\"{stage}.output.concentrate_{str.lower(metal)}\"] == 0).mean() for stage in STAGES] \n",
    "              for metal in METALS},\n",
    "             index=[STAGES])"
   ]
  },
  {
   "cell_type": "markdown",
   "metadata": {},
   "source": [
    "Доли нулевых значений совпадают для всех металлов, вероятно это связано с ошибкой ввода данных по результатам анализов, либо полным отсутствием результатов анализа для некоторых случаев. Доля аномальных записей не слишком высока, удалим их:"
   ]
  },
  {
   "cell_type": "code",
   "execution_count": 13,
   "metadata": {},
   "outputs": [
    {
     "name": "stdout",
     "output_type": "stream",
     "text": [
      "Удалено 2.72 % записей\n"
     ]
    }
   ],
   "source": [
    "to_drop = ((data_train['rougher.output.concentrate_au'] == 0) |\n",
    "           (data_train['primary_cleaner.output.concentrate_au'] == 0) |\n",
    "           (data_train['final.output.concentrate_au'] == 0)\n",
    "          )\n",
    "print(f\"Удалено {len(data_train[to_drop]) * 100 / len(data_train):0.2f} % записей\")\n",
    "data_train.drop(data_train[to_drop].index, axis=0, inplace=True)"
   ]
  },
  {
   "cell_type": "code",
   "execution_count": 14,
   "metadata": {},
   "outputs": [
    {
     "data": {
      "text/html": [
       "<div>\n",
       "<style scoped>\n",
       "    .dataframe tbody tr th:only-of-type {\n",
       "        vertical-align: middle;\n",
       "    }\n",
       "\n",
       "    .dataframe tbody tr th {\n",
       "        vertical-align: top;\n",
       "    }\n",
       "\n",
       "    .dataframe thead th {\n",
       "        text-align: right;\n",
       "    }\n",
       "</style>\n",
       "<table border=\"1\" class=\"dataframe\">\n",
       "  <thead>\n",
       "    <tr style=\"text-align: right;\">\n",
       "      <th></th>\n",
       "      <th>Au</th>\n",
       "      <th>Ag</th>\n",
       "      <th>Pb</th>\n",
       "    </tr>\n",
       "  </thead>\n",
       "  <tbody>\n",
       "    <tr>\n",
       "      <th>rougher</th>\n",
       "      <td>0.0</td>\n",
       "      <td>0.0</td>\n",
       "      <td>0.0</td>\n",
       "    </tr>\n",
       "    <tr>\n",
       "      <th>primary_cleaner</th>\n",
       "      <td>0.0</td>\n",
       "      <td>0.0</td>\n",
       "      <td>0.0</td>\n",
       "    </tr>\n",
       "    <tr>\n",
       "      <th>final</th>\n",
       "      <td>0.0</td>\n",
       "      <td>0.0</td>\n",
       "      <td>0.0</td>\n",
       "    </tr>\n",
       "  </tbody>\n",
       "</table>\n",
       "</div>"
      ],
      "text/plain": [
       "                  Au   Ag   Pb\n",
       "rougher          0.0  0.0  0.0\n",
       "primary_cleaner  0.0  0.0  0.0\n",
       "final            0.0  0.0  0.0"
      ]
     },
     "execution_count": 14,
     "metadata": {},
     "output_type": "execute_result"
    }
   ],
   "source": [
    "pd.DataFrame({metal: \n",
    "              [(data_train[f\"{stage}.output.concentrate_{str.lower(metal)}\"] == 0).mean() for stage in STAGES] \n",
    "              for metal in METALS},\n",
    "             index=[STAGES])"
   ]
  },
  {
   "cell_type": "markdown",
   "metadata": {},
   "source": [
    "Аномальные записи в обучающей выборке удалены. Следует заметить, что удаление нулевых записей для содержания золота привело к удалению нулевых записей по всем металлам."
   ]
  },
  {
   "cell_type": "markdown",
   "metadata": {},
   "source": [
    "### Выводы\n",
    "1. Следует уточнить у заказчика физико-химический смысл параметра `sol`, а также уточнить, не является ли ошибочным пропуск технологических параметров (уровень жидкости и скорость барботирования) для флотационной ванны `11`.\n",
    "2. В качестве независимых параметров при построении моделей могут быть использованы параметры тестовой выборки.\n",
    "3. Данные по концентрации золота до и после грубой очистки непротиворечивы (MAE для расчитанной и предоставленной полноты выделения золота - $1.113 \\cdot 10^{-14}$.\n",
    "4. Пропуски заполнены интерполированием имеющихся данных.\n",
    "5. Из обучающей выборки удалены нулевые строки с нулевым содержанием золота в концентратах, а также строки, содержащие значения параметров, не попадающие в 99,75% диапазон."
   ]
  },
  {
   "cell_type": "markdown",
   "metadata": {},
   "source": [
    "## Анализ данных"
   ]
  },
  {
   "cell_type": "markdown",
   "metadata": {},
   "source": [
    "### Гранулометрический состав сырья"
   ]
  },
  {
   "cell_type": "markdown",
   "metadata": {},
   "source": [
    "В случае значительного расхождения гранулометрического состава сырья и промежуточных концентратов для обучающей и тестовой выборок построение модели может быть невозможно. Определим на каких этапах производится контроль гранулометрического состава:"
   ]
  },
  {
   "cell_type": "code",
   "execution_count": 15,
   "metadata": {},
   "outputs": [
    {
     "data": {
      "text/plain": [
       "['primary_cleaner.input.feed_size', 'rougher.input.feed_size']"
      ]
     },
     "execution_count": 15,
     "metadata": {},
     "output_type": "execute_result"
    }
   ],
   "source": [
    "feed_sizes = [col for col in data_train.columns if 'feed_size' in col]\n",
    "feed_sizes"
   ]
  },
  {
   "cell_type": "markdown",
   "metadata": {},
   "source": [
    "Гранулометрический состав контролируется только для исходного сырья и чернового концентрата. Сравним распределения для обучающей и тестовой выборок:"
   ]
  },
  {
   "cell_type": "code",
   "execution_count": 16,
   "metadata": {
    "scrolled": true
   },
   "outputs": [
    {
     "data": {
      "image/png": "[encoded data removed]",
      "text/plain": [
       "<Figure size 1152x360 with 2 Axes>"
      ]
     },
     "metadata": {
      "needs_background": "light"
     },
     "output_type": "display_data"
    }
   ],
   "source": [
    "fig, axes = plt.subplots(1,2, figsize=(16,5))\n",
    "\n",
    "for i in range(2):\n",
    "    size = feed_sizes[i]\n",
    "    ax = axes[i]\n",
    "    # Поскольку параметры для двух распределений почти совпадают, запишем их в словарь:\n",
    "    hist_params = {'ax' : ax,\n",
    "                   'bins' : 20,\n",
    "                   'rwidth' : 0.9,\n",
    "                   'alpha' : 0.7,\n",
    "                   'density' : True,\n",
    "                   'range' : (round(data_train[size].min()),\n",
    "                              round(data_train[size].quantile(0.995)))\n",
    "    }\n",
    "    \n",
    "    # Построение гистограмм:\n",
    "    data_train[size].hist(color = 'r', **hist_params, label='train')\n",
    "    data_test[size].hist(color = 'gray', **hist_params, label='test')\n",
    "    # Настройка области построения:\n",
    "    ax.legend()\n",
    "    ax.set_xlabel('Размер частиц, усл. ед.')\n",
    "    ax.set_ylabel('Относительное содержание частиц')\n",
    "plt.show()"
   ]
  },
  {
   "cell_type": "markdown",
   "metadata": {},
   "source": [
    "Гранулометрический состав сырья и чернового концентрата для обучающего и тестового наборов данных практически совпадают. Таким образом, оба набора данных относятся к одной генеральной совокупности и для них можно ожидать построения модели хорошего качества."
   ]
  },
  {
   "cell_type": "markdown",
   "metadata": {},
   "source": [
    "### Изменение концентрации металлов при обогащении руды"
   ]
  },
  {
   "cell_type": "markdown",
   "metadata": {},
   "source": [
    "Исследуем изменение концентраций металлов при прохождении этапов обогащения руды:"
   ]
  },
  {
   "cell_type": "code",
   "execution_count": 17,
   "metadata": {},
   "outputs": [
    {
     "data": {
      "image/png": "[encoded data removed]",
      "text/plain": [
       "<Figure size 1080x1080 with 6 Axes>"
      ]
     },
     "metadata": {
      "needs_background": "light"
     },
     "output_type": "display_data"
    }
   ],
   "source": [
    "fig, ax = plt.subplots(3, 2, figsize=(15, 15))\n",
    "\n",
    "# Перебор металлов:\n",
    "for i in range(3):\n",
    "    metal = str.lower(METALS[i])\n",
    "    # Рассмотрение концентратов и хвостов:\n",
    "    for j in range(2):\n",
    "        # Формирование списка необходимых колонок:\n",
    "        phases = [f'rougher.input.feed_{metal}'] + [stage + f'.output.{TYPES[j]}_{metal}' for stage in STAGES]\n",
    "        # Построение и настройка внешнего вида графиков:\n",
    "        data_train[phases].plot(kind='box', ax=ax[i, j])\n",
    "        ax[i, j].set_title(f\"{METALS[i]} ({TYPES[j]})\")\n",
    "        ax[i, j].set_xticklabels(['input', 'rougher', 'primary', 'final'])"
   ]
  },
  {
   "cell_type": "markdown",
   "metadata": {},
   "source": [
    "Содержание золота в концентрате монотонно растет при переходе к каждому следующему этапу обогащения. Следовательно, в целом процесс работает правильным образом. Распределение выбросов связано с предобработкой данных (п. 1.3.2), при этом различия для конкретных металлов определяется спецификой процесса - для золота основное число значений лежит близко к максимуму диапазона, а для других металлов большинство значений лежит ближе к середине диапазона. Это снова подтверждает то, что исследуемый процесс работает как должен.   \n",
    "\n",
    "При получении чернового концентрата растет концентрация всех металлов, что вероятно связано с удалением пустой породы (не металлической, не сульфидной). Кроме того, для этапа чернового обогащения минимальна концентрация металлов в \"хвостах\". Вероятно, черновое обогащение построено таким образом, чтобы обеспечить наибольшую полносту выделения металлов, а селективность выделения золота достигается на втором этапе обогащения."
   ]
  },
  {
   "cell_type": "markdown",
   "metadata": {},
   "source": [
    "### Изменение суммарной концентрации контролируемых веществ"
   ]
  },
  {
   "cell_type": "markdown",
   "metadata": {},
   "source": [
    "Рассмотрим изменение суммарной концентрации веществ, указанных в предоставленных данных:"
   ]
  },
  {
   "cell_type": "code",
   "execution_count": 18,
   "metadata": {},
   "outputs": [
    {
     "data": {
      "image/png": "[encoded data removed]",
      "text/plain": [
       "<Figure size 1080x360 with 2 Axes>"
      ]
     },
     "metadata": {
      "needs_background": "light"
     },
     "output_type": "display_data"
    }
   ],
   "source": [
    "# Аналогично предыдущим графикам:\n",
    "fig, ax = plt.subplots(1, 2, figsize=(15, 5))\n",
    "\n",
    "COMPONENTS = METALS + ['sol']\n",
    "\n",
    "data_train\n",
    "\n",
    "# Рассмотрение концентратов и хвостов:\n",
    "for j in range(2):\n",
    "    \n",
    "    # Список этапов обогащения:\n",
    "    phases = ['rougher.input.feed_'] + [stage + f'.output.{TYPES[j]}_' for stage in STAGES]\n",
    "    s_conc = []\n",
    "    \n",
    "    for phase in phases:\n",
    "        s_conc.append(phase + 'sum')\n",
    "        data_train[phase + 'sum'] = data_train[[phase + str.lower(comp) for comp in COMPONENTS]].sum(axis=1)\n",
    "\n",
    "    # Построение и настройка внешнего вида графиков:\n",
    "    data_train[s_conc].plot(kind='box', ax=ax[j])\n",
    "    ax[j].set_title(f\"Суммарная концентрация ({TYPES[j]})\")\n",
    "    ax[j].set_xticklabels(['input', 'rougher', 'primary', 'final'])"
   ]
  },
  {
   "cell_type": "markdown",
   "metadata": {},
   "source": [
    "Суммарная концентрация учитываемых компонентов мало меняется в ходе обогащения. Следует отметить небольшое уменьшение межквартильного размаха для суммарной концентрации компонентов в концентратах. О суммарной концентрации сложно судить, поскольку не известно чем конкретно является компонент `sol`, а также какие ещё компонетны содержатся в сырье и концентратах.  \n",
    "Большое снижение суммарной концентрации в \"хвостах\" после чернового обогащение (почти в 2,5 раза) вызывает сомнение. Для сходимости материального баланса необходимо сильное превышение количества чернового концентрата над количеством хвостов чернового обогащения. Поскольку такая реализация процесса маловероятна на практике, можно предположить что концентарции компонентов имеют разный масштаб (ppm, ppb и т.д.) и, следовательно, их суммирование некорректно.  \n",
    "Независимо от корректности расчета суммарной концентрации нулевые значения для концентратов невозможны, а для хвостов на поздних стадиях обогащения маловероятны. Проверим их отсутствие:"
   ]
  },
  {
   "cell_type": "code",
   "execution_count": 19,
   "metadata": {},
   "outputs": [
    {
     "name": "stdout",
     "output_type": "stream",
     "text": [
      "Доли нулевых значений суммарной концентрации:\n"
     ]
    },
    {
     "data": {
      "text/html": [
       "<div>\n",
       "<style scoped>\n",
       "    .dataframe tbody tr th:only-of-type {\n",
       "        vertical-align: middle;\n",
       "    }\n",
       "\n",
       "    .dataframe tbody tr th {\n",
       "        vertical-align: top;\n",
       "    }\n",
       "\n",
       "    .dataframe thead th {\n",
       "        text-align: right;\n",
       "    }\n",
       "</style>\n",
       "<table border=\"1\" class=\"dataframe\">\n",
       "  <thead>\n",
       "    <tr style=\"text-align: right;\">\n",
       "      <th></th>\n",
       "      <th>concentrate</th>\n",
       "      <th>tail</th>\n",
       "    </tr>\n",
       "  </thead>\n",
       "  <tbody>\n",
       "    <tr>\n",
       "      <th>rougher</th>\n",
       "      <td>0.0</td>\n",
       "      <td>0.000000</td>\n",
       "    </tr>\n",
       "    <tr>\n",
       "      <th>primary_cleaner</th>\n",
       "      <td>0.0</td>\n",
       "      <td>0.003671</td>\n",
       "    </tr>\n",
       "    <tr>\n",
       "      <th>final</th>\n",
       "      <td>0.0</td>\n",
       "      <td>0.003496</td>\n",
       "    </tr>\n",
       "  </tbody>\n",
       "</table>\n",
       "</div>"
      ],
      "text/plain": [
       "                 concentrate      tail\n",
       "rougher                  0.0  0.000000\n",
       "primary_cleaner          0.0  0.003671\n",
       "final                    0.0  0.003496"
      ]
     },
     "execution_count": 19,
     "metadata": {},
     "output_type": "execute_result"
    }
   ],
   "source": [
    "print(\"Доли нулевых значений суммарной концентрации:\")\n",
    "pd.DataFrame({types: [(data_train[f'{stage}.output.{types}_sum']==0).mean() for stage in STAGES] for types in TYPES},\n",
    "            index=STAGES)"
   ]
  },
  {
   "cell_type": "markdown",
   "metadata": {},
   "source": [
    "Для концентратов нулевые значения суммарной концентрации действительно отсутствуют. Для хвостов на второй стадии обогащения имеется небольшая доля записей с нулевой суммарной концентрацией. Удалим их:"
   ]
  },
  {
   "cell_type": "code",
   "execution_count": 20,
   "metadata": {},
   "outputs": [
    {
     "name": "stdout",
     "output_type": "stream",
     "text": [
      "Доли нулевых значений суммарной концентрации:\n"
     ]
    },
    {
     "data": {
      "text/html": [
       "<div>\n",
       "<style scoped>\n",
       "    .dataframe tbody tr th:only-of-type {\n",
       "        vertical-align: middle;\n",
       "    }\n",
       "\n",
       "    .dataframe tbody tr th {\n",
       "        vertical-align: top;\n",
       "    }\n",
       "\n",
       "    .dataframe thead th {\n",
       "        text-align: right;\n",
       "    }\n",
       "</style>\n",
       "<table border=\"1\" class=\"dataframe\">\n",
       "  <thead>\n",
       "    <tr style=\"text-align: right;\">\n",
       "      <th></th>\n",
       "      <th>concentrate</th>\n",
       "      <th>tail</th>\n",
       "    </tr>\n",
       "  </thead>\n",
       "  <tbody>\n",
       "    <tr>\n",
       "      <th>rougher</th>\n",
       "      <td>0.0</td>\n",
       "      <td>0.0</td>\n",
       "    </tr>\n",
       "    <tr>\n",
       "      <th>primary_cleaner</th>\n",
       "      <td>0.0</td>\n",
       "      <td>0.0</td>\n",
       "    </tr>\n",
       "    <tr>\n",
       "      <th>final</th>\n",
       "      <td>0.0</td>\n",
       "      <td>0.0</td>\n",
       "    </tr>\n",
       "  </tbody>\n",
       "</table>\n",
       "</div>"
      ],
      "text/plain": [
       "                 concentrate  tail\n",
       "rougher                  0.0   0.0\n",
       "primary_cleaner          0.0   0.0\n",
       "final                    0.0   0.0"
      ]
     },
     "execution_count": 20,
     "metadata": {},
     "output_type": "execute_result"
    }
   ],
   "source": [
    "for stage in STAGES:\n",
    "    data_train.drop(data_train[(data_train[f'{stage}.output.tail_sum']==0)].index, axis=0, inplace=True)\n",
    "    \n",
    "print(\"Доли нулевых значений суммарной концентрации:\")\n",
    "pd.DataFrame({types: [(data_train[f'{stage}.output.{types}_sum']==0).mean() for stage in STAGES] for types in TYPES},\n",
    "            index=STAGES)"
   ]
  },
  {
   "cell_type": "markdown",
   "metadata": {},
   "source": [
    "Нулевые значения суммарной концентрации исключены. Как было указано выше, делать какую-либо другую обработку на основании суммарной концентрации не следует из-за сомнений в корректности её расчета."
   ]
  },
  {
   "cell_type": "markdown",
   "metadata": {},
   "source": [
    "### Оценка распределения целевых признаков"
   ]
  },
  {
   "cell_type": "markdown",
   "metadata": {},
   "source": [
    "Рассмотрим распределения целевых признаков `rougher.output.recovery` и `final.output.recovery`:"
   ]
  },
  {
   "cell_type": "code",
   "execution_count": 21,
   "metadata": {
    "scrolled": false
   },
   "outputs": [
    {
     "data": {
      "image/png": "[encoded data removed]",
      "text/plain": [
       "<Figure size 1080x360 with 2 Axes>"
      ]
     },
     "metadata": {
      "needs_background": "light"
     },
     "output_type": "display_data"
    }
   ],
   "source": [
    "fig, ax = plt.subplots(1,2, figsize=(15,5))\n",
    "\n",
    "ax[0].hist(data_train['rougher.output.recovery'], bins=20, rwidth = 0.9)\n",
    "ax[1].hist(data_train['final.output.recovery'], bins=20, rwidth = 0.9)\n",
    "plt.show()"
   ]
  },
  {
   "cell_type": "markdown",
   "metadata": {},
   "source": [
    "Оба распределения имеют длинные хвосты слева и сильно отличаются от нормального распределения. Учитывая близкий к нормальному характер распределений признаков, это может помешать эффективному обучению моделей. Для приближения распределений к нормальному виду можно воспользоваться степенным преобразованием. Рассмотрим такое преобразование и распределения целевых признаков после его применения:"
   ]
  },
  {
   "cell_type": "code",
   "execution_count": 22,
   "metadata": {
    "scrolled": true
   },
   "outputs": [
    {
     "name": "stdout",
     "output_type": "stream",
     "text": [
      "Степени преобразований: [4.22331593 2.13239991]\n"
     ]
    },
    {
     "data": {
      "image/png": "[encoded data removed]",
      "text/plain": [
       "<Figure size 1080x360 with 2 Axes>"
      ]
     },
     "metadata": {
      "needs_background": "light"
     },
     "output_type": "display_data"
    }
   ],
   "source": [
    "pt = PowerTransformer(method='yeo-johnson', standardize=False, copy=True)\n",
    "targets_trans = pt.fit_transform(data_train[['rougher.output.recovery', 'final.output.recovery']])\n",
    "print(f'Степени преобразований: {pt.lambdas_}')\n",
    "\n",
    "fig, ax = plt.subplots(1,2, figsize=(15,5))\n",
    "LAMBDAS = pt.lambdas_\n",
    "ax[0].hist(targets_trans[:,0], bins=20, rwidth = 0.9)\n",
    "ax[1].hist(targets_trans[:,1], bins=20, rwidth = 0.9)\n",
    "plt.show()"
   ]
  },
  {
   "cell_type": "markdown",
   "metadata": {},
   "source": [
    "Преобразования прошли не вполне идеально, однако приблизили распределения к нормальному. Следует отметить бимодальность распределения первого целевого признака (источников данных является две различных обогатительных установки) и наличие небольшого количества выбросов для второго целевого признака. В целом распределения удовлетворительны и, следовательно, степенное преобразование целевых признаков может быть использовано при обучении моделей."
   ]
  },
  {
   "cell_type": "markdown",
   "metadata": {},
   "source": [
    "### Выводы\n",
    "1. Гранулометрический состав исходной руды и чернового концентрата для обучающей и тестовой выборок совпадают, таким образом потенциально возможно построение на обучающей выборке и её использование для предсказаний на тестовой выборке.\n",
    "3. Исследуемый процесс работает правильным образом. Концентрация золота монотонно растет при прохождении этапов обогащения. Наибольшая полнота выделения металлов, включая золото, достигается на этапе чернового обогащения.\n",
    "4. Суммарная концентрация компонентов, о которых имеются сведения, практически не изменяется для концентратов. При этом суммарная концентрация в \"хвостах\" снижается в 2 - 2,5 раза по сравнению с концентрацией в сырье, что заставляет предположит некорректность такого суммирования.\n",
    "1. Распределения целевых признаков сильно отклоняются от нормального. Для построения моделей может быть использовано степенное преобразование целевых признаков со степенями 4,2 и 2,1 соответственно."
   ]
  },
  {
   "cell_type": "markdown",
   "metadata": {},
   "source": [
    "## Модель"
   ]
  },
  {
   "cell_type": "markdown",
   "metadata": {},
   "source": [
    "### Метрики качества"
   ]
  },
  {
   "cell_type": "markdown",
   "metadata": {},
   "source": [
    "По требованию заказчика для оценки качества моделей должна использоваться метрика *sMAPE* (Symmetric Mean Absolute Erro), вычисляемая следующим образом:\n",
    "\n",
    "$sMAPE= \\frac{1}{N} \\sum_{i=1}^{N} \\frac {|y_i-\\hat{y_i}|}{(|y_i|+|\\hat{y_i}|)/2} \\times 100\\% $\n",
    "\n",
    "Для суммирования качества моделей, предсказывающих полноту выделения золота в ходе чернового обогащения и финишной доводки, оценки моделей взвешивается в отношении 1:3 :\n",
    "\n",
    "$Итоговое \\hspace{0.2cm} sMAPE = 25\\% \\times sMAPE(rougher) + 75\\% \\times sMAPE(final)$  \n",
    "\n",
    "Функции для расчета соответсвующих метрик:"
   ]
  },
  {
   "cell_type": "code",
   "execution_count": 23,
   "metadata": {
    "scrolled": true
   },
   "outputs": [],
   "source": [
    "def smape(target, prediction):\n",
    "    score = np.mean(np.abs(target - prediction) * 100 * 2/ (np.abs(target) + np.abs(prediction)))\n",
    "    return score\n",
    "\n",
    "def final_smape(smape_rougher, smape_final):\n",
    "    return 0.25 * smape_rougher + 0.75 * smape_final\n",
    "\n",
    "smape_scorer = make_scorer(smape, greater_is_better=False)"
   ]
  },
  {
   "cell_type": "markdown",
   "metadata": {},
   "source": [
    "### Отбор признаков для обучения моделей"
   ]
  },
  {
   "cell_type": "markdown",
   "metadata": {},
   "source": [
    "Полнота выделения золота на этапе чернового обогащения может зависеть от оборудования используемого на данном этапе, параметров процесса и параметров исходного сырья. Параметры не относящихся к этапу `rougher` могут содержать информацию о результатах данного этапа (поскольку настройка оборудования на стадии доводки концентрата может и должна основываться на параметрах такого концентрата). Для построение модели ограничимся признаками, присутствующими в тестовой выборке и относящимися к этапу `rougher`:"
   ]
  },
  {
   "cell_type": "code",
   "execution_count": 24,
   "metadata": {},
   "outputs": [],
   "source": [
    "# Названия столбцов из тестовой выборке, относящихся к этапу 'rougher':\n",
    "rougher_features_names = [col for col in data_test.columns if 'rougher' in col]\n",
    "\n",
    "# Для лучшей работы линейных моделей стандартизируем независимые переменные:\n",
    "scaler_1 = StandardScaler()\n",
    "\n",
    "features_train_rougher = scaler_1.fit_transform(data_train[rougher_features_names])\n",
    "features_test_rougher = scaler_1.transform(data_test[rougher_features_names])\n",
    "\n",
    "target_train_rougher = data_train['rougher.output.recovery']"
   ]
  },
  {
   "cell_type": "markdown",
   "metadata": {},
   "source": [
    "На полноту выделения золота для финального концентрата влияют параметры оборудования и процесса на стадии доводки концентрата, а также физико-химические характеристики чернового концентрата, поступающего на доводку.  \n",
    "Поскольку состав чернового концентрата заранее неизвестен, технологически наиболее верным было бы построение отдельных моделей оценки состава чернового концентрата.  \n",
    "Для простоты можно предположить что состав чернового концентрата определяется параметрами чернового обогащения (`rougher`), а следовательно, включение таких параметров может помочь полностью описать целевую переменную."
   ]
  },
  {
   "cell_type": "code",
   "execution_count": 25,
   "metadata": {},
   "outputs": [],
   "source": [
    "# Названия столбцов из тестовой выборке, относящихся к этапу 'rougher':\n",
    "final_features_names = data_test.columns\n",
    "\n",
    "# Для лучшей работы линейных моделей стандартизируем независимые переменные:\n",
    "scaler_2 = StandardScaler()\n",
    "\n",
    "features_train_final = scaler_2.fit_transform(data_train[final_features_names])\n",
    "features_test_final = scaler_2.transform(data_test[final_features_names])\n",
    "\n",
    "target_train_final = data_train['final.output.recovery']"
   ]
  },
  {
   "cell_type": "markdown",
   "metadata": {},
   "source": [
    "Из общего набора данных выделимм целевые признаки для тестовой выборки:"
   ]
  },
  {
   "cell_type": "code",
   "execution_count": 26,
   "metadata": {},
   "outputs": [],
   "source": [
    "targets_test = data_full.loc[data_test.index, ['rougher.output.recovery', 'final.output.recovery']]"
   ]
  },
  {
   "cell_type": "markdown",
   "metadata": {},
   "source": [
    "### Обучение моделей"
   ]
  },
  {
   "cell_type": "markdown",
   "metadata": {},
   "source": [
    "Построим отдельные модели для предсказания целевых признаков. Как было указано выше, для упрощения не будем отдельно предсказывать концентрации компонентов на выходе первого этапа обогащения."
   ]
  },
  {
   "cell_type": "markdown",
   "metadata": {},
   "source": [
    "#### Этап `rougher`"
   ]
  },
  {
   "cell_type": "markdown",
   "metadata": {},
   "source": [
    "Для проверки адекватности обучаемых моделей воспользуемся константной моделью. Поскольку используемая метрика учитывает абсолютное отклонение, неплохой оценкой целевого признак должно служить медианное значение: "
   ]
  },
  {
   "cell_type": "code",
   "execution_count": 27,
   "metadata": {
    "scrolled": true
   },
   "outputs": [
    {
     "name": "stdout",
     "output_type": "stream",
     "text": [
      "Метрика sMAPE для константной модели (медиана): 6.807\n"
     ]
    }
   ],
   "source": [
    "dm_rougher = DummyRegressor(strategy='median')\n",
    "dm_rougher.fit(features_train_rougher, target_train_rougher)\n",
    "print(f\"Метрика sMAPE для константной модели (медиана): {smape(target_train_rougher, dm_rougher.predict(features_train_rougher)):0.3f}\")"
   ]
  },
  {
   "cell_type": "markdown",
   "metadata": {},
   "source": [
    "Большое число признаков предполагает необходимость отбора наиболее значимых из них. Воспользуемся линейной моделью с регуляризацией (l1):"
   ]
  },
  {
   "cell_type": "code",
   "execution_count": 28,
   "metadata": {
    "scrolled": false
   },
   "outputs": [
    {
     "name": "stdout",
     "output_type": "stream",
     "text": [
      "Метрика sMAPE для линейной модели с l1-регуляризацией: 5.99\n"
     ]
    }
   ],
   "source": [
    "# Для удобства встроим преобразование целевой переменной в саму модель:\n",
    "lasso_r = Lasso(positive=True)\n",
    "pt_r = PowerTransformer(method='yeo-johnson', standardize=False, copy=True)\n",
    "lasso_trans_r = TransformedTargetRegressor(regressor=lasso_r, transformer=pt_r)\n",
    "\n",
    "# Подбор параметра регуляризации проведем перебором,\n",
    "# качество получаемых моделей будем оценивать при помощи кроссвалидации:\n",
    "param_grid = {'regressor__alpha' : np.logspace(-2, 1, 10)}\n",
    "\n",
    "model_l1_rougher = GridSearchCV(lasso_trans_r, param_grid, scoring=smape_scorer, n_jobs=-1)\n",
    "model_l1_rougher.fit(features_train_rougher, target_train_rougher)\n",
    "\n",
    "print(f\"Метрика sMAPE для линейной модели с l1-регуляризацией: {-1*model_l1_rougher.best_score_:0.2f}\")"
   ]
  },
  {
   "cell_type": "markdown",
   "metadata": {},
   "source": [
    "Сравним линейную модель с моделью случайного леса. Учитывая большую гибкость такой модели, преобразование целевого признака проводить не будем:"
   ]
  },
  {
   "cell_type": "code",
   "execution_count": 29,
   "metadata": {},
   "outputs": [
    {
     "name": "stdout",
     "output_type": "stream",
     "text": [
      "Метрика sMAPE для : модели случайного леса: 5.97\n"
     ]
    }
   ],
   "source": [
    "rf = RandomForestRegressor(random_state=12345)\n",
    "param_grid = {'max_depth': [2, 4, 6]}\n",
    "model_rf_rougher = GridSearchCV(rf, param_grid, scoring=smape_scorer, n_jobs=-1)\n",
    "model_rf_rougher.fit(features_train_rougher, target_train_rougher)\n",
    "\n",
    "print(f\"Метрика sMAPE для : модели случайного леса: {-1*model_rf_rougher.best_score_:0.2f}\")"
   ]
  },
  {
   "cell_type": "markdown",
   "metadata": {},
   "source": [
    "Обе модели предсказывают целевой признак лучше константной модели и, следовательно, адекватны. Метрика полученная для более сложной модели имеет лишь немного лушчее значение метрики. Поскольку линейная модель более устойчива к переобучению и поддается более простой трактовке - лучшей моделью для предсказания полноты обогащения золота на этапе `rougher` является **линейная модель с L1-регуляризацией параметров и степенным преобразованием целевого признака**."
   ]
  },
  {
   "cell_type": "markdown",
   "metadata": {},
   "source": [
    "Параметры лучшей модели:"
   ]
  },
  {
   "cell_type": "code",
   "execution_count": 30,
   "metadata": {
    "scrolled": false
   },
   "outputs": [
    {
     "data": {
      "text/plain": [
       "{'check_inverse': True,\n",
       " 'func': None,\n",
       " 'inverse_func': None,\n",
       " 'regressor__alpha': 10.0,\n",
       " 'regressor__copy_X': True,\n",
       " 'regressor__fit_intercept': True,\n",
       " 'regressor__max_iter': 1000,\n",
       " 'regressor__normalize': False,\n",
       " 'regressor__positive': True,\n",
       " 'regressor__precompute': False,\n",
       " 'regressor__random_state': None,\n",
       " 'regressor__selection': 'cyclic',\n",
       " 'regressor__tol': 0.0001,\n",
       " 'regressor__warm_start': False,\n",
       " 'regressor': Lasso(alpha=10.0, positive=True),\n",
       " 'transformer__copy': True,\n",
       " 'transformer__method': 'yeo-johnson',\n",
       " 'transformer__standardize': False,\n",
       " 'transformer': PowerTransformer(standardize=False)}"
      ]
     },
     "execution_count": 30,
     "metadata": {},
     "output_type": "execute_result"
    }
   ],
   "source": [
    "model_rougher = model_l1_rougher.best_estimator_\n",
    "model_rougher.get_params()"
   ]
  },
  {
   "cell_type": "markdown",
   "metadata": {},
   "source": [
    "Использование регуляризации позволяет выделить параметры, оказывающие наибольшее влияние на целевую переменную:"
   ]
  },
  {
   "cell_type": "code",
   "execution_count": 31,
   "metadata": {},
   "outputs": [
    {
     "data": {
      "text/html": [
       "<div>\n",
       "<style scoped>\n",
       "    .dataframe tbody tr th:only-of-type {\n",
       "        vertical-align: middle;\n",
       "    }\n",
       "\n",
       "    .dataframe tbody tr th {\n",
       "        vertical-align: top;\n",
       "    }\n",
       "\n",
       "    .dataframe thead th {\n",
       "        text-align: right;\n",
       "    }\n",
       "</style>\n",
       "<table border=\"1\" class=\"dataframe\">\n",
       "  <thead>\n",
       "    <tr style=\"text-align: right;\">\n",
       "      <th></th>\n",
       "      <th>parameter</th>\n",
       "      <th>coeff</th>\n",
       "    </tr>\n",
       "  </thead>\n",
       "  <tbody>\n",
       "    <tr>\n",
       "      <th>0</th>\n",
       "      <td>rougher.input.feed_ag</td>\n",
       "      <td>3.471684e+06</td>\n",
       "    </tr>\n",
       "    <tr>\n",
       "      <th>11</th>\n",
       "      <td>rougher.state.floatbank10_a_level</td>\n",
       "      <td>3.047191e+06</td>\n",
       "    </tr>\n",
       "    <tr>\n",
       "      <th>7</th>\n",
       "      <td>rougher.input.floatbank10_xanthate</td>\n",
       "      <td>2.432059e+06</td>\n",
       "    </tr>\n",
       "    <tr>\n",
       "      <th>1</th>\n",
       "      <td>rougher.input.feed_pb</td>\n",
       "      <td>1.642450e+06</td>\n",
       "    </tr>\n",
       "    <tr>\n",
       "      <th>10</th>\n",
       "      <td>rougher.state.floatbank10_a_air</td>\n",
       "      <td>1.310673e+06</td>\n",
       "    </tr>\n",
       "    <tr>\n",
       "      <th>4</th>\n",
       "      <td>rougher.input.feed_sol</td>\n",
       "      <td>1.179651e+06</td>\n",
       "    </tr>\n",
       "    <tr>\n",
       "      <th>3</th>\n",
       "      <td>rougher.input.feed_size</td>\n",
       "      <td>1.063742e+06</td>\n",
       "    </tr>\n",
       "    <tr>\n",
       "      <th>20</th>\n",
       "      <td>rougher.state.floatbank10_f_air</td>\n",
       "      <td>1.921753e+04</td>\n",
       "    </tr>\n",
       "  </tbody>\n",
       "</table>\n",
       "</div>"
      ],
      "text/plain": [
       "                             parameter         coeff\n",
       "0                rougher.input.feed_ag  3.471684e+06\n",
       "11   rougher.state.floatbank10_a_level  3.047191e+06\n",
       "7   rougher.input.floatbank10_xanthate  2.432059e+06\n",
       "1                rougher.input.feed_pb  1.642450e+06\n",
       "10     rougher.state.floatbank10_a_air  1.310673e+06\n",
       "4               rougher.input.feed_sol  1.179651e+06\n",
       "3              rougher.input.feed_size  1.063742e+06\n",
       "20     rougher.state.floatbank10_f_air  1.921753e+04"
      ]
     },
     "metadata": {},
     "output_type": "display_data"
    }
   ],
   "source": [
    "lasso_rougher_coeffs = pd.DataFrame({'parameter' : rougher_features_names,\n",
    "                                     'coeff': model_rougher.regressor_.coef_}\n",
    "                                   ).sort_values(by='coeff', ascending=False)\n",
    "display(lasso_rougher_coeffs[lasso_rougher_coeffs.coeff > 0])"
   ]
  },
  {
   "cell_type": "markdown",
   "metadata": {},
   "source": [
    "Значимое влияние оказывает лишь часть параметров - концентрации конкурирующих компонентов, гранулометрический состав сырья, концентрация флотагента подаваемого в ванну 10, а также параметры флотационной ванны 10. Отсутствие среди значимых параметров, относящихся к флотационной ванне 11, подтверждает предположение сделанное в разделе 1.2.1 о том, что параметры флотационной ванны 11 либо пропущены, либо жестко связаны с параметрами ванны 10."
   ]
  },
  {
   "cell_type": "markdown",
   "metadata": {},
   "source": [
    "#### Этап `final`"
   ]
  },
  {
   "cell_type": "markdown",
   "metadata": {},
   "source": [
    "Для второго этапа обогащения для сравнения также будем использовать константную медианную модель:"
   ]
  },
  {
   "cell_type": "code",
   "execution_count": 32,
   "metadata": {},
   "outputs": [
    {
     "name": "stdout",
     "output_type": "stream",
     "text": [
      "Метрика sMAPE для константной модели (медиана): 8.830\n"
     ]
    }
   ],
   "source": [
    "dm_final = DummyRegressor(strategy='median')\n",
    "dm_final.fit(features_train_final, target_train_final)\n",
    "\n",
    "print(f\"Метрика sMAPE для константной модели (медиана): {smape(target_train_final, dm_final.predict(features_train_final)):0.3f}\")"
   ]
  },
  {
   "cell_type": "markdown",
   "metadata": {},
   "source": [
    "В качестве простого базового решения снова воспользуемся линейной моделью с L1-регуляризацией параметров:"
   ]
  },
  {
   "cell_type": "code",
   "execution_count": 33,
   "metadata": {
    "scrolled": true
   },
   "outputs": [
    {
     "name": "stdout",
     "output_type": "stream",
     "text": [
      "Метрика sMAPE для линейной модели с l1-регуляризацией: 8.417\n"
     ]
    }
   ],
   "source": [
    "lasso_f = Lasso(positive=True)\n",
    "pt_f = PowerTransformer(method='yeo-johnson', standardize=False, copy=True)\n",
    "lasso_trans_f = TransformedTargetRegressor(regressor=lasso_f, transformer=pt_f)\n",
    "\n",
    "param_grid = {'regressor__alpha' : np.logspace(-2, 1, 10)}\n",
    "\n",
    "model_l1_final = GridSearchCV(lasso_trans_f, param_grid, scoring=smape_scorer, n_jobs=-1)\n",
    "model_l1_final.fit(features_train_final, target_train_final)\n",
    "\n",
    "print(f\"Метрика sMAPE для линейной модели с l1-регуляризацией: {-1*model_l1_final.best_score_:0.3f}\")"
   ]
  },
  {
   "cell_type": "markdown",
   "metadata": {},
   "source": [
    "Линейная модель снова показывает лучший результат по сравнению с константной. Сравним полученную модель с более сложной - лесом случайных деревьев. Чтобы снизить вероятность переобучения модели случайного леса и ускорить процесс её обучения, ограничим список признаков только значимыми для линейной модели:"
   ]
  },
  {
   "cell_type": "code",
   "execution_count": 34,
   "metadata": {},
   "outputs": [
    {
     "data": {
      "text/html": [
       "<div>\n",
       "<style scoped>\n",
       "    .dataframe tbody tr th:only-of-type {\n",
       "        vertical-align: middle;\n",
       "    }\n",
       "\n",
       "    .dataframe tbody tr th {\n",
       "        vertical-align: top;\n",
       "    }\n",
       "\n",
       "    .dataframe thead th {\n",
       "        text-align: right;\n",
       "    }\n",
       "</style>\n",
       "<table border=\"1\" class=\"dataframe\">\n",
       "  <thead>\n",
       "    <tr style=\"text-align: right;\">\n",
       "      <th></th>\n",
       "      <th>parameter</th>\n",
       "      <th>coeff</th>\n",
       "    </tr>\n",
       "  </thead>\n",
       "  <tbody>\n",
       "    <tr>\n",
       "      <th>17</th>\n",
       "      <td>rougher.input.feed_au</td>\n",
       "      <td>218.530122</td>\n",
       "    </tr>\n",
       "    <tr>\n",
       "      <th>19</th>\n",
       "      <td>rougher.input.floatbank10_xanthate</td>\n",
       "      <td>150.786196</td>\n",
       "    </tr>\n",
       "    <tr>\n",
       "      <th>34</th>\n",
       "      <td>secondary_cleaner.state.floatbank2_a_air</td>\n",
       "      <td>86.282454</td>\n",
       "    </tr>\n",
       "    <tr>\n",
       "      <th>12</th>\n",
       "      <td>rougher.input.feed_ag</td>\n",
       "      <td>84.727986</td>\n",
       "    </tr>\n",
       "    <tr>\n",
       "      <th>15</th>\n",
       "      <td>rougher.input.feed_size</td>\n",
       "      <td>84.607255</td>\n",
       "    </tr>\n",
       "    <tr>\n",
       "      <th>38</th>\n",
       "      <td>secondary_cleaner.state.floatbank3_a_air</td>\n",
       "      <td>74.950291</td>\n",
       "    </tr>\n",
       "    <tr>\n",
       "      <th>3</th>\n",
       "      <td>primary_cleaner.input.xanthate</td>\n",
       "      <td>65.427281</td>\n",
       "    </tr>\n",
       "    <tr>\n",
       "      <th>16</th>\n",
       "      <td>rougher.input.feed_sol</td>\n",
       "      <td>60.999433</td>\n",
       "    </tr>\n",
       "    <tr>\n",
       "      <th>42</th>\n",
       "      <td>secondary_cleaner.state.floatbank4_a_air</td>\n",
       "      <td>57.602785</td>\n",
       "    </tr>\n",
       "    <tr>\n",
       "      <th>5</th>\n",
       "      <td>primary_cleaner.state.floatbank8_a_level</td>\n",
       "      <td>36.641936</td>\n",
       "    </tr>\n",
       "    <tr>\n",
       "      <th>0</th>\n",
       "      <td>primary_cleaner.input.sulfate</td>\n",
       "      <td>35.870004</td>\n",
       "    </tr>\n",
       "    <tr>\n",
       "      <th>14</th>\n",
       "      <td>rougher.input.feed_rate</td>\n",
       "      <td>30.788382</td>\n",
       "    </tr>\n",
       "    <tr>\n",
       "      <th>2</th>\n",
       "      <td>primary_cleaner.input.feed_size</td>\n",
       "      <td>28.430916</td>\n",
       "    </tr>\n",
       "    <tr>\n",
       "      <th>6</th>\n",
       "      <td>primary_cleaner.state.floatbank8_b_air</td>\n",
       "      <td>23.654704</td>\n",
       "    </tr>\n",
       "    <tr>\n",
       "      <th>25</th>\n",
       "      <td>rougher.state.floatbank10_b_level</td>\n",
       "      <td>10.620121</td>\n",
       "    </tr>\n",
       "    <tr>\n",
       "      <th>47</th>\n",
       "      <td>secondary_cleaner.state.floatbank5_a_level</td>\n",
       "      <td>3.357817</td>\n",
       "    </tr>\n",
       "  </tbody>\n",
       "</table>\n",
       "</div>"
      ],
      "text/plain": [
       "                                     parameter       coeff\n",
       "17                       rougher.input.feed_au  218.530122\n",
       "19          rougher.input.floatbank10_xanthate  150.786196\n",
       "34    secondary_cleaner.state.floatbank2_a_air   86.282454\n",
       "12                       rougher.input.feed_ag   84.727986\n",
       "15                     rougher.input.feed_size   84.607255\n",
       "38    secondary_cleaner.state.floatbank3_a_air   74.950291\n",
       "3               primary_cleaner.input.xanthate   65.427281\n",
       "16                      rougher.input.feed_sol   60.999433\n",
       "42    secondary_cleaner.state.floatbank4_a_air   57.602785\n",
       "5     primary_cleaner.state.floatbank8_a_level   36.641936\n",
       "0                primary_cleaner.input.sulfate   35.870004\n",
       "14                     rougher.input.feed_rate   30.788382\n",
       "2              primary_cleaner.input.feed_size   28.430916\n",
       "6       primary_cleaner.state.floatbank8_b_air   23.654704\n",
       "25           rougher.state.floatbank10_b_level   10.620121\n",
       "47  secondary_cleaner.state.floatbank5_a_level    3.357817"
      ]
     },
     "metadata": {},
     "output_type": "display_data"
    }
   ],
   "source": [
    "lasso_final_coeffs = pd.DataFrame({'parameter' : final_features_names,\n",
    "                                     'coeff': model_l1_final.best_estimator_.regressor_.coef_}\n",
    "                                   ).sort_values(by='coeff', ascending=False)\n",
    "display(lasso_final_coeffs[lasso_final_coeffs.coeff > 0])\n",
    "\n",
    "important_final_names = lasso_final_coeffs[lasso_final_coeffs.coeff > 0].parameter"
   ]
  },
  {
   "cell_type": "code",
   "execution_count": 35,
   "metadata": {},
   "outputs": [],
   "source": [
    "features_train_final = scaler_2.fit_transform(data_train[important_final_names])\n",
    "features_test_final = scaler_2.transform(data_test[important_final_names])"
   ]
  },
  {
   "cell_type": "code",
   "execution_count": 36,
   "metadata": {},
   "outputs": [
    {
     "name": "stdout",
     "output_type": "stream",
     "text": [
      "Метрика sMAPE для модели случайного леса: 7.376\n"
     ]
    }
   ],
   "source": [
    "rf = RandomForestRegressor(random_state=12345)\n",
    "param_grid = {'max_depth': [2, 4, 6]}\n",
    "model_rf_final = GridSearchCV(rf, param_grid, scoring=smape_scorer, n_jobs=-1)\n",
    "model_rf_final.fit(features_train_final, target_train_final)\n",
    "\n",
    "print(f\"Метрика sMAPE для модели случайного леса: {-1*model_rf_final.best_score_:0.3f}\")"
   ]
  },
  {
   "cell_type": "markdown",
   "metadata": {},
   "source": [
    "Модель случайного леса показала лучшее значение метрики, по сравнению с линейной и константной моделями. Объяснением такого распределения метрики может быть наличие линейных зависимостей (для преобразованной целевой переменной) от параметров чернового обогащения и более сложных характер зависимостей для этапа финальной доводки концентрата."
   ]
  },
  {
   "cell_type": "markdown",
   "metadata": {},
   "source": [
    "Параметры лучшей модели:"
   ]
  },
  {
   "cell_type": "code",
   "execution_count": 37,
   "metadata": {
    "scrolled": true
   },
   "outputs": [
    {
     "data": {
      "text/plain": [
       "{'bootstrap': True,\n",
       " 'ccp_alpha': 0.0,\n",
       " 'criterion': 'mse',\n",
       " 'max_depth': 4,\n",
       " 'max_features': 'auto',\n",
       " 'max_leaf_nodes': None,\n",
       " 'max_samples': None,\n",
       " 'min_impurity_decrease': 0.0,\n",
       " 'min_impurity_split': None,\n",
       " 'min_samples_leaf': 1,\n",
       " 'min_samples_split': 2,\n",
       " 'min_weight_fraction_leaf': 0.0,\n",
       " 'n_estimators': 100,\n",
       " 'n_jobs': None,\n",
       " 'oob_score': False,\n",
       " 'random_state': 12345,\n",
       " 'verbose': 0,\n",
       " 'warm_start': False}"
      ]
     },
     "execution_count": 37,
     "metadata": {},
     "output_type": "execute_result"
    }
   ],
   "source": [
    "model_final = model_rf_final.best_estimator_\n",
    "model_final.get_params()"
   ]
  },
  {
   "cell_type": "markdown",
   "metadata": {},
   "source": [
    "Рассмотрим 10 наиболее значимых параметров, влияющих на полноту обогащения на втором этапе:"
   ]
  },
  {
   "cell_type": "code",
   "execution_count": 38,
   "metadata": {
    "scrolled": false
   },
   "outputs": [
    {
     "data": {
      "text/html": [
       "<div>\n",
       "<style scoped>\n",
       "    .dataframe tbody tr th:only-of-type {\n",
       "        vertical-align: middle;\n",
       "    }\n",
       "\n",
       "    .dataframe tbody tr th {\n",
       "        vertical-align: top;\n",
       "    }\n",
       "\n",
       "    .dataframe thead th {\n",
       "        text-align: right;\n",
       "    }\n",
       "</style>\n",
       "<table border=\"1\" class=\"dataframe\">\n",
       "  <thead>\n",
       "    <tr style=\"text-align: right;\">\n",
       "      <th></th>\n",
       "      <th>parameter</th>\n",
       "      <th>importance</th>\n",
       "    </tr>\n",
       "  </thead>\n",
       "  <tbody>\n",
       "    <tr>\n",
       "      <th>12</th>\n",
       "      <td>rougher.input.feed_ag</td>\n",
       "      <td>0.461273</td>\n",
       "    </tr>\n",
       "    <tr>\n",
       "      <th>34</th>\n",
       "      <td>secondary_cleaner.state.floatbank2_a_air</td>\n",
       "      <td>0.147867</td>\n",
       "    </tr>\n",
       "    <tr>\n",
       "      <th>0</th>\n",
       "      <td>primary_cleaner.input.sulfate</td>\n",
       "      <td>0.146763</td>\n",
       "    </tr>\n",
       "    <tr>\n",
       "      <th>15</th>\n",
       "      <td>rougher.input.feed_size</td>\n",
       "      <td>0.115265</td>\n",
       "    </tr>\n",
       "    <tr>\n",
       "      <th>19</th>\n",
       "      <td>rougher.input.floatbank10_xanthate</td>\n",
       "      <td>0.047713</td>\n",
       "    </tr>\n",
       "    <tr>\n",
       "      <th>6</th>\n",
       "      <td>primary_cleaner.state.floatbank8_b_air</td>\n",
       "      <td>0.028796</td>\n",
       "    </tr>\n",
       "    <tr>\n",
       "      <th>17</th>\n",
       "      <td>rougher.input.feed_au</td>\n",
       "      <td>0.017016</td>\n",
       "    </tr>\n",
       "    <tr>\n",
       "      <th>38</th>\n",
       "      <td>secondary_cleaner.state.floatbank3_a_air</td>\n",
       "      <td>0.011917</td>\n",
       "    </tr>\n",
       "    <tr>\n",
       "      <th>25</th>\n",
       "      <td>rougher.state.floatbank10_b_level</td>\n",
       "      <td>0.005460</td>\n",
       "    </tr>\n",
       "    <tr>\n",
       "      <th>14</th>\n",
       "      <td>rougher.input.feed_rate</td>\n",
       "      <td>0.004464</td>\n",
       "    </tr>\n",
       "  </tbody>\n",
       "</table>\n",
       "</div>"
      ],
      "text/plain": [
       "                                   parameter  importance\n",
       "12                     rougher.input.feed_ag    0.461273\n",
       "34  secondary_cleaner.state.floatbank2_a_air    0.147867\n",
       "0              primary_cleaner.input.sulfate    0.146763\n",
       "15                   rougher.input.feed_size    0.115265\n",
       "19        rougher.input.floatbank10_xanthate    0.047713\n",
       "6     primary_cleaner.state.floatbank8_b_air    0.028796\n",
       "17                     rougher.input.feed_au    0.017016\n",
       "38  secondary_cleaner.state.floatbank3_a_air    0.011917\n",
       "25         rougher.state.floatbank10_b_level    0.005460\n",
       "14                   rougher.input.feed_rate    0.004464"
      ]
     },
     "metadata": {},
     "output_type": "display_data"
    }
   ],
   "source": [
    "rf_final_importances = pd.DataFrame({'parameter' : important_final_names,\n",
    "                                     'importance': model_final.feature_importances_}\n",
    "                                   ).sort_values(by='importance', ascending=False)\n",
    "display(rf_final_importances.head(10))"
   ]
  },
  {
   "cell_type": "markdown",
   "metadata": {},
   "source": [
    "Можно заметить, что большинство параметров относится к этапу чернового обогащения (а следовательно к параметрам чернового концентрата). Также большинство параметров совпадают со значимыми параметрами для полноту обогащения на черновом этапе. Можно порекомендовать правильное с технологической точки зрения построение отдельных моделей для предсказания всех параметров чернового концентрата и включение результатов их предсказаний в качестве признаков для модели финального обогащения (доводки)."
   ]
  },
  {
   "cell_type": "markdown",
   "metadata": {},
   "source": [
    "### Проверка моделей на тестовой выборке"
   ]
  },
  {
   "cell_type": "markdown",
   "metadata": {},
   "source": [
    "Проверим качество предсказаний моделей на тестовой выборке. В качестве базового решения воспользуемся константными медианными моделями:"
   ]
  },
  {
   "cell_type": "code",
   "execution_count": 39,
   "metadata": {
    "scrolled": true
   },
   "outputs": [
    {
     "name": "stdout",
     "output_type": "stream",
     "text": [
      "Метрика sMAPE для константной модели (rougher): 8.506\n",
      "Метрика sMAPE для константной модели (final): 9.677\n",
      "Итоговая sMAPE для константной модели: 9.384\n"
     ]
    }
   ],
   "source": [
    "# Метрика для стадии чернового обогащения:\n",
    "smape_rougher_const = smape(targets_test['rougher.output.recovery'], dm_rougher.predict(features_test_rougher))\n",
    "print(f\"Метрика sMAPE для константной модели (rougher): {smape_rougher_const:0.3f}\")\n",
    "\n",
    "# Метрика для стадии финишного обогащения:\n",
    "smape_final_const = smape(targets_test['final.output.recovery'], dm_final.predict(features_test_final))\n",
    "print(f\"Метрика sMAPE для константной модели (final): {smape_final_const:0.3f}\")\n",
    "\n",
    "# Итоговая метрика:\n",
    "print(f\"Итоговая sMAPE для константной модели: {final_smape(smape_rougher_const, smape_final_const):0.3f}\")"
   ]
  },
  {
   "cell_type": "markdown",
   "metadata": {},
   "source": [
    "Рассчитаем на тестовой выборке метрики для моделей:"
   ]
  },
  {
   "cell_type": "code",
   "execution_count": 40,
   "metadata": {},
   "outputs": [
    {
     "name": "stdout",
     "output_type": "stream",
     "text": [
      "Метрика sMAPE для модели этапа rougher: 7.880\n",
      "Метрика sMAPE для модели этапа final: 9.453\n",
      "Итоговая sMAPE для комбинации моделей: 9.059\n"
     ]
    }
   ],
   "source": [
    "# Метрика для стадии чернового обогащения:\n",
    "smape_rougher_model = smape(targets_test['rougher.output.recovery'], model_rougher.predict(features_test_rougher))\n",
    "print(f\"Метрика sMAPE для модели этапа rougher: {smape_rougher_model:0.3f}\")\n",
    "\n",
    "# Метрика для стадии финишного обогащения:\n",
    "smape_final_model = smape(targets_test['final.output.recovery'], model_final.predict(features_test_final))\n",
    "print(f\"Метрика sMAPE для модели этапа final: {smape_final_model:0.3f}\")\n",
    "\n",
    "# Итоговая метрика:\n",
    "print(f\"Итоговая sMAPE для комбинации моделей: {final_smape(smape_rougher_model, smape_final_model):0.3f}\")"
   ]
  },
  {
   "cell_type": "markdown",
   "metadata": {},
   "source": [
    "Для тестовой выборки обе построеные модели дают лучшее предсказание в сравнении с константными моделями и следовательно являются адекватными. Итоговая метрика для комбинации моделей также имеет лучшее значение по сравнению с метрикой для комбинации константных моделей."
   ]
  },
  {
   "cell_type": "markdown",
   "metadata": {},
   "source": [
    "### Выводы"
   ]
  },
  {
   "cell_type": "markdown",
   "metadata": {},
   "source": [
    "1. Лучшей моделью для предсказания полноты выделения золота *на стадии чернового обогащения* является *линейная модель* с L1-регуляризацией параметров, построенная для целевого признака подвергнутого степенному преобразованию (показатель степени - 4.2). sMAPE метрика для такой модели на тестовой выборке - 7.872 (метрика медианной модели - 8.492).\n",
    "2. Лучшей моделью для предсказания полноты выделения золота *на стадии финишного обогащения* является *модель случайного леса*. sMAPE метрика для такой модели на тестовой выборке - 9.453 (метрика медианной модели - 9.665).\n",
    "3. Комбинация указанных моделей превосходит комбинацию константных решений по значению итоговой метрики (9.059 для моделей против 9.371 для медианных значений).\n",
    "4. Наибольшее влияние на значения целевых признаков оказывают параметры исходного сырья.\n",
    "5. Можно порекомендовать построение отдельных моделей для предсказания всех параметров чернового концентрата и включение результатов их предсказаний в качестве признаков для модели финишного обогащения."
   ]
  },
  {
   "cell_type": "markdown",
   "metadata": {},
   "source": [
    "## Выводы"
   ]
  },
  {
   "cell_type": "markdown",
   "metadata": {},
   "source": [
    "1. Данные обработаны и на их основе построены модели предсказывающие полноту выделения золота на различных этапах обогащения золотосодержащей руды.\n",
    "2. Лучшими моделями являются линейная модель для стадии `rouhger` и модель случайного леса для стадии `final`. Качество предсказаний построенных модель превышает качество предсказания константных (медианных) моделей (ошибка по метрика sMAPE ниже):"
   ]
  },
  {
   "cell_type": "code",
   "execution_count": 41,
   "metadata": {},
   "outputs": [
    {
     "name": "stdout",
     "output_type": "stream",
     "text": [
      "Метрика sMAPE для модели этапа rougher: 7.880\n",
      "Метрика sMAPE для константной модели (rougher): 8.506 \n",
      "\n",
      "Метрика sMAPE для модели этапа final: 9.453\n",
      "Метрика sMAPE для константной модели (final): 9.677 \n",
      "\n",
      "Итоговая sMAPE для комбинации моделей: 9.059\n",
      "Итоговая sMAPE для константной модели: 9.384\n"
     ]
    }
   ],
   "source": [
    "print(f\"Метрика sMAPE для модели этапа rougher: {smape_rougher_model:0.3f}\")\n",
    "print(f\"Метрика sMAPE для константной модели (rougher): {smape_rougher_const:0.3f} \\n\")\n",
    "\n",
    "print(f\"Метрика sMAPE для модели этапа final: {smape_final_model:0.3f}\")\n",
    "print(f\"Метрика sMAPE для константной модели (final): {smape_final_const:0.3f} \\n\")\n",
    "\n",
    "print(f\"Итоговая sMAPE для комбинации моделей: {final_smape(smape_rougher_model, smape_final_model):0.3f}\")\n",
    "print(f\"Итоговая sMAPE для константной модели: {final_smape(smape_rougher_const, smape_final_const):0.3f}\")"
   ]
  },
  {
   "cell_type": "markdown",
   "metadata": {},
   "source": [
    "Следовательно, построенные модели могут быть использованы для оптимизации бизнес-процессов.\n",
    "\n",
    "3. Наибольшее влияние на значения целевых признаков для всех этапов оказывают параметры исходного сырья и чернового обогащения. В связи с этим можно дать следующие рекомендации:\n",
    "    - следует уточнить у заказчика физико-химический смысл параметра `sol`, а также уточнить, не является ли ошибочным пропуск технологических параметров (уровень жидкости и скорость барботирования) для флотационной ванны `11`;\n",
    "    - характер изменения суммарной концентрации (излишне сильное падение концентрации в хвостах, по сравнению с ростом в концентрате после стадии чернового обогащения) не характерен для процессов обогащения (в особенности его черновых стадий), что заставляет сомневаться в корректности представленных концентраций. Следует уточнить у заказчика правильность таких данных и единицы измерения, в которых они представлены;\n",
    "    - технологически целесообразно построение отдельных моделей для предсказания параметров чернового концентрата (главным образом концентраций отдельных компонентов в нем);\n",
    "    - также целесообразно построение модели для финишного обогащения на основе предсказанных параметров чернового концентрата и параметров оборудования исключительно на стадии доводки, что повысит практическую ценность такой модели."
   ]
  }
 ],
 "metadata": {
  "ExecuteTimeLog": [
   {
    "duration": 1279,
    "start_time": "2022-07-04T12:18:23.273Z"
   },
   {
    "duration": 131,
    "start_time": "2022-07-04T12:19:31.295Z"
   },
   {
    "duration": 552,
    "start_time": "2022-07-04T12:19:40.102Z"
   },
   {
    "duration": 393,
    "start_time": "2022-07-04T12:19:45.757Z"
   },
   {
    "duration": 1362,
    "start_time": "2022-07-04T12:20:29.061Z"
   },
   {
    "duration": 705,
    "start_time": "2022-07-04T12:20:43.375Z"
   },
   {
    "duration": 698,
    "start_time": "2022-07-04T12:21:01.997Z"
   },
   {
    "duration": 685,
    "start_time": "2022-07-04T12:22:52.471Z"
   },
   {
    "duration": 669,
    "start_time": "2022-07-04T12:24:13.583Z"
   },
   {
    "duration": 16,
    "start_time": "2022-07-04T12:26:00.965Z"
   },
   {
    "duration": 27,
    "start_time": "2022-07-04T12:26:12.148Z"
   },
   {
    "duration": 17,
    "start_time": "2022-07-04T12:27:17.463Z"
   },
   {
    "duration": 15,
    "start_time": "2022-07-04T12:27:26.767Z"
   },
   {
    "duration": 2,
    "start_time": "2022-07-04T12:27:59.504Z"
   },
   {
    "duration": 5,
    "start_time": "2022-07-04T12:28:09.552Z"
   },
   {
    "duration": 4,
    "start_time": "2022-07-04T12:28:17.252Z"
   },
   {
    "duration": 5,
    "start_time": "2022-07-04T12:28:26.085Z"
   },
   {
    "duration": 4,
    "start_time": "2022-07-04T12:28:29.002Z"
   },
   {
    "duration": 4,
    "start_time": "2022-07-04T12:28:47.103Z"
   },
   {
    "duration": 3,
    "start_time": "2022-07-04T12:29:29.169Z"
   },
   {
    "duration": 4,
    "start_time": "2022-07-04T12:30:02.943Z"
   },
   {
    "duration": 48,
    "start_time": "2022-07-04T12:30:37.033Z"
   },
   {
    "duration": 54,
    "start_time": "2022-07-04T12:30:59.341Z"
   },
   {
    "duration": 60,
    "start_time": "2022-07-04T12:31:05.070Z"
   },
   {
    "duration": 81,
    "start_time": "2022-07-04T12:31:20.359Z"
   },
   {
    "duration": 8,
    "start_time": "2022-07-04T12:31:36.941Z"
   },
   {
    "duration": 6,
    "start_time": "2022-07-04T12:31:54.732Z"
   },
   {
    "duration": 7,
    "start_time": "2022-07-04T12:32:43.566Z"
   },
   {
    "duration": 14,
    "start_time": "2022-07-04T12:33:05.673Z"
   },
   {
    "duration": 22,
    "start_time": "2022-07-04T12:34:46.165Z"
   },
   {
    "duration": 1132,
    "start_time": "2022-07-05T11:07:35.025Z"
   },
   {
    "duration": 3334,
    "start_time": "2022-07-05T11:07:39.465Z"
   },
   {
    "duration": 604,
    "start_time": "2022-07-05T11:10:23.194Z"
   },
   {
    "duration": 40,
    "start_time": "2022-07-05T11:10:52.732Z"
   },
   {
    "duration": 8,
    "start_time": "2022-07-05T11:13:10.717Z"
   },
   {
    "duration": 7,
    "start_time": "2022-07-05T11:13:28.999Z"
   },
   {
    "duration": 275,
    "start_time": "2022-07-05T11:15:17.931Z"
   },
   {
    "duration": 277,
    "start_time": "2022-07-05T11:16:18.114Z"
   },
   {
    "duration": 280,
    "start_time": "2022-07-05T11:17:30.690Z"
   },
   {
    "duration": 90,
    "start_time": "2022-07-05T11:18:25.494Z"
   },
   {
    "duration": 3,
    "start_time": "2022-07-05T11:18:29.376Z"
   },
   {
    "duration": 267,
    "start_time": "2022-07-05T11:18:32.383Z"
   },
   {
    "duration": 255,
    "start_time": "2022-07-05T11:18:49.364Z"
   },
   {
    "duration": 253,
    "start_time": "2022-07-05T11:19:13.211Z"
   },
   {
    "duration": 25,
    "start_time": "2022-07-05T11:20:13.288Z"
   },
   {
    "duration": 269,
    "start_time": "2022-07-05T11:20:20.309Z"
   },
   {
    "duration": 25,
    "start_time": "2022-07-05T11:21:57.422Z"
   },
   {
    "duration": 18,
    "start_time": "2022-07-05T11:22:40.423Z"
   },
   {
    "duration": 22,
    "start_time": "2022-07-05T11:22:49.418Z"
   },
   {
    "duration": 5995,
    "start_time": "2022-07-05T11:23:23.586Z"
   },
   {
    "duration": 9,
    "start_time": "2022-07-05T11:24:15.484Z"
   },
   {
    "duration": 21,
    "start_time": "2022-07-05T11:26:20.825Z"
   },
   {
    "duration": 0,
    "start_time": "2022-07-05T11:26:51.052Z"
   },
   {
    "duration": 20,
    "start_time": "2022-07-05T11:26:52.913Z"
   },
   {
    "duration": 3345,
    "start_time": "2022-07-05T11:26:55.689Z"
   },
   {
    "duration": 19,
    "start_time": "2022-07-05T11:27:05.336Z"
   },
   {
    "duration": 20,
    "start_time": "2022-07-05T11:27:12.409Z"
   },
   {
    "duration": 70,
    "start_time": "2022-07-05T11:29:34.723Z"
   },
   {
    "duration": 304,
    "start_time": "2022-07-05T11:29:44.831Z"
   },
   {
    "duration": 279,
    "start_time": "2022-07-05T11:29:53.352Z"
   },
   {
    "duration": 265,
    "start_time": "2022-07-05T11:30:08.218Z"
   },
   {
    "duration": 19,
    "start_time": "2022-07-05T11:30:36.562Z"
   },
   {
    "duration": 20,
    "start_time": "2022-07-05T11:30:44.183Z"
   },
   {
    "duration": 21,
    "start_time": "2022-07-05T11:31:36.372Z"
   },
   {
    "duration": 20,
    "start_time": "2022-07-05T11:31:56.033Z"
   },
   {
    "duration": 24,
    "start_time": "2022-07-05T11:40:00.081Z"
   },
   {
    "duration": 13,
    "start_time": "2022-07-05T12:21:51.539Z"
   },
   {
    "duration": 20,
    "start_time": "2022-07-05T12:22:10.150Z"
   },
   {
    "duration": 345,
    "start_time": "2022-07-05T12:23:01.518Z"
   },
   {
    "duration": 16,
    "start_time": "2022-07-05T12:23:25.280Z"
   },
   {
    "duration": 10,
    "start_time": "2022-07-05T12:23:41.217Z"
   },
   {
    "duration": 15,
    "start_time": "2022-07-05T12:23:50.952Z"
   },
   {
    "duration": 22,
    "start_time": "2022-07-05T12:24:22.196Z"
   },
   {
    "duration": 18,
    "start_time": "2022-07-05T12:24:28.498Z"
   },
   {
    "duration": 13,
    "start_time": "2022-07-05T12:25:01.716Z"
   },
   {
    "duration": 18,
    "start_time": "2022-07-05T12:25:12.487Z"
   },
   {
    "duration": 20,
    "start_time": "2022-07-05T12:26:42.559Z"
   },
   {
    "duration": 3,
    "start_time": "2022-07-05T12:40:13.365Z"
   },
   {
    "duration": 33,
    "start_time": "2022-07-05T12:41:05.316Z"
   },
   {
    "duration": 19,
    "start_time": "2022-07-05T12:41:19.439Z"
   },
   {
    "duration": 32,
    "start_time": "2022-07-05T12:41:40.765Z"
   },
   {
    "duration": 31646,
    "start_time": "2022-07-05T12:41:51.996Z"
   },
   {
    "duration": 43474,
    "start_time": "2022-07-05T12:43:00.371Z"
   },
   {
    "duration": 33,
    "start_time": "2022-07-05T12:44:43.148Z"
   },
   {
    "duration": 71,
    "start_time": "2022-07-05T12:45:39.098Z"
   },
   {
    "duration": 21,
    "start_time": "2022-07-05T12:45:43.936Z"
   },
   {
    "duration": 80,
    "start_time": "2022-07-05T12:45:57.199Z"
   },
   {
    "duration": 41269,
    "start_time": "2022-07-05T12:46:11.392Z"
   },
   {
    "duration": 880,
    "start_time": "2022-07-05T12:47:26.283Z"
   },
   {
    "duration": 131,
    "start_time": "2022-07-05T12:47:52.702Z"
   },
   {
    "duration": 2,
    "start_time": "2022-07-05T12:48:10.830Z"
   },
   {
    "duration": 122,
    "start_time": "2022-07-05T12:48:14.364Z"
   },
   {
    "duration": 274,
    "start_time": "2022-07-05T12:48:42.352Z"
   },
   {
    "duration": 1099,
    "start_time": "2022-07-05T12:48:57.251Z"
   },
   {
    "duration": 639,
    "start_time": "2022-07-05T12:48:58.352Z"
   },
   {
    "duration": 327,
    "start_time": "2022-07-05T12:48:58.993Z"
   },
   {
    "duration": 23,
    "start_time": "2022-07-05T12:48:59.323Z"
   },
   {
    "duration": 14,
    "start_time": "2022-07-05T12:48:59.348Z"
   },
   {
    "duration": 50,
    "start_time": "2022-07-05T12:48:59.364Z"
   },
   {
    "duration": 255,
    "start_time": "2022-07-05T12:49:24.393Z"
   },
   {
    "duration": 9,
    "start_time": "2022-07-05T12:49:46.743Z"
   },
   {
    "duration": 10,
    "start_time": "2022-07-05T12:50:33.135Z"
   },
   {
    "duration": 13,
    "start_time": "2022-07-05T12:51:42.568Z"
   },
   {
    "duration": 12,
    "start_time": "2022-07-05T12:51:54.043Z"
   },
   {
    "duration": 11,
    "start_time": "2022-07-05T12:52:10.019Z"
   },
   {
    "duration": 11,
    "start_time": "2022-07-05T12:52:18.660Z"
   },
   {
    "duration": 14,
    "start_time": "2022-07-05T12:56:54.943Z"
   },
   {
    "duration": 1378,
    "start_time": "2022-07-05T12:57:08.741Z"
   },
   {
    "duration": 1249,
    "start_time": "2022-07-05T12:57:20.451Z"
   },
   {
    "duration": 615,
    "start_time": "2022-07-05T12:57:21.706Z"
   },
   {
    "duration": 319,
    "start_time": "2022-07-05T12:57:22.322Z"
   },
   {
    "duration": 21,
    "start_time": "2022-07-05T12:57:22.643Z"
   },
   {
    "duration": 13,
    "start_time": "2022-07-05T12:57:22.666Z"
   },
   {
    "duration": 21,
    "start_time": "2022-07-05T12:57:22.702Z"
   },
   {
    "duration": 91,
    "start_time": "2022-07-05T12:57:22.725Z"
   },
   {
    "duration": 723,
    "start_time": "2022-07-05T12:58:29.337Z"
   },
   {
    "duration": 709,
    "start_time": "2022-07-05T12:59:01.227Z"
   },
   {
    "duration": 303,
    "start_time": "2022-07-05T12:59:05.946Z"
   },
   {
    "duration": 20,
    "start_time": "2022-07-05T12:59:36.146Z"
   },
   {
    "duration": 15,
    "start_time": "2022-07-05T12:59:40.044Z"
   },
   {
    "duration": 11,
    "start_time": "2022-07-05T12:59:44.862Z"
   },
   {
    "duration": 116,
    "start_time": "2022-07-05T13:08:17.245Z"
   },
   {
    "duration": 35,
    "start_time": "2022-07-05T13:08:27.380Z"
   },
   {
    "duration": 58,
    "start_time": "2022-07-05T13:08:50.157Z"
   },
   {
    "duration": 52,
    "start_time": "2022-07-05T13:11:17.927Z"
   },
   {
    "duration": 36,
    "start_time": "2022-07-05T13:11:30.602Z"
   },
   {
    "duration": 30,
    "start_time": "2022-07-05T13:11:41.626Z"
   },
   {
    "duration": 67,
    "start_time": "2022-07-05T13:11:58.052Z"
   },
   {
    "duration": 59,
    "start_time": "2022-07-05T13:12:05.451Z"
   },
   {
    "duration": 58,
    "start_time": "2022-07-05T13:12:45.739Z"
   },
   {
    "duration": 200,
    "start_time": "2022-07-05T13:12:50.755Z"
   },
   {
    "duration": 352,
    "start_time": "2022-07-05T13:13:05.424Z"
   },
   {
    "duration": 623,
    "start_time": "2022-07-05T13:13:23.495Z"
   },
   {
    "duration": 352,
    "start_time": "2022-07-05T13:13:27.766Z"
   },
   {
    "duration": 23,
    "start_time": "2022-07-05T13:13:34.537Z"
   },
   {
    "duration": 300,
    "start_time": "2022-07-05T13:13:50.138Z"
   },
   {
    "duration": 368,
    "start_time": "2022-07-05T13:13:54.871Z"
   },
   {
    "duration": 345,
    "start_time": "2022-07-05T13:14:08.115Z"
   },
   {
    "duration": 34,
    "start_time": "2022-07-05T13:14:11.936Z"
   },
   {
    "duration": 32,
    "start_time": "2022-07-05T13:14:22.953Z"
   },
   {
    "duration": 34,
    "start_time": "2022-07-05T13:14:33.375Z"
   },
   {
    "duration": 7,
    "start_time": "2022-07-05T13:14:44.190Z"
   },
   {
    "duration": 9,
    "start_time": "2022-07-05T13:14:53.410Z"
   },
   {
    "duration": 9,
    "start_time": "2022-07-05T13:14:57.041Z"
   },
   {
    "duration": 40,
    "start_time": "2022-07-05T13:15:06.259Z"
   },
   {
    "duration": 16,
    "start_time": "2022-07-05T13:15:33.737Z"
   },
   {
    "duration": 67,
    "start_time": "2022-07-05T13:15:45.208Z"
   },
   {
    "duration": 53,
    "start_time": "2022-07-05T13:16:04.134Z"
   },
   {
    "duration": 28,
    "start_time": "2022-07-05T13:16:12.056Z"
   },
   {
    "duration": 53,
    "start_time": "2022-07-05T13:16:18.221Z"
   },
   {
    "duration": 62,
    "start_time": "2022-07-05T13:16:22.985Z"
   },
   {
    "duration": 57,
    "start_time": "2022-07-05T13:16:29.239Z"
   },
   {
    "duration": 9,
    "start_time": "2022-07-05T13:16:54.017Z"
   },
   {
    "duration": 73,
    "start_time": "2022-07-05T13:17:05.011Z"
   },
   {
    "duration": 46,
    "start_time": "2022-07-05T13:17:48.695Z"
   },
   {
    "duration": 44,
    "start_time": "2022-07-05T13:18:01.206Z"
   },
   {
    "duration": 32,
    "start_time": "2022-07-05T13:23:38.739Z"
   },
   {
    "duration": 26,
    "start_time": "2022-07-05T13:23:48.982Z"
   },
   {
    "duration": 18,
    "start_time": "2022-07-05T13:24:01.113Z"
   },
   {
    "duration": 25,
    "start_time": "2022-07-05T13:24:16.324Z"
   },
   {
    "duration": 27,
    "start_time": "2022-07-05T13:24:25.913Z"
   },
   {
    "duration": 25,
    "start_time": "2022-07-05T13:24:29.333Z"
   },
   {
    "duration": 571,
    "start_time": "2022-07-05T13:31:04.728Z"
   },
   {
    "duration": 209,
    "start_time": "2022-07-05T13:32:31.573Z"
   },
   {
    "duration": 563,
    "start_time": "2022-07-05T13:32:37.172Z"
   },
   {
    "duration": 1728,
    "start_time": "2022-07-05T19:30:19.180Z"
   },
   {
    "duration": 1490,
    "start_time": "2022-07-05T19:30:25.542Z"
   },
   {
    "duration": 1559,
    "start_time": "2022-07-05T19:30:27.034Z"
   },
   {
    "duration": 461,
    "start_time": "2022-07-05T19:30:28.595Z"
   },
   {
    "duration": 30,
    "start_time": "2022-07-05T19:30:29.058Z"
   },
   {
    "duration": 51,
    "start_time": "2022-07-05T19:30:29.090Z"
   },
   {
    "duration": 48,
    "start_time": "2022-07-05T19:30:29.144Z"
   },
   {
    "duration": 141,
    "start_time": "2022-07-05T19:30:29.194Z"
   },
   {
    "duration": 673,
    "start_time": "2022-07-05T19:30:29.337Z"
   },
   {
    "duration": 49,
    "start_time": "2022-07-05T19:33:37.543Z"
   },
   {
    "duration": 60,
    "start_time": "2022-07-05T19:33:46.631Z"
   },
   {
    "duration": 47,
    "start_time": "2022-07-05T19:33:51.004Z"
   },
   {
    "duration": 53,
    "start_time": "2022-07-05T19:33:54.402Z"
   },
   {
    "duration": 45,
    "start_time": "2022-07-05T19:33:59.243Z"
   },
   {
    "duration": 45,
    "start_time": "2022-07-05T19:34:11.022Z"
   },
   {
    "duration": 6,
    "start_time": "2022-07-05T19:34:26.069Z"
   },
   {
    "duration": 52,
    "start_time": "2022-07-05T19:34:35.341Z"
   },
   {
    "duration": 44,
    "start_time": "2022-07-05T19:34:39.526Z"
   },
   {
    "duration": 45,
    "start_time": "2022-07-05T19:34:48.772Z"
   },
   {
    "duration": 695,
    "start_time": "2022-07-05T19:34:58.423Z"
   },
   {
    "duration": 590,
    "start_time": "2022-07-05T19:35:06.684Z"
   },
   {
    "duration": 28,
    "start_time": "2022-07-05T19:40:38.296Z"
   },
   {
    "duration": 25,
    "start_time": "2022-07-05T19:41:20.696Z"
   },
   {
    "duration": 30,
    "start_time": "2022-07-05T19:41:45.400Z"
   },
   {
    "duration": 59,
    "start_time": "2022-07-05T19:42:17.992Z"
   },
   {
    "duration": 68,
    "start_time": "2022-07-05T19:42:31.326Z"
   },
   {
    "duration": 49,
    "start_time": "2022-07-05T19:42:59.462Z"
   },
   {
    "duration": 53,
    "start_time": "2022-07-05T19:43:06.453Z"
   },
   {
    "duration": 65,
    "start_time": "2022-07-05T19:43:38.668Z"
   },
   {
    "duration": 147,
    "start_time": "2022-07-05T19:44:45.130Z"
   },
   {
    "duration": 39,
    "start_time": "2022-07-05T19:44:51.692Z"
   },
   {
    "duration": 41,
    "start_time": "2022-07-05T19:45:08.379Z"
   },
   {
    "duration": 91,
    "start_time": "2022-07-05T19:45:40.787Z"
   },
   {
    "duration": 35,
    "start_time": "2022-07-05T19:46:33.770Z"
   },
   {
    "duration": 36,
    "start_time": "2022-07-05T19:46:48.475Z"
   },
   {
    "duration": 5,
    "start_time": "2022-07-05T19:48:04.391Z"
   },
   {
    "duration": 31,
    "start_time": "2022-07-05T19:48:14.075Z"
   },
   {
    "duration": 83,
    "start_time": "2022-07-05T19:49:36.299Z"
   },
   {
    "duration": 45,
    "start_time": "2022-07-05T19:54:22.242Z"
   },
   {
    "duration": 71,
    "start_time": "2022-07-05T19:54:39.571Z"
   },
   {
    "duration": 65,
    "start_time": "2022-07-05T19:55:32.394Z"
   },
   {
    "duration": 68,
    "start_time": "2022-07-05T19:56:02.151Z"
   },
   {
    "duration": 116,
    "start_time": "2022-07-05T20:04:04.407Z"
   },
   {
    "duration": 131,
    "start_time": "2022-07-05T20:04:54.113Z"
   },
   {
    "duration": 15,
    "start_time": "2022-07-05T20:05:06.543Z"
   },
   {
    "duration": 22,
    "start_time": "2022-07-05T20:06:35.038Z"
   },
   {
    "duration": 24,
    "start_time": "2022-07-05T20:06:45.241Z"
   },
   {
    "duration": 60,
    "start_time": "2022-07-05T20:07:34.220Z"
   },
   {
    "duration": 19,
    "start_time": "2022-07-05T20:07:40.981Z"
   },
   {
    "duration": 36,
    "start_time": "2022-07-05T20:07:49.507Z"
   },
   {
    "duration": 24,
    "start_time": "2022-07-05T20:08:05.203Z"
   },
   {
    "duration": 932,
    "start_time": "2022-07-05T20:08:32.679Z"
   },
   {
    "duration": 827,
    "start_time": "2022-07-05T20:08:41.775Z"
   },
   {
    "duration": 33,
    "start_time": "2022-07-05T20:08:45.711Z"
   },
   {
    "duration": 29,
    "start_time": "2022-07-05T20:10:00.788Z"
   },
   {
    "duration": 33,
    "start_time": "2022-07-05T20:10:35.992Z"
   },
   {
    "duration": 49,
    "start_time": "2022-07-05T20:11:30.289Z"
   },
   {
    "duration": 8,
    "start_time": "2022-07-05T20:11:41.866Z"
   },
   {
    "duration": 7,
    "start_time": "2022-07-05T20:11:54.901Z"
   },
   {
    "duration": 7,
    "start_time": "2022-07-05T20:12:09.083Z"
   },
   {
    "duration": 858,
    "start_time": "2022-07-05T20:12:22.409Z"
   },
   {
    "duration": 7,
    "start_time": "2022-07-05T20:12:27.246Z"
   },
   {
    "duration": 79,
    "start_time": "2022-07-05T20:15:09.681Z"
   },
   {
    "duration": 34,
    "start_time": "2022-07-05T20:21:11.329Z"
   },
   {
    "duration": 56,
    "start_time": "2022-07-05T20:21:19.917Z"
   },
   {
    "duration": 53,
    "start_time": "2022-07-05T20:21:32.197Z"
   },
   {
    "duration": 106,
    "start_time": "2022-07-05T20:27:07.483Z"
   },
   {
    "duration": 314,
    "start_time": "2022-07-05T20:27:16.799Z"
   },
   {
    "duration": 390,
    "start_time": "2022-07-05T20:28:09.146Z"
   },
   {
    "duration": 64,
    "start_time": "2022-07-05T20:28:17.376Z"
   },
   {
    "duration": 563,
    "start_time": "2022-07-05T20:29:09.909Z"
   },
   {
    "duration": 1906,
    "start_time": "2022-07-05T20:29:18.379Z"
   },
   {
    "duration": 791,
    "start_time": "2022-07-05T20:29:20.288Z"
   },
   {
    "duration": 549,
    "start_time": "2022-07-05T20:29:21.082Z"
   },
   {
    "duration": 33,
    "start_time": "2022-07-05T20:29:21.634Z"
   },
   {
    "duration": 59,
    "start_time": "2022-07-05T20:29:21.670Z"
   },
   {
    "duration": 30,
    "start_time": "2022-07-05T20:29:21.732Z"
   },
   {
    "duration": 158,
    "start_time": "2022-07-05T20:29:21.765Z"
   },
   {
    "duration": 785,
    "start_time": "2022-07-05T20:29:21.925Z"
   },
   {
    "duration": 85,
    "start_time": "2022-07-05T20:29:22.712Z"
   },
   {
    "duration": 678,
    "start_time": "2022-07-05T20:29:22.800Z"
   },
   {
    "duration": 47,
    "start_time": "2022-07-05T20:29:23.480Z"
   },
   {
    "duration": 6,
    "start_time": "2022-07-05T20:29:23.530Z"
   },
   {
    "duration": 88,
    "start_time": "2022-07-05T20:29:50.199Z"
   },
   {
    "duration": 1550,
    "start_time": "2022-07-05T20:30:36.949Z"
   },
   {
    "duration": 877,
    "start_time": "2022-07-05T20:30:38.501Z"
   },
   {
    "duration": 456,
    "start_time": "2022-07-05T20:30:39.380Z"
   },
   {
    "duration": 33,
    "start_time": "2022-07-05T20:30:39.839Z"
   },
   {
    "duration": 19,
    "start_time": "2022-07-05T20:30:39.874Z"
   },
   {
    "duration": 15,
    "start_time": "2022-07-05T20:30:39.924Z"
   },
   {
    "duration": 124,
    "start_time": "2022-07-05T20:30:39.941Z"
   },
   {
    "duration": 666,
    "start_time": "2022-07-05T20:30:40.067Z"
   },
   {
    "duration": 90,
    "start_time": "2022-07-05T20:30:40.735Z"
   },
   {
    "duration": 390,
    "start_time": "2022-07-05T20:30:40.828Z"
   },
   {
    "duration": 28,
    "start_time": "2022-07-05T20:30:41.222Z"
   },
   {
    "duration": 10,
    "start_time": "2022-07-05T20:30:41.253Z"
   },
   {
    "duration": 92,
    "start_time": "2022-07-05T20:30:49.544Z"
   },
   {
    "duration": 1624,
    "start_time": "2022-07-05T20:31:13.933Z"
   },
   {
    "duration": 769,
    "start_time": "2022-07-05T20:31:15.560Z"
   },
   {
    "duration": 434,
    "start_time": "2022-07-05T20:31:16.331Z"
   },
   {
    "duration": 61,
    "start_time": "2022-07-05T20:31:16.767Z"
   },
   {
    "duration": 18,
    "start_time": "2022-07-05T20:31:16.830Z"
   },
   {
    "duration": 21,
    "start_time": "2022-07-05T20:31:16.850Z"
   },
   {
    "duration": 155,
    "start_time": "2022-07-05T20:31:16.874Z"
   },
   {
    "duration": 684,
    "start_time": "2022-07-05T20:31:17.031Z"
   },
   {
    "duration": 77,
    "start_time": "2022-07-05T20:31:17.717Z"
   },
   {
    "duration": 1782,
    "start_time": "2022-07-05T20:31:17.797Z"
   },
   {
    "duration": 49,
    "start_time": "2022-07-05T20:31:19.582Z"
   },
   {
    "duration": 16,
    "start_time": "2022-07-05T20:31:19.638Z"
   },
   {
    "duration": 1063,
    "start_time": "2022-07-05T20:31:38.450Z"
   },
   {
    "duration": 117,
    "start_time": "2022-07-05T20:31:48.824Z"
   },
   {
    "duration": 3314,
    "start_time": "2022-07-05T20:32:16.473Z"
   },
   {
    "duration": 116,
    "start_time": "2022-07-05T20:32:55.247Z"
   },
   {
    "duration": 3926,
    "start_time": "2022-07-05T20:33:18.153Z"
   },
   {
    "duration": 606,
    "start_time": "2022-07-05T20:34:09.311Z"
   },
   {
    "duration": 512,
    "start_time": "2022-07-05T20:34:28.873Z"
   },
   {
    "duration": 106,
    "start_time": "2022-07-05T20:34:35.247Z"
   },
   {
    "duration": 34,
    "start_time": "2022-07-05T20:37:51.701Z"
   },
   {
    "duration": 11,
    "start_time": "2022-07-05T20:40:20.145Z"
   },
   {
    "duration": 7,
    "start_time": "2022-07-05T20:40:52.443Z"
   },
   {
    "duration": 52,
    "start_time": "2022-07-05T20:40:59.937Z"
   },
   {
    "duration": 7,
    "start_time": "2022-07-05T20:41:05.849Z"
   },
   {
    "duration": 7,
    "start_time": "2022-07-05T20:41:06.073Z"
   },
   {
    "duration": 63,
    "start_time": "2022-07-05T20:41:11.012Z"
   },
   {
    "duration": 12,
    "start_time": "2022-07-05T20:41:15.018Z"
   },
   {
    "duration": 6,
    "start_time": "2022-07-05T20:41:27.092Z"
   },
   {
    "duration": 8,
    "start_time": "2022-07-05T20:42:04.797Z"
   },
   {
    "duration": 12,
    "start_time": "2022-07-05T20:42:16.618Z"
   },
   {
    "duration": 5,
    "start_time": "2022-07-05T20:42:28.705Z"
   },
   {
    "duration": 12,
    "start_time": "2022-07-05T20:43:08.535Z"
   },
   {
    "duration": 61,
    "start_time": "2022-07-05T20:44:07.210Z"
   },
   {
    "duration": 8,
    "start_time": "2022-07-05T20:44:26.966Z"
   },
   {
    "duration": 9,
    "start_time": "2022-07-05T20:44:34.844Z"
   },
   {
    "duration": 8,
    "start_time": "2022-07-05T20:44:45.282Z"
   },
   {
    "duration": 7,
    "start_time": "2022-07-05T20:48:12.927Z"
   },
   {
    "duration": 4,
    "start_time": "2022-07-05T20:48:39.178Z"
   },
   {
    "duration": 4,
    "start_time": "2022-07-05T20:48:43.090Z"
   },
   {
    "duration": 4,
    "start_time": "2022-07-05T20:48:56.227Z"
   },
   {
    "duration": 4,
    "start_time": "2022-07-05T20:48:59.685Z"
   },
   {
    "duration": 4,
    "start_time": "2022-07-05T20:49:07.024Z"
   },
   {
    "duration": 4,
    "start_time": "2022-07-05T20:49:21.284Z"
   },
   {
    "duration": 4,
    "start_time": "2022-07-05T20:49:27.854Z"
   },
   {
    "duration": 4,
    "start_time": "2022-07-05T20:49:44.252Z"
   },
   {
    "duration": 5,
    "start_time": "2022-07-05T20:49:49.578Z"
   },
   {
    "duration": 4,
    "start_time": "2022-07-05T20:49:54.521Z"
   },
   {
    "duration": 4,
    "start_time": "2022-07-05T20:50:01.665Z"
   },
   {
    "duration": 4,
    "start_time": "2022-07-05T20:50:06.185Z"
   },
   {
    "duration": 4,
    "start_time": "2022-07-05T20:50:16.983Z"
   },
   {
    "duration": 5,
    "start_time": "2022-07-05T20:50:24.634Z"
   },
   {
    "duration": 8,
    "start_time": "2022-07-05T20:50:29.198Z"
   },
   {
    "duration": 5,
    "start_time": "2022-07-05T20:50:39.079Z"
   },
   {
    "duration": 105,
    "start_time": "2022-07-05T20:51:38.787Z"
   },
   {
    "duration": 6,
    "start_time": "2022-07-05T20:51:53.943Z"
   },
   {
    "duration": 7,
    "start_time": "2022-07-05T20:52:10.402Z"
   },
   {
    "duration": 7,
    "start_time": "2022-07-05T20:52:29.594Z"
   },
   {
    "duration": 7,
    "start_time": "2022-07-05T20:52:38.891Z"
   },
   {
    "duration": 8,
    "start_time": "2022-07-05T20:52:58.149Z"
   },
   {
    "duration": 7,
    "start_time": "2022-07-05T20:53:49.715Z"
   },
   {
    "duration": 8,
    "start_time": "2022-07-05T20:53:56.683Z"
   },
   {
    "duration": 6,
    "start_time": "2022-07-05T20:54:33.337Z"
   },
   {
    "duration": 7,
    "start_time": "2022-07-05T20:54:48.666Z"
   },
   {
    "duration": 7,
    "start_time": "2022-07-05T20:54:55.392Z"
   },
   {
    "duration": 5,
    "start_time": "2022-07-05T20:55:23.480Z"
   },
   {
    "duration": 5,
    "start_time": "2022-07-05T20:55:28.587Z"
   },
   {
    "duration": 5,
    "start_time": "2022-07-05T20:55:34.880Z"
   },
   {
    "duration": 4,
    "start_time": "2022-07-05T20:55:48.043Z"
   },
   {
    "duration": 5,
    "start_time": "2022-07-05T20:55:55.597Z"
   },
   {
    "duration": 5,
    "start_time": "2022-07-05T20:56:00.020Z"
   },
   {
    "duration": 5,
    "start_time": "2022-07-05T20:56:07.062Z"
   },
   {
    "duration": 5,
    "start_time": "2022-07-05T20:56:16.232Z"
   },
   {
    "duration": 6,
    "start_time": "2022-07-05T20:56:34.023Z"
   },
   {
    "duration": 5,
    "start_time": "2022-07-05T20:56:40.223Z"
   },
   {
    "duration": 6,
    "start_time": "2022-07-05T20:56:46.218Z"
   },
   {
    "duration": 5,
    "start_time": "2022-07-05T20:56:49.730Z"
   },
   {
    "duration": 4,
    "start_time": "2022-07-05T20:56:55.787Z"
   },
   {
    "duration": 6,
    "start_time": "2022-07-05T20:56:58.749Z"
   },
   {
    "duration": 5,
    "start_time": "2022-07-05T20:57:07.681Z"
   },
   {
    "duration": 4,
    "start_time": "2022-07-05T20:57:12.221Z"
   },
   {
    "duration": 6,
    "start_time": "2022-07-05T20:57:17.195Z"
   },
   {
    "duration": 230,
    "start_time": "2022-07-05T20:59:23.946Z"
   },
   {
    "duration": 102,
    "start_time": "2022-07-05T20:59:33.334Z"
   },
   {
    "duration": 25,
    "start_time": "2022-07-05T20:59:36.777Z"
   },
   {
    "duration": 180,
    "start_time": "2022-07-05T21:00:04.615Z"
   },
   {
    "duration": 34,
    "start_time": "2022-07-05T21:00:20.279Z"
   },
   {
    "duration": 1795,
    "start_time": "2022-07-05T21:00:46.666Z"
   },
   {
    "duration": 1011,
    "start_time": "2022-07-05T21:00:48.463Z"
   },
   {
    "duration": 483,
    "start_time": "2022-07-05T21:00:49.479Z"
   },
   {
    "duration": 36,
    "start_time": "2022-07-05T21:00:49.965Z"
   },
   {
    "duration": 24,
    "start_time": "2022-07-05T21:00:50.022Z"
   },
   {
    "duration": 24,
    "start_time": "2022-07-05T21:00:50.049Z"
   },
   {
    "duration": 176,
    "start_time": "2022-07-05T21:00:50.076Z"
   },
   {
    "duration": 708,
    "start_time": "2022-07-05T21:00:50.255Z"
   },
   {
    "duration": 89,
    "start_time": "2022-07-05T21:00:50.966Z"
   },
   {
    "duration": 366,
    "start_time": "2022-07-05T21:00:51.058Z"
   },
   {
    "duration": 31,
    "start_time": "2022-07-05T21:00:51.428Z"
   },
   {
    "duration": 7,
    "start_time": "2022-07-05T21:00:51.462Z"
   },
   {
    "duration": 89,
    "start_time": "2022-07-05T21:00:51.471Z"
   },
   {
    "duration": 51,
    "start_time": "2022-07-05T21:01:26.308Z"
   },
   {
    "duration": 172,
    "start_time": "2022-07-05T21:01:43.118Z"
   },
   {
    "duration": 83,
    "start_time": "2022-07-05T21:01:53.971Z"
   },
   {
    "duration": 6,
    "start_time": "2022-07-05T21:02:24.463Z"
   },
   {
    "duration": 39,
    "start_time": "2022-07-05T21:02:31.662Z"
   },
   {
    "duration": 54,
    "start_time": "2022-07-05T21:02:35.273Z"
   },
   {
    "duration": 106,
    "start_time": "2022-07-05T21:02:50.395Z"
   },
   {
    "duration": 88,
    "start_time": "2022-07-05T21:03:01.071Z"
   },
   {
    "duration": 1509,
    "start_time": "2022-07-07T13:52:54.457Z"
   },
   {
    "duration": 3360,
    "start_time": "2022-07-07T13:52:55.968Z"
   },
   {
    "duration": 317,
    "start_time": "2022-07-07T13:52:59.330Z"
   },
   {
    "duration": 22,
    "start_time": "2022-07-07T13:52:59.648Z"
   },
   {
    "duration": 41,
    "start_time": "2022-07-07T13:52:59.672Z"
   },
   {
    "duration": 18,
    "start_time": "2022-07-07T13:52:59.714Z"
   },
   {
    "duration": 96,
    "start_time": "2022-07-07T13:52:59.734Z"
   },
   {
    "duration": 600,
    "start_time": "2022-07-07T13:52:59.831Z"
   },
   {
    "duration": 311,
    "start_time": "2022-07-07T13:53:00.433Z"
   },
   {
    "duration": 21,
    "start_time": "2022-07-07T13:53:00.746Z"
   },
   {
    "duration": 25,
    "start_time": "2022-07-07T13:53:00.769Z"
   },
   {
    "duration": 18,
    "start_time": "2022-07-07T13:53:00.796Z"
   },
   {
    "duration": 5,
    "start_time": "2022-07-07T13:53:00.816Z"
   },
   {
    "duration": 4,
    "start_time": "2022-07-07T13:57:04.509Z"
   },
   {
    "duration": 5,
    "start_time": "2022-07-07T14:00:49.058Z"
   },
   {
    "duration": 4,
    "start_time": "2022-07-07T14:01:15.360Z"
   },
   {
    "duration": 4,
    "start_time": "2022-07-07T14:02:15.370Z"
   },
   {
    "duration": 280,
    "start_time": "2022-07-07T14:04:34.074Z"
   },
   {
    "duration": 280,
    "start_time": "2022-07-07T14:05:18.533Z"
   },
   {
    "duration": 271,
    "start_time": "2022-07-07T14:05:24.359Z"
   },
   {
    "duration": 303,
    "start_time": "2022-07-07T14:05:38.759Z"
   },
   {
    "duration": 248,
    "start_time": "2022-07-07T14:05:58.099Z"
   },
   {
    "duration": 252,
    "start_time": "2022-07-07T14:06:02.903Z"
   },
   {
    "duration": 267,
    "start_time": "2022-07-07T14:08:07.004Z"
   },
   {
    "duration": 264,
    "start_time": "2022-07-07T14:08:13.555Z"
   },
   {
    "duration": 257,
    "start_time": "2022-07-07T14:08:19.957Z"
   },
   {
    "duration": 311,
    "start_time": "2022-07-07T14:08:42.262Z"
   },
   {
    "duration": 245,
    "start_time": "2022-07-07T14:09:16.277Z"
   },
   {
    "duration": 356,
    "start_time": "2022-07-07T14:09:26.060Z"
   },
   {
    "duration": 306,
    "start_time": "2022-07-07T14:09:37.173Z"
   },
   {
    "duration": 412,
    "start_time": "2022-07-07T14:09:45.082Z"
   },
   {
    "duration": 409,
    "start_time": "2022-07-07T14:09:50.157Z"
   },
   {
    "duration": 525,
    "start_time": "2022-07-07T14:10:04.063Z"
   },
   {
    "duration": 407,
    "start_time": "2022-07-07T14:10:10.405Z"
   },
   {
    "duration": 423,
    "start_time": "2022-07-07T14:12:01.261Z"
   },
   {
    "duration": 368,
    "start_time": "2022-07-07T14:12:07.194Z"
   },
   {
    "duration": 149,
    "start_time": "2022-07-07T14:18:14.162Z"
   },
   {
    "duration": 339,
    "start_time": "2022-07-07T14:18:50.505Z"
   },
   {
    "duration": 408,
    "start_time": "2022-07-07T14:18:54.196Z"
   },
   {
    "duration": 199,
    "start_time": "2022-07-07T14:19:10.520Z"
   },
   {
    "duration": 403,
    "start_time": "2022-07-07T14:19:17.857Z"
   },
   {
    "duration": 371,
    "start_time": "2022-07-07T14:19:24.394Z"
   },
   {
    "duration": 75,
    "start_time": "2022-07-07T14:20:35.746Z"
   },
   {
    "duration": 481,
    "start_time": "2022-07-07T14:20:43.354Z"
   },
   {
    "duration": 85,
    "start_time": "2022-07-07T14:21:54.355Z"
   },
   {
    "duration": 200,
    "start_time": "2022-07-07T14:22:02.522Z"
   },
   {
    "duration": 347,
    "start_time": "2022-07-07T14:22:13.047Z"
   },
   {
    "duration": 177,
    "start_time": "2022-07-07T14:22:43.358Z"
   },
   {
    "duration": 324,
    "start_time": "2022-07-07T14:22:56.065Z"
   },
   {
    "duration": 5,
    "start_time": "2022-07-07T14:23:08.656Z"
   },
   {
    "duration": 353,
    "start_time": "2022-07-07T14:23:13.161Z"
   },
   {
    "duration": 470,
    "start_time": "2022-07-07T14:23:18.509Z"
   },
   {
    "duration": 337,
    "start_time": "2022-07-07T14:24:40.229Z"
   },
   {
    "duration": 345,
    "start_time": "2022-07-07T14:24:59.016Z"
   },
   {
    "duration": 418,
    "start_time": "2022-07-07T14:25:09.895Z"
   },
   {
    "duration": 293,
    "start_time": "2022-07-07T14:26:11.897Z"
   },
   {
    "duration": 432,
    "start_time": "2022-07-07T14:26:48.361Z"
   },
   {
    "duration": 521,
    "start_time": "2022-07-07T14:27:28.198Z"
   },
   {
    "duration": 375,
    "start_time": "2022-07-07T14:28:01.503Z"
   },
   {
    "duration": 412,
    "start_time": "2022-07-07T14:28:18.758Z"
   },
   {
    "duration": 429,
    "start_time": "2022-07-07T14:28:27.168Z"
   },
   {
    "duration": 439,
    "start_time": "2022-07-07T14:29:02.155Z"
   },
   {
    "duration": 584,
    "start_time": "2022-07-07T14:29:08.390Z"
   },
   {
    "duration": 443,
    "start_time": "2022-07-07T14:31:45.251Z"
   },
   {
    "duration": 415,
    "start_time": "2022-07-07T14:31:53.459Z"
   },
   {
    "duration": 494,
    "start_time": "2022-07-07T14:32:05.177Z"
   },
   {
    "duration": 448,
    "start_time": "2022-07-07T14:32:16.630Z"
   },
   {
    "duration": 441,
    "start_time": "2022-07-07T14:32:25.422Z"
   },
   {
    "duration": 3,
    "start_time": "2022-07-07T14:35:13.584Z"
   },
   {
    "duration": 102,
    "start_time": "2022-07-07T14:46:02.375Z"
   },
   {
    "duration": 10,
    "start_time": "2022-07-07T14:46:13.445Z"
   },
   {
    "duration": 3,
    "start_time": "2022-07-07T14:46:17.055Z"
   },
   {
    "duration": 2,
    "start_time": "2022-07-07T14:46:19.096Z"
   },
   {
    "duration": 5,
    "start_time": "2022-07-07T14:46:23.019Z"
   },
   {
    "duration": 5,
    "start_time": "2022-07-07T14:46:47.011Z"
   },
   {
    "duration": 15,
    "start_time": "2022-07-07T14:47:47.749Z"
   },
   {
    "duration": 13,
    "start_time": "2022-07-07T14:48:00.253Z"
   },
   {
    "duration": 17,
    "start_time": "2022-07-07T14:48:15.093Z"
   },
   {
    "duration": 14,
    "start_time": "2022-07-07T14:48:20.519Z"
   },
   {
    "duration": 1347,
    "start_time": "2022-07-07T14:48:28.453Z"
   },
   {
    "duration": 1235,
    "start_time": "2022-07-07T14:49:06.102Z"
   },
   {
    "duration": 7,
    "start_time": "2022-07-07T14:49:15.036Z"
   },
   {
    "duration": 11,
    "start_time": "2022-07-07T14:49:31.520Z"
   },
   {
    "duration": 249,
    "start_time": "2022-07-07T14:49:35.431Z"
   },
   {
    "duration": 3,
    "start_time": "2022-07-07T14:50:52.729Z"
   },
   {
    "duration": 156,
    "start_time": "2022-07-07T14:51:04.063Z"
   },
   {
    "duration": 100,
    "start_time": "2022-07-07T14:52:13.456Z"
   },
   {
    "duration": 72,
    "start_time": "2022-07-07T14:53:09.164Z"
   },
   {
    "duration": 12,
    "start_time": "2022-07-07T14:53:17.678Z"
   },
   {
    "duration": 628,
    "start_time": "2022-07-07T14:53:24.598Z"
   },
   {
    "duration": 784,
    "start_time": "2022-07-07T14:53:44.202Z"
   },
   {
    "duration": 493,
    "start_time": "2022-07-07T14:56:40.305Z"
   },
   {
    "duration": 2,
    "start_time": "2022-07-07T14:56:44.921Z"
   },
   {
    "duration": 607,
    "start_time": "2022-07-07T14:56:46.701Z"
   },
   {
    "duration": 586,
    "start_time": "2022-07-07T14:56:58.530Z"
   },
   {
    "duration": 4,
    "start_time": "2022-07-07T14:57:00.587Z"
   },
   {
    "duration": 533,
    "start_time": "2022-07-07T14:57:02.171Z"
   },
   {
    "duration": 529,
    "start_time": "2022-07-07T14:57:27.229Z"
   },
   {
    "duration": 1103,
    "start_time": "2022-07-07T14:58:03.195Z"
   },
   {
    "duration": 772,
    "start_time": "2022-07-07T14:58:53.688Z"
   },
   {
    "duration": 91,
    "start_time": "2022-07-07T14:59:05.764Z"
   },
   {
    "duration": 1110,
    "start_time": "2022-07-07T14:59:11.114Z"
   },
   {
    "duration": 702,
    "start_time": "2022-07-07T15:01:17.329Z"
   },
   {
    "duration": 572,
    "start_time": "2022-07-07T15:01:28.735Z"
   },
   {
    "duration": 5,
    "start_time": "2022-07-07T15:01:33.489Z"
   },
   {
    "duration": 652,
    "start_time": "2022-07-07T15:01:40.772Z"
   },
   {
    "duration": 876,
    "start_time": "2022-07-07T15:01:49.450Z"
   },
   {
    "duration": 711,
    "start_time": "2022-07-07T15:02:07.237Z"
   },
   {
    "duration": 589,
    "start_time": "2022-07-07T15:02:22.781Z"
   },
   {
    "duration": 652,
    "start_time": "2022-07-07T15:02:33.393Z"
   },
   {
    "duration": 894,
    "start_time": "2022-07-07T15:02:55.078Z"
   },
   {
    "duration": 3,
    "start_time": "2022-07-07T15:05:27.593Z"
   },
   {
    "duration": 3,
    "start_time": "2022-07-07T15:05:49.667Z"
   },
   {
    "duration": 744,
    "start_time": "2022-07-07T15:05:58.218Z"
   },
   {
    "duration": 278,
    "start_time": "2022-07-07T15:31:51.997Z"
   },
   {
    "duration": 3,
    "start_time": "2022-07-07T15:33:42.367Z"
   },
   {
    "duration": 236,
    "start_time": "2022-07-07T15:33:45.944Z"
   },
   {
    "duration": 241,
    "start_time": "2022-07-07T15:33:53.601Z"
   },
   {
    "duration": 222,
    "start_time": "2022-07-07T15:34:05.404Z"
   },
   {
    "duration": 211,
    "start_time": "2022-07-07T15:34:56.879Z"
   },
   {
    "duration": 414,
    "start_time": "2022-07-07T15:35:06.378Z"
   },
   {
    "duration": 192,
    "start_time": "2022-07-07T15:35:19.726Z"
   },
   {
    "duration": 177,
    "start_time": "2022-07-07T15:35:35.758Z"
   },
   {
    "duration": 192,
    "start_time": "2022-07-07T15:35:47.331Z"
   },
   {
    "duration": 3,
    "start_time": "2022-07-07T15:35:57.324Z"
   },
   {
    "duration": 197,
    "start_time": "2022-07-07T15:36:01.362Z"
   },
   {
    "duration": 536,
    "start_time": "2022-07-07T15:40:46.541Z"
   },
   {
    "duration": 215,
    "start_time": "2022-07-07T15:40:56.701Z"
   },
   {
    "duration": 189,
    "start_time": "2022-07-07T15:41:40.823Z"
   },
   {
    "duration": 360,
    "start_time": "2022-07-07T15:41:56.671Z"
   },
   {
    "duration": 44,
    "start_time": "2022-07-07T16:12:53.667Z"
   },
   {
    "duration": 3,
    "start_time": "2022-07-07T16:13:15.753Z"
   },
   {
    "duration": 3,
    "start_time": "2022-07-07T16:13:31.814Z"
   },
   {
    "duration": 3,
    "start_time": "2022-07-07T16:13:39.196Z"
   },
   {
    "duration": 3,
    "start_time": "2022-07-07T16:15:50.949Z"
   },
   {
    "duration": 28,
    "start_time": "2022-07-07T16:17:48.079Z"
   },
   {
    "duration": 5,
    "start_time": "2022-07-07T16:18:17.834Z"
   },
   {
    "duration": 4,
    "start_time": "2022-07-07T16:24:38.435Z"
   },
   {
    "duration": 5,
    "start_time": "2022-07-07T16:24:45.583Z"
   },
   {
    "duration": 126,
    "start_time": "2022-07-07T16:29:07.341Z"
   },
   {
    "duration": 121,
    "start_time": "2022-07-07T16:29:32.477Z"
   },
   {
    "duration": 126,
    "start_time": "2022-07-07T16:29:39.614Z"
   },
   {
    "duration": 141,
    "start_time": "2022-07-07T16:29:46.125Z"
   },
   {
    "duration": 135,
    "start_time": "2022-07-07T16:29:52.600Z"
   },
   {
    "duration": 249,
    "start_time": "2022-07-07T16:30:04.765Z"
   },
   {
    "duration": 140,
    "start_time": "2022-07-07T16:30:19.405Z"
   },
   {
    "duration": 146,
    "start_time": "2022-07-07T16:30:25.524Z"
   },
   {
    "duration": 153,
    "start_time": "2022-07-07T16:30:32.275Z"
   },
   {
    "duration": 131,
    "start_time": "2022-07-07T16:30:52.508Z"
   },
   {
    "duration": 142,
    "start_time": "2022-07-07T16:31:17.125Z"
   },
   {
    "duration": 136,
    "start_time": "2022-07-07T16:31:24.884Z"
   },
   {
    "duration": 154,
    "start_time": "2022-07-07T16:31:30.976Z"
   },
   {
    "duration": 152,
    "start_time": "2022-07-07T16:31:35.271Z"
   },
   {
    "duration": 155,
    "start_time": "2022-07-07T16:32:03.194Z"
   },
   {
    "duration": 5,
    "start_time": "2022-07-07T16:32:09.583Z"
   },
   {
    "duration": 4,
    "start_time": "2022-07-07T16:32:18.907Z"
   },
   {
    "duration": 147,
    "start_time": "2022-07-07T16:32:37.280Z"
   },
   {
    "duration": 248,
    "start_time": "2022-07-07T16:32:42.182Z"
   },
   {
    "duration": 139,
    "start_time": "2022-07-07T16:32:47.892Z"
   },
   {
    "duration": 139,
    "start_time": "2022-07-07T16:32:52.370Z"
   },
   {
    "duration": 162,
    "start_time": "2022-07-07T16:32:56.703Z"
   },
   {
    "duration": 151,
    "start_time": "2022-07-07T16:33:00.442Z"
   },
   {
    "duration": 186,
    "start_time": "2022-07-07T16:34:57.820Z"
   },
   {
    "duration": 208,
    "start_time": "2022-07-07T16:35:16.898Z"
   },
   {
    "duration": 212,
    "start_time": "2022-07-07T16:41:24.069Z"
   },
   {
    "duration": 277,
    "start_time": "2022-07-07T16:41:32.788Z"
   },
   {
    "duration": 285,
    "start_time": "2022-07-07T16:41:41.969Z"
   },
   {
    "duration": 412,
    "start_time": "2022-07-07T16:41:57.786Z"
   },
   {
    "duration": 306,
    "start_time": "2022-07-07T16:42:04.384Z"
   },
   {
    "duration": 294,
    "start_time": "2022-07-07T16:42:20.069Z"
   },
   {
    "duration": 16,
    "start_time": "2022-07-07T16:43:53.421Z"
   },
   {
    "duration": 10,
    "start_time": "2022-07-07T16:44:07.413Z"
   },
   {
    "duration": 5,
    "start_time": "2022-07-07T16:44:54.530Z"
   },
   {
    "duration": 6,
    "start_time": "2022-07-07T16:46:09.206Z"
   },
   {
    "duration": 3,
    "start_time": "2022-07-07T16:46:21.377Z"
   },
   {
    "duration": 2712,
    "start_time": "2022-07-07T16:46:40.710Z"
   },
   {
    "duration": 4,
    "start_time": "2022-07-07T16:47:24.630Z"
   },
   {
    "duration": 24,
    "start_time": "2022-07-07T16:48:47.485Z"
   },
   {
    "duration": 17,
    "start_time": "2022-07-07T16:50:25.420Z"
   },
   {
    "duration": 4,
    "start_time": "2022-07-07T16:50:54.738Z"
   },
   {
    "duration": 11,
    "start_time": "2022-07-07T16:51:39.065Z"
   },
   {
    "duration": 3,
    "start_time": "2022-07-07T16:52:10.073Z"
   },
   {
    "duration": 212,
    "start_time": "2022-07-07T16:52:22.108Z"
   },
   {
    "duration": 263,
    "start_time": "2022-07-07T16:53:02.254Z"
   },
   {
    "duration": 22852,
    "start_time": "2022-07-07T16:54:19.718Z"
   },
   {
    "duration": 231,
    "start_time": "2022-07-07T16:55:04.383Z"
   },
   {
    "duration": 22447,
    "start_time": "2022-07-07T16:55:14.760Z"
   },
   {
    "duration": 204,
    "start_time": "2022-07-07T16:55:45.914Z"
   },
   {
    "duration": 238,
    "start_time": "2022-07-07T16:55:49.372Z"
   },
   {
    "duration": 10,
    "start_time": "2022-07-07T16:57:24.402Z"
   },
   {
    "duration": 83198,
    "start_time": "2022-07-07T17:00:20.822Z"
   },
   {
    "duration": 14862,
    "start_time": "2022-07-07T17:01:52.646Z"
   },
   {
    "duration": 11446,
    "start_time": "2022-07-07T17:02:13.378Z"
   },
   {
    "duration": 8,
    "start_time": "2022-07-07T17:02:43.410Z"
   },
   {
    "duration": 247,
    "start_time": "2022-07-07T17:03:25.162Z"
   },
   {
    "duration": 10438,
    "start_time": "2022-07-07T17:03:45.082Z"
   },
   {
    "duration": 20533,
    "start_time": "2022-07-07T17:03:58.085Z"
   },
   {
    "duration": 5,
    "start_time": "2022-07-07T17:04:28.642Z"
   },
   {
    "duration": 128959,
    "start_time": "2022-07-07T17:05:28.962Z"
   },
   {
    "duration": 0,
    "start_time": "2022-07-07T17:07:37.924Z"
   },
   {
    "duration": 4004,
    "start_time": "2022-07-07T17:07:40.518Z"
   },
   {
    "duration": 4,
    "start_time": "2022-07-07T17:07:46.885Z"
   },
   {
    "duration": 41256,
    "start_time": "2022-07-07T17:08:45.253Z"
   },
   {
    "duration": 21443,
    "start_time": "2022-07-07T17:09:46.982Z"
   },
   {
    "duration": 11,
    "start_time": "2022-07-07T17:10:48.323Z"
   },
   {
    "duration": 21,
    "start_time": "2022-07-07T17:10:55.390Z"
   },
   {
    "duration": 4473,
    "start_time": "2022-07-07T17:11:16.949Z"
   },
   {
    "duration": 277,
    "start_time": "2022-07-07T17:11:42.029Z"
   },
   {
    "duration": 171,
    "start_time": "2022-07-07T17:11:45.437Z"
   },
   {
    "duration": 6228,
    "start_time": "2022-07-07T17:11:58.892Z"
   },
   {
    "duration": 95127,
    "start_time": "2022-07-07T17:12:15.977Z"
   },
   {
    "duration": 12373,
    "start_time": "2022-07-07T17:14:41.637Z"
   },
   {
    "duration": 12,
    "start_time": "2022-07-07T17:15:10.554Z"
   },
   {
    "duration": 5,
    "start_time": "2022-07-07T17:17:04.077Z"
   },
   {
    "duration": 12,
    "start_time": "2022-07-07T17:17:51.743Z"
   },
   {
    "duration": 8,
    "start_time": "2022-07-07T17:18:12.457Z"
   },
   {
    "duration": 7,
    "start_time": "2022-07-07T17:18:18.771Z"
   },
   {
    "duration": 12,
    "start_time": "2022-07-07T17:18:27.846Z"
   },
   {
    "duration": 8,
    "start_time": "2022-07-07T17:18:54.636Z"
   },
   {
    "duration": 10,
    "start_time": "2022-07-07T17:19:00.091Z"
   },
   {
    "duration": 9,
    "start_time": "2022-07-07T17:19:03.833Z"
   },
   {
    "duration": 13,
    "start_time": "2022-07-07T17:19:51.476Z"
   },
   {
    "duration": 11,
    "start_time": "2022-07-07T17:20:00.692Z"
   },
   {
    "duration": 11,
    "start_time": "2022-07-07T17:20:07.177Z"
   },
   {
    "duration": 6030,
    "start_time": "2022-07-07T17:20:55.481Z"
   },
   {
    "duration": 14598,
    "start_time": "2022-07-07T17:22:29.714Z"
   },
   {
    "duration": 2813,
    "start_time": "2022-07-07T17:22:57.000Z"
   },
   {
    "duration": 6,
    "start_time": "2022-07-07T17:23:56.469Z"
   },
   {
    "duration": 8,
    "start_time": "2022-07-07T17:24:06.002Z"
   },
   {
    "duration": 6,
    "start_time": "2022-07-07T17:24:09.690Z"
   },
   {
    "duration": 13815,
    "start_time": "2022-07-07T17:24:42.103Z"
   },
   {
    "duration": 13,
    "start_time": "2022-07-07T17:25:01.716Z"
   },
   {
    "duration": 23725,
    "start_time": "2022-07-07T17:25:07.350Z"
   },
   {
    "duration": 271060,
    "start_time": "2022-07-07T17:26:59.105Z"
   },
   {
    "duration": 7,
    "start_time": "2022-07-07T17:48:37.366Z"
   },
   {
    "duration": 24,
    "start_time": "2022-07-07T17:51:36.071Z"
   },
   {
    "duration": 83,
    "start_time": "2022-07-07T17:51:39.623Z"
   },
   {
    "duration": 26,
    "start_time": "2022-07-07T17:54:10.228Z"
   },
   {
    "duration": 27,
    "start_time": "2022-07-07T17:54:25.305Z"
   },
   {
    "duration": 24,
    "start_time": "2022-07-07T17:54:46.877Z"
   },
   {
    "duration": 25,
    "start_time": "2022-07-07T17:54:54.773Z"
   },
   {
    "duration": 630528,
    "start_time": "2022-07-07T17:55:02.893Z"
   },
   {
    "duration": 0,
    "start_time": "2022-07-07T18:05:33.423Z"
   },
   {
    "duration": 24,
    "start_time": "2022-07-07T18:06:03.570Z"
   },
   {
    "duration": 130477,
    "start_time": "2022-07-07T18:06:07.452Z"
   },
   {
    "duration": 283729,
    "start_time": "2022-07-07T18:08:24.809Z"
   },
   {
    "duration": 7,
    "start_time": "2022-07-07T18:13:57.369Z"
   },
   {
    "duration": 12018,
    "start_time": "2022-07-07T18:14:02.594Z"
   },
   {
    "duration": 2770,
    "start_time": "2022-07-07T18:14:18.541Z"
   },
   {
    "duration": 881374,
    "start_time": "2022-07-07T18:14:25.847Z"
   },
   {
    "duration": 13,
    "start_time": "2022-07-07T18:29:07.224Z"
   },
   {
    "duration": 0,
    "start_time": "2022-07-07T18:29:07.240Z"
   },
   {
    "duration": 9,
    "start_time": "2022-07-07T19:20:08.977Z"
   },
   {
    "duration": 15,
    "start_time": "2022-07-07T19:20:22.220Z"
   },
   {
    "duration": 18784,
    "start_time": "2022-07-07T19:21:31.320Z"
   },
   {
    "duration": 5899,
    "start_time": "2022-07-07T19:22:39.707Z"
   },
   {
    "duration": 7,
    "start_time": "2022-07-07T19:23:24.524Z"
   },
   {
    "duration": 14,
    "start_time": "2022-07-07T19:23:26.951Z"
   },
   {
    "duration": 4,
    "start_time": "2022-07-07T19:23:45.197Z"
   },
   {
    "duration": 1374,
    "start_time": "2022-07-07T20:15:58.599Z"
   },
   {
    "duration": 725,
    "start_time": "2022-07-07T20:15:59.975Z"
   },
   {
    "duration": 353,
    "start_time": "2022-07-07T20:16:00.701Z"
   },
   {
    "duration": 24,
    "start_time": "2022-07-07T20:16:01.056Z"
   },
   {
    "duration": 17,
    "start_time": "2022-07-07T20:16:01.104Z"
   },
   {
    "duration": 22,
    "start_time": "2022-07-07T20:16:01.123Z"
   },
   {
    "duration": 95,
    "start_time": "2022-07-07T20:16:01.146Z"
   },
   {
    "duration": 588,
    "start_time": "2022-07-07T20:16:01.242Z"
   },
   {
    "duration": 321,
    "start_time": "2022-07-07T20:16:01.831Z"
   },
   {
    "duration": 20,
    "start_time": "2022-07-07T20:16:02.155Z"
   },
   {
    "duration": 26,
    "start_time": "2022-07-07T20:16:02.176Z"
   },
   {
    "duration": 37,
    "start_time": "2022-07-07T20:16:02.204Z"
   },
   {
    "duration": 281,
    "start_time": "2022-07-07T20:16:02.244Z"
   },
   {
    "duration": 4,
    "start_time": "2022-07-07T20:16:02.526Z"
   },
   {
    "duration": 586,
    "start_time": "2022-07-07T20:16:02.532Z"
   },
   {
    "duration": 4,
    "start_time": "2022-07-07T20:16:03.120Z"
   },
   {
    "duration": 824,
    "start_time": "2022-07-07T20:16:03.125Z"
   },
   {
    "duration": 354,
    "start_time": "2022-07-07T20:16:03.951Z"
   },
   {
    "duration": 5,
    "start_time": "2022-07-07T20:16:04.308Z"
   },
   {
    "duration": 24,
    "start_time": "2022-07-07T20:16:04.316Z"
   },
   {
    "duration": 22,
    "start_time": "2022-07-07T20:16:04.342Z"
   },
   {
    "duration": 40,
    "start_time": "2022-07-07T20:16:04.365Z"
   },
   {
    "duration": 8,
    "start_time": "2022-07-07T20:16:04.408Z"
   },
   {
    "duration": 13394,
    "start_time": "2022-07-07T20:16:04.418Z"
   },
   {
    "duration": 3188,
    "start_time": "2022-07-07T20:16:17.816Z"
   },
   {
    "duration": 96558,
    "start_time": "2022-07-07T20:16:21.008Z"
   },
   {
    "duration": 0,
    "start_time": "2022-07-07T20:17:57.568Z"
   },
   {
    "duration": 0,
    "start_time": "2022-07-07T20:17:57.569Z"
   },
   {
    "duration": 0,
    "start_time": "2022-07-07T20:17:57.570Z"
   },
   {
    "duration": 0,
    "start_time": "2022-07-07T20:17:57.571Z"
   },
   {
    "duration": 0,
    "start_time": "2022-07-07T20:17:57.572Z"
   },
   {
    "duration": 0,
    "start_time": "2022-07-07T20:17:57.573Z"
   },
   {
    "duration": 0,
    "start_time": "2022-07-07T20:17:57.574Z"
   },
   {
    "duration": 0,
    "start_time": "2022-07-07T20:17:57.576Z"
   },
   {
    "duration": 0,
    "start_time": "2022-07-07T20:17:57.577Z"
   },
   {
    "duration": 0,
    "start_time": "2022-07-07T20:17:57.578Z"
   },
   {
    "duration": 92,
    "start_time": "2022-07-07T20:18:37.299Z"
   },
   {
    "duration": 6,
    "start_time": "2022-07-07T20:18:41.673Z"
   },
   {
    "duration": 77,
    "start_time": "2022-07-07T20:18:53.101Z"
   },
   {
    "duration": 14,
    "start_time": "2022-07-07T20:19:17.803Z"
   },
   {
    "duration": 6,
    "start_time": "2022-07-07T20:20:07.354Z"
   },
   {
    "duration": 8,
    "start_time": "2022-07-07T20:20:10.555Z"
   },
   {
    "duration": 13,
    "start_time": "2022-07-07T20:20:12.329Z"
   },
   {
    "duration": 9,
    "start_time": "2022-07-07T20:20:24.424Z"
   },
   {
    "duration": 6,
    "start_time": "2022-07-07T20:20:29.380Z"
   },
   {
    "duration": 19652,
    "start_time": "2022-07-07T20:20:32.352Z"
   },
   {
    "duration": 14,
    "start_time": "2022-07-07T20:21:02.578Z"
   },
   {
    "duration": 6,
    "start_time": "2022-07-07T20:21:04.877Z"
   },
   {
    "duration": 8,
    "start_time": "2022-07-07T20:21:07.650Z"
   },
   {
    "duration": 50464,
    "start_time": "2022-07-07T20:21:15.933Z"
   },
   {
    "duration": 0,
    "start_time": "2022-07-07T20:22:06.399Z"
   },
   {
    "duration": 0,
    "start_time": "2022-07-07T20:22:06.404Z"
   },
   {
    "duration": 0,
    "start_time": "2022-07-07T20:22:06.405Z"
   },
   {
    "duration": 105242,
    "start_time": "2022-07-07T20:22:30.129Z"
   },
   {
    "duration": 0,
    "start_time": "2022-07-07T20:24:15.373Z"
   },
   {
    "duration": 0,
    "start_time": "2022-07-07T20:24:15.374Z"
   },
   {
    "duration": 0,
    "start_time": "2022-07-07T20:24:15.375Z"
   },
   {
    "duration": 1452,
    "start_time": "2022-07-07T20:24:35.290Z"
   },
   {
    "duration": 719,
    "start_time": "2022-07-07T20:24:36.744Z"
   },
   {
    "duration": 369,
    "start_time": "2022-07-07T20:24:37.464Z"
   },
   {
    "duration": 27,
    "start_time": "2022-07-07T20:24:37.836Z"
   },
   {
    "duration": 48,
    "start_time": "2022-07-07T20:24:37.864Z"
   },
   {
    "duration": 12,
    "start_time": "2022-07-07T20:24:37.913Z"
   },
   {
    "duration": 115,
    "start_time": "2022-07-07T20:24:37.926Z"
   },
   {
    "duration": 557,
    "start_time": "2022-07-07T20:24:38.043Z"
   },
   {
    "duration": 341,
    "start_time": "2022-07-07T20:24:38.604Z"
   },
   {
    "duration": 429,
    "start_time": "2022-07-07T20:24:38.949Z"
   },
   {
    "duration": 0,
    "start_time": "2022-07-07T20:24:39.380Z"
   },
   {
    "duration": 0,
    "start_time": "2022-07-07T20:24:39.381Z"
   },
   {
    "duration": 0,
    "start_time": "2022-07-07T20:24:39.382Z"
   },
   {
    "duration": 0,
    "start_time": "2022-07-07T20:24:39.384Z"
   },
   {
    "duration": 0,
    "start_time": "2022-07-07T20:24:39.385Z"
   },
   {
    "duration": 0,
    "start_time": "2022-07-07T20:24:39.386Z"
   },
   {
    "duration": 0,
    "start_time": "2022-07-07T20:24:39.388Z"
   },
   {
    "duration": 0,
    "start_time": "2022-07-07T20:24:39.389Z"
   },
   {
    "duration": 0,
    "start_time": "2022-07-07T20:24:39.392Z"
   },
   {
    "duration": 0,
    "start_time": "2022-07-07T20:24:39.393Z"
   },
   {
    "duration": 0,
    "start_time": "2022-07-07T20:24:39.394Z"
   },
   {
    "duration": 0,
    "start_time": "2022-07-07T20:24:39.396Z"
   },
   {
    "duration": 0,
    "start_time": "2022-07-07T20:24:39.397Z"
   },
   {
    "duration": 0,
    "start_time": "2022-07-07T20:24:39.398Z"
   },
   {
    "duration": 0,
    "start_time": "2022-07-07T20:24:39.399Z"
   },
   {
    "duration": 0,
    "start_time": "2022-07-07T20:24:39.401Z"
   },
   {
    "duration": 0,
    "start_time": "2022-07-07T20:24:39.402Z"
   },
   {
    "duration": 0,
    "start_time": "2022-07-07T20:24:39.404Z"
   },
   {
    "duration": 0,
    "start_time": "2022-07-07T20:24:39.405Z"
   },
   {
    "duration": 0,
    "start_time": "2022-07-07T20:24:39.407Z"
   },
   {
    "duration": 0,
    "start_time": "2022-07-07T20:24:39.408Z"
   },
   {
    "duration": 0,
    "start_time": "2022-07-07T20:24:39.409Z"
   },
   {
    "duration": 0,
    "start_time": "2022-07-07T20:24:39.411Z"
   },
   {
    "duration": 1459,
    "start_time": "2022-07-07T20:25:03.012Z"
   },
   {
    "duration": 684,
    "start_time": "2022-07-07T20:25:04.473Z"
   },
   {
    "duration": 349,
    "start_time": "2022-07-07T20:25:05.158Z"
   },
   {
    "duration": 22,
    "start_time": "2022-07-07T20:25:05.509Z"
   },
   {
    "duration": 15,
    "start_time": "2022-07-07T20:25:05.533Z"
   },
   {
    "duration": 15,
    "start_time": "2022-07-07T20:25:05.549Z"
   },
   {
    "duration": 115,
    "start_time": "2022-07-07T20:25:05.566Z"
   },
   {
    "duration": 535,
    "start_time": "2022-07-07T20:25:05.682Z"
   },
   {
    "duration": 295,
    "start_time": "2022-07-07T20:25:06.218Z"
   },
   {
    "duration": 441,
    "start_time": "2022-07-07T20:25:06.516Z"
   },
   {
    "duration": 0,
    "start_time": "2022-07-07T20:25:06.959Z"
   },
   {
    "duration": 0,
    "start_time": "2022-07-07T20:25:06.961Z"
   },
   {
    "duration": 0,
    "start_time": "2022-07-07T20:25:06.962Z"
   },
   {
    "duration": 1,
    "start_time": "2022-07-07T20:25:06.963Z"
   },
   {
    "duration": 0,
    "start_time": "2022-07-07T20:25:06.965Z"
   },
   {
    "duration": 0,
    "start_time": "2022-07-07T20:25:06.966Z"
   },
   {
    "duration": 0,
    "start_time": "2022-07-07T20:25:06.968Z"
   },
   {
    "duration": 0,
    "start_time": "2022-07-07T20:25:06.970Z"
   },
   {
    "duration": 0,
    "start_time": "2022-07-07T20:25:06.971Z"
   },
   {
    "duration": 0,
    "start_time": "2022-07-07T20:25:06.972Z"
   },
   {
    "duration": 0,
    "start_time": "2022-07-07T20:25:06.974Z"
   },
   {
    "duration": 0,
    "start_time": "2022-07-07T20:25:06.975Z"
   },
   {
    "duration": 0,
    "start_time": "2022-07-07T20:25:06.977Z"
   },
   {
    "duration": 0,
    "start_time": "2022-07-07T20:25:06.978Z"
   },
   {
    "duration": 0,
    "start_time": "2022-07-07T20:25:06.979Z"
   },
   {
    "duration": 0,
    "start_time": "2022-07-07T20:25:06.980Z"
   },
   {
    "duration": 0,
    "start_time": "2022-07-07T20:25:06.982Z"
   },
   {
    "duration": 0,
    "start_time": "2022-07-07T20:25:06.983Z"
   },
   {
    "duration": 0,
    "start_time": "2022-07-07T20:25:06.985Z"
   },
   {
    "duration": 0,
    "start_time": "2022-07-07T20:25:06.986Z"
   },
   {
    "duration": 0,
    "start_time": "2022-07-07T20:25:06.987Z"
   },
   {
    "duration": 0,
    "start_time": "2022-07-07T20:25:06.988Z"
   },
   {
    "duration": 0,
    "start_time": "2022-07-07T20:25:06.990Z"
   },
   {
    "duration": 375,
    "start_time": "2022-07-07T20:25:35.858Z"
   },
   {
    "duration": 1441,
    "start_time": "2022-07-07T20:26:04.084Z"
   },
   {
    "duration": 677,
    "start_time": "2022-07-07T20:26:05.527Z"
   },
   {
    "duration": 336,
    "start_time": "2022-07-07T20:26:06.205Z"
   },
   {
    "duration": 25,
    "start_time": "2022-07-07T20:26:06.543Z"
   },
   {
    "duration": 46,
    "start_time": "2022-07-07T20:26:06.571Z"
   },
   {
    "duration": 17,
    "start_time": "2022-07-07T20:26:06.619Z"
   },
   {
    "duration": 113,
    "start_time": "2022-07-07T20:26:06.637Z"
   },
   {
    "duration": 533,
    "start_time": "2022-07-07T20:26:06.751Z"
   },
   {
    "duration": 304,
    "start_time": "2022-07-07T20:26:07.285Z"
   },
   {
    "duration": 28,
    "start_time": "2022-07-07T20:26:07.590Z"
   },
   {
    "duration": 9,
    "start_time": "2022-07-07T20:26:07.619Z"
   },
   {
    "duration": 13,
    "start_time": "2022-07-07T20:26:07.630Z"
   },
   {
    "duration": 266,
    "start_time": "2022-07-07T20:26:07.644Z"
   },
   {
    "duration": 4,
    "start_time": "2022-07-07T20:26:07.913Z"
   },
   {
    "duration": 503,
    "start_time": "2022-07-07T20:26:07.918Z"
   },
   {
    "duration": 3,
    "start_time": "2022-07-07T20:26:08.422Z"
   },
   {
    "duration": 744,
    "start_time": "2022-07-07T20:26:08.427Z"
   },
   {
    "duration": 310,
    "start_time": "2022-07-07T20:26:09.172Z"
   },
   {
    "duration": 3,
    "start_time": "2022-07-07T20:26:09.484Z"
   },
   {
    "duration": 35,
    "start_time": "2022-07-07T20:26:09.489Z"
   },
   {
    "duration": 23,
    "start_time": "2022-07-07T20:26:09.526Z"
   },
   {
    "duration": 11,
    "start_time": "2022-07-07T20:26:09.550Z"
   },
   {
    "duration": 5,
    "start_time": "2022-07-07T20:26:09.562Z"
   },
   {
    "duration": 13541,
    "start_time": "2022-07-07T20:26:09.569Z"
   },
   {
    "duration": 3501,
    "start_time": "2022-07-07T20:26:23.112Z"
   },
   {
    "duration": 7,
    "start_time": "2022-07-07T20:26:26.705Z"
   },
   {
    "duration": 1416,
    "start_time": "2022-07-07T20:26:44.946Z"
   },
   {
    "duration": 728,
    "start_time": "2022-07-07T20:26:46.365Z"
   },
   {
    "duration": 326,
    "start_time": "2022-07-07T20:26:47.094Z"
   },
   {
    "duration": 21,
    "start_time": "2022-07-07T20:26:47.422Z"
   },
   {
    "duration": 15,
    "start_time": "2022-07-07T20:26:47.444Z"
   },
   {
    "duration": 14,
    "start_time": "2022-07-07T20:26:47.461Z"
   },
   {
    "duration": 87,
    "start_time": "2022-07-07T20:26:47.504Z"
   },
   {
    "duration": 546,
    "start_time": "2022-07-07T20:26:47.603Z"
   },
   {
    "duration": 308,
    "start_time": "2022-07-07T20:26:48.151Z"
   },
   {
    "duration": 4,
    "start_time": "2022-07-07T20:26:48.462Z"
   },
   {
    "duration": 12,
    "start_time": "2022-07-07T20:26:48.468Z"
   },
   {
    "duration": 253,
    "start_time": "2022-07-07T20:26:48.481Z"
   },
   {
    "duration": 4,
    "start_time": "2022-07-07T20:26:48.735Z"
   },
   {
    "duration": 452,
    "start_time": "2022-07-07T20:26:48.740Z"
   },
   {
    "duration": 3,
    "start_time": "2022-07-07T20:26:49.194Z"
   },
   {
    "duration": 695,
    "start_time": "2022-07-07T20:26:49.203Z"
   },
   {
    "duration": 339,
    "start_time": "2022-07-07T20:26:49.903Z"
   },
   {
    "duration": 4,
    "start_time": "2022-07-07T20:26:50.244Z"
   },
   {
    "duration": 24,
    "start_time": "2022-07-07T20:26:50.249Z"
   },
   {
    "duration": 29,
    "start_time": "2022-07-07T20:26:50.275Z"
   },
   {
    "duration": 11,
    "start_time": "2022-07-07T20:26:50.306Z"
   },
   {
    "duration": 6,
    "start_time": "2022-07-07T20:26:50.318Z"
   },
   {
    "duration": 12684,
    "start_time": "2022-07-07T20:26:50.325Z"
   },
   {
    "duration": 4091,
    "start_time": "2022-07-07T20:27:03.015Z"
   },
   {
    "duration": 102,
    "start_time": "2022-07-07T20:27:07.108Z"
   },
   {
    "duration": 21300,
    "start_time": "2022-07-07T20:27:07.212Z"
   },
   {
    "duration": 5292,
    "start_time": "2022-07-07T20:27:28.514Z"
   },
   {
    "duration": 94,
    "start_time": "2022-07-07T20:27:33.810Z"
   },
   {
    "duration": 100,
    "start_time": "2022-07-07T20:27:33.907Z"
   },
   {
    "duration": 99,
    "start_time": "2022-07-07T20:27:34.012Z"
   },
   {
    "duration": 92,
    "start_time": "2022-07-07T20:27:34.112Z"
   },
   {
    "duration": 100,
    "start_time": "2022-07-07T20:27:34.211Z"
   },
   {
    "duration": 1364,
    "start_time": "2022-07-07T20:28:07.967Z"
   },
   {
    "duration": 673,
    "start_time": "2022-07-07T20:28:09.333Z"
   },
   {
    "duration": 341,
    "start_time": "2022-07-07T20:28:10.008Z"
   },
   {
    "duration": 19,
    "start_time": "2022-07-07T20:28:10.352Z"
   },
   {
    "duration": 39,
    "start_time": "2022-07-07T20:28:10.373Z"
   },
   {
    "duration": 10,
    "start_time": "2022-07-07T20:28:10.413Z"
   },
   {
    "duration": 99,
    "start_time": "2022-07-07T20:28:10.425Z"
   },
   {
    "duration": 712,
    "start_time": "2022-07-07T20:28:10.525Z"
   },
   {
    "duration": 677,
    "start_time": "2022-07-07T20:28:11.238Z"
   },
   {
    "duration": 20,
    "start_time": "2022-07-07T20:28:11.918Z"
   },
   {
    "duration": 5,
    "start_time": "2022-07-07T20:28:11.939Z"
   },
   {
    "duration": 63,
    "start_time": "2022-07-07T20:28:11.945Z"
   },
   {
    "duration": 536,
    "start_time": "2022-07-07T20:28:12.010Z"
   },
   {
    "duration": 3,
    "start_time": "2022-07-07T20:28:12.548Z"
   },
   {
    "duration": 1019,
    "start_time": "2022-07-07T20:28:12.605Z"
   },
   {
    "duration": 3,
    "start_time": "2022-07-07T20:28:13.626Z"
   },
   {
    "duration": 1518,
    "start_time": "2022-07-07T20:28:13.630Z"
   },
   {
    "duration": 624,
    "start_time": "2022-07-07T20:28:15.203Z"
   },
   {
    "duration": 4,
    "start_time": "2022-07-07T20:28:15.829Z"
   },
   {
    "duration": 70,
    "start_time": "2022-07-07T20:28:15.834Z"
   },
   {
    "duration": 24,
    "start_time": "2022-07-07T20:28:15.906Z"
   },
   {
    "duration": 12,
    "start_time": "2022-07-07T20:28:15.932Z"
   },
   {
    "duration": 59,
    "start_time": "2022-07-07T20:28:15.945Z"
   },
   {
    "duration": 10807,
    "start_time": "2022-07-07T20:28:16.007Z"
   },
   {
    "duration": 2797,
    "start_time": "2022-07-07T20:28:26.816Z"
   },
   {
    "duration": 97,
    "start_time": "2022-07-07T20:28:29.614Z"
   },
   {
    "duration": 18204,
    "start_time": "2022-07-07T20:28:29.714Z"
   },
   {
    "duration": 6,
    "start_time": "2022-07-07T20:28:48.007Z"
   },
   {
    "duration": 5491,
    "start_time": "2022-07-07T20:28:48.015Z"
   },
   {
    "duration": 6,
    "start_time": "2022-07-07T20:28:53.507Z"
   },
   {
    "duration": 7,
    "start_time": "2022-07-07T20:28:53.605Z"
   },
   {
    "duration": 95,
    "start_time": "2022-07-07T20:28:53.614Z"
   },
   {
    "duration": 97,
    "start_time": "2022-07-07T20:28:53.713Z"
   },
   {
    "duration": 197,
    "start_time": "2022-07-07T20:28:53.812Z"
   },
   {
    "duration": 1314,
    "start_time": "2022-07-07T20:29:21.616Z"
   },
   {
    "duration": 1379,
    "start_time": "2022-07-07T20:29:22.932Z"
   },
   {
    "duration": 433,
    "start_time": "2022-07-07T20:29:24.312Z"
   },
   {
    "duration": 21,
    "start_time": "2022-07-07T20:29:24.746Z"
   },
   {
    "duration": 42,
    "start_time": "2022-07-07T20:29:24.769Z"
   },
   {
    "duration": 12,
    "start_time": "2022-07-07T20:29:24.812Z"
   },
   {
    "duration": 109,
    "start_time": "2022-07-07T20:29:24.825Z"
   },
   {
    "duration": 585,
    "start_time": "2022-07-07T20:29:24.935Z"
   },
   {
    "duration": 302,
    "start_time": "2022-07-07T20:29:25.523Z"
   },
   {
    "duration": 20,
    "start_time": "2022-07-07T20:29:25.827Z"
   },
   {
    "duration": 7,
    "start_time": "2022-07-07T20:29:25.849Z"
   },
   {
    "duration": 17,
    "start_time": "2022-07-07T20:29:25.857Z"
   },
   {
    "duration": 284,
    "start_time": "2022-07-07T20:29:25.876Z"
   },
   {
    "duration": 3,
    "start_time": "2022-07-07T20:29:26.163Z"
   },
   {
    "duration": 575,
    "start_time": "2022-07-07T20:29:26.167Z"
   },
   {
    "duration": 4,
    "start_time": "2022-07-07T20:29:26.744Z"
   },
   {
    "duration": 775,
    "start_time": "2022-07-07T20:29:26.749Z"
   },
   {
    "duration": 329,
    "start_time": "2022-07-07T20:29:27.526Z"
   },
   {
    "duration": 5,
    "start_time": "2022-07-07T20:29:27.857Z"
   },
   {
    "duration": 23,
    "start_time": "2022-07-07T20:29:27.864Z"
   },
   {
    "duration": 29,
    "start_time": "2022-07-07T20:29:27.888Z"
   },
   {
    "duration": 12,
    "start_time": "2022-07-07T20:29:27.919Z"
   },
   {
    "duration": 7,
    "start_time": "2022-07-07T20:29:27.933Z"
   },
   {
    "duration": 13152,
    "start_time": "2022-07-07T20:29:27.942Z"
   },
   {
    "duration": 0,
    "start_time": "2022-07-07T20:29:41.095Z"
   },
   {
    "duration": 0,
    "start_time": "2022-07-07T20:29:41.104Z"
   },
   {
    "duration": 0,
    "start_time": "2022-07-07T20:29:41.105Z"
   },
   {
    "duration": 0,
    "start_time": "2022-07-07T20:29:41.106Z"
   },
   {
    "duration": 0,
    "start_time": "2022-07-07T20:29:41.107Z"
   },
   {
    "duration": 0,
    "start_time": "2022-07-07T20:29:41.108Z"
   },
   {
    "duration": 0,
    "start_time": "2022-07-07T20:29:41.109Z"
   },
   {
    "duration": 0,
    "start_time": "2022-07-07T20:29:41.110Z"
   },
   {
    "duration": 0,
    "start_time": "2022-07-07T20:29:41.111Z"
   },
   {
    "duration": 0,
    "start_time": "2022-07-07T20:29:41.112Z"
   },
   {
    "duration": 1373,
    "start_time": "2022-07-07T20:29:46.573Z"
   },
   {
    "duration": 680,
    "start_time": "2022-07-07T20:29:47.948Z"
   },
   {
    "duration": 318,
    "start_time": "2022-07-07T20:29:48.629Z"
   },
   {
    "duration": 21,
    "start_time": "2022-07-07T20:29:48.949Z"
   },
   {
    "duration": 40,
    "start_time": "2022-07-07T20:29:48.971Z"
   },
   {
    "duration": 11,
    "start_time": "2022-07-07T20:29:49.013Z"
   },
   {
    "duration": 108,
    "start_time": "2022-07-07T20:29:49.026Z"
   },
   {
    "duration": 1181,
    "start_time": "2022-07-07T20:29:49.136Z"
   },
   {
    "duration": 623,
    "start_time": "2022-07-07T20:29:50.319Z"
   },
   {
    "duration": 22,
    "start_time": "2022-07-07T20:29:50.945Z"
   },
   {
    "duration": 7,
    "start_time": "2022-07-07T20:29:50.969Z"
   },
   {
    "duration": 14,
    "start_time": "2022-07-07T20:29:51.005Z"
   },
   {
    "duration": 281,
    "start_time": "2022-07-07T20:29:51.021Z"
   },
   {
    "duration": 6,
    "start_time": "2022-07-07T20:29:51.304Z"
   },
   {
    "duration": 504,
    "start_time": "2022-07-07T20:29:51.312Z"
   },
   {
    "duration": 3,
    "start_time": "2022-07-07T20:29:51.818Z"
   },
   {
    "duration": 805,
    "start_time": "2022-07-07T20:29:51.823Z"
   },
   {
    "duration": 352,
    "start_time": "2022-07-07T20:29:52.630Z"
   },
   {
    "duration": 5,
    "start_time": "2022-07-07T20:29:52.984Z"
   },
   {
    "duration": 28,
    "start_time": "2022-07-07T20:29:52.991Z"
   },
   {
    "duration": 22,
    "start_time": "2022-07-07T20:29:53.020Z"
   },
   {
    "duration": 12,
    "start_time": "2022-07-07T20:29:53.044Z"
   },
   {
    "duration": 8,
    "start_time": "2022-07-07T20:29:53.057Z"
   },
   {
    "duration": 11742,
    "start_time": "2022-07-07T20:29:53.066Z"
   },
   {
    "duration": 4199,
    "start_time": "2022-07-07T20:30:04.810Z"
   },
   {
    "duration": 97,
    "start_time": "2022-07-07T20:30:09.014Z"
   },
   {
    "duration": 18597,
    "start_time": "2022-07-07T20:30:09.113Z"
   },
   {
    "duration": 92,
    "start_time": "2022-07-07T20:30:27.716Z"
   },
   {
    "duration": 5197,
    "start_time": "2022-07-07T20:30:27.809Z"
   },
   {
    "duration": 98,
    "start_time": "2022-07-07T20:30:33.007Z"
   },
   {
    "duration": 12,
    "start_time": "2022-07-07T20:30:33.106Z"
   },
   {
    "duration": 89,
    "start_time": "2022-07-07T20:30:33.119Z"
   },
   {
    "duration": 105,
    "start_time": "2022-07-07T20:30:33.210Z"
   },
   {
    "duration": 7,
    "start_time": "2022-07-07T20:30:33.404Z"
   },
   {
    "duration": 1302,
    "start_time": "2022-07-07T20:31:08.845Z"
   },
   {
    "duration": 698,
    "start_time": "2022-07-07T20:31:10.150Z"
   },
   {
    "duration": 326,
    "start_time": "2022-07-07T20:31:10.850Z"
   },
   {
    "duration": 38,
    "start_time": "2022-07-07T20:31:11.179Z"
   },
   {
    "duration": 15,
    "start_time": "2022-07-07T20:31:11.219Z"
   },
   {
    "duration": 11,
    "start_time": "2022-07-07T20:31:11.235Z"
   },
   {
    "duration": 119,
    "start_time": "2022-07-07T20:31:11.248Z"
   },
   {
    "duration": 553,
    "start_time": "2022-07-07T20:31:11.369Z"
   },
   {
    "duration": 314,
    "start_time": "2022-07-07T20:31:11.924Z"
   },
   {
    "duration": 6,
    "start_time": "2022-07-07T20:31:12.241Z"
   },
   {
    "duration": 13,
    "start_time": "2022-07-07T20:31:12.249Z"
   },
   {
    "duration": 277,
    "start_time": "2022-07-07T20:31:12.264Z"
   },
   {
    "duration": 4,
    "start_time": "2022-07-07T20:31:12.543Z"
   },
   {
    "duration": 474,
    "start_time": "2022-07-07T20:31:12.549Z"
   },
   {
    "duration": 3,
    "start_time": "2022-07-07T20:31:13.025Z"
   },
   {
    "duration": 748,
    "start_time": "2022-07-07T20:31:13.030Z"
   },
   {
    "duration": 333,
    "start_time": "2022-07-07T20:31:13.780Z"
   },
   {
    "duration": 5,
    "start_time": "2022-07-07T20:31:14.115Z"
   },
   {
    "duration": 20,
    "start_time": "2022-07-07T20:31:14.121Z"
   },
   {
    "duration": 23,
    "start_time": "2022-07-07T20:31:14.143Z"
   },
   {
    "duration": 10,
    "start_time": "2022-07-07T20:31:14.168Z"
   },
   {
    "duration": 27,
    "start_time": "2022-07-07T20:31:14.180Z"
   },
   {
    "duration": 15599,
    "start_time": "2022-07-07T20:31:14.209Z"
   },
   {
    "duration": 4202,
    "start_time": "2022-07-07T20:31:29.810Z"
   },
   {
    "duration": 96,
    "start_time": "2022-07-07T20:31:34.014Z"
   },
   {
    "duration": 21401,
    "start_time": "2022-07-07T20:31:34.111Z"
   },
   {
    "duration": 90,
    "start_time": "2022-07-07T20:31:55.517Z"
   },
   {
    "duration": 5195,
    "start_time": "2022-07-07T20:31:55.611Z"
   },
   {
    "duration": 6,
    "start_time": "2022-07-07T20:32:00.808Z"
   },
   {
    "duration": 107,
    "start_time": "2022-07-07T20:32:00.905Z"
   },
   {
    "duration": 5,
    "start_time": "2022-07-07T20:32:01.105Z"
   },
   {
    "duration": 108,
    "start_time": "2022-07-07T20:32:01.112Z"
   },
   {
    "duration": 21,
    "start_time": "2022-07-07T20:32:01.222Z"
   },
   {
    "duration": 58,
    "start_time": "2022-07-07T20:32:01.247Z"
   },
   {
    "duration": 97,
    "start_time": "2022-07-07T20:32:01.308Z"
   },
   {
    "duration": 3,
    "start_time": "2022-07-07T20:32:44.888Z"
   },
   {
    "duration": 724,
    "start_time": "2022-07-07T20:32:44.895Z"
   },
   {
    "duration": 313,
    "start_time": "2022-07-07T20:32:45.621Z"
   },
   {
    "duration": 23,
    "start_time": "2022-07-07T20:32:45.936Z"
   },
   {
    "duration": 47,
    "start_time": "2022-07-07T20:32:45.961Z"
   },
   {
    "duration": 13,
    "start_time": "2022-07-07T20:32:46.010Z"
   },
   {
    "duration": 102,
    "start_time": "2022-07-07T20:32:46.026Z"
   },
   {
    "duration": 646,
    "start_time": "2022-07-07T20:32:46.130Z"
   },
   {
    "duration": 107,
    "start_time": "2022-07-07T20:33:07.722Z"
   },
   {
    "duration": 1231,
    "start_time": "2022-07-07T20:34:14.430Z"
   },
   {
    "duration": 1370,
    "start_time": "2022-07-07T20:34:43.155Z"
   },
   {
    "duration": 1440,
    "start_time": "2022-07-07T20:34:44.527Z"
   },
   {
    "duration": 373,
    "start_time": "2022-07-07T20:34:45.969Z"
   },
   {
    "duration": 23,
    "start_time": "2022-07-07T20:34:46.344Z"
   },
   {
    "duration": 45,
    "start_time": "2022-07-07T20:34:46.369Z"
   },
   {
    "duration": 17,
    "start_time": "2022-07-07T20:34:46.416Z"
   },
   {
    "duration": 204,
    "start_time": "2022-07-07T20:34:46.435Z"
   },
   {
    "duration": 1169,
    "start_time": "2022-07-07T20:34:46.642Z"
   },
   {
    "duration": 544,
    "start_time": "2022-07-07T20:34:47.812Z"
   },
   {
    "duration": 45,
    "start_time": "2022-07-07T20:34:48.359Z"
   },
   {
    "duration": 7,
    "start_time": "2022-07-07T20:34:48.406Z"
   },
   {
    "duration": 348,
    "start_time": "2022-07-07T20:34:48.414Z"
   },
   {
    "duration": 4,
    "start_time": "2022-07-07T20:34:48.764Z"
   },
   {
    "duration": 417,
    "start_time": "2022-07-07T20:34:48.770Z"
   },
   {
    "duration": 3,
    "start_time": "2022-07-07T20:34:49.189Z"
   },
   {
    "duration": 770,
    "start_time": "2022-07-07T20:34:49.203Z"
   },
   {
    "duration": 294,
    "start_time": "2022-07-07T20:34:49.974Z"
   },
   {
    "duration": 4,
    "start_time": "2022-07-07T20:34:50.270Z"
   },
   {
    "duration": 16,
    "start_time": "2022-07-07T20:34:50.276Z"
   },
   {
    "duration": 19,
    "start_time": "2022-07-07T20:34:50.293Z"
   },
   {
    "duration": 11,
    "start_time": "2022-07-07T20:34:50.314Z"
   },
   {
    "duration": 6,
    "start_time": "2022-07-07T20:34:50.327Z"
   },
   {
    "duration": 225,
    "start_time": "2022-07-07T20:34:50.334Z"
   },
   {
    "duration": 0,
    "start_time": "2022-07-07T20:34:50.561Z"
   },
   {
    "duration": 0,
    "start_time": "2022-07-07T20:34:50.562Z"
   },
   {
    "duration": 0,
    "start_time": "2022-07-07T20:34:50.563Z"
   },
   {
    "duration": 0,
    "start_time": "2022-07-07T20:34:50.564Z"
   },
   {
    "duration": 0,
    "start_time": "2022-07-07T20:34:50.565Z"
   },
   {
    "duration": 0,
    "start_time": "2022-07-07T20:34:50.565Z"
   },
   {
    "duration": 0,
    "start_time": "2022-07-07T20:34:50.566Z"
   },
   {
    "duration": 0,
    "start_time": "2022-07-07T20:34:50.567Z"
   },
   {
    "duration": 0,
    "start_time": "2022-07-07T20:34:50.568Z"
   },
   {
    "duration": 0,
    "start_time": "2022-07-07T20:34:50.569Z"
   },
   {
    "duration": 0,
    "start_time": "2022-07-07T20:34:50.570Z"
   },
   {
    "duration": 0,
    "start_time": "2022-07-07T20:34:50.571Z"
   },
   {
    "duration": 20,
    "start_time": "2022-07-07T20:35:35.318Z"
   },
   {
    "duration": 6,
    "start_time": "2022-07-07T20:35:47.744Z"
   },
   {
    "duration": 4,
    "start_time": "2022-07-07T20:35:52.356Z"
   },
   {
    "duration": 721,
    "start_time": "2022-07-07T20:35:52.363Z"
   },
   {
    "duration": 318,
    "start_time": "2022-07-07T20:35:53.086Z"
   },
   {
    "duration": 26,
    "start_time": "2022-07-07T20:35:53.405Z"
   },
   {
    "duration": 27,
    "start_time": "2022-07-07T20:35:53.434Z"
   },
   {
    "duration": 28,
    "start_time": "2022-07-07T20:35:53.463Z"
   },
   {
    "duration": 92,
    "start_time": "2022-07-07T20:35:53.493Z"
   },
   {
    "duration": 521,
    "start_time": "2022-07-07T20:35:53.588Z"
   },
   {
    "duration": 8,
    "start_time": "2022-07-07T20:36:02.227Z"
   },
   {
    "duration": 7,
    "start_time": "2022-07-07T20:36:11.637Z"
   },
   {
    "duration": 1346,
    "start_time": "2022-07-07T20:36:30.562Z"
   },
   {
    "duration": 671,
    "start_time": "2022-07-07T20:36:31.910Z"
   },
   {
    "duration": 337,
    "start_time": "2022-07-07T20:36:32.583Z"
   },
   {
    "duration": 21,
    "start_time": "2022-07-07T20:36:32.922Z"
   },
   {
    "duration": 15,
    "start_time": "2022-07-07T20:36:32.945Z"
   },
   {
    "duration": 42,
    "start_time": "2022-07-07T20:36:32.962Z"
   },
   {
    "duration": 103,
    "start_time": "2022-07-07T20:36:33.005Z"
   },
   {
    "duration": 922,
    "start_time": "2022-07-07T20:36:33.109Z"
   },
   {
    "duration": 2103,
    "start_time": "2022-07-07T20:36:34.033Z"
   },
   {
    "duration": 6,
    "start_time": "2022-07-07T20:36:36.139Z"
   },
   {
    "duration": 63,
    "start_time": "2022-07-07T20:36:36.146Z"
   },
   {
    "duration": 518,
    "start_time": "2022-07-07T20:36:36.211Z"
   },
   {
    "duration": 4,
    "start_time": "2022-07-07T20:36:36.730Z"
   },
   {
    "duration": 598,
    "start_time": "2022-07-07T20:36:36.736Z"
   },
   {
    "duration": 3,
    "start_time": "2022-07-07T20:36:37.335Z"
   },
   {
    "duration": 719,
    "start_time": "2022-07-07T20:36:37.340Z"
   },
   {
    "duration": 290,
    "start_time": "2022-07-07T20:36:38.061Z"
   },
   {
    "duration": 4,
    "start_time": "2022-07-07T20:36:38.353Z"
   },
   {
    "duration": 17,
    "start_time": "2022-07-07T20:36:38.358Z"
   },
   {
    "duration": 15,
    "start_time": "2022-07-07T20:36:38.376Z"
   },
   {
    "duration": 11,
    "start_time": "2022-07-07T20:36:38.403Z"
   },
   {
    "duration": 11,
    "start_time": "2022-07-07T20:36:38.415Z"
   },
   {
    "duration": 6978,
    "start_time": "2022-07-07T20:36:38.427Z"
   },
   {
    "duration": 2204,
    "start_time": "2022-07-07T20:36:45.407Z"
   },
   {
    "duration": 95,
    "start_time": "2022-07-07T20:36:47.613Z"
   },
   {
    "duration": 7895,
    "start_time": "2022-07-07T20:36:47.710Z"
   },
   {
    "duration": 4,
    "start_time": "2022-07-07T20:36:55.606Z"
   },
   {
    "duration": 2698,
    "start_time": "2022-07-07T20:36:55.614Z"
   },
   {
    "duration": 94,
    "start_time": "2022-07-07T20:36:58.314Z"
   },
   {
    "duration": 106,
    "start_time": "2022-07-07T20:36:58.410Z"
   },
   {
    "duration": 89,
    "start_time": "2022-07-07T20:36:58.518Z"
   },
   {
    "duration": 98,
    "start_time": "2022-07-07T20:36:58.608Z"
   },
   {
    "duration": 9,
    "start_time": "2022-07-07T20:36:58.708Z"
   },
   {
    "duration": 89,
    "start_time": "2022-07-07T20:36:58.719Z"
   },
   {
    "duration": 99,
    "start_time": "2022-07-07T20:36:58.812Z"
   },
   {
    "duration": 301,
    "start_time": "2022-07-07T20:37:35.909Z"
   },
   {
    "duration": 425,
    "start_time": "2022-07-07T20:37:37.877Z"
   },
   {
    "duration": 1315,
    "start_time": "2022-07-07T20:37:42.522Z"
   },
   {
    "duration": 681,
    "start_time": "2022-07-07T20:37:43.839Z"
   },
   {
    "duration": 350,
    "start_time": "2022-07-07T20:37:44.521Z"
   },
   {
    "duration": 40,
    "start_time": "2022-07-07T20:37:44.872Z"
   },
   {
    "duration": 16,
    "start_time": "2022-07-07T20:37:44.915Z"
   },
   {
    "duration": 19,
    "start_time": "2022-07-07T20:37:44.933Z"
   },
   {
    "duration": 122,
    "start_time": "2022-07-07T20:37:44.954Z"
   },
   {
    "duration": 597,
    "start_time": "2022-07-07T20:37:45.078Z"
   },
   {
    "duration": 319,
    "start_time": "2022-07-07T20:37:45.677Z"
   },
   {
    "duration": 26,
    "start_time": "2022-07-07T20:37:45.998Z"
   },
   {
    "duration": 5,
    "start_time": "2022-07-07T20:37:46.026Z"
   },
   {
    "duration": 13,
    "start_time": "2022-07-07T20:37:46.032Z"
   },
   {
    "duration": 292,
    "start_time": "2022-07-07T20:37:46.047Z"
   },
   {
    "duration": 5,
    "start_time": "2022-07-07T20:37:46.344Z"
   },
   {
    "duration": 516,
    "start_time": "2022-07-07T20:37:46.350Z"
   },
   {
    "duration": 4,
    "start_time": "2022-07-07T20:37:46.868Z"
   },
   {
    "duration": 750,
    "start_time": "2022-07-07T20:37:46.873Z"
   },
   {
    "duration": 310,
    "start_time": "2022-07-07T20:37:47.624Z"
   },
   {
    "duration": 4,
    "start_time": "2022-07-07T20:37:47.936Z"
   },
   {
    "duration": 18,
    "start_time": "2022-07-07T20:37:47.941Z"
   },
   {
    "duration": 19,
    "start_time": "2022-07-07T20:37:47.961Z"
   },
   {
    "duration": 27,
    "start_time": "2022-07-07T20:37:47.981Z"
   },
   {
    "duration": 6,
    "start_time": "2022-07-07T20:37:48.009Z"
   },
   {
    "duration": 10894,
    "start_time": "2022-07-07T20:37:48.017Z"
   },
   {
    "duration": 2991,
    "start_time": "2022-07-07T20:37:58.915Z"
   },
   {
    "duration": 96,
    "start_time": "2022-07-07T20:38:01.908Z"
   },
   {
    "duration": 18600,
    "start_time": "2022-07-07T20:38:02.007Z"
   },
   {
    "duration": 95,
    "start_time": "2022-07-07T20:38:20.609Z"
   },
   {
    "duration": 5200,
    "start_time": "2022-07-07T20:38:20.707Z"
   },
   {
    "duration": 97,
    "start_time": "2022-07-07T20:38:25.908Z"
   },
   {
    "duration": 97,
    "start_time": "2022-07-07T20:38:26.007Z"
   },
   {
    "duration": 102,
    "start_time": "2022-07-07T20:38:26.110Z"
   },
   {
    "duration": 13,
    "start_time": "2022-07-07T20:38:26.213Z"
   },
   {
    "duration": 76,
    "start_time": "2022-07-07T20:38:26.228Z"
   },
   {
    "duration": 96,
    "start_time": "2022-07-07T20:38:26.308Z"
   },
   {
    "duration": 6,
    "start_time": "2022-07-07T20:38:26.407Z"
   },
   {
    "duration": 299,
    "start_time": "2022-07-07T20:39:27.879Z"
   },
   {
    "duration": 271,
    "start_time": "2022-07-07T20:40:32.384Z"
   },
   {
    "duration": 291,
    "start_time": "2022-07-07T20:41:34.271Z"
   },
   {
    "duration": 286,
    "start_time": "2022-07-07T20:41:52.055Z"
   },
   {
    "duration": 273,
    "start_time": "2022-07-07T20:42:32.485Z"
   },
   {
    "duration": 271,
    "start_time": "2022-07-07T20:42:45.100Z"
   },
   {
    "duration": 1517,
    "start_time": "2022-07-08T09:55:13.265Z"
   },
   {
    "duration": 3322,
    "start_time": "2022-07-08T09:55:14.784Z"
   },
   {
    "duration": 338,
    "start_time": "2022-07-08T09:55:18.108Z"
   },
   {
    "duration": 21,
    "start_time": "2022-07-08T09:55:18.449Z"
   },
   {
    "duration": 41,
    "start_time": "2022-07-08T09:55:18.472Z"
   },
   {
    "duration": 12,
    "start_time": "2022-07-08T09:55:18.514Z"
   },
   {
    "duration": 101,
    "start_time": "2022-07-08T09:55:18.527Z"
   },
   {
    "duration": 579,
    "start_time": "2022-07-08T09:55:18.630Z"
   },
   {
    "duration": 329,
    "start_time": "2022-07-08T09:55:19.212Z"
   },
   {
    "duration": 22,
    "start_time": "2022-07-08T09:55:19.543Z"
   },
   {
    "duration": 7,
    "start_time": "2022-07-08T09:55:19.566Z"
   },
   {
    "duration": 11,
    "start_time": "2022-07-08T09:55:19.574Z"
   },
   {
    "duration": 277,
    "start_time": "2022-07-08T09:55:19.604Z"
   },
   {
    "duration": 274,
    "start_time": "2022-07-08T09:55:19.882Z"
   },
   {
    "duration": 5,
    "start_time": "2022-07-08T09:55:20.158Z"
   },
   {
    "duration": 541,
    "start_time": "2022-07-08T09:55:20.165Z"
   },
   {
    "duration": 4,
    "start_time": "2022-07-08T09:55:20.708Z"
   },
   {
    "duration": 756,
    "start_time": "2022-07-08T09:55:20.713Z"
   },
   {
    "duration": 324,
    "start_time": "2022-07-08T09:55:21.472Z"
   },
   {
    "duration": 8,
    "start_time": "2022-07-08T09:55:21.798Z"
   },
   {
    "duration": 22,
    "start_time": "2022-07-08T09:55:21.808Z"
   },
   {
    "duration": 25,
    "start_time": "2022-07-08T09:55:21.832Z"
   },
   {
    "duration": 12,
    "start_time": "2022-07-08T09:55:21.859Z"
   },
   {
    "duration": 35,
    "start_time": "2022-07-08T09:55:21.873Z"
   },
   {
    "duration": 10390,
    "start_time": "2022-07-08T09:55:25.718Z"
   },
   {
    "duration": 112,
    "start_time": "2022-07-08T09:55:39.040Z"
   },
   {
    "duration": 5,
    "start_time": "2022-07-08T09:56:18.122Z"
   },
   {
    "duration": 10,
    "start_time": "2022-07-08T09:56:26.821Z"
   },
   {
    "duration": 8,
    "start_time": "2022-07-08T09:56:58.255Z"
   },
   {
    "duration": 4,
    "start_time": "2022-07-08T09:57:08.760Z"
   },
   {
    "duration": 6,
    "start_time": "2022-07-08T09:57:32.389Z"
   },
   {
    "duration": 3,
    "start_time": "2022-07-08T09:58:25.583Z"
   },
   {
    "duration": 9,
    "start_time": "2022-07-08T09:58:29.884Z"
   },
   {
    "duration": 10,
    "start_time": "2022-07-08T09:59:08.821Z"
   },
   {
    "duration": 5,
    "start_time": "2022-07-08T09:59:59.519Z"
   },
   {
    "duration": 426,
    "start_time": "2022-07-08T10:00:25.115Z"
   },
   {
    "duration": 7,
    "start_time": "2022-07-08T10:00:32.398Z"
   },
   {
    "duration": 10,
    "start_time": "2022-07-08T10:00:40.103Z"
   },
   {
    "duration": 5,
    "start_time": "2022-07-08T10:00:59.217Z"
   },
   {
    "duration": 6,
    "start_time": "2022-07-08T10:01:07.022Z"
   },
   {
    "duration": 14,
    "start_time": "2022-07-08T10:01:12.873Z"
   },
   {
    "duration": 6,
    "start_time": "2022-07-08T10:01:16.521Z"
   },
   {
    "duration": 10,
    "start_time": "2022-07-08T10:02:01.939Z"
   },
   {
    "duration": 2325,
    "start_time": "2022-07-08T10:02:05.486Z"
   },
   {
    "duration": 13,
    "start_time": "2022-07-08T10:02:21.385Z"
   },
   {
    "duration": 5745,
    "start_time": "2022-07-08T10:02:28.664Z"
   },
   {
    "duration": 171902,
    "start_time": "2022-07-08T10:02:53.538Z"
   },
   {
    "duration": 6,
    "start_time": "2022-07-08T10:05:52.735Z"
   },
   {
    "duration": 16,
    "start_time": "2022-07-08T10:06:02.229Z"
   },
   {
    "duration": 23,
    "start_time": "2022-07-08T10:06:17.286Z"
   },
   {
    "duration": 7,
    "start_time": "2022-07-08T10:06:38.724Z"
   },
   {
    "duration": 21609,
    "start_time": "2022-07-08T10:06:41.903Z"
   },
   {
    "duration": 13,
    "start_time": "2022-07-08T10:07:09.529Z"
   },
   {
    "duration": 33,
    "start_time": "2022-07-08T10:07:47.804Z"
   },
   {
    "duration": 12,
    "start_time": "2022-07-08T10:08:22.984Z"
   },
   {
    "duration": 11,
    "start_time": "2022-07-08T10:09:00.758Z"
   },
   {
    "duration": 16,
    "start_time": "2022-07-08T10:09:24.663Z"
   },
   {
    "duration": 9,
    "start_time": "2022-07-08T10:09:43.703Z"
   },
   {
    "duration": 12,
    "start_time": "2022-07-08T10:10:31.587Z"
   },
   {
    "duration": 329950,
    "start_time": "2022-07-08T10:10:36.199Z"
   },
   {
    "duration": 77,
    "start_time": "2022-07-08T10:16:06.150Z"
   },
   {
    "duration": 16,
    "start_time": "2022-07-08T10:16:17.171Z"
   },
   {
    "duration": 32,
    "start_time": "2022-07-08T10:16:26.471Z"
   },
   {
    "duration": 10,
    "start_time": "2022-07-08T10:18:01.678Z"
   },
   {
    "duration": 75,
    "start_time": "2022-07-08T10:18:09.637Z"
   },
   {
    "duration": 4,
    "start_time": "2022-07-08T10:18:17.198Z"
   },
   {
    "duration": 898,
    "start_time": "2022-07-08T10:18:28.857Z"
   },
   {
    "duration": 258,
    "start_time": "2022-07-08T10:18:46.374Z"
   },
   {
    "duration": 240,
    "start_time": "2022-07-08T10:19:48.910Z"
   },
   {
    "duration": 27,
    "start_time": "2022-07-08T10:20:01.670Z"
   },
   {
    "duration": 1107,
    "start_time": "2022-07-08T10:20:13.457Z"
   },
   {
    "duration": 1071,
    "start_time": "2022-07-08T10:20:23.137Z"
   },
   {
    "duration": 1084,
    "start_time": "2022-07-08T10:21:04.657Z"
   },
   {
    "duration": 8,
    "start_time": "2022-07-08T10:22:08.778Z"
   },
   {
    "duration": 16,
    "start_time": "2022-07-08T10:22:12.311Z"
   },
   {
    "duration": 1115,
    "start_time": "2022-07-08T10:22:51.677Z"
   },
   {
    "duration": 1101,
    "start_time": "2022-07-08T10:22:59.315Z"
   },
   {
    "duration": 5245,
    "start_time": "2022-07-08T10:23:09.766Z"
   },
   {
    "duration": 1141,
    "start_time": "2022-07-08T10:23:28.816Z"
   },
   {
    "duration": 4928,
    "start_time": "2022-07-08T11:45:01.979Z"
   },
   {
    "duration": 52383,
    "start_time": "2022-07-08T11:45:18.129Z"
   },
   {
    "duration": 12,
    "start_time": "2022-07-08T11:46:32.748Z"
   },
   {
    "duration": 7,
    "start_time": "2022-07-08T11:47:03.480Z"
   },
   {
    "duration": 7930,
    "start_time": "2022-07-08T11:47:30.078Z"
   },
   {
    "duration": 8,
    "start_time": "2022-07-08T11:48:01.825Z"
   },
   {
    "duration": 7,
    "start_time": "2022-07-08T11:49:35.518Z"
   },
   {
    "duration": 8,
    "start_time": "2022-07-08T11:49:42.974Z"
   },
   {
    "duration": 5,
    "start_time": "2022-07-08T11:49:49.015Z"
   },
   {
    "duration": 6,
    "start_time": "2022-07-08T11:49:58.322Z"
   },
   {
    "duration": 6,
    "start_time": "2022-07-08T11:50:09.053Z"
   },
   {
    "duration": 5,
    "start_time": "2022-07-08T11:50:16.069Z"
   },
   {
    "duration": 72,
    "start_time": "2022-07-08T11:50:59.721Z"
   },
   {
    "duration": 5747,
    "start_time": "2022-07-08T11:51:08.560Z"
   },
   {
    "duration": 8,
    "start_time": "2022-07-08T11:51:52.370Z"
   },
   {
    "duration": 5877,
    "start_time": "2022-07-08T11:52:22.628Z"
   },
   {
    "duration": 11,
    "start_time": "2022-07-08T11:52:51.334Z"
   },
   {
    "duration": 4,
    "start_time": "2022-07-08T11:53:02.489Z"
   },
   {
    "duration": 12,
    "start_time": "2022-07-08T11:53:06.105Z"
   },
   {
    "duration": 5,
    "start_time": "2022-07-08T11:55:41.512Z"
   },
   {
    "duration": 26,
    "start_time": "2022-07-08T11:57:29.918Z"
   },
   {
    "duration": 11,
    "start_time": "2022-07-08T11:59:04.583Z"
   },
   {
    "duration": 15,
    "start_time": "2022-07-08T11:59:12.678Z"
   },
   {
    "duration": 4,
    "start_time": "2022-07-08T12:00:29.315Z"
   },
   {
    "duration": 25,
    "start_time": "2022-07-08T12:00:35.198Z"
   },
   {
    "duration": 147,
    "start_time": "2022-07-08T12:00:51.004Z"
   },
   {
    "duration": 127,
    "start_time": "2022-07-08T12:00:56.708Z"
   },
   {
    "duration": 29,
    "start_time": "2022-07-08T12:01:15.146Z"
   },
   {
    "duration": 25,
    "start_time": "2022-07-08T12:01:19.431Z"
   },
   {
    "duration": 26,
    "start_time": "2022-07-08T12:01:27.883Z"
   },
   {
    "duration": 24,
    "start_time": "2022-07-08T12:01:33.082Z"
   },
   {
    "duration": 25,
    "start_time": "2022-07-08T12:01:56.726Z"
   },
   {
    "duration": 26,
    "start_time": "2022-07-08T12:02:00.506Z"
   },
   {
    "duration": 146,
    "start_time": "2022-07-08T12:02:14.379Z"
   },
   {
    "duration": 128,
    "start_time": "2022-07-08T12:02:22.814Z"
   },
   {
    "duration": 26,
    "start_time": "2022-07-08T12:02:30.058Z"
   },
   {
    "duration": 29,
    "start_time": "2022-07-08T12:02:38.240Z"
   },
   {
    "duration": 29,
    "start_time": "2022-07-08T12:02:48.362Z"
   },
   {
    "duration": 25,
    "start_time": "2022-07-08T12:02:52.414Z"
   },
   {
    "duration": 150,
    "start_time": "2022-07-08T12:03:04.731Z"
   },
   {
    "duration": 138,
    "start_time": "2022-07-08T12:03:12.290Z"
   },
   {
    "duration": 26,
    "start_time": "2022-07-08T12:03:40.035Z"
   },
   {
    "duration": 277,
    "start_time": "2022-07-08T12:04:52.471Z"
   },
   {
    "duration": 282,
    "start_time": "2022-07-08T12:05:05.679Z"
   },
   {
    "duration": 200,
    "start_time": "2022-07-08T12:05:21.175Z"
   },
   {
    "duration": 386,
    "start_time": "2022-07-08T12:05:27.651Z"
   },
   {
    "duration": 7691,
    "start_time": "2022-07-08T12:06:40.822Z"
   },
   {
    "duration": 5506,
    "start_time": "2022-07-08T12:07:32.803Z"
   },
   {
    "duration": 15,
    "start_time": "2022-07-08T12:07:56.036Z"
   },
   {
    "duration": 22,
    "start_time": "2022-07-08T12:07:58.931Z"
   },
   {
    "duration": 7,
    "start_time": "2022-07-08T12:08:05.553Z"
   },
   {
    "duration": 16633,
    "start_time": "2022-07-08T12:08:07.676Z"
   },
   {
    "duration": 15753,
    "start_time": "2022-07-08T12:08:50.952Z"
   },
   {
    "duration": 4,
    "start_time": "2022-07-08T12:09:41.504Z"
   },
   {
    "duration": 8,
    "start_time": "2022-07-08T12:09:43.802Z"
   },
   {
    "duration": 24520,
    "start_time": "2022-07-08T12:10:12.893Z"
   },
   {
    "duration": 5,
    "start_time": "2022-07-08T12:11:22.652Z"
   },
   {
    "duration": 4,
    "start_time": "2022-07-08T12:11:38.817Z"
   },
   {
    "duration": 8,
    "start_time": "2022-07-08T12:11:40.513Z"
   },
   {
    "duration": 9,
    "start_time": "2022-07-08T12:12:40.652Z"
   },
   {
    "duration": 7,
    "start_time": "2022-07-08T12:12:48.757Z"
   },
   {
    "duration": 4,
    "start_time": "2022-07-08T12:13:28.726Z"
   },
   {
    "duration": 4,
    "start_time": "2022-07-08T12:13:37.338Z"
   },
   {
    "duration": 3,
    "start_time": "2022-07-08T12:13:41.453Z"
   },
   {
    "duration": 64138,
    "start_time": "2022-07-08T12:50:55.383Z"
   },
   {
    "duration": 96,
    "start_time": "2022-07-08T12:52:07.508Z"
   },
   {
    "duration": 61685,
    "start_time": "2022-07-08T12:52:29.963Z"
   },
   {
    "duration": 89,
    "start_time": "2022-07-08T12:53:40.872Z"
   },
   {
    "duration": 1104,
    "start_time": "2022-07-08T12:53:58.755Z"
   },
   {
    "duration": 27056,
    "start_time": "2022-07-08T12:55:11.456Z"
   },
   {
    "duration": 5,
    "start_time": "2022-07-08T12:56:32.456Z"
   },
   {
    "duration": 12,
    "start_time": "2022-07-08T12:57:29.109Z"
   },
   {
    "duration": 6,
    "start_time": "2022-07-08T12:58:51.412Z"
   },
   {
    "duration": 9,
    "start_time": "2022-07-08T12:58:53.508Z"
   },
   {
    "duration": 7,
    "start_time": "2022-07-08T12:59:26.390Z"
   },
   {
    "duration": 9,
    "start_time": "2022-07-08T12:59:28.789Z"
   },
   {
    "duration": 8,
    "start_time": "2022-07-08T12:59:36.884Z"
   },
   {
    "duration": 262,
    "start_time": "2022-07-08T13:00:41.522Z"
   },
   {
    "duration": 279,
    "start_time": "2022-07-08T13:00:58.800Z"
   },
   {
    "duration": 3206,
    "start_time": "2022-07-08T13:01:53.998Z"
   },
   {
    "duration": 58052,
    "start_time": "2022-07-08T13:04:31.960Z"
   },
   {
    "duration": 10,
    "start_time": "2022-07-08T13:05:30.015Z"
   },
   {
    "duration": 16,
    "start_time": "2022-07-08T13:07:12.114Z"
   },
   {
    "duration": 2,
    "start_time": "2022-07-08T13:08:45.708Z"
   },
   {
    "duration": 49,
    "start_time": "2022-07-08T13:08:57.456Z"
   },
   {
    "duration": 217,
    "start_time": "2022-07-08T13:10:21.261Z"
   },
   {
    "duration": 73,
    "start_time": "2022-07-08T13:10:30.931Z"
   },
   {
    "duration": 323,
    "start_time": "2022-07-08T13:10:39.788Z"
   },
   {
    "duration": 152,
    "start_time": "2022-07-08T13:10:56.852Z"
   },
   {
    "duration": 372,
    "start_time": "2022-07-08T13:11:00.138Z"
   },
   {
    "duration": 209,
    "start_time": "2022-07-08T13:11:05.499Z"
   },
   {
    "duration": 285,
    "start_time": "2022-07-08T13:11:08.826Z"
   },
   {
    "duration": 26,
    "start_time": "2022-07-08T13:12:03.164Z"
   },
   {
    "duration": 146,
    "start_time": "2022-07-08T13:12:41.165Z"
   },
   {
    "duration": 14951,
    "start_time": "2022-07-08T13:12:57.981Z"
   },
   {
    "duration": 3942,
    "start_time": "2022-07-08T13:13:35.181Z"
   },
   {
    "duration": 16706,
    "start_time": "2022-07-08T13:13:42.799Z"
   },
   {
    "duration": 17236,
    "start_time": "2022-07-08T13:14:30.369Z"
   },
   {
    "duration": 17289,
    "start_time": "2022-07-08T13:14:54.221Z"
   },
   {
    "duration": 11,
    "start_time": "2022-07-08T13:15:13.783Z"
   },
   {
    "duration": 10,
    "start_time": "2022-07-08T13:15:23.783Z"
   },
   {
    "duration": 4,
    "start_time": "2022-07-08T13:15:50.784Z"
   },
   {
    "duration": 10,
    "start_time": "2022-07-08T13:17:01.380Z"
   },
   {
    "duration": 2515,
    "start_time": "2022-07-08T13:17:32.192Z"
   },
   {
    "duration": 19597,
    "start_time": "2022-07-08T13:18:06.209Z"
   },
   {
    "duration": 19002,
    "start_time": "2022-07-08T13:18:51.118Z"
   },
   {
    "duration": 7,
    "start_time": "2022-07-08T13:19:57.905Z"
   },
   {
    "duration": 17,
    "start_time": "2022-07-08T13:20:50.762Z"
   },
   {
    "duration": 11,
    "start_time": "2022-07-08T13:21:02.185Z"
   },
   {
    "duration": 72,
    "start_time": "2022-07-08T13:21:23.602Z"
   },
   {
    "duration": 22504,
    "start_time": "2022-07-08T13:21:33.088Z"
   },
   {
    "duration": 82,
    "start_time": "2022-07-08T13:23:07.239Z"
   },
   {
    "duration": 1505,
    "start_time": "2022-07-08T13:23:30.672Z"
   },
   {
    "duration": 686,
    "start_time": "2022-07-08T13:23:32.180Z"
   },
   {
    "duration": 357,
    "start_time": "2022-07-08T13:23:32.868Z"
   },
   {
    "duration": 24,
    "start_time": "2022-07-08T13:23:33.227Z"
   },
   {
    "duration": 16,
    "start_time": "2022-07-08T13:23:33.253Z"
   },
   {
    "duration": 39,
    "start_time": "2022-07-08T13:23:33.271Z"
   },
   {
    "duration": 103,
    "start_time": "2022-07-08T13:23:33.312Z"
   },
   {
    "duration": 535,
    "start_time": "2022-07-08T13:23:33.416Z"
   },
   {
    "duration": 323,
    "start_time": "2022-07-08T13:23:33.952Z"
   },
   {
    "duration": 28,
    "start_time": "2022-07-08T13:23:34.276Z"
   },
   {
    "duration": 5,
    "start_time": "2022-07-08T13:23:34.306Z"
   },
   {
    "duration": 14,
    "start_time": "2022-07-08T13:23:34.313Z"
   },
   {
    "duration": 280,
    "start_time": "2022-07-08T13:23:34.329Z"
   },
   {
    "duration": 351,
    "start_time": "2022-07-08T13:23:34.611Z"
   },
   {
    "duration": 4,
    "start_time": "2022-07-08T13:23:34.963Z"
   },
   {
    "duration": 477,
    "start_time": "2022-07-08T13:23:34.968Z"
   },
   {
    "duration": 3,
    "start_time": "2022-07-08T13:23:35.447Z"
   },
   {
    "duration": 778,
    "start_time": "2022-07-08T13:23:35.452Z"
   },
   {
    "duration": 389,
    "start_time": "2022-07-08T13:23:36.231Z"
   },
   {
    "duration": 82,
    "start_time": "2022-07-08T13:23:36.622Z"
   },
   {
    "duration": 0,
    "start_time": "2022-07-08T13:23:36.707Z"
   },
   {
    "duration": 0,
    "start_time": "2022-07-08T13:23:36.708Z"
   },
   {
    "duration": 0,
    "start_time": "2022-07-08T13:23:36.709Z"
   },
   {
    "duration": 0,
    "start_time": "2022-07-08T13:23:36.710Z"
   },
   {
    "duration": 0,
    "start_time": "2022-07-08T13:23:36.711Z"
   },
   {
    "duration": 0,
    "start_time": "2022-07-08T13:23:36.711Z"
   },
   {
    "duration": 0,
    "start_time": "2022-07-08T13:23:36.713Z"
   },
   {
    "duration": 0,
    "start_time": "2022-07-08T13:23:36.715Z"
   },
   {
    "duration": 0,
    "start_time": "2022-07-08T13:23:36.717Z"
   },
   {
    "duration": 0,
    "start_time": "2022-07-08T13:23:36.719Z"
   },
   {
    "duration": 0,
    "start_time": "2022-07-08T13:23:36.719Z"
   },
   {
    "duration": 0,
    "start_time": "2022-07-08T13:23:36.721Z"
   },
   {
    "duration": 0,
    "start_time": "2022-07-08T13:23:36.722Z"
   },
   {
    "duration": 0,
    "start_time": "2022-07-08T13:23:36.723Z"
   },
   {
    "duration": 4,
    "start_time": "2022-07-08T13:24:01.718Z"
   },
   {
    "duration": 5,
    "start_time": "2022-07-08T13:24:04.879Z"
   },
   {
    "duration": 27,
    "start_time": "2022-07-08T13:24:04.886Z"
   },
   {
    "duration": 24,
    "start_time": "2022-07-08T13:24:04.916Z"
   },
   {
    "duration": 5,
    "start_time": "2022-07-08T13:24:04.941Z"
   },
   {
    "duration": 6,
    "start_time": "2022-07-08T13:24:04.948Z"
   },
   {
    "duration": 38266,
    "start_time": "2022-07-08T13:24:04.956Z"
   },
   {
    "duration": 91,
    "start_time": "2022-07-08T13:24:43.224Z"
   },
   {
    "duration": 118,
    "start_time": "2022-07-08T13:24:43.317Z"
   },
   {
    "duration": 12272,
    "start_time": "2022-07-08T13:24:43.437Z"
   },
   {
    "duration": 10,
    "start_time": "2022-07-08T13:24:55.711Z"
   },
   {
    "duration": 55507,
    "start_time": "2022-07-08T13:24:55.723Z"
   },
   {
    "duration": 16,
    "start_time": "2022-07-08T13:25:51.312Z"
   },
   {
    "duration": 129,
    "start_time": "2022-07-08T13:25:51.408Z"
   },
   {
    "duration": 0,
    "start_time": "2022-07-08T13:25:51.539Z"
   },
   {
    "duration": 0,
    "start_time": "2022-07-08T13:25:51.540Z"
   },
   {
    "duration": 24,
    "start_time": "2022-07-08T13:26:23.075Z"
   },
   {
    "duration": 57111,
    "start_time": "2022-07-08T13:26:33.517Z"
   },
   {
    "duration": 6,
    "start_time": "2022-07-08T13:27:34.966Z"
   },
   {
    "duration": 15,
    "start_time": "2022-07-08T13:27:36.262Z"
   },
   {
    "duration": 320,
    "start_time": "2022-07-08T13:29:11.703Z"
   },
   {
    "duration": 15144,
    "start_time": "2022-07-08T13:29:27.079Z"
   },
   {
    "duration": 8,
    "start_time": "2022-07-08T13:29:49.798Z"
   },
   {
    "duration": 56330,
    "start_time": "2022-07-08T13:29:57.778Z"
   },
   {
    "duration": 10,
    "start_time": "2022-07-08T13:31:06.626Z"
   },
   {
    "duration": 8,
    "start_time": "2022-07-08T13:31:37.826Z"
   },
   {
    "duration": 4,
    "start_time": "2022-07-08T13:31:39.476Z"
   },
   {
    "duration": 6,
    "start_time": "2022-07-08T13:31:46.065Z"
   },
   {
    "duration": 6,
    "start_time": "2022-07-08T13:32:19.535Z"
   },
   {
    "duration": 6,
    "start_time": "2022-07-08T13:32:42.846Z"
   },
   {
    "duration": 5,
    "start_time": "2022-07-08T13:32:59.229Z"
   },
   {
    "duration": 35,
    "start_time": "2022-07-08T13:33:42.402Z"
   },
   {
    "duration": 1424,
    "start_time": "2022-07-08T13:33:47.413Z"
   },
   {
    "duration": 708,
    "start_time": "2022-07-08T13:33:48.839Z"
   },
   {
    "duration": 356,
    "start_time": "2022-07-08T13:33:49.548Z"
   },
   {
    "duration": 22,
    "start_time": "2022-07-08T13:33:49.906Z"
   },
   {
    "duration": 15,
    "start_time": "2022-07-08T13:33:49.929Z"
   },
   {
    "duration": 15,
    "start_time": "2022-07-08T13:33:49.946Z"
   },
   {
    "duration": 122,
    "start_time": "2022-07-08T13:33:49.963Z"
   },
   {
    "duration": 600,
    "start_time": "2022-07-08T13:33:50.087Z"
   },
   {
    "duration": 340,
    "start_time": "2022-07-08T13:33:50.688Z"
   },
   {
    "duration": 22,
    "start_time": "2022-07-08T13:33:51.030Z"
   },
   {
    "duration": 8,
    "start_time": "2022-07-08T13:33:51.054Z"
   },
   {
    "duration": 14,
    "start_time": "2022-07-08T13:33:51.063Z"
   },
   {
    "duration": 288,
    "start_time": "2022-07-08T13:33:51.078Z"
   },
   {
    "duration": 381,
    "start_time": "2022-07-08T13:33:51.368Z"
   },
   {
    "duration": 5,
    "start_time": "2022-07-08T13:33:51.751Z"
   },
   {
    "duration": 465,
    "start_time": "2022-07-08T13:33:51.758Z"
   },
   {
    "duration": 4,
    "start_time": "2022-07-08T13:33:52.225Z"
   },
   {
    "duration": 784,
    "start_time": "2022-07-08T13:33:52.231Z"
   },
   {
    "duration": 335,
    "start_time": "2022-07-08T13:33:53.017Z"
   },
   {
    "duration": 4,
    "start_time": "2022-07-08T13:33:53.354Z"
   },
   {
    "duration": 28,
    "start_time": "2022-07-08T13:33:53.359Z"
   },
   {
    "duration": 27,
    "start_time": "2022-07-08T13:33:53.389Z"
   },
   {
    "duration": 5,
    "start_time": "2022-07-08T13:33:53.417Z"
   },
   {
    "duration": 8,
    "start_time": "2022-07-08T13:33:53.423Z"
   },
   {
    "duration": 18285,
    "start_time": "2022-07-08T13:33:53.432Z"
   },
   {
    "duration": 185,
    "start_time": "2022-07-08T13:34:11.719Z"
   },
   {
    "duration": 12,
    "start_time": "2022-07-08T13:34:11.906Z"
   },
   {
    "duration": 6,
    "start_time": "2022-07-08T13:34:11.921Z"
   },
   {
    "duration": 23978,
    "start_time": "2022-07-08T13:34:11.928Z"
   },
   {
    "duration": 99,
    "start_time": "2022-07-08T13:34:35.908Z"
   },
   {
    "duration": 205,
    "start_time": "2022-07-08T13:34:36.012Z"
   },
   {
    "duration": 0,
    "start_time": "2022-07-08T13:34:36.219Z"
   },
   {
    "duration": 0,
    "start_time": "2022-07-08T13:34:36.220Z"
   },
   {
    "duration": 0,
    "start_time": "2022-07-08T13:34:36.221Z"
   },
   {
    "duration": 0,
    "start_time": "2022-07-08T13:34:36.222Z"
   },
   {
    "duration": 12614,
    "start_time": "2022-07-08T13:35:42.207Z"
   },
   {
    "duration": 21753,
    "start_time": "2022-07-08T13:36:28.954Z"
   },
   {
    "duration": 6,
    "start_time": "2022-07-08T13:36:55.552Z"
   },
   {
    "duration": 8,
    "start_time": "2022-07-08T13:36:57.038Z"
   },
   {
    "duration": 6,
    "start_time": "2022-07-08T13:36:58.654Z"
   },
   {
    "duration": 19,
    "start_time": "2022-07-08T13:36:59.985Z"
   },
   {
    "duration": 5,
    "start_time": "2022-07-08T13:37:01.071Z"
   },
   {
    "duration": 5,
    "start_time": "2022-07-08T13:37:02.453Z"
   },
   {
    "duration": 1314,
    "start_time": "2022-07-08T13:37:27.137Z"
   },
   {
    "duration": 656,
    "start_time": "2022-07-08T13:37:28.453Z"
   },
   {
    "duration": 336,
    "start_time": "2022-07-08T13:37:29.111Z"
   },
   {
    "duration": 25,
    "start_time": "2022-07-08T13:37:29.449Z"
   },
   {
    "duration": 42,
    "start_time": "2022-07-08T13:37:29.476Z"
   },
   {
    "duration": 23,
    "start_time": "2022-07-08T13:37:29.520Z"
   },
   {
    "duration": 100,
    "start_time": "2022-07-08T13:37:29.545Z"
   },
   {
    "duration": 547,
    "start_time": "2022-07-08T13:37:29.647Z"
   },
   {
    "duration": 312,
    "start_time": "2022-07-08T13:37:30.196Z"
   },
   {
    "duration": 21,
    "start_time": "2022-07-08T13:37:30.510Z"
   },
   {
    "duration": 7,
    "start_time": "2022-07-08T13:37:30.532Z"
   },
   {
    "duration": 27,
    "start_time": "2022-07-08T13:37:30.540Z"
   },
   {
    "duration": 271,
    "start_time": "2022-07-08T13:37:30.569Z"
   },
   {
    "duration": 388,
    "start_time": "2022-07-08T13:37:30.842Z"
   },
   {
    "duration": 4,
    "start_time": "2022-07-08T13:37:31.232Z"
   },
   {
    "duration": 472,
    "start_time": "2022-07-08T13:37:31.237Z"
   },
   {
    "duration": 3,
    "start_time": "2022-07-08T13:37:31.711Z"
   },
   {
    "duration": 776,
    "start_time": "2022-07-08T13:37:31.716Z"
   },
   {
    "duration": 333,
    "start_time": "2022-07-08T13:37:32.494Z"
   },
   {
    "duration": 4,
    "start_time": "2022-07-08T13:37:32.828Z"
   },
   {
    "duration": 38,
    "start_time": "2022-07-08T13:37:32.834Z"
   },
   {
    "duration": 41,
    "start_time": "2022-07-08T13:37:32.874Z"
   },
   {
    "duration": 4,
    "start_time": "2022-07-08T13:37:32.917Z"
   },
   {
    "duration": 7,
    "start_time": "2022-07-08T13:37:32.923Z"
   },
   {
    "duration": 214,
    "start_time": "2022-07-08T13:37:32.932Z"
   },
   {
    "duration": 0,
    "start_time": "2022-07-08T13:37:33.149Z"
   },
   {
    "duration": 0,
    "start_time": "2022-07-08T13:37:33.150Z"
   },
   {
    "duration": 0,
    "start_time": "2022-07-08T13:37:33.152Z"
   },
   {
    "duration": 0,
    "start_time": "2022-07-08T13:37:33.153Z"
   },
   {
    "duration": 0,
    "start_time": "2022-07-08T13:37:33.154Z"
   },
   {
    "duration": 0,
    "start_time": "2022-07-08T13:37:33.155Z"
   },
   {
    "duration": 0,
    "start_time": "2022-07-08T13:37:33.156Z"
   },
   {
    "duration": 0,
    "start_time": "2022-07-08T13:37:33.156Z"
   },
   {
    "duration": 0,
    "start_time": "2022-07-08T13:37:33.157Z"
   },
   {
    "duration": 0,
    "start_time": "2022-07-08T13:37:33.157Z"
   },
   {
    "duration": 19186,
    "start_time": "2022-07-08T13:38:26.732Z"
   },
   {
    "duration": 101,
    "start_time": "2022-07-08T13:38:46.004Z"
   },
   {
    "duration": 0,
    "start_time": "2022-07-08T13:38:46.107Z"
   },
   {
    "duration": 0,
    "start_time": "2022-07-08T13:38:46.108Z"
   },
   {
    "duration": 0,
    "start_time": "2022-07-08T13:38:46.109Z"
   },
   {
    "duration": 0,
    "start_time": "2022-07-08T13:38:46.110Z"
   },
   {
    "duration": 0,
    "start_time": "2022-07-08T13:38:46.112Z"
   },
   {
    "duration": 0,
    "start_time": "2022-07-08T13:38:46.113Z"
   },
   {
    "duration": 26126,
    "start_time": "2022-07-08T13:38:55.690Z"
   },
   {
    "duration": 92,
    "start_time": "2022-07-08T13:39:21.819Z"
   },
   {
    "duration": 104,
    "start_time": "2022-07-08T13:39:21.914Z"
   },
   {
    "duration": 188,
    "start_time": "2022-07-08T13:39:22.021Z"
   },
   {
    "duration": 0,
    "start_time": "2022-07-08T13:39:22.211Z"
   },
   {
    "duration": 0,
    "start_time": "2022-07-08T13:39:22.212Z"
   },
   {
    "duration": 0,
    "start_time": "2022-07-08T13:39:22.213Z"
   },
   {
    "duration": 7,
    "start_time": "2022-07-08T13:39:32.706Z"
   },
   {
    "duration": 8,
    "start_time": "2022-07-08T13:39:36.539Z"
   },
   {
    "duration": 12,
    "start_time": "2022-07-08T13:39:37.677Z"
   },
   {
    "duration": 5,
    "start_time": "2022-07-08T13:39:38.631Z"
   },
   {
    "duration": 5,
    "start_time": "2022-07-08T13:39:39.692Z"
   },
   {
    "duration": 39,
    "start_time": "2022-07-08T13:39:47.478Z"
   },
   {
    "duration": 2396,
    "start_time": "2022-07-08T13:40:15.870Z"
   },
   {
    "duration": 726,
    "start_time": "2022-07-08T13:40:18.268Z"
   },
   {
    "duration": 332,
    "start_time": "2022-07-08T13:40:18.995Z"
   },
   {
    "duration": 21,
    "start_time": "2022-07-08T13:40:19.329Z"
   },
   {
    "duration": 17,
    "start_time": "2022-07-08T13:40:19.352Z"
   },
   {
    "duration": 44,
    "start_time": "2022-07-08T13:40:19.370Z"
   },
   {
    "duration": 93,
    "start_time": "2022-07-08T13:40:19.416Z"
   },
   {
    "duration": 712,
    "start_time": "2022-07-08T13:40:19.511Z"
   },
   {
    "duration": 342,
    "start_time": "2022-07-08T13:40:20.225Z"
   },
   {
    "duration": 1397,
    "start_time": "2022-07-08T13:40:20.570Z"
   },
   {
    "duration": 0,
    "start_time": "2022-07-08T13:40:21.969Z"
   },
   {
    "duration": 0,
    "start_time": "2022-07-08T13:40:21.971Z"
   },
   {
    "duration": 0,
    "start_time": "2022-07-08T13:40:21.972Z"
   },
   {
    "duration": 0,
    "start_time": "2022-07-08T13:40:21.974Z"
   },
   {
    "duration": 0,
    "start_time": "2022-07-08T13:40:21.975Z"
   },
   {
    "duration": 0,
    "start_time": "2022-07-08T13:40:21.976Z"
   },
   {
    "duration": 0,
    "start_time": "2022-07-08T13:40:21.978Z"
   },
   {
    "duration": 0,
    "start_time": "2022-07-08T13:40:21.979Z"
   },
   {
    "duration": 0,
    "start_time": "2022-07-08T13:40:21.980Z"
   },
   {
    "duration": 0,
    "start_time": "2022-07-08T13:40:21.981Z"
   },
   {
    "duration": 0,
    "start_time": "2022-07-08T13:40:21.983Z"
   },
   {
    "duration": 0,
    "start_time": "2022-07-08T13:40:21.985Z"
   },
   {
    "duration": 0,
    "start_time": "2022-07-08T13:40:21.986Z"
   },
   {
    "duration": 0,
    "start_time": "2022-07-08T13:40:21.988Z"
   },
   {
    "duration": 0,
    "start_time": "2022-07-08T13:40:21.988Z"
   },
   {
    "duration": 0,
    "start_time": "2022-07-08T13:40:21.989Z"
   },
   {
    "duration": 0,
    "start_time": "2022-07-08T13:40:21.990Z"
   },
   {
    "duration": 0,
    "start_time": "2022-07-08T13:40:21.991Z"
   },
   {
    "duration": 0,
    "start_time": "2022-07-08T13:40:21.992Z"
   },
   {
    "duration": 0,
    "start_time": "2022-07-08T13:40:21.992Z"
   },
   {
    "duration": 0,
    "start_time": "2022-07-08T13:40:21.994Z"
   },
   {
    "duration": 0,
    "start_time": "2022-07-08T13:40:21.995Z"
   },
   {
    "duration": 0,
    "start_time": "2022-07-08T13:40:21.996Z"
   },
   {
    "duration": 0,
    "start_time": "2022-07-08T13:40:21.998Z"
   },
   {
    "duration": 0,
    "start_time": "2022-07-08T13:40:21.999Z"
   },
   {
    "duration": 1577,
    "start_time": "2022-07-09T13:54:42.253Z"
   },
   {
    "duration": 1458,
    "start_time": "2022-07-09T13:54:43.832Z"
   },
   {
    "duration": 368,
    "start_time": "2022-07-09T13:54:45.292Z"
   },
   {
    "duration": 24,
    "start_time": "2022-07-09T13:54:45.662Z"
   },
   {
    "duration": 17,
    "start_time": "2022-07-09T13:54:45.687Z"
   },
   {
    "duration": 14,
    "start_time": "2022-07-09T13:54:45.706Z"
   },
   {
    "duration": 117,
    "start_time": "2022-07-09T13:54:45.747Z"
   },
   {
    "duration": 598,
    "start_time": "2022-07-09T13:54:45.866Z"
   },
   {
    "duration": 329,
    "start_time": "2022-07-09T13:54:46.466Z"
   },
   {
    "duration": 372,
    "start_time": "2022-07-09T13:54:48.894Z"
   },
   {
    "duration": 265,
    "start_time": "2022-07-09T13:55:27.863Z"
   },
   {
    "duration": 319,
    "start_time": "2022-07-09T13:55:43.557Z"
   },
   {
    "duration": 233,
    "start_time": "2022-07-09T13:55:48.211Z"
   },
   {
    "duration": 203,
    "start_time": "2022-07-09T13:55:51.791Z"
   },
   {
    "duration": 22,
    "start_time": "2022-07-09T13:55:59.623Z"
   },
   {
    "duration": 18,
    "start_time": "2022-07-09T13:56:39.095Z"
   },
   {
    "duration": 4,
    "start_time": "2022-07-09T13:56:44.766Z"
   },
   {
    "duration": 703,
    "start_time": "2022-07-09T13:56:44.772Z"
   },
   {
    "duration": 333,
    "start_time": "2022-07-09T13:56:45.477Z"
   },
   {
    "duration": 41,
    "start_time": "2022-07-09T13:56:45.812Z"
   },
   {
    "duration": 19,
    "start_time": "2022-07-09T13:56:45.856Z"
   },
   {
    "duration": 17,
    "start_time": "2022-07-09T13:56:45.877Z"
   },
   {
    "duration": 106,
    "start_time": "2022-07-09T13:56:45.896Z"
   },
   {
    "duration": 552,
    "start_time": "2022-07-09T13:56:46.004Z"
   },
   {
    "duration": 320,
    "start_time": "2022-07-09T13:56:46.557Z"
   },
   {
    "duration": 102,
    "start_time": "2022-07-09T13:56:59.154Z"
   },
   {
    "duration": 25,
    "start_time": "2022-07-09T13:57:05.051Z"
   },
   {
    "duration": 17,
    "start_time": "2022-07-09T13:57:36.590Z"
   },
   {
    "duration": 7,
    "start_time": "2022-07-09T13:57:49.905Z"
   },
   {
    "duration": 393,
    "start_time": "2022-07-09T13:57:58.749Z"
   },
   {
    "duration": 18,
    "start_time": "2022-07-09T13:58:00.957Z"
   },
   {
    "duration": 7,
    "start_time": "2022-07-09T13:58:02.968Z"
   },
   {
    "duration": 12,
    "start_time": "2022-07-09T13:58:07.062Z"
   },
   {
    "duration": 1407,
    "start_time": "2022-07-09T13:58:35.199Z"
   },
   {
    "duration": 654,
    "start_time": "2022-07-09T13:58:36.608Z"
   },
   {
    "duration": 344,
    "start_time": "2022-07-09T13:58:37.264Z"
   },
   {
    "duration": 41,
    "start_time": "2022-07-09T13:58:37.610Z"
   },
   {
    "duration": 17,
    "start_time": "2022-07-09T13:58:37.653Z"
   },
   {
    "duration": 18,
    "start_time": "2022-07-09T13:58:37.671Z"
   },
   {
    "duration": 111,
    "start_time": "2022-07-09T13:58:37.691Z"
   },
   {
    "duration": 542,
    "start_time": "2022-07-09T13:58:37.804Z"
   },
   {
    "duration": 323,
    "start_time": "2022-07-09T13:58:38.348Z"
   },
   {
    "duration": 21,
    "start_time": "2022-07-09T13:58:38.674Z"
   },
   {
    "duration": 7,
    "start_time": "2022-07-09T13:58:38.697Z"
   },
   {
    "duration": 40,
    "start_time": "2022-07-09T13:58:38.706Z"
   },
   {
    "duration": 397,
    "start_time": "2022-07-09T13:58:38.748Z"
   },
   {
    "duration": 407,
    "start_time": "2022-07-09T13:58:39.147Z"
   },
   {
    "duration": 5,
    "start_time": "2022-07-09T13:58:39.555Z"
   },
   {
    "duration": 439,
    "start_time": "2022-07-09T13:58:39.562Z"
   },
   {
    "duration": 4,
    "start_time": "2022-07-09T13:58:40.003Z"
   },
   {
    "duration": 726,
    "start_time": "2022-07-09T13:58:40.009Z"
   },
   {
    "duration": 320,
    "start_time": "2022-07-09T13:58:40.737Z"
   },
   {
    "duration": 4,
    "start_time": "2022-07-09T13:58:41.059Z"
   },
   {
    "duration": 23,
    "start_time": "2022-07-09T13:58:41.066Z"
   },
   {
    "duration": 21,
    "start_time": "2022-07-09T13:58:41.091Z"
   },
   {
    "duration": 4,
    "start_time": "2022-07-09T13:58:41.114Z"
   },
   {
    "duration": 27,
    "start_time": "2022-07-09T13:58:41.119Z"
   },
   {
    "duration": 25012,
    "start_time": "2022-07-09T13:58:41.147Z"
   },
   {
    "duration": 102,
    "start_time": "2022-07-09T13:59:06.249Z"
   },
   {
    "duration": 10,
    "start_time": "2022-07-09T13:59:06.353Z"
   },
   {
    "duration": 7,
    "start_time": "2022-07-09T13:59:06.366Z"
   },
   {
    "duration": 32270,
    "start_time": "2022-07-09T13:59:06.375Z"
   },
   {
    "duration": 11,
    "start_time": "2022-07-09T13:59:38.648Z"
   },
   {
    "duration": 222,
    "start_time": "2022-07-09T13:59:38.661Z"
   },
   {
    "duration": 0,
    "start_time": "2022-07-09T13:59:38.885Z"
   },
   {
    "duration": 0,
    "start_time": "2022-07-09T13:59:38.887Z"
   },
   {
    "duration": 0,
    "start_time": "2022-07-09T13:59:38.889Z"
   },
   {
    "duration": 0,
    "start_time": "2022-07-09T13:59:38.890Z"
   },
   {
    "duration": 24,
    "start_time": "2022-07-09T14:00:39.404Z"
   },
   {
    "duration": 16,
    "start_time": "2022-07-09T14:00:51.217Z"
   },
   {
    "duration": 8,
    "start_time": "2022-07-09T14:00:59.092Z"
   },
   {
    "duration": 13099,
    "start_time": "2022-07-09T14:01:06.054Z"
   },
   {
    "duration": 15,
    "start_time": "2022-07-09T14:01:31.633Z"
   },
   {
    "duration": 19,
    "start_time": "2022-07-09T14:01:44.030Z"
   },
   {
    "duration": 15,
    "start_time": "2022-07-09T14:02:15.560Z"
   },
   {
    "duration": 1485,
    "start_time": "2022-07-09T14:02:24.944Z"
   },
   {
    "duration": 667,
    "start_time": "2022-07-09T14:02:26.431Z"
   },
   {
    "duration": 352,
    "start_time": "2022-07-09T14:02:27.100Z"
   },
   {
    "duration": 26,
    "start_time": "2022-07-09T14:02:27.454Z"
   },
   {
    "duration": 20,
    "start_time": "2022-07-09T14:02:27.483Z"
   },
   {
    "duration": 49,
    "start_time": "2022-07-09T14:02:27.505Z"
   },
   {
    "duration": 111,
    "start_time": "2022-07-09T14:02:27.556Z"
   },
   {
    "duration": 612,
    "start_time": "2022-07-09T14:02:27.669Z"
   },
   {
    "duration": 334,
    "start_time": "2022-07-09T14:02:28.283Z"
   },
   {
    "duration": 19,
    "start_time": "2022-07-09T14:02:28.619Z"
   },
   {
    "duration": 11,
    "start_time": "2022-07-09T14:02:28.646Z"
   },
   {
    "duration": 23,
    "start_time": "2022-07-09T14:02:28.659Z"
   },
   {
    "duration": 329,
    "start_time": "2022-07-09T14:02:28.684Z"
   },
   {
    "duration": 491,
    "start_time": "2022-07-09T14:02:29.017Z"
   },
   {
    "duration": 5,
    "start_time": "2022-07-09T14:02:29.509Z"
   },
   {
    "duration": 455,
    "start_time": "2022-07-09T14:02:29.516Z"
   },
   {
    "duration": 3,
    "start_time": "2022-07-09T14:02:29.973Z"
   },
   {
    "duration": 817,
    "start_time": "2022-07-09T14:02:29.978Z"
   },
   {
    "duration": 376,
    "start_time": "2022-07-09T14:02:30.797Z"
   },
   {
    "duration": 5,
    "start_time": "2022-07-09T14:02:31.176Z"
   },
   {
    "duration": 49,
    "start_time": "2022-07-09T14:02:31.183Z"
   },
   {
    "duration": 24,
    "start_time": "2022-07-09T14:02:31.234Z"
   },
   {
    "duration": 10,
    "start_time": "2022-07-09T14:02:31.260Z"
   },
   {
    "duration": 12,
    "start_time": "2022-07-09T14:02:31.272Z"
   },
   {
    "duration": 22464,
    "start_time": "2022-07-09T14:02:31.286Z"
   },
   {
    "duration": 15,
    "start_time": "2022-07-09T14:02:53.845Z"
   },
   {
    "duration": 10,
    "start_time": "2022-07-09T14:02:53.863Z"
   },
   {
    "duration": 56476,
    "start_time": "2022-07-09T14:02:53.875Z"
   },
   {
    "duration": 7,
    "start_time": "2022-07-09T14:03:50.353Z"
   },
   {
    "duration": 110,
    "start_time": "2022-07-09T14:03:50.448Z"
   },
   {
    "duration": 91,
    "start_time": "2022-07-09T14:03:50.561Z"
   },
   {
    "duration": 109,
    "start_time": "2022-07-09T14:03:50.654Z"
   },
   {
    "duration": 186,
    "start_time": "2022-07-09T14:03:50.766Z"
   },
   {
    "duration": 8,
    "start_time": "2022-07-09T14:03:50.953Z"
   },
   {
    "duration": 54,
    "start_time": "2022-07-09T14:04:48.786Z"
   },
   {
    "duration": 48,
    "start_time": "2022-07-09T14:04:54.839Z"
   },
   {
    "duration": 1464,
    "start_time": "2022-07-09T14:04:59.845Z"
   },
   {
    "duration": 705,
    "start_time": "2022-07-09T14:05:01.312Z"
   },
   {
    "duration": 377,
    "start_time": "2022-07-09T14:05:02.019Z"
   },
   {
    "duration": 52,
    "start_time": "2022-07-09T14:05:02.398Z"
   },
   {
    "duration": 19,
    "start_time": "2022-07-09T14:05:02.452Z"
   },
   {
    "duration": 44,
    "start_time": "2022-07-09T14:05:02.473Z"
   },
   {
    "duration": 132,
    "start_time": "2022-07-09T14:05:02.519Z"
   },
   {
    "duration": 564,
    "start_time": "2022-07-09T14:05:02.653Z"
   },
   {
    "duration": 355,
    "start_time": "2022-07-09T14:05:03.218Z"
   },
   {
    "duration": 16,
    "start_time": "2022-07-09T14:05:03.577Z"
   },
   {
    "duration": 7,
    "start_time": "2022-07-09T14:05:03.595Z"
   },
   {
    "duration": 14,
    "start_time": "2022-07-09T14:05:03.604Z"
   },
   {
    "duration": 317,
    "start_time": "2022-07-09T14:05:03.620Z"
   },
   {
    "duration": 416,
    "start_time": "2022-07-09T14:05:03.940Z"
   },
   {
    "duration": 5,
    "start_time": "2022-07-09T14:05:04.358Z"
   },
   {
    "duration": 487,
    "start_time": "2022-07-09T14:05:04.365Z"
   },
   {
    "duration": 4,
    "start_time": "2022-07-09T14:05:04.854Z"
   },
   {
    "duration": 777,
    "start_time": "2022-07-09T14:05:04.860Z"
   },
   {
    "duration": 339,
    "start_time": "2022-07-09T14:05:05.640Z"
   },
   {
    "duration": 5,
    "start_time": "2022-07-09T14:05:05.980Z"
   },
   {
    "duration": 24,
    "start_time": "2022-07-09T14:05:05.986Z"
   },
   {
    "duration": 37,
    "start_time": "2022-07-09T14:05:06.012Z"
   },
   {
    "duration": 4,
    "start_time": "2022-07-09T14:05:06.051Z"
   },
   {
    "duration": 9,
    "start_time": "2022-07-09T14:05:06.056Z"
   },
   {
    "duration": 26193,
    "start_time": "2022-07-09T14:05:06.067Z"
   },
   {
    "duration": 101,
    "start_time": "2022-07-09T14:05:32.347Z"
   },
   {
    "duration": 8,
    "start_time": "2022-07-09T14:05:32.450Z"
   },
   {
    "duration": 50084,
    "start_time": "2022-07-09T14:05:32.461Z"
   },
   {
    "duration": 96,
    "start_time": "2022-07-09T14:06:22.549Z"
   },
   {
    "duration": 21,
    "start_time": "2022-07-09T14:06:22.648Z"
   },
   {
    "duration": 179,
    "start_time": "2022-07-09T14:06:22.672Z"
   },
   {
    "duration": 33,
    "start_time": "2022-07-09T14:06:22.852Z"
   },
   {
    "duration": 173,
    "start_time": "2022-07-09T14:06:22.886Z"
   },
   {
    "duration": 39,
    "start_time": "2022-07-09T14:06:23.062Z"
   },
   {
    "duration": 1459,
    "start_time": "2022-07-09T14:06:59.388Z"
   },
   {
    "duration": 707,
    "start_time": "2022-07-09T14:07:00.850Z"
   },
   {
    "duration": 364,
    "start_time": "2022-07-09T14:07:01.560Z"
   },
   {
    "duration": 48,
    "start_time": "2022-07-09T14:07:01.926Z"
   },
   {
    "duration": 15,
    "start_time": "2022-07-09T14:07:01.976Z"
   },
   {
    "duration": 27,
    "start_time": "2022-07-09T14:07:01.993Z"
   },
   {
    "duration": 124,
    "start_time": "2022-07-09T14:07:02.022Z"
   },
   {
    "duration": 600,
    "start_time": "2022-07-09T14:07:02.149Z"
   },
   {
    "duration": 334,
    "start_time": "2022-07-09T14:07:02.752Z"
   },
   {
    "duration": 19,
    "start_time": "2022-07-09T14:07:03.088Z"
   },
   {
    "duration": 47,
    "start_time": "2022-07-09T14:07:03.109Z"
   },
   {
    "duration": 40,
    "start_time": "2022-07-09T14:07:03.158Z"
   },
   {
    "duration": 323,
    "start_time": "2022-07-09T14:07:03.200Z"
   },
   {
    "duration": 423,
    "start_time": "2022-07-09T14:07:03.525Z"
   },
   {
    "duration": 9,
    "start_time": "2022-07-09T14:07:03.950Z"
   },
   {
    "duration": 507,
    "start_time": "2022-07-09T14:07:03.961Z"
   },
   {
    "duration": 3,
    "start_time": "2022-07-09T14:07:04.471Z"
   },
   {
    "duration": 805,
    "start_time": "2022-07-09T14:07:04.477Z"
   },
   {
    "duration": 358,
    "start_time": "2022-07-09T14:07:05.284Z"
   },
   {
    "duration": 4,
    "start_time": "2022-07-09T14:07:05.646Z"
   },
   {
    "duration": 25,
    "start_time": "2022-07-09T14:07:05.652Z"
   },
   {
    "duration": 29,
    "start_time": "2022-07-09T14:07:05.679Z"
   },
   {
    "duration": 6,
    "start_time": "2022-07-09T14:07:05.711Z"
   },
   {
    "duration": 32,
    "start_time": "2022-07-09T14:07:05.719Z"
   },
   {
    "duration": 34493,
    "start_time": "2022-07-09T14:07:05.753Z"
   },
   {
    "duration": 98,
    "start_time": "2022-07-09T14:07:40.251Z"
   },
   {
    "duration": 15,
    "start_time": "2022-07-09T14:07:40.351Z"
   },
   {
    "duration": 56584,
    "start_time": "2022-07-09T14:07:40.370Z"
   },
   {
    "duration": 185,
    "start_time": "2022-07-09T14:08:36.960Z"
   },
   {
    "duration": 99,
    "start_time": "2022-07-09T14:08:37.148Z"
   },
   {
    "duration": 101,
    "start_time": "2022-07-09T14:08:37.249Z"
   },
   {
    "duration": 93,
    "start_time": "2022-07-09T14:08:37.353Z"
   },
   {
    "duration": 118,
    "start_time": "2022-07-09T14:08:37.449Z"
   },
   {
    "duration": 10,
    "start_time": "2022-07-09T14:08:37.568Z"
   },
   {
    "duration": 1537,
    "start_time": "2022-07-09T14:09:08.565Z"
   },
   {
    "duration": 671,
    "start_time": "2022-07-09T14:09:10.105Z"
   },
   {
    "duration": 398,
    "start_time": "2022-07-09T14:09:10.778Z"
   },
   {
    "duration": 25,
    "start_time": "2022-07-09T14:09:11.179Z"
   },
   {
    "duration": 54,
    "start_time": "2022-07-09T14:09:11.206Z"
   },
   {
    "duration": 15,
    "start_time": "2022-07-09T14:09:11.262Z"
   },
   {
    "duration": 109,
    "start_time": "2022-07-09T14:09:11.279Z"
   },
   {
    "duration": 573,
    "start_time": "2022-07-09T14:09:11.390Z"
   },
   {
    "duration": 17,
    "start_time": "2022-07-09T14:09:11.965Z"
   },
   {
    "duration": 12,
    "start_time": "2022-07-09T14:09:11.985Z"
   },
   {
    "duration": 18,
    "start_time": "2022-07-09T14:09:11.998Z"
   },
   {
    "duration": 308,
    "start_time": "2022-07-09T14:09:12.018Z"
   },
   {
    "duration": 387,
    "start_time": "2022-07-09T14:09:12.328Z"
   },
   {
    "duration": 4,
    "start_time": "2022-07-09T14:09:12.717Z"
   },
   {
    "duration": 476,
    "start_time": "2022-07-09T14:09:12.722Z"
   },
   {
    "duration": 4,
    "start_time": "2022-07-09T14:09:13.199Z"
   },
   {
    "duration": 809,
    "start_time": "2022-07-09T14:09:13.204Z"
   },
   {
    "duration": 345,
    "start_time": "2022-07-09T14:09:14.015Z"
   },
   {
    "duration": 5,
    "start_time": "2022-07-09T14:09:14.361Z"
   },
   {
    "duration": 42,
    "start_time": "2022-07-09T14:09:14.368Z"
   },
   {
    "duration": 33,
    "start_time": "2022-07-09T14:09:14.412Z"
   },
   {
    "duration": 5,
    "start_time": "2022-07-09T14:09:14.447Z"
   },
   {
    "duration": 18,
    "start_time": "2022-07-09T14:09:14.453Z"
   },
   {
    "duration": 42984,
    "start_time": "2022-07-09T14:09:14.473Z"
   },
   {
    "duration": 186,
    "start_time": "2022-07-09T14:09:57.460Z"
   },
   {
    "duration": 10,
    "start_time": "2022-07-09T14:09:57.648Z"
   },
   {
    "duration": 34195,
    "start_time": "2022-07-09T14:09:57.660Z"
   },
   {
    "duration": 99,
    "start_time": "2022-07-09T14:10:31.948Z"
   },
   {
    "duration": 19,
    "start_time": "2022-07-09T14:10:32.048Z"
   },
   {
    "duration": 109,
    "start_time": "2022-07-09T14:10:32.147Z"
   },
   {
    "duration": 20,
    "start_time": "2022-07-09T14:10:32.258Z"
   },
   {
    "duration": 170,
    "start_time": "2022-07-09T14:10:32.280Z"
   },
   {
    "duration": 17,
    "start_time": "2022-07-09T14:10:32.452Z"
   },
   {
    "duration": 118,
    "start_time": "2022-07-09T14:12:19.844Z"
   },
   {
    "duration": 56,
    "start_time": "2022-07-09T14:12:28.110Z"
   },
   {
    "duration": 24,
    "start_time": "2022-07-09T14:12:39.588Z"
   },
   {
    "duration": 55,
    "start_time": "2022-07-09T14:12:42.675Z"
   },
   {
    "duration": 23,
    "start_time": "2022-07-09T14:13:40.386Z"
   },
   {
    "duration": 1475,
    "start_time": "2022-07-09T14:14:06.671Z"
   },
   {
    "duration": 1391,
    "start_time": "2022-07-09T14:14:39.908Z"
   },
   {
    "duration": 691,
    "start_time": "2022-07-09T14:14:41.301Z"
   },
   {
    "duration": 367,
    "start_time": "2022-07-09T14:14:41.993Z"
   },
   {
    "duration": 25,
    "start_time": "2022-07-09T14:14:42.362Z"
   },
   {
    "duration": 16,
    "start_time": "2022-07-09T14:14:42.389Z"
   },
   {
    "duration": 46,
    "start_time": "2022-07-09T14:14:42.407Z"
   },
   {
    "duration": 110,
    "start_time": "2022-07-09T14:14:42.454Z"
   },
   {
    "duration": 565,
    "start_time": "2022-07-09T14:14:42.566Z"
   },
   {
    "duration": 2022,
    "start_time": "2022-07-09T14:14:43.132Z"
   },
   {
    "duration": 18,
    "start_time": "2022-07-09T14:14:45.157Z"
   },
   {
    "duration": 8,
    "start_time": "2022-07-09T14:14:45.176Z"
   },
   {
    "duration": 12,
    "start_time": "2022-07-09T14:14:45.186Z"
   },
   {
    "duration": 300,
    "start_time": "2022-07-09T14:14:45.200Z"
   },
   {
    "duration": 413,
    "start_time": "2022-07-09T14:14:45.502Z"
   },
   {
    "duration": 4,
    "start_time": "2022-07-09T14:14:45.918Z"
   },
   {
    "duration": 464,
    "start_time": "2022-07-09T14:14:45.924Z"
   },
   {
    "duration": 3,
    "start_time": "2022-07-09T14:14:46.390Z"
   },
   {
    "duration": 776,
    "start_time": "2022-07-09T14:14:46.395Z"
   },
   {
    "duration": 460,
    "start_time": "2022-07-09T14:14:47.172Z"
   },
   {
    "duration": 12,
    "start_time": "2022-07-09T14:14:47.633Z"
   },
   {
    "duration": 19,
    "start_time": "2022-07-09T14:14:47.647Z"
   },
   {
    "duration": 25,
    "start_time": "2022-07-09T14:14:47.668Z"
   },
   {
    "duration": 5,
    "start_time": "2022-07-09T14:14:47.695Z"
   },
   {
    "duration": 9,
    "start_time": "2022-07-09T14:14:47.702Z"
   },
   {
    "duration": 23942,
    "start_time": "2022-07-09T14:14:47.712Z"
   },
   {
    "duration": 101,
    "start_time": "2022-07-09T14:15:11.748Z"
   },
   {
    "duration": 7,
    "start_time": "2022-07-09T14:15:11.851Z"
   },
   {
    "duration": 47893,
    "start_time": "2022-07-09T14:15:11.861Z"
   },
   {
    "duration": 91,
    "start_time": "2022-07-09T14:15:59.758Z"
   },
   {
    "duration": 195,
    "start_time": "2022-07-09T14:15:59.856Z"
   },
   {
    "duration": 90,
    "start_time": "2022-07-09T14:16:00.056Z"
   },
   {
    "duration": 33,
    "start_time": "2022-07-09T14:16:00.148Z"
   },
   {
    "duration": 103,
    "start_time": "2022-07-09T14:16:00.246Z"
   },
   {
    "duration": 24,
    "start_time": "2022-07-09T14:16:00.350Z"
   },
   {
    "duration": 1466,
    "start_time": "2022-07-09T14:16:21.149Z"
   },
   {
    "duration": 1156,
    "start_time": "2022-07-09T14:16:22.617Z"
   },
   {
    "duration": 786,
    "start_time": "2022-07-09T14:16:23.774Z"
   },
   {
    "duration": 23,
    "start_time": "2022-07-09T14:16:24.563Z"
   },
   {
    "duration": 16,
    "start_time": "2022-07-09T14:16:24.646Z"
   },
   {
    "duration": 22,
    "start_time": "2022-07-09T14:16:24.664Z"
   },
   {
    "duration": 164,
    "start_time": "2022-07-09T14:16:24.688Z"
   },
   {
    "duration": 588,
    "start_time": "2022-07-09T14:16:24.854Z"
   },
   {
    "duration": 1980,
    "start_time": "2022-07-09T14:16:25.445Z"
   },
   {
    "duration": 20,
    "start_time": "2022-07-09T14:16:27.428Z"
   },
   {
    "duration": 8,
    "start_time": "2022-07-09T14:16:27.449Z"
   },
   {
    "duration": 16,
    "start_time": "2022-07-09T14:16:27.459Z"
   },
   {
    "duration": 287,
    "start_time": "2022-07-09T14:16:27.477Z"
   },
   {
    "duration": 406,
    "start_time": "2022-07-09T14:16:27.765Z"
   },
   {
    "duration": 4,
    "start_time": "2022-07-09T14:16:28.172Z"
   },
   {
    "duration": 454,
    "start_time": "2022-07-09T14:16:28.178Z"
   },
   {
    "duration": 4,
    "start_time": "2022-07-09T14:16:28.634Z"
   },
   {
    "duration": 816,
    "start_time": "2022-07-09T14:16:28.646Z"
   },
   {
    "duration": 462,
    "start_time": "2022-07-09T14:16:29.464Z"
   },
   {
    "duration": 4,
    "start_time": "2022-07-09T14:16:29.927Z"
   },
   {
    "duration": 30,
    "start_time": "2022-07-09T14:16:29.933Z"
   },
   {
    "duration": 27,
    "start_time": "2022-07-09T14:16:29.965Z"
   },
   {
    "duration": 5,
    "start_time": "2022-07-09T14:16:29.993Z"
   },
   {
    "duration": 17,
    "start_time": "2022-07-09T14:16:30.000Z"
   },
   {
    "duration": 21727,
    "start_time": "2022-07-09T14:16:30.019Z"
   },
   {
    "duration": 100,
    "start_time": "2022-07-09T14:16:51.748Z"
   },
   {
    "duration": 7,
    "start_time": "2022-07-09T14:16:51.850Z"
   },
   {
    "duration": 32392,
    "start_time": "2022-07-09T14:16:51.860Z"
   },
   {
    "duration": 94,
    "start_time": "2022-07-09T14:17:24.254Z"
   },
   {
    "duration": 106,
    "start_time": "2022-07-09T14:17:24.350Z"
   },
   {
    "duration": 90,
    "start_time": "2022-07-09T14:17:24.461Z"
   },
   {
    "duration": 98,
    "start_time": "2022-07-09T14:17:24.553Z"
   },
   {
    "duration": 5,
    "start_time": "2022-07-09T14:17:24.653Z"
   },
   {
    "duration": 96,
    "start_time": "2022-07-09T14:17:24.660Z"
   },
   {
    "duration": 1425,
    "start_time": "2022-07-09T14:18:23.486Z"
   },
   {
    "duration": 707,
    "start_time": "2022-07-09T14:18:24.913Z"
   },
   {
    "duration": 350,
    "start_time": "2022-07-09T14:18:25.622Z"
   },
   {
    "duration": 24,
    "start_time": "2022-07-09T14:18:25.974Z"
   },
   {
    "duration": 46,
    "start_time": "2022-07-09T14:18:25.999Z"
   },
   {
    "duration": 14,
    "start_time": "2022-07-09T14:18:26.047Z"
   },
   {
    "duration": 107,
    "start_time": "2022-07-09T14:18:26.064Z"
   },
   {
    "duration": 568,
    "start_time": "2022-07-09T14:18:26.172Z"
   },
   {
    "duration": 2049,
    "start_time": "2022-07-09T14:18:26.745Z"
   },
   {
    "duration": 17,
    "start_time": "2022-07-09T14:18:28.796Z"
   },
   {
    "duration": 7,
    "start_time": "2022-07-09T14:18:28.814Z"
   },
   {
    "duration": 34,
    "start_time": "2022-07-09T14:18:28.822Z"
   },
   {
    "duration": 358,
    "start_time": "2022-07-09T14:18:28.858Z"
   },
   {
    "duration": 347,
    "start_time": "2022-07-09T14:18:29.219Z"
   },
   {
    "duration": 5,
    "start_time": "2022-07-09T14:18:29.568Z"
   },
   {
    "duration": 554,
    "start_time": "2022-07-09T14:18:29.574Z"
   },
   {
    "duration": 4,
    "start_time": "2022-07-09T14:18:30.130Z"
   },
   {
    "duration": 806,
    "start_time": "2022-07-09T14:18:30.135Z"
   },
   {
    "duration": 351,
    "start_time": "2022-07-09T14:18:30.945Z"
   },
   {
    "duration": 5,
    "start_time": "2022-07-09T14:18:31.298Z"
   },
   {
    "duration": 41,
    "start_time": "2022-07-09T14:18:31.305Z"
   },
   {
    "duration": 42,
    "start_time": "2022-07-09T14:18:31.348Z"
   },
   {
    "duration": 4,
    "start_time": "2022-07-09T14:18:31.392Z"
   },
   {
    "duration": 11,
    "start_time": "2022-07-09T14:18:31.398Z"
   },
   {
    "duration": 16737,
    "start_time": "2022-07-09T14:18:31.411Z"
   },
   {
    "duration": 102,
    "start_time": "2022-07-09T14:18:48.151Z"
   },
   {
    "duration": 6,
    "start_time": "2022-07-09T14:18:48.255Z"
   },
   {
    "duration": 22987,
    "start_time": "2022-07-09T14:18:48.264Z"
   },
   {
    "duration": 94,
    "start_time": "2022-07-09T14:19:11.253Z"
   },
   {
    "duration": 103,
    "start_time": "2022-07-09T14:19:11.350Z"
   },
   {
    "duration": 10,
    "start_time": "2022-07-09T14:19:11.456Z"
   },
   {
    "duration": 100,
    "start_time": "2022-07-09T14:19:11.546Z"
   },
   {
    "duration": 8,
    "start_time": "2022-07-09T14:19:11.649Z"
   },
   {
    "duration": 94,
    "start_time": "2022-07-09T14:19:11.660Z"
   },
   {
    "duration": 1452,
    "start_time": "2022-07-09T14:19:31.628Z"
   },
   {
    "duration": 683,
    "start_time": "2022-07-09T14:19:33.082Z"
   },
   {
    "duration": 394,
    "start_time": "2022-07-09T14:19:33.769Z"
   },
   {
    "duration": 25,
    "start_time": "2022-07-09T14:19:34.165Z"
   },
   {
    "duration": 16,
    "start_time": "2022-07-09T14:19:34.192Z"
   },
   {
    "duration": 46,
    "start_time": "2022-07-09T14:19:34.210Z"
   },
   {
    "duration": 109,
    "start_time": "2022-07-09T14:19:34.258Z"
   },
   {
    "duration": 557,
    "start_time": "2022-07-09T14:19:34.369Z"
   },
   {
    "duration": 1878,
    "start_time": "2022-07-09T14:19:34.929Z"
   },
   {
    "duration": 16,
    "start_time": "2022-07-09T14:19:36.808Z"
   },
   {
    "duration": 20,
    "start_time": "2022-07-09T14:19:36.826Z"
   },
   {
    "duration": 10,
    "start_time": "2022-07-09T14:19:36.848Z"
   },
   {
    "duration": 286,
    "start_time": "2022-07-09T14:19:36.860Z"
   },
   {
    "duration": 293,
    "start_time": "2022-07-09T14:19:37.147Z"
   },
   {
    "duration": 4,
    "start_time": "2022-07-09T14:19:37.445Z"
   },
   {
    "duration": 458,
    "start_time": "2022-07-09T14:19:37.451Z"
   },
   {
    "duration": 3,
    "start_time": "2022-07-09T14:19:37.910Z"
   },
   {
    "duration": 854,
    "start_time": "2022-07-09T14:19:37.915Z"
   },
   {
    "duration": 375,
    "start_time": "2022-07-09T14:19:38.771Z"
   },
   {
    "duration": 6,
    "start_time": "2022-07-09T14:19:39.148Z"
   },
   {
    "duration": 26,
    "start_time": "2022-07-09T14:19:39.156Z"
   },
   {
    "duration": 30,
    "start_time": "2022-07-09T14:19:39.185Z"
   },
   {
    "duration": 7,
    "start_time": "2022-07-09T14:19:39.217Z"
   },
   {
    "duration": 10,
    "start_time": "2022-07-09T14:19:39.245Z"
   },
   {
    "duration": 15494,
    "start_time": "2022-07-09T14:19:39.258Z"
   },
   {
    "duration": 96,
    "start_time": "2022-07-09T14:19:54.755Z"
   },
   {
    "duration": 91,
    "start_time": "2022-07-09T14:19:54.856Z"
   },
   {
    "duration": 19504,
    "start_time": "2022-07-09T14:19:54.948Z"
   },
   {
    "duration": 99,
    "start_time": "2022-07-09T14:20:14.454Z"
   },
   {
    "duration": 193,
    "start_time": "2022-07-09T14:20:14.556Z"
   },
   {
    "duration": 94,
    "start_time": "2022-07-09T14:20:14.757Z"
   },
   {
    "duration": 11,
    "start_time": "2022-07-09T14:20:14.853Z"
   },
   {
    "duration": 90,
    "start_time": "2022-07-09T14:20:14.867Z"
   },
   {
    "duration": 99,
    "start_time": "2022-07-09T14:20:14.960Z"
   },
   {
    "duration": 1221,
    "start_time": "2022-07-09T14:21:12.040Z"
   },
   {
    "duration": 4,
    "start_time": "2022-07-09T14:21:45.401Z"
   },
   {
    "duration": 708,
    "start_time": "2022-07-09T14:21:45.410Z"
   },
   {
    "duration": 388,
    "start_time": "2022-07-09T14:21:46.120Z"
   },
   {
    "duration": 39,
    "start_time": "2022-07-09T14:21:46.520Z"
   },
   {
    "duration": 16,
    "start_time": "2022-07-09T14:21:46.562Z"
   },
   {
    "duration": 15,
    "start_time": "2022-07-09T14:21:46.580Z"
   },
   {
    "duration": 104,
    "start_time": "2022-07-09T14:21:46.596Z"
   },
   {
    "duration": 546,
    "start_time": "2022-07-09T14:21:46.701Z"
   },
   {
    "duration": 1872,
    "start_time": "2022-07-09T14:21:48.960Z"
   },
   {
    "duration": 1404,
    "start_time": "2022-07-09T14:22:15.489Z"
   },
   {
    "duration": 709,
    "start_time": "2022-07-09T14:22:16.894Z"
   },
   {
    "duration": 662,
    "start_time": "2022-07-09T14:22:17.605Z"
   },
   {
    "duration": 78,
    "start_time": "2022-07-09T14:22:18.269Z"
   },
   {
    "duration": 16,
    "start_time": "2022-07-09T14:22:18.348Z"
   },
   {
    "duration": 30,
    "start_time": "2022-07-09T14:22:18.365Z"
   },
   {
    "duration": 250,
    "start_time": "2022-07-09T14:22:18.397Z"
   },
   {
    "duration": 1039,
    "start_time": "2022-07-09T14:22:18.649Z"
   },
   {
    "duration": 944,
    "start_time": "2022-07-09T14:22:19.690Z"
   },
   {
    "duration": 370,
    "start_time": "2022-07-09T14:22:20.637Z"
   },
   {
    "duration": 0,
    "start_time": "2022-07-09T14:22:21.009Z"
   },
   {
    "duration": 0,
    "start_time": "2022-07-09T14:22:21.010Z"
   },
   {
    "duration": 0,
    "start_time": "2022-07-09T14:22:21.011Z"
   },
   {
    "duration": 0,
    "start_time": "2022-07-09T14:22:21.013Z"
   },
   {
    "duration": 0,
    "start_time": "2022-07-09T14:22:21.014Z"
   },
   {
    "duration": 0,
    "start_time": "2022-07-09T14:22:21.016Z"
   },
   {
    "duration": 0,
    "start_time": "2022-07-09T14:22:21.017Z"
   },
   {
    "duration": 0,
    "start_time": "2022-07-09T14:22:21.018Z"
   },
   {
    "duration": 0,
    "start_time": "2022-07-09T14:22:21.019Z"
   },
   {
    "duration": 0,
    "start_time": "2022-07-09T14:22:21.021Z"
   },
   {
    "duration": 0,
    "start_time": "2022-07-09T14:22:21.022Z"
   },
   {
    "duration": 0,
    "start_time": "2022-07-09T14:22:21.024Z"
   },
   {
    "duration": 0,
    "start_time": "2022-07-09T14:22:21.025Z"
   },
   {
    "duration": 0,
    "start_time": "2022-07-09T14:22:21.026Z"
   },
   {
    "duration": 0,
    "start_time": "2022-07-09T14:22:21.027Z"
   },
   {
    "duration": 0,
    "start_time": "2022-07-09T14:22:21.029Z"
   },
   {
    "duration": 0,
    "start_time": "2022-07-09T14:22:21.030Z"
   },
   {
    "duration": 0,
    "start_time": "2022-07-09T14:22:21.032Z"
   },
   {
    "duration": 0,
    "start_time": "2022-07-09T14:22:21.033Z"
   },
   {
    "duration": 0,
    "start_time": "2022-07-09T14:22:21.034Z"
   },
   {
    "duration": 0,
    "start_time": "2022-07-09T14:22:21.036Z"
   },
   {
    "duration": 0,
    "start_time": "2022-07-09T14:22:21.037Z"
   },
   {
    "duration": 0,
    "start_time": "2022-07-09T14:22:21.038Z"
   },
   {
    "duration": 0,
    "start_time": "2022-07-09T14:22:21.040Z"
   },
   {
    "duration": 6,
    "start_time": "2022-07-09T14:22:29.409Z"
   },
   {
    "duration": 16,
    "start_time": "2022-07-09T14:22:29.417Z"
   },
   {
    "duration": 357,
    "start_time": "2022-07-09T14:22:29.435Z"
   },
   {
    "duration": 287,
    "start_time": "2022-07-09T14:22:29.794Z"
   },
   {
    "duration": 4,
    "start_time": "2022-07-09T14:22:30.083Z"
   },
   {
    "duration": 456,
    "start_time": "2022-07-09T14:22:30.089Z"
   },
   {
    "duration": 3,
    "start_time": "2022-07-09T14:22:30.547Z"
   },
   {
    "duration": 748,
    "start_time": "2022-07-09T14:22:30.552Z"
   },
   {
    "duration": 407,
    "start_time": "2022-07-09T14:22:31.301Z"
   },
   {
    "duration": 5,
    "start_time": "2022-07-09T14:22:31.710Z"
   },
   {
    "duration": 27,
    "start_time": "2022-07-09T14:22:31.719Z"
   },
   {
    "duration": 17,
    "start_time": "2022-07-09T14:22:31.747Z"
   },
   {
    "duration": 4,
    "start_time": "2022-07-09T14:22:31.766Z"
   },
   {
    "duration": 9,
    "start_time": "2022-07-09T14:22:31.771Z"
   },
   {
    "duration": 14372,
    "start_time": "2022-07-09T14:22:31.782Z"
   },
   {
    "duration": 99,
    "start_time": "2022-07-09T14:22:46.156Z"
   },
   {
    "duration": 13,
    "start_time": "2022-07-09T14:22:46.346Z"
   },
   {
    "duration": 18102,
    "start_time": "2022-07-09T14:22:46.361Z"
   },
   {
    "duration": 99,
    "start_time": "2022-07-09T14:23:04.548Z"
   },
   {
    "duration": 22,
    "start_time": "2022-07-09T14:23:04.649Z"
   },
   {
    "duration": 100,
    "start_time": "2022-07-09T14:23:04.747Z"
   },
   {
    "duration": 9,
    "start_time": "2022-07-09T14:23:04.849Z"
   },
   {
    "duration": 192,
    "start_time": "2022-07-09T14:23:04.860Z"
   },
   {
    "duration": 7,
    "start_time": "2022-07-09T14:23:05.054Z"
   },
   {
    "duration": 4,
    "start_time": "2022-07-09T14:23:25.645Z"
   },
   {
    "duration": 689,
    "start_time": "2022-07-09T14:23:25.651Z"
   },
   {
    "duration": 333,
    "start_time": "2022-07-09T14:23:26.342Z"
   },
   {
    "duration": 24,
    "start_time": "2022-07-09T14:23:26.677Z"
   },
   {
    "duration": 49,
    "start_time": "2022-07-09T14:23:26.703Z"
   },
   {
    "duration": 26,
    "start_time": "2022-07-09T14:23:26.754Z"
   },
   {
    "duration": 96,
    "start_time": "2022-07-09T14:23:26.782Z"
   },
   {
    "duration": 549,
    "start_time": "2022-07-09T14:23:26.880Z"
   },
   {
    "duration": 2118,
    "start_time": "2022-07-09T14:23:48.280Z"
   },
   {
    "duration": 1424,
    "start_time": "2022-07-09T14:24:23.734Z"
   },
   {
    "duration": 795,
    "start_time": "2022-07-09T14:24:25.161Z"
   },
   {
    "duration": 704,
    "start_time": "2022-07-09T14:24:25.958Z"
   },
   {
    "duration": 23,
    "start_time": "2022-07-09T14:24:26.664Z"
   },
   {
    "duration": 78,
    "start_time": "2022-07-09T14:24:26.689Z"
   },
   {
    "duration": 14,
    "start_time": "2022-07-09T14:24:26.769Z"
   },
   {
    "duration": 206,
    "start_time": "2022-07-09T14:24:26.784Z"
   },
   {
    "duration": 926,
    "start_time": "2022-07-09T14:24:26.991Z"
   },
   {
    "duration": 406,
    "start_time": "2022-07-09T14:24:27.919Z"
   },
   {
    "duration": 24,
    "start_time": "2022-07-09T14:24:28.328Z"
   },
   {
    "duration": 9,
    "start_time": "2022-07-09T14:24:28.353Z"
   },
   {
    "duration": 13,
    "start_time": "2022-07-09T14:24:28.364Z"
   },
   {
    "duration": 335,
    "start_time": "2022-07-09T14:24:28.379Z"
   },
   {
    "duration": 383,
    "start_time": "2022-07-09T14:24:28.716Z"
   },
   {
    "duration": 6,
    "start_time": "2022-07-09T14:24:29.101Z"
   },
   {
    "duration": 463,
    "start_time": "2022-07-09T14:24:29.110Z"
   },
   {
    "duration": 4,
    "start_time": "2022-07-09T14:24:29.574Z"
   },
   {
    "duration": 753,
    "start_time": "2022-07-09T14:24:29.579Z"
   },
   {
    "duration": 417,
    "start_time": "2022-07-09T14:24:30.333Z"
   },
   {
    "duration": 5,
    "start_time": "2022-07-09T14:24:30.751Z"
   },
   {
    "duration": 32,
    "start_time": "2022-07-09T14:24:30.757Z"
   },
   {
    "duration": 20,
    "start_time": "2022-07-09T14:24:30.791Z"
   },
   {
    "duration": 5,
    "start_time": "2022-07-09T14:24:30.813Z"
   },
   {
    "duration": 18,
    "start_time": "2022-07-09T14:24:30.819Z"
   },
   {
    "duration": 15621,
    "start_time": "2022-07-09T14:24:30.839Z"
   },
   {
    "duration": 102,
    "start_time": "2022-07-09T14:24:46.548Z"
   },
   {
    "duration": 8,
    "start_time": "2022-07-09T14:24:46.652Z"
   },
   {
    "duration": 26086,
    "start_time": "2022-07-09T14:24:46.663Z"
   },
   {
    "duration": 97,
    "start_time": "2022-07-09T14:25:12.751Z"
   },
   {
    "duration": 114,
    "start_time": "2022-07-09T14:25:12.851Z"
   },
   {
    "duration": 103,
    "start_time": "2022-07-09T14:25:13.050Z"
   },
   {
    "duration": 16,
    "start_time": "2022-07-09T14:25:13.155Z"
   },
   {
    "duration": 96,
    "start_time": "2022-07-09T14:25:13.252Z"
   },
   {
    "duration": 8,
    "start_time": "2022-07-09T14:25:13.351Z"
   },
   {
    "duration": 5,
    "start_time": "2022-07-09T14:26:28.223Z"
   },
   {
    "duration": 4,
    "start_time": "2022-07-09T14:27:19.685Z"
   },
   {
    "duration": 4,
    "start_time": "2022-07-09T14:27:35.855Z"
   },
   {
    "duration": 4,
    "start_time": "2022-07-09T14:28:05.375Z"
   },
   {
    "duration": 1457,
    "start_time": "2022-07-09T14:28:23.406Z"
   },
   {
    "duration": 694,
    "start_time": "2022-07-09T14:28:24.865Z"
   },
   {
    "duration": 330,
    "start_time": "2022-07-09T14:28:25.560Z"
   },
   {
    "duration": 53,
    "start_time": "2022-07-09T14:28:25.893Z"
   },
   {
    "duration": 16,
    "start_time": "2022-07-09T14:28:25.948Z"
   },
   {
    "duration": 14,
    "start_time": "2022-07-09T14:28:25.966Z"
   },
   {
    "duration": 112,
    "start_time": "2022-07-09T14:28:25.982Z"
   },
   {
    "duration": 554,
    "start_time": "2022-07-09T14:28:26.095Z"
   },
   {
    "duration": 4,
    "start_time": "2022-07-09T14:28:26.651Z"
   },
   {
    "duration": 2346,
    "start_time": "2022-07-09T14:28:26.659Z"
   },
   {
    "duration": 26,
    "start_time": "2022-07-09T14:28:29.007Z"
   },
   {
    "duration": 16,
    "start_time": "2022-07-09T14:28:29.035Z"
   },
   {
    "duration": 25,
    "start_time": "2022-07-09T14:28:29.053Z"
   },
   {
    "duration": 320,
    "start_time": "2022-07-09T14:28:29.080Z"
   },
   {
    "duration": 327,
    "start_time": "2022-07-09T14:28:29.402Z"
   },
   {
    "duration": 4,
    "start_time": "2022-07-09T14:28:29.731Z"
   },
   {
    "duration": 480,
    "start_time": "2022-07-09T14:28:29.746Z"
   },
   {
    "duration": 3,
    "start_time": "2022-07-09T14:28:30.228Z"
   },
   {
    "duration": 881,
    "start_time": "2022-07-09T14:28:30.233Z"
   },
   {
    "duration": 341,
    "start_time": "2022-07-09T14:28:31.116Z"
   },
   {
    "duration": 5,
    "start_time": "2022-07-09T14:28:31.459Z"
   },
   {
    "duration": 24,
    "start_time": "2022-07-09T14:28:31.465Z"
   },
   {
    "duration": 24,
    "start_time": "2022-07-09T14:28:31.491Z"
   },
   {
    "duration": 5,
    "start_time": "2022-07-09T14:28:31.517Z"
   },
   {
    "duration": 8,
    "start_time": "2022-07-09T14:28:31.545Z"
   },
   {
    "duration": 23892,
    "start_time": "2022-07-09T14:28:31.555Z"
   },
   {
    "duration": 101,
    "start_time": "2022-07-09T14:28:55.449Z"
   },
   {
    "duration": 8,
    "start_time": "2022-07-09T14:28:55.553Z"
   },
   {
    "duration": 37394,
    "start_time": "2022-07-09T14:28:55.563Z"
   },
   {
    "duration": 95,
    "start_time": "2022-07-09T14:29:33.051Z"
   },
   {
    "duration": 10,
    "start_time": "2022-07-09T14:29:33.149Z"
   },
   {
    "duration": 192,
    "start_time": "2022-07-09T14:29:33.162Z"
   },
   {
    "duration": 9,
    "start_time": "2022-07-09T14:29:33.356Z"
   },
   {
    "duration": 182,
    "start_time": "2022-07-09T14:29:33.367Z"
   },
   {
    "duration": 6,
    "start_time": "2022-07-09T14:29:33.551Z"
   },
   {
    "duration": 1458,
    "start_time": "2022-07-09T14:30:33.970Z"
   },
   {
    "duration": 729,
    "start_time": "2022-07-09T14:30:35.430Z"
   },
   {
    "duration": 385,
    "start_time": "2022-07-09T14:30:36.160Z"
   },
   {
    "duration": 24,
    "start_time": "2022-07-09T14:30:36.548Z"
   },
   {
    "duration": 15,
    "start_time": "2022-07-09T14:30:36.574Z"
   },
   {
    "duration": 21,
    "start_time": "2022-07-09T14:30:36.591Z"
   },
   {
    "duration": 125,
    "start_time": "2022-07-09T14:30:36.613Z"
   },
   {
    "duration": 559,
    "start_time": "2022-07-09T14:30:36.746Z"
   },
   {
    "duration": 2130,
    "start_time": "2022-07-09T14:30:37.307Z"
   },
   {
    "duration": 18,
    "start_time": "2022-07-09T14:30:39.445Z"
   },
   {
    "duration": 10,
    "start_time": "2022-07-09T14:30:39.464Z"
   },
   {
    "duration": 22,
    "start_time": "2022-07-09T14:30:39.475Z"
   },
   {
    "duration": 273,
    "start_time": "2022-07-09T14:30:39.499Z"
   },
   {
    "duration": 317,
    "start_time": "2022-07-09T14:30:39.773Z"
   },
   {
    "duration": 5,
    "start_time": "2022-07-09T14:30:40.092Z"
   },
   {
    "duration": 557,
    "start_time": "2022-07-09T14:30:40.099Z"
   },
   {
    "duration": 3,
    "start_time": "2022-07-09T14:30:40.659Z"
   },
   {
    "duration": 742,
    "start_time": "2022-07-09T14:30:40.664Z"
   },
   {
    "duration": 347,
    "start_time": "2022-07-09T14:30:41.408Z"
   },
   {
    "duration": 4,
    "start_time": "2022-07-09T14:30:41.757Z"
   },
   {
    "duration": 23,
    "start_time": "2022-07-09T14:30:41.763Z"
   },
   {
    "duration": 21,
    "start_time": "2022-07-09T14:30:41.789Z"
   },
   {
    "duration": 5,
    "start_time": "2022-07-09T14:30:41.812Z"
   },
   {
    "duration": 31,
    "start_time": "2022-07-09T14:30:41.818Z"
   },
   {
    "duration": 16296,
    "start_time": "2022-07-09T14:30:41.851Z"
   },
   {
    "duration": 101,
    "start_time": "2022-07-09T14:30:58.152Z"
   },
   {
    "duration": 12,
    "start_time": "2022-07-09T14:30:58.255Z"
   },
   {
    "duration": 22282,
    "start_time": "2022-07-09T14:30:58.270Z"
   },
   {
    "duration": 91,
    "start_time": "2022-07-09T14:31:20.555Z"
   },
   {
    "duration": 199,
    "start_time": "2022-07-09T14:31:20.649Z"
   },
   {
    "duration": 8,
    "start_time": "2022-07-09T14:31:20.851Z"
   },
   {
    "duration": 86,
    "start_time": "2022-07-09T14:31:20.861Z"
   },
   {
    "duration": 116,
    "start_time": "2022-07-09T14:31:20.949Z"
   },
   {
    "duration": 43,
    "start_time": "2022-07-09T14:31:21.067Z"
   },
   {
    "duration": 1392,
    "start_time": "2022-07-09T14:31:50.369Z"
   },
   {
    "duration": 887,
    "start_time": "2022-07-09T14:31:51.763Z"
   },
   {
    "duration": 716,
    "start_time": "2022-07-09T14:31:52.652Z"
   },
   {
    "duration": 77,
    "start_time": "2022-07-09T14:31:53.371Z"
   },
   {
    "duration": 16,
    "start_time": "2022-07-09T14:31:53.450Z"
   },
   {
    "duration": 15,
    "start_time": "2022-07-09T14:31:53.468Z"
   },
   {
    "duration": 271,
    "start_time": "2022-07-09T14:31:53.484Z"
   },
   {
    "duration": 860,
    "start_time": "2022-07-09T14:31:53.757Z"
   },
   {
    "duration": 1949,
    "start_time": "2022-07-09T14:31:54.619Z"
   },
   {
    "duration": 24,
    "start_time": "2022-07-09T14:31:56.572Z"
   },
   {
    "duration": 7,
    "start_time": "2022-07-09T14:31:56.598Z"
   },
   {
    "duration": 14,
    "start_time": "2022-07-09T14:31:56.607Z"
   },
   {
    "duration": 302,
    "start_time": "2022-07-09T14:31:56.647Z"
   },
   {
    "duration": 313,
    "start_time": "2022-07-09T14:31:56.951Z"
   },
   {
    "duration": 5,
    "start_time": "2022-07-09T14:31:57.266Z"
   },
   {
    "duration": 468,
    "start_time": "2022-07-09T14:31:57.272Z"
   },
   {
    "duration": 4,
    "start_time": "2022-07-09T14:31:57.742Z"
   },
   {
    "duration": 879,
    "start_time": "2022-07-09T14:31:57.748Z"
   },
   {
    "duration": 365,
    "start_time": "2022-07-09T14:31:58.628Z"
   },
   {
    "duration": 6,
    "start_time": "2022-07-09T14:31:58.995Z"
   },
   {
    "duration": 33,
    "start_time": "2022-07-09T14:31:59.003Z"
   },
   {
    "duration": 27,
    "start_time": "2022-07-09T14:31:59.045Z"
   },
   {
    "duration": 7,
    "start_time": "2022-07-09T14:31:59.074Z"
   },
   {
    "duration": 19,
    "start_time": "2022-07-09T14:31:59.084Z"
   },
   {
    "duration": 12851,
    "start_time": "2022-07-09T14:31:59.105Z"
   },
   {
    "duration": 0,
    "start_time": "2022-07-09T14:32:11.958Z"
   },
   {
    "duration": 0,
    "start_time": "2022-07-09T14:32:11.959Z"
   },
   {
    "duration": 0,
    "start_time": "2022-07-09T14:32:11.961Z"
   },
   {
    "duration": 0,
    "start_time": "2022-07-09T14:32:11.962Z"
   },
   {
    "duration": 0,
    "start_time": "2022-07-09T14:32:11.963Z"
   },
   {
    "duration": 0,
    "start_time": "2022-07-09T14:32:11.964Z"
   },
   {
    "duration": 0,
    "start_time": "2022-07-09T14:32:11.964Z"
   },
   {
    "duration": 0,
    "start_time": "2022-07-09T14:32:11.965Z"
   },
   {
    "duration": 0,
    "start_time": "2022-07-09T14:32:11.966Z"
   },
   {
    "duration": 5,
    "start_time": "2022-07-09T14:32:39.637Z"
   },
   {
    "duration": 1382,
    "start_time": "2022-07-09T14:32:46.496Z"
   },
   {
    "duration": 688,
    "start_time": "2022-07-09T14:32:47.880Z"
   },
   {
    "duration": 363,
    "start_time": "2022-07-09T14:32:48.570Z"
   },
   {
    "duration": 31,
    "start_time": "2022-07-09T14:32:48.945Z"
   },
   {
    "duration": 24,
    "start_time": "2022-07-09T14:32:48.978Z"
   },
   {
    "duration": 47,
    "start_time": "2022-07-09T14:32:49.004Z"
   },
   {
    "duration": 134,
    "start_time": "2022-07-09T14:32:49.054Z"
   },
   {
    "duration": 867,
    "start_time": "2022-07-09T14:32:49.190Z"
   },
   {
    "duration": 2784,
    "start_time": "2022-07-09T14:32:50.060Z"
   },
   {
    "duration": 19,
    "start_time": "2022-07-09T14:32:52.847Z"
   },
   {
    "duration": 7,
    "start_time": "2022-07-09T14:32:52.869Z"
   },
   {
    "duration": 13,
    "start_time": "2022-07-09T14:32:52.878Z"
   },
   {
    "duration": 306,
    "start_time": "2022-07-09T14:32:52.892Z"
   },
   {
    "duration": 333,
    "start_time": "2022-07-09T14:32:53.200Z"
   },
   {
    "duration": 11,
    "start_time": "2022-07-09T14:32:53.535Z"
   },
   {
    "duration": 547,
    "start_time": "2022-07-09T14:32:53.548Z"
   },
   {
    "duration": 3,
    "start_time": "2022-07-09T14:32:54.097Z"
   },
   {
    "duration": 744,
    "start_time": "2022-07-09T14:32:54.102Z"
   },
   {
    "duration": 325,
    "start_time": "2022-07-09T14:32:54.848Z"
   },
   {
    "duration": 5,
    "start_time": "2022-07-09T14:32:55.175Z"
   },
   {
    "duration": 36,
    "start_time": "2022-07-09T14:32:55.181Z"
   },
   {
    "duration": 25,
    "start_time": "2022-07-09T14:32:55.219Z"
   },
   {
    "duration": 5,
    "start_time": "2022-07-09T14:32:55.247Z"
   },
   {
    "duration": 18,
    "start_time": "2022-07-09T14:32:55.254Z"
   },
   {
    "duration": 14883,
    "start_time": "2022-07-09T14:32:55.274Z"
   },
   {
    "duration": 100,
    "start_time": "2022-07-09T14:33:10.159Z"
   },
   {
    "duration": 14,
    "start_time": "2022-07-09T14:33:10.346Z"
   },
   {
    "duration": 19089,
    "start_time": "2022-07-09T14:33:10.362Z"
   },
   {
    "duration": 95,
    "start_time": "2022-07-09T14:33:29.453Z"
   },
   {
    "duration": 108,
    "start_time": "2022-07-09T14:33:29.550Z"
   },
   {
    "duration": 90,
    "start_time": "2022-07-09T14:33:29.660Z"
   },
   {
    "duration": 99,
    "start_time": "2022-07-09T14:33:29.752Z"
   },
   {
    "duration": 93,
    "start_time": "2022-07-09T14:33:29.854Z"
   },
   {
    "duration": 5,
    "start_time": "2022-07-09T14:33:29.950Z"
   },
   {
    "duration": 523,
    "start_time": "2022-07-09T14:37:58.665Z"
   },
   {
    "duration": 23,
    "start_time": "2022-07-09T14:46:54.128Z"
   },
   {
    "duration": 25,
    "start_time": "2022-07-09T14:47:01.659Z"
   },
   {
    "duration": 23,
    "start_time": "2022-07-09T14:47:04.092Z"
   },
   {
    "duration": 8,
    "start_time": "2022-07-09T14:49:23.650Z"
   },
   {
    "duration": 4269,
    "start_time": "2022-07-09T14:53:29.920Z"
   },
   {
    "duration": 18452,
    "start_time": "2022-07-09T14:53:45.766Z"
   },
   {
    "duration": 183,
    "start_time": "2022-07-09T14:54:54.514Z"
   },
   {
    "duration": 176755,
    "start_time": "2022-07-09T14:55:21.596Z"
   },
   {
    "duration": 32,
    "start_time": "2022-07-09T14:58:18.352Z"
   },
   {
    "duration": 174055,
    "start_time": "2022-07-09T15:16:45.099Z"
   },
   {
    "duration": 6,
    "start_time": "2022-07-09T15:19:48.383Z"
   },
   {
    "duration": 74588,
    "start_time": "2022-07-09T15:20:15.367Z"
   },
   {
    "duration": 443,
    "start_time": "2022-07-09T15:21:36.034Z"
   },
   {
    "duration": 47,
    "start_time": "2022-07-09T15:22:03.216Z"
   },
   {
    "duration": 13,
    "start_time": "2022-07-09T15:22:07.079Z"
   },
   {
    "duration": 451,
    "start_time": "2022-07-09T15:22:17.119Z"
   },
   {
    "duration": 74766,
    "start_time": "2022-07-09T15:22:29.128Z"
   },
   {
    "duration": 4,
    "start_time": "2022-07-09T15:24:00.518Z"
   },
   {
    "duration": 23,
    "start_time": "2022-07-09T15:24:13.201Z"
   },
   {
    "duration": 5,
    "start_time": "2022-07-09T15:25:58.461Z"
   },
   {
    "duration": 29437,
    "start_time": "2022-07-09T15:26:21.215Z"
   },
   {
    "duration": 5,
    "start_time": "2022-07-09T15:26:53.378Z"
   },
   {
    "duration": 38140,
    "start_time": "2022-07-09T15:30:03.807Z"
   },
   {
    "duration": 7,
    "start_time": "2022-07-09T15:30:41.949Z"
   },
   {
    "duration": 10,
    "start_time": "2022-07-09T15:34:04.153Z"
   },
   {
    "duration": 10,
    "start_time": "2022-07-09T15:34:32.861Z"
   },
   {
    "duration": 181740,
    "start_time": "2022-07-09T15:38:53.048Z"
   },
   {
    "duration": 4,
    "start_time": "2022-07-09T15:41:54.790Z"
   },
   {
    "duration": 4,
    "start_time": "2022-07-09T15:44:49.983Z"
   },
   {
    "duration": 268150,
    "start_time": "2022-07-09T15:45:04.021Z"
   },
   {
    "duration": 5,
    "start_time": "2022-07-09T15:49:32.173Z"
   },
   {
    "duration": 16,
    "start_time": "2022-07-09T15:49:32.180Z"
   },
   {
    "duration": 4,
    "start_time": "2022-07-09T15:49:36.885Z"
   },
   {
    "duration": 5,
    "start_time": "2022-07-09T15:50:13.270Z"
   },
   {
    "duration": 26,
    "start_time": "2022-07-09T15:50:23.706Z"
   },
   {
    "duration": 23,
    "start_time": "2022-07-09T15:50:32.152Z"
   },
   {
    "duration": 22,
    "start_time": "2022-07-09T15:51:20.349Z"
   },
   {
    "duration": 20,
    "start_time": "2022-07-09T15:51:35.910Z"
   },
   {
    "duration": 6,
    "start_time": "2022-07-09T15:57:03.289Z"
   },
   {
    "duration": 6,
    "start_time": "2022-07-09T15:57:24.973Z"
   },
   {
    "duration": 6,
    "start_time": "2022-07-09T15:57:31.700Z"
   },
   {
    "duration": 4,
    "start_time": "2022-07-09T15:58:22.950Z"
   },
   {
    "duration": 4,
    "start_time": "2022-07-09T15:58:30.593Z"
   },
   {
    "duration": 98,
    "start_time": "2022-07-09T15:59:35.450Z"
   },
   {
    "duration": 9,
    "start_time": "2022-07-09T16:00:34.215Z"
   },
   {
    "duration": 10,
    "start_time": "2022-07-09T16:00:49.455Z"
   },
   {
    "duration": 17,
    "start_time": "2022-07-09T16:01:56.766Z"
   },
   {
    "duration": 26,
    "start_time": "2022-07-09T16:02:12.319Z"
   },
   {
    "duration": 13,
    "start_time": "2022-07-09T16:02:46.006Z"
   },
   {
    "duration": 14,
    "start_time": "2022-07-09T16:02:57.148Z"
   },
   {
    "duration": 3,
    "start_time": "2022-07-09T16:13:18.775Z"
   },
   {
    "duration": 731,
    "start_time": "2022-07-09T16:13:18.782Z"
   },
   {
    "duration": 331,
    "start_time": "2022-07-09T16:13:19.515Z"
   },
   {
    "duration": 23,
    "start_time": "2022-07-09T16:13:19.848Z"
   },
   {
    "duration": 16,
    "start_time": "2022-07-09T16:13:19.873Z"
   },
   {
    "duration": 14,
    "start_time": "2022-07-09T16:13:19.891Z"
   },
   {
    "duration": 114,
    "start_time": "2022-07-09T16:13:19.906Z"
   },
   {
    "duration": 572,
    "start_time": "2022-07-09T16:13:20.022Z"
   },
   {
    "duration": 2090,
    "start_time": "2022-07-09T16:13:20.595Z"
   },
   {
    "duration": 18,
    "start_time": "2022-07-09T16:13:22.686Z"
   },
   {
    "duration": 6,
    "start_time": "2022-07-09T16:13:22.706Z"
   },
   {
    "duration": 11,
    "start_time": "2022-07-09T16:13:25.197Z"
   },
   {
    "duration": 49,
    "start_time": "2022-07-09T16:14:25.157Z"
   },
   {
    "duration": 6,
    "start_time": "2022-07-09T16:14:28.948Z"
   },
   {
    "duration": 716,
    "start_time": "2022-07-09T16:14:28.956Z"
   },
   {
    "duration": 332,
    "start_time": "2022-07-09T16:14:29.674Z"
   },
   {
    "duration": 45,
    "start_time": "2022-07-09T16:14:30.008Z"
   },
   {
    "duration": 17,
    "start_time": "2022-07-09T16:14:30.055Z"
   },
   {
    "duration": 32,
    "start_time": "2022-07-09T16:14:30.074Z"
   },
   {
    "duration": 100,
    "start_time": "2022-07-09T16:14:30.108Z"
   },
   {
    "duration": 608,
    "start_time": "2022-07-09T16:14:30.210Z"
   },
   {
    "duration": 2070,
    "start_time": "2022-07-09T16:14:30.821Z"
   },
   {
    "duration": 27,
    "start_time": "2022-07-09T16:14:32.893Z"
   },
   {
    "duration": 23,
    "start_time": "2022-07-09T16:14:32.922Z"
   },
   {
    "duration": 10,
    "start_time": "2022-07-09T16:14:36.915Z"
   },
   {
    "duration": 38,
    "start_time": "2022-07-09T16:14:46.163Z"
   },
   {
    "duration": 4,
    "start_time": "2022-07-09T16:14:50.465Z"
   },
   {
    "duration": 665,
    "start_time": "2022-07-09T16:14:50.470Z"
   },
   {
    "duration": 326,
    "start_time": "2022-07-09T16:14:51.136Z"
   },
   {
    "duration": 23,
    "start_time": "2022-07-09T16:14:51.464Z"
   },
   {
    "duration": 19,
    "start_time": "2022-07-09T16:14:51.490Z"
   },
   {
    "duration": 42,
    "start_time": "2022-07-09T16:14:51.512Z"
   },
   {
    "duration": 92,
    "start_time": "2022-07-09T16:14:51.556Z"
   },
   {
    "duration": 575,
    "start_time": "2022-07-09T16:14:51.649Z"
   },
   {
    "duration": 1997,
    "start_time": "2022-07-09T16:14:52.226Z"
   },
   {
    "duration": 24,
    "start_time": "2022-07-09T16:14:54.225Z"
   },
   {
    "duration": 7,
    "start_time": "2022-07-09T16:14:54.251Z"
   },
   {
    "duration": 9,
    "start_time": "2022-07-09T16:14:54.260Z"
   },
   {
    "duration": 9,
    "start_time": "2022-07-09T16:18:07.461Z"
   },
   {
    "duration": 9,
    "start_time": "2022-07-09T16:18:14.870Z"
   },
   {
    "duration": 5,
    "start_time": "2022-07-09T16:18:31.171Z"
   },
   {
    "duration": 1814,
    "start_time": "2022-07-09T18:33:12.992Z"
   },
   {
    "duration": 1615,
    "start_time": "2022-07-09T18:33:14.810Z"
   },
   {
    "duration": 417,
    "start_time": "2022-07-09T18:33:16.427Z"
   },
   {
    "duration": 31,
    "start_time": "2022-07-09T18:33:16.847Z"
   },
   {
    "duration": 19,
    "start_time": "2022-07-09T18:33:16.880Z"
   },
   {
    "duration": 54,
    "start_time": "2022-07-09T18:33:16.902Z"
   },
   {
    "duration": 119,
    "start_time": "2022-07-09T18:33:16.960Z"
   },
   {
    "duration": 683,
    "start_time": "2022-07-09T18:33:17.081Z"
   },
   {
    "duration": 2307,
    "start_time": "2022-07-09T18:33:17.766Z"
   },
   {
    "duration": 20,
    "start_time": "2022-07-09T18:33:20.076Z"
   },
   {
    "duration": 6,
    "start_time": "2022-07-09T18:33:20.098Z"
   },
   {
    "duration": 15,
    "start_time": "2022-07-09T18:33:20.106Z"
   },
   {
    "duration": 43,
    "start_time": "2022-07-09T18:33:38.855Z"
   },
   {
    "duration": 294,
    "start_time": "2022-07-09T18:33:53.592Z"
   },
   {
    "duration": 341,
    "start_time": "2022-07-09T18:34:00.582Z"
   },
   {
    "duration": 102,
    "start_time": "2022-07-09T18:42:54.797Z"
   },
   {
    "duration": 54,
    "start_time": "2022-07-09T18:43:24.096Z"
   },
   {
    "duration": 48,
    "start_time": "2022-07-09T18:43:35.943Z"
   },
   {
    "duration": 51,
    "start_time": "2022-07-09T18:43:53.351Z"
   },
   {
    "duration": 1857,
    "start_time": "2022-07-09T18:44:12.448Z"
   },
   {
    "duration": 1516,
    "start_time": "2022-07-09T18:44:31.786Z"
   },
   {
    "duration": 760,
    "start_time": "2022-07-09T18:44:33.304Z"
   },
   {
    "duration": 417,
    "start_time": "2022-07-09T18:44:34.066Z"
   },
   {
    "duration": 57,
    "start_time": "2022-07-09T18:44:34.487Z"
   },
   {
    "duration": 27,
    "start_time": "2022-07-09T18:44:34.547Z"
   },
   {
    "duration": 26,
    "start_time": "2022-07-09T18:44:34.576Z"
   },
   {
    "duration": 140,
    "start_time": "2022-07-09T18:44:34.604Z"
   },
   {
    "duration": 653,
    "start_time": "2022-07-09T18:44:34.746Z"
   },
   {
    "duration": 2325,
    "start_time": "2022-07-09T18:44:35.401Z"
   },
   {
    "duration": 25,
    "start_time": "2022-07-09T18:44:37.729Z"
   },
   {
    "duration": 7,
    "start_time": "2022-07-09T18:44:37.757Z"
   },
   {
    "duration": 12,
    "start_time": "2022-07-09T18:44:37.766Z"
   },
   {
    "duration": 320,
    "start_time": "2022-07-09T18:44:37.780Z"
   },
   {
    "duration": 373,
    "start_time": "2022-07-09T18:44:38.101Z"
   },
   {
    "duration": 5,
    "start_time": "2022-07-09T18:44:38.476Z"
   },
   {
    "duration": 665,
    "start_time": "2022-07-09T18:44:38.484Z"
   },
   {
    "duration": 4,
    "start_time": "2022-07-09T18:44:39.151Z"
   },
   {
    "duration": 877,
    "start_time": "2022-07-09T18:44:39.157Z"
   },
   {
    "duration": 385,
    "start_time": "2022-07-09T18:44:40.036Z"
   },
   {
    "duration": 6,
    "start_time": "2022-07-09T18:44:40.423Z"
   },
   {
    "duration": 29,
    "start_time": "2022-07-09T18:44:40.431Z"
   },
   {
    "duration": 24,
    "start_time": "2022-07-09T18:44:40.462Z"
   },
   {
    "duration": 5,
    "start_time": "2022-07-09T18:44:40.489Z"
   },
   {
    "duration": 8,
    "start_time": "2022-07-09T18:44:40.496Z"
   },
   {
    "duration": 27246,
    "start_time": "2022-07-09T18:44:40.505Z"
   },
   {
    "duration": 80839,
    "start_time": "2022-07-09T18:45:07.845Z"
   },
   {
    "duration": 6,
    "start_time": "2022-07-09T18:46:28.685Z"
   },
   {
    "duration": 144,
    "start_time": "2022-07-09T18:46:28.695Z"
   },
   {
    "duration": 0,
    "start_time": "2022-07-09T18:46:28.842Z"
   },
   {
    "duration": 0,
    "start_time": "2022-07-09T18:46:28.844Z"
   },
   {
    "duration": 0,
    "start_time": "2022-07-09T18:46:28.845Z"
   },
   {
    "duration": 0,
    "start_time": "2022-07-09T18:46:28.848Z"
   },
   {
    "duration": 0,
    "start_time": "2022-07-09T18:46:28.849Z"
   },
   {
    "duration": 0,
    "start_time": "2022-07-09T18:46:28.851Z"
   },
   {
    "duration": 0,
    "start_time": "2022-07-09T18:46:28.852Z"
   },
   {
    "duration": 0,
    "start_time": "2022-07-09T18:46:28.854Z"
   },
   {
    "duration": 12,
    "start_time": "2022-07-09T18:48:06.847Z"
   },
   {
    "duration": 1532,
    "start_time": "2022-07-09T18:48:20.627Z"
   },
   {
    "duration": 747,
    "start_time": "2022-07-09T18:48:22.161Z"
   },
   {
    "duration": 376,
    "start_time": "2022-07-09T18:48:22.910Z"
   },
   {
    "duration": 26,
    "start_time": "2022-07-09T18:48:23.288Z"
   },
   {
    "duration": 18,
    "start_time": "2022-07-09T18:48:23.341Z"
   },
   {
    "duration": 16,
    "start_time": "2022-07-09T18:48:23.361Z"
   },
   {
    "duration": 118,
    "start_time": "2022-07-09T18:48:23.379Z"
   },
   {
    "duration": 635,
    "start_time": "2022-07-09T18:48:23.499Z"
   },
   {
    "duration": 2325,
    "start_time": "2022-07-09T18:48:24.141Z"
   },
   {
    "duration": 19,
    "start_time": "2022-07-09T18:48:26.469Z"
   },
   {
    "duration": 8,
    "start_time": "2022-07-09T18:48:26.491Z"
   },
   {
    "duration": 15,
    "start_time": "2022-07-09T18:48:26.501Z"
   },
   {
    "duration": 311,
    "start_time": "2022-07-09T18:48:26.542Z"
   },
   {
    "duration": 361,
    "start_time": "2022-07-09T18:48:26.857Z"
   },
   {
    "duration": 4,
    "start_time": "2022-07-09T18:48:27.220Z"
   },
   {
    "duration": 605,
    "start_time": "2022-07-09T18:48:27.226Z"
   },
   {
    "duration": 10,
    "start_time": "2022-07-09T18:48:27.834Z"
   },
   {
    "duration": 861,
    "start_time": "2022-07-09T18:48:27.846Z"
   },
   {
    "duration": 363,
    "start_time": "2022-07-09T18:48:28.709Z"
   },
   {
    "duration": 4,
    "start_time": "2022-07-09T18:48:29.074Z"
   },
   {
    "duration": 19,
    "start_time": "2022-07-09T18:48:29.079Z"
   },
   {
    "duration": 42,
    "start_time": "2022-07-09T18:48:29.100Z"
   },
   {
    "duration": 5,
    "start_time": "2022-07-09T18:48:29.144Z"
   },
   {
    "duration": 13,
    "start_time": "2022-07-09T18:48:29.150Z"
   },
   {
    "duration": 27092,
    "start_time": "2022-07-09T18:48:29.165Z"
   },
   {
    "duration": 36269,
    "start_time": "2022-07-09T18:48:56.259Z"
   },
   {
    "duration": 0,
    "start_time": "2022-07-09T18:49:32.530Z"
   },
   {
    "duration": 0,
    "start_time": "2022-07-09T18:49:32.532Z"
   },
   {
    "duration": 0,
    "start_time": "2022-07-09T18:49:32.542Z"
   },
   {
    "duration": 0,
    "start_time": "2022-07-09T18:49:32.544Z"
   },
   {
    "duration": 0,
    "start_time": "2022-07-09T18:49:32.545Z"
   },
   {
    "duration": 0,
    "start_time": "2022-07-09T18:49:32.546Z"
   },
   {
    "duration": 0,
    "start_time": "2022-07-09T18:49:32.547Z"
   },
   {
    "duration": 0,
    "start_time": "2022-07-09T18:49:32.548Z"
   },
   {
    "duration": 0,
    "start_time": "2022-07-09T18:49:32.549Z"
   },
   {
    "duration": 0,
    "start_time": "2022-07-09T18:49:32.550Z"
   },
   {
    "duration": 1470,
    "start_time": "2022-07-09T18:49:50.982Z"
   },
   {
    "duration": 759,
    "start_time": "2022-07-09T18:49:52.454Z"
   },
   {
    "duration": 377,
    "start_time": "2022-07-09T18:49:53.215Z"
   },
   {
    "duration": 52,
    "start_time": "2022-07-09T18:49:53.594Z"
   },
   {
    "duration": 18,
    "start_time": "2022-07-09T18:49:53.648Z"
   },
   {
    "duration": 13,
    "start_time": "2022-07-09T18:49:53.668Z"
   },
   {
    "duration": 127,
    "start_time": "2022-07-09T18:49:53.683Z"
   },
   {
    "duration": 670,
    "start_time": "2022-07-09T18:49:53.812Z"
   },
   {
    "duration": 2288,
    "start_time": "2022-07-09T18:49:54.484Z"
   },
   {
    "duration": 22,
    "start_time": "2022-07-09T18:49:56.775Z"
   },
   {
    "duration": 7,
    "start_time": "2022-07-09T18:49:56.798Z"
   },
   {
    "duration": 37,
    "start_time": "2022-07-09T18:49:56.807Z"
   },
   {
    "duration": 293,
    "start_time": "2022-07-09T18:49:56.846Z"
   },
   {
    "duration": 359,
    "start_time": "2022-07-09T18:49:57.140Z"
   },
   {
    "duration": 4,
    "start_time": "2022-07-09T18:49:57.501Z"
   },
   {
    "duration": 595,
    "start_time": "2022-07-09T18:49:57.507Z"
   },
   {
    "duration": 4,
    "start_time": "2022-07-09T18:49:58.103Z"
   },
   {
    "duration": 873,
    "start_time": "2022-07-09T18:49:58.109Z"
   },
   {
    "duration": 360,
    "start_time": "2022-07-09T18:49:58.984Z"
   },
   {
    "duration": 4,
    "start_time": "2022-07-09T18:49:59.345Z"
   },
   {
    "duration": 22,
    "start_time": "2022-07-09T18:49:59.351Z"
   },
   {
    "duration": 23,
    "start_time": "2022-07-09T18:49:59.375Z"
   },
   {
    "duration": 5,
    "start_time": "2022-07-09T18:49:59.400Z"
   },
   {
    "duration": 7,
    "start_time": "2022-07-09T18:49:59.407Z"
   },
   {
    "duration": 26812,
    "start_time": "2022-07-09T18:49:59.443Z"
   },
   {
    "duration": 82173,
    "start_time": "2022-07-09T18:50:26.345Z"
   },
   {
    "duration": 6,
    "start_time": "2022-07-09T18:51:48.520Z"
   },
   {
    "duration": 18,
    "start_time": "2022-07-09T18:51:48.531Z"
   },
   {
    "duration": 9,
    "start_time": "2022-07-09T18:51:48.551Z"
   },
   {
    "duration": 37681,
    "start_time": "2022-07-09T18:51:48.562Z"
   },
   {
    "duration": 290652,
    "start_time": "2022-07-09T18:52:26.245Z"
   },
   {
    "duration": 5,
    "start_time": "2022-07-09T18:57:16.899Z"
   },
   {
    "duration": 24,
    "start_time": "2022-07-09T18:57:16.906Z"
   },
   {
    "duration": 8,
    "start_time": "2022-07-09T18:57:16.943Z"
   },
   {
    "duration": 203,
    "start_time": "2022-07-09T18:57:16.953Z"
   },
   {
    "duration": 5,
    "start_time": "2022-07-09T18:57:17.158Z"
   },
   {
    "duration": 1578,
    "start_time": "2022-07-09T19:19:15.553Z"
   },
   {
    "duration": 726,
    "start_time": "2022-07-09T19:19:17.134Z"
   },
   {
    "duration": 383,
    "start_time": "2022-07-09T19:19:17.862Z"
   },
   {
    "duration": 26,
    "start_time": "2022-07-09T19:19:18.248Z"
   },
   {
    "duration": 19,
    "start_time": "2022-07-09T19:19:18.276Z"
   },
   {
    "duration": 49,
    "start_time": "2022-07-09T19:19:18.297Z"
   },
   {
    "duration": 114,
    "start_time": "2022-07-09T19:19:18.348Z"
   },
   {
    "duration": 634,
    "start_time": "2022-07-09T19:19:18.464Z"
   },
   {
    "duration": 2349,
    "start_time": "2022-07-09T19:19:19.100Z"
   },
   {
    "duration": 20,
    "start_time": "2022-07-09T19:19:21.453Z"
   },
   {
    "duration": 9,
    "start_time": "2022-07-09T19:19:21.475Z"
   },
   {
    "duration": 15,
    "start_time": "2022-07-09T19:19:21.486Z"
   },
   {
    "duration": 340,
    "start_time": "2022-07-09T19:19:21.504Z"
   },
   {
    "duration": 358,
    "start_time": "2022-07-09T19:19:21.846Z"
   },
   {
    "duration": 5,
    "start_time": "2022-07-09T19:19:22.206Z"
   },
   {
    "duration": 625,
    "start_time": "2022-07-09T19:19:22.213Z"
   },
   {
    "duration": 4,
    "start_time": "2022-07-09T19:19:22.840Z"
   },
   {
    "duration": 841,
    "start_time": "2022-07-09T19:19:22.846Z"
   },
   {
    "duration": 352,
    "start_time": "2022-07-09T19:19:23.689Z"
   },
   {
    "duration": 4,
    "start_time": "2022-07-09T19:19:24.042Z"
   },
   {
    "duration": 18,
    "start_time": "2022-07-09T19:19:24.048Z"
   },
   {
    "duration": 23,
    "start_time": "2022-07-09T19:19:24.068Z"
   },
   {
    "duration": 5,
    "start_time": "2022-07-09T19:19:24.093Z"
   },
   {
    "duration": 7,
    "start_time": "2022-07-09T19:19:24.100Z"
   },
   {
    "duration": 26656,
    "start_time": "2022-07-09T19:19:24.108Z"
   },
   {
    "duration": 78610,
    "start_time": "2022-07-09T19:19:50.765Z"
   },
   {
    "duration": 7,
    "start_time": "2022-07-09T19:21:09.377Z"
   },
   {
    "duration": 12,
    "start_time": "2022-07-09T19:21:09.388Z"
   },
   {
    "duration": 9,
    "start_time": "2022-07-09T19:21:09.402Z"
   },
   {
    "duration": 35434,
    "start_time": "2022-07-09T19:21:09.414Z"
   },
   {
    "duration": 2645432,
    "start_time": "2022-07-09T19:21:44.850Z"
   },
   {
    "duration": 6,
    "start_time": "2022-07-09T20:05:50.284Z"
   },
   {
    "duration": 26,
    "start_time": "2022-07-09T20:05:50.292Z"
   },
   {
    "duration": 31,
    "start_time": "2022-07-09T20:05:50.320Z"
   },
   {
    "duration": 217,
    "start_time": "2022-07-09T20:05:50.353Z"
   },
   {
    "duration": 4,
    "start_time": "2022-07-09T20:05:50.573Z"
   },
   {
    "duration": 5,
    "start_time": "2022-07-09T20:09:15.838Z"
   },
   {
    "duration": 24,
    "start_time": "2022-07-09T20:09:29.002Z"
   },
   {
    "duration": 10,
    "start_time": "2022-07-09T20:09:35.494Z"
   },
   {
    "duration": 203,
    "start_time": "2022-07-09T20:09:39.762Z"
   },
   {
    "duration": 51,
    "start_time": "2022-07-09T20:10:26.285Z"
   },
   {
    "duration": 145316,
    "start_time": "2022-07-09T20:10:31.338Z"
   },
   {
    "duration": 6,
    "start_time": "2022-07-09T20:13:29.258Z"
   },
   {
    "duration": 17,
    "start_time": "2022-07-09T20:13:34.962Z"
   },
   {
    "duration": 10,
    "start_time": "2022-07-09T20:13:42.760Z"
   },
   {
    "duration": 121,
    "start_time": "2022-07-09T20:13:45.942Z"
   },
   {
    "duration": 293516,
    "start_time": "2022-07-09T20:14:06.077Z"
   },
   {
    "duration": 7,
    "start_time": "2022-07-09T20:18:59.595Z"
   },
   {
    "duration": 10,
    "start_time": "2022-07-09T20:18:59.604Z"
   },
   {
    "duration": 18,
    "start_time": "2022-07-09T20:19:15.263Z"
   },
   {
    "duration": 107,
    "start_time": "2022-07-09T20:19:19.836Z"
   },
   {
    "duration": 6,
    "start_time": "2022-07-09T20:19:35.035Z"
   },
   {
    "duration": 179,
    "start_time": "2022-07-09T20:19:38.964Z"
   },
   {
    "duration": 8,
    "start_time": "2022-07-09T20:19:44.453Z"
   },
   {
    "duration": 1633,
    "start_time": "2022-07-09T20:20:31.929Z"
   },
   {
    "duration": 756,
    "start_time": "2022-07-09T20:20:33.565Z"
   },
   {
    "duration": 462,
    "start_time": "2022-07-09T20:20:34.322Z"
   },
   {
    "duration": 58,
    "start_time": "2022-07-09T20:20:34.786Z"
   },
   {
    "duration": 19,
    "start_time": "2022-07-09T20:20:34.846Z"
   },
   {
    "duration": 16,
    "start_time": "2022-07-09T20:20:34.867Z"
   },
   {
    "duration": 125,
    "start_time": "2022-07-09T20:20:34.885Z"
   },
   {
    "duration": 675,
    "start_time": "2022-07-09T20:20:35.012Z"
   },
   {
    "duration": 2358,
    "start_time": "2022-07-09T20:20:35.689Z"
   },
   {
    "duration": 21,
    "start_time": "2022-07-09T20:20:38.049Z"
   },
   {
    "duration": 12,
    "start_time": "2022-07-09T20:20:38.073Z"
   },
   {
    "duration": 15,
    "start_time": "2022-07-09T20:20:38.087Z"
   },
   {
    "duration": 333,
    "start_time": "2022-07-09T20:20:38.104Z"
   },
   {
    "duration": 378,
    "start_time": "2022-07-09T20:20:38.444Z"
   },
   {
    "duration": 5,
    "start_time": "2022-07-09T20:20:38.824Z"
   },
   {
    "duration": 609,
    "start_time": "2022-07-09T20:20:38.842Z"
   },
   {
    "duration": 5,
    "start_time": "2022-07-09T20:20:39.453Z"
   },
   {
    "duration": 934,
    "start_time": "2022-07-09T20:20:39.460Z"
   },
   {
    "duration": 412,
    "start_time": "2022-07-09T20:20:40.396Z"
   },
   {
    "duration": 5,
    "start_time": "2022-07-09T20:20:40.811Z"
   },
   {
    "duration": 40,
    "start_time": "2022-07-09T20:20:40.819Z"
   },
   {
    "duration": 36,
    "start_time": "2022-07-09T20:20:40.862Z"
   },
   {
    "duration": 5,
    "start_time": "2022-07-09T20:20:40.901Z"
   },
   {
    "duration": 26,
    "start_time": "2022-07-09T20:20:40.908Z"
   },
   {
    "duration": 30809,
    "start_time": "2022-07-09T20:20:40.936Z"
   },
   {
    "duration": 82850,
    "start_time": "2022-07-09T20:21:11.748Z"
   },
   {
    "duration": 9,
    "start_time": "2022-07-09T20:22:34.600Z"
   },
   {
    "duration": 32,
    "start_time": "2022-07-09T20:22:34.612Z"
   },
   {
    "duration": 30,
    "start_time": "2022-07-09T20:22:34.647Z"
   },
   {
    "duration": 35670,
    "start_time": "2022-07-09T20:22:34.680Z"
   },
   {
    "duration": 293432,
    "start_time": "2022-07-09T20:23:10.353Z"
   },
   {
    "duration": 5,
    "start_time": "2022-07-09T20:28:03.788Z"
   },
   {
    "duration": 27,
    "start_time": "2022-07-09T20:28:03.795Z"
   },
   {
    "duration": 26,
    "start_time": "2022-07-09T20:28:03.824Z"
   },
   {
    "duration": 209,
    "start_time": "2022-07-09T20:28:03.852Z"
   },
   {
    "duration": 5,
    "start_time": "2022-07-09T20:28:04.064Z"
   },
   {
    "duration": 1551,
    "start_time": "2022-07-10T05:53:53.457Z"
   },
   {
    "duration": 1405,
    "start_time": "2022-07-10T05:53:55.010Z"
   },
   {
    "duration": 313,
    "start_time": "2022-07-10T05:53:56.416Z"
   },
   {
    "duration": 23,
    "start_time": "2022-07-10T05:53:56.731Z"
   },
   {
    "duration": 45,
    "start_time": "2022-07-10T05:53:56.757Z"
   },
   {
    "duration": 14,
    "start_time": "2022-07-10T05:53:56.804Z"
   },
   {
    "duration": 91,
    "start_time": "2022-07-10T05:53:56.820Z"
   },
   {
    "duration": 538,
    "start_time": "2022-07-10T05:53:56.912Z"
   },
   {
    "duration": 1811,
    "start_time": "2022-07-10T05:53:57.453Z"
   },
   {
    "duration": 16,
    "start_time": "2022-07-10T05:53:59.266Z"
   },
   {
    "duration": 21,
    "start_time": "2022-07-10T05:53:59.284Z"
   },
   {
    "duration": 3,
    "start_time": "2022-07-10T05:55:00.504Z"
   },
   {
    "duration": 4,
    "start_time": "2022-07-10T05:55:35.590Z"
   },
   {
    "duration": 3,
    "start_time": "2022-07-10T05:58:09.722Z"
   },
   {
    "duration": 30,
    "start_time": "2022-07-10T05:59:19.821Z"
   },
   {
    "duration": 12,
    "start_time": "2022-07-10T05:59:50.367Z"
   },
   {
    "duration": 15,
    "start_time": "2022-07-10T06:00:12.527Z"
   },
   {
    "duration": 12,
    "start_time": "2022-07-10T06:00:17.863Z"
   },
   {
    "duration": 17,
    "start_time": "2022-07-10T06:00:19.233Z"
   },
   {
    "duration": 12,
    "start_time": "2022-07-10T06:01:33.321Z"
   },
   {
    "duration": 113,
    "start_time": "2022-07-10T06:01:56.043Z"
   },
   {
    "duration": 1192,
    "start_time": "2022-07-10T06:02:03.690Z"
   },
   {
    "duration": 16,
    "start_time": "2022-07-10T06:02:45.104Z"
   },
   {
    "duration": 17,
    "start_time": "2022-07-10T06:03:08.352Z"
   },
   {
    "duration": 5,
    "start_time": "2022-07-10T06:03:11.982Z"
   },
   {
    "duration": 706,
    "start_time": "2022-07-10T06:03:11.991Z"
   },
   {
    "duration": 3,
    "start_time": "2022-07-10T06:03:12.699Z"
   },
   {
    "duration": 326,
    "start_time": "2022-07-10T06:03:12.704Z"
   },
   {
    "duration": 21,
    "start_time": "2022-07-10T06:03:13.032Z"
   },
   {
    "duration": 15,
    "start_time": "2022-07-10T06:03:13.055Z"
   },
   {
    "duration": 18,
    "start_time": "2022-07-10T06:03:13.100Z"
   },
   {
    "duration": 103,
    "start_time": "2022-07-10T06:03:13.119Z"
   },
   {
    "duration": 554,
    "start_time": "2022-07-10T06:03:13.224Z"
   },
   {
    "duration": 2049,
    "start_time": "2022-07-10T06:03:13.779Z"
   },
   {
    "duration": 16,
    "start_time": "2022-07-10T06:03:15.830Z"
   },
   {
    "duration": 6,
    "start_time": "2022-07-10T06:03:15.848Z"
   },
   {
    "duration": 4,
    "start_time": "2022-07-10T06:03:15.856Z"
   },
   {
    "duration": 13,
    "start_time": "2022-07-10T06:03:47.521Z"
   },
   {
    "duration": 13,
    "start_time": "2022-07-10T06:04:12.366Z"
   },
   {
    "duration": 13,
    "start_time": "2022-07-10T06:13:33.341Z"
   },
   {
    "duration": 10,
    "start_time": "2022-07-10T06:13:36.262Z"
   },
   {
    "duration": 13,
    "start_time": "2022-07-10T06:13:38.613Z"
   },
   {
    "duration": 318,
    "start_time": "2022-07-10T06:25:03.356Z"
   },
   {
    "duration": 3,
    "start_time": "2022-07-10T06:27:32.764Z"
   },
   {
    "duration": 10,
    "start_time": "2022-07-10T06:28:08.202Z"
   },
   {
    "duration": 82,
    "start_time": "2022-07-10T06:28:25.476Z"
   },
   {
    "duration": 15,
    "start_time": "2022-07-10T06:28:32.662Z"
   },
   {
    "duration": 11,
    "start_time": "2022-07-10T06:29:03.768Z"
   },
   {
    "duration": 61,
    "start_time": "2022-07-10T06:31:45.603Z"
   },
   {
    "duration": 11,
    "start_time": "2022-07-10T06:31:56.597Z"
   },
   {
    "duration": 12,
    "start_time": "2022-07-10T06:32:30.754Z"
   },
   {
    "duration": 3,
    "start_time": "2022-07-10T06:32:50.882Z"
   },
   {
    "duration": 3,
    "start_time": "2022-07-10T06:32:58.223Z"
   },
   {
    "duration": 4,
    "start_time": "2022-07-10T06:33:13.769Z"
   },
   {
    "duration": 5,
    "start_time": "2022-07-10T06:33:22.040Z"
   },
   {
    "duration": 10,
    "start_time": "2022-07-10T06:33:37.720Z"
   },
   {
    "duration": 11,
    "start_time": "2022-07-10T06:33:52.678Z"
   },
   {
    "duration": 9,
    "start_time": "2022-07-10T06:34:43.361Z"
   },
   {
    "duration": 12,
    "start_time": "2022-07-10T06:35:06.316Z"
   },
   {
    "duration": 9,
    "start_time": "2022-07-10T06:35:18.902Z"
   },
   {
    "duration": 12,
    "start_time": "2022-07-10T06:35:33.960Z"
   },
   {
    "duration": 12,
    "start_time": "2022-07-10T06:35:45.144Z"
   },
   {
    "duration": 18,
    "start_time": "2022-07-10T06:36:43.839Z"
   },
   {
    "duration": 21,
    "start_time": "2022-07-10T06:37:00.918Z"
   },
   {
    "duration": 21,
    "start_time": "2022-07-10T06:41:01.722Z"
   },
   {
    "duration": 21,
    "start_time": "2022-07-10T06:41:17.065Z"
   },
   {
    "duration": 12,
    "start_time": "2022-07-10T06:41:23.367Z"
   },
   {
    "duration": 12,
    "start_time": "2022-07-10T06:41:29.969Z"
   },
   {
    "duration": 12,
    "start_time": "2022-07-10T06:42:28.080Z"
   },
   {
    "duration": 12,
    "start_time": "2022-07-10T06:42:37.494Z"
   },
   {
    "duration": 12,
    "start_time": "2022-07-10T06:45:27.840Z"
   },
   {
    "duration": 13,
    "start_time": "2022-07-10T06:45:37.460Z"
   },
   {
    "duration": 12,
    "start_time": "2022-07-10T06:47:44.876Z"
   },
   {
    "duration": 93,
    "start_time": "2022-07-10T06:50:22.481Z"
   },
   {
    "duration": 10,
    "start_time": "2022-07-10T06:50:29.152Z"
   },
   {
    "duration": 10,
    "start_time": "2022-07-10T06:50:31.927Z"
   },
   {
    "duration": 6,
    "start_time": "2022-07-10T06:50:40.169Z"
   },
   {
    "duration": 3,
    "start_time": "2022-07-10T06:50:44.393Z"
   },
   {
    "duration": 597,
    "start_time": "2022-07-10T06:50:44.427Z"
   },
   {
    "duration": 3,
    "start_time": "2022-07-10T06:50:45.026Z"
   },
   {
    "duration": 331,
    "start_time": "2022-07-10T06:50:45.030Z"
   },
   {
    "duration": 43,
    "start_time": "2022-07-10T06:50:45.362Z"
   },
   {
    "duration": 17,
    "start_time": "2022-07-10T06:50:45.408Z"
   },
   {
    "duration": 19,
    "start_time": "2022-07-10T06:50:45.427Z"
   },
   {
    "duration": 96,
    "start_time": "2022-07-10T06:50:45.449Z"
   },
   {
    "duration": 555,
    "start_time": "2022-07-10T06:50:45.547Z"
   },
   {
    "duration": 1769,
    "start_time": "2022-07-10T06:50:46.104Z"
   },
   {
    "duration": 15,
    "start_time": "2022-07-10T06:50:47.875Z"
   },
   {
    "duration": 21,
    "start_time": "2022-07-10T06:50:47.891Z"
   },
   {
    "duration": 9,
    "start_time": "2022-07-10T06:50:47.914Z"
   },
   {
    "duration": 12,
    "start_time": "2022-07-10T06:50:47.925Z"
   },
   {
    "duration": 283,
    "start_time": "2022-07-10T06:50:47.939Z"
   },
   {
    "duration": 306,
    "start_time": "2022-07-10T06:50:48.224Z"
   },
   {
    "duration": 5,
    "start_time": "2022-07-10T06:50:48.532Z"
   },
   {
    "duration": 444,
    "start_time": "2022-07-10T06:50:48.539Z"
   },
   {
    "duration": 749,
    "start_time": "2022-07-10T06:50:48.984Z"
   },
   {
    "duration": 419,
    "start_time": "2022-07-10T06:50:49.734Z"
   },
   {
    "duration": 12,
    "start_time": "2022-07-10T06:50:50.155Z"
   },
   {
    "duration": 27,
    "start_time": "2022-07-10T06:50:52.425Z"
   },
   {
    "duration": 12,
    "start_time": "2022-07-10T06:50:54.954Z"
   },
   {
    "duration": 7,
    "start_time": "2022-07-10T06:51:17.045Z"
   },
   {
    "duration": 4,
    "start_time": "2022-07-10T06:51:57.765Z"
   },
   {
    "duration": 665,
    "start_time": "2022-07-10T06:51:57.782Z"
   },
   {
    "duration": 3,
    "start_time": "2022-07-10T06:51:58.448Z"
   },
   {
    "duration": 314,
    "start_time": "2022-07-10T06:51:58.452Z"
   },
   {
    "duration": 44,
    "start_time": "2022-07-10T06:51:58.768Z"
   },
   {
    "duration": 14,
    "start_time": "2022-07-10T06:51:58.814Z"
   },
   {
    "duration": 25,
    "start_time": "2022-07-10T06:51:58.829Z"
   },
   {
    "duration": 101,
    "start_time": "2022-07-10T06:51:58.856Z"
   },
   {
    "duration": 547,
    "start_time": "2022-07-10T06:51:58.959Z"
   },
   {
    "duration": 1862,
    "start_time": "2022-07-10T06:51:59.507Z"
   },
   {
    "duration": 18,
    "start_time": "2022-07-10T06:52:01.371Z"
   },
   {
    "duration": 48,
    "start_time": "2022-07-10T06:52:01.400Z"
   },
   {
    "duration": 18,
    "start_time": "2022-07-10T06:52:01.450Z"
   },
   {
    "duration": 18,
    "start_time": "2022-07-10T06:52:01.470Z"
   },
   {
    "duration": 257,
    "start_time": "2022-07-10T06:52:01.492Z"
   },
   {
    "duration": 305,
    "start_time": "2022-07-10T06:52:01.751Z"
   },
   {
    "duration": 3,
    "start_time": "2022-07-10T06:52:02.058Z"
   },
   {
    "duration": 454,
    "start_time": "2022-07-10T06:52:02.063Z"
   },
   {
    "duration": 827,
    "start_time": "2022-07-10T06:52:02.519Z"
   },
   {
    "duration": 293,
    "start_time": "2022-07-10T06:52:03.348Z"
   },
   {
    "duration": 11,
    "start_time": "2022-07-10T06:52:03.642Z"
   },
   {
    "duration": 3,
    "start_time": "2022-07-10T06:52:03.655Z"
   },
   {
    "duration": 0,
    "start_time": "2022-07-10T06:52:03.660Z"
   },
   {
    "duration": 0,
    "start_time": "2022-07-10T06:52:03.661Z"
   },
   {
    "duration": 0,
    "start_time": "2022-07-10T06:52:03.663Z"
   },
   {
    "duration": 0,
    "start_time": "2022-07-10T06:52:03.664Z"
   },
   {
    "duration": 0,
    "start_time": "2022-07-10T06:52:03.665Z"
   },
   {
    "duration": 0,
    "start_time": "2022-07-10T06:52:03.667Z"
   },
   {
    "duration": 0,
    "start_time": "2022-07-10T06:52:03.668Z"
   },
   {
    "duration": 0,
    "start_time": "2022-07-10T06:52:03.670Z"
   },
   {
    "duration": 0,
    "start_time": "2022-07-10T06:52:03.701Z"
   },
   {
    "duration": 0,
    "start_time": "2022-07-10T06:52:03.702Z"
   },
   {
    "duration": 0,
    "start_time": "2022-07-10T06:52:03.704Z"
   },
   {
    "duration": 0,
    "start_time": "2022-07-10T06:52:03.705Z"
   },
   {
    "duration": 0,
    "start_time": "2022-07-10T06:52:03.707Z"
   },
   {
    "duration": 0,
    "start_time": "2022-07-10T06:52:03.708Z"
   },
   {
    "duration": 0,
    "start_time": "2022-07-10T06:52:03.710Z"
   },
   {
    "duration": 0,
    "start_time": "2022-07-10T06:52:03.711Z"
   },
   {
    "duration": 0,
    "start_time": "2022-07-10T06:52:03.712Z"
   },
   {
    "duration": 49,
    "start_time": "2022-07-10T06:52:45.350Z"
   },
   {
    "duration": 12,
    "start_time": "2022-07-10T06:52:49.632Z"
   },
   {
    "duration": 98,
    "start_time": "2022-07-10T06:53:01.352Z"
   },
   {
    "duration": 267,
    "start_time": "2022-07-10T06:53:09.759Z"
   },
   {
    "duration": 369,
    "start_time": "2022-07-10T06:53:21.427Z"
   },
   {
    "duration": 4,
    "start_time": "2022-07-10T07:02:45.245Z"
   },
   {
    "duration": 682,
    "start_time": "2022-07-10T07:02:45.276Z"
   },
   {
    "duration": 3,
    "start_time": "2022-07-10T07:02:45.960Z"
   },
   {
    "duration": 344,
    "start_time": "2022-07-10T07:02:45.965Z"
   },
   {
    "duration": 21,
    "start_time": "2022-07-10T07:02:46.312Z"
   },
   {
    "duration": 16,
    "start_time": "2022-07-10T07:02:46.334Z"
   },
   {
    "duration": 20,
    "start_time": "2022-07-10T07:02:46.351Z"
   },
   {
    "duration": 85,
    "start_time": "2022-07-10T07:02:46.400Z"
   },
   {
    "duration": 550,
    "start_time": "2022-07-10T07:02:46.487Z"
   },
   {
    "duration": 1890,
    "start_time": "2022-07-10T07:02:47.039Z"
   },
   {
    "duration": 18,
    "start_time": "2022-07-10T07:02:48.932Z"
   },
   {
    "duration": 17,
    "start_time": "2022-07-10T07:02:48.953Z"
   },
   {
    "duration": 31,
    "start_time": "2022-07-10T07:02:48.972Z"
   },
   {
    "duration": 14,
    "start_time": "2022-07-10T07:02:49.005Z"
   },
   {
    "duration": 4,
    "start_time": "2022-07-10T07:02:49.021Z"
   },
   {
    "duration": 476,
    "start_time": "2022-07-10T07:02:49.026Z"
   },
   {
    "duration": 834,
    "start_time": "2022-07-10T07:02:49.505Z"
   },
   {
    "duration": 376,
    "start_time": "2022-07-10T07:02:50.341Z"
   },
   {
    "duration": 13,
    "start_time": "2022-07-10T07:02:50.719Z"
   },
   {
    "duration": 76,
    "start_time": "2022-07-10T07:02:50.733Z"
   },
   {
    "duration": 389,
    "start_time": "2022-07-10T07:02:50.811Z"
   },
   {
    "duration": 334,
    "start_time": "2022-07-10T07:02:51.202Z"
   },
   {
    "duration": 5,
    "start_time": "2022-07-10T07:02:51.538Z"
   },
   {
    "duration": 17,
    "start_time": "2022-07-10T07:02:51.545Z"
   },
   {
    "duration": 39,
    "start_time": "2022-07-10T07:02:51.564Z"
   },
   {
    "duration": 5,
    "start_time": "2022-07-10T07:02:51.604Z"
   },
   {
    "duration": 21,
    "start_time": "2022-07-10T07:05:03.690Z"
   },
   {
    "duration": 14809,
    "start_time": "2022-07-10T07:05:24.503Z"
   },
   {
    "duration": 69888,
    "start_time": "2022-07-10T07:05:49.266Z"
   },
   {
    "duration": 6,
    "start_time": "2022-07-10T07:07:47.127Z"
   },
   {
    "duration": 11,
    "start_time": "2022-07-10T07:07:49.841Z"
   },
   {
    "duration": 12,
    "start_time": "2022-07-10T07:07:57.171Z"
   },
   {
    "duration": 24,
    "start_time": "2022-07-10T07:08:30.509Z"
   },
   {
    "duration": 68568,
    "start_time": "2022-07-10T07:08:59.726Z"
   },
   {
    "duration": 8,
    "start_time": "2022-07-10T07:10:45.009Z"
   },
   {
    "duration": 42,
    "start_time": "2022-07-10T07:10:51.045Z"
   },
   {
    "duration": 16022,
    "start_time": "2022-07-10T07:11:05.699Z"
   },
   {
    "duration": 69458,
    "start_time": "2022-07-10T07:11:21.723Z"
   },
   {
    "duration": 13,
    "start_time": "2022-07-10T07:13:53.693Z"
   },
   {
    "duration": 78596,
    "start_time": "2022-07-10T07:14:01.413Z"
   },
   {
    "duration": 24647,
    "start_time": "2022-07-10T07:15:47.199Z"
   },
   {
    "duration": 20,
    "start_time": "2022-07-10T07:16:33.983Z"
   },
   {
    "duration": 952,
    "start_time": "2022-07-10T07:17:24.420Z"
   },
   {
    "duration": 12,
    "start_time": "2022-07-10T07:17:41.476Z"
   },
   {
    "duration": 991,
    "start_time": "2022-07-10T07:18:03.722Z"
   },
   {
    "duration": 373,
    "start_time": "2022-07-10T07:19:35.195Z"
   },
   {
    "duration": 12,
    "start_time": "2022-07-10T07:19:50.541Z"
   },
   {
    "duration": 245958,
    "start_time": "2022-07-10T07:21:06.353Z"
   },
   {
    "duration": 14,
    "start_time": "2022-07-10T07:25:21.705Z"
   },
   {
    "duration": 16,
    "start_time": "2022-07-10T07:25:46.019Z"
   },
   {
    "duration": 416,
    "start_time": "2022-07-10T07:25:59.709Z"
   },
   {
    "duration": 538176,
    "start_time": "2022-07-10T07:27:46.538Z"
   },
   {
    "duration": 32,
    "start_time": "2022-07-10T07:36:56.853Z"
   },
   {
    "duration": 55,
    "start_time": "2022-07-10T07:41:54.197Z"
   },
   {
    "duration": 30,
    "start_time": "2022-07-10T07:42:00.916Z"
   },
   {
    "duration": 17972,
    "start_time": "2022-07-10T07:44:40.835Z"
   },
   {
    "duration": 99,
    "start_time": "2022-07-10T07:44:58.809Z"
   },
   {
    "duration": 244907,
    "start_time": "2022-07-10T07:44:58.912Z"
   },
   {
    "duration": 5,
    "start_time": "2022-07-10T07:49:03.821Z"
   },
   {
    "duration": 24,
    "start_time": "2022-07-10T07:49:03.828Z"
   },
   {
    "duration": 10,
    "start_time": "2022-07-10T07:50:34.310Z"
   },
   {
    "duration": 19,
    "start_time": "2022-07-10T07:50:38.668Z"
   },
   {
    "duration": 5,
    "start_time": "2022-07-10T07:50:42.692Z"
   },
   {
    "duration": 10,
    "start_time": "2022-07-10T07:50:45.743Z"
   },
   {
    "duration": 153,
    "start_time": "2022-07-10T07:50:50.773Z"
   },
   {
    "duration": 8,
    "start_time": "2022-07-10T07:51:21.392Z"
   },
   {
    "duration": 10,
    "start_time": "2022-07-10T07:51:31.939Z"
   },
   {
    "duration": 7,
    "start_time": "2022-07-10T07:51:40.416Z"
   },
   {
    "duration": 9,
    "start_time": "2022-07-10T07:51:50.782Z"
   },
   {
    "duration": 21,
    "start_time": "2022-07-10T07:52:55.190Z"
   },
   {
    "duration": 146319,
    "start_time": "2022-07-10T07:53:20.451Z"
   },
   {
    "duration": 0,
    "start_time": "2022-07-10T07:55:46.771Z"
   },
   {
    "duration": 143,
    "start_time": "2022-07-10T07:55:50.566Z"
   },
   {
    "duration": 5,
    "start_time": "2022-07-10T07:56:16.518Z"
   },
   {
    "duration": 301193,
    "start_time": "2022-07-10T07:58:04.579Z"
   },
   {
    "duration": 9,
    "start_time": "2022-07-10T08:09:15.696Z"
   },
   {
    "duration": 10,
    "start_time": "2022-07-10T08:09:46.863Z"
   },
   {
    "duration": 11,
    "start_time": "2022-07-10T08:10:13.266Z"
   },
   {
    "duration": 12,
    "start_time": "2022-07-10T08:10:21.083Z"
   },
   {
    "duration": 87367,
    "start_time": "2022-07-10T08:10:28.716Z"
   },
   {
    "duration": 7,
    "start_time": "2022-07-10T08:12:18.638Z"
   },
   {
    "duration": 8,
    "start_time": "2022-07-10T08:12:25.304Z"
   },
   {
    "duration": 22,
    "start_time": "2022-07-10T08:12:30.224Z"
   },
   {
    "duration": 202,
    "start_time": "2022-07-10T08:12:40.902Z"
   },
   {
    "duration": 11,
    "start_time": "2022-07-10T08:14:39.704Z"
   },
   {
    "duration": 12,
    "start_time": "2022-07-10T08:14:49.367Z"
   },
   {
    "duration": 18,
    "start_time": "2022-07-10T08:15:07.359Z"
   },
   {
    "duration": 208,
    "start_time": "2022-07-10T08:15:25.593Z"
   },
   {
    "duration": 5,
    "start_time": "2022-07-10T08:15:58.679Z"
   },
   {
    "duration": 1428,
    "start_time": "2022-07-10T08:18:38.958Z"
   },
   {
    "duration": 645,
    "start_time": "2022-07-10T08:18:40.388Z"
   },
   {
    "duration": 4,
    "start_time": "2022-07-10T08:18:41.034Z"
   },
   {
    "duration": 328,
    "start_time": "2022-07-10T08:18:41.040Z"
   },
   {
    "duration": 43,
    "start_time": "2022-07-10T08:18:41.370Z"
   },
   {
    "duration": 14,
    "start_time": "2022-07-10T08:18:41.415Z"
   },
   {
    "duration": 11,
    "start_time": "2022-07-10T08:18:41.431Z"
   },
   {
    "duration": 109,
    "start_time": "2022-07-10T08:18:41.444Z"
   },
   {
    "duration": 553,
    "start_time": "2022-07-10T08:18:41.555Z"
   },
   {
    "duration": 1870,
    "start_time": "2022-07-10T08:18:42.110Z"
   },
   {
    "duration": 33,
    "start_time": "2022-07-10T08:18:43.982Z"
   },
   {
    "duration": 15,
    "start_time": "2022-07-10T08:18:44.016Z"
   },
   {
    "duration": 11,
    "start_time": "2022-07-10T08:18:44.032Z"
   },
   {
    "duration": 12,
    "start_time": "2022-07-10T08:18:44.045Z"
   },
   {
    "duration": 4,
    "start_time": "2022-07-10T08:18:44.059Z"
   },
   {
    "duration": 484,
    "start_time": "2022-07-10T08:18:44.065Z"
   },
   {
    "duration": 846,
    "start_time": "2022-07-10T08:18:44.550Z"
   },
   {
    "duration": 346,
    "start_time": "2022-07-10T08:18:45.397Z"
   },
   {
    "duration": 15,
    "start_time": "2022-07-10T08:18:45.745Z"
   },
   {
    "duration": 68,
    "start_time": "2022-07-10T08:18:45.762Z"
   },
   {
    "duration": 247,
    "start_time": "2022-07-10T08:18:45.832Z"
   },
   {
    "duration": 274,
    "start_time": "2022-07-10T08:18:46.081Z"
   },
   {
    "duration": 3,
    "start_time": "2022-07-10T08:18:46.357Z"
   },
   {
    "duration": 16,
    "start_time": "2022-07-10T08:18:46.362Z"
   },
   {
    "duration": 32,
    "start_time": "2022-07-10T08:18:46.379Z"
   },
   {
    "duration": 4,
    "start_time": "2022-07-10T08:18:46.413Z"
   },
   {
    "duration": 9,
    "start_time": "2022-07-10T08:18:46.419Z"
   },
   {
    "duration": 15397,
    "start_time": "2022-07-10T08:18:46.431Z"
   },
   {
    "duration": 70553,
    "start_time": "2022-07-10T08:19:01.905Z"
   },
   {
    "duration": 6,
    "start_time": "2022-07-10T08:20:12.459Z"
   },
   {
    "duration": 18,
    "start_time": "2022-07-10T08:20:12.467Z"
   },
   {
    "duration": 25,
    "start_time": "2022-07-10T08:20:12.486Z"
   },
   {
    "duration": 19113,
    "start_time": "2022-07-10T08:20:12.513Z"
   },
   {
    "duration": 104,
    "start_time": "2022-07-10T08:20:31.705Z"
   },
   {
    "duration": 12,
    "start_time": "2022-07-10T08:20:31.815Z"
   },
   {
    "duration": 1040,
    "start_time": "2022-07-10T08:20:31.829Z"
   },
   {
    "duration": 0,
    "start_time": "2022-07-10T08:20:32.870Z"
   },
   {
    "duration": 0,
    "start_time": "2022-07-10T08:20:32.871Z"
   },
   {
    "duration": 0,
    "start_time": "2022-07-10T08:20:32.873Z"
   },
   {
    "duration": 0,
    "start_time": "2022-07-10T08:20:32.874Z"
   },
   {
    "duration": 0,
    "start_time": "2022-07-10T08:20:32.875Z"
   },
   {
    "duration": 1308,
    "start_time": "2022-07-10T08:21:56.630Z"
   },
   {
    "duration": 621,
    "start_time": "2022-07-10T08:21:57.939Z"
   },
   {
    "duration": 4,
    "start_time": "2022-07-10T08:21:58.562Z"
   },
   {
    "duration": 318,
    "start_time": "2022-07-10T08:21:58.568Z"
   },
   {
    "duration": 29,
    "start_time": "2022-07-10T08:21:58.887Z"
   },
   {
    "duration": 15,
    "start_time": "2022-07-10T08:21:58.917Z"
   },
   {
    "duration": 14,
    "start_time": "2022-07-10T08:21:58.933Z"
   },
   {
    "duration": 104,
    "start_time": "2022-07-10T08:21:58.948Z"
   },
   {
    "duration": 550,
    "start_time": "2022-07-10T08:21:59.054Z"
   },
   {
    "duration": 1822,
    "start_time": "2022-07-10T08:21:59.608Z"
   },
   {
    "duration": 17,
    "start_time": "2022-07-10T08:22:01.432Z"
   },
   {
    "duration": 36,
    "start_time": "2022-07-10T08:22:01.451Z"
   },
   {
    "duration": 35,
    "start_time": "2022-07-10T08:22:01.489Z"
   },
   {
    "duration": 19,
    "start_time": "2022-07-10T08:22:01.526Z"
   },
   {
    "duration": 11,
    "start_time": "2022-07-10T08:22:01.547Z"
   },
   {
    "duration": 424,
    "start_time": "2022-07-10T08:22:01.560Z"
   },
   {
    "duration": 797,
    "start_time": "2022-07-10T08:22:01.985Z"
   },
   {
    "duration": 297,
    "start_time": "2022-07-10T08:22:02.784Z"
   },
   {
    "duration": 18,
    "start_time": "2022-07-10T08:22:03.083Z"
   },
   {
    "duration": 52,
    "start_time": "2022-07-10T08:22:03.102Z"
   },
   {
    "duration": 246,
    "start_time": "2022-07-10T08:22:03.156Z"
   },
   {
    "duration": 287,
    "start_time": "2022-07-10T08:22:03.404Z"
   },
   {
    "duration": 9,
    "start_time": "2022-07-10T08:22:03.692Z"
   },
   {
    "duration": 17,
    "start_time": "2022-07-10T08:22:03.702Z"
   },
   {
    "duration": 18,
    "start_time": "2022-07-10T08:22:03.720Z"
   },
   {
    "duration": 4,
    "start_time": "2022-07-10T08:22:03.740Z"
   },
   {
    "duration": 10,
    "start_time": "2022-07-10T08:22:03.745Z"
   },
   {
    "duration": 13242,
    "start_time": "2022-07-10T08:22:03.758Z"
   },
   {
    "duration": 60251,
    "start_time": "2022-07-10T08:22:17.004Z"
   },
   {
    "duration": 0,
    "start_time": "2022-07-10T08:23:17.257Z"
   },
   {
    "duration": 0,
    "start_time": "2022-07-10T08:23:17.258Z"
   },
   {
    "duration": 0,
    "start_time": "2022-07-10T08:23:17.259Z"
   },
   {
    "duration": 0,
    "start_time": "2022-07-10T08:23:17.261Z"
   },
   {
    "duration": 0,
    "start_time": "2022-07-10T08:23:17.262Z"
   },
   {
    "duration": 0,
    "start_time": "2022-07-10T08:23:17.263Z"
   },
   {
    "duration": 0,
    "start_time": "2022-07-10T08:23:17.264Z"
   },
   {
    "duration": 0,
    "start_time": "2022-07-10T08:23:17.265Z"
   },
   {
    "duration": 0,
    "start_time": "2022-07-10T08:23:17.266Z"
   },
   {
    "duration": 0,
    "start_time": "2022-07-10T08:23:17.267Z"
   },
   {
    "duration": 0,
    "start_time": "2022-07-10T08:23:17.268Z"
   },
   {
    "duration": 0,
    "start_time": "2022-07-10T08:23:17.269Z"
   },
   {
    "duration": 1263,
    "start_time": "2022-07-10T08:23:22.102Z"
   },
   {
    "duration": 663,
    "start_time": "2022-07-10T08:23:23.367Z"
   },
   {
    "duration": 3,
    "start_time": "2022-07-10T08:23:24.032Z"
   },
   {
    "duration": 346,
    "start_time": "2022-07-10T08:23:24.036Z"
   },
   {
    "duration": 32,
    "start_time": "2022-07-10T08:23:24.385Z"
   },
   {
    "duration": 15,
    "start_time": "2022-07-10T08:23:24.419Z"
   },
   {
    "duration": 12,
    "start_time": "2022-07-10T08:23:24.436Z"
   },
   {
    "duration": 122,
    "start_time": "2022-07-10T08:23:24.450Z"
   },
   {
    "duration": 537,
    "start_time": "2022-07-10T08:23:24.573Z"
   },
   {
    "duration": 1832,
    "start_time": "2022-07-10T08:23:25.112Z"
   },
   {
    "duration": 16,
    "start_time": "2022-07-10T08:23:26.946Z"
   },
   {
    "duration": 14,
    "start_time": "2022-07-10T08:23:26.963Z"
   },
   {
    "duration": 27,
    "start_time": "2022-07-10T08:23:26.978Z"
   },
   {
    "duration": 11,
    "start_time": "2022-07-10T08:23:27.008Z"
   },
   {
    "duration": 4,
    "start_time": "2022-07-10T08:23:27.021Z"
   },
   {
    "duration": 443,
    "start_time": "2022-07-10T08:23:27.026Z"
   },
   {
    "duration": 775,
    "start_time": "2022-07-10T08:23:27.470Z"
   },
   {
    "duration": 310,
    "start_time": "2022-07-10T08:23:28.246Z"
   },
   {
    "duration": 12,
    "start_time": "2022-07-10T08:23:28.557Z"
   },
   {
    "duration": 62,
    "start_time": "2022-07-10T08:23:28.570Z"
   },
   {
    "duration": 261,
    "start_time": "2022-07-10T08:23:28.633Z"
   },
   {
    "duration": 275,
    "start_time": "2022-07-10T08:23:28.896Z"
   },
   {
    "duration": 4,
    "start_time": "2022-07-10T08:23:29.173Z"
   },
   {
    "duration": 29,
    "start_time": "2022-07-10T08:23:29.179Z"
   },
   {
    "duration": 19,
    "start_time": "2022-07-10T08:23:29.209Z"
   },
   {
    "duration": 4,
    "start_time": "2022-07-10T08:23:29.229Z"
   },
   {
    "duration": 8,
    "start_time": "2022-07-10T08:23:29.235Z"
   },
   {
    "duration": 13259,
    "start_time": "2022-07-10T08:23:29.244Z"
   },
   {
    "duration": 67186,
    "start_time": "2022-07-10T08:23:42.505Z"
   },
   {
    "duration": 9,
    "start_time": "2022-07-10T08:24:49.692Z"
   },
   {
    "duration": 16,
    "start_time": "2022-07-10T08:24:49.702Z"
   },
   {
    "duration": 8,
    "start_time": "2022-07-10T08:24:49.720Z"
   },
   {
    "duration": 17573,
    "start_time": "2022-07-10T08:24:49.730Z"
   },
   {
    "duration": 106,
    "start_time": "2022-07-10T08:25:07.305Z"
   },
   {
    "duration": 14,
    "start_time": "2022-07-10T08:25:07.501Z"
   },
   {
    "duration": 49944,
    "start_time": "2022-07-10T08:25:07.517Z"
   },
   {
    "duration": 4,
    "start_time": "2022-07-10T08:25:57.463Z"
   },
   {
    "duration": 23,
    "start_time": "2022-07-10T08:25:57.469Z"
   },
   {
    "duration": 10,
    "start_time": "2022-07-10T08:25:57.501Z"
   },
   {
    "duration": 188,
    "start_time": "2022-07-10T08:25:57.512Z"
   },
   {
    "duration": 4,
    "start_time": "2022-07-10T08:25:57.704Z"
   }
  ],
  "kernelspec": {
   "display_name": "Python 3 (ipykernel)",
   "language": "python",
   "name": "python3"
  },
  "language_info": {
   "codemirror_mode": {
    "name": "ipython",
    "version": 3
   },
   "file_extension": ".py",
   "mimetype": "text/x-python",
   "name": "python",
   "nbconvert_exporter": "python",
   "pygments_lexer": "ipython3",
   "version": "3.9.5"
  },
  "toc": {
   "base_numbering": 1,
   "nav_menu": {},
   "number_sections": true,
   "sideBar": true,
   "skip_h1_title": true,
   "title_cell": "Содержание",
   "title_sidebar": "Contents",
   "toc_cell": true,
   "toc_position": {
    "height": "calc(100% - 180px)",
    "left": "10px",
    "top": "150px",
    "width": "165px"
   },
   "toc_section_display": true,
   "toc_window_display": false
  }
 },
 "nbformat": 4,
 "nbformat_minor": 2
}
