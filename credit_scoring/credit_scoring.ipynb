{
  "cells": [
    {
      "cell_type": "markdown",
      "source": [
        "# Исследование надежности заемщиков."
      ],
      "metadata": {},
      "id": "c172175d"
    },
    {
      "cell_type": "markdown",
      "source": [
        "<p>Заказчик — кредитный отдел банка. Нужно разобраться, влияет ли семейное положение и количество детей клиента на факт погашения кредита в срок. Входные данные от банка — статистика о платёжеспособности клиентов.</p>\n",
        "<p>Результаты исследования будут учтены при построении модели кредитного скоринга — специальной системы, которая оценивает способность потенциального заёмщика вернуть кредит банку.</p>\n",
        "\n",
        "**Цель исследования**\n",
        "<p>Заказчиком поставлены следующие вопросы:</p>\n",
        "\n",
        "* Есть ли зависимость между количеством детей и возвратом кредита в срок?\n",
        "* Есть ли зависимость между семейным положением и возвратом кредита в срок?\n",
        "* Есть ли зависимость между уровнем дохода и возвратом кредита в срок?\n",
        "* Как разные цели кредита влияют на его возврат в срок?\n"
      ],
      "metadata": {},
      "id": "640f8fcd"
    },
    {
      "cell_type": "markdown",
      "source": [
        "## Обзор данных"
      ],
      "metadata": {},
      "id": "bdbadc9a"
    },
    {
      "cell_type": "code",
      "source": [
        "import pandas as pd\n",
        "import seaborn as sns\n",
        "import numpy as np\n",
        "\n",
        "data = pd.read_csv('/datasets/data.csv')\n",
        "data.info()"
      ],
      "outputs": [
        {
          "output_type": "stream",
          "name": "stdout",
          "text": [
            "<class 'pandas.core.frame.DataFrame'>\n",
            "RangeIndex: 21525 entries, 0 to 21524\n",
            "Data columns (total 12 columns):\n",
            " #   Column            Non-Null Count  Dtype  \n",
            "---  ------            --------------  -----  \n",
            " 0   children          21525 non-null  int64  \n",
            " 1   days_employed     19351 non-null  float64\n",
            " 2   dob_years         21525 non-null  int64  \n",
            " 3   education         21525 non-null  object \n",
            " 4   education_id      21525 non-null  int64  \n",
            " 5   family_status     21525 non-null  object \n",
            " 6   family_status_id  21525 non-null  int64  \n",
            " 7   gender            21525 non-null  object \n",
            " 8   income_type       21525 non-null  object \n",
            " 9   debt              21525 non-null  int64  \n",
            " 10  total_income      19351 non-null  float64\n",
            " 11  purpose           21525 non-null  object \n",
            "dtypes: float64(2), int64(5), object(5)\n",
            "memory usage: 2.0+ MB\n"
          ]
        }
      ],
      "execution_count": 1,
      "metadata": {
        "trusted": false
      },
      "id": "526f9a91"
    },
    {
      "cell_type": "markdown",
      "source": [
        "Данные представлены 12 столбцами, в столбцах `days_employed` и `total_income` некоторые значения пропущены. Числовые данные представлены в 7 столбцах, из них 5 имеют количественные значения, а 2 являются индентификаторами для строковых столбцов `education` и `family_status`."
      ],
      "metadata": {},
      "id": "cbb55796"
    },
    {
      "cell_type": "markdown",
      "source": [
        "## Обработка данных"
      ],
      "metadata": {},
      "id": "7f640338"
    },
    {
      "cell_type": "markdown",
      "source": [
        "### Заполнение пропусков"
      ],
      "metadata": {},
      "id": "96c42802"
    },
    {
      "cell_type": "markdown",
      "source": [
        "Пропуски наблюдаются в столбцах `days_employed` и `total_income`. Доля пропущенных значений составляет:"
      ],
      "metadata": {},
      "id": "e55eb281"
    },
    {
      "cell_type": "code",
      "source": [
        "days_employed_missed = 1 - data['days_employed'].count()/len(data)\n",
        "print(\"Доля пропущенных значений в столбце 'days_employed': {0:.1%}\".format(days_employed_missed))\n",
        "\n",
        "total_income_missed = 1 - data['total_income'].count()/len(data)\n",
        "print(\"Доля пропущенных значений в столбце 'total_income': {0:.1%}\".format(total_income_missed))"
      ],
      "outputs": [
        {
          "output_type": "stream",
          "name": "stdout",
          "text": [
            "Доля пропущенных значений в столбце 'days_employed': 10.1%\n",
            "Доля пропущенных значений в столбце 'total_income': 10.1%\n"
          ]
        }
      ],
      "execution_count": 2,
      "metadata": {
        "trusted": false
      },
      "id": "480adfcc"
    },
    {
      "cell_type": "markdown",
      "source": [
        "Доля пропусков для стоблцов `days_employed` и `total_income` совпадает. Возможно пропуски вызваны одной причиной. Проверим это предположение:"
      ],
      "metadata": {},
      "id": "34c490b4"
    },
    {
      "cell_type": "code",
      "source": [
        "#Определим количество строк, в которых пропущенны записи только в одном столбце:\n",
        "len(data[(data['days_employed'].isna()) != (data['total_income'].isna())])"
      ],
      "outputs": [
        {
          "output_type": "execute_result",
          "execution_count": 3,
          "data": {
            "text/plain": "0"
          },
          "metadata": {}
        }
      ],
      "execution_count": 3,
      "metadata": {
        "trusted": false
      },
      "id": "a945a627"
    },
    {
      "cell_type": "markdown",
      "source": [
        "Предположение подтвердилось - пропуски в столбцах `days_employed` и `total_income` наблюдаются только одновременно. <br>\n",
        "Подробнее ознакомися со строками, в которых есть пропуски"
      ],
      "metadata": {},
      "id": "b748c515"
    },
    {
      "cell_type": "code",
      "source": [
        "data[(data['days_employed'].isna())].head(5)"
      ],
      "outputs": [
        {
          "output_type": "execute_result",
          "execution_count": 4,
          "data": {
            "text/html": "<div>\n<style scoped>\n    .dataframe tbody tr th:only-of-type {\n        vertical-align: middle;\n    }\n\n    .dataframe tbody tr th {\n        vertical-align: top;\n    }\n\n    .dataframe thead th {\n        text-align: right;\n    }\n</style>\n<table border=\"1\" class=\"dataframe\">\n  <thead>\n    <tr style=\"text-align: right;\">\n      <th></th>\n      <th>children</th>\n      <th>days_employed</th>\n      <th>dob_years</th>\n      <th>education</th>\n      <th>education_id</th>\n      <th>family_status</th>\n      <th>family_status_id</th>\n      <th>gender</th>\n      <th>income_type</th>\n      <th>debt</th>\n      <th>total_income</th>\n      <th>purpose</th>\n    </tr>\n  </thead>\n  <tbody>\n    <tr>\n      <th>12</th>\n      <td>0</td>\n      <td>NaN</td>\n      <td>65</td>\n      <td>среднее</td>\n      <td>1</td>\n      <td>гражданский брак</td>\n      <td>1</td>\n      <td>M</td>\n      <td>пенсионер</td>\n      <td>0</td>\n      <td>NaN</td>\n      <td>сыграть свадьбу</td>\n    </tr>\n    <tr>\n      <th>26</th>\n      <td>0</td>\n      <td>NaN</td>\n      <td>41</td>\n      <td>среднее</td>\n      <td>1</td>\n      <td>женат / замужем</td>\n      <td>0</td>\n      <td>M</td>\n      <td>госслужащий</td>\n      <td>0</td>\n      <td>NaN</td>\n      <td>образование</td>\n    </tr>\n    <tr>\n      <th>29</th>\n      <td>0</td>\n      <td>NaN</td>\n      <td>63</td>\n      <td>среднее</td>\n      <td>1</td>\n      <td>Не женат / не замужем</td>\n      <td>4</td>\n      <td>F</td>\n      <td>пенсионер</td>\n      <td>0</td>\n      <td>NaN</td>\n      <td>строительство жилой недвижимости</td>\n    </tr>\n    <tr>\n      <th>41</th>\n      <td>0</td>\n      <td>NaN</td>\n      <td>50</td>\n      <td>среднее</td>\n      <td>1</td>\n      <td>женат / замужем</td>\n      <td>0</td>\n      <td>F</td>\n      <td>госслужащий</td>\n      <td>0</td>\n      <td>NaN</td>\n      <td>сделка с подержанным автомобилем</td>\n    </tr>\n    <tr>\n      <th>55</th>\n      <td>0</td>\n      <td>NaN</td>\n      <td>54</td>\n      <td>среднее</td>\n      <td>1</td>\n      <td>гражданский брак</td>\n      <td>1</td>\n      <td>F</td>\n      <td>пенсионер</td>\n      <td>1</td>\n      <td>NaN</td>\n      <td>сыграть свадьбу</td>\n    </tr>\n  </tbody>\n</table>\n</div>",
            "text/plain": "    children  days_employed  dob_years education  education_id  \\\n12         0            NaN         65   среднее             1   \n26         0            NaN         41   среднее             1   \n29         0            NaN         63   среднее             1   \n41         0            NaN         50   среднее             1   \n55         0            NaN         54   среднее             1   \n\n            family_status  family_status_id gender  income_type  debt  \\\n12       гражданский брак                 1      M    пенсионер     0   \n26        женат / замужем                 0      M  госслужащий     0   \n29  Не женат / не замужем                 4      F    пенсионер     0   \n41        женат / замужем                 0      F  госслужащий     0   \n55       гражданский брак                 1      F    пенсионер     1   \n\n    total_income                           purpose  \n12           NaN                   сыграть свадьбу  \n26           NaN                       образование  \n29           NaN  строительство жилой недвижимости  \n41           NaN  сделка с подержанным автомобилем  \n55           NaN                   сыграть свадьбу  "
          },
          "metadata": {}
        }
      ],
      "execution_count": 4,
      "metadata": {
        "trusted": false
      },
      "id": "02ad7dbc"
    },
    {
      "cell_type": "markdown",
      "source": [
        "На первый взгляд записи содержащие пропуски имеют мало общего между собой. Проверим, отличаются ли распределение значений в других столбцах в зависимости от пропусков в `days_employed`:"
      ],
      "metadata": {},
      "id": "90d529ea"
    },
    {
      "cell_type": "code",
      "source": [
        "display(data[(data['days_employed'].isna())].describe())\n",
        "display(data[(data['days_employed'].notna())].describe())"
      ],
      "outputs": [
        {
          "output_type": "display_data",
          "data": {
            "text/html": "<div>\n<style scoped>\n    .dataframe tbody tr th:only-of-type {\n        vertical-align: middle;\n    }\n\n    .dataframe tbody tr th {\n        vertical-align: top;\n    }\n\n    .dataframe thead th {\n        text-align: right;\n    }\n</style>\n<table border=\"1\" class=\"dataframe\">\n  <thead>\n    <tr style=\"text-align: right;\">\n      <th></th>\n      <th>children</th>\n      <th>days_employed</th>\n      <th>dob_years</th>\n      <th>education_id</th>\n      <th>family_status_id</th>\n      <th>debt</th>\n      <th>total_income</th>\n    </tr>\n  </thead>\n  <tbody>\n    <tr>\n      <th>count</th>\n      <td>2174.000000</td>\n      <td>0.0</td>\n      <td>2174.000000</td>\n      <td>2174.000000</td>\n      <td>2174.000000</td>\n      <td>2174.000000</td>\n      <td>0.0</td>\n    </tr>\n    <tr>\n      <th>mean</th>\n      <td>0.552438</td>\n      <td>NaN</td>\n      <td>43.632015</td>\n      <td>0.800828</td>\n      <td>0.975161</td>\n      <td>0.078197</td>\n      <td>NaN</td>\n    </tr>\n    <tr>\n      <th>std</th>\n      <td>1.469356</td>\n      <td>NaN</td>\n      <td>12.531481</td>\n      <td>0.530157</td>\n      <td>1.418220</td>\n      <td>0.268543</td>\n      <td>NaN</td>\n    </tr>\n    <tr>\n      <th>min</th>\n      <td>-1.000000</td>\n      <td>NaN</td>\n      <td>0.000000</td>\n      <td>0.000000</td>\n      <td>0.000000</td>\n      <td>0.000000</td>\n      <td>NaN</td>\n    </tr>\n    <tr>\n      <th>25%</th>\n      <td>0.000000</td>\n      <td>NaN</td>\n      <td>34.000000</td>\n      <td>0.250000</td>\n      <td>0.000000</td>\n      <td>0.000000</td>\n      <td>NaN</td>\n    </tr>\n    <tr>\n      <th>50%</th>\n      <td>0.000000</td>\n      <td>NaN</td>\n      <td>43.000000</td>\n      <td>1.000000</td>\n      <td>0.000000</td>\n      <td>0.000000</td>\n      <td>NaN</td>\n    </tr>\n    <tr>\n      <th>75%</th>\n      <td>1.000000</td>\n      <td>NaN</td>\n      <td>54.000000</td>\n      <td>1.000000</td>\n      <td>1.000000</td>\n      <td>0.000000</td>\n      <td>NaN</td>\n    </tr>\n    <tr>\n      <th>max</th>\n      <td>20.000000</td>\n      <td>NaN</td>\n      <td>73.000000</td>\n      <td>3.000000</td>\n      <td>4.000000</td>\n      <td>1.000000</td>\n      <td>NaN</td>\n    </tr>\n  </tbody>\n</table>\n</div>",
            "text/plain": "          children  days_employed    dob_years  education_id  \\\ncount  2174.000000            0.0  2174.000000   2174.000000   \nmean      0.552438            NaN    43.632015      0.800828   \nstd       1.469356            NaN    12.531481      0.530157   \nmin      -1.000000            NaN     0.000000      0.000000   \n25%       0.000000            NaN    34.000000      0.250000   \n50%       0.000000            NaN    43.000000      1.000000   \n75%       1.000000            NaN    54.000000      1.000000   \nmax      20.000000            NaN    73.000000      3.000000   \n\n       family_status_id         debt  total_income  \ncount       2174.000000  2174.000000           0.0  \nmean           0.975161     0.078197           NaN  \nstd            1.418220     0.268543           NaN  \nmin            0.000000     0.000000           NaN  \n25%            0.000000     0.000000           NaN  \n50%            0.000000     0.000000           NaN  \n75%            1.000000     0.000000           NaN  \nmax            4.000000     1.000000           NaN  "
          },
          "metadata": {}
        },
        {
          "output_type": "display_data",
          "data": {
            "text/html": "<div>\n<style scoped>\n    .dataframe tbody tr th:only-of-type {\n        vertical-align: middle;\n    }\n\n    .dataframe tbody tr th {\n        vertical-align: top;\n    }\n\n    .dataframe thead th {\n        text-align: right;\n    }\n</style>\n<table border=\"1\" class=\"dataframe\">\n  <thead>\n    <tr style=\"text-align: right;\">\n      <th></th>\n      <th>children</th>\n      <th>days_employed</th>\n      <th>dob_years</th>\n      <th>education_id</th>\n      <th>family_status_id</th>\n      <th>debt</th>\n      <th>total_income</th>\n    </tr>\n  </thead>\n  <tbody>\n    <tr>\n      <th>count</th>\n      <td>19351.000000</td>\n      <td>19351.000000</td>\n      <td>19351.000000</td>\n      <td>19351.000000</td>\n      <td>19351.000000</td>\n      <td>19351.000000</td>\n      <td>1.935100e+04</td>\n    </tr>\n    <tr>\n      <th>mean</th>\n      <td>0.537388</td>\n      <td>63046.497661</td>\n      <td>43.255336</td>\n      <td>0.819079</td>\n      <td>0.972249</td>\n      <td>0.081184</td>\n      <td>1.674223e+05</td>\n    </tr>\n    <tr>\n      <th>std</th>\n      <td>1.371408</td>\n      <td>140827.311974</td>\n      <td>12.579170</td>\n      <td>0.550104</td>\n      <td>1.420596</td>\n      <td>0.273125</td>\n      <td>1.029716e+05</td>\n    </tr>\n    <tr>\n      <th>min</th>\n      <td>-1.000000</td>\n      <td>-18388.949901</td>\n      <td>0.000000</td>\n      <td>0.000000</td>\n      <td>0.000000</td>\n      <td>0.000000</td>\n      <td>2.066726e+04</td>\n    </tr>\n    <tr>\n      <th>25%</th>\n      <td>0.000000</td>\n      <td>-2747.423625</td>\n      <td>33.000000</td>\n      <td>1.000000</td>\n      <td>0.000000</td>\n      <td>0.000000</td>\n      <td>1.030532e+05</td>\n    </tr>\n    <tr>\n      <th>50%</th>\n      <td>0.000000</td>\n      <td>-1203.369529</td>\n      <td>42.000000</td>\n      <td>1.000000</td>\n      <td>0.000000</td>\n      <td>0.000000</td>\n      <td>1.450179e+05</td>\n    </tr>\n    <tr>\n      <th>75%</th>\n      <td>1.000000</td>\n      <td>-291.095954</td>\n      <td>53.000000</td>\n      <td>1.000000</td>\n      <td>1.000000</td>\n      <td>0.000000</td>\n      <td>2.034351e+05</td>\n    </tr>\n    <tr>\n      <th>max</th>\n      <td>20.000000</td>\n      <td>401755.400475</td>\n      <td>75.000000</td>\n      <td>4.000000</td>\n      <td>4.000000</td>\n      <td>1.000000</td>\n      <td>2.265604e+06</td>\n    </tr>\n  </tbody>\n</table>\n</div>",
            "text/plain": "           children  days_employed     dob_years  education_id  \\\ncount  19351.000000   19351.000000  19351.000000  19351.000000   \nmean       0.537388   63046.497661     43.255336      0.819079   \nstd        1.371408  140827.311974     12.579170      0.550104   \nmin       -1.000000  -18388.949901      0.000000      0.000000   \n25%        0.000000   -2747.423625     33.000000      1.000000   \n50%        0.000000   -1203.369529     42.000000      1.000000   \n75%        1.000000    -291.095954     53.000000      1.000000   \nmax       20.000000  401755.400475     75.000000      4.000000   \n\n       family_status_id          debt  total_income  \ncount      19351.000000  19351.000000  1.935100e+04  \nmean           0.972249      0.081184  1.674223e+05  \nstd            1.420596      0.273125  1.029716e+05  \nmin            0.000000      0.000000  2.066726e+04  \n25%            0.000000      0.000000  1.030532e+05  \n50%            0.000000      0.000000  1.450179e+05  \n75%            1.000000      0.000000  2.034351e+05  \nmax            4.000000      1.000000  2.265604e+06  "
          },
          "metadata": {}
        }
      ],
      "execution_count": 5,
      "metadata": {
        "trusted": false
      },
      "id": "d921752e"
    },
    {
      "cell_type": "markdown",
      "source": [
        "Видно что описательные статистики не зависят от пропусков в столбцах `days_employed` и `total_income`.<br>\n",
        "Поскольку наличие или отсутствие пропусков не связано с параметрами клиентов, лучшим решением будет заполнить пропуски медианным значением.<br>\n",
        "Заполним пропуски:"
      ],
      "metadata": {},
      "id": "551a9bbe"
    },
    {
      "cell_type": "code",
      "source": [
        "days_employed_median = data['days_employed'].median()\n",
        "total_income_median = data['total_income'].median()\n",
        "data['days_employed'] = data['days_employed'].fillna(days_employed_median)\n",
        "data['total_income'] = data['total_income'].fillna(total_income_median)\n",
        "data.info()"
      ],
      "outputs": [
        {
          "output_type": "stream",
          "name": "stdout",
          "text": [
            "<class 'pandas.core.frame.DataFrame'>\n",
            "RangeIndex: 21525 entries, 0 to 21524\n",
            "Data columns (total 12 columns):\n",
            " #   Column            Non-Null Count  Dtype  \n",
            "---  ------            --------------  -----  \n",
            " 0   children          21525 non-null  int64  \n",
            " 1   days_employed     21525 non-null  float64\n",
            " 2   dob_years         21525 non-null  int64  \n",
            " 3   education         21525 non-null  object \n",
            " 4   education_id      21525 non-null  int64  \n",
            " 5   family_status     21525 non-null  object \n",
            " 6   family_status_id  21525 non-null  int64  \n",
            " 7   gender            21525 non-null  object \n",
            " 8   income_type       21525 non-null  object \n",
            " 9   debt              21525 non-null  int64  \n",
            " 10  total_income      21525 non-null  float64\n",
            " 11  purpose           21525 non-null  object \n",
            "dtypes: float64(2), int64(5), object(5)\n",
            "memory usage: 2.0+ MB\n"
          ]
        }
      ],
      "execution_count": 6,
      "metadata": {
        "trusted": false
      },
      "id": "b7057f4d"
    },
    {
      "cell_type": "markdown",
      "source": [
        "Пропуски успешно заполнены.<br>\n",
        "Вероятнее всего причина возникновения пропусков является технической поскольку наличие или отсутствие пропусков не связано с параметрами клиентов. Одновременные пропуски в столбцах `days_employed` и `total_income` могут объясняться особенностями формы, в которую вносятся данные. Например, клиент не указывает место работы и поэтому не может указать стаж работы и доход.<br>\n",
        "Можно предположить и другие причины, однако проще и правильнее было бы узнать об особенностях сбора этих данных напрямую."
      ],
      "metadata": {},
      "id": "c0d2f267"
    },
    {
      "cell_type": "markdown",
      "source": [
        "### Проверка данных на аномалии и исправление аномальных данных"
      ],
      "metadata": {},
      "id": "b8690777"
    },
    {
      "cell_type": "markdown",
      "source": [
        "Количественные данные охарактеризуем при помощи описательных статистик:"
      ],
      "metadata": {},
      "id": "b0d94971"
    },
    {
      "cell_type": "code",
      "source": [
        "data.describe()"
      ],
      "outputs": [
        {
          "output_type": "execute_result",
          "execution_count": 7,
          "data": {
            "text/html": "<div>\n<style scoped>\n    .dataframe tbody tr th:only-of-type {\n        vertical-align: middle;\n    }\n\n    .dataframe tbody tr th {\n        vertical-align: top;\n    }\n\n    .dataframe thead th {\n        text-align: right;\n    }\n</style>\n<table border=\"1\" class=\"dataframe\">\n  <thead>\n    <tr style=\"text-align: right;\">\n      <th></th>\n      <th>children</th>\n      <th>days_employed</th>\n      <th>dob_years</th>\n      <th>education_id</th>\n      <th>family_status_id</th>\n      <th>debt</th>\n      <th>total_income</th>\n    </tr>\n  </thead>\n  <tbody>\n    <tr>\n      <th>count</th>\n      <td>21525.000000</td>\n      <td>21525.000000</td>\n      <td>21525.000000</td>\n      <td>21525.000000</td>\n      <td>21525.000000</td>\n      <td>21525.000000</td>\n      <td>2.152500e+04</td>\n    </tr>\n    <tr>\n      <th>mean</th>\n      <td>0.538908</td>\n      <td>56557.335698</td>\n      <td>43.293380</td>\n      <td>0.817236</td>\n      <td>0.972544</td>\n      <td>0.080883</td>\n      <td>1.651595e+05</td>\n    </tr>\n    <tr>\n      <th>std</th>\n      <td>1.381587</td>\n      <td>134922.319298</td>\n      <td>12.574584</td>\n      <td>0.548138</td>\n      <td>1.420324</td>\n      <td>0.272661</td>\n      <td>9.786607e+04</td>\n    </tr>\n    <tr>\n      <th>min</th>\n      <td>-1.000000</td>\n      <td>-18388.949901</td>\n      <td>0.000000</td>\n      <td>0.000000</td>\n      <td>0.000000</td>\n      <td>0.000000</td>\n      <td>2.066726e+04</td>\n    </tr>\n    <tr>\n      <th>25%</th>\n      <td>0.000000</td>\n      <td>-2518.168900</td>\n      <td>33.000000</td>\n      <td>1.000000</td>\n      <td>0.000000</td>\n      <td>0.000000</td>\n      <td>1.077982e+05</td>\n    </tr>\n    <tr>\n      <th>50%</th>\n      <td>0.000000</td>\n      <td>-1203.369529</td>\n      <td>42.000000</td>\n      <td>1.000000</td>\n      <td>0.000000</td>\n      <td>0.000000</td>\n      <td>1.450179e+05</td>\n    </tr>\n    <tr>\n      <th>75%</th>\n      <td>1.000000</td>\n      <td>-385.106616</td>\n      <td>53.000000</td>\n      <td>1.000000</td>\n      <td>1.000000</td>\n      <td>0.000000</td>\n      <td>1.955436e+05</td>\n    </tr>\n    <tr>\n      <th>max</th>\n      <td>20.000000</td>\n      <td>401755.400475</td>\n      <td>75.000000</td>\n      <td>4.000000</td>\n      <td>4.000000</td>\n      <td>1.000000</td>\n      <td>2.265604e+06</td>\n    </tr>\n  </tbody>\n</table>\n</div>",
            "text/plain": "           children  days_employed     dob_years  education_id  \\\ncount  21525.000000   21525.000000  21525.000000  21525.000000   \nmean       0.538908   56557.335698     43.293380      0.817236   \nstd        1.381587  134922.319298     12.574584      0.548138   \nmin       -1.000000  -18388.949901      0.000000      0.000000   \n25%        0.000000   -2518.168900     33.000000      1.000000   \n50%        0.000000   -1203.369529     42.000000      1.000000   \n75%        1.000000    -385.106616     53.000000      1.000000   \nmax       20.000000  401755.400475     75.000000      4.000000   \n\n       family_status_id          debt  total_income  \ncount      21525.000000  21525.000000  2.152500e+04  \nmean           0.972544      0.080883  1.651595e+05  \nstd            1.420324      0.272661  9.786607e+04  \nmin            0.000000      0.000000  2.066726e+04  \n25%            0.000000      0.000000  1.077982e+05  \n50%            0.000000      0.000000  1.450179e+05  \n75%            1.000000      0.000000  1.955436e+05  \nmax            4.000000      1.000000  2.265604e+06  "
          },
          "metadata": {}
        }
      ],
      "execution_count": 7,
      "metadata": {
        "trusted": false
      },
      "id": "1a16d260"
    },
    {
      "cell_type": "markdown",
      "source": [
        "Поскольку <i>количество детей</i> и <i>трудовой стаж</i> не могут быть отрицательными, наличие таких значений в столбцах `children` и `days_employed` очевидно ошибочно.<br>"
      ],
      "metadata": {},
      "id": "349a5d48"
    },
    {
      "cell_type": "markdown",
      "source": [
        "#### Проверка и исправление аномалий в столбце `days_employed`\n",
        "Отрицательными являются более 75% значений в столбце `days_employed`, максимальное значение трудового стажа также вызывает подозрение:"
      ],
      "metadata": {},
      "id": "04fb06b5"
    },
    {
      "cell_type": "code",
      "source": [
        "#Доля записей с положительным значением стажа:\n",
        "print('Доля записей с положительным стажем:', data[data['days_employed'] > 0]['days_employed'].count() / len(data))\n",
        "\n",
        "#Перевод максимального стажа в годы\n",
        "max_days = data[data['days_employed'] > 0]['days_employed'].max()/365\n",
        "print(\"Максимальный стаж, лет: \", max_days)\n",
        "\n",
        "#Перевод минимального положительного стажа в годы\n",
        "min_plus_days = data[data['days_employed'] > 0]['days_employed'].min()/365\n",
        "print(\"Минимальный положительный стаж, лет: \", min_plus_days)\n",
        "\n",
        "#Строки с максимальным значением стажа:\n",
        "data[data['days_employed'] > 0].head()"
      ],
      "outputs": [
        {
          "output_type": "stream",
          "name": "stdout",
          "text": [
            "Доля записей с положительным стажем: 0.16004645760743322\n",
            "Максимальный стаж, лет:  1100.6997273296713\n",
            "Минимальный положительный стаж, лет:  900.6266317932007\n"
          ]
        },
        {
          "output_type": "execute_result",
          "execution_count": 8,
          "data": {
            "text/html": "<div>\n<style scoped>\n    .dataframe tbody tr th:only-of-type {\n        vertical-align: middle;\n    }\n\n    .dataframe tbody tr th {\n        vertical-align: top;\n    }\n\n    .dataframe thead th {\n        text-align: right;\n    }\n</style>\n<table border=\"1\" class=\"dataframe\">\n  <thead>\n    <tr style=\"text-align: right;\">\n      <th></th>\n      <th>children</th>\n      <th>days_employed</th>\n      <th>dob_years</th>\n      <th>education</th>\n      <th>education_id</th>\n      <th>family_status</th>\n      <th>family_status_id</th>\n      <th>gender</th>\n      <th>income_type</th>\n      <th>debt</th>\n      <th>total_income</th>\n      <th>purpose</th>\n    </tr>\n  </thead>\n  <tbody>\n    <tr>\n      <th>4</th>\n      <td>0</td>\n      <td>340266.072047</td>\n      <td>53</td>\n      <td>среднее</td>\n      <td>1</td>\n      <td>гражданский брак</td>\n      <td>1</td>\n      <td>F</td>\n      <td>пенсионер</td>\n      <td>0</td>\n      <td>158616.077870</td>\n      <td>сыграть свадьбу</td>\n    </tr>\n    <tr>\n      <th>18</th>\n      <td>0</td>\n      <td>400281.136913</td>\n      <td>53</td>\n      <td>среднее</td>\n      <td>1</td>\n      <td>вдовец / вдова</td>\n      <td>2</td>\n      <td>F</td>\n      <td>пенсионер</td>\n      <td>0</td>\n      <td>56823.777243</td>\n      <td>на покупку подержанного автомобиля</td>\n    </tr>\n    <tr>\n      <th>24</th>\n      <td>1</td>\n      <td>338551.952911</td>\n      <td>57</td>\n      <td>среднее</td>\n      <td>1</td>\n      <td>Не женат / не замужем</td>\n      <td>4</td>\n      <td>F</td>\n      <td>пенсионер</td>\n      <td>0</td>\n      <td>290547.235997</td>\n      <td>операции с коммерческой недвижимостью</td>\n    </tr>\n    <tr>\n      <th>25</th>\n      <td>0</td>\n      <td>363548.489348</td>\n      <td>67</td>\n      <td>среднее</td>\n      <td>1</td>\n      <td>женат / замужем</td>\n      <td>0</td>\n      <td>M</td>\n      <td>пенсионер</td>\n      <td>0</td>\n      <td>55112.757732</td>\n      <td>покупка недвижимости</td>\n    </tr>\n    <tr>\n      <th>30</th>\n      <td>1</td>\n      <td>335581.668515</td>\n      <td>62</td>\n      <td>среднее</td>\n      <td>1</td>\n      <td>женат / замужем</td>\n      <td>0</td>\n      <td>F</td>\n      <td>пенсионер</td>\n      <td>0</td>\n      <td>171456.067993</td>\n      <td>операции с коммерческой недвижимостью</td>\n    </tr>\n  </tbody>\n</table>\n</div>",
            "text/plain": "    children  days_employed  dob_years education  education_id  \\\n4          0  340266.072047         53   среднее             1   \n18         0  400281.136913         53   среднее             1   \n24         1  338551.952911         57   среднее             1   \n25         0  363548.489348         67   среднее             1   \n30         1  335581.668515         62   среднее             1   \n\n            family_status  family_status_id gender income_type  debt  \\\n4        гражданский брак                 1      F   пенсионер     0   \n18         вдовец / вдова                 2      F   пенсионер     0   \n24  Не женат / не замужем                 4      F   пенсионер     0   \n25        женат / замужем                 0      M   пенсионер     0   \n30        женат / замужем                 0      F   пенсионер     0   \n\n     total_income                                purpose  \n4   158616.077870                        сыграть свадьбу  \n18   56823.777243     на покупку подержанного автомобиля  \n24  290547.235997  операции с коммерческой недвижимостью  \n25   55112.757732                   покупка недвижимости  \n30  171456.067993  операции с коммерческой недвижимостью  "
          },
          "metadata": {}
        }
      ],
      "execution_count": 8,
      "metadata": {
        "trusted": false
      },
      "id": "9ac980bb"
    },
    {
      "cell_type": "markdown",
      "source": [
        "Все положительные значения стажа укладываются в диапазон 900-1100 лет и очевидно ошибочны.<br>\n",
        "Прочие параметры в этой строке выглядят вполне правдоподобно. Можно заметить, что преобладающей категорией по доходам является \"пенсионер\", проверим, так ли это, возможно некорректное указание трудового стажа связано именно с типом доходов:"
      ],
      "metadata": {},
      "id": "6cdbf0a3"
    },
    {
      "cell_type": "code",
      "source": [
        "data[data['days_employed'] > 0].groupby('income_type').count()"
      ],
      "outputs": [
        {
          "output_type": "execute_result",
          "execution_count": 9,
          "data": {
            "text/html": "<div>\n<style scoped>\n    .dataframe tbody tr th:only-of-type {\n        vertical-align: middle;\n    }\n\n    .dataframe tbody tr th {\n        vertical-align: top;\n    }\n\n    .dataframe thead th {\n        text-align: right;\n    }\n</style>\n<table border=\"1\" class=\"dataframe\">\n  <thead>\n    <tr style=\"text-align: right;\">\n      <th></th>\n      <th>children</th>\n      <th>days_employed</th>\n      <th>dob_years</th>\n      <th>education</th>\n      <th>education_id</th>\n      <th>family_status</th>\n      <th>family_status_id</th>\n      <th>gender</th>\n      <th>debt</th>\n      <th>total_income</th>\n      <th>purpose</th>\n    </tr>\n    <tr>\n      <th>income_type</th>\n      <th></th>\n      <th></th>\n      <th></th>\n      <th></th>\n      <th></th>\n      <th></th>\n      <th></th>\n      <th></th>\n      <th></th>\n      <th></th>\n      <th></th>\n    </tr>\n  </thead>\n  <tbody>\n    <tr>\n      <th>безработный</th>\n      <td>2</td>\n      <td>2</td>\n      <td>2</td>\n      <td>2</td>\n      <td>2</td>\n      <td>2</td>\n      <td>2</td>\n      <td>2</td>\n      <td>2</td>\n      <td>2</td>\n      <td>2</td>\n    </tr>\n    <tr>\n      <th>пенсионер</th>\n      <td>3443</td>\n      <td>3443</td>\n      <td>3443</td>\n      <td>3443</td>\n      <td>3443</td>\n      <td>3443</td>\n      <td>3443</td>\n      <td>3443</td>\n      <td>3443</td>\n      <td>3443</td>\n      <td>3443</td>\n    </tr>\n  </tbody>\n</table>\n</div>",
            "text/plain": "             children  days_employed  dob_years  education  education_id  \\\nincome_type                                                                \nбезработный         2              2          2          2             2   \nпенсионер        3443           3443       3443       3443          3443   \n\n             family_status  family_status_id  gender  debt  total_income  \\\nincome_type                                                                \nбезработный              2                 2       2     2             2   \nпенсионер             3443              3443    3443  3443          3443   \n\n             purpose  \nincome_type           \nбезработный        2  \nпенсионер       3443  "
          },
          "metadata": {}
        }
      ],
      "execution_count": 9,
      "metadata": {
        "trusted": false
      },
      "id": "8e20bacf"
    },
    {
      "cell_type": "markdown",
      "source": [
        "Подавляющее большинство записей с положительным стажем относится к людям пенсионным типом занятости. Сравним с данными для всего набора:"
      ],
      "metadata": {},
      "id": "e095d903"
    },
    {
      "cell_type": "code",
      "source": [
        "data.pivot_table(index='income_type', aggfunc=('count', 'median'))['days_employed']"
      ],
      "outputs": [
        {
          "output_type": "execute_result",
          "execution_count": 10,
          "data": {
            "text/html": "<div>\n<style scoped>\n    .dataframe tbody tr th:only-of-type {\n        vertical-align: middle;\n    }\n\n    .dataframe tbody tr th {\n        vertical-align: top;\n    }\n\n    .dataframe thead th {\n        text-align: right;\n    }\n</style>\n<table border=\"1\" class=\"dataframe\">\n  <thead>\n    <tr style=\"text-align: right;\">\n      <th></th>\n      <th>count</th>\n      <th>median</th>\n    </tr>\n    <tr>\n      <th>income_type</th>\n      <th></th>\n      <th></th>\n    </tr>\n  </thead>\n  <tbody>\n    <tr>\n      <th>безработный</th>\n      <td>2</td>\n      <td>366413.652744</td>\n    </tr>\n    <tr>\n      <th>в декрете</th>\n      <td>1</td>\n      <td>-3296.759962</td>\n    </tr>\n    <tr>\n      <th>госслужащий</th>\n      <td>1459</td>\n      <td>-2385.358043</td>\n    </tr>\n    <tr>\n      <th>компаньон</th>\n      <td>5085</td>\n      <td>-1311.128244</td>\n    </tr>\n    <tr>\n      <th>пенсионер</th>\n      <td>3856</td>\n      <td>360505.668544</td>\n    </tr>\n    <tr>\n      <th>предприниматель</th>\n      <td>2</td>\n      <td>-862.108806</td>\n    </tr>\n    <tr>\n      <th>сотрудник</th>\n      <td>11119</td>\n      <td>-1360.363902</td>\n    </tr>\n    <tr>\n      <th>студент</th>\n      <td>1</td>\n      <td>-578.751554</td>\n    </tr>\n  </tbody>\n</table>\n</div>",
            "text/plain": "                 count         median\nincome_type                          \nбезработный          2  366413.652744\nв декрете            1   -3296.759962\nгосслужащий       1459   -2385.358043\nкомпаньон         5085   -1311.128244\nпенсионер         3856  360505.668544\nпредприниматель      2    -862.108806\nсотрудник        11119   -1360.363902\nстудент              1    -578.751554"
          },
          "metadata": {}
        }
      ],
      "execution_count": 10,
      "metadata": {
        "trusted": false
      },
      "id": "88bcbd5a"
    },
    {
      "cell_type": "markdown",
      "source": [
        "<p>Таким образом положительный стаж указан у всех безработных (2 строки) и значительной части пенсионеров.</p>\n",
        "<p>Для установления причин аномалий в столбце стажа следовало бы обратиться в отдел, отвечающий за подготовку представленных данных, или по-крайней мере выяснить как происходит сбор и ввод представленных данных.</p>\n",
        "<p>Рассчет продолжительно стажа в днях вряд ли осуществляется клиентами лично, более вероятен расчет по введенным клиентом датам начала и окончания трудовой деятельности в конкретных организациях. </p>\n",
        "<p>Таким образом отрицательные значения могли быть получены при неправильном порядка вычитания дат (из даты начала работы вычитается дата окончания) и правильным будет их преобразования в положительные.</p>\n",
        "<p>Пенсионеры и безработные могли вообще не указывать даты начала или окончания трудового стажа. Объяснить получение стажа именно в 900-1100 лет крайне сложно, лучшим решением было бы обратиться к составителям представленного набора данных.</p>\n",
        "<p>В задачи исследования не входит анализ влияния трудового стажа, поэтому аномалии в данных по трудовому стажу не являются критическими. Можно предложить следующие решения:</p>\n",
        "<ul>\n",
        "    <li>Оставить данные в столбце `days_eployed` как есть и проигнорировать их;</li>\n",
        "    <li>Установить для клиентов с типом занятости \"пенсионер\" значение трудового стажа в соответствии с минимальными требованиями законодательства РФ, в 2021 г.этот показатель составлял 12 лет ~ 4380 дней;</li>\n",
        "    <li>Количество клиентов с типом занятости \"безработный\" слишком мало (2 из 21525) чтобы по ним можно было строить какие-либо статистические выводы, а также чтобы повлиять на результат анализа влияния остальных параметров. Строки с таким типом занятости могут быть исключены.</li>\n",
        "</ul>\n",
        "<p>Пункты 2 и 3 позволят сохранить набольшее количество данных и привести их к максимально правдоподобному виду.</p>"
      ],
      "metadata": {},
      "id": "48c7b1b6"
    },
    {
      "cell_type": "code",
      "source": [
        "#Изменение стажа у \"пенсионеров\" с положительным стажем:\n",
        "data.loc[(data['income_type'] == 'пенсионер') & (data['days_employed'] > 0), 'days_employed'] = 12*365\n",
        "\n",
        "#Удаление строк с типом занятости \"безработный\":\n",
        "data = data.drop(data.index[data['income_type'] == 'безработный'])\n",
        "\n",
        "#Перевод отрицательного стажа в положительный:\n",
        "data['days_employed'] = data['days_employed'].abs()\n",
        "data.head()"
      ],
      "outputs": [
        {
          "output_type": "execute_result",
          "execution_count": 11,
          "data": {
            "text/html": "<div>\n<style scoped>\n    .dataframe tbody tr th:only-of-type {\n        vertical-align: middle;\n    }\n\n    .dataframe tbody tr th {\n        vertical-align: top;\n    }\n\n    .dataframe thead th {\n        text-align: right;\n    }\n</style>\n<table border=\"1\" class=\"dataframe\">\n  <thead>\n    <tr style=\"text-align: right;\">\n      <th></th>\n      <th>children</th>\n      <th>days_employed</th>\n      <th>dob_years</th>\n      <th>education</th>\n      <th>education_id</th>\n      <th>family_status</th>\n      <th>family_status_id</th>\n      <th>gender</th>\n      <th>income_type</th>\n      <th>debt</th>\n      <th>total_income</th>\n      <th>purpose</th>\n    </tr>\n  </thead>\n  <tbody>\n    <tr>\n      <th>0</th>\n      <td>1</td>\n      <td>8437.673028</td>\n      <td>42</td>\n      <td>высшее</td>\n      <td>0</td>\n      <td>женат / замужем</td>\n      <td>0</td>\n      <td>F</td>\n      <td>сотрудник</td>\n      <td>0</td>\n      <td>253875.639453</td>\n      <td>покупка жилья</td>\n    </tr>\n    <tr>\n      <th>1</th>\n      <td>1</td>\n      <td>4024.803754</td>\n      <td>36</td>\n      <td>среднее</td>\n      <td>1</td>\n      <td>женат / замужем</td>\n      <td>0</td>\n      <td>F</td>\n      <td>сотрудник</td>\n      <td>0</td>\n      <td>112080.014102</td>\n      <td>приобретение автомобиля</td>\n    </tr>\n    <tr>\n      <th>2</th>\n      <td>0</td>\n      <td>5623.422610</td>\n      <td>33</td>\n      <td>Среднее</td>\n      <td>1</td>\n      <td>женат / замужем</td>\n      <td>0</td>\n      <td>M</td>\n      <td>сотрудник</td>\n      <td>0</td>\n      <td>145885.952297</td>\n      <td>покупка жилья</td>\n    </tr>\n    <tr>\n      <th>3</th>\n      <td>3</td>\n      <td>4124.747207</td>\n      <td>32</td>\n      <td>среднее</td>\n      <td>1</td>\n      <td>женат / замужем</td>\n      <td>0</td>\n      <td>M</td>\n      <td>сотрудник</td>\n      <td>0</td>\n      <td>267628.550329</td>\n      <td>дополнительное образование</td>\n    </tr>\n    <tr>\n      <th>4</th>\n      <td>0</td>\n      <td>4380.000000</td>\n      <td>53</td>\n      <td>среднее</td>\n      <td>1</td>\n      <td>гражданский брак</td>\n      <td>1</td>\n      <td>F</td>\n      <td>пенсионер</td>\n      <td>0</td>\n      <td>158616.077870</td>\n      <td>сыграть свадьбу</td>\n    </tr>\n  </tbody>\n</table>\n</div>",
            "text/plain": "   children  days_employed  dob_years education  education_id  \\\n0         1    8437.673028         42    высшее             0   \n1         1    4024.803754         36   среднее             1   \n2         0    5623.422610         33   Среднее             1   \n3         3    4124.747207         32   среднее             1   \n4         0    4380.000000         53   среднее             1   \n\n      family_status  family_status_id gender income_type  debt   total_income  \\\n0   женат / замужем                 0      F   сотрудник     0  253875.639453   \n1   женат / замужем                 0      F   сотрудник     0  112080.014102   \n2   женат / замужем                 0      M   сотрудник     0  145885.952297   \n3   женат / замужем                 0      M   сотрудник     0  267628.550329   \n4  гражданский брак                 1      F   пенсионер     0  158616.077870   \n\n                      purpose  \n0               покупка жилья  \n1     приобретение автомобиля  \n2               покупка жилья  \n3  дополнительное образование  \n4             сыграть свадьбу  "
          },
          "metadata": {}
        }
      ],
      "execution_count": 11,
      "metadata": {
        "trusted": false
      },
      "id": "d52851ba"
    },
    {
      "cell_type": "markdown",
      "source": [
        "Проверим не осталось ли аномальных значений трудового стажа, например превышающих возраст:"
      ],
      "metadata": {},
      "id": "3dabbbb1"
    },
    {
      "cell_type": "code",
      "source": [
        "print(\"Количество строк, которых стаж больше возраста:\", len(data[data['days_employed']/365 > data['dob_years']]))\n",
        "print(\"Распределение аномальных записей по типам занятости:\")\n",
        "display(data[data['days_employed']/365 > data['dob_years']].groupby('income_type')['dob_years'].count())"
      ],
      "outputs": [
        {
          "output_type": "stream",
          "name": "stdout",
          "text": [
            "Количество строк, которых стаж больше возраста: 101\n",
            "Распределение аномальных записей по типам занятости:\n"
          ]
        },
        {
          "output_type": "display_data",
          "data": {
            "text/plain": "income_type\nгосслужащий     6\nкомпаньон      20\nпенсионер      20\nсотрудник      55\nName: dob_years, dtype: int64"
          },
          "metadata": {}
        }
      ],
      "execution_count": 12,
      "metadata": {
        "trusted": false
      },
      "id": "b1f90bf3"
    },
    {
      "cell_type": "markdown",
      "source": [
        "Осталось 100 строк с аномальным значением возраста. Возможно три решения:\n",
        "<ul>\n",
        "    <li>Оставить значения \"как есть\", поскольку возраст не учитывается при решении задач исследования;</li>\n",
        "    <li>Исключить строки. 100 записей составляют около 0.46% от всех данных и их исключение не приведет к существенному изменению конечных результатов;</li>\n",
        "    <li>Заменить нулевые значения минимальным пенсионным возрастом для пенсионеров и медианным возрастом для остальных групп.</li>\n",
        "    </ul>\n",
        "В рамках текущего исследования все три решения практически равноценны. Предпочтительным будет первое как наиболее простое и сохраняющее исходные данные.<br>"
      ],
      "metadata": {},
      "id": "62fef546"
    },
    {
      "cell_type": "markdown",
      "source": [
        "#### Проверка и исправление аномалий в столбце `children`<br>\n",
        "<p>Вызывает подозрение максимальное (20) и минимально количетсво детей (-1)</p>\n",
        "<p>Определим количество строк, содержащих различные значения:</p>"
      ],
      "metadata": {},
      "id": "15b5fcd3"
    },
    {
      "cell_type": "code",
      "source": [
        "data.groupby('children').count()['debt']"
      ],
      "outputs": [
        {
          "output_type": "execute_result",
          "execution_count": 13,
          "data": {
            "text/plain": "children\n-1        47\n 0     14148\n 1      4817\n 2      2055\n 3       330\n 4        41\n 5         9\n 20       76\nName: debt, dtype: int64"
          },
          "metadata": {}
        }
      ],
      "execution_count": 13,
      "metadata": {
        "trusted": false
      },
      "id": "4d37b572"
    },
    {
      "cell_type": "markdown",
      "source": [
        "Аномальные значения могли возникнуть как опечатки при вводе данных (\"-1\" вместо \"1\" и \"20\" вместо \"2\"), как артефакты при выгрузке данных (\"-1\" теоретически могло указывать на отсутствие значения), а также умышленно (к примеру форма ввода позволяет выбрать число детей от 1 до 20 и пользователь указал максимально возможное).<br>\n",
        "Чтобы установить истинную причину аномалий необходимо связаться с отделами ответственными за формирование и выгрузку представленных данных.<br>\n",
        "Поскольку минимальное и максимальное значение количества детей встречаются относительно нечасто (~ 0,6 %), без дополнительной информации будет наболее правильно пропустить строки с аномальными значениями.<br>"
      ],
      "metadata": {},
      "id": "a84bee30"
    },
    {
      "cell_type": "code",
      "source": [
        "anomalous_children = (data['children'] == -1) | (data['children'] == 20)\n",
        "data = data.drop(data.index[anomalous_children])\n",
        "children_debt_data = data.pivot_table(index='children', aggfunc=('mean', 'count','std'))['debt']\n",
        "\n",
        "children_debt_data.columns = ['Число записей', 'Средняя доля просрочек', 'Стандартное отклонение']\n",
        "children_debt_data"
      ],
      "outputs": [
        {
          "output_type": "execute_result",
          "execution_count": 14,
          "data": {
            "text/html": "<div>\n<style scoped>\n    .dataframe tbody tr th:only-of-type {\n        vertical-align: middle;\n    }\n\n    .dataframe tbody tr th {\n        vertical-align: top;\n    }\n\n    .dataframe thead th {\n        text-align: right;\n    }\n</style>\n<table border=\"1\" class=\"dataframe\">\n  <thead>\n    <tr style=\"text-align: right;\">\n      <th></th>\n      <th>Число записей</th>\n      <th>Средняя доля просрочек</th>\n      <th>Стандартное отклонение</th>\n    </tr>\n    <tr>\n      <th>children</th>\n      <th></th>\n      <th></th>\n      <th></th>\n    </tr>\n  </thead>\n  <tbody>\n    <tr>\n      <th>0</th>\n      <td>14148.0</td>\n      <td>0.075134</td>\n      <td>0.263617</td>\n    </tr>\n    <tr>\n      <th>1</th>\n      <td>4817.0</td>\n      <td>0.091966</td>\n      <td>0.289008</td>\n    </tr>\n    <tr>\n      <th>2</th>\n      <td>2055.0</td>\n      <td>0.094404</td>\n      <td>0.292461</td>\n    </tr>\n    <tr>\n      <th>3</th>\n      <td>330.0</td>\n      <td>0.081818</td>\n      <td>0.274504</td>\n    </tr>\n    <tr>\n      <th>4</th>\n      <td>41.0</td>\n      <td>0.097561</td>\n      <td>0.300406</td>\n    </tr>\n    <tr>\n      <th>5</th>\n      <td>9.0</td>\n      <td>0.000000</td>\n      <td>0.000000</td>\n    </tr>\n  </tbody>\n</table>\n</div>",
            "text/plain": "          Число записей  Средняя доля просрочек  Стандартное отклонение\nchildren                                                               \n0               14148.0                0.075134                0.263617\n1                4817.0                0.091966                0.289008\n2                2055.0                0.094404                0.292461\n3                 330.0                0.081818                0.274504\n4                  41.0                0.097561                0.300406\n5                   9.0                0.000000                0.000000"
          },
          "metadata": {}
        }
      ],
      "execution_count": 14,
      "metadata": {
        "scrolled": true,
        "trusted": false
      },
      "id": "3a697027"
    },
    {
      "cell_type": "markdown",
      "source": [
        "Как видно из полученной таблицы, средняя доля просроченных платежей по кредиту для клиентов без детей несколько меньше чем у клиентов, имеющих одного или более детей.<br>\n",
        "Говорить о значимых различиях в доле просрочек среди клиентов с детьми нельзя. Отсутствие просрочек у клиентов с 5 детьми, может быть связано с малым количеством таких клиентов.\n"
      ],
      "metadata": {},
      "id": "442d942e"
    },
    {
      "cell_type": "markdown",
      "source": [
        "### Изменение типов данных."
      ],
      "metadata": {},
      "id": "f1e8761c"
    },
    {
      "cell_type": "markdown",
      "source": [
        "Преобразуем доход и трудовой стаж в днях в целочисленные тип данных:"
      ],
      "metadata": {},
      "id": "1b41e67c"
    },
    {
      "cell_type": "code",
      "source": [
        "data['days_employed'] = data['days_employed'].astype('uint16')\n",
        "data['total_income'] = data['total_income'].astype('uint32')"
      ],
      "outputs": [],
      "execution_count": 15,
      "metadata": {
        "trusted": false
      },
      "id": "89152e7a"
    },
    {
      "cell_type": "markdown",
      "source": [
        "Столбцы с небольшими значениями (число детей, возраст), индикаторы и идентификаторы преобразуем в тип `uint8`:"
      ],
      "metadata": {},
      "id": "273b9a40"
    },
    {
      "cell_type": "code",
      "source": [
        "#Столбцы с малыми положительными значениями (индикаторы и т.д.):\n",
        "small_positive_cols = ['children', 'dob_years', 'education_id', 'family_status_id', 'debt']\n",
        "for col in small_positive_cols:\n",
        "    data[col] = data[col].astype('uint8')\n",
        "data.reset_index()\n",
        "data.info()"
      ],
      "outputs": [
        {
          "output_type": "stream",
          "name": "stdout",
          "text": [
            "<class 'pandas.core.frame.DataFrame'>\n",
            "Int64Index: 21400 entries, 0 to 21524\n",
            "Data columns (total 12 columns):\n",
            " #   Column            Non-Null Count  Dtype \n",
            "---  ------            --------------  ----- \n",
            " 0   children          21400 non-null  uint8 \n",
            " 1   days_employed     21400 non-null  uint16\n",
            " 2   dob_years         21400 non-null  uint8 \n",
            " 3   education         21400 non-null  object\n",
            " 4   education_id      21400 non-null  uint8 \n",
            " 5   family_status     21400 non-null  object\n",
            " 6   family_status_id  21400 non-null  uint8 \n",
            " 7   gender            21400 non-null  object\n",
            " 8   income_type       21400 non-null  object\n",
            " 9   debt              21400 non-null  uint8 \n",
            " 10  total_income      21400 non-null  uint32\n",
            " 11  purpose           21400 non-null  object\n",
            "dtypes: object(5), uint16(1), uint32(1), uint8(5)\n",
            "memory usage: 1.7+ MB\n"
          ]
        }
      ],
      "execution_count": 16,
      "metadata": {
        "trusted": false
      },
      "id": "1e0dfd13"
    },
    {
      "cell_type": "markdown",
      "source": [
        "Удалось сократить использование памяти. В данном случае это не является критичным, однако может быть полезно при увеличении числа записей в наборе данных."
      ],
      "metadata": {},
      "id": "e33aa218"
    },
    {
      "cell_type": "markdown",
      "source": [
        "### Удаление дубликатов."
      ],
      "metadata": {},
      "id": "a143943f"
    },
    {
      "cell_type": "markdown",
      "source": [
        "Удалим явные дубликаты:"
      ],
      "metadata": {},
      "id": "643450a7"
    },
    {
      "cell_type": "code",
      "source": [
        "print(\"Количество записей до удаления явных дубликатов:\", len(data))\n",
        "data = data.drop_duplicates().reset_index(drop=True)\n",
        "print(\"Количество записей после удаления явных дубликатов:\", len(data))"
      ],
      "outputs": [
        {
          "output_type": "stream",
          "name": "stdout",
          "text": [
            "Количество записей до удаления явных дубликатов: 21400\n",
            "Количество записей после удаления явных дубликатов: 21346\n"
          ]
        }
      ],
      "execution_count": 17,
      "metadata": {
        "trusted": false
      },
      "id": "0f85ce65"
    },
    {
      "cell_type": "markdown",
      "source": [
        "Возможно наличие неявных дубликатов. Рассмотрим возможные уникальные значения в столбцах `education`, `family_status`, `purpose`"
      ],
      "metadata": {},
      "id": "7b81e5e8"
    },
    {
      "cell_type": "code",
      "source": [
        "print(\"Варианты образования:\")\n",
        "print(data['education'].unique())\n",
        "print()\n",
        "print(\"Варианты семейного положения:\")\n",
        "print(data['family_status'].unique())\n",
        "print()\n",
        "print(\"Варианты целей кредитования:\")\n",
        "print(data['purpose'].unique())"
      ],
      "outputs": [
        {
          "output_type": "stream",
          "name": "stdout",
          "text": [
            "Варианты образования:\n",
            "['высшее' 'среднее' 'Среднее' 'СРЕДНЕЕ' 'ВЫСШЕЕ' 'неоконченное высшее'\n",
            " 'начальное' 'Высшее' 'НЕОКОНЧЕННОЕ ВЫСШЕЕ' 'Неоконченное высшее'\n",
            " 'НАЧАЛЬНОЕ' 'Начальное' 'Ученая степень' 'УЧЕНАЯ СТЕПЕНЬ'\n",
            " 'ученая степень']\n",
            "\n",
            "Варианты семейного положения:\n",
            "['женат / замужем' 'гражданский брак' 'вдовец / вдова' 'в разводе'\n",
            " 'Не женат / не замужем']\n",
            "\n",
            "Варианты целей кредитования:\n",
            "['покупка жилья' 'приобретение автомобиля' 'дополнительное образование'\n",
            " 'сыграть свадьбу' 'операции с жильем' 'образование'\n",
            " 'на проведение свадьбы' 'покупка жилья для семьи' 'покупка недвижимости'\n",
            " 'покупка коммерческой недвижимости' 'покупка жилой недвижимости'\n",
            " 'строительство собственной недвижимости' 'недвижимость'\n",
            " 'строительство недвижимости' 'на покупку подержанного автомобиля'\n",
            " 'на покупку своего автомобиля' 'операции с коммерческой недвижимостью'\n",
            " 'строительство жилой недвижимости' 'жилье'\n",
            " 'операции со своей недвижимостью' 'автомобили' 'заняться образованием'\n",
            " 'сделка с подержанным автомобилем' 'получение образования' 'автомобиль'\n",
            " 'свадьба' 'получение дополнительного образования' 'покупка своего жилья'\n",
            " 'операции с недвижимостью' 'получение высшего образования'\n",
            " 'свой автомобиль' 'сделка с автомобилем' 'профильное образование'\n",
            " 'высшее образование' 'покупка жилья для сдачи' 'на покупку автомобиля'\n",
            " 'ремонт жилью' 'заняться высшим образованием']\n"
          ]
        }
      ],
      "execution_count": 18,
      "metadata": {
        "trusted": false
      },
      "id": "ec14c987"
    },
    {
      "cell_type": "markdown",
      "source": [
        "Присутствуют различные написания ступеней образования и различные но близкие формулировки целей кредита.<br>\n",
        "Цели кредита будут категоризированы далее, в рамках задачи исследования.<br>\n",
        "Варианты ступеней образования могут быть унифицированы переводом в нижним регистр:"
      ],
      "metadata": {},
      "id": "dad08315"
    },
    {
      "cell_type": "code",
      "source": [
        "#Переведем в нижний регистр:\n",
        "data['education'] = data['education'].str.lower()\n",
        "\n",
        "#Проверим наличие дубликатов:\n",
        "print(\"Количество записей до удаления явных дубликатов:\", len(data))\n",
        "data = data.drop_duplicates().reset_index(drop=True)\n",
        "print(\"Количество записей после удаления явных дубликатов:\", len(data))"
      ],
      "outputs": [
        {
          "output_type": "stream",
          "name": "stdout",
          "text": [
            "Количество записей до удаления явных дубликатов: 21346\n",
            "Количество записей после удаления явных дубликатов: 21329\n"
          ]
        }
      ],
      "execution_count": 19,
      "metadata": {
        "trusted": false
      },
      "id": "81b5e348"
    },
    {
      "cell_type": "markdown",
      "source": [
        "### Формирование дополнительных датафреймов словарей, декомпозиция исходного датафрейма."
      ],
      "metadata": {},
      "id": "31c4ae82"
    },
    {
      "cell_type": "markdown",
      "source": [
        "Подготовка датафреймов-словарей для уровней образования и семейного положения:"
      ],
      "metadata": {},
      "id": "146cdbfe"
    },
    {
      "cell_type": "code",
      "source": [
        "#Датафрейм словарь для уровней образования:\n",
        "education_ids = data[['education', 'education_id']].drop_duplicates().reset_index(drop=True)\n",
        "print(\"Словарь уровней образования\")\n",
        "display(education_ids)\n",
        "print()\n",
        "\n",
        "#Датафрейм словарь для семейного положения:\n",
        "family_status_ids = data[['family_status', 'family_status_id']].drop_duplicates().reset_index(drop=True)\n",
        "print(\"Словарь семейного положения\")\n",
        "display(family_status_ids)"
      ],
      "outputs": [
        {
          "output_type": "stream",
          "name": "stdout",
          "text": [
            "Словарь уровней образования\n"
          ]
        },
        {
          "output_type": "display_data",
          "data": {
            "text/html": "<div>\n<style scoped>\n    .dataframe tbody tr th:only-of-type {\n        vertical-align: middle;\n    }\n\n    .dataframe tbody tr th {\n        vertical-align: top;\n    }\n\n    .dataframe thead th {\n        text-align: right;\n    }\n</style>\n<table border=\"1\" class=\"dataframe\">\n  <thead>\n    <tr style=\"text-align: right;\">\n      <th></th>\n      <th>education</th>\n      <th>education_id</th>\n    </tr>\n  </thead>\n  <tbody>\n    <tr>\n      <th>0</th>\n      <td>высшее</td>\n      <td>0</td>\n    </tr>\n    <tr>\n      <th>1</th>\n      <td>среднее</td>\n      <td>1</td>\n    </tr>\n    <tr>\n      <th>2</th>\n      <td>неоконченное высшее</td>\n      <td>2</td>\n    </tr>\n    <tr>\n      <th>3</th>\n      <td>начальное</td>\n      <td>3</td>\n    </tr>\n    <tr>\n      <th>4</th>\n      <td>ученая степень</td>\n      <td>4</td>\n    </tr>\n  </tbody>\n</table>\n</div>",
            "text/plain": "             education  education_id\n0               высшее             0\n1              среднее             1\n2  неоконченное высшее             2\n3            начальное             3\n4       ученая степень             4"
          },
          "metadata": {}
        },
        {
          "output_type": "stream",
          "name": "stdout",
          "text": [
            "\n",
            "Словарь семейного положения\n"
          ]
        },
        {
          "output_type": "display_data",
          "data": {
            "text/html": "<div>\n<style scoped>\n    .dataframe tbody tr th:only-of-type {\n        vertical-align: middle;\n    }\n\n    .dataframe tbody tr th {\n        vertical-align: top;\n    }\n\n    .dataframe thead th {\n        text-align: right;\n    }\n</style>\n<table border=\"1\" class=\"dataframe\">\n  <thead>\n    <tr style=\"text-align: right;\">\n      <th></th>\n      <th>family_status</th>\n      <th>family_status_id</th>\n    </tr>\n  </thead>\n  <tbody>\n    <tr>\n      <th>0</th>\n      <td>женат / замужем</td>\n      <td>0</td>\n    </tr>\n    <tr>\n      <th>1</th>\n      <td>гражданский брак</td>\n      <td>1</td>\n    </tr>\n    <tr>\n      <th>2</th>\n      <td>вдовец / вдова</td>\n      <td>2</td>\n    </tr>\n    <tr>\n      <th>3</th>\n      <td>в разводе</td>\n      <td>3</td>\n    </tr>\n    <tr>\n      <th>4</th>\n      <td>Не женат / не замужем</td>\n      <td>4</td>\n    </tr>\n  </tbody>\n</table>\n</div>",
            "text/plain": "           family_status  family_status_id\n0        женат / замужем                 0\n1       гражданский брак                 1\n2         вдовец / вдова                 2\n3              в разводе                 3\n4  Не женат / не замужем                 4"
          },
          "metadata": {}
        }
      ],
      "execution_count": 20,
      "metadata": {
        "trusted": false
      },
      "id": "c8900f98"
    },
    {
      "cell_type": "markdown",
      "source": [
        "Декомпозиция исходного датафрейма:"
      ],
      "metadata": {},
      "id": "b49cb86b"
    },
    {
      "cell_type": "code",
      "source": [
        "data = data.drop(['family_status', 'education'], axis=1)\n",
        "data.head()"
      ],
      "outputs": [
        {
          "output_type": "execute_result",
          "execution_count": 21,
          "data": {
            "text/html": "<div>\n<style scoped>\n    .dataframe tbody tr th:only-of-type {\n        vertical-align: middle;\n    }\n\n    .dataframe tbody tr th {\n        vertical-align: top;\n    }\n\n    .dataframe thead th {\n        text-align: right;\n    }\n</style>\n<table border=\"1\" class=\"dataframe\">\n  <thead>\n    <tr style=\"text-align: right;\">\n      <th></th>\n      <th>children</th>\n      <th>days_employed</th>\n      <th>dob_years</th>\n      <th>education_id</th>\n      <th>family_status_id</th>\n      <th>gender</th>\n      <th>income_type</th>\n      <th>debt</th>\n      <th>total_income</th>\n      <th>purpose</th>\n    </tr>\n  </thead>\n  <tbody>\n    <tr>\n      <th>0</th>\n      <td>1</td>\n      <td>8437</td>\n      <td>42</td>\n      <td>0</td>\n      <td>0</td>\n      <td>F</td>\n      <td>сотрудник</td>\n      <td>0</td>\n      <td>253875</td>\n      <td>покупка жилья</td>\n    </tr>\n    <tr>\n      <th>1</th>\n      <td>1</td>\n      <td>4024</td>\n      <td>36</td>\n      <td>1</td>\n      <td>0</td>\n      <td>F</td>\n      <td>сотрудник</td>\n      <td>0</td>\n      <td>112080</td>\n      <td>приобретение автомобиля</td>\n    </tr>\n    <tr>\n      <th>2</th>\n      <td>0</td>\n      <td>5623</td>\n      <td>33</td>\n      <td>1</td>\n      <td>0</td>\n      <td>M</td>\n      <td>сотрудник</td>\n      <td>0</td>\n      <td>145885</td>\n      <td>покупка жилья</td>\n    </tr>\n    <tr>\n      <th>3</th>\n      <td>3</td>\n      <td>4124</td>\n      <td>32</td>\n      <td>1</td>\n      <td>0</td>\n      <td>M</td>\n      <td>сотрудник</td>\n      <td>0</td>\n      <td>267628</td>\n      <td>дополнительное образование</td>\n    </tr>\n    <tr>\n      <th>4</th>\n      <td>0</td>\n      <td>4380</td>\n      <td>53</td>\n      <td>1</td>\n      <td>1</td>\n      <td>F</td>\n      <td>пенсионер</td>\n      <td>0</td>\n      <td>158616</td>\n      <td>сыграть свадьбу</td>\n    </tr>\n  </tbody>\n</table>\n</div>",
            "text/plain": "   children  days_employed  dob_years  education_id  family_status_id gender  \\\n0         1           8437         42             0                 0      F   \n1         1           4024         36             1                 0      F   \n2         0           5623         33             1                 0      M   \n3         3           4124         32             1                 0      M   \n4         0           4380         53             1                 1      F   \n\n  income_type  debt  total_income                     purpose  \n0   сотрудник     0        253875               покупка жилья  \n1   сотрудник     0        112080     приобретение автомобиля  \n2   сотрудник     0        145885               покупка жилья  \n3   сотрудник     0        267628  дополнительное образование  \n4   пенсионер     0        158616             сыграть свадьбу  "
          },
          "metadata": {}
        }
      ],
      "execution_count": 21,
      "metadata": {
        "trusted": false
      },
      "id": "ee91a8f1"
    },
    {
      "cell_type": "markdown",
      "source": [
        " Проверим влияние образования на долю просроченных кредитов:"
      ],
      "metadata": {},
      "id": "7567e796"
    },
    {
      "cell_type": "code",
      "source": [
        "data.pivot_table(index='education_id',\n",
        "                 aggfunc=('mean', 'count','std'))['debt'].merge(education_ids, on='education_id')"
      ],
      "outputs": [
        {
          "output_type": "execute_result",
          "execution_count": 22,
          "data": {
            "text/html": "<div>\n<style scoped>\n    .dataframe tbody tr th:only-of-type {\n        vertical-align: middle;\n    }\n\n    .dataframe tbody tr th {\n        vertical-align: top;\n    }\n\n    .dataframe thead th {\n        text-align: right;\n    }\n</style>\n<table border=\"1\" class=\"dataframe\">\n  <thead>\n    <tr style=\"text-align: right;\">\n      <th></th>\n      <th>education_id</th>\n      <th>count</th>\n      <th>mean</th>\n      <th>std</th>\n      <th>education</th>\n    </tr>\n  </thead>\n  <tbody>\n    <tr>\n      <th>0</th>\n      <td>0</td>\n      <td>5226.0</td>\n      <td>0.053196</td>\n      <td>0.224445</td>\n      <td>высшее</td>\n    </tr>\n    <tr>\n      <th>1</th>\n      <td>1</td>\n      <td>15074.0</td>\n      <td>0.089824</td>\n      <td>0.285938</td>\n      <td>среднее</td>\n    </tr>\n    <tr>\n      <th>2</th>\n      <td>2</td>\n      <td>741.0</td>\n      <td>0.091768</td>\n      <td>0.288893</td>\n      <td>неоконченное высшее</td>\n    </tr>\n    <tr>\n      <th>3</th>\n      <td>3</td>\n      <td>282.0</td>\n      <td>0.109929</td>\n      <td>0.313357</td>\n      <td>начальное</td>\n    </tr>\n    <tr>\n      <th>4</th>\n      <td>4</td>\n      <td>6.0</td>\n      <td>0.000000</td>\n      <td>0.000000</td>\n      <td>ученая степень</td>\n    </tr>\n  </tbody>\n</table>\n</div>",
            "text/plain": "   education_id    count      mean       std            education\n0             0   5226.0  0.053196  0.224445               высшее\n1             1  15074.0  0.089824  0.285938              среднее\n2             2    741.0  0.091768  0.288893  неоконченное высшее\n3             3    282.0  0.109929  0.313357            начальное\n4             4      6.0  0.000000  0.000000       ученая степень"
          },
          "metadata": {}
        }
      ],
      "execution_count": 22,
      "metadata": {
        "trusted": false
      },
      "id": "f36a3a6d"
    },
    {
      "cell_type": "markdown",
      "source": [
        "<p>Заметен большой разброс доли просроченных кредитов в зависимости от уровня образования, наибольший риск наблюдается в группе с начальным образованием, группа со средним и неоконченным высшим образованием имеет близкий уровень риска, наименьший риск наблюдается в группе с высшим образованием. Нулевая доля просроченных кредитов в группе с учеными степенями скорее всего объясняется слишком малым количеством наблюдений (6).</p>\n",
        "<p>Такое распределение риска в зависимости от образования может быть объяснено тем, что более квалифицированные клиенты имеют более постоянные доходы.</p>"
      ],
      "metadata": {},
      "id": "b5c056c9"
    },
    {
      "cell_type": "code",
      "source": [
        "data.pivot_table(index='family_status_id',\n",
        "                 aggfunc=('mean', 'count','std'))['debt'].merge(family_status_ids, on='family_status_id')"
      ],
      "outputs": [
        {
          "output_type": "execute_result",
          "execution_count": 23,
          "data": {
            "text/html": "<div>\n<style scoped>\n    .dataframe tbody tr th:only-of-type {\n        vertical-align: middle;\n    }\n\n    .dataframe tbody tr th {\n        vertical-align: top;\n    }\n\n    .dataframe thead th {\n        text-align: right;\n    }\n</style>\n<table border=\"1\" class=\"dataframe\">\n  <thead>\n    <tr style=\"text-align: right;\">\n      <th></th>\n      <th>family_status_id</th>\n      <th>count</th>\n      <th>mean</th>\n      <th>std</th>\n      <th>family_status</th>\n    </tr>\n  </thead>\n  <tbody>\n    <tr>\n      <th>0</th>\n      <td>0</td>\n      <td>12260.0</td>\n      <td>0.075530</td>\n      <td>0.264256</td>\n      <td>женат / замужем</td>\n    </tr>\n    <tr>\n      <th>1</th>\n      <td>1</td>\n      <td>4133.0</td>\n      <td>0.093153</td>\n      <td>0.290681</td>\n      <td>гражданский брак</td>\n    </tr>\n    <tr>\n      <th>2</th>\n      <td>2</td>\n      <td>951.0</td>\n      <td>0.066246</td>\n      <td>0.248843</td>\n      <td>вдовец / вдова</td>\n    </tr>\n    <tr>\n      <th>3</th>\n      <td>3</td>\n      <td>1189.0</td>\n      <td>0.070648</td>\n      <td>0.256343</td>\n      <td>в разводе</td>\n    </tr>\n    <tr>\n      <th>4</th>\n      <td>4</td>\n      <td>2796.0</td>\n      <td>0.097639</td>\n      <td>0.296880</td>\n      <td>Не женат / не замужем</td>\n    </tr>\n  </tbody>\n</table>\n</div>",
            "text/plain": "   family_status_id    count      mean       std          family_status\n0                 0  12260.0  0.075530  0.264256        женат / замужем\n1                 1   4133.0  0.093153  0.290681       гражданский брак\n2                 2    951.0  0.066246  0.248843         вдовец / вдова\n3                 3   1189.0  0.070648  0.256343              в разводе\n4                 4   2796.0  0.097639  0.296880  Не женат / не замужем"
          },
          "metadata": {}
        }
      ],
      "execution_count": 23,
      "metadata": {
        "trusted": false
      },
      "id": "8404e46c"
    },
    {
      "cell_type": "markdown",
      "source": [
        "<p>Наименьший риск наблюдается в группах лиц, которые либо находятся в официальном браке (\"женат/замужем\"), или были в нем ранее (\"вдовец/вдова\", \"в разводе\"), причем уровень риска в данных группах практически не различается.</p>\n",
        "<p>Наибольший кредитный риск наблюдается в группах \"гражданский брак\" и \"Не женат / не замужем\" и также мало различается между этими группами.</p>\n",
        "<p>Причиной низкой доли просроченных кредитов в группе находящихся в официальном браке является возможность поддержки клиента, взявшего кредит, его супругом в случае возникновения финансовых трудностей.</p>\n",
        "<p>Причины низкого кредитного риска для разведенных и вдовых клиентов не столь ясна. Одной из причин может быть различие в возрасте клиентов. Проверим эту гипотезу.</p>"
      ],
      "metadata": {},
      "id": "725bfa6a"
    },
    {
      "cell_type": "code",
      "source": [
        "data.pivot_table(index='family_status_id',\n",
        "                 aggfunc=('mean', 'count','std'))['dob_years'].merge(family_status_ids, on='family_status_id')"
      ],
      "outputs": [
        {
          "output_type": "execute_result",
          "execution_count": 24,
          "data": {
            "text/html": "<div>\n<style scoped>\n    .dataframe tbody tr th:only-of-type {\n        vertical-align: middle;\n    }\n\n    .dataframe tbody tr th {\n        vertical-align: top;\n    }\n\n    .dataframe thead th {\n        text-align: right;\n    }\n</style>\n<table border=\"1\" class=\"dataframe\">\n  <thead>\n    <tr style=\"text-align: right;\">\n      <th></th>\n      <th>family_status_id</th>\n      <th>count</th>\n      <th>mean</th>\n      <th>std</th>\n      <th>family_status</th>\n    </tr>\n  </thead>\n  <tbody>\n    <tr>\n      <th>0</th>\n      <td>0</td>\n      <td>12260.0</td>\n      <td>43.559543</td>\n      <td>11.936701</td>\n      <td>женат / замужем</td>\n    </tr>\n    <tr>\n      <th>1</th>\n      <td>1</td>\n      <td>4133.0</td>\n      <td>42.067022</td>\n      <td>12.352777</td>\n      <td>гражданский брак</td>\n    </tr>\n    <tr>\n      <th>2</th>\n      <td>2</td>\n      <td>951.0</td>\n      <td>56.501577</td>\n      <td>9.583964</td>\n      <td>вдовец / вдова</td>\n    </tr>\n    <tr>\n      <th>3</th>\n      <td>3</td>\n      <td>1189.0</td>\n      <td>45.561817</td>\n      <td>11.800556</td>\n      <td>в разводе</td>\n    </tr>\n    <tr>\n      <th>4</th>\n      <td>4</td>\n      <td>2796.0</td>\n      <td>38.368026</td>\n      <td>13.322453</td>\n      <td>Не женат / не замужем</td>\n    </tr>\n  </tbody>\n</table>\n</div>",
            "text/plain": "   family_status_id    count       mean        std          family_status\n0                 0  12260.0  43.559543  11.936701        женат / замужем\n1                 1   4133.0  42.067022  12.352777       гражданский брак\n2                 2    951.0  56.501577   9.583964         вдовец / вдова\n3                 3   1189.0  45.561817  11.800556              в разводе\n4                 4   2796.0  38.368026  13.322453  Не женат / не замужем"
          },
          "metadata": {}
        }
      ],
      "execution_count": 24,
      "metadata": {
        "trusted": false
      },
      "id": "07eb4e1d"
    },
    {
      "cell_type": "markdown",
      "source": [
        "Действительно, возраст разведенных и вдовых клиентов больше возраста клиентов в остальных группах. Проверим влияет ли возраст на вероятность просрочки по кредиту."
      ],
      "metadata": {},
      "id": "f4506127"
    },
    {
      "cell_type": "code",
      "source": [
        "data.pivot_table(index='debt', aggfunc=('mean', 'count','std'))['dob_years']"
      ],
      "outputs": [
        {
          "output_type": "execute_result",
          "execution_count": 25,
          "data": {
            "text/html": "<div>\n<style scoped>\n    .dataframe tbody tr th:only-of-type {\n        vertical-align: middle;\n    }\n\n    .dataframe tbody tr th {\n        vertical-align: top;\n    }\n\n    .dataframe thead th {\n        text-align: right;\n    }\n</style>\n<table border=\"1\" class=\"dataframe\">\n  <thead>\n    <tr style=\"text-align: right;\">\n      <th></th>\n      <th>count</th>\n      <th>mean</th>\n      <th>std</th>\n    </tr>\n    <tr>\n      <th>debt</th>\n      <th></th>\n      <th></th>\n      <th></th>\n    </tr>\n  </thead>\n  <tbody>\n    <tr>\n      <th>0</th>\n      <td>19598.0</td>\n      <td>43.537912</td>\n      <td>12.589283</td>\n    </tr>\n    <tr>\n      <th>1</th>\n      <td>1731.0</td>\n      <td>40.340843</td>\n      <td>12.039120</td>\n    </tr>\n  </tbody>\n</table>\n</div>",
            "text/plain": "        count       mean        std\ndebt                               \n0     19598.0  43.537912  12.589283\n1      1731.0  40.340843  12.039120"
          },
          "metadata": {}
        }
      ],
      "execution_count": 25,
      "metadata": {
        "trusted": false
      },
      "id": "35fd5b5e"
    },
    {
      "cell_type": "markdown",
      "source": [
        "Возраст клиентов, не допускающих просрочек по кредиту, значимо выше возраста клиентов с просрочками. Это <i>может быть</i> причиной низкого кредитного риска в группах клиентов, ранее находившихся в браке."
      ],
      "metadata": {},
      "id": "8522011a"
    },
    {
      "cell_type": "markdown",
      "source": [
        "### Категоризация дохода"
      ],
      "metadata": {},
      "id": "8b5a0792"
    },
    {
      "cell_type": "code",
      "source": [
        "#Функци для категоризации дохода:\n",
        "def income_categorizer(total_income):\n",
        "    \"\"\"Функция категоризирует клиентов в зависимости от суммарного дохода\n",
        "    \"\"\"\n",
        "    try:\n",
        "        if total_income < 30001:\n",
        "            return \"E\"\n",
        "        elif total_income < 50001:\n",
        "            return \"D\"\n",
        "        elif total_income < 200001:\n",
        "            return \"C\"\n",
        "        elif total_income < 1000001:\n",
        "            return \"B\"\n",
        "        else:\n",
        "            return \"A\"\n",
        "    except:\n",
        "        print(\"Проверьте введённые данные:\", total_income)\n",
        "        return np.NaN\n",
        "\n",
        "data['total_income_category'] = data['total_income'].apply(income_categorizer)\n",
        "income_debt_data = data.pivot_table(index='total_income_category', aggfunc=('mean', 'count','std'))['debt']\n",
        "\n",
        "income_debt_data.columns = ['Число записей', 'Доля просрочек', 'Стандартное отклонение']\n",
        "income_debt_data"
      ],
      "outputs": [
        {
          "output_type": "execute_result",
          "execution_count": 26,
          "data": {
            "text/html": "<div>\n<style scoped>\n    .dataframe tbody tr th:only-of-type {\n        vertical-align: middle;\n    }\n\n    .dataframe tbody tr th {\n        vertical-align: top;\n    }\n\n    .dataframe thead th {\n        text-align: right;\n    }\n</style>\n<table border=\"1\" class=\"dataframe\">\n  <thead>\n    <tr style=\"text-align: right;\">\n      <th></th>\n      <th>Число записей</th>\n      <th>Доля просрочек</th>\n      <th>Стандартное отклонение</th>\n    </tr>\n    <tr>\n      <th>total_income_category</th>\n      <th></th>\n      <th></th>\n      <th></th>\n    </tr>\n  </thead>\n  <tbody>\n    <tr>\n      <th>A</th>\n      <td>25.0</td>\n      <td>0.080000</td>\n      <td>0.276887</td>\n    </tr>\n    <tr>\n      <th>B</th>\n      <td>5012.0</td>\n      <td>0.070630</td>\n      <td>0.256232</td>\n    </tr>\n    <tr>\n      <th>C</th>\n      <td>15921.0</td>\n      <td>0.084919</td>\n      <td>0.278770</td>\n    </tr>\n    <tr>\n      <th>D</th>\n      <td>349.0</td>\n      <td>0.060172</td>\n      <td>0.238147</td>\n    </tr>\n    <tr>\n      <th>E</th>\n      <td>22.0</td>\n      <td>0.090909</td>\n      <td>0.294245</td>\n    </tr>\n  </tbody>\n</table>\n</div>",
            "text/plain": "                       Число записей  Доля просрочек  Стандартное отклонение\ntotal_income_category                                                       \nA                               25.0        0.080000                0.276887\nB                             5012.0        0.070630                0.256232\nC                            15921.0        0.084919                0.278770\nD                              349.0        0.060172                0.238147\nE                               22.0        0.090909                0.294245"
          },
          "metadata": {}
        }
      ],
      "execution_count": 26,
      "metadata": {
        "trusted": false
      },
      "id": "9ae37c8c"
    },
    {
      "cell_type": "markdown",
      "source": [
        "По полученным результатам можно сделать вывод о небольшом различии доли просрочек у клиентов из групп доходов <b>B</b> и <b>C</b>, увеличение дохода при этом приводит к снижению доли просроченных кредитов.<br>\n",
        "Относительно малое количество клиентов в других категориях не позволяет сделать выводы о различии доли просрочек.<br>\n",
        "Можно попробовать исправить это изменив категоризацию доходов:"
      ],
      "metadata": {},
      "id": "477d450c"
    },
    {
      "cell_type": "code",
      "source": [
        "#Изменим функцию категоризатор, сделав разбивку по квантилям дохода\n",
        "def income_categorizer_quant(total_income, quantiles):\n",
        "    \"\"\"Функция категоризирует клиентов в зависимости от суммарного дохода\n",
        "       Категоризация прозводится по квантилям доходов.\n",
        "    \"\"\"\n",
        "    categories = 'ABCDEFGHIJKLMNOPQRSTUVWXYZ'\n",
        "    try:\n",
        "        total_income = int(total_income)\n",
        "    except:\n",
        "        print(\"Проверьте введённые данные:\", total_income)\n",
        "        return np.NaN\n",
        "    \n",
        "    for i in range(len(quantiles)):\n",
        "        if total_income > quantiles[i]:\n",
        "            return categories[i]\n",
        "    return categories[len(quantiles)]\n",
        "    \n",
        "#Определение квантилей распределения доходов:\n",
        "quantiles = [0.8, 0.6, 0.4, 0.2]\n",
        "quantiles = list(data['total_income'].quantile(quantiles))\n",
        "print(\"Пороговые значения доходов:\", quantiles)\n",
        "\n",
        "#Категоризация доходов:\n",
        "data['total_income_category'] = data['total_income'].apply(income_categorizer_quant, quantiles=(quantiles))\n",
        "income_debt_data = data.pivot_table(index='total_income_category', aggfunc=('mean', 'count','std'))['debt']\n",
        "\n",
        "income_debt_data.columns = ['Число записей', 'Доля просрочек', 'Стандартное отклонение']\n",
        "income_debt_data"
      ],
      "outputs": [
        {
          "output_type": "stream",
          "name": "stdout",
          "text": [
            "Пороговые значения доходов: [214587.20000000004, 156446.8, 135418.6, 98518.8]\n"
          ]
        },
        {
          "output_type": "execute_result",
          "execution_count": 27,
          "data": {
            "text/html": "<div>\n<style scoped>\n    .dataframe tbody tr th:only-of-type {\n        vertical-align: middle;\n    }\n\n    .dataframe tbody tr th {\n        vertical-align: top;\n    }\n\n    .dataframe thead th {\n        text-align: right;\n    }\n</style>\n<table border=\"1\" class=\"dataframe\">\n  <thead>\n    <tr style=\"text-align: right;\">\n      <th></th>\n      <th>Число записей</th>\n      <th>Доля просрочек</th>\n      <th>Стандартное отклонение</th>\n    </tr>\n    <tr>\n      <th>total_income_category</th>\n      <th></th>\n      <th></th>\n      <th></th>\n    </tr>\n  </thead>\n  <tbody>\n    <tr>\n      <th>A</th>\n      <td>4266.0</td>\n      <td>0.070089</td>\n      <td>0.255327</td>\n    </tr>\n    <tr>\n      <th>B</th>\n      <td>4266.0</td>\n      <td>0.086029</td>\n      <td>0.280440</td>\n    </tr>\n    <tr>\n      <th>C</th>\n      <td>4265.0</td>\n      <td>0.086753</td>\n      <td>0.281505</td>\n    </tr>\n    <tr>\n      <th>D</th>\n      <td>4266.0</td>\n      <td>0.082513</td>\n      <td>0.275177</td>\n    </tr>\n    <tr>\n      <th>E</th>\n      <td>4266.0</td>\n      <td>0.080403</td>\n      <td>0.271948</td>\n    </tr>\n  </tbody>\n</table>\n</div>",
            "text/plain": "                       Число записей  Доля просрочек  Стандартное отклонение\ntotal_income_category                                                       \nA                             4266.0        0.070089                0.255327\nB                             4266.0        0.086029                0.280440\nC                             4265.0        0.086753                0.281505\nD                             4266.0        0.082513                0.275177\nE                             4266.0        0.080403                0.271948"
          },
          "metadata": {}
        }
      ],
      "execution_count": 27,
      "metadata": {
        "trusted": false
      },
      "id": "07dce056"
    },
    {
      "cell_type": "markdown",
      "source": [
        "Исходя из полученных данных можно сделать вывод о том, что уровень доходов не влияет на вероятность просрочки платежа по кредиту.<br>\n",
        "Даже низкое значение просрочек для клиентов с наибольшими доходами недостаточно сильно отличается от остальных значений."
      ],
      "metadata": {},
      "id": "c81c6271"
    },
    {
      "cell_type": "markdown",
      "source": [
        "### Категоризация целей кредита"
      ],
      "metadata": {},
      "id": "32b505ae"
    },
    {
      "cell_type": "code",
      "source": [
        "# Составим словарь катергорий\n",
        "purpose_categories = {\n",
        "    #операции с автомобилем включают различные варианты слова \"автомобиль\"\n",
        "                      'операции с автомобилем' : ['автомобил'],\n",
        "    #операции с недвижимостью включают различные варианты слов \"недвижимость\" и \"жилье\"\n",
        "                      'операции с недвижимостью' : ['жиль', 'недвижимост', ],\n",
        "    #проведение свадьбы включает различные варианты слова \"свадьба\"\n",
        "                      'проведение свадьбы' : ['свадьб'],\n",
        "    #получение образования включает различные варианты слова \"образование\"\n",
        "                      'получение образования' : ['образовани']}\n",
        "\n",
        "# Функция для категоризации целей кредитования\n",
        "def purpose_categorizer(purpose, categories):\n",
        "    \"\"\"Функция категоризирует клиентов в зависимости от целей кредитования\n",
        "       Категоризация прозводится по по категориям, указанным в словаре categories.\n",
        "    \"\"\"\n",
        "    for category, words in categories.items():\n",
        "        for word in words:\n",
        "            if word in purpose:\n",
        "                return category\n",
        "    return None\n",
        "\n",
        "#Категоризация целей кредитования:\n",
        "data['purpose_category'] = data['purpose'].apply(purpose_categorizer, categories=(purpose_categories))\n",
        "\n",
        "#Проверка категоризации целей кредитования:\n",
        "print(\"Строк с неустановленной категорией:\", data['purpose_category'].isna().sum())\n",
        "\n",
        "#Создание сводной таблицы по целям кредитования\n",
        "purpose_debt_data = data.pivot_table(index='purpose_category', aggfunc=('mean', 'count','std'))['debt']\n",
        "purpose_debt_data.columns = ['Число записей', 'Доля просрочек', 'Стандартное отклонение']\n",
        "purpose_debt_data"
      ],
      "outputs": [
        {
          "output_type": "stream",
          "name": "stdout",
          "text": [
            "Строк с неустановленной категорией: 0\n"
          ]
        },
        {
          "output_type": "execute_result",
          "execution_count": 28,
          "data": {
            "text/html": "<div>\n<style scoped>\n    .dataframe tbody tr th:only-of-type {\n        vertical-align: middle;\n    }\n\n    .dataframe tbody tr th {\n        vertical-align: top;\n    }\n\n    .dataframe thead th {\n        text-align: right;\n    }\n</style>\n<table border=\"1\" class=\"dataframe\">\n  <thead>\n    <tr style=\"text-align: right;\">\n      <th></th>\n      <th>Число записей</th>\n      <th>Доля просрочек</th>\n      <th>Стандартное отклонение</th>\n    </tr>\n    <tr>\n      <th>purpose_category</th>\n      <th></th>\n      <th></th>\n      <th></th>\n    </tr>\n  </thead>\n  <tbody>\n    <tr>\n      <th>операции с автомобилем</th>\n      <td>4279.0</td>\n      <td>0.093480</td>\n      <td>0.291138</td>\n    </tr>\n    <tr>\n      <th>операции с недвижимостью</th>\n      <td>10749.0</td>\n      <td>0.072472</td>\n      <td>0.259280</td>\n    </tr>\n    <tr>\n      <th>получение образования</th>\n      <td>3988.0</td>\n      <td>0.092528</td>\n      <td>0.289806</td>\n    </tr>\n    <tr>\n      <th>проведение свадьбы</th>\n      <td>2313.0</td>\n      <td>0.079118</td>\n      <td>0.269981</td>\n    </tr>\n  </tbody>\n</table>\n</div>",
            "text/plain": "                          Число записей  Доля просрочек  \\\npurpose_category                                          \nоперации с автомобилем           4279.0        0.093480   \nоперации с недвижимостью        10749.0        0.072472   \nполучение образования            3988.0        0.092528   \nпроведение свадьбы               2313.0        0.079118   \n\n                          Стандартное отклонение  \npurpose_category                                  \nоперации с автомобилем                  0.291138  \nоперации с недвижимостью                0.259280  \nполучение образования                   0.289806  \nпроведение свадьбы                      0.269981  "
          },
          "metadata": {}
        }
      ],
      "execution_count": 28,
      "metadata": {
        "trusted": false
      },
      "id": "188cefe4"
    },
    {
      "cell_type": "markdown",
      "source": [
        "Категории \"операции с автомобилем\" и \"получение образования\" характеризуются близкой и относительно большой долей просрочек по кредиту.<br>\n",
        "Объяснением такой тенденции могли бы быть различия в доходах, возрасте клиентов, а также \"серьезности их намерений\".<br>\n",
        "Проверим как меняется возраст и доход в зависимости от целей кредитования:"
      ],
      "metadata": {},
      "id": "9e49706c"
    },
    {
      "cell_type": "code",
      "source": [
        "data.pivot_table(index='purpose_category', aggfunc=('median', 'mean'))[['dob_years', 'total_income']]"
      ],
      "outputs": [
        {
          "output_type": "execute_result",
          "execution_count": 29,
          "data": {
            "text/html": "<div>\n<style scoped>\n    .dataframe tbody tr th:only-of-type {\n        vertical-align: middle;\n    }\n\n    .dataframe tbody tr th {\n        vertical-align: top;\n    }\n\n    .dataframe thead tr th {\n        text-align: left;\n    }\n\n    .dataframe thead tr:last-of-type th {\n        text-align: right;\n    }\n</style>\n<table border=\"1\" class=\"dataframe\">\n  <thead>\n    <tr>\n      <th></th>\n      <th colspan=\"2\" halign=\"left\">dob_years</th>\n      <th colspan=\"2\" halign=\"left\">total_income</th>\n    </tr>\n    <tr>\n      <th></th>\n      <th>mean</th>\n      <th>median</th>\n      <th>mean</th>\n      <th>median</th>\n    </tr>\n    <tr>\n      <th>purpose_category</th>\n      <th></th>\n      <th></th>\n      <th></th>\n      <th></th>\n    </tr>\n  </thead>\n  <tbody>\n    <tr>\n      <th>операции с автомобилем</th>\n      <td>43.503622</td>\n      <td>43.0</td>\n      <td>165148.106801</td>\n      <td>145017.0</td>\n    </tr>\n    <tr>\n      <th>операции с недвижимостью</th>\n      <td>43.169876</td>\n      <td>42.0</td>\n      <td>166643.770118</td>\n      <td>145017.0</td>\n    </tr>\n    <tr>\n      <th>получение образования</th>\n      <td>43.415496</td>\n      <td>42.0</td>\n      <td>162435.556921</td>\n      <td>145017.0</td>\n    </tr>\n    <tr>\n      <th>проведение свадьбы</th>\n      <td>43.130134</td>\n      <td>42.0</td>\n      <td>163838.010376</td>\n      <td>145017.0</td>\n    </tr>\n  </tbody>\n</table>\n</div>",
            "text/plain": "                          dob_years          total_income          \n                               mean median           mean    median\npurpose_category                                                   \nоперации с автомобилем    43.503622   43.0  165148.106801  145017.0\nоперации с недвижимостью  43.169876   42.0  166643.770118  145017.0\nполучение образования     43.415496   42.0  162435.556921  145017.0\nпроведение свадьбы        43.130134   42.0  163838.010376  145017.0"
          },
          "metadata": {}
        }
      ],
      "execution_count": 29,
      "metadata": {
        "trusted": false
      },
      "id": "b01692f4"
    },
    {
      "cell_type": "markdown",
      "source": [
        "<p>Как видно из таблицы, средние значения возраста и дохода для всех категорий близки, а медианные полностью совпадают (за исключение возраста при покупке автомобиля).</p> \n",
        "<p>Таким образом наиболее вероятной причиной различной доля просрочек является \"серьезности намерений\" клиентов. Возможно клиенты более взвешено подходят к получению кредита в случае покупки недвижимости и проведения свадьбы. Приобретаемая недвижимость может являться единственным жильем клиента, что будет мотивировать его более дисциплинировано выплачивать кредит.</p>\n",
        "<p>Кроме того, покупка недвижимости зачастую производится семейными парами, а в свадьба обязательно участвуют как минимум двое молодоженов и, возможно, их родители. Таким образом в обоих случаях с большой вероятностью будут участвовать другие лица, которые могут помочь с выплатой кредита в случае финансовых затруднений клиента</p>"
      ],
      "metadata": {},
      "id": "400e791c"
    },
    {
      "cell_type": "markdown",
      "source": [
        "## Ответы на вопросы"
      ],
      "metadata": {},
      "id": "7f66a52b"
    },
    {
      "cell_type": "markdown",
      "source": [
        "### Вопрос 1:"
      ],
      "metadata": {},
      "id": "fc4601f7"
    },
    {
      "cell_type": "markdown",
      "source": [
        "Есть ли зависимость между количеством детей и возвратом кредита в срок?"
      ],
      "metadata": {},
      "id": "305736d6"
    },
    {
      "cell_type": "markdown",
      "source": [
        "### Вывод 1:"
      ],
      "metadata": {},
      "id": "52a95cfd"
    },
    {
      "cell_type": "markdown",
      "source": [
        "<p>Средняя доля просроченных платежей по кредиту для клиентов без детей несколько меньше чем у клиентов, имеющих одного или более детей.</p>\n",
        "<p>Говорить о значимых различиях в доле просрочек среди клиентов с детьми нельзя. Отсутствие просрочек у клиентов с 5 детьми, может быть связано с малым количеством таких клиентов.</p>\n",
        "<p>Это может быть связано с возникновением непредвиденных расходов родителей. При этом количество таких непредвиденных расходов значимо не зависит от числа детей в семье.</p>"
      ],
      "metadata": {},
      "id": "f275820c"
    },
    {
      "cell_type": "markdown",
      "source": [
        "### Вопрос 2:"
      ],
      "metadata": {},
      "id": "475a4184"
    },
    {
      "cell_type": "markdown",
      "source": [
        "Есть ли зависимость между семейным положением и возвратом кредита в срок?"
      ],
      "metadata": {},
      "id": "d741772e"
    },
    {
      "cell_type": "markdown",
      "source": [
        "### Вывод 2:"
      ],
      "metadata": {},
      "id": "0616b82b"
    },
    {
      "cell_type": "markdown",
      "source": [
        "<p>В зависимости от семейного положения клиентов можно разделить на группу низкого и высокого кредитного риска.</p>\n",
        "<p>Группа низкого риска включает клиентов, находящихся в официальном браке (\"женат/замужем\"), или находившихся в нем ранее (\"вдовец/вдова\", \"в разводе\"), причем уровень риска в данных группах практически не различается.</p>\n",
        "<p>Группа высокго риска включает клиентов, не состоящих и не состоявших в официальном браке - \"гражданский брак\" и \"не женат / не замужем\"</p>\n",
        "<p>Причиной низкой доли просроченных кредитов в группе находящихся в официальном браке является возможность поддержки клиента, взявшего кредит, его супругом в случае возникновения финансовых трудностей.</p>\n",
        "<p>Причиной низкого кредитного риска в группах клиентов, ранее находившихся в браке <i>может быть</i> возраст клиентов. Анализ показывает, что в группе клиентов, не допускающих просрочек по кредиту, возраст значимо выше возраста клиентов с просрочками. Данный вывод является предварительным и требует дополнительной проверки.</p>"
      ],
      "metadata": {},
      "id": "2d1f80c3"
    },
    {
      "cell_type": "markdown",
      "source": [
        "### Вопрос 3:"
      ],
      "metadata": {},
      "id": "6ed0d352"
    },
    {
      "cell_type": "markdown",
      "source": [
        "Есть ли зависимость между уровнем дохода и возвратом кредита в срок?"
      ],
      "metadata": {},
      "id": "26bd340d"
    },
    {
      "cell_type": "markdown",
      "source": [
        "### Вывод 3:"
      ],
      "metadata": {},
      "id": "0356bbd9"
    },
    {
      "cell_type": "markdown",
      "source": [
        "<p>Уровень доходов не влияет на вероятность просрочки платежа по кредиту.</p>\n",
        "<p>Группа клиентов с наибольшими доходами имеет несколько меньшую долю просрочки по кредиту, однако различие находится не является значимым.</p>"
      ],
      "metadata": {},
      "id": "6b02526d"
    },
    {
      "cell_type": "markdown",
      "source": [
        "### Вопрос 4:"
      ],
      "metadata": {},
      "id": "2c11174f"
    },
    {
      "cell_type": "markdown",
      "source": [
        "Как разные цели кредита влияют на его возврат в срок?"
      ],
      "metadata": {},
      "id": "cbd29369"
    },
    {
      "cell_type": "markdown",
      "source": [
        "### Вывод 4:"
      ],
      "metadata": {},
      "id": "38cc0bff"
    },
    {
      "cell_type": "markdown",
      "source": [
        "<p>Категории \"операции с автомобилем\" и \"получение образования\" характеризуются близкой и относительно большой долей просрочек по кредиту.</p>\n",
        "<p>В случае \"операций с недвижимостью\" и \"проведения свадьбы\" доля просрочек ниже. Представленные данные не показывают свзи целей кредита с другими параметрами.<p>\n",
        "<p>Возможно клиенты более взвешено подходят к получению кредита в случае покупки недвижимости и проведения свадьбы. Приобретаемая недвижимость может являться единственным жильем клиента, что будет мотивировать его более дисциплинировано выплачивать кредит.</p>\n",
        "<p>Кроме того, в покупе недвижимости и проведении свадьбы помимо лица, получаеющего кредит, участвуют и другие люди (супруг/супруга, родители молодоженов и другие родственники), которые могут помочь с выплатой кредита в случае финансовых затруднений клиента</p>"
      ],
      "metadata": {},
      "id": "88a7b73f"
    },
    {
      "cell_type": "markdown",
      "source": [
        "## Общий вывод:"
      ],
      "metadata": {},
      "id": "483598ce"
    },
    {
      "cell_type": "markdown",
      "source": [
        "Проведена предварительная обработка данных (исключение пропусков, удаление дубликатов). Клиенты категоризированы по цели кредитования и уровню дохода\\\n",
        "\n",
        "Проверено влияние следующих параметров клиентов на вероятность возврата кредита в срок:\n",
        "\n",
        "* количество детей;\n",
        "* семейное положение;\n",
        "* уровень дохода;\n",
        "* цель кредита.\n",
        "\n",
        "Наиболее сильные различия в доле просроченных кредитов наблюдаются для групп с различными *целями кредитования* и *семейным положением*.\n",
        "\n",
        "**По семейному положению:**\n",
        "- высокий кредитный риск наблюдается в группах лиц, *не состоящих и не состоявших в официальном браке* (\"гражданский брак\", \"не женатые / не замужние\");\n",
        "- низкий риск наблюдается для лиц либо *состоящих или ранее состоявших в браке* (\"женат / замужем\", \"вдовец / вдова\", \"в разводе\").\n",
        "\n",
        "- высокий кредитный риск в группах \"операции с автомобилем\" и \"получение образования\" и меньший риск в группах \"операции с недвижимостью\" и \"проведение свадьбы\".\n",
        "\n",
        "**По целям кредитования:**\n",
        "- низкий риск характерен для целей \"операции с недвижимостью\" и \"проведение свадьбы\";\n",
        "- высокий риск характерен для целей \"операции с автомобилем\" и \"получение образования\".\n",
        "\n",
        "**По количеству детей:**\\\n",
        "Средняя доля просроченных платежей по кредиту для клиентов без детей несколько меньше чем у клиентов, имеющих одного или более детей. Доля просроченных кредитов не связана с количеством детей (1-5) при их наличии.\n",
        "\n",
        "Влияния **уроня доходов** на долю просроченных кредитов не обнаружено.\n"
      ],
      "metadata": {},
      "id": "52b7358d"
    }
  ],
  "metadata": {
    "ExecuteTimeLog": [
      {
        "duration": 455,
        "start_time": "2022-03-23T10:18:14.956Z"
      },
      {
        "duration": 85,
        "start_time": "2022-03-23T10:18:40.839Z"
      },
      {
        "duration": 68,
        "start_time": "2022-03-23T10:18:55.039Z"
      },
      {
        "duration": 65,
        "start_time": "2022-03-23T10:19:11.292Z"
      },
      {
        "duration": 63,
        "start_time": "2022-03-23T10:21:48.607Z"
      },
      {
        "duration": 35,
        "start_time": "2022-03-23T10:28:36.493Z"
      },
      {
        "duration": 3,
        "start_time": "2022-03-23T10:29:11.034Z"
      },
      {
        "duration": 28,
        "start_time": "2022-03-23T10:30:24.252Z"
      },
      {
        "duration": 4,
        "start_time": "2022-03-23T10:32:33.635Z"
      },
      {
        "duration": 3,
        "start_time": "2022-03-23T10:32:48.786Z"
      },
      {
        "duration": 28,
        "start_time": "2022-03-23T10:37:11.428Z"
      },
      {
        "duration": 201,
        "start_time": "2022-03-23T10:40:53.399Z"
      },
      {
        "duration": 3216,
        "start_time": "2022-03-23T10:43:33.935Z"
      },
      {
        "duration": 2998,
        "start_time": "2022-03-23T10:43:51.586Z"
      },
      {
        "duration": 7,
        "start_time": "2022-03-23T10:44:02.489Z"
      },
      {
        "duration": 18,
        "start_time": "2022-03-23T10:44:08.712Z"
      },
      {
        "duration": 14,
        "start_time": "2022-03-23T10:44:28.456Z"
      },
      {
        "duration": 5,
        "start_time": "2022-03-23T10:44:41.077Z"
      },
      {
        "duration": 11,
        "start_time": "2022-03-23T10:44:48.148Z"
      },
      {
        "duration": 4,
        "start_time": "2022-03-23T10:44:57.896Z"
      },
      {
        "duration": 4,
        "start_time": "2022-03-23T10:45:12.144Z"
      },
      {
        "duration": 7,
        "start_time": "2022-03-23T10:45:30.142Z"
      },
      {
        "duration": 5,
        "start_time": "2022-03-23T10:45:40.038Z"
      },
      {
        "duration": 4,
        "start_time": "2022-03-23T10:46:25.816Z"
      },
      {
        "duration": 209,
        "start_time": "2022-03-23T10:46:30.903Z"
      },
      {
        "duration": 6,
        "start_time": "2022-03-23T10:46:45.528Z"
      },
      {
        "duration": 5,
        "start_time": "2022-03-23T10:47:40.399Z"
      },
      {
        "duration": 250,
        "start_time": "2022-03-23T14:00:24.253Z"
      },
      {
        "duration": 10,
        "start_time": "2022-03-23T14:04:32.035Z"
      },
      {
        "duration": 6,
        "start_time": "2022-03-23T14:04:43.090Z"
      },
      {
        "duration": 5,
        "start_time": "2022-03-23T14:04:50.416Z"
      },
      {
        "duration": 6,
        "start_time": "2022-03-23T14:05:01.648Z"
      },
      {
        "duration": 6,
        "start_time": "2022-03-23T14:05:07.690Z"
      },
      {
        "duration": 13,
        "start_time": "2022-03-23T14:06:02.526Z"
      },
      {
        "duration": 8,
        "start_time": "2022-03-23T14:06:40.558Z"
      },
      {
        "duration": 8,
        "start_time": "2022-03-23T14:06:58.457Z"
      },
      {
        "duration": 13,
        "start_time": "2022-03-23T14:07:06.436Z"
      },
      {
        "duration": 181,
        "start_time": "2022-03-23T14:07:12.690Z"
      },
      {
        "duration": 202,
        "start_time": "2022-03-23T14:07:18.021Z"
      },
      {
        "duration": 5,
        "start_time": "2022-03-23T14:07:27.919Z"
      },
      {
        "duration": 8,
        "start_time": "2022-03-23T14:08:53.607Z"
      },
      {
        "duration": 4,
        "start_time": "2022-03-23T14:09:05.363Z"
      },
      {
        "duration": 5,
        "start_time": "2022-03-23T14:09:18.142Z"
      },
      {
        "duration": 13,
        "start_time": "2022-03-23T14:09:43.271Z"
      },
      {
        "duration": 18,
        "start_time": "2022-03-23T14:12:08.553Z"
      },
      {
        "duration": 14,
        "start_time": "2022-03-23T14:12:41.083Z"
      },
      {
        "duration": 43,
        "start_time": "2022-03-23T14:14:59.528Z"
      },
      {
        "duration": 48,
        "start_time": "2022-03-23T14:15:07.882Z"
      },
      {
        "duration": 55,
        "start_time": "2022-03-23T14:15:13.224Z"
      },
      {
        "duration": 4,
        "start_time": "2022-03-23T14:29:54.737Z"
      },
      {
        "duration": 4,
        "start_time": "2022-03-23T14:30:08.093Z"
      },
      {
        "duration": 9,
        "start_time": "2022-03-23T14:32:04.076Z"
      },
      {
        "duration": 9,
        "start_time": "2022-03-23T14:32:16.105Z"
      },
      {
        "duration": 16,
        "start_time": "2022-03-23T14:32:22.886Z"
      },
      {
        "duration": 17,
        "start_time": "2022-03-23T14:32:32.320Z"
      },
      {
        "duration": 17,
        "start_time": "2022-03-23T14:32:50.986Z"
      },
      {
        "duration": 16,
        "start_time": "2022-03-23T14:33:07.773Z"
      },
      {
        "duration": 72,
        "start_time": "2022-03-23T14:40:05.589Z"
      },
      {
        "duration": 6,
        "start_time": "2022-03-23T14:40:23.842Z"
      },
      {
        "duration": 4,
        "start_time": "2022-03-23T14:40:29.927Z"
      },
      {
        "duration": 5,
        "start_time": "2022-03-23T14:40:32.646Z"
      },
      {
        "duration": 13,
        "start_time": "2022-03-23T14:40:37.177Z"
      },
      {
        "duration": 51,
        "start_time": "2022-03-23T14:40:40.123Z"
      },
      {
        "duration": 17,
        "start_time": "2022-03-23T14:40:43.258Z"
      },
      {
        "duration": 40,
        "start_time": "2022-03-23T14:40:49.144Z"
      },
      {
        "duration": 4,
        "start_time": "2022-03-23T14:44:24.485Z"
      },
      {
        "duration": 4,
        "start_time": "2022-03-23T14:45:41.366Z"
      },
      {
        "duration": 21,
        "start_time": "2022-03-23T14:48:04.073Z"
      },
      {
        "duration": 14,
        "start_time": "2022-03-23T14:49:44.936Z"
      },
      {
        "duration": 200,
        "start_time": "2022-03-23T14:50:26.779Z"
      },
      {
        "duration": 4,
        "start_time": "2022-03-23T14:50:32.908Z"
      },
      {
        "duration": 13,
        "start_time": "2022-03-23T14:50:55.530Z"
      },
      {
        "duration": 184,
        "start_time": "2022-03-23T14:52:53.693Z"
      },
      {
        "duration": 22,
        "start_time": "2022-03-23T14:55:51.169Z"
      },
      {
        "duration": 19,
        "start_time": "2022-03-23T14:57:29.486Z"
      },
      {
        "duration": 20,
        "start_time": "2022-03-23T14:57:49.382Z"
      },
      {
        "duration": 21,
        "start_time": "2022-03-23T14:57:59.408Z"
      },
      {
        "duration": 27,
        "start_time": "2022-03-23T14:58:16.855Z"
      },
      {
        "duration": 21,
        "start_time": "2022-03-23T14:58:55.727Z"
      },
      {
        "duration": 26,
        "start_time": "2022-03-23T14:59:31.258Z"
      },
      {
        "duration": 27,
        "start_time": "2022-03-23T14:59:37.344Z"
      },
      {
        "duration": 33,
        "start_time": "2022-03-23T14:59:42.996Z"
      },
      {
        "duration": 193,
        "start_time": "2022-03-23T15:01:27.387Z"
      },
      {
        "duration": 28,
        "start_time": "2022-03-23T15:01:30.726Z"
      },
      {
        "duration": 44,
        "start_time": "2022-03-23T15:02:00.391Z"
      },
      {
        "duration": 33,
        "start_time": "2022-03-23T15:02:10.474Z"
      },
      {
        "duration": 14,
        "start_time": "2022-03-23T15:04:20.904Z"
      },
      {
        "duration": 13,
        "start_time": "2022-03-23T15:05:02.379Z"
      },
      {
        "duration": 198,
        "start_time": "2022-03-23T15:05:15.453Z"
      },
      {
        "duration": 13,
        "start_time": "2022-03-23T15:05:43.967Z"
      },
      {
        "duration": 10,
        "start_time": "2022-03-23T15:06:38.831Z"
      },
      {
        "duration": 22,
        "start_time": "2022-03-23T15:07:37.113Z"
      },
      {
        "duration": 16,
        "start_time": "2022-03-23T15:07:51.571Z"
      },
      {
        "duration": 27,
        "start_time": "2022-03-23T15:08:04.869Z"
      },
      {
        "duration": 12,
        "start_time": "2022-03-23T15:08:30.173Z"
      },
      {
        "duration": 12,
        "start_time": "2022-03-23T15:08:37.742Z"
      },
      {
        "duration": 10,
        "start_time": "2022-03-23T15:09:06.110Z"
      },
      {
        "duration": 19,
        "start_time": "2022-03-23T15:12:32.297Z"
      },
      {
        "duration": 34,
        "start_time": "2022-03-23T15:13:49.826Z"
      },
      {
        "duration": 34,
        "start_time": "2022-03-23T15:14:31.145Z"
      },
      {
        "duration": 23,
        "start_time": "2022-03-23T15:18:10.829Z"
      },
      {
        "duration": 1029,
        "start_time": "2022-03-23T15:18:23.086Z"
      },
      {
        "duration": 5,
        "start_time": "2022-03-23T15:18:28.586Z"
      },
      {
        "duration": 7,
        "start_time": "2022-03-23T15:18:31.110Z"
      },
      {
        "duration": 14,
        "start_time": "2022-03-23T15:18:34.393Z"
      },
      {
        "duration": 52,
        "start_time": "2022-03-23T15:18:36.802Z"
      },
      {
        "duration": 17,
        "start_time": "2022-03-23T15:18:40.045Z"
      },
      {
        "duration": 26,
        "start_time": "2022-03-23T15:18:43.031Z"
      },
      {
        "duration": 20,
        "start_time": "2022-03-23T15:18:48.203Z"
      },
      {
        "duration": 57,
        "start_time": "2022-03-23T15:19:28.651Z"
      },
      {
        "duration": 3115,
        "start_time": "2022-03-23T15:19:39.118Z"
      },
      {
        "duration": 26,
        "start_time": "2022-03-23T15:19:59.948Z"
      },
      {
        "duration": 30,
        "start_time": "2022-03-23T15:20:12.474Z"
      },
      {
        "duration": 22,
        "start_time": "2022-03-23T15:20:20.721Z"
      },
      {
        "duration": 163,
        "start_time": "2022-03-23T15:20:34.216Z"
      },
      {
        "duration": 141,
        "start_time": "2022-03-23T15:21:55.334Z"
      },
      {
        "duration": 137,
        "start_time": "2022-03-24T09:43:03.110Z"
      },
      {
        "duration": 2748,
        "start_time": "2022-03-24T09:43:10.564Z"
      },
      {
        "duration": 8,
        "start_time": "2022-03-24T09:43:15.942Z"
      },
      {
        "duration": 14,
        "start_time": "2022-03-24T09:43:18.149Z"
      },
      {
        "duration": 25,
        "start_time": "2022-03-24T09:43:21.138Z"
      },
      {
        "duration": 82,
        "start_time": "2022-03-24T09:43:24.609Z"
      },
      {
        "duration": 24,
        "start_time": "2022-03-24T09:43:27.536Z"
      },
      {
        "duration": 42,
        "start_time": "2022-03-24T09:43:30.851Z"
      },
      {
        "duration": 35,
        "start_time": "2022-03-24T09:43:33.487Z"
      },
      {
        "duration": 63,
        "start_time": "2022-03-24T09:43:43.266Z"
      },
      {
        "duration": 43,
        "start_time": "2022-03-24T09:44:07.213Z"
      },
      {
        "duration": 104,
        "start_time": "2022-03-24T09:44:54.454Z"
      },
      {
        "duration": 21,
        "start_time": "2022-03-24T09:44:58.875Z"
      },
      {
        "duration": 20,
        "start_time": "2022-03-24T09:45:34.297Z"
      },
      {
        "duration": 28,
        "start_time": "2022-03-24T09:45:52.440Z"
      },
      {
        "duration": 42,
        "start_time": "2022-03-24T09:46:18.034Z"
      },
      {
        "duration": 29,
        "start_time": "2022-03-24T09:46:25.218Z"
      },
      {
        "duration": 29,
        "start_time": "2022-03-24T09:47:28.051Z"
      },
      {
        "duration": 99,
        "start_time": "2022-03-24T09:51:25.089Z"
      },
      {
        "duration": 26,
        "start_time": "2022-03-24T09:51:32.306Z"
      },
      {
        "duration": 11,
        "start_time": "2022-03-24T09:51:45.075Z"
      },
      {
        "duration": 23,
        "start_time": "2022-03-24T09:51:54.310Z"
      },
      {
        "duration": 17,
        "start_time": "2022-03-24T09:52:20.729Z"
      },
      {
        "duration": 17,
        "start_time": "2022-03-24T09:52:26.297Z"
      },
      {
        "duration": 19,
        "start_time": "2022-03-24T09:52:48.372Z"
      },
      {
        "duration": 22,
        "start_time": "2022-03-24T09:52:54.579Z"
      },
      {
        "duration": 20,
        "start_time": "2022-03-24T09:53:04.546Z"
      },
      {
        "duration": 31,
        "start_time": "2022-03-24T09:54:09.627Z"
      },
      {
        "duration": 26,
        "start_time": "2022-03-24T09:54:24.122Z"
      },
      {
        "duration": 51,
        "start_time": "2022-03-24T09:55:48.045Z"
      },
      {
        "duration": 113,
        "start_time": "2022-03-24T10:00:31.941Z"
      },
      {
        "duration": 24,
        "start_time": "2022-03-24T10:18:02.604Z"
      },
      {
        "duration": 10,
        "start_time": "2022-03-24T10:18:20.362Z"
      },
      {
        "duration": 8,
        "start_time": "2022-03-24T10:18:42.417Z"
      },
      {
        "duration": 16,
        "start_time": "2022-03-24T10:18:58.098Z"
      },
      {
        "duration": 38,
        "start_time": "2022-03-24T10:19:05.896Z"
      },
      {
        "duration": 31,
        "start_time": "2022-03-24T10:20:58.016Z"
      },
      {
        "duration": 42,
        "start_time": "2022-03-24T10:21:31.502Z"
      },
      {
        "duration": 17,
        "start_time": "2022-03-24T10:23:22.942Z"
      },
      {
        "duration": 31,
        "start_time": "2022-03-24T10:23:29.418Z"
      },
      {
        "duration": 31,
        "start_time": "2022-03-24T10:23:53.384Z"
      },
      {
        "duration": 32,
        "start_time": "2022-03-24T10:23:59.920Z"
      },
      {
        "duration": 35,
        "start_time": "2022-03-24T10:24:05.137Z"
      },
      {
        "duration": 35,
        "start_time": "2022-03-24T10:25:53.437Z"
      },
      {
        "duration": 18,
        "start_time": "2022-03-24T10:26:20.932Z"
      },
      {
        "duration": 35,
        "start_time": "2022-03-24T10:26:42.983Z"
      },
      {
        "duration": 35,
        "start_time": "2022-03-24T10:27:54.214Z"
      },
      {
        "duration": 29,
        "start_time": "2022-03-24T10:28:01.529Z"
      },
      {
        "duration": 33,
        "start_time": "2022-03-24T10:28:11.066Z"
      },
      {
        "duration": 42,
        "start_time": "2022-03-24T10:28:21.991Z"
      },
      {
        "duration": 17,
        "start_time": "2022-03-24T10:28:40.400Z"
      },
      {
        "duration": 13,
        "start_time": "2022-03-24T10:28:43.923Z"
      },
      {
        "duration": 18,
        "start_time": "2022-03-24T10:28:46.595Z"
      },
      {
        "duration": 13,
        "start_time": "2022-03-24T10:28:50.314Z"
      },
      {
        "duration": 23,
        "start_time": "2022-03-24T10:28:54.504Z"
      },
      {
        "duration": 28,
        "start_time": "2022-03-24T10:30:11.711Z"
      },
      {
        "duration": 8,
        "start_time": "2022-03-24T10:30:28.017Z"
      },
      {
        "duration": 8,
        "start_time": "2022-03-24T10:30:32.487Z"
      },
      {
        "duration": 25,
        "start_time": "2022-03-24T10:31:56.895Z"
      },
      {
        "duration": 27,
        "start_time": "2022-03-24T10:32:26.837Z"
      },
      {
        "duration": 27,
        "start_time": "2022-03-24T10:32:32.045Z"
      },
      {
        "duration": 25,
        "start_time": "2022-03-24T10:33:08.604Z"
      },
      {
        "duration": 56,
        "start_time": "2022-03-24T10:34:59.318Z"
      },
      {
        "duration": 50,
        "start_time": "2022-03-24T10:35:46.343Z"
      },
      {
        "duration": 104,
        "start_time": "2022-03-24T10:35:59.278Z"
      },
      {
        "duration": 8,
        "start_time": "2022-03-24T10:35:59.385Z"
      },
      {
        "duration": 11,
        "start_time": "2022-03-24T10:35:59.396Z"
      },
      {
        "duration": 26,
        "start_time": "2022-03-24T10:35:59.410Z"
      },
      {
        "duration": 99,
        "start_time": "2022-03-24T10:35:59.474Z"
      },
      {
        "duration": 24,
        "start_time": "2022-03-24T10:35:59.575Z"
      },
      {
        "duration": 43,
        "start_time": "2022-03-24T10:35:59.601Z"
      },
      {
        "duration": 53,
        "start_time": "2022-03-24T10:35:59.647Z"
      },
      {
        "duration": 17,
        "start_time": "2022-03-24T10:35:59.702Z"
      },
      {
        "duration": 80,
        "start_time": "2022-03-24T10:35:59.722Z"
      },
      {
        "duration": 29,
        "start_time": "2022-03-24T10:35:59.804Z"
      },
      {
        "duration": 52,
        "start_time": "2022-03-24T10:35:59.836Z"
      },
      {
        "duration": 114,
        "start_time": "2022-03-24T10:44:01.358Z"
      },
      {
        "duration": 16,
        "start_time": "2022-03-24T10:44:09.832Z"
      },
      {
        "duration": 34,
        "start_time": "2022-03-24T10:44:22.694Z"
      },
      {
        "duration": 49,
        "start_time": "2022-03-24T10:44:29.190Z"
      },
      {
        "duration": 42,
        "start_time": "2022-03-24T10:45:33.873Z"
      },
      {
        "duration": 37,
        "start_time": "2022-03-24T10:45:48.852Z"
      },
      {
        "duration": 32,
        "start_time": "2022-03-24T10:47:15.621Z"
      },
      {
        "duration": 8,
        "start_time": "2022-03-24T10:47:44.835Z"
      },
      {
        "duration": 9,
        "start_time": "2022-03-24T10:48:37.207Z"
      },
      {
        "duration": 10,
        "start_time": "2022-03-24T10:48:45.755Z"
      },
      {
        "duration": 11,
        "start_time": "2022-03-24T10:49:23.456Z"
      },
      {
        "duration": 11,
        "start_time": "2022-03-24T10:49:36.858Z"
      },
      {
        "duration": 14,
        "start_time": "2022-03-24T10:49:41.761Z"
      },
      {
        "duration": 21,
        "start_time": "2022-03-24T10:49:52.741Z"
      },
      {
        "duration": 21,
        "start_time": "2022-03-24T10:50:04.338Z"
      },
      {
        "duration": 20,
        "start_time": "2022-03-24T10:50:45.402Z"
      },
      {
        "duration": 25,
        "start_time": "2022-03-24T10:51:59.868Z"
      },
      {
        "duration": 31,
        "start_time": "2022-03-24T10:54:10.340Z"
      },
      {
        "duration": 30,
        "start_time": "2022-03-24T10:54:27.181Z"
      },
      {
        "duration": 36,
        "start_time": "2022-03-24T10:56:06.723Z"
      },
      {
        "duration": 97,
        "start_time": "2022-03-24T10:56:28.258Z"
      },
      {
        "duration": 35,
        "start_time": "2022-03-24T10:56:33.572Z"
      },
      {
        "duration": 29,
        "start_time": "2022-03-24T10:56:47.278Z"
      },
      {
        "duration": 36,
        "start_time": "2022-03-24T10:57:13.615Z"
      },
      {
        "duration": 35,
        "start_time": "2022-03-24T10:57:31.463Z"
      },
      {
        "duration": 36,
        "start_time": "2022-03-24T10:57:36.610Z"
      },
      {
        "duration": 35,
        "start_time": "2022-03-24T10:57:41.621Z"
      },
      {
        "duration": 28,
        "start_time": "2022-03-24T10:58:11.384Z"
      },
      {
        "duration": 22,
        "start_time": "2022-03-24T10:58:38.046Z"
      },
      {
        "duration": 13,
        "start_time": "2022-03-24T10:58:52.193Z"
      },
      {
        "duration": 13,
        "start_time": "2022-03-24T10:59:02.937Z"
      },
      {
        "duration": 14,
        "start_time": "2022-03-24T10:59:32.928Z"
      },
      {
        "duration": 14,
        "start_time": "2022-03-24T10:59:42.584Z"
      },
      {
        "duration": 111,
        "start_time": "2022-03-24T11:09:00.907Z"
      },
      {
        "duration": 6,
        "start_time": "2022-03-24T11:09:26.220Z"
      },
      {
        "duration": 8,
        "start_time": "2022-03-24T11:10:59.667Z"
      },
      {
        "duration": 5,
        "start_time": "2022-03-24T11:11:10.049Z"
      },
      {
        "duration": 7,
        "start_time": "2022-03-24T11:11:21.512Z"
      },
      {
        "duration": 6,
        "start_time": "2022-03-24T11:11:52.017Z"
      },
      {
        "duration": 22,
        "start_time": "2022-03-24T11:11:58.605Z"
      },
      {
        "duration": 22,
        "start_time": "2022-03-24T11:12:47.877Z"
      },
      {
        "duration": 9,
        "start_time": "2022-03-24T11:13:05.790Z"
      },
      {
        "duration": 27,
        "start_time": "2022-03-24T11:14:24.934Z"
      },
      {
        "duration": 15,
        "start_time": "2022-03-24T11:14:51.395Z"
      },
      {
        "duration": 9,
        "start_time": "2022-03-24T11:15:03.712Z"
      },
      {
        "duration": 9,
        "start_time": "2022-03-24T11:15:07.297Z"
      },
      {
        "duration": 22,
        "start_time": "2022-03-24T11:15:17.959Z"
      },
      {
        "duration": 42,
        "start_time": "2022-03-24T11:16:32.679Z"
      },
      {
        "duration": 6,
        "start_time": "2022-03-24T11:17:22.275Z"
      },
      {
        "duration": 23,
        "start_time": "2022-03-24T11:17:29.141Z"
      },
      {
        "duration": 23,
        "start_time": "2022-03-24T11:18:31.596Z"
      },
      {
        "duration": 86,
        "start_time": "2022-03-24T11:18:35.696Z"
      },
      {
        "duration": 7,
        "start_time": "2022-03-24T11:18:35.785Z"
      },
      {
        "duration": 33,
        "start_time": "2022-03-24T11:18:35.794Z"
      },
      {
        "duration": 49,
        "start_time": "2022-03-24T11:18:35.830Z"
      },
      {
        "duration": 98,
        "start_time": "2022-03-24T11:18:35.882Z"
      },
      {
        "duration": 25,
        "start_time": "2022-03-24T11:18:35.983Z"
      },
      {
        "duration": 72,
        "start_time": "2022-03-24T11:18:36.010Z"
      },
      {
        "duration": 30,
        "start_time": "2022-03-24T11:18:36.085Z"
      },
      {
        "duration": 20,
        "start_time": "2022-03-24T11:18:36.118Z"
      },
      {
        "duration": 58,
        "start_time": "2022-03-24T11:18:36.177Z"
      },
      {
        "duration": 49,
        "start_time": "2022-03-24T11:18:36.238Z"
      },
      {
        "duration": 13,
        "start_time": "2022-03-24T11:18:36.290Z"
      },
      {
        "duration": 34,
        "start_time": "2022-03-24T11:18:36.305Z"
      },
      {
        "duration": 53,
        "start_time": "2022-03-24T11:18:36.341Z"
      },
      {
        "duration": 6,
        "start_time": "2022-03-24T11:18:36.396Z"
      },
      {
        "duration": 28,
        "start_time": "2022-03-24T11:18:36.404Z"
      },
      {
        "duration": 24,
        "start_time": "2022-03-24T11:21:19.149Z"
      },
      {
        "duration": 26,
        "start_time": "2022-03-24T11:21:43.058Z"
      },
      {
        "duration": 48,
        "start_time": "2022-03-24T11:21:48.727Z"
      },
      {
        "duration": 43,
        "start_time": "2022-03-24T11:22:03.105Z"
      },
      {
        "duration": 28,
        "start_time": "2022-03-24T11:22:52.920Z"
      },
      {
        "duration": 30,
        "start_time": "2022-03-24T11:23:13.349Z"
      },
      {
        "duration": 102,
        "start_time": "2022-03-24T11:23:18.394Z"
      },
      {
        "duration": 6,
        "start_time": "2022-03-24T11:23:18.498Z"
      },
      {
        "duration": 26,
        "start_time": "2022-03-24T11:23:18.506Z"
      },
      {
        "duration": 25,
        "start_time": "2022-03-24T11:23:18.535Z"
      },
      {
        "duration": 86,
        "start_time": "2022-03-24T11:23:18.562Z"
      },
      {
        "duration": 45,
        "start_time": "2022-03-24T11:23:18.650Z"
      },
      {
        "duration": 44,
        "start_time": "2022-03-24T11:23:18.697Z"
      },
      {
        "duration": 52,
        "start_time": "2022-03-24T11:23:18.743Z"
      },
      {
        "duration": 20,
        "start_time": "2022-03-24T11:23:18.798Z"
      },
      {
        "duration": 77,
        "start_time": "2022-03-24T11:23:18.823Z"
      },
      {
        "duration": 29,
        "start_time": "2022-03-24T11:23:18.902Z"
      },
      {
        "duration": 42,
        "start_time": "2022-03-24T11:23:18.933Z"
      },
      {
        "duration": 25,
        "start_time": "2022-03-24T11:23:18.978Z"
      },
      {
        "duration": 31,
        "start_time": "2022-03-24T11:23:19.005Z"
      },
      {
        "duration": 6,
        "start_time": "2022-03-24T11:23:19.073Z"
      },
      {
        "duration": 24,
        "start_time": "2022-03-24T11:23:19.082Z"
      },
      {
        "duration": 30,
        "start_time": "2022-03-24T11:23:19.109Z"
      },
      {
        "duration": 8,
        "start_time": "2022-03-24T11:26:05.844Z"
      },
      {
        "duration": 7,
        "start_time": "2022-03-24T11:26:12.059Z"
      },
      {
        "duration": 7,
        "start_time": "2022-03-24T11:26:34.234Z"
      },
      {
        "duration": 8,
        "start_time": "2022-03-24T11:26:58.232Z"
      },
      {
        "duration": 8,
        "start_time": "2022-03-24T11:29:31.189Z"
      },
      {
        "duration": 11,
        "start_time": "2022-03-24T11:29:48.575Z"
      },
      {
        "duration": 10,
        "start_time": "2022-03-24T11:29:56.903Z"
      },
      {
        "duration": 9,
        "start_time": "2022-03-24T11:30:16.130Z"
      },
      {
        "duration": 11,
        "start_time": "2022-03-24T11:30:30.640Z"
      },
      {
        "duration": 10,
        "start_time": "2022-03-24T11:30:49.436Z"
      },
      {
        "duration": 14,
        "start_time": "2022-03-24T11:31:02.625Z"
      },
      {
        "duration": 45,
        "start_time": "2022-03-24T11:35:08.905Z"
      },
      {
        "duration": 90,
        "start_time": "2022-03-24T11:35:22.785Z"
      },
      {
        "duration": 5,
        "start_time": "2022-03-24T11:35:22.878Z"
      },
      {
        "duration": 25,
        "start_time": "2022-03-24T11:35:22.886Z"
      },
      {
        "duration": 32,
        "start_time": "2022-03-24T11:35:22.914Z"
      },
      {
        "duration": 80,
        "start_time": "2022-03-24T11:35:22.948Z"
      },
      {
        "duration": 25,
        "start_time": "2022-03-24T11:35:23.030Z"
      },
      {
        "duration": 43,
        "start_time": "2022-03-24T11:35:23.074Z"
      },
      {
        "duration": 55,
        "start_time": "2022-03-24T11:35:23.119Z"
      },
      {
        "duration": 20,
        "start_time": "2022-03-24T11:35:23.176Z"
      },
      {
        "duration": 81,
        "start_time": "2022-03-24T11:35:23.200Z"
      },
      {
        "duration": 30,
        "start_time": "2022-03-24T11:35:23.283Z"
      },
      {
        "duration": 14,
        "start_time": "2022-03-24T11:35:23.315Z"
      },
      {
        "duration": 63,
        "start_time": "2022-03-24T11:35:23.331Z"
      },
      {
        "duration": 29,
        "start_time": "2022-03-24T11:35:23.398Z"
      },
      {
        "duration": 7,
        "start_time": "2022-03-24T11:35:23.430Z"
      },
      {
        "duration": 56,
        "start_time": "2022-03-24T11:35:23.440Z"
      },
      {
        "duration": 33,
        "start_time": "2022-03-24T11:35:23.498Z"
      },
      {
        "duration": 43,
        "start_time": "2022-03-24T11:35:23.533Z"
      },
      {
        "duration": 42,
        "start_time": "2022-03-24T11:35:23.579Z"
      },
      {
        "duration": 103,
        "start_time": "2022-03-24T11:41:06.371Z"
      },
      {
        "duration": 5,
        "start_time": "2022-03-24T11:41:21.215Z"
      },
      {
        "duration": 7,
        "start_time": "2022-03-24T11:41:34.398Z"
      },
      {
        "duration": 7,
        "start_time": "2022-03-24T11:41:41.145Z"
      },
      {
        "duration": 7,
        "start_time": "2022-03-24T11:41:53.802Z"
      },
      {
        "duration": 7,
        "start_time": "2022-03-24T11:41:58.591Z"
      },
      {
        "duration": 5,
        "start_time": "2022-03-24T11:43:40.747Z"
      },
      {
        "duration": 24,
        "start_time": "2022-03-24T11:43:53.613Z"
      },
      {
        "duration": 23,
        "start_time": "2022-03-24T11:44:01.666Z"
      },
      {
        "duration": 89,
        "start_time": "2022-03-24T11:44:11.703Z"
      },
      {
        "duration": 10,
        "start_time": "2022-03-24T11:44:21.976Z"
      },
      {
        "duration": 16,
        "start_time": "2022-03-24T11:45:16.878Z"
      },
      {
        "duration": 48,
        "start_time": "2022-03-24T11:46:02.362Z"
      },
      {
        "duration": 44,
        "start_time": "2022-03-24T11:46:09.739Z"
      },
      {
        "duration": 105,
        "start_time": "2022-03-24T11:46:18.907Z"
      },
      {
        "duration": 95,
        "start_time": "2022-03-24T11:46:46.419Z"
      },
      {
        "duration": 6,
        "start_time": "2022-03-24T11:46:46.518Z"
      },
      {
        "duration": 21,
        "start_time": "2022-03-24T11:46:46.526Z"
      },
      {
        "duration": 39,
        "start_time": "2022-03-24T11:46:46.550Z"
      },
      {
        "duration": 98,
        "start_time": "2022-03-24T11:46:46.592Z"
      },
      {
        "duration": 25,
        "start_time": "2022-03-24T11:46:46.692Z"
      },
      {
        "duration": 68,
        "start_time": "2022-03-24T11:46:46.719Z"
      },
      {
        "duration": 30,
        "start_time": "2022-03-24T11:46:46.790Z"
      },
      {
        "duration": 53,
        "start_time": "2022-03-24T11:46:46.823Z"
      },
      {
        "duration": 97,
        "start_time": "2022-03-24T11:46:46.881Z"
      },
      {
        "duration": 45,
        "start_time": "2022-03-24T11:46:46.981Z"
      },
      {
        "duration": 18,
        "start_time": "2022-03-24T11:46:47.029Z"
      },
      {
        "duration": 28,
        "start_time": "2022-03-24T11:46:47.075Z"
      },
      {
        "duration": 30,
        "start_time": "2022-03-24T11:46:47.105Z"
      },
      {
        "duration": 38,
        "start_time": "2022-03-24T11:46:47.137Z"
      },
      {
        "duration": 40,
        "start_time": "2022-03-24T11:46:47.177Z"
      },
      {
        "duration": 65,
        "start_time": "2022-03-24T11:46:47.220Z"
      },
      {
        "duration": 20,
        "start_time": "2022-03-24T11:46:47.288Z"
      },
      {
        "duration": 76,
        "start_time": "2022-03-24T11:46:47.311Z"
      },
      {
        "duration": 132,
        "start_time": "2022-03-24T11:46:47.389Z"
      },
      {
        "duration": 138,
        "start_time": "2022-03-24T11:47:44.953Z"
      },
      {
        "duration": 141,
        "start_time": "2022-03-24T11:48:41.427Z"
      },
      {
        "duration": 109,
        "start_time": "2022-03-24T11:48:57.483Z"
      },
      {
        "duration": 83,
        "start_time": "2022-03-24T11:50:01.848Z"
      },
      {
        "duration": 101,
        "start_time": "2022-03-24T11:50:13.278Z"
      },
      {
        "duration": 28,
        "start_time": "2022-03-24T11:51:04.138Z"
      },
      {
        "duration": 100,
        "start_time": "2022-03-24T11:51:29.451Z"
      },
      {
        "duration": 95,
        "start_time": "2022-03-24T11:51:39.829Z"
      },
      {
        "duration": 116,
        "start_time": "2022-03-24T11:51:55.642Z"
      },
      {
        "duration": 124,
        "start_time": "2022-03-24T11:52:14.458Z"
      },
      {
        "duration": 82,
        "start_time": "2022-03-24T11:52:42.975Z"
      },
      {
        "duration": 81,
        "start_time": "2022-03-24T11:53:25.597Z"
      },
      {
        "duration": 88,
        "start_time": "2022-03-24T11:53:36.994Z"
      },
      {
        "duration": 507,
        "start_time": "2022-03-24T11:53:49.015Z"
      },
      {
        "duration": 84,
        "start_time": "2022-03-24T11:53:57.658Z"
      },
      {
        "duration": 84,
        "start_time": "2022-03-24T11:55:00.912Z"
      },
      {
        "duration": 86,
        "start_time": "2022-03-24T11:55:22.173Z"
      },
      {
        "duration": 83,
        "start_time": "2022-03-24T11:55:25.606Z"
      },
      {
        "duration": 107,
        "start_time": "2022-03-24T11:55:41.012Z"
      },
      {
        "duration": 77,
        "start_time": "2022-03-24T11:55:54.359Z"
      },
      {
        "duration": 84,
        "start_time": "2022-03-24T11:56:58.140Z"
      },
      {
        "duration": 112,
        "start_time": "2022-03-24T12:04:47.470Z"
      },
      {
        "duration": 99,
        "start_time": "2022-03-24T12:09:21.467Z"
      },
      {
        "duration": 11,
        "start_time": "2022-03-24T12:17:19.495Z"
      },
      {
        "duration": 11,
        "start_time": "2022-03-24T12:17:30.983Z"
      },
      {
        "duration": 12,
        "start_time": "2022-03-24T12:17:37.247Z"
      },
      {
        "duration": 10,
        "start_time": "2022-03-24T12:17:51.372Z"
      },
      {
        "duration": 5,
        "start_time": "2022-03-24T12:18:02.685Z"
      },
      {
        "duration": 124,
        "start_time": "2022-03-24T12:20:13.467Z"
      },
      {
        "duration": 14,
        "start_time": "2022-03-24T12:20:58.038Z"
      },
      {
        "duration": 101,
        "start_time": "2022-03-24T12:21:06.178Z"
      },
      {
        "duration": 99,
        "start_time": "2022-03-24T12:21:12.484Z"
      },
      {
        "duration": 104,
        "start_time": "2022-03-24T12:21:18.434Z"
      },
      {
        "duration": 100,
        "start_time": "2022-03-24T12:21:52.144Z"
      },
      {
        "duration": 98,
        "start_time": "2022-03-24T12:22:12.615Z"
      },
      {
        "duration": 100,
        "start_time": "2022-03-24T12:22:27.043Z"
      },
      {
        "duration": 100,
        "start_time": "2022-03-24T12:22:34.061Z"
      },
      {
        "duration": 113,
        "start_time": "2022-03-24T12:23:39.565Z"
      },
      {
        "duration": 112,
        "start_time": "2022-03-24T12:24:28.163Z"
      },
      {
        "duration": 119,
        "start_time": "2022-03-24T12:24:44.309Z"
      },
      {
        "duration": 140,
        "start_time": "2022-03-24T12:24:59.381Z"
      },
      {
        "duration": 106,
        "start_time": "2022-03-24T12:27:08.533Z"
      },
      {
        "duration": 350,
        "start_time": "2022-03-24T12:27:56.504Z"
      },
      {
        "duration": 22,
        "start_time": "2022-03-24T12:28:12.227Z"
      },
      {
        "duration": 372,
        "start_time": "2022-03-24T12:28:57.326Z"
      },
      {
        "duration": 362,
        "start_time": "2022-03-24T12:29:08.629Z"
      },
      {
        "duration": 354,
        "start_time": "2022-03-24T12:29:18.599Z"
      },
      {
        "duration": 351,
        "start_time": "2022-03-24T12:29:28.165Z"
      },
      {
        "duration": 89,
        "start_time": "2022-03-24T12:29:42.183Z"
      },
      {
        "duration": 363,
        "start_time": "2022-03-24T12:29:46.576Z"
      },
      {
        "duration": 133,
        "start_time": "2022-03-24T12:30:13.244Z"
      },
      {
        "duration": 133,
        "start_time": "2022-03-24T12:30:48.634Z"
      },
      {
        "duration": 137,
        "start_time": "2022-03-24T12:31:13.258Z"
      },
      {
        "duration": 138,
        "start_time": "2022-03-24T12:31:18.850Z"
      },
      {
        "duration": 138,
        "start_time": "2022-03-24T12:31:24.746Z"
      },
      {
        "duration": 132,
        "start_time": "2022-03-24T12:31:35.346Z"
      },
      {
        "duration": 138,
        "start_time": "2022-03-24T12:31:41.290Z"
      },
      {
        "duration": 1667,
        "start_time": "2022-03-24T12:32:38.178Z"
      },
      {
        "duration": 98,
        "start_time": "2022-03-24T12:32:42.162Z"
      },
      {
        "duration": 130,
        "start_time": "2022-03-24T12:32:49.012Z"
      },
      {
        "duration": 131,
        "start_time": "2022-03-24T12:33:10.384Z"
      },
      {
        "duration": 142,
        "start_time": "2022-03-24T12:33:21.596Z"
      },
      {
        "duration": 149,
        "start_time": "2022-03-24T12:33:49.911Z"
      },
      {
        "duration": 160,
        "start_time": "2022-03-24T12:34:08.671Z"
      },
      {
        "duration": 164,
        "start_time": "2022-03-24T12:34:21.807Z"
      },
      {
        "duration": 227,
        "start_time": "2022-03-24T12:34:35.896Z"
      },
      {
        "duration": 185,
        "start_time": "2022-03-24T12:34:42.065Z"
      },
      {
        "duration": 181,
        "start_time": "2022-03-24T12:35:12.674Z"
      },
      {
        "duration": 16,
        "start_time": "2022-03-24T12:37:48.805Z"
      },
      {
        "duration": 1846,
        "start_time": "2022-03-24T12:38:07.788Z"
      },
      {
        "duration": 1609,
        "start_time": "2022-03-24T12:39:00.993Z"
      },
      {
        "duration": 265,
        "start_time": "2022-03-24T12:39:17.185Z"
      },
      {
        "duration": 127,
        "start_time": "2022-03-24T12:39:38.915Z"
      },
      {
        "duration": 127,
        "start_time": "2022-03-24T12:39:54.439Z"
      },
      {
        "duration": 129,
        "start_time": "2022-03-24T12:40:57.926Z"
      },
      {
        "duration": 133,
        "start_time": "2022-03-24T12:41:11.141Z"
      },
      {
        "duration": 126,
        "start_time": "2022-03-24T12:41:16.788Z"
      },
      {
        "duration": 129,
        "start_time": "2022-03-24T12:42:06.726Z"
      },
      {
        "duration": 53,
        "start_time": "2022-03-24T12:50:30.231Z"
      },
      {
        "duration": 14,
        "start_time": "2022-03-24T12:51:30.298Z"
      },
      {
        "duration": 6,
        "start_time": "2022-03-24T13:22:02.600Z"
      },
      {
        "duration": 17,
        "start_time": "2022-03-24T13:24:39.527Z"
      },
      {
        "duration": 22,
        "start_time": "2022-03-24T13:24:59.446Z"
      },
      {
        "duration": 8,
        "start_time": "2022-03-24T13:25:28.146Z"
      },
      {
        "duration": 8,
        "start_time": "2022-03-24T13:26:53.274Z"
      },
      {
        "duration": 157,
        "start_time": "2022-03-24T13:28:15.200Z"
      },
      {
        "duration": 125,
        "start_time": "2022-03-24T13:30:24.716Z"
      },
      {
        "duration": 122,
        "start_time": "2022-03-24T13:30:40.786Z"
      },
      {
        "duration": 130,
        "start_time": "2022-03-24T13:30:51.477Z"
      },
      {
        "duration": 125,
        "start_time": "2022-03-24T13:31:05.956Z"
      },
      {
        "duration": 123,
        "start_time": "2022-03-24T13:31:18.178Z"
      },
      {
        "duration": 131,
        "start_time": "2022-03-24T13:31:53.076Z"
      },
      {
        "duration": 102,
        "start_time": "2022-03-24T13:34:26.761Z"
      },
      {
        "duration": 139,
        "start_time": "2022-03-24T13:34:32.168Z"
      },
      {
        "duration": 102,
        "start_time": "2022-03-24T13:34:55.336Z"
      },
      {
        "duration": 95,
        "start_time": "2022-03-24T13:35:39.780Z"
      },
      {
        "duration": 88,
        "start_time": "2022-03-24T13:37:08.728Z"
      },
      {
        "duration": 6,
        "start_time": "2022-03-24T13:37:08.819Z"
      },
      {
        "duration": 11,
        "start_time": "2022-03-24T13:37:08.827Z"
      },
      {
        "duration": 44,
        "start_time": "2022-03-24T13:37:08.841Z"
      },
      {
        "duration": 102,
        "start_time": "2022-03-24T13:37:08.887Z"
      },
      {
        "duration": 23,
        "start_time": "2022-03-24T13:37:08.991Z"
      },
      {
        "duration": 68,
        "start_time": "2022-03-24T13:37:09.016Z"
      },
      {
        "duration": 32,
        "start_time": "2022-03-24T13:37:09.087Z"
      },
      {
        "duration": 54,
        "start_time": "2022-03-24T13:37:09.122Z"
      },
      {
        "duration": 48,
        "start_time": "2022-03-24T13:37:09.179Z"
      },
      {
        "duration": 57,
        "start_time": "2022-03-24T13:37:09.229Z"
      },
      {
        "duration": 13,
        "start_time": "2022-03-24T13:37:09.288Z"
      },
      {
        "duration": 29,
        "start_time": "2022-03-24T13:37:09.303Z"
      },
      {
        "duration": 111,
        "start_time": "2022-03-24T13:37:09.334Z"
      },
      {
        "duration": 6,
        "start_time": "2022-03-24T13:37:09.447Z"
      },
      {
        "duration": 42,
        "start_time": "2022-03-24T13:37:09.455Z"
      },
      {
        "duration": 29,
        "start_time": "2022-03-24T13:37:09.499Z"
      },
      {
        "duration": 43,
        "start_time": "2022-03-24T13:37:09.531Z"
      },
      {
        "duration": 41,
        "start_time": "2022-03-24T13:37:09.576Z"
      },
      {
        "duration": 123,
        "start_time": "2022-03-24T13:37:09.620Z"
      },
      {
        "duration": 143,
        "start_time": "2022-03-24T13:37:09.745Z"
      },
      {
        "duration": 144,
        "start_time": "2022-03-24T13:37:09.891Z"
      },
      {
        "duration": 112,
        "start_time": "2022-03-24T13:37:10.037Z"
      },
      {
        "duration": 97,
        "start_time": "2022-03-24T13:37:35.652Z"
      },
      {
        "duration": 61,
        "start_time": "2022-03-24T13:37:45.345Z"
      },
      {
        "duration": 91,
        "start_time": "2022-03-24T13:37:50.135Z"
      },
      {
        "duration": 90,
        "start_time": "2022-03-24T13:38:02.237Z"
      },
      {
        "duration": 1915,
        "start_time": "2022-03-24T13:41:44.041Z"
      },
      {
        "duration": 13,
        "start_time": "2022-03-24T13:41:45.961Z"
      },
      {
        "duration": 13,
        "start_time": "2022-03-24T13:41:45.977Z"
      },
      {
        "duration": 25,
        "start_time": "2022-03-24T13:41:45.994Z"
      },
      {
        "duration": 164,
        "start_time": "2022-03-24T13:41:46.021Z"
      },
      {
        "duration": 37,
        "start_time": "2022-03-24T13:41:46.188Z"
      },
      {
        "duration": 72,
        "start_time": "2022-03-24T13:41:46.228Z"
      },
      {
        "duration": 29,
        "start_time": "2022-03-24T13:41:46.303Z"
      },
      {
        "duration": 49,
        "start_time": "2022-03-24T13:41:46.335Z"
      },
      {
        "duration": 49,
        "start_time": "2022-03-24T13:41:46.389Z"
      },
      {
        "duration": 56,
        "start_time": "2022-03-24T13:41:46.441Z"
      },
      {
        "duration": 12,
        "start_time": "2022-03-24T13:41:46.500Z"
      },
      {
        "duration": 24,
        "start_time": "2022-03-24T13:41:46.515Z"
      },
      {
        "duration": 85,
        "start_time": "2022-03-24T13:41:46.574Z"
      },
      {
        "duration": 6,
        "start_time": "2022-03-24T13:41:46.673Z"
      },
      {
        "duration": 27,
        "start_time": "2022-03-24T13:41:46.681Z"
      },
      {
        "duration": 31,
        "start_time": "2022-03-24T13:41:46.711Z"
      },
      {
        "duration": 14,
        "start_time": "2022-03-24T13:41:46.774Z"
      },
      {
        "duration": 42,
        "start_time": "2022-03-24T13:41:46.790Z"
      },
      {
        "duration": 151,
        "start_time": "2022-03-24T13:41:46.834Z"
      },
      {
        "duration": 142,
        "start_time": "2022-03-24T13:41:46.988Z"
      },
      {
        "duration": 158,
        "start_time": "2022-03-24T13:41:47.132Z"
      },
      {
        "duration": 145,
        "start_time": "2022-03-24T13:41:47.292Z"
      },
      {
        "duration": 97,
        "start_time": "2022-03-24T13:43:05.789Z"
      },
      {
        "duration": 137,
        "start_time": "2022-03-24T13:44:27.592Z"
      },
      {
        "duration": 199,
        "start_time": "2022-03-24T13:58:43.366Z"
      },
      {
        "duration": 188,
        "start_time": "2022-03-24T13:58:54.633Z"
      },
      {
        "duration": 188,
        "start_time": "2022-03-24T13:59:11.843Z"
      },
      {
        "duration": 94,
        "start_time": "2022-03-24T14:00:24.841Z"
      },
      {
        "duration": 164,
        "start_time": "2022-03-24T14:01:15.097Z"
      },
      {
        "duration": 159,
        "start_time": "2022-03-24T14:01:57.253Z"
      },
      {
        "duration": 175,
        "start_time": "2022-03-24T14:02:24.522Z"
      },
      {
        "duration": 103,
        "start_time": "2022-03-24T14:02:56.772Z"
      },
      {
        "duration": 90,
        "start_time": "2022-03-24T14:03:11.410Z"
      },
      {
        "duration": 5,
        "start_time": "2022-03-24T14:18:01.105Z"
      },
      {
        "duration": 15,
        "start_time": "2022-03-24T14:18:07.071Z"
      },
      {
        "duration": 157,
        "start_time": "2022-03-24T14:18:15.326Z"
      },
      {
        "duration": 16,
        "start_time": "2022-03-24T14:18:29.091Z"
      },
      {
        "duration": 14,
        "start_time": "2022-03-24T14:18:51.548Z"
      },
      {
        "duration": 15,
        "start_time": "2022-03-24T14:18:58.275Z"
      },
      {
        "duration": 17,
        "start_time": "2022-03-24T14:20:34.181Z"
      },
      {
        "duration": 22,
        "start_time": "2022-03-24T14:20:40.975Z"
      },
      {
        "duration": 27,
        "start_time": "2022-03-24T14:21:04.029Z"
      },
      {
        "duration": 30,
        "start_time": "2022-03-24T14:21:18.636Z"
      },
      {
        "duration": 30,
        "start_time": "2022-03-24T14:21:32.273Z"
      },
      {
        "duration": 35,
        "start_time": "2022-03-24T14:21:41.466Z"
      },
      {
        "duration": 34,
        "start_time": "2022-03-24T14:21:53.697Z"
      },
      {
        "duration": 31,
        "start_time": "2022-03-24T14:22:01.507Z"
      },
      {
        "duration": 33,
        "start_time": "2022-03-24T14:22:10.320Z"
      },
      {
        "duration": 22,
        "start_time": "2022-03-24T14:23:56.168Z"
      },
      {
        "duration": 30,
        "start_time": "2022-03-24T14:24:14.824Z"
      },
      {
        "duration": 29,
        "start_time": "2022-03-24T14:24:26.756Z"
      },
      {
        "duration": 33,
        "start_time": "2022-03-24T14:24:32.926Z"
      },
      {
        "duration": 29,
        "start_time": "2022-03-24T14:24:38.336Z"
      },
      {
        "duration": 18,
        "start_time": "2022-03-24T14:24:40.028Z"
      },
      {
        "duration": 86,
        "start_time": "2022-03-24T14:24:43.494Z"
      },
      {
        "duration": 6,
        "start_time": "2022-03-24T14:24:43.582Z"
      },
      {
        "duration": 18,
        "start_time": "2022-03-24T14:24:43.590Z"
      },
      {
        "duration": 38,
        "start_time": "2022-03-24T14:24:43.611Z"
      },
      {
        "duration": 100,
        "start_time": "2022-03-24T14:24:43.651Z"
      },
      {
        "duration": 42,
        "start_time": "2022-03-24T14:24:43.754Z"
      },
      {
        "duration": 41,
        "start_time": "2022-03-24T14:24:43.799Z"
      },
      {
        "duration": 56,
        "start_time": "2022-03-24T14:24:43.842Z"
      },
      {
        "duration": 22,
        "start_time": "2022-03-24T14:24:43.900Z"
      },
      {
        "duration": 79,
        "start_time": "2022-03-24T14:24:43.926Z"
      },
      {
        "duration": 29,
        "start_time": "2022-03-24T14:24:44.007Z"
      },
      {
        "duration": 41,
        "start_time": "2022-03-24T14:24:44.038Z"
      },
      {
        "duration": 24,
        "start_time": "2022-03-24T14:24:44.081Z"
      },
      {
        "duration": 106,
        "start_time": "2022-03-24T14:24:44.107Z"
      },
      {
        "duration": 6,
        "start_time": "2022-03-24T14:24:44.215Z"
      },
      {
        "duration": 31,
        "start_time": "2022-03-24T14:24:44.222Z"
      },
      {
        "duration": 46,
        "start_time": "2022-03-24T14:24:44.255Z"
      },
      {
        "duration": 19,
        "start_time": "2022-03-24T14:24:44.304Z"
      },
      {
        "duration": 65,
        "start_time": "2022-03-24T14:24:44.325Z"
      },
      {
        "duration": 29,
        "start_time": "2022-03-24T14:24:44.393Z"
      },
      {
        "duration": 59,
        "start_time": "2022-03-24T14:24:44.425Z"
      },
      {
        "duration": 130,
        "start_time": "2022-03-24T14:24:44.487Z"
      },
      {
        "duration": 0,
        "start_time": "2022-03-24T14:24:44.620Z"
      },
      {
        "duration": 0,
        "start_time": "2022-03-24T14:24:44.622Z"
      },
      {
        "duration": 0,
        "start_time": "2022-03-24T14:24:44.624Z"
      },
      {
        "duration": 173,
        "start_time": "2022-03-24T14:26:27.464Z"
      },
      {
        "duration": 194,
        "start_time": "2022-03-24T14:26:55.031Z"
      },
      {
        "duration": 18,
        "start_time": "2022-03-24T14:27:18.887Z"
      },
      {
        "duration": 109,
        "start_time": "2022-03-24T14:27:22.274Z"
      },
      {
        "duration": 7,
        "start_time": "2022-03-24T14:27:22.387Z"
      },
      {
        "duration": 9,
        "start_time": "2022-03-24T14:27:22.397Z"
      },
      {
        "duration": 65,
        "start_time": "2022-03-24T14:27:22.410Z"
      },
      {
        "duration": 97,
        "start_time": "2022-03-24T14:27:22.478Z"
      },
      {
        "duration": 25,
        "start_time": "2022-03-24T14:27:22.578Z"
      },
      {
        "duration": 42,
        "start_time": "2022-03-24T14:27:22.606Z"
      },
      {
        "duration": 51,
        "start_time": "2022-03-24T14:27:22.650Z"
      },
      {
        "duration": 18,
        "start_time": "2022-03-24T14:27:22.703Z"
      },
      {
        "duration": 82,
        "start_time": "2022-03-24T14:27:22.724Z"
      },
      {
        "duration": 29,
        "start_time": "2022-03-24T14:27:22.809Z"
      },
      {
        "duration": 42,
        "start_time": "2022-03-24T14:27:22.840Z"
      },
      {
        "duration": 24,
        "start_time": "2022-03-24T14:27:22.885Z"
      },
      {
        "duration": 113,
        "start_time": "2022-03-24T14:27:22.912Z"
      },
      {
        "duration": 6,
        "start_time": "2022-03-24T14:27:23.027Z"
      },
      {
        "duration": 44,
        "start_time": "2022-03-24T14:27:23.035Z"
      },
      {
        "duration": 28,
        "start_time": "2022-03-24T14:27:23.081Z"
      },
      {
        "duration": 14,
        "start_time": "2022-03-24T14:27:23.111Z"
      },
      {
        "duration": 71,
        "start_time": "2022-03-24T14:27:23.128Z"
      },
      {
        "duration": 29,
        "start_time": "2022-03-24T14:27:23.201Z"
      },
      {
        "duration": 47,
        "start_time": "2022-03-24T14:27:23.232Z"
      },
      {
        "duration": 202,
        "start_time": "2022-03-24T14:27:23.281Z"
      },
      {
        "duration": 146,
        "start_time": "2022-03-24T14:27:23.485Z"
      },
      {
        "duration": 152,
        "start_time": "2022-03-24T14:27:23.635Z"
      },
      {
        "duration": 113,
        "start_time": "2022-03-24T14:27:23.790Z"
      },
      {
        "duration": 94,
        "start_time": "2022-03-24T14:29:05.082Z"
      },
      {
        "duration": 7,
        "start_time": "2022-03-24T14:29:05.179Z"
      },
      {
        "duration": 14,
        "start_time": "2022-03-24T14:29:05.189Z"
      },
      {
        "duration": 20,
        "start_time": "2022-03-24T14:29:05.207Z"
      },
      {
        "duration": 122,
        "start_time": "2022-03-24T14:29:05.229Z"
      },
      {
        "duration": 37,
        "start_time": "2022-03-24T14:29:05.353Z"
      },
      {
        "duration": 46,
        "start_time": "2022-03-24T14:29:05.392Z"
      },
      {
        "duration": 60,
        "start_time": "2022-03-24T14:29:05.441Z"
      },
      {
        "duration": 19,
        "start_time": "2022-03-24T14:29:05.504Z"
      },
      {
        "duration": 83,
        "start_time": "2022-03-24T14:29:05.527Z"
      },
      {
        "duration": 32,
        "start_time": "2022-03-24T14:29:05.613Z"
      },
      {
        "duration": 16,
        "start_time": "2022-03-24T14:29:05.673Z"
      },
      {
        "duration": 27,
        "start_time": "2022-03-24T14:29:05.692Z"
      },
      {
        "duration": 125,
        "start_time": "2022-03-24T14:29:05.722Z"
      },
      {
        "duration": 6,
        "start_time": "2022-03-24T14:29:05.850Z"
      },
      {
        "duration": 27,
        "start_time": "2022-03-24T14:29:05.874Z"
      },
      {
        "duration": 29,
        "start_time": "2022-03-24T14:29:05.904Z"
      },
      {
        "duration": 47,
        "start_time": "2022-03-24T14:29:05.935Z"
      },
      {
        "duration": 42,
        "start_time": "2022-03-24T14:29:05.984Z"
      },
      {
        "duration": 62,
        "start_time": "2022-03-24T14:29:06.029Z"
      },
      {
        "duration": 18,
        "start_time": "2022-03-24T14:29:06.094Z"
      },
      {
        "duration": 214,
        "start_time": "2022-03-24T14:29:06.114Z"
      },
      {
        "duration": 145,
        "start_time": "2022-03-24T14:29:06.331Z"
      },
      {
        "duration": 157,
        "start_time": "2022-03-24T14:29:06.479Z"
      },
      {
        "duration": 99,
        "start_time": "2022-03-24T14:29:06.638Z"
      },
      {
        "duration": 26,
        "start_time": "2022-03-24T14:29:46.684Z"
      },
      {
        "duration": 101,
        "start_time": "2022-03-24T14:31:31.247Z"
      },
      {
        "duration": 81,
        "start_time": "2022-03-24T14:31:46.038Z"
      },
      {
        "duration": 83,
        "start_time": "2022-03-24T14:32:25.040Z"
      },
      {
        "duration": 140,
        "start_time": "2022-03-24T14:33:43.958Z"
      },
      {
        "duration": 91,
        "start_time": "2022-03-24T14:34:28.911Z"
      },
      {
        "duration": 130,
        "start_time": "2022-03-24T14:34:33.274Z"
      },
      {
        "duration": 84,
        "start_time": "2022-03-24T14:34:49.032Z"
      },
      {
        "duration": 51,
        "start_time": "2022-03-24T14:34:57.112Z"
      },
      {
        "duration": 82,
        "start_time": "2022-03-24T14:35:09.571Z"
      },
      {
        "duration": 84,
        "start_time": "2022-03-24T14:35:29.707Z"
      },
      {
        "duration": 144,
        "start_time": "2022-03-24T15:20:49.464Z"
      },
      {
        "duration": 154,
        "start_time": "2022-03-24T15:21:01.892Z"
      },
      {
        "duration": 2272,
        "start_time": "2022-03-24T15:21:22.443Z"
      },
      {
        "duration": 190,
        "start_time": "2022-03-24T15:21:34.200Z"
      },
      {
        "duration": 146,
        "start_time": "2022-03-24T15:22:26.205Z"
      },
      {
        "duration": 85,
        "start_time": "2022-03-24T15:23:32.845Z"
      },
      {
        "duration": 158,
        "start_time": "2022-03-24T15:23:51.623Z"
      },
      {
        "duration": 135,
        "start_time": "2022-03-24T15:24:26.500Z"
      },
      {
        "duration": 138,
        "start_time": "2022-03-24T15:24:31.740Z"
      },
      {
        "duration": 130,
        "start_time": "2022-03-24T15:25:01.222Z"
      },
      {
        "duration": 134,
        "start_time": "2022-03-24T15:25:18.298Z"
      },
      {
        "duration": 167,
        "start_time": "2022-03-24T15:25:31.101Z"
      },
      {
        "duration": 113,
        "start_time": "2022-03-24T15:27:31.909Z"
      },
      {
        "duration": 84,
        "start_time": "2022-03-24T15:30:38.703Z"
      },
      {
        "duration": 117,
        "start_time": "2022-03-24T15:32:10.091Z"
      },
      {
        "duration": 121,
        "start_time": "2022-03-24T15:33:50.367Z"
      },
      {
        "duration": 100,
        "start_time": "2022-03-24T15:33:53.633Z"
      },
      {
        "duration": 96,
        "start_time": "2022-03-24T15:34:19.830Z"
      },
      {
        "duration": 78,
        "start_time": "2022-03-24T15:35:40.742Z"
      },
      {
        "duration": 95,
        "start_time": "2022-03-24T15:36:07.124Z"
      },
      {
        "duration": 161,
        "start_time": "2022-03-24T15:36:18.899Z"
      },
      {
        "duration": 75,
        "start_time": "2022-03-24T15:37:26.207Z"
      },
      {
        "duration": 98,
        "start_time": "2022-03-24T15:47:37.783Z"
      },
      {
        "duration": 33,
        "start_time": "2022-03-24T15:48:11.139Z"
      },
      {
        "duration": 25,
        "start_time": "2022-03-24T15:48:19.681Z"
      },
      {
        "duration": 24,
        "start_time": "2022-03-24T15:48:41.102Z"
      },
      {
        "duration": 88,
        "start_time": "2022-03-24T15:48:50.125Z"
      },
      {
        "duration": 87,
        "start_time": "2022-03-24T15:48:57.285Z"
      },
      {
        "duration": 7,
        "start_time": "2022-03-24T15:48:57.374Z"
      },
      {
        "duration": 8,
        "start_time": "2022-03-24T15:48:57.383Z"
      },
      {
        "duration": 20,
        "start_time": "2022-03-24T15:48:57.394Z"
      },
      {
        "duration": 126,
        "start_time": "2022-03-24T15:48:57.416Z"
      },
      {
        "duration": 40,
        "start_time": "2022-03-24T15:48:57.545Z"
      },
      {
        "duration": 40,
        "start_time": "2022-03-24T15:48:57.587Z"
      },
      {
        "duration": 50,
        "start_time": "2022-03-24T15:48:57.629Z"
      },
      {
        "duration": 19,
        "start_time": "2022-03-24T15:48:57.681Z"
      },
      {
        "duration": 100,
        "start_time": "2022-03-24T15:48:57.704Z"
      },
      {
        "duration": 28,
        "start_time": "2022-03-24T15:48:57.806Z"
      },
      {
        "duration": 13,
        "start_time": "2022-03-24T15:48:57.835Z"
      },
      {
        "duration": 24,
        "start_time": "2022-03-24T15:48:57.875Z"
      },
      {
        "duration": 96,
        "start_time": "2022-03-24T15:48:57.901Z"
      },
      {
        "duration": 6,
        "start_time": "2022-03-24T15:48:57.999Z"
      },
      {
        "duration": 29,
        "start_time": "2022-03-24T15:48:58.007Z"
      },
      {
        "duration": 56,
        "start_time": "2022-03-24T15:48:58.038Z"
      },
      {
        "duration": 16,
        "start_time": "2022-03-24T15:48:58.096Z"
      },
      {
        "duration": 69,
        "start_time": "2022-03-24T15:48:58.114Z"
      },
      {
        "duration": 35,
        "start_time": "2022-03-24T15:48:58.186Z"
      },
      {
        "duration": 51,
        "start_time": "2022-03-24T15:48:58.224Z"
      },
      {
        "duration": 79,
        "start_time": "2022-03-24T15:48:58.278Z"
      },
      {
        "duration": 81,
        "start_time": "2022-03-24T15:48:58.374Z"
      },
      {
        "duration": 91,
        "start_time": "2022-03-24T15:48:58.458Z"
      },
      {
        "duration": 87,
        "start_time": "2022-03-24T15:48:58.552Z"
      },
      {
        "duration": 107,
        "start_time": "2022-03-24T15:48:58.642Z"
      },
      {
        "duration": 134,
        "start_time": "2022-03-24T15:48:58.751Z"
      },
      {
        "duration": 141,
        "start_time": "2022-03-24T15:48:58.890Z"
      },
      {
        "duration": 106,
        "start_time": "2022-03-24T15:48:59.033Z"
      },
      {
        "duration": 19,
        "start_time": "2022-03-24T15:51:19.819Z"
      },
      {
        "duration": 88,
        "start_time": "2022-03-24T15:51:35.558Z"
      },
      {
        "duration": 25,
        "start_time": "2022-03-24T15:51:35.649Z"
      },
      {
        "duration": 10,
        "start_time": "2022-03-24T15:51:35.676Z"
      },
      {
        "duration": 22,
        "start_time": "2022-03-24T15:51:35.689Z"
      },
      {
        "duration": 121,
        "start_time": "2022-03-24T15:51:35.713Z"
      },
      {
        "duration": 38,
        "start_time": "2022-03-24T15:51:35.836Z"
      },
      {
        "duration": 45,
        "start_time": "2022-03-24T15:51:35.877Z"
      },
      {
        "duration": 53,
        "start_time": "2022-03-24T15:51:35.924Z"
      },
      {
        "duration": 18,
        "start_time": "2022-03-24T15:51:35.980Z"
      },
      {
        "duration": 101,
        "start_time": "2022-03-24T15:51:36.003Z"
      },
      {
        "duration": 28,
        "start_time": "2022-03-24T15:51:36.106Z"
      },
      {
        "duration": 14,
        "start_time": "2022-03-24T15:51:36.136Z"
      },
      {
        "duration": 1624,
        "start_time": "2022-03-24T15:51:36.174Z"
      },
      {
        "duration": 0,
        "start_time": "2022-03-24T15:51:37.801Z"
      },
      {
        "duration": 0,
        "start_time": "2022-03-24T15:51:37.802Z"
      },
      {
        "duration": 0,
        "start_time": "2022-03-24T15:51:37.804Z"
      },
      {
        "duration": 0,
        "start_time": "2022-03-24T15:51:37.805Z"
      },
      {
        "duration": 0,
        "start_time": "2022-03-24T15:51:37.806Z"
      },
      {
        "duration": 0,
        "start_time": "2022-03-24T15:51:37.808Z"
      },
      {
        "duration": 0,
        "start_time": "2022-03-24T15:51:37.809Z"
      },
      {
        "duration": 0,
        "start_time": "2022-03-24T15:51:37.811Z"
      },
      {
        "duration": 0,
        "start_time": "2022-03-24T15:51:37.812Z"
      },
      {
        "duration": 0,
        "start_time": "2022-03-24T15:51:37.813Z"
      },
      {
        "duration": 0,
        "start_time": "2022-03-24T15:51:37.815Z"
      },
      {
        "duration": 1,
        "start_time": "2022-03-24T15:51:37.816Z"
      },
      {
        "duration": 0,
        "start_time": "2022-03-24T15:51:37.818Z"
      },
      {
        "duration": 0,
        "start_time": "2022-03-24T15:51:37.820Z"
      },
      {
        "duration": 0,
        "start_time": "2022-03-24T15:51:37.822Z"
      },
      {
        "duration": 0,
        "start_time": "2022-03-24T15:51:37.823Z"
      },
      {
        "duration": 17,
        "start_time": "2022-03-24T15:52:33.518Z"
      },
      {
        "duration": 83,
        "start_time": "2022-03-24T15:52:57.206Z"
      },
      {
        "duration": 74,
        "start_time": "2022-03-24T15:53:39.399Z"
      },
      {
        "duration": 75,
        "start_time": "2022-03-24T15:53:43.306Z"
      },
      {
        "duration": 83,
        "start_time": "2022-03-24T15:53:48.873Z"
      },
      {
        "duration": 92,
        "start_time": "2022-03-24T15:54:05.353Z"
      },
      {
        "duration": 127,
        "start_time": "2022-03-24T15:54:09.009Z"
      },
      {
        "duration": 1514,
        "start_time": "2022-03-26T18:46:41.847Z"
      },
      {
        "duration": 74,
        "start_time": "2022-03-26T18:54:03.890Z"
      },
      {
        "duration": 5,
        "start_time": "2022-03-26T18:54:03.966Z"
      },
      {
        "duration": 11,
        "start_time": "2022-03-26T18:54:03.973Z"
      },
      {
        "duration": 18,
        "start_time": "2022-03-26T18:54:03.986Z"
      },
      {
        "duration": 85,
        "start_time": "2022-03-26T18:54:04.005Z"
      },
      {
        "duration": 40,
        "start_time": "2022-03-26T18:54:04.092Z"
      },
      {
        "duration": 33,
        "start_time": "2022-03-26T18:54:04.134Z"
      },
      {
        "duration": 23,
        "start_time": "2022-03-26T18:54:04.168Z"
      },
      {
        "duration": 40,
        "start_time": "2022-03-26T18:54:04.193Z"
      },
      {
        "duration": 53,
        "start_time": "2022-03-26T18:54:04.236Z"
      },
      {
        "duration": 43,
        "start_time": "2022-03-26T18:54:04.290Z"
      },
      {
        "duration": 11,
        "start_time": "2022-03-26T18:54:04.335Z"
      },
      {
        "duration": 15,
        "start_time": "2022-03-26T18:54:04.348Z"
      },
      {
        "duration": 80,
        "start_time": "2022-03-26T18:54:04.365Z"
      },
      {
        "duration": 5,
        "start_time": "2022-03-26T18:54:04.446Z"
      },
      {
        "duration": 23,
        "start_time": "2022-03-26T18:54:04.453Z"
      },
      {
        "duration": 20,
        "start_time": "2022-03-26T18:54:04.478Z"
      },
      {
        "duration": 35,
        "start_time": "2022-03-26T18:54:04.500Z"
      },
      {
        "duration": 32,
        "start_time": "2022-03-26T18:54:04.537Z"
      },
      {
        "duration": 27,
        "start_time": "2022-03-26T18:54:04.571Z"
      },
      {
        "duration": 13,
        "start_time": "2022-03-26T18:54:04.632Z"
      },
      {
        "duration": 60,
        "start_time": "2022-03-26T18:54:04.648Z"
      },
      {
        "duration": 56,
        "start_time": "2022-03-26T18:54:04.732Z"
      },
      {
        "duration": 70,
        "start_time": "2022-03-26T18:54:04.790Z"
      },
      {
        "duration": 51,
        "start_time": "2022-03-26T18:54:04.862Z"
      },
      {
        "duration": 82,
        "start_time": "2022-03-26T18:54:04.915Z"
      },
      {
        "duration": 100,
        "start_time": "2022-03-26T18:54:04.999Z"
      },
      {
        "duration": 93,
        "start_time": "2022-03-26T18:54:05.103Z"
      },
      {
        "duration": 73,
        "start_time": "2022-03-26T18:54:05.198Z"
      },
      {
        "duration": 1321,
        "start_time": "2022-03-26T19:10:52.950Z"
      },
      {
        "duration": 5,
        "start_time": "2022-03-26T19:10:57.886Z"
      },
      {
        "duration": 10,
        "start_time": "2022-03-26T19:11:00.870Z"
      },
      {
        "duration": 24,
        "start_time": "2022-03-26T19:11:03.814Z"
      },
      {
        "duration": 66,
        "start_time": "2022-03-26T19:11:07.978Z"
      },
      {
        "duration": 20,
        "start_time": "2022-03-26T19:11:11.945Z"
      },
      {
        "duration": 34,
        "start_time": "2022-03-26T19:11:15.636Z"
      },
      {
        "duration": 22,
        "start_time": "2022-03-26T19:11:18.418Z"
      },
      {
        "duration": 14,
        "start_time": "2022-03-26T19:11:22.417Z"
      },
      {
        "duration": 54,
        "start_time": "2022-03-26T19:11:25.122Z"
      },
      {
        "duration": 20,
        "start_time": "2022-03-26T19:11:28.294Z"
      },
      {
        "duration": 13,
        "start_time": "2022-03-26T19:11:31.329Z"
      },
      {
        "duration": 15,
        "start_time": "2022-03-26T19:11:34.585Z"
      },
      {
        "duration": 55,
        "start_time": "2022-03-26T19:11:37.658Z"
      },
      {
        "duration": 6,
        "start_time": "2022-03-26T19:11:40.553Z"
      },
      {
        "duration": 22,
        "start_time": "2022-03-26T19:11:43.485Z"
      },
      {
        "duration": 20,
        "start_time": "2022-03-26T19:11:46.936Z"
      },
      {
        "duration": 11,
        "start_time": "2022-03-26T19:11:48.749Z"
      },
      {
        "duration": 30,
        "start_time": "2022-03-26T19:11:52.341Z"
      },
      {
        "duration": 24,
        "start_time": "2022-03-26T19:11:54.430Z"
      },
      {
        "duration": 13,
        "start_time": "2022-03-26T19:11:57.052Z"
      },
      {
        "duration": 56,
        "start_time": "2022-03-26T19:11:59.466Z"
      },
      {
        "duration": 59,
        "start_time": "2022-03-26T19:12:01.840Z"
      },
      {
        "duration": 56,
        "start_time": "2022-03-26T19:12:04.280Z"
      },
      {
        "duration": 50,
        "start_time": "2022-03-26T19:12:07.423Z"
      },
      {
        "duration": 67,
        "start_time": "2022-03-26T19:12:10.128Z"
      },
      {
        "duration": 80,
        "start_time": "2022-03-26T19:12:13.314Z"
      },
      {
        "duration": 76,
        "start_time": "2022-03-26T19:12:17.677Z"
      },
      {
        "duration": 4,
        "start_time": "2022-03-26T19:12:17.755Z"
      },
      {
        "duration": 13,
        "start_time": "2022-03-26T19:12:17.761Z"
      },
      {
        "duration": 32,
        "start_time": "2022-03-26T19:12:17.776Z"
      },
      {
        "duration": 71,
        "start_time": "2022-03-26T19:12:17.809Z"
      },
      {
        "duration": 17,
        "start_time": "2022-03-26T19:12:17.882Z"
      },
      {
        "duration": 55,
        "start_time": "2022-03-26T19:12:17.901Z"
      },
      {
        "duration": 23,
        "start_time": "2022-03-26T19:12:17.958Z"
      },
      {
        "duration": 15,
        "start_time": "2022-03-26T19:12:17.983Z"
      },
      {
        "duration": 78,
        "start_time": "2022-03-26T19:12:18.001Z"
      },
      {
        "duration": 20,
        "start_time": "2022-03-26T19:12:18.082Z"
      },
      {
        "duration": 32,
        "start_time": "2022-03-26T19:12:18.104Z"
      },
      {
        "duration": 14,
        "start_time": "2022-03-26T19:12:18.138Z"
      },
      {
        "duration": 51,
        "start_time": "2022-03-26T19:12:18.154Z"
      },
      {
        "duration": 29,
        "start_time": "2022-03-26T19:12:18.207Z"
      },
      {
        "duration": 22,
        "start_time": "2022-03-26T19:12:18.238Z"
      },
      {
        "duration": 19,
        "start_time": "2022-03-26T19:12:18.262Z"
      },
      {
        "duration": 9,
        "start_time": "2022-03-26T19:12:18.283Z"
      },
      {
        "duration": 60,
        "start_time": "2022-03-26T19:12:18.294Z"
      },
      {
        "duration": 24,
        "start_time": "2022-03-26T19:12:18.356Z"
      },
      {
        "duration": 11,
        "start_time": "2022-03-26T19:12:18.382Z"
      },
      {
        "duration": 87,
        "start_time": "2022-03-26T19:12:18.395Z"
      },
      {
        "duration": 63,
        "start_time": "2022-03-26T19:12:18.484Z"
      },
      {
        "duration": 54,
        "start_time": "2022-03-26T19:12:18.548Z"
      },
      {
        "duration": 72,
        "start_time": "2022-03-26T19:12:18.604Z"
      },
      {
        "duration": 77,
        "start_time": "2022-03-26T19:12:18.678Z"
      },
      {
        "duration": 94,
        "start_time": "2022-03-26T19:12:18.757Z"
      },
      {
        "duration": 100,
        "start_time": "2022-03-26T19:12:18.854Z"
      },
      {
        "duration": 60,
        "start_time": "2022-03-26T19:12:18.957Z"
      },
      {
        "duration": 1366,
        "start_time": "2022-03-26T19:12:35.602Z"
      },
      {
        "duration": 5,
        "start_time": "2022-03-26T19:12:36.970Z"
      },
      {
        "duration": 23,
        "start_time": "2022-03-26T19:12:36.976Z"
      },
      {
        "duration": 19,
        "start_time": "2022-03-26T19:12:37.002Z"
      },
      {
        "duration": 70,
        "start_time": "2022-03-26T19:12:37.023Z"
      },
      {
        "duration": 40,
        "start_time": "2022-03-26T19:12:37.095Z"
      },
      {
        "duration": 36,
        "start_time": "2022-03-26T19:12:37.137Z"
      },
      {
        "duration": 23,
        "start_time": "2022-03-26T19:12:37.174Z"
      },
      {
        "duration": 44,
        "start_time": "2022-03-26T19:12:37.200Z"
      },
      {
        "duration": 57,
        "start_time": "2022-03-26T19:12:37.247Z"
      },
      {
        "duration": 48,
        "start_time": "2022-03-26T19:12:37.306Z"
      },
      {
        "duration": 11,
        "start_time": "2022-03-26T19:12:37.356Z"
      },
      {
        "duration": 14,
        "start_time": "2022-03-26T19:12:37.369Z"
      },
      {
        "duration": 84,
        "start_time": "2022-03-26T19:12:37.385Z"
      },
      {
        "duration": 5,
        "start_time": "2022-03-26T19:12:37.471Z"
      },
      {
        "duration": 22,
        "start_time": "2022-03-26T19:12:37.478Z"
      },
      {
        "duration": 43,
        "start_time": "2022-03-26T19:12:37.502Z"
      },
      {
        "duration": 11,
        "start_time": "2022-03-26T19:12:37.547Z"
      },
      {
        "duration": 32,
        "start_time": "2022-03-26T19:12:37.561Z"
      },
      {
        "duration": 63,
        "start_time": "2022-03-26T19:12:37.596Z"
      },
      {
        "duration": 16,
        "start_time": "2022-03-26T19:12:37.662Z"
      },
      {
        "duration": 85,
        "start_time": "2022-03-26T19:12:37.680Z"
      },
      {
        "duration": 52,
        "start_time": "2022-03-26T19:12:37.767Z"
      },
      {
        "duration": 62,
        "start_time": "2022-03-26T19:12:37.821Z"
      },
      {
        "duration": 67,
        "start_time": "2022-03-26T19:12:37.886Z"
      },
      {
        "duration": 79,
        "start_time": "2022-03-26T19:12:37.955Z"
      },
      {
        "duration": 100,
        "start_time": "2022-03-26T19:12:38.036Z"
      },
      {
        "duration": 92,
        "start_time": "2022-03-26T19:12:38.141Z"
      },
      {
        "duration": 60,
        "start_time": "2022-03-26T19:12:38.235Z"
      },
      {
        "duration": 1154,
        "start_time": "2022-04-06T07:56:17.578Z"
      },
      {
        "duration": 4,
        "start_time": "2022-04-06T07:56:18.734Z"
      },
      {
        "duration": 10,
        "start_time": "2022-04-06T07:56:18.740Z"
      },
      {
        "duration": 16,
        "start_time": "2022-04-06T07:56:18.752Z"
      },
      {
        "duration": 78,
        "start_time": "2022-04-06T07:56:18.769Z"
      },
      {
        "duration": 17,
        "start_time": "2022-04-06T07:56:18.849Z"
      },
      {
        "duration": 27,
        "start_time": "2022-04-06T07:56:18.868Z"
      },
      {
        "duration": 45,
        "start_time": "2022-04-06T07:56:18.896Z"
      },
      {
        "duration": 12,
        "start_time": "2022-04-06T07:56:18.943Z"
      },
      {
        "duration": 49,
        "start_time": "2022-04-06T07:56:18.958Z"
      },
      {
        "duration": 40,
        "start_time": "2022-04-06T07:56:19.009Z"
      },
      {
        "duration": 10,
        "start_time": "2022-04-06T07:56:19.051Z"
      },
      {
        "duration": 14,
        "start_time": "2022-04-06T07:56:19.063Z"
      },
      {
        "duration": 83,
        "start_time": "2022-04-06T07:56:19.079Z"
      },
      {
        "duration": 5,
        "start_time": "2022-04-06T07:56:19.164Z"
      },
      {
        "duration": 19,
        "start_time": "2022-04-06T07:56:19.170Z"
      },
      {
        "duration": 41,
        "start_time": "2022-04-06T07:56:19.192Z"
      },
      {
        "duration": 12,
        "start_time": "2022-04-06T07:56:19.235Z"
      },
      {
        "duration": 31,
        "start_time": "2022-04-06T07:56:19.249Z"
      },
      {
        "duration": 54,
        "start_time": "2022-04-06T07:56:19.282Z"
      },
      {
        "duration": 12,
        "start_time": "2022-04-06T07:56:19.337Z"
      },
      {
        "duration": 50,
        "start_time": "2022-04-06T07:56:19.350Z"
      },
      {
        "duration": 72,
        "start_time": "2022-04-06T07:56:19.402Z"
      },
      {
        "duration": 57,
        "start_time": "2022-04-06T07:56:19.476Z"
      },
      {
        "duration": 45,
        "start_time": "2022-04-06T07:56:19.535Z"
      },
      {
        "duration": 74,
        "start_time": "2022-04-06T07:56:19.582Z"
      },
      {
        "duration": 79,
        "start_time": "2022-04-06T07:56:19.658Z"
      },
      {
        "duration": 73,
        "start_time": "2022-04-06T07:56:19.740Z"
      },
      {
        "duration": 70,
        "start_time": "2022-04-06T07:56:19.814Z"
      },
      {
        "duration": 1226,
        "start_time": "2022-04-06T08:05:01.359Z"
      },
      {
        "duration": 5,
        "start_time": "2022-04-06T08:05:02.587Z"
      },
      {
        "duration": 21,
        "start_time": "2022-04-06T08:05:02.593Z"
      },
      {
        "duration": 20,
        "start_time": "2022-04-06T08:05:02.616Z"
      },
      {
        "duration": 56,
        "start_time": "2022-04-06T08:05:02.637Z"
      },
      {
        "duration": 39,
        "start_time": "2022-04-06T08:05:02.695Z"
      },
      {
        "duration": 30,
        "start_time": "2022-04-06T08:05:02.736Z"
      },
      {
        "duration": 22,
        "start_time": "2022-04-06T08:05:02.768Z"
      },
      {
        "duration": 42,
        "start_time": "2022-04-06T08:05:02.792Z"
      },
      {
        "duration": 49,
        "start_time": "2022-04-06T08:05:02.837Z"
      },
      {
        "duration": 20,
        "start_time": "2022-04-06T08:05:02.888Z"
      },
      {
        "duration": 30,
        "start_time": "2022-04-06T08:05:02.910Z"
      },
      {
        "duration": 16,
        "start_time": "2022-04-06T08:05:02.941Z"
      },
      {
        "duration": 50,
        "start_time": "2022-04-06T08:05:02.959Z"
      },
      {
        "duration": 26,
        "start_time": "2022-04-06T08:05:03.010Z"
      },
      {
        "duration": 22,
        "start_time": "2022-04-06T08:05:03.038Z"
      },
      {
        "duration": 20,
        "start_time": "2022-04-06T08:05:03.062Z"
      },
      {
        "duration": 10,
        "start_time": "2022-04-06T08:05:03.083Z"
      },
      {
        "duration": 61,
        "start_time": "2022-04-06T08:05:03.095Z"
      },
      {
        "duration": 21,
        "start_time": "2022-04-06T08:05:03.158Z"
      },
      {
        "duration": 11,
        "start_time": "2022-04-06T08:05:03.181Z"
      },
      {
        "duration": 75,
        "start_time": "2022-04-06T08:05:03.194Z"
      },
      {
        "duration": 64,
        "start_time": "2022-04-06T08:05:03.270Z"
      },
      {
        "duration": 50,
        "start_time": "2022-04-06T08:05:03.335Z"
      },
      {
        "duration": 59,
        "start_time": "2022-04-06T08:05:03.387Z"
      },
      {
        "duration": 59,
        "start_time": "2022-04-06T08:05:03.448Z"
      },
      {
        "duration": 87,
        "start_time": "2022-04-06T08:05:03.509Z"
      },
      {
        "duration": 86,
        "start_time": "2022-04-06T08:05:03.599Z"
      },
      {
        "duration": 66,
        "start_time": "2022-04-06T08:05:03.687Z"
      }
    ],
    "kernelspec": {
      "display_name": "Python 3 (ipykernel)",
      "language": "python",
      "name": "python3"
    },
    "language_info": {
      "codemirror_mode": {
        "name": "ipython",
        "version": 3
      },
      "file_extension": ".py",
      "mimetype": "text/x-python",
      "name": "python",
      "nbconvert_exporter": "python",
      "pygments_lexer": "ipython3",
      "version": "3.9.5"
    },
    "toc": {
      "toc_position": {},
      "skip_h1_title": true,
      "number_sections": true,
      "title_cell": "Table of Contents",
      "toc_window_display": false,
      "base_numbering": 1,
      "toc_section_display": true,
      "title_sidebar": "Contents",
      "toc_cell": false,
      "nav_menu": {
        "height": "181px",
        "width": "300px"
      },
      "sideBar": true
    },
    "nteract": {
      "version": "0.28.0"
    }
  },
  "nbformat": 4,
  "nbformat_minor": 5
}