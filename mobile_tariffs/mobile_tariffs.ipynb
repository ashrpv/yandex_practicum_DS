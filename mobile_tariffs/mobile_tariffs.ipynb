{
  "cells": [
    {
      "cell_type": "markdown",
      "source": [
        "# Описание проекта \n",
        "\n",
        "«Мегалайн» — федеральный оператор сотовой связи. Клиентам предлагают два тарифных плана: «Смарт» и «Ультра». Чтобы скорректировать рекламный бюджет, коммерческий департамент хочет понять, какой тариф приносит больше денег.\n",
        "\n",
        "Необходимо сделать предварительный анализ тарифов на небольшой выборке клиентов. Имеются данные 500 пользователей «Мегалайна»: кто они, откуда, каким тарифом пользуются, сколько звонков и сообщений каждый отправил за 2018 год. Нужно проанализировать поведение клиентов и сделать вывод — какой тариф лучше.\n",
        "\n",
        "Требуется проверить две гипотезы:\n",
        "- средняя выручка пользователей тарифов «Ультра» и «Смарт» различаются;\n",
        "- средняя выручка пользователей из Москвы отличается от выручки пользователей из других регионов."
      ],
      "metadata": {}
    },
    {
      "cell_type": "markdown",
      "source": [
        "## Загрузка модулей и данных"
      ],
      "metadata": {}
    },
    {
      "cell_type": "markdown",
      "source": [
        "Загрузка модулей"
      ],
      "metadata": {}
    },
    {
      "cell_type": "code",
      "source": [
        "%matplotlib inline\n",
        "import pandas as pd\n",
        "import scipy.stats as st\n",
        "import numpy as np\n",
        "import matplotlib.pyplot as plt"
      ],
      "outputs": [],
      "execution_count": 1,
      "metadata": {
        "execution": {
          "iopub.execute_input": "2022-04-29T13:55:38.914Z",
          "iopub.status.busy": "2022-04-29T13:55:38.882Z",
          "iopub.status.idle": "2022-04-29T13:55:38.944Z",
          "shell.execute_reply": "2022-04-29T13:55:38.180Z"
        },
        "jupyter": {
          "outputs_hidden": false,
          "source_hidden": false
        },
        "nteract": {
          "transient": {
            "deleting": false
          }
        },
        "scrolled": true
      }
    },
    {
      "cell_type": "markdown",
      "source": [
        "Загрузка данных:"
      ],
      "metadata": {
        "nteract": {
          "transient": {
            "deleting": false
          }
        }
      }
    },
    {
      "cell_type": "code",
      "source": [
        "try:\n",
        "    calls = pd.read_csv(\"/datasets/calls.csv\")\n",
        "    internet = pd.read_csv(\"/datasets/internet.csv\", index_col=0) #Таблица для интернет трафика уже содержит индексный столбец \n",
        "    messages = pd.read_csv(\"/datasets/messages.csv\")\n",
        "    tariffs = pd.read_csv(\"/datasets/tariffs.csv\")\n",
        "    users = pd.read_csv(\"/datasets/users.csv\")\n",
        "    \n",
        "except:\n",
        "    calls = pd.read_csv('https://code.s3.yandex.net/datasets/calls.csv')\n",
        "    internet = pd.read_csv('https://code.s3.yandex.net/datasets/internet.csv')\n",
        "    messages = pd.read_csv('https://code.s3.yandex.net/datasets/messages.csv')\n",
        "    users = pd.read_csv('https://code.s3.yandex.net/datasets/users.csv')\n",
        "    tariffs = pd.read_csv('https://code.s3.yandex.net/datasets/tariffs.csv')"
      ],
      "outputs": [],
      "execution_count": 2,
      "metadata": {
        "execution": {
          "iopub.execute_input": "2022-04-29T13:55:39.016Z",
          "iopub.status.busy": "2022-04-29T13:55:38.984Z",
          "iopub.status.idle": "2022-04-29T13:55:39.060Z",
          "shell.execute_reply": "2022-04-29T13:55:38.209Z"
        },
        "jupyter": {
          "outputs_hidden": false,
          "source_hidden": false
        },
        "nteract": {
          "transient": {
            "deleting": false
          }
        },
        "scrolled": true
      }
    },
    {
      "cell_type": "markdown",
      "source": [
        "## Ознакомление с данными"
      ],
      "metadata": {
        "nteract": {
          "transient": {
            "deleting": false
          }
        }
      }
    },
    {
      "cell_type": "markdown",
      "source": [
        "Таблица `users`"
      ],
      "metadata": {
        "nteract": {
          "transient": {
            "deleting": false
          }
        }
      }
    },
    {
      "cell_type": "code",
      "source": [
        "display(users.info())\n",
        "users.head()"
      ],
      "outputs": [
        {
          "output_type": "stream",
          "name": "stdout",
          "text": [
            "<class 'pandas.core.frame.DataFrame'>\n",
            "RangeIndex: 500 entries, 0 to 499\n",
            "Data columns (total 8 columns):\n",
            " #   Column      Non-Null Count  Dtype \n",
            "---  ------      --------------  ----- \n",
            " 0   user_id     500 non-null    int64 \n",
            " 1   age         500 non-null    int64 \n",
            " 2   churn_date  38 non-null     object\n",
            " 3   city        500 non-null    object\n",
            " 4   first_name  500 non-null    object\n",
            " 5   last_name   500 non-null    object\n",
            " 6   reg_date    500 non-null    object\n",
            " 7   tariff      500 non-null    object\n",
            "dtypes: int64(2), object(6)\n",
            "memory usage: 31.4+ KB\n"
          ]
        },
        {
          "output_type": "display_data",
          "data": {
            "text/plain": "None"
          },
          "metadata": {}
        },
        {
          "output_type": "execute_result",
          "execution_count": 3,
          "data": {
            "text/html": "<div>\n<style scoped>\n    .dataframe tbody tr th:only-of-type {\n        vertical-align: middle;\n    }\n\n    .dataframe tbody tr th {\n        vertical-align: top;\n    }\n\n    .dataframe thead th {\n        text-align: right;\n    }\n</style>\n<table border=\"1\" class=\"dataframe\">\n  <thead>\n    <tr style=\"text-align: right;\">\n      <th></th>\n      <th>user_id</th>\n      <th>age</th>\n      <th>churn_date</th>\n      <th>city</th>\n      <th>first_name</th>\n      <th>last_name</th>\n      <th>reg_date</th>\n      <th>tariff</th>\n    </tr>\n  </thead>\n  <tbody>\n    <tr>\n      <th>0</th>\n      <td>1000</td>\n      <td>52</td>\n      <td>NaN</td>\n      <td>Краснодар</td>\n      <td>Рафаил</td>\n      <td>Верещагин</td>\n      <td>2018-05-25</td>\n      <td>ultra</td>\n    </tr>\n    <tr>\n      <th>1</th>\n      <td>1001</td>\n      <td>41</td>\n      <td>NaN</td>\n      <td>Москва</td>\n      <td>Иван</td>\n      <td>Ежов</td>\n      <td>2018-11-01</td>\n      <td>smart</td>\n    </tr>\n    <tr>\n      <th>2</th>\n      <td>1002</td>\n      <td>59</td>\n      <td>NaN</td>\n      <td>Стерлитамак</td>\n      <td>Евгений</td>\n      <td>Абрамович</td>\n      <td>2018-06-17</td>\n      <td>smart</td>\n    </tr>\n    <tr>\n      <th>3</th>\n      <td>1003</td>\n      <td>23</td>\n      <td>NaN</td>\n      <td>Москва</td>\n      <td>Белла</td>\n      <td>Белякова</td>\n      <td>2018-08-17</td>\n      <td>ultra</td>\n    </tr>\n    <tr>\n      <th>4</th>\n      <td>1004</td>\n      <td>68</td>\n      <td>NaN</td>\n      <td>Новокузнецк</td>\n      <td>Татьяна</td>\n      <td>Авдеенко</td>\n      <td>2018-05-14</td>\n      <td>ultra</td>\n    </tr>\n  </tbody>\n</table>\n</div>",
            "text/plain": "   user_id  age churn_date         city first_name  last_name    reg_date  \\\n0     1000   52        NaN    Краснодар     Рафаил  Верещагин  2018-05-25   \n1     1001   41        NaN       Москва       Иван       Ежов  2018-11-01   \n2     1002   59        NaN  Стерлитамак    Евгений  Абрамович  2018-06-17   \n3     1003   23        NaN       Москва      Белла   Белякова  2018-08-17   \n4     1004   68        NaN  Новокузнецк    Татьяна   Авдеенко  2018-05-14   \n\n  tariff  \n0  ultra  \n1  smart  \n2  smart  \n3  ultra  \n4  ultra  "
          },
          "metadata": {}
        }
      ],
      "execution_count": 3,
      "metadata": {
        "execution": {
          "iopub.execute_input": "2022-04-29T13:55:39.133Z",
          "iopub.status.busy": "2022-04-29T13:55:39.106Z",
          "iopub.status.idle": "2022-04-29T13:55:39.214Z",
          "shell.execute_reply": "2022-04-29T13:55:38.263Z"
        },
        "jupyter": {
          "outputs_hidden": false,
          "source_hidden": false
        },
        "nteract": {
          "transient": {
            "deleting": false
          }
        },
        "scrolled": false
      }
    },
    {
      "cell_type": "markdown",
      "source": [
        "Содержимое таблицы `users` соответствует описанию. Пропуски по всей видимости отсутствуют. 38 пользователе из 500 сменили тариф, это необходимо учитывать при анализе их параметров."
      ],
      "metadata": {
        "nteract": {
          "transient": {
            "deleting": false
          }
        }
      }
    },
    {
      "cell_type": "code",
      "source": [
        "for name, table in {'calls' : calls, 'messages' : messages, 'internet' : internet, 'tariffs' : tariffs}.items():\n",
        "    print()\n",
        "    print('-'*70)\n",
        "    print('Таблица:', name)\n",
        "    print('-'*70)\n",
        "    display(table.info())\n",
        "    display(table.head())\n"
      ],
      "outputs": [
        {
          "output_type": "stream",
          "name": "stdout",
          "text": [
            "\n",
            "----------------------------------------------------------------------\n",
            "Таблица: calls\n",
            "----------------------------------------------------------------------\n",
            "<class 'pandas.core.frame.DataFrame'>\n",
            "RangeIndex: 202607 entries, 0 to 202606\n",
            "Data columns (total 4 columns):\n",
            " #   Column     Non-Null Count   Dtype  \n",
            "---  ------     --------------   -----  \n",
            " 0   id         202607 non-null  object \n",
            " 1   call_date  202607 non-null  object \n",
            " 2   duration   202607 non-null  float64\n",
            " 3   user_id    202607 non-null  int64  \n",
            "dtypes: float64(1), int64(1), object(2)\n",
            "memory usage: 6.2+ MB\n"
          ]
        },
        {
          "output_type": "display_data",
          "data": {
            "text/plain": "None"
          },
          "metadata": {}
        },
        {
          "output_type": "display_data",
          "data": {
            "text/html": "<div>\n<style scoped>\n    .dataframe tbody tr th:only-of-type {\n        vertical-align: middle;\n    }\n\n    .dataframe tbody tr th {\n        vertical-align: top;\n    }\n\n    .dataframe thead th {\n        text-align: right;\n    }\n</style>\n<table border=\"1\" class=\"dataframe\">\n  <thead>\n    <tr style=\"text-align: right;\">\n      <th></th>\n      <th>id</th>\n      <th>call_date</th>\n      <th>duration</th>\n      <th>user_id</th>\n    </tr>\n  </thead>\n  <tbody>\n    <tr>\n      <th>0</th>\n      <td>1000_0</td>\n      <td>2018-07-25</td>\n      <td>0.00</td>\n      <td>1000</td>\n    </tr>\n    <tr>\n      <th>1</th>\n      <td>1000_1</td>\n      <td>2018-08-17</td>\n      <td>0.00</td>\n      <td>1000</td>\n    </tr>\n    <tr>\n      <th>2</th>\n      <td>1000_2</td>\n      <td>2018-06-11</td>\n      <td>2.85</td>\n      <td>1000</td>\n    </tr>\n    <tr>\n      <th>3</th>\n      <td>1000_3</td>\n      <td>2018-09-21</td>\n      <td>13.80</td>\n      <td>1000</td>\n    </tr>\n    <tr>\n      <th>4</th>\n      <td>1000_4</td>\n      <td>2018-12-15</td>\n      <td>5.18</td>\n      <td>1000</td>\n    </tr>\n  </tbody>\n</table>\n</div>",
            "text/plain": "       id   call_date  duration  user_id\n0  1000_0  2018-07-25      0.00     1000\n1  1000_1  2018-08-17      0.00     1000\n2  1000_2  2018-06-11      2.85     1000\n3  1000_3  2018-09-21     13.80     1000\n4  1000_4  2018-12-15      5.18     1000"
          },
          "metadata": {}
        },
        {
          "output_type": "stream",
          "name": "stdout",
          "text": [
            "\n",
            "----------------------------------------------------------------------\n",
            "Таблица: messages\n",
            "----------------------------------------------------------------------\n",
            "<class 'pandas.core.frame.DataFrame'>\n",
            "RangeIndex: 123036 entries, 0 to 123035\n",
            "Data columns (total 3 columns):\n",
            " #   Column        Non-Null Count   Dtype \n",
            "---  ------        --------------   ----- \n",
            " 0   id            123036 non-null  object\n",
            " 1   message_date  123036 non-null  object\n",
            " 2   user_id       123036 non-null  int64 \n",
            "dtypes: int64(1), object(2)\n",
            "memory usage: 2.8+ MB\n"
          ]
        },
        {
          "output_type": "display_data",
          "data": {
            "text/plain": "None"
          },
          "metadata": {}
        },
        {
          "output_type": "display_data",
          "data": {
            "text/html": "<div>\n<style scoped>\n    .dataframe tbody tr th:only-of-type {\n        vertical-align: middle;\n    }\n\n    .dataframe tbody tr th {\n        vertical-align: top;\n    }\n\n    .dataframe thead th {\n        text-align: right;\n    }\n</style>\n<table border=\"1\" class=\"dataframe\">\n  <thead>\n    <tr style=\"text-align: right;\">\n      <th></th>\n      <th>id</th>\n      <th>message_date</th>\n      <th>user_id</th>\n    </tr>\n  </thead>\n  <tbody>\n    <tr>\n      <th>0</th>\n      <td>1000_0</td>\n      <td>2018-06-27</td>\n      <td>1000</td>\n    </tr>\n    <tr>\n      <th>1</th>\n      <td>1000_1</td>\n      <td>2018-10-08</td>\n      <td>1000</td>\n    </tr>\n    <tr>\n      <th>2</th>\n      <td>1000_2</td>\n      <td>2018-08-04</td>\n      <td>1000</td>\n    </tr>\n    <tr>\n      <th>3</th>\n      <td>1000_3</td>\n      <td>2018-06-16</td>\n      <td>1000</td>\n    </tr>\n    <tr>\n      <th>4</th>\n      <td>1000_4</td>\n      <td>2018-12-05</td>\n      <td>1000</td>\n    </tr>\n  </tbody>\n</table>\n</div>",
            "text/plain": "       id message_date  user_id\n0  1000_0   2018-06-27     1000\n1  1000_1   2018-10-08     1000\n2  1000_2   2018-08-04     1000\n3  1000_3   2018-06-16     1000\n4  1000_4   2018-12-05     1000"
          },
          "metadata": {}
        },
        {
          "output_type": "stream",
          "name": "stdout",
          "text": [
            "\n",
            "----------------------------------------------------------------------\n",
            "Таблица: internet\n",
            "----------------------------------------------------------------------\n",
            "<class 'pandas.core.frame.DataFrame'>\n",
            "Int64Index: 149396 entries, 0 to 149395\n",
            "Data columns (total 4 columns):\n",
            " #   Column        Non-Null Count   Dtype  \n",
            "---  ------        --------------   -----  \n",
            " 0   id            149396 non-null  object \n",
            " 1   mb_used       149396 non-null  float64\n",
            " 2   session_date  149396 non-null  object \n",
            " 3   user_id       149396 non-null  int64  \n",
            "dtypes: float64(1), int64(1), object(2)\n",
            "memory usage: 5.7+ MB\n"
          ]
        },
        {
          "output_type": "display_data",
          "data": {
            "text/plain": "None"
          },
          "metadata": {}
        },
        {
          "output_type": "display_data",
          "data": {
            "text/html": "<div>\n<style scoped>\n    .dataframe tbody tr th:only-of-type {\n        vertical-align: middle;\n    }\n\n    .dataframe tbody tr th {\n        vertical-align: top;\n    }\n\n    .dataframe thead th {\n        text-align: right;\n    }\n</style>\n<table border=\"1\" class=\"dataframe\">\n  <thead>\n    <tr style=\"text-align: right;\">\n      <th></th>\n      <th>id</th>\n      <th>mb_used</th>\n      <th>session_date</th>\n      <th>user_id</th>\n    </tr>\n  </thead>\n  <tbody>\n    <tr>\n      <th>0</th>\n      <td>1000_0</td>\n      <td>112.95</td>\n      <td>2018-11-25</td>\n      <td>1000</td>\n    </tr>\n    <tr>\n      <th>1</th>\n      <td>1000_1</td>\n      <td>1052.81</td>\n      <td>2018-09-07</td>\n      <td>1000</td>\n    </tr>\n    <tr>\n      <th>2</th>\n      <td>1000_2</td>\n      <td>1197.26</td>\n      <td>2018-06-25</td>\n      <td>1000</td>\n    </tr>\n    <tr>\n      <th>3</th>\n      <td>1000_3</td>\n      <td>550.27</td>\n      <td>2018-08-22</td>\n      <td>1000</td>\n    </tr>\n    <tr>\n      <th>4</th>\n      <td>1000_4</td>\n      <td>302.56</td>\n      <td>2018-09-24</td>\n      <td>1000</td>\n    </tr>\n  </tbody>\n</table>\n</div>",
            "text/plain": "       id  mb_used session_date  user_id\n0  1000_0   112.95   2018-11-25     1000\n1  1000_1  1052.81   2018-09-07     1000\n2  1000_2  1197.26   2018-06-25     1000\n3  1000_3   550.27   2018-08-22     1000\n4  1000_4   302.56   2018-09-24     1000"
          },
          "metadata": {}
        },
        {
          "output_type": "stream",
          "name": "stdout",
          "text": [
            "\n",
            "----------------------------------------------------------------------\n",
            "Таблица: tariffs\n",
            "----------------------------------------------------------------------\n",
            "<class 'pandas.core.frame.DataFrame'>\n",
            "RangeIndex: 2 entries, 0 to 1\n",
            "Data columns (total 8 columns):\n",
            " #   Column                 Non-Null Count  Dtype \n",
            "---  ------                 --------------  ----- \n",
            " 0   messages_included      2 non-null      int64 \n",
            " 1   mb_per_month_included  2 non-null      int64 \n",
            " 2   minutes_included       2 non-null      int64 \n",
            " 3   rub_monthly_fee        2 non-null      int64 \n",
            " 4   rub_per_gb             2 non-null      int64 \n",
            " 5   rub_per_message        2 non-null      int64 \n",
            " 6   rub_per_minute         2 non-null      int64 \n",
            " 7   tariff_name            2 non-null      object\n",
            "dtypes: int64(7), object(1)\n",
            "memory usage: 256.0+ bytes\n"
          ]
        },
        {
          "output_type": "display_data",
          "data": {
            "text/plain": "None"
          },
          "metadata": {}
        },
        {
          "output_type": "display_data",
          "data": {
            "text/html": "<div>\n<style scoped>\n    .dataframe tbody tr th:only-of-type {\n        vertical-align: middle;\n    }\n\n    .dataframe tbody tr th {\n        vertical-align: top;\n    }\n\n    .dataframe thead th {\n        text-align: right;\n    }\n</style>\n<table border=\"1\" class=\"dataframe\">\n  <thead>\n    <tr style=\"text-align: right;\">\n      <th></th>\n      <th>messages_included</th>\n      <th>mb_per_month_included</th>\n      <th>minutes_included</th>\n      <th>rub_monthly_fee</th>\n      <th>rub_per_gb</th>\n      <th>rub_per_message</th>\n      <th>rub_per_minute</th>\n      <th>tariff_name</th>\n    </tr>\n  </thead>\n  <tbody>\n    <tr>\n      <th>0</th>\n      <td>50</td>\n      <td>15360</td>\n      <td>500</td>\n      <td>550</td>\n      <td>200</td>\n      <td>3</td>\n      <td>3</td>\n      <td>smart</td>\n    </tr>\n    <tr>\n      <th>1</th>\n      <td>1000</td>\n      <td>30720</td>\n      <td>3000</td>\n      <td>1950</td>\n      <td>150</td>\n      <td>1</td>\n      <td>1</td>\n      <td>ultra</td>\n    </tr>\n  </tbody>\n</table>\n</div>",
            "text/plain": "   messages_included  mb_per_month_included  minutes_included  \\\n0                 50                  15360               500   \n1               1000                  30720              3000   \n\n   rub_monthly_fee  rub_per_gb  rub_per_message  rub_per_minute tariff_name  \n0              550         200                3               3       smart  \n1             1950         150                1               1       ultra  "
          },
          "metadata": {}
        }
      ],
      "execution_count": 4,
      "metadata": {
        "scrolled": false
      }
    },
    {
      "cell_type": "markdown",
      "source": [
        "Содержимое остальных таблиц соответствует описанию, пропуски в таблицах отсутствуют. Даты звонков/сообщений/интернет трафика представлены в текстовом виде и должны быть преобразованы в формат datetime. Также даты действий могут приходится на период вне действия тарифа (до `reg_time` или после `churn_date`). Проверим наличие таких данных:"
      ],
      "metadata": {
        "nteract": {
          "transient": {
            "deleting": false
          }
        }
      }
    },
    {
      "cell_type": "code",
      "source": [
        "#Добавим в таблицу звонков дату подключения и отключения тарифа:\n",
        "calls_upt = calls.join(users.set_index('user_id')[['churn_date', 'reg_date']], on='user_id')\n",
        "\n",
        "print('Звонков до подключения тарифа:', len(calls_upt[calls_upt['call_date'] < calls_upt['reg_date']]))\n",
        "print('Звонков после отключения тарифа:', len(calls_upt[calls_upt['call_date'] > calls_upt['churn_date']]), '\\n')\n",
        "\n",
        "#Добавим в таблицу сообщений дату подключения и отключения тарифа:\n",
        "messages_upt = messages.join(users.set_index('user_id')[['churn_date', 'reg_date']], on='user_id')\n",
        "\n",
        "print('Сообщений до подключения тарифа:', len(messages_upt[messages_upt['message_date'] < messages_upt['reg_date']]))\n",
        "print('Сообщений после отключения тарифа:', len(messages_upt[messages_upt['message_date'] > messages_upt['churn_date']]), '\\n')\n",
        "\n",
        "#Добавим в таблицу сообщений дату подключения и отключения тарифа:\n",
        "internet_upt = internet.join(users.set_index('user_id')[['churn_date', 'reg_date']], on='user_id')\n",
        "\n",
        "print('Интернет сессий до подключения тарифа:', len(internet_upt[internet_upt['session_date'] < internet_upt['reg_date']]))\n",
        "print('Интернет сессий после отключения тарифа:', len(internet_upt[internet_upt['session_date'] > internet_upt['churn_date']]))"
      ],
      "outputs": [
        {
          "output_type": "stream",
          "name": "stdout",
          "text": [
            "Звонков до подключения тарифа: 0\n",
            "Звонков после отключения тарифа: 0 \n",
            "\n",
            "Сообщений до подключения тарифа: 0\n",
            "Сообщений после отключения тарифа: 0 \n",
            "\n",
            "Интернет сессий до подключения тарифа: 0\n",
            "Интернет сессий после отключения тарифа: 0\n"
          ]
        }
      ],
      "execution_count": 5,
      "metadata": {
        "execution": {
          "iopub.execute_input": "2022-04-29T13:55:39.565Z",
          "iopub.status.busy": "2022-04-29T13:55:39.530Z",
          "iopub.status.idle": "2022-04-29T13:55:39.645Z",
          "shell.execute_reply": "2022-04-29T13:55:38.400Z"
        },
        "jupyter": {
          "outputs_hidden": false,
          "source_hidden": false
        },
        "nteract": {
          "transient": {
            "deleting": false
          }
        },
        "scrolled": true
      }
    },
    {
      "cell_type": "markdown",
      "source": [
        "**Вывод**\n",
        "\n",
        "Все данные в рамках действия тарифных планов, дополнительные действия не требуются."
      ],
      "metadata": {
        "nteract": {
          "transient": {
            "deleting": false
          }
        }
      }
    },
    {
      "cell_type": "markdown",
      "source": [
        "## Предобработка данных"
      ],
      "metadata": {
        "nteract": {
          "transient": {
            "deleting": false
          }
        }
      }
    },
    {
      "cell_type": "markdown",
      "source": [
        "### Преобразование дат, обработка действий в месяц подключения/отключения тарифа  \n",
        "\n",
        "Преобразуем сведения о датах в формат `datetime` и добавим в таблицы месяц совершения действий, а также месяц и день подключения/отключения тарифа. По условиию все данные должны приходиться на 2018 год, при преобразовании будем проверять так ли это:"
      ],
      "metadata": {
        "nteract": {
          "transient": {
            "deleting": false
          }
        }
      }
    },
    {
      "cell_type": "code",
      "source": [
        "#Для единообразия во всех таблицах переименуем дату совершения действия:\n",
        "calls_upt.rename({'call_date' : 'action_date'}, axis=1, inplace=True)\n",
        "messages_upt.rename({'message_date' : 'action_date'}, axis=1, inplace=True)\n",
        "internet_upt.rename({'session_date' : 'action_date'}, axis=1, inplace=True)\n",
        "\n",
        "\n",
        "for table in [calls_upt, messages_upt, internet_upt]:\n",
        "    table['action_date'] = pd.to_datetime(table['action_date'])\n",
        "    table['month'] = table['action_date'].dt.month\n",
        "    table['churn_month'] = pd.to_datetime(table['churn_date']).dt.month\n",
        "    table['churn_day'] = pd.to_datetime(table['churn_date']).dt.day\n",
        "    table['reg_month'] = pd.to_datetime(table['reg_date']).dt.month\n",
        "    table['reg_day'] = pd.to_datetime(table['reg_date']).dt.day\n",
        "    vname = [name for name in globals() if globals()[name] is table]\n",
        "    for_delete = table.query('action_date.dt.year != 2018').index\n",
        "    table.drop(for_delete, inplace=True)\n",
        "    print(f'В таблице {vname[1]} удалено {len(for_delete)} записей не за 2018 год')\n",
        "   "
      ],
      "outputs": [
        {
          "output_type": "stream",
          "name": "stdout",
          "text": [
            "В таблице calls_upt удалено 0 записей не за 2018 год\n",
            "В таблице messages_upt удалено 0 записей не за 2018 год\n",
            "В таблице internet_upt удалено 0 записей не за 2018 год\n"
          ]
        }
      ],
      "execution_count": 6,
      "metadata": {
        "execution": {
          "iopub.execute_input": "2022-04-29T13:55:39.748Z",
          "iopub.status.busy": "2022-04-29T13:55:39.717Z",
          "iopub.status.idle": "2022-04-29T13:55:39.788Z",
          "shell.execute_reply": "2022-04-29T13:55:38.428Z"
        },
        "jupyter": {
          "outputs_hidden": false,
          "source_hidden": false
        },
        "nteract": {
          "transient": {
            "deleting": false
          }
        },
        "scrolled": false
      }
    },
    {
      "cell_type": "markdown",
      "source": [
        "Действия пользователей в месяц подключения или отключения тарифа должны учитываться отдельно.  \n",
        "Можно полностью их исключить, изменить пропорционально количеству дней пользования тарифом, или использовать другой подход. Выбор правильного подхода требует дополнительного изучения, выходящего за рамки текущего исследования.  \n",
        "Для простоты исключим действия лиц в месяц смены тарифа, если они пользовались тарифом менее 10 дней (день поключения больше 20, день отключения меньше 10):"
      ],
      "metadata": {
        "nteract": {
          "transient": {
            "deleting": false
          }
        }
      }
    },
    {
      "cell_type": "code",
      "source": [
        "calls_to_exclude = (\n",
        "  (calls_upt['month'] == calls_upt['reg_month']) & (calls_upt['reg_day']>20)) | ((calls_upt['month'] == calls_upt['churn_month']) & (calls_upt['churn_day']<10))\n",
        "print(f\"Доля исключаемых звонков: {calls_to_exclude.mean():0.2%}\")\n",
        "calls_upt.drop(calls_upt.index[calls_to_exclude], inplace=True)\n",
        "\n",
        "messages_to_exclude = ((messages_upt['month'] == messages_upt['reg_month']) & (messages_upt['reg_day']>20)) | ((messages_upt['month'] == messages_upt['churn_month']) & (messages_upt['churn_day']<10))\n",
        "print(f\"Доля исключаемых SMS-сообщений: {messages_to_exclude.mean():0.2%}\")\n",
        "messages_upt.drop(messages_upt.index[messages_to_exclude], inplace=True)\n",
        "\n",
        "internet_to_exclude = ((internet_upt['month'] == internet_upt['reg_month']) & (internet_upt['reg_day']>20)) | ((internet_upt['month'] == internet_upt['churn_month']) & (internet_upt['churn_day']<10))\n",
        "print(f\"Доля исключаемого использования интернета: {internet_to_exclude.mean():0.2%}\")\n",
        "internet_upt.drop(internet_upt.index[internet_to_exclude], inplace=True)"
      ],
      "outputs": [
        {
          "output_type": "stream",
          "name": "stdout",
          "text": [
            "Доля исключаемых звонков: 1.56%\n",
            "Доля исключаемых SMS-сообщений: 1.51%\n",
            "Доля исключаемого использования интернета: 1.54%\n"
          ]
        }
      ],
      "execution_count": 7,
      "metadata": {
        "execution": {
          "iopub.execute_input": "2022-04-29T13:55:39.890Z",
          "iopub.status.busy": "2022-04-29T13:55:39.854Z",
          "iopub.status.idle": "2022-04-29T13:55:39.951Z",
          "shell.execute_reply": "2022-04-29T13:55:38.458Z"
        },
        "jupyter": {
          "outputs_hidden": false,
          "source_hidden": false
        },
        "nteract": {
          "transient": {
            "deleting": false
          }
        },
        "scrolled": true
      }
    },
    {
      "cell_type": "markdown",
      "source": [
        "Доля исключенных записей находится в пределах нормы."
      ],
      "metadata": {
        "nteract": {
          "transient": {
            "deleting": false
          }
        }
      }
    },
    {
      "cell_type": "markdown",
      "source": [
        "### Подсчет общего количества действий по месяцам \n",
        "\n",
        "Сгруппируем данные по отдельным пользователям по месяцам.  \n",
        "При учете звонков \"Мегалайн\" округляет длительность до минуты, сделаем также перед суммированием:"
      ],
      "metadata": {
        "nteract": {
          "transient": {
            "deleting": false
          }
        }
      }
    },
    {
      "cell_type": "code",
      "source": [
        "calls_upt['duration'] = np.ceil(calls_upt['duration'])\n",
        "\n",
        "calls_by_month = (calls_upt\n",
        "                  .groupby(['user_id', 'month'])\n",
        "                  .sum()\n",
        "                  .reset_index()\n",
        "                  .rename({'duration' : 'minutes_tot'}, axis=1)\n",
        "                 [['user_id', 'month', 'minutes_tot']])\n",
        "\n",
        "calls_by_month.head()"
      ],
      "outputs": [
        {
          "output_type": "execute_result",
          "execution_count": 8,
          "data": {
            "text/html": "<div>\n<style scoped>\n    .dataframe tbody tr th:only-of-type {\n        vertical-align: middle;\n    }\n\n    .dataframe tbody tr th {\n        vertical-align: top;\n    }\n\n    .dataframe thead th {\n        text-align: right;\n    }\n</style>\n<table border=\"1\" class=\"dataframe\">\n  <thead>\n    <tr style=\"text-align: right;\">\n      <th></th>\n      <th>user_id</th>\n      <th>month</th>\n      <th>minutes_tot</th>\n    </tr>\n  </thead>\n  <tbody>\n    <tr>\n      <th>0</th>\n      <td>1000</td>\n      <td>6</td>\n      <td>172.0</td>\n    </tr>\n    <tr>\n      <th>1</th>\n      <td>1000</td>\n      <td>7</td>\n      <td>340.0</td>\n    </tr>\n    <tr>\n      <th>2</th>\n      <td>1000</td>\n      <td>8</td>\n      <td>408.0</td>\n    </tr>\n    <tr>\n      <th>3</th>\n      <td>1000</td>\n      <td>9</td>\n      <td>466.0</td>\n    </tr>\n    <tr>\n      <th>4</th>\n      <td>1000</td>\n      <td>10</td>\n      <td>350.0</td>\n    </tr>\n  </tbody>\n</table>\n</div>",
            "text/plain": "   user_id  month  minutes_tot\n0     1000      6        172.0\n1     1000      7        340.0\n2     1000      8        408.0\n3     1000      9        466.0\n4     1000     10        350.0"
          },
          "metadata": {}
        }
      ],
      "execution_count": 8,
      "metadata": {
        "execution": {
          "iopub.execute_input": "2022-04-29T13:55:40.033Z",
          "iopub.status.busy": "2022-04-29T13:55:40.001Z",
          "iopub.status.idle": "2022-04-29T13:55:40.095Z",
          "shell.execute_reply": "2022-04-29T13:55:38.486Z"
        },
        "jupyter": {
          "outputs_hidden": false,
          "source_hidden": false
        },
        "nteract": {
          "transient": {
            "deleting": false
          }
        },
        "scrolled": true
      }
    },
    {
      "cell_type": "markdown",
      "source": [
        "Интернет-трафик округляется до Гб, после суммирования в течение месяца:"
      ],
      "metadata": {
        "nteract": {
          "transient": {
            "deleting": false
          }
        }
      }
    },
    {
      "cell_type": "code",
      "source": [
        "internet_by_month = (internet_upt\n",
        "                         .groupby(['user_id', 'month'])\n",
        "                         .sum()\n",
        "                         .reset_index()\n",
        "                    )\n",
        "internet_by_month['gb_used'] = np.ceil(internet_by_month['mb_used']/1024)\n",
        "internet_by_month.head()"
      ],
      "outputs": [
        {
          "output_type": "execute_result",
          "execution_count": 9,
          "data": {
            "text/html": "<div>\n<style scoped>\n    .dataframe tbody tr th:only-of-type {\n        vertical-align: middle;\n    }\n\n    .dataframe tbody tr th {\n        vertical-align: top;\n    }\n\n    .dataframe thead th {\n        text-align: right;\n    }\n</style>\n<table border=\"1\" class=\"dataframe\">\n  <thead>\n    <tr style=\"text-align: right;\">\n      <th></th>\n      <th>user_id</th>\n      <th>month</th>\n      <th>mb_used</th>\n      <th>churn_month</th>\n      <th>churn_day</th>\n      <th>reg_month</th>\n      <th>reg_day</th>\n      <th>gb_used</th>\n    </tr>\n  </thead>\n  <tbody>\n    <tr>\n      <th>0</th>\n      <td>1000</td>\n      <td>6</td>\n      <td>23233.77</td>\n      <td>0.0</td>\n      <td>0.0</td>\n      <td>245</td>\n      <td>1225</td>\n      <td>23.0</td>\n    </tr>\n    <tr>\n      <th>1</th>\n      <td>1000</td>\n      <td>7</td>\n      <td>14003.64</td>\n      <td>0.0</td>\n      <td>0.0</td>\n      <td>145</td>\n      <td>725</td>\n      <td>14.0</td>\n    </tr>\n    <tr>\n      <th>2</th>\n      <td>1000</td>\n      <td>8</td>\n      <td>14055.93</td>\n      <td>0.0</td>\n      <td>0.0</td>\n      <td>145</td>\n      <td>725</td>\n      <td>14.0</td>\n    </tr>\n    <tr>\n      <th>3</th>\n      <td>1000</td>\n      <td>9</td>\n      <td>14568.91</td>\n      <td>0.0</td>\n      <td>0.0</td>\n      <td>135</td>\n      <td>675</td>\n      <td>15.0</td>\n    </tr>\n    <tr>\n      <th>4</th>\n      <td>1000</td>\n      <td>10</td>\n      <td>14702.49</td>\n      <td>0.0</td>\n      <td>0.0</td>\n      <td>135</td>\n      <td>675</td>\n      <td>15.0</td>\n    </tr>\n  </tbody>\n</table>\n</div>",
            "text/plain": "   user_id  month   mb_used  churn_month  churn_day  reg_month  reg_day  \\\n0     1000      6  23233.77          0.0        0.0        245     1225   \n1     1000      7  14003.64          0.0        0.0        145      725   \n2     1000      8  14055.93          0.0        0.0        145      725   \n3     1000      9  14568.91          0.0        0.0        135      675   \n4     1000     10  14702.49          0.0        0.0        135      675   \n\n   gb_used  \n0     23.0  \n1     14.0  \n2     14.0  \n3     15.0  \n4     15.0  "
          },
          "metadata": {}
        }
      ],
      "execution_count": 9,
      "metadata": {
        "execution": {
          "iopub.execute_input": "2022-04-29T13:55:40.197Z",
          "iopub.status.busy": "2022-04-29T13:55:40.155Z",
          "iopub.status.idle": "2022-04-29T13:55:40.264Z",
          "shell.execute_reply": "2022-04-29T13:55:38.515Z"
        },
        "jupyter": {
          "outputs_hidden": false,
          "source_hidden": false
        },
        "nteract": {
          "transient": {
            "deleting": false
          }
        },
        "scrolled": true
      }
    },
    {
      "cell_type": "markdown",
      "source": [
        "Сообщения могут быть просто подсчитаны по месяцам:"
      ],
      "metadata": {
        "nteract": {
          "transient": {
            "deleting": false
          }
        }
      }
    },
    {
      "cell_type": "code",
      "source": [
        "messages_by_month = (messages_upt\n",
        "                         .groupby(['user_id', 'month'])['id']\n",
        "                         .count()\n",
        "                         .reset_index()\n",
        "                         .rename({'id' : 'messages_tot'}, axis=1)\n",
        "                    )\n",
        "messages_by_month.head()"
      ],
      "outputs": [
        {
          "output_type": "execute_result",
          "execution_count": 10,
          "data": {
            "text/html": "<div>\n<style scoped>\n    .dataframe tbody tr th:only-of-type {\n        vertical-align: middle;\n    }\n\n    .dataframe tbody tr th {\n        vertical-align: top;\n    }\n\n    .dataframe thead th {\n        text-align: right;\n    }\n</style>\n<table border=\"1\" class=\"dataframe\">\n  <thead>\n    <tr style=\"text-align: right;\">\n      <th></th>\n      <th>user_id</th>\n      <th>month</th>\n      <th>messages_tot</th>\n    </tr>\n  </thead>\n  <tbody>\n    <tr>\n      <th>0</th>\n      <td>1000</td>\n      <td>6</td>\n      <td>60</td>\n    </tr>\n    <tr>\n      <th>1</th>\n      <td>1000</td>\n      <td>7</td>\n      <td>75</td>\n    </tr>\n    <tr>\n      <th>2</th>\n      <td>1000</td>\n      <td>8</td>\n      <td>81</td>\n    </tr>\n    <tr>\n      <th>3</th>\n      <td>1000</td>\n      <td>9</td>\n      <td>57</td>\n    </tr>\n    <tr>\n      <th>4</th>\n      <td>1000</td>\n      <td>10</td>\n      <td>73</td>\n    </tr>\n  </tbody>\n</table>\n</div>",
            "text/plain": "   user_id  month  messages_tot\n0     1000      6            60\n1     1000      7            75\n2     1000      8            81\n3     1000      9            57\n4     1000     10            73"
          },
          "metadata": {}
        }
      ],
      "execution_count": 10,
      "metadata": {
        "execution": {
          "iopub.execute_input": "2022-04-29T13:55:40.363Z",
          "iopub.status.busy": "2022-04-29T13:55:40.322Z",
          "iopub.status.idle": "2022-04-29T13:55:40.421Z",
          "shell.execute_reply": "2022-04-29T13:55:38.546Z"
        },
        "jupyter": {
          "outputs_hidden": false,
          "source_hidden": false
        },
        "nteract": {
          "transient": {
            "deleting": false
          }
        },
        "scrolled": true
      }
    },
    {
      "cell_type": "markdown",
      "source": [
        "### Объединение данных и расчет месячного расхода\n",
        "\n",
        "#### Объединение данных"
      ],
      "metadata": {
        "nteract": {
          "transient": {
            "deleting": false
          }
        }
      }
    },
    {
      "cell_type": "markdown",
      "source": [
        "Для исключения ошибок будем объединять таблицы по 2 за раз. Поскольку таблицы с разными типами услуг могут пересекаться не полностью, количество записей в объединенной таблице будет не меньше числа записей в большей из объединяемых таблиц.  \n",
        "Функция для объединения таблиц и проверки в ходе объединения: "
      ],
      "metadata": {}
    },
    {
      "cell_type": "code",
      "source": [
        "def merge_with_test(table_1, table_2, on, how='outer'):\n",
        "    table_merged = table_1.merge(table_2, on=on, how=how)\n",
        "    len_tm = len(table_merged)\n",
        "    len_pr_max =max(len(table_1), len(table_2)) \n",
        "    \n",
        "    if len_tm < len_pr_max:\n",
        "        print(f\"Потеряно не меньше {len_pr_max - len_tm} записей.\")\n",
        "        print(f'Получено {len_tm} записей')\n",
        "        print(\"-\"*80)\n",
        "    else:\n",
        "        print(\"Объединение прошло успешно\")\n",
        "        print(f'Получено {len_tm} записей')\n",
        "        print(\"-\"*80)\n",
        "    return table_merged"
      ],
      "outputs": [],
      "execution_count": 11,
      "metadata": {}
    },
    {
      "cell_type": "markdown",
      "source": [
        "Объединим таблицы получени различных услуг и добавим сведения о пользователях. Поскольку некоторые клиенты могли не пользоваться услугами в рассматриваемом периоде, оставим только пользователей из объединенной таблицы по услугам:"
      ],
      "metadata": {}
    },
    {
      "cell_type": "code",
      "source": [
        "users_with_all = calls_by_month[['user_id', 'month', 'minutes_tot']]\n",
        "\n",
        "for table in [messages_by_month[['user_id', 'month', 'messages_tot']],\n",
        "              internet_by_month[['user_id', 'month', 'gb_used']]]:\n",
        "    \n",
        "    users_with_all = merge_with_test(users_with_all, table, on=['user_id', 'month'], how='outer')\n",
        "    display(users_with_all.head())\n",
        "    \n",
        "users_with_all = merge_with_test(users_with_all, users[['user_id', 'tariff', 'city']], on=['user_id'], how='left')\n",
        "display(users_with_all.head())"
      ],
      "outputs": [
        {
          "output_type": "stream",
          "name": "stdout",
          "text": [
            "Объединение прошло успешно\n",
            "Получено 3032 записей\n",
            "--------------------------------------------------------------------------------\n"
          ]
        },
        {
          "output_type": "display_data",
          "data": {
            "text/html": "<div>\n<style scoped>\n    .dataframe tbody tr th:only-of-type {\n        vertical-align: middle;\n    }\n\n    .dataframe tbody tr th {\n        vertical-align: top;\n    }\n\n    .dataframe thead th {\n        text-align: right;\n    }\n</style>\n<table border=\"1\" class=\"dataframe\">\n  <thead>\n    <tr style=\"text-align: right;\">\n      <th></th>\n      <th>user_id</th>\n      <th>month</th>\n      <th>minutes_tot</th>\n      <th>messages_tot</th>\n    </tr>\n  </thead>\n  <tbody>\n    <tr>\n      <th>0</th>\n      <td>1000</td>\n      <td>6</td>\n      <td>172.0</td>\n      <td>60.0</td>\n    </tr>\n    <tr>\n      <th>1</th>\n      <td>1000</td>\n      <td>7</td>\n      <td>340.0</td>\n      <td>75.0</td>\n    </tr>\n    <tr>\n      <th>2</th>\n      <td>1000</td>\n      <td>8</td>\n      <td>408.0</td>\n      <td>81.0</td>\n    </tr>\n    <tr>\n      <th>3</th>\n      <td>1000</td>\n      <td>9</td>\n      <td>466.0</td>\n      <td>57.0</td>\n    </tr>\n    <tr>\n      <th>4</th>\n      <td>1000</td>\n      <td>10</td>\n      <td>350.0</td>\n      <td>73.0</td>\n    </tr>\n  </tbody>\n</table>\n</div>",
            "text/plain": "   user_id  month  minutes_tot  messages_tot\n0     1000      6        172.0          60.0\n1     1000      7        340.0          75.0\n2     1000      8        408.0          81.0\n3     1000      9        466.0          57.0\n4     1000     10        350.0          73.0"
          },
          "metadata": {}
        },
        {
          "output_type": "stream",
          "name": "stdout",
          "text": [
            "Объединение прошло успешно\n",
            "Получено 3032 записей\n",
            "--------------------------------------------------------------------------------\n"
          ]
        },
        {
          "output_type": "display_data",
          "data": {
            "text/html": "<div>\n<style scoped>\n    .dataframe tbody tr th:only-of-type {\n        vertical-align: middle;\n    }\n\n    .dataframe tbody tr th {\n        vertical-align: top;\n    }\n\n    .dataframe thead th {\n        text-align: right;\n    }\n</style>\n<table border=\"1\" class=\"dataframe\">\n  <thead>\n    <tr style=\"text-align: right;\">\n      <th></th>\n      <th>user_id</th>\n      <th>month</th>\n      <th>minutes_tot</th>\n      <th>messages_tot</th>\n      <th>gb_used</th>\n    </tr>\n  </thead>\n  <tbody>\n    <tr>\n      <th>0</th>\n      <td>1000</td>\n      <td>6</td>\n      <td>172.0</td>\n      <td>60.0</td>\n      <td>23.0</td>\n    </tr>\n    <tr>\n      <th>1</th>\n      <td>1000</td>\n      <td>7</td>\n      <td>340.0</td>\n      <td>75.0</td>\n      <td>14.0</td>\n    </tr>\n    <tr>\n      <th>2</th>\n      <td>1000</td>\n      <td>8</td>\n      <td>408.0</td>\n      <td>81.0</td>\n      <td>14.0</td>\n    </tr>\n    <tr>\n      <th>3</th>\n      <td>1000</td>\n      <td>9</td>\n      <td>466.0</td>\n      <td>57.0</td>\n      <td>15.0</td>\n    </tr>\n    <tr>\n      <th>4</th>\n      <td>1000</td>\n      <td>10</td>\n      <td>350.0</td>\n      <td>73.0</td>\n      <td>15.0</td>\n    </tr>\n  </tbody>\n</table>\n</div>",
            "text/plain": "   user_id  month  minutes_tot  messages_tot  gb_used\n0     1000      6        172.0          60.0     23.0\n1     1000      7        340.0          75.0     14.0\n2     1000      8        408.0          81.0     14.0\n3     1000      9        466.0          57.0     15.0\n4     1000     10        350.0          73.0     15.0"
          },
          "metadata": {}
        },
        {
          "output_type": "stream",
          "name": "stdout",
          "text": [
            "Объединение прошло успешно\n",
            "Получено 3032 записей\n",
            "--------------------------------------------------------------------------------\n"
          ]
        },
        {
          "output_type": "display_data",
          "data": {
            "text/html": "<div>\n<style scoped>\n    .dataframe tbody tr th:only-of-type {\n        vertical-align: middle;\n    }\n\n    .dataframe tbody tr th {\n        vertical-align: top;\n    }\n\n    .dataframe thead th {\n        text-align: right;\n    }\n</style>\n<table border=\"1\" class=\"dataframe\">\n  <thead>\n    <tr style=\"text-align: right;\">\n      <th></th>\n      <th>user_id</th>\n      <th>month</th>\n      <th>minutes_tot</th>\n      <th>messages_tot</th>\n      <th>gb_used</th>\n      <th>tariff</th>\n      <th>city</th>\n    </tr>\n  </thead>\n  <tbody>\n    <tr>\n      <th>0</th>\n      <td>1000</td>\n      <td>6</td>\n      <td>172.0</td>\n      <td>60.0</td>\n      <td>23.0</td>\n      <td>ultra</td>\n      <td>Краснодар</td>\n    </tr>\n    <tr>\n      <th>1</th>\n      <td>1000</td>\n      <td>7</td>\n      <td>340.0</td>\n      <td>75.0</td>\n      <td>14.0</td>\n      <td>ultra</td>\n      <td>Краснодар</td>\n    </tr>\n    <tr>\n      <th>2</th>\n      <td>1000</td>\n      <td>8</td>\n      <td>408.0</td>\n      <td>81.0</td>\n      <td>14.0</td>\n      <td>ultra</td>\n      <td>Краснодар</td>\n    </tr>\n    <tr>\n      <th>3</th>\n      <td>1000</td>\n      <td>9</td>\n      <td>466.0</td>\n      <td>57.0</td>\n      <td>15.0</td>\n      <td>ultra</td>\n      <td>Краснодар</td>\n    </tr>\n    <tr>\n      <th>4</th>\n      <td>1000</td>\n      <td>10</td>\n      <td>350.0</td>\n      <td>73.0</td>\n      <td>15.0</td>\n      <td>ultra</td>\n      <td>Краснодар</td>\n    </tr>\n  </tbody>\n</table>\n</div>",
            "text/plain": "   user_id  month  minutes_tot  messages_tot  gb_used tariff       city\n0     1000      6        172.0          60.0     23.0  ultra  Краснодар\n1     1000      7        340.0          75.0     14.0  ultra  Краснодар\n2     1000      8        408.0          81.0     14.0  ultra  Краснодар\n3     1000      9        466.0          57.0     15.0  ultra  Краснодар\n4     1000     10        350.0          73.0     15.0  ultra  Краснодар"
          },
          "metadata": {}
        }
      ],
      "execution_count": 12,
      "metadata": {
        "execution": {
          "iopub.execute_input": "2022-04-29T13:55:40.506Z",
          "iopub.status.busy": "2022-04-29T13:55:40.476Z",
          "iopub.status.idle": "2022-04-29T13:55:40.570Z",
          "shell.execute_reply": "2022-04-29T13:55:38.574Z"
        },
        "jupyter": {
          "outputs_hidden": false,
          "source_hidden": false
        },
        "nteract": {
          "transient": {
            "deleting": false
          }
        },
        "scrolled": false
      }
    },
    {
      "cell_type": "markdown",
      "source": [
        "Добавим сведения о тарификации:  "
      ],
      "metadata": {}
    },
    {
      "cell_type": "code",
      "source": [
        "users_with_all = merge_with_test(users_with_all, tariffs.rename({'tariff_name' : 'tariff'}, axis=1), on=['tariff'], how='left')\n",
        "display(users_with_all.head())"
      ],
      "outputs": [
        {
          "output_type": "stream",
          "name": "stdout",
          "text": [
            "Объединение прошло успешно\n",
            "Получено 3032 записей\n",
            "--------------------------------------------------------------------------------\n"
          ]
        },
        {
          "output_type": "display_data",
          "data": {
            "text/html": "<div>\n<style scoped>\n    .dataframe tbody tr th:only-of-type {\n        vertical-align: middle;\n    }\n\n    .dataframe tbody tr th {\n        vertical-align: top;\n    }\n\n    .dataframe thead th {\n        text-align: right;\n    }\n</style>\n<table border=\"1\" class=\"dataframe\">\n  <thead>\n    <tr style=\"text-align: right;\">\n      <th></th>\n      <th>user_id</th>\n      <th>month</th>\n      <th>minutes_tot</th>\n      <th>messages_tot</th>\n      <th>gb_used</th>\n      <th>tariff</th>\n      <th>city</th>\n      <th>messages_included</th>\n      <th>mb_per_month_included</th>\n      <th>minutes_included</th>\n      <th>rub_monthly_fee</th>\n      <th>rub_per_gb</th>\n      <th>rub_per_message</th>\n      <th>rub_per_minute</th>\n    </tr>\n  </thead>\n  <tbody>\n    <tr>\n      <th>0</th>\n      <td>1000</td>\n      <td>6</td>\n      <td>172.0</td>\n      <td>60.0</td>\n      <td>23.0</td>\n      <td>ultra</td>\n      <td>Краснодар</td>\n      <td>1000</td>\n      <td>30720</td>\n      <td>3000</td>\n      <td>1950</td>\n      <td>150</td>\n      <td>1</td>\n      <td>1</td>\n    </tr>\n    <tr>\n      <th>1</th>\n      <td>1000</td>\n      <td>7</td>\n      <td>340.0</td>\n      <td>75.0</td>\n      <td>14.0</td>\n      <td>ultra</td>\n      <td>Краснодар</td>\n      <td>1000</td>\n      <td>30720</td>\n      <td>3000</td>\n      <td>1950</td>\n      <td>150</td>\n      <td>1</td>\n      <td>1</td>\n    </tr>\n    <tr>\n      <th>2</th>\n      <td>1000</td>\n      <td>8</td>\n      <td>408.0</td>\n      <td>81.0</td>\n      <td>14.0</td>\n      <td>ultra</td>\n      <td>Краснодар</td>\n      <td>1000</td>\n      <td>30720</td>\n      <td>3000</td>\n      <td>1950</td>\n      <td>150</td>\n      <td>1</td>\n      <td>1</td>\n    </tr>\n    <tr>\n      <th>3</th>\n      <td>1000</td>\n      <td>9</td>\n      <td>466.0</td>\n      <td>57.0</td>\n      <td>15.0</td>\n      <td>ultra</td>\n      <td>Краснодар</td>\n      <td>1000</td>\n      <td>30720</td>\n      <td>3000</td>\n      <td>1950</td>\n      <td>150</td>\n      <td>1</td>\n      <td>1</td>\n    </tr>\n    <tr>\n      <th>4</th>\n      <td>1000</td>\n      <td>10</td>\n      <td>350.0</td>\n      <td>73.0</td>\n      <td>15.0</td>\n      <td>ultra</td>\n      <td>Краснодар</td>\n      <td>1000</td>\n      <td>30720</td>\n      <td>3000</td>\n      <td>1950</td>\n      <td>150</td>\n      <td>1</td>\n      <td>1</td>\n    </tr>\n  </tbody>\n</table>\n</div>",
            "text/plain": "   user_id  month  minutes_tot  messages_tot  gb_used tariff       city  \\\n0     1000      6        172.0          60.0     23.0  ultra  Краснодар   \n1     1000      7        340.0          75.0     14.0  ultra  Краснодар   \n2     1000      8        408.0          81.0     14.0  ultra  Краснодар   \n3     1000      9        466.0          57.0     15.0  ultra  Краснодар   \n4     1000     10        350.0          73.0     15.0  ultra  Краснодар   \n\n   messages_included  mb_per_month_included  minutes_included  \\\n0               1000                  30720              3000   \n1               1000                  30720              3000   \n2               1000                  30720              3000   \n3               1000                  30720              3000   \n4               1000                  30720              3000   \n\n   rub_monthly_fee  rub_per_gb  rub_per_message  rub_per_minute  \n0             1950         150                1               1  \n1             1950         150                1               1  \n2             1950         150                1               1  \n3             1950         150                1               1  \n4             1950         150                1               1  "
          },
          "metadata": {}
        }
      ],
      "execution_count": 13,
      "metadata": {}
    },
    {
      "cell_type": "markdown",
      "source": [
        "После объединения в некоторых месяцах возникли пропуски, поскольку некоторые пользователи в эти месяцы полностью не пользовались одним из способов коммуникации. Заполним пропуски нулевыми значениями:"
      ],
      "metadata": {
        "nteract": {
          "transient": {
            "deleting": false
          }
        }
      }
    },
    {
      "cell_type": "code",
      "source": [
        "print('До заполнения:')\n",
        "print(users_with_all.isna().sum())\n",
        "\n",
        "print(users_with_all[users_with_all.month.isna()])\n",
        "users_with_all.fillna(0, inplace=True)\n",
        "print('После заполнения:')\n",
        "users_with_all.isna().sum()"
      ],
      "outputs": [
        {
          "output_type": "stream",
          "name": "stdout",
          "text": [
            "До заполнения:\n",
            "user_id                    0\n",
            "month                      0\n",
            "minutes_tot               37\n",
            "messages_tot             454\n",
            "gb_used                    8\n",
            "tariff                     0\n",
            "city                       0\n",
            "messages_included          0\n",
            "mb_per_month_included      0\n",
            "minutes_included           0\n",
            "rub_monthly_fee            0\n",
            "rub_per_gb                 0\n",
            "rub_per_message            0\n",
            "rub_per_minute             0\n",
            "dtype: int64\n",
            "Empty DataFrame\n",
            "Columns: [user_id, month, minutes_tot, messages_tot, gb_used, tariff, city, messages_included, mb_per_month_included, minutes_included, rub_monthly_fee, rub_per_gb, rub_per_message, rub_per_minute]\n",
            "Index: []\n",
            "После заполнения:\n"
          ]
        },
        {
          "output_type": "execute_result",
          "execution_count": 14,
          "data": {
            "text/plain": "user_id                  0\nmonth                    0\nminutes_tot              0\nmessages_tot             0\ngb_used                  0\ntariff                   0\ncity                     0\nmessages_included        0\nmb_per_month_included    0\nminutes_included         0\nrub_monthly_fee          0\nrub_per_gb               0\nrub_per_message          0\nrub_per_minute           0\ndtype: int64"
          },
          "metadata": {}
        }
      ],
      "execution_count": 14,
      "metadata": {
        "execution": {
          "iopub.execute_input": "2022-04-29T13:55:40.668Z",
          "iopub.status.busy": "2022-04-29T13:55:40.629Z",
          "iopub.status.idle": "2022-04-29T13:55:40.751Z",
          "shell.execute_reply": "2022-04-29T13:55:38.603Z"
        },
        "jupyter": {
          "outputs_hidden": false,
          "source_hidden": false
        },
        "nteract": {
          "transient": {
            "deleting": false
          }
        },
        "scrolled": false
      }
    },
    {
      "cell_type": "markdown",
      "source": [
        "#### Расчет месячного расхода"
      ],
      "metadata": {
        "nteract": {
          "transient": {
            "deleting": false
          }
        }
      }
    },
    {
      "cell_type": "markdown",
      "source": [
        "Определим услуги сверх входящих в пакет:"
      ],
      "metadata": {
        "nteract": {
          "transient": {
            "deleting": false
          }
        }
      }
    },
    {
      "cell_type": "code",
      "source": [
        "#Дополнительные минуты\n",
        "users_with_all['minutes_not_included'] = users_with_all['minutes_tot'] - users_with_all['minutes_included']\n",
        "users_with_all['minutes_not_included'] = users_with_all['minutes_not_included'].apply(lambda x: x if x > 0 else 0)\n",
        "\n",
        "#Дополнительные сообщения\n",
        "users_with_all['messages_not_included'] = users_with_all['messages_tot'] - users_with_all['messages_included']\n",
        "users_with_all['messages_not_included'] = users_with_all['messages_not_included'].apply(lambda x: x if x > 0 else 0)\n",
        "\n",
        "#Дополнительный трафик\n",
        "users_with_all['gb_not_included'] = users_with_all['gb_used'] - users_with_all['mb_per_month_included'] / 1024\n",
        "users_with_all['gb_not_included'] = users_with_all['gb_not_included'].apply(lambda x: x if x > 0 else 0)\n",
        "\n",
        "users_with_all.head()"
      ],
      "outputs": [
        {
          "output_type": "execute_result",
          "execution_count": 15,
          "data": {
            "text/html": "<div>\n<style scoped>\n    .dataframe tbody tr th:only-of-type {\n        vertical-align: middle;\n    }\n\n    .dataframe tbody tr th {\n        vertical-align: top;\n    }\n\n    .dataframe thead th {\n        text-align: right;\n    }\n</style>\n<table border=\"1\" class=\"dataframe\">\n  <thead>\n    <tr style=\"text-align: right;\">\n      <th></th>\n      <th>user_id</th>\n      <th>month</th>\n      <th>minutes_tot</th>\n      <th>messages_tot</th>\n      <th>gb_used</th>\n      <th>tariff</th>\n      <th>city</th>\n      <th>messages_included</th>\n      <th>mb_per_month_included</th>\n      <th>minutes_included</th>\n      <th>rub_monthly_fee</th>\n      <th>rub_per_gb</th>\n      <th>rub_per_message</th>\n      <th>rub_per_minute</th>\n      <th>minutes_not_included</th>\n      <th>messages_not_included</th>\n      <th>gb_not_included</th>\n    </tr>\n  </thead>\n  <tbody>\n    <tr>\n      <th>0</th>\n      <td>1000</td>\n      <td>6</td>\n      <td>172.0</td>\n      <td>60.0</td>\n      <td>23.0</td>\n      <td>ultra</td>\n      <td>Краснодар</td>\n      <td>1000</td>\n      <td>30720</td>\n      <td>3000</td>\n      <td>1950</td>\n      <td>150</td>\n      <td>1</td>\n      <td>1</td>\n      <td>0.0</td>\n      <td>0.0</td>\n      <td>0.0</td>\n    </tr>\n    <tr>\n      <th>1</th>\n      <td>1000</td>\n      <td>7</td>\n      <td>340.0</td>\n      <td>75.0</td>\n      <td>14.0</td>\n      <td>ultra</td>\n      <td>Краснодар</td>\n      <td>1000</td>\n      <td>30720</td>\n      <td>3000</td>\n      <td>1950</td>\n      <td>150</td>\n      <td>1</td>\n      <td>1</td>\n      <td>0.0</td>\n      <td>0.0</td>\n      <td>0.0</td>\n    </tr>\n    <tr>\n      <th>2</th>\n      <td>1000</td>\n      <td>8</td>\n      <td>408.0</td>\n      <td>81.0</td>\n      <td>14.0</td>\n      <td>ultra</td>\n      <td>Краснодар</td>\n      <td>1000</td>\n      <td>30720</td>\n      <td>3000</td>\n      <td>1950</td>\n      <td>150</td>\n      <td>1</td>\n      <td>1</td>\n      <td>0.0</td>\n      <td>0.0</td>\n      <td>0.0</td>\n    </tr>\n    <tr>\n      <th>3</th>\n      <td>1000</td>\n      <td>9</td>\n      <td>466.0</td>\n      <td>57.0</td>\n      <td>15.0</td>\n      <td>ultra</td>\n      <td>Краснодар</td>\n      <td>1000</td>\n      <td>30720</td>\n      <td>3000</td>\n      <td>1950</td>\n      <td>150</td>\n      <td>1</td>\n      <td>1</td>\n      <td>0.0</td>\n      <td>0.0</td>\n      <td>0.0</td>\n    </tr>\n    <tr>\n      <th>4</th>\n      <td>1000</td>\n      <td>10</td>\n      <td>350.0</td>\n      <td>73.0</td>\n      <td>15.0</td>\n      <td>ultra</td>\n      <td>Краснодар</td>\n      <td>1000</td>\n      <td>30720</td>\n      <td>3000</td>\n      <td>1950</td>\n      <td>150</td>\n      <td>1</td>\n      <td>1</td>\n      <td>0.0</td>\n      <td>0.0</td>\n      <td>0.0</td>\n    </tr>\n  </tbody>\n</table>\n</div>",
            "text/plain": "   user_id  month  minutes_tot  messages_tot  gb_used tariff       city  \\\n0     1000      6        172.0          60.0     23.0  ultra  Краснодар   \n1     1000      7        340.0          75.0     14.0  ultra  Краснодар   \n2     1000      8        408.0          81.0     14.0  ultra  Краснодар   \n3     1000      9        466.0          57.0     15.0  ultra  Краснодар   \n4     1000     10        350.0          73.0     15.0  ultra  Краснодар   \n\n   messages_included  mb_per_month_included  minutes_included  \\\n0               1000                  30720              3000   \n1               1000                  30720              3000   \n2               1000                  30720              3000   \n3               1000                  30720              3000   \n4               1000                  30720              3000   \n\n   rub_monthly_fee  rub_per_gb  rub_per_message  rub_per_minute  \\\n0             1950         150                1               1   \n1             1950         150                1               1   \n2             1950         150                1               1   \n3             1950         150                1               1   \n4             1950         150                1               1   \n\n   minutes_not_included  messages_not_included  gb_not_included  \n0                   0.0                    0.0              0.0  \n1                   0.0                    0.0              0.0  \n2                   0.0                    0.0              0.0  \n3                   0.0                    0.0              0.0  \n4                   0.0                    0.0              0.0  "
          },
          "metadata": {}
        }
      ],
      "execution_count": 15,
      "metadata": {
        "execution": {
          "iopub.execute_input": "2022-04-29T13:55:40.851Z",
          "iopub.status.busy": "2022-04-29T13:55:40.817Z",
          "iopub.status.idle": "2022-04-29T13:55:40.924Z",
          "shell.execute_reply": "2022-04-29T13:55:38.631Z"
        },
        "jupyter": {
          "outputs_hidden": false,
          "source_hidden": false
        },
        "nteract": {
          "transient": {
            "deleting": false
          }
        }
      }
    },
    {
      "cell_type": "markdown",
      "source": [
        "Рассчитаем месячную оплату:"
      ],
      "metadata": {
        "nteract": {
          "transient": {
            "deleting": false
          }
        }
      }
    },
    {
      "cell_type": "code",
      "source": [
        "users_with_all['total_monthly_fee'] = (users_with_all['rub_monthly_fee'] \n",
        "                                       + users_with_all['minutes_not_included'] * users_with_all['rub_per_minute']\n",
        "                                       + users_with_all['messages_not_included'] * users_with_all['rub_per_message']\n",
        "                                       + users_with_all['gb_not_included'] * users_with_all['rub_per_gb']\n",
        "                                      )"
      ],
      "outputs": [],
      "execution_count": 16,
      "metadata": {
        "execution": {
          "iopub.execute_input": "2022-04-29T13:55:41.017Z",
          "iopub.status.busy": "2022-04-29T13:55:40.982Z",
          "iopub.status.idle": "2022-04-29T13:55:41.059Z",
          "shell.execute_reply": "2022-04-29T13:55:38.660Z"
        },
        "jupyter": {
          "outputs_hidden": false,
          "source_hidden": false
        },
        "nteract": {
          "transient": {
            "deleting": false
          }
        },
        "scrolled": true
      }
    },
    {
      "cell_type": "markdown",
      "source": [
        "### Вывод\n",
        "Данные преобразованы к необходимым типам, отброшены записи по действиям совершенным в месяц подключения / отключения тарифа, если клиент пользовался тарифом менее 10 дней в этом месяце.  \n",
        "Объединены данные по всем типам действий и расчитан месячный расход для каждого пользователя и каждого месяца."
      ],
      "metadata": {}
    },
    {
      "cell_type": "markdown",
      "source": [
        "## Предварительный анализ данных"
      ],
      "metadata": {
        "nteract": {
          "transient": {
            "deleting": false
          }
        }
      }
    },
    {
      "cell_type": "markdown",
      "source": [
        "### Анализ центральных моментов\n",
        "\n",
        "Для комфортного анализа разных центральных моментов зададим общую функцию:"
      ],
      "metadata": {
        "nteract": {
          "transient": {
            "deleting": false
          }
        }
      }
    },
    {
      "cell_type": "code",
      "source": [
        "def spendings_agg(table, aggfunc, decimals=2):  \n",
        "    spendings_aggregated = (users_with_all\n",
        "        .groupby('tariff')[['minutes_tot', 'messages_tot', 'gb_used']]\n",
        "        .agg(aggfunc)\n",
        "        .round(decimals=2)\n",
        "        .rename({'minutes_tot' : 'Разговоры, мин',\n",
        "                 'messages_tot' : 'Сообщения, шт.',\n",
        "                 'gb_used' : 'Интернет трафик, Гб'}, axis=1)) \n",
        "    return spendings_aggregated"
      ],
      "outputs": [],
      "execution_count": 17,
      "metadata": {}
    },
    {
      "cell_type": "markdown",
      "source": [
        "Средние значения расходов по тарифам:"
      ],
      "metadata": {}
    },
    {
      "cell_type": "code",
      "source": [
        "spendings_mean = spendings_agg(users_with_all, 'mean')\n",
        "spendings_mean"
      ],
      "outputs": [
        {
          "output_type": "execute_result",
          "execution_count": 18,
          "data": {
            "text/html": "<div>\n<style scoped>\n    .dataframe tbody tr th:only-of-type {\n        vertical-align: middle;\n    }\n\n    .dataframe tbody tr th {\n        vertical-align: top;\n    }\n\n    .dataframe thead th {\n        text-align: right;\n    }\n</style>\n<table border=\"1\" class=\"dataframe\">\n  <thead>\n    <tr style=\"text-align: right;\">\n      <th></th>\n      <th>Разговоры, мин</th>\n      <th>Сообщения, шт.</th>\n      <th>Интернет трафик, Гб</th>\n    </tr>\n    <tr>\n      <th>tariff</th>\n      <th></th>\n      <th></th>\n      <th></th>\n    </tr>\n  </thead>\n  <tbody>\n    <tr>\n      <th>smart</th>\n      <td>434.69</td>\n      <td>34.82</td>\n      <td>16.98</td>\n    </tr>\n    <tr>\n      <th>ultra</th>\n      <td>553.24</td>\n      <td>51.71</td>\n      <td>20.43</td>\n    </tr>\n  </tbody>\n</table>\n</div>",
            "text/plain": "        Разговоры, мин  Сообщения, шт.  Интернет трафик, Гб\ntariff                                                     \nsmart           434.69           34.82                16.98\nultra           553.24           51.71                20.43"
          },
          "metadata": {}
        }
      ],
      "execution_count": 18,
      "metadata": {
        "execution": {
          "iopub.execute_input": "2022-04-29T13:55:41.151Z",
          "iopub.status.busy": "2022-04-29T13:55:41.112Z",
          "iopub.status.idle": "2022-04-29T13:55:41.221Z",
          "shell.execute_reply": "2022-04-29T13:55:38.694Z"
        },
        "jupyter": {
          "outputs_hidden": false,
          "source_hidden": false
        },
        "nteract": {
          "transient": {
            "deleting": false
          }
        },
        "scrolled": false
      }
    },
    {
      "cell_type": "code",
      "source": [
        "(spendings_mean.loc['ultra',:] / spendings_mean.loc['smart', :]).round(2)"
      ],
      "outputs": [
        {
          "output_type": "execute_result",
          "execution_count": 19,
          "data": {
            "text/plain": "Разговоры, мин         1.27\nСообщения, шт.         1.49\nИнтернет трафик, Гб    1.20\ndtype: float64"
          },
          "metadata": {}
        }
      ],
      "execution_count": 19,
      "metadata": {
        "execution": {
          "iopub.execute_input": "2022-04-29T13:55:41.312Z",
          "iopub.status.busy": "2022-04-29T13:55:41.272Z",
          "iopub.status.idle": "2022-04-29T13:55:41.377Z",
          "shell.execute_reply": "2022-04-29T13:55:38.727Z"
        },
        "jupyter": {
          "outputs_hidden": false,
          "source_hidden": false
        },
        "nteract": {
          "transient": {
            "deleting": false
          }
        },
        "scrolled": true
      }
    },
    {
      "cell_type": "markdown",
      "source": [
        "Расходуемое количество минут, сообщений и Гб интернет трафика у пользователей тарифа \"Ультра\" превышает аналогичные количества для пользователей тарифа \"Смарт\" в 1,2 - 1,5 раз. Наибольшее отличие средних наблюдается для числа SMS-сообщений.  \n",
        "\n",
        "Рассмотрим дисперсию различных расходов по тарифам:"
      ],
      "metadata": {
        "nteract": {
          "transient": {
            "deleting": false
          }
        }
      }
    },
    {
      "cell_type": "code",
      "source": [
        "spendings_agg(users_with_all, 'var')"
      ],
      "outputs": [
        {
          "output_type": "execute_result",
          "execution_count": 20,
          "data": {
            "text/html": "<div>\n<style scoped>\n    .dataframe tbody tr th:only-of-type {\n        vertical-align: middle;\n    }\n\n    .dataframe tbody tr th {\n        vertical-align: top;\n    }\n\n    .dataframe thead th {\n        text-align: right;\n    }\n</style>\n<table border=\"1\" class=\"dataframe\">\n  <thead>\n    <tr style=\"text-align: right;\">\n      <th></th>\n      <th>Разговоры, мин</th>\n      <th>Сообщения, шт.</th>\n      <th>Интернет трафик, Гб</th>\n    </tr>\n    <tr>\n      <th>tariff</th>\n      <th></th>\n      <th></th>\n      <th></th>\n    </tr>\n  </thead>\n  <tbody>\n    <tr>\n      <th>smart</th>\n      <td>32212.7</td>\n      <td>794.84</td>\n      <td>25.84</td>\n    </tr>\n    <tr>\n      <th>ultra</th>\n      <td>94850.4</td>\n      <td>2314.31</td>\n      <td>87.55</td>\n    </tr>\n  </tbody>\n</table>\n</div>",
            "text/plain": "        Разговоры, мин  Сообщения, шт.  Интернет трафик, Гб\ntariff                                                     \nsmart          32212.7          794.84                25.84\nultra          94850.4         2314.31                87.55"
          },
          "metadata": {}
        }
      ],
      "execution_count": 20,
      "metadata": {
        "execution": {
          "iopub.execute_input": "2022-04-29T13:55:41.481Z",
          "iopub.status.busy": "2022-04-29T13:55:41.438Z",
          "iopub.status.idle": "2022-04-29T13:55:41.542Z",
          "shell.execute_reply": "2022-04-29T13:55:38.764Z"
        },
        "jupyter": {
          "outputs_hidden": false,
          "source_hidden": false
        },
        "nteract": {
          "transient": {
            "deleting": false
          }
        },
        "scrolled": true
      }
    },
    {
      "cell_type": "markdown",
      "source": [
        "Стандартное отклонение для расходов по тарифам:"
      ],
      "metadata": {
        "nteract": {
          "transient": {
            "deleting": false
          }
        }
      }
    },
    {
      "cell_type": "code",
      "source": [
        "spendings_std = spendings_agg(users_with_all, 'std')\n",
        "\n",
        "display(spendings_std)"
      ],
      "outputs": [
        {
          "output_type": "display_data",
          "data": {
            "text/html": "<div>\n<style scoped>\n    .dataframe tbody tr th:only-of-type {\n        vertical-align: middle;\n    }\n\n    .dataframe tbody tr th {\n        vertical-align: top;\n    }\n\n    .dataframe thead th {\n        text-align: right;\n    }\n</style>\n<table border=\"1\" class=\"dataframe\">\n  <thead>\n    <tr style=\"text-align: right;\">\n      <th></th>\n      <th>Разговоры, мин</th>\n      <th>Сообщения, шт.</th>\n      <th>Интернет трафик, Гб</th>\n    </tr>\n    <tr>\n      <th>tariff</th>\n      <th></th>\n      <th></th>\n      <th></th>\n    </tr>\n  </thead>\n  <tbody>\n    <tr>\n      <th>smart</th>\n      <td>179.48</td>\n      <td>28.19</td>\n      <td>5.08</td>\n    </tr>\n    <tr>\n      <th>ultra</th>\n      <td>307.98</td>\n      <td>48.11</td>\n      <td>9.36</td>\n    </tr>\n  </tbody>\n</table>\n</div>",
            "text/plain": "        Разговоры, мин  Сообщения, шт.  Интернет трафик, Гб\ntariff                                                     \nsmart           179.48           28.19                 5.08\nultra           307.98           48.11                 9.36"
          },
          "metadata": {}
        }
      ],
      "execution_count": 21,
      "metadata": {
        "execution": {
          "iopub.execute_input": "2022-04-29T13:55:41.632Z",
          "iopub.status.busy": "2022-04-29T13:55:41.597Z",
          "iopub.status.idle": "2022-04-29T13:55:41.716Z",
          "shell.execute_reply": "2022-04-29T13:55:42.193Z"
        },
        "jupyter": {
          "outputs_hidden": false,
          "source_hidden": false
        },
        "nteract": {
          "transient": {
            "deleting": false
          }
        },
        "scrolled": true
      }
    },
    {
      "cell_type": "markdown",
      "source": [
        "Дисперсия и стандартное отклонение для тарифа \"Ультра\" по всем параметров превышают значения для тарифа \"Смарт\"."
      ],
      "metadata": {
        "nteract": {
          "transient": {
            "deleting": false
          }
        }
      }
    },
    {
      "cell_type": "markdown",
      "source": [
        "Рассмотрим гистограммы распределений расходов по обоим тарифам:"
      ],
      "metadata": {
        "nteract": {
          "transient": {
            "deleting": false
          }
        }
      }
    },
    {
      "cell_type": "code",
      "source": [
        "fig, axes = plt.subplots(1,3, figsize=(16,4))\n",
        "i = 0\n",
        "tariffs['gb_included'] = tariffs['mb_per_month_included']/1024\n",
        "\n",
        "for parameter, included_name in  {'minutes_tot' : 'minutes_included', \n",
        "                                  'messages_tot' : 'messages_included',\n",
        "                                  'gb_used' : 'gb_included'\n",
        "                                 }.items():\n",
        "    users_with_all[users_with_all['tariff']=='smart'][parameter].hist(bins=30, density=False, ax=axes[i])\n",
        "    users_with_all[users_with_all['tariff']=='ultra'][parameter].hist(bins=30, density=False, alpha=0.5, ax=axes[i])\n",
        "    axes[i].legend(['Смарт', 'Ультра'])\n",
        "    axes[i].axvline(tariffs.loc[0, included_name], linestyle='--', color='red')\n",
        "    axes[i].axvline(tariffs.loc[1, included_name], linestyle='--', color='red')\n",
        "    i += 1\n",
        "\n",
        "axes[0].set_title('Разговоры, минут')\n",
        "axes[1].set_title('SMS-сообщения, шт.')\n",
        "axes[2].set_title('Интернет трафик, Гб')\n"
      ],
      "outputs": [
        {
          "output_type": "execute_result",
          "execution_count": 22,
          "data": {
            "text/plain": "Text(0.5, 1.0, 'Интернет трафик, Гб')"
          },
          "metadata": {}
        },
        {
          "output_type": "display_data",
          "data": {
            "image/png": "[encoded data removed]",
            "text/plain": "<Figure size 1152x288 with 3 Axes>"
          },
          "metadata": {
            "needs_background": "light"
          }
        }
      ],
      "execution_count": 22,
      "metadata": {
        "execution": {
          "iopub.execute_input": "2022-04-29T13:55:41.998Z",
          "iopub.status.busy": "2022-04-29T13:55:41.967Z",
          "iopub.status.idle": "2022-04-29T13:55:42.370Z",
          "shell.execute_reply": "2022-04-29T13:55:42.823Z"
        },
        "jupyter": {
          "outputs_hidden": false,
          "source_hidden": false
        },
        "nteract": {
          "transient": {
            "deleting": false
          }
        },
        "scrolled": true
      }
    },
    {
      "cell_type": "markdown",
      "source": [
        "Наблюдаются практически нормальные распредлеения для количества минут разговоров и израсходованного интернет трафика, распределения числа SMS-сообщений в первом приближении имеют форму распределения Пуассона, что и следовало ожидать.  \n",
        "На гистограммах длительности разговоров и числа SMS-сообщений выделяют пики, соответствующие 0. Частично такие значения были добавлены при объединении данных, однако даже с учетом этого число нулевых значений велико - некоторые клиенты принципиально не пользуются SMS-сообщениями, а некоторые не разговаривают. Возможно такие клиенты используют сим-карту исключетельно для использования интернета (модемы, планшеты и т.д.).  \n",
        "Распределения для обоих тарифов имеют похожую форму. Как было сказано при рассмотрении центральных моментов - для пользователей тарифа \"Ультра\" характерна большая диспресия значений расходов.  \n",
        "Можно заметить, что по продложительности разговоров и числу сообщений пользователи тарифа \"Ультра\" не превышают лимитов красные линии), а по количеству интернет трафика зачастую превышают лимит, а кроме того стремяться выбрать весь лимит (второй максимум около 30 Гб).  \n",
        "Пользователи тарифа \"Смарт\" часто превышают лимиты по всем трем направлениям.\n",
        "\n"
      ],
      "metadata": {
        "nteract": {
          "transient": {
            "deleting": false
          }
        }
      }
    },
    {
      "cell_type": "markdown",
      "source": [
        "## Анализ расходов пользователей"
      ],
      "metadata": {
        "nteract": {
          "transient": {
            "deleting": false
          }
        }
      }
    },
    {
      "cell_type": "markdown",
      "source": [
        "### Сравнение расходов пользователей разных тарифов"
      ],
      "metadata": {}
    },
    {
      "cell_type": "markdown",
      "source": [
        "Оценим среднее значение и дисперсию месячных расходов для пользователей разных тарифов:"
      ],
      "metadata": {}
    },
    {
      "cell_type": "code",
      "source": [
        "tariff_fees = users_with_all.pivot_table(index='tariff', values='total_monthly_fee', aggfunc=['mean', 'std']).round(1)\n",
        "tariff_fees.columns =['Средняя плата', 'Стандартное отклонение']\n",
        "tariff_fees"
      ],
      "outputs": [
        {
          "output_type": "execute_result",
          "execution_count": 23,
          "data": {
            "text/html": "<div>\n<style scoped>\n    .dataframe tbody tr th:only-of-type {\n        vertical-align: middle;\n    }\n\n    .dataframe tbody tr th {\n        vertical-align: top;\n    }\n\n    .dataframe thead th {\n        text-align: right;\n    }\n</style>\n<table border=\"1\" class=\"dataframe\">\n  <thead>\n    <tr style=\"text-align: right;\">\n      <th></th>\n      <th>Средняя плата</th>\n      <th>Стандартное отклонение</th>\n    </tr>\n    <tr>\n      <th>tariff</th>\n      <th></th>\n      <th></th>\n    </tr>\n  </thead>\n  <tbody>\n    <tr>\n      <th>smart</th>\n      <td>1327.7</td>\n      <td>821.8</td>\n    </tr>\n    <tr>\n      <th>ultra</th>\n      <td>2078.1</td>\n      <td>387.1</td>\n    </tr>\n  </tbody>\n</table>\n</div>",
            "text/plain": "        Средняя плата  Стандартное отклонение\ntariff                                       \nsmart          1327.7                   821.8\nultra          2078.1                   387.1"
          },
          "metadata": {}
        }
      ],
      "execution_count": 23,
      "metadata": {}
    },
    {
      "cell_type": "markdown",
      "source": [
        "Средняя месячная плата для пользователей тарифа \"Ультра\" в 1,5 раза превышает среднюю плату пользователей тарифа \"Смарт\", при этом стандартное отклонение для платы по тарифу \"Ультра\" существенно меньше чем по тарифу \"Смарт\".  \n",
        "Это объясняется тем, что пользователи тарифа \"Ультра\" редко превышают бесплатные лимиты, поэтому средняя плата по тарифу близка к абонентской плате, а стандартное отклонение не велико. Рассмотрим гистограммы распределения месячной платы по тарифам. "
      ],
      "metadata": {}
    },
    {
      "cell_type": "code",
      "source": [
        "users_with_all[users_with_all['tariff']=='smart']['total_monthly_fee'].hist(bins=20, density=True, label='Смарт')\n",
        "users_with_all[users_with_all['tariff']=='ultra']['total_monthly_fee'].hist(bins=20, density=True, alpha=0.5, label='Ультра')\n",
        "plt.legend()"
      ],
      "outputs": [
        {
          "output_type": "execute_result",
          "execution_count": 24,
          "data": {
            "text/plain": "<matplotlib.legend.Legend at 0x7f55390fa850>"
          },
          "metadata": {}
        },
        {
          "output_type": "display_data",
          "data": {
            "image/png": "[encoded data removed]",
            "text/plain": "<Figure size 432x288 with 1 Axes>"
          },
          "metadata": {
            "needs_background": "light"
          }
        }
      ],
      "execution_count": 24,
      "metadata": {}
    },
    {
      "cell_type": "markdown",
      "source": [
        "Среди пользователей тарифа \"Ультра\" практически все пользователи платят исключительно абонентскую плату. Среди пользователей тарифа \"Смарт\", платящие только абоненсткую плату также выделяются, но не столь сильно.\n",
        "Проверим статистическую значимость гипотезы о том, что пользователи тарифа \"Ультра\" платят больше пользователей тарифа \"Смарт\", против нулевой гипотезы о равенстве месячных расходов пользователей обоих тарифов. Используем для этого двухвыборочных t-тест:"
      ],
      "metadata": {}
    },
    {
      "cell_type": "code",
      "source": [
        "results = st.ttest_ind(users_with_all[users_with_all['tariff']=='smart']['total_monthly_fee'],\n",
        "               users_with_all[users_with_all['tariff']=='ultra']['total_monthly_fee']\n",
        "  \n",
        ")\n",
        "print(\"p-значение:\", results.pvalue)"
      ],
      "outputs": [
        {
          "output_type": "stream",
          "name": "stdout",
          "text": [
            "p-значение: 2.6059324173924516e-139\n"
          ]
        }
      ],
      "execution_count": 25,
      "metadata": {
        "scrolled": true
      }
    },
    {
      "cell_type": "markdown",
      "source": [
        "Полученное p-значение крайне мало, ниже любой разумной границы для отказа от нулевой гипотезы. Следовательно с очень большой уверенностью можно говорить о различии расходов пользователей различных тарифов."
      ],
      "metadata": {}
    },
    {
      "cell_type": "markdown",
      "source": [
        "### Сравнение расходов пользователей из разных городов"
      ],
      "metadata": {}
    },
    {
      "cell_type": "markdown",
      "source": [
        "Согласно описанию проекта треуется сравнить расходы пользователей из Москвы и других городов. Рассмотрим гистограммы распределения расходов пользователей из Москвы и других городов:"
      ],
      "metadata": {}
    },
    {
      "cell_type": "code",
      "source": [
        "users_with_all[users_with_all['city']=='Москва']['total_monthly_fee'].hist(bins=20, density=True, label='Москва')\n",
        "users_with_all[users_with_all['city']!='Москва']['total_monthly_fee'].hist(bins=20, density=True, alpha=0.5, label='Другие города')\n",
        "plt.legend()"
      ],
      "outputs": [
        {
          "output_type": "execute_result",
          "execution_count": 26,
          "data": {
            "text/plain": "<matplotlib.legend.Legend at 0x7f5538f78e20>"
          },
          "metadata": {}
        },
        {
          "output_type": "display_data",
          "data": {
            "image/png": "[encoded data removed]",
            "text/plain": "<Figure size 432x288 with 1 Axes>"
          },
          "metadata": {
            "needs_background": "light"
          }
        }
      ],
      "execution_count": 26,
      "metadata": {}
    },
    {
      "cell_type": "markdown",
      "source": [
        "Как следует из гистограмм, распределения расходов для Москвы и других городов практически совпадают. Большая доля расходов около 2000 руб., по всей видимости связана с большей популярностью тарифа \"Ультра\" в Москве, по сравнению с другими городами. Можно предположить что расходы в Москве будут несколько больше, чем в других городах. Сравним средние расходы:"
      ],
      "metadata": {}
    },
    {
      "cell_type": "code",
      "source": [
        "msc_fee = users_with_all[users_with_all['city']=='Москва']['total_monthly_fee'].mean()\n",
        "not_msc_fee = users_with_all[users_with_all['city']!='Москва']['total_monthly_fee'].mean()\n",
        "print(f\"Средний расход пользователей в Москве: {msc_fee:0.1f}\")\n",
        "print(f\"Средний расход пользователей в других городах: {not_msc_fee:0.1f}\")"
      ],
      "outputs": [
        {
          "output_type": "stream",
          "name": "stdout",
          "text": [
            "Средний расход пользователей в Москве: 1574.0\n",
            "Средний расход пользователей в других городах: 1552.2\n"
          ]
        }
      ],
      "execution_count": 27,
      "metadata": {}
    },
    {
      "cell_type": "markdown",
      "source": [
        "Средний расход в Москве действительно немного больше, чем в других городах. Проверим статистическую значимость такого различия:"
      ],
      "metadata": {}
    },
    {
      "cell_type": "code",
      "source": [
        "results_msc = st.ttest_ind(users_with_all[users_with_all['city']=='Москва']['total_monthly_fee'],\n",
        "             users_with_all[users_with_all['city']!='Москва']['total_monthly_fee']\n",
        "            )\n",
        "print(\"p-значение:\", results_msc.pvalue)"
      ],
      "outputs": [
        {
          "output_type": "stream",
          "name": "stdout",
          "text": [
            "p-значение: 0.5525551503378081\n"
          ]
        }
      ],
      "execution_count": 28,
      "metadata": {}
    },
    {
      "cell_type": "markdown",
      "source": [
        "Вероятность случайно получить такое же или большее различие составляет ~0.55, следовательно гипотезу о различии расходов в Москве и других городах следует с большой уверенностью отклонить."
      ],
      "metadata": {}
    },
    {
      "cell_type": "markdown",
      "source": [
        "### Вывод\n",
        "\n",
        "Пользователи тарифа \"Ультра\" редко превышают бесплатные лимиты, однако большая абоненстная плата приводит к значимому (p-значение $ 2,6\\cdot 10^{-139} $) отличию средней месячной платы по тарифу \"Ультра\" по сравнению с тарифом \"Смарт\".  \n",
        "\n",
        "Распределения расходов для клиентов из Москвы и других городов практически совпадают. Для Москвы характерна немного большая доля расходов около 2000 руб., по всей видимости связаная с большей популярностью тарифа \"Ультра\" в Москве.  \n",
        "Статистически значимые различия в средних месячных расходах пользователей из Москвы и других городов отсутствуют (p-значение 0,55)."
      ],
      "metadata": {}
    },
    {
      "cell_type": "markdown",
      "source": [
        "## Общий вывод\n",
        "\n",
        "Наблюдаются практически нормальные распределения для количества минут разговоров и израсходованного интернет трафика, распределения числа SMS-сообщений для обоих тарифов.  \n",
        "Некоторые клиенты не пользуются SMS-сообщениями, а некоторые не совершают звонки. Вероятно такие клиенты используют сим-карту исключетельно для использования интернета (модемы, планшеты и т.д.).  \n",
        "\n",
        "Пользователи тарифа \"Ультра\" редко превышают бесплатные лимиты, однако большая абоненстная плата приводит к значимому (p-значение $ 2,6\\cdot 10^{-139} $) отличию средней месячной платы по тарифу \"Ультра\" по сравнению с тарифом \"Смарт\". Средние месячные расходы клиентов по тарифам \"Смарт\" и \"Ультра\" составляют 1328 и 2078 руб. соответственно.  \n",
        "\n",
        "Распределения расходов для клиентов из Москвы и других городов практически совпадают. Для Москвы характерна немного большая доля расходов около 2000 руб., по всей видимости связаная с большей популярностью тарифа \"Ультра\" в Москве.  \n",
        "Статистически значимые различия в средних месячных расходах пользователей из Москвы и других городов отсутствуют (p-значение 0,55)."
      ],
      "metadata": {}
    }
  ],
  "metadata": {
    "ExecuteTimeLog": [
      {
        "duration": 1133,
        "start_time": "2022-04-30T18:55:34.725Z"
      },
      {
        "duration": 404,
        "start_time": "2022-04-30T18:55:35.860Z"
      },
      {
        "duration": 19,
        "start_time": "2022-04-30T18:55:36.266Z"
      },
      {
        "duration": 84,
        "start_time": "2022-04-30T18:55:36.287Z"
      },
      {
        "duration": 161,
        "start_time": "2022-04-30T18:55:36.401Z"
      },
      {
        "duration": 406,
        "start_time": "2022-04-30T18:55:36.564Z"
      },
      {
        "duration": 85,
        "start_time": "2022-04-30T18:55:36.972Z"
      },
      {
        "duration": 31,
        "start_time": "2022-04-30T18:55:37.058Z"
      },
      {
        "duration": 42,
        "start_time": "2022-04-30T18:55:37.090Z"
      },
      {
        "duration": 16,
        "start_time": "2022-04-30T18:55:37.135Z"
      },
      {
        "duration": 27,
        "start_time": "2022-04-30T18:55:37.152Z"
      },
      {
        "duration": 17,
        "start_time": "2022-04-30T18:55:37.200Z"
      },
      {
        "duration": 22,
        "start_time": "2022-04-30T18:55:37.219Z"
      },
      {
        "duration": 5,
        "start_time": "2022-04-30T18:55:37.242Z"
      },
      {
        "duration": 15,
        "start_time": "2022-04-30T18:55:37.249Z"
      },
      {
        "duration": 5,
        "start_time": "2022-04-30T18:55:37.266Z"
      },
      {
        "duration": 17,
        "start_time": "2022-04-30T18:55:37.301Z"
      },
      {
        "duration": 11,
        "start_time": "2022-04-30T18:55:37.319Z"
      },
      {
        "duration": 6,
        "start_time": "2022-04-30T18:55:37.332Z"
      },
      {
        "duration": 935,
        "start_time": "2022-04-30T18:55:37.340Z"
      },
      {
        "duration": 24,
        "start_time": "2022-04-30T18:55:38.277Z"
      },
      {
        "duration": 8,
        "start_time": "2022-04-30T18:55:38.302Z"
      },
      {
        "duration": 185,
        "start_time": "2022-04-30T18:55:38.312Z"
      },
      {
        "duration": 21,
        "start_time": "2022-04-30T18:55:38.500Z"
      },
      {
        "duration": 76,
        "start_time": "2022-04-30T19:00:52.372Z"
      },
      {
        "duration": 92,
        "start_time": "2022-04-30T19:01:27.813Z"
      },
      {
        "duration": 90,
        "start_time": "2022-04-30T19:01:43.071Z"
      },
      {
        "duration": 191,
        "start_time": "2022-04-30T19:01:50.137Z"
      },
      {
        "duration": 118,
        "start_time": "2022-04-30T19:01:53.901Z"
      },
      {
        "duration": 4,
        "start_time": "2022-04-30T19:03:55.660Z"
      },
      {
        "duration": 8,
        "start_time": "2022-04-30T19:04:00.755Z"
      },
      {
        "duration": 94,
        "start_time": "2022-04-30T19:04:13.807Z"
      },
      {
        "duration": 78,
        "start_time": "2022-04-30T19:04:36.204Z"
      },
      {
        "duration": 78,
        "start_time": "2022-04-30T19:05:27.045Z"
      },
      {
        "duration": 77,
        "start_time": "2022-04-30T19:05:40.734Z"
      },
      {
        "duration": 85,
        "start_time": "2022-04-30T19:05:46.155Z"
      },
      {
        "duration": 82,
        "start_time": "2022-04-30T19:06:09.689Z"
      },
      {
        "duration": 119,
        "start_time": "2022-04-30T19:06:50.102Z"
      },
      {
        "duration": 4095,
        "start_time": "2022-04-30T19:36:15.459Z"
      },
      {
        "duration": 4611,
        "start_time": "2022-04-30T19:36:42.185Z"
      },
      {
        "duration": 3066,
        "start_time": "2022-04-30T19:37:16.260Z"
      },
      {
        "duration": 3155,
        "start_time": "2022-04-30T19:38:58.840Z"
      },
      {
        "duration": 57,
        "start_time": "2022-04-30T19:39:32.321Z"
      },
      {
        "duration": 3429,
        "start_time": "2022-04-30T19:41:06.735Z"
      },
      {
        "duration": 3373,
        "start_time": "2022-04-30T19:42:59.616Z"
      },
      {
        "duration": 389,
        "start_time": "2022-04-30T19:43:20.211Z"
      },
      {
        "duration": 328,
        "start_time": "2022-04-30T19:43:29.130Z"
      },
      {
        "duration": 385,
        "start_time": "2022-04-30T19:43:45.532Z"
      },
      {
        "duration": 457,
        "start_time": "2022-04-30T19:43:49.833Z"
      },
      {
        "duration": 380,
        "start_time": "2022-04-30T19:43:59.227Z"
      },
      {
        "duration": 441,
        "start_time": "2022-04-30T19:44:18.797Z"
      },
      {
        "duration": 460,
        "start_time": "2022-04-30T19:44:53.918Z"
      },
      {
        "duration": 378,
        "start_time": "2022-04-30T19:45:11.436Z"
      },
      {
        "duration": 363,
        "start_time": "2022-04-30T19:47:05.539Z"
      },
      {
        "duration": 582,
        "start_time": "2022-04-30T19:47:10.182Z"
      },
      {
        "duration": 369,
        "start_time": "2022-04-30T19:47:20.406Z"
      },
      {
        "duration": 414,
        "start_time": "2022-04-30T19:49:46.386Z"
      },
      {
        "duration": 431,
        "start_time": "2022-04-30T19:49:58.305Z"
      },
      {
        "duration": 397,
        "start_time": "2022-04-30T19:51:30.433Z"
      },
      {
        "duration": 365,
        "start_time": "2022-04-30T19:51:56.559Z"
      },
      {
        "duration": 417,
        "start_time": "2022-04-30T19:52:04.036Z"
      },
      {
        "duration": 427,
        "start_time": "2022-04-30T19:52:22.302Z"
      },
      {
        "duration": 19,
        "start_time": "2022-04-30T19:58:07.514Z"
      },
      {
        "duration": 18,
        "start_time": "2022-04-30T19:58:21.018Z"
      },
      {
        "duration": 19,
        "start_time": "2022-04-30T19:58:30.564Z"
      },
      {
        "duration": 20,
        "start_time": "2022-04-30T19:58:35.355Z"
      },
      {
        "duration": 20,
        "start_time": "2022-04-30T19:58:43.314Z"
      },
      {
        "duration": 18,
        "start_time": "2022-04-30T19:58:47.845Z"
      },
      {
        "duration": 19,
        "start_time": "2022-04-30T19:59:08.458Z"
      },
      {
        "duration": 4,
        "start_time": "2022-04-30T20:05:25.100Z"
      },
      {
        "duration": 25,
        "start_time": "2022-04-30T20:05:28.939Z"
      },
      {
        "duration": 33,
        "start_time": "2022-04-30T20:05:46.688Z"
      },
      {
        "duration": 33,
        "start_time": "2022-04-30T20:06:05.409Z"
      },
      {
        "duration": 20,
        "start_time": "2022-04-30T20:06:57.350Z"
      },
      {
        "duration": 25,
        "start_time": "2022-04-30T20:07:07.892Z"
      },
      {
        "duration": 23,
        "start_time": "2022-04-30T20:07:37.047Z"
      },
      {
        "duration": 32,
        "start_time": "2022-04-30T20:08:03.045Z"
      },
      {
        "duration": 34,
        "start_time": "2022-04-30T20:08:29.301Z"
      },
      {
        "duration": 21,
        "start_time": "2022-04-30T20:08:35.860Z"
      },
      {
        "duration": 21,
        "start_time": "2022-04-30T20:08:44.573Z"
      },
      {
        "duration": 24,
        "start_time": "2022-04-30T20:08:49.240Z"
      },
      {
        "duration": 4,
        "start_time": "2022-04-30T20:08:53.638Z"
      },
      {
        "duration": 29,
        "start_time": "2022-04-30T20:08:59.292Z"
      },
      {
        "duration": 66,
        "start_time": "2022-04-30T20:09:57.647Z"
      },
      {
        "duration": 62,
        "start_time": "2022-04-30T20:10:33.417Z"
      },
      {
        "duration": 95,
        "start_time": "2022-04-30T20:10:40.610Z"
      },
      {
        "duration": 71,
        "start_time": "2022-04-30T20:10:49.792Z"
      },
      {
        "duration": 67,
        "start_time": "2022-04-30T20:10:59.376Z"
      },
      {
        "duration": 172,
        "start_time": "2022-04-30T20:11:41.380Z"
      },
      {
        "duration": 1101,
        "start_time": "2022-04-30T20:12:04.113Z"
      },
      {
        "duration": 410,
        "start_time": "2022-04-30T20:12:05.217Z"
      },
      {
        "duration": 20,
        "start_time": "2022-04-30T20:12:05.628Z"
      },
      {
        "duration": 87,
        "start_time": "2022-04-30T20:12:05.649Z"
      },
      {
        "duration": 174,
        "start_time": "2022-04-30T20:12:05.738Z"
      },
      {
        "duration": 552,
        "start_time": "2022-04-30T20:12:05.913Z"
      },
      {
        "duration": 74,
        "start_time": "2022-04-30T20:12:06.467Z"
      },
      {
        "duration": 33,
        "start_time": "2022-04-30T20:12:06.543Z"
      },
      {
        "duration": 51,
        "start_time": "2022-04-30T20:12:06.578Z"
      },
      {
        "duration": 22,
        "start_time": "2022-04-30T20:12:06.632Z"
      },
      {
        "duration": 184,
        "start_time": "2022-04-30T20:12:06.656Z"
      },
      {
        "duration": 13,
        "start_time": "2022-04-30T20:12:06.842Z"
      },
      {
        "duration": 44,
        "start_time": "2022-04-30T20:12:06.856Z"
      },
      {
        "duration": 5,
        "start_time": "2022-04-30T20:12:06.903Z"
      },
      {
        "duration": 26,
        "start_time": "2022-04-30T20:12:06.910Z"
      },
      {
        "duration": 6,
        "start_time": "2022-04-30T20:12:06.938Z"
      },
      {
        "duration": 11,
        "start_time": "2022-04-30T20:12:06.945Z"
      },
      {
        "duration": 12,
        "start_time": "2022-04-30T20:12:06.957Z"
      },
      {
        "duration": 6,
        "start_time": "2022-04-30T20:12:06.970Z"
      },
      {
        "duration": 891,
        "start_time": "2022-04-30T20:12:06.977Z"
      },
      {
        "duration": 162,
        "start_time": "2022-04-30T20:13:41.881Z"
      },
      {
        "duration": 210,
        "start_time": "2022-04-30T20:15:22.711Z"
      },
      {
        "duration": 210,
        "start_time": "2022-04-30T20:15:36.748Z"
      },
      {
        "duration": 202,
        "start_time": "2022-04-30T20:15:41.745Z"
      },
      {
        "duration": 217,
        "start_time": "2022-04-30T20:15:46.727Z"
      },
      {
        "duration": 225,
        "start_time": "2022-04-30T20:15:51.449Z"
      },
      {
        "duration": 182,
        "start_time": "2022-04-30T20:15:55.165Z"
      },
      {
        "duration": 89,
        "start_time": "2022-04-30T20:15:58.471Z"
      },
      {
        "duration": 1121,
        "start_time": "2022-04-30T20:16:06.792Z"
      },
      {
        "duration": 383,
        "start_time": "2022-04-30T20:16:07.915Z"
      },
      {
        "duration": 24,
        "start_time": "2022-04-30T20:16:08.303Z"
      },
      {
        "duration": 100,
        "start_time": "2022-04-30T20:16:08.328Z"
      },
      {
        "duration": 170,
        "start_time": "2022-04-30T20:16:08.431Z"
      },
      {
        "duration": 588,
        "start_time": "2022-04-30T20:16:08.603Z"
      },
      {
        "duration": 72,
        "start_time": "2022-04-30T20:16:09.192Z"
      },
      {
        "duration": 51,
        "start_time": "2022-04-30T20:16:09.265Z"
      },
      {
        "duration": 25,
        "start_time": "2022-04-30T20:16:09.317Z"
      },
      {
        "duration": 17,
        "start_time": "2022-04-30T20:16:09.343Z"
      },
      {
        "duration": 180,
        "start_time": "2022-04-30T20:16:09.362Z"
      },
      {
        "duration": 12,
        "start_time": "2022-04-30T20:16:09.544Z"
      },
      {
        "duration": 22,
        "start_time": "2022-04-30T20:16:09.557Z"
      },
      {
        "duration": 7,
        "start_time": "2022-04-30T20:16:09.602Z"
      },
      {
        "duration": 22,
        "start_time": "2022-04-30T20:16:09.610Z"
      },
      {
        "duration": 4,
        "start_time": "2022-04-30T20:16:09.634Z"
      },
      {
        "duration": 13,
        "start_time": "2022-04-30T20:16:09.640Z"
      },
      {
        "duration": 11,
        "start_time": "2022-04-30T20:16:09.654Z"
      },
      {
        "duration": 6,
        "start_time": "2022-04-30T20:16:09.667Z"
      },
      {
        "duration": 909,
        "start_time": "2022-04-30T20:16:09.674Z"
      },
      {
        "duration": 475,
        "start_time": "2022-04-30T20:16:24.663Z"
      },
      {
        "duration": 68,
        "start_time": "2022-04-30T20:17:34.076Z"
      },
      {
        "duration": 1160,
        "start_time": "2022-04-30T20:17:41.161Z"
      },
      {
        "duration": 415,
        "start_time": "2022-04-30T20:17:42.323Z"
      },
      {
        "duration": 19,
        "start_time": "2022-04-30T20:17:42.739Z"
      },
      {
        "duration": 93,
        "start_time": "2022-04-30T20:17:42.760Z"
      },
      {
        "duration": 180,
        "start_time": "2022-04-30T20:17:42.854Z"
      },
      {
        "duration": 541,
        "start_time": "2022-04-30T20:17:43.035Z"
      },
      {
        "duration": 76,
        "start_time": "2022-04-30T20:17:43.578Z"
      },
      {
        "duration": 30,
        "start_time": "2022-04-30T20:17:43.655Z"
      },
      {
        "duration": 45,
        "start_time": "2022-04-30T20:17:43.686Z"
      },
      {
        "duration": 17,
        "start_time": "2022-04-30T20:17:43.733Z"
      },
      {
        "duration": 176,
        "start_time": "2022-04-30T20:17:43.751Z"
      },
      {
        "duration": 12,
        "start_time": "2022-04-30T20:17:43.928Z"
      },
      {
        "duration": 23,
        "start_time": "2022-04-30T20:17:43.941Z"
      },
      {
        "duration": 7,
        "start_time": "2022-04-30T20:17:43.965Z"
      },
      {
        "duration": 32,
        "start_time": "2022-04-30T20:17:43.973Z"
      },
      {
        "duration": 10,
        "start_time": "2022-04-30T20:17:44.006Z"
      },
      {
        "duration": 11,
        "start_time": "2022-04-30T20:17:44.018Z"
      },
      {
        "duration": 11,
        "start_time": "2022-04-30T20:17:44.031Z"
      },
      {
        "duration": 6,
        "start_time": "2022-04-30T20:17:44.044Z"
      },
      {
        "duration": 1810,
        "start_time": "2022-04-30T20:17:44.051Z"
      },
      {
        "duration": 3,
        "start_time": "2022-04-30T20:43:24.394Z"
      },
      {
        "duration": 99,
        "start_time": "2022-04-30T20:43:41.553Z"
      },
      {
        "duration": 18,
        "start_time": "2022-04-30T20:43:48.298Z"
      },
      {
        "duration": 16,
        "start_time": "2022-04-30T20:43:56.527Z"
      },
      {
        "duration": 3,
        "start_time": "2022-04-30T20:44:22.035Z"
      },
      {
        "duration": 17,
        "start_time": "2022-04-30T20:44:24.152Z"
      },
      {
        "duration": 3,
        "start_time": "2022-04-30T20:44:28.062Z"
      },
      {
        "duration": 190,
        "start_time": "2022-04-30T20:44:32.714Z"
      },
      {
        "duration": 4,
        "start_time": "2022-04-30T20:44:37.445Z"
      },
      {
        "duration": 4,
        "start_time": "2022-04-30T20:46:08.219Z"
      },
      {
        "duration": 16,
        "start_time": "2022-04-30T20:46:12.179Z"
      },
      {
        "duration": 3,
        "start_time": "2022-04-30T20:46:26.627Z"
      },
      {
        "duration": 210,
        "start_time": "2022-04-30T20:46:28.962Z"
      },
      {
        "duration": 3,
        "start_time": "2022-04-30T20:47:11.094Z"
      },
      {
        "duration": 226,
        "start_time": "2022-04-30T20:47:17.587Z"
      },
      {
        "duration": 4,
        "start_time": "2022-04-30T20:50:14.935Z"
      },
      {
        "duration": 16,
        "start_time": "2022-04-30T20:50:17.782Z"
      },
      {
        "duration": 4,
        "start_time": "2022-04-30T20:51:15.399Z"
      },
      {
        "duration": 18,
        "start_time": "2022-04-30T20:51:17.731Z"
      },
      {
        "duration": 4,
        "start_time": "2022-04-30T20:52:19.846Z"
      },
      {
        "duration": 18,
        "start_time": "2022-04-30T20:52:22.722Z"
      },
      {
        "duration": 3,
        "start_time": "2022-04-30T20:52:42.118Z"
      },
      {
        "duration": 14,
        "start_time": "2022-04-30T20:52:44.073Z"
      },
      {
        "duration": 11,
        "start_time": "2022-04-30T20:52:59.231Z"
      },
      {
        "duration": 11,
        "start_time": "2022-04-30T20:53:19.878Z"
      },
      {
        "duration": 11,
        "start_time": "2022-04-30T20:53:28.573Z"
      },
      {
        "duration": 11,
        "start_time": "2022-04-30T20:55:56.153Z"
      },
      {
        "duration": 12,
        "start_time": "2022-04-30T20:55:58.776Z"
      },
      {
        "duration": 1099,
        "start_time": "2022-04-30T21:00:48.148Z"
      },
      {
        "duration": 424,
        "start_time": "2022-04-30T21:00:49.249Z"
      },
      {
        "duration": 21,
        "start_time": "2022-04-30T21:00:49.675Z"
      },
      {
        "duration": 111,
        "start_time": "2022-04-30T21:00:49.698Z"
      },
      {
        "duration": 171,
        "start_time": "2022-04-30T21:00:49.811Z"
      },
      {
        "duration": 563,
        "start_time": "2022-04-30T21:00:49.983Z"
      },
      {
        "duration": 75,
        "start_time": "2022-04-30T21:00:50.548Z"
      },
      {
        "duration": 37,
        "start_time": "2022-04-30T21:00:50.625Z"
      },
      {
        "duration": 45,
        "start_time": "2022-04-30T21:00:50.664Z"
      },
      {
        "duration": 19,
        "start_time": "2022-04-30T21:00:50.711Z"
      },
      {
        "duration": 224,
        "start_time": "2022-04-30T21:00:50.732Z"
      },
      {
        "duration": 13,
        "start_time": "2022-04-30T21:00:50.958Z"
      },
      {
        "duration": 45,
        "start_time": "2022-04-30T21:00:50.972Z"
      },
      {
        "duration": 6,
        "start_time": "2022-04-30T21:00:51.019Z"
      },
      {
        "duration": 7,
        "start_time": "2022-04-30T21:00:51.026Z"
      },
      {
        "duration": 22,
        "start_time": "2022-04-30T21:00:51.035Z"
      },
      {
        "duration": 7,
        "start_time": "2022-04-30T21:00:51.059Z"
      },
      {
        "duration": 33,
        "start_time": "2022-04-30T21:00:51.068Z"
      },
      {
        "duration": 13,
        "start_time": "2022-04-30T21:00:51.103Z"
      },
      {
        "duration": 8,
        "start_time": "2022-04-30T21:00:51.118Z"
      },
      {
        "duration": 925,
        "start_time": "2022-04-30T21:00:51.128Z"
      },
      {
        "duration": 202,
        "start_time": "2022-04-30T21:03:00.293Z"
      },
      {
        "duration": 160,
        "start_time": "2022-04-30T21:03:33.824Z"
      },
      {
        "duration": 103,
        "start_time": "2022-04-30T21:03:45.263Z"
      },
      {
        "duration": 155,
        "start_time": "2022-04-30T21:03:53.311Z"
      },
      {
        "duration": 171,
        "start_time": "2022-04-30T21:04:06.689Z"
      },
      {
        "duration": 189,
        "start_time": "2022-04-30T21:04:20.099Z"
      },
      {
        "duration": 162,
        "start_time": "2022-04-30T21:04:23.502Z"
      },
      {
        "duration": 136,
        "start_time": "2022-04-30T21:04:53.484Z"
      },
      {
        "duration": 42,
        "start_time": "2022-04-30T21:05:01.789Z"
      },
      {
        "duration": 34,
        "start_time": "2022-04-30T21:05:09.335Z"
      },
      {
        "duration": 205,
        "start_time": "2022-04-30T21:05:13.550Z"
      },
      {
        "duration": 211,
        "start_time": "2022-04-30T21:05:20.135Z"
      },
      {
        "duration": 115,
        "start_time": "2022-04-30T21:06:09.896Z"
      },
      {
        "duration": 109,
        "start_time": "2022-04-30T21:06:27.928Z"
      },
      {
        "duration": 1339,
        "start_time": "2022-04-30T21:08:17.915Z"
      },
      {
        "duration": 583,
        "start_time": "2022-04-30T21:08:19.256Z"
      },
      {
        "duration": 30,
        "start_time": "2022-04-30T21:08:19.840Z"
      },
      {
        "duration": 100,
        "start_time": "2022-04-30T21:08:19.873Z"
      },
      {
        "duration": 273,
        "start_time": "2022-04-30T21:08:19.975Z"
      },
      {
        "duration": 610,
        "start_time": "2022-04-30T21:08:20.250Z"
      },
      {
        "duration": 80,
        "start_time": "2022-04-30T21:08:20.861Z"
      },
      {
        "duration": 34,
        "start_time": "2022-04-30T21:08:20.943Z"
      },
      {
        "duration": 55,
        "start_time": "2022-04-30T21:08:20.978Z"
      },
      {
        "duration": 17,
        "start_time": "2022-04-30T21:08:21.035Z"
      },
      {
        "duration": 129,
        "start_time": "2022-04-30T21:08:21.054Z"
      },
      {
        "duration": 21,
        "start_time": "2022-04-30T21:08:21.184Z"
      },
      {
        "duration": 28,
        "start_time": "2022-04-30T21:08:21.208Z"
      },
      {
        "duration": 6,
        "start_time": "2022-04-30T21:08:21.237Z"
      },
      {
        "duration": 12,
        "start_time": "2022-04-30T21:08:21.244Z"
      },
      {
        "duration": 19,
        "start_time": "2022-04-30T21:08:21.257Z"
      },
      {
        "duration": 29,
        "start_time": "2022-04-30T21:08:21.277Z"
      },
      {
        "duration": 16,
        "start_time": "2022-04-30T21:08:21.308Z"
      },
      {
        "duration": 12,
        "start_time": "2022-04-30T21:08:21.326Z"
      },
      {
        "duration": 7,
        "start_time": "2022-04-30T21:08:21.339Z"
      },
      {
        "duration": 1004,
        "start_time": "2022-04-30T21:08:21.347Z"
      },
      {
        "duration": 13,
        "start_time": "2022-04-30T21:09:14.293Z"
      },
      {
        "duration": 15,
        "start_time": "2022-04-30T21:09:23.221Z"
      },
      {
        "duration": 1162,
        "start_time": "2022-04-30T21:09:35.270Z"
      },
      {
        "duration": 401,
        "start_time": "2022-04-30T21:09:36.434Z"
      },
      {
        "duration": 22,
        "start_time": "2022-04-30T21:09:36.836Z"
      },
      {
        "duration": 79,
        "start_time": "2022-04-30T21:09:36.860Z"
      },
      {
        "duration": 184,
        "start_time": "2022-04-30T21:09:36.941Z"
      },
      {
        "duration": 546,
        "start_time": "2022-04-30T21:09:37.127Z"
      },
      {
        "duration": 84,
        "start_time": "2022-04-30T21:09:37.674Z"
      },
      {
        "duration": 45,
        "start_time": "2022-04-30T21:09:37.760Z"
      },
      {
        "duration": 31,
        "start_time": "2022-04-30T21:09:37.808Z"
      },
      {
        "duration": 19,
        "start_time": "2022-04-30T21:09:37.841Z"
      },
      {
        "duration": 134,
        "start_time": "2022-04-30T21:09:37.861Z"
      },
      {
        "duration": 23,
        "start_time": "2022-04-30T21:09:38.004Z"
      },
      {
        "duration": 23,
        "start_time": "2022-04-30T21:09:38.028Z"
      },
      {
        "duration": 7,
        "start_time": "2022-04-30T21:09:38.052Z"
      },
      {
        "duration": 13,
        "start_time": "2022-04-30T21:09:38.060Z"
      },
      {
        "duration": 32,
        "start_time": "2022-04-30T21:09:38.074Z"
      },
      {
        "duration": 8,
        "start_time": "2022-04-30T21:09:38.109Z"
      },
      {
        "duration": 11,
        "start_time": "2022-04-30T21:09:38.119Z"
      },
      {
        "duration": 11,
        "start_time": "2022-04-30T21:09:38.132Z"
      },
      {
        "duration": 8,
        "start_time": "2022-04-30T21:09:38.145Z"
      },
      {
        "duration": 877,
        "start_time": "2022-04-30T21:09:38.154Z"
      },
      {
        "duration": 19,
        "start_time": "2022-04-30T21:11:44.382Z"
      },
      {
        "duration": 32,
        "start_time": "2022-04-30T21:11:47.426Z"
      },
      {
        "duration": 25,
        "start_time": "2022-04-30T21:12:03.236Z"
      },
      {
        "duration": 30,
        "start_time": "2022-04-30T21:12:13.145Z"
      },
      {
        "duration": 1083,
        "start_time": "2022-04-30T21:12:17.707Z"
      },
      {
        "duration": 410,
        "start_time": "2022-04-30T21:12:18.792Z"
      },
      {
        "duration": 22,
        "start_time": "2022-04-30T21:12:19.203Z"
      },
      {
        "duration": 101,
        "start_time": "2022-04-30T21:12:19.227Z"
      },
      {
        "duration": 187,
        "start_time": "2022-04-30T21:12:19.330Z"
      },
      {
        "duration": 522,
        "start_time": "2022-04-30T21:12:19.518Z"
      },
      {
        "duration": 76,
        "start_time": "2022-04-30T21:12:20.041Z"
      },
      {
        "duration": 30,
        "start_time": "2022-04-30T21:12:20.118Z"
      },
      {
        "duration": 23,
        "start_time": "2022-04-30T21:12:20.150Z"
      },
      {
        "duration": 39,
        "start_time": "2022-04-30T21:12:20.175Z"
      },
      {
        "duration": 118,
        "start_time": "2022-04-30T21:12:20.215Z"
      },
      {
        "duration": 18,
        "start_time": "2022-04-30T21:12:20.334Z"
      },
      {
        "duration": 24,
        "start_time": "2022-04-30T21:12:20.353Z"
      },
      {
        "duration": 25,
        "start_time": "2022-04-30T21:12:20.378Z"
      },
      {
        "duration": 11,
        "start_time": "2022-04-30T21:12:20.405Z"
      },
      {
        "duration": 17,
        "start_time": "2022-04-30T21:12:20.417Z"
      },
      {
        "duration": 5,
        "start_time": "2022-04-30T21:12:20.436Z"
      },
      {
        "duration": 13,
        "start_time": "2022-04-30T21:12:20.442Z"
      },
      {
        "duration": 11,
        "start_time": "2022-04-30T21:12:20.457Z"
      },
      {
        "duration": 14,
        "start_time": "2022-04-30T21:12:20.469Z"
      },
      {
        "duration": 844,
        "start_time": "2022-04-30T21:12:20.500Z"
      },
      {
        "duration": 19,
        "start_time": "2022-04-30T21:13:01.186Z"
      },
      {
        "duration": 15,
        "start_time": "2022-04-30T21:13:37.533Z"
      },
      {
        "duration": 9,
        "start_time": "2022-04-30T21:13:52.063Z"
      },
      {
        "duration": 10,
        "start_time": "2022-04-30T21:14:00.641Z"
      },
      {
        "duration": 19,
        "start_time": "2022-04-30T21:14:29.998Z"
      },
      {
        "duration": 7,
        "start_time": "2022-04-30T21:14:38.406Z"
      },
      {
        "duration": 9,
        "start_time": "2022-04-30T21:14:50.028Z"
      },
      {
        "duration": 13,
        "start_time": "2022-04-30T21:15:02.267Z"
      },
      {
        "duration": 15,
        "start_time": "2022-04-30T21:15:14.589Z"
      },
      {
        "duration": 25,
        "start_time": "2022-04-30T21:15:26.798Z"
      },
      {
        "duration": 1173,
        "start_time": "2022-04-30T21:16:22.595Z"
      },
      {
        "duration": 420,
        "start_time": "2022-04-30T21:16:23.769Z"
      },
      {
        "duration": 23,
        "start_time": "2022-04-30T21:16:24.191Z"
      },
      {
        "duration": 103,
        "start_time": "2022-04-30T21:16:24.216Z"
      },
      {
        "duration": 191,
        "start_time": "2022-04-30T21:16:24.321Z"
      },
      {
        "duration": 570,
        "start_time": "2022-04-30T21:16:24.514Z"
      },
      {
        "duration": 75,
        "start_time": "2022-04-30T21:16:25.086Z"
      },
      {
        "duration": 49,
        "start_time": "2022-04-30T21:16:25.163Z"
      },
      {
        "duration": 30,
        "start_time": "2022-04-30T21:16:25.214Z"
      },
      {
        "duration": 18,
        "start_time": "2022-04-30T21:16:25.247Z"
      },
      {
        "duration": 40,
        "start_time": "2022-04-30T21:16:25.266Z"
      },
      {
        "duration": 19,
        "start_time": "2022-04-30T21:16:25.308Z"
      },
      {
        "duration": 17,
        "start_time": "2022-04-30T21:16:25.329Z"
      },
      {
        "duration": 23,
        "start_time": "2022-04-30T21:16:25.347Z"
      },
      {
        "duration": 30,
        "start_time": "2022-04-30T21:16:25.372Z"
      },
      {
        "duration": 24,
        "start_time": "2022-04-30T21:16:25.405Z"
      },
      {
        "duration": 24,
        "start_time": "2022-04-30T21:16:25.432Z"
      },
      {
        "duration": 45,
        "start_time": "2022-04-30T21:16:25.458Z"
      },
      {
        "duration": 19,
        "start_time": "2022-04-30T21:16:25.504Z"
      },
      {
        "duration": 22,
        "start_time": "2022-04-30T21:16:25.525Z"
      },
      {
        "duration": 60,
        "start_time": "2022-04-30T21:16:25.549Z"
      },
      {
        "duration": 2412,
        "start_time": "2022-04-30T21:16:25.612Z"
      },
      {
        "duration": 1173,
        "start_time": "2022-04-30T21:17:02.671Z"
      },
      {
        "duration": 458,
        "start_time": "2022-04-30T21:17:03.846Z"
      },
      {
        "duration": 30,
        "start_time": "2022-04-30T21:17:04.307Z"
      },
      {
        "duration": 268,
        "start_time": "2022-04-30T21:17:04.340Z"
      },
      {
        "duration": 394,
        "start_time": "2022-04-30T21:17:04.610Z"
      },
      {
        "duration": 1238,
        "start_time": "2022-04-30T21:17:05.006Z"
      },
      {
        "duration": 97,
        "start_time": "2022-04-30T21:17:06.246Z"
      },
      {
        "duration": 90,
        "start_time": "2022-04-30T21:17:06.345Z"
      },
      {
        "duration": 71,
        "start_time": "2022-04-30T21:17:06.436Z"
      },
      {
        "duration": 23,
        "start_time": "2022-04-30T21:17:06.510Z"
      },
      {
        "duration": 69,
        "start_time": "2022-04-30T21:17:06.537Z"
      },
      {
        "duration": 17,
        "start_time": "2022-04-30T21:17:06.609Z"
      },
      {
        "duration": 21,
        "start_time": "2022-04-30T21:17:06.628Z"
      },
      {
        "duration": 5,
        "start_time": "2022-04-30T21:17:06.651Z"
      },
      {
        "duration": 12,
        "start_time": "2022-04-30T21:17:06.657Z"
      },
      {
        "duration": 32,
        "start_time": "2022-04-30T21:17:06.671Z"
      },
      {
        "duration": 9,
        "start_time": "2022-04-30T21:17:06.705Z"
      },
      {
        "duration": 14,
        "start_time": "2022-04-30T21:17:06.720Z"
      },
      {
        "duration": 24,
        "start_time": "2022-04-30T21:17:06.737Z"
      },
      {
        "duration": 10,
        "start_time": "2022-04-30T21:17:06.763Z"
      },
      {
        "duration": 905,
        "start_time": "2022-04-30T21:17:06.775Z"
      },
      {
        "duration": 18,
        "start_time": "2022-04-30T21:19:41.305Z"
      },
      {
        "duration": 1425,
        "start_time": "2022-04-30T21:19:46.522Z"
      },
      {
        "duration": 607,
        "start_time": "2022-04-30T21:19:47.949Z"
      },
      {
        "duration": 22,
        "start_time": "2022-04-30T21:19:48.558Z"
      },
      {
        "duration": 87,
        "start_time": "2022-04-30T21:19:48.581Z"
      },
      {
        "duration": 193,
        "start_time": "2022-04-30T21:19:48.670Z"
      },
      {
        "duration": 909,
        "start_time": "2022-04-30T21:19:48.866Z"
      },
      {
        "duration": 70,
        "start_time": "2022-04-30T21:19:49.777Z"
      },
      {
        "duration": 58,
        "start_time": "2022-04-30T21:19:49.849Z"
      },
      {
        "duration": 17,
        "start_time": "2022-04-30T21:19:49.909Z"
      },
      {
        "duration": 18,
        "start_time": "2022-04-30T21:19:49.928Z"
      },
      {
        "duration": 17,
        "start_time": "2022-04-30T21:19:49.947Z"
      },
      {
        "duration": 48,
        "start_time": "2022-04-30T21:19:49.966Z"
      },
      {
        "duration": 41,
        "start_time": "2022-04-30T21:19:50.016Z"
      },
      {
        "duration": 7,
        "start_time": "2022-04-30T21:19:50.060Z"
      },
      {
        "duration": 9,
        "start_time": "2022-04-30T21:19:50.069Z"
      },
      {
        "duration": 16,
        "start_time": "2022-04-30T21:19:50.101Z"
      },
      {
        "duration": 7,
        "start_time": "2022-04-30T21:19:50.119Z"
      },
      {
        "duration": 19,
        "start_time": "2022-04-30T21:19:50.128Z"
      },
      {
        "duration": 17,
        "start_time": "2022-04-30T21:19:50.149Z"
      },
      {
        "duration": 34,
        "start_time": "2022-04-30T21:19:50.168Z"
      },
      {
        "duration": 1463,
        "start_time": "2022-04-30T21:19:50.204Z"
      },
      {
        "duration": 28,
        "start_time": "2022-04-30T21:20:21.718Z"
      },
      {
        "duration": 27,
        "start_time": "2022-04-30T21:20:25.506Z"
      },
      {
        "duration": 1081,
        "start_time": "2022-04-30T21:20:31.429Z"
      },
      {
        "duration": 398,
        "start_time": "2022-04-30T21:20:32.511Z"
      },
      {
        "duration": 21,
        "start_time": "2022-04-30T21:20:32.911Z"
      },
      {
        "duration": 100,
        "start_time": "2022-04-30T21:20:32.934Z"
      },
      {
        "duration": 194,
        "start_time": "2022-04-30T21:20:33.036Z"
      },
      {
        "duration": 536,
        "start_time": "2022-04-30T21:20:33.232Z"
      },
      {
        "duration": 43,
        "start_time": "2022-04-30T21:20:33.770Z"
      },
      {
        "duration": 26,
        "start_time": "2022-04-30T21:20:33.815Z"
      },
      {
        "duration": 26,
        "start_time": "2022-04-30T21:20:33.843Z"
      },
      {
        "duration": 51,
        "start_time": "2022-04-30T21:20:33.873Z"
      },
      {
        "duration": 17,
        "start_time": "2022-04-30T21:20:33.925Z"
      },
      {
        "duration": 18,
        "start_time": "2022-04-30T21:20:33.943Z"
      },
      {
        "duration": 46,
        "start_time": "2022-04-30T21:20:33.962Z"
      },
      {
        "duration": 5,
        "start_time": "2022-04-30T21:20:34.010Z"
      },
      {
        "duration": 8,
        "start_time": "2022-04-30T21:20:34.016Z"
      },
      {
        "duration": 15,
        "start_time": "2022-04-30T21:20:34.025Z"
      },
      {
        "duration": 5,
        "start_time": "2022-04-30T21:20:34.041Z"
      },
      {
        "duration": 13,
        "start_time": "2022-04-30T21:20:34.048Z"
      },
      {
        "duration": 11,
        "start_time": "2022-04-30T21:20:34.063Z"
      },
      {
        "duration": 9,
        "start_time": "2022-04-30T21:20:34.100Z"
      },
      {
        "duration": 862,
        "start_time": "2022-04-30T21:20:34.111Z"
      },
      {
        "duration": 1501,
        "start_time": "2022-05-01T16:00:29.363Z"
      },
      {
        "duration": 568,
        "start_time": "2022-05-01T16:00:30.867Z"
      },
      {
        "duration": 33,
        "start_time": "2022-05-01T16:00:31.437Z"
      },
      {
        "duration": 121,
        "start_time": "2022-05-01T16:00:31.472Z"
      },
      {
        "duration": 232,
        "start_time": "2022-05-01T16:00:31.594Z"
      },
      {
        "duration": 708,
        "start_time": "2022-05-01T16:00:31.830Z"
      },
      {
        "duration": 73,
        "start_time": "2022-05-01T16:00:32.540Z"
      },
      {
        "duration": 52,
        "start_time": "2022-05-01T16:00:32.615Z"
      },
      {
        "duration": 30,
        "start_time": "2022-05-01T16:00:32.668Z"
      },
      {
        "duration": 48,
        "start_time": "2022-05-01T16:00:32.701Z"
      },
      {
        "duration": 21,
        "start_time": "2022-05-01T16:00:32.752Z"
      },
      {
        "duration": 18,
        "start_time": "2022-05-01T16:00:32.775Z"
      },
      {
        "duration": 60,
        "start_time": "2022-05-01T16:00:32.795Z"
      },
      {
        "duration": 31,
        "start_time": "2022-05-01T16:00:32.859Z"
      },
      {
        "duration": 7,
        "start_time": "2022-05-01T16:00:32.893Z"
      },
      {
        "duration": 25,
        "start_time": "2022-05-01T16:00:32.902Z"
      },
      {
        "duration": 18,
        "start_time": "2022-05-01T16:00:32.930Z"
      },
      {
        "duration": 7,
        "start_time": "2022-05-01T16:00:32.950Z"
      },
      {
        "duration": 13,
        "start_time": "2022-05-01T16:00:32.959Z"
      },
      {
        "duration": 14,
        "start_time": "2022-05-01T16:00:32.974Z"
      },
      {
        "duration": 11,
        "start_time": "2022-05-01T16:00:32.990Z"
      },
      {
        "duration": 1600,
        "start_time": "2022-05-01T16:00:33.027Z"
      },
      {
        "duration": 96,
        "start_time": "2022-05-01T16:03:05.713Z"
      },
      {
        "duration": 1286,
        "start_time": "2022-05-01T16:03:11.020Z"
      },
      {
        "duration": 513,
        "start_time": "2022-05-01T16:03:12.309Z"
      },
      {
        "duration": 35,
        "start_time": "2022-05-01T16:03:12.825Z"
      },
      {
        "duration": 138,
        "start_time": "2022-05-01T16:03:12.862Z"
      },
      {
        "duration": 240,
        "start_time": "2022-05-01T16:03:13.002Z"
      },
      {
        "duration": 1418,
        "start_time": "2022-05-01T16:03:13.244Z"
      },
      {
        "duration": 202,
        "start_time": "2022-05-01T16:03:14.664Z"
      },
      {
        "duration": 161,
        "start_time": "2022-05-01T16:03:14.868Z"
      },
      {
        "duration": 95,
        "start_time": "2022-05-01T16:03:15.031Z"
      },
      {
        "duration": 36,
        "start_time": "2022-05-01T16:03:15.137Z"
      },
      {
        "duration": 69,
        "start_time": "2022-05-01T16:03:15.175Z"
      },
      {
        "duration": 22,
        "start_time": "2022-05-01T16:03:15.246Z"
      },
      {
        "duration": 38,
        "start_time": "2022-05-01T16:03:15.322Z"
      },
      {
        "duration": 109,
        "start_time": "2022-05-01T16:03:15.365Z"
      },
      {
        "duration": 61,
        "start_time": "2022-05-01T16:03:15.476Z"
      },
      {
        "duration": 15,
        "start_time": "2022-05-01T16:03:15.540Z"
      },
      {
        "duration": 19,
        "start_time": "2022-05-01T16:03:15.559Z"
      },
      {
        "duration": 64,
        "start_time": "2022-05-01T16:03:15.580Z"
      },
      {
        "duration": 23,
        "start_time": "2022-05-01T16:03:15.645Z"
      },
      {
        "duration": 67,
        "start_time": "2022-05-01T16:03:15.670Z"
      },
      {
        "duration": 10,
        "start_time": "2022-05-01T16:03:15.739Z"
      },
      {
        "duration": 2410,
        "start_time": "2022-05-01T16:03:15.751Z"
      },
      {
        "duration": 39,
        "start_time": "2022-05-01T16:05:16.133Z"
      },
      {
        "duration": 5,
        "start_time": "2022-05-01T16:15:45.227Z"
      },
      {
        "duration": 112,
        "start_time": "2022-05-01T16:16:10.285Z"
      },
      {
        "duration": 33,
        "start_time": "2022-05-01T16:16:21.829Z"
      },
      {
        "duration": 28,
        "start_time": "2022-05-01T16:17:01.754Z"
      },
      {
        "duration": 15,
        "start_time": "2022-05-01T16:17:21.660Z"
      },
      {
        "duration": 12,
        "start_time": "2022-05-01T16:17:34.032Z"
      },
      {
        "duration": 12,
        "start_time": "2022-05-01T16:17:51.736Z"
      },
      {
        "duration": 9,
        "start_time": "2022-05-01T16:18:25.880Z"
      },
      {
        "duration": 18,
        "start_time": "2022-05-01T16:19:34.189Z"
      },
      {
        "duration": 9,
        "start_time": "2022-05-01T16:19:42.389Z"
      },
      {
        "duration": 10,
        "start_time": "2022-05-01T16:19:48.121Z"
      },
      {
        "duration": 964,
        "start_time": "2022-05-01T16:20:08.078Z"
      },
      {
        "duration": 676,
        "start_time": "2022-05-01T16:20:15.637Z"
      },
      {
        "duration": 222,
        "start_time": "2022-05-01T16:20:20.151Z"
      },
      {
        "duration": 21,
        "start_time": "2022-05-01T16:21:28.326Z"
      },
      {
        "duration": 25,
        "start_time": "2022-05-01T16:21:38.147Z"
      },
      {
        "duration": 25,
        "start_time": "2022-05-01T16:21:48.771Z"
      },
      {
        "duration": 26,
        "start_time": "2022-05-01T16:22:07.643Z"
      },
      {
        "duration": 14,
        "start_time": "2022-05-01T16:22:11.736Z"
      },
      {
        "duration": 24,
        "start_time": "2022-05-01T16:22:14.384Z"
      },
      {
        "duration": 27,
        "start_time": "2022-05-01T16:22:24.748Z"
      },
      {
        "duration": 20,
        "start_time": "2022-05-01T16:22:28.540Z"
      },
      {
        "duration": 30,
        "start_time": "2022-05-01T16:22:33.770Z"
      },
      {
        "duration": 3143,
        "start_time": "2022-05-01T16:23:11.228Z"
      },
      {
        "duration": 3240,
        "start_time": "2022-05-01T16:23:19.273Z"
      },
      {
        "duration": 24,
        "start_time": "2022-05-01T16:23:36.213Z"
      },
      {
        "duration": 45,
        "start_time": "2022-05-01T16:23:44.223Z"
      },
      {
        "duration": 5,
        "start_time": "2022-05-01T16:23:59.761Z"
      },
      {
        "duration": 54,
        "start_time": "2022-05-01T16:24:01.621Z"
      },
      {
        "duration": 4,
        "start_time": "2022-05-01T16:24:18.294Z"
      },
      {
        "duration": 44,
        "start_time": "2022-05-01T16:24:20.088Z"
      },
      {
        "duration": 4,
        "start_time": "2022-05-01T16:24:27.615Z"
      },
      {
        "duration": 36,
        "start_time": "2022-05-01T16:24:29.212Z"
      },
      {
        "duration": 29,
        "start_time": "2022-05-01T16:24:40.169Z"
      },
      {
        "duration": 4457,
        "start_time": "2022-05-01T16:25:05.172Z"
      },
      {
        "duration": 33,
        "start_time": "2022-05-01T16:25:20.856Z"
      },
      {
        "duration": 28,
        "start_time": "2022-05-01T16:25:27.655Z"
      },
      {
        "duration": 29,
        "start_time": "2022-05-01T16:30:05.249Z"
      },
      {
        "duration": 35,
        "start_time": "2022-05-01T16:30:19.704Z"
      },
      {
        "duration": 21,
        "start_time": "2022-05-01T16:30:29.233Z"
      },
      {
        "duration": 28,
        "start_time": "2022-05-01T16:30:35.768Z"
      },
      {
        "duration": 35,
        "start_time": "2022-05-01T16:31:07.419Z"
      },
      {
        "duration": 14,
        "start_time": "2022-05-01T16:31:44.852Z"
      },
      {
        "duration": 4,
        "start_time": "2022-05-01T16:32:37.879Z"
      },
      {
        "duration": 31,
        "start_time": "2022-05-01T16:32:40.427Z"
      },
      {
        "duration": 17,
        "start_time": "2022-05-01T16:32:44.396Z"
      },
      {
        "duration": 216,
        "start_time": "2022-05-01T16:33:42.175Z"
      },
      {
        "duration": 25,
        "start_time": "2022-05-01T16:33:48.182Z"
      },
      {
        "duration": 26,
        "start_time": "2022-05-01T16:34:03.175Z"
      },
      {
        "duration": 30,
        "start_time": "2022-05-01T16:34:05.450Z"
      },
      {
        "duration": 32,
        "start_time": "2022-05-01T16:34:16.767Z"
      },
      {
        "duration": 32,
        "start_time": "2022-05-01T16:34:18.942Z"
      },
      {
        "duration": 17,
        "start_time": "2022-05-01T16:34:49.855Z"
      },
      {
        "duration": 10,
        "start_time": "2022-05-01T16:35:28.328Z"
      },
      {
        "duration": 13,
        "start_time": "2022-05-01T16:35:37.039Z"
      },
      {
        "duration": 47,
        "start_time": "2022-05-01T16:36:08.607Z"
      },
      {
        "duration": 28,
        "start_time": "2022-05-01T16:36:15.793Z"
      },
      {
        "duration": 35,
        "start_time": "2022-05-01T16:36:17.960Z"
      },
      {
        "duration": 46,
        "start_time": "2022-05-01T16:38:47.518Z"
      },
      {
        "duration": 18,
        "start_time": "2022-05-01T16:40:13.831Z"
      },
      {
        "duration": 42,
        "start_time": "2022-05-01T16:40:38.001Z"
      },
      {
        "duration": 20,
        "start_time": "2022-05-01T16:40:44.551Z"
      },
      {
        "duration": 13,
        "start_time": "2022-05-01T16:41:56.464Z"
      },
      {
        "duration": 29,
        "start_time": "2022-05-01T16:42:20.396Z"
      },
      {
        "duration": 6,
        "start_time": "2022-05-01T16:42:23.105Z"
      },
      {
        "duration": 4,
        "start_time": "2022-05-01T16:44:38.337Z"
      },
      {
        "duration": 13,
        "start_time": "2022-05-01T16:44:40.182Z"
      },
      {
        "duration": 6,
        "start_time": "2022-05-01T16:44:42.446Z"
      },
      {
        "duration": 13,
        "start_time": "2022-05-01T16:45:09.057Z"
      },
      {
        "duration": 12,
        "start_time": "2022-05-01T16:45:11.189Z"
      },
      {
        "duration": 1030,
        "start_time": "2022-05-01T16:45:39.528Z"
      },
      {
        "duration": 9,
        "start_time": "2022-05-01T16:46:00.046Z"
      },
      {
        "duration": 1196,
        "start_time": "2022-05-01T16:46:13.144Z"
      },
      {
        "duration": 472,
        "start_time": "2022-05-01T16:46:14.342Z"
      },
      {
        "duration": 33,
        "start_time": "2022-05-01T16:46:14.816Z"
      },
      {
        "duration": 127,
        "start_time": "2022-05-01T16:46:14.851Z"
      },
      {
        "duration": 217,
        "start_time": "2022-05-01T16:46:14.980Z"
      },
      {
        "duration": 677,
        "start_time": "2022-05-01T16:46:15.199Z"
      },
      {
        "duration": 91,
        "start_time": "2022-05-01T16:46:15.878Z"
      },
      {
        "duration": 65,
        "start_time": "2022-05-01T16:46:15.971Z"
      },
      {
        "duration": 32,
        "start_time": "2022-05-01T16:46:16.038Z"
      },
      {
        "duration": 21,
        "start_time": "2022-05-01T16:46:16.073Z"
      },
      {
        "duration": 4,
        "start_time": "2022-05-01T16:46:16.096Z"
      },
      {
        "duration": 66,
        "start_time": "2022-05-01T16:46:16.102Z"
      },
      {
        "duration": 20,
        "start_time": "2022-05-01T16:46:16.170Z"
      },
      {
        "duration": 22,
        "start_time": "2022-05-01T16:46:16.224Z"
      },
      {
        "duration": 27,
        "start_time": "2022-05-01T16:46:16.248Z"
      },
      {
        "duration": 24,
        "start_time": "2022-05-01T16:46:16.277Z"
      },
      {
        "duration": 27,
        "start_time": "2022-05-01T16:46:16.303Z"
      },
      {
        "duration": 17,
        "start_time": "2022-05-01T16:46:16.333Z"
      },
      {
        "duration": 6,
        "start_time": "2022-05-01T16:46:16.352Z"
      },
      {
        "duration": 14,
        "start_time": "2022-05-01T16:46:16.360Z"
      },
      {
        "duration": 13,
        "start_time": "2022-05-01T16:46:16.375Z"
      },
      {
        "duration": 7,
        "start_time": "2022-05-01T16:46:16.390Z"
      },
      {
        "duration": 1521,
        "start_time": "2022-05-01T16:46:16.431Z"
      },
      {
        "duration": 3920,
        "start_time": "2022-05-01T16:59:15.810Z"
      },
      {
        "duration": 527,
        "start_time": "2022-05-01T16:59:34.608Z"
      },
      {
        "duration": 431,
        "start_time": "2022-05-01T16:59:57.987Z"
      },
      {
        "duration": 1060,
        "start_time": "2022-05-01T17:00:11.862Z"
      },
      {
        "duration": 1123,
        "start_time": "2022-05-01T17:00:21.795Z"
      },
      {
        "duration": 1016,
        "start_time": "2022-05-01T17:00:33.162Z"
      },
      {
        "duration": 572,
        "start_time": "2022-05-01T17:00:57.285Z"
      },
      {
        "duration": 546,
        "start_time": "2022-05-01T17:01:01.523Z"
      },
      {
        "duration": 479,
        "start_time": "2022-05-01T17:01:16.538Z"
      },
      {
        "duration": 1257,
        "start_time": "2022-05-01T17:01:22.212Z"
      },
      {
        "duration": 1088,
        "start_time": "2022-05-01T17:01:34.452Z"
      },
      {
        "duration": 1013,
        "start_time": "2022-05-01T17:01:56.055Z"
      },
      {
        "duration": 1229,
        "start_time": "2022-05-01T17:02:21.364Z"
      },
      {
        "duration": 1072,
        "start_time": "2022-05-01T17:02:35.987Z"
      },
      {
        "duration": 2020,
        "start_time": "2022-05-01T17:03:04.874Z"
      },
      {
        "duration": 2012,
        "start_time": "2022-05-01T17:03:15.520Z"
      },
      {
        "duration": 1327,
        "start_time": "2022-05-01T17:03:26.346Z"
      },
      {
        "duration": 2095,
        "start_time": "2022-05-01T17:03:42.271Z"
      },
      {
        "duration": 802,
        "start_time": "2022-05-01T17:03:46.127Z"
      },
      {
        "duration": 1257,
        "start_time": "2022-05-01T17:03:48.915Z"
      },
      {
        "duration": 1392,
        "start_time": "2022-05-01T17:03:52.169Z"
      },
      {
        "duration": 1482,
        "start_time": "2022-05-01T17:04:39.309Z"
      },
      {
        "duration": 1282,
        "start_time": "2022-05-01T17:04:54.940Z"
      },
      {
        "duration": 1281,
        "start_time": "2022-05-01T17:05:15.652Z"
      },
      {
        "duration": 2228,
        "start_time": "2022-05-01T17:05:44.042Z"
      },
      {
        "duration": 1259,
        "start_time": "2022-05-01T17:06:24.679Z"
      },
      {
        "duration": 1180,
        "start_time": "2022-05-01T17:07:02.421Z"
      },
      {
        "duration": 1117,
        "start_time": "2022-05-01T17:07:09.743Z"
      },
      {
        "duration": 1284,
        "start_time": "2022-05-01T17:07:17.421Z"
      },
      {
        "duration": 1524,
        "start_time": "2022-05-01T17:07:27.929Z"
      },
      {
        "duration": 1211,
        "start_time": "2022-05-01T17:07:51.558Z"
      },
      {
        "duration": 1218,
        "start_time": "2022-05-01T17:08:22.241Z"
      },
      {
        "duration": 1396,
        "start_time": "2022-05-01T17:08:29.943Z"
      },
      {
        "duration": 1068,
        "start_time": "2022-05-01T17:08:40.351Z"
      },
      {
        "duration": 1128,
        "start_time": "2022-05-01T17:12:01.525Z"
      },
      {
        "duration": 1692,
        "start_time": "2022-05-01T17:12:08.735Z"
      },
      {
        "duration": 1024,
        "start_time": "2022-05-01T17:12:15.751Z"
      },
      {
        "duration": 3654,
        "start_time": "2022-05-01T17:16:07.071Z"
      },
      {
        "duration": 4206,
        "start_time": "2022-05-01T17:16:28.083Z"
      },
      {
        "duration": 4014,
        "start_time": "2022-05-01T17:16:44.828Z"
      },
      {
        "duration": 4285,
        "start_time": "2022-05-01T17:17:00.419Z"
      },
      {
        "duration": 997,
        "start_time": "2022-05-01T17:17:16.735Z"
      },
      {
        "duration": 21,
        "start_time": "2022-05-01T17:20:00.726Z"
      },
      {
        "duration": 219,
        "start_time": "2022-05-01T17:20:27.201Z"
      },
      {
        "duration": 7,
        "start_time": "2022-05-01T17:20:58.384Z"
      },
      {
        "duration": 220,
        "start_time": "2022-05-01T17:21:38.318Z"
      },
      {
        "duration": 10,
        "start_time": "2022-05-01T17:21:54.475Z"
      },
      {
        "duration": 8,
        "start_time": "2022-05-01T17:22:19.264Z"
      },
      {
        "duration": 1260,
        "start_time": "2022-05-01T17:24:06.816Z"
      },
      {
        "duration": 444,
        "start_time": "2022-05-01T17:24:08.079Z"
      },
      {
        "duration": 26,
        "start_time": "2022-05-01T17:24:08.525Z"
      },
      {
        "duration": 124,
        "start_time": "2022-05-01T17:24:08.553Z"
      },
      {
        "duration": 203,
        "start_time": "2022-05-01T17:24:08.680Z"
      },
      {
        "duration": 612,
        "start_time": "2022-05-01T17:24:08.884Z"
      },
      {
        "duration": 87,
        "start_time": "2022-05-01T17:24:09.498Z"
      },
      {
        "duration": 50,
        "start_time": "2022-05-01T17:24:09.587Z"
      },
      {
        "duration": 31,
        "start_time": "2022-05-01T17:24:09.639Z"
      },
      {
        "duration": 21,
        "start_time": "2022-05-01T17:24:09.671Z"
      },
      {
        "duration": 29,
        "start_time": "2022-05-01T17:24:09.694Z"
      },
      {
        "duration": 43,
        "start_time": "2022-05-01T17:24:09.725Z"
      },
      {
        "duration": 19,
        "start_time": "2022-05-01T17:24:09.770Z"
      },
      {
        "duration": 43,
        "start_time": "2022-05-01T17:24:09.792Z"
      },
      {
        "duration": 26,
        "start_time": "2022-05-01T17:24:09.837Z"
      },
      {
        "duration": 9,
        "start_time": "2022-05-01T17:24:09.864Z"
      },
      {
        "duration": 4,
        "start_time": "2022-05-01T17:24:09.875Z"
      },
      {
        "duration": 43,
        "start_time": "2022-05-01T17:24:09.881Z"
      },
      {
        "duration": 7,
        "start_time": "2022-05-01T17:24:09.926Z"
      },
      {
        "duration": 13,
        "start_time": "2022-05-01T17:24:09.936Z"
      },
      {
        "duration": 16,
        "start_time": "2022-05-01T17:24:09.951Z"
      },
      {
        "duration": 1272,
        "start_time": "2022-05-01T17:24:09.969Z"
      },
      {
        "duration": 25,
        "start_time": "2022-05-01T17:24:11.242Z"
      },
      {
        "duration": 256,
        "start_time": "2022-05-01T17:24:11.269Z"
      },
      {
        "duration": 8,
        "start_time": "2022-05-01T17:24:11.527Z"
      },
      {
        "duration": 272,
        "start_time": "2022-05-01T17:24:11.537Z"
      },
      {
        "duration": 19,
        "start_time": "2022-05-01T17:24:11.811Z"
      },
      {
        "duration": 30,
        "start_time": "2022-05-01T17:24:11.832Z"
      },
      {
        "duration": 47,
        "start_time": "2022-05-02T14:28:22.371Z"
      },
      {
        "duration": 1134,
        "start_time": "2022-05-02T14:28:29.862Z"
      },
      {
        "duration": 385,
        "start_time": "2022-05-02T14:28:30.998Z"
      },
      {
        "duration": 22,
        "start_time": "2022-05-02T14:28:31.384Z"
      },
      {
        "duration": 120,
        "start_time": "2022-05-02T14:28:31.408Z"
      },
      {
        "duration": 169,
        "start_time": "2022-05-02T14:28:31.554Z"
      },
      {
        "duration": 864,
        "start_time": "2022-05-02T14:28:31.725Z"
      },
      {
        "duration": 94,
        "start_time": "2022-05-02T14:28:32.591Z"
      },
      {
        "duration": 45,
        "start_time": "2022-05-02T14:28:32.687Z"
      },
      {
        "duration": 55,
        "start_time": "2022-05-02T14:28:32.734Z"
      },
      {
        "duration": 28,
        "start_time": "2022-05-02T14:28:32.791Z"
      },
      {
        "duration": 5,
        "start_time": "2022-05-02T14:28:32.821Z"
      },
      {
        "duration": 71,
        "start_time": "2022-05-02T14:28:32.828Z"
      },
      {
        "duration": 21,
        "start_time": "2022-05-02T14:28:32.900Z"
      },
      {
        "duration": 38,
        "start_time": "2022-05-02T14:28:32.924Z"
      },
      {
        "duration": 76,
        "start_time": "2022-05-02T14:28:32.964Z"
      },
      {
        "duration": 5,
        "start_time": "2022-05-02T14:28:33.043Z"
      },
      {
        "duration": 10,
        "start_time": "2022-05-02T14:28:33.050Z"
      },
      {
        "duration": 22,
        "start_time": "2022-05-02T14:28:33.062Z"
      },
      {
        "duration": 8,
        "start_time": "2022-05-02T14:28:33.086Z"
      },
      {
        "duration": 16,
        "start_time": "2022-05-02T14:28:33.096Z"
      },
      {
        "duration": 14,
        "start_time": "2022-05-02T14:28:33.113Z"
      },
      {
        "duration": 1107,
        "start_time": "2022-05-02T14:28:33.129Z"
      },
      {
        "duration": 31,
        "start_time": "2022-05-02T14:28:34.238Z"
      },
      {
        "duration": 234,
        "start_time": "2022-05-02T14:28:34.271Z"
      },
      {
        "duration": 12,
        "start_time": "2022-05-02T14:28:34.507Z"
      },
      {
        "duration": 359,
        "start_time": "2022-05-02T14:28:34.521Z"
      },
      {
        "duration": 8,
        "start_time": "2022-05-02T14:28:34.883Z"
      },
      {
        "duration": 13,
        "start_time": "2022-05-02T14:28:34.892Z"
      }
    ],
    "celltoolbar": "Необработанный формат ячейки",
    "kernel_info": {
      "name": "python3"
    },
    "kernelspec": {
      "display_name": "Python 3 (ipykernel)",
      "language": "python",
      "name": "python3"
    },
    "language_info": {
      "name": "python",
      "version": "3.9.5",
      "mimetype": "text/x-python",
      "codemirror_mode": {
        "name": "ipython",
        "version": 3
      },
      "pygments_lexer": "ipython3",
      "nbconvert_exporter": "python",
      "file_extension": ".py"
    },
    "toc": {
      "toc_position": {
        "height": "calc(100% - 180px)",
        "left": "10px",
        "top": "150px",
        "width": "346.667px"
      },
      "skip_h1_title": true,
      "number_sections": true,
      "title_cell": "Table of Contents",
      "toc_window_display": true,
      "base_numbering": 1,
      "toc_section_display": true,
      "title_sidebar": "Contents",
      "toc_cell": false,
      "nav_menu": {
        "height": "202.333px",
        "width": "477.333px"
      },
      "sideBar": true
    },
    "nteract": {
      "version": "0.28.0"
    }
  },
  "nbformat": 4,
  "nbformat_minor": 1
}