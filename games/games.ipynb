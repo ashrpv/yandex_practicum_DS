{
 "cells": [
  {
   "cell_type": "markdown",
   "metadata": {
    "toc": true
   },
   "source": [
    "<h1>Table of Contents<span class=\"tocSkip\"></span></h1>\n",
    "<div class=\"toc\"><ul class=\"toc-item\"><li><span><a href=\"#Загрузка-данных-и-ознакомление\" data-toc-modified-id=\"Загрузка-данных-и-ознакомление-1\"><span class=\"toc-item-num\">1&nbsp;&nbsp;</span>Загрузка данных и ознакомление</a></span><ul class=\"toc-item\"><li><span><a href=\"#Загрузка-данных-и-модулей\" data-toc-modified-id=\"Загрузка-данных-и-модулей-1.1\"><span class=\"toc-item-num\">1.1&nbsp;&nbsp;</span>Загрузка данных и модулей</a></span></li><li><span><a href=\"#Ознакомление-с-данными\" data-toc-modified-id=\"Ознакомление-с-данными-1.2\"><span class=\"toc-item-num\">1.2&nbsp;&nbsp;</span>Ознакомление с данными</a></span></li></ul></li><li><span><a href=\"#Предобработка-данных\" data-toc-modified-id=\"Предобработка-данных-2\"><span class=\"toc-item-num\">2&nbsp;&nbsp;</span>Предобработка данных</a></span><ul class=\"toc-item\"><li><span><a href=\"#Переименование-столбцов\" data-toc-modified-id=\"Переименование-столбцов-2.1\"><span class=\"toc-item-num\">2.1&nbsp;&nbsp;</span>Переименование столбцов</a></span></li><li><span><a href=\"#Обработка-пропусков-и-дубликатов\" data-toc-modified-id=\"Обработка-пропусков-и-дубликатов-2.2\"><span class=\"toc-item-num\">2.2&nbsp;&nbsp;</span>Обработка пропусков и дубликатов</a></span><ul class=\"toc-item\"><li><span><a href=\"#Пропуски-в-столбце-name\" data-toc-modified-id=\"Пропуски-в-столбце-name-2.2.1\"><span class=\"toc-item-num\">2.2.1&nbsp;&nbsp;</span>Пропуски в столбце <code>name</code></a></span></li><li><span><a href=\"#Пропуски-в-столбце-years_of_release\" data-toc-modified-id=\"Пропуски-в-столбце-years_of_release-2.2.2\"><span class=\"toc-item-num\">2.2.2&nbsp;&nbsp;</span>Пропуски в столбце <code>years_of_release</code></a></span></li><li><span><a href=\"#Пропуски-в-столбцах-user_score-и-critic_score\" data-toc-modified-id=\"Пропуски-в-столбцах-user_score-и-critic_score-2.2.3\"><span class=\"toc-item-num\">2.2.3&nbsp;&nbsp;</span>Пропуски в столбцах <code>user_score</code> и <code>critic_score</code></a></span></li><li><span><a href=\"#Пропуски-в-столбце-rating\" data-toc-modified-id=\"Пропуски-в-столбце-rating-2.2.4\"><span class=\"toc-item-num\">2.2.4&nbsp;&nbsp;</span>Пропуски в столбце <code>rating</code></a></span></li><li><span><a href=\"#Удаление-дубликатов\" data-toc-modified-id=\"Удаление-дубликатов-2.2.5\"><span class=\"toc-item-num\">2.2.5&nbsp;&nbsp;</span>Удаление дубликатов</a></span></li></ul></li><li><span><a href=\"#Изменение-типов-данных\" data-toc-modified-id=\"Изменение-типов-данных-2.3\"><span class=\"toc-item-num\">2.3&nbsp;&nbsp;</span>Изменение типов данных</a></span></li><li><span><a href=\"#Расчет-суммарных-продаж\" data-toc-modified-id=\"Расчет-суммарных-продаж-2.4\"><span class=\"toc-item-num\">2.4&nbsp;&nbsp;</span>Расчет суммарных продаж</a></span></li></ul></li><li><span><a href=\"#Исследовательский-анализ-данных\" data-toc-modified-id=\"Исследовательский-анализ-данных-3\"><span class=\"toc-item-num\">3&nbsp;&nbsp;</span>Исследовательский анализ данных</a></span><ul class=\"toc-item\"><li><span><a href=\"#Изменение-числа-выпускаемых-игр-по-годам\" data-toc-modified-id=\"Изменение-числа-выпускаемых-игр-по-годам-3.1\"><span class=\"toc-item-num\">3.1&nbsp;&nbsp;</span>Изменение числа выпускаемых игр по годам</a></span></li><li><span><a href=\"#Изменение-популярности-игровых-платформ\" data-toc-modified-id=\"Изменение-популярности-игровых-платформ-3.2\"><span class=\"toc-item-num\">3.2&nbsp;&nbsp;</span>Изменение популярности игровых платформ</a></span></li><li><span><a href=\"#Суммарные-продажи-игр-по-платформам\" data-toc-modified-id=\"Суммарные-продажи-игр-по-платформам-3.3\"><span class=\"toc-item-num\">3.3&nbsp;&nbsp;</span>Суммарные продажи игр по платформам</a></span></li><li><span><a href=\"#Влияние-оценок-пользователей-и-критиков-на-продажи\" data-toc-modified-id=\"Влияние-оценок-пользователей-и-критиков-на-продажи-3.4\"><span class=\"toc-item-num\">3.4&nbsp;&nbsp;</span>Влияние оценок пользователей и критиков на продажи</a></span></li><li><span><a href=\"#Число-игр-и-суммарные-продажи-по-жанрам\" data-toc-modified-id=\"Число-игр-и-суммарные-продажи-по-жанрам-3.5\"><span class=\"toc-item-num\">3.5&nbsp;&nbsp;</span>Число игр и суммарные продажи по жанрам</a></span></li><li><span><a href=\"#Региональные-различия\" data-toc-modified-id=\"Региональные-различия-3.6\"><span class=\"toc-item-num\">3.6&nbsp;&nbsp;</span>Региональные различия</a></span><ul class=\"toc-item\"><li><span><a href=\"#Популярность-платформ\" data-toc-modified-id=\"Популярность-платформ-3.6.1\"><span class=\"toc-item-num\">3.6.1&nbsp;&nbsp;</span>Популярность платформ</a></span></li><li><span><a href=\"#Популярность-жанров\" data-toc-modified-id=\"Популярность-жанров-3.6.2\"><span class=\"toc-item-num\">3.6.2&nbsp;&nbsp;</span>Популярность жанров</a></span></li><li><span><a href=\"#Влияние-возрастного-рейтинга\" data-toc-modified-id=\"Влияние-возрастного-рейтинга-3.6.3\"><span class=\"toc-item-num\">3.6.3&nbsp;&nbsp;</span>Влияние возрастного рейтинга</a></span></li></ul></li></ul></li><li><span><a href=\"#Статистический-анализ\" data-toc-modified-id=\"Статистический-анализ-4\"><span class=\"toc-item-num\">4&nbsp;&nbsp;</span>Статистический анализ</a></span><ul class=\"toc-item\"><li><span><a href=\"#Формулировки-гипотез\" data-toc-modified-id=\"Формулировки-гипотез-4.1\"><span class=\"toc-item-num\">4.1&nbsp;&nbsp;</span>Формулировки гипотез</a></span></li><li><span><a href=\"#Различие-пользовательских-рейтингов-для-платформ-Xbox-One-и-PC\" data-toc-modified-id=\"Различие-пользовательских-рейтингов-для-платформ-Xbox-One-и-PC-4.2\"><span class=\"toc-item-num\">4.2&nbsp;&nbsp;</span>Различие пользовательских рейтингов для платформ Xbox One и PC</a></span></li><li><span><a href=\"#Различие-пользовательских-рейтингов-игр-в-жанрах-Action-и-Sports\" data-toc-modified-id=\"Различие-пользовательских-рейтингов-игр-в-жанрах-Action-и-Sports-4.3\"><span class=\"toc-item-num\">4.3&nbsp;&nbsp;</span>Различие пользовательских рейтингов игр в жанрах <code>Action</code> и <code>Sports</code></a></span></li></ul></li><li><span><a href=\"#Выводы\" data-toc-modified-id=\"Выводы-5\"><span class=\"toc-item-num\">5&nbsp;&nbsp;</span>Выводы</a></span><ul class=\"toc-item\"><li><span><a href=\"#Актуальный-период-и-потенциально-прибыльные-платформы\" data-toc-modified-id=\"Актуальный-период-и-потенциально-прибыльные-платформы-5.1\"><span class=\"toc-item-num\">5.1&nbsp;&nbsp;</span>Актуальный период и потенциально прибыльные платформы</a></span></li><li><span><a href=\"#Влияние-оценок-критиков-и-пользователей\" data-toc-modified-id=\"Влияние-оценок-критиков-и-пользователей-5.2\"><span class=\"toc-item-num\">5.2&nbsp;&nbsp;</span>Влияние оценок критиков и пользователей</a></span></li><li><span><a href=\"#Распределение-продаж-игр-по-жанрам\" data-toc-modified-id=\"Распределение-продаж-игр-по-жанрам-5.3\"><span class=\"toc-item-num\">5.3&nbsp;&nbsp;</span>Распределение продаж игр по жанрам</a></span></li><li><span><a href=\"#Региональные-различия\" data-toc-modified-id=\"Региональные-различия-5.4\"><span class=\"toc-item-num\">5.4&nbsp;&nbsp;</span>Региональные различия</a></span></li><li><span><a href=\"#Проверка-статистических-гипотез\" data-toc-modified-id=\"Проверка-статистических-гипотез-5.5\"><span class=\"toc-item-num\">5.5&nbsp;&nbsp;</span>Проверка статистических гипотез</a></span></li><li><span><a href=\"#Общий-вывод\" data-toc-modified-id=\"Общий-вывод-5.6\"><span class=\"toc-item-num\">5.6&nbsp;&nbsp;</span>Общий вывод</a></span></li></ul></li></ul></div>"
   ]
  },
  {
   "cell_type": "markdown",
   "metadata": {},
   "source": [
    "# Описание проекта"
   ]
  },
  {
   "cell_type": "markdown",
   "metadata": {},
   "source": [
    "Из открытых источников доступны исторические данные о продажах игр, оценки пользователей и экспертов, жанры и платформы (например, Xbox или PlayStation). Нужно выявить определяющие успешность игры закономерности. Это позволит сделать ставку на потенциально популярный продукт и спланировать рекламные кампании.\n",
    "Даны данные до 2016 года. Нужно отработать принцип работы с данными, для прогнозирования продаж в следующем году, на основе данных текущего года (продажи на 2017 год по данным 2016-го).\n",
    "Аббревиатура ESRB (Entertainment Software Rating Board) в наборе данных — это ассоциация, определяющая возрастной рейтинг компьютерных игр. ESRB оценивает игровой контент и присваивает ему подходящую возрастную категорию, например, «Для взрослых», «Для детей младшего возраста» или «Для подростков».\n",
    "\n",
    "**Требуется**:\n",
    "- подготовить данные;\n",
    "- провести исследовательский анализ данных, в частности - выделить актуальный период для прогнозирования;\n",
    "- составить портрет пользователя для разных регионов;\n",
    "- проверить различие пользовательских рейтингов для разных платформ и жанров игр."
   ]
  },
  {
   "cell_type": "markdown",
   "metadata": {},
   "source": [
    "## Загрузка данных и ознакомление"
   ]
  },
  {
   "cell_type": "markdown",
   "metadata": {},
   "source": [
    "### Загрузка данных и модулей"
   ]
  },
  {
   "cell_type": "code",
   "execution_count": 1,
   "metadata": {},
   "outputs": [
    {
     "name": "stdout",
     "output_type": "stream",
     "text": [
      "Модули загружены...\n"
     ]
    }
   ],
   "source": [
    "#Загрузка модулей\n",
    "import pandas as pd\n",
    "import numpy as np\n",
    "import matplotlib.pyplot as plt\n",
    "import scipy.stats as st\n",
    "print('Модули загружены...')"
   ]
  },
  {
   "cell_type": "code",
   "execution_count": 2,
   "metadata": {
    "scrolled": false
   },
   "outputs": [
    {
     "name": "stdout",
     "output_type": "stream",
     "text": [
      "Данные загружены...\n"
     ]
    }
   ],
   "source": [
    "#Загрузка данных\n",
    "data = pd.read_csv('/datasets/games.csv')\n",
    "print('Данные загружены...')"
   ]
  },
  {
   "cell_type": "markdown",
   "metadata": {},
   "source": [
    "### Ознакомление с данными"
   ]
  },
  {
   "cell_type": "code",
   "execution_count": 3,
   "metadata": {},
   "outputs": [
    {
     "data": {
      "text/html": [
       "<div>\n",
       "<style scoped>\n",
       "    .dataframe tbody tr th:only-of-type {\n",
       "        vertical-align: middle;\n",
       "    }\n",
       "\n",
       "    .dataframe tbody tr th {\n",
       "        vertical-align: top;\n",
       "    }\n",
       "\n",
       "    .dataframe thead th {\n",
       "        text-align: right;\n",
       "    }\n",
       "</style>\n",
       "<table border=\"1\" class=\"dataframe\">\n",
       "  <thead>\n",
       "    <tr style=\"text-align: right;\">\n",
       "      <th></th>\n",
       "      <th>Name</th>\n",
       "      <th>Platform</th>\n",
       "      <th>Year_of_Release</th>\n",
       "      <th>Genre</th>\n",
       "      <th>NA_sales</th>\n",
       "      <th>EU_sales</th>\n",
       "      <th>JP_sales</th>\n",
       "      <th>Other_sales</th>\n",
       "      <th>Critic_Score</th>\n",
       "      <th>User_Score</th>\n",
       "      <th>Rating</th>\n",
       "    </tr>\n",
       "  </thead>\n",
       "  <tbody>\n",
       "    <tr>\n",
       "      <th>0</th>\n",
       "      <td>Wii Sports</td>\n",
       "      <td>Wii</td>\n",
       "      <td>2006.0</td>\n",
       "      <td>Sports</td>\n",
       "      <td>41.36</td>\n",
       "      <td>28.96</td>\n",
       "      <td>3.77</td>\n",
       "      <td>8.45</td>\n",
       "      <td>76.0</td>\n",
       "      <td>8</td>\n",
       "      <td>E</td>\n",
       "    </tr>\n",
       "    <tr>\n",
       "      <th>1</th>\n",
       "      <td>Super Mario Bros.</td>\n",
       "      <td>NES</td>\n",
       "      <td>1985.0</td>\n",
       "      <td>Platform</td>\n",
       "      <td>29.08</td>\n",
       "      <td>3.58</td>\n",
       "      <td>6.81</td>\n",
       "      <td>0.77</td>\n",
       "      <td>NaN</td>\n",
       "      <td>NaN</td>\n",
       "      <td>NaN</td>\n",
       "    </tr>\n",
       "    <tr>\n",
       "      <th>2</th>\n",
       "      <td>Mario Kart Wii</td>\n",
       "      <td>Wii</td>\n",
       "      <td>2008.0</td>\n",
       "      <td>Racing</td>\n",
       "      <td>15.68</td>\n",
       "      <td>12.76</td>\n",
       "      <td>3.79</td>\n",
       "      <td>3.29</td>\n",
       "      <td>82.0</td>\n",
       "      <td>8.3</td>\n",
       "      <td>E</td>\n",
       "    </tr>\n",
       "    <tr>\n",
       "      <th>3</th>\n",
       "      <td>Wii Sports Resort</td>\n",
       "      <td>Wii</td>\n",
       "      <td>2009.0</td>\n",
       "      <td>Sports</td>\n",
       "      <td>15.61</td>\n",
       "      <td>10.93</td>\n",
       "      <td>3.28</td>\n",
       "      <td>2.95</td>\n",
       "      <td>80.0</td>\n",
       "      <td>8</td>\n",
       "      <td>E</td>\n",
       "    </tr>\n",
       "    <tr>\n",
       "      <th>4</th>\n",
       "      <td>Pokemon Red/Pokemon Blue</td>\n",
       "      <td>GB</td>\n",
       "      <td>1996.0</td>\n",
       "      <td>Role-Playing</td>\n",
       "      <td>11.27</td>\n",
       "      <td>8.89</td>\n",
       "      <td>10.22</td>\n",
       "      <td>1.00</td>\n",
       "      <td>NaN</td>\n",
       "      <td>NaN</td>\n",
       "      <td>NaN</td>\n",
       "    </tr>\n",
       "  </tbody>\n",
       "</table>\n",
       "</div>"
      ],
      "text/plain": [
       "                       Name Platform  Year_of_Release         Genre  NA_sales  \\\n",
       "0                Wii Sports      Wii           2006.0        Sports     41.36   \n",
       "1         Super Mario Bros.      NES           1985.0      Platform     29.08   \n",
       "2            Mario Kart Wii      Wii           2008.0        Racing     15.68   \n",
       "3         Wii Sports Resort      Wii           2009.0        Sports     15.61   \n",
       "4  Pokemon Red/Pokemon Blue       GB           1996.0  Role-Playing     11.27   \n",
       "\n",
       "   EU_sales  JP_sales  Other_sales  Critic_Score User_Score Rating  \n",
       "0     28.96      3.77         8.45          76.0          8      E  \n",
       "1      3.58      6.81         0.77           NaN        NaN    NaN  \n",
       "2     12.76      3.79         3.29          82.0        8.3      E  \n",
       "3     10.93      3.28         2.95          80.0          8      E  \n",
       "4      8.89     10.22         1.00           NaN        NaN    NaN  "
      ]
     },
     "execution_count": 3,
     "metadata": {},
     "output_type": "execute_result"
    }
   ],
   "source": [
    "data.head()"
   ]
  },
  {
   "cell_type": "markdown",
   "metadata": {},
   "source": [
    "Описание столбцов:  \n",
    "`Name` — название игры  \n",
    "`Platform` — платформа  \n",
    "`Year_of_Release` — год выпуска  \n",
    "`Genre` — жанр игры  \n",
    "`NA_sales` — продажи в Северной Америке (миллионы проданных копий)  \n",
    "`EU_sales` — продажи в Европе (миллионы проданных копий)  \n",
    "`JP_sales` — продажи в Японии (миллионы проданных копий)  \n",
    "`Other_sales` — продажи в других странах (миллионы проданных копий)  \n",
    "`Critic_Score` — оценка критиков (максимум 100)  \n",
    "`User_Score` — оценка пользователей (максимум 10)  \n",
    "`Rating` — рейтинг от организации ESRB (англ. Entertainment Software Rating Board) (возрастная категория)."
   ]
  },
  {
   "cell_type": "markdown",
   "metadata": {},
   "source": [
    "Первое впечатление от данных:\n",
    "- названия столбцов следует привести к стилю snake_case\n",
    "- год выпуска представлен в дробном формате, следует его преобразовать в целочисленный\n",
    "- присутствуют пропуски, по крайней мере для старых игр, возможно это не критично.\n",
    "\n",
    "Изучим типы данных в таблице и долю пропусков:"
   ]
  },
  {
   "cell_type": "code",
   "execution_count": 4,
   "metadata": {
    "scrolled": true
   },
   "outputs": [
    {
     "name": "stdout",
     "output_type": "stream",
     "text": [
      "<class 'pandas.core.frame.DataFrame'>\n",
      "RangeIndex: 16715 entries, 0 to 16714\n",
      "Data columns (total 11 columns):\n",
      " #   Column           Non-Null Count  Dtype  \n",
      "---  ------           --------------  -----  \n",
      " 0   Name             16713 non-null  object \n",
      " 1   Platform         16715 non-null  object \n",
      " 2   Year_of_Release  16446 non-null  float64\n",
      " 3   Genre            16713 non-null  object \n",
      " 4   NA_sales         16715 non-null  float64\n",
      " 5   EU_sales         16715 non-null  float64\n",
      " 6   JP_sales         16715 non-null  float64\n",
      " 7   Other_sales      16715 non-null  float64\n",
      " 8   Critic_Score     8137 non-null   float64\n",
      " 9   User_Score       10014 non-null  object \n",
      " 10  Rating           9949 non-null   object \n",
      "dtypes: float64(6), object(5)\n",
      "memory usage: 1.4+ MB\n"
     ]
    }
   ],
   "source": [
    "data.info()"
   ]
  },
  {
   "cell_type": "markdown",
   "metadata": {},
   "source": [
    "Не подходящие типы данных использованы для столбцов `Year_of_Release` и `User_Score` (числа записаны как строки).  \n",
    "Тип возможно также не совпадает для столбца `Critic_Score`.  \n",
    "Столбец `Rating` имеет категориальный смысл, кроме того значения в этом столбце могут быть упорядочены по возрастанию ограничений.  \n",
    "Доля пропусков:"
   ]
  },
  {
   "cell_type": "code",
   "execution_count": 5,
   "metadata": {
    "scrolled": true
   },
   "outputs": [
    {
     "data": {
      "text/html": [
       "<div>\n",
       "<style scoped>\n",
       "    .dataframe tbody tr th:only-of-type {\n",
       "        vertical-align: middle;\n",
       "    }\n",
       "\n",
       "    .dataframe tbody tr th {\n",
       "        vertical-align: top;\n",
       "    }\n",
       "\n",
       "    .dataframe thead th {\n",
       "        text-align: right;\n",
       "    }\n",
       "</style>\n",
       "<table border=\"1\" class=\"dataframe\">\n",
       "  <thead>\n",
       "    <tr style=\"text-align: right;\">\n",
       "      <th></th>\n",
       "      <th>Year_of_Release</th>\n",
       "      <th>NA_sales</th>\n",
       "      <th>EU_sales</th>\n",
       "      <th>JP_sales</th>\n",
       "      <th>Other_sales</th>\n",
       "      <th>Critic_Score</th>\n",
       "    </tr>\n",
       "  </thead>\n",
       "  <tbody>\n",
       "    <tr>\n",
       "      <th>count</th>\n",
       "      <td>16446.000000</td>\n",
       "      <td>16715.000000</td>\n",
       "      <td>16715.000000</td>\n",
       "      <td>16715.000000</td>\n",
       "      <td>16715.000000</td>\n",
       "      <td>8137.000000</td>\n",
       "    </tr>\n",
       "    <tr>\n",
       "      <th>mean</th>\n",
       "      <td>2006.484616</td>\n",
       "      <td>0.263377</td>\n",
       "      <td>0.145060</td>\n",
       "      <td>0.077617</td>\n",
       "      <td>0.047342</td>\n",
       "      <td>68.967679</td>\n",
       "    </tr>\n",
       "    <tr>\n",
       "      <th>std</th>\n",
       "      <td>5.877050</td>\n",
       "      <td>0.813604</td>\n",
       "      <td>0.503339</td>\n",
       "      <td>0.308853</td>\n",
       "      <td>0.186731</td>\n",
       "      <td>13.938165</td>\n",
       "    </tr>\n",
       "    <tr>\n",
       "      <th>min</th>\n",
       "      <td>1980.000000</td>\n",
       "      <td>0.000000</td>\n",
       "      <td>0.000000</td>\n",
       "      <td>0.000000</td>\n",
       "      <td>0.000000</td>\n",
       "      <td>13.000000</td>\n",
       "    </tr>\n",
       "    <tr>\n",
       "      <th>25%</th>\n",
       "      <td>2003.000000</td>\n",
       "      <td>0.000000</td>\n",
       "      <td>0.000000</td>\n",
       "      <td>0.000000</td>\n",
       "      <td>0.000000</td>\n",
       "      <td>60.000000</td>\n",
       "    </tr>\n",
       "    <tr>\n",
       "      <th>50%</th>\n",
       "      <td>2007.000000</td>\n",
       "      <td>0.080000</td>\n",
       "      <td>0.020000</td>\n",
       "      <td>0.000000</td>\n",
       "      <td>0.010000</td>\n",
       "      <td>71.000000</td>\n",
       "    </tr>\n",
       "    <tr>\n",
       "      <th>75%</th>\n",
       "      <td>2010.000000</td>\n",
       "      <td>0.240000</td>\n",
       "      <td>0.110000</td>\n",
       "      <td>0.040000</td>\n",
       "      <td>0.030000</td>\n",
       "      <td>79.000000</td>\n",
       "    </tr>\n",
       "    <tr>\n",
       "      <th>max</th>\n",
       "      <td>2016.000000</td>\n",
       "      <td>41.360000</td>\n",
       "      <td>28.960000</td>\n",
       "      <td>10.220000</td>\n",
       "      <td>10.570000</td>\n",
       "      <td>98.000000</td>\n",
       "    </tr>\n",
       "  </tbody>\n",
       "</table>\n",
       "</div>"
      ],
      "text/plain": [
       "       Year_of_Release      NA_sales      EU_sales      JP_sales  \\\n",
       "count     16446.000000  16715.000000  16715.000000  16715.000000   \n",
       "mean       2006.484616      0.263377      0.145060      0.077617   \n",
       "std           5.877050      0.813604      0.503339      0.308853   \n",
       "min        1980.000000      0.000000      0.000000      0.000000   \n",
       "25%        2003.000000      0.000000      0.000000      0.000000   \n",
       "50%        2007.000000      0.080000      0.020000      0.000000   \n",
       "75%        2010.000000      0.240000      0.110000      0.040000   \n",
       "max        2016.000000     41.360000     28.960000     10.220000   \n",
       "\n",
       "        Other_sales  Critic_Score  \n",
       "count  16715.000000   8137.000000  \n",
       "mean       0.047342     68.967679  \n",
       "std        0.186731     13.938165  \n",
       "min        0.000000     13.000000  \n",
       "25%        0.000000     60.000000  \n",
       "50%        0.010000     71.000000  \n",
       "75%        0.030000     79.000000  \n",
       "max       10.570000     98.000000  "
      ]
     },
     "execution_count": 5,
     "metadata": {},
     "output_type": "execute_result"
    }
   ],
   "source": [
    "data.describe()"
   ]
  },
  {
   "cell_type": "markdown",
   "metadata": {},
   "source": [
    "Численные параметры в таблице имеют разумные значения."
   ]
  },
  {
   "cell_type": "code",
   "execution_count": 6,
   "metadata": {
    "scrolled": false
   },
   "outputs": [
    {
     "data": {
      "text/plain": [
       "Name               0.000120\n",
       "Platform           0.000000\n",
       "Year_of_Release    0.016093\n",
       "Genre              0.000120\n",
       "NA_sales           0.000000\n",
       "EU_sales           0.000000\n",
       "JP_sales           0.000000\n",
       "Other_sales        0.000000\n",
       "Critic_Score       0.513192\n",
       "User_Score         0.400897\n",
       "Rating             0.404786\n",
       "dtype: float64"
      ]
     },
     "execution_count": 6,
     "metadata": {},
     "output_type": "execute_result"
    }
   ],
   "source": [
    "data.isna().mean()"
   ]
  },
  {
   "cell_type": "markdown",
   "metadata": {},
   "source": [
    "Небольшое количество пропусков в столбцах `Name` и `Year_of_Release` вероятно следует удалить, поскольку без знания года выпуска игры, использовать другие данные о ней в рамках текущего исследования невозможно.  \n",
    "Пропуски в прочих столбцах должны быть исследованы подробнее."
   ]
  },
  {
   "cell_type": "markdown",
   "metadata": {},
   "source": [
    "Проверим наличие дубликатов (дубликатами будет считать записи, для которых совпадают название, платформа, год выпуска и жанр):"
   ]
  },
  {
   "cell_type": "code",
   "execution_count": 7,
   "metadata": {
    "scrolled": false
   },
   "outputs": [
    {
     "data": {
      "text/html": [
       "<div>\n",
       "<style scoped>\n",
       "    .dataframe tbody tr th:only-of-type {\n",
       "        vertical-align: middle;\n",
       "    }\n",
       "\n",
       "    .dataframe tbody tr th {\n",
       "        vertical-align: top;\n",
       "    }\n",
       "\n",
       "    .dataframe thead th {\n",
       "        text-align: right;\n",
       "    }\n",
       "</style>\n",
       "<table border=\"1\" class=\"dataframe\">\n",
       "  <thead>\n",
       "    <tr style=\"text-align: right;\">\n",
       "      <th></th>\n",
       "      <th>Name</th>\n",
       "      <th>Platform</th>\n",
       "      <th>Year_of_Release</th>\n",
       "      <th>Genre</th>\n",
       "      <th>NA_sales</th>\n",
       "      <th>EU_sales</th>\n",
       "      <th>JP_sales</th>\n",
       "      <th>Other_sales</th>\n",
       "      <th>Critic_Score</th>\n",
       "      <th>User_Score</th>\n",
       "      <th>Rating</th>\n",
       "    </tr>\n",
       "  </thead>\n",
       "  <tbody>\n",
       "    <tr>\n",
       "      <th>604</th>\n",
       "      <td>Madden NFL 13</td>\n",
       "      <td>PS3</td>\n",
       "      <td>2012.0</td>\n",
       "      <td>Sports</td>\n",
       "      <td>2.11</td>\n",
       "      <td>0.22</td>\n",
       "      <td>0.00</td>\n",
       "      <td>0.23</td>\n",
       "      <td>83.0</td>\n",
       "      <td>5.5</td>\n",
       "      <td>E</td>\n",
       "    </tr>\n",
       "    <tr>\n",
       "      <th>16230</th>\n",
       "      <td>Madden NFL 13</td>\n",
       "      <td>PS3</td>\n",
       "      <td>2012.0</td>\n",
       "      <td>Sports</td>\n",
       "      <td>0.00</td>\n",
       "      <td>0.01</td>\n",
       "      <td>0.00</td>\n",
       "      <td>0.00</td>\n",
       "      <td>83.0</td>\n",
       "      <td>5.5</td>\n",
       "      <td>E</td>\n",
       "    </tr>\n",
       "    <tr>\n",
       "      <th>659</th>\n",
       "      <td>NaN</td>\n",
       "      <td>GEN</td>\n",
       "      <td>1993.0</td>\n",
       "      <td>NaN</td>\n",
       "      <td>1.78</td>\n",
       "      <td>0.53</td>\n",
       "      <td>0.00</td>\n",
       "      <td>0.08</td>\n",
       "      <td>NaN</td>\n",
       "      <td>NaN</td>\n",
       "      <td>NaN</td>\n",
       "    </tr>\n",
       "    <tr>\n",
       "      <th>14244</th>\n",
       "      <td>NaN</td>\n",
       "      <td>GEN</td>\n",
       "      <td>1993.0</td>\n",
       "      <td>NaN</td>\n",
       "      <td>0.00</td>\n",
       "      <td>0.00</td>\n",
       "      <td>0.03</td>\n",
       "      <td>0.00</td>\n",
       "      <td>NaN</td>\n",
       "      <td>NaN</td>\n",
       "      <td>NaN</td>\n",
       "    </tr>\n",
       "  </tbody>\n",
       "</table>\n",
       "</div>"
      ],
      "text/plain": [
       "                Name Platform  Year_of_Release   Genre  NA_sales  EU_sales  \\\n",
       "604    Madden NFL 13      PS3           2012.0  Sports      2.11      0.22   \n",
       "16230  Madden NFL 13      PS3           2012.0  Sports      0.00      0.01   \n",
       "659              NaN      GEN           1993.0     NaN      1.78      0.53   \n",
       "14244            NaN      GEN           1993.0     NaN      0.00      0.00   \n",
       "\n",
       "       JP_sales  Other_sales  Critic_Score User_Score Rating  \n",
       "604        0.00         0.23          83.0        5.5      E  \n",
       "16230      0.00         0.00          83.0        5.5      E  \n",
       "659        0.00         0.08           NaN        NaN    NaN  \n",
       "14244      0.03         0.00           NaN        NaN    NaN  "
      ]
     },
     "execution_count": 7,
     "metadata": {},
     "output_type": "execute_result"
    }
   ],
   "source": [
    "data[data.duplicated(subset=['Name', 'Platform', 'Year_of_Release', 'Genre'], keep=False)].sort_values(by='Name')"
   ]
  },
  {
   "cell_type": "markdown",
   "metadata": {},
   "source": [
    "Дубликаты вероятно появились при объединении данных из разных источников. В общем случае такие дубликаты следовало бы объединить, однако в данном случае дублирующиеся строки с минимальными продажами могут быть удалены (строки с большими номерами)."
   ]
  },
  {
   "cell_type": "markdown",
   "metadata": {},
   "source": [
    "## Предобработка данных"
   ]
  },
  {
   "cell_type": "markdown",
   "metadata": {},
   "source": [
    "### Переименование столбцов\n",
    "Для удобства приведем названия столбцов к стилю snake_case. Для этого достаточно привести все буквы в названия к нижнему регистру:"
   ]
  },
  {
   "cell_type": "code",
   "execution_count": 8,
   "metadata": {},
   "outputs": [
    {
     "data": {
      "text/html": [
       "<div>\n",
       "<style scoped>\n",
       "    .dataframe tbody tr th:only-of-type {\n",
       "        vertical-align: middle;\n",
       "    }\n",
       "\n",
       "    .dataframe tbody tr th {\n",
       "        vertical-align: top;\n",
       "    }\n",
       "\n",
       "    .dataframe thead th {\n",
       "        text-align: right;\n",
       "    }\n",
       "</style>\n",
       "<table border=\"1\" class=\"dataframe\">\n",
       "  <thead>\n",
       "    <tr style=\"text-align: right;\">\n",
       "      <th></th>\n",
       "      <th>name</th>\n",
       "      <th>platform</th>\n",
       "      <th>year_of_release</th>\n",
       "      <th>genre</th>\n",
       "      <th>na_sales</th>\n",
       "      <th>eu_sales</th>\n",
       "      <th>jp_sales</th>\n",
       "      <th>other_sales</th>\n",
       "      <th>critic_score</th>\n",
       "      <th>user_score</th>\n",
       "      <th>rating</th>\n",
       "    </tr>\n",
       "  </thead>\n",
       "  <tbody>\n",
       "    <tr>\n",
       "      <th>0</th>\n",
       "      <td>Wii Sports</td>\n",
       "      <td>Wii</td>\n",
       "      <td>2006.0</td>\n",
       "      <td>Sports</td>\n",
       "      <td>41.36</td>\n",
       "      <td>28.96</td>\n",
       "      <td>3.77</td>\n",
       "      <td>8.45</td>\n",
       "      <td>76.0</td>\n",
       "      <td>8</td>\n",
       "      <td>E</td>\n",
       "    </tr>\n",
       "    <tr>\n",
       "      <th>1</th>\n",
       "      <td>Super Mario Bros.</td>\n",
       "      <td>NES</td>\n",
       "      <td>1985.0</td>\n",
       "      <td>Platform</td>\n",
       "      <td>29.08</td>\n",
       "      <td>3.58</td>\n",
       "      <td>6.81</td>\n",
       "      <td>0.77</td>\n",
       "      <td>NaN</td>\n",
       "      <td>NaN</td>\n",
       "      <td>NaN</td>\n",
       "    </tr>\n",
       "    <tr>\n",
       "      <th>2</th>\n",
       "      <td>Mario Kart Wii</td>\n",
       "      <td>Wii</td>\n",
       "      <td>2008.0</td>\n",
       "      <td>Racing</td>\n",
       "      <td>15.68</td>\n",
       "      <td>12.76</td>\n",
       "      <td>3.79</td>\n",
       "      <td>3.29</td>\n",
       "      <td>82.0</td>\n",
       "      <td>8.3</td>\n",
       "      <td>E</td>\n",
       "    </tr>\n",
       "    <tr>\n",
       "      <th>3</th>\n",
       "      <td>Wii Sports Resort</td>\n",
       "      <td>Wii</td>\n",
       "      <td>2009.0</td>\n",
       "      <td>Sports</td>\n",
       "      <td>15.61</td>\n",
       "      <td>10.93</td>\n",
       "      <td>3.28</td>\n",
       "      <td>2.95</td>\n",
       "      <td>80.0</td>\n",
       "      <td>8</td>\n",
       "      <td>E</td>\n",
       "    </tr>\n",
       "    <tr>\n",
       "      <th>4</th>\n",
       "      <td>Pokemon Red/Pokemon Blue</td>\n",
       "      <td>GB</td>\n",
       "      <td>1996.0</td>\n",
       "      <td>Role-Playing</td>\n",
       "      <td>11.27</td>\n",
       "      <td>8.89</td>\n",
       "      <td>10.22</td>\n",
       "      <td>1.00</td>\n",
       "      <td>NaN</td>\n",
       "      <td>NaN</td>\n",
       "      <td>NaN</td>\n",
       "    </tr>\n",
       "  </tbody>\n",
       "</table>\n",
       "</div>"
      ],
      "text/plain": [
       "                       name platform  year_of_release         genre  na_sales  \\\n",
       "0                Wii Sports      Wii           2006.0        Sports     41.36   \n",
       "1         Super Mario Bros.      NES           1985.0      Platform     29.08   \n",
       "2            Mario Kart Wii      Wii           2008.0        Racing     15.68   \n",
       "3         Wii Sports Resort      Wii           2009.0        Sports     15.61   \n",
       "4  Pokemon Red/Pokemon Blue       GB           1996.0  Role-Playing     11.27   \n",
       "\n",
       "   eu_sales  jp_sales  other_sales  critic_score user_score rating  \n",
       "0     28.96      3.77         8.45          76.0          8      E  \n",
       "1      3.58      6.81         0.77           NaN        NaN    NaN  \n",
       "2     12.76      3.79         3.29          82.0        8.3      E  \n",
       "3     10.93      3.28         2.95          80.0          8      E  \n",
       "4      8.89     10.22         1.00           NaN        NaN    NaN  "
      ]
     },
     "execution_count": 8,
     "metadata": {},
     "output_type": "execute_result"
    }
   ],
   "source": [
    "data.rename(str.lower, axis=1, inplace=True)\n",
    "data.head()"
   ]
  },
  {
   "cell_type": "markdown",
   "metadata": {},
   "source": [
    "### Обработка пропусков и дубликатов"
   ]
  },
  {
   "cell_type": "markdown",
   "metadata": {},
   "source": [
    "#### Пропуски в столбце `name`"
   ]
  },
  {
   "cell_type": "markdown",
   "metadata": {},
   "source": [
    "Рассмотрим пропуски в столбце `name`:"
   ]
  },
  {
   "cell_type": "code",
   "execution_count": 9,
   "metadata": {},
   "outputs": [
    {
     "data": {
      "text/html": [
       "<div>\n",
       "<style scoped>\n",
       "    .dataframe tbody tr th:only-of-type {\n",
       "        vertical-align: middle;\n",
       "    }\n",
       "\n",
       "    .dataframe tbody tr th {\n",
       "        vertical-align: top;\n",
       "    }\n",
       "\n",
       "    .dataframe thead th {\n",
       "        text-align: right;\n",
       "    }\n",
       "</style>\n",
       "<table border=\"1\" class=\"dataframe\">\n",
       "  <thead>\n",
       "    <tr style=\"text-align: right;\">\n",
       "      <th></th>\n",
       "      <th>name</th>\n",
       "      <th>platform</th>\n",
       "      <th>year_of_release</th>\n",
       "      <th>genre</th>\n",
       "      <th>na_sales</th>\n",
       "      <th>eu_sales</th>\n",
       "      <th>jp_sales</th>\n",
       "      <th>other_sales</th>\n",
       "      <th>critic_score</th>\n",
       "      <th>user_score</th>\n",
       "      <th>rating</th>\n",
       "    </tr>\n",
       "  </thead>\n",
       "  <tbody>\n",
       "    <tr>\n",
       "      <th>659</th>\n",
       "      <td>NaN</td>\n",
       "      <td>GEN</td>\n",
       "      <td>1993.0</td>\n",
       "      <td>NaN</td>\n",
       "      <td>1.78</td>\n",
       "      <td>0.53</td>\n",
       "      <td>0.00</td>\n",
       "      <td>0.08</td>\n",
       "      <td>NaN</td>\n",
       "      <td>NaN</td>\n",
       "      <td>NaN</td>\n",
       "    </tr>\n",
       "    <tr>\n",
       "      <th>14244</th>\n",
       "      <td>NaN</td>\n",
       "      <td>GEN</td>\n",
       "      <td>1993.0</td>\n",
       "      <td>NaN</td>\n",
       "      <td>0.00</td>\n",
       "      <td>0.00</td>\n",
       "      <td>0.03</td>\n",
       "      <td>0.00</td>\n",
       "      <td>NaN</td>\n",
       "      <td>NaN</td>\n",
       "      <td>NaN</td>\n",
       "    </tr>\n",
       "  </tbody>\n",
       "</table>\n",
       "</div>"
      ],
      "text/plain": [
       "      name platform  year_of_release genre  na_sales  eu_sales  jp_sales  \\\n",
       "659    NaN      GEN           1993.0   NaN      1.78      0.53      0.00   \n",
       "14244  NaN      GEN           1993.0   NaN      0.00      0.00      0.03   \n",
       "\n",
       "       other_sales  critic_score user_score rating  \n",
       "659           0.08           NaN        NaN    NaN  \n",
       "14244         0.00           NaN        NaN    NaN  "
      ]
     },
     "execution_count": 9,
     "metadata": {},
     "output_type": "execute_result"
    }
   ],
   "source": [
    "data[data['name'].isna()]"
   ]
  },
  {
   "cell_type": "markdown",
   "metadata": {},
   "source": [
    "Строк с такими пропусками мало, а имеющиеся записи приходятся на 1993 год, вряд ли входящий в круг наших интересов. Удалим пропуски в столбцах `name`:"
   ]
  },
  {
   "cell_type": "code",
   "execution_count": 10,
   "metadata": {},
   "outputs": [],
   "source": [
    "data.dropna(subset=['name'], inplace=True)"
   ]
  },
  {
   "cell_type": "markdown",
   "metadata": {},
   "source": [
    "#### Пропуски в столбце `years_of_release`"
   ]
  },
  {
   "cell_type": "markdown",
   "metadata": {},
   "source": [
    "Изучим строки с пропусками в столбце `years_of_release`:"
   ]
  },
  {
   "cell_type": "code",
   "execution_count": 11,
   "metadata": {
    "scrolled": true
   },
   "outputs": [
    {
     "data": {
      "text/html": [
       "<div>\n",
       "<style scoped>\n",
       "    .dataframe tbody tr th:only-of-type {\n",
       "        vertical-align: middle;\n",
       "    }\n",
       "\n",
       "    .dataframe tbody tr th {\n",
       "        vertical-align: top;\n",
       "    }\n",
       "\n",
       "    .dataframe thead th {\n",
       "        text-align: right;\n",
       "    }\n",
       "</style>\n",
       "<table border=\"1\" class=\"dataframe\">\n",
       "  <thead>\n",
       "    <tr style=\"text-align: right;\">\n",
       "      <th></th>\n",
       "      <th>name</th>\n",
       "      <th>platform</th>\n",
       "      <th>year_of_release</th>\n",
       "      <th>genre</th>\n",
       "      <th>na_sales</th>\n",
       "      <th>eu_sales</th>\n",
       "      <th>jp_sales</th>\n",
       "      <th>other_sales</th>\n",
       "      <th>critic_score</th>\n",
       "      <th>user_score</th>\n",
       "      <th>rating</th>\n",
       "    </tr>\n",
       "  </thead>\n",
       "  <tbody>\n",
       "    <tr>\n",
       "      <th>183</th>\n",
       "      <td>Madden NFL 2004</td>\n",
       "      <td>PS2</td>\n",
       "      <td>NaN</td>\n",
       "      <td>Sports</td>\n",
       "      <td>4.26</td>\n",
       "      <td>0.26</td>\n",
       "      <td>0.01</td>\n",
       "      <td>0.71</td>\n",
       "      <td>94.0</td>\n",
       "      <td>8.5</td>\n",
       "      <td>E</td>\n",
       "    </tr>\n",
       "    <tr>\n",
       "      <th>377</th>\n",
       "      <td>FIFA Soccer 2004</td>\n",
       "      <td>PS2</td>\n",
       "      <td>NaN</td>\n",
       "      <td>Sports</td>\n",
       "      <td>0.59</td>\n",
       "      <td>2.36</td>\n",
       "      <td>0.04</td>\n",
       "      <td>0.51</td>\n",
       "      <td>84.0</td>\n",
       "      <td>6.4</td>\n",
       "      <td>E</td>\n",
       "    </tr>\n",
       "    <tr>\n",
       "      <th>456</th>\n",
       "      <td>LEGO Batman: The Videogame</td>\n",
       "      <td>Wii</td>\n",
       "      <td>NaN</td>\n",
       "      <td>Action</td>\n",
       "      <td>1.80</td>\n",
       "      <td>0.97</td>\n",
       "      <td>0.00</td>\n",
       "      <td>0.29</td>\n",
       "      <td>74.0</td>\n",
       "      <td>7.9</td>\n",
       "      <td>E10+</td>\n",
       "    </tr>\n",
       "    <tr>\n",
       "      <th>475</th>\n",
       "      <td>wwe Smackdown vs. Raw 2006</td>\n",
       "      <td>PS2</td>\n",
       "      <td>NaN</td>\n",
       "      <td>Fighting</td>\n",
       "      <td>1.57</td>\n",
       "      <td>1.02</td>\n",
       "      <td>0.00</td>\n",
       "      <td>0.41</td>\n",
       "      <td>NaN</td>\n",
       "      <td>NaN</td>\n",
       "      <td>NaN</td>\n",
       "    </tr>\n",
       "    <tr>\n",
       "      <th>609</th>\n",
       "      <td>Space Invaders</td>\n",
       "      <td>2600</td>\n",
       "      <td>NaN</td>\n",
       "      <td>Shooter</td>\n",
       "      <td>2.36</td>\n",
       "      <td>0.14</td>\n",
       "      <td>0.00</td>\n",
       "      <td>0.03</td>\n",
       "      <td>NaN</td>\n",
       "      <td>NaN</td>\n",
       "      <td>NaN</td>\n",
       "    </tr>\n",
       "  </tbody>\n",
       "</table>\n",
       "</div>"
      ],
      "text/plain": [
       "                           name platform  year_of_release     genre  na_sales  \\\n",
       "183             Madden NFL 2004      PS2              NaN    Sports      4.26   \n",
       "377            FIFA Soccer 2004      PS2              NaN    Sports      0.59   \n",
       "456  LEGO Batman: The Videogame      Wii              NaN    Action      1.80   \n",
       "475  wwe Smackdown vs. Raw 2006      PS2              NaN  Fighting      1.57   \n",
       "609              Space Invaders     2600              NaN   Shooter      2.36   \n",
       "\n",
       "     eu_sales  jp_sales  other_sales  critic_score user_score rating  \n",
       "183      0.26      0.01         0.71          94.0        8.5      E  \n",
       "377      2.36      0.04         0.51          84.0        6.4      E  \n",
       "456      0.97      0.00         0.29          74.0        7.9   E10+  \n",
       "475      1.02      0.00         0.41           NaN        NaN    NaN  \n",
       "609      0.14      0.00         0.03           NaN        NaN    NaN  "
      ]
     },
     "execution_count": 11,
     "metadata": {},
     "output_type": "execute_result"
    }
   ],
   "source": [
    "data[data['year_of_release'].isna()].head()"
   ]
  },
  {
   "cell_type": "markdown",
   "metadata": {},
   "source": [
    "Возможно для некоторых игр, год выпуска не указан для одной платформы, но указан для других. Год выхода на разных платформах может различаться, кроме того возможны переиздания. Рассмотрим вариативность года издания для игр с хотя пропусками года:"
   ]
  },
  {
   "cell_type": "code",
   "execution_count": 12,
   "metadata": {},
   "outputs": [
    {
     "name": "stdout",
     "output_type": "stream",
     "text": [
      "Всего игр с пропусками в годе издания: 473\n",
      "...из них с пропусками не во всех строках: 232\n",
      "...разными годами издания для разных платформ: 12\n"
     ]
    },
    {
     "data": {
      "text/plain": [
       "name\n",
       "Sonic the Hedgehog                      8.660254\n",
       "Wheel of Fortune                        7.228416\n",
       "Mario Tennis                            5.773503\n",
       "Space Invaders                          4.041452\n",
       "Smashing Drive                          1.414214\n",
       "College Hoops 2K6                       0.707107\n",
       "Tom and Jerry in War of the Whiskers    0.707107\n",
       "Rayman Arena                            0.707107\n",
       "Hitman 2: Silent Assassin               0.707107\n",
       "Tomb Raider (2013)                      0.577350\n",
       "Namco Museum                            0.577350\n",
       "PES 2009: Pro Evolution Soccer          0.500000\n",
       "Shaun White Snowboarding                0.000000\n",
       "National Geographic Challenge!          0.000000\n",
       "Robotech: Battlecry                     0.000000\n",
       "Name: year_of_release, dtype: float64"
      ]
     },
     "execution_count": 12,
     "metadata": {},
     "output_type": "execute_result"
    }
   ],
   "source": [
    "# Выборка игр, для которых хотя бы один раз пропущен год издания:\n",
    "\n",
    "data_with_missed_year = data[data['name'].isin(data[data['year_of_release'].isna()]['name'])]\n",
    "\n",
    "# Игры с наибольшим стандартным отклонением года издания, среди игр с пропусками:\n",
    "data_with_missed_year_std = data_with_missed_year.groupby('name').year_of_release.std().sort_values(ascending=False)\n",
    "\n",
    "print(f'Всего игр с пропусками в годе издания: {len(data_with_missed_year)}')\n",
    "print(f'...из них с пропусками не во всех строках: {len(data_with_missed_year_std)}')\n",
    "print(f'...разными годами издания для разных платформ: {sum(data_with_missed_year_std>0)}')\n",
    "\n",
    "data_with_missed_year_std.head(15)"
   ]
  },
  {
   "cell_type": "markdown",
   "metadata": {},
   "source": [
    "Из 473 наименований игр с пропусками года, для 232 наименований год хотя бы в одной строке указан.  \n",
    "Только 12 игр из 273 переиздавались.  \n",
    "Чтобы немного снизить вероятность ошибки заполним пропуски медианными значениями года выпуска для разных платформ и округлим:"
   ]
  },
  {
   "cell_type": "code",
   "execution_count": 13,
   "metadata": {
    "scrolled": true
   },
   "outputs": [
    {
     "data": {
      "text/plain": [
       "name\n",
       "WCW Backstage Assault    1999.0\n",
       "Space Invaders           1999.0\n",
       "Mario Tennis             2000.0\n",
       "Madden NFL 2002          2001.0\n",
       "Pac-Man Fever            2001.0\n",
       "Name: year_of_release, dtype: float64"
      ]
     },
     "metadata": {},
     "output_type": "display_data"
    },
    {
     "data": {
      "text/html": [
       "<div>\n",
       "<style scoped>\n",
       "    .dataframe tbody tr th:only-of-type {\n",
       "        vertical-align: middle;\n",
       "    }\n",
       "\n",
       "    .dataframe tbody tr th {\n",
       "        vertical-align: top;\n",
       "    }\n",
       "\n",
       "    .dataframe thead th {\n",
       "        text-align: right;\n",
       "    }\n",
       "</style>\n",
       "<table border=\"1\" class=\"dataframe\">\n",
       "  <thead>\n",
       "    <tr style=\"text-align: right;\">\n",
       "      <th></th>\n",
       "      <th>name</th>\n",
       "      <th>platform</th>\n",
       "      <th>year_of_release</th>\n",
       "      <th>genre</th>\n",
       "      <th>na_sales</th>\n",
       "      <th>eu_sales</th>\n",
       "      <th>jp_sales</th>\n",
       "      <th>other_sales</th>\n",
       "      <th>critic_score</th>\n",
       "      <th>user_score</th>\n",
       "      <th>rating</th>\n",
       "    </tr>\n",
       "  </thead>\n",
       "  <tbody>\n",
       "    <tr>\n",
       "      <th>475</th>\n",
       "      <td>wwe Smackdown vs. Raw 2006</td>\n",
       "      <td>PS2</td>\n",
       "      <td>NaN</td>\n",
       "      <td>Fighting</td>\n",
       "      <td>1.57</td>\n",
       "      <td>1.02</td>\n",
       "      <td>0.0</td>\n",
       "      <td>0.41</td>\n",
       "      <td>NaN</td>\n",
       "      <td>NaN</td>\n",
       "      <td>NaN</td>\n",
       "    </tr>\n",
       "    <tr>\n",
       "      <th>627</th>\n",
       "      <td>Rock Band</td>\n",
       "      <td>X360</td>\n",
       "      <td>NaN</td>\n",
       "      <td>Misc</td>\n",
       "      <td>1.93</td>\n",
       "      <td>0.33</td>\n",
       "      <td>0.0</td>\n",
       "      <td>0.21</td>\n",
       "      <td>92.0</td>\n",
       "      <td>8.2</td>\n",
       "      <td>T</td>\n",
       "    </tr>\n",
       "    <tr>\n",
       "      <th>657</th>\n",
       "      <td>Frogger's Adventures: Temple of the Frog</td>\n",
       "      <td>GBA</td>\n",
       "      <td>NaN</td>\n",
       "      <td>Adventure</td>\n",
       "      <td>2.15</td>\n",
       "      <td>0.18</td>\n",
       "      <td>0.0</td>\n",
       "      <td>0.07</td>\n",
       "      <td>73.0</td>\n",
       "      <td>tbd</td>\n",
       "      <td>E</td>\n",
       "    </tr>\n",
       "    <tr>\n",
       "      <th>805</th>\n",
       "      <td>Rock Band</td>\n",
       "      <td>Wii</td>\n",
       "      <td>NaN</td>\n",
       "      <td>Misc</td>\n",
       "      <td>1.33</td>\n",
       "      <td>0.56</td>\n",
       "      <td>0.0</td>\n",
       "      <td>0.20</td>\n",
       "      <td>80.0</td>\n",
       "      <td>6.3</td>\n",
       "      <td>T</td>\n",
       "    </tr>\n",
       "    <tr>\n",
       "      <th>1142</th>\n",
       "      <td>Rock Band</td>\n",
       "      <td>PS3</td>\n",
       "      <td>NaN</td>\n",
       "      <td>Misc</td>\n",
       "      <td>0.99</td>\n",
       "      <td>0.41</td>\n",
       "      <td>0.0</td>\n",
       "      <td>0.22</td>\n",
       "      <td>92.0</td>\n",
       "      <td>8.4</td>\n",
       "      <td>T</td>\n",
       "    </tr>\n",
       "  </tbody>\n",
       "</table>\n",
       "</div>"
      ],
      "text/plain": [
       "                                          name platform  year_of_release  \\\n",
       "475                 wwe Smackdown vs. Raw 2006      PS2              NaN   \n",
       "627                                  Rock Band     X360              NaN   \n",
       "657   Frogger's Adventures: Temple of the Frog      GBA              NaN   \n",
       "805                                  Rock Band      Wii              NaN   \n",
       "1142                                 Rock Band      PS3              NaN   \n",
       "\n",
       "          genre  na_sales  eu_sales  jp_sales  other_sales  critic_score  \\\n",
       "475    Fighting      1.57      1.02       0.0         0.41           NaN   \n",
       "627        Misc      1.93      0.33       0.0         0.21          92.0   \n",
       "657   Adventure      2.15      0.18       0.0         0.07          73.0   \n",
       "805        Misc      1.33      0.56       0.0         0.20          80.0   \n",
       "1142       Misc      0.99      0.41       0.0         0.22          92.0   \n",
       "\n",
       "     user_score rating  \n",
       "475         NaN    NaN  \n",
       "627         8.2      T  \n",
       "657         tbd      E  \n",
       "805         6.3      T  \n",
       "1142        8.4      T  "
      ]
     },
     "execution_count": 13,
     "metadata": {},
     "output_type": "execute_result"
    }
   ],
   "source": [
    "games_missed_year_median = data_with_missed_year.groupby('name').year_of_release.median().round()\n",
    "display(games_missed_year_median.sort_values().head())\n",
    "\n",
    "#Заполнение пропусков:\n",
    "data['year_of_release'].fillna(\n",
    "    data[['name', 'year_of_release']]\n",
    "    .join(games_missed_year_median, on='name', rsuffix='_median')['year_of_release_median'],\n",
    "    inplace=True \n",
    ")\n",
    "#Оставшиеся пропуски:\n",
    "data[data['year_of_release'].isna()].head()"
   ]
  },
  {
   "cell_type": "markdown",
   "metadata": {},
   "source": [
    "Часть пропусков в столбце `year_of_release` осталась. Хотя остальные значения в строках с пропусками выглядят правдоподобными и могут быть использованы для других исследований, в данном исследовании мало полезны, поскольку не могут быть отнесены к \"актуальному периоду\". Удалим такие строки:"
   ]
  },
  {
   "cell_type": "code",
   "execution_count": 14,
   "metadata": {},
   "outputs": [],
   "source": [
    "data.dropna(subset=['year_of_release'], inplace=True)"
   ]
  },
  {
   "cell_type": "markdown",
   "metadata": {},
   "source": [
    "#### Пропуски в столбцах `user_score` и `critic_score`"
   ]
  },
  {
   "cell_type": "markdown",
   "metadata": {},
   "source": [
    "Большие доли пропусков остаются в столбцах связанных с оценков критиками и пользователями, а также присвоением возрастного рейтинга.  \n",
    "Можно предположить что количество пропусков для разных платформ будет разным."
   ]
  },
  {
   "cell_type": "code",
   "execution_count": 15,
   "metadata": {
    "scrolled": false
   },
   "outputs": [
    {
     "data": {
      "text/html": [
       "<div>\n",
       "<style scoped>\n",
       "    .dataframe tbody tr th:only-of-type {\n",
       "        vertical-align: middle;\n",
       "    }\n",
       "\n",
       "    .dataframe tbody tr th {\n",
       "        vertical-align: top;\n",
       "    }\n",
       "\n",
       "    .dataframe thead th {\n",
       "        text-align: right;\n",
       "    }\n",
       "</style>\n",
       "<table border=\"1\" class=\"dataframe\">\n",
       "  <thead>\n",
       "    <tr style=\"text-align: right;\">\n",
       "      <th></th>\n",
       "      <th>name</th>\n",
       "      <th>critic_score</th>\n",
       "      <th>user_score</th>\n",
       "      <th>rating</th>\n",
       "    </tr>\n",
       "    <tr>\n",
       "      <th>platform</th>\n",
       "      <th></th>\n",
       "      <th></th>\n",
       "      <th></th>\n",
       "      <th></th>\n",
       "    </tr>\n",
       "  </thead>\n",
       "  <tbody>\n",
       "    <tr>\n",
       "      <th>2600</th>\n",
       "      <td>1.0</td>\n",
       "      <td>0.000000</td>\n",
       "      <td>0.000000</td>\n",
       "      <td>0.000000</td>\n",
       "    </tr>\n",
       "    <tr>\n",
       "      <th>3DO</th>\n",
       "      <td>1.0</td>\n",
       "      <td>0.000000</td>\n",
       "      <td>0.000000</td>\n",
       "      <td>0.000000</td>\n",
       "    </tr>\n",
       "    <tr>\n",
       "      <th>WS</th>\n",
       "      <td>1.0</td>\n",
       "      <td>0.000000</td>\n",
       "      <td>0.000000</td>\n",
       "      <td>0.000000</td>\n",
       "    </tr>\n",
       "    <tr>\n",
       "      <th>TG16</th>\n",
       "      <td>1.0</td>\n",
       "      <td>0.000000</td>\n",
       "      <td>0.000000</td>\n",
       "      <td>0.000000</td>\n",
       "    </tr>\n",
       "    <tr>\n",
       "      <th>SNES</th>\n",
       "      <td>1.0</td>\n",
       "      <td>0.000000</td>\n",
       "      <td>0.000000</td>\n",
       "      <td>0.000000</td>\n",
       "    </tr>\n",
       "    <tr>\n",
       "      <th>GB</th>\n",
       "      <td>1.0</td>\n",
       "      <td>0.000000</td>\n",
       "      <td>0.000000</td>\n",
       "      <td>0.000000</td>\n",
       "    </tr>\n",
       "    <tr>\n",
       "      <th>SCD</th>\n",
       "      <td>1.0</td>\n",
       "      <td>0.000000</td>\n",
       "      <td>0.000000</td>\n",
       "      <td>0.000000</td>\n",
       "    </tr>\n",
       "    <tr>\n",
       "      <th>SAT</th>\n",
       "      <td>1.0</td>\n",
       "      <td>0.000000</td>\n",
       "      <td>0.000000</td>\n",
       "      <td>0.000000</td>\n",
       "    </tr>\n",
       "    <tr>\n",
       "      <th>GEN</th>\n",
       "      <td>1.0</td>\n",
       "      <td>0.000000</td>\n",
       "      <td>0.000000</td>\n",
       "      <td>0.000000</td>\n",
       "    </tr>\n",
       "    <tr>\n",
       "      <th>GG</th>\n",
       "      <td>1.0</td>\n",
       "      <td>0.000000</td>\n",
       "      <td>0.000000</td>\n",
       "      <td>0.000000</td>\n",
       "    </tr>\n",
       "    <tr>\n",
       "      <th>N64</th>\n",
       "      <td>1.0</td>\n",
       "      <td>0.000000</td>\n",
       "      <td>0.000000</td>\n",
       "      <td>0.000000</td>\n",
       "    </tr>\n",
       "    <tr>\n",
       "      <th>NES</th>\n",
       "      <td>1.0</td>\n",
       "      <td>0.000000</td>\n",
       "      <td>0.000000</td>\n",
       "      <td>0.000000</td>\n",
       "    </tr>\n",
       "    <tr>\n",
       "      <th>NG</th>\n",
       "      <td>1.0</td>\n",
       "      <td>0.000000</td>\n",
       "      <td>0.000000</td>\n",
       "      <td>0.000000</td>\n",
       "    </tr>\n",
       "    <tr>\n",
       "      <th>PCFX</th>\n",
       "      <td>1.0</td>\n",
       "      <td>0.000000</td>\n",
       "      <td>0.000000</td>\n",
       "      <td>0.000000</td>\n",
       "    </tr>\n",
       "    <tr>\n",
       "      <th>PS</th>\n",
       "      <td>1.0</td>\n",
       "      <td>0.164706</td>\n",
       "      <td>0.170588</td>\n",
       "      <td>0.171429</td>\n",
       "    </tr>\n",
       "    <tr>\n",
       "      <th>DC</th>\n",
       "      <td>1.0</td>\n",
       "      <td>0.269231</td>\n",
       "      <td>0.269231</td>\n",
       "      <td>0.269231</td>\n",
       "    </tr>\n",
       "    <tr>\n",
       "      <th>PSV</th>\n",
       "      <td>1.0</td>\n",
       "      <td>0.277389</td>\n",
       "      <td>0.347319</td>\n",
       "      <td>0.349650</td>\n",
       "    </tr>\n",
       "    <tr>\n",
       "      <th>3DS</th>\n",
       "      <td>1.0</td>\n",
       "      <td>0.324272</td>\n",
       "      <td>0.438835</td>\n",
       "      <td>0.434951</td>\n",
       "    </tr>\n",
       "    <tr>\n",
       "      <th>PSP</th>\n",
       "      <td>1.0</td>\n",
       "      <td>0.384040</td>\n",
       "      <td>0.452203</td>\n",
       "      <td>0.452203</td>\n",
       "    </tr>\n",
       "    <tr>\n",
       "      <th>DS</th>\n",
       "      <td>1.0</td>\n",
       "      <td>0.334899</td>\n",
       "      <td>0.592297</td>\n",
       "      <td>0.592297</td>\n",
       "    </tr>\n",
       "    <tr>\n",
       "      <th>GBA</th>\n",
       "      <td>1.0</td>\n",
       "      <td>0.531365</td>\n",
       "      <td>0.628536</td>\n",
       "      <td>0.634686</td>\n",
       "    </tr>\n",
       "    <tr>\n",
       "      <th>PS4</th>\n",
       "      <td>1.0</td>\n",
       "      <td>0.642857</td>\n",
       "      <td>0.670918</td>\n",
       "      <td>0.650510</td>\n",
       "    </tr>\n",
       "    <tr>\n",
       "      <th>PS2</th>\n",
       "      <td>1.0</td>\n",
       "      <td>0.600935</td>\n",
       "      <td>0.685981</td>\n",
       "      <td>0.685981</td>\n",
       "    </tr>\n",
       "    <tr>\n",
       "      <th>WiiU</th>\n",
       "      <td>1.0</td>\n",
       "      <td>0.612245</td>\n",
       "      <td>0.714286</td>\n",
       "      <td>0.714286</td>\n",
       "    </tr>\n",
       "    <tr>\n",
       "      <th>PS3</th>\n",
       "      <td>1.0</td>\n",
       "      <td>0.616667</td>\n",
       "      <td>0.725000</td>\n",
       "      <td>0.715909</td>\n",
       "    </tr>\n",
       "    <tr>\n",
       "      <th>Wii</th>\n",
       "      <td>1.0</td>\n",
       "      <td>0.445042</td>\n",
       "      <td>0.759416</td>\n",
       "      <td>0.760184</td>\n",
       "    </tr>\n",
       "    <tr>\n",
       "      <th>XOne</th>\n",
       "      <td>1.0</td>\n",
       "      <td>0.684211</td>\n",
       "      <td>0.781377</td>\n",
       "      <td>0.753036</td>\n",
       "    </tr>\n",
       "    <tr>\n",
       "      <th>X360</th>\n",
       "      <td>1.0</td>\n",
       "      <td>0.724800</td>\n",
       "      <td>0.832000</td>\n",
       "      <td>0.834400</td>\n",
       "    </tr>\n",
       "    <tr>\n",
       "      <th>PC</th>\n",
       "      <td>1.0</td>\n",
       "      <td>0.732990</td>\n",
       "      <td>0.840206</td>\n",
       "      <td>0.793814</td>\n",
       "    </tr>\n",
       "    <tr>\n",
       "      <th>GC</th>\n",
       "      <td>1.0</td>\n",
       "      <td>0.807971</td>\n",
       "      <td>0.846014</td>\n",
       "      <td>0.846014</td>\n",
       "    </tr>\n",
       "    <tr>\n",
       "      <th>XB</th>\n",
       "      <td>1.0</td>\n",
       "      <td>0.880049</td>\n",
       "      <td>0.893513</td>\n",
       "      <td>0.889841</td>\n",
       "    </tr>\n",
       "  </tbody>\n",
       "</table>\n",
       "</div>"
      ],
      "text/plain": [
       "          name  critic_score  user_score    rating\n",
       "platform                                          \n",
       "2600       1.0      0.000000    0.000000  0.000000\n",
       "3DO        1.0      0.000000    0.000000  0.000000\n",
       "WS         1.0      0.000000    0.000000  0.000000\n",
       "TG16       1.0      0.000000    0.000000  0.000000\n",
       "SNES       1.0      0.000000    0.000000  0.000000\n",
       "GB         1.0      0.000000    0.000000  0.000000\n",
       "SCD        1.0      0.000000    0.000000  0.000000\n",
       "SAT        1.0      0.000000    0.000000  0.000000\n",
       "GEN        1.0      0.000000    0.000000  0.000000\n",
       "GG         1.0      0.000000    0.000000  0.000000\n",
       "N64        1.0      0.000000    0.000000  0.000000\n",
       "NES        1.0      0.000000    0.000000  0.000000\n",
       "NG         1.0      0.000000    0.000000  0.000000\n",
       "PCFX       1.0      0.000000    0.000000  0.000000\n",
       "PS         1.0      0.164706    0.170588  0.171429\n",
       "DC         1.0      0.269231    0.269231  0.269231\n",
       "PSV        1.0      0.277389    0.347319  0.349650\n",
       "3DS        1.0      0.324272    0.438835  0.434951\n",
       "PSP        1.0      0.384040    0.452203  0.452203\n",
       "DS         1.0      0.334899    0.592297  0.592297\n",
       "GBA        1.0      0.531365    0.628536  0.634686\n",
       "PS4        1.0      0.642857    0.670918  0.650510\n",
       "PS2        1.0      0.600935    0.685981  0.685981\n",
       "WiiU       1.0      0.612245    0.714286  0.714286\n",
       "PS3        1.0      0.616667    0.725000  0.715909\n",
       "Wii        1.0      0.445042    0.759416  0.760184\n",
       "XOne       1.0      0.684211    0.781377  0.753036\n",
       "X360       1.0      0.724800    0.832000  0.834400\n",
       "PC         1.0      0.732990    0.840206  0.793814\n",
       "GC         1.0      0.807971    0.846014  0.846014\n",
       "XB         1.0      0.880049    0.893513  0.889841"
      ]
     },
     "execution_count": 15,
     "metadata": {},
     "output_type": "execute_result"
    }
   ],
   "source": [
    "data_by_platform_count = data.groupby('platform').count()[['name', 'critic_score', 'user_score', 'rating']]\n",
    "\n",
    "data_by_platform_count.divide(data_by_platform_count['name'], axis=0).sort_values(by='user_score')"
   ]
  },
  {
   "cell_type": "markdown",
   "metadata": {},
   "source": [
    "Большая доля пропусков характерна для старых и карманных платформ. Доля пропусков во всех трех столбцах для одной платформы близка. Для карманных платформ также характерна более низкое количество оценок критиков.  \n",
    "\n",
    "Наблюдаемые особенности, вероятно, связаны с ростом удобства оценки игр с течением времени, а также разной активностью продвижения игр на разных платформах.\n",
    "\n",
    "В столбце `user_score` также присутствуют скрытые пропуски - значение 'tbd' - 'to be determined'. По каким-то причинам данные значения должны были, но ещё не были рассчитаны. Заменим 'tbd' на np.nan:"
   ]
  },
  {
   "cell_type": "code",
   "execution_count": 16,
   "metadata": {},
   "outputs": [],
   "source": [
    "data['user_score'].replace('tbd', np.nan, inplace=True)"
   ]
  },
  {
   "cell_type": "markdown",
   "metadata": {},
   "source": [
    "Наличие пропусков в данном случае несет некоторые объективную информацию (например отсутствие удобных инструментов оценки игры пользователями для старых консольных игр), не может быть исправлено разумными методами (например заполнением медианными или средними значениями для определенных групп игр), а главное оказывает принципиального влияния на задачи настоящего исследования.  \n",
    "Поэтому оставшиеся пропуски следует оставить \"как есть\". "
   ]
  },
  {
   "cell_type": "markdown",
   "metadata": {},
   "source": [
    "#### Пропуски в столбце `rating`"
   ]
  },
  {
   "cell_type": "markdown",
   "metadata": {},
   "source": [
    "В столбце `rating` присутствует значение 'RP' - \"Rating Pending\", которое может присваиваться ещё не вышедшим играм. Наличие такого значения для игр, по которым имеются продажи, является по-сути пропуском. Заменим такие значения на np.nan:"
   ]
  },
  {
   "cell_type": "code",
   "execution_count": 17,
   "metadata": {},
   "outputs": [],
   "source": [
    "data['rating'].replace('RP', np.nan, inplace=True)"
   ]
  },
  {
   "cell_type": "markdown",
   "metadata": {},
   "source": [
    "Рейтинг ESRB является обязательным в Северной Америке (США и Канада). В то же время игры, выпускаемые в других регионах должны получать возрастной рейтинг от других организаций (PEGI, CERO, USK  и др.), таким образом, отсутствие рейтинга от ESRB может означать лишь отсутствие продвижения и продаж в Северной Америке. Чтобы учесть это заполним пропуски в столбце `rating` значением заглушкой - `NA`:"
   ]
  },
  {
   "cell_type": "code",
   "execution_count": 18,
   "metadata": {},
   "outputs": [],
   "source": [
    "data['rating'].fillna('NA', inplace=True)"
   ]
  },
  {
   "cell_type": "markdown",
   "metadata": {},
   "source": [
    "#### Удаление дубликатов"
   ]
  },
  {
   "cell_type": "markdown",
   "metadata": {},
   "source": [
    "В таблице таже присутствовало небольшое количество дубликатов - удалим их:"
   ]
  },
  {
   "cell_type": "code",
   "execution_count": 19,
   "metadata": {},
   "outputs": [],
   "source": [
    "data.drop_duplicates(subset=['name', 'platform', 'year_of_release', 'genre'], keep='first', inplace=True)"
   ]
  },
  {
   "cell_type": "markdown",
   "metadata": {},
   "source": [
    "Доли оставшихся пропусков:"
   ]
  },
  {
   "cell_type": "code",
   "execution_count": 20,
   "metadata": {},
   "outputs": [
    {
     "data": {
      "text/plain": [
       "name               0.000000\n",
       "platform           0.000000\n",
       "year_of_release    0.000000\n",
       "genre              0.000000\n",
       "na_sales           0.000000\n",
       "eu_sales           0.000000\n",
       "jp_sales           0.000000\n",
       "other_sales        0.000000\n",
       "critic_score       0.512647\n",
       "user_score         0.544944\n",
       "rating             0.000000\n",
       "dtype: float64"
      ]
     },
     "execution_count": 20,
     "metadata": {},
     "output_type": "execute_result"
    }
   ],
   "source": [
    "data.isna().mean()"
   ]
  },
  {
   "cell_type": "markdown",
   "metadata": {},
   "source": [
    "Пропуски остались только в столбцах оценок пользователей и критиков. Такие пропуски могли возникнуть из-за неудоства оценивания (старая платформа, отзывы в то время активно не собирались), или недавнего выхода игры. В любом случае такие пропуски могут быть оставлены без заполнения."
   ]
  },
  {
   "cell_type": "markdown",
   "metadata": {},
   "source": [
    "### Изменение типов данных"
   ]
  },
  {
   "cell_type": "markdown",
   "metadata": {},
   "source": [
    "Неверные типы данных даны для столбцов `year_of_release` (дробное значение вместо целочисленного) и `user_score` (строки вместо вещественных чисел).\n",
    "Исправим типы данных:"
   ]
  },
  {
   "cell_type": "code",
   "execution_count": 21,
   "metadata": {},
   "outputs": [],
   "source": [
    "data['year_of_release'] = data['year_of_release'].astype('int16')\n",
    "data['user_score'] = data['user_score'].astype('float32')"
   ]
  },
  {
   "cell_type": "markdown",
   "metadata": {},
   "source": [
    "Количество ограничений для возрастных групп возрастает в следующем порядке:\n",
    "'AO', 'M', 'T', 'E10+', 'E' ('K-A'), 'EC'. Возрастные ограничения для игр без рейтинга от ESRB мы не знаем, поэтому расположим предположим наибольшие ограничения.  \n",
    "Изменим тип данных в столбце `rating` на категориальный и сделаем его упорядоченным:\n"
   ]
  },
  {
   "cell_type": "code",
   "execution_count": 22,
   "metadata": {
    "scrolled": true
   },
   "outputs": [
    {
     "name": "stdout",
     "output_type": "stream",
     "text": [
      "<class 'pandas.core.frame.DataFrame'>\n",
      "Int64Index: 16565 entries, 0 to 16714\n",
      "Data columns (total 11 columns):\n",
      " #   Column           Non-Null Count  Dtype   \n",
      "---  ------           --------------  -----   \n",
      " 0   name             16565 non-null  object  \n",
      " 1   platform         16565 non-null  object  \n",
      " 2   year_of_release  16565 non-null  int16   \n",
      " 3   genre            16565 non-null  object  \n",
      " 4   na_sales         16565 non-null  float64 \n",
      " 5   eu_sales         16565 non-null  float64 \n",
      " 6   jp_sales         16565 non-null  float64 \n",
      " 7   other_sales      16565 non-null  float64 \n",
      " 8   critic_score     8073 non-null   float64 \n",
      " 9   user_score       7538 non-null   float32 \n",
      " 10  rating           16565 non-null  category\n",
      "dtypes: category(1), float32(1), float64(5), int16(1), object(3)\n",
      "memory usage: 1.2+ MB\n"
     ]
    }
   ],
   "source": [
    "rating_type = pd.CategoricalDtype(categories=['NA', 'AO', 'M', 'T', 'E10+', 'E', 'K-A', 'EC'], ordered=True)\n",
    "\n",
    "data['rating'] = data['rating'].astype(rating_type)\n",
    "\n",
    "data.info()"
   ]
  },
  {
   "cell_type": "markdown",
   "metadata": {},
   "source": [
    "Типы данных успешно изменены."
   ]
  },
  {
   "cell_type": "markdown",
   "metadata": {},
   "source": [
    "### Расчет суммарных продаж\n",
    "\n",
    "Расчитаем суммарные продажи игр по всем регионам:"
   ]
  },
  {
   "cell_type": "code",
   "execution_count": 23,
   "metadata": {},
   "outputs": [
    {
     "data": {
      "text/html": [
       "<div>\n",
       "<style scoped>\n",
       "    .dataframe tbody tr th:only-of-type {\n",
       "        vertical-align: middle;\n",
       "    }\n",
       "\n",
       "    .dataframe tbody tr th {\n",
       "        vertical-align: top;\n",
       "    }\n",
       "\n",
       "    .dataframe thead th {\n",
       "        text-align: right;\n",
       "    }\n",
       "</style>\n",
       "<table border=\"1\" class=\"dataframe\">\n",
       "  <thead>\n",
       "    <tr style=\"text-align: right;\">\n",
       "      <th></th>\n",
       "      <th>name</th>\n",
       "      <th>platform</th>\n",
       "      <th>year_of_release</th>\n",
       "      <th>genre</th>\n",
       "      <th>na_sales</th>\n",
       "      <th>eu_sales</th>\n",
       "      <th>jp_sales</th>\n",
       "      <th>other_sales</th>\n",
       "      <th>critic_score</th>\n",
       "      <th>user_score</th>\n",
       "      <th>rating</th>\n",
       "      <th>total_sales</th>\n",
       "    </tr>\n",
       "  </thead>\n",
       "  <tbody>\n",
       "    <tr>\n",
       "      <th>0</th>\n",
       "      <td>Wii Sports</td>\n",
       "      <td>Wii</td>\n",
       "      <td>2006</td>\n",
       "      <td>Sports</td>\n",
       "      <td>41.36</td>\n",
       "      <td>28.96</td>\n",
       "      <td>3.77</td>\n",
       "      <td>8.45</td>\n",
       "      <td>76.0</td>\n",
       "      <td>8.0</td>\n",
       "      <td>E</td>\n",
       "      <td>82.54</td>\n",
       "    </tr>\n",
       "    <tr>\n",
       "      <th>1</th>\n",
       "      <td>Super Mario Bros.</td>\n",
       "      <td>NES</td>\n",
       "      <td>1985</td>\n",
       "      <td>Platform</td>\n",
       "      <td>29.08</td>\n",
       "      <td>3.58</td>\n",
       "      <td>6.81</td>\n",
       "      <td>0.77</td>\n",
       "      <td>NaN</td>\n",
       "      <td>NaN</td>\n",
       "      <td>NA</td>\n",
       "      <td>40.24</td>\n",
       "    </tr>\n",
       "    <tr>\n",
       "      <th>2</th>\n",
       "      <td>Mario Kart Wii</td>\n",
       "      <td>Wii</td>\n",
       "      <td>2008</td>\n",
       "      <td>Racing</td>\n",
       "      <td>15.68</td>\n",
       "      <td>12.76</td>\n",
       "      <td>3.79</td>\n",
       "      <td>3.29</td>\n",
       "      <td>82.0</td>\n",
       "      <td>8.3</td>\n",
       "      <td>E</td>\n",
       "      <td>35.52</td>\n",
       "    </tr>\n",
       "    <tr>\n",
       "      <th>3</th>\n",
       "      <td>Wii Sports Resort</td>\n",
       "      <td>Wii</td>\n",
       "      <td>2009</td>\n",
       "      <td>Sports</td>\n",
       "      <td>15.61</td>\n",
       "      <td>10.93</td>\n",
       "      <td>3.28</td>\n",
       "      <td>2.95</td>\n",
       "      <td>80.0</td>\n",
       "      <td>8.0</td>\n",
       "      <td>E</td>\n",
       "      <td>32.77</td>\n",
       "    </tr>\n",
       "    <tr>\n",
       "      <th>4</th>\n",
       "      <td>Pokemon Red/Pokemon Blue</td>\n",
       "      <td>GB</td>\n",
       "      <td>1996</td>\n",
       "      <td>Role-Playing</td>\n",
       "      <td>11.27</td>\n",
       "      <td>8.89</td>\n",
       "      <td>10.22</td>\n",
       "      <td>1.00</td>\n",
       "      <td>NaN</td>\n",
       "      <td>NaN</td>\n",
       "      <td>NA</td>\n",
       "      <td>31.38</td>\n",
       "    </tr>\n",
       "    <tr>\n",
       "      <th>...</th>\n",
       "      <td>...</td>\n",
       "      <td>...</td>\n",
       "      <td>...</td>\n",
       "      <td>...</td>\n",
       "      <td>...</td>\n",
       "      <td>...</td>\n",
       "      <td>...</td>\n",
       "      <td>...</td>\n",
       "      <td>...</td>\n",
       "      <td>...</td>\n",
       "      <td>...</td>\n",
       "      <td>...</td>\n",
       "    </tr>\n",
       "    <tr>\n",
       "      <th>16710</th>\n",
       "      <td>Samurai Warriors: Sanada Maru</td>\n",
       "      <td>PS3</td>\n",
       "      <td>2016</td>\n",
       "      <td>Action</td>\n",
       "      <td>0.00</td>\n",
       "      <td>0.00</td>\n",
       "      <td>0.01</td>\n",
       "      <td>0.00</td>\n",
       "      <td>NaN</td>\n",
       "      <td>NaN</td>\n",
       "      <td>NA</td>\n",
       "      <td>0.01</td>\n",
       "    </tr>\n",
       "    <tr>\n",
       "      <th>16711</th>\n",
       "      <td>LMA Manager 2007</td>\n",
       "      <td>X360</td>\n",
       "      <td>2006</td>\n",
       "      <td>Sports</td>\n",
       "      <td>0.00</td>\n",
       "      <td>0.01</td>\n",
       "      <td>0.00</td>\n",
       "      <td>0.00</td>\n",
       "      <td>NaN</td>\n",
       "      <td>NaN</td>\n",
       "      <td>NA</td>\n",
       "      <td>0.01</td>\n",
       "    </tr>\n",
       "    <tr>\n",
       "      <th>16712</th>\n",
       "      <td>Haitaka no Psychedelica</td>\n",
       "      <td>PSV</td>\n",
       "      <td>2016</td>\n",
       "      <td>Adventure</td>\n",
       "      <td>0.00</td>\n",
       "      <td>0.00</td>\n",
       "      <td>0.01</td>\n",
       "      <td>0.00</td>\n",
       "      <td>NaN</td>\n",
       "      <td>NaN</td>\n",
       "      <td>NA</td>\n",
       "      <td>0.01</td>\n",
       "    </tr>\n",
       "    <tr>\n",
       "      <th>16713</th>\n",
       "      <td>Spirits &amp; Spells</td>\n",
       "      <td>GBA</td>\n",
       "      <td>2003</td>\n",
       "      <td>Platform</td>\n",
       "      <td>0.01</td>\n",
       "      <td>0.00</td>\n",
       "      <td>0.00</td>\n",
       "      <td>0.00</td>\n",
       "      <td>NaN</td>\n",
       "      <td>NaN</td>\n",
       "      <td>NA</td>\n",
       "      <td>0.01</td>\n",
       "    </tr>\n",
       "    <tr>\n",
       "      <th>16714</th>\n",
       "      <td>Winning Post 8 2016</td>\n",
       "      <td>PSV</td>\n",
       "      <td>2016</td>\n",
       "      <td>Simulation</td>\n",
       "      <td>0.00</td>\n",
       "      <td>0.00</td>\n",
       "      <td>0.01</td>\n",
       "      <td>0.00</td>\n",
       "      <td>NaN</td>\n",
       "      <td>NaN</td>\n",
       "      <td>NA</td>\n",
       "      <td>0.01</td>\n",
       "    </tr>\n",
       "  </tbody>\n",
       "</table>\n",
       "<p>16565 rows × 12 columns</p>\n",
       "</div>"
      ],
      "text/plain": [
       "                                name platform  year_of_release         genre  \\\n",
       "0                         Wii Sports      Wii             2006        Sports   \n",
       "1                  Super Mario Bros.      NES             1985      Platform   \n",
       "2                     Mario Kart Wii      Wii             2008        Racing   \n",
       "3                  Wii Sports Resort      Wii             2009        Sports   \n",
       "4           Pokemon Red/Pokemon Blue       GB             1996  Role-Playing   \n",
       "...                              ...      ...              ...           ...   \n",
       "16710  Samurai Warriors: Sanada Maru      PS3             2016        Action   \n",
       "16711               LMA Manager 2007     X360             2006        Sports   \n",
       "16712        Haitaka no Psychedelica      PSV             2016     Adventure   \n",
       "16713               Spirits & Spells      GBA             2003      Platform   \n",
       "16714            Winning Post 8 2016      PSV             2016    Simulation   \n",
       "\n",
       "       na_sales  eu_sales  jp_sales  other_sales  critic_score  user_score  \\\n",
       "0         41.36     28.96      3.77         8.45          76.0         8.0   \n",
       "1         29.08      3.58      6.81         0.77           NaN         NaN   \n",
       "2         15.68     12.76      3.79         3.29          82.0         8.3   \n",
       "3         15.61     10.93      3.28         2.95          80.0         8.0   \n",
       "4         11.27      8.89     10.22         1.00           NaN         NaN   \n",
       "...         ...       ...       ...          ...           ...         ...   \n",
       "16710      0.00      0.00      0.01         0.00           NaN         NaN   \n",
       "16711      0.00      0.01      0.00         0.00           NaN         NaN   \n",
       "16712      0.00      0.00      0.01         0.00           NaN         NaN   \n",
       "16713      0.01      0.00      0.00         0.00           NaN         NaN   \n",
       "16714      0.00      0.00      0.01         0.00           NaN         NaN   \n",
       "\n",
       "      rating  total_sales  \n",
       "0          E        82.54  \n",
       "1         NA        40.24  \n",
       "2          E        35.52  \n",
       "3          E        32.77  \n",
       "4         NA        31.38  \n",
       "...      ...          ...  \n",
       "16710     NA         0.01  \n",
       "16711     NA         0.01  \n",
       "16712     NA         0.01  \n",
       "16713     NA         0.01  \n",
       "16714     NA         0.01  \n",
       "\n",
       "[16565 rows x 12 columns]"
      ]
     },
     "execution_count": 23,
     "metadata": {},
     "output_type": "execute_result"
    }
   ],
   "source": [
    "data['total_sales'] = data[['na_sales','eu_sales','jp_sales', 'other_sales']].sum(axis = 1)\n",
    "data"
   ]
  },
  {
   "cell_type": "markdown",
   "metadata": {},
   "source": [
    "## Исследовательский анализ данных"
   ]
  },
  {
   "cell_type": "markdown",
   "metadata": {},
   "source": [
    "### Изменение числа выпускаемых игр по годам"
   ]
  },
  {
   "cell_type": "code",
   "execution_count": 25,
   "metadata": {
    "scrolled": false
   },
   "outputs": [
    {
     "data": {
      "image/png": "[encoded data removed]",
      "text/plain": [
       "<Figure size 864x432 with 1 Axes>"
      ]
     },
     "metadata": {
      "needs_background": "light"
     },
     "output_type": "display_data"
    }
   ],
   "source": [
    "data_grouped_by_year = data.groupby('year_of_release')\n",
    "\n",
    "data_grouped_by_year['name'].count().plot(figsize=(12, 6), xlabel='Год выпуска', ylabel='Число выпущенных игр')\n",
    "\n",
    "plt.show()"
   ]
  },
  {
   "cell_type": "markdown",
   "metadata": {},
   "source": [
    "Число ежегодно выпускаемых игр в период с 1993 и, пройдя максимум в 2008 году, перешло к резкому снижению.  \n",
    "Следует отметить, что рост в период 1993-2008 был не равномерным, можно выделить отдельные циклы около 5-8 лет, роста и последующего небольшого спада числа выпускаемых игр.  \n",
    "\n",
    "Причины таких колебаний числа выпускаемых игр могут быть связаны со сменой поколений игровых платформ, а также с экономическими циклами.\n",
    "\n",
    "Следует отметить что темп снижения с 2012-2013 замедлился, что может говорить о начале нового цикла роста. Таким образом актуальный период для предсказаний на 2017 год начинается не ранее 2012-2013 года.  \n",
    "\n",
    "Исследуем подробнее гипотезу о смене игровых платформ."
   ]
  },
  {
   "cell_type": "markdown",
   "metadata": {},
   "source": [
    "### Изменение популярности игровых платформ"
   ]
  },
  {
   "cell_type": "markdown",
   "metadata": {},
   "source": [
    "Рассмотрение ограничим десятью наиболее популярными (по совокупным продажам) платформами:"
   ]
  },
  {
   "cell_type": "code",
   "execution_count": 26,
   "metadata": {},
   "outputs": [
    {
     "data": {
      "text/plain": [
       "platform\n",
       "PS2     1247.16\n",
       "X360     966.61\n",
       "PS3      934.70\n",
       "Wii      903.31\n",
       "DS       804.28\n",
       "PS       727.58\n",
       "PS4      314.14\n",
       "GBA      313.73\n",
       "PSP      293.57\n",
       "PC       258.86\n",
       "Name: total_sales, dtype: float64"
      ]
     },
     "execution_count": 26,
     "metadata": {},
     "output_type": "execute_result"
    }
   ],
   "source": [
    "top_10_platforms = data.groupby(['platform'])['total_sales'].sum().sort_values(ascending=False).head(10)\n",
    "top_10_platforms"
   ]
  },
  {
   "cell_type": "code",
   "execution_count": 27,
   "metadata": {},
   "outputs": [
    {
     "data": {
      "text/plain": [
       "<matplotlib.legend.Legend at 0x7f3c65324b50>"
      ]
     },
     "execution_count": 27,
     "metadata": {},
     "output_type": "execute_result"
    },
    {
     "data": {
      "image/png": "[encoded data removed]",
      "text/plain": [
       "<Figure size 864x504 with 1 Axes>"
      ]
     },
     "metadata": {
      "needs_background": "light"
     },
     "output_type": "display_data"
    }
   ],
   "source": [
    "plt.figure(figsize = (12, 7))\n",
    "for platform in top_10_platforms.index:\n",
    "    (data[data['platform'] == platform]\n",
    "     .groupby('year_of_release')['name']\n",
    "     .count()\n",
    "     .plot(xlabel='Год выпуска', ylabel='Число выпущенных игр')\n",
    "    )\n",
    "    \n",
    "plt.legend(top_10_platforms.index)"
   ]
  },
  {
   "cell_type": "markdown",
   "metadata": {},
   "source": [
    "Период популярности большинства платформ составляет порядка 7-8 лет. \n",
    "Небольшие пики на общем количестве выпускаемых игр хорошо объясняются максимумами \n",
    "популярности платформ PS и PS2 в 1998 и 2003 годах соответсвенно. Максимум общего числа выпускаемых игр в 2008 году, объясняется практически одновременным появлением сразу большого числа платформ седьмого поколения - PS3, Wii, DS, PSP, Xbox 360  и др. При этом платформы седьмого поколения также одновременно и стали терять популярность.  \n",
    "Число игр на PC практически не зависит от циклов выхода новых платформ, однако для него также наблюдается максимум около 2011 года, который может иметь и чисто экономическое обоснование."
   ]
  },
  {
   "cell_type": "markdown",
   "metadata": {},
   "source": [
    "При выделении 10 наиболее популярных платформ за все время мы могли упустить новые, актуальные платформы. Ограничим рассмотрение данными после 2013 года, после пика платформ седьмого поколения:"
   ]
  },
  {
   "cell_type": "code",
   "execution_count": 28,
   "metadata": {},
   "outputs": [
    {
     "data": {
      "text/plain": [
       "platform\n",
       "PS4     288.15\n",
       "XOne    140.36\n",
       "3DS      86.68\n",
       "PS3      68.18\n",
       "X360     48.22\n",
       "WiiU     42.98\n",
       "PC       27.40\n",
       "PSV      22.40\n",
       "Wii       5.07\n",
       "PSP       0.36\n",
       "Name: total_sales, dtype: float64"
      ]
     },
     "execution_count": 28,
     "metadata": {},
     "output_type": "execute_result"
    }
   ],
   "source": [
    "data_since_2013 = data[data['year_of_release'] > 2013]\n",
    "top_10_platforms_since_2013 = data_since_2013.groupby(['platform'])['total_sales'].sum().sort_values(ascending=False).head(10)\n",
    "top_10_platforms_since_2013"
   ]
  },
  {
   "cell_type": "code",
   "execution_count": 29,
   "metadata": {
    "scrolled": false
   },
   "outputs": [
    {
     "data": {
      "text/plain": [
       "<AxesSubplot:xlabel='Год выпуска и платформа', ylabel='Число выпущенных игр'>"
      ]
     },
     "execution_count": 29,
     "metadata": {},
     "output_type": "execute_result"
    },
    {
     "data": {
      "image/png": "[encoded data removed]",
      "text/plain": [
       "<Figure size 864x432 with 1 Axes>"
      ]
     },
     "metadata": {
      "needs_background": "light"
     },
     "output_type": "display_data"
    }
   ],
   "source": [
    "(data_since_2013\n",
    " .pivot_table(columns='platform', index='year_of_release', values='name', aggfunc='count')\n",
    " .plot(kind='bar', figsize=(12,6), xlabel='Год выпуска и платформа', ylabel='Число выпущенных игр')\n",
    ")"
   ]
  },
  {
   "cell_type": "markdown",
   "metadata": {},
   "source": [
    "Наблюдается **рост популярности платформ восьмого поколения (PS4, Xbox One, PSV, 3DS)**, популярность платформ седьмого поколения досточно снизилась. Можно отметить что **популярность компьютерных игр (PC) и игр для портативных игровых платформ стабильна**.   \n",
    "\n",
    "Имеющиеся данные подтверждают, что **актуальным** для предсказания на 2017 год, **является период с 2014-2015 года**. Для сохранения большего количества данных для дальнешего анализа возьмем период с 2015 года (однако нельзя исключать долгую \"остаточную\" жизнь платформ седьмого поколения, как это было с PS2)."
   ]
  },
  {
   "cell_type": "markdown",
   "metadata": {},
   "source": [
    "### Суммарные продажи игр по платформам"
   ]
  },
  {
   "cell_type": "markdown",
   "metadata": {},
   "source": [
    "Выделим актуальные данные и посмотрим распределение игр по общим продажам для разных платформ:"
   ]
  },
  {
   "cell_type": "code",
   "execution_count": 30,
   "metadata": {},
   "outputs": [
    {
     "data": {
      "text/plain": [
       "<AxesSubplot:ylabel='Суммарные продажи'>"
      ]
     },
     "execution_count": 30,
     "metadata": {},
     "output_type": "execute_result"
    },
    {
     "data": {
      "image/png": "[encoded data removed]",
      "text/plain": [
       "<Figure size 1152x432 with 2 Axes>"
      ]
     },
     "metadata": {
      "needs_background": "light"
     },
     "output_type": "display_data"
    }
   ],
   "source": [
    "data_actual = data[data['year_of_release'] > 2014].copy()\n",
    "\n",
    "fig, ax = plt.subplots(1,2, figsize=(16,6))\n",
    "\n",
    "(data_actual\n",
    " .pivot(columns='platform', index='name', values='total_sales')\n",
    " .plot(kind='box', logy=False, ax=ax[0], ylabel='Суммарные продажи')\n",
    ")\n",
    "\n",
    "(data_actual\n",
    " .pivot(columns='platform', index='name', values='total_sales')\n",
    " .plot(kind='box', logy=True, ax=ax[1], ylabel='Суммарные продажи')\n",
    ")"
   ]
  },
  {
   "cell_type": "markdown",
   "metadata": {},
   "source": [
    "Продажи большинства игр, независимо от платформы составляют порядка 100 тысяч экземпляров. При этом ограниченное число игр имеет продажи на 1-2 порядка выше, особенно это характерно (в данном периоде) для платформ, набирающих популярность.\n",
    "Т.е. **большинство продаж приходится на относительно небольшое число популярных игр**. Особенно такие \"горячие новики\" характерны для новых платформ (`PS4`, `3DS`, `Xbox One`).  \n",
    "Следует также отметить, что на WiiU число сверх популярных игр не велико, при этом медианные продажи выше чем для других платформ.\n"
   ]
  },
  {
   "cell_type": "markdown",
   "metadata": {},
   "source": [
    "### Влияние оценок пользователей и критиков на продажи"
   ]
  },
  {
   "cell_type": "markdown",
   "metadata": {},
   "source": [
    "Влияние оценок необходимо будет сравнить несколько раз, поэтому обернем построение графиков в функцию:"
   ]
  },
  {
   "cell_type": "code",
   "execution_count": 31,
   "metadata": {},
   "outputs": [],
   "source": [
    "def score_plotter(data, parameters, ax, logy = False, alpha=0.3):\n",
    "    colors = ['b', 'r', 'y', 'g', 'c']\n",
    "    c = 0\n",
    "    for platform, df in data.items():\n",
    "        i = 0\n",
    "        for k, v in parameters.items():\n",
    "            df.plot(x=k,\n",
    "                    y='total_sales',\n",
    "                    kind='scatter',\n",
    "                    logy=logy,\n",
    "                    color=colors[c],\n",
    "                    alpha=alpha,\n",
    "                    xlabel=v,\n",
    "                    ylabel='Общие продажи',\n",
    "                    ax=ax[i],\n",
    "                    label=platform)\n",
    "            i += 1\n",
    "        c += 1"
   ]
  },
  {
   "cell_type": "markdown",
   "metadata": {},
   "source": [
    "Для начала рассмотрим влияние оценок пользователей и критиков на продажи игр на самой популярной платформе - PS4:"
   ]
  },
  {
   "cell_type": "code",
   "execution_count": 32,
   "metadata": {
    "scrolled": true
   },
   "outputs": [
    {
     "data": {
      "image/png": "[encoded data removed]",
      "text/plain": [
       "<Figure size 864x288 with 2 Axes>"
      ]
     },
     "metadata": {
      "needs_background": "light"
     },
     "output_type": "display_data"
    }
   ],
   "source": [
    "data_actual_ps4 = data_actual.query('platform == \"PS4\"')\n",
    "parameters = {'user_score' : 'Оценка пользователей', 'critic_score' : 'Оценка критиков'}\n",
    "\n",
    "fig, ax = plt.subplots(1, 2, figsize=(12, 4))\n",
    "score_plotter({'PS4':data_actual_ps4}, parameters, ax)"
   ]
  },
  {
   "cell_type": "markdown",
   "metadata": {},
   "source": [
    "Графики показывают, что оценки пользователей и критиков не оказывают большого влияния на общие продажи игр.  \n",
    "\n",
    "Особенно слабо на продажи влияют оценки пользователей. Проверим коэффициенты корреляции между общими продажами и оценками критиков и пользователей:"
   ]
  },
  {
   "cell_type": "code",
   "execution_count": 33,
   "metadata": {},
   "outputs": [
    {
     "data": {
      "text/html": [
       "<div>\n",
       "<style scoped>\n",
       "    .dataframe tbody tr th:only-of-type {\n",
       "        vertical-align: middle;\n",
       "    }\n",
       "\n",
       "    .dataframe tbody tr th {\n",
       "        vertical-align: top;\n",
       "    }\n",
       "\n",
       "    .dataframe thead th {\n",
       "        text-align: right;\n",
       "    }\n",
       "</style>\n",
       "<table border=\"1\" class=\"dataframe\">\n",
       "  <thead>\n",
       "    <tr style=\"text-align: right;\">\n",
       "      <th></th>\n",
       "      <th>total_sales</th>\n",
       "      <th>critic_score</th>\n",
       "      <th>user_score</th>\n",
       "    </tr>\n",
       "  </thead>\n",
       "  <tbody>\n",
       "    <tr>\n",
       "      <th>total_sales</th>\n",
       "      <td>1.000000</td>\n",
       "      <td>0.392849</td>\n",
       "      <td>-0.059738</td>\n",
       "    </tr>\n",
       "    <tr>\n",
       "      <th>critic_score</th>\n",
       "      <td>0.392849</td>\n",
       "      <td>1.000000</td>\n",
       "      <td>0.533330</td>\n",
       "    </tr>\n",
       "    <tr>\n",
       "      <th>user_score</th>\n",
       "      <td>-0.059738</td>\n",
       "      <td>0.533330</td>\n",
       "      <td>1.000000</td>\n",
       "    </tr>\n",
       "  </tbody>\n",
       "</table>\n",
       "</div>"
      ],
      "text/plain": [
       "              total_sales  critic_score  user_score\n",
       "total_sales      1.000000      0.392849   -0.059738\n",
       "critic_score     0.392849      1.000000    0.533330\n",
       "user_score      -0.059738      0.533330    1.000000"
      ]
     },
     "execution_count": 33,
     "metadata": {},
     "output_type": "execute_result"
    }
   ],
   "source": [
    "data_actual_ps4[['total_sales', 'critic_score', 'user_score']].corr()"
   ]
  },
  {
   "cell_type": "markdown",
   "metadata": {},
   "source": [
    "Коэффициенты корреляции согласуются с визуально наблюдаемым на графиках поведением продаж.  \n",
    "Наблюдаемые особенности (небольшое влияние критиков и отсутствие влияния пользователей) можно объяснить тем, что критики формируют свою оценку до продаж игры, и оказывают (пусть и небольшое) влияние на продажи. Пользователи же, наоборот, могут оценить игру только уже после её покупки. Это может объяснить и наличие невысоких пользовательских оценок у некоторых самых продаваемых игр - пользователи, купив активно рекламируемую игру были разочарованы ею и специально оставляли негативные отзыв, чтобы предостеречь будущих пользователей.  \n",
    "\n",
    "Проверим сделанные выводы на данных для других платформ (суммарно по всем прочим платформам), для наглядности ось общих продаж сделаем логарифмической:"
   ]
  },
  {
   "cell_type": "code",
   "execution_count": 34,
   "metadata": {
    "scrolled": false
   },
   "outputs": [
    {
     "data": {
      "text/html": [
       "<div>\n",
       "<style scoped>\n",
       "    .dataframe tbody tr th:only-of-type {\n",
       "        vertical-align: middle;\n",
       "    }\n",
       "\n",
       "    .dataframe tbody tr th {\n",
       "        vertical-align: top;\n",
       "    }\n",
       "\n",
       "    .dataframe thead th {\n",
       "        text-align: right;\n",
       "    }\n",
       "</style>\n",
       "<table border=\"1\" class=\"dataframe\">\n",
       "  <thead>\n",
       "    <tr style=\"text-align: right;\">\n",
       "      <th></th>\n",
       "      <th>total_sales</th>\n",
       "      <th>critic_score</th>\n",
       "      <th>user_score</th>\n",
       "    </tr>\n",
       "  </thead>\n",
       "  <tbody>\n",
       "    <tr>\n",
       "      <th>total_sales</th>\n",
       "      <td>1.000000</td>\n",
       "      <td>0.303243</td>\n",
       "      <td>0.017521</td>\n",
       "    </tr>\n",
       "    <tr>\n",
       "      <th>critic_score</th>\n",
       "      <td>0.303243</td>\n",
       "      <td>1.000000</td>\n",
       "      <td>0.426555</td>\n",
       "    </tr>\n",
       "    <tr>\n",
       "      <th>user_score</th>\n",
       "      <td>0.017521</td>\n",
       "      <td>0.426555</td>\n",
       "      <td>1.000000</td>\n",
       "    </tr>\n",
       "  </tbody>\n",
       "</table>\n",
       "</div>"
      ],
      "text/plain": [
       "              total_sales  critic_score  user_score\n",
       "total_sales      1.000000      0.303243    0.017521\n",
       "critic_score     0.303243      1.000000    0.426555\n",
       "user_score       0.017521      0.426555    1.000000"
      ]
     },
     "execution_count": 34,
     "metadata": {},
     "output_type": "execute_result"
    },
    {
     "data": {
      "image/png": "[encoded data removed]",
      "text/plain": [
       "<Figure size 864x288 with 2 Axes>"
      ]
     },
     "metadata": {
      "needs_background": "light"
     },
     "output_type": "display_data"
    }
   ],
   "source": [
    "data_actual_not_ps4 = data_actual.query('platform != \"PS4\"')\n",
    "\n",
    "fig, ax = plt.subplots(1, 2, figsize=(12, 4))\n",
    "\n",
    "score_plotter({'PS4': data_actual_ps4, 'not_PS4':data_actual_not_ps4}, parameters, ax, logy=True)\n",
    "\n",
    "data_actual_not_ps4[['total_sales', 'critic_score', 'user_score']].corr()"
   ]
  },
  {
   "cell_type": "markdown",
   "metadata": {},
   "source": [
    "Для прочих платформ, зависимости практически идентичны. Проверим, нет ли среди 5 самых популярных по общим продажам, платформ, выбивающихся из наблюдаемой закономерности:"
   ]
  },
  {
   "cell_type": "code",
   "execution_count": 35,
   "metadata": {
    "scrolled": false
   },
   "outputs": [
    {
     "data": {
      "image/png": "[encoded data removed]",
      "text/plain": [
       "<Figure size 864x288 with 2 Axes>"
      ]
     },
     "metadata": {
      "needs_background": "light"
     },
     "output_type": "display_data"
    }
   ],
   "source": [
    "fig, ax = plt.subplots(1, 2, figsize=(12, 4))\n",
    "data_by_platform = {platform : data_actual.query(f'platform == \"{platform}\"') for platform in top_10_platforms_since_2013.head().index}\n",
    "score_plotter(data_by_platform, parameters, ax, logy=True, alpha=0.5)"
   ]
  },
  {
   "cell_type": "markdown",
   "metadata": {},
   "source": [
    "Коэффициенты корреляции между продажами и оценками для различных платформ:"
   ]
  },
  {
   "cell_type": "code",
   "execution_count": 36,
   "metadata": {},
   "outputs": [
    {
     "data": {
      "text/html": [
       "<div>\n",
       "<style scoped>\n",
       "    .dataframe tbody tr th:only-of-type {\n",
       "        vertical-align: middle;\n",
       "    }\n",
       "\n",
       "    .dataframe tbody tr th {\n",
       "        vertical-align: top;\n",
       "    }\n",
       "\n",
       "    .dataframe thead th {\n",
       "        text-align: right;\n",
       "    }\n",
       "</style>\n",
       "<table border=\"1\" class=\"dataframe\">\n",
       "  <thead>\n",
       "    <tr style=\"text-align: right;\">\n",
       "      <th></th>\n",
       "      <th>PS4</th>\n",
       "      <th>XOne</th>\n",
       "      <th>3DS</th>\n",
       "      <th>PS3</th>\n",
       "      <th>X360</th>\n",
       "      <th>Все платформы</th>\n",
       "    </tr>\n",
       "  </thead>\n",
       "  <tbody>\n",
       "    <tr>\n",
       "      <th>total_sales</th>\n",
       "      <td>1.000000</td>\n",
       "      <td>1.000000</td>\n",
       "      <td>1.000000</td>\n",
       "      <td>1.000000</td>\n",
       "      <td>1.000000</td>\n",
       "      <td>1.000000</td>\n",
       "    </tr>\n",
       "    <tr>\n",
       "      <th>critic_score</th>\n",
       "      <td>0.392849</td>\n",
       "      <td>0.430889</td>\n",
       "      <td>0.177575</td>\n",
       "      <td>NaN</td>\n",
       "      <td>NaN</td>\n",
       "      <td>0.325527</td>\n",
       "    </tr>\n",
       "    <tr>\n",
       "      <th>user_score</th>\n",
       "      <td>-0.059738</td>\n",
       "      <td>-0.041467</td>\n",
       "      <td>0.198796</td>\n",
       "      <td>-0.165295</td>\n",
       "      <td>-0.281308</td>\n",
       "      <td>-0.001964</td>\n",
       "    </tr>\n",
       "  </tbody>\n",
       "</table>\n",
       "</div>"
      ],
      "text/plain": [
       "                   PS4      XOne       3DS       PS3      X360  Все платформы\n",
       "total_sales   1.000000  1.000000  1.000000  1.000000  1.000000       1.000000\n",
       "critic_score  0.392849  0.430889  0.177575       NaN       NaN       0.325527\n",
       "user_score   -0.059738 -0.041467  0.198796 -0.165295 -0.281308      -0.001964"
      ]
     },
     "execution_count": 36,
     "metadata": {},
     "output_type": "execute_result"
    }
   ],
   "source": [
    "correlations_by_platform = pd.DataFrame()\n",
    "for k, v in data_by_platform.items():\n",
    "    correlations_by_platform[k] = v[['total_sales', 'critic_score', 'user_score']].corr()['total_sales']\n",
    "correlations_by_platform['Все платформы'] = data_actual[['total_sales', 'critic_score', 'user_score']].corr()['total_sales']\n",
    "correlations_by_platform"
   ]
  },
  {
   "cell_type": "markdown",
   "metadata": {},
   "source": [
    "Коэффициенты корреляции общих продаж и оценок игры для различных платформ, имеют сходные значения. Очень слабая корреляция продаж и пользовательских оценок игр хорошо согласуются с результатами, наблюдаемыми графически.  \n",
    "Относительно невысокие коэффициенты корреляции для оценок критиков при явно наблюдаемой зависимости на диаграммах рассеяния, может быть объяснена нелинейным характером такой зависимости: большие продажи наблюдаются только для игр с хорошими оценками критиков (более 60-70), для игр с меньшей оценкой зависимость от оценки слабо выражена."
   ]
  },
  {
   "cell_type": "markdown",
   "metadata": {},
   "source": [
    "Таким образом, независимо от платформы наблюдаются следующие эффекты:\n",
    "- оценка пользователей не влияет на продажи;\n",
    "- положительная оценка критиков (более 60-70) повышает продажи."
   ]
  },
  {
   "cell_type": "markdown",
   "metadata": {},
   "source": [
    "### Число игр и суммарные продажи по жанрам"
   ]
  },
  {
   "cell_type": "markdown",
   "metadata": {},
   "source": [
    "Рассмотрим распределение продаж по жанрам:"
   ]
  },
  {
   "cell_type": "code",
   "execution_count": 37,
   "metadata": {},
   "outputs": [
    {
     "data": {
      "text/html": [
       "<div>\n",
       "<style scoped>\n",
       "    .dataframe tbody tr th:only-of-type {\n",
       "        vertical-align: middle;\n",
       "    }\n",
       "\n",
       "    .dataframe tbody tr th {\n",
       "        vertical-align: top;\n",
       "    }\n",
       "\n",
       "    .dataframe thead th {\n",
       "        text-align: right;\n",
       "    }\n",
       "</style>\n",
       "<table border=\"1\" class=\"dataframe\">\n",
       "  <thead>\n",
       "    <tr style=\"text-align: right;\">\n",
       "      <th></th>\n",
       "      <th>Общие продажи</th>\n",
       "      <th>Число игр</th>\n",
       "      <th>Продажи на 1 игру</th>\n",
       "    </tr>\n",
       "    <tr>\n",
       "      <th>genre</th>\n",
       "      <th></th>\n",
       "      <th></th>\n",
       "      <th></th>\n",
       "    </tr>\n",
       "  </thead>\n",
       "  <tbody>\n",
       "    <tr>\n",
       "      <th>Shooter</th>\n",
       "      <td>105.73</td>\n",
       "      <td>81</td>\n",
       "      <td>1.305309</td>\n",
       "    </tr>\n",
       "    <tr>\n",
       "      <th>Sports</th>\n",
       "      <td>64.33</td>\n",
       "      <td>107</td>\n",
       "      <td>0.601215</td>\n",
       "    </tr>\n",
       "    <tr>\n",
       "      <th>Role-Playing</th>\n",
       "      <td>55.82</td>\n",
       "      <td>132</td>\n",
       "      <td>0.422879</td>\n",
       "    </tr>\n",
       "    <tr>\n",
       "      <th>Fighting</th>\n",
       "      <td>12.37</td>\n",
       "      <td>37</td>\n",
       "      <td>0.334324</td>\n",
       "    </tr>\n",
       "    <tr>\n",
       "      <th>Platform</th>\n",
       "      <td>9.28</td>\n",
       "      <td>28</td>\n",
       "      <td>0.331429</td>\n",
       "    </tr>\n",
       "    <tr>\n",
       "      <th>Racing</th>\n",
       "      <td>10.86</td>\n",
       "      <td>42</td>\n",
       "      <td>0.258571</td>\n",
       "    </tr>\n",
       "    <tr>\n",
       "      <th>Action</th>\n",
       "      <td>102.13</td>\n",
       "      <td>431</td>\n",
       "      <td>0.236961</td>\n",
       "    </tr>\n",
       "    <tr>\n",
       "      <th>Simulation</th>\n",
       "      <td>7.55</td>\n",
       "      <td>33</td>\n",
       "      <td>0.228788</td>\n",
       "    </tr>\n",
       "    <tr>\n",
       "      <th>Misc</th>\n",
       "      <td>14.17</td>\n",
       "      <td>71</td>\n",
       "      <td>0.199577</td>\n",
       "    </tr>\n",
       "    <tr>\n",
       "      <th>Adventure</th>\n",
       "      <td>11.98</td>\n",
       "      <td>110</td>\n",
       "      <td>0.108909</td>\n",
       "    </tr>\n",
       "    <tr>\n",
       "      <th>Puzzle</th>\n",
       "      <td>0.72</td>\n",
       "      <td>7</td>\n",
       "      <td>0.102857</td>\n",
       "    </tr>\n",
       "    <tr>\n",
       "      <th>Strategy</th>\n",
       "      <td>2.98</td>\n",
       "      <td>29</td>\n",
       "      <td>0.102759</td>\n",
       "    </tr>\n",
       "  </tbody>\n",
       "</table>\n",
       "</div>"
      ],
      "text/plain": [
       "              Общие продажи  Число игр  Продажи на 1 игру\n",
       "genre                                                    \n",
       "Shooter              105.73         81           1.305309\n",
       "Sports                64.33        107           0.601215\n",
       "Role-Playing          55.82        132           0.422879\n",
       "Fighting              12.37         37           0.334324\n",
       "Platform               9.28         28           0.331429\n",
       "Racing                10.86         42           0.258571\n",
       "Action               102.13        431           0.236961\n",
       "Simulation             7.55         33           0.228788\n",
       "Misc                  14.17         71           0.199577\n",
       "Adventure             11.98        110           0.108909\n",
       "Puzzle                 0.72          7           0.102857\n",
       "Strategy               2.98         29           0.102759"
      ]
     },
     "execution_count": 37,
     "metadata": {},
     "output_type": "execute_result"
    }
   ],
   "source": [
    "data_actual_by_genre = (data_actual\n",
    " .pivot_table(index='genre', values='total_sales', aggfunc=['sum', 'count', 'mean'])\n",
    ")\n",
    "data_actual_by_genre.columns = ['Общие продажи', 'Число игр', 'Продажи на 1 игру']\n",
    " \n",
    "data_actual_by_genre.sort_values(by='Продажи на 1 игру', ascending=False)"
   ]
  },
  {
   "cell_type": "markdown",
   "metadata": {},
   "source": [
    "Наибольшие продажи приходятся на жанры `Shooter`, `Action`, `Sports` и `Role-Playing` (продажи в следующем по популярности жанре `Fighting` в четыре раза меньше, чем в жанре `Role-Playing`).  \n",
    "\n",
    "При этом наиболее перспективным с точки зрения средних продаж (в расчете на 1 игру) является жанр `Shooter`, каждая игра в котором продаётся в количестве около 0,8 млн. копий.  \n",
    "Жанр `Action`, занимающий второе место по совокупным продажам, в расчете на 1 игру, демонстрирует весьма средние показатели (~170 тыс. копий), что вероятно связано с большим количеством низкокачественных игр в этом жанре (всего 178 игр за рассматриваемых период - максимальное значение по всем жанрам).  \n",
    "\n",
    "Жанр `Fighting` по совокупным продажам занимает лишь пятое место, однако по удельным продажам в расчете на 1 игру, мало уступает жанру `Role-Playing` и, таким образом, может рассматриваться как один из перспективных жанров."
   ]
  },
  {
   "cell_type": "markdown",
   "metadata": {},
   "source": [
    "Минимальными продажами (около 100 тыс. копий и менее на 1 игру) характеризуются игры в жанрах `Puzzle`, `Adventure`, `Strategy`, `Simulation` и игры других (неопределенных) жанров - `Misc`."
   ]
  },
  {
   "cell_type": "markdown",
   "metadata": {},
   "source": [
    "Рассмотрим стабильность продаж в наиболее популярных жанрах:"
   ]
  },
  {
   "cell_type": "code",
   "execution_count": 38,
   "metadata": {
    "scrolled": false
   },
   "outputs": [
    {
     "data": {
      "text/plain": [
       "<AxesSubplot:ylabel='Суммарные продажи'>"
      ]
     },
     "execution_count": 38,
     "metadata": {},
     "output_type": "execute_result"
    },
    {
     "data": {
      "image/png": "[encoded data removed]",
      "text/plain": [
       "<Figure size 1008x432 with 2 Axes>"
      ]
     },
     "metadata": {
      "needs_background": "light"
     },
     "output_type": "display_data"
    }
   ],
   "source": [
    "fig, ax = plt.subplots(1, 2, figsize = (14, 6))\n",
    "\n",
    "data_with_top_genres = data_actual.query('genre.isin([\"Shooter\", \"Action\", \"Sports\", \"Role-Playing\", \"Fighting\"])')\n",
    "\n",
    "(data_with_top_genres\n",
    " .pivot(columns='genre', values='total_sales')\n",
    " .plot(kind='box', logy=False, ax=ax[0], ylabel='Суммарные продажи')\n",
    ")\n",
    "\n",
    "(data_with_top_genres\n",
    " .pivot(columns='genre', values='total_sales')\n",
    " .plot(kind='box', logy=True, ax=ax[1], ylabel='Суммарные продажи')\n",
    ")"
   ]
  },
  {
   "cell_type": "markdown",
   "metadata": {},
   "source": [
    "Во всех жанрах значительные суммарные продажи приходятся на отдельные наиболее популярные игры. Построенные диаграммы подтверждают ранее сделанные заключения - наибольшие продажи, как совокупные, так и средние приходятся на жанр `Shooter`. Успешность жанра `Action` по суммарным продажам определяется продажами отдельных игр, продажи по которым сильно опережают средние.  \n",
    "\n",
    "Таким образом, наиболее перспективным жанром является жанр `Shooter`."
   ]
  },
  {
   "cell_type": "markdown",
   "metadata": {},
   "source": [
    "### Региональные различия"
   ]
  },
  {
   "cell_type": "markdown",
   "metadata": {},
   "source": [
    "#### Популярность платформ"
   ]
  },
  {
   "cell_type": "markdown",
   "metadata": {},
   "source": [
    "Определим пятерки наиболее популярных (по продажам) платформ для разных регионов:"
   ]
  },
  {
   "cell_type": "code",
   "execution_count": 39,
   "metadata": {
    "scrolled": false
   },
   "outputs": [],
   "source": [
    "# Поскольку расчёт для регионов придется повторить для разных факторов, обернем это в функцию:\n",
    "def top_n(df,\n",
    "         param,\n",
    "         sale_regions=['eu_sales', 'na_sales', 'jp_sales', 'other_sales'],\n",
    "         aggfunc='sum',\n",
    "         head_n = 5\n",
    "         ):\n",
    "    \n",
    "    agregated_df = df.groupby(param)[sale_regions].agg(aggfunc)\n",
    "    list_of_tables = [agregated_df[[region]]\n",
    "                                .sort_values(by=region, ascending=False)\n",
    "                                .head(head_n)\n",
    "                                .reset_index(col_fill=region) \n",
    "           for region in sale_regions]\n",
    "    \n",
    "    top = pd.concat(list_of_tables,\n",
    "          axis=1)\n",
    "        \n",
    "    return top\n",
    "\n",
    "#Функция для построения круговых графиков\n",
    "def pie_plotter(df,\n",
    "                param,\n",
    "                head_n = 5,\n",
    "                figsize=(16,10)):\n",
    "    \n",
    "    regions = {'Европа' : 'eu_sales', 'Северная Америка':'na_sales', 'Япония':'jp_sales'}\n",
    "    fig, ax = plt.subplots(1,3, figsize=figsize)\n",
    "    i = 0\n",
    "    \n",
    "    for title, region in regions.items():\n",
    "        agregated_df = df.groupby(param)[region].sum()\n",
    "    \n",
    "        top = (agregated_df\n",
    "               .sort_values(ascending=False)\n",
    "               .head(head_n)\n",
    "               .reset_index()\n",
    "              )\n",
    "        tail_to_append = (agregated_df\n",
    "                          .sort_values(ascending=False)\n",
    "                          .head(len(agregated_df) - head_n)\n",
    "                          .reset_index()\n",
    "                          .sum()[region]\n",
    "              )\n",
    "        top_with_others = top.append({param:'прочие', region:tail_to_append}, ignore_index=True)\n",
    "        top_with_others.plot.pie(y=region, labels=top_with_others[param], legend=False, title=title, ylabel='', ax=ax[i])\n",
    "        i += 1\n",
    "    \n",
    "    return None"
   ]
  },
  {
   "cell_type": "code",
   "execution_count": 40,
   "metadata": {},
   "outputs": [
    {
     "data": {
      "text/html": [
       "<div>\n",
       "<style scoped>\n",
       "    .dataframe tbody tr th:only-of-type {\n",
       "        vertical-align: middle;\n",
       "    }\n",
       "\n",
       "    .dataframe tbody tr th {\n",
       "        vertical-align: top;\n",
       "    }\n",
       "\n",
       "    .dataframe thead th {\n",
       "        text-align: right;\n",
       "    }\n",
       "</style>\n",
       "<table border=\"1\" class=\"dataframe\">\n",
       "  <thead>\n",
       "    <tr style=\"text-align: right;\">\n",
       "      <th></th>\n",
       "      <th>platform</th>\n",
       "      <th>eu_sales</th>\n",
       "      <th>platform</th>\n",
       "      <th>na_sales</th>\n",
       "      <th>platform</th>\n",
       "      <th>jp_sales</th>\n",
       "      <th>platform</th>\n",
       "      <th>other_sales</th>\n",
       "    </tr>\n",
       "  </thead>\n",
       "  <tbody>\n",
       "    <tr>\n",
       "      <th>0</th>\n",
       "      <td>PS4</td>\n",
       "      <td>83.54</td>\n",
       "      <td>PS4</td>\n",
       "      <td>63.86</td>\n",
       "      <td>3DS</td>\n",
       "      <td>23.55</td>\n",
       "      <td>PS4</td>\n",
       "      <td>28.70</td>\n",
       "    </tr>\n",
       "    <tr>\n",
       "      <th>1</th>\n",
       "      <td>XOne</td>\n",
       "      <td>28.10</td>\n",
       "      <td>XOne</td>\n",
       "      <td>50.30</td>\n",
       "      <td>PS4</td>\n",
       "      <td>12.05</td>\n",
       "      <td>XOne</td>\n",
       "      <td>7.71</td>\n",
       "    </tr>\n",
       "    <tr>\n",
       "      <th>2</th>\n",
       "      <td>PC</td>\n",
       "      <td>9.10</td>\n",
       "      <td>3DS</td>\n",
       "      <td>10.31</td>\n",
       "      <td>PSV</td>\n",
       "      <td>8.41</td>\n",
       "      <td>PS3</td>\n",
       "      <td>2.49</td>\n",
       "    </tr>\n",
       "    <tr>\n",
       "      <th>3</th>\n",
       "      <td>3DS</td>\n",
       "      <td>7.39</td>\n",
       "      <td>WiiU</td>\n",
       "      <td>8.86</td>\n",
       "      <td>PS3</td>\n",
       "      <td>4.97</td>\n",
       "      <td>3DS</td>\n",
       "      <td>1.67</td>\n",
       "    </tr>\n",
       "    <tr>\n",
       "      <th>4</th>\n",
       "      <td>PS3</td>\n",
       "      <td>7.30</td>\n",
       "      <td>X360</td>\n",
       "      <td>8.05</td>\n",
       "      <td>WiiU</td>\n",
       "      <td>4.12</td>\n",
       "      <td>WiiU</td>\n",
       "      <td>1.48</td>\n",
       "    </tr>\n",
       "  </tbody>\n",
       "</table>\n",
       "</div>"
      ],
      "text/plain": [
       "  platform  eu_sales platform  na_sales platform  jp_sales platform  \\\n",
       "0      PS4     83.54      PS4     63.86      3DS     23.55      PS4   \n",
       "1     XOne     28.10     XOne     50.30      PS4     12.05     XOne   \n",
       "2       PC      9.10      3DS     10.31      PSV      8.41      PS3   \n",
       "3      3DS      7.39     WiiU      8.86      PS3      4.97      3DS   \n",
       "4      PS3      7.30     X360      8.05     WiiU      4.12     WiiU   \n",
       "\n",
       "   other_sales  \n",
       "0        28.70  \n",
       "1         7.71  \n",
       "2         2.49  \n",
       "3         1.67  \n",
       "4         1.48  "
      ]
     },
     "execution_count": 40,
     "metadata": {},
     "output_type": "execute_result"
    }
   ],
   "source": [
    "top5_platforms = top_n(data_actual, 'platform')\n",
    "top5_platforms"
   ]
  },
  {
   "cell_type": "code",
   "execution_count": 41,
   "metadata": {},
   "outputs": [
    {
     "data": {
      "image/png": "[encoded data removed]",
      "text/plain": [
       "<Figure size 1152x720 with 3 Axes>"
      ]
     },
     "metadata": {},
     "output_type": "display_data"
    }
   ],
   "source": [
    "pie_plotter(data_actual, 'platform')"
   ]
  },
  {
   "cell_type": "markdown",
   "metadata": {},
   "source": [
    "Все регионы, кроме Японии, имеют сходное распределение наиболее популярных платформ. **Первое место** по продажам игр занимает **PS4** (в Японии - второе место), **второе место - Xbox One**.\n",
    "\n",
    "Наиболее *сильно* от остальных *отличаются продажи в Японии* - **первое место** занимают продажи игр для **3DS**, а Xbox One в Японии вообще не представлен, так же в топ-5 в Японии, в отличии от остальных регионов вошла PS Vita.  \n",
    "\n",
    "Наблюдаемые различия можно объяснить разделением рынка, между Японской Nintendo (платформы 3DS и WiiU из топ-5) и американской Microsoft (платформа Xbox One), также по всей видимости большей любовью японцев к портативным платформам (3DS, PS Vita).\n",
    "\n",
    "Следует отметить, что продажи игр для наиболее популярных платформ составляют приблизительно половину от общих продаж."
   ]
  },
  {
   "cell_type": "markdown",
   "metadata": {},
   "source": [
    "#### Популярность жанров"
   ]
  },
  {
   "cell_type": "markdown",
   "metadata": {},
   "source": [
    "Рассмотрим распределение жанров по суммарным продажам в различных регионах:"
   ]
  },
  {
   "cell_type": "code",
   "execution_count": 42,
   "metadata": {
    "scrolled": true
   },
   "outputs": [
    {
     "data": {
      "text/html": [
       "<div>\n",
       "<style scoped>\n",
       "    .dataframe tbody tr th:only-of-type {\n",
       "        vertical-align: middle;\n",
       "    }\n",
       "\n",
       "    .dataframe tbody tr th {\n",
       "        vertical-align: top;\n",
       "    }\n",
       "\n",
       "    .dataframe thead th {\n",
       "        text-align: right;\n",
       "    }\n",
       "</style>\n",
       "<table border=\"1\" class=\"dataframe\">\n",
       "  <thead>\n",
       "    <tr style=\"text-align: right;\">\n",
       "      <th></th>\n",
       "      <th>genre</th>\n",
       "      <th>eu_sales</th>\n",
       "      <th>genre</th>\n",
       "      <th>na_sales</th>\n",
       "      <th>genre</th>\n",
       "      <th>jp_sales</th>\n",
       "      <th>genre</th>\n",
       "      <th>other_sales</th>\n",
       "    </tr>\n",
       "  </thead>\n",
       "  <tbody>\n",
       "    <tr>\n",
       "      <th>0</th>\n",
       "      <td>Shooter</td>\n",
       "      <td>40.28</td>\n",
       "      <td>Shooter</td>\n",
       "      <td>48.18</td>\n",
       "      <td>Action</td>\n",
       "      <td>23.05</td>\n",
       "      <td>Shooter</td>\n",
       "      <td>13.48</td>\n",
       "    </tr>\n",
       "    <tr>\n",
       "      <th>1</th>\n",
       "      <td>Action</td>\n",
       "      <td>34.82</td>\n",
       "      <td>Action</td>\n",
       "      <td>33.68</td>\n",
       "      <td>Role-Playing</td>\n",
       "      <td>13.41</td>\n",
       "      <td>Action</td>\n",
       "      <td>10.58</td>\n",
       "    </tr>\n",
       "    <tr>\n",
       "      <th>2</th>\n",
       "      <td>Sports</td>\n",
       "      <td>27.82</td>\n",
       "      <td>Sports</td>\n",
       "      <td>26.31</td>\n",
       "      <td>Shooter</td>\n",
       "      <td>3.79</td>\n",
       "      <td>Sports</td>\n",
       "      <td>8.55</td>\n",
       "    </tr>\n",
       "    <tr>\n",
       "      <th>3</th>\n",
       "      <td>Role-Playing</td>\n",
       "      <td>17.21</td>\n",
       "      <td>Role-Playing</td>\n",
       "      <td>19.82</td>\n",
       "      <td>Misc</td>\n",
       "      <td>3.19</td>\n",
       "      <td>Role-Playing</td>\n",
       "      <td>5.38</td>\n",
       "    </tr>\n",
       "    <tr>\n",
       "      <th>4</th>\n",
       "      <td>Racing</td>\n",
       "      <td>6.52</td>\n",
       "      <td>Misc</td>\n",
       "      <td>5.58</td>\n",
       "      <td>Adventure</td>\n",
       "      <td>2.22</td>\n",
       "      <td>Fighting</td>\n",
       "      <td>1.57</td>\n",
       "    </tr>\n",
       "  </tbody>\n",
       "</table>\n",
       "</div>"
      ],
      "text/plain": [
       "          genre  eu_sales         genre  na_sales         genre  jp_sales  \\\n",
       "0       Shooter     40.28       Shooter     48.18        Action     23.05   \n",
       "1        Action     34.82        Action     33.68  Role-Playing     13.41   \n",
       "2        Sports     27.82        Sports     26.31       Shooter      3.79   \n",
       "3  Role-Playing     17.21  Role-Playing     19.82          Misc      3.19   \n",
       "4        Racing      6.52          Misc      5.58     Adventure      2.22   \n",
       "\n",
       "          genre  other_sales  \n",
       "0       Shooter        13.48  \n",
       "1        Action        10.58  \n",
       "2        Sports         8.55  \n",
       "3  Role-Playing         5.38  \n",
       "4      Fighting         1.57  "
      ]
     },
     "execution_count": 42,
     "metadata": {},
     "output_type": "execute_result"
    }
   ],
   "source": [
    "top5_genres_by_sum = top_n(data_actual, 'genre')\n",
    "top5_genres_by_sum"
   ]
  },
  {
   "cell_type": "markdown",
   "metadata": {},
   "source": [
    "Подобно распределению платформ, для распределения жанров по суммарным продажам наибольшее отличие характерно для Японии. \n",
    "Так, наиболее популярным жанром для всех регионов кроме Японии является `Shooter`, второе и третье место делят `Sports` и `Action`.  \n",
    "В Японии жанр `Shooter` занял лишь 4 место по суммарным продажам, а первые два - жанры `Action` и `Role-Playing`.  \n",
    "Рассмотрим удельные продажи в расчете на 1 игру:"
   ]
  },
  {
   "cell_type": "code",
   "execution_count": 43,
   "metadata": {
    "scrolled": true
   },
   "outputs": [
    {
     "data": {
      "text/html": [
       "<div>\n",
       "<style scoped>\n",
       "    .dataframe tbody tr th:only-of-type {\n",
       "        vertical-align: middle;\n",
       "    }\n",
       "\n",
       "    .dataframe tbody tr th {\n",
       "        vertical-align: top;\n",
       "    }\n",
       "\n",
       "    .dataframe thead th {\n",
       "        text-align: right;\n",
       "    }\n",
       "</style>\n",
       "<table border=\"1\" class=\"dataframe\">\n",
       "  <thead>\n",
       "    <tr style=\"text-align: right;\">\n",
       "      <th></th>\n",
       "      <th>genre</th>\n",
       "      <th>eu_sales</th>\n",
       "      <th>genre</th>\n",
       "      <th>na_sales</th>\n",
       "      <th>genre</th>\n",
       "      <th>jp_sales</th>\n",
       "      <th>genre</th>\n",
       "      <th>other_sales</th>\n",
       "    </tr>\n",
       "  </thead>\n",
       "  <tbody>\n",
       "    <tr>\n",
       "      <th>0</th>\n",
       "      <td>Shooter</td>\n",
       "      <td>0.497284</td>\n",
       "      <td>Shooter</td>\n",
       "      <td>0.594815</td>\n",
       "      <td>Role-Playing</td>\n",
       "      <td>0.101591</td>\n",
       "      <td>Shooter</td>\n",
       "      <td>0.166420</td>\n",
       "    </tr>\n",
       "    <tr>\n",
       "      <th>1</th>\n",
       "      <td>Sports</td>\n",
       "      <td>0.260000</td>\n",
       "      <td>Sports</td>\n",
       "      <td>0.245888</td>\n",
       "      <td>Puzzle</td>\n",
       "      <td>0.074286</td>\n",
       "      <td>Sports</td>\n",
       "      <td>0.079907</td>\n",
       "    </tr>\n",
       "    <tr>\n",
       "      <th>2</th>\n",
       "      <td>Racing</td>\n",
       "      <td>0.155238</td>\n",
       "      <td>Role-Playing</td>\n",
       "      <td>0.150152</td>\n",
       "      <td>Simulation</td>\n",
       "      <td>0.058485</td>\n",
       "      <td>Fighting</td>\n",
       "      <td>0.042432</td>\n",
       "    </tr>\n",
       "    <tr>\n",
       "      <th>3</th>\n",
       "      <td>Role-Playing</td>\n",
       "      <td>0.130379</td>\n",
       "      <td>Fighting</td>\n",
       "      <td>0.149730</td>\n",
       "      <td>Action</td>\n",
       "      <td>0.053480</td>\n",
       "      <td>Role-Playing</td>\n",
       "      <td>0.040758</td>\n",
       "    </tr>\n",
       "    <tr>\n",
       "      <th>4</th>\n",
       "      <td>Platform</td>\n",
       "      <td>0.114286</td>\n",
       "      <td>Platform</td>\n",
       "      <td>0.135000</td>\n",
       "      <td>Platform</td>\n",
       "      <td>0.050714</td>\n",
       "      <td>Platform</td>\n",
       "      <td>0.031429</td>\n",
       "    </tr>\n",
       "  </tbody>\n",
       "</table>\n",
       "</div>"
      ],
      "text/plain": [
       "          genre  eu_sales         genre  na_sales         genre  jp_sales  \\\n",
       "0       Shooter  0.497284       Shooter  0.594815  Role-Playing  0.101591   \n",
       "1        Sports  0.260000        Sports  0.245888        Puzzle  0.074286   \n",
       "2        Racing  0.155238  Role-Playing  0.150152    Simulation  0.058485   \n",
       "3  Role-Playing  0.130379      Fighting  0.149730        Action  0.053480   \n",
       "4      Platform  0.114286      Platform  0.135000      Platform  0.050714   \n",
       "\n",
       "          genre  other_sales  \n",
       "0       Shooter     0.166420  \n",
       "1        Sports     0.079907  \n",
       "2      Fighting     0.042432  \n",
       "3  Role-Playing     0.040758  \n",
       "4      Platform     0.031429  "
      ]
     },
     "execution_count": 43,
     "metadata": {},
     "output_type": "execute_result"
    }
   ],
   "source": [
    "top5_genres_by_mean = top_n(data_actual, 'genre', aggfunc='mean')\n",
    "top5_genres_by_mean"
   ]
  },
  {
   "cell_type": "code",
   "execution_count": 44,
   "metadata": {},
   "outputs": [
    {
     "data": {
      "image/png": "[encoded data removed]",
      "text/plain": [
       "<Figure size 1152x720 with 3 Axes>"
      ]
     },
     "metadata": {},
     "output_type": "display_data"
    }
   ],
   "source": [
    "pie_plotter(data_actual, 'genre')"
   ]
  },
  {
   "cell_type": "markdown",
   "metadata": {},
   "source": [
    "Рассмотрение удельных продаж снижает вклад жанра `Action`, в котором выпускается большое количество игр при средних продажах.   \n",
    "При рассмотрении удельных продаж распределения жанров также приводят к противопоставлению Японии и остального мира. Жанры `Shooter` и `Sports` во всем мире занимают первые два места по удельным продажам.  \n",
    "В Японии наиболее популярный в остальном мире жанр `Shooter` занимает только пятое место, а жанр `Sports` вообще не вошёл в 5 самых популярных.  \n",
    "Первое место по удельным продажам в Японии занял жанр `Role-Playing`, в остальном мире занимающий 4-5 места.  \n",
    "\n",
    "По всей видимости наблюдаемые различия имеют культурные корни."
   ]
  },
  {
   "cell_type": "markdown",
   "metadata": {},
   "source": [
    "#### Влияние возрастного рейтинга"
   ]
  },
  {
   "cell_type": "markdown",
   "metadata": {},
   "source": [
    "Сравним удельные и суммарные продажи игр с различным возрастным рейтингом, выпускаемых в разных регионах:"
   ]
  },
  {
   "cell_type": "code",
   "execution_count": 45,
   "metadata": {
    "scrolled": false
   },
   "outputs": [
    {
     "data": {
      "text/html": [
       "<div>\n",
       "<style scoped>\n",
       "    .dataframe tbody tr th:only-of-type {\n",
       "        vertical-align: middle;\n",
       "    }\n",
       "\n",
       "    .dataframe tbody tr th {\n",
       "        vertical-align: top;\n",
       "    }\n",
       "\n",
       "    .dataframe thead th {\n",
       "        text-align: right;\n",
       "    }\n",
       "</style>\n",
       "<table border=\"1\" class=\"dataframe\">\n",
       "  <thead>\n",
       "    <tr style=\"text-align: right;\">\n",
       "      <th></th>\n",
       "      <th>rating</th>\n",
       "      <th>eu_sales</th>\n",
       "      <th>rating</th>\n",
       "      <th>na_sales</th>\n",
       "      <th>rating</th>\n",
       "      <th>jp_sales</th>\n",
       "      <th>rating</th>\n",
       "      <th>other_sales</th>\n",
       "    </tr>\n",
       "  </thead>\n",
       "  <tbody>\n",
       "    <tr>\n",
       "      <th>0</th>\n",
       "      <td>M</td>\n",
       "      <td>0.305638</td>\n",
       "      <td>M</td>\n",
       "      <td>0.315638</td>\n",
       "      <td>NA</td>\n",
       "      <td>0.064113</td>\n",
       "      <td>M</td>\n",
       "      <td>0.095570</td>\n",
       "    </tr>\n",
       "    <tr>\n",
       "      <th>1</th>\n",
       "      <td>E</td>\n",
       "      <td>0.227647</td>\n",
       "      <td>E10+</td>\n",
       "      <td>0.176931</td>\n",
       "      <td>T</td>\n",
       "      <td>0.040104</td>\n",
       "      <td>E</td>\n",
       "      <td>0.056013</td>\n",
       "    </tr>\n",
       "    <tr>\n",
       "      <th>2</th>\n",
       "      <td>E10+</td>\n",
       "      <td>0.114257</td>\n",
       "      <td>E</td>\n",
       "      <td>0.173791</td>\n",
       "      <td>E</td>\n",
       "      <td>0.034314</td>\n",
       "      <td>E10+</td>\n",
       "      <td>0.039604</td>\n",
       "    </tr>\n",
       "    <tr>\n",
       "      <th>3</th>\n",
       "      <td>T</td>\n",
       "      <td>0.105833</td>\n",
       "      <td>T</td>\n",
       "      <td>0.119063</td>\n",
       "      <td>E10+</td>\n",
       "      <td>0.032376</td>\n",
       "      <td>T</td>\n",
       "      <td>0.035677</td>\n",
       "    </tr>\n",
       "    <tr>\n",
       "      <th>4</th>\n",
       "      <td>NA</td>\n",
       "      <td>0.069610</td>\n",
       "      <td>NA</td>\n",
       "      <td>0.072982</td>\n",
       "      <td>M</td>\n",
       "      <td>0.028792</td>\n",
       "      <td>NA</td>\n",
       "      <td>0.021696</td>\n",
       "    </tr>\n",
       "  </tbody>\n",
       "</table>\n",
       "</div>"
      ],
      "text/plain": [
       "  rating  eu_sales rating  na_sales rating  jp_sales rating  other_sales\n",
       "0      M  0.305638      M  0.315638     NA  0.064113      M     0.095570\n",
       "1      E  0.227647   E10+  0.176931      T  0.040104      E     0.056013\n",
       "2   E10+  0.114257      E  0.173791      E  0.034314   E10+     0.039604\n",
       "3      T  0.105833      T  0.119063   E10+  0.032376      T     0.035677\n",
       "4     NA  0.069610     NA  0.072982      M  0.028792     NA     0.021696"
      ]
     },
     "execution_count": 45,
     "metadata": {},
     "output_type": "execute_result"
    }
   ],
   "source": [
    "#Удалим неиспользуемые категории ('AO', 'K-A'):\n",
    "data_actual.rating = data_actual.rating.cat.remove_unused_categories()\n",
    "\n",
    "#Удельные продажи игр с разным возрастным рейтингом по регионам:\n",
    "top_n(data_actual, 'rating', aggfunc='mean')"
   ]
  },
  {
   "cell_type": "markdown",
   "metadata": {},
   "source": [
    "Рейтинг ESRB влияет на продажи игр.  \n",
    "Опять наблюдается разделение регионов на Японию и весь остальной мир. В Японии большие продажи приходятся на игры без указания возрастной категории от ESRB, этом может объясняться большей изолированностью японского рынка (что наблюдается также по популярности платформ) и выходом некоторых игр, исключительно для японского рынка.  \n",
    "\n",
    "Наиболее популярными везде кроме Японии являются игры категории 'M' (17+), в Японии же, среди игр с категорией от ESRB первое место занимают игры категории 'T' (13+). Такие различия могут быть объяснены как возрастными различиями пользователей, так и популярностью разных жанров игр в Японии и остальном мире. Популярные в остальном мире игры жанра `Shooter` неизбежно содержат большое количество насилия и \"грубую ненормативную лексику\" в случае онлайн формата.   \n",
    "Во всех регионах самые низкие продажи харатерны для категории 'E10+'. Возможно это связано с узкой возрастной категорией (10-13 лет) в результате чего издатели либо будут стремиться добиться рейтинга 'E' (6+) для \"мягких\" игр, либо будут вносить меньше ограничений и получат рейтинг 'T' или 'M'.  \n",
    "\n",
    "Рассмотрим суммарные продажи игр по возрастным категориям:"
   ]
  },
  {
   "cell_type": "code",
   "execution_count": 46,
   "metadata": {
    "scrolled": false
   },
   "outputs": [
    {
     "data": {
      "text/html": [
       "<div>\n",
       "<style scoped>\n",
       "    .dataframe tbody tr th:only-of-type {\n",
       "        vertical-align: middle;\n",
       "    }\n",
       "\n",
       "    .dataframe tbody tr th {\n",
       "        vertical-align: top;\n",
       "    }\n",
       "\n",
       "    .dataframe thead th {\n",
       "        text-align: right;\n",
       "    }\n",
       "</style>\n",
       "<table border=\"1\" class=\"dataframe\">\n",
       "  <thead>\n",
       "    <tr style=\"text-align: right;\">\n",
       "      <th></th>\n",
       "      <th>rating</th>\n",
       "      <th>eu_sales</th>\n",
       "      <th>rating</th>\n",
       "      <th>na_sales</th>\n",
       "      <th>rating</th>\n",
       "      <th>jp_sales</th>\n",
       "      <th>rating</th>\n",
       "      <th>other_sales</th>\n",
       "    </tr>\n",
       "  </thead>\n",
       "  <tbody>\n",
       "    <tr>\n",
       "      <th>0</th>\n",
       "      <td>M</td>\n",
       "      <td>45.54</td>\n",
       "      <td>M</td>\n",
       "      <td>47.03</td>\n",
       "      <td>NA</td>\n",
       "      <td>32.89</td>\n",
       "      <td>M</td>\n",
       "      <td>14.24</td>\n",
       "    </tr>\n",
       "    <tr>\n",
       "      <th>1</th>\n",
       "      <td>NA</td>\n",
       "      <td>35.71</td>\n",
       "      <td>NA</td>\n",
       "      <td>37.44</td>\n",
       "      <td>T</td>\n",
       "      <td>7.70</td>\n",
       "      <td>NA</td>\n",
       "      <td>11.13</td>\n",
       "    </tr>\n",
       "    <tr>\n",
       "      <th>2</th>\n",
       "      <td>E</td>\n",
       "      <td>34.83</td>\n",
       "      <td>E</td>\n",
       "      <td>26.59</td>\n",
       "      <td>E</td>\n",
       "      <td>5.25</td>\n",
       "      <td>E</td>\n",
       "      <td>8.57</td>\n",
       "    </tr>\n",
       "    <tr>\n",
       "      <th>3</th>\n",
       "      <td>T</td>\n",
       "      <td>20.32</td>\n",
       "      <td>T</td>\n",
       "      <td>22.86</td>\n",
       "      <td>M</td>\n",
       "      <td>4.29</td>\n",
       "      <td>T</td>\n",
       "      <td>6.85</td>\n",
       "    </tr>\n",
       "    <tr>\n",
       "      <th>4</th>\n",
       "      <td>E10+</td>\n",
       "      <td>11.54</td>\n",
       "      <td>E10+</td>\n",
       "      <td>17.87</td>\n",
       "      <td>E10+</td>\n",
       "      <td>3.27</td>\n",
       "      <td>E10+</td>\n",
       "      <td>4.00</td>\n",
       "    </tr>\n",
       "  </tbody>\n",
       "</table>\n",
       "</div>"
      ],
      "text/plain": [
       "  rating  eu_sales rating  na_sales rating  jp_sales rating  other_sales\n",
       "0      M     45.54      M     47.03     NA     32.89      M        14.24\n",
       "1     NA     35.71     NA     37.44      T      7.70     NA        11.13\n",
       "2      E     34.83      E     26.59      E      5.25      E         8.57\n",
       "3      T     20.32      T     22.86      M      4.29      T         6.85\n",
       "4   E10+     11.54   E10+     17.87   E10+      3.27   E10+         4.00"
      ]
     },
     "execution_count": 46,
     "metadata": {},
     "output_type": "execute_result"
    }
   ],
   "source": [
    "top_n(data_actual, 'rating', aggfunc='sum')"
   ]
  },
  {
   "cell_type": "code",
   "execution_count": 47,
   "metadata": {},
   "outputs": [
    {
     "data": {
      "image/png": "[encoded data removed]",
      "text/plain": [
       "<Figure size 1152x720 with 3 Axes>"
      ]
     },
     "metadata": {},
     "output_type": "display_data"
    }
   ],
   "source": [
    "pie_plotter(data_actual, 'rating')"
   ]
  },
  {
   "cell_type": "markdown",
   "metadata": {},
   "source": [
    "Для суммарных продаж характерны теже особенности, что и для удельных. Также выделяется японский рынок, на котором больше половины игр не имеют рейтинга от ESRB. Несколько смущают большие доли продаж игр без указания возрастного рейтинга от ESRB в Северной Америке, что заставляет сомневаться в корректности датасета. Следует дополнительно убедиться в актуальности представленных данных."
   ]
  },
  {
   "cell_type": "code",
   "execution_count": 48,
   "metadata": {},
   "outputs": [
    {
     "data": {
      "text/plain": [
       "NA      513\n",
       "T       192\n",
       "E       153\n",
       "M       149\n",
       "E10+    101\n",
       "Name: rating, dtype: int64"
      ]
     },
     "execution_count": 48,
     "metadata": {},
     "output_type": "execute_result"
    }
   ],
   "source": [
    "data_actual.rating.value_counts()"
   ]
  },
  {
   "cell_type": "markdown",
   "metadata": {},
   "source": [
    "## Статистический анализ"
   ]
  },
  {
   "cell_type": "markdown",
   "metadata": {},
   "source": [
    "### Формулировки гипотез"
   ]
  },
  {
   "cell_type": "markdown",
   "metadata": {},
   "source": [
    "Требуется проверить следующие гипотезы:\n",
    "\n",
    "- средние пользовательские рейтинги платформ Xbox One и PC одинаковые;\n",
    "- средние пользовательские рейтинги жанров Action (англ. «действие», экшен-игры) и Sports (англ. «спортивные соревнования») разные.\n",
    "\n",
    "Соответсвующие им альтернативные гипотезы будут звучаться следующим образом:\n",
    "- средние пользовательские рейтинги платформ Xbox One и PC разные;\n",
    "- средние пользовательские рейтинги жанров Action (англ. «действие», экшен-игры) и Sports (англ. «спортивные соревнования») одинаковые.\n",
    "\n",
    "В первом случае проверяемая гипотеза будет \"нулевой\", а во втором - \"нулевой\" будет альтернативная проверяемой гипотеза. Поскольку мы не делаем предположений о характере различия (больше/меньше), для проверки гипотез может быть использован двухсторонний t-тест.  \n",
    "В качестве порогового значения будем использовать $\\alpha = 0,05$."
   ]
  },
  {
   "cell_type": "code",
   "execution_count": 50,
   "metadata": {},
   "outputs": [],
   "source": [
    "alpha = 0.05"
   ]
  },
  {
   "cell_type": "markdown",
   "metadata": {},
   "source": [
    "### Различие пользовательских рейтингов для платформ Xbox One и PC"
   ]
  },
  {
   "cell_type": "markdown",
   "metadata": {},
   "source": [
    "Если средние пользовательские рейтинги платформ Xbox One и PC одинаковы, то рейтинги игр для обоих платформ являются выборками из общей генеральной совокупности с общим средним, в случае альтернативной гипотезы (различия средних) средние по выборкам будут не равны. Проверим это при помощи двухвыборочного t-теста: "
   ]
  },
  {
   "cell_type": "code",
   "execution_count": 51,
   "metadata": {
    "scrolled": true
   },
   "outputs": [
    {
     "name": "stdout",
     "output_type": "stream",
     "text": [
      "Cредние пользовательские рейтинги платформ Xbox One и PC равны: 792 и 529\n",
      "Cредние пользовательские рейтинги платформ Xbox One и PC не различаются.\n",
      "p-значение: 0.27785418494245345\n"
     ]
    }
   ],
   "source": [
    "xone = data_actual.query('platform == \"XOne\"')['user_score']\n",
    "pc = data_actual.query('platform == \"PC\"')['user_score']\n",
    "\n",
    "pvalue_platform = st.ttest_ind(xone,\n",
    "                           pc, \n",
    "                           nan_policy = 'omit'\n",
    "                          ).pvalue\n",
    "if pvalue_platform > alpha:\n",
    "    answer = 'не '\n",
    "else:\n",
    "    answer = ''\n",
    "    \n",
    "print(f\"Cредние пользовательские рейтинги платформ Xbox One и PC равны: {xone.sum():0.0f} и {pc.sum():0.0f}\") \n",
    "print(f\"Cредние пользовательские рейтинги платформ Xbox One и PC {answer}различаются.\")\n",
    "print(\"p-значение:\", pvalue_platform)"
   ]
  },
  {
   "cell_type": "markdown",
   "metadata": {},
   "source": [
    "Проверяемая гипотеза об одинаковости средних пользовательских оценок для игр на платформах Xbox One и PC подтверждается с высокой степень уверенности. Полученное p-значение (28%) с большим запасом выше заданного критического значения (5%)."
   ]
  },
  {
   "cell_type": "markdown",
   "metadata": {},
   "source": [
    "### Различие пользовательских рейтингов игр в жанрах `Action` и `Sports`"
   ]
  },
  {
   "cell_type": "markdown",
   "metadata": {},
   "source": [
    "Для проверки предложенной гипотезы (о различии пользовательских рейтингов игр в жанрах Action и Sports) требуется опровергнуть нулевую гипотезу о равенстве средних для этих двух выборок. Поскольку направление различия (больше или меньше) нас не интересует, для проверки можно использовать двухвыборочного t-теста. В качестве критического значения $\\alpha$ используем ранее заданное: "
   ]
  },
  {
   "cell_type": "code",
   "execution_count": 52,
   "metadata": {},
   "outputs": [
    {
     "name": "stdout",
     "output_type": "stream",
     "text": [
      "Cредние пользовательские рейтинги игр в жанрах Action и Sports равны: 1314 и 426\n",
      "Cредние пользовательские рейтинги игр в жанрах Action и Sports различаются.\n",
      "p-значение: 1.0012799429014285e-13\n"
     ]
    }
   ],
   "source": [
    "action = data_actual.query('genre == \"Action\"')['user_score']\n",
    "sports = data_actual.query('genre == \"Sports\"')['user_score']\n",
    "\n",
    "pvalue_genre = st.ttest_ind(action,\n",
    "                           sports, \n",
    "                           nan_policy = 'omit'\n",
    "                          ).pvalue\n",
    "if pvalue_genre > alpha:\n",
    "    answer = 'не '\n",
    "else:\n",
    "    answer = ''\n",
    "\n",
    "print(f\"Cредние пользовательские рейтинги игр в жанрах Action и Sports равны: {action.sum():0.0f} и {sports.sum():0.0f}\")    \n",
    "print(f\"Cредние пользовательские рейтинги игр в жанрах Action и Sports {answer}различаются.\")\n",
    "print(\"p-значение:\", pvalue_genre)"
   ]
  },
  {
   "cell_type": "markdown",
   "metadata": {},
   "source": [
    "Проверяемая гипотеза о различии средних пользовательских оценок для игр в жанрах Action и Sports с большой уверенностью подтверждается имеющимися данными. Полученное p-значение $ 1\\cdot 10^{-13} $ с огромным запасом ниже заданного критического значения (5%)."
   ]
  },
  {
   "cell_type": "markdown",
   "metadata": {},
   "source": [
    "## Выводы"
   ]
  },
  {
   "cell_type": "markdown",
   "metadata": {},
   "source": [
    "### Актуальный период и потенциально прибыльные платформы  \n",
    "\n",
    "Актуальным периодом для предсказаний на 2017 год, является период с 2014-2015 года, в зависимости от наших предположений о скорости выхода из употребления игровых платформ седьмого поколения (PS3, PSP, Wii, DS, Xbox 360).  \n",
    "В данный период такие платформы уже достаточно потеряли популярность. **Актуальными и потенциально прибыльными** являются платформы восьмого поколения (**PS4, Xbow One, WiiU, 3DS, PSV**). Стабильную популярность сохраняют персональные компьютеры и, отчасти, портативные игровые устройства.  \n",
    "Продажи большинства игр, независимо от платформы составляют порядка 100 тысяч экземпляров. При этом ограниченное число игр имеет продажи на 1-2 порядка выше, особенно это характерно (в данном периоде) для платформ, набирающих популярность.\n",
    "Т.е. **большинство продаж приходится на небольшое число популярных игр**. Особенно такие \"горячие новики\" характерны для новых платформ."
   ]
  },
  {
   "cell_type": "markdown",
   "metadata": {},
   "source": [
    "### Влияние оценок критиков и пользователей\n",
    "Оценки критиков оказывают небольшое влияние на продажи, при влияния оценок пользователей на продажи отсутствует. Это можно объяснить тем, что критики формируют свою оценку до продаж игры, и оказывают (пусть и небольшое) влияние на продажи. Пользователи же, наоборот, могут оценить игру только уже после её покупки. Это может объяснить и наличие невысоких пользовательских оценок у некоторых самых продаваемых игр - пользователи, купив активно рекламируемую игру были разочарованы ею и специально оставляли негативные отзыв, чтобы предостеречь будущих пользователей."
   ]
  },
  {
   "cell_type": "markdown",
   "metadata": {},
   "source": [
    "### Распределение продаж игр по жанрам\n",
    "\n",
    "Наибольшие совокупные продажи приходятся на жанры `Shooter`, `Action`, `Sports` и `Role-Playing`. При этом **наиболее перспективным** с точки зрения как общих, так и средних продаж (в расчете на 1 игру) **является жанр `Shooter`**, каждая игра в котором продаётся в количестве около 0,8 млн. копий.  \n",
    "Жанр `Action`, занимающий второе место по совокупным продажам, в расчете на 1 игру, демонстрирует весьма средние показатели (~170 тыс. копий), что вероятно связано с большим количеством низкокачественных игр в этом жанре (всего 178 игр за рассматриваемых период - максимальное значение по всем жанрам).  "
   ]
  },
  {
   "cell_type": "code",
   "execution_count": 53,
   "metadata": {},
   "outputs": [
    {
     "data": {
      "text/html": [
       "<div>\n",
       "<style scoped>\n",
       "    .dataframe tbody tr th:only-of-type {\n",
       "        vertical-align: middle;\n",
       "    }\n",
       "\n",
       "    .dataframe tbody tr th {\n",
       "        vertical-align: top;\n",
       "    }\n",
       "\n",
       "    .dataframe thead th {\n",
       "        text-align: right;\n",
       "    }\n",
       "</style>\n",
       "<table border=\"1\" class=\"dataframe\">\n",
       "  <thead>\n",
       "    <tr style=\"text-align: right;\">\n",
       "      <th></th>\n",
       "      <th>Общие продажи</th>\n",
       "      <th>Число игр</th>\n",
       "      <th>Продажи на 1 игру</th>\n",
       "    </tr>\n",
       "    <tr>\n",
       "      <th>genre</th>\n",
       "      <th></th>\n",
       "      <th></th>\n",
       "      <th></th>\n",
       "    </tr>\n",
       "  </thead>\n",
       "  <tbody>\n",
       "    <tr>\n",
       "      <th>Shooter</th>\n",
       "      <td>105.73</td>\n",
       "      <td>81</td>\n",
       "      <td>1.305309</td>\n",
       "    </tr>\n",
       "    <tr>\n",
       "      <th>Sports</th>\n",
       "      <td>64.33</td>\n",
       "      <td>107</td>\n",
       "      <td>0.601215</td>\n",
       "    </tr>\n",
       "    <tr>\n",
       "      <th>Role-Playing</th>\n",
       "      <td>55.82</td>\n",
       "      <td>132</td>\n",
       "      <td>0.422879</td>\n",
       "    </tr>\n",
       "    <tr>\n",
       "      <th>Fighting</th>\n",
       "      <td>12.37</td>\n",
       "      <td>37</td>\n",
       "      <td>0.334324</td>\n",
       "    </tr>\n",
       "  </tbody>\n",
       "</table>\n",
       "</div>"
      ],
      "text/plain": [
       "              Общие продажи  Число игр  Продажи на 1 игру\n",
       "genre                                                    \n",
       "Shooter              105.73         81           1.305309\n",
       "Sports                64.33        107           0.601215\n",
       "Role-Playing          55.82        132           0.422879\n",
       "Fighting              12.37         37           0.334324"
      ]
     },
     "execution_count": 53,
     "metadata": {},
     "output_type": "execute_result"
    }
   ],
   "source": [
    "data_actual_by_genre.sort_values(by='Продажи на 1 игру', ascending=False).head(4)"
   ]
  },
  {
   "cell_type": "markdown",
   "metadata": {},
   "source": [
    "Жанр `Fighting` по совокупным продажам занимает лишь пятое место, однако по удельным продажам в расчете на 1 игру, мало уступает жанру `Role-Playing`."
   ]
  },
  {
   "cell_type": "markdown",
   "metadata": {},
   "source": [
    "Минимальными продажами (около 100 тыс. копий и менее на 1 игру) характеризуются игры в жанрах `Puzzle`, `Adventure`, `Strategy`, `Simulation`, `Racing` и игры других (неопределенных) жанров - `Misc`.  \n",
    "\n",
    "Продажи игр в жанре `Puzzle` могут не быть представительными, поскольку за рассматриваемый период была выпущена лишь одна такая игра."
   ]
  },
  {
   "cell_type": "code",
   "execution_count": 54,
   "metadata": {},
   "outputs": [
    {
     "data": {
      "text/html": [
       "<div>\n",
       "<style scoped>\n",
       "    .dataframe tbody tr th:only-of-type {\n",
       "        vertical-align: middle;\n",
       "    }\n",
       "\n",
       "    .dataframe tbody tr th {\n",
       "        vertical-align: top;\n",
       "    }\n",
       "\n",
       "    .dataframe thead th {\n",
       "        text-align: right;\n",
       "    }\n",
       "</style>\n",
       "<table border=\"1\" class=\"dataframe\">\n",
       "  <thead>\n",
       "    <tr style=\"text-align: right;\">\n",
       "      <th></th>\n",
       "      <th>Общие продажи</th>\n",
       "      <th>Число игр</th>\n",
       "      <th>Продажи на 1 игру</th>\n",
       "    </tr>\n",
       "    <tr>\n",
       "      <th>genre</th>\n",
       "      <th></th>\n",
       "      <th></th>\n",
       "      <th></th>\n",
       "    </tr>\n",
       "  </thead>\n",
       "  <tbody>\n",
       "    <tr>\n",
       "      <th>Strategy</th>\n",
       "      <td>2.98</td>\n",
       "      <td>29</td>\n",
       "      <td>0.102759</td>\n",
       "    </tr>\n",
       "    <tr>\n",
       "      <th>Puzzle</th>\n",
       "      <td>0.72</td>\n",
       "      <td>7</td>\n",
       "      <td>0.102857</td>\n",
       "    </tr>\n",
       "    <tr>\n",
       "      <th>Adventure</th>\n",
       "      <td>11.98</td>\n",
       "      <td>110</td>\n",
       "      <td>0.108909</td>\n",
       "    </tr>\n",
       "    <tr>\n",
       "      <th>Misc</th>\n",
       "      <td>14.17</td>\n",
       "      <td>71</td>\n",
       "      <td>0.199577</td>\n",
       "    </tr>\n",
       "  </tbody>\n",
       "</table>\n",
       "</div>"
      ],
      "text/plain": [
       "           Общие продажи  Число игр  Продажи на 1 игру\n",
       "genre                                                 \n",
       "Strategy            2.98         29           0.102759\n",
       "Puzzle              0.72          7           0.102857\n",
       "Adventure          11.98        110           0.108909\n",
       "Misc               14.17         71           0.199577"
      ]
     },
     "execution_count": 54,
     "metadata": {},
     "output_type": "execute_result"
    }
   ],
   "source": [
    "data_actual_by_genre.sort_values(by='Продажи на 1 игру', ascending=True).head(4)"
   ]
  },
  {
   "cell_type": "markdown",
   "metadata": {},
   "source": [
    "Таким образом, наиболее перспективными жанрами являются `Shooter` (опережает остальные с большим отрывом), `Sports`, `Role-Playing` и `Fighting`."
   ]
  },
  {
   "cell_type": "markdown",
   "metadata": {},
   "source": [
    "### Региональные различия"
   ]
  },
  {
   "cell_type": "markdown",
   "metadata": {},
   "source": [
    "Все регионы, кроме Японии, имеют сходное распределение наиболее популярных платформ. **Первое место** по продажам игр занимает **PS4** (в Японии - второе место), **второе место - Xbox One**.\n",
    "\n",
    "Наиболее *сильно* от остальных *отличаются продажи в Японии* - **первое место** занимают продажи игр для **3DS**, а Xbox One в Японии вообще не представлен, так же в топ-5 в Японии, в отличии от остальных регионов вошла PS Vita.  \n",
    "\n",
    "Наблюдаемые различия можно объяснить разделением рынка, между Японской Nintendo (платформы 3DS и WiiU из топ-5) и американской Microsoft (платформа Xbox One), также по всей видимости большей любовью японцев к портативным платформам (3DS, PS Vita)."
   ]
  },
  {
   "cell_type": "code",
   "execution_count": 55,
   "metadata": {
    "scrolled": true
   },
   "outputs": [
    {
     "data": {
      "text/html": [
       "<div>\n",
       "<style scoped>\n",
       "    .dataframe tbody tr th:only-of-type {\n",
       "        vertical-align: middle;\n",
       "    }\n",
       "\n",
       "    .dataframe tbody tr th {\n",
       "        vertical-align: top;\n",
       "    }\n",
       "\n",
       "    .dataframe thead th {\n",
       "        text-align: right;\n",
       "    }\n",
       "</style>\n",
       "<table border=\"1\" class=\"dataframe\">\n",
       "  <thead>\n",
       "    <tr style=\"text-align: right;\">\n",
       "      <th></th>\n",
       "      <th>platform</th>\n",
       "      <th>eu_sales</th>\n",
       "      <th>platform</th>\n",
       "      <th>na_sales</th>\n",
       "      <th>platform</th>\n",
       "      <th>jp_sales</th>\n",
       "      <th>platform</th>\n",
       "      <th>other_sales</th>\n",
       "    </tr>\n",
       "  </thead>\n",
       "  <tbody>\n",
       "    <tr>\n",
       "      <th>0</th>\n",
       "      <td>PS4</td>\n",
       "      <td>83.54</td>\n",
       "      <td>PS4</td>\n",
       "      <td>63.86</td>\n",
       "      <td>3DS</td>\n",
       "      <td>23.55</td>\n",
       "      <td>PS4</td>\n",
       "      <td>28.70</td>\n",
       "    </tr>\n",
       "    <tr>\n",
       "      <th>1</th>\n",
       "      <td>XOne</td>\n",
       "      <td>28.10</td>\n",
       "      <td>XOne</td>\n",
       "      <td>50.30</td>\n",
       "      <td>PS4</td>\n",
       "      <td>12.05</td>\n",
       "      <td>XOne</td>\n",
       "      <td>7.71</td>\n",
       "    </tr>\n",
       "    <tr>\n",
       "      <th>2</th>\n",
       "      <td>PC</td>\n",
       "      <td>9.10</td>\n",
       "      <td>3DS</td>\n",
       "      <td>10.31</td>\n",
       "      <td>PSV</td>\n",
       "      <td>8.41</td>\n",
       "      <td>PS3</td>\n",
       "      <td>2.49</td>\n",
       "    </tr>\n",
       "    <tr>\n",
       "      <th>3</th>\n",
       "      <td>3DS</td>\n",
       "      <td>7.39</td>\n",
       "      <td>WiiU</td>\n",
       "      <td>8.86</td>\n",
       "      <td>PS3</td>\n",
       "      <td>4.97</td>\n",
       "      <td>3DS</td>\n",
       "      <td>1.67</td>\n",
       "    </tr>\n",
       "    <tr>\n",
       "      <th>4</th>\n",
       "      <td>PS3</td>\n",
       "      <td>7.30</td>\n",
       "      <td>X360</td>\n",
       "      <td>8.05</td>\n",
       "      <td>WiiU</td>\n",
       "      <td>4.12</td>\n",
       "      <td>WiiU</td>\n",
       "      <td>1.48</td>\n",
       "    </tr>\n",
       "  </tbody>\n",
       "</table>\n",
       "</div>"
      ],
      "text/plain": [
       "  platform  eu_sales platform  na_sales platform  jp_sales platform  \\\n",
       "0      PS4     83.54      PS4     63.86      3DS     23.55      PS4   \n",
       "1     XOne     28.10     XOne     50.30      PS4     12.05     XOne   \n",
       "2       PC      9.10      3DS     10.31      PSV      8.41      PS3   \n",
       "3      3DS      7.39     WiiU      8.86      PS3      4.97      3DS   \n",
       "4      PS3      7.30     X360      8.05     WiiU      4.12     WiiU   \n",
       "\n",
       "   other_sales  \n",
       "0        28.70  \n",
       "1         7.71  \n",
       "2         2.49  \n",
       "3         1.67  \n",
       "4         1.48  "
      ]
     },
     "execution_count": 55,
     "metadata": {},
     "output_type": "execute_result"
    }
   ],
   "source": [
    "top5_platforms"
   ]
  },
  {
   "cell_type": "markdown",
   "metadata": {},
   "source": [
    "При рассмотрении удельных продаж распределения жанров также приводят к противопоставлению Японии и остального мира. Жанры `Shooter` и `Sports` во всем мире занимают первые два места по удельным продажам.  \n",
    "В Японии наиболее популярный в остальном мире жанр `Shooter` занимает только пятое место, а жанр `Sports` вообще не вошёл в 5 самых популярных.  \n",
    "Первое место по удельным продажам **в Японии занял жанр `Role-Playing`**, в остальном мире занимающий 4-5 места.  \n",
    "\n",
    "Наблюдаемые различия имеют, по всей видимости, культурные корни."
   ]
  },
  {
   "cell_type": "code",
   "execution_count": 56,
   "metadata": {},
   "outputs": [
    {
     "data": {
      "text/html": [
       "<div>\n",
       "<style scoped>\n",
       "    .dataframe tbody tr th:only-of-type {\n",
       "        vertical-align: middle;\n",
       "    }\n",
       "\n",
       "    .dataframe tbody tr th {\n",
       "        vertical-align: top;\n",
       "    }\n",
       "\n",
       "    .dataframe thead th {\n",
       "        text-align: right;\n",
       "    }\n",
       "</style>\n",
       "<table border=\"1\" class=\"dataframe\">\n",
       "  <thead>\n",
       "    <tr style=\"text-align: right;\">\n",
       "      <th></th>\n",
       "      <th>genre</th>\n",
       "      <th>eu_sales</th>\n",
       "      <th>genre</th>\n",
       "      <th>na_sales</th>\n",
       "      <th>genre</th>\n",
       "      <th>jp_sales</th>\n",
       "      <th>genre</th>\n",
       "      <th>other_sales</th>\n",
       "    </tr>\n",
       "  </thead>\n",
       "  <tbody>\n",
       "    <tr>\n",
       "      <th>0</th>\n",
       "      <td>Shooter</td>\n",
       "      <td>0.497284</td>\n",
       "      <td>Shooter</td>\n",
       "      <td>0.594815</td>\n",
       "      <td>Role-Playing</td>\n",
       "      <td>0.101591</td>\n",
       "      <td>Shooter</td>\n",
       "      <td>0.166420</td>\n",
       "    </tr>\n",
       "    <tr>\n",
       "      <th>1</th>\n",
       "      <td>Sports</td>\n",
       "      <td>0.260000</td>\n",
       "      <td>Sports</td>\n",
       "      <td>0.245888</td>\n",
       "      <td>Puzzle</td>\n",
       "      <td>0.074286</td>\n",
       "      <td>Sports</td>\n",
       "      <td>0.079907</td>\n",
       "    </tr>\n",
       "    <tr>\n",
       "      <th>2</th>\n",
       "      <td>Racing</td>\n",
       "      <td>0.155238</td>\n",
       "      <td>Role-Playing</td>\n",
       "      <td>0.150152</td>\n",
       "      <td>Simulation</td>\n",
       "      <td>0.058485</td>\n",
       "      <td>Fighting</td>\n",
       "      <td>0.042432</td>\n",
       "    </tr>\n",
       "    <tr>\n",
       "      <th>3</th>\n",
       "      <td>Role-Playing</td>\n",
       "      <td>0.130379</td>\n",
       "      <td>Fighting</td>\n",
       "      <td>0.149730</td>\n",
       "      <td>Action</td>\n",
       "      <td>0.053480</td>\n",
       "      <td>Role-Playing</td>\n",
       "      <td>0.040758</td>\n",
       "    </tr>\n",
       "    <tr>\n",
       "      <th>4</th>\n",
       "      <td>Platform</td>\n",
       "      <td>0.114286</td>\n",
       "      <td>Platform</td>\n",
       "      <td>0.135000</td>\n",
       "      <td>Platform</td>\n",
       "      <td>0.050714</td>\n",
       "      <td>Platform</td>\n",
       "      <td>0.031429</td>\n",
       "    </tr>\n",
       "  </tbody>\n",
       "</table>\n",
       "</div>"
      ],
      "text/plain": [
       "          genre  eu_sales         genre  na_sales         genre  jp_sales  \\\n",
       "0       Shooter  0.497284       Shooter  0.594815  Role-Playing  0.101591   \n",
       "1        Sports  0.260000        Sports  0.245888        Puzzle  0.074286   \n",
       "2        Racing  0.155238  Role-Playing  0.150152    Simulation  0.058485   \n",
       "3  Role-Playing  0.130379      Fighting  0.149730        Action  0.053480   \n",
       "4      Platform  0.114286      Platform  0.135000      Platform  0.050714   \n",
       "\n",
       "          genre  other_sales  \n",
       "0       Shooter     0.166420  \n",
       "1        Sports     0.079907  \n",
       "2      Fighting     0.042432  \n",
       "3  Role-Playing     0.040758  \n",
       "4      Platform     0.031429  "
      ]
     },
     "execution_count": 56,
     "metadata": {},
     "output_type": "execute_result"
    }
   ],
   "source": [
    "top5_genres_by_mean"
   ]
  },
  {
   "cell_type": "markdown",
   "metadata": {},
   "source": [
    "Рейтинг ESRB влияет на продажи.  \n",
    "Везде кроме Японии наиболее популярными являются игры категории 'M' (17+), в Японии же, первое место занимают игры категории 'T' (13+). Такие различия могут быть объяснены как возрастными различиями пользователей, так и популярностью разных жанров игр в Японии и остальном мире. Популярные в остальном мире игры жанра `Shooter` неизбежно содержат большое количество насилия и \"грубую ненормативную лексику\" в случае онлайн формата.   \n",
    "Во всех регионах самые низкие продажи характерны для категории 'E10+'. Возможно это связано с узкой возрастной категорией (10-13 лет) в результате чего издатели либо будут стремиться добиться рейтинга 'E' (6+) для \"мягких\" игр, либо будут вносить меньше ограничений и получат рейтинг 'T' или 'M'.  \n",
    "Доминирование в Японии игр без возрастного рейтинга от ESRB указавает на большую долю игр только для японского рынка."
   ]
  },
  {
   "cell_type": "code",
   "execution_count": 57,
   "metadata": {},
   "outputs": [
    {
     "data": {
      "text/html": [
       "<div>\n",
       "<style scoped>\n",
       "    .dataframe tbody tr th:only-of-type {\n",
       "        vertical-align: middle;\n",
       "    }\n",
       "\n",
       "    .dataframe tbody tr th {\n",
       "        vertical-align: top;\n",
       "    }\n",
       "\n",
       "    .dataframe thead th {\n",
       "        text-align: right;\n",
       "    }\n",
       "</style>\n",
       "<table border=\"1\" class=\"dataframe\">\n",
       "  <thead>\n",
       "    <tr style=\"text-align: right;\">\n",
       "      <th></th>\n",
       "      <th>rating</th>\n",
       "      <th>eu_sales</th>\n",
       "      <th>rating</th>\n",
       "      <th>na_sales</th>\n",
       "      <th>rating</th>\n",
       "      <th>jp_sales</th>\n",
       "      <th>rating</th>\n",
       "      <th>other_sales</th>\n",
       "    </tr>\n",
       "  </thead>\n",
       "  <tbody>\n",
       "    <tr>\n",
       "      <th>0</th>\n",
       "      <td>M</td>\n",
       "      <td>45.54</td>\n",
       "      <td>M</td>\n",
       "      <td>47.03</td>\n",
       "      <td>NA</td>\n",
       "      <td>32.89</td>\n",
       "      <td>M</td>\n",
       "      <td>14.24</td>\n",
       "    </tr>\n",
       "    <tr>\n",
       "      <th>1</th>\n",
       "      <td>NA</td>\n",
       "      <td>35.71</td>\n",
       "      <td>NA</td>\n",
       "      <td>37.44</td>\n",
       "      <td>T</td>\n",
       "      <td>7.70</td>\n",
       "      <td>NA</td>\n",
       "      <td>11.13</td>\n",
       "    </tr>\n",
       "    <tr>\n",
       "      <th>2</th>\n",
       "      <td>E</td>\n",
       "      <td>34.83</td>\n",
       "      <td>E</td>\n",
       "      <td>26.59</td>\n",
       "      <td>E</td>\n",
       "      <td>5.25</td>\n",
       "      <td>E</td>\n",
       "      <td>8.57</td>\n",
       "    </tr>\n",
       "    <tr>\n",
       "      <th>3</th>\n",
       "      <td>T</td>\n",
       "      <td>20.32</td>\n",
       "      <td>T</td>\n",
       "      <td>22.86</td>\n",
       "      <td>M</td>\n",
       "      <td>4.29</td>\n",
       "      <td>T</td>\n",
       "      <td>6.85</td>\n",
       "    </tr>\n",
       "    <tr>\n",
       "      <th>4</th>\n",
       "      <td>E10+</td>\n",
       "      <td>11.54</td>\n",
       "      <td>E10+</td>\n",
       "      <td>17.87</td>\n",
       "      <td>E10+</td>\n",
       "      <td>3.27</td>\n",
       "      <td>E10+</td>\n",
       "      <td>4.00</td>\n",
       "    </tr>\n",
       "  </tbody>\n",
       "</table>\n",
       "</div>"
      ],
      "text/plain": [
       "  rating  eu_sales rating  na_sales rating  jp_sales rating  other_sales\n",
       "0      M     45.54      M     47.03     NA     32.89      M        14.24\n",
       "1     NA     35.71     NA     37.44      T      7.70     NA        11.13\n",
       "2      E     34.83      E     26.59      E      5.25      E         8.57\n",
       "3      T     20.32      T     22.86      M      4.29      T         6.85\n",
       "4   E10+     11.54   E10+     17.87   E10+      3.27   E10+         4.00"
      ]
     },
     "execution_count": 57,
     "metadata": {},
     "output_type": "execute_result"
    }
   ],
   "source": [
    "top_n(data_actual, 'rating', aggfunc='sum')"
   ]
  },
  {
   "cell_type": "markdown",
   "metadata": {},
   "source": [
    "Таким образом можно составить следующие потреты пользователей:\n",
    "- пользователи в Японии предпочитают отечественные платформы (Nintendo и Sony), а также больше любят портативные платформы, играть предпочитают в ролевые игры и файтинги; по возрастным ограничениям наибольшей популярностью пользуются игры 13+;\n",
    "- пользователи в остальном мире наиболее активно покупают игры на PlayStation 4 и  Xbox One, играть предпочитают в шутеры и спортивные игры; по возрастным ограничениям наибольшей популярностью пользуются игры 17+.\n",
    "\n",
    "Различие в возрастных категориях может свидетельствовать о возрасте пользователей, но также может быть связано и с жанровыми предпочтениями."
   ]
  },
  {
   "cell_type": "markdown",
   "metadata": {},
   "source": [
    "### Проверка статистических гипотез"
   ]
  },
  {
   "cell_type": "markdown",
   "metadata": {},
   "source": [
    "Было проверено две гипотезы о средних значениях пользовательского рейтинга для различных групп игр:\n",
    "\n",
    "- средние пользовательские рейтинги платформ Xbox One и PC одинаковые;\n",
    "- средние пользовательские рейтинги жанров Action (англ. «действие», экшен-игры) и Sports (англ. «спортивные соревнования») разные.\n",
    "\n",
    "Обе гипотезы подтверждаются имеющимися данными с большой степень уверенности.  \n",
    "\n",
    "Полученное при проверке гипотезы об одинаковости средних пользовательских оценок для игр на платформах Xbox One и PC p-значение составляет 28 %. p-значение с большим запасом выше заданного критического значения (5%), таким образом нулевая (в данном случае проверяемая) гипотеза должна быть принята.\n",
    "\n",
    "Полученное при проверке гипотезы об различии средних пользовательских оценок для игр в жанрах Action и Sports p-значение составляет $ 10 ^{-13}$. p-значение существенно ниже заданного критического значения (5%), таким образом нулевая (в данном случае альтернативная) гипотеза должна быть отклонена."
   ]
  },
  {
   "cell_type": "markdown",
   "metadata": {},
   "source": [
    "### Общий вывод"
   ]
  },
  {
   "cell_type": "markdown",
   "metadata": {},
   "source": [
    "В 2017 году следовало сосредоточить внимание на платформе `PS4` как уже популярной и все ещё растущей. В качестве альтернативной платформы можно рассмотреть Xbox One.  \n",
    "\n",
    "Наиболее перспективными являются жанры `Shooter`, в качестве запасного варианта можно рассмотреть жанр `Sports`.   \n",
    "По возрастным ограничениям следует выбирать крайние варианты - либо `M` (\"17+\") либо `E` (\"6+\"), указание промежуточных возрастных категорий не способствует увеличению продаж.  \n",
    "\n",
    "При ограниченности бюджета рекламу средует ориентировать на пользователей вне Японии, поскольку на японском рынке доминируют японские же издатели.  "
   ]
  }
 ],
 "metadata": {
  "ExecuteTimeLog": [
   {
    "duration": 1261,
    "start_time": "2022-05-02T16:38:41.273Z"
   },
   {
    "duration": 4,
    "start_time": "2022-05-02T16:39:08.164Z"
   },
   {
    "duration": 3,
    "start_time": "2022-05-02T16:39:12.764Z"
   },
   {
    "duration": 41,
    "start_time": "2022-05-02T16:39:37.522Z"
   },
   {
    "duration": 51,
    "start_time": "2022-05-02T16:39:51.014Z"
   },
   {
    "duration": 14,
    "start_time": "2022-05-02T16:44:26.044Z"
   },
   {
    "duration": 5,
    "start_time": "2022-05-02T16:46:57.294Z"
   },
   {
    "duration": 4,
    "start_time": "2022-05-02T16:47:03.877Z"
   },
   {
    "duration": 9,
    "start_time": "2022-05-02T16:48:27.181Z"
   },
   {
    "duration": 12,
    "start_time": "2022-05-02T16:50:17.974Z"
   },
   {
    "duration": 61,
    "start_time": "2022-05-11T12:21:53.153Z"
   },
   {
    "duration": 1311,
    "start_time": "2022-05-11T12:21:59.961Z"
   },
   {
    "duration": 78,
    "start_time": "2022-05-11T12:22:01.275Z"
   },
   {
    "duration": 16,
    "start_time": "2022-05-11T12:22:01.355Z"
   },
   {
    "duration": 12,
    "start_time": "2022-05-11T12:22:01.374Z"
   },
   {
    "duration": 15,
    "start_time": "2022-05-11T12:22:01.409Z"
   },
   {
    "duration": 119,
    "start_time": "2022-05-11T12:22:01.426Z"
   },
   {
    "duration": 89,
    "start_time": "2022-05-11T12:22:16.673Z"
   },
   {
    "duration": 25,
    "start_time": "2022-05-11T12:22:20.281Z"
   },
   {
    "duration": 4,
    "start_time": "2022-05-11T12:22:30.711Z"
   },
   {
    "duration": 22,
    "start_time": "2022-05-11T12:22:36.713Z"
   },
   {
    "duration": 23,
    "start_time": "2022-05-11T12:23:06.079Z"
   },
   {
    "duration": 20,
    "start_time": "2022-05-11T12:23:22.611Z"
   },
   {
    "duration": 14,
    "start_time": "2022-05-11T12:23:33.444Z"
   },
   {
    "duration": 13,
    "start_time": "2022-05-11T12:23:44.111Z"
   },
   {
    "duration": 14,
    "start_time": "2022-05-11T12:23:49.711Z"
   },
   {
    "duration": 14,
    "start_time": "2022-05-11T12:23:56.257Z"
   },
   {
    "duration": 15,
    "start_time": "2022-05-11T12:24:03.154Z"
   },
   {
    "duration": 13,
    "start_time": "2022-05-11T12:24:20.983Z"
   },
   {
    "duration": 15,
    "start_time": "2022-05-11T12:24:29.263Z"
   },
   {
    "duration": 14,
    "start_time": "2022-05-11T12:34:57.451Z"
   },
   {
    "duration": 23,
    "start_time": "2022-05-11T12:35:30.146Z"
   },
   {
    "duration": 4,
    "start_time": "2022-05-11T12:36:36.353Z"
   },
   {
    "duration": 5,
    "start_time": "2022-05-11T12:36:53.150Z"
   },
   {
    "duration": 30,
    "start_time": "2022-05-11T12:36:58.578Z"
   },
   {
    "duration": 11,
    "start_time": "2022-05-11T12:37:15.563Z"
   },
   {
    "duration": 10,
    "start_time": "2022-05-11T12:37:27.365Z"
   },
   {
    "duration": 20,
    "start_time": "2022-05-11T12:37:37.661Z"
   },
   {
    "duration": 17,
    "start_time": "2022-05-11T13:23:36.407Z"
   },
   {
    "duration": 27,
    "start_time": "2022-05-11T13:23:42.933Z"
   },
   {
    "duration": 8,
    "start_time": "2022-05-11T13:23:56.596Z"
   },
   {
    "duration": 11,
    "start_time": "2022-05-11T13:24:08.508Z"
   },
   {
    "duration": 23,
    "start_time": "2022-05-11T13:25:04.263Z"
   },
   {
    "duration": 6,
    "start_time": "2022-05-11T13:29:18.395Z"
   },
   {
    "duration": 5,
    "start_time": "2022-05-11T13:29:22.250Z"
   },
   {
    "duration": 32,
    "start_time": "2022-05-11T13:29:51.646Z"
   },
   {
    "duration": 14,
    "start_time": "2022-05-11T13:31:28.868Z"
   },
   {
    "duration": 18,
    "start_time": "2022-05-11T13:34:30.690Z"
   },
   {
    "duration": 22,
    "start_time": "2022-05-11T13:34:35.799Z"
   },
   {
    "duration": 10,
    "start_time": "2022-05-11T13:35:23.733Z"
   },
   {
    "duration": 15,
    "start_time": "2022-05-11T13:35:27.466Z"
   },
   {
    "duration": 15,
    "start_time": "2022-05-11T13:35:43.843Z"
   },
   {
    "duration": 38,
    "start_time": "2022-05-11T13:38:46.529Z"
   },
   {
    "duration": 19,
    "start_time": "2022-05-11T13:45:30.169Z"
   },
   {
    "duration": 16,
    "start_time": "2022-05-11T13:45:35.531Z"
   },
   {
    "duration": 17,
    "start_time": "2022-05-11T13:45:39.207Z"
   },
   {
    "duration": 17,
    "start_time": "2022-05-11T13:45:44.109Z"
   },
   {
    "duration": 17,
    "start_time": "2022-05-11T13:45:46.930Z"
   },
   {
    "duration": 19,
    "start_time": "2022-05-11T13:45:55.848Z"
   },
   {
    "duration": 21,
    "start_time": "2022-05-11T13:46:07.924Z"
   },
   {
    "duration": 21,
    "start_time": "2022-05-11T13:46:25.604Z"
   },
   {
    "duration": 21,
    "start_time": "2022-05-11T13:46:29.645Z"
   },
   {
    "duration": 16,
    "start_time": "2022-05-11T13:46:57.752Z"
   },
   {
    "duration": 13,
    "start_time": "2022-05-11T13:47:09.038Z"
   },
   {
    "duration": 25,
    "start_time": "2022-05-11T13:47:17.719Z"
   },
   {
    "duration": 16,
    "start_time": "2022-05-11T13:47:32.560Z"
   },
   {
    "duration": 15,
    "start_time": "2022-05-11T13:47:46.396Z"
   },
   {
    "duration": 4,
    "start_time": "2022-05-11T13:48:36.226Z"
   },
   {
    "duration": 7,
    "start_time": "2022-05-11T13:48:42.885Z"
   },
   {
    "duration": 15,
    "start_time": "2022-05-11T13:49:05.348Z"
   },
   {
    "duration": 32,
    "start_time": "2022-05-11T13:50:10.028Z"
   },
   {
    "duration": 15,
    "start_time": "2022-05-11T13:50:19.001Z"
   },
   {
    "duration": 13,
    "start_time": "2022-05-11T13:50:30.335Z"
   },
   {
    "duration": 13,
    "start_time": "2022-05-11T13:50:38.753Z"
   },
   {
    "duration": 22,
    "start_time": "2022-05-11T13:50:52.630Z"
   },
   {
    "duration": 14,
    "start_time": "2022-05-11T13:51:07.451Z"
   },
   {
    "duration": 16,
    "start_time": "2022-05-11T13:51:27.801Z"
   },
   {
    "duration": 21,
    "start_time": "2022-05-11T13:51:42.395Z"
   },
   {
    "duration": 8,
    "start_time": "2022-05-11T13:51:51.360Z"
   },
   {
    "duration": 22,
    "start_time": "2022-05-11T13:52:06.232Z"
   },
   {
    "duration": 19,
    "start_time": "2022-05-11T13:52:59.303Z"
   },
   {
    "duration": 9,
    "start_time": "2022-05-11T13:54:47.163Z"
   },
   {
    "duration": 16,
    "start_time": "2022-05-11T13:56:07.076Z"
   },
   {
    "duration": 34,
    "start_time": "2022-05-11T13:56:21.147Z"
   },
   {
    "duration": 10,
    "start_time": "2022-05-11T13:56:45.828Z"
   },
   {
    "duration": 11,
    "start_time": "2022-05-11T13:57:38.877Z"
   },
   {
    "duration": 13,
    "start_time": "2022-05-11T13:58:26.431Z"
   },
   {
    "duration": 14,
    "start_time": "2022-05-11T13:58:31.295Z"
   },
   {
    "duration": 12,
    "start_time": "2022-05-11T13:59:31.055Z"
   },
   {
    "duration": 15,
    "start_time": "2022-05-11T13:59:45.451Z"
   },
   {
    "duration": 16,
    "start_time": "2022-05-11T14:00:01.465Z"
   },
   {
    "duration": 13,
    "start_time": "2022-05-11T14:00:09.220Z"
   },
   {
    "duration": 14,
    "start_time": "2022-05-11T14:00:17.797Z"
   },
   {
    "duration": 20,
    "start_time": "2022-05-11T14:02:14.947Z"
   },
   {
    "duration": 13,
    "start_time": "2022-05-11T14:03:49.284Z"
   },
   {
    "duration": 4,
    "start_time": "2022-05-11T14:04:21.586Z"
   },
   {
    "duration": 7,
    "start_time": "2022-05-11T14:04:28.155Z"
   },
   {
    "duration": 8,
    "start_time": "2022-05-11T14:04:37.266Z"
   },
   {
    "duration": 7,
    "start_time": "2022-05-11T14:04:43.788Z"
   },
   {
    "duration": 8,
    "start_time": "2022-05-11T14:04:50.259Z"
   },
   {
    "duration": 9,
    "start_time": "2022-05-11T14:05:22.269Z"
   },
   {
    "duration": 9,
    "start_time": "2022-05-11T14:06:07.745Z"
   },
   {
    "duration": 7,
    "start_time": "2022-05-11T14:06:12.576Z"
   },
   {
    "duration": 25,
    "start_time": "2022-05-11T14:21:15.914Z"
   },
   {
    "duration": 15,
    "start_time": "2022-05-11T14:21:58.414Z"
   },
   {
    "duration": 17,
    "start_time": "2022-05-11T14:22:08.582Z"
   },
   {
    "duration": 18,
    "start_time": "2022-05-11T14:22:26.168Z"
   },
   {
    "duration": 17,
    "start_time": "2022-05-11T14:22:45.681Z"
   },
   {
    "duration": 17,
    "start_time": "2022-05-11T14:22:57.793Z"
   },
   {
    "duration": 21,
    "start_time": "2022-05-11T14:23:21.125Z"
   },
   {
    "duration": 22,
    "start_time": "2022-05-11T14:24:00.030Z"
   },
   {
    "duration": 16,
    "start_time": "2022-05-11T14:24:16.757Z"
   },
   {
    "duration": 34,
    "start_time": "2022-05-11T14:24:23.006Z"
   },
   {
    "duration": 27,
    "start_time": "2022-05-11T14:25:16.158Z"
   },
   {
    "duration": 21,
    "start_time": "2022-05-11T14:25:30.801Z"
   },
   {
    "duration": 21,
    "start_time": "2022-05-11T14:27:14.240Z"
   },
   {
    "duration": 1165,
    "start_time": "2022-05-11T14:27:59.468Z"
   },
   {
    "duration": 16,
    "start_time": "2022-05-11T14:28:11.846Z"
   },
   {
    "duration": 27,
    "start_time": "2022-05-11T14:29:15.763Z"
   },
   {
    "duration": 33,
    "start_time": "2022-05-11T14:30:04.363Z"
   },
   {
    "duration": 22,
    "start_time": "2022-05-11T14:30:41.628Z"
   },
   {
    "duration": 27,
    "start_time": "2022-05-11T14:31:07.650Z"
   },
   {
    "duration": 7,
    "start_time": "2022-05-11T14:34:59.611Z"
   },
   {
    "duration": 26,
    "start_time": "2022-05-11T14:35:07.493Z"
   },
   {
    "duration": 12,
    "start_time": "2022-05-11T14:37:40.170Z"
   },
   {
    "duration": 18,
    "start_time": "2022-05-11T14:37:45.810Z"
   },
   {
    "duration": 12,
    "start_time": "2022-05-11T14:38:00.308Z"
   },
   {
    "duration": 13,
    "start_time": "2022-05-11T14:38:13.501Z"
   },
   {
    "duration": 25,
    "start_time": "2022-05-11T14:38:36.694Z"
   },
   {
    "duration": 7,
    "start_time": "2022-05-11T14:38:46.359Z"
   },
   {
    "duration": 12,
    "start_time": "2022-05-11T14:38:58.415Z"
   },
   {
    "duration": 12,
    "start_time": "2022-05-11T14:39:20.045Z"
   },
   {
    "duration": 12,
    "start_time": "2022-05-11T14:39:54.635Z"
   },
   {
    "duration": 8,
    "start_time": "2022-05-11T14:39:59.997Z"
   },
   {
    "duration": 20,
    "start_time": "2022-05-11T14:40:42.275Z"
   },
   {
    "duration": 9,
    "start_time": "2022-05-11T14:41:50.212Z"
   },
   {
    "duration": 19,
    "start_time": "2022-05-11T14:41:54.526Z"
   },
   {
    "duration": 9,
    "start_time": "2022-05-11T14:42:15.429Z"
   },
   {
    "duration": 20,
    "start_time": "2022-05-11T14:42:22.113Z"
   },
   {
    "duration": 14,
    "start_time": "2022-05-11T14:42:42.856Z"
   },
   {
    "duration": 10,
    "start_time": "2022-05-11T14:46:36.733Z"
   },
   {
    "duration": 5,
    "start_time": "2022-05-11T14:49:14.036Z"
   },
   {
    "duration": 7,
    "start_time": "2022-05-11T14:49:38.516Z"
   },
   {
    "duration": 38,
    "start_time": "2022-05-11T14:50:50.976Z"
   },
   {
    "duration": 41,
    "start_time": "2022-05-11T14:51:27.756Z"
   },
   {
    "duration": 39,
    "start_time": "2022-05-11T14:51:42.041Z"
   },
   {
    "duration": 13,
    "start_time": "2022-05-11T14:51:56.216Z"
   },
   {
    "duration": 36,
    "start_time": "2022-05-11T14:52:26.375Z"
   },
   {
    "duration": 38,
    "start_time": "2022-05-11T14:52:30.550Z"
   },
   {
    "duration": 19,
    "start_time": "2022-05-11T14:52:58.636Z"
   },
   {
    "duration": 25,
    "start_time": "2022-05-11T14:53:19.024Z"
   },
   {
    "duration": 21,
    "start_time": "2022-05-11T14:53:26.625Z"
   },
   {
    "duration": 38,
    "start_time": "2022-05-11T14:54:37.239Z"
   },
   {
    "duration": 37,
    "start_time": "2022-05-11T14:55:10.106Z"
   },
   {
    "duration": 36,
    "start_time": "2022-05-11T14:55:13.728Z"
   },
   {
    "duration": 22,
    "start_time": "2022-05-11T14:56:38.589Z"
   },
   {
    "duration": 17,
    "start_time": "2022-05-11T14:56:51.729Z"
   },
   {
    "duration": 24,
    "start_time": "2022-05-11T14:57:00.340Z"
   },
   {
    "duration": 1258,
    "start_time": "2022-05-11T14:57:24.753Z"
   },
   {
    "duration": 19,
    "start_time": "2022-05-11T14:57:34.197Z"
   },
   {
    "duration": 21,
    "start_time": "2022-05-11T14:57:43.742Z"
   },
   {
    "duration": 22,
    "start_time": "2022-05-11T14:57:52.110Z"
   },
   {
    "duration": 20,
    "start_time": "2022-05-11T14:58:39.477Z"
   },
   {
    "duration": 26,
    "start_time": "2022-05-11T14:58:48.587Z"
   },
   {
    "duration": 22,
    "start_time": "2022-05-11T14:59:29.743Z"
   },
   {
    "duration": 25,
    "start_time": "2022-05-11T15:07:18.709Z"
   },
   {
    "duration": 29,
    "start_time": "2022-05-11T15:07:26.163Z"
   },
   {
    "duration": 31,
    "start_time": "2022-05-11T15:07:39.491Z"
   },
   {
    "duration": 16,
    "start_time": "2022-05-11T15:08:11.287Z"
   },
   {
    "duration": 296,
    "start_time": "2022-05-11T15:08:21.254Z"
   },
   {
    "duration": 288,
    "start_time": "2022-05-11T15:08:28.286Z"
   },
   {
    "duration": 21,
    "start_time": "2022-05-11T15:08:52.303Z"
   },
   {
    "duration": 22,
    "start_time": "2022-05-11T15:10:52.432Z"
   },
   {
    "duration": 7,
    "start_time": "2022-05-11T15:11:49.116Z"
   },
   {
    "duration": 6,
    "start_time": "2022-05-11T15:11:57.894Z"
   },
   {
    "duration": 5,
    "start_time": "2022-05-11T15:12:00.209Z"
   },
   {
    "duration": 8,
    "start_time": "2022-05-11T15:12:02.910Z"
   },
   {
    "duration": 5,
    "start_time": "2022-05-11T15:12:14.277Z"
   },
   {
    "duration": 34,
    "start_time": "2022-05-11T15:12:17.950Z"
   },
   {
    "duration": 11,
    "start_time": "2022-05-11T15:12:24.397Z"
   },
   {
    "duration": 21,
    "start_time": "2022-05-11T15:12:34.846Z"
   },
   {
    "duration": 14,
    "start_time": "2022-05-11T15:14:04.567Z"
   },
   {
    "duration": 13,
    "start_time": "2022-05-11T15:14:08.127Z"
   },
   {
    "duration": 7,
    "start_time": "2022-05-11T15:16:04.848Z"
   },
   {
    "duration": 7,
    "start_time": "2022-05-11T15:16:10.067Z"
   },
   {
    "duration": 6,
    "start_time": "2022-05-11T15:16:15.807Z"
   },
   {
    "duration": 9,
    "start_time": "2022-05-11T15:16:26.416Z"
   },
   {
    "duration": 5,
    "start_time": "2022-05-11T15:16:32.178Z"
   },
   {
    "duration": 4,
    "start_time": "2022-05-11T15:16:37.913Z"
   },
   {
    "duration": 6,
    "start_time": "2022-05-11T15:16:55.517Z"
   },
   {
    "duration": 19,
    "start_time": "2022-05-11T15:16:59.402Z"
   },
   {
    "duration": 5,
    "start_time": "2022-05-11T15:19:01.121Z"
   },
   {
    "duration": 24,
    "start_time": "2022-05-11T15:19:05.469Z"
   },
   {
    "duration": 9,
    "start_time": "2022-05-11T15:23:13.227Z"
   },
   {
    "duration": 4,
    "start_time": "2022-05-11T15:23:36.007Z"
   },
   {
    "duration": 8,
    "start_time": "2022-05-11T15:23:51.330Z"
   },
   {
    "duration": 159,
    "start_time": "2022-05-11T15:24:02.265Z"
   },
   {
    "duration": 11,
    "start_time": "2022-05-11T15:25:38.560Z"
   },
   {
    "duration": 26,
    "start_time": "2022-05-11T15:26:02.458Z"
   },
   {
    "duration": 26,
    "start_time": "2022-05-11T15:26:25.116Z"
   },
   {
    "duration": 271,
    "start_time": "2022-05-11T15:26:57.412Z"
   },
   {
    "duration": 146,
    "start_time": "2022-05-11T15:27:07.309Z"
   },
   {
    "duration": 22,
    "start_time": "2022-05-11T15:27:35.684Z"
   },
   {
    "duration": 30,
    "start_time": "2022-05-11T15:28:29.978Z"
   },
   {
    "duration": 12,
    "start_time": "2022-05-11T15:28:40.357Z"
   },
   {
    "duration": 8,
    "start_time": "2022-05-11T15:28:58.049Z"
   },
   {
    "duration": 6,
    "start_time": "2022-05-11T15:29:42.361Z"
   },
   {
    "duration": 8,
    "start_time": "2022-05-11T15:29:48.608Z"
   },
   {
    "duration": 4,
    "start_time": "2022-05-11T15:29:55.315Z"
   },
   {
    "duration": 4,
    "start_time": "2022-05-11T15:30:15.115Z"
   },
   {
    "duration": 209,
    "start_time": "2022-05-11T15:31:31.943Z"
   },
   {
    "duration": 293,
    "start_time": "2022-05-11T15:31:59.175Z"
   },
   {
    "duration": 240,
    "start_time": "2022-05-11T15:32:10.060Z"
   },
   {
    "duration": 318,
    "start_time": "2022-05-11T15:32:21.717Z"
   },
   {
    "duration": 86,
    "start_time": "2022-05-12T13:25:18.641Z"
   },
   {
    "duration": 2298,
    "start_time": "2022-05-12T13:25:21.528Z"
   },
   {
    "duration": 75,
    "start_time": "2022-05-12T13:25:27.583Z"
   },
   {
    "duration": 47,
    "start_time": "2022-05-12T13:25:29.588Z"
   },
   {
    "duration": 127,
    "start_time": "2022-05-12T13:34:25.214Z"
   },
   {
    "duration": 1653,
    "start_time": "2022-05-12T13:34:30.726Z"
   },
   {
    "duration": 85,
    "start_time": "2022-05-12T13:34:32.382Z"
   },
   {
    "duration": 38,
    "start_time": "2022-05-12T13:34:32.469Z"
   },
   {
    "duration": 31,
    "start_time": "2022-05-12T13:34:32.511Z"
   },
   {
    "duration": 53,
    "start_time": "2022-05-12T13:34:32.544Z"
   },
   {
    "duration": 18,
    "start_time": "2022-05-12T13:34:32.600Z"
   },
   {
    "duration": 21,
    "start_time": "2022-05-12T13:34:32.620Z"
   },
   {
    "duration": 19,
    "start_time": "2022-05-12T13:34:32.644Z"
   },
   {
    "duration": 16,
    "start_time": "2022-05-12T13:34:32.666Z"
   },
   {
    "duration": 40,
    "start_time": "2022-05-12T13:34:32.687Z"
   },
   {
    "duration": 44,
    "start_time": "2022-05-12T13:34:32.729Z"
   },
   {
    "duration": 187,
    "start_time": "2022-05-12T13:34:32.775Z"
   },
   {
    "duration": 0,
    "start_time": "2022-05-12T13:34:32.965Z"
   },
   {
    "duration": 0,
    "start_time": "2022-05-12T13:34:32.967Z"
   },
   {
    "duration": 0,
    "start_time": "2022-05-12T13:34:32.969Z"
   },
   {
    "duration": 0,
    "start_time": "2022-05-12T13:34:32.971Z"
   },
   {
    "duration": 0,
    "start_time": "2022-05-12T13:34:32.972Z"
   },
   {
    "duration": 0,
    "start_time": "2022-05-12T13:34:32.973Z"
   },
   {
    "duration": 0,
    "start_time": "2022-05-12T13:34:32.977Z"
   },
   {
    "duration": 0,
    "start_time": "2022-05-12T13:34:32.978Z"
   },
   {
    "duration": 0,
    "start_time": "2022-05-12T13:34:32.980Z"
   },
   {
    "duration": 0,
    "start_time": "2022-05-12T13:34:32.982Z"
   },
   {
    "duration": 18,
    "start_time": "2022-05-12T13:35:36.633Z"
   },
   {
    "duration": 20,
    "start_time": "2022-05-12T13:36:23.805Z"
   },
   {
    "duration": 2666,
    "start_time": "2022-05-12T13:36:31.350Z"
   },
   {
    "duration": 82,
    "start_time": "2022-05-12T13:36:34.020Z"
   },
   {
    "duration": 34,
    "start_time": "2022-05-12T13:36:34.105Z"
   },
   {
    "duration": 71,
    "start_time": "2022-05-12T13:36:34.142Z"
   },
   {
    "duration": 99,
    "start_time": "2022-05-12T13:36:34.215Z"
   },
   {
    "duration": 19,
    "start_time": "2022-05-12T13:36:34.317Z"
   },
   {
    "duration": 84,
    "start_time": "2022-05-12T13:36:34.339Z"
   },
   {
    "duration": 24,
    "start_time": "2022-05-12T13:36:34.425Z"
   },
   {
    "duration": 27,
    "start_time": "2022-05-12T13:36:34.494Z"
   },
   {
    "duration": 68,
    "start_time": "2022-05-12T13:36:34.525Z"
   },
   {
    "duration": 99,
    "start_time": "2022-05-12T13:36:34.598Z"
   },
   {
    "duration": 21,
    "start_time": "2022-05-12T13:36:34.706Z"
   },
   {
    "duration": 103,
    "start_time": "2022-05-12T13:36:34.730Z"
   },
   {
    "duration": 61,
    "start_time": "2022-05-12T13:36:34.836Z"
   },
   {
    "duration": 25,
    "start_time": "2022-05-12T13:36:34.901Z"
   },
   {
    "duration": 89,
    "start_time": "2022-05-12T13:36:34.928Z"
   },
   {
    "duration": 5,
    "start_time": "2022-05-12T13:36:35.020Z"
   },
   {
    "duration": 103,
    "start_time": "2022-05-12T13:36:35.028Z"
   },
   {
    "duration": 87,
    "start_time": "2022-05-12T13:36:35.133Z"
   },
   {
    "duration": 687,
    "start_time": "2022-05-12T13:36:35.223Z"
   },
   {
    "duration": 11,
    "start_time": "2022-05-12T13:36:35.913Z"
   },
   {
    "duration": 1212,
    "start_time": "2022-05-12T13:36:35.926Z"
   },
   {
    "duration": 283,
    "start_time": "2022-05-12T13:36:44.835Z"
   },
   {
    "duration": 367,
    "start_time": "2022-05-12T13:40:12.783Z"
   },
   {
    "duration": 267,
    "start_time": "2022-05-12T13:40:47.315Z"
   },
   {
    "duration": 340,
    "start_time": "2022-05-12T13:41:01.592Z"
   },
   {
    "duration": 405,
    "start_time": "2022-05-12T13:41:18.050Z"
   },
   {
    "duration": 297,
    "start_time": "2022-05-12T13:41:22.716Z"
   },
   {
    "duration": 316,
    "start_time": "2022-05-12T13:41:30.169Z"
   },
   {
    "duration": 12,
    "start_time": "2022-05-12T13:42:57.693Z"
   },
   {
    "duration": 10,
    "start_time": "2022-05-12T13:45:17.047Z"
   },
   {
    "duration": 15,
    "start_time": "2022-05-12T13:51:51.926Z"
   },
   {
    "duration": 674,
    "start_time": "2022-05-12T13:51:55.783Z"
   },
   {
    "duration": 489,
    "start_time": "2022-05-12T13:52:39.004Z"
   },
   {
    "duration": 662,
    "start_time": "2022-05-12T13:53:07.446Z"
   },
   {
    "duration": 450,
    "start_time": "2022-05-12T13:53:14.244Z"
   },
   {
    "duration": 695,
    "start_time": "2022-05-12T13:53:18.874Z"
   },
   {
    "duration": 712,
    "start_time": "2022-05-12T13:53:40.406Z"
   },
   {
    "duration": 747,
    "start_time": "2022-05-12T13:54:09.009Z"
   },
   {
    "duration": 555,
    "start_time": "2022-05-12T13:54:24.803Z"
   },
   {
    "duration": 21,
    "start_time": "2022-05-12T13:54:48.764Z"
   },
   {
    "duration": 724,
    "start_time": "2022-05-12T13:54:55.111Z"
   },
   {
    "duration": 919,
    "start_time": "2022-05-12T13:55:02.556Z"
   },
   {
    "duration": 13,
    "start_time": "2022-05-12T13:59:56.419Z"
   },
   {
    "duration": 8,
    "start_time": "2022-05-12T14:00:03.442Z"
   },
   {
    "duration": 18,
    "start_time": "2022-05-12T14:00:27.333Z"
   },
   {
    "duration": 528,
    "start_time": "2022-05-12T14:01:22.406Z"
   },
   {
    "duration": 25,
    "start_time": "2022-05-12T14:01:34.345Z"
   },
   {
    "duration": 603,
    "start_time": "2022-05-12T14:01:45.011Z"
   },
   {
    "duration": 628,
    "start_time": "2022-05-12T14:01:55.293Z"
   },
   {
    "duration": 21,
    "start_time": "2022-05-12T14:11:13.393Z"
   },
   {
    "duration": 13,
    "start_time": "2022-05-12T14:11:23.771Z"
   },
   {
    "duration": 587,
    "start_time": "2022-05-12T14:11:49.314Z"
   },
   {
    "duration": 13,
    "start_time": "2022-05-12T14:14:00.429Z"
   },
   {
    "duration": 583,
    "start_time": "2022-05-12T14:14:03.765Z"
   },
   {
    "duration": 18,
    "start_time": "2022-05-12T14:14:59.770Z"
   },
   {
    "duration": 593,
    "start_time": "2022-05-12T14:15:03.473Z"
   },
   {
    "duration": 9,
    "start_time": "2022-05-12T14:15:38.310Z"
   },
   {
    "duration": 611,
    "start_time": "2022-05-12T14:15:58.529Z"
   },
   {
    "duration": 11,
    "start_time": "2022-05-12T14:16:29.039Z"
   },
   {
    "duration": 623,
    "start_time": "2022-05-12T14:16:42.097Z"
   },
   {
    "duration": 644,
    "start_time": "2022-05-12T14:16:59.067Z"
   },
   {
    "duration": 86,
    "start_time": "2022-05-12T14:17:43.838Z"
   },
   {
    "duration": 11,
    "start_time": "2022-05-12T14:17:59.746Z"
   },
   {
    "duration": 18,
    "start_time": "2022-05-12T14:18:05.783Z"
   },
   {
    "duration": 67,
    "start_time": "2022-05-12T14:18:10.107Z"
   },
   {
    "duration": 54,
    "start_time": "2022-05-12T14:18:41.081Z"
   },
   {
    "duration": 339,
    "start_time": "2022-05-12T14:18:51.333Z"
   },
   {
    "duration": 423,
    "start_time": "2022-05-12T14:19:08.807Z"
   },
   {
    "duration": 16,
    "start_time": "2022-05-12T14:19:47.634Z"
   },
   {
    "duration": 529,
    "start_time": "2022-05-12T14:20:33.312Z"
   },
   {
    "duration": 558,
    "start_time": "2022-05-12T14:21:08.790Z"
   },
   {
    "duration": 6,
    "start_time": "2022-05-12T14:31:10.322Z"
   },
   {
    "duration": 13,
    "start_time": "2022-05-12T14:31:56.927Z"
   },
   {
    "duration": 29,
    "start_time": "2022-05-12T14:33:50.569Z"
   },
   {
    "duration": 502,
    "start_time": "2022-05-12T14:33:54.336Z"
   },
   {
    "duration": 357,
    "start_time": "2022-05-12T14:34:54.342Z"
   },
   {
    "duration": 402,
    "start_time": "2022-05-12T14:35:30.579Z"
   },
   {
    "duration": 34,
    "start_time": "2022-05-12T14:35:33.889Z"
   },
   {
    "duration": 282,
    "start_time": "2022-05-12T14:36:07.051Z"
   },
   {
    "duration": 309,
    "start_time": "2022-05-12T14:36:30.500Z"
   },
   {
    "duration": 638,
    "start_time": "2022-05-12T14:37:02.870Z"
   },
   {
    "duration": 53,
    "start_time": "2022-05-12T14:37:25.887Z"
   },
   {
    "duration": 798,
    "start_time": "2022-05-12T14:38:51.271Z"
   },
   {
    "duration": 1087,
    "start_time": "2022-05-12T14:39:52.033Z"
   },
   {
    "duration": 41,
    "start_time": "2022-05-12T14:53:35.636Z"
   },
   {
    "duration": 46,
    "start_time": "2022-05-12T14:53:47.283Z"
   },
   {
    "duration": 91,
    "start_time": "2022-05-12T14:56:15.156Z"
   },
   {
    "duration": 44,
    "start_time": "2022-05-12T15:00:57.346Z"
   },
   {
    "duration": 7,
    "start_time": "2022-05-12T15:01:04.205Z"
   },
   {
    "duration": 41,
    "start_time": "2022-05-12T15:01:13.273Z"
   },
   {
    "duration": 22,
    "start_time": "2022-05-12T15:01:29.874Z"
   },
   {
    "duration": 220,
    "start_time": "2022-05-12T15:01:54.238Z"
   },
   {
    "duration": 221,
    "start_time": "2022-05-12T15:02:11.105Z"
   },
   {
    "duration": 216,
    "start_time": "2022-05-12T15:02:14.530Z"
   },
   {
    "duration": 224,
    "start_time": "2022-05-12T15:02:29.842Z"
   },
   {
    "duration": 28,
    "start_time": "2022-05-12T15:02:57.683Z"
   },
   {
    "duration": 17,
    "start_time": "2022-05-12T15:03:26.014Z"
   },
   {
    "duration": 860,
    "start_time": "2022-05-12T15:04:18.947Z"
   },
   {
    "duration": 251,
    "start_time": "2022-05-12T15:04:43.507Z"
   },
   {
    "duration": 263,
    "start_time": "2022-05-12T15:04:48.685Z"
   },
   {
    "duration": 14,
    "start_time": "2022-05-12T15:04:52.147Z"
   },
   {
    "duration": 17,
    "start_time": "2022-05-12T15:26:33.849Z"
   },
   {
    "duration": 19,
    "start_time": "2022-05-12T15:26:42.867Z"
   },
   {
    "duration": 1706,
    "start_time": "2022-05-12T15:26:49.664Z"
   },
   {
    "duration": 77,
    "start_time": "2022-05-12T15:26:51.373Z"
   },
   {
    "duration": 25,
    "start_time": "2022-05-12T15:26:51.452Z"
   },
   {
    "duration": 40,
    "start_time": "2022-05-12T15:26:51.480Z"
   },
   {
    "duration": 43,
    "start_time": "2022-05-12T15:26:51.523Z"
   },
   {
    "duration": 44,
    "start_time": "2022-05-12T15:26:51.568Z"
   },
   {
    "duration": 28,
    "start_time": "2022-05-12T15:26:51.615Z"
   },
   {
    "duration": 20,
    "start_time": "2022-05-12T15:26:51.646Z"
   },
   {
    "duration": 52,
    "start_time": "2022-05-12T15:26:51.668Z"
   },
   {
    "duration": 22,
    "start_time": "2022-05-12T15:26:51.724Z"
   },
   {
    "duration": 54,
    "start_time": "2022-05-12T15:26:51.748Z"
   },
   {
    "duration": 35,
    "start_time": "2022-05-12T15:26:51.809Z"
   },
   {
    "duration": 58,
    "start_time": "2022-05-12T15:26:51.846Z"
   },
   {
    "duration": 13,
    "start_time": "2022-05-12T15:26:51.910Z"
   },
   {
    "duration": 13,
    "start_time": "2022-05-12T15:26:51.926Z"
   },
   {
    "duration": 67,
    "start_time": "2022-05-12T15:26:51.942Z"
   },
   {
    "duration": 8,
    "start_time": "2022-05-12T15:26:52.013Z"
   },
   {
    "duration": 33,
    "start_time": "2022-05-12T15:26:52.024Z"
   },
   {
    "duration": 78,
    "start_time": "2022-05-12T15:26:52.059Z"
   },
   {
    "duration": 329,
    "start_time": "2022-05-12T15:26:52.140Z"
   },
   {
    "duration": 30,
    "start_time": "2022-05-12T15:26:52.471Z"
   },
   {
    "duration": 616,
    "start_time": "2022-05-12T15:26:52.504Z"
   },
   {
    "duration": 14,
    "start_time": "2022-05-12T15:26:53.122Z"
   },
   {
    "duration": 473,
    "start_time": "2022-05-12T15:26:53.139Z"
   },
   {
    "duration": 921,
    "start_time": "2022-05-12T15:26:53.615Z"
   },
   {
    "duration": 285,
    "start_time": "2022-05-12T15:26:54.538Z"
   },
   {
    "duration": 344,
    "start_time": "2022-05-12T15:26:54.825Z"
   },
   {
    "duration": 27,
    "start_time": "2022-05-12T15:26:55.174Z"
   },
   {
    "duration": 92,
    "start_time": "2022-05-12T15:26:55.204Z"
   },
   {
    "duration": 268,
    "start_time": "2022-05-12T15:28:15.328Z"
   },
   {
    "duration": 190,
    "start_time": "2022-05-12T15:28:45.846Z"
   },
   {
    "duration": 627,
    "start_time": "2022-05-12T15:29:03.419Z"
   },
   {
    "duration": 572,
    "start_time": "2022-05-12T15:29:10.868Z"
   },
   {
    "duration": 579,
    "start_time": "2022-05-12T15:29:20.057Z"
   },
   {
    "duration": 442,
    "start_time": "2022-05-12T15:29:27.835Z"
   },
   {
    "duration": 447,
    "start_time": "2022-05-12T15:29:34.420Z"
   },
   {
    "duration": 542,
    "start_time": "2022-05-12T15:29:47.493Z"
   },
   {
    "duration": 445,
    "start_time": "2022-05-12T15:29:52.385Z"
   },
   {
    "duration": 255,
    "start_time": "2022-05-12T15:31:10.646Z"
   },
   {
    "duration": 503,
    "start_time": "2022-05-12T15:31:17.105Z"
   },
   {
    "duration": 459,
    "start_time": "2022-05-12T15:31:27.621Z"
   },
   {
    "duration": 535,
    "start_time": "2022-05-12T15:31:30.817Z"
   },
   {
    "duration": 443,
    "start_time": "2022-05-12T15:31:46.104Z"
   },
   {
    "duration": 457,
    "start_time": "2022-05-12T15:32:09.461Z"
   },
   {
    "duration": 615,
    "start_time": "2022-05-12T15:33:24.744Z"
   },
   {
    "duration": 6478,
    "start_time": "2022-05-12T15:35:27.402Z"
   },
   {
    "duration": 15,
    "start_time": "2022-05-12T15:35:35.427Z"
   },
   {
    "duration": 474,
    "start_time": "2022-05-12T15:40:01.778Z"
   },
   {
    "duration": 482,
    "start_time": "2022-05-12T15:40:19.077Z"
   },
   {
    "duration": 29,
    "start_time": "2022-05-12T15:44:52.721Z"
   },
   {
    "duration": 21,
    "start_time": "2022-05-12T15:45:37.509Z"
   },
   {
    "duration": 36,
    "start_time": "2022-05-12T15:46:43.533Z"
   },
   {
    "duration": 31,
    "start_time": "2022-05-12T15:47:40.934Z"
   },
   {
    "duration": 33,
    "start_time": "2022-05-12T15:47:50.857Z"
   },
   {
    "duration": 66,
    "start_time": "2022-05-13T07:48:02.783Z"
   },
   {
    "duration": 1655,
    "start_time": "2022-05-13T07:48:10.448Z"
   },
   {
    "duration": 54,
    "start_time": "2022-05-13T07:48:12.106Z"
   },
   {
    "duration": 35,
    "start_time": "2022-05-13T07:48:12.162Z"
   },
   {
    "duration": 22,
    "start_time": "2022-05-13T07:48:12.200Z"
   },
   {
    "duration": 49,
    "start_time": "2022-05-13T07:48:12.225Z"
   },
   {
    "duration": 15,
    "start_time": "2022-05-13T07:48:12.276Z"
   },
   {
    "duration": 30,
    "start_time": "2022-05-13T07:48:12.293Z"
   },
   {
    "duration": 52,
    "start_time": "2022-05-13T07:48:12.324Z"
   },
   {
    "duration": 22,
    "start_time": "2022-05-13T07:48:12.378Z"
   },
   {
    "duration": 15,
    "start_time": "2022-05-13T07:48:12.406Z"
   },
   {
    "duration": 46,
    "start_time": "2022-05-13T07:48:12.423Z"
   },
   {
    "duration": 43,
    "start_time": "2022-05-13T07:48:12.471Z"
   },
   {
    "duration": 32,
    "start_time": "2022-05-13T07:48:12.516Z"
   },
   {
    "duration": 17,
    "start_time": "2022-05-13T07:48:12.554Z"
   },
   {
    "duration": 34,
    "start_time": "2022-05-13T07:48:12.574Z"
   },
   {
    "duration": 24,
    "start_time": "2022-05-13T07:48:12.610Z"
   },
   {
    "duration": 4,
    "start_time": "2022-05-13T07:48:12.636Z"
   },
   {
    "duration": 67,
    "start_time": "2022-05-13T07:48:12.648Z"
   },
   {
    "duration": 39,
    "start_time": "2022-05-13T07:48:12.717Z"
   },
   {
    "duration": 253,
    "start_time": "2022-05-13T07:48:12.758Z"
   },
   {
    "duration": 9,
    "start_time": "2022-05-13T07:48:13.014Z"
   },
   {
    "duration": 443,
    "start_time": "2022-05-13T07:48:13.025Z"
   },
   {
    "duration": 13,
    "start_time": "2022-05-13T07:48:13.470Z"
   },
   {
    "duration": 446,
    "start_time": "2022-05-13T07:48:13.485Z"
   },
   {
    "duration": 684,
    "start_time": "2022-05-13T07:48:13.933Z"
   },
   {
    "duration": 333,
    "start_time": "2022-05-13T07:48:14.619Z"
   },
   {
    "duration": 13,
    "start_time": "2022-05-13T07:48:14.954Z"
   },
   {
    "duration": 443,
    "start_time": "2022-05-13T07:48:14.971Z"
   },
   {
    "duration": 30,
    "start_time": "2022-05-13T07:48:15.416Z"
   },
   {
    "duration": 177,
    "start_time": "2022-05-13T07:48:15.448Z"
   },
   {
    "duration": 13,
    "start_time": "2022-05-13T07:49:06.788Z"
   },
   {
    "duration": 13,
    "start_time": "2022-05-13T07:49:18.300Z"
   },
   {
    "duration": 13,
    "start_time": "2022-05-13T07:49:28.014Z"
   },
   {
    "duration": 10,
    "start_time": "2022-05-13T07:49:40.885Z"
   },
   {
    "duration": 12,
    "start_time": "2022-05-13T07:50:10.187Z"
   },
   {
    "duration": 43,
    "start_time": "2022-05-13T07:50:43.258Z"
   },
   {
    "duration": 41,
    "start_time": "2022-05-13T07:51:26.217Z"
   },
   {
    "duration": 59,
    "start_time": "2022-05-13T07:51:40.632Z"
   },
   {
    "duration": 42,
    "start_time": "2022-05-13T07:51:47.917Z"
   },
   {
    "duration": 8,
    "start_time": "2022-05-13T07:53:36.061Z"
   },
   {
    "duration": 16,
    "start_time": "2022-05-13T08:05:04.174Z"
   },
   {
    "duration": 10,
    "start_time": "2022-05-13T08:05:16.519Z"
   },
   {
    "duration": 9,
    "start_time": "2022-05-13T08:09:40.091Z"
   },
   {
    "duration": 35,
    "start_time": "2022-05-13T08:16:52.033Z"
   },
   {
    "duration": 25,
    "start_time": "2022-05-13T08:17:23.100Z"
   },
   {
    "duration": 13,
    "start_time": "2022-05-13T08:17:27.386Z"
   },
   {
    "duration": 32,
    "start_time": "2022-05-13T08:18:42.177Z"
   },
   {
    "duration": 17,
    "start_time": "2022-05-13T08:18:44.724Z"
   },
   {
    "duration": 27,
    "start_time": "2022-05-13T08:20:08.924Z"
   },
   {
    "duration": 10,
    "start_time": "2022-05-13T08:20:27.815Z"
   },
   {
    "duration": 11,
    "start_time": "2022-05-13T08:20:31.987Z"
   },
   {
    "duration": 21,
    "start_time": "2022-05-13T08:20:57.937Z"
   },
   {
    "duration": 19,
    "start_time": "2022-05-13T08:21:00.114Z"
   },
   {
    "duration": 11,
    "start_time": "2022-05-13T08:21:03.200Z"
   },
   {
    "duration": 12,
    "start_time": "2022-05-13T08:21:08.212Z"
   },
   {
    "duration": 17,
    "start_time": "2022-05-13T08:23:18.479Z"
   },
   {
    "duration": 11,
    "start_time": "2022-05-13T08:23:20.894Z"
   },
   {
    "duration": 12,
    "start_time": "2022-05-13T08:23:33.624Z"
   },
   {
    "duration": 13,
    "start_time": "2022-05-13T08:23:43.975Z"
   },
   {
    "duration": 334,
    "start_time": "2022-05-13T08:24:23.120Z"
   },
   {
    "duration": 14,
    "start_time": "2022-05-13T08:25:04.583Z"
   },
   {
    "duration": 17,
    "start_time": "2022-05-13T08:26:30.186Z"
   },
   {
    "duration": 17,
    "start_time": "2022-05-13T08:26:33.708Z"
   },
   {
    "duration": 13,
    "start_time": "2022-05-13T08:27:48.384Z"
   },
   {
    "duration": 20,
    "start_time": "2022-05-13T08:28:30.784Z"
   },
   {
    "duration": 12,
    "start_time": "2022-05-13T08:31:14.455Z"
   },
   {
    "duration": 12,
    "start_time": "2022-05-13T08:31:21.691Z"
   },
   {
    "duration": 16,
    "start_time": "2022-05-13T08:31:30.022Z"
   },
   {
    "duration": 23,
    "start_time": "2022-05-13T08:32:27.229Z"
   },
   {
    "duration": 19,
    "start_time": "2022-05-13T08:32:49.788Z"
   },
   {
    "duration": 20,
    "start_time": "2022-05-13T08:32:52.791Z"
   },
   {
    "duration": 20,
    "start_time": "2022-05-13T08:33:57.468Z"
   },
   {
    "duration": 30,
    "start_time": "2022-05-13T08:34:06.992Z"
   },
   {
    "duration": 12,
    "start_time": "2022-05-13T08:34:24.942Z"
   },
   {
    "duration": 6,
    "start_time": "2022-05-13T08:34:27.832Z"
   },
   {
    "duration": 22,
    "start_time": "2022-05-13T08:34:30.335Z"
   },
   {
    "duration": 26,
    "start_time": "2022-05-13T08:34:33.290Z"
   },
   {
    "duration": 255,
    "start_time": "2022-05-13T08:37:03.068Z"
   },
   {
    "duration": 216,
    "start_time": "2022-05-13T08:38:17.338Z"
   },
   {
    "duration": 39,
    "start_time": "2022-05-13T08:38:27.236Z"
   },
   {
    "duration": 16,
    "start_time": "2022-05-13T08:39:39.015Z"
   },
   {
    "duration": 21,
    "start_time": "2022-05-13T08:39:48.574Z"
   },
   {
    "duration": 6,
    "start_time": "2022-05-13T08:42:59.961Z"
   },
   {
    "duration": 33,
    "start_time": "2022-05-13T08:43:04.737Z"
   },
   {
    "duration": 19,
    "start_time": "2022-05-13T08:43:12.823Z"
   },
   {
    "duration": 7,
    "start_time": "2022-05-13T08:43:19.107Z"
   },
   {
    "duration": 31,
    "start_time": "2022-05-13T08:43:21.141Z"
   },
   {
    "duration": 49,
    "start_time": "2022-05-13T08:44:56.141Z"
   },
   {
    "duration": 56,
    "start_time": "2022-05-13T08:45:13.739Z"
   },
   {
    "duration": 30,
    "start_time": "2022-05-13T08:46:19.686Z"
   },
   {
    "duration": 31,
    "start_time": "2022-05-13T08:46:45.674Z"
   },
   {
    "duration": 39,
    "start_time": "2022-05-13T08:46:51.684Z"
   },
   {
    "duration": 38,
    "start_time": "2022-05-13T08:47:06.471Z"
   },
   {
    "duration": 15,
    "start_time": "2022-05-13T08:48:11.021Z"
   },
   {
    "duration": 23,
    "start_time": "2022-05-13T08:48:27.502Z"
   },
   {
    "duration": 29,
    "start_time": "2022-05-13T08:48:36.023Z"
   },
   {
    "duration": 30,
    "start_time": "2022-05-13T08:49:12.499Z"
   },
   {
    "duration": 30,
    "start_time": "2022-05-13T08:49:59.995Z"
   },
   {
    "duration": 247,
    "start_time": "2022-05-13T08:50:41.001Z"
   },
   {
    "duration": 253,
    "start_time": "2022-05-13T08:51:03.080Z"
   },
   {
    "duration": 26,
    "start_time": "2022-05-13T08:51:07.077Z"
   },
   {
    "duration": 22,
    "start_time": "2022-05-13T08:51:13.508Z"
   },
   {
    "duration": 35,
    "start_time": "2022-05-13T08:51:24.681Z"
   },
   {
    "duration": 6,
    "start_time": "2022-05-13T08:52:09.233Z"
   },
   {
    "duration": 44,
    "start_time": "2022-05-13T08:52:21.438Z"
   },
   {
    "duration": 10,
    "start_time": "2022-05-13T08:53:55.594Z"
   },
   {
    "duration": 6,
    "start_time": "2022-05-13T08:54:27.906Z"
   },
   {
    "duration": 186,
    "start_time": "2022-05-13T08:54:34.268Z"
   },
   {
    "duration": 5,
    "start_time": "2022-05-13T08:54:38.307Z"
   },
   {
    "duration": 20,
    "start_time": "2022-05-13T08:54:55.774Z"
   },
   {
    "duration": 26,
    "start_time": "2022-05-13T12:37:39.825Z"
   },
   {
    "duration": 21,
    "start_time": "2022-05-13T12:38:04.169Z"
   },
   {
    "duration": 9,
    "start_time": "2022-05-13T12:49:39.924Z"
   },
   {
    "duration": 22,
    "start_time": "2022-05-13T12:49:43.530Z"
   },
   {
    "duration": 10,
    "start_time": "2022-05-13T12:49:50.698Z"
   },
   {
    "duration": 17,
    "start_time": "2022-05-13T12:50:28.001Z"
   },
   {
    "duration": 21,
    "start_time": "2022-05-13T12:50:54.302Z"
   },
   {
    "duration": 20,
    "start_time": "2022-05-13T12:51:37.790Z"
   },
   {
    "duration": 37,
    "start_time": "2022-05-13T12:54:25.043Z"
   },
   {
    "duration": 18,
    "start_time": "2022-05-13T12:55:33.711Z"
   },
   {
    "duration": 30,
    "start_time": "2022-05-13T12:55:57.865Z"
   },
   {
    "duration": 30,
    "start_time": "2022-05-13T12:56:12.177Z"
   },
   {
    "duration": 21,
    "start_time": "2022-05-13T12:57:22.199Z"
   },
   {
    "duration": 20,
    "start_time": "2022-05-13T12:58:01.582Z"
   },
   {
    "duration": 20,
    "start_time": "2022-05-13T12:58:21.807Z"
   },
   {
    "duration": 113,
    "start_time": "2022-05-14T15:11:36.168Z"
   },
   {
    "duration": 1299,
    "start_time": "2022-05-14T15:11:57.755Z"
   },
   {
    "duration": 41,
    "start_time": "2022-05-14T15:11:59.056Z"
   },
   {
    "duration": 17,
    "start_time": "2022-05-14T15:11:59.099Z"
   },
   {
    "duration": 14,
    "start_time": "2022-05-14T15:11:59.118Z"
   },
   {
    "duration": 26,
    "start_time": "2022-05-14T15:11:59.134Z"
   },
   {
    "duration": 31,
    "start_time": "2022-05-14T15:11:59.161Z"
   },
   {
    "duration": 14,
    "start_time": "2022-05-14T15:11:59.194Z"
   },
   {
    "duration": 15,
    "start_time": "2022-05-14T15:11:59.210Z"
   },
   {
    "duration": 9,
    "start_time": "2022-05-14T15:11:59.227Z"
   },
   {
    "duration": 13,
    "start_time": "2022-05-14T15:11:59.238Z"
   },
   {
    "duration": 53,
    "start_time": "2022-05-14T15:11:59.253Z"
   },
   {
    "duration": 12,
    "start_time": "2022-05-14T15:11:59.307Z"
   },
   {
    "duration": 24,
    "start_time": "2022-05-14T15:11:59.320Z"
   },
   {
    "duration": 7,
    "start_time": "2022-05-14T15:11:59.345Z"
   },
   {
    "duration": 40,
    "start_time": "2022-05-14T15:11:59.353Z"
   },
   {
    "duration": 20,
    "start_time": "2022-05-14T15:11:59.395Z"
   },
   {
    "duration": 4,
    "start_time": "2022-05-14T15:11:59.416Z"
   },
   {
    "duration": 24,
    "start_time": "2022-05-14T15:11:59.421Z"
   },
   {
    "duration": 43,
    "start_time": "2022-05-14T15:11:59.447Z"
   },
   {
    "duration": 169,
    "start_time": "2022-05-14T15:11:59.491Z"
   },
   {
    "duration": 8,
    "start_time": "2022-05-14T15:11:59.661Z"
   },
   {
    "duration": 338,
    "start_time": "2022-05-14T15:11:59.671Z"
   },
   {
    "duration": 10,
    "start_time": "2022-05-14T15:12:00.011Z"
   },
   {
    "duration": 248,
    "start_time": "2022-05-14T15:12:00.023Z"
   },
   {
    "duration": 474,
    "start_time": "2022-05-14T15:12:00.272Z"
   },
   {
    "duration": 272,
    "start_time": "2022-05-14T15:12:00.749Z"
   },
   {
    "duration": 10,
    "start_time": "2022-05-14T15:12:01.023Z"
   },
   {
    "duration": 354,
    "start_time": "2022-05-14T15:12:01.038Z"
   },
   {
    "duration": 28,
    "start_time": "2022-05-14T15:12:01.394Z"
   },
   {
    "duration": 3,
    "start_time": "2022-05-14T15:12:01.424Z"
   },
   {
    "duration": 32,
    "start_time": "2022-05-14T15:12:01.429Z"
   },
   {
    "duration": 42,
    "start_time": "2022-05-14T15:12:01.463Z"
   },
   {
    "duration": 20,
    "start_time": "2022-05-14T15:12:01.507Z"
   },
   {
    "duration": 27,
    "start_time": "2022-05-14T15:12:01.529Z"
   },
   {
    "duration": 11,
    "start_time": "2022-05-14T15:12:01.558Z"
   },
   {
    "duration": 25,
    "start_time": "2022-05-14T15:12:01.570Z"
   },
   {
    "duration": 12,
    "start_time": "2022-05-14T15:12:09.325Z"
   },
   {
    "duration": 4,
    "start_time": "2022-05-14T15:12:56.400Z"
   },
   {
    "duration": 11884,
    "start_time": "2022-05-14T15:13:45.774Z"
   },
   {
    "duration": 22,
    "start_time": "2022-05-14T15:14:18.656Z"
   },
   {
    "duration": 12515,
    "start_time": "2022-05-14T15:14:30.831Z"
   },
   {
    "duration": 5854,
    "start_time": "2022-05-14T15:14:50.324Z"
   },
   {
    "duration": 5,
    "start_time": "2022-05-14T15:15:27.560Z"
   },
   {
    "duration": 5,
    "start_time": "2022-05-14T15:16:13.302Z"
   },
   {
    "duration": 21,
    "start_time": "2022-05-14T15:16:26.683Z"
   },
   {
    "duration": 10,
    "start_time": "2022-05-14T15:17:07.967Z"
   },
   {
    "duration": 167,
    "start_time": "2022-05-14T15:17:19.124Z"
   },
   {
    "duration": 5,
    "start_time": "2022-05-14T15:20:18.220Z"
   },
   {
    "duration": 21,
    "start_time": "2022-05-14T15:20:34.026Z"
   },
   {
    "duration": 16,
    "start_time": "2022-05-14T15:24:01.701Z"
   },
   {
    "duration": 15,
    "start_time": "2022-05-14T15:24:05.169Z"
   },
   {
    "duration": 16,
    "start_time": "2022-05-14T15:24:14.301Z"
   },
   {
    "duration": 105,
    "start_time": "2022-05-14T15:24:57.060Z"
   },
   {
    "duration": 21,
    "start_time": "2022-05-14T15:25:01.170Z"
   },
   {
    "duration": 21,
    "start_time": "2022-05-14T15:27:03.379Z"
   },
   {
    "duration": 4,
    "start_time": "2022-05-14T15:30:03.233Z"
   },
   {
    "duration": 91,
    "start_time": "2022-05-14T15:35:21.732Z"
   },
   {
    "duration": 10,
    "start_time": "2022-05-14T15:35:29.524Z"
   },
   {
    "duration": 20,
    "start_time": "2022-05-14T15:35:45.564Z"
   },
   {
    "duration": 14,
    "start_time": "2022-05-14T15:36:25.326Z"
   },
   {
    "duration": 166,
    "start_time": "2022-05-14T15:36:54.941Z"
   },
   {
    "duration": 171,
    "start_time": "2022-05-14T15:37:38.429Z"
   },
   {
    "duration": 162,
    "start_time": "2022-05-14T15:37:52.057Z"
   },
   {
    "duration": 5,
    "start_time": "2022-05-14T15:38:12.885Z"
   },
   {
    "duration": 6,
    "start_time": "2022-05-14T15:38:26.786Z"
   },
   {
    "duration": 6,
    "start_time": "2022-05-14T15:38:37.498Z"
   },
   {
    "duration": 4,
    "start_time": "2022-05-14T15:38:51.451Z"
   },
   {
    "duration": 9,
    "start_time": "2022-05-14T15:39:00.019Z"
   },
   {
    "duration": 406,
    "start_time": "2022-05-14T15:39:21.176Z"
   },
   {
    "duration": 178,
    "start_time": "2022-05-14T15:39:29.582Z"
   },
   {
    "duration": 8,
    "start_time": "2022-05-14T15:39:32.502Z"
   },
   {
    "duration": 448,
    "start_time": "2022-05-14T15:39:53.075Z"
   },
   {
    "duration": 1135,
    "start_time": "2022-05-14T15:40:00.534Z"
   },
   {
    "duration": 45,
    "start_time": "2022-05-14T15:40:01.672Z"
   },
   {
    "duration": 17,
    "start_time": "2022-05-14T15:40:01.719Z"
   },
   {
    "duration": 20,
    "start_time": "2022-05-14T15:40:01.737Z"
   },
   {
    "duration": 48,
    "start_time": "2022-05-14T15:40:01.759Z"
   },
   {
    "duration": 9,
    "start_time": "2022-05-14T15:40:01.809Z"
   },
   {
    "duration": 22,
    "start_time": "2022-05-14T15:40:01.819Z"
   },
   {
    "duration": 22,
    "start_time": "2022-05-14T15:40:01.843Z"
   },
   {
    "duration": 19,
    "start_time": "2022-05-14T15:40:01.867Z"
   },
   {
    "duration": 38,
    "start_time": "2022-05-14T15:40:01.889Z"
   },
   {
    "duration": 41,
    "start_time": "2022-05-14T15:40:01.929Z"
   },
   {
    "duration": 15,
    "start_time": "2022-05-14T15:40:01.972Z"
   },
   {
    "duration": 36,
    "start_time": "2022-05-14T15:40:01.993Z"
   },
   {
    "duration": 11,
    "start_time": "2022-05-14T15:40:02.032Z"
   },
   {
    "duration": 29,
    "start_time": "2022-05-14T15:40:02.045Z"
   },
   {
    "duration": 38,
    "start_time": "2022-05-14T15:40:02.075Z"
   },
   {
    "duration": 15,
    "start_time": "2022-05-14T15:40:02.115Z"
   },
   {
    "duration": 19,
    "start_time": "2022-05-14T15:40:02.132Z"
   },
   {
    "duration": 11,
    "start_time": "2022-05-14T15:40:02.153Z"
   },
   {
    "duration": 23,
    "start_time": "2022-05-14T15:40:02.166Z"
   },
   {
    "duration": 36,
    "start_time": "2022-05-14T15:40:02.192Z"
   },
   {
    "duration": 183,
    "start_time": "2022-05-14T15:40:02.229Z"
   },
   {
    "duration": 8,
    "start_time": "2022-05-14T15:40:02.414Z"
   },
   {
    "duration": 365,
    "start_time": "2022-05-14T15:40:02.424Z"
   },
   {
    "duration": 14,
    "start_time": "2022-05-14T15:40:02.791Z"
   },
   {
    "duration": 289,
    "start_time": "2022-05-14T15:40:02.807Z"
   },
   {
    "duration": 921,
    "start_time": "2022-05-14T15:40:03.098Z"
   },
   {
    "duration": 613,
    "start_time": "2022-05-14T15:40:04.020Z"
   },
   {
    "duration": 64,
    "start_time": "2022-05-14T15:40:04.635Z"
   },
   {
    "duration": 731,
    "start_time": "2022-05-14T15:40:04.702Z"
   },
   {
    "duration": 32,
    "start_time": "2022-05-14T15:40:05.488Z"
   },
   {
    "duration": 3,
    "start_time": "2022-05-14T15:40:05.521Z"
   },
   {
    "duration": 86,
    "start_time": "2022-05-14T15:40:05.525Z"
   },
   {
    "duration": 19,
    "start_time": "2022-05-14T15:40:05.612Z"
   },
   {
    "duration": 27,
    "start_time": "2022-05-14T15:40:05.690Z"
   },
   {
    "duration": 493,
    "start_time": "2022-05-14T15:40:05.719Z"
   },
   {
    "duration": 7,
    "start_time": "2022-05-14T15:40:06.214Z"
   },
   {
    "duration": 66,
    "start_time": "2022-05-14T15:40:06.223Z"
   },
   {
    "duration": 14,
    "start_time": "2022-05-14T15:40:06.291Z"
   },
   {
    "duration": 18,
    "start_time": "2022-05-14T15:40:06.306Z"
   },
   {
    "duration": 61,
    "start_time": "2022-05-14T15:40:06.328Z"
   },
   {
    "duration": 198,
    "start_time": "2022-05-14T15:40:25.192Z"
   },
   {
    "duration": 7,
    "start_time": "2022-05-14T15:40:28.819Z"
   },
   {
    "duration": 184,
    "start_time": "2022-05-14T15:40:34.335Z"
   },
   {
    "duration": 186,
    "start_time": "2022-05-14T15:40:40.717Z"
   },
   {
    "duration": 6,
    "start_time": "2022-05-14T15:40:45.588Z"
   },
   {
    "duration": 13,
    "start_time": "2022-05-14T15:40:49.360Z"
   },
   {
    "duration": 22,
    "start_time": "2022-05-14T15:42:11.234Z"
   },
   {
    "duration": 23,
    "start_time": "2022-05-14T15:43:08.719Z"
   },
   {
    "duration": 22,
    "start_time": "2022-05-14T15:43:23.015Z"
   },
   {
    "duration": 23,
    "start_time": "2022-05-14T15:43:27.836Z"
   },
   {
    "duration": 18,
    "start_time": "2022-05-14T15:43:44.096Z"
   },
   {
    "duration": 23,
    "start_time": "2022-05-14T15:44:39.794Z"
   },
   {
    "duration": 1126,
    "start_time": "2022-05-14T15:44:44.921Z"
   },
   {
    "duration": 42,
    "start_time": "2022-05-14T15:44:46.049Z"
   },
   {
    "duration": 18,
    "start_time": "2022-05-14T15:44:46.093Z"
   },
   {
    "duration": 15,
    "start_time": "2022-05-14T15:44:46.113Z"
   },
   {
    "duration": 27,
    "start_time": "2022-05-14T15:44:46.129Z"
   },
   {
    "duration": 31,
    "start_time": "2022-05-14T15:44:46.158Z"
   },
   {
    "duration": 14,
    "start_time": "2022-05-14T15:44:46.191Z"
   },
   {
    "duration": 15,
    "start_time": "2022-05-14T15:44:46.206Z"
   },
   {
    "duration": 10,
    "start_time": "2022-05-14T15:44:46.223Z"
   },
   {
    "duration": 14,
    "start_time": "2022-05-14T15:44:46.235Z"
   },
   {
    "duration": 52,
    "start_time": "2022-05-14T15:44:46.250Z"
   },
   {
    "duration": 12,
    "start_time": "2022-05-14T15:44:46.304Z"
   },
   {
    "duration": 23,
    "start_time": "2022-05-14T15:44:46.318Z"
   },
   {
    "duration": 7,
    "start_time": "2022-05-14T15:44:46.343Z"
   },
   {
    "duration": 42,
    "start_time": "2022-05-14T15:44:46.352Z"
   },
   {
    "duration": 21,
    "start_time": "2022-05-14T15:44:46.396Z"
   },
   {
    "duration": 4,
    "start_time": "2022-05-14T15:44:46.419Z"
   },
   {
    "duration": 6,
    "start_time": "2022-05-14T15:44:46.425Z"
   },
   {
    "duration": 9,
    "start_time": "2022-05-14T15:44:46.432Z"
   },
   {
    "duration": 16,
    "start_time": "2022-05-14T15:44:46.442Z"
   },
   {
    "duration": 49,
    "start_time": "2022-05-14T15:44:46.460Z"
   },
   {
    "duration": 173,
    "start_time": "2022-05-14T15:44:46.511Z"
   },
   {
    "duration": 9,
    "start_time": "2022-05-14T15:44:46.686Z"
   },
   {
    "duration": 349,
    "start_time": "2022-05-14T15:44:46.696Z"
   },
   {
    "duration": 9,
    "start_time": "2022-05-14T15:44:47.047Z"
   },
   {
    "duration": 241,
    "start_time": "2022-05-14T15:44:47.058Z"
   },
   {
    "duration": 470,
    "start_time": "2022-05-14T15:44:47.301Z"
   },
   {
    "duration": 261,
    "start_time": "2022-05-14T15:44:47.775Z"
   },
   {
    "duration": 9,
    "start_time": "2022-05-14T15:44:48.039Z"
   },
   {
    "duration": 334,
    "start_time": "2022-05-14T15:44:48.050Z"
   },
   {
    "duration": 24,
    "start_time": "2022-05-14T15:44:48.388Z"
   },
   {
    "duration": 6,
    "start_time": "2022-05-14T15:44:48.414Z"
   },
   {
    "duration": 22,
    "start_time": "2022-05-14T15:44:48.421Z"
   },
   {
    "duration": 20,
    "start_time": "2022-05-14T15:44:48.444Z"
   },
   {
    "duration": 22,
    "start_time": "2022-05-14T15:44:48.487Z"
   },
   {
    "duration": 19,
    "start_time": "2022-05-14T15:44:48.510Z"
   },
   {
    "duration": 14,
    "start_time": "2022-05-14T15:44:48.530Z"
   },
   {
    "duration": 219,
    "start_time": "2022-05-14T15:44:48.545Z"
   },
   {
    "duration": 6,
    "start_time": "2022-05-14T15:44:48.766Z"
   },
   {
    "duration": 21,
    "start_time": "2022-05-14T15:44:48.774Z"
   },
   {
    "duration": 18,
    "start_time": "2022-05-14T15:44:48.797Z"
   },
   {
    "duration": 13,
    "start_time": "2022-05-14T15:44:48.817Z"
   },
   {
    "duration": 12,
    "start_time": "2022-05-14T15:44:48.832Z"
   },
   {
    "duration": 154,
    "start_time": "2022-05-14T15:45:43.525Z"
   },
   {
    "duration": 172,
    "start_time": "2022-05-14T15:45:49.561Z"
   },
   {
    "duration": 25,
    "start_time": "2022-05-14T15:46:04.972Z"
   },
   {
    "duration": 20,
    "start_time": "2022-05-14T15:46:10.307Z"
   },
   {
    "duration": 195,
    "start_time": "2022-05-14T15:47:24.126Z"
   },
   {
    "duration": 93,
    "start_time": "2022-05-14T15:47:42.230Z"
   },
   {
    "duration": 190,
    "start_time": "2022-05-14T15:47:47.821Z"
   },
   {
    "duration": 186,
    "start_time": "2022-05-14T15:48:00.155Z"
   },
   {
    "duration": 19,
    "start_time": "2022-05-14T15:48:19.141Z"
   },
   {
    "duration": 14,
    "start_time": "2022-05-14T15:48:25.538Z"
   },
   {
    "duration": 14,
    "start_time": "2022-05-14T15:48:34.157Z"
   },
   {
    "duration": 15,
    "start_time": "2022-05-14T15:48:37.752Z"
   },
   {
    "duration": 12,
    "start_time": "2022-05-14T15:49:31.127Z"
   },
   {
    "duration": 11,
    "start_time": "2022-05-14T15:49:41.240Z"
   },
   {
    "duration": 14,
    "start_time": "2022-05-14T15:50:52.177Z"
   },
   {
    "duration": 12,
    "start_time": "2022-05-14T15:51:00.181Z"
   },
   {
    "duration": 11,
    "start_time": "2022-05-14T15:51:03.847Z"
   },
   {
    "duration": 12,
    "start_time": "2022-05-14T15:51:26.764Z"
   },
   {
    "duration": 13,
    "start_time": "2022-05-14T15:51:44.693Z"
   },
   {
    "duration": 15,
    "start_time": "2022-05-14T15:51:54.642Z"
   },
   {
    "duration": 165,
    "start_time": "2022-05-14T15:52:02.162Z"
   },
   {
    "duration": 11,
    "start_time": "2022-05-14T15:52:51.865Z"
   },
   {
    "duration": 19,
    "start_time": "2022-05-14T15:53:13.404Z"
   },
   {
    "duration": 488,
    "start_time": "2022-05-14T15:53:50.414Z"
   },
   {
    "duration": 20,
    "start_time": "2022-05-14T15:54:21.014Z"
   },
   {
    "duration": 26,
    "start_time": "2022-05-14T15:54:26.889Z"
   },
   {
    "duration": 20,
    "start_time": "2022-05-14T15:54:51.262Z"
   },
   {
    "duration": 1314,
    "start_time": "2022-05-14T15:55:11.439Z"
   },
   {
    "duration": 20,
    "start_time": "2022-05-14T15:55:34.007Z"
   },
   {
    "duration": 21,
    "start_time": "2022-05-14T15:56:11.212Z"
   },
   {
    "duration": 5,
    "start_time": "2022-05-14T15:56:41.328Z"
   },
   {
    "duration": 10,
    "start_time": "2022-05-14T15:57:37.228Z"
   },
   {
    "duration": 10,
    "start_time": "2022-05-14T15:57:52.497Z"
   },
   {
    "duration": 10,
    "start_time": "2022-05-14T15:57:57.154Z"
   },
   {
    "duration": 8,
    "start_time": "2022-05-14T15:58:03.095Z"
   },
   {
    "duration": 5,
    "start_time": "2022-05-14T15:58:21.887Z"
   },
   {
    "duration": 22,
    "start_time": "2022-05-14T15:58:26.725Z"
   },
   {
    "duration": 22,
    "start_time": "2022-05-14T16:00:10.085Z"
   },
   {
    "duration": 1155,
    "start_time": "2022-05-14T16:00:15.400Z"
   },
   {
    "duration": 44,
    "start_time": "2022-05-14T16:00:16.558Z"
   },
   {
    "duration": 18,
    "start_time": "2022-05-14T16:00:16.604Z"
   },
   {
    "duration": 18,
    "start_time": "2022-05-14T16:00:16.624Z"
   },
   {
    "duration": 45,
    "start_time": "2022-05-14T16:00:16.644Z"
   },
   {
    "duration": 10,
    "start_time": "2022-05-14T16:00:16.691Z"
   },
   {
    "duration": 17,
    "start_time": "2022-05-14T16:00:16.703Z"
   },
   {
    "duration": 16,
    "start_time": "2022-05-14T16:00:16.722Z"
   },
   {
    "duration": 11,
    "start_time": "2022-05-14T16:00:16.739Z"
   },
   {
    "duration": 38,
    "start_time": "2022-05-14T16:00:16.751Z"
   },
   {
    "duration": 39,
    "start_time": "2022-05-14T16:00:16.791Z"
   },
   {
    "duration": 16,
    "start_time": "2022-05-14T16:00:16.832Z"
   },
   {
    "duration": 54,
    "start_time": "2022-05-14T16:00:16.849Z"
   },
   {
    "duration": 8,
    "start_time": "2022-05-14T16:00:16.906Z"
   },
   {
    "duration": 14,
    "start_time": "2022-05-14T16:00:16.915Z"
   },
   {
    "duration": 27,
    "start_time": "2022-05-14T16:00:16.931Z"
   },
   {
    "duration": 5,
    "start_time": "2022-05-14T16:00:16.959Z"
   },
   {
    "duration": 23,
    "start_time": "2022-05-14T16:00:16.966Z"
   },
   {
    "duration": 10,
    "start_time": "2022-05-14T16:00:16.991Z"
   },
   {
    "duration": 19,
    "start_time": "2022-05-14T16:00:17.002Z"
   },
   {
    "duration": 25,
    "start_time": "2022-05-14T16:00:17.023Z"
   },
   {
    "duration": 202,
    "start_time": "2022-05-14T16:00:17.050Z"
   },
   {
    "duration": 9,
    "start_time": "2022-05-14T16:00:17.254Z"
   },
   {
    "duration": 348,
    "start_time": "2022-05-14T16:00:17.264Z"
   },
   {
    "duration": 10,
    "start_time": "2022-05-14T16:00:17.615Z"
   },
   {
    "duration": 244,
    "start_time": "2022-05-14T16:00:17.626Z"
   },
   {
    "duration": 480,
    "start_time": "2022-05-14T16:00:17.872Z"
   },
   {
    "duration": 270,
    "start_time": "2022-05-14T16:00:18.354Z"
   },
   {
    "duration": 11,
    "start_time": "2022-05-14T16:00:18.625Z"
   },
   {
    "duration": 328,
    "start_time": "2022-05-14T16:00:18.637Z"
   },
   {
    "duration": 35,
    "start_time": "2022-05-14T16:00:18.966Z"
   },
   {
    "duration": 3,
    "start_time": "2022-05-14T16:00:19.002Z"
   },
   {
    "duration": 26,
    "start_time": "2022-05-14T16:00:19.006Z"
   },
   {
    "duration": 22,
    "start_time": "2022-05-14T16:00:19.033Z"
   },
   {
    "duration": 46,
    "start_time": "2022-05-14T16:00:19.056Z"
   },
   {
    "duration": 25,
    "start_time": "2022-05-14T16:00:19.104Z"
   },
   {
    "duration": 13,
    "start_time": "2022-05-14T16:00:19.130Z"
   },
   {
    "duration": 195,
    "start_time": "2022-05-14T16:00:19.145Z"
   },
   {
    "duration": 7,
    "start_time": "2022-05-14T16:00:19.342Z"
   },
   {
    "duration": 14,
    "start_time": "2022-05-14T16:00:19.351Z"
   },
   {
    "duration": 22,
    "start_time": "2022-05-14T16:00:19.369Z"
   },
   {
    "duration": 14,
    "start_time": "2022-05-14T16:00:19.393Z"
   },
   {
    "duration": 16,
    "start_time": "2022-05-14T16:00:19.408Z"
   },
   {
    "duration": 21,
    "start_time": "2022-05-14T16:00:33.222Z"
   },
   {
    "duration": 24,
    "start_time": "2022-05-14T16:00:38.737Z"
   },
   {
    "duration": 20,
    "start_time": "2022-05-14T16:00:46.310Z"
   },
   {
    "duration": 21,
    "start_time": "2022-05-14T16:01:15.832Z"
   },
   {
    "duration": 14,
    "start_time": "2022-05-14T16:02:09.242Z"
   },
   {
    "duration": 165,
    "start_time": "2022-05-14T16:02:12.099Z"
   },
   {
    "duration": 19,
    "start_time": "2022-05-14T16:05:37.445Z"
   },
   {
    "duration": 93,
    "start_time": "2022-05-14T16:05:45.871Z"
   },
   {
    "duration": 1123,
    "start_time": "2022-05-14T16:05:53.893Z"
   },
   {
    "duration": 37,
    "start_time": "2022-05-14T16:05:55.018Z"
   },
   {
    "duration": 16,
    "start_time": "2022-05-14T16:05:55.056Z"
   },
   {
    "duration": 26,
    "start_time": "2022-05-14T16:05:55.074Z"
   },
   {
    "duration": 29,
    "start_time": "2022-05-14T16:05:55.102Z"
   },
   {
    "duration": 9,
    "start_time": "2022-05-14T16:05:55.132Z"
   },
   {
    "duration": 16,
    "start_time": "2022-05-14T16:05:55.142Z"
   },
   {
    "duration": 33,
    "start_time": "2022-05-14T16:05:55.159Z"
   },
   {
    "duration": 13,
    "start_time": "2022-05-14T16:05:55.194Z"
   },
   {
    "duration": 23,
    "start_time": "2022-05-14T16:05:55.210Z"
   },
   {
    "duration": 28,
    "start_time": "2022-05-14T16:05:55.235Z"
   },
   {
    "duration": 25,
    "start_time": "2022-05-14T16:05:55.265Z"
   },
   {
    "duration": 26,
    "start_time": "2022-05-14T16:05:55.292Z"
   },
   {
    "duration": 7,
    "start_time": "2022-05-14T16:05:55.319Z"
   },
   {
    "duration": 9,
    "start_time": "2022-05-14T16:05:55.327Z"
   },
   {
    "duration": 24,
    "start_time": "2022-05-14T16:05:55.338Z"
   },
   {
    "duration": 25,
    "start_time": "2022-05-14T16:05:55.364Z"
   },
   {
    "duration": 8,
    "start_time": "2022-05-14T16:05:55.390Z"
   },
   {
    "duration": 13,
    "start_time": "2022-05-14T16:05:55.400Z"
   },
   {
    "duration": 17,
    "start_time": "2022-05-14T16:05:55.415Z"
   },
   {
    "duration": 23,
    "start_time": "2022-05-14T16:05:55.433Z"
   },
   {
    "duration": 174,
    "start_time": "2022-05-14T16:05:55.458Z"
   },
   {
    "duration": 8,
    "start_time": "2022-05-14T16:05:55.634Z"
   },
   {
    "duration": 329,
    "start_time": "2022-05-14T16:05:55.643Z"
   },
   {
    "duration": 9,
    "start_time": "2022-05-14T16:05:55.974Z"
   },
   {
    "duration": 246,
    "start_time": "2022-05-14T16:05:55.984Z"
   },
   {
    "duration": 457,
    "start_time": "2022-05-14T16:05:56.231Z"
   },
   {
    "duration": 251,
    "start_time": "2022-05-14T16:05:56.691Z"
   },
   {
    "duration": 9,
    "start_time": "2022-05-14T16:05:56.944Z"
   },
   {
    "duration": 320,
    "start_time": "2022-05-14T16:05:56.955Z"
   },
   {
    "duration": 31,
    "start_time": "2022-05-14T16:05:57.276Z"
   },
   {
    "duration": 2,
    "start_time": "2022-05-14T16:05:57.309Z"
   },
   {
    "duration": 25,
    "start_time": "2022-05-14T16:05:57.313Z"
   },
   {
    "duration": 21,
    "start_time": "2022-05-14T16:05:57.339Z"
   },
   {
    "duration": 41,
    "start_time": "2022-05-14T16:05:57.361Z"
   },
   {
    "duration": 18,
    "start_time": "2022-05-14T16:05:57.404Z"
   },
   {
    "duration": 14,
    "start_time": "2022-05-14T16:05:57.423Z"
   },
   {
    "duration": 209,
    "start_time": "2022-05-14T16:05:57.438Z"
   },
   {
    "duration": 7,
    "start_time": "2022-05-14T16:05:57.648Z"
   },
   {
    "duration": 11,
    "start_time": "2022-05-14T16:05:57.657Z"
   },
   {
    "duration": 19,
    "start_time": "2022-05-14T16:05:57.670Z"
   },
   {
    "duration": 13,
    "start_time": "2022-05-14T16:05:57.690Z"
   },
   {
    "duration": 12,
    "start_time": "2022-05-14T16:05:57.705Z"
   },
   {
    "duration": 92,
    "start_time": "2022-05-14T16:06:19.453Z"
   },
   {
    "duration": 1094,
    "start_time": "2022-05-14T16:06:31.242Z"
   },
   {
    "duration": 36,
    "start_time": "2022-05-14T16:06:32.338Z"
   },
   {
    "duration": 21,
    "start_time": "2022-05-14T16:06:32.375Z"
   },
   {
    "duration": 13,
    "start_time": "2022-05-14T16:06:32.398Z"
   },
   {
    "duration": 29,
    "start_time": "2022-05-14T16:06:32.414Z"
   },
   {
    "duration": 10,
    "start_time": "2022-05-14T16:06:32.445Z"
   },
   {
    "duration": 39,
    "start_time": "2022-05-14T16:06:32.456Z"
   },
   {
    "duration": 17,
    "start_time": "2022-05-14T16:06:32.496Z"
   },
   {
    "duration": 10,
    "start_time": "2022-05-14T16:06:32.515Z"
   },
   {
    "duration": 13,
    "start_time": "2022-05-14T16:06:32.527Z"
   },
   {
    "duration": 25,
    "start_time": "2022-05-14T16:06:32.542Z"
   },
   {
    "duration": 14,
    "start_time": "2022-05-14T16:06:32.589Z"
   },
   {
    "duration": 28,
    "start_time": "2022-05-14T16:06:32.605Z"
   },
   {
    "duration": 6,
    "start_time": "2022-05-14T16:06:32.637Z"
   },
   {
    "duration": 9,
    "start_time": "2022-05-14T16:06:32.645Z"
   },
   {
    "duration": 22,
    "start_time": "2022-05-14T16:06:32.689Z"
   },
   {
    "duration": 4,
    "start_time": "2022-05-14T16:06:32.713Z"
   },
   {
    "duration": 10,
    "start_time": "2022-05-14T16:06:32.718Z"
   },
   {
    "duration": 8,
    "start_time": "2022-05-14T16:06:32.729Z"
   },
   {
    "duration": 18,
    "start_time": "2022-05-14T16:06:32.739Z"
   },
   {
    "duration": 42,
    "start_time": "2022-05-14T16:06:32.759Z"
   },
   {
    "duration": 165,
    "start_time": "2022-05-14T16:06:32.803Z"
   },
   {
    "duration": 19,
    "start_time": "2022-05-14T16:06:32.970Z"
   },
   {
    "duration": 329,
    "start_time": "2022-05-14T16:06:32.991Z"
   },
   {
    "duration": 10,
    "start_time": "2022-05-14T16:06:33.323Z"
   },
   {
    "duration": 240,
    "start_time": "2022-05-14T16:06:33.335Z"
   },
   {
    "duration": 463,
    "start_time": "2022-05-14T16:06:33.578Z"
   },
   {
    "duration": 260,
    "start_time": "2022-05-14T16:06:34.043Z"
   },
   {
    "duration": 10,
    "start_time": "2022-05-14T16:06:34.305Z"
   },
   {
    "duration": 325,
    "start_time": "2022-05-14T16:06:34.317Z"
   },
   {
    "duration": 25,
    "start_time": "2022-05-14T16:06:34.644Z"
   },
   {
    "duration": 3,
    "start_time": "2022-05-14T16:06:34.687Z"
   },
   {
    "duration": 22,
    "start_time": "2022-05-14T16:06:34.692Z"
   },
   {
    "duration": 19,
    "start_time": "2022-05-14T16:06:34.716Z"
   },
   {
    "duration": 19,
    "start_time": "2022-05-14T16:06:34.737Z"
   },
   {
    "duration": 9,
    "start_time": "2022-05-14T16:06:34.787Z"
   },
   {
    "duration": 22,
    "start_time": "2022-05-14T16:06:34.798Z"
   },
   {
    "duration": 14,
    "start_time": "2022-05-14T16:06:34.822Z"
   },
   {
    "duration": 196,
    "start_time": "2022-05-14T16:06:34.838Z"
   },
   {
    "duration": 9,
    "start_time": "2022-05-14T16:06:35.036Z"
   },
   {
    "duration": 9,
    "start_time": "2022-05-14T16:06:35.049Z"
   },
   {
    "duration": 31,
    "start_time": "2022-05-14T16:06:35.060Z"
   },
   {
    "duration": 14,
    "start_time": "2022-05-14T16:06:35.093Z"
   },
   {
    "duration": 12,
    "start_time": "2022-05-14T16:06:35.108Z"
   },
   {
    "duration": 1159,
    "start_time": "2022-05-14T16:08:01.884Z"
   },
   {
    "duration": 37,
    "start_time": "2022-05-14T16:08:03.045Z"
   },
   {
    "duration": 17,
    "start_time": "2022-05-14T16:08:03.084Z"
   },
   {
    "duration": 14,
    "start_time": "2022-05-14T16:08:03.103Z"
   },
   {
    "duration": 27,
    "start_time": "2022-05-14T16:08:03.118Z"
   },
   {
    "duration": 8,
    "start_time": "2022-05-14T16:08:03.147Z"
   },
   {
    "duration": 41,
    "start_time": "2022-05-14T16:08:03.157Z"
   },
   {
    "duration": 18,
    "start_time": "2022-05-14T16:08:03.200Z"
   },
   {
    "duration": 13,
    "start_time": "2022-05-14T16:08:03.219Z"
   },
   {
    "duration": 14,
    "start_time": "2022-05-14T16:08:03.234Z"
   },
   {
    "duration": 49,
    "start_time": "2022-05-14T16:08:03.249Z"
   },
   {
    "duration": 12,
    "start_time": "2022-05-14T16:08:03.299Z"
   },
   {
    "duration": 27,
    "start_time": "2022-05-14T16:08:03.312Z"
   },
   {
    "duration": 7,
    "start_time": "2022-05-14T16:08:03.340Z"
   },
   {
    "duration": 39,
    "start_time": "2022-05-14T16:08:03.348Z"
   },
   {
    "duration": 21,
    "start_time": "2022-05-14T16:08:03.389Z"
   },
   {
    "duration": 4,
    "start_time": "2022-05-14T16:08:03.412Z"
   },
   {
    "duration": 9,
    "start_time": "2022-05-14T16:08:03.417Z"
   },
   {
    "duration": 17,
    "start_time": "2022-05-14T16:08:03.427Z"
   },
   {
    "duration": 18,
    "start_time": "2022-05-14T16:08:03.446Z"
   },
   {
    "duration": 40,
    "start_time": "2022-05-14T16:08:03.465Z"
   },
   {
    "duration": 193,
    "start_time": "2022-05-14T16:08:03.506Z"
   },
   {
    "duration": 15,
    "start_time": "2022-05-14T16:08:03.702Z"
   },
   {
    "duration": 337,
    "start_time": "2022-05-14T16:08:03.719Z"
   },
   {
    "duration": 10,
    "start_time": "2022-05-14T16:08:04.058Z"
   },
   {
    "duration": 236,
    "start_time": "2022-05-14T16:08:04.070Z"
   },
   {
    "duration": 460,
    "start_time": "2022-05-14T16:08:04.308Z"
   },
   {
    "duration": 256,
    "start_time": "2022-05-14T16:08:04.771Z"
   },
   {
    "duration": 10,
    "start_time": "2022-05-14T16:08:05.029Z"
   },
   {
    "duration": 319,
    "start_time": "2022-05-14T16:08:05.041Z"
   },
   {
    "duration": 37,
    "start_time": "2022-05-14T16:08:05.362Z"
   },
   {
    "duration": 2,
    "start_time": "2022-05-14T16:08:05.401Z"
   },
   {
    "duration": 23,
    "start_time": "2022-05-14T16:08:05.405Z"
   },
   {
    "duration": 19,
    "start_time": "2022-05-14T16:08:05.429Z"
   },
   {
    "duration": 45,
    "start_time": "2022-05-14T16:08:05.449Z"
   },
   {
    "duration": 7,
    "start_time": "2022-05-14T16:08:05.496Z"
   },
   {
    "duration": 34,
    "start_time": "2022-05-14T16:08:05.505Z"
   },
   {
    "duration": 13,
    "start_time": "2022-05-14T16:08:05.540Z"
   },
   {
    "duration": 183,
    "start_time": "2022-05-14T16:08:05.555Z"
   },
   {
    "duration": 8,
    "start_time": "2022-05-14T16:08:05.739Z"
   },
   {
    "duration": 12,
    "start_time": "2022-05-14T16:08:05.749Z"
   },
   {
    "duration": 26,
    "start_time": "2022-05-14T16:08:05.763Z"
   },
   {
    "duration": 11,
    "start_time": "2022-05-14T16:08:05.791Z"
   },
   {
    "duration": 12,
    "start_time": "2022-05-14T16:08:05.804Z"
   },
   {
    "duration": 22,
    "start_time": "2022-05-14T16:08:43.846Z"
   },
   {
    "duration": 12,
    "start_time": "2022-05-14T16:09:03.479Z"
   },
   {
    "duration": 21,
    "start_time": "2022-05-14T16:11:56.275Z"
   },
   {
    "duration": 22,
    "start_time": "2022-05-14T16:12:09.865Z"
   },
   {
    "duration": 22,
    "start_time": "2022-05-14T16:12:18.574Z"
   },
   {
    "duration": 22,
    "start_time": "2022-05-14T16:12:26.356Z"
   },
   {
    "duration": 21,
    "start_time": "2022-05-14T16:13:11.743Z"
   },
   {
    "duration": 22,
    "start_time": "2022-05-14T16:15:13.136Z"
   },
   {
    "duration": 23,
    "start_time": "2022-05-14T16:16:46.663Z"
   },
   {
    "duration": 22,
    "start_time": "2022-05-14T16:16:51.633Z"
   },
   {
    "duration": 21,
    "start_time": "2022-05-14T16:32:21.149Z"
   },
   {
    "duration": 20,
    "start_time": "2022-05-14T16:33:18.769Z"
   },
   {
    "duration": 6,
    "start_time": "2022-05-14T16:37:18.535Z"
   },
   {
    "duration": 21,
    "start_time": "2022-05-14T16:37:36.830Z"
   },
   {
    "duration": 210,
    "start_time": "2022-05-14T16:54:28.688Z"
   },
   {
    "duration": 13,
    "start_time": "2022-05-14T16:55:04.892Z"
   },
   {
    "duration": 11,
    "start_time": "2022-05-14T16:55:28.897Z"
   },
   {
    "duration": 12,
    "start_time": "2022-05-14T16:55:39.820Z"
   },
   {
    "duration": 13,
    "start_time": "2022-05-14T16:55:51.850Z"
   },
   {
    "duration": 10,
    "start_time": "2022-05-14T16:55:57.723Z"
   },
   {
    "duration": 10,
    "start_time": "2022-05-14T16:56:07.528Z"
   },
   {
    "duration": 11,
    "start_time": "2022-05-14T16:56:40.691Z"
   },
   {
    "duration": 11,
    "start_time": "2022-05-14T16:56:45.696Z"
   },
   {
    "duration": 3,
    "start_time": "2022-05-14T16:57:08.727Z"
   },
   {
    "duration": 10,
    "start_time": "2022-05-14T16:57:59.129Z"
   },
   {
    "duration": 123,
    "start_time": "2022-05-14T16:58:50.336Z"
   },
   {
    "duration": 11,
    "start_time": "2022-05-14T16:58:53.862Z"
   },
   {
    "duration": 11,
    "start_time": "2022-05-14T16:59:38.968Z"
   },
   {
    "duration": 106,
    "start_time": "2022-05-14T17:00:12.444Z"
   },
   {
    "duration": 11,
    "start_time": "2022-05-14T17:00:16.207Z"
   },
   {
    "duration": 10,
    "start_time": "2022-05-14T17:00:22.222Z"
   },
   {
    "duration": 11,
    "start_time": "2022-05-14T17:01:15.824Z"
   },
   {
    "duration": 11,
    "start_time": "2022-05-14T17:01:21.377Z"
   },
   {
    "duration": 11,
    "start_time": "2022-05-14T17:02:01.970Z"
   },
   {
    "duration": 11,
    "start_time": "2022-05-14T17:02:52.814Z"
   },
   {
    "duration": 10,
    "start_time": "2022-05-14T17:03:24.527Z"
   },
   {
    "duration": 12,
    "start_time": "2022-05-14T17:03:35.174Z"
   },
   {
    "duration": 11,
    "start_time": "2022-05-14T17:03:49.920Z"
   },
   {
    "duration": 10,
    "start_time": "2022-05-14T17:03:54.549Z"
   },
   {
    "duration": 10,
    "start_time": "2022-05-14T18:57:05.812Z"
   },
   {
    "duration": 1116,
    "start_time": "2022-05-14T19:38:51.125Z"
   },
   {
    "duration": 36,
    "start_time": "2022-05-14T19:38:52.242Z"
   },
   {
    "duration": 20,
    "start_time": "2022-05-14T19:38:52.280Z"
   },
   {
    "duration": 14,
    "start_time": "2022-05-14T19:38:52.302Z"
   },
   {
    "duration": 30,
    "start_time": "2022-05-14T19:38:52.317Z"
   },
   {
    "duration": 10,
    "start_time": "2022-05-14T19:38:52.349Z"
   },
   {
    "duration": 41,
    "start_time": "2022-05-14T19:38:52.360Z"
   },
   {
    "duration": 17,
    "start_time": "2022-05-14T19:38:52.403Z"
   },
   {
    "duration": 11,
    "start_time": "2022-05-14T19:38:52.422Z"
   },
   {
    "duration": 12,
    "start_time": "2022-05-14T19:38:52.436Z"
   },
   {
    "duration": 46,
    "start_time": "2022-05-14T19:38:52.450Z"
   },
   {
    "duration": 13,
    "start_time": "2022-05-14T19:38:52.497Z"
   },
   {
    "duration": 34,
    "start_time": "2022-05-14T19:38:52.512Z"
   },
   {
    "duration": 6,
    "start_time": "2022-05-14T19:38:52.548Z"
   },
   {
    "duration": 11,
    "start_time": "2022-05-14T19:38:52.555Z"
   },
   {
    "duration": 20,
    "start_time": "2022-05-14T19:38:52.588Z"
   },
   {
    "duration": 4,
    "start_time": "2022-05-14T19:38:52.610Z"
   },
   {
    "duration": 9,
    "start_time": "2022-05-14T19:38:52.615Z"
   },
   {
    "duration": 12,
    "start_time": "2022-05-14T19:38:52.625Z"
   },
   {
    "duration": 16,
    "start_time": "2022-05-14T19:38:52.639Z"
   },
   {
    "duration": 42,
    "start_time": "2022-05-14T19:38:52.657Z"
   },
   {
    "duration": 159,
    "start_time": "2022-05-14T19:38:52.701Z"
   },
   {
    "duration": 7,
    "start_time": "2022-05-14T19:38:52.862Z"
   },
   {
    "duration": 359,
    "start_time": "2022-05-14T19:38:52.870Z"
   },
   {
    "duration": 10,
    "start_time": "2022-05-14T19:38:53.230Z"
   },
   {
    "duration": 233,
    "start_time": "2022-05-14T19:38:53.241Z"
   },
   {
    "duration": 458,
    "start_time": "2022-05-14T19:38:53.476Z"
   },
   {
    "duration": 254,
    "start_time": "2022-05-14T19:38:53.937Z"
   },
   {
    "duration": 10,
    "start_time": "2022-05-14T19:38:54.192Z"
   },
   {
    "duration": 321,
    "start_time": "2022-05-14T19:38:54.204Z"
   },
   {
    "duration": 26,
    "start_time": "2022-05-14T19:38:54.526Z"
   },
   {
    "duration": 3,
    "start_time": "2022-05-14T19:38:54.553Z"
   },
   {
    "duration": 40,
    "start_time": "2022-05-14T19:38:54.557Z"
   },
   {
    "duration": 18,
    "start_time": "2022-05-14T19:38:54.599Z"
   },
   {
    "duration": 19,
    "start_time": "2022-05-14T19:38:54.619Z"
   },
   {
    "duration": 20,
    "start_time": "2022-05-14T19:38:54.640Z"
   },
   {
    "duration": 49,
    "start_time": "2022-05-14T19:38:54.661Z"
   },
   {
    "duration": 5,
    "start_time": "2022-05-14T19:38:54.712Z"
   },
   {
    "duration": 5,
    "start_time": "2022-05-14T19:38:54.719Z"
   },
   {
    "duration": 12,
    "start_time": "2022-05-14T19:38:54.726Z"
   },
   {
    "duration": 10,
    "start_time": "2022-05-14T19:38:54.740Z"
   },
   {
    "duration": 41,
    "start_time": "2022-05-14T19:38:54.751Z"
   },
   {
    "duration": 13,
    "start_time": "2022-05-14T19:38:54.794Z"
   },
   {
    "duration": 14,
    "start_time": "2022-05-14T19:38:54.808Z"
   },
   {
    "duration": 12,
    "start_time": "2022-05-14T19:38:54.823Z"
   },
   {
    "duration": 23,
    "start_time": "2022-05-14T19:38:54.837Z"
   },
   {
    "duration": 1176,
    "start_time": "2022-05-14T19:39:13.273Z"
   },
   {
    "duration": 38,
    "start_time": "2022-05-14T19:39:14.451Z"
   },
   {
    "duration": 17,
    "start_time": "2022-05-14T19:39:14.491Z"
   },
   {
    "duration": 14,
    "start_time": "2022-05-14T19:39:14.510Z"
   },
   {
    "duration": 27,
    "start_time": "2022-05-14T19:39:14.526Z"
   },
   {
    "duration": 35,
    "start_time": "2022-05-14T19:39:14.555Z"
   },
   {
    "duration": 14,
    "start_time": "2022-05-14T19:39:14.592Z"
   },
   {
    "duration": 24,
    "start_time": "2022-05-14T19:39:14.608Z"
   },
   {
    "duration": 17,
    "start_time": "2022-05-14T19:39:14.634Z"
   },
   {
    "duration": 14,
    "start_time": "2022-05-14T19:39:14.654Z"
   },
   {
    "duration": 45,
    "start_time": "2022-05-14T19:39:14.670Z"
   },
   {
    "duration": 12,
    "start_time": "2022-05-14T19:39:14.717Z"
   },
   {
    "duration": 38,
    "start_time": "2022-05-14T19:39:14.731Z"
   },
   {
    "duration": 22,
    "start_time": "2022-05-14T19:39:14.771Z"
   },
   {
    "duration": 19,
    "start_time": "2022-05-14T19:39:14.794Z"
   },
   {
    "duration": 27,
    "start_time": "2022-05-14T19:39:14.815Z"
   },
   {
    "duration": 4,
    "start_time": "2022-05-14T19:39:14.844Z"
   },
   {
    "duration": 13,
    "start_time": "2022-05-14T19:39:14.850Z"
   },
   {
    "duration": 12,
    "start_time": "2022-05-14T19:39:14.864Z"
   },
   {
    "duration": 24,
    "start_time": "2022-05-14T19:39:14.878Z"
   },
   {
    "duration": 24,
    "start_time": "2022-05-14T19:39:14.904Z"
   },
   {
    "duration": 182,
    "start_time": "2022-05-14T19:39:14.929Z"
   },
   {
    "duration": 8,
    "start_time": "2022-05-14T19:39:15.113Z"
   },
   {
    "duration": 337,
    "start_time": "2022-05-14T19:39:15.123Z"
   },
   {
    "duration": 10,
    "start_time": "2022-05-14T19:39:15.462Z"
   },
   {
    "duration": 243,
    "start_time": "2022-05-14T19:39:15.474Z"
   },
   {
    "duration": 469,
    "start_time": "2022-05-14T19:39:15.719Z"
   },
   {
    "duration": 260,
    "start_time": "2022-05-14T19:39:16.191Z"
   },
   {
    "duration": 11,
    "start_time": "2022-05-14T19:39:16.453Z"
   },
   {
    "duration": 629,
    "start_time": "2022-05-14T19:39:16.465Z"
   },
   {
    "duration": 27,
    "start_time": "2022-05-14T19:39:17.096Z"
   },
   {
    "duration": 3,
    "start_time": "2022-05-14T19:39:17.124Z"
   },
   {
    "duration": 76,
    "start_time": "2022-05-14T19:39:17.129Z"
   },
   {
    "duration": 25,
    "start_time": "2022-05-14T19:39:17.206Z"
   },
   {
    "duration": 70,
    "start_time": "2022-05-14T19:39:17.233Z"
   },
   {
    "duration": 21,
    "start_time": "2022-05-14T19:39:17.305Z"
   },
   {
    "duration": 77,
    "start_time": "2022-05-14T19:39:17.328Z"
   },
   {
    "duration": 6,
    "start_time": "2022-05-14T19:39:17.406Z"
   },
   {
    "duration": 7,
    "start_time": "2022-05-14T19:39:17.413Z"
   },
   {
    "duration": 12,
    "start_time": "2022-05-14T19:39:17.422Z"
   },
   {
    "duration": 11,
    "start_time": "2022-05-14T19:39:17.489Z"
   },
   {
    "duration": 14,
    "start_time": "2022-05-14T19:39:17.502Z"
   },
   {
    "duration": 11,
    "start_time": "2022-05-14T19:39:17.518Z"
   },
   {
    "duration": 65,
    "start_time": "2022-05-14T19:39:17.531Z"
   },
   {
    "duration": 12,
    "start_time": "2022-05-14T19:39:17.597Z"
   },
   {
    "duration": 79,
    "start_time": "2022-05-14T19:39:17.610Z"
   },
   {
    "duration": 23,
    "start_time": "2022-05-14T19:40:25.181Z"
   },
   {
    "duration": 21,
    "start_time": "2022-05-14T19:40:45.894Z"
   },
   {
    "duration": 1115,
    "start_time": "2022-05-14T19:40:50.930Z"
   },
   {
    "duration": 42,
    "start_time": "2022-05-14T19:40:52.047Z"
   },
   {
    "duration": 17,
    "start_time": "2022-05-14T19:40:52.091Z"
   },
   {
    "duration": 16,
    "start_time": "2022-05-14T19:40:52.110Z"
   },
   {
    "duration": 42,
    "start_time": "2022-05-14T19:40:52.127Z"
   },
   {
    "duration": 28,
    "start_time": "2022-05-14T19:40:52.171Z"
   },
   {
    "duration": 22,
    "start_time": "2022-05-14T19:40:52.201Z"
   },
   {
    "duration": 19,
    "start_time": "2022-05-14T19:40:52.224Z"
   },
   {
    "duration": 10,
    "start_time": "2022-05-14T19:40:52.245Z"
   },
   {
    "duration": 18,
    "start_time": "2022-05-14T19:40:52.258Z"
   },
   {
    "duration": 35,
    "start_time": "2022-05-14T19:40:52.277Z"
   },
   {
    "duration": 12,
    "start_time": "2022-05-14T19:40:52.314Z"
   },
   {
    "duration": 30,
    "start_time": "2022-05-14T19:40:52.328Z"
   },
   {
    "duration": 29,
    "start_time": "2022-05-14T19:40:52.359Z"
   },
   {
    "duration": 9,
    "start_time": "2022-05-14T19:40:52.390Z"
   },
   {
    "duration": 23,
    "start_time": "2022-05-14T19:40:52.401Z"
   },
   {
    "duration": 4,
    "start_time": "2022-05-14T19:40:52.426Z"
   },
   {
    "duration": 13,
    "start_time": "2022-05-14T19:40:52.432Z"
   },
   {
    "duration": 10,
    "start_time": "2022-05-14T19:40:52.447Z"
   },
   {
    "duration": 37,
    "start_time": "2022-05-14T19:40:52.459Z"
   },
   {
    "duration": 22,
    "start_time": "2022-05-14T19:40:52.497Z"
   },
   {
    "duration": 173,
    "start_time": "2022-05-14T19:40:52.521Z"
   },
   {
    "duration": 9,
    "start_time": "2022-05-14T19:40:52.696Z"
   },
   {
    "duration": 338,
    "start_time": "2022-05-14T19:40:52.706Z"
   },
   {
    "duration": 10,
    "start_time": "2022-05-14T19:40:53.046Z"
   },
   {
    "duration": 243,
    "start_time": "2022-05-14T19:40:53.057Z"
   },
   {
    "duration": 451,
    "start_time": "2022-05-14T19:40:53.302Z"
   },
   {
    "duration": 254,
    "start_time": "2022-05-14T19:40:53.756Z"
   },
   {
    "duration": 10,
    "start_time": "2022-05-14T19:40:54.011Z"
   },
   {
    "duration": 310,
    "start_time": "2022-05-14T19:40:54.022Z"
   },
   {
    "duration": 24,
    "start_time": "2022-05-14T19:40:54.334Z"
   },
   {
    "duration": 2,
    "start_time": "2022-05-14T19:40:54.360Z"
   },
   {
    "duration": 36,
    "start_time": "2022-05-14T19:40:54.363Z"
   },
   {
    "duration": 19,
    "start_time": "2022-05-14T19:40:54.401Z"
   },
   {
    "duration": 20,
    "start_time": "2022-05-14T19:40:54.421Z"
   },
   {
    "duration": 46,
    "start_time": "2022-05-14T19:40:54.443Z"
   },
   {
    "duration": 24,
    "start_time": "2022-05-14T19:40:54.491Z"
   },
   {
    "duration": 6,
    "start_time": "2022-05-14T19:40:54.516Z"
   },
   {
    "duration": 4,
    "start_time": "2022-05-14T19:40:54.524Z"
   },
   {
    "duration": 12,
    "start_time": "2022-05-14T19:40:54.530Z"
   },
   {
    "duration": 10,
    "start_time": "2022-05-14T19:40:54.543Z"
   },
   {
    "duration": 9,
    "start_time": "2022-05-14T19:40:54.588Z"
   },
   {
    "duration": 19,
    "start_time": "2022-05-14T19:40:54.599Z"
   },
   {
    "duration": 23,
    "start_time": "2022-05-14T19:40:54.619Z"
   },
   {
    "duration": 17,
    "start_time": "2022-05-14T19:40:54.644Z"
   },
   {
    "duration": 40,
    "start_time": "2022-05-14T19:40:54.663Z"
   },
   {
    "duration": 31,
    "start_time": "2022-05-14T19:42:08.909Z"
   },
   {
    "duration": 25,
    "start_time": "2022-05-14T19:42:41.239Z"
   },
   {
    "duration": 1182,
    "start_time": "2022-05-14T19:42:45.674Z"
   },
   {
    "duration": 39,
    "start_time": "2022-05-14T19:42:46.859Z"
   },
   {
    "duration": 22,
    "start_time": "2022-05-14T19:42:46.902Z"
   },
   {
    "duration": 15,
    "start_time": "2022-05-14T19:42:46.925Z"
   },
   {
    "duration": 57,
    "start_time": "2022-05-14T19:42:46.942Z"
   },
   {
    "duration": 14,
    "start_time": "2022-05-14T19:42:47.001Z"
   },
   {
    "duration": 14,
    "start_time": "2022-05-14T19:42:47.017Z"
   },
   {
    "duration": 17,
    "start_time": "2022-05-14T19:42:47.033Z"
   },
   {
    "duration": 35,
    "start_time": "2022-05-14T19:42:47.053Z"
   },
   {
    "duration": 14,
    "start_time": "2022-05-14T19:42:47.090Z"
   },
   {
    "duration": 35,
    "start_time": "2022-05-14T19:42:47.106Z"
   },
   {
    "duration": 12,
    "start_time": "2022-05-14T19:42:47.142Z"
   },
   {
    "duration": 50,
    "start_time": "2022-05-14T19:42:47.156Z"
   },
   {
    "duration": 6,
    "start_time": "2022-05-14T19:42:47.208Z"
   },
   {
    "duration": 19,
    "start_time": "2022-05-14T19:42:47.216Z"
   },
   {
    "duration": 19,
    "start_time": "2022-05-14T19:42:47.237Z"
   },
   {
    "duration": 4,
    "start_time": "2022-05-14T19:42:47.258Z"
   },
   {
    "duration": 24,
    "start_time": "2022-05-14T19:42:47.264Z"
   },
   {
    "duration": 6,
    "start_time": "2022-05-14T19:42:47.290Z"
   },
   {
    "duration": 20,
    "start_time": "2022-05-14T19:42:47.298Z"
   },
   {
    "duration": 22,
    "start_time": "2022-05-14T19:42:47.319Z"
   },
   {
    "duration": 178,
    "start_time": "2022-05-14T19:42:47.343Z"
   },
   {
    "duration": 7,
    "start_time": "2022-05-14T19:42:47.523Z"
   },
   {
    "duration": 341,
    "start_time": "2022-05-14T19:42:47.532Z"
   },
   {
    "duration": 9,
    "start_time": "2022-05-14T19:42:47.875Z"
   },
   {
    "duration": 243,
    "start_time": "2022-05-14T19:42:47.886Z"
   },
   {
    "duration": 463,
    "start_time": "2022-05-14T19:42:48.132Z"
   },
   {
    "duration": 252,
    "start_time": "2022-05-14T19:42:48.596Z"
   },
   {
    "duration": 10,
    "start_time": "2022-05-14T19:42:48.850Z"
   },
   {
    "duration": 310,
    "start_time": "2022-05-14T19:42:48.861Z"
   },
   {
    "duration": 38,
    "start_time": "2022-05-14T19:42:49.172Z"
   },
   {
    "duration": 4,
    "start_time": "2022-05-14T19:42:49.212Z"
   },
   {
    "duration": 22,
    "start_time": "2022-05-14T19:42:49.217Z"
   },
   {
    "duration": 19,
    "start_time": "2022-05-14T19:42:49.240Z"
   },
   {
    "duration": 44,
    "start_time": "2022-05-14T19:42:49.260Z"
   },
   {
    "duration": 22,
    "start_time": "2022-05-14T19:42:49.305Z"
   },
   {
    "duration": 21,
    "start_time": "2022-05-14T19:42:49.328Z"
   },
   {
    "duration": 5,
    "start_time": "2022-05-14T19:42:49.350Z"
   },
   {
    "duration": 3,
    "start_time": "2022-05-14T19:42:49.388Z"
   },
   {
    "duration": 16,
    "start_time": "2022-05-14T19:42:49.393Z"
   },
   {
    "duration": 12,
    "start_time": "2022-05-14T19:42:49.410Z"
   },
   {
    "duration": 12,
    "start_time": "2022-05-14T19:42:49.424Z"
   },
   {
    "duration": 11,
    "start_time": "2022-05-14T19:42:49.438Z"
   },
   {
    "duration": 12,
    "start_time": "2022-05-14T19:42:49.451Z"
   },
   {
    "duration": 32,
    "start_time": "2022-05-14T19:42:49.465Z"
   },
   {
    "duration": 40,
    "start_time": "2022-05-14T19:42:49.499Z"
   },
   {
    "duration": 1479,
    "start_time": "2022-05-15T12:16:05.218Z"
   },
   {
    "duration": 54,
    "start_time": "2022-05-15T12:16:06.700Z"
   },
   {
    "duration": 26,
    "start_time": "2022-05-15T12:16:06.756Z"
   },
   {
    "duration": 46,
    "start_time": "2022-05-15T12:16:06.786Z"
   },
   {
    "duration": 41,
    "start_time": "2022-05-15T12:16:06.834Z"
   },
   {
    "duration": 13,
    "start_time": "2022-05-15T12:16:06.878Z"
   },
   {
    "duration": 160,
    "start_time": "2022-05-15T12:16:06.894Z"
   },
   {
    "duration": 90,
    "start_time": "2022-05-15T12:16:07.056Z"
   },
   {
    "duration": 92,
    "start_time": "2022-05-15T12:16:07.148Z"
   },
   {
    "duration": 33,
    "start_time": "2022-05-15T12:16:07.244Z"
   },
   {
    "duration": 61,
    "start_time": "2022-05-15T12:16:07.279Z"
   },
   {
    "duration": 19,
    "start_time": "2022-05-15T12:16:07.342Z"
   },
   {
    "duration": 71,
    "start_time": "2022-05-15T12:16:07.363Z"
   },
   {
    "duration": 10,
    "start_time": "2022-05-15T12:16:07.436Z"
   },
   {
    "duration": 18,
    "start_time": "2022-05-15T12:16:07.448Z"
   },
   {
    "duration": 59,
    "start_time": "2022-05-15T12:16:07.468Z"
   },
   {
    "duration": 6,
    "start_time": "2022-05-15T12:16:07.529Z"
   },
   {
    "duration": 8,
    "start_time": "2022-05-15T12:16:07.537Z"
   },
   {
    "duration": 12,
    "start_time": "2022-05-15T12:16:07.547Z"
   },
   {
    "duration": 25,
    "start_time": "2022-05-15T12:16:07.561Z"
   },
   {
    "duration": 67,
    "start_time": "2022-05-15T12:16:07.588Z"
   },
   {
    "duration": 298,
    "start_time": "2022-05-15T12:16:07.657Z"
   },
   {
    "duration": 12,
    "start_time": "2022-05-15T12:16:07.957Z"
   },
   {
    "duration": 606,
    "start_time": "2022-05-15T12:16:07.971Z"
   },
   {
    "duration": 14,
    "start_time": "2022-05-15T12:16:08.580Z"
   },
   {
    "duration": 421,
    "start_time": "2022-05-15T12:16:08.597Z"
   },
   {
    "duration": 818,
    "start_time": "2022-05-15T12:16:09.024Z"
   },
   {
    "duration": 446,
    "start_time": "2022-05-15T12:16:09.847Z"
   },
   {
    "duration": 29,
    "start_time": "2022-05-15T12:16:10.295Z"
   },
   {
    "duration": 487,
    "start_time": "2022-05-15T12:16:10.327Z"
   },
   {
    "duration": 39,
    "start_time": "2022-05-15T12:16:10.824Z"
   },
   {
    "duration": 4,
    "start_time": "2022-05-15T12:16:10.865Z"
   },
   {
    "duration": 59,
    "start_time": "2022-05-15T12:16:10.871Z"
   },
   {
    "duration": 31,
    "start_time": "2022-05-15T12:16:10.932Z"
   },
   {
    "duration": 62,
    "start_time": "2022-05-15T12:16:10.965Z"
   },
   {
    "duration": 35,
    "start_time": "2022-05-15T12:16:11.030Z"
   },
   {
    "duration": 59,
    "start_time": "2022-05-15T12:16:11.067Z"
   },
   {
    "duration": 8,
    "start_time": "2022-05-15T12:16:11.128Z"
   },
   {
    "duration": 12,
    "start_time": "2022-05-15T12:16:11.138Z"
   },
   {
    "duration": 35,
    "start_time": "2022-05-15T12:16:11.152Z"
   },
   {
    "duration": 24,
    "start_time": "2022-05-15T12:16:11.190Z"
   },
   {
    "duration": 32,
    "start_time": "2022-05-15T12:16:11.216Z"
   },
   {
    "duration": 27,
    "start_time": "2022-05-15T12:16:11.251Z"
   },
   {
    "duration": 18,
    "start_time": "2022-05-15T12:16:11.281Z"
   },
   {
    "duration": 26,
    "start_time": "2022-05-15T12:16:11.301Z"
   },
   {
    "duration": 38,
    "start_time": "2022-05-15T12:16:11.329Z"
   },
   {
    "duration": 96,
    "start_time": "2022-05-15T12:45:53.956Z"
   },
   {
    "duration": 1588,
    "start_time": "2022-05-15T12:46:13.536Z"
   },
   {
    "duration": 53,
    "start_time": "2022-05-15T12:46:15.127Z"
   },
   {
    "duration": 43,
    "start_time": "2022-05-15T12:46:15.182Z"
   },
   {
    "duration": 22,
    "start_time": "2022-05-15T12:46:15.228Z"
   },
   {
    "duration": 42,
    "start_time": "2022-05-15T12:46:15.254Z"
   },
   {
    "duration": 14,
    "start_time": "2022-05-15T12:46:15.325Z"
   },
   {
    "duration": 32,
    "start_time": "2022-05-15T12:46:15.342Z"
   },
   {
    "duration": 58,
    "start_time": "2022-05-15T12:46:15.377Z"
   },
   {
    "duration": 24,
    "start_time": "2022-05-15T12:46:15.437Z"
   },
   {
    "duration": 34,
    "start_time": "2022-05-15T12:46:15.464Z"
   },
   {
    "duration": 74,
    "start_time": "2022-05-15T12:46:15.501Z"
   },
   {
    "duration": 19,
    "start_time": "2022-05-15T12:46:15.577Z"
   },
   {
    "duration": 44,
    "start_time": "2022-05-15T12:46:15.625Z"
   },
   {
    "duration": 9,
    "start_time": "2022-05-15T12:46:15.674Z"
   },
   {
    "duration": 43,
    "start_time": "2022-05-15T12:46:15.686Z"
   },
   {
    "duration": 49,
    "start_time": "2022-05-15T12:46:15.731Z"
   },
   {
    "duration": 8,
    "start_time": "2022-05-15T12:46:15.783Z"
   },
   {
    "duration": 8,
    "start_time": "2022-05-15T12:46:15.826Z"
   },
   {
    "duration": 15,
    "start_time": "2022-05-15T12:46:15.837Z"
   },
   {
    "duration": 36,
    "start_time": "2022-05-15T12:46:15.854Z"
   },
   {
    "duration": 62,
    "start_time": "2022-05-15T12:46:15.926Z"
   },
   {
    "duration": 136,
    "start_time": "2022-05-15T12:46:15.991Z"
   },
   {
    "duration": 291,
    "start_time": "2022-05-15T12:46:16.130Z"
   },
   {
    "duration": 12,
    "start_time": "2022-05-15T12:46:16.424Z"
   },
   {
    "duration": 592,
    "start_time": "2022-05-15T12:46:16.438Z"
   },
   {
    "duration": 13,
    "start_time": "2022-05-15T12:46:17.033Z"
   },
   {
    "duration": 565,
    "start_time": "2022-05-15T12:46:17.048Z"
   },
   {
    "duration": 961,
    "start_time": "2022-05-15T12:46:17.615Z"
   },
   {
    "duration": 451,
    "start_time": "2022-05-15T12:46:18.578Z"
   },
   {
    "duration": 18,
    "start_time": "2022-05-15T12:46:19.032Z"
   },
   {
    "duration": 615,
    "start_time": "2022-05-15T12:46:19.053Z"
   },
   {
    "duration": 70,
    "start_time": "2022-05-15T12:46:19.671Z"
   },
   {
    "duration": 6,
    "start_time": "2022-05-15T12:46:19.743Z"
   },
   {
    "duration": 38,
    "start_time": "2022-05-15T12:46:19.752Z"
   },
   {
    "duration": 64,
    "start_time": "2022-05-15T12:46:19.793Z"
   },
   {
    "duration": 29,
    "start_time": "2022-05-15T12:46:19.859Z"
   },
   {
    "duration": 59,
    "start_time": "2022-05-15T12:46:19.890Z"
   },
   {
    "duration": 36,
    "start_time": "2022-05-15T12:46:19.952Z"
   },
   {
    "duration": 42,
    "start_time": "2022-05-15T12:46:19.991Z"
   },
   {
    "duration": 15,
    "start_time": "2022-05-15T12:46:20.036Z"
   },
   {
    "duration": 24,
    "start_time": "2022-05-15T12:46:20.058Z"
   },
   {
    "duration": 50,
    "start_time": "2022-05-15T12:46:20.085Z"
   },
   {
    "duration": 45,
    "start_time": "2022-05-15T12:46:20.138Z"
   },
   {
    "duration": 20,
    "start_time": "2022-05-15T12:46:20.186Z"
   },
   {
    "duration": 21,
    "start_time": "2022-05-15T12:46:20.209Z"
   },
   {
    "duration": 22,
    "start_time": "2022-05-15T12:46:20.232Z"
   },
   {
    "duration": 32,
    "start_time": "2022-05-15T12:46:20.257Z"
   },
   {
    "duration": 13,
    "start_time": "2022-05-15T12:58:03.602Z"
   },
   {
    "duration": 72,
    "start_time": "2022-05-15T14:31:55.976Z"
   },
   {
    "duration": 2401,
    "start_time": "2022-05-15T14:32:00.681Z"
   },
   {
    "duration": 53,
    "start_time": "2022-05-15T14:32:03.085Z"
   },
   {
    "duration": 40,
    "start_time": "2022-05-15T14:32:03.141Z"
   },
   {
    "duration": 22,
    "start_time": "2022-05-15T14:32:03.185Z"
   },
   {
    "duration": 44,
    "start_time": "2022-05-15T14:32:03.209Z"
   },
   {
    "duration": 40,
    "start_time": "2022-05-15T14:32:03.256Z"
   },
   {
    "duration": 50,
    "start_time": "2022-05-15T14:32:03.299Z"
   },
   {
    "duration": 51,
    "start_time": "2022-05-15T14:32:03.352Z"
   },
   {
    "duration": 29,
    "start_time": "2022-05-15T14:32:03.406Z"
   },
   {
    "duration": 42,
    "start_time": "2022-05-15T14:32:03.441Z"
   },
   {
    "duration": 32,
    "start_time": "2022-05-15T14:32:03.486Z"
   },
   {
    "duration": 76,
    "start_time": "2022-05-15T14:32:03.521Z"
   },
   {
    "duration": 17,
    "start_time": "2022-05-15T14:32:03.600Z"
   },
   {
    "duration": 70,
    "start_time": "2022-05-15T14:32:03.619Z"
   },
   {
    "duration": 12,
    "start_time": "2022-05-15T14:32:03.692Z"
   },
   {
    "duration": 15,
    "start_time": "2022-05-15T14:32:03.707Z"
   },
   {
    "duration": 66,
    "start_time": "2022-05-15T14:32:03.724Z"
   },
   {
    "duration": 5,
    "start_time": "2022-05-15T14:32:03.793Z"
   },
   {
    "duration": 9,
    "start_time": "2022-05-15T14:32:03.801Z"
   },
   {
    "duration": 9,
    "start_time": "2022-05-15T14:32:03.813Z"
   },
   {
    "duration": 58,
    "start_time": "2022-05-15T14:32:03.824Z"
   },
   {
    "duration": 38,
    "start_time": "2022-05-15T14:32:03.884Z"
   },
   {
    "duration": 125,
    "start_time": "2022-05-15T14:32:03.925Z"
   },
   {
    "duration": 306,
    "start_time": "2022-05-15T14:32:04.053Z"
   },
   {
    "duration": 24,
    "start_time": "2022-05-15T14:32:04.361Z"
   },
   {
    "duration": 554,
    "start_time": "2022-05-15T14:32:04.388Z"
   },
   {
    "duration": 12,
    "start_time": "2022-05-15T14:32:04.945Z"
   },
   {
    "duration": 433,
    "start_time": "2022-05-15T14:32:04.963Z"
   },
   {
    "duration": 1290,
    "start_time": "2022-05-15T14:32:05.399Z"
   },
   {
    "duration": 634,
    "start_time": "2022-05-15T14:32:06.691Z"
   },
   {
    "duration": 19,
    "start_time": "2022-05-15T14:32:07.327Z"
   },
   {
    "duration": 648,
    "start_time": "2022-05-15T14:32:07.349Z"
   },
   {
    "duration": 42,
    "start_time": "2022-05-15T14:32:08.000Z"
   },
   {
    "duration": 4,
    "start_time": "2022-05-15T14:32:08.044Z"
   },
   {
    "duration": 36,
    "start_time": "2022-05-15T14:32:08.082Z"
   },
   {
    "duration": 32,
    "start_time": "2022-05-15T14:32:08.120Z"
   },
   {
    "duration": 30,
    "start_time": "2022-05-15T14:32:08.181Z"
   },
   {
    "duration": 75,
    "start_time": "2022-05-15T14:32:08.214Z"
   },
   {
    "duration": 47,
    "start_time": "2022-05-15T14:32:08.292Z"
   },
   {
    "duration": 11,
    "start_time": "2022-05-15T14:32:08.342Z"
   },
   {
    "duration": 17,
    "start_time": "2022-05-15T14:32:08.382Z"
   },
   {
    "duration": 6,
    "start_time": "2022-05-15T14:32:08.401Z"
   },
   {
    "duration": 18,
    "start_time": "2022-05-15T14:32:08.409Z"
   },
   {
    "duration": 60,
    "start_time": "2022-05-15T14:32:08.430Z"
   },
   {
    "duration": 16,
    "start_time": "2022-05-15T14:32:08.493Z"
   },
   {
    "duration": 16,
    "start_time": "2022-05-15T14:32:08.512Z"
   },
   {
    "duration": 19,
    "start_time": "2022-05-15T14:32:08.530Z"
   },
   {
    "duration": 43,
    "start_time": "2022-05-15T14:32:08.552Z"
   },
   {
    "duration": 33,
    "start_time": "2022-05-15T14:32:08.597Z"
   },
   {
    "duration": 35,
    "start_time": "2022-05-15T14:33:11.452Z"
   },
   {
    "duration": 21,
    "start_time": "2022-05-15T14:33:17.284Z"
   },
   {
    "duration": 49,
    "start_time": "2022-05-15T14:34:02.740Z"
   },
   {
    "duration": 18,
    "start_time": "2022-05-15T14:34:08.604Z"
   },
   {
    "duration": 29,
    "start_time": "2022-05-15T14:34:39.076Z"
   },
   {
    "duration": 96,
    "start_time": "2022-05-15T14:35:40.183Z"
   },
   {
    "duration": 31,
    "start_time": "2022-05-15T14:35:44.521Z"
   },
   {
    "duration": 2345,
    "start_time": "2022-05-15T14:36:00.832Z"
   },
   {
    "duration": 30,
    "start_time": "2022-05-15T14:36:12.721Z"
   },
   {
    "duration": 30,
    "start_time": "2022-05-15T14:36:24.899Z"
   },
   {
    "duration": 17,
    "start_time": "2022-05-15T14:38:18.692Z"
   },
   {
    "duration": 28,
    "start_time": "2022-05-15T14:38:24.799Z"
   },
   {
    "duration": 28,
    "start_time": "2022-05-15T14:38:33.062Z"
   },
   {
    "duration": 31,
    "start_time": "2022-05-15T14:39:00.372Z"
   },
   {
    "duration": 32,
    "start_time": "2022-05-15T14:39:10.893Z"
   },
   {
    "duration": 29,
    "start_time": "2022-05-15T14:40:02.413Z"
   },
   {
    "duration": 30,
    "start_time": "2022-05-15T14:40:06.504Z"
   },
   {
    "duration": 1315,
    "start_time": "2022-05-16T08:59:19.708Z"
   },
   {
    "duration": 56,
    "start_time": "2022-05-16T08:59:21.025Z"
   },
   {
    "duration": 16,
    "start_time": "2022-05-16T08:59:21.082Z"
   },
   {
    "duration": 12,
    "start_time": "2022-05-16T08:59:21.100Z"
   },
   {
    "duration": 23,
    "start_time": "2022-05-16T08:59:21.113Z"
   },
   {
    "duration": 29,
    "start_time": "2022-05-16T08:59:21.137Z"
   },
   {
    "duration": 19,
    "start_time": "2022-05-16T08:59:21.168Z"
   },
   {
    "duration": 12,
    "start_time": "2022-05-16T08:59:21.188Z"
   },
   {
    "duration": 15,
    "start_time": "2022-05-16T08:59:21.201Z"
   },
   {
    "duration": 9,
    "start_time": "2022-05-16T08:59:21.218Z"
   },
   {
    "duration": 35,
    "start_time": "2022-05-16T08:59:21.229Z"
   },
   {
    "duration": 10,
    "start_time": "2022-05-16T08:59:21.265Z"
   },
   {
    "duration": 21,
    "start_time": "2022-05-16T08:59:21.277Z"
   },
   {
    "duration": 6,
    "start_time": "2022-05-16T08:59:21.299Z"
   },
   {
    "duration": 12,
    "start_time": "2022-05-16T08:59:21.306Z"
   },
   {
    "duration": 18,
    "start_time": "2022-05-16T08:59:21.319Z"
   },
   {
    "duration": 4,
    "start_time": "2022-05-16T08:59:21.364Z"
   },
   {
    "duration": 7,
    "start_time": "2022-05-16T08:59:21.369Z"
   },
   {
    "duration": 8,
    "start_time": "2022-05-16T08:59:21.377Z"
   },
   {
    "duration": 15,
    "start_time": "2022-05-16T08:59:21.387Z"
   },
   {
    "duration": 22,
    "start_time": "2022-05-16T08:59:21.403Z"
   },
   {
    "duration": 87,
    "start_time": "2022-05-16T08:59:21.426Z"
   },
   {
    "duration": 261,
    "start_time": "2022-05-16T08:59:21.515Z"
   },
   {
    "duration": 8,
    "start_time": "2022-05-16T08:59:21.777Z"
   },
   {
    "duration": 302,
    "start_time": "2022-05-16T08:59:21.786Z"
   },
   {
    "duration": 8,
    "start_time": "2022-05-16T08:59:22.090Z"
   },
   {
    "duration": 226,
    "start_time": "2022-05-16T08:59:22.099Z"
   },
   {
    "duration": 431,
    "start_time": "2022-05-16T08:59:22.329Z"
   },
   {
    "duration": 235,
    "start_time": "2022-05-16T08:59:22.763Z"
   },
   {
    "duration": 9,
    "start_time": "2022-05-16T08:59:22.999Z"
   },
   {
    "duration": 282,
    "start_time": "2022-05-16T08:59:23.010Z"
   },
   {
    "duration": 24,
    "start_time": "2022-05-16T08:59:23.294Z"
   },
   {
    "duration": 2,
    "start_time": "2022-05-16T08:59:23.320Z"
   },
   {
    "duration": 42,
    "start_time": "2022-05-16T08:59:23.323Z"
   },
   {
    "duration": 17,
    "start_time": "2022-05-16T08:59:23.366Z"
   },
   {
    "duration": 18,
    "start_time": "2022-05-16T08:59:23.385Z"
   },
   {
    "duration": 19,
    "start_time": "2022-05-16T08:59:23.405Z"
   },
   {
    "duration": 46,
    "start_time": "2022-05-16T08:59:23.426Z"
   },
   {
    "duration": 5,
    "start_time": "2022-05-16T08:59:23.474Z"
   },
   {
    "duration": 14,
    "start_time": "2022-05-16T08:59:23.480Z"
   },
   {
    "duration": 2,
    "start_time": "2022-05-16T08:59:23.496Z"
   },
   {
    "duration": 16,
    "start_time": "2022-05-16T08:59:23.500Z"
   },
   {
    "duration": 10,
    "start_time": "2022-05-16T08:59:23.518Z"
   },
   {
    "duration": 22,
    "start_time": "2022-05-16T08:59:23.530Z"
   },
   {
    "duration": 8,
    "start_time": "2022-05-16T08:59:23.563Z"
   },
   {
    "duration": 12,
    "start_time": "2022-05-16T08:59:23.572Z"
   },
   {
    "duration": 13,
    "start_time": "2022-05-16T08:59:23.585Z"
   },
   {
    "duration": 19,
    "start_time": "2022-05-16T08:59:23.599Z"
   },
   {
    "duration": 96,
    "start_time": "2022-05-16T09:00:36.732Z"
   },
   {
    "duration": 11,
    "start_time": "2022-05-16T09:00:40.490Z"
   },
   {
    "duration": 28,
    "start_time": "2022-05-16T09:00:57.665Z"
   },
   {
    "duration": 21,
    "start_time": "2022-05-16T09:01:08.265Z"
   },
   {
    "duration": 13,
    "start_time": "2022-05-16T09:01:23.229Z"
   },
   {
    "duration": 19,
    "start_time": "2022-05-16T09:01:29.252Z"
   },
   {
    "duration": 18,
    "start_time": "2022-05-16T09:02:09.733Z"
   },
   {
    "duration": 4,
    "start_time": "2022-05-16T09:02:48.438Z"
   },
   {
    "duration": 29,
    "start_time": "2022-05-16T09:02:52.262Z"
   },
   {
    "duration": 25,
    "start_time": "2022-05-16T09:02:59.549Z"
   },
   {
    "duration": 10,
    "start_time": "2022-05-16T09:03:14.287Z"
   },
   {
    "duration": 1091,
    "start_time": "2022-05-16T09:09:20.901Z"
   },
   {
    "duration": 51,
    "start_time": "2022-05-16T09:09:21.994Z"
   },
   {
    "duration": 16,
    "start_time": "2022-05-16T09:09:22.047Z"
   },
   {
    "duration": 16,
    "start_time": "2022-05-16T09:09:22.065Z"
   },
   {
    "duration": 24,
    "start_time": "2022-05-16T09:09:22.083Z"
   },
   {
    "duration": 8,
    "start_time": "2022-05-16T09:09:22.108Z"
   },
   {
    "duration": 19,
    "start_time": "2022-05-16T09:09:22.117Z"
   },
   {
    "duration": 33,
    "start_time": "2022-05-16T09:09:22.137Z"
   },
   {
    "duration": 15,
    "start_time": "2022-05-16T09:09:22.171Z"
   },
   {
    "duration": 10,
    "start_time": "2022-05-16T09:09:22.189Z"
   },
   {
    "duration": 15,
    "start_time": "2022-05-16T09:09:22.200Z"
   },
   {
    "duration": 12,
    "start_time": "2022-05-16T09:09:22.216Z"
   },
   {
    "duration": 52,
    "start_time": "2022-05-16T09:09:22.230Z"
   },
   {
    "duration": 7,
    "start_time": "2022-05-16T09:09:22.283Z"
   },
   {
    "duration": 18,
    "start_time": "2022-05-16T09:09:22.292Z"
   },
   {
    "duration": 24,
    "start_time": "2022-05-16T09:09:22.311Z"
   },
   {
    "duration": 4,
    "start_time": "2022-05-16T09:09:22.336Z"
   },
   {
    "duration": 8,
    "start_time": "2022-05-16T09:09:22.342Z"
   },
   {
    "duration": 23,
    "start_time": "2022-05-16T09:09:22.352Z"
   },
   {
    "duration": 6,
    "start_time": "2022-05-16T09:09:22.377Z"
   },
   {
    "duration": 17,
    "start_time": "2022-05-16T09:09:22.384Z"
   },
   {
    "duration": 21,
    "start_time": "2022-05-16T09:09:22.402Z"
   },
   {
    "duration": 96,
    "start_time": "2022-05-16T09:09:22.425Z"
   },
   {
    "duration": 261,
    "start_time": "2022-05-16T09:09:22.522Z"
   },
   {
    "duration": 7,
    "start_time": "2022-05-16T09:09:22.784Z"
   },
   {
    "duration": 311,
    "start_time": "2022-05-16T09:09:22.793Z"
   },
   {
    "duration": 8,
    "start_time": "2022-05-16T09:09:23.106Z"
   },
   {
    "duration": 225,
    "start_time": "2022-05-16T09:09:23.118Z"
   },
   {
    "duration": 442,
    "start_time": "2022-05-16T09:09:23.344Z"
   },
   {
    "duration": 244,
    "start_time": "2022-05-16T09:09:23.788Z"
   },
   {
    "duration": 9,
    "start_time": "2022-05-16T09:09:24.034Z"
   },
   {
    "duration": 276,
    "start_time": "2022-05-16T09:09:24.044Z"
   },
   {
    "duration": 23,
    "start_time": "2022-05-16T09:09:24.322Z"
   },
   {
    "duration": 2,
    "start_time": "2022-05-16T09:09:24.347Z"
   },
   {
    "duration": 21,
    "start_time": "2022-05-16T09:09:24.364Z"
   },
   {
    "duration": 31,
    "start_time": "2022-05-16T09:09:24.387Z"
   },
   {
    "duration": 18,
    "start_time": "2022-05-16T09:09:24.419Z"
   },
   {
    "duration": 30,
    "start_time": "2022-05-16T09:09:24.439Z"
   },
   {
    "duration": 19,
    "start_time": "2022-05-16T09:09:24.470Z"
   },
   {
    "duration": 4,
    "start_time": "2022-05-16T09:09:24.491Z"
   },
   {
    "duration": 11,
    "start_time": "2022-05-16T09:09:24.497Z"
   },
   {
    "duration": 2,
    "start_time": "2022-05-16T09:09:24.509Z"
   },
   {
    "duration": 11,
    "start_time": "2022-05-16T09:09:24.513Z"
   },
   {
    "duration": 43,
    "start_time": "2022-05-16T09:09:24.525Z"
   },
   {
    "duration": 7,
    "start_time": "2022-05-16T09:09:24.570Z"
   },
   {
    "duration": 19,
    "start_time": "2022-05-16T09:09:24.578Z"
   },
   {
    "duration": 12,
    "start_time": "2022-05-16T09:09:24.598Z"
   },
   {
    "duration": 13,
    "start_time": "2022-05-16T09:09:24.612Z"
   },
   {
    "duration": 22,
    "start_time": "2022-05-16T09:09:24.627Z"
   },
   {
    "duration": 100,
    "start_time": "2022-05-16T09:16:20.199Z"
   },
   {
    "duration": 1129,
    "start_time": "2022-05-16T09:16:37.862Z"
   },
   {
    "duration": 39,
    "start_time": "2022-05-16T09:16:38.993Z"
   },
   {
    "duration": 17,
    "start_time": "2022-05-16T09:16:39.034Z"
   },
   {
    "duration": 21,
    "start_time": "2022-05-16T09:16:39.054Z"
   },
   {
    "duration": 25,
    "start_time": "2022-05-16T09:16:39.077Z"
   },
   {
    "duration": 9,
    "start_time": "2022-05-16T09:16:39.104Z"
   },
   {
    "duration": 19,
    "start_time": "2022-05-16T09:16:39.114Z"
   },
   {
    "duration": 41,
    "start_time": "2022-05-16T09:16:39.134Z"
   },
   {
    "duration": 14,
    "start_time": "2022-05-16T09:16:39.177Z"
   },
   {
    "duration": 11,
    "start_time": "2022-05-16T09:16:39.193Z"
   },
   {
    "duration": 14,
    "start_time": "2022-05-16T09:16:39.205Z"
   },
   {
    "duration": 13,
    "start_time": "2022-05-16T09:16:39.221Z"
   },
   {
    "duration": 44,
    "start_time": "2022-05-16T09:16:39.235Z"
   },
   {
    "duration": 6,
    "start_time": "2022-05-16T09:16:39.280Z"
   },
   {
    "duration": 18,
    "start_time": "2022-05-16T09:16:39.287Z"
   },
   {
    "duration": 19,
    "start_time": "2022-05-16T09:16:39.306Z"
   },
   {
    "duration": 4,
    "start_time": "2022-05-16T09:16:39.327Z"
   },
   {
    "duration": 8,
    "start_time": "2022-05-16T09:16:39.333Z"
   },
   {
    "duration": 24,
    "start_time": "2022-05-16T09:16:39.342Z"
   },
   {
    "duration": 19,
    "start_time": "2022-05-16T09:16:39.368Z"
   },
   {
    "duration": 6,
    "start_time": "2022-05-16T09:16:39.389Z"
   },
   {
    "duration": 22,
    "start_time": "2022-05-16T09:16:39.396Z"
   },
   {
    "duration": 26,
    "start_time": "2022-05-16T09:16:39.420Z"
   },
   {
    "duration": 68,
    "start_time": "2022-05-16T09:16:39.463Z"
   },
   {
    "duration": 161,
    "start_time": "2022-05-16T09:16:39.532Z"
   },
   {
    "duration": 8,
    "start_time": "2022-05-16T09:16:39.695Z"
   },
   {
    "duration": 317,
    "start_time": "2022-05-16T09:16:39.704Z"
   },
   {
    "duration": 9,
    "start_time": "2022-05-16T09:16:40.025Z"
   },
   {
    "duration": 220,
    "start_time": "2022-05-16T09:16:40.035Z"
   },
   {
    "duration": 424,
    "start_time": "2022-05-16T09:16:40.257Z"
   },
   {
    "duration": 232,
    "start_time": "2022-05-16T09:16:40.682Z"
   },
   {
    "duration": 8,
    "start_time": "2022-05-16T09:16:40.916Z"
   },
   {
    "duration": 275,
    "start_time": "2022-05-16T09:16:40.926Z"
   },
   {
    "duration": 23,
    "start_time": "2022-05-16T09:16:41.202Z"
   },
   {
    "duration": 2,
    "start_time": "2022-05-16T09:16:41.226Z"
   },
   {
    "duration": 41,
    "start_time": "2022-05-16T09:16:41.230Z"
   },
   {
    "duration": 17,
    "start_time": "2022-05-16T09:16:41.272Z"
   },
   {
    "duration": 17,
    "start_time": "2022-05-16T09:16:41.290Z"
   },
   {
    "duration": 17,
    "start_time": "2022-05-16T09:16:41.308Z"
   },
   {
    "duration": 48,
    "start_time": "2022-05-16T09:16:41.326Z"
   },
   {
    "duration": 7,
    "start_time": "2022-05-16T09:16:41.375Z"
   },
   {
    "duration": 16,
    "start_time": "2022-05-16T09:16:41.383Z"
   },
   {
    "duration": 3,
    "start_time": "2022-05-16T09:16:41.400Z"
   },
   {
    "duration": 12,
    "start_time": "2022-05-16T09:16:41.405Z"
   },
   {
    "duration": 20,
    "start_time": "2022-05-16T09:16:41.419Z"
   },
   {
    "duration": 25,
    "start_time": "2022-05-16T09:16:41.441Z"
   },
   {
    "duration": 12,
    "start_time": "2022-05-16T09:16:41.468Z"
   },
   {
    "duration": 18,
    "start_time": "2022-05-16T09:16:41.481Z"
   },
   {
    "duration": 17,
    "start_time": "2022-05-16T09:16:41.501Z"
   },
   {
    "duration": 20,
    "start_time": "2022-05-16T09:16:41.520Z"
   },
   {
    "duration": 16,
    "start_time": "2022-05-16T09:18:34.763Z"
   },
   {
    "duration": 23,
    "start_time": "2022-05-16T09:18:58.364Z"
   },
   {
    "duration": 64,
    "start_time": "2022-05-16T09:21:17.302Z"
   },
   {
    "duration": 10,
    "start_time": "2022-05-16T09:21:48.520Z"
   },
   {
    "duration": 4,
    "start_time": "2022-05-16T09:21:53.199Z"
   },
   {
    "duration": 9,
    "start_time": "2022-05-16T09:22:28.272Z"
   },
   {
    "duration": 70,
    "start_time": "2022-05-16T09:25:17.970Z"
   },
   {
    "duration": 543,
    "start_time": "2022-05-16T09:32:40.267Z"
   },
   {
    "duration": 659,
    "start_time": "2022-05-16T09:32:47.321Z"
   },
   {
    "duration": 555,
    "start_time": "2022-05-16T09:33:05.768Z"
   },
   {
    "duration": 452,
    "start_time": "2022-05-16T09:33:13.420Z"
   },
   {
    "duration": 669,
    "start_time": "2022-05-16T09:33:30.160Z"
   },
   {
    "duration": 193,
    "start_time": "2022-05-16T09:34:13.556Z"
   },
   {
    "duration": 203,
    "start_time": "2022-05-16T09:34:23.813Z"
   },
   {
    "duration": 959,
    "start_time": "2022-05-16T09:34:29.501Z"
   },
   {
    "duration": 542,
    "start_time": "2022-05-16T09:34:37.747Z"
   },
   {
    "duration": 643,
    "start_time": "2022-05-16T09:34:44.034Z"
   },
   {
    "duration": 236,
    "start_time": "2022-05-16T09:35:19.198Z"
   },
   {
    "duration": 232,
    "start_time": "2022-05-16T09:35:30.052Z"
   },
   {
    "duration": 222,
    "start_time": "2022-05-16T09:35:40.546Z"
   },
   {
    "duration": 248,
    "start_time": "2022-05-16T09:36:27.412Z"
   },
   {
    "duration": 661,
    "start_time": "2022-05-16T09:36:41.448Z"
   },
   {
    "duration": 533,
    "start_time": "2022-05-16T09:36:51.035Z"
   },
   {
    "duration": 542,
    "start_time": "2022-05-16T09:37:03.943Z"
   },
   {
    "duration": 527,
    "start_time": "2022-05-16T09:37:14.453Z"
   },
   {
    "duration": 594,
    "start_time": "2022-05-16T09:40:49.232Z"
   },
   {
    "duration": 174,
    "start_time": "2022-05-16T09:42:00.828Z"
   },
   {
    "duration": 189,
    "start_time": "2022-05-16T09:42:29.363Z"
   },
   {
    "duration": 590,
    "start_time": "2022-05-16T09:42:39.690Z"
   },
   {
    "duration": 195,
    "start_time": "2022-05-16T09:44:27.655Z"
   },
   {
    "duration": 195,
    "start_time": "2022-05-16T09:44:37.096Z"
   },
   {
    "duration": 388,
    "start_time": "2022-05-16T09:44:46.743Z"
   },
   {
    "duration": 390,
    "start_time": "2022-05-16T09:45:35.633Z"
   },
   {
    "duration": 169,
    "start_time": "2022-05-16T09:46:31.399Z"
   },
   {
    "duration": 357,
    "start_time": "2022-05-16T09:46:37.844Z"
   },
   {
    "duration": 22,
    "start_time": "2022-05-16T09:47:18.288Z"
   },
   {
    "duration": 9,
    "start_time": "2022-05-16T09:47:31.569Z"
   },
   {
    "duration": 17,
    "start_time": "2022-05-16T09:47:36.412Z"
   },
   {
    "duration": 747,
    "start_time": "2022-05-16T09:48:06.303Z"
   },
   {
    "duration": 661,
    "start_time": "2022-05-16T09:48:19.772Z"
   },
   {
    "duration": 535,
    "start_time": "2022-05-16T09:48:26.280Z"
   },
   {
    "duration": 9,
    "start_time": "2022-05-16T09:59:08.703Z"
   },
   {
    "duration": 240,
    "start_time": "2022-05-16T09:59:15.564Z"
   },
   {
    "duration": 273,
    "start_time": "2022-05-16T10:00:11.225Z"
   },
   {
    "duration": 239,
    "start_time": "2022-05-16T10:00:20.448Z"
   },
   {
    "duration": 242,
    "start_time": "2022-05-16T10:00:44.798Z"
   },
   {
    "duration": 547,
    "start_time": "2022-05-16T10:09:08.569Z"
   },
   {
    "duration": 227,
    "start_time": "2022-05-16T10:16:17.524Z"
   },
   {
    "duration": 589,
    "start_time": "2022-05-16T10:16:51.144Z"
   },
   {
    "duration": 804,
    "start_time": "2022-05-16T10:17:36.609Z"
   },
   {
    "duration": 570,
    "start_time": "2022-05-16T10:18:17.522Z"
   },
   {
    "duration": 850,
    "start_time": "2022-05-16T10:20:27.482Z"
   },
   {
    "duration": 426,
    "start_time": "2022-05-16T10:21:27.854Z"
   },
   {
    "duration": 258,
    "start_time": "2022-05-16T10:21:35.341Z"
   },
   {
    "duration": 555,
    "start_time": "2022-05-16T10:21:44.825Z"
   },
   {
    "duration": 636,
    "start_time": "2022-05-16T10:22:17.208Z"
   },
   {
    "duration": 680,
    "start_time": "2022-05-16T10:22:51.873Z"
   },
   {
    "duration": 561,
    "start_time": "2022-05-16T10:23:00.277Z"
   },
   {
    "duration": 197,
    "start_time": "2022-05-16T10:24:07.702Z"
   },
   {
    "duration": 739,
    "start_time": "2022-05-16T10:24:12.969Z"
   },
   {
    "duration": 573,
    "start_time": "2022-05-16T10:24:27.347Z"
   },
   {
    "duration": 592,
    "start_time": "2022-05-16T10:27:17.221Z"
   },
   {
    "duration": 198,
    "start_time": "2022-05-16T10:27:50.043Z"
   },
   {
    "duration": 843,
    "start_time": "2022-05-16T10:28:07.527Z"
   },
   {
    "duration": 580,
    "start_time": "2022-05-16T10:28:30.073Z"
   },
   {
    "duration": 534,
    "start_time": "2022-05-16T10:28:36.684Z"
   },
   {
    "duration": 556,
    "start_time": "2022-05-16T10:28:45.877Z"
   },
   {
    "duration": 545,
    "start_time": "2022-05-16T10:28:57.702Z"
   },
   {
    "duration": 3,
    "start_time": "2022-05-16T10:31:43.908Z"
   },
   {
    "duration": 222,
    "start_time": "2022-05-16T10:34:13.987Z"
   },
   {
    "duration": 4,
    "start_time": "2022-05-16T10:34:33.779Z"
   },
   {
    "duration": 4,
    "start_time": "2022-05-16T10:35:56.395Z"
   },
   {
    "duration": 253,
    "start_time": "2022-05-16T10:36:08.660Z"
   },
   {
    "duration": 4,
    "start_time": "2022-05-16T10:36:19.615Z"
   },
   {
    "duration": 10,
    "start_time": "2022-05-16T10:36:35.125Z"
   },
   {
    "duration": 198,
    "start_time": "2022-05-16T10:36:55.055Z"
   },
   {
    "duration": 3,
    "start_time": "2022-05-16T10:37:47.444Z"
   },
   {
    "duration": 176,
    "start_time": "2022-05-16T10:38:12.285Z"
   },
   {
    "duration": 208,
    "start_time": "2022-05-16T10:38:16.625Z"
   },
   {
    "duration": 469,
    "start_time": "2022-05-16T10:38:55.418Z"
   },
   {
    "duration": 203,
    "start_time": "2022-05-16T10:39:05.397Z"
   },
   {
    "duration": 4,
    "start_time": "2022-05-16T10:39:37.483Z"
   },
   {
    "duration": 241,
    "start_time": "2022-05-16T10:39:46.036Z"
   },
   {
    "duration": 265,
    "start_time": "2022-05-16T10:41:50.454Z"
   },
   {
    "duration": 5,
    "start_time": "2022-05-16T10:41:54.960Z"
   },
   {
    "duration": 159,
    "start_time": "2022-05-16T10:41:59.298Z"
   },
   {
    "duration": 4,
    "start_time": "2022-05-16T10:42:19.107Z"
   },
   {
    "duration": 158,
    "start_time": "2022-05-16T10:42:21.629Z"
   },
   {
    "duration": 4,
    "start_time": "2022-05-16T10:42:54.657Z"
   },
   {
    "duration": 213,
    "start_time": "2022-05-16T10:42:57.186Z"
   },
   {
    "duration": 9,
    "start_time": "2022-05-16T10:43:04.252Z"
   },
   {
    "duration": 564,
    "start_time": "2022-05-16T10:43:06.667Z"
   },
   {
    "duration": 239,
    "start_time": "2022-05-16T10:43:48.235Z"
   },
   {
    "duration": 4,
    "start_time": "2022-05-16T10:44:12.199Z"
   },
   {
    "duration": 151,
    "start_time": "2022-05-16T10:44:15.538Z"
   },
   {
    "duration": 4,
    "start_time": "2022-05-16T10:44:37.170Z"
   },
   {
    "duration": 211,
    "start_time": "2022-05-16T10:44:39.853Z"
   },
   {
    "duration": 234,
    "start_time": "2022-05-16T10:44:43.106Z"
   },
   {
    "duration": 553,
    "start_time": "2022-05-16T10:45:04.842Z"
   },
   {
    "duration": 561,
    "start_time": "2022-05-16T10:45:13.494Z"
   },
   {
    "duration": 560,
    "start_time": "2022-05-16T10:46:19.331Z"
   },
   {
    "duration": 2,
    "start_time": "2022-05-16T10:49:26.127Z"
   },
   {
    "duration": 193,
    "start_time": "2022-05-16T10:49:33.411Z"
   },
   {
    "duration": 4,
    "start_time": "2022-05-16T10:49:44.968Z"
   },
   {
    "duration": 4,
    "start_time": "2022-05-16T10:49:50.120Z"
   },
   {
    "duration": 5,
    "start_time": "2022-05-16T10:50:05.518Z"
   },
   {
    "duration": 793,
    "start_time": "2022-05-16T10:51:19.033Z"
   },
   {
    "duration": 520,
    "start_time": "2022-05-16T10:51:41.216Z"
   },
   {
    "duration": 762,
    "start_time": "2022-05-16T10:52:42.671Z"
   },
   {
    "duration": 149,
    "start_time": "2022-05-16T10:53:52.333Z"
   },
   {
    "duration": 621,
    "start_time": "2022-05-16T10:53:58.555Z"
   },
   {
    "duration": 620,
    "start_time": "2022-05-16T10:55:00.909Z"
   },
   {
    "duration": 618,
    "start_time": "2022-05-16T10:55:08.265Z"
   },
   {
    "duration": 192,
    "start_time": "2022-05-16T10:56:23.439Z"
   },
   {
    "duration": 187,
    "start_time": "2022-05-16T10:56:35.205Z"
   },
   {
    "duration": 5,
    "start_time": "2022-05-16T10:56:41.094Z"
   },
   {
    "duration": 5,
    "start_time": "2022-05-16T10:57:51.984Z"
   },
   {
    "duration": 261,
    "start_time": "2022-05-16T10:57:54.791Z"
   },
   {
    "duration": 152,
    "start_time": "2022-05-16T10:58:13.189Z"
   },
   {
    "duration": 5,
    "start_time": "2022-05-16T10:58:24.277Z"
   },
   {
    "duration": 227,
    "start_time": "2022-05-16T10:58:26.358Z"
   },
   {
    "duration": 13,
    "start_time": "2022-05-16T10:58:28.874Z"
   },
   {
    "duration": 998,
    "start_time": "2022-05-16T10:58:31.108Z"
   },
   {
    "duration": 700,
    "start_time": "2022-05-16T10:58:34.243Z"
   },
   {
    "duration": 497,
    "start_time": "2022-05-16T10:59:08.931Z"
   },
   {
    "duration": 485,
    "start_time": "2022-05-16T11:00:29.543Z"
   },
   {
    "duration": 518,
    "start_time": "2022-05-16T11:00:34.094Z"
   },
   {
    "duration": 5,
    "start_time": "2022-05-16T11:01:44.645Z"
   },
   {
    "duration": 213,
    "start_time": "2022-05-16T11:01:47.648Z"
   },
   {
    "duration": 541,
    "start_time": "2022-05-16T11:01:52.119Z"
   },
   {
    "duration": 490,
    "start_time": "2022-05-16T11:02:03.512Z"
   },
   {
    "duration": 758,
    "start_time": "2022-05-16T11:03:04.972Z"
   },
   {
    "duration": 529,
    "start_time": "2022-05-16T11:03:15.462Z"
   },
   {
    "duration": 498,
    "start_time": "2022-05-16T11:03:28.759Z"
   },
   {
    "duration": 504,
    "start_time": "2022-05-16T11:03:33.090Z"
   },
   {
    "duration": 5,
    "start_time": "2022-05-16T11:04:36.236Z"
   },
   {
    "duration": 588,
    "start_time": "2022-05-16T11:04:39.720Z"
   },
   {
    "duration": 534,
    "start_time": "2022-05-16T11:04:43.300Z"
   },
   {
    "duration": 569,
    "start_time": "2022-05-16T11:05:02.225Z"
   },
   {
    "duration": 1055,
    "start_time": "2022-05-16T11:06:00.821Z"
   },
   {
    "duration": 9,
    "start_time": "2022-05-16T11:06:11.255Z"
   },
   {
    "duration": 8,
    "start_time": "2022-05-16T11:06:20.587Z"
   },
   {
    "duration": 2198,
    "start_time": "2022-05-16T11:06:23.923Z"
   },
   {
    "duration": 634,
    "start_time": "2022-05-16T11:07:06.594Z"
   },
   {
    "duration": 247,
    "start_time": "2022-05-16T11:07:57.678Z"
   },
   {
    "duration": 622,
    "start_time": "2022-05-16T11:08:16.280Z"
   },
   {
    "duration": 4,
    "start_time": "2022-05-16T11:09:00.137Z"
   },
   {
    "duration": 647,
    "start_time": "2022-05-16T11:09:04.856Z"
   },
   {
    "duration": 1059,
    "start_time": "2022-05-16T11:09:08.874Z"
   },
   {
    "duration": 668,
    "start_time": "2022-05-16T11:09:17.699Z"
   },
   {
    "duration": 689,
    "start_time": "2022-05-16T11:09:23.086Z"
   },
   {
    "duration": 1247,
    "start_time": "2022-05-16T11:09:54.864Z"
   },
   {
    "duration": 1305,
    "start_time": "2022-05-16T11:10:08.508Z"
   },
   {
    "duration": 244,
    "start_time": "2022-05-16T11:10:23.832Z"
   },
   {
    "duration": 246,
    "start_time": "2022-05-16T11:10:33.260Z"
   },
   {
    "duration": 159,
    "start_time": "2022-05-16T11:16:16.382Z"
   },
   {
    "duration": 167,
    "start_time": "2022-05-16T11:16:26.281Z"
   },
   {
    "duration": 153,
    "start_time": "2022-05-16T11:16:43.774Z"
   },
   {
    "duration": 590,
    "start_time": "2022-05-16T11:16:55.147Z"
   },
   {
    "duration": 3,
    "start_time": "2022-05-16T11:20:59.092Z"
   },
   {
    "duration": 152,
    "start_time": "2022-05-16T11:21:10.497Z"
   },
   {
    "duration": 154,
    "start_time": "2022-05-16T11:21:25.404Z"
   },
   {
    "duration": 4,
    "start_time": "2022-05-16T11:21:34.891Z"
   },
   {
    "duration": 422,
    "start_time": "2022-05-16T11:21:37.586Z"
   },
   {
    "duration": 4,
    "start_time": "2022-05-16T11:21:51.307Z"
   },
   {
    "duration": 4,
    "start_time": "2022-05-16T11:22:04.630Z"
   },
   {
    "duration": 4,
    "start_time": "2022-05-16T11:22:09.750Z"
   },
   {
    "duration": 4,
    "start_time": "2022-05-16T11:22:23.399Z"
   },
   {
    "duration": 152,
    "start_time": "2022-05-16T11:22:26.185Z"
   },
   {
    "duration": 4,
    "start_time": "2022-05-16T11:22:36.931Z"
   },
   {
    "duration": 211,
    "start_time": "2022-05-16T11:22:39.698Z"
   },
   {
    "duration": 554,
    "start_time": "2022-05-16T11:23:14.229Z"
   },
   {
    "duration": 4,
    "start_time": "2022-05-16T11:23:25.816Z"
   },
   {
    "duration": 214,
    "start_time": "2022-05-16T11:23:28.182Z"
   },
   {
    "duration": 546,
    "start_time": "2022-05-16T11:23:35.368Z"
   },
   {
    "duration": 545,
    "start_time": "2022-05-16T11:23:40.327Z"
   },
   {
    "duration": 4,
    "start_time": "2022-05-16T11:24:55.174Z"
   },
   {
    "duration": 243,
    "start_time": "2022-05-16T11:24:57.805Z"
   },
   {
    "duration": 599,
    "start_time": "2022-05-16T11:25:02.231Z"
   },
   {
    "duration": 606,
    "start_time": "2022-05-16T11:25:06.787Z"
   },
   {
    "duration": 159,
    "start_time": "2022-05-16T11:25:13.501Z"
   },
   {
    "duration": 1032,
    "start_time": "2022-05-16T11:25:33.487Z"
   },
   {
    "duration": 8,
    "start_time": "2022-05-16T11:26:26.629Z"
   },
   {
    "duration": 17,
    "start_time": "2022-05-16T11:26:38.990Z"
   },
   {
    "duration": 21,
    "start_time": "2022-05-16T11:27:56.851Z"
   },
   {
    "duration": 15,
    "start_time": "2022-05-16T12:07:09.640Z"
   },
   {
    "duration": 3161,
    "start_time": "2022-05-16T12:07:27.893Z"
   },
   {
    "duration": 22,
    "start_time": "2022-05-16T12:07:45.493Z"
   },
   {
    "duration": 22,
    "start_time": "2022-05-16T12:07:57.098Z"
   },
   {
    "duration": 7,
    "start_time": "2022-05-16T12:12:04.674Z"
   },
   {
    "duration": 24,
    "start_time": "2022-05-16T12:12:25.457Z"
   },
   {
    "duration": 12,
    "start_time": "2022-05-16T12:12:40.455Z"
   },
   {
    "duration": 7,
    "start_time": "2022-05-16T12:12:50.705Z"
   },
   {
    "duration": 8,
    "start_time": "2022-05-16T12:13:01.091Z"
   },
   {
    "duration": 1594,
    "start_time": "2022-05-16T12:13:29.402Z"
   },
   {
    "duration": 35,
    "start_time": "2022-05-16T12:13:58.905Z"
   },
   {
    "duration": 3226,
    "start_time": "2022-05-16T12:14:07.659Z"
   },
   {
    "duration": 8,
    "start_time": "2022-05-16T12:14:33.295Z"
   },
   {
    "duration": 7,
    "start_time": "2022-05-16T12:14:38.743Z"
   },
   {
    "duration": 8,
    "start_time": "2022-05-16T12:14:41.912Z"
   },
   {
    "duration": 7,
    "start_time": "2022-05-16T12:14:44.684Z"
   },
   {
    "duration": 6,
    "start_time": "2022-05-16T12:15:00.340Z"
   },
   {
    "duration": 13,
    "start_time": "2022-05-16T12:15:06.825Z"
   },
   {
    "duration": 1202,
    "start_time": "2022-05-16T12:19:32.393Z"
   },
   {
    "duration": 39,
    "start_time": "2022-05-16T12:19:33.597Z"
   },
   {
    "duration": 15,
    "start_time": "2022-05-16T12:19:33.638Z"
   },
   {
    "duration": 12,
    "start_time": "2022-05-16T12:19:33.664Z"
   },
   {
    "duration": 23,
    "start_time": "2022-05-16T12:19:33.678Z"
   },
   {
    "duration": 8,
    "start_time": "2022-05-16T12:19:33.702Z"
   },
   {
    "duration": 53,
    "start_time": "2022-05-16T12:19:33.712Z"
   },
   {
    "duration": 19,
    "start_time": "2022-05-16T12:19:33.767Z"
   },
   {
    "duration": 22,
    "start_time": "2022-05-16T12:19:33.787Z"
   },
   {
    "duration": 15,
    "start_time": "2022-05-16T12:19:33.812Z"
   },
   {
    "duration": 36,
    "start_time": "2022-05-16T12:19:33.829Z"
   },
   {
    "duration": 11,
    "start_time": "2022-05-16T12:19:33.867Z"
   },
   {
    "duration": 22,
    "start_time": "2022-05-16T12:19:33.880Z"
   },
   {
    "duration": 5,
    "start_time": "2022-05-16T12:19:33.904Z"
   },
   {
    "duration": 19,
    "start_time": "2022-05-16T12:19:33.911Z"
   },
   {
    "duration": 33,
    "start_time": "2022-05-16T12:19:33.931Z"
   },
   {
    "duration": 4,
    "start_time": "2022-05-16T12:19:33.966Z"
   },
   {
    "duration": 9,
    "start_time": "2022-05-16T12:19:33.971Z"
   },
   {
    "duration": 15,
    "start_time": "2022-05-16T12:19:33.981Z"
   },
   {
    "duration": 8,
    "start_time": "2022-05-16T12:19:33.998Z"
   },
   {
    "duration": 6,
    "start_time": "2022-05-16T12:19:34.008Z"
   },
   {
    "duration": 24,
    "start_time": "2022-05-16T12:19:34.015Z"
   },
   {
    "duration": 37,
    "start_time": "2022-05-16T12:19:34.041Z"
   },
   {
    "duration": 64,
    "start_time": "2022-05-16T12:19:34.080Z"
   },
   {
    "duration": 152,
    "start_time": "2022-05-16T12:19:34.163Z"
   },
   {
    "duration": 8,
    "start_time": "2022-05-16T12:19:34.316Z"
   },
   {
    "duration": 322,
    "start_time": "2022-05-16T12:19:34.326Z"
   },
   {
    "duration": 9,
    "start_time": "2022-05-16T12:19:34.653Z"
   },
   {
    "duration": 232,
    "start_time": "2022-05-16T12:19:34.664Z"
   },
   {
    "duration": 690,
    "start_time": "2022-05-16T12:19:34.898Z"
   },
   {
    "duration": 4,
    "start_time": "2022-05-16T12:19:35.590Z"
   },
   {
    "duration": 255,
    "start_time": "2022-05-16T12:19:35.595Z"
   },
   {
    "duration": 13,
    "start_time": "2022-05-16T12:19:35.852Z"
   },
   {
    "duration": 625,
    "start_time": "2022-05-16T12:19:35.866Z"
   },
   {
    "duration": 799,
    "start_time": "2022-05-16T12:19:36.492Z"
   },
   {
    "duration": 19,
    "start_time": "2022-05-16T12:19:37.292Z"
   },
   {
    "duration": 32,
    "start_time": "2022-05-16T12:19:37.312Z"
   },
   {
    "duration": 3,
    "start_time": "2022-05-16T12:19:37.346Z"
   },
   {
    "duration": 113,
    "start_time": "2022-05-16T12:19:37.351Z"
   },
   {
    "duration": 18,
    "start_time": "2022-05-16T12:19:37.466Z"
   },
   {
    "duration": 20,
    "start_time": "2022-05-16T12:19:37.486Z"
   },
   {
    "duration": 20,
    "start_time": "2022-05-16T12:19:37.508Z"
   },
   {
    "duration": 40,
    "start_time": "2022-05-16T12:19:37.530Z"
   },
   {
    "duration": 5,
    "start_time": "2022-05-16T12:19:37.572Z"
   },
   {
    "duration": 9,
    "start_time": "2022-05-16T12:19:37.578Z"
   },
   {
    "duration": 2,
    "start_time": "2022-05-16T12:19:37.589Z"
   },
   {
    "duration": 16,
    "start_time": "2022-05-16T12:19:37.592Z"
   },
   {
    "duration": 16,
    "start_time": "2022-05-16T12:19:37.609Z"
   },
   {
    "duration": 10,
    "start_time": "2022-05-16T12:19:37.627Z"
   },
   {
    "duration": 26,
    "start_time": "2022-05-16T12:19:37.638Z"
   },
   {
    "duration": 9,
    "start_time": "2022-05-16T12:19:37.666Z"
   },
   {
    "duration": 12,
    "start_time": "2022-05-16T12:19:37.677Z"
   },
   {
    "duration": 20,
    "start_time": "2022-05-16T12:19:37.690Z"
   },
   {
    "duration": 101,
    "start_time": "2022-05-16T12:21:24.717Z"
   },
   {
    "duration": 90,
    "start_time": "2022-05-16T12:22:35.519Z"
   },
   {
    "duration": 516,
    "start_time": "2022-05-16T12:22:40.638Z"
   },
   {
    "duration": 178,
    "start_time": "2022-05-16T12:22:50.950Z"
   },
   {
    "duration": 671,
    "start_time": "2022-05-16T12:23:10.697Z"
   },
   {
    "duration": 252,
    "start_time": "2022-05-16T12:24:50.029Z"
   },
   {
    "duration": 559,
    "start_time": "2022-05-16T12:24:58.433Z"
   },
   {
    "duration": 421,
    "start_time": "2022-05-16T12:25:05.238Z"
   },
   {
    "duration": 18,
    "start_time": "2022-05-16T12:59:16.816Z"
   },
   {
    "duration": 21,
    "start_time": "2022-05-16T12:59:22.096Z"
   },
   {
    "duration": 18,
    "start_time": "2022-05-16T12:59:28.814Z"
   },
   {
    "duration": 0,
    "start_time": "2022-05-16T13:01:25.768Z"
   },
   {
    "duration": 18,
    "start_time": "2022-05-16T13:02:26.651Z"
   },
   {
    "duration": 357,
    "start_time": "2022-05-16T13:03:06.127Z"
   },
   {
    "duration": 255,
    "start_time": "2022-05-16T13:06:30.004Z"
   },
   {
    "duration": 256,
    "start_time": "2022-05-16T13:06:46.175Z"
   },
   {
    "duration": 254,
    "start_time": "2022-05-16T13:06:53.379Z"
   },
   {
    "duration": 268,
    "start_time": "2022-05-16T13:06:57.480Z"
   },
   {
    "duration": 277,
    "start_time": "2022-05-16T13:07:17.494Z"
   },
   {
    "duration": 207,
    "start_time": "2022-05-16T13:07:48.325Z"
   },
   {
    "duration": 112,
    "start_time": "2022-05-16T13:08:32.676Z"
   },
   {
    "duration": 112,
    "start_time": "2022-05-16T13:08:43.422Z"
   },
   {
    "duration": 127,
    "start_time": "2022-05-16T13:08:59.565Z"
   },
   {
    "duration": 129,
    "start_time": "2022-05-16T13:09:04.401Z"
   },
   {
    "duration": 21,
    "start_time": "2022-05-16T13:10:43.940Z"
   },
   {
    "duration": 23,
    "start_time": "2022-05-16T13:11:00.905Z"
   },
   {
    "duration": 21,
    "start_time": "2022-05-16T13:11:11.559Z"
   },
   {
    "duration": 198,
    "start_time": "2022-05-16T13:11:58.426Z"
   },
   {
    "duration": 18,
    "start_time": "2022-05-16T13:12:08.097Z"
   },
   {
    "duration": 26,
    "start_time": "2022-05-16T13:12:22.796Z"
   },
   {
    "duration": 201,
    "start_time": "2022-05-16T13:13:11.008Z"
   },
   {
    "duration": 27,
    "start_time": "2022-05-16T13:13:17.228Z"
   },
   {
    "duration": 27,
    "start_time": "2022-05-16T13:13:25.303Z"
   },
   {
    "duration": 208,
    "start_time": "2022-05-16T13:16:14.892Z"
   },
   {
    "duration": 25,
    "start_time": "2022-05-16T13:16:21.702Z"
   },
   {
    "duration": 27,
    "start_time": "2022-05-16T13:19:07.723Z"
   },
   {
    "duration": 28,
    "start_time": "2022-05-16T13:19:13.524Z"
   },
   {
    "duration": 29,
    "start_time": "2022-05-16T13:19:20.348Z"
   },
   {
    "duration": 28,
    "start_time": "2022-05-16T13:19:25.728Z"
   },
   {
    "duration": 46,
    "start_time": "2022-05-16T13:19:29.191Z"
   },
   {
    "duration": 29,
    "start_time": "2022-05-16T13:19:56.213Z"
   },
   {
    "duration": 32,
    "start_time": "2022-05-16T13:20:00.519Z"
   },
   {
    "duration": 29,
    "start_time": "2022-05-16T13:20:28.674Z"
   },
   {
    "duration": 31,
    "start_time": "2022-05-16T13:20:32.037Z"
   },
   {
    "duration": 30,
    "start_time": "2022-05-16T13:20:58.496Z"
   },
   {
    "duration": 27,
    "start_time": "2022-05-16T13:21:01.392Z"
   },
   {
    "duration": 30,
    "start_time": "2022-05-16T13:21:04.776Z"
   },
   {
    "duration": 129,
    "start_time": "2022-05-16T13:21:08.326Z"
   },
   {
    "duration": 15,
    "start_time": "2022-05-16T13:21:38.348Z"
   },
   {
    "duration": 20,
    "start_time": "2022-05-16T13:21:43.749Z"
   },
   {
    "duration": 19,
    "start_time": "2022-05-16T13:23:55.476Z"
   },
   {
    "duration": 8,
    "start_time": "2022-05-16T13:24:34.841Z"
   },
   {
    "duration": 8,
    "start_time": "2022-05-16T13:24:41.207Z"
   },
   {
    "duration": 10,
    "start_time": "2022-05-16T13:24:51.841Z"
   },
   {
    "duration": 5,
    "start_time": "2022-05-16T13:24:59.979Z"
   },
   {
    "duration": 8,
    "start_time": "2022-05-16T13:25:13.619Z"
   },
   {
    "duration": 89,
    "start_time": "2022-05-16T13:28:07.435Z"
   },
   {
    "duration": 92,
    "start_time": "2022-05-16T13:28:32.438Z"
   },
   {
    "duration": 9,
    "start_time": "2022-05-16T13:28:41.390Z"
   },
   {
    "duration": 185,
    "start_time": "2022-05-16T13:30:44.365Z"
   },
   {
    "duration": 30,
    "start_time": "2022-05-16T13:30:49.437Z"
   },
   {
    "duration": 27,
    "start_time": "2022-05-16T13:31:14.600Z"
   },
   {
    "duration": 19,
    "start_time": "2022-05-16T13:31:17.418Z"
   },
   {
    "duration": 91,
    "start_time": "2022-05-16T13:31:20.469Z"
   },
   {
    "duration": 11,
    "start_time": "2022-05-16T13:31:56.408Z"
   },
   {
    "duration": 1312,
    "start_time": "2022-05-16T13:32:03.532Z"
   },
   {
    "duration": 152,
    "start_time": "2022-05-16T13:32:22.213Z"
   },
   {
    "duration": 75,
    "start_time": "2022-05-16T13:32:30.728Z"
   },
   {
    "duration": 3,
    "start_time": "2022-05-16T13:41:03.447Z"
   },
   {
    "duration": 3,
    "start_time": "2022-05-16T13:41:10.588Z"
   },
   {
    "duration": 6,
    "start_time": "2022-05-16T13:41:24.585Z"
   },
   {
    "duration": 189,
    "start_time": "2022-05-16T13:41:36.793Z"
   },
   {
    "duration": 294,
    "start_time": "2022-05-16T13:41:44.379Z"
   },
   {
    "duration": 12,
    "start_time": "2022-05-16T13:41:48.358Z"
   },
   {
    "duration": 13,
    "start_time": "2022-05-16T13:41:58.428Z"
   },
   {
    "duration": 12,
    "start_time": "2022-05-16T13:42:11.712Z"
   },
   {
    "duration": 192,
    "start_time": "2022-05-16T13:43:53.736Z"
   },
   {
    "duration": 12,
    "start_time": "2022-05-16T13:44:02.752Z"
   },
   {
    "duration": 15,
    "start_time": "2022-05-16T13:44:17.626Z"
   },
   {
    "duration": 5255,
    "start_time": "2022-05-16T13:45:06.738Z"
   },
   {
    "duration": 10,
    "start_time": "2022-05-16T13:45:17.324Z"
   },
   {
    "duration": 21,
    "start_time": "2022-05-16T13:47:45.975Z"
   },
   {
    "duration": 7,
    "start_time": "2022-05-16T13:51:33.238Z"
   },
   {
    "duration": 9,
    "start_time": "2022-05-16T13:51:54.287Z"
   },
   {
    "duration": 26,
    "start_time": "2022-05-16T13:52:01.826Z"
   },
   {
    "duration": 20,
    "start_time": "2022-05-16T13:52:22.781Z"
   },
   {
    "duration": 43,
    "start_time": "2022-05-16T13:52:35.074Z"
   },
   {
    "duration": 209,
    "start_time": "2022-05-16T13:53:58.236Z"
   },
   {
    "duration": 237,
    "start_time": "2022-05-16T13:54:07.939Z"
   },
   {
    "duration": 33,
    "start_time": "2022-05-16T13:54:27.693Z"
   },
   {
    "duration": 209,
    "start_time": "2022-05-16T13:54:54.888Z"
   },
   {
    "duration": 4,
    "start_time": "2022-05-16T13:55:02.759Z"
   },
   {
    "duration": 29,
    "start_time": "2022-05-16T13:55:10.869Z"
   },
   {
    "duration": 29,
    "start_time": "2022-05-16T13:55:44.191Z"
   },
   {
    "duration": 29,
    "start_time": "2022-05-16T13:55:56.114Z"
   },
   {
    "duration": 3314,
    "start_time": "2022-05-16T13:56:43.269Z"
   },
   {
    "duration": 3596,
    "start_time": "2022-05-16T13:57:10.941Z"
   },
   {
    "duration": 17,
    "start_time": "2022-05-16T13:57:15.643Z"
   },
   {
    "duration": 18,
    "start_time": "2022-05-16T13:57:43.955Z"
   },
   {
    "duration": 18,
    "start_time": "2022-05-16T13:57:54.182Z"
   },
   {
    "duration": 25,
    "start_time": "2022-05-16T13:57:57.526Z"
   },
   {
    "duration": 30,
    "start_time": "2022-05-16T13:58:08.939Z"
   },
   {
    "duration": 24,
    "start_time": "2022-05-16T13:58:11.933Z"
   },
   {
    "duration": 20,
    "start_time": "2022-05-16T13:58:20.536Z"
   },
   {
    "duration": 16,
    "start_time": "2022-05-16T13:58:39.835Z"
   },
   {
    "duration": 20,
    "start_time": "2022-05-16T13:58:51.041Z"
   },
   {
    "duration": 17,
    "start_time": "2022-05-16T13:58:58.754Z"
   },
   {
    "duration": 19,
    "start_time": "2022-05-16T13:59:18.887Z"
   },
   {
    "duration": 3160,
    "start_time": "2022-05-16T13:59:36.577Z"
   },
   {
    "duration": 17,
    "start_time": "2022-05-16T13:59:54.639Z"
   },
   {
    "duration": 210,
    "start_time": "2022-05-16T14:00:11.477Z"
   },
   {
    "duration": 36,
    "start_time": "2022-05-16T14:00:21.795Z"
   },
   {
    "duration": 22,
    "start_time": "2022-05-16T14:00:40.725Z"
   },
   {
    "duration": 23,
    "start_time": "2022-05-16T14:01:00.622Z"
   },
   {
    "duration": 22,
    "start_time": "2022-05-16T14:01:05.203Z"
   },
   {
    "duration": 270,
    "start_time": "2022-05-16T14:01:28.635Z"
   },
   {
    "duration": 29,
    "start_time": "2022-05-16T14:02:20.637Z"
   },
   {
    "duration": 158,
    "start_time": "2022-05-16T14:03:08.244Z"
   },
   {
    "duration": 171,
    "start_time": "2022-05-16T14:03:21.004Z"
   },
   {
    "duration": 89,
    "start_time": "2022-05-16T14:03:39.519Z"
   },
   {
    "duration": 363,
    "start_time": "2022-05-16T14:04:15.271Z"
   },
   {
    "duration": 93,
    "start_time": "2022-05-16T14:04:56.758Z"
   },
   {
    "duration": 90,
    "start_time": "2022-05-16T14:05:20.215Z"
   },
   {
    "duration": 21,
    "start_time": "2022-05-16T14:08:53.532Z"
   },
   {
    "duration": 91,
    "start_time": "2022-05-16T14:09:01.004Z"
   },
   {
    "duration": 89,
    "start_time": "2022-05-16T14:09:08.052Z"
   },
   {
    "duration": 90,
    "start_time": "2022-05-16T14:09:41.037Z"
   },
   {
    "duration": 93,
    "start_time": "2022-05-16T14:09:46.398Z"
   },
   {
    "duration": 104,
    "start_time": "2022-05-16T14:09:52.045Z"
   },
   {
    "duration": 107,
    "start_time": "2022-05-16T14:09:55.470Z"
   },
   {
    "duration": 100,
    "start_time": "2022-05-16T14:10:51.041Z"
   },
   {
    "duration": 4,
    "start_time": "2022-05-16T14:15:00.397Z"
   },
   {
    "duration": 4,
    "start_time": "2022-05-16T14:15:07.557Z"
   },
   {
    "duration": 4,
    "start_time": "2022-05-16T14:15:14.783Z"
   },
   {
    "duration": 5,
    "start_time": "2022-05-16T14:15:19.406Z"
   },
   {
    "duration": 4,
    "start_time": "2022-05-16T14:15:22.995Z"
   },
   {
    "duration": 4,
    "start_time": "2022-05-16T14:15:27.605Z"
   },
   {
    "duration": 22,
    "start_time": "2022-05-16T14:15:47.147Z"
   },
   {
    "duration": 289,
    "start_time": "2022-05-16T14:15:55.923Z"
   },
   {
    "duration": 320,
    "start_time": "2022-05-16T14:16:05.036Z"
   },
   {
    "duration": 311,
    "start_time": "2022-05-16T14:16:28.189Z"
   },
   {
    "duration": 223,
    "start_time": "2022-05-16T14:16:49.844Z"
   },
   {
    "duration": 197,
    "start_time": "2022-05-16T14:16:54.881Z"
   },
   {
    "duration": 319,
    "start_time": "2022-05-16T14:17:02.238Z"
   },
   {
    "duration": 314,
    "start_time": "2022-05-16T14:17:10.333Z"
   },
   {
    "duration": 238,
    "start_time": "2022-05-16T14:17:49.776Z"
   },
   {
    "duration": 20,
    "start_time": "2022-05-16T14:18:03.367Z"
   },
   {
    "duration": 8,
    "start_time": "2022-05-16T14:18:33.828Z"
   },
   {
    "duration": 20,
    "start_time": "2022-05-16T14:18:39.159Z"
   },
   {
    "duration": 232,
    "start_time": "2022-05-16T14:18:43.245Z"
   },
   {
    "duration": 7,
    "start_time": "2022-05-16T14:19:19.321Z"
   },
   {
    "duration": 230,
    "start_time": "2022-05-16T14:19:22.366Z"
   },
   {
    "duration": 253,
    "start_time": "2022-05-16T14:20:59.959Z"
   },
   {
    "duration": 218,
    "start_time": "2022-05-16T14:23:38.697Z"
   },
   {
    "duration": 1102,
    "start_time": "2022-05-16T14:25:22.011Z"
   },
   {
    "duration": 42,
    "start_time": "2022-05-16T14:25:23.114Z"
   },
   {
    "duration": 18,
    "start_time": "2022-05-16T14:25:23.158Z"
   },
   {
    "duration": 16,
    "start_time": "2022-05-16T14:25:23.178Z"
   },
   {
    "duration": 30,
    "start_time": "2022-05-16T14:25:23.196Z"
   },
   {
    "duration": 37,
    "start_time": "2022-05-16T14:25:23.228Z"
   },
   {
    "duration": 22,
    "start_time": "2022-05-16T14:25:23.267Z"
   },
   {
    "duration": 15,
    "start_time": "2022-05-16T14:25:23.291Z"
   },
   {
    "duration": 15,
    "start_time": "2022-05-16T14:25:23.308Z"
   },
   {
    "duration": 12,
    "start_time": "2022-05-16T14:25:23.326Z"
   },
   {
    "duration": 38,
    "start_time": "2022-05-16T14:25:23.339Z"
   },
   {
    "duration": 13,
    "start_time": "2022-05-16T14:25:23.379Z"
   },
   {
    "duration": 26,
    "start_time": "2022-05-16T14:25:23.393Z"
   },
   {
    "duration": 7,
    "start_time": "2022-05-16T14:25:23.421Z"
   },
   {
    "duration": 49,
    "start_time": "2022-05-16T14:25:23.430Z"
   },
   {
    "duration": 4,
    "start_time": "2022-05-16T14:25:23.480Z"
   },
   {
    "duration": 6,
    "start_time": "2022-05-16T14:25:23.486Z"
   },
   {
    "duration": 6,
    "start_time": "2022-05-16T14:25:23.493Z"
   },
   {
    "duration": 12,
    "start_time": "2022-05-16T14:25:23.500Z"
   },
   {
    "duration": 9,
    "start_time": "2022-05-16T14:25:23.514Z"
   },
   {
    "duration": 7,
    "start_time": "2022-05-16T14:25:23.525Z"
   },
   {
    "duration": 47,
    "start_time": "2022-05-16T14:25:23.533Z"
   },
   {
    "duration": 23,
    "start_time": "2022-05-16T14:25:23.582Z"
   },
   {
    "duration": 90,
    "start_time": "2022-05-16T14:25:23.606Z"
   },
   {
    "duration": 166,
    "start_time": "2022-05-16T14:25:23.698Z"
   },
   {
    "duration": 8,
    "start_time": "2022-05-16T14:25:23.866Z"
   },
   {
    "duration": 316,
    "start_time": "2022-05-16T14:25:23.876Z"
   },
   {
    "duration": 8,
    "start_time": "2022-05-16T14:25:24.196Z"
   },
   {
    "duration": 227,
    "start_time": "2022-05-16T14:25:24.206Z"
   },
   {
    "duration": 676,
    "start_time": "2022-05-16T14:25:24.435Z"
   },
   {
    "duration": 4,
    "start_time": "2022-05-16T14:25:25.113Z"
   },
   {
    "duration": 255,
    "start_time": "2022-05-16T14:25:25.118Z"
   },
   {
    "duration": 9,
    "start_time": "2022-05-16T14:25:25.374Z"
   },
   {
    "duration": 619,
    "start_time": "2022-05-16T14:25:25.384Z"
   },
   {
    "duration": 759,
    "start_time": "2022-05-16T14:25:26.005Z"
   },
   {
    "duration": 18,
    "start_time": "2022-05-16T14:25:26.765Z"
   },
   {
    "duration": 22,
    "start_time": "2022-05-16T14:25:26.785Z"
   },
   {
    "duration": 530,
    "start_time": "2022-05-16T14:25:26.808Z"
   },
   {
    "duration": 7,
    "start_time": "2022-05-16T14:25:27.340Z"
   },
   {
    "duration": 28,
    "start_time": "2022-05-16T14:25:27.348Z"
   },
   {
    "duration": 225,
    "start_time": "2022-05-16T14:25:27.378Z"
   },
   {
    "duration": 20,
    "start_time": "2022-05-16T14:25:27.604Z"
   },
   {
    "duration": 16,
    "start_time": "2022-05-16T14:25:27.626Z"
   },
   {
    "duration": 251,
    "start_time": "2022-05-16T14:25:27.644Z"
   },
   {
    "duration": 95,
    "start_time": "2022-05-16T14:25:27.897Z"
   },
   {
    "duration": 0,
    "start_time": "2022-05-16T14:25:27.994Z"
   },
   {
    "duration": 0,
    "start_time": "2022-05-16T14:25:27.995Z"
   },
   {
    "duration": 0,
    "start_time": "2022-05-16T14:25:27.996Z"
   },
   {
    "duration": 0,
    "start_time": "2022-05-16T14:25:27.997Z"
   },
   {
    "duration": 0,
    "start_time": "2022-05-16T14:25:27.998Z"
   },
   {
    "duration": 0,
    "start_time": "2022-05-16T14:25:27.999Z"
   },
   {
    "duration": 0,
    "start_time": "2022-05-16T14:25:28.000Z"
   },
   {
    "duration": 0,
    "start_time": "2022-05-16T14:25:28.001Z"
   },
   {
    "duration": 0,
    "start_time": "2022-05-16T14:25:28.002Z"
   },
   {
    "duration": 0,
    "start_time": "2022-05-16T14:25:28.003Z"
   },
   {
    "duration": 0,
    "start_time": "2022-05-16T14:25:28.004Z"
   },
   {
    "duration": 0,
    "start_time": "2022-05-16T14:25:28.006Z"
   },
   {
    "duration": 21,
    "start_time": "2022-05-16T14:25:52.674Z"
   },
   {
    "duration": 202,
    "start_time": "2022-05-16T14:25:55.642Z"
   },
   {
    "duration": 6,
    "start_time": "2022-05-16T14:26:02.503Z"
   },
   {
    "duration": 9,
    "start_time": "2022-05-16T14:26:14.054Z"
   },
   {
    "duration": 8,
    "start_time": "2022-05-16T14:26:16.529Z"
   },
   {
    "duration": 20,
    "start_time": "2022-05-16T14:26:19.835Z"
   },
   {
    "duration": 1141,
    "start_time": "2022-05-16T14:26:37.771Z"
   },
   {
    "duration": 40,
    "start_time": "2022-05-16T14:26:38.914Z"
   },
   {
    "duration": 17,
    "start_time": "2022-05-16T14:26:38.956Z"
   },
   {
    "duration": 20,
    "start_time": "2022-05-16T14:26:38.975Z"
   },
   {
    "duration": 25,
    "start_time": "2022-05-16T14:26:38.997Z"
   },
   {
    "duration": 9,
    "start_time": "2022-05-16T14:26:39.024Z"
   },
   {
    "duration": 46,
    "start_time": "2022-05-16T14:26:39.035Z"
   },
   {
    "duration": 12,
    "start_time": "2022-05-16T14:26:39.083Z"
   },
   {
    "duration": 18,
    "start_time": "2022-05-16T14:26:39.097Z"
   },
   {
    "duration": 17,
    "start_time": "2022-05-16T14:26:39.119Z"
   },
   {
    "duration": 25,
    "start_time": "2022-05-16T14:26:39.139Z"
   },
   {
    "duration": 12,
    "start_time": "2022-05-16T14:26:39.166Z"
   },
   {
    "duration": 25,
    "start_time": "2022-05-16T14:26:39.179Z"
   },
   {
    "duration": 7,
    "start_time": "2022-05-16T14:26:39.206Z"
   },
   {
    "duration": 53,
    "start_time": "2022-05-16T14:26:39.214Z"
   },
   {
    "duration": 5,
    "start_time": "2022-05-16T14:26:39.269Z"
   },
   {
    "duration": 13,
    "start_time": "2022-05-16T14:26:39.275Z"
   },
   {
    "duration": 12,
    "start_time": "2022-05-16T14:26:39.289Z"
   },
   {
    "duration": 16,
    "start_time": "2022-05-16T14:26:39.302Z"
   },
   {
    "duration": 9,
    "start_time": "2022-05-16T14:26:39.320Z"
   },
   {
    "duration": 10,
    "start_time": "2022-05-16T14:26:39.330Z"
   },
   {
    "duration": 33,
    "start_time": "2022-05-16T14:26:39.342Z"
   },
   {
    "duration": 24,
    "start_time": "2022-05-16T14:26:39.377Z"
   },
   {
    "duration": 84,
    "start_time": "2022-05-16T14:26:39.403Z"
   },
   {
    "duration": 164,
    "start_time": "2022-05-16T14:26:39.489Z"
   },
   {
    "duration": 13,
    "start_time": "2022-05-16T14:26:39.655Z"
   },
   {
    "duration": 318,
    "start_time": "2022-05-16T14:26:39.670Z"
   },
   {
    "duration": 9,
    "start_time": "2022-05-16T14:26:39.993Z"
   },
   {
    "duration": 325,
    "start_time": "2022-05-16T14:26:40.003Z"
   },
   {
    "duration": 717,
    "start_time": "2022-05-16T14:26:40.330Z"
   },
   {
    "duration": 4,
    "start_time": "2022-05-16T14:26:41.049Z"
   },
   {
    "duration": 270,
    "start_time": "2022-05-16T14:26:41.054Z"
   },
   {
    "duration": 9,
    "start_time": "2022-05-16T14:26:41.325Z"
   },
   {
    "duration": 671,
    "start_time": "2022-05-16T14:26:41.336Z"
   },
   {
    "duration": 799,
    "start_time": "2022-05-16T14:26:42.008Z"
   },
   {
    "duration": 18,
    "start_time": "2022-05-16T14:26:42.809Z"
   },
   {
    "duration": 40,
    "start_time": "2022-05-16T14:26:42.828Z"
   },
   {
    "duration": 549,
    "start_time": "2022-05-16T14:26:42.869Z"
   },
   {
    "duration": 7,
    "start_time": "2022-05-16T14:26:43.420Z"
   },
   {
    "duration": 24,
    "start_time": "2022-05-16T14:26:43.429Z"
   },
   {
    "duration": 236,
    "start_time": "2022-05-16T14:26:43.463Z"
   },
   {
    "duration": 32,
    "start_time": "2022-05-16T14:26:43.701Z"
   },
   {
    "duration": 30,
    "start_time": "2022-05-16T14:26:43.735Z"
   },
   {
    "duration": 341,
    "start_time": "2022-05-16T14:26:43.767Z"
   },
   {
    "duration": 31,
    "start_time": "2022-05-16T14:26:44.110Z"
   },
   {
    "duration": 35,
    "start_time": "2022-05-16T14:26:44.143Z"
   },
   {
    "duration": 226,
    "start_time": "2022-05-16T14:26:44.180Z"
   },
   {
    "duration": 7,
    "start_time": "2022-05-16T14:26:44.408Z"
   },
   {
    "duration": 11,
    "start_time": "2022-05-16T14:26:44.417Z"
   },
   {
    "duration": 3,
    "start_time": "2022-05-16T14:26:44.430Z"
   },
   {
    "duration": 36,
    "start_time": "2022-05-16T14:26:44.434Z"
   },
   {
    "duration": 11,
    "start_time": "2022-05-16T14:26:44.472Z"
   },
   {
    "duration": 10,
    "start_time": "2022-05-16T14:26:44.485Z"
   },
   {
    "duration": 10,
    "start_time": "2022-05-16T14:26:44.497Z"
   },
   {
    "duration": 17,
    "start_time": "2022-05-16T14:26:44.509Z"
   },
   {
    "duration": 20,
    "start_time": "2022-05-16T14:26:44.527Z"
   },
   {
    "duration": 127,
    "start_time": "2022-05-16T14:26:44.549Z"
   },
   {
    "duration": 209,
    "start_time": "2022-05-16T14:27:01.596Z"
   },
   {
    "duration": 26,
    "start_time": "2022-05-16T14:27:04.882Z"
   },
   {
    "duration": 327,
    "start_time": "2022-05-16T14:27:09.376Z"
   },
   {
    "duration": 21,
    "start_time": "2022-05-16T14:27:14.514Z"
   },
   {
    "duration": 9,
    "start_time": "2022-05-16T14:27:39.278Z"
   },
   {
    "duration": 18,
    "start_time": "2022-05-16T14:27:43.307Z"
   },
   {
    "duration": 1069,
    "start_time": "2022-05-16T14:27:54.318Z"
   },
   {
    "duration": 1519,
    "start_time": "2022-05-16T14:27:55.389Z"
   },
   {
    "duration": 15,
    "start_time": "2022-05-16T14:27:56.910Z"
   },
   {
    "duration": 16,
    "start_time": "2022-05-16T14:27:56.927Z"
   },
   {
    "duration": 29,
    "start_time": "2022-05-16T14:27:56.944Z"
   },
   {
    "duration": 12,
    "start_time": "2022-05-16T14:27:56.975Z"
   },
   {
    "duration": 21,
    "start_time": "2022-05-16T14:27:56.989Z"
   },
   {
    "duration": 12,
    "start_time": "2022-05-16T14:27:57.012Z"
   },
   {
    "duration": 14,
    "start_time": "2022-05-16T14:27:57.025Z"
   },
   {
    "duration": 12,
    "start_time": "2022-05-16T14:27:57.063Z"
   },
   {
    "duration": 15,
    "start_time": "2022-05-16T14:27:57.076Z"
   },
   {
    "duration": 16,
    "start_time": "2022-05-16T14:27:57.093Z"
   },
   {
    "duration": 23,
    "start_time": "2022-05-16T14:27:57.111Z"
   },
   {
    "duration": 9,
    "start_time": "2022-05-16T14:27:57.164Z"
   },
   {
    "duration": 38,
    "start_time": "2022-05-16T14:27:57.175Z"
   },
   {
    "duration": 5,
    "start_time": "2022-05-16T14:27:57.215Z"
   },
   {
    "duration": 6,
    "start_time": "2022-05-16T14:27:57.222Z"
   },
   {
    "duration": 15,
    "start_time": "2022-05-16T14:27:57.229Z"
   },
   {
    "duration": 15,
    "start_time": "2022-05-16T14:27:57.245Z"
   },
   {
    "duration": 14,
    "start_time": "2022-05-16T14:27:57.262Z"
   },
   {
    "duration": 11,
    "start_time": "2022-05-16T14:27:57.278Z"
   },
   {
    "duration": 28,
    "start_time": "2022-05-16T14:27:57.290Z"
   },
   {
    "duration": 22,
    "start_time": "2022-05-16T14:27:57.320Z"
   },
   {
    "duration": 78,
    "start_time": "2022-05-16T14:27:57.343Z"
   },
   {
    "duration": 171,
    "start_time": "2022-05-16T14:27:57.423Z"
   },
   {
    "duration": 7,
    "start_time": "2022-05-16T14:27:57.596Z"
   },
   {
    "duration": 332,
    "start_time": "2022-05-16T14:27:57.605Z"
   },
   {
    "duration": 9,
    "start_time": "2022-05-16T14:27:57.940Z"
   },
   {
    "duration": 240,
    "start_time": "2022-05-16T14:27:57.950Z"
   },
   {
    "duration": 706,
    "start_time": "2022-05-16T14:27:58.192Z"
   },
   {
    "duration": 4,
    "start_time": "2022-05-16T14:27:58.900Z"
   },
   {
    "duration": 259,
    "start_time": "2022-05-16T14:27:58.905Z"
   },
   {
    "duration": 9,
    "start_time": "2022-05-16T14:27:59.165Z"
   },
   {
    "duration": 636,
    "start_time": "2022-05-16T14:27:59.176Z"
   },
   {
    "duration": 864,
    "start_time": "2022-05-16T14:27:59.814Z"
   },
   {
    "duration": 19,
    "start_time": "2022-05-16T14:28:00.681Z"
   },
   {
    "duration": 33,
    "start_time": "2022-05-16T14:28:00.702Z"
   },
   {
    "duration": 545,
    "start_time": "2022-05-16T14:28:00.737Z"
   },
   {
    "duration": 8,
    "start_time": "2022-05-16T14:28:01.284Z"
   },
   {
    "duration": 47,
    "start_time": "2022-05-16T14:28:01.293Z"
   },
   {
    "duration": 246,
    "start_time": "2022-05-16T14:28:01.342Z"
   },
   {
    "duration": 20,
    "start_time": "2022-05-16T14:28:01.589Z"
   },
   {
    "duration": 20,
    "start_time": "2022-05-16T14:28:01.610Z"
   },
   {
    "duration": 252,
    "start_time": "2022-05-16T14:28:01.632Z"
   },
   {
    "duration": 21,
    "start_time": "2022-05-16T14:28:01.886Z"
   },
   {
    "duration": 26,
    "start_time": "2022-05-16T14:28:01.909Z"
   },
   {
    "duration": 219,
    "start_time": "2022-05-16T14:28:01.937Z"
   },
   {
    "duration": 10,
    "start_time": "2022-05-16T14:28:02.158Z"
   },
   {
    "duration": 33,
    "start_time": "2022-05-16T14:28:02.170Z"
   },
   {
    "duration": 4,
    "start_time": "2022-05-16T14:28:02.205Z"
   },
   {
    "duration": 15,
    "start_time": "2022-05-16T14:28:02.211Z"
   },
   {
    "duration": 28,
    "start_time": "2022-05-16T14:28:02.228Z"
   },
   {
    "duration": 24,
    "start_time": "2022-05-16T14:28:02.258Z"
   },
   {
    "duration": 24,
    "start_time": "2022-05-16T14:28:02.284Z"
   },
   {
    "duration": 28,
    "start_time": "2022-05-16T14:28:02.310Z"
   },
   {
    "duration": 22,
    "start_time": "2022-05-16T14:28:02.340Z"
   },
   {
    "duration": 92,
    "start_time": "2022-05-16T14:28:02.363Z"
   },
   {
    "duration": 8,
    "start_time": "2022-05-16T14:28:36.070Z"
   },
   {
    "duration": 15,
    "start_time": "2022-05-16T14:28:50.401Z"
   },
   {
    "duration": 18,
    "start_time": "2022-05-16T14:29:17.554Z"
   },
   {
    "duration": 15,
    "start_time": "2022-05-16T14:29:37.069Z"
   },
   {
    "duration": 1082,
    "start_time": "2022-05-16T14:29:42.200Z"
   },
   {
    "duration": 40,
    "start_time": "2022-05-16T14:29:43.284Z"
   },
   {
    "duration": 15,
    "start_time": "2022-05-16T14:29:43.326Z"
   },
   {
    "duration": 14,
    "start_time": "2022-05-16T14:29:43.342Z"
   },
   {
    "duration": 24,
    "start_time": "2022-05-16T14:29:43.363Z"
   },
   {
    "duration": 8,
    "start_time": "2022-05-16T14:29:43.388Z"
   },
   {
    "duration": 18,
    "start_time": "2022-05-16T14:29:43.397Z"
   },
   {
    "duration": 12,
    "start_time": "2022-05-16T14:29:43.416Z"
   },
   {
    "duration": 38,
    "start_time": "2022-05-16T14:29:43.429Z"
   },
   {
    "duration": 11,
    "start_time": "2022-05-16T14:29:43.469Z"
   },
   {
    "duration": 13,
    "start_time": "2022-05-16T14:29:43.482Z"
   },
   {
    "duration": 12,
    "start_time": "2022-05-16T14:29:43.497Z"
   },
   {
    "duration": 24,
    "start_time": "2022-05-16T14:29:43.511Z"
   },
   {
    "duration": 6,
    "start_time": "2022-05-16T14:29:43.567Z"
   },
   {
    "duration": 23,
    "start_time": "2022-05-16T14:29:43.575Z"
   },
   {
    "duration": 4,
    "start_time": "2022-05-16T14:29:43.600Z"
   },
   {
    "duration": 8,
    "start_time": "2022-05-16T14:29:43.606Z"
   },
   {
    "duration": 13,
    "start_time": "2022-05-16T14:29:43.615Z"
   },
   {
    "duration": 15,
    "start_time": "2022-05-16T14:29:43.629Z"
   },
   {
    "duration": 22,
    "start_time": "2022-05-16T14:29:43.645Z"
   },
   {
    "duration": 6,
    "start_time": "2022-05-16T14:29:43.669Z"
   },
   {
    "duration": 18,
    "start_time": "2022-05-16T14:29:43.676Z"
   },
   {
    "duration": 23,
    "start_time": "2022-05-16T14:29:43.695Z"
   },
   {
    "duration": 86,
    "start_time": "2022-05-16T14:29:43.720Z"
   },
   {
    "duration": 157,
    "start_time": "2022-05-16T14:29:43.808Z"
   },
   {
    "duration": 7,
    "start_time": "2022-05-16T14:29:43.967Z"
   },
   {
    "duration": 293,
    "start_time": "2022-05-16T14:29:43.975Z"
   },
   {
    "duration": 8,
    "start_time": "2022-05-16T14:29:44.270Z"
   },
   {
    "duration": 233,
    "start_time": "2022-05-16T14:29:44.279Z"
   },
   {
    "duration": 663,
    "start_time": "2022-05-16T14:29:44.513Z"
   },
   {
    "duration": 5,
    "start_time": "2022-05-16T14:29:45.177Z"
   },
   {
    "duration": 250,
    "start_time": "2022-05-16T14:29:45.183Z"
   },
   {
    "duration": 9,
    "start_time": "2022-05-16T14:29:45.434Z"
   },
   {
    "duration": 604,
    "start_time": "2022-05-16T14:29:45.444Z"
   },
   {
    "duration": 781,
    "start_time": "2022-05-16T14:29:46.049Z"
   },
   {
    "duration": 18,
    "start_time": "2022-05-16T14:29:46.831Z"
   },
   {
    "duration": 22,
    "start_time": "2022-05-16T14:29:46.863Z"
   },
   {
    "duration": 531,
    "start_time": "2022-05-16T14:29:46.886Z"
   },
   {
    "duration": 7,
    "start_time": "2022-05-16T14:29:47.418Z"
   },
   {
    "duration": 23,
    "start_time": "2022-05-16T14:29:47.426Z"
   },
   {
    "duration": 226,
    "start_time": "2022-05-16T14:29:47.464Z"
   },
   {
    "duration": 19,
    "start_time": "2022-05-16T14:29:47.691Z"
   },
   {
    "duration": 18,
    "start_time": "2022-05-16T14:29:47.712Z"
   },
   {
    "duration": 255,
    "start_time": "2022-05-16T14:29:47.731Z"
   },
   {
    "duration": 21,
    "start_time": "2022-05-16T14:29:47.988Z"
   },
   {
    "duration": 20,
    "start_time": "2022-05-16T14:29:48.011Z"
   },
   {
    "duration": 233,
    "start_time": "2022-05-16T14:29:48.032Z"
   },
   {
    "duration": 6,
    "start_time": "2022-05-16T14:29:48.266Z"
   },
   {
    "duration": 10,
    "start_time": "2022-05-16T14:29:48.274Z"
   },
   {
    "duration": 3,
    "start_time": "2022-05-16T14:29:48.285Z"
   },
   {
    "duration": 13,
    "start_time": "2022-05-16T14:29:48.289Z"
   },
   {
    "duration": 12,
    "start_time": "2022-05-16T14:29:48.304Z"
   },
   {
    "duration": 8,
    "start_time": "2022-05-16T14:29:48.318Z"
   },
   {
    "duration": 38,
    "start_time": "2022-05-16T14:29:48.327Z"
   },
   {
    "duration": 10,
    "start_time": "2022-05-16T14:29:48.366Z"
   },
   {
    "duration": 11,
    "start_time": "2022-05-16T14:29:48.378Z"
   },
   {
    "duration": 101,
    "start_time": "2022-05-16T14:29:48.390Z"
   },
   {
    "duration": 8,
    "start_time": "2022-05-16T14:31:39.201Z"
   },
   {
    "duration": 8,
    "start_time": "2022-05-16T14:31:52.472Z"
   },
   {
    "duration": 1137,
    "start_time": "2022-05-16T14:36:40.456Z"
   },
   {
    "duration": 41,
    "start_time": "2022-05-16T14:36:41.595Z"
   },
   {
    "duration": 16,
    "start_time": "2022-05-16T14:36:41.638Z"
   },
   {
    "duration": 21,
    "start_time": "2022-05-16T14:36:41.656Z"
   },
   {
    "duration": 24,
    "start_time": "2022-05-16T14:36:41.678Z"
   },
   {
    "duration": 8,
    "start_time": "2022-05-16T14:36:41.703Z"
   },
   {
    "duration": 23,
    "start_time": "2022-05-16T14:36:41.713Z"
   },
   {
    "duration": 28,
    "start_time": "2022-05-16T14:36:41.738Z"
   },
   {
    "duration": 16,
    "start_time": "2022-05-16T14:36:41.768Z"
   },
   {
    "duration": 15,
    "start_time": "2022-05-16T14:36:41.787Z"
   },
   {
    "duration": 14,
    "start_time": "2022-05-16T14:36:41.804Z"
   },
   {
    "duration": 10,
    "start_time": "2022-05-16T14:36:41.819Z"
   },
   {
    "duration": 39,
    "start_time": "2022-05-16T14:36:41.831Z"
   },
   {
    "duration": 6,
    "start_time": "2022-05-16T14:36:41.872Z"
   },
   {
    "duration": 20,
    "start_time": "2022-05-16T14:36:41.879Z"
   },
   {
    "duration": 3,
    "start_time": "2022-05-16T14:36:41.901Z"
   },
   {
    "duration": 12,
    "start_time": "2022-05-16T14:36:41.906Z"
   },
   {
    "duration": 17,
    "start_time": "2022-05-16T14:36:41.920Z"
   },
   {
    "duration": 13,
    "start_time": "2022-05-16T14:36:41.938Z"
   },
   {
    "duration": 10,
    "start_time": "2022-05-16T14:36:41.952Z"
   },
   {
    "duration": 6,
    "start_time": "2022-05-16T14:36:41.964Z"
   },
   {
    "duration": 25,
    "start_time": "2022-05-16T14:36:41.972Z"
   },
   {
    "duration": 22,
    "start_time": "2022-05-16T14:36:41.998Z"
   },
   {
    "duration": 69,
    "start_time": "2022-05-16T14:36:42.021Z"
   },
   {
    "duration": 154,
    "start_time": "2022-05-16T14:36:42.092Z"
   },
   {
    "duration": 16,
    "start_time": "2022-05-16T14:36:42.248Z"
   },
   {
    "duration": 306,
    "start_time": "2022-05-16T14:36:42.266Z"
   },
   {
    "duration": 10,
    "start_time": "2022-05-16T14:36:42.576Z"
   },
   {
    "duration": 231,
    "start_time": "2022-05-16T14:36:42.587Z"
   },
   {
    "duration": 671,
    "start_time": "2022-05-16T14:36:42.820Z"
   },
   {
    "duration": 4,
    "start_time": "2022-05-16T14:36:43.493Z"
   },
   {
    "duration": 241,
    "start_time": "2022-05-16T14:36:43.498Z"
   },
   {
    "duration": 9,
    "start_time": "2022-05-16T14:36:43.740Z"
   },
   {
    "duration": 618,
    "start_time": "2022-05-16T14:36:43.750Z"
   },
   {
    "duration": 758,
    "start_time": "2022-05-16T14:36:44.369Z"
   },
   {
    "duration": 19,
    "start_time": "2022-05-16T14:36:45.128Z"
   },
   {
    "duration": 34,
    "start_time": "2022-05-16T14:36:45.149Z"
   },
   {
    "duration": 519,
    "start_time": "2022-05-16T14:36:45.184Z"
   },
   {
    "duration": 7,
    "start_time": "2022-05-16T14:36:45.704Z"
   },
   {
    "duration": 26,
    "start_time": "2022-05-16T14:36:45.712Z"
   },
   {
    "duration": 229,
    "start_time": "2022-05-16T14:36:45.739Z"
   },
   {
    "duration": 19,
    "start_time": "2022-05-16T14:36:45.970Z"
   },
   {
    "duration": 24,
    "start_time": "2022-05-16T14:36:45.991Z"
   },
   {
    "duration": 258,
    "start_time": "2022-05-16T14:36:46.016Z"
   },
   {
    "duration": 21,
    "start_time": "2022-05-16T14:36:46.275Z"
   },
   {
    "duration": 20,
    "start_time": "2022-05-16T14:36:46.298Z"
   },
   {
    "duration": 237,
    "start_time": "2022-05-16T14:36:46.319Z"
   },
   {
    "duration": 10,
    "start_time": "2022-05-16T14:36:46.558Z"
   },
   {
    "duration": 10,
    "start_time": "2022-05-16T14:36:46.569Z"
   },
   {
    "duration": 5,
    "start_time": "2022-05-16T14:36:46.580Z"
   },
   {
    "duration": 12,
    "start_time": "2022-05-16T14:36:46.586Z"
   },
   {
    "duration": 14,
    "start_time": "2022-05-16T14:36:46.599Z"
   },
   {
    "duration": 11,
    "start_time": "2022-05-16T14:36:46.614Z"
   },
   {
    "duration": 11,
    "start_time": "2022-05-16T14:36:46.627Z"
   },
   {
    "duration": 29,
    "start_time": "2022-05-16T14:36:46.640Z"
   },
   {
    "duration": 13,
    "start_time": "2022-05-16T14:36:46.671Z"
   },
   {
    "duration": 95,
    "start_time": "2022-05-16T14:36:46.686Z"
   },
   {
    "duration": 284,
    "start_time": "2022-05-16T14:40:28.600Z"
   },
   {
    "duration": 11,
    "start_time": "2022-05-16T14:40:40.112Z"
   },
   {
    "duration": 11,
    "start_time": "2022-05-16T14:40:55.122Z"
   },
   {
    "duration": 6,
    "start_time": "2022-05-16T14:42:18.188Z"
   },
   {
    "duration": 194,
    "start_time": "2022-05-16T14:42:32.033Z"
   },
   {
    "duration": 10,
    "start_time": "2022-05-16T14:42:54.239Z"
   },
   {
    "duration": 12,
    "start_time": "2022-05-16T14:43:15.565Z"
   },
   {
    "duration": 12,
    "start_time": "2022-05-16T14:43:19.219Z"
   },
   {
    "duration": 202,
    "start_time": "2022-05-16T14:43:26.747Z"
   },
   {
    "duration": 11,
    "start_time": "2022-05-16T14:43:31.986Z"
   },
   {
    "duration": 11,
    "start_time": "2022-05-16T14:43:45.304Z"
   },
   {
    "duration": 12,
    "start_time": "2022-05-16T14:43:52.626Z"
   },
   {
    "duration": 11,
    "start_time": "2022-05-16T14:44:08.308Z"
   },
   {
    "duration": 12,
    "start_time": "2022-05-16T14:44:13.145Z"
   },
   {
    "duration": 12,
    "start_time": "2022-05-16T14:44:17.567Z"
   },
   {
    "duration": 19,
    "start_time": "2022-05-16T14:48:33.319Z"
   },
   {
    "duration": 21,
    "start_time": "2022-05-16T14:56:41.335Z"
   },
   {
    "duration": 1084,
    "start_time": "2022-05-16T14:59:31.810Z"
   },
   {
    "duration": 42,
    "start_time": "2022-05-16T14:59:32.896Z"
   },
   {
    "duration": 16,
    "start_time": "2022-05-16T14:59:32.939Z"
   },
   {
    "duration": 17,
    "start_time": "2022-05-16T14:59:32.957Z"
   },
   {
    "duration": 32,
    "start_time": "2022-05-16T14:59:32.975Z"
   },
   {
    "duration": 8,
    "start_time": "2022-05-16T14:59:33.008Z"
   },
   {
    "duration": 21,
    "start_time": "2022-05-16T14:59:33.018Z"
   },
   {
    "duration": 24,
    "start_time": "2022-05-16T14:59:33.040Z"
   },
   {
    "duration": 13,
    "start_time": "2022-05-16T14:59:33.065Z"
   },
   {
    "duration": 13,
    "start_time": "2022-05-16T14:59:33.081Z"
   },
   {
    "duration": 14,
    "start_time": "2022-05-16T14:59:33.096Z"
   },
   {
    "duration": 11,
    "start_time": "2022-05-16T14:59:33.112Z"
   },
   {
    "duration": 58,
    "start_time": "2022-05-16T14:59:33.125Z"
   },
   {
    "duration": 7,
    "start_time": "2022-05-16T14:59:33.185Z"
   },
   {
    "duration": 22,
    "start_time": "2022-05-16T14:59:33.194Z"
   },
   {
    "duration": 5,
    "start_time": "2022-05-16T14:59:33.218Z"
   },
   {
    "duration": 5,
    "start_time": "2022-05-16T14:59:33.225Z"
   },
   {
    "duration": 32,
    "start_time": "2022-05-16T14:59:33.232Z"
   },
   {
    "duration": 11,
    "start_time": "2022-05-16T14:59:33.266Z"
   },
   {
    "duration": 10,
    "start_time": "2022-05-16T14:59:33.279Z"
   },
   {
    "duration": 6,
    "start_time": "2022-05-16T14:59:33.291Z"
   },
   {
    "duration": 21,
    "start_time": "2022-05-16T14:59:33.298Z"
   },
   {
    "duration": 52,
    "start_time": "2022-05-16T14:59:33.321Z"
   },
   {
    "duration": 64,
    "start_time": "2022-05-16T14:59:33.375Z"
   },
   {
    "duration": 168,
    "start_time": "2022-05-16T14:59:33.441Z"
   },
   {
    "duration": 7,
    "start_time": "2022-05-16T14:59:33.611Z"
   },
   {
    "duration": 305,
    "start_time": "2022-05-16T14:59:33.620Z"
   },
   {
    "duration": 10,
    "start_time": "2022-05-16T14:59:33.928Z"
   },
   {
    "duration": 228,
    "start_time": "2022-05-16T14:59:33.939Z"
   },
   {
    "duration": 680,
    "start_time": "2022-05-16T14:59:34.169Z"
   },
   {
    "duration": 4,
    "start_time": "2022-05-16T14:59:34.851Z"
   },
   {
    "duration": 253,
    "start_time": "2022-05-16T14:59:34.863Z"
   },
   {
    "duration": 9,
    "start_time": "2022-05-16T14:59:35.117Z"
   },
   {
    "duration": 608,
    "start_time": "2022-05-16T14:59:35.128Z"
   },
   {
    "duration": 858,
    "start_time": "2022-05-16T14:59:35.737Z"
   },
   {
    "duration": 18,
    "start_time": "2022-05-16T14:59:36.596Z"
   },
   {
    "duration": 24,
    "start_time": "2022-05-16T14:59:36.616Z"
   },
   {
    "duration": 533,
    "start_time": "2022-05-16T14:59:36.663Z"
   },
   {
    "duration": 7,
    "start_time": "2022-05-16T14:59:37.198Z"
   },
   {
    "duration": 23,
    "start_time": "2022-05-16T14:59:37.207Z"
   },
   {
    "duration": 241,
    "start_time": "2022-05-16T14:59:37.232Z"
   },
   {
    "duration": 19,
    "start_time": "2022-05-16T14:59:37.474Z"
   },
   {
    "duration": 17,
    "start_time": "2022-05-16T14:59:37.494Z"
   },
   {
    "duration": 262,
    "start_time": "2022-05-16T14:59:37.512Z"
   },
   {
    "duration": 23,
    "start_time": "2022-05-16T14:59:37.776Z"
   },
   {
    "duration": 21,
    "start_time": "2022-05-16T14:59:37.800Z"
   },
   {
    "duration": 250,
    "start_time": "2022-05-16T14:59:37.823Z"
   },
   {
    "duration": 8,
    "start_time": "2022-05-16T14:59:38.074Z"
   },
   {
    "duration": 11,
    "start_time": "2022-05-16T14:59:38.084Z"
   },
   {
    "duration": 4,
    "start_time": "2022-05-16T14:59:38.097Z"
   },
   {
    "duration": 13,
    "start_time": "2022-05-16T14:59:38.102Z"
   },
   {
    "duration": 12,
    "start_time": "2022-05-16T14:59:38.117Z"
   },
   {
    "duration": 35,
    "start_time": "2022-05-16T14:59:38.130Z"
   },
   {
    "duration": 8,
    "start_time": "2022-05-16T14:59:38.167Z"
   },
   {
    "duration": 14,
    "start_time": "2022-05-16T14:59:38.176Z"
   },
   {
    "duration": 14,
    "start_time": "2022-05-16T14:59:38.192Z"
   },
   {
    "duration": 24,
    "start_time": "2022-05-16T14:59:38.208Z"
   }
  ],
  "kernelspec": {
   "display_name": "Python 3 (ipykernel)",
   "language": "python",
   "name": "python3"
  },
  "language_info": {
   "codemirror_mode": {
    "name": "ipython",
    "version": 3
   },
   "file_extension": ".py",
   "mimetype": "text/x-python",
   "name": "python",
   "nbconvert_exporter": "python",
   "pygments_lexer": "ipython3",
   "version": "3.9.5"
  },
  "toc": {
   "base_numbering": 1,
   "nav_menu": {
    "height": "409.983px",
    "width": "613.993px"
   },
   "number_sections": true,
   "sideBar": true,
   "skip_h1_title": true,
   "title_cell": "Table of Contents",
   "title_sidebar": "Contents",
   "toc_cell": true,
   "toc_position": {
    "height": "calc(100% - 180px)",
    "left": "10px",
    "top": "150px",
    "width": "190px"
   },
   "toc_section_display": true,
   "toc_window_display": false
  }
 },
 "nbformat": 4,
 "nbformat_minor": 2
}
