{
 "cells": [
  {
   "cell_type": "markdown",
   "metadata": {
    "toc": true
   },
   "source": [
    "<h1>Содержание<span class=\"tocSkip\"></span></h1>\n",
    "<div class=\"toc\"><ul class=\"toc-item\"><li><span><a href=\"#Загрузка-данных\" data-toc-modified-id=\"Загрузка-данных-1\"><span class=\"toc-item-num\">1&nbsp;&nbsp;</span>Загрузка данных</a></span></li><li><span><a href=\"#Возможность-преобразования-признаков\" data-toc-modified-id=\"Возможность-преобразования-признаков-2\"><span class=\"toc-item-num\">2&nbsp;&nbsp;</span>Возможность преобразования признаков</a></span></li><li><span><a href=\"#Алгоритм-преобразования\" data-toc-modified-id=\"Алгоритм-преобразования-3\"><span class=\"toc-item-num\">3&nbsp;&nbsp;</span>Алгоритм преобразования</a></span></li><li><span><a href=\"#Проверка-алгоритма\" data-toc-modified-id=\"Проверка-алгоритма-4\"><span class=\"toc-item-num\">4&nbsp;&nbsp;</span>Проверка алгоритма</a></span></li><li><span><a href=\"#Выводы\" data-toc-modified-id=\"Выводы-5\"><span class=\"toc-item-num\">5&nbsp;&nbsp;</span>Выводы</a></span></li><li><span><a href=\"#Чек-лист-проверки\" data-toc-modified-id=\"Чек-лист-проверки-6\"><span class=\"toc-item-num\">6&nbsp;&nbsp;</span>Чек-лист проверки</a></span></li></ul></div>"
   ]
  },
  {
   "cell_type": "markdown",
   "metadata": {},
   "source": [
    "# Защита персональных данных клиентов"
   ]
  },
  {
   "cell_type": "markdown",
   "metadata": {},
   "source": [
    "Вам нужно защитить данные клиентов страховой компании «Хоть потоп». Разработайте такой метод преобразования данных, чтобы по ним было сложно восстановить персональную информацию. Обоснуйте корректность его работы.\n",
    "\n",
    "Нужно защитить данные, чтобы при преобразовании качество моделей машинного обучения не ухудшилось. Подбирать наилучшую модель не требуется."
   ]
  },
  {
   "cell_type": "markdown",
   "metadata": {},
   "source": [
    "## Загрузка данных"
   ]
  },
  {
   "cell_type": "code",
   "execution_count": 1,
   "metadata": {},
   "outputs": [],
   "source": [
    "# Загрузка библиотек, используемых в проекте:\n",
    "import pandas as pd\n",
    "import numpy as np\n",
    "import matplotlib.pyplot as plt\n",
    "import seaborn as sns\n",
    "from scipy.stats import special_ortho_group\n",
    "\n",
    "from sklearn.linear_model import LinearRegression\n",
    "from sklearn.ensemble import RandomForestRegressor\n",
    "from sklearn.model_selection import train_test_split\n",
    "\n",
    "from sklearn.preprocessing import MinMaxScaler"
   ]
  },
  {
   "cell_type": "code",
   "execution_count": 2,
   "metadata": {},
   "outputs": [],
   "source": [
    "# Загрузка данных:\n",
    "try:\n",
    "    data = pd.read_csv('/datasets/insurance.csv')\n",
    "\n",
    "except:\n",
    "    data = pd.read_csv('https://code.s3.yandex.net/datasets/insurance.csv')"
   ]
  },
  {
   "cell_type": "markdown",
   "metadata": {},
   "source": [
    "Признаки клиента: \n",
    "- пол, \n",
    "- возраст, \n",
    "- зарплата застрахованного, \n",
    "- количество членов его семьи.  \n",
    "\n",
    "Целевой признак: количество страховых выплат клиенту за последние 5 лет.  \n",
    "\n",
    "Рассмортим содержимое таблицы:"
   ]
  },
  {
   "cell_type": "code",
   "execution_count": 3,
   "metadata": {
    "scrolled": true
   },
   "outputs": [
    {
     "name": "stdout",
     "output_type": "stream",
     "text": [
      "<class 'pandas.core.frame.DataFrame'>\n",
      "RangeIndex: 5000 entries, 0 to 4999\n",
      "Data columns (total 5 columns):\n",
      " #   Column             Non-Null Count  Dtype  \n",
      "---  ------             --------------  -----  \n",
      " 0   Пол                5000 non-null   int64  \n",
      " 1   Возраст            5000 non-null   float64\n",
      " 2   Зарплата           5000 non-null   float64\n",
      " 3   Члены семьи        5000 non-null   int64  \n",
      " 4   Страховые выплаты  5000 non-null   int64  \n",
      "dtypes: float64(2), int64(3)\n",
      "memory usage: 195.4 KB\n"
     ]
    }
   ],
   "source": [
    "data.info()"
   ]
  },
  {
   "cell_type": "code",
   "execution_count": 4,
   "metadata": {
    "scrolled": true
   },
   "outputs": [
    {
     "data": {
      "text/html": [
       "<div>\n",
       "<style scoped>\n",
       "    .dataframe tbody tr th:only-of-type {\n",
       "        vertical-align: middle;\n",
       "    }\n",
       "\n",
       "    .dataframe tbody tr th {\n",
       "        vertical-align: top;\n",
       "    }\n",
       "\n",
       "    .dataframe thead th {\n",
       "        text-align: right;\n",
       "    }\n",
       "</style>\n",
       "<table border=\"1\" class=\"dataframe\">\n",
       "  <thead>\n",
       "    <tr style=\"text-align: right;\">\n",
       "      <th></th>\n",
       "      <th>Пол</th>\n",
       "      <th>Возраст</th>\n",
       "      <th>Зарплата</th>\n",
       "      <th>Члены семьи</th>\n",
       "      <th>Страховые выплаты</th>\n",
       "    </tr>\n",
       "  </thead>\n",
       "  <tbody>\n",
       "    <tr>\n",
       "      <th>count</th>\n",
       "      <td>5000.000000</td>\n",
       "      <td>5000.000000</td>\n",
       "      <td>5000.000000</td>\n",
       "      <td>5000.000000</td>\n",
       "      <td>5000.000000</td>\n",
       "    </tr>\n",
       "    <tr>\n",
       "      <th>mean</th>\n",
       "      <td>0.499000</td>\n",
       "      <td>30.952800</td>\n",
       "      <td>39916.360000</td>\n",
       "      <td>1.194200</td>\n",
       "      <td>0.148000</td>\n",
       "    </tr>\n",
       "    <tr>\n",
       "      <th>std</th>\n",
       "      <td>0.500049</td>\n",
       "      <td>8.440807</td>\n",
       "      <td>9900.083569</td>\n",
       "      <td>1.091387</td>\n",
       "      <td>0.463183</td>\n",
       "    </tr>\n",
       "    <tr>\n",
       "      <th>min</th>\n",
       "      <td>0.000000</td>\n",
       "      <td>18.000000</td>\n",
       "      <td>5300.000000</td>\n",
       "      <td>0.000000</td>\n",
       "      <td>0.000000</td>\n",
       "    </tr>\n",
       "    <tr>\n",
       "      <th>25%</th>\n",
       "      <td>0.000000</td>\n",
       "      <td>24.000000</td>\n",
       "      <td>33300.000000</td>\n",
       "      <td>0.000000</td>\n",
       "      <td>0.000000</td>\n",
       "    </tr>\n",
       "    <tr>\n",
       "      <th>50%</th>\n",
       "      <td>0.000000</td>\n",
       "      <td>30.000000</td>\n",
       "      <td>40200.000000</td>\n",
       "      <td>1.000000</td>\n",
       "      <td>0.000000</td>\n",
       "    </tr>\n",
       "    <tr>\n",
       "      <th>75%</th>\n",
       "      <td>1.000000</td>\n",
       "      <td>37.000000</td>\n",
       "      <td>46600.000000</td>\n",
       "      <td>2.000000</td>\n",
       "      <td>0.000000</td>\n",
       "    </tr>\n",
       "    <tr>\n",
       "      <th>max</th>\n",
       "      <td>1.000000</td>\n",
       "      <td>65.000000</td>\n",
       "      <td>79000.000000</td>\n",
       "      <td>6.000000</td>\n",
       "      <td>5.000000</td>\n",
       "    </tr>\n",
       "  </tbody>\n",
       "</table>\n",
       "</div>"
      ],
      "text/plain": [
       "               Пол      Возраст      Зарплата  Члены семьи  Страховые выплаты\n",
       "count  5000.000000  5000.000000   5000.000000  5000.000000        5000.000000\n",
       "mean      0.499000    30.952800  39916.360000     1.194200           0.148000\n",
       "std       0.500049     8.440807   9900.083569     1.091387           0.463183\n",
       "min       0.000000    18.000000   5300.000000     0.000000           0.000000\n",
       "25%       0.000000    24.000000  33300.000000     0.000000           0.000000\n",
       "50%       0.000000    30.000000  40200.000000     1.000000           0.000000\n",
       "75%       1.000000    37.000000  46600.000000     2.000000           0.000000\n",
       "max       1.000000    65.000000  79000.000000     6.000000           5.000000"
      ]
     },
     "execution_count": 4,
     "metadata": {},
     "output_type": "execute_result"
    }
   ],
   "source": [
    "data.describe()"
   ]
  },
  {
   "cell_type": "markdown",
   "metadata": {},
   "source": [
    "Пропуски в данных отсутствуют, распределения признаков довольно равномерны, а сильные выбросы отсутствуют. Предобработка данных не требуется.  \n",
    "\n",
    "Рассмотрим графики зависимостей признаков друг от друга и их распределения:"
   ]
  },
  {
   "cell_type": "code",
   "execution_count": 5,
   "metadata": {
    "scrolled": false
   },
   "outputs": [
    {
     "data": {
      "image/png": "[encoded data removed]",
      "text/plain": [
       "<Figure size 900x900 with 30 Axes>"
      ]
     },
     "metadata": {
      "needs_background": "light"
     },
     "output_type": "display_data"
    }
   ],
   "source": [
    "g = sns.PairGrid(data)\n",
    "g.map_diag(sns.histplot)\n",
    "g.map_offdiag(sns.scatterplot, alpha=0.3)\n",
    "plt.show()"
   ]
  },
  {
   "cell_type": "markdown",
   "metadata": {},
   "source": [
    "Исходя из графиков можно предположить невысокое качество моделей линейной регрессии (линейная зависимость наблюдается только для пары \"Возраст\" - \"Страховые выплаты\"). "
   ]
  },
  {
   "cell_type": "markdown",
   "metadata": {},
   "source": [
    "## Возможность преобразования признаков"
   ]
  },
  {
   "cell_type": "markdown",
   "metadata": {},
   "source": [
    "Для маскирования (обфускации) данных клиентов предлагается умножение матрицы признаков на некоторую обратимую матрицу.  Требуется показать что такое преобразование признаков не приведет к ухудшению качества линейной модели.  "
   ]
  },
  {
   "cell_type": "markdown",
   "metadata": {},
   "source": [
    "Обозначения:\n",
    "\n",
    "- $X$ — матрица признаков (нулевой столбец состоит из единиц)\n",
    "\n",
    "- $y$ — вектор целевого признака\n",
    "\n",
    "- $P$ — матрица, на которую умножаются признаки\n",
    "\n",
    "- $w$ — вектор весов линейной регрессии (нулевой элемент равен сдвигу)"
   ]
  },
  {
   "cell_type": "markdown",
   "metadata": {},
   "source": [
    "Предсказания:\n",
    "\n",
    "$$\n",
    "a = Xw\n",
    "$$\n",
    "\n",
    "Задача обучения:\n",
    "\n",
    "$$\n",
    "w = \\arg\\min_w MSE(Xw, y)\n",
    "$$\n",
    "\n",
    "Формула обучения:\n",
    "\n",
    "$$\n",
    "w = (X^T X)^{-1} X^T y\n",
    "$$"
   ]
  },
  {
   "cell_type": "markdown",
   "metadata": {},
   "source": [
    "**Ответ:** качество предсказаний не изменится при использовании указанного преобразования.\n",
    "\n",
    "**Обоснование:** \n",
    "Обосновать такой результат можно несколькими способами.\n",
    "1. Простой, но не вполне строгий:\n",
    "    - новые признаки после преобразования будут линейной комбинацией старых признаков;\n",
    "    - новая модель будет линейной комбинацией новых признаков, следовательно она будет и линейной комбинацией старых признаков. Поскольку характер модели никак не меняется после преобразования её качество может остаться прежним.\n",
    "2. Строгое обоснование: \n",
    "\n",
    "    -  новые признаки после преобразования:\n",
    "$$ \n",
    "X^{new} = X \\cdot P \n",
    "$$\n",
    "\n",
    "    - решение задачи обучения (коэффициенты) для модели на новых признаках:\n",
    "\n",
    "$$ \n",
    "w^{new} = ((X \\cdot P)^T X \\cdot P)^{-1} (X \\cdot P)^T y\n",
    "$$\n",
    "\n",
    "можем раскрыть часть скобок, учитывая что $(A\\cdot B)^{T} = B^{T} \\cdot A^{T}$,   \n",
    "а для произведения обратимых матриц $(A\\cdot B)^{-1} = B^{-1} \\cdot A^{-1}$:\n",
    "\n",
    "$$\n",
    "w^{new} = P^{-1}  \\cdot  (X^T X)^{-1} (P^T)^{-1}\\cdot  P^T \\cdot X^T y = P^{-1}  \\cdot  (X^T X)^{-1} \\cdot X^T y\n",
    "$$\n",
    "\n",
    "т.е. новые коэффициенты можно выразить через старые:\n",
    "$$\n",
    "w^{new} = P^{-1}  \\cdot  w\n",
    "$$\n",
    "\n",
    "Расчитаем предсказание для новой модели:\n",
    "$$\n",
    "a^{new} = X^{new} \\cdot w^{new}= X^{new} \\cdot P^{-1}  \\cdot  w = X \\cdot P \\cdot P^{-1}  \\cdot  w = X \\cdot  w = a\n",
    "$$\n",
    "\n",
    "Таким образом, предсказания новой модели совпадают с предсказаниями исходной, что и требовалось доказать."
   ]
  },
  {
   "cell_type": "markdown",
   "metadata": {},
   "source": [
    "## Алгоритм преобразования"
   ]
  },
  {
   "cell_type": "markdown",
   "metadata": {},
   "source": [
    "**Алгоритм**\n",
    "1. Выбор матрицы преобразования (например из специальной ортогональной группы). Размерность матрицы равна числу различных признаков;\n",
    "2. Преобразование признаков в тренировочных данных;\n",
    "3. Обучение модели;\n",
    "4. Преобразование признаков в тестовых данных;\n",
    "4. Использование модели.\n",
    "\n",
    "\n",
    "При необходимости признаки могут быть подготовлены (нормализованы/стандартизированы, сформированы полиномиальные признаки) перед маскирующим преобразованием."
   ]
  },
  {
   "cell_type": "markdown",
   "metadata": {},
   "source": [
    "**Обоснование**\n",
    "\n",
    "Возможность использования умножения на обратимую матрицу для маскирования пользовательских данных была показана выше.   \n",
    "При этом возможны следующие трудности:\n",
    "1. матрица преобразования должна умножаться на матрицу признаков;\n",
    "2. матрица преобразования должна быть обратимой;\n",
    "3. желательно, чтобы матрица преобразования не сильно искажала масштаб данных;\n",
    "4. необходима возможность выбора различных матриц преобразования;\n",
    "5. матрица преобразования должна быть известна только в отделе/отделах занятых преобразованием пользовательских данных.\n",
    "\n",
    "Проблема 1 решается использованием квадратной матрицы размером n x n, где n - число различных признаков (в данном случае 4).  \n",
    "Проблемы 2 и 3 могут быть решены использвоание матриц из специальной ортогональной группы, что гарантирует обратимость и сохранение масштаба данных). Случайная матрица из группы SO(4) может быть получена, например, при помощи метода `special_ortho_group.rvs()` модуля `scipy.stats`, что решит проблему 4.  \n",
    "Для решения проблемы 5 необходимо использования криптографических алгоритмов.  \n",
    "\n",
    "Шаги 2 - 5 алгоритма тривиальны и не требуют специфического обоснования.  \n",
    "\n",
    "\n",
    "Следует отметить, что при использование предложенного алгоритма **точность предсказаний не меняется только для линейных моделей**."
   ]
  },
  {
   "cell_type": "markdown",
   "metadata": {},
   "source": [
    "## Проверка алгоритма"
   ]
  },
  {
   "cell_type": "markdown",
   "metadata": {},
   "source": [
    "Выделим независимые и целевой признаки:"
   ]
  },
  {
   "cell_type": "code",
   "execution_count": 6,
   "metadata": {},
   "outputs": [],
   "source": [
    "features = data[data.columns[:-1]]\n",
    "target = data[data.columns[-1]]"
   ]
  },
  {
   "cell_type": "markdown",
   "metadata": {},
   "source": [
    "Разделение выборки на обучающую и тестовую:"
   ]
  },
  {
   "cell_type": "code",
   "execution_count": 7,
   "metadata": {},
   "outputs": [],
   "source": [
    "(features_train,  features_valid, \n",
    " target_train, target_valid) = train_test_split(features, target, random_state=123)"
   ]
  },
  {
   "cell_type": "markdown",
   "metadata": {},
   "source": [
    "Для формирования матрицы преобразования выберем матрицу из группы SO(4). В качестве простого криптографического алгоритма воспользуемся алгоритмом Диффи-Хеллмана:"
   ]
  },
  {
   "cell_type": "code",
   "execution_count": 8,
   "metadata": {
    "scrolled": true
   },
   "outputs": [
    {
     "data": {
      "text/plain": [
       "array([[-0.31554353, -0.18357044, -0.85192628,  0.37543897],\n",
       "       [ 0.7615045 , -0.23440432, -0.42210976, -0.43242074],\n",
       "       [ 0.56441115,  0.28548453,  0.06940341,  0.7714411 ],\n",
       "       [-0.04451824,  0.91096319, -0.3020392 , -0.27737204]])"
      ]
     },
     "execution_count": 8,
     "metadata": {},
     "output_type": "execute_result"
    }
   ],
   "source": [
    "# Выбор случайной матрицы:\n",
    "P_open = special_ortho_group.rvs(features.shape[1], random_state=123)\n",
    "\n",
    "# Преобразование матрицы стороной A:\n",
    "a = 107533 #Число известное только стороне А\n",
    "P_a = np.linalg.matrix_power(P_open, a)\n",
    "\n",
    "# Преобразование матрицы стороной B:\n",
    "b = 76232\n",
    "P_ab = np.linalg.matrix_power(P_a, b)\n",
    "\n",
    "P_ab"
   ]
  },
  {
   "cell_type": "markdown",
   "metadata": {},
   "source": [
    "Проверим что полученная матрица по прежнему является обратимой:"
   ]
  },
  {
   "cell_type": "code",
   "execution_count": 9,
   "metadata": {
    "scrolled": true
   },
   "outputs": [
    {
     "data": {
      "text/plain": [
       "array([[ 1., -0., -0., -0.],\n",
       "       [-0.,  1.,  0.,  0.],\n",
       "       [ 0.,  0.,  1., -0.],\n",
       "       [ 0.,  0., -0.,  1.]])"
      ]
     },
     "execution_count": 9,
     "metadata": {},
     "output_type": "execute_result"
    }
   ],
   "source": [
    "P_ab_inv = np.linalg.inv(P_ab)\n",
    "np.round(P_ab_inv.dot(P_ab))"
   ]
  },
  {
   "cell_type": "markdown",
   "metadata": {},
   "source": [
    "Выбранная матрица действительно обратима."
   ]
  },
  {
   "cell_type": "markdown",
   "metadata": {},
   "source": [
    "Обучение модели линейной регресии на исходных данных:"
   ]
  },
  {
   "cell_type": "code",
   "execution_count": 10,
   "metadata": {
    "scrolled": true
   },
   "outputs": [
    {
     "name": "stdout",
     "output_type": "stream",
     "text": [
      "R2 для модели, построенной на исходных признаках: 0.4302\n"
     ]
    }
   ],
   "source": [
    "#Инициализация модели:\n",
    "model = LinearRegression()\n",
    "#Обучение модели:\n",
    "model.fit(features_train, target_train)\n",
    "#Проверка модели:\n",
    "print(f\"R2 для модели, построенной на исходных признаках: {model.score(features_valid, target_valid):0.4f}\")"
   ]
  },
  {
   "cell_type": "markdown",
   "metadata": {},
   "source": [
    "Преобразуем признаки с использованием выбранной матрицы:"
   ]
  },
  {
   "cell_type": "code",
   "execution_count": 11,
   "metadata": {},
   "outputs": [],
   "source": [
    "features_train_new = features_train.dot(P_ab)\n",
    "features_valid_new = features_valid.dot(P_ab)"
   ]
  },
  {
   "cell_type": "markdown",
   "metadata": {},
   "source": [
    "Сравним исходные и преобразованные данные:"
   ]
  },
  {
   "cell_type": "code",
   "execution_count": 12,
   "metadata": {
    "scrolled": false
   },
   "outputs": [
    {
     "data": {
      "text/html": [
       "<div>\n",
       "<style scoped>\n",
       "    .dataframe tbody tr th:only-of-type {\n",
       "        vertical-align: middle;\n",
       "    }\n",
       "\n",
       "    .dataframe tbody tr th {\n",
       "        vertical-align: top;\n",
       "    }\n",
       "\n",
       "    .dataframe thead th {\n",
       "        text-align: right;\n",
       "    }\n",
       "</style>\n",
       "<table border=\"1\" class=\"dataframe\">\n",
       "  <thead>\n",
       "    <tr style=\"text-align: right;\">\n",
       "      <th></th>\n",
       "      <th>Пол</th>\n",
       "      <th>Возраст</th>\n",
       "      <th>Зарплата</th>\n",
       "      <th>Члены семьи</th>\n",
       "    </tr>\n",
       "  </thead>\n",
       "  <tbody>\n",
       "    <tr>\n",
       "      <th>2413</th>\n",
       "      <td>1</td>\n",
       "      <td>30.0</td>\n",
       "      <td>42600.0</td>\n",
       "      <td>2</td>\n",
       "    </tr>\n",
       "    <tr>\n",
       "      <th>1471</th>\n",
       "      <td>1</td>\n",
       "      <td>30.0</td>\n",
       "      <td>24900.0</td>\n",
       "      <td>1</td>\n",
       "    </tr>\n",
       "    <tr>\n",
       "      <th>1196</th>\n",
       "      <td>0</td>\n",
       "      <td>24.0</td>\n",
       "      <td>45600.0</td>\n",
       "      <td>0</td>\n",
       "    </tr>\n",
       "    <tr>\n",
       "      <th>1509</th>\n",
       "      <td>0</td>\n",
       "      <td>49.0</td>\n",
       "      <td>35300.0</td>\n",
       "      <td>1</td>\n",
       "    </tr>\n",
       "    <tr>\n",
       "      <th>4110</th>\n",
       "      <td>1</td>\n",
       "      <td>30.0</td>\n",
       "      <td>37400.0</td>\n",
       "      <td>0</td>\n",
       "    </tr>\n",
       "  </tbody>\n",
       "</table>\n",
       "</div>"
      ],
      "text/plain": [
       "      Пол  Возраст  Зарплата  Члены семьи\n",
       "2413    1     30.0   42600.0            2\n",
       "1471    1     30.0   24900.0            1\n",
       "1196    0     24.0   45600.0            0\n",
       "1509    0     49.0   35300.0            1\n",
       "4110    1     30.0   37400.0            0"
      ]
     },
     "metadata": {},
     "output_type": "display_data"
    },
    {
     "data": {
      "text/html": [
       "<div>\n",
       "<style scoped>\n",
       "    .dataframe tbody tr th:only-of-type {\n",
       "        vertical-align: middle;\n",
       "    }\n",
       "\n",
       "    .dataframe tbody tr th {\n",
       "        vertical-align: top;\n",
       "    }\n",
       "\n",
       "    .dataframe thead th {\n",
       "        text-align: right;\n",
       "    }\n",
       "</style>\n",
       "<table border=\"1\" class=\"dataframe\">\n",
       "  <thead>\n",
       "    <tr style=\"text-align: right;\">\n",
       "      <th></th>\n",
       "      <th>0</th>\n",
       "      <th>1</th>\n",
       "      <th>2</th>\n",
       "      <th>3</th>\n",
       "    </tr>\n",
       "  </thead>\n",
       "  <tbody>\n",
       "    <tr>\n",
       "      <th>2413</th>\n",
       "      <td>24066.355468</td>\n",
       "      <td>12156.247093</td>\n",
       "      <td>2942.466108</td>\n",
       "      <td>32850.238760</td>\n",
       "    </tr>\n",
       "    <tr>\n",
       "      <th>1471</th>\n",
       "      <td>14076.322663</td>\n",
       "      <td>7102.259995</td>\n",
       "      <td>1714.327732</td>\n",
       "      <td>19196.008734</td>\n",
       "    </tr>\n",
       "    <tr>\n",
       "      <th>1196</th>\n",
       "      <td>25755.424466</td>\n",
       "      <td>13012.468745</td>\n",
       "      <td>3154.665011</td>\n",
       "      <td>35167.335877</td>\n",
       "    </tr>\n",
       "    <tr>\n",
       "      <th>1509</th>\n",
       "      <td>19960.982733</td>\n",
       "      <td>10067.028968</td>\n",
       "      <td>2428.955071</td>\n",
       "      <td>27210.404699</td>\n",
       "    </tr>\n",
       "    <tr>\n",
       "      <th>4110</th>\n",
       "      <td>21131.506534</td>\n",
       "      <td>10669.905624</td>\n",
       "      <td>2582.172437</td>\n",
       "      <td>28839.299805</td>\n",
       "    </tr>\n",
       "  </tbody>\n",
       "</table>\n",
       "</div>"
      ],
      "text/plain": [
       "                 0             1            2             3\n",
       "2413  24066.355468  12156.247093  2942.466108  32850.238760\n",
       "1471  14076.322663   7102.259995  1714.327732  19196.008734\n",
       "1196  25755.424466  13012.468745  3154.665011  35167.335877\n",
       "1509  19960.982733  10067.028968  2428.955071  27210.404699\n",
       "4110  21131.506534  10669.905624  2582.172437  28839.299805"
      ]
     },
     "execution_count": 12,
     "metadata": {},
     "output_type": "execute_result"
    }
   ],
   "source": [
    "display(features_train.head())\n",
    "pd.DataFrame(data=features_train_new).head()"
   ]
  },
  {
   "cell_type": "markdown",
   "metadata": {},
   "source": [
    "По преобразованным данным сложно угадать пол, возраст и число членов семьи, однако довольно легко установить порядок клиентов по зарплате. Это связано с тем, что зарплата на несколько порядков больше остальных показателей.  \n",
    "Построим и проверим модель с использованием преобразованных признаков:"
   ]
  },
  {
   "cell_type": "code",
   "execution_count": 13,
   "metadata": {},
   "outputs": [
    {
     "name": "stdout",
     "output_type": "stream",
     "text": [
      "R2 для модели, построенной на исходных признаках: 0.4302\n"
     ]
    }
   ],
   "source": [
    "#Инициализация модели:\n",
    "model_new = LinearRegression()\n",
    "#Обучение модели:\n",
    "model_new.fit(features_train_new, target_train)\n",
    "#Проверка модели:\n",
    "print(f\"R2 для модели, построенной на исходных признаках: {model_new.score(features_valid_new, target_valid):0.4f}\")"
   ]
  },
  {
   "cell_type": "markdown",
   "metadata": {},
   "source": [
    "Как заранее и предполагалось выбранный алгоритм позволяет получать одинаковую точность (по $R^2$) предсказаний как на исходных, так и на маскированных пользовательских данных.  \n",
    "\n",
    "Также, как было указано выше, предложенный алгоритм гарантирует сохранение точности предсказаний только для линейной регрессии. Например при использовании случайного леса получим:"
   ]
  },
  {
   "cell_type": "code",
   "execution_count": 14,
   "metadata": {},
   "outputs": [
    {
     "name": "stdout",
     "output_type": "stream",
     "text": [
      "Точность случайного леса на исходных данных: 0.997\n",
      "Точность случайного леса на преобразованных данных: 0.436\n"
     ]
    }
   ],
   "source": [
    "# Обучение на исходных данных:\n",
    "model_rf1 = RandomForestRegressor(random_state=123)\n",
    "model_rf1.fit(features_train, target_train)\n",
    "score_base = model_rf1.score(features_valid, target_valid)\n",
    "print(f\"Точность случайного леса на исходных данных: {score_base:0.3f}\")\n",
    "\n",
    "# Обучение на преобразованных данных:\n",
    "model_rf2 = RandomForestRegressor(random_state=123)\n",
    "model_rf2.fit(features_train_new, target_train)\n",
    "score_transformed = model_rf2.score(features_valid_new, target_valid)\n",
    "print(f\"Точность случайного леса на преобразованных данных: {score_transformed:0.3f}\")"
   ]
  },
  {
   "cell_type": "markdown",
   "metadata": {},
   "source": [
    "Низкое качество при построении модели на преобразованных данных связано с разномасштабностью признаков - ко всем признакам примешивается значение зарплаты, на несколько порядков превышающее остальные. Улучить качество моделей отличных от линейной регрессии и одновременно повысить качество защиты персональных данных можно за счет масштабирования перед применением рассматриваемого преобразования:"
   ]
  },
  {
   "cell_type": "code",
   "execution_count": 15,
   "metadata": {},
   "outputs": [
    {
     "data": {
      "text/html": [
       "<div>\n",
       "<style scoped>\n",
       "    .dataframe tbody tr th:only-of-type {\n",
       "        vertical-align: middle;\n",
       "    }\n",
       "\n",
       "    .dataframe tbody tr th {\n",
       "        vertical-align: top;\n",
       "    }\n",
       "\n",
       "    .dataframe thead th {\n",
       "        text-align: right;\n",
       "    }\n",
       "</style>\n",
       "<table border=\"1\" class=\"dataframe\">\n",
       "  <thead>\n",
       "    <tr style=\"text-align: right;\">\n",
       "      <th></th>\n",
       "      <th>0</th>\n",
       "      <th>1</th>\n",
       "      <th>2</th>\n",
       "      <th>3</th>\n",
       "    </tr>\n",
       "  </thead>\n",
       "  <tbody>\n",
       "    <tr>\n",
       "      <th>0</th>\n",
       "      <td>0.149696</td>\n",
       "      <td>0.204721</td>\n",
       "      <td>-1.025253</td>\n",
       "      <td>0.563007</td>\n",
       "    </tr>\n",
       "    <tr>\n",
       "      <th>1</th>\n",
       "      <td>0.021565</td>\n",
       "      <td>-0.015669</td>\n",
       "      <td>-0.991582</td>\n",
       "      <td>0.423964</td>\n",
       "    </tr>\n",
       "    <tr>\n",
       "      <th>2</th>\n",
       "      <td>0.405840</td>\n",
       "      <td>0.126182</td>\n",
       "      <td>-0.015936</td>\n",
       "      <td>0.366630</td>\n",
       "    </tr>\n",
       "    <tr>\n",
       "      <th>3</th>\n",
       "      <td>0.724596</td>\n",
       "      <td>0.113428</td>\n",
       "      <td>-0.300502</td>\n",
       "      <td>-0.017423</td>\n",
       "    </tr>\n",
       "    <tr>\n",
       "      <th>4</th>\n",
       "      <td>0.124712</td>\n",
       "      <td>-0.119076</td>\n",
       "      <td>-0.929470</td>\n",
       "      <td>0.601034</td>\n",
       "    </tr>\n",
       "  </tbody>\n",
       "</table>\n",
       "</div>"
      ],
      "text/plain": [
       "          0         1         2         3\n",
       "0  0.149696  0.204721 -1.025253  0.563007\n",
       "1  0.021565 -0.015669 -0.991582  0.423964\n",
       "2  0.405840  0.126182 -0.015936  0.366630\n",
       "3  0.724596  0.113428 -0.300502 -0.017423\n",
       "4  0.124712 -0.119076 -0.929470  0.601034"
      ]
     },
     "execution_count": 15,
     "metadata": {},
     "output_type": "execute_result"
    }
   ],
   "source": [
    "# Масштабирование данных:\n",
    "scl =  MinMaxScaler()\n",
    "features_train = scl.fit_transform(features_train)\n",
    "features_valid = scl.transform(features_valid)\n",
    "\n",
    "# Преобразование масштабированных данных:\n",
    "features_train_new = features_train.dot(P_ab)\n",
    "features_valid_new = features_valid.dot(P_ab)\n",
    "\n",
    "# Проверка данных:\n",
    "pd.DataFrame(data=features_train_new).head()"
   ]
  },
  {
   "cell_type": "markdown",
   "metadata": {},
   "source": [
    "Масштабирование позволило успешно скрыть зарплату клиентов. Проверим влияние машстабирования на качество моделей:"
   ]
  },
  {
   "cell_type": "code",
   "execution_count": 16,
   "metadata": {
    "scrolled": true
   },
   "outputs": [
    {
     "name": "stdout",
     "output_type": "stream",
     "text": [
      "Точность линейной модели на исходных масштабированных данных: 0.430\n",
      "Точность случайного леса на исходных масштабированных данных: 0.997\n",
      "Точность случайного леса на преобразованных масштабированных данных: 0.922\n"
     ]
    }
   ],
   "source": [
    "model_new.fit(features_train_new, target_train)\n",
    "score_lr_base = model_new.score(features_valid_new, target_valid)\n",
    "print(f\"Точность линейной модели на исходных масштабированных данных: {score_lr_base:0.3f}\")\n",
    "\n",
    "model_rf1.fit(features_train, target_train)\n",
    "score_rf_base = model_rf1.score(features_valid, target_valid)\n",
    "print(f\"Точность случайного леса на исходных масштабированных данных: {score_rf_base:0.3f}\")\n",
    "\n",
    "model_rf2.fit(features_train_new, target_train)\n",
    "score_rf_transformed = model_rf2.score(features_valid_new, target_valid)\n",
    "print(f\"Точность случайного леса на преобразованных масштабированных данных: {score_rf_transformed:0.3f}\")"
   ]
  },
  {
   "cell_type": "markdown",
   "metadata": {},
   "source": [
    "Масштабирование ожидаемо не влияет на точность предсказаний линейной модели а также точность предсказаний модели случайного леса, обученного на не преобразованных данных. Качество предсказаний модели случайного леса, обученной на преобразованных данных после предварительного масштабирования сильно повышается."
   ]
  },
  {
   "cell_type": "markdown",
   "metadata": {},
   "source": [
    "## Выводы\n"
   ]
  },
  {
   "cell_type": "markdown",
   "metadata": {},
   "source": [
    "1. Для защиты пользовательских данных может быть использовано умножение признаков на обратимую матрицу. Такое преобразование не влияет на точность предсказаний даваемых простой линейной моделью.\n",
    "2. Для улучшения защиты пользовательских данных и повышения точности моделей отличных от линейной регрессии рекомендуется предварительное масштабирование признаков. При отсутствии значительных выбросов наилучшим с точки зрения защиты пользовательских данных будет нормализация признаков.  "
   ]
  }
 ],
 "metadata": {
  "ExecuteTimeLog": [
   {
    "duration": 795,
    "start_time": "2022-07-14T11:29:34.668Z"
   },
   {
    "duration": 87,
    "start_time": "2022-07-14T11:30:22.556Z"
   },
   {
    "duration": 16,
    "start_time": "2022-07-14T11:30:38.891Z"
   },
   {
    "duration": 29,
    "start_time": "2022-07-14T11:30:49.151Z"
   },
   {
    "duration": 487,
    "start_time": "2022-07-14T11:31:20.549Z"
   },
   {
    "duration": 3207,
    "start_time": "2022-07-14T11:33:23.910Z"
   },
   {
    "duration": 411,
    "start_time": "2022-07-14T11:54:21.558Z"
   },
   {
    "duration": 43,
    "start_time": "2022-07-14T11:54:28.414Z"
   },
   {
    "duration": 5,
    "start_time": "2022-07-14T11:55:18.041Z"
   },
   {
    "duration": 5,
    "start_time": "2022-07-14T11:55:48.902Z"
   },
   {
    "duration": 13,
    "start_time": "2022-07-14T11:55:54.724Z"
   },
   {
    "duration": 5,
    "start_time": "2022-07-14T11:55:59.255Z"
   },
   {
    "duration": 15,
    "start_time": "2022-07-14T11:56:27.442Z"
   },
   {
    "duration": 4,
    "start_time": "2022-07-14T11:57:10.622Z"
   },
   {
    "duration": 15,
    "start_time": "2022-07-14T11:58:02.372Z"
   },
   {
    "duration": 5,
    "start_time": "2022-07-14T11:58:09.425Z"
   },
   {
    "duration": 6,
    "start_time": "2022-07-14T11:58:24.005Z"
   },
   {
    "duration": 4,
    "start_time": "2022-07-14T11:58:49.141Z"
   },
   {
    "duration": 7,
    "start_time": "2022-07-14T11:58:55.341Z"
   },
   {
    "duration": 56,
    "start_time": "2022-07-14T11:59:08.177Z"
   },
   {
    "duration": 6,
    "start_time": "2022-07-14T11:59:25.389Z"
   },
   {
    "duration": 2,
    "start_time": "2022-07-14T12:00:06.124Z"
   },
   {
    "duration": 5,
    "start_time": "2022-07-14T12:00:30.513Z"
   },
   {
    "duration": 9,
    "start_time": "2022-07-14T12:00:45.572Z"
   },
   {
    "duration": 10,
    "start_time": "2022-07-14T12:01:37.345Z"
   },
   {
    "duration": 3,
    "start_time": "2022-07-14T12:03:15.142Z"
   },
   {
    "duration": 13,
    "start_time": "2022-07-14T12:03:23.508Z"
   },
   {
    "duration": 10,
    "start_time": "2022-07-14T12:03:29.346Z"
   },
   {
    "duration": 10,
    "start_time": "2022-07-14T12:03:36.860Z"
   },
   {
    "duration": 10,
    "start_time": "2022-07-14T12:03:43.401Z"
   },
   {
    "duration": 11,
    "start_time": "2022-07-14T12:03:45.399Z"
   },
   {
    "duration": 3,
    "start_time": "2022-07-14T12:03:54.256Z"
   },
   {
    "duration": 9,
    "start_time": "2022-07-14T12:04:01.591Z"
   },
   {
    "duration": 9,
    "start_time": "2022-07-14T12:04:04.191Z"
   },
   {
    "duration": 8,
    "start_time": "2022-07-14T12:04:12.883Z"
   },
   {
    "duration": 9,
    "start_time": "2022-07-14T12:04:15.030Z"
   },
   {
    "duration": 39,
    "start_time": "2022-07-14T12:04:40.201Z"
   },
   {
    "duration": 4,
    "start_time": "2022-07-14T12:04:45.120Z"
   },
   {
    "duration": 186,
    "start_time": "2022-07-14T12:04:52.466Z"
   },
   {
    "duration": 1306,
    "start_time": "2022-07-14T12:04:54.776Z"
   },
   {
    "duration": 1327,
    "start_time": "2022-07-14T12:05:18.130Z"
   },
   {
    "duration": 9,
    "start_time": "2022-07-14T12:05:29.794Z"
   },
   {
    "duration": 10,
    "start_time": "2022-07-14T12:05:33.288Z"
   },
   {
    "duration": 4,
    "start_time": "2022-07-14T12:05:53.453Z"
   },
   {
    "duration": 14,
    "start_time": "2022-07-14T12:08:09.988Z"
   },
   {
    "duration": 17,
    "start_time": "2022-07-14T12:08:15.196Z"
   },
   {
    "duration": 11,
    "start_time": "2022-07-14T12:08:32.303Z"
   },
   {
    "duration": 9,
    "start_time": "2022-07-14T12:08:43.293Z"
   },
   {
    "duration": 10,
    "start_time": "2022-07-14T12:08:45.174Z"
   },
   {
    "duration": 4,
    "start_time": "2022-07-14T12:11:20.962Z"
   },
   {
    "duration": 4,
    "start_time": "2022-07-14T12:11:30.689Z"
   },
   {
    "duration": 4,
    "start_time": "2022-07-14T14:43:42.402Z"
   },
   {
    "duration": 67,
    "start_time": "2022-07-14T14:44:47.405Z"
   },
   {
    "duration": 6,
    "start_time": "2022-07-14T14:44:52.868Z"
   },
   {
    "duration": 10,
    "start_time": "2022-07-14T14:45:03.596Z"
   },
   {
    "duration": 6,
    "start_time": "2022-07-14T14:45:08.303Z"
   },
   {
    "duration": 9,
    "start_time": "2022-07-14T14:45:12.490Z"
   },
   {
    "duration": 12,
    "start_time": "2022-07-14T14:45:19.730Z"
   },
   {
    "duration": 187,
    "start_time": "2022-07-14T14:45:22.038Z"
   },
   {
    "duration": 8,
    "start_time": "2022-07-14T14:45:31.344Z"
   },
   {
    "duration": 10,
    "start_time": "2022-07-14T14:45:34.642Z"
   },
   {
    "duration": 8,
    "start_time": "2022-07-14T14:46:58.427Z"
   },
   {
    "duration": 4,
    "start_time": "2022-07-14T14:54:50.034Z"
   },
   {
    "duration": 7,
    "start_time": "2022-07-14T14:54:56.286Z"
   },
   {
    "duration": 6,
    "start_time": "2022-07-14T14:54:59.479Z"
   },
   {
    "duration": 7,
    "start_time": "2022-07-14T14:55:00.594Z"
   },
   {
    "duration": 7,
    "start_time": "2022-07-14T14:55:01.171Z"
   },
   {
    "duration": 7,
    "start_time": "2022-07-14T14:55:01.583Z"
   },
   {
    "duration": 7,
    "start_time": "2022-07-14T14:55:01.877Z"
   },
   {
    "duration": 6,
    "start_time": "2022-07-14T14:55:02.099Z"
   },
   {
    "duration": 6,
    "start_time": "2022-07-14T14:55:02.396Z"
   },
   {
    "duration": 6,
    "start_time": "2022-07-14T14:56:43.322Z"
   },
   {
    "duration": 7,
    "start_time": "2022-07-14T14:56:45.066Z"
   },
   {
    "duration": 7,
    "start_time": "2022-07-14T14:56:48.278Z"
   },
   {
    "duration": 6,
    "start_time": "2022-07-14T14:56:55.083Z"
   },
   {
    "duration": 7,
    "start_time": "2022-07-14T14:56:58.500Z"
   },
   {
    "duration": 7,
    "start_time": "2022-07-14T14:57:00.485Z"
   },
   {
    "duration": 6,
    "start_time": "2022-07-14T14:57:03.186Z"
   },
   {
    "duration": 7,
    "start_time": "2022-07-14T14:57:07.396Z"
   },
   {
    "duration": 6,
    "start_time": "2022-07-14T15:07:57.794Z"
   },
   {
    "duration": 9,
    "start_time": "2022-07-14T15:07:59.833Z"
   },
   {
    "duration": 12,
    "start_time": "2022-07-14T15:08:02.812Z"
   },
   {
    "duration": 10,
    "start_time": "2022-07-14T15:08:08.002Z"
   },
   {
    "duration": 106,
    "start_time": "2022-07-14T15:08:10.224Z"
   },
   {
    "duration": 9,
    "start_time": "2022-07-14T15:08:27.671Z"
   },
   {
    "duration": 9,
    "start_time": "2022-07-14T15:08:30.098Z"
   },
   {
    "duration": 4,
    "start_time": "2022-07-14T15:08:58.671Z"
   },
   {
    "duration": 192,
    "start_time": "2022-07-14T15:09:08.547Z"
   },
   {
    "duration": 1450,
    "start_time": "2022-07-14T15:09:11.062Z"
   },
   {
    "duration": 10,
    "start_time": "2022-07-14T15:11:04.416Z"
   },
   {
    "duration": 7,
    "start_time": "2022-07-14T15:11:07.617Z"
   },
   {
    "duration": 5,
    "start_time": "2022-07-14T15:11:10.169Z"
   },
   {
    "duration": 196,
    "start_time": "2022-07-14T15:11:11.717Z"
   },
   {
    "duration": 753,
    "start_time": "2022-07-14T15:11:14.582Z"
   },
   {
    "duration": 6,
    "start_time": "2022-07-14T15:11:25.230Z"
   },
   {
    "duration": 6,
    "start_time": "2022-07-14T15:11:28.066Z"
   },
   {
    "duration": 10,
    "start_time": "2022-07-14T15:11:33.426Z"
   },
   {
    "duration": 9,
    "start_time": "2022-07-14T15:11:35.746Z"
   },
   {
    "duration": 4,
    "start_time": "2022-07-14T15:11:49.791Z"
   },
   {
    "duration": 16,
    "start_time": "2022-07-14T15:12:28.866Z"
   },
   {
    "duration": 4,
    "start_time": "2022-07-14T15:12:31.866Z"
   },
   {
    "duration": 11,
    "start_time": "2022-07-14T15:12:33.400Z"
   },
   {
    "duration": 10,
    "start_time": "2022-07-14T15:12:34.801Z"
   },
   {
    "duration": 6,
    "start_time": "2022-07-14T15:12:44.246Z"
   },
   {
    "duration": 7,
    "start_time": "2022-07-14T15:12:47.435Z"
   },
   {
    "duration": 4,
    "start_time": "2022-07-14T15:30:40.283Z"
   },
   {
    "duration": 6,
    "start_time": "2022-07-14T15:31:23.277Z"
   },
   {
    "duration": 8,
    "start_time": "2022-07-14T15:34:58.887Z"
   },
   {
    "duration": 4,
    "start_time": "2022-07-14T15:35:06.825Z"
   },
   {
    "duration": 5,
    "start_time": "2022-07-14T15:35:10.006Z"
   },
   {
    "duration": 9,
    "start_time": "2022-07-14T15:35:47.652Z"
   },
   {
    "duration": 10,
    "start_time": "2022-07-14T15:35:53.992Z"
   },
   {
    "duration": 8,
    "start_time": "2022-07-14T15:36:12.654Z"
   },
   {
    "duration": 11,
    "start_time": "2022-07-14T15:36:55.691Z"
   },
   {
    "duration": 10,
    "start_time": "2022-07-14T15:37:11.838Z"
   },
   {
    "duration": 82,
    "start_time": "2022-07-14T15:37:18.645Z"
   },
   {
    "duration": 10,
    "start_time": "2022-07-14T15:37:30.763Z"
   },
   {
    "duration": 11,
    "start_time": "2022-07-14T15:37:35.953Z"
   },
   {
    "duration": 10,
    "start_time": "2022-07-14T15:37:38.580Z"
   },
   {
    "duration": 9,
    "start_time": "2022-07-14T15:37:42.263Z"
   },
   {
    "duration": 3,
    "start_time": "2022-07-14T15:37:49.455Z"
   },
   {
    "duration": 11,
    "start_time": "2022-07-14T15:39:12.473Z"
   },
   {
    "duration": 9,
    "start_time": "2022-07-14T15:39:51.432Z"
   },
   {
    "duration": 10,
    "start_time": "2022-07-14T15:39:53.890Z"
   },
   {
    "duration": 8,
    "start_time": "2022-07-14T15:40:01.230Z"
   },
   {
    "duration": 10,
    "start_time": "2022-07-14T15:40:06.162Z"
   },
   {
    "duration": 221,
    "start_time": "2022-07-14T16:57:55.290Z"
   },
   {
    "duration": 4,
    "start_time": "2022-07-14T16:58:00.967Z"
   },
   {
    "duration": 4,
    "start_time": "2022-07-14T16:58:04.050Z"
   },
   {
    "duration": 6,
    "start_time": "2022-07-14T16:58:50.602Z"
   },
   {
    "duration": 5,
    "start_time": "2022-07-14T16:59:52.817Z"
   },
   {
    "duration": 7,
    "start_time": "2022-07-14T17:00:01.415Z"
   },
   {
    "duration": 3,
    "start_time": "2022-07-14T17:00:51.735Z"
   },
   {
    "duration": 5,
    "start_time": "2022-07-14T17:00:54.967Z"
   },
   {
    "duration": 5,
    "start_time": "2022-07-14T17:01:01.048Z"
   },
   {
    "duration": 6,
    "start_time": "2022-07-14T17:01:11.813Z"
   },
   {
    "duration": 10,
    "start_time": "2022-07-14T17:01:51.237Z"
   },
   {
    "duration": 5,
    "start_time": "2022-07-14T17:02:04.420Z"
   },
   {
    "duration": 9,
    "start_time": "2022-07-14T17:02:06.521Z"
   },
   {
    "duration": 11,
    "start_time": "2022-07-14T17:02:08.876Z"
   },
   {
    "duration": 207,
    "start_time": "2022-07-14T17:06:47.058Z"
   },
   {
    "duration": 1620,
    "start_time": "2022-07-14T17:07:02.769Z"
   },
   {
    "duration": 3075,
    "start_time": "2022-07-14T17:15:36.840Z"
   },
   {
    "duration": 6495,
    "start_time": "2022-07-14T17:15:56.586Z"
   },
   {
    "duration": 3694,
    "start_time": "2022-07-14T17:16:49.724Z"
   },
   {
    "duration": 28,
    "start_time": "2022-07-14T17:17:43.780Z"
   },
   {
    "duration": 1469,
    "start_time": "2022-07-14T17:17:49.631Z"
   },
   {
    "duration": 29,
    "start_time": "2022-07-14T17:17:51.102Z"
   },
   {
    "duration": 13,
    "start_time": "2022-07-14T17:17:51.134Z"
   },
   {
    "duration": 32,
    "start_time": "2022-07-14T17:17:51.149Z"
   },
   {
    "duration": 3443,
    "start_time": "2022-07-14T17:17:51.183Z"
   },
   {
    "duration": 4,
    "start_time": "2022-07-14T17:17:54.627Z"
   },
   {
    "duration": 13,
    "start_time": "2022-07-14T17:17:54.633Z"
   },
   {
    "duration": 140,
    "start_time": "2022-07-14T17:17:54.648Z"
   },
   {
    "duration": 0,
    "start_time": "2022-07-14T17:17:54.790Z"
   },
   {
    "duration": 0,
    "start_time": "2022-07-14T17:17:54.792Z"
   },
   {
    "duration": 0,
    "start_time": "2022-07-14T17:17:54.793Z"
   },
   {
    "duration": 0,
    "start_time": "2022-07-14T17:17:54.795Z"
   },
   {
    "duration": 0,
    "start_time": "2022-07-14T17:17:54.797Z"
   },
   {
    "duration": 0,
    "start_time": "2022-07-14T17:17:54.798Z"
   },
   {
    "duration": 1461,
    "start_time": "2022-07-14T17:18:10.342Z"
   },
   {
    "duration": 30,
    "start_time": "2022-07-14T17:18:11.805Z"
   },
   {
    "duration": 21,
    "start_time": "2022-07-14T17:18:11.837Z"
   },
   {
    "duration": 33,
    "start_time": "2022-07-14T17:18:11.862Z"
   },
   {
    "duration": 3596,
    "start_time": "2022-07-14T17:18:11.898Z"
   },
   {
    "duration": 5,
    "start_time": "2022-07-14T17:18:15.497Z"
   },
   {
    "duration": 54,
    "start_time": "2022-07-14T17:18:15.504Z"
   },
   {
    "duration": 27,
    "start_time": "2022-07-14T17:18:15.560Z"
   },
   {
    "duration": 28,
    "start_time": "2022-07-14T17:18:15.590Z"
   },
   {
    "duration": 105,
    "start_time": "2022-07-14T17:18:15.627Z"
   },
   {
    "duration": 38,
    "start_time": "2022-07-14T17:18:15.735Z"
   },
   {
    "duration": 27,
    "start_time": "2022-07-14T17:18:15.776Z"
   },
   {
    "duration": 216,
    "start_time": "2022-07-14T17:18:15.825Z"
   },
   {
    "duration": 1638,
    "start_time": "2022-07-14T17:18:16.043Z"
   },
   {
    "duration": 184,
    "start_time": "2022-07-14T17:23:34.440Z"
   },
   {
    "duration": 202,
    "start_time": "2022-07-14T17:23:49.770Z"
   },
   {
    "duration": 1592,
    "start_time": "2022-07-14T17:24:10.356Z"
   },
   {
    "duration": 5,
    "start_time": "2022-07-14T17:25:15.896Z"
   },
   {
    "duration": 11,
    "start_time": "2022-07-14T17:25:50.717Z"
   },
   {
    "duration": 5,
    "start_time": "2022-07-14T17:25:52.761Z"
   },
   {
    "duration": 10,
    "start_time": "2022-07-14T17:26:07.352Z"
   },
   {
    "duration": 8,
    "start_time": "2022-07-14T17:26:09.842Z"
   },
   {
    "duration": 5,
    "start_time": "2022-07-14T17:26:12.340Z"
   },
   {
    "duration": 10,
    "start_time": "2022-07-14T17:26:14.446Z"
   },
   {
    "duration": 271,
    "start_time": "2022-07-14T17:26:16.837Z"
   },
   {
    "duration": 1151,
    "start_time": "2022-07-14T17:26:19.052Z"
   },
   {
    "duration": 5,
    "start_time": "2022-07-14T17:26:52.466Z"
   },
   {
    "duration": 11,
    "start_time": "2022-07-14T17:26:55.289Z"
   },
   {
    "duration": 17,
    "start_time": "2022-07-14T17:27:47.517Z"
   },
   {
    "duration": 235,
    "start_time": "2022-07-14T17:27:50.106Z"
   },
   {
    "duration": 7,
    "start_time": "2022-07-14T17:28:01.690Z"
   },
   {
    "duration": 860,
    "start_time": "2022-07-14T17:28:04.325Z"
   },
   {
    "duration": 1703,
    "start_time": "2022-07-14T17:28:59.020Z"
   },
   {
    "duration": 30,
    "start_time": "2022-07-14T17:29:00.725Z"
   },
   {
    "duration": 33,
    "start_time": "2022-07-14T17:29:00.757Z"
   },
   {
    "duration": 34,
    "start_time": "2022-07-14T17:29:00.792Z"
   },
   {
    "duration": 3797,
    "start_time": "2022-07-14T17:29:00.829Z"
   },
   {
    "duration": 6,
    "start_time": "2022-07-14T17:29:04.628Z"
   },
   {
    "duration": 30,
    "start_time": "2022-07-14T17:29:04.638Z"
   },
   {
    "duration": 12,
    "start_time": "2022-07-14T17:29:04.671Z"
   },
   {
    "duration": 13,
    "start_time": "2022-07-14T17:29:04.685Z"
   },
   {
    "duration": 16,
    "start_time": "2022-07-14T17:29:04.729Z"
   },
   {
    "duration": 93,
    "start_time": "2022-07-14T17:29:04.747Z"
   },
   {
    "duration": 29,
    "start_time": "2022-07-14T17:29:04.842Z"
   },
   {
    "duration": 205,
    "start_time": "2022-07-14T17:29:04.874Z"
   },
   {
    "duration": 1702,
    "start_time": "2022-07-14T17:29:05.084Z"
   },
   {
    "duration": 13,
    "start_time": "2022-07-14T17:29:06.788Z"
   },
   {
    "duration": 20,
    "start_time": "2022-07-14T17:40:11.132Z"
   },
   {
    "duration": 21,
    "start_time": "2022-07-14T17:40:22.217Z"
   },
   {
    "duration": 774,
    "start_time": "2022-07-14T17:40:33.538Z"
   },
   {
    "duration": 984,
    "start_time": "2022-07-14T17:40:41.590Z"
   },
   {
    "duration": 773,
    "start_time": "2022-07-14T17:41:05.162Z"
   },
   {
    "duration": 973,
    "start_time": "2022-07-14T17:41:15.441Z"
   },
   {
    "duration": 1593,
    "start_time": "2022-07-14T17:41:27.200Z"
   },
   {
    "duration": 31,
    "start_time": "2022-07-14T17:41:28.795Z"
   },
   {
    "duration": 16,
    "start_time": "2022-07-14T17:41:28.828Z"
   },
   {
    "duration": 41,
    "start_time": "2022-07-14T17:41:28.847Z"
   },
   {
    "duration": 3856,
    "start_time": "2022-07-14T17:41:28.890Z"
   },
   {
    "duration": 4,
    "start_time": "2022-07-14T17:41:32.748Z"
   },
   {
    "duration": 17,
    "start_time": "2022-07-14T17:41:32.755Z"
   },
   {
    "duration": 12,
    "start_time": "2022-07-14T17:41:32.774Z"
   },
   {
    "duration": 12,
    "start_time": "2022-07-14T17:41:32.788Z"
   },
   {
    "duration": 35,
    "start_time": "2022-07-14T17:41:32.803Z"
   },
   {
    "duration": 5,
    "start_time": "2022-07-14T17:41:32.841Z"
   },
   {
    "duration": 82,
    "start_time": "2022-07-14T17:41:32.848Z"
   },
   {
    "duration": 1842,
    "start_time": "2022-07-14T17:41:32.932Z"
   },
   {
    "duration": 1035,
    "start_time": "2022-07-14T17:41:34.775Z"
   },
   {
    "duration": 5,
    "start_time": "2022-07-14T17:42:51.740Z"
   },
   {
    "duration": 5,
    "start_time": "2022-07-14T17:42:58.003Z"
   },
   {
    "duration": 4,
    "start_time": "2022-07-14T17:43:06.970Z"
   },
   {
    "duration": 59,
    "start_time": "2022-07-14T17:43:06.977Z"
   },
   {
    "duration": 17,
    "start_time": "2022-07-14T17:43:07.041Z"
   },
   {
    "duration": 30,
    "start_time": "2022-07-14T17:43:07.060Z"
   },
   {
    "duration": 4215,
    "start_time": "2022-07-14T17:43:07.093Z"
   },
   {
    "duration": 4,
    "start_time": "2022-07-14T17:43:11.310Z"
   },
   {
    "duration": 21,
    "start_time": "2022-07-14T17:43:11.323Z"
   },
   {
    "duration": 8,
    "start_time": "2022-07-14T17:43:11.346Z"
   },
   {
    "duration": 10,
    "start_time": "2022-07-14T17:43:11.355Z"
   },
   {
    "duration": 63,
    "start_time": "2022-07-14T17:43:11.368Z"
   },
   {
    "duration": 11,
    "start_time": "2022-07-14T17:43:11.433Z"
   },
   {
    "duration": 16,
    "start_time": "2022-07-14T17:43:14.184Z"
   },
   {
    "duration": 20,
    "start_time": "2022-07-14T17:44:05.775Z"
   },
   {
    "duration": 20,
    "start_time": "2022-07-14T17:46:22.139Z"
   },
   {
    "duration": 12,
    "start_time": "2022-07-14T17:46:47.346Z"
   },
   {
    "duration": 19,
    "start_time": "2022-07-14T17:46:52.863Z"
   },
   {
    "duration": 16,
    "start_time": "2022-07-14T17:46:58.657Z"
   },
   {
    "duration": 17,
    "start_time": "2022-07-14T17:47:14.542Z"
   },
   {
    "duration": 66,
    "start_time": "2022-07-14T17:47:26.792Z"
   },
   {
    "duration": 17,
    "start_time": "2022-07-14T17:47:30.601Z"
   },
   {
    "duration": 16,
    "start_time": "2022-07-14T17:48:14.392Z"
   },
   {
    "duration": 192,
    "start_time": "2022-07-14T17:49:32.750Z"
   },
   {
    "duration": 65,
    "start_time": "2022-07-14T17:49:45.126Z"
   },
   {
    "duration": 72,
    "start_time": "2022-07-14T17:49:53.979Z"
   },
   {
    "duration": 5,
    "start_time": "2022-07-14T17:50:00.261Z"
   },
   {
    "duration": 16,
    "start_time": "2022-07-14T17:50:15.993Z"
   },
   {
    "duration": 5,
    "start_time": "2022-07-14T17:53:08.255Z"
   },
   {
    "duration": 4,
    "start_time": "2022-07-14T18:49:52.598Z"
   },
   {
    "duration": 1015,
    "start_time": "2022-07-14T18:50:03.205Z"
   },
   {
    "duration": 983,
    "start_time": "2022-07-14T18:50:13.042Z"
   },
   {
    "duration": 1011,
    "start_time": "2022-07-14T18:50:21.509Z"
   },
   {
    "duration": 999,
    "start_time": "2022-07-14T18:51:27.032Z"
   },
   {
    "duration": 77,
    "start_time": "2022-07-14T18:51:36.748Z"
   },
   {
    "duration": 1045,
    "start_time": "2022-07-14T18:51:50.361Z"
   },
   {
    "duration": 9,
    "start_time": "2022-07-14T18:52:14.576Z"
   },
   {
    "duration": 1413,
    "start_time": "2022-07-14T18:52:32.584Z"
   },
   {
    "duration": 30,
    "start_time": "2022-07-14T18:52:34.000Z"
   },
   {
    "duration": 14,
    "start_time": "2022-07-14T18:52:34.031Z"
   },
   {
    "duration": 31,
    "start_time": "2022-07-14T18:52:34.047Z"
   },
   {
    "duration": 3487,
    "start_time": "2022-07-14T18:52:34.079Z"
   },
   {
    "duration": 5,
    "start_time": "2022-07-14T18:52:37.567Z"
   },
   {
    "duration": 6,
    "start_time": "2022-07-14T18:52:37.574Z"
   },
   {
    "duration": 9,
    "start_time": "2022-07-14T18:52:37.582Z"
   },
   {
    "duration": 6,
    "start_time": "2022-07-14T18:52:37.593Z"
   },
   {
    "duration": 11,
    "start_time": "2022-07-14T18:52:37.623Z"
   },
   {
    "duration": 87,
    "start_time": "2022-07-14T18:52:37.637Z"
   },
   {
    "duration": 17,
    "start_time": "2022-07-14T18:52:37.725Z"
   },
   {
    "duration": 9,
    "start_time": "2022-07-14T18:52:37.744Z"
   },
   {
    "duration": 1825,
    "start_time": "2022-07-14T18:52:37.755Z"
   },
   {
    "duration": 1066,
    "start_time": "2022-07-14T18:52:39.582Z"
   },
   {
    "duration": 9,
    "start_time": "2022-07-14T18:52:58.727Z"
   },
   {
    "duration": 4,
    "start_time": "2022-07-14T18:53:23.597Z"
   },
   {
    "duration": 114,
    "start_time": "2022-07-14T18:54:03.280Z"
   },
   {
    "duration": 4,
    "start_time": "2022-07-14T18:54:12.461Z"
   },
   {
    "duration": 13,
    "start_time": "2022-07-14T18:54:32.592Z"
   },
   {
    "duration": 10,
    "start_time": "2022-07-14T18:54:37.235Z"
   },
   {
    "duration": 22,
    "start_time": "2022-07-14T18:55:26.035Z"
   },
   {
    "duration": 16,
    "start_time": "2022-07-14T18:55:36.492Z"
   },
   {
    "duration": 15,
    "start_time": "2022-07-14T18:56:48.473Z"
   },
   {
    "duration": 19,
    "start_time": "2022-07-14T18:56:52.765Z"
   },
   {
    "duration": 16,
    "start_time": "2022-07-14T18:56:56.141Z"
   },
   {
    "duration": 14,
    "start_time": "2022-07-14T18:57:15.593Z"
   },
   {
    "duration": 13,
    "start_time": "2022-07-14T18:57:24.057Z"
   },
   {
    "duration": 16,
    "start_time": "2022-07-14T18:57:31.937Z"
   },
   {
    "duration": 51,
    "start_time": "2022-07-14T18:58:58.223Z"
   },
   {
    "duration": 15,
    "start_time": "2022-07-14T18:59:02.703Z"
   },
   {
    "duration": 13,
    "start_time": "2022-07-14T19:00:29.124Z"
   },
   {
    "duration": 11,
    "start_time": "2022-07-14T19:00:39.205Z"
   },
   {
    "duration": 10,
    "start_time": "2022-07-14T19:00:42.237Z"
   },
   {
    "duration": 4,
    "start_time": "2022-07-14T19:00:50.437Z"
   },
   {
    "duration": 10,
    "start_time": "2022-07-14T19:01:25.196Z"
   },
   {
    "duration": 5,
    "start_time": "2022-07-14T19:01:35.967Z"
   },
   {
    "duration": 10,
    "start_time": "2022-07-14T19:01:44.236Z"
   },
   {
    "duration": 11,
    "start_time": "2022-07-14T19:01:53.827Z"
   },
   {
    "duration": 13,
    "start_time": "2022-07-14T19:05:45.273Z"
   },
   {
    "duration": 13,
    "start_time": "2022-07-14T19:06:22.005Z"
   },
   {
    "duration": 13,
    "start_time": "2022-07-14T19:06:48.039Z"
   },
   {
    "duration": 1005,
    "start_time": "2022-07-14T19:08:21.150Z"
   },
   {
    "duration": 1372,
    "start_time": "2022-07-14T19:19:24.458Z"
   },
   {
    "duration": 30,
    "start_time": "2022-07-14T19:19:25.832Z"
   },
   {
    "duration": 12,
    "start_time": "2022-07-14T19:19:25.864Z"
   },
   {
    "duration": 27,
    "start_time": "2022-07-14T19:19:25.878Z"
   },
   {
    "duration": 3655,
    "start_time": "2022-07-14T19:19:25.906Z"
   },
   {
    "duration": 5,
    "start_time": "2022-07-14T19:19:29.563Z"
   },
   {
    "duration": 11,
    "start_time": "2022-07-14T19:19:29.570Z"
   },
   {
    "duration": 44,
    "start_time": "2022-07-14T19:19:29.582Z"
   },
   {
    "duration": 10,
    "start_time": "2022-07-14T19:19:29.628Z"
   },
   {
    "duration": 86,
    "start_time": "2022-07-14T19:19:29.641Z"
   },
   {
    "duration": 6,
    "start_time": "2022-07-14T19:19:29.730Z"
   },
   {
    "duration": 100,
    "start_time": "2022-07-14T19:19:29.738Z"
   },
   {
    "duration": 11,
    "start_time": "2022-07-14T19:19:29.841Z"
   },
   {
    "duration": 2383,
    "start_time": "2022-07-14T19:19:29.854Z"
   },
   {
    "duration": 16,
    "start_time": "2022-07-14T19:19:32.239Z"
   },
   {
    "duration": 1007,
    "start_time": "2022-07-14T19:19:32.256Z"
   },
   {
    "duration": 55,
    "start_time": "2022-07-15T14:42:33.712Z"
   },
   {
    "duration": 1780,
    "start_time": "2022-07-15T14:42:38.086Z"
   },
   {
    "duration": 94,
    "start_time": "2022-07-15T14:42:39.869Z"
   },
   {
    "duration": 21,
    "start_time": "2022-07-15T14:42:39.966Z"
   },
   {
    "duration": 30,
    "start_time": "2022-07-15T14:42:39.989Z"
   },
   {
    "duration": 3817,
    "start_time": "2022-07-15T14:42:40.022Z"
   },
   {
    "duration": 4,
    "start_time": "2022-07-15T14:42:43.841Z"
   },
   {
    "duration": 18,
    "start_time": "2022-07-15T14:42:43.847Z"
   },
   {
    "duration": 23,
    "start_time": "2022-07-15T14:42:43.867Z"
   },
   {
    "duration": 24,
    "start_time": "2022-07-15T14:42:43.892Z"
   },
   {
    "duration": 42,
    "start_time": "2022-07-15T14:42:43.918Z"
   },
   {
    "duration": 79,
    "start_time": "2022-07-15T14:42:43.962Z"
   },
   {
    "duration": 19,
    "start_time": "2022-07-15T14:42:44.043Z"
   },
   {
    "duration": 18,
    "start_time": "2022-07-15T14:42:44.064Z"
   },
   {
    "duration": 1876,
    "start_time": "2022-07-15T14:42:44.085Z"
   },
   {
    "duration": 23,
    "start_time": "2022-07-15T14:42:45.964Z"
   },
   {
    "duration": 1119,
    "start_time": "2022-07-15T14:42:45.989Z"
   }
  ],
  "kernelspec": {
   "display_name": "Python 3 (ipykernel)",
   "language": "python",
   "name": "python3"
  },
  "language_info": {
   "codemirror_mode": {
    "name": "ipython",
    "version": 3
   },
   "file_extension": ".py",
   "mimetype": "text/x-python",
   "name": "python",
   "nbconvert_exporter": "python",
   "pygments_lexer": "ipython3",
   "version": "3.9.5"
  },
  "toc": {
   "base_numbering": 1,
   "nav_menu": {},
   "number_sections": true,
   "sideBar": true,
   "skip_h1_title": true,
   "title_cell": "Содержание",
   "title_sidebar": "Contents",
   "toc_cell": true,
   "toc_position": {},
   "toc_section_display": true,
   "toc_window_display": true
  }
 },
 "nbformat": 4,
 "nbformat_minor": 2
}
